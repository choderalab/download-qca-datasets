{
 "cells": [
  {
   "cell_type": "markdown",
   "id": "6c8d8fe4-8139-4088-8666-1d18d596a8de",
   "metadata": {},
   "source": [
    "# Check datasets stored in QCArchive"
   ]
  },
  {
   "cell_type": "code",
   "execution_count": 2,
   "id": "adccef4b-68fe-4a3c-8216-5a45bcab7ff5",
   "metadata": {},
   "outputs": [],
   "source": [
    "import os, sys\n",
    "import numpy as np\n",
    "#import torch\n",
    "#import espaloma as esp\n",
    "import qcportal as ptl\n",
    "from collections import Counter\n",
    "from openff.toolkit.topology import Molecule\n",
    "from openff.qcsubmit.results import BasicResultCollection\n",
    "from simtk import unit\n",
    "from simtk.unit import Quantity\n",
    "from matplotlib import pyplot as plt"
   ]
  },
  {
   "cell_type": "code",
   "execution_count": 3,
   "id": "46555951-b42b-4d63-8cce-a25f8166b7b9",
   "metadata": {},
   "outputs": [],
   "source": [
    "client = ptl.FractalClient()"
   ]
  },
  {
   "cell_type": "code",
   "execution_count": 4,
   "id": "c584276c-9b1d-4e6f-afb2-8f7dcce08c0f",
   "metadata": {},
   "outputs": [
    {
     "data": {
      "text/html": [
       "<div>\n",
       "<style scoped>\n",
       "    .dataframe tbody tr th:only-of-type {\n",
       "        vertical-align: middle;\n",
       "    }\n",
       "\n",
       "    .dataframe tbody tr th {\n",
       "        vertical-align: top;\n",
       "    }\n",
       "\n",
       "    .dataframe thead th {\n",
       "        text-align: right;\n",
       "    }\n",
       "</style>\n",
       "<table border=\"1\" class=\"dataframe\">\n",
       "  <thead>\n",
       "    <tr style=\"text-align: right;\">\n",
       "      <th></th>\n",
       "      <th></th>\n",
       "      <th>tagline</th>\n",
       "    </tr>\n",
       "    <tr>\n",
       "      <th>collection</th>\n",
       "      <th>name</th>\n",
       "      <th></th>\n",
       "    </tr>\n",
       "  </thead>\n",
       "  <tbody>\n",
       "    <tr>\n",
       "      <th rowspan=\"5\" valign=\"top\">Dataset</th>\n",
       "      <th>A Benchmark Data Set for Hydrogen Combustion</th>\n",
       "      <td>A Benchmark Data Set for Hydrogen Combustion</td>\n",
       "    </tr>\n",
       "    <tr>\n",
       "      <th>ANI-1</th>\n",
       "      <td>22 million off-equilibrium conformations and e...</td>\n",
       "    </tr>\n",
       "    <tr>\n",
       "      <th>ANI-1ccx</th>\n",
       "      <td>Coupled cluster properties for molecules</td>\n",
       "    </tr>\n",
       "    <tr>\n",
       "      <th>ANI-1x</th>\n",
       "      <td>Density functional theory properties for molec...</td>\n",
       "    </tr>\n",
       "    <tr>\n",
       "      <th>COMP6 ANI-MD</th>\n",
       "      <td>Benchmark containing MD trajectories from the ...</td>\n",
       "    </tr>\n",
       "    <tr>\n",
       "      <th>...</th>\n",
       "      <th>...</th>\n",
       "      <td>...</td>\n",
       "    </tr>\n",
       "    <tr>\n",
       "      <th rowspan=\"5\" valign=\"top\">TorsionDriveDataset</th>\n",
       "      <th>OpenFF-benchmark-ligand-fragments-v2.0</th>\n",
       "      <td>Ligand fragments from the JACS benchmark systems.</td>\n",
       "    </tr>\n",
       "    <tr>\n",
       "      <th>Pfizer Discrepancy Torsion Dataset 1</th>\n",
       "      <td>None</td>\n",
       "    </tr>\n",
       "    <tr>\n",
       "      <th>SMIRNOFF Coverage Torsion Set 1</th>\n",
       "      <td>None</td>\n",
       "    </tr>\n",
       "    <tr>\n",
       "      <th>SiliconTX Torsion Benchmark Set 1</th>\n",
       "      <td>None</td>\n",
       "    </tr>\n",
       "    <tr>\n",
       "      <th>TorsionDrive Paper</th>\n",
       "      <td>None</td>\n",
       "    </tr>\n",
       "  </tbody>\n",
       "</table>\n",
       "<p>207 rows × 1 columns</p>\n",
       "</div>"
      ],
      "text/plain": [
       "                                                                                                            tagline\n",
       "collection          name                                                                                           \n",
       "Dataset             A Benchmark Data Set for Hydrogen Combustion       A Benchmark Data Set for Hydrogen Combustion\n",
       "                    ANI-1                                         22 million off-equilibrium conformations and e...\n",
       "                    ANI-1ccx                                               Coupled cluster properties for molecules\n",
       "                    ANI-1x                                        Density functional theory properties for molec...\n",
       "                    COMP6 ANI-MD                                  Benchmark containing MD trajectories from the ...\n",
       "...                                                                                                             ...\n",
       "TorsionDriveDataset OpenFF-benchmark-ligand-fragments-v2.0        Ligand fragments from the JACS benchmark systems.\n",
       "                    Pfizer Discrepancy Torsion Dataset 1                                                       None\n",
       "                    SMIRNOFF Coverage Torsion Set 1                                                            None\n",
       "                    SiliconTX Torsion Benchmark Set 1                                                          None\n",
       "                    TorsionDrive Paper                                                                         None\n",
       "\n",
       "[207 rows x 1 columns]"
      ]
     },
     "execution_count": 4,
     "metadata": {},
     "output_type": "execute_result"
    }
   ],
   "source": [
    "client.list_collections()"
   ]
  },
  {
   "cell_type": "code",
   "execution_count": 5,
   "id": "3b618703-f1a0-42bb-8c6e-1bb29706d53e",
   "metadata": {},
   "outputs": [
    {
     "data": {
      "text/html": [
       "<div>\n",
       "<style scoped>\n",
       "    .dataframe tbody tr th:only-of-type {\n",
       "        vertical-align: middle;\n",
       "    }\n",
       "\n",
       "    .dataframe tbody tr th {\n",
       "        vertical-align: top;\n",
       "    }\n",
       "\n",
       "    .dataframe thead th {\n",
       "        text-align: right;\n",
       "    }\n",
       "</style>\n",
       "<table border=\"1\" class=\"dataframe\">\n",
       "  <thead>\n",
       "    <tr style=\"text-align: right;\">\n",
       "      <th></th>\n",
       "      <th></th>\n",
       "      <th>tagline</th>\n",
       "    </tr>\n",
       "    <tr>\n",
       "      <th>collection</th>\n",
       "      <th>name</th>\n",
       "      <th></th>\n",
       "    </tr>\n",
       "  </thead>\n",
       "  <tbody>\n",
       "    <tr>\n",
       "      <th rowspan=\"5\" valign=\"top\">Dataset</th>\n",
       "      <th>A Benchmark Data Set for Hydrogen Combustion</th>\n",
       "      <td>A Benchmark Data Set for Hydrogen Combustion</td>\n",
       "    </tr>\n",
       "    <tr>\n",
       "      <th>ANI-1</th>\n",
       "      <td>22 million off-equilibrium conformations and e...</td>\n",
       "    </tr>\n",
       "    <tr>\n",
       "      <th>ANI-1ccx</th>\n",
       "      <td>Coupled cluster properties for molecules</td>\n",
       "    </tr>\n",
       "    <tr>\n",
       "      <th>ANI-1x</th>\n",
       "      <td>Density functional theory properties for molec...</td>\n",
       "    </tr>\n",
       "    <tr>\n",
       "      <th>COMP6 ANI-MD</th>\n",
       "      <td>Benchmark containing MD trajectories from the ...</td>\n",
       "    </tr>\n",
       "  </tbody>\n",
       "</table>\n",
       "</div>"
      ],
      "text/plain": [
       "                                                                                                   tagline\n",
       "collection name                                                                                           \n",
       "Dataset    A Benchmark Data Set for Hydrogen Combustion       A Benchmark Data Set for Hydrogen Combustion\n",
       "           ANI-1                                         22 million off-equilibrium conformations and e...\n",
       "           ANI-1ccx                                               Coupled cluster properties for molecules\n",
       "           ANI-1x                                        Density functional theory properties for molec...\n",
       "           COMP6 ANI-MD                                  Benchmark containing MD trajectories from the ..."
      ]
     },
     "execution_count": 5,
     "metadata": {},
     "output_type": "execute_result"
    }
   ],
   "source": [
    "client.list_collections(\"Dataset\").head()"
   ]
  },
  {
   "cell_type": "code",
   "execution_count": 6,
   "id": "cb97db25-f8a5-4ce0-af40-5820cec89344",
   "metadata": {},
   "outputs": [],
   "source": [
    "df = client.list_collections()"
   ]
  },
  {
   "cell_type": "code",
   "execution_count": 7,
   "id": "db4c3719-465f-49cb-9ede-bcbef3e06e1d",
   "metadata": {
    "scrolled": true,
    "tags": []
   },
   "outputs": [
    {
     "name": "stdout",
     "output_type": "stream",
     "text": [
      "0 ('Dataset', 'A Benchmark Data Set for Hydrogen Combustion') A Benchmark Data Set for Hydrogen Combustion\n",
      "1 ('Dataset', 'ANI-1') 22 million off-equilibrium conformations and enegies for organic molecules\n",
      "2 ('Dataset', 'ANI-1ccx') Coupled cluster properties for molecules\n",
      "3 ('Dataset', 'ANI-1x') Density functional theory properties for molecules\n",
      "4 ('Dataset', 'COMP6 ANI-MD') Benchmark containing MD trajectories from the ANI-1x potential.\n",
      "5 ('Dataset', 'COMP6 DrugBank') Benchmark containing DrugBank off-equilibrium molecules.\n",
      "6 ('Dataset', 'COMP6 GDB10to13') Benchmark containing off-equilibrium molecules from GDB13 with 10 to 13 heavy atoms.\n",
      "7 ('Dataset', 'COMP6 GDB7to9') Benchmark containing off-equilibrium molecules from GDB11 with 7 to 9 heavy atoms.\n",
      "8 ('Dataset', 'COMP6 S66x8') Benchmark for noncovalent interactions.\n",
      "9 ('Dataset', 'COMP6 Tripeptides') Benchmark containing off-equilibrium geometries of 248 tripeptides.\n",
      "10 ('Dataset', 'G-SchNet Generated') Molecules generated by G-SchNet, trained on QM9.\n",
      "11 ('Dataset', 'GDB13-T') Small organic molecules with up to 13 heavy atoms thermalized at 350K.\n",
      "12 ('Dataset', 'GDML') Molecular dynamics trajectories of small molecules\n",
      "13 ('Dataset', 'ISO-17') Molecular dynamics trajectories of isomers of C7O2H10\n",
      "14 ('Dataset', 'OpenFF BCC Refit Study COH v1.0') C,H,O single point training data for BCC refits.\n",
      "15 ('Dataset', 'OpenFF Discrepancy Benchmark 1') None\n",
      "16 ('Dataset', 'OpenFF ESP Fragment Conformers v1.0') HF/6-31G* conformers of diverse fragments.\n",
      "17 ('Dataset', 'OpenFF ESP Industry Benchmark Set v1.1') HF/6-31G* conformers of public industry benchmark molecules.\n",
      "18 ('Dataset', 'OpenFF Gen 2 Opt Set 1 Roche') None\n",
      "19 ('Dataset', 'OpenFF Gen 2 Opt Set 2 Coverage') None\n",
      "20 ('Dataset', 'OpenFF Gen 2 Opt Set 3 Pfizer Discrepancy') None\n",
      "21 ('Dataset', 'OpenFF Gen 2 Opt Set 4 eMolecules Discrepancy') None\n",
      "22 ('Dataset', 'OpenFF Gen 2 Opt Set 5 Bayer') None\n",
      "23 ('Dataset', 'OpenFF NCI250K Boron 1') None\n",
      "24 ('Dataset', 'OpenFF Optimization Set 1') None\n",
      "25 ('Dataset', 'OpenFF Theory Benchmarking Single Point Energies v1.0') Single point energies at final geometries of torsiondrives calculated at reference spec MP2/heavy-aug-cc-pVTZ\n",
      "26 ('Dataset', 'OpenFF VEHICLe Set 1') None\n",
      "27 ('Dataset', 'PC9') A diverse subset of PubChemQC containing up to 9 heavy atoms.\n",
      "28 ('Dataset', 'PC9 (netural singlet subset)') DELETE ME\n",
      "29 ('Dataset', 'PC9 (neutral singlet subset)') A subset of PC9 contaning only neutral singlets.\n",
      "30 ('Dataset', 'QM7') Small organic molecules with up to 7 heavy atoms.\n",
      "31 ('Dataset', 'QM7b') Small organic molecules with up to 7 heavy atoms with excited state properties.\n",
      "32 ('Dataset', 'QM7b-T') Small organic molecules with up to 7 heavy atoms thermalized at 350K.\n",
      "33 ('Dataset', 'QM9') Small organic molecules with up to 9 heavy atoms with electronic and thermodynamic properties.\n",
      "34 ('Dataset', 'RNA Nucleoside Single Point Dataset v1.0') QM dataset for ML\n",
      "35 ('Dataset', 'RNA Single Point Dataset v1.0') QM dataset for ML\n",
      "36 ('Dataset', 'RNA Trinucleotide Single Point Dataset v1.0') QM dataset for ML\n",
      "37 ('Dataset', 'SMIRNOFF Coverage Set 1') None\n",
      "38 ('Dataset', 'SN2 Reactions') Chemical reactions of methyl halides with halide anions\n",
      "39 ('Dataset', 'SPICE DES Monomers Single Points Dataset v1.0') QM dataset for ML\n",
      "40 ('Dataset', 'SPICE DES Monomers Single Points Dataset v1.1') QM dataset for ML\n",
      "41 ('Dataset', 'SPICE DES370K Single Points Dataset Supplement v1.0') QM dataset for ML\n",
      "42 ('Dataset', 'SPICE DES370K Single Points Dataset v1.0') QM dataset for ML\n",
      "43 ('Dataset', 'SPICE Dipeptides Single Points Dataset v1.0') QM Dataset for ML\n",
      "44 ('Dataset', 'SPICE Dipeptides Single Points Dataset v1.1') QM Dataset for ML\n",
      "45 ('Dataset', 'SPICE Dipeptides Single Points Dataset v1.2') QM Dataset for ML\n",
      "46 ('Dataset', 'SPICE Ion Pairs Single Points Dataset v1.0') QM dataset for ML\n",
      "47 ('Dataset', 'SPICE Ion Pairs Single Points Dataset v1.1') QM dataset for ML\n",
      "48 ('Dataset', 'SPICE PubChem Set 1 Single Points Dataset v1.0') QM dataset for ML\n",
      "49 ('Dataset', 'SPICE PubChem Set 1 Single Points Dataset v1.1') QM dataset for ML\n",
      "50 ('Dataset', 'SPICE PubChem Set 1 Single Points Dataset v1.2') QM dataset for ML\n",
      "51 ('Dataset', 'SPICE PubChem Set 2 Single Points Dataset v1.0') QM dataset for ML\n",
      "52 ('Dataset', 'SPICE PubChem Set 2 Single Points Dataset v1.2') QM dataset for ML\n",
      "53 ('Dataset', 'SPICE PubChem Set 3 Single Points Dataset v1.0') QM dataset for ML\n",
      "54 ('Dataset', 'SPICE PubChem Set 3 Single Points Dataset v1.2') QM dataset for ML\n",
      "55 ('Dataset', 'SPICE PubChem Set 5 Single Points Dataset v1.0') QM dataset for ML\n",
      "56 ('Dataset', 'SPICE PubChem Set 5 Single Points Dataset v1.2') QM dataset for ML\n",
      "57 ('Dataset', 'SPICE PubChem Set 6 Single Points Dataset v1.0') QM dataset for ML\n",
      "58 ('Dataset', 'SPICE PubChem Set 6 Single Points Dataset v1.2') QM dataset for ML\n",
      "59 ('Dataset', 'SPICE Pubchem Set 4 Single Points Dataset v1.0') QM dataset for ML\n",
      "60 ('Dataset', 'SPICE Pubchem Set 4 Single Points Dataset v1.2') QM dataset for ML\n",
      "61 ('Dataset', 'SPICE Solvated Amino Acids Single Points Dataset v1.0') QM dataset for ML\n",
      "62 ('Dataset', 'SPICE Solvated Amino Acids Single Points Dataset v1.1') QM dataset for ML\n",
      "63 ('Dataset', 'Solvated Protein Fragments') Amons derived from proteins, in water.\n",
      "64 ('Dataset', 'StockholderMultipoles') None\n",
      "65 ('Dataset', 'TensorMol Water Clusters') Clusters of 1 to 21 water molecules, sampled with metadynamics.\n",
      "66 ('Dataset', 'TorsionNet500 Single Points Dataset v1.0') TorsionNet500 geometries with openff default spec\n",
      "67 ('GridOptimizationDataset', 'OpenFF Trivalent Nitrogen Set 1') None\n",
      "68 ('GridOptimizationDataset', 'OpenFF Trivalent Nitrogen Set 1 (deprecated)') None\n",
      "69 ('GridOptimizationDataset', 'OpenFF Trivalent Nitrogen Set 2') None\n",
      "70 ('GridOptimizationDataset', 'OpenFF Trivalent Nitrogen Set 3') None\n",
      "71 ('OptimizationDataset', 'FDA Optimization Dataset 1') None\n",
      "72 ('OptimizationDataset', 'Genentech PDB Ligand Expo fragment optimization neutral v1.0') Optimization set\n",
      "73 ('OptimizationDataset', 'Genentech PDB Ligand Expo whole optimization neutral v1.0') Optimization set\n",
      "74 ('OptimizationDataset', 'JGI Metabolite Set 1') None\n",
      "75 ('OptimizationDataset', 'Kinase Inhibitors: WBO Distributions') None\n",
      "76 ('OptimizationDataset', 'OpenFF Aniline Para Opt v1.0') Optimizations of diverse, para-substituted aniline derivatives.\n",
      "77 ('OptimizationDataset', 'OpenFF BCC Refit Study COH v2.0') Optimizations of diverse, para-substituted aniline derivatives.\n",
      "78 ('OptimizationDataset', 'OpenFF Discrepancy Benchmark 1') None\n",
      "79 ('OptimizationDataset', 'OpenFF ESP Industry Benchmark Set v1.0') HF/6-31G* conformers of public industry benchmark molecules.\n",
      "80 ('OptimizationDataset', 'OpenFF Ehrman Informative Optimization v0.1') None\n",
      "81 ('OptimizationDataset', 'OpenFF Ehrman Informative Optimization v0.2') None\n",
      "82 ('OptimizationDataset', 'OpenFF Full Optimization Benchmark 1') None\n",
      "83 ('OptimizationDataset', 'OpenFF Gen 2 Opt Set 1 Roche') None\n",
      "84 ('OptimizationDataset', 'OpenFF Gen 2 Opt Set 2 Coverage') None\n",
      "85 ('OptimizationDataset', 'OpenFF Gen 2 Opt Set 3 Pfizer Discrepancy') None\n",
      "86 ('OptimizationDataset', 'OpenFF Gen 2 Opt Set 4 eMolecules Discrepancy') None\n",
      "87 ('OptimizationDataset', 'OpenFF Gen 2 Opt Set 5 Bayer') None\n",
      "88 ('OptimizationDataset', 'OpenFF Gen2 Optimization Dataset Protomers v1.0') Reasonable protomers enumerated\n",
      "89 ('OptimizationDataset', 'OpenFF Industry Benchmark Season 1 - MM v1.1') OpenForcefield optimizations.\n",
      "90 ('OptimizationDataset', 'OpenFF Industry Benchmark Season 1 v1.0') The public molecules from the OpenFF Industry Benchmark.\n",
      "91 ('OptimizationDataset', 'OpenFF Industry Benchmark Season 1 v1.1') The public molecules from the OpenFF Industry Benchmark.\n",
      "92 ('OptimizationDataset', 'OpenFF Iodine Chemistry Optimization Dataset v1.0') Optimization set created from Gen1, Gen2, and other dataset molecules containing iodine\n",
      "93 ('OptimizationDataset', 'OpenFF NCI250K Boron 1') None\n",
      "94 ('OptimizationDataset', 'OpenFF Optimization Set 1') None\n",
      "95 ('OptimizationDataset', 'OpenFF PEPCONF OptimizationDataset v1.0') OptimizationDataset of short peptides in various contexts, including disulfide bridges.\n",
      "96 ('OptimizationDataset', 'OpenFF Primary Optimization Benchmark 1') None\n",
      "97 ('OptimizationDataset', 'OpenFF Protein Capped 1-mers 3-mers Optimization Dataset v1.0') Optimization dataset for protein capped 1-mers and 3-mers\n",
      "98 ('OptimizationDataset', 'OpenFF Protein Fragments v1.0') Constrained optimization of various protein fragments.\n",
      "99 ('OptimizationDataset', 'OpenFF Protein Fragments v2.0') Constrained optimization of various protein fragments.\n",
      "100 ('OptimizationDataset', 'OpenFF Protein Peptide Fragments constrained v1.0') Constrained optimization of various protein peptide fragments.\n",
      "101 ('OptimizationDataset', 'OpenFF Protein Peptide Fragments unconstrained v1.0') Unconstrained optimization of various protein fragments.\n",
      "102 ('OptimizationDataset', 'OpenFF RESP Polarizability Optimizations v1.0') Optimizations of ESP-fitting based direct polarizabilities.\n",
      "103 ('OptimizationDataset', 'OpenFF RESP Polarizability Optimizations v1.1') Optimizations of ESP-fitting based direct polarizabilities.\n",
      "104 ('OptimizationDataset', 'OpenFF Roche Opt Set With Protomers and Tautomers v1.0') Optimization set with protomers and tautomers\n",
      "105 ('OptimizationDataset', 'OpenFF Roche Opt Set With Protomers and Tautomers v1.1') Optimization set with protomers and tautomers\n",
      "106 ('OptimizationDataset', 'OpenFF Sandbox CHO PhAlkEthOH v1.0') A diverse set of small CHO molecules\n",
      "107 ('OptimizationDataset', 'OpenFF Theory Benchmarking Constrained Optimization Set B3LYP-NL def2-TZVPD v1.0') Optimized geometries for benchmaking b3lyp-nl/def2-TZVPD\n",
      "108 ('OptimizationDataset', 'OpenFF Theory Benchmarking Constrained Optimization Set MP2 heavy-aug-cc-pVTZ v1.0') Optimized geometries for benchmaking MP2/heavy-aug-cc-pVTZ\n",
      "109 ('OptimizationDataset', 'OpenFF Theory Benchmarking Constrained Optimization Set MP2 heavy-aug-cc-pVTZ v1.1') Optimized geometries for benchmaking MP2/heavy-aug-cc-pVTZ\n",
      "110 ('OptimizationDataset', 'OpenFF Theory Benchmarking Constrained Optimization Set WB97X-V def2-TZVPD v1.0') Optimized geometries for benchmaking wb97x-v/def2-TZVPD\n",
      "111 ('OptimizationDataset', 'OpenFF VEHICLe Set 1') None\n",
      "112 ('OptimizationDataset', 'OpenFF multiplicity correction optimization set v1.0') QM Dataset for fitting multiplicity corrected torsions\n",
      "113 ('OptimizationDataset', 'PEI') None\n",
      "114 ('OptimizationDataset', 'Pfizer Discrepancy Optimization Dataset 1') None\n",
      "115 ('OptimizationDataset', 'QM8-T') None\n",
      "116 ('OptimizationDataset', 'SMIRNOFF Coverage Set 1') None\n",
      "117 ('OptimizationDataset', 'SPICE Dipeptides Optimization Dataset v1.0') QM Dataset for ML\n",
      "118 ('ReactionDataset', 'A21') Equilibrium complexes from A24 database of small bimolecular complexes\n",
      "119 ('ReactionDataset', 'A24') Interaction energies for small bimolecular complexes\n",
      "120 ('ReactionDataset', 'ACONF') Conformation energies for alkanes\n",
      "121 ('ReactionDataset', 'ASCDB') A statistically significant database generated from MGCDB84, GMTKN55, and Minnesota 2015B.\n",
      "122 ('ReactionDataset', 'AlkBind12') Binding energies of saturated and unsaturated hydrocarbon dimers\n",
      "123 ('ReactionDataset', 'AlkIsod14') Isodesmic reaction energies for alkanes N=3--8\n",
      "124 ('ReactionDataset', 'AlkIsomer11') Isomerization energies of alkanes N=4--8\n",
      "125 ('ReactionDataset', 'BH76RC') Reaction energies from hydrogen and non-hydrogen tranfser reactions\n",
      "126 ('ReactionDataset', 'BHPERI26') Barrier heights of pericyclic reactions\n",
      "127 ('ReactionDataset', 'BSR36') Hydrocarbon bond-separation reaction energies\n",
      "128 ('ReactionDataset', 'Bauza30') Binding energies of halogen, chalcogen, and pnicogen bonded dimers\n",
      "129 ('ReactionDataset', 'Butanediol65') Isomerization energies for butanediol\n",
      "130 ('ReactionDataset', 'C20C24') Isomerization energies of the ground-state structures of C20 and C24\n",
      "131 ('ReactionDataset', 'CYCONF') Conformation energies for cysteine\n",
      "132 ('ReactionDataset', 'DBH24') Diverse barrier heights\n",
      "133 ('ReactionDataset', 'DIE60') Isomerization energies of reactions involving double-bond migration in conjugated dienes\n",
      "134 ('ReactionDataset', 'DS14') Binding energies of complexes containing divalent sulfur\n",
      "135 ('ReactionDataset', 'FmH2O10') Binding energies of isomers of F-(H20)10 complexes\n",
      "136 ('ReactionDataset', 'G21EA') Adiabatic electron affinities of atoms and small molecules\n",
      "137 ('ReactionDataset', 'H2O16Rel5') Isomerization energies of (H2O)16 boat and fused-cube structures\n",
      "138 ('ReactionDataset', 'H2O17Rel4') Isomerization energies of (H2O)17 complexes\n",
      "139 ('ReactionDataset', 'HB15') Binding energies of hydrogen bonded dimers featuring ionic groups common in biomolecules\n",
      "140 ('ReactionDataset', 'HNBrBDE18') Homolytic N--Br bond dissociation energies\n",
      "141 ('ReactionDataset', 'HSG') Interaction energies for bimolecular complexes from protein-indinavir reaction site 1HSG\n",
      "142 ('ReactionDataset', 'HTBH38') Hydrogen transfer barrier heights\n",
      "143 ('ReactionDataset', 'MPCONF196') Conformation energies of acyclic and cyclic model peptides and several other macrocycles\n",
      "144 ('ReactionDataset', 'NC15') Binding energies of very small noncovalent complexes\n",
      "145 ('ReactionDataset', 'NHTBH38') Non-hydrogen transfer barrier heights\n",
      "146 ('ReactionDataset', 'S22') Interaction energies for common organic bimolecular complexes\n",
      "147 ('ReactionDataset', 'S66') Interaction energies for organic bimolecular complexes\n",
      "148 ('ReactionDataset', 'SSI') Interaction energies for peptide sidechain-sidechain complexes\n",
      "149 ('ReactionDataset', 'X40') Binding energies of noncovalent interactions involving halogenated molecules\n",
      "150 ('ReactionDataset', 'YMPJ16') None\n",
      "151 ('TorsionDriveDataset', 'Fragment Stability Benchmark') None\n",
      "152 ('TorsionDriveDataset', 'Fragmenter paper') None\n",
      "153 ('TorsionDriveDataset', 'OpenFF Amide Torsion Set v1.0') Amides, thioamides and amidines diversely functionalized.\n",
      "154 ('TorsionDriveDataset', 'OpenFF Aniline 2D Impropers v1.0') Substituted aniline derivatives with various electron withdrawing and donating groups\n",
      "155 ('TorsionDriveDataset', 'OpenFF DANCE 1 eMolecules t142 v1.0') None\n",
      "156 ('TorsionDriveDataset', 'OpenFF Fragmenter Validation 1.0') None\n",
      "157 ('TorsionDriveDataset', 'OpenFF Full TorsionDrive Benchmark 1') None\n",
      "158 ('TorsionDriveDataset', 'OpenFF Gen 2 Torsion Set 1 Roche') None\n",
      "159 ('TorsionDriveDataset', 'OpenFF Gen 2 Torsion Set 1 Roche 2') None\n",
      "160 ('TorsionDriveDataset', 'OpenFF Gen 2 Torsion Set 2 Coverage') None\n",
      "161 ('TorsionDriveDataset', 'OpenFF Gen 2 Torsion Set 2 Coverage 2') None\n",
      "162 ('TorsionDriveDataset', 'OpenFF Gen 2 Torsion Set 3 Pfizer Discrepancy') None\n",
      "163 ('TorsionDriveDataset', 'OpenFF Gen 2 Torsion Set 3 Pfizer Discrepancy 2') None\n",
      "164 ('TorsionDriveDataset', 'OpenFF Gen 2 Torsion Set 4 eMolecules Discrepancy') None\n",
      "165 ('TorsionDriveDataset', 'OpenFF Gen 2 Torsion Set 4 eMolecules Discrepancy 2') None\n",
      "166 ('TorsionDriveDataset', 'OpenFF Gen 2 Torsion Set 5 Bayer') None\n",
      "167 ('TorsionDriveDataset', 'OpenFF Gen 2 Torsion Set 5 Bayer 2') None\n",
      "168 ('TorsionDriveDataset', 'OpenFF Gen 2 Torsion Set 6 Supplemental') None\n",
      "169 ('TorsionDriveDataset', 'OpenFF Gen 2 Torsion Set 6 Supplemental 2') None\n",
      "170 ('TorsionDriveDataset', 'OpenFF Gen3 Torsion Set v1.0') OpenFF Gen3 Torsion Set v1.0\n",
      "171 ('TorsionDriveDataset', 'OpenFF Group1 Torsions') None\n",
      "172 ('TorsionDriveDataset', 'OpenFF Group1 Torsions 2') None\n",
      "173 ('TorsionDriveDataset', 'OpenFF Group1 Torsions 3') None\n",
      "174 ('TorsionDriveDataset', 'OpenFF Primary Benchmark 1 Torsion Set') None\n",
      "175 ('TorsionDriveDataset', 'OpenFF Primary Benchmark 2 Torsion Set') None\n",
      "176 ('TorsionDriveDataset', 'OpenFF Primary TorsionDrive Benchmark 1') None\n",
      "177 ('TorsionDriveDataset', 'OpenFF Protein Capped 1-mer Sidechains v1.0') Capped 1-mer TorsionDrives on up to two sidechain dihedrals\n",
      "178 ('TorsionDriveDataset', 'OpenFF Protein Capped 1-mer Sidechains v1.1') Capped 1-mer TorsionDrives on up to two sidechain dihedrals\n",
      "179 ('TorsionDriveDataset', 'OpenFF Protein Capped 1-mer Sidechains v1.2') Capped 1-mer TorsionDrives on up to two sidechain dihedrals\n",
      "180 ('TorsionDriveDataset', 'OpenFF Protein Capped 1-mer Sidechains v1.3') Capped 1-mer TorsionDrives on up to two sidechain dihedrals\n",
      "181 ('TorsionDriveDataset', 'OpenFF Protein Capped 3-mer Backbones v1.0') Capped 3-mer 2-D TorsionDrives on backbone dihedrals for central residue\n",
      "182 ('TorsionDriveDataset', 'OpenFF Protein Capped 3-mer Omega v1.0') Capped 3-mer TorsionDrives on backbone omega dihedral for central residue\n",
      "183 ('TorsionDriveDataset', 'OpenFF Protein Dipeptide 2-D TorsionDrive v1.0') Dipeptide 2-D TorsionDrives on phi and psi\n",
      "184 ('TorsionDriveDataset', 'OpenFF Protein Dipeptide 2-D TorsionDrive v1.1') Dipeptide 2-D TorsionDrives on phi and psi\n",
      "185 ('TorsionDriveDataset', 'OpenFF Protein Dipeptide 2-D TorsionDrive v2.0') Dipeptide 2-D TorsionDrives on phi and psi\n",
      "186 ('TorsionDriveDataset', 'OpenFF Protein Dipeptide 2-D TorsionDrive v2.1') Dipeptide 2-D TorsionDrives on phi and psi\n",
      "187 ('TorsionDriveDataset', 'OpenFF Protein Fragments TorsionDrives v1.0') Torsiondrives for selected dihedrals of various protein fragments\n",
      "188 ('TorsionDriveDataset', 'OpenFF Rowley Biaryl v1.0') Torsiondrives of biaryl molecules.\n",
      "189 ('TorsionDriveDataset', 'OpenFF Substituted Phenyl Set 1') None\n",
      "190 ('TorsionDriveDataset', 'OpenFF Substituted Phenyl Set 1 v2.0') Torsiondrives for selected dihedrals of various phenyl fragments\n",
      "191 ('TorsionDriveDataset', 'OpenFF Theory Benchmarking Set B3LYP-D3BJ 6-31+Gss') Torsiondrives for benchmarking B3LYP-D3BJ/6-31+G**\n",
      "192 ('TorsionDriveDataset', 'OpenFF Theory Benchmarking Set B3LYP-D3BJ DZVP v1.0') Torsiondrives for benchmarking B3LYP-D3BJ/DZVP\n",
      "193 ('TorsionDriveDataset', 'OpenFF Theory Benchmarking Set B3LYP-D3BJ def2-TZVP v1.0') Torsiondrives for benchmarking B3LYP-D3BJ/def2-TZVP\n",
      "194 ('TorsionDriveDataset', 'OpenFF Theory Benchmarking Set B3LYP-D3BJ def2-TZVPD v1.0') Torsiondrives for benchmarking B3LYP-D3BJ/def2-TZVPD\n",
      "195 ('TorsionDriveDataset', 'OpenFF Theory Benchmarking Set B3LYP-D3BJ def2-TZVPP v1.0') Torsiondrives for benchmarking B3LYP-D3BJ/def2-TZVPP\n",
      "196 ('TorsionDriveDataset', 'OpenFF Theory Benchmarking Set B3LYP-D3BJ def2-TZVPPD') Torsiondrives for benchmarking B3LYP-D3BJ/def2-TZVPPD\n",
      "197 ('TorsionDriveDataset', 'OpenFF Theory Benchmarking Set v1.0') Torsiondrives for theory benchmarking\n",
      "198 ('TorsionDriveDataset', 'OpenFF WBO Conjugated Series v1.0') A functional series of molecules with varying conjugation\n",
      "199 ('TorsionDriveDataset', 'OpenFF multiplicity correction torsion drive data v1.0') OpenFF multiplicity correction torsion drive data v1.0\n",
      "200 ('TorsionDriveDataset', 'OpenFF multiplicity correction torsion drive data v1.1') OpenFF multiplicity correction torsion drive data v1.1\n",
      "201 ('TorsionDriveDataset', 'OpenFF-benchmark-ligand-fragments-v1.0') Fragmented torsiondrives of JACS benchmark inhibitors.\n",
      "202 ('TorsionDriveDataset', 'OpenFF-benchmark-ligand-fragments-v2.0') Ligand fragments from the JACS benchmark systems.\n",
      "203 ('TorsionDriveDataset', 'Pfizer Discrepancy Torsion Dataset 1') None\n",
      "204 ('TorsionDriveDataset', 'SMIRNOFF Coverage Torsion Set 1') None\n",
      "205 ('TorsionDriveDataset', 'SiliconTX Torsion Benchmark Set 1') None\n",
      "206 ('TorsionDriveDataset', 'TorsionDrive Paper') None\n"
     ]
    }
   ],
   "source": [
    "for i, r in enumerate(df.iterrows()):\n",
    "    #print(\"{}:\\t{}\\t{}\".format(r[0][0], r[0][1], r[1]))\n",
    "    print(i, r[0], r[1][0])"
   ]
  },
  {
   "cell_type": "code",
   "execution_count": 8,
   "id": "82715593-3c7d-41e2-982a-c54676038aee",
   "metadata": {},
   "outputs": [
    {
     "name": "stdout",
     "output_type": "stream",
     "text": [
      "39 ('Dataset', 'SPICE DES Monomers Single Points Dataset v1.0') QM dataset for ML\n",
      "40 ('Dataset', 'SPICE DES Monomers Single Points Dataset v1.1') QM dataset for ML\n",
      "41 ('Dataset', 'SPICE DES370K Single Points Dataset Supplement v1.0') QM dataset for ML\n",
      "42 ('Dataset', 'SPICE DES370K Single Points Dataset v1.0') QM dataset for ML\n",
      "43 ('Dataset', 'SPICE Dipeptides Single Points Dataset v1.0') QM Dataset for ML\n",
      "44 ('Dataset', 'SPICE Dipeptides Single Points Dataset v1.1') QM Dataset for ML\n",
      "45 ('Dataset', 'SPICE Dipeptides Single Points Dataset v1.2') QM Dataset for ML\n",
      "46 ('Dataset', 'SPICE Ion Pairs Single Points Dataset v1.0') QM dataset for ML\n",
      "47 ('Dataset', 'SPICE Ion Pairs Single Points Dataset v1.1') QM dataset for ML\n",
      "48 ('Dataset', 'SPICE PubChem Set 1 Single Points Dataset v1.0') QM dataset for ML\n",
      "49 ('Dataset', 'SPICE PubChem Set 1 Single Points Dataset v1.1') QM dataset for ML\n",
      "50 ('Dataset', 'SPICE PubChem Set 1 Single Points Dataset v1.2') QM dataset for ML\n",
      "51 ('Dataset', 'SPICE PubChem Set 2 Single Points Dataset v1.0') QM dataset for ML\n",
      "52 ('Dataset', 'SPICE PubChem Set 2 Single Points Dataset v1.2') QM dataset for ML\n",
      "53 ('Dataset', 'SPICE PubChem Set 3 Single Points Dataset v1.0') QM dataset for ML\n",
      "54 ('Dataset', 'SPICE PubChem Set 3 Single Points Dataset v1.2') QM dataset for ML\n",
      "55 ('Dataset', 'SPICE PubChem Set 5 Single Points Dataset v1.0') QM dataset for ML\n",
      "56 ('Dataset', 'SPICE PubChem Set 5 Single Points Dataset v1.2') QM dataset for ML\n",
      "57 ('Dataset', 'SPICE PubChem Set 6 Single Points Dataset v1.0') QM dataset for ML\n",
      "58 ('Dataset', 'SPICE PubChem Set 6 Single Points Dataset v1.2') QM dataset for ML\n",
      "59 ('Dataset', 'SPICE Pubchem Set 4 Single Points Dataset v1.0') QM dataset for ML\n",
      "60 ('Dataset', 'SPICE Pubchem Set 4 Single Points Dataset v1.2') QM dataset for ML\n",
      "61 ('Dataset', 'SPICE Solvated Amino Acids Single Points Dataset v1.0') QM dataset for ML\n",
      "62 ('Dataset', 'SPICE Solvated Amino Acids Single Points Dataset v1.1') QM dataset for ML\n",
      "117 ('OptimizationDataset', 'SPICE Dipeptides Optimization Dataset v1.0') QM Dataset for ML\n"
     ]
    }
   ],
   "source": [
    "for i, r in enumerate(df.iterrows()):\n",
    "    #print(\"{}:\\t{}\\t{}\".format(r[0][0], r[0][1], r[1]))\n",
    "    if r[0][1].startswith(\"SPICE\"):\n",
    "        print(i, r[0], r[1][0])"
   ]
  },
  {
   "cell_type": "markdown",
   "id": "e0fbaf89-a68b-443b-9bcf-96aec040eca7",
   "metadata": {},
   "source": [
    "### GridOptimizationDataset"
   ]
  },
  {
   "cell_type": "code",
   "execution_count": 9,
   "id": "945faf0b-d18f-454e-a370-4a9b8779e671",
   "metadata": {},
   "outputs": [],
   "source": [
    "ds = client.get_collection('GridOptimizationDataset', 'OpenFF Trivalent Nitrogen Set 1')"
   ]
  },
  {
   "cell_type": "code",
   "execution_count": 10,
   "id": "98a97656-de80-42d0-b934-3787d0695d81",
   "metadata": {},
   "outputs": [
    {
     "data": {
      "text/html": [
       "<div>\n",
       "<style scoped>\n",
       "    .dataframe tbody tr th:only-of-type {\n",
       "        vertical-align: middle;\n",
       "    }\n",
       "\n",
       "    .dataframe tbody tr th {\n",
       "        vertical-align: top;\n",
       "    }\n",
       "\n",
       "    .dataframe thead th {\n",
       "        text-align: right;\n",
       "    }\n",
       "</style>\n",
       "<table border=\"1\" class=\"dataframe\">\n",
       "  <thead>\n",
       "    <tr style=\"text-align: right;\">\n",
       "      <th></th>\n",
       "      <th>Description</th>\n",
       "    </tr>\n",
       "    <tr>\n",
       "      <th>Name</th>\n",
       "      <th></th>\n",
       "    </tr>\n",
       "  </thead>\n",
       "  <tbody>\n",
       "    <tr>\n",
       "      <th>default</th>\n",
       "      <td>Standard OpenFF gridoptimization specification.</td>\n",
       "    </tr>\n",
       "  </tbody>\n",
       "</table>\n",
       "</div>"
      ],
      "text/plain": [
       "                                             Description\n",
       "Name                                                    \n",
       "default  Standard OpenFF gridoptimization specification."
      ]
     },
     "execution_count": 10,
     "metadata": {},
     "output_type": "execute_result"
    }
   ],
   "source": [
    "ds.list_specifications()"
   ]
  },
  {
   "cell_type": "code",
   "execution_count": 11,
   "id": "7728e66f-870c-4882-a460-7a1cae7a38fb",
   "metadata": {},
   "outputs": [],
   "source": [
    "record_names = list(ds.data.records)"
   ]
  },
  {
   "cell_type": "code",
   "execution_count": 12,
   "id": "42417801-2d71-42b8-9e8b-b57a08249f58",
   "metadata": {},
   "outputs": [
    {
     "data": {
      "text/plain": [
       "311"
      ]
     },
     "execution_count": 12,
     "metadata": {},
     "output_type": "execute_result"
    }
   ],
   "source": [
    "len(record_names)"
   ]
  },
  {
   "cell_type": "code",
   "execution_count": 13,
   "id": "203df2c4-fbbe-4c76-9b0b-7f4a69a539e8",
   "metadata": {},
   "outputs": [],
   "source": [
    "record = ds.get_record(record_names[15], specification='default')"
   ]
  },
  {
   "cell_type": "code",
   "execution_count": 14,
   "id": "9a903b84-01c3-44fe-be92-0b06dc8206fc",
   "metadata": {},
   "outputs": [],
   "source": [
    "mols = [ record.get_final_molecules()[k] for k in record.get_final_molecules().keys() ]"
   ]
  },
  {
   "cell_type": "code",
   "execution_count": 15,
   "id": "2416f708-7e34-4849-bdeb-23f2e44cdbaf",
   "metadata": {},
   "outputs": [
    {
     "data": {
      "application/vnd.jupyter.widget-view+json": {
       "model_id": "cbfd439c7fab4e8fba505dc1e27b4e36",
       "version_major": 2,
       "version_minor": 0
      },
      "text/plain": []
     },
     "metadata": {},
     "output_type": "display_data"
    },
    {
     "data": {
      "application/vnd.jupyter.widget-view+json": {
       "model_id": "d577669990284aa1a0426cd8c797909e",
       "version_major": 2,
       "version_minor": 0
      },
      "text/plain": [
       "NGLWidget()"
      ]
     },
     "metadata": {},
     "output_type": "display_data"
    }
   ],
   "source": [
    "mols[-1]"
   ]
  },
  {
   "cell_type": "markdown",
   "id": "cf89b3c8-5686-4a96-a815-da63630490d1",
   "metadata": {},
   "source": [
    "### openff full optimization benchmark1"
   ]
  },
  {
   "cell_type": "code",
   "execution_count": 16,
   "id": "9981836c-ac2a-4cf9-969f-4404f2a58769",
   "metadata": {},
   "outputs": [],
   "source": [
    "openff_full_opt_benchmark1 = client.get_collection('OptimizationDataset', 'OpenFF Full Optimization Benchmark 1')"
   ]
  },
  {
   "cell_type": "code",
   "execution_count": 17,
   "id": "083e0c2c-57ed-436f-ab0e-4aca083c483f",
   "metadata": {},
   "outputs": [
    {
     "data": {
      "text/html": [
       "<div>\n",
       "<style scoped>\n",
       "    .dataframe tbody tr th:only-of-type {\n",
       "        vertical-align: middle;\n",
       "    }\n",
       "\n",
       "    .dataframe tbody tr th {\n",
       "        vertical-align: top;\n",
       "    }\n",
       "\n",
       "    .dataframe thead th {\n",
       "        text-align: right;\n",
       "    }\n",
       "</style>\n",
       "<table border=\"1\" class=\"dataframe\">\n",
       "  <thead>\n",
       "    <tr style=\"text-align: right;\">\n",
       "      <th></th>\n",
       "      <th>Description</th>\n",
       "    </tr>\n",
       "    <tr>\n",
       "      <th>Name</th>\n",
       "      <th></th>\n",
       "    </tr>\n",
       "  </thead>\n",
       "  <tbody>\n",
       "    <tr>\n",
       "      <th>default</th>\n",
       "      <td>Standard OpenFF optimization quantum chemistry...</td>\n",
       "    </tr>\n",
       "  </tbody>\n",
       "</table>\n",
       "</div>"
      ],
      "text/plain": [
       "                                               Description\n",
       "Name                                                      \n",
       "default  Standard OpenFF optimization quantum chemistry..."
      ]
     },
     "execution_count": 17,
     "metadata": {},
     "output_type": "execute_result"
    }
   ],
   "source": [
    "openff_full_opt_benchmark1.list_specifications()"
   ]
  },
  {
   "cell_type": "code",
   "execution_count": 18,
   "id": "a88436e6-3fb1-4f21-9ec4-81ac1243f659",
   "metadata": {},
   "outputs": [
    {
     "data": {
      "text/plain": [
       "QCSpecification(driver=<DriverEnum.gradient: 'gradient'>, method='b3lyp-d3bj', basis='dzvp', keywords='2', protocols=ResultProtocols(wavefunction=<WavefunctionProtocolEnum.none: 'none'>, stdout=True, error_correction=ErrorCorrectionProtocol(default_policy=True, policies=None), native_files=<NativeFilesProtocolEnum.none: 'none'>), program='psi4')"
      ]
     },
     "execution_count": 18,
     "metadata": {},
     "output_type": "execute_result"
    }
   ],
   "source": [
    "openff_full_opt_benchmark1.get_specification(\"default\").qc_spec"
   ]
  },
  {
   "cell_type": "markdown",
   "id": "c3be519f-2f5f-49f1-96df-01c8b9339278",
   "metadata": {},
   "source": [
    "### openff gen2 dataset"
   ]
  },
  {
   "cell_type": "code",
   "execution_count": 19,
   "id": "9a7648ab-7307-43f0-918b-92ae5d707da2",
   "metadata": {},
   "outputs": [],
   "source": [
    "openff_gen2_set1 = client.get_collection('Dataset', 'OpenFF Gen 2 Opt Set 1 Roche')\n",
    "openff_gen2_set2 = client.get_collection('Dataset', 'OpenFF Gen 2 Opt Set 2 Coverage')\n",
    "openff_gen2_set3 = client.get_collection('Dataset', 'OpenFF Gen 2 Opt Set 3 Pfizer Discrepancy')\n",
    "openff_gen2_set4 = client.get_collection('Dataset', 'OpenFF Gen 2 Opt Set 4 eMolecules Discrepancy')\n",
    "openff_gen2_set5 = client.get_collection('Dataset', 'OpenFF Gen 2 Opt Set 5 Bayer')"
   ]
  },
  {
   "cell_type": "code",
   "execution_count": 20,
   "id": "4cb96f40-36e1-4c25-882c-058e6022843d",
   "metadata": {},
   "outputs": [
    {
     "data": {
      "text/html": [
       "<div>\n",
       "<style scoped>\n",
       "    .dataframe tbody tr th:only-of-type {\n",
       "        vertical-align: middle;\n",
       "    }\n",
       "\n",
       "    .dataframe tbody tr th {\n",
       "        vertical-align: top;\n",
       "    }\n",
       "\n",
       "    .dataframe thead th {\n",
       "        text-align: right;\n",
       "    }\n",
       "</style>\n",
       "<table border=\"1\" class=\"dataframe\">\n",
       "  <thead>\n",
       "    <tr style=\"text-align: right;\">\n",
       "      <th></th>\n",
       "      <th>driver</th>\n",
       "      <th>program</th>\n",
       "      <th>method</th>\n",
       "      <th>basis</th>\n",
       "      <th>keywords</th>\n",
       "      <th>name</th>\n",
       "    </tr>\n",
       "  </thead>\n",
       "  <tbody>\n",
       "    <tr>\n",
       "      <th>0</th>\n",
       "      <td>hessian</td>\n",
       "      <td>psi4</td>\n",
       "      <td>b3lyp-d3bj</td>\n",
       "      <td>dzvp</td>\n",
       "      <td>default</td>\n",
       "      <td>B3LYP-D3BJ/dzvp</td>\n",
       "    </tr>\n",
       "  </tbody>\n",
       "</table>\n",
       "</div>"
      ],
      "text/plain": [
       "    driver program      method basis keywords             name\n",
       "0  hessian    psi4  b3lyp-d3bj  dzvp  default  B3LYP-D3BJ/dzvp"
      ]
     },
     "execution_count": 20,
     "metadata": {},
     "output_type": "execute_result"
    }
   ],
   "source": [
    "openff_gen2_set1.list_records()"
   ]
  },
  {
   "cell_type": "code",
   "execution_count": 21,
   "id": "5e9c397c-6996-4a08-891f-51ca35fbf981",
   "metadata": {},
   "outputs": [
    {
     "data": {
      "text/html": [
       "<div>\n",
       "<style scoped>\n",
       "    .dataframe tbody tr th:only-of-type {\n",
       "        vertical-align: middle;\n",
       "    }\n",
       "\n",
       "    .dataframe tbody tr th {\n",
       "        vertical-align: top;\n",
       "    }\n",
       "\n",
       "    .dataframe thead th {\n",
       "        text-align: right;\n",
       "    }\n",
       "</style>\n",
       "<table border=\"1\" class=\"dataframe\">\n",
       "  <thead>\n",
       "    <tr style=\"text-align: right;\">\n",
       "      <th></th>\n",
       "      <th>driver</th>\n",
       "      <th>program</th>\n",
       "      <th>method</th>\n",
       "      <th>basis</th>\n",
       "      <th>keywords</th>\n",
       "      <th>name</th>\n",
       "    </tr>\n",
       "  </thead>\n",
       "  <tbody>\n",
       "    <tr>\n",
       "      <th>0</th>\n",
       "      <td>hessian</td>\n",
       "      <td>psi4</td>\n",
       "      <td>b3lyp-d3bj</td>\n",
       "      <td>dzvp</td>\n",
       "      <td>default</td>\n",
       "      <td>B3LYP-D3BJ/dzvp</td>\n",
       "    </tr>\n",
       "  </tbody>\n",
       "</table>\n",
       "</div>"
      ],
      "text/plain": [
       "    driver program      method basis keywords             name\n",
       "0  hessian    psi4  b3lyp-d3bj  dzvp  default  B3LYP-D3BJ/dzvp"
      ]
     },
     "execution_count": 21,
     "metadata": {},
     "output_type": "execute_result"
    }
   ],
   "source": [
    "openff_gen2_set2.list_records()"
   ]
  },
  {
   "cell_type": "code",
   "execution_count": 22,
   "id": "5e8f11d2-0b17-4359-9b72-da6fb7fef2eb",
   "metadata": {},
   "outputs": [
    {
     "data": {
      "text/html": [
       "<div>\n",
       "<style scoped>\n",
       "    .dataframe tbody tr th:only-of-type {\n",
       "        vertical-align: middle;\n",
       "    }\n",
       "\n",
       "    .dataframe tbody tr th {\n",
       "        vertical-align: top;\n",
       "    }\n",
       "\n",
       "    .dataframe thead th {\n",
       "        text-align: right;\n",
       "    }\n",
       "</style>\n",
       "<table border=\"1\" class=\"dataframe\">\n",
       "  <thead>\n",
       "    <tr style=\"text-align: right;\">\n",
       "      <th></th>\n",
       "      <th>driver</th>\n",
       "      <th>program</th>\n",
       "      <th>method</th>\n",
       "      <th>basis</th>\n",
       "      <th>keywords</th>\n",
       "      <th>name</th>\n",
       "    </tr>\n",
       "  </thead>\n",
       "  <tbody>\n",
       "    <tr>\n",
       "      <th>0</th>\n",
       "      <td>hessian</td>\n",
       "      <td>psi4</td>\n",
       "      <td>b3lyp-d3bj</td>\n",
       "      <td>dzvp</td>\n",
       "      <td>default</td>\n",
       "      <td>B3LYP-D3BJ/dzvp</td>\n",
       "    </tr>\n",
       "  </tbody>\n",
       "</table>\n",
       "</div>"
      ],
      "text/plain": [
       "    driver program      method basis keywords             name\n",
       "0  hessian    psi4  b3lyp-d3bj  dzvp  default  B3LYP-D3BJ/dzvp"
      ]
     },
     "execution_count": 22,
     "metadata": {},
     "output_type": "execute_result"
    }
   ],
   "source": [
    "openff_gen2_set3.list_records()"
   ]
  },
  {
   "cell_type": "code",
   "execution_count": 23,
   "id": "d2574682-8515-46ea-98ce-163bad5fbc16",
   "metadata": {},
   "outputs": [
    {
     "data": {
      "text/html": [
       "<div>\n",
       "<style scoped>\n",
       "    .dataframe tbody tr th:only-of-type {\n",
       "        vertical-align: middle;\n",
       "    }\n",
       "\n",
       "    .dataframe tbody tr th {\n",
       "        vertical-align: top;\n",
       "    }\n",
       "\n",
       "    .dataframe thead th {\n",
       "        text-align: right;\n",
       "    }\n",
       "</style>\n",
       "<table border=\"1\" class=\"dataframe\">\n",
       "  <thead>\n",
       "    <tr style=\"text-align: right;\">\n",
       "      <th></th>\n",
       "      <th>driver</th>\n",
       "      <th>program</th>\n",
       "      <th>method</th>\n",
       "      <th>basis</th>\n",
       "      <th>keywords</th>\n",
       "      <th>name</th>\n",
       "    </tr>\n",
       "  </thead>\n",
       "  <tbody>\n",
       "    <tr>\n",
       "      <th>0</th>\n",
       "      <td>hessian</td>\n",
       "      <td>psi4</td>\n",
       "      <td>b3lyp-d3bj</td>\n",
       "      <td>dzvp</td>\n",
       "      <td>default</td>\n",
       "      <td>B3LYP-D3BJ/dzvp</td>\n",
       "    </tr>\n",
       "  </tbody>\n",
       "</table>\n",
       "</div>"
      ],
      "text/plain": [
       "    driver program      method basis keywords             name\n",
       "0  hessian    psi4  b3lyp-d3bj  dzvp  default  B3LYP-D3BJ/dzvp"
      ]
     },
     "execution_count": 23,
     "metadata": {},
     "output_type": "execute_result"
    }
   ],
   "source": [
    "openff_gen2_set4.list_records()"
   ]
  },
  {
   "cell_type": "code",
   "execution_count": 24,
   "id": "c455340f-ba07-46c4-a2b0-6a0971791a93",
   "metadata": {},
   "outputs": [
    {
     "data": {
      "text/html": [
       "<div>\n",
       "<style scoped>\n",
       "    .dataframe tbody tr th:only-of-type {\n",
       "        vertical-align: middle;\n",
       "    }\n",
       "\n",
       "    .dataframe tbody tr th {\n",
       "        vertical-align: top;\n",
       "    }\n",
       "\n",
       "    .dataframe thead th {\n",
       "        text-align: right;\n",
       "    }\n",
       "</style>\n",
       "<table border=\"1\" class=\"dataframe\">\n",
       "  <thead>\n",
       "    <tr style=\"text-align: right;\">\n",
       "      <th></th>\n",
       "      <th>driver</th>\n",
       "      <th>program</th>\n",
       "      <th>method</th>\n",
       "      <th>basis</th>\n",
       "      <th>keywords</th>\n",
       "      <th>name</th>\n",
       "    </tr>\n",
       "  </thead>\n",
       "  <tbody>\n",
       "    <tr>\n",
       "      <th>0</th>\n",
       "      <td>hessian</td>\n",
       "      <td>psi4</td>\n",
       "      <td>b3lyp-d3bj</td>\n",
       "      <td>dzvp</td>\n",
       "      <td>default</td>\n",
       "      <td>B3LYP-D3BJ/dzvp</td>\n",
       "    </tr>\n",
       "  </tbody>\n",
       "</table>\n",
       "</div>"
      ],
      "text/plain": [
       "    driver program      method basis keywords             name\n",
       "0  hessian    psi4  b3lyp-d3bj  dzvp  default  B3LYP-D3BJ/dzvp"
      ]
     },
     "execution_count": 24,
     "metadata": {},
     "output_type": "execute_result"
    }
   ],
   "source": [
    "openff_gen2_set5.list_records()"
   ]
  },
  {
   "cell_type": "markdown",
   "id": "1c10c6a7-b5dd-4626-b413-b88ec552537d",
   "metadata": {},
   "source": [
    "### VEHICLE"
   ]
  },
  {
   "cell_type": "code",
   "execution_count": 25,
   "id": "28c4499b-966a-4dda-84cc-dca14e136abc",
   "metadata": {},
   "outputs": [],
   "source": [
    "vehicle = client.get_collection('Dataset', 'OpenFF VEHICLe Set 1')"
   ]
  },
  {
   "cell_type": "code",
   "execution_count": 26,
   "id": "218c8bdc-7254-4d6a-8e09-f3c6970d3881",
   "metadata": {},
   "outputs": [
    {
     "data": {
      "text/html": [
       "<div>\n",
       "<style scoped>\n",
       "    .dataframe tbody tr th:only-of-type {\n",
       "        vertical-align: middle;\n",
       "    }\n",
       "\n",
       "    .dataframe tbody tr th {\n",
       "        vertical-align: top;\n",
       "    }\n",
       "\n",
       "    .dataframe thead th {\n",
       "        text-align: right;\n",
       "    }\n",
       "</style>\n",
       "<table border=\"1\" class=\"dataframe\">\n",
       "  <thead>\n",
       "    <tr style=\"text-align: right;\">\n",
       "      <th></th>\n",
       "      <th>driver</th>\n",
       "      <th>program</th>\n",
       "      <th>method</th>\n",
       "      <th>basis</th>\n",
       "      <th>keywords</th>\n",
       "      <th>name</th>\n",
       "    </tr>\n",
       "  </thead>\n",
       "  <tbody>\n",
       "    <tr>\n",
       "      <th>0</th>\n",
       "      <td>hessian</td>\n",
       "      <td>psi4</td>\n",
       "      <td>b3lyp-d3bj</td>\n",
       "      <td>dzvp</td>\n",
       "      <td>default</td>\n",
       "      <td>B3LYP-D3BJ/dzvp-Psi4</td>\n",
       "    </tr>\n",
       "  </tbody>\n",
       "</table>\n",
       "</div>"
      ],
      "text/plain": [
       "    driver program      method basis keywords                  name\n",
       "0  hessian    psi4  b3lyp-d3bj  dzvp  default  B3LYP-D3BJ/dzvp-Psi4"
      ]
     },
     "execution_count": 26,
     "metadata": {},
     "output_type": "execute_result"
    }
   ],
   "source": [
    "vehicle.list_records()"
   ]
  },
  {
   "cell_type": "markdown",
   "id": "18f40525-eb6b-4a84-b687-4d0507b53769",
   "metadata": {},
   "source": [
    "### RNA bgsu dataset"
   ]
  },
  {
   "cell_type": "code",
   "execution_count": 27,
   "id": "4d60baf4-2de9-4894-ac66-8f542c86d7d7",
   "metadata": {},
   "outputs": [],
   "source": [
    "rna = client.get_collection('Dataset', 'RNA Single Point Dataset v1.0')"
   ]
  },
  {
   "cell_type": "code",
   "execution_count": 28,
   "id": "bbe67d4e-3742-4140-9985-e65888412991",
   "metadata": {},
   "outputs": [
    {
     "data": {
      "text/html": [
       "<div>\n",
       "<style scoped>\n",
       "    .dataframe tbody tr th:only-of-type {\n",
       "        vertical-align: middle;\n",
       "    }\n",
       "\n",
       "    .dataframe tbody tr th {\n",
       "        vertical-align: top;\n",
       "    }\n",
       "\n",
       "    .dataframe thead th {\n",
       "        text-align: right;\n",
       "    }\n",
       "</style>\n",
       "<table border=\"1\" class=\"dataframe\">\n",
       "  <thead>\n",
       "    <tr style=\"text-align: right;\">\n",
       "      <th></th>\n",
       "      <th>driver</th>\n",
       "      <th>program</th>\n",
       "      <th>method</th>\n",
       "      <th>basis</th>\n",
       "      <th>keywords</th>\n",
       "      <th>name</th>\n",
       "    </tr>\n",
       "  </thead>\n",
       "  <tbody>\n",
       "    <tr>\n",
       "      <th>0</th>\n",
       "      <td>gradient</td>\n",
       "      <td>psi4</td>\n",
       "      <td>wb97m-d3bj</td>\n",
       "      <td>def2-tzvppd</td>\n",
       "      <td>wb97m-d3bj/def2-tzvppd</td>\n",
       "      <td>WB97M-D3BJ/def2-tzvppd-wb97m-d3bj/def2-tzvppd</td>\n",
       "    </tr>\n",
       "    <tr>\n",
       "      <th>2</th>\n",
       "      <td>gradient</td>\n",
       "      <td>psi4</td>\n",
       "      <td>b3lyp</td>\n",
       "      <td>dzvp</td>\n",
       "      <td>default</td>\n",
       "      <td>B3LYP/dzvp-default</td>\n",
       "    </tr>\n",
       "    <tr>\n",
       "      <th>3</th>\n",
       "      <td>gradient</td>\n",
       "      <td>psi4</td>\n",
       "      <td>b3lyp-d3bj</td>\n",
       "      <td>dzvp</td>\n",
       "      <td>default</td>\n",
       "      <td>B3LYP-D3BJ/dzvp-default</td>\n",
       "    </tr>\n",
       "  </tbody>\n",
       "</table>\n",
       "</div>"
      ],
      "text/plain": [
       "     driver program      method        basis                keywords  \\\n",
       "0  gradient    psi4  wb97m-d3bj  def2-tzvppd  wb97m-d3bj/def2-tzvppd   \n",
       "2  gradient    psi4       b3lyp         dzvp                 default   \n",
       "3  gradient    psi4  b3lyp-d3bj         dzvp                 default   \n",
       "\n",
       "                                            name  \n",
       "0  WB97M-D3BJ/def2-tzvppd-wb97m-d3bj/def2-tzvppd  \n",
       "2                             B3LYP/dzvp-default  \n",
       "3                        B3LYP-D3BJ/dzvp-default  "
      ]
     },
     "execution_count": 28,
     "metadata": {},
     "output_type": "execute_result"
    }
   ],
   "source": [
    "rna.list_records()"
   ]
  },
  {
   "cell_type": "code",
   "execution_count": 29,
   "id": "9df21716-5dd5-4b7d-ab38-9bcf1c884871",
   "metadata": {},
   "outputs": [],
   "source": [
    "rna_records = rna.get_records(method='wb97m-d3bj', basis='def2-tzvppd', program='psi4', keywords='wb97m-d3bj/def2-tzvppd')"
   ]
  },
  {
   "cell_type": "code",
   "execution_count": 30,
   "id": "fa96d139-6ddf-44fd-b255-be21b6502f4f",
   "metadata": {},
   "outputs": [
    {
     "data": {
      "text/html": [
       "<div>\n",
       "<style scoped>\n",
       "    .dataframe tbody tr th:only-of-type {\n",
       "        vertical-align: middle;\n",
       "    }\n",
       "\n",
       "    .dataframe tbody tr th {\n",
       "        vertical-align: top;\n",
       "    }\n",
       "\n",
       "    .dataframe thead th {\n",
       "        text-align: right;\n",
       "    }\n",
       "</style>\n",
       "<table border=\"1\" class=\"dataframe\">\n",
       "  <thead>\n",
       "    <tr style=\"text-align: right;\">\n",
       "      <th></th>\n",
       "      <th>record</th>\n",
       "    </tr>\n",
       "    <tr>\n",
       "      <th>index</th>\n",
       "      <th></th>\n",
       "    </tr>\n",
       "  </thead>\n",
       "  <tbody>\n",
       "    <tr>\n",
       "      <th>Nc1ccn([C@@H]2O[C@H](CO)[C@@H](O)[C@H]2O)c(=O)n1.Nc1ccn([C@@H]2O[C@H](CO)[C@@H](O)[C@H]2O)c(=O)n1-0</th>\n",
       "      <td>ResultRecord(id='109526909', status='COMPLETE')</td>\n",
       "    </tr>\n",
       "    <tr>\n",
       "      <th>Nc1ccn([C@@H]2O[C@H](CO)[C@@H](O)[C@H]2O)c(=O)n1.Nc1ccn([C@@H]2O[C@H](CO)[C@@H](O)[C@H]2O)c(=O)n1-1</th>\n",
       "      <td>ResultRecord(id='109527040', status='COMPLETE')</td>\n",
       "    </tr>\n",
       "    <tr>\n",
       "      <th>Nc1ccn([C@@H]2O[C@H](CO)[C@@H](O)[C@H]2O)c(=O)n1.Nc1ccn([C@@H]2O[C@H](CO)[C@@H](O)[C@H]2O)c(=O)n1-2</th>\n",
       "      <td>ResultRecord(id='109526893', status='COMPLETE')</td>\n",
       "    </tr>\n",
       "    <tr>\n",
       "      <th>Nc1ccn([C@@H]2O[C@H](CO)[C@@H](O)[C@H]2O)c(=O)n1.Nc1ccn([C@@H]2O[C@H](CO)[C@@H](O)[C@H]2O)c(=O)n1-3</th>\n",
       "      <td>ResultRecord(id='109526987', status='ERROR')</td>\n",
       "    </tr>\n",
       "    <tr>\n",
       "      <th>Nc1ccn([C@@H]2O[C@H](CO)[C@@H](O)[C@H]2O)c(=O)n1.Nc1ccn([C@@H]2O[C@H](CO)[C@@H](O)[C@H]2O)c(=O)n1-4</th>\n",
       "      <td>ResultRecord(id='109527080', status='COMPLETE')</td>\n",
       "    </tr>\n",
       "    <tr>\n",
       "      <th>...</th>\n",
       "      <td>...</td>\n",
       "    </tr>\n",
       "    <tr>\n",
       "      <th>O=c1ccn([C@@H]2O[C@H](COP(=O)([O-])O[C@@H]3[C@@H](COP(=O)([O-])O[C@@H]4[C@@H](CO)O[C@@H](n5ccc(=O)[nH]c5=O)[C@@H]4O)O[C@@H](n4ccc(=O)[nH]c4=O)[C@@H]3O)[C@@H](O)[C@H]2O)c(=O)[nH]1-73</th>\n",
       "      <td>ResultRecord(id='109526244', status='COMPLETE')</td>\n",
       "    </tr>\n",
       "    <tr>\n",
       "      <th>O=c1ccn([C@@H]2O[C@H](COP(=O)([O-])O[C@@H]3[C@@H](COP(=O)([O-])O[C@@H]4[C@@H](CO)O[C@@H](n5ccc(=O)[nH]c5=O)[C@@H]4O)O[C@@H](n4ccc(=O)[nH]c4=O)[C@@H]3O)[C@@H](O)[C@H]2O)c(=O)[nH]1-74</th>\n",
       "      <td>ResultRecord(id='109526247', status='COMPLETE')</td>\n",
       "    </tr>\n",
       "    <tr>\n",
       "      <th>O=c1ccn([C@@H]2O[C@H](COP(=O)([O-])O[C@@H]3[C@@H](COP(=O)([O-])O[C@@H]4[C@@H](CO)O[C@@H](n5ccc(=O)[nH]c5=O)[C@@H]4O)O[C@@H](n4ccc(=O)[nH]c4=O)[C@@H]3O)[C@@H](O)[C@H]2O)c(=O)[nH]1-75</th>\n",
       "      <td>ResultRecord(id='109526273', status='COMPLETE')</td>\n",
       "    </tr>\n",
       "    <tr>\n",
       "      <th>O=c1ccn([C@@H]2O[C@H](COP(=O)([O-])O[C@@H]3[C@@H](COP(=O)([O-])O[C@@H]4[C@@H](CO)O[C@@H](n5ccc(=O)[nH]c5=O)[C@@H]4O)O[C@@H](n4ccc(=O)[nH]c4=O)[C@@H]3O)[C@@H](O)[C@H]2O)c(=O)[nH]1-8</th>\n",
       "      <td>ResultRecord(id='109526250', status='COMPLETE')</td>\n",
       "    </tr>\n",
       "    <tr>\n",
       "      <th>O=c1ccn([C@@H]2O[C@H](COP(=O)([O-])O[C@@H]3[C@@H](COP(=O)([O-])O[C@@H]4[C@@H](CO)O[C@@H](n5ccc(=O)[nH]c5=O)[C@@H]4O)O[C@@H](n4ccc(=O)[nH]c4=O)[C@@H]3O)[C@@H](O)[C@H]2O)c(=O)[nH]1-9</th>\n",
       "      <td>ResultRecord(id='109526240', status='COMPLETE')</td>\n",
       "    </tr>\n",
       "  </tbody>\n",
       "</table>\n",
       "<p>4489 rows × 1 columns</p>\n",
       "</div>"
      ],
      "text/plain": [
       "                                                                                             record\n",
       "index                                                                                              \n",
       "Nc1ccn([C@@H]2O[C@H](CO)[C@@H](O)[C@H]2O)c(=O)n...  ResultRecord(id='109526909', status='COMPLETE')\n",
       "Nc1ccn([C@@H]2O[C@H](CO)[C@@H](O)[C@H]2O)c(=O)n...  ResultRecord(id='109527040', status='COMPLETE')\n",
       "Nc1ccn([C@@H]2O[C@H](CO)[C@@H](O)[C@H]2O)c(=O)n...  ResultRecord(id='109526893', status='COMPLETE')\n",
       "Nc1ccn([C@@H]2O[C@H](CO)[C@@H](O)[C@H]2O)c(=O)n...     ResultRecord(id='109526987', status='ERROR')\n",
       "Nc1ccn([C@@H]2O[C@H](CO)[C@@H](O)[C@H]2O)c(=O)n...  ResultRecord(id='109527080', status='COMPLETE')\n",
       "...                                                                                             ...\n",
       "O=c1ccn([C@@H]2O[C@H](COP(=O)([O-])O[C@@H]3[C@@...  ResultRecord(id='109526244', status='COMPLETE')\n",
       "O=c1ccn([C@@H]2O[C@H](COP(=O)([O-])O[C@@H]3[C@@...  ResultRecord(id='109526247', status='COMPLETE')\n",
       "O=c1ccn([C@@H]2O[C@H](COP(=O)([O-])O[C@@H]3[C@@...  ResultRecord(id='109526273', status='COMPLETE')\n",
       "O=c1ccn([C@@H]2O[C@H](COP(=O)([O-])O[C@@H]3[C@@...  ResultRecord(id='109526250', status='COMPLETE')\n",
       "O=c1ccn([C@@H]2O[C@H](COP(=O)([O-])O[C@@H]3[C@@...  ResultRecord(id='109526240', status='COMPLETE')\n",
       "\n",
       "[4489 rows x 1 columns]"
      ]
     },
     "execution_count": 30,
     "metadata": {},
     "output_type": "execute_result"
    }
   ],
   "source": [
    "rna_records"
   ]
  },
  {
   "cell_type": "code",
   "execution_count": 31,
   "id": "73b4497b-4311-4bde-97b9-c297ae6d3d8c",
   "metadata": {
    "scrolled": true,
    "tags": []
   },
   "outputs": [
    {
     "data": {
      "text/plain": [
       "{'id': '109526909',\n",
       " 'hash_index': None,\n",
       " 'procedure': 'single',\n",
       " 'program': 'psi4',\n",
       " 'version': 1,\n",
       " 'protocols': {'wavefunction': <WavefunctionProtocolEnum.none: 'none'>},\n",
       " 'extras': {'_qcfractal_tags': {'program': 'psi4', 'keywords': '35'},\n",
       "  'qcvars': {'2-BODY DISPERSION CORRECTION ENERGY': -0.1072433,\n",
       "   'CURRENT DIPOLE X': 13.68366705544945,\n",
       "   'CURRENT DIPOLE Y': -6.483792013567729,\n",
       "   'CURRENT DIPOLE Z': 6.011138387471894,\n",
       "   'CURRENT ENERGY': -1783.561406822387,\n",
       "   'CURRENT REFERENCE ENERGY': -1783.561406822387,\n",
       "   'DFT FUNCTIONAL TOTAL ENERGY': -1783.4541635223866,\n",
       "   'DFT TOTAL ENERGY': -1783.5614068223865,\n",
       "   'DFT VV10 ENERGY': 0.0,\n",
       "   'DFT XC ENERGY': -167.77883413435194,\n",
       "   'DISPERSION CORRECTION ENERGY': -0.1072433,\n",
       "   'GRID ELECTRONS ALPHA': 128.00006262168,\n",
       "   'GRID ELECTRONS BETA': 128.00006262168,\n",
       "   'GRID ELECTRONS TOTAL': 256.00012524336,\n",
       "   'NUCLEAR REPULSION ENERGY': 3602.9164088388934,\n",
       "   'ONE-ELECTRON ENERGY': -9603.994586769557,\n",
       "   'PCM POLARIZATION ENERGY': 0.0,\n",
       "   'PE ENERGY': 0.0,\n",
       "   'SCF DIPOLE X': 13.68366705544945,\n",
       "   'SCF DIPOLE Y': -6.483792013567729,\n",
       "   'SCF DIPOLE Z': 6.011138387471894,\n",
       "   'SCF ITERATION ENERGY': -1783.561406822387,\n",
       "   'SCF ITERATIONS': 13.0,\n",
       "   'SCF QUADRUPOLE XX': 1681.0111895821392,\n",
       "   'SCF QUADRUPOLE XY': 778.6803172766865,\n",
       "   'SCF QUADRUPOLE XZ': 2829.495634384747,\n",
       "   'SCF QUADRUPOLE YY': -1346.5585691886963,\n",
       "   'SCF QUADRUPOLE YZ': -644.2966455880946,\n",
       "   'SCF QUADRUPOLE ZZ': 1947.3975066376881,\n",
       "   'SCF TOTAL ENERGY': -1783.561406822387,\n",
       "   'TWO-ELECTRON ENERGY': 4385.402848542629,\n",
       "   'WB97M-D3BJ DISPERSION CORRECTION ENERGY': -0.1072433,\n",
       "   'XC GRID RADIAL POINTS': 75.0,\n",
       "   'XC GRID SPHERICAL POINTS': 302.0,\n",
       "   'XC GRID TOTAL POINTS': 1231101.0,\n",
       "   '-D GRADIENT': array([[ 2.36941177e-04, -4.07564967e-04,  5.82521028e-04],\n",
       "          [ 8.55429009e-05, -1.23980027e-04,  3.14694020e-04],\n",
       "          [ 1.97834926e-04, -6.51786316e-04,  2.47483556e-04],\n",
       "          [-1.00561577e-05, -3.69319190e-04,  8.42862013e-05],\n",
       "          [ 2.41832417e-04, -3.41093120e-04,  1.00815624e-04],\n",
       "          [ 1.13747108e-04, -6.03978636e-04, -1.43553330e-04],\n",
       "          [ 2.47711220e-05, -4.69571424e-04, -2.55872028e-04],\n",
       "          [-4.14294272e-04, -5.24764465e-04, -2.09306413e-04],\n",
       "          [ 5.66197527e-04,  1.15438555e-04, -2.17951837e-04],\n",
       "          [ 5.04118141e-04,  2.53206365e-04,  1.64780812e-04],\n",
       "          [ 6.93255828e-04,  1.33581822e-04, -1.62079412e-04],\n",
       "          [ 4.64168973e-04,  1.21373964e-04, -1.63872612e-05],\n",
       "          [ 2.04363601e-04,  2.46141510e-04, -5.35236585e-04],\n",
       "          [ 2.05342096e-04,  4.87102788e-04, -2.44449514e-04],\n",
       "          [ 4.89634881e-05,  1.94475588e-04, -7.29291551e-04],\n",
       "          [ 1.09334674e-04,  9.18081010e-05, -4.94302494e-04],\n",
       "          [-3.93634673e-04, -7.72437369e-05, -2.94247048e-04],\n",
       "          [-3.41653551e-04, -1.67295599e-04, -3.43687186e-04],\n",
       "          [-4.24431933e-04,  1.10720181e-04,  7.76921962e-05],\n",
       "          [-1.87887480e-04,  1.33077550e-05,  2.91893351e-04],\n",
       "          [-3.65663456e-04,  1.76247011e-05, -4.02497439e-04],\n",
       "          [-6.49408216e-05, -1.28202964e-04,  4.23906401e-05],\n",
       "          [ 1.37623703e-04, -2.19512030e-04,  9.12757808e-06],\n",
       "          [-3.99317311e-05,  8.25541694e-05,  4.54237705e-04],\n",
       "          [-6.81990067e-05,  1.35476429e-04,  3.00901035e-04],\n",
       "          [-5.75526125e-05,  5.50765270e-05,  3.35019718e-04],\n",
       "          [ 3.92351491e-05,  3.30035700e-05,  4.51296878e-04],\n",
       "          [ 1.69243734e-04, -8.13910195e-05,  3.11521749e-04],\n",
       "          [-4.27224496e-04,  3.35365213e-04,  5.54067598e-04],\n",
       "          [-2.36645891e-05,  7.53263382e-05,  5.04262020e-04],\n",
       "          [-1.37826111e-05, -3.26986923e-04, -4.11644247e-04],\n",
       "          [-1.04159640e-04, -1.65706922e-04, -3.35718252e-04],\n",
       "          [ 2.36876673e-04, -3.53787417e-04, -5.63815023e-04],\n",
       "          [ 2.83276568e-04, -1.43896794e-04, -2.98098338e-04],\n",
       "          [ 3.36664446e-04, -3.38723025e-04, -2.16723868e-04],\n",
       "          [-8.63905775e-06, -4.68550116e-05, -5.19540876e-04],\n",
       "          [-2.01784413e-04,  1.06958556e-04, -4.39574880e-04],\n",
       "          [-5.28908772e-04, -1.74434724e-04, -2.63140945e-04],\n",
       "          [ 4.23385145e-04,  4.07802145e-04, -1.19923084e-04],\n",
       "          [ 5.81709143e-04,  1.34425735e-04,  8.87577781e-05],\n",
       "          [ 5.25033429e-04,  4.68433026e-04, -1.54527770e-04],\n",
       "          [ 3.99658398e-04,  2.59153683e-04, -5.87297711e-05],\n",
       "          [-5.19710414e-05,  5.77828345e-04, -3.57131903e-06],\n",
       "          [ 1.62478906e-04,  4.55458052e-04,  2.55547403e-04],\n",
       "          [-3.24971724e-04,  6.91328669e-04, -3.26300839e-05],\n",
       "          [-1.65201406e-04,  4.87937129e-04, -6.93692317e-05],\n",
       "          [-5.09336864e-04,  4.20556794e-05,  3.30529047e-05],\n",
       "          [-5.40139448e-04,  5.18141760e-05, -9.06801094e-05],\n",
       "          [-2.92938876e-04, -2.07854075e-04,  3.08901304e-04],\n",
       "          [-1.11795607e-04, -2.35703305e-04,  5.08938706e-04],\n",
       "          [-4.09067967e-04,  3.43037364e-04,  5.49730875e-04],\n",
       "          [-1.84489624e-04,  1.68788674e-04,  4.03866422e-04],\n",
       "          [-1.91354692e-04,  2.52743243e-04, -5.79297377e-05],\n",
       "          [-2.72097769e-04,  2.39669012e-04,  2.20892655e-04],\n",
       "          [-1.89112313e-04,  1.18988313e-04,  9.32979564e-05],\n",
       "          [-1.26899033e-04,  9.23012454e-05,  2.39827357e-04],\n",
       "          [ 2.44219655e-05, -1.80545117e-04, -3.56314860e-05],\n",
       "          [ 3.34508354e-05, -7.45986717e-05, -2.55930353e-04],\n",
       "          [-6.31331749e-05, -5.05184357e-04,  4.04672595e-04],\n",
       "          [ 5.94467379e-05, -4.80326784e-04,  4.15638089e-05]]),\n",
       "   '2-BODY DISPERSION CORRECTION GRADIENT': array([[ 2.36941177e-04, -4.07564967e-04,  5.82521028e-04],\n",
       "          [ 8.55429009e-05, -1.23980027e-04,  3.14694020e-04],\n",
       "          [ 1.97834926e-04, -6.51786316e-04,  2.47483556e-04],\n",
       "          [-1.00561577e-05, -3.69319190e-04,  8.42862013e-05],\n",
       "          [ 2.41832417e-04, -3.41093120e-04,  1.00815624e-04],\n",
       "          [ 1.13747108e-04, -6.03978636e-04, -1.43553330e-04],\n",
       "          [ 2.47711220e-05, -4.69571424e-04, -2.55872028e-04],\n",
       "          [-4.14294272e-04, -5.24764465e-04, -2.09306413e-04],\n",
       "          [ 5.66197527e-04,  1.15438555e-04, -2.17951837e-04],\n",
       "          [ 5.04118141e-04,  2.53206365e-04,  1.64780812e-04],\n",
       "          [ 6.93255828e-04,  1.33581822e-04, -1.62079412e-04],\n",
       "          [ 4.64168973e-04,  1.21373964e-04, -1.63872612e-05],\n",
       "          [ 2.04363601e-04,  2.46141510e-04, -5.35236585e-04],\n",
       "          [ 2.05342096e-04,  4.87102788e-04, -2.44449514e-04],\n",
       "          [ 4.89634881e-05,  1.94475588e-04, -7.29291551e-04],\n",
       "          [ 1.09334674e-04,  9.18081010e-05, -4.94302494e-04],\n",
       "          [-3.93634673e-04, -7.72437369e-05, -2.94247048e-04],\n",
       "          [-3.41653551e-04, -1.67295599e-04, -3.43687186e-04],\n",
       "          [-4.24431933e-04,  1.10720181e-04,  7.76921962e-05],\n",
       "          [-1.87887480e-04,  1.33077550e-05,  2.91893351e-04],\n",
       "          [-3.65663456e-04,  1.76247011e-05, -4.02497439e-04],\n",
       "          [-6.49408216e-05, -1.28202964e-04,  4.23906401e-05],\n",
       "          [ 1.37623703e-04, -2.19512030e-04,  9.12757808e-06],\n",
       "          [-3.99317311e-05,  8.25541694e-05,  4.54237705e-04],\n",
       "          [-6.81990067e-05,  1.35476429e-04,  3.00901035e-04],\n",
       "          [-5.75526125e-05,  5.50765270e-05,  3.35019718e-04],\n",
       "          [ 3.92351491e-05,  3.30035700e-05,  4.51296878e-04],\n",
       "          [ 1.69243734e-04, -8.13910195e-05,  3.11521749e-04],\n",
       "          [-4.27224496e-04,  3.35365213e-04,  5.54067598e-04],\n",
       "          [-2.36645891e-05,  7.53263382e-05,  5.04262020e-04],\n",
       "          [-1.37826111e-05, -3.26986923e-04, -4.11644247e-04],\n",
       "          [-1.04159640e-04, -1.65706922e-04, -3.35718252e-04],\n",
       "          [ 2.36876673e-04, -3.53787417e-04, -5.63815023e-04],\n",
       "          [ 2.83276568e-04, -1.43896794e-04, -2.98098338e-04],\n",
       "          [ 3.36664446e-04, -3.38723025e-04, -2.16723868e-04],\n",
       "          [-8.63905775e-06, -4.68550116e-05, -5.19540876e-04],\n",
       "          [-2.01784413e-04,  1.06958556e-04, -4.39574880e-04],\n",
       "          [-5.28908772e-04, -1.74434724e-04, -2.63140945e-04],\n",
       "          [ 4.23385145e-04,  4.07802145e-04, -1.19923084e-04],\n",
       "          [ 5.81709143e-04,  1.34425735e-04,  8.87577781e-05],\n",
       "          [ 5.25033429e-04,  4.68433026e-04, -1.54527770e-04],\n",
       "          [ 3.99658398e-04,  2.59153683e-04, -5.87297711e-05],\n",
       "          [-5.19710414e-05,  5.77828345e-04, -3.57131903e-06],\n",
       "          [ 1.62478906e-04,  4.55458052e-04,  2.55547403e-04],\n",
       "          [-3.24971724e-04,  6.91328669e-04, -3.26300839e-05],\n",
       "          [-1.65201406e-04,  4.87937129e-04, -6.93692317e-05],\n",
       "          [-5.09336864e-04,  4.20556794e-05,  3.30529047e-05],\n",
       "          [-5.40139448e-04,  5.18141760e-05, -9.06801094e-05],\n",
       "          [-2.92938876e-04, -2.07854075e-04,  3.08901304e-04],\n",
       "          [-1.11795607e-04, -2.35703305e-04,  5.08938706e-04],\n",
       "          [-4.09067967e-04,  3.43037364e-04,  5.49730875e-04],\n",
       "          [-1.84489624e-04,  1.68788674e-04,  4.03866422e-04],\n",
       "          [-1.91354692e-04,  2.52743243e-04, -5.79297377e-05],\n",
       "          [-2.72097769e-04,  2.39669012e-04,  2.20892655e-04],\n",
       "          [-1.89112313e-04,  1.18988313e-04,  9.32979564e-05],\n",
       "          [-1.26899033e-04,  9.23012454e-05,  2.39827357e-04],\n",
       "          [ 2.44219655e-05, -1.80545117e-04, -3.56314860e-05],\n",
       "          [ 3.34508354e-05, -7.45986717e-05, -2.55930353e-04],\n",
       "          [-6.31331749e-05, -5.05184357e-04,  4.04672595e-04],\n",
       "          [ 5.94467379e-05, -4.80326784e-04,  4.15638089e-05]]),\n",
       "   'CURRENT DIPOLE': array([ 5.38356886, -2.55092006,  2.36496382]),\n",
       "   'CURRENT GRADIENT': array([[ 1.91295830e-03, -6.71826246e-03,  1.88466958e-03],\n",
       "          [ 1.13772626e-03, -1.89457509e-03,  2.11755473e-03],\n",
       "          [ 3.72065230e-03,  3.73965495e-03,  6.34790360e-03],\n",
       "          [ 1.24143052e-03,  2.70248852e-04,  1.83415117e-03],\n",
       "          [-1.01028124e-03, -6.30830542e-04,  4.59224101e-03],\n",
       "          [-1.43559890e-02,  6.35887486e-03, -1.15212736e-02],\n",
       "          [-2.91959360e-03,  3.26887847e-03, -8.18032619e-05],\n",
       "          [-5.76991445e-03, -1.53855912e-02, -1.66186283e-03],\n",
       "          [ 5.64706323e-03, -4.49999695e-03,  3.84139945e-03],\n",
       "          [ 4.31734407e-04,  1.42844213e-03, -3.42305179e-04],\n",
       "          [ 5.11909147e-03,  4.97864419e-03, -1.54425741e-03],\n",
       "          [-7.98518210e-04,  2.26988094e-03, -1.05114214e-03],\n",
       "          [ 5.14782015e-04, -4.60431312e-04,  1.87559336e-03],\n",
       "          [ 3.55849396e-03, -1.66470849e-03,  1.93798511e-03],\n",
       "          [ 3.47021755e-03, -2.15591187e-04, -1.31360605e-02],\n",
       "          [-3.14669966e-03,  1.80196626e-03,  1.15129425e-03],\n",
       "          [ 1.70751111e-03, -3.39274560e-03, -1.09588671e-03],\n",
       "          [ 2.30896371e-03, -3.82280726e-03, -8.38414960e-03],\n",
       "          [-8.84479530e-03,  1.25693727e-02, -7.25740595e-03],\n",
       "          [ 2.74135629e-02, -1.51421048e-02,  3.60157299e-02],\n",
       "          [-1.76027298e-02,  1.09957081e-02, -1.15199811e-02],\n",
       "          [-1.26875066e-02,  6.49852660e-03, -1.85656638e-02],\n",
       "          [-3.55404608e-03,  1.33813018e-02,  3.40518224e-02],\n",
       "          [ 1.55059797e-02, -2.46763172e-02, -3.63671387e-02],\n",
       "          [ 7.20241472e-03, -5.45849074e-03,  6.05762679e-03],\n",
       "          [-6.12387399e-03,  3.88125118e-03, -8.16226990e-03],\n",
       "          [-1.12117572e-02,  1.11567446e-02,  4.93892333e-03],\n",
       "          [ 1.19281500e-03, -6.53117019e-04,  1.06409955e-03],\n",
       "          [ 3.49423036e-03, -4.11098671e-03,  2.79949336e-03],\n",
       "          [ 2.79961661e-03,  3.51625991e-03,  6.79075017e-03],\n",
       "          [-5.42253665e-03,  4.42311296e-03, -3.63026854e-03],\n",
       "          [-1.14472216e-03,  3.94687288e-04, -2.05099297e-03],\n",
       "          [ 1.69471717e-02, -8.43094444e-03,  9.86552660e-04],\n",
       "          [-2.70405238e-03, -3.01943302e-03, -2.78961547e-03],\n",
       "          [ 2.91534089e-03,  4.45034539e-03,  3.61376614e-03],\n",
       "          [-1.51470148e-02,  8.15142036e-04,  9.64994451e-03],\n",
       "          [ 1.33240835e-03, -1.26351401e-03,  2.08312775e-03],\n",
       "          [-5.57722672e-03, -6.37677460e-03, -1.48942336e-02],\n",
       "          [ 1.10591037e-02, -4.37854298e-03, -1.37687098e-03],\n",
       "          [-7.97391521e-04,  9.49657394e-04, -1.01931101e-03],\n",
       "          [ 2.20522613e-03,  4.85330457e-03,  1.41608052e-03],\n",
       "          [-6.87857561e-04,  1.04870297e-03,  1.48781119e-03],\n",
       "          [ 4.75335428e-04, -5.88796154e-04, -4.69150626e-03],\n",
       "          [ 4.50140600e-03, -1.65580542e-04, -2.23725014e-03],\n",
       "          [-5.32148902e-03,  1.15782154e-02, -3.56989073e-03],\n",
       "          [-1.03636476e-03, -5.78270732e-04,  2.14712870e-03],\n",
       "          [-1.41841721e-03, -4.52011269e-03, -2.95271112e-03],\n",
       "          [-2.53299204e-03,  4.82997553e-03, -1.67843216e-03],\n",
       "          [-6.22580097e-03,  1.19294746e-02,  1.93828953e-02],\n",
       "          [ 2.13095359e-02, -2.83958528e-02, -2.41982947e-02],\n",
       "          [-9.68271406e-03,  9.71241438e-03,  2.32952132e-02],\n",
       "          [-1.16002765e-02,  1.68318530e-02,  1.07730819e-02],\n",
       "          [ 1.75960267e-02, -3.46513295e-02,  2.02707202e-02],\n",
       "          [-1.10065698e-02,  2.46385520e-02, -3.55874065e-02],\n",
       "          [ 1.23894521e-04,  2.70996584e-03, -3.38297402e-03],\n",
       "          [-1.58441148e-03,  3.47563110e-03,  4.92367891e-03],\n",
       "          [-3.30471235e-03, -7.68293908e-05,  2.07320201e-02],\n",
       "          [ 4.92566201e-04,  7.83361102e-04, -1.32912689e-03],\n",
       "          [ 4.54366918e-04, -1.16477775e-03, -1.31338291e-02],\n",
       "          [ 5.58912986e-03, -7.26868893e-03,  1.26506959e-03]]),\n",
       "   'DFT TOTAL GRADIENT': array([[ 1.91295830e-03, -6.71826246e-03,  1.88466958e-03],\n",
       "          [ 1.13772626e-03, -1.89457509e-03,  2.11755473e-03],\n",
       "          [ 3.72065230e-03,  3.73965495e-03,  6.34790360e-03],\n",
       "          [ 1.24143052e-03,  2.70248852e-04,  1.83415117e-03],\n",
       "          [-1.01028124e-03, -6.30830542e-04,  4.59224101e-03],\n",
       "          [-1.43559890e-02,  6.35887486e-03, -1.15212736e-02],\n",
       "          [-2.91959360e-03,  3.26887847e-03, -8.18032619e-05],\n",
       "          [-5.76991445e-03, -1.53855912e-02, -1.66186283e-03],\n",
       "          [ 5.64706323e-03, -4.49999695e-03,  3.84139945e-03],\n",
       "          [ 4.31734407e-04,  1.42844213e-03, -3.42305179e-04],\n",
       "          [ 5.11909147e-03,  4.97864419e-03, -1.54425741e-03],\n",
       "          [-7.98518210e-04,  2.26988094e-03, -1.05114214e-03],\n",
       "          [ 5.14782015e-04, -4.60431312e-04,  1.87559336e-03],\n",
       "          [ 3.55849396e-03, -1.66470849e-03,  1.93798511e-03],\n",
       "          [ 3.47021755e-03, -2.15591187e-04, -1.31360605e-02],\n",
       "          [-3.14669966e-03,  1.80196626e-03,  1.15129425e-03],\n",
       "          [ 1.70751111e-03, -3.39274560e-03, -1.09588671e-03],\n",
       "          [ 2.30896371e-03, -3.82280726e-03, -8.38414960e-03],\n",
       "          [-8.84479530e-03,  1.25693727e-02, -7.25740595e-03],\n",
       "          [ 2.74135629e-02, -1.51421048e-02,  3.60157299e-02],\n",
       "          [-1.76027298e-02,  1.09957081e-02, -1.15199811e-02],\n",
       "          [-1.26875066e-02,  6.49852660e-03, -1.85656638e-02],\n",
       "          [-3.55404608e-03,  1.33813018e-02,  3.40518224e-02],\n",
       "          [ 1.55059797e-02, -2.46763172e-02, -3.63671387e-02],\n",
       "          [ 7.20241472e-03, -5.45849074e-03,  6.05762679e-03],\n",
       "          [-6.12387399e-03,  3.88125118e-03, -8.16226990e-03],\n",
       "          [-1.12117572e-02,  1.11567446e-02,  4.93892333e-03],\n",
       "          [ 1.19281500e-03, -6.53117019e-04,  1.06409955e-03],\n",
       "          [ 3.49423036e-03, -4.11098671e-03,  2.79949336e-03],\n",
       "          [ 2.79961661e-03,  3.51625991e-03,  6.79075017e-03],\n",
       "          [-5.42253665e-03,  4.42311296e-03, -3.63026854e-03],\n",
       "          [-1.14472216e-03,  3.94687288e-04, -2.05099297e-03],\n",
       "          [ 1.69471717e-02, -8.43094444e-03,  9.86552660e-04],\n",
       "          [-2.70405238e-03, -3.01943302e-03, -2.78961547e-03],\n",
       "          [ 2.91534089e-03,  4.45034539e-03,  3.61376614e-03],\n",
       "          [-1.51470148e-02,  8.15142036e-04,  9.64994451e-03],\n",
       "          [ 1.33240835e-03, -1.26351401e-03,  2.08312775e-03],\n",
       "          [-5.57722672e-03, -6.37677460e-03, -1.48942336e-02],\n",
       "          [ 1.10591037e-02, -4.37854298e-03, -1.37687098e-03],\n",
       "          [-7.97391521e-04,  9.49657394e-04, -1.01931101e-03],\n",
       "          [ 2.20522613e-03,  4.85330457e-03,  1.41608052e-03],\n",
       "          [-6.87857561e-04,  1.04870297e-03,  1.48781119e-03],\n",
       "          [ 4.75335428e-04, -5.88796154e-04, -4.69150626e-03],\n",
       "          [ 4.50140600e-03, -1.65580542e-04, -2.23725014e-03],\n",
       "          [-5.32148902e-03,  1.15782154e-02, -3.56989073e-03],\n",
       "          [-1.03636476e-03, -5.78270732e-04,  2.14712870e-03],\n",
       "          [-1.41841721e-03, -4.52011269e-03, -2.95271112e-03],\n",
       "          [-2.53299204e-03,  4.82997553e-03, -1.67843216e-03],\n",
       "          [-6.22580097e-03,  1.19294746e-02,  1.93828953e-02],\n",
       "          [ 2.13095359e-02, -2.83958528e-02, -2.41982947e-02],\n",
       "          [-9.68271406e-03,  9.71241438e-03,  2.32952132e-02],\n",
       "          [-1.16002765e-02,  1.68318530e-02,  1.07730819e-02],\n",
       "          [ 1.75960267e-02, -3.46513295e-02,  2.02707202e-02],\n",
       "          [-1.10065698e-02,  2.46385520e-02, -3.55874065e-02],\n",
       "          [ 1.23894521e-04,  2.70996584e-03, -3.38297402e-03],\n",
       "          [-1.58441148e-03,  3.47563110e-03,  4.92367891e-03],\n",
       "          [-3.30471235e-03, -7.68293908e-05,  2.07320201e-02],\n",
       "          [ 4.92566201e-04,  7.83361102e-04, -1.32912689e-03],\n",
       "          [ 4.54366918e-04, -1.16477775e-03, -1.31338291e-02],\n",
       "          [ 5.58912986e-03, -7.26868893e-03,  1.26506959e-03]]),\n",
       "   'DISPERSION CORRECTION GRADIENT': array([[ 2.36941177e-04, -4.07564967e-04,  5.82521028e-04],\n",
       "          [ 8.55429009e-05, -1.23980027e-04,  3.14694020e-04],\n",
       "          [ 1.97834926e-04, -6.51786316e-04,  2.47483556e-04],\n",
       "          [-1.00561577e-05, -3.69319190e-04,  8.42862013e-05],\n",
       "          [ 2.41832417e-04, -3.41093120e-04,  1.00815624e-04],\n",
       "          [ 1.13747108e-04, -6.03978636e-04, -1.43553330e-04],\n",
       "          [ 2.47711220e-05, -4.69571424e-04, -2.55872028e-04],\n",
       "          [-4.14294272e-04, -5.24764465e-04, -2.09306413e-04],\n",
       "          [ 5.66197527e-04,  1.15438555e-04, -2.17951837e-04],\n",
       "          [ 5.04118141e-04,  2.53206365e-04,  1.64780812e-04],\n",
       "          [ 6.93255828e-04,  1.33581822e-04, -1.62079412e-04],\n",
       "          [ 4.64168973e-04,  1.21373964e-04, -1.63872612e-05],\n",
       "          [ 2.04363601e-04,  2.46141510e-04, -5.35236585e-04],\n",
       "          [ 2.05342096e-04,  4.87102788e-04, -2.44449514e-04],\n",
       "          [ 4.89634881e-05,  1.94475588e-04, -7.29291551e-04],\n",
       "          [ 1.09334674e-04,  9.18081010e-05, -4.94302494e-04],\n",
       "          [-3.93634673e-04, -7.72437369e-05, -2.94247048e-04],\n",
       "          [-3.41653551e-04, -1.67295599e-04, -3.43687186e-04],\n",
       "          [-4.24431933e-04,  1.10720181e-04,  7.76921962e-05],\n",
       "          [-1.87887480e-04,  1.33077550e-05,  2.91893351e-04],\n",
       "          [-3.65663456e-04,  1.76247011e-05, -4.02497439e-04],\n",
       "          [-6.49408216e-05, -1.28202964e-04,  4.23906401e-05],\n",
       "          [ 1.37623703e-04, -2.19512030e-04,  9.12757808e-06],\n",
       "          [-3.99317311e-05,  8.25541694e-05,  4.54237705e-04],\n",
       "          [-6.81990067e-05,  1.35476429e-04,  3.00901035e-04],\n",
       "          [-5.75526125e-05,  5.50765270e-05,  3.35019718e-04],\n",
       "          [ 3.92351491e-05,  3.30035700e-05,  4.51296878e-04],\n",
       "          [ 1.69243734e-04, -8.13910195e-05,  3.11521749e-04],\n",
       "          [-4.27224496e-04,  3.35365213e-04,  5.54067598e-04],\n",
       "          [-2.36645891e-05,  7.53263382e-05,  5.04262020e-04],\n",
       "          [-1.37826111e-05, -3.26986923e-04, -4.11644247e-04],\n",
       "          [-1.04159640e-04, -1.65706922e-04, -3.35718252e-04],\n",
       "          [ 2.36876673e-04, -3.53787417e-04, -5.63815023e-04],\n",
       "          [ 2.83276568e-04, -1.43896794e-04, -2.98098338e-04],\n",
       "          [ 3.36664446e-04, -3.38723025e-04, -2.16723868e-04],\n",
       "          [-8.63905775e-06, -4.68550116e-05, -5.19540876e-04],\n",
       "          [-2.01784413e-04,  1.06958556e-04, -4.39574880e-04],\n",
       "          [-5.28908772e-04, -1.74434724e-04, -2.63140945e-04],\n",
       "          [ 4.23385145e-04,  4.07802145e-04, -1.19923084e-04],\n",
       "          [ 5.81709143e-04,  1.34425735e-04,  8.87577781e-05],\n",
       "          [ 5.25033429e-04,  4.68433026e-04, -1.54527770e-04],\n",
       "          [ 3.99658398e-04,  2.59153683e-04, -5.87297711e-05],\n",
       "          [-5.19710414e-05,  5.77828345e-04, -3.57131903e-06],\n",
       "          [ 1.62478906e-04,  4.55458052e-04,  2.55547403e-04],\n",
       "          [-3.24971724e-04,  6.91328669e-04, -3.26300839e-05],\n",
       "          [-1.65201406e-04,  4.87937129e-04, -6.93692317e-05],\n",
       "          [-5.09336864e-04,  4.20556794e-05,  3.30529047e-05],\n",
       "          [-5.40139448e-04,  5.18141760e-05, -9.06801094e-05],\n",
       "          [-2.92938876e-04, -2.07854075e-04,  3.08901304e-04],\n",
       "          [-1.11795607e-04, -2.35703305e-04,  5.08938706e-04],\n",
       "          [-4.09067967e-04,  3.43037364e-04,  5.49730875e-04],\n",
       "          [-1.84489624e-04,  1.68788674e-04,  4.03866422e-04],\n",
       "          [-1.91354692e-04,  2.52743243e-04, -5.79297377e-05],\n",
       "          [-2.72097769e-04,  2.39669012e-04,  2.20892655e-04],\n",
       "          [-1.89112313e-04,  1.18988313e-04,  9.32979564e-05],\n",
       "          [-1.26899033e-04,  9.23012454e-05,  2.39827357e-04],\n",
       "          [ 2.44219655e-05, -1.80545117e-04, -3.56314860e-05],\n",
       "          [ 3.34508354e-05, -7.45986717e-05, -2.55930353e-04],\n",
       "          [-6.31331749e-05, -5.05184357e-04,  4.04672595e-04],\n",
       "          [ 5.94467379e-05, -4.80326784e-04,  4.15638089e-05]]),\n",
       "   'SCF DIPOLE': array([ 5.38356886, -2.55092006,  2.36496382]),\n",
       "   'SCF QUADRUPOLE': array([[ 1249.79057599,   578.92971104,  2103.66058274],\n",
       "          [  578.92971104, -1001.1332585 ,  -479.01874823],\n",
       "          [ 2103.66058274,  -479.01874823,  1447.84226696]]),\n",
       "   'SCF TOTAL GRADIENT': array([[ 1.91295830e-03, -6.71826246e-03,  1.88466958e-03],\n",
       "          [ 1.13772626e-03, -1.89457509e-03,  2.11755473e-03],\n",
       "          [ 3.72065230e-03,  3.73965495e-03,  6.34790360e-03],\n",
       "          [ 1.24143052e-03,  2.70248852e-04,  1.83415117e-03],\n",
       "          [-1.01028124e-03, -6.30830542e-04,  4.59224101e-03],\n",
       "          [-1.43559890e-02,  6.35887486e-03, -1.15212736e-02],\n",
       "          [-2.91959360e-03,  3.26887847e-03, -8.18032619e-05],\n",
       "          [-5.76991445e-03, -1.53855912e-02, -1.66186283e-03],\n",
       "          [ 5.64706323e-03, -4.49999695e-03,  3.84139945e-03],\n",
       "          [ 4.31734407e-04,  1.42844213e-03, -3.42305179e-04],\n",
       "          [ 5.11909147e-03,  4.97864419e-03, -1.54425741e-03],\n",
       "          [-7.98518210e-04,  2.26988094e-03, -1.05114214e-03],\n",
       "          [ 5.14782015e-04, -4.60431312e-04,  1.87559336e-03],\n",
       "          [ 3.55849396e-03, -1.66470849e-03,  1.93798511e-03],\n",
       "          [ 3.47021755e-03, -2.15591187e-04, -1.31360605e-02],\n",
       "          [-3.14669966e-03,  1.80196626e-03,  1.15129425e-03],\n",
       "          [ 1.70751111e-03, -3.39274560e-03, -1.09588671e-03],\n",
       "          [ 2.30896371e-03, -3.82280726e-03, -8.38414960e-03],\n",
       "          [-8.84479530e-03,  1.25693727e-02, -7.25740595e-03],\n",
       "          [ 2.74135629e-02, -1.51421048e-02,  3.60157299e-02],\n",
       "          [-1.76027298e-02,  1.09957081e-02, -1.15199811e-02],\n",
       "          [-1.26875066e-02,  6.49852660e-03, -1.85656638e-02],\n",
       "          [-3.55404608e-03,  1.33813018e-02,  3.40518224e-02],\n",
       "          [ 1.55059797e-02, -2.46763172e-02, -3.63671387e-02],\n",
       "          [ 7.20241472e-03, -5.45849074e-03,  6.05762679e-03],\n",
       "          [-6.12387399e-03,  3.88125118e-03, -8.16226990e-03],\n",
       "          [-1.12117572e-02,  1.11567446e-02,  4.93892333e-03],\n",
       "          [ 1.19281500e-03, -6.53117019e-04,  1.06409955e-03],\n",
       "          [ 3.49423036e-03, -4.11098671e-03,  2.79949336e-03],\n",
       "          [ 2.79961661e-03,  3.51625991e-03,  6.79075017e-03],\n",
       "          [-5.42253665e-03,  4.42311296e-03, -3.63026854e-03],\n",
       "          [-1.14472216e-03,  3.94687288e-04, -2.05099297e-03],\n",
       "          [ 1.69471717e-02, -8.43094444e-03,  9.86552660e-04],\n",
       "          [-2.70405238e-03, -3.01943302e-03, -2.78961547e-03],\n",
       "          [ 2.91534089e-03,  4.45034539e-03,  3.61376614e-03],\n",
       "          [-1.51470148e-02,  8.15142036e-04,  9.64994451e-03],\n",
       "          [ 1.33240835e-03, -1.26351401e-03,  2.08312775e-03],\n",
       "          [-5.57722672e-03, -6.37677460e-03, -1.48942336e-02],\n",
       "          [ 1.10591037e-02, -4.37854298e-03, -1.37687098e-03],\n",
       "          [-7.97391521e-04,  9.49657394e-04, -1.01931101e-03],\n",
       "          [ 2.20522613e-03,  4.85330457e-03,  1.41608052e-03],\n",
       "          [-6.87857561e-04,  1.04870297e-03,  1.48781119e-03],\n",
       "          [ 4.75335428e-04, -5.88796154e-04, -4.69150626e-03],\n",
       "          [ 4.50140600e-03, -1.65580542e-04, -2.23725014e-03],\n",
       "          [-5.32148902e-03,  1.15782154e-02, -3.56989073e-03],\n",
       "          [-1.03636476e-03, -5.78270732e-04,  2.14712870e-03],\n",
       "          [-1.41841721e-03, -4.52011269e-03, -2.95271112e-03],\n",
       "          [-2.53299204e-03,  4.82997553e-03, -1.67843216e-03],\n",
       "          [-6.22580097e-03,  1.19294746e-02,  1.93828953e-02],\n",
       "          [ 2.13095359e-02, -2.83958528e-02, -2.41982947e-02],\n",
       "          [-9.68271406e-03,  9.71241438e-03,  2.32952132e-02],\n",
       "          [-1.16002765e-02,  1.68318530e-02,  1.07730819e-02],\n",
       "          [ 1.75960267e-02, -3.46513295e-02,  2.02707202e-02],\n",
       "          [-1.10065698e-02,  2.46385520e-02, -3.55874065e-02],\n",
       "          [ 1.23894521e-04,  2.70996584e-03, -3.38297402e-03],\n",
       "          [-1.58441148e-03,  3.47563110e-03,  4.92367891e-03],\n",
       "          [-3.30471235e-03, -7.68293908e-05,  2.07320201e-02],\n",
       "          [ 4.92566201e-04,  7.83361102e-04, -1.32912689e-03],\n",
       "          [ 4.54366918e-04, -1.16477775e-03, -1.31338291e-02],\n",
       "          [ 5.58912986e-03, -7.26868893e-03,  1.26506959e-03]]),\n",
       "   'WB97M-D3BJ DISPERSION CORRECTION GRADIENT': array([[ 2.36941177e-04, -4.07564967e-04,  5.82521028e-04],\n",
       "          [ 8.55429009e-05, -1.23980027e-04,  3.14694020e-04],\n",
       "          [ 1.97834926e-04, -6.51786316e-04,  2.47483556e-04],\n",
       "          [-1.00561577e-05, -3.69319190e-04,  8.42862013e-05],\n",
       "          [ 2.41832417e-04, -3.41093120e-04,  1.00815624e-04],\n",
       "          [ 1.13747108e-04, -6.03978636e-04, -1.43553330e-04],\n",
       "          [ 2.47711220e-05, -4.69571424e-04, -2.55872028e-04],\n",
       "          [-4.14294272e-04, -5.24764465e-04, -2.09306413e-04],\n",
       "          [ 5.66197527e-04,  1.15438555e-04, -2.17951837e-04],\n",
       "          [ 5.04118141e-04,  2.53206365e-04,  1.64780812e-04],\n",
       "          [ 6.93255828e-04,  1.33581822e-04, -1.62079412e-04],\n",
       "          [ 4.64168973e-04,  1.21373964e-04, -1.63872612e-05],\n",
       "          [ 2.04363601e-04,  2.46141510e-04, -5.35236585e-04],\n",
       "          [ 2.05342096e-04,  4.87102788e-04, -2.44449514e-04],\n",
       "          [ 4.89634881e-05,  1.94475588e-04, -7.29291551e-04],\n",
       "          [ 1.09334674e-04,  9.18081010e-05, -4.94302494e-04],\n",
       "          [-3.93634673e-04, -7.72437369e-05, -2.94247048e-04],\n",
       "          [-3.41653551e-04, -1.67295599e-04, -3.43687186e-04],\n",
       "          [-4.24431933e-04,  1.10720181e-04,  7.76921962e-05],\n",
       "          [-1.87887480e-04,  1.33077550e-05,  2.91893351e-04],\n",
       "          [-3.65663456e-04,  1.76247011e-05, -4.02497439e-04],\n",
       "          [-6.49408216e-05, -1.28202964e-04,  4.23906401e-05],\n",
       "          [ 1.37623703e-04, -2.19512030e-04,  9.12757808e-06],\n",
       "          [-3.99317311e-05,  8.25541694e-05,  4.54237705e-04],\n",
       "          [-6.81990067e-05,  1.35476429e-04,  3.00901035e-04],\n",
       "          [-5.75526125e-05,  5.50765270e-05,  3.35019718e-04],\n",
       "          [ 3.92351491e-05,  3.30035700e-05,  4.51296878e-04],\n",
       "          [ 1.69243734e-04, -8.13910195e-05,  3.11521749e-04],\n",
       "          [-4.27224496e-04,  3.35365213e-04,  5.54067598e-04],\n",
       "          [-2.36645891e-05,  7.53263382e-05,  5.04262020e-04],\n",
       "          [-1.37826111e-05, -3.26986923e-04, -4.11644247e-04],\n",
       "          [-1.04159640e-04, -1.65706922e-04, -3.35718252e-04],\n",
       "          [ 2.36876673e-04, -3.53787417e-04, -5.63815023e-04],\n",
       "          [ 2.83276568e-04, -1.43896794e-04, -2.98098338e-04],\n",
       "          [ 3.36664446e-04, -3.38723025e-04, -2.16723868e-04],\n",
       "          [-8.63905775e-06, -4.68550116e-05, -5.19540876e-04],\n",
       "          [-2.01784413e-04,  1.06958556e-04, -4.39574880e-04],\n",
       "          [-5.28908772e-04, -1.74434724e-04, -2.63140945e-04],\n",
       "          [ 4.23385145e-04,  4.07802145e-04, -1.19923084e-04],\n",
       "          [ 5.81709143e-04,  1.34425735e-04,  8.87577781e-05],\n",
       "          [ 5.25033429e-04,  4.68433026e-04, -1.54527770e-04],\n",
       "          [ 3.99658398e-04,  2.59153683e-04, -5.87297711e-05],\n",
       "          [-5.19710414e-05,  5.77828345e-04, -3.57131903e-06],\n",
       "          [ 1.62478906e-04,  4.55458052e-04,  2.55547403e-04],\n",
       "          [-3.24971724e-04,  6.91328669e-04, -3.26300839e-05],\n",
       "          [-1.65201406e-04,  4.87937129e-04, -6.93692317e-05],\n",
       "          [-5.09336864e-04,  4.20556794e-05,  3.30529047e-05],\n",
       "          [-5.40139448e-04,  5.18141760e-05, -9.06801094e-05],\n",
       "          [-2.92938876e-04, -2.07854075e-04,  3.08901304e-04],\n",
       "          [-1.11795607e-04, -2.35703305e-04,  5.08938706e-04],\n",
       "          [-4.09067967e-04,  3.43037364e-04,  5.49730875e-04],\n",
       "          [-1.84489624e-04,  1.68788674e-04,  4.03866422e-04],\n",
       "          [-1.91354692e-04,  2.52743243e-04, -5.79297377e-05],\n",
       "          [-2.72097769e-04,  2.39669012e-04,  2.20892655e-04],\n",
       "          [-1.89112313e-04,  1.18988313e-04,  9.32979564e-05],\n",
       "          [-1.26899033e-04,  9.23012454e-05,  2.39827357e-04],\n",
       "          [ 2.44219655e-05, -1.80545117e-04, -3.56314860e-05],\n",
       "          [ 3.34508354e-05, -7.45986717e-05, -2.55930353e-04],\n",
       "          [-6.31331749e-05, -5.05184357e-04,  4.04672595e-04],\n",
       "          [ 5.94467379e-05, -4.80326784e-04,  4.15638089e-05]])}},\n",
       " 'stdout': '144188828',\n",
       " 'stderr': None,\n",
       " 'error': None,\n",
       " 'manager_name': 'LilacQM-lt19-3f3ffc75-08c4-4639-9bc4-e95dbb8002a3',\n",
       " 'status': <RecordStatusEnum.complete: 'COMPLETE'>,\n",
       " 'modified_on': datetime.datetime(2022, 9, 7, 0, 46, 35, 513400),\n",
       " 'created_on': datetime.datetime(2022, 7, 15, 3, 7, 27, 752940),\n",
       " 'provenance': {'creator': 'Psi4',\n",
       "  'version': '1.4.1',\n",
       "  'routine': 'psi4.schema_runner.run_qcschema',\n",
       "  'wall_time': 5137.838227987289,\n",
       "  'nthreads': 10,\n",
       "  'qcengine_version': 'v0.22.0',\n",
       "  'username': 'dotson',\n",
       "  'module': 'scf',\n",
       "  'hostname': 'lt19',\n",
       "  'memory': 70.0,\n",
       "  'cpu': 'Intel(R) Xeon(R) CPU E5-2697 v4 @ 2.30GHz'},\n",
       " 'driver': <DriverEnum.gradient: 'gradient'>,\n",
       " 'method': 'wb97m-d3bj',\n",
       " 'molecule': '102478519',\n",
       " 'basis': 'def2-tzvppd',\n",
       " 'keywords': '35',\n",
       " 'return_result': array([[ 1.91295830e-03, -6.71826246e-03,  1.88466958e-03],\n",
       "        [ 1.13772626e-03, -1.89457509e-03,  2.11755473e-03],\n",
       "        [ 3.72065230e-03,  3.73965495e-03,  6.34790360e-03],\n",
       "        [ 1.24143052e-03,  2.70248852e-04,  1.83415117e-03],\n",
       "        [-1.01028124e-03, -6.30830542e-04,  4.59224101e-03],\n",
       "        [-1.43559890e-02,  6.35887486e-03, -1.15212736e-02],\n",
       "        [-2.91959360e-03,  3.26887847e-03, -8.18032619e-05],\n",
       "        [-5.76991445e-03, -1.53855912e-02, -1.66186283e-03],\n",
       "        [ 5.64706323e-03, -4.49999695e-03,  3.84139945e-03],\n",
       "        [ 4.31734407e-04,  1.42844213e-03, -3.42305179e-04],\n",
       "        [ 5.11909147e-03,  4.97864419e-03, -1.54425741e-03],\n",
       "        [-7.98518210e-04,  2.26988094e-03, -1.05114214e-03],\n",
       "        [ 5.14782015e-04, -4.60431312e-04,  1.87559336e-03],\n",
       "        [ 3.55849396e-03, -1.66470849e-03,  1.93798511e-03],\n",
       "        [ 3.47021755e-03, -2.15591187e-04, -1.31360605e-02],\n",
       "        [-3.14669966e-03,  1.80196626e-03,  1.15129425e-03],\n",
       "        [ 1.70751111e-03, -3.39274560e-03, -1.09588671e-03],\n",
       "        [ 2.30896371e-03, -3.82280726e-03, -8.38414960e-03],\n",
       "        [-8.84479530e-03,  1.25693727e-02, -7.25740595e-03],\n",
       "        [ 2.74135629e-02, -1.51421048e-02,  3.60157299e-02],\n",
       "        [-1.76027298e-02,  1.09957081e-02, -1.15199811e-02],\n",
       "        [-1.26875066e-02,  6.49852660e-03, -1.85656638e-02],\n",
       "        [-3.55404608e-03,  1.33813018e-02,  3.40518224e-02],\n",
       "        [ 1.55059797e-02, -2.46763172e-02, -3.63671387e-02],\n",
       "        [ 7.20241472e-03, -5.45849074e-03,  6.05762679e-03],\n",
       "        [-6.12387399e-03,  3.88125118e-03, -8.16226990e-03],\n",
       "        [-1.12117572e-02,  1.11567446e-02,  4.93892333e-03],\n",
       "        [ 1.19281500e-03, -6.53117019e-04,  1.06409955e-03],\n",
       "        [ 3.49423036e-03, -4.11098671e-03,  2.79949336e-03],\n",
       "        [ 2.79961661e-03,  3.51625991e-03,  6.79075017e-03],\n",
       "        [-5.42253665e-03,  4.42311296e-03, -3.63026854e-03],\n",
       "        [-1.14472216e-03,  3.94687288e-04, -2.05099297e-03],\n",
       "        [ 1.69471717e-02, -8.43094444e-03,  9.86552660e-04],\n",
       "        [-2.70405238e-03, -3.01943302e-03, -2.78961547e-03],\n",
       "        [ 2.91534089e-03,  4.45034539e-03,  3.61376614e-03],\n",
       "        [-1.51470148e-02,  8.15142036e-04,  9.64994451e-03],\n",
       "        [ 1.33240835e-03, -1.26351401e-03,  2.08312775e-03],\n",
       "        [-5.57722672e-03, -6.37677460e-03, -1.48942336e-02],\n",
       "        [ 1.10591037e-02, -4.37854298e-03, -1.37687098e-03],\n",
       "        [-7.97391521e-04,  9.49657394e-04, -1.01931101e-03],\n",
       "        [ 2.20522613e-03,  4.85330457e-03,  1.41608052e-03],\n",
       "        [-6.87857561e-04,  1.04870297e-03,  1.48781119e-03],\n",
       "        [ 4.75335428e-04, -5.88796154e-04, -4.69150626e-03],\n",
       "        [ 4.50140600e-03, -1.65580542e-04, -2.23725014e-03],\n",
       "        [-5.32148902e-03,  1.15782154e-02, -3.56989073e-03],\n",
       "        [-1.03636476e-03, -5.78270732e-04,  2.14712870e-03],\n",
       "        [-1.41841721e-03, -4.52011269e-03, -2.95271112e-03],\n",
       "        [-2.53299204e-03,  4.82997553e-03, -1.67843216e-03],\n",
       "        [-6.22580097e-03,  1.19294746e-02,  1.93828953e-02],\n",
       "        [ 2.13095359e-02, -2.83958528e-02, -2.41982947e-02],\n",
       "        [-9.68271406e-03,  9.71241438e-03,  2.32952132e-02],\n",
       "        [-1.16002765e-02,  1.68318530e-02,  1.07730819e-02],\n",
       "        [ 1.75960267e-02, -3.46513295e-02,  2.02707202e-02],\n",
       "        [-1.10065698e-02,  2.46385520e-02, -3.55874065e-02],\n",
       "        [ 1.23894521e-04,  2.70996584e-03, -3.38297402e-03],\n",
       "        [-1.58441148e-03,  3.47563110e-03,  4.92367891e-03],\n",
       "        [-3.30471235e-03, -7.68293908e-05,  2.07320201e-02],\n",
       "        [ 4.92566201e-04,  7.83361102e-04, -1.32912689e-03],\n",
       "        [ 4.54366918e-04, -1.16477775e-03, -1.31338291e-02],\n",
       "        [ 5.58912986e-03, -7.26868893e-03,  1.26506959e-03]]),\n",
       " 'properties': {'calcinfo_nbasis': 1730,\n",
       "  'calcinfo_nmo': 1730,\n",
       "  'calcinfo_nalpha': 128,\n",
       "  'calcinfo_nbeta': 128,\n",
       "  'calcinfo_natom': 60,\n",
       "  'nuclear_repulsion_energy': 3602.9164088388934,\n",
       "  'return_energy': -1783.561406822387,\n",
       "  'scf_one_electron_energy': -9603.994586769557,\n",
       "  'scf_two_electron_energy': 4385.402848542629,\n",
       "  'scf_xc_energy': -167.77883413435194,\n",
       "  'scf_dispersion_correction_energy': -0.1072433,\n",
       "  'scf_dipole_moment': array([ 5.38356886, -2.55092006,  2.36496382]),\n",
       "  'scf_total_energy': -1783.561406822387,\n",
       "  'scf_iterations': 13},\n",
       " 'wavefunction': None,\n",
       " 'wavefunction_data_id': None}"
      ]
     },
     "execution_count": 31,
     "metadata": {},
     "output_type": "execute_result"
    }
   ],
   "source": [
    "rna_records.record[0].dict()\n",
    "#rna_records.iloc[0].record.dict()"
   ]
  },
  {
   "cell_type": "code",
   "execution_count": 32,
   "id": "b05037c4-9896-455b-8df1-c8d74905c155",
   "metadata": {},
   "outputs": [
    {
     "name": "stdout",
     "output_type": "stream",
     "text": [
      "records:  4489\n",
      "entries:  4489\n",
      "mols:     4489\n"
     ]
    }
   ],
   "source": [
    "print(\"records: \", len(rna_records))\n",
    "print(\"entries: \", len(rna.get_entries()))\n",
    "print(\"mols:    \", len(rna.get_molecules()))"
   ]
  },
  {
   "cell_type": "code",
   "execution_count": 33,
   "id": "26bc7d29-ec7f-49bf-93da-00a2cc9a943d",
   "metadata": {},
   "outputs": [
    {
     "data": {
      "application/vnd.jupyter.widget-view+json": {
       "model_id": "46c87435d68b4e56b3ed8b1d13c2b71e",
       "version_major": 2,
       "version_minor": 0
      },
      "text/plain": [
       "NGLWidget()"
      ]
     },
     "metadata": {},
     "output_type": "display_data"
    }
   ],
   "source": [
    "mol = client.query_molecules(rna_records.iloc[i].record.molecule)[0]\n",
    "mol"
   ]
  },
  {
   "cell_type": "code",
   "execution_count": 34,
   "id": "31937c87-7781-4917-b936-91ef772bca1b",
   "metadata": {},
   "outputs": [
    {
     "data": {
      "text/plain": [
       "'102478398'"
      ]
     },
     "execution_count": 34,
     "metadata": {},
     "output_type": "execute_result"
    }
   ],
   "source": [
    "mol.id"
   ]
  },
  {
   "cell_type": "markdown",
   "id": "c15450de-0e50-4fe9-a02d-d567a4be09aa",
   "metadata": {},
   "source": [
    "### SPICE v1.0\n",
    "https://github.com/openmm/spice-dataset/blob/1.0/downloader/config.yaml"
   ]
  },
  {
   "cell_type": "code",
   "execution_count": 35,
   "id": "28eff649-f91e-4dbc-a5cc-c8d84ad44008",
   "metadata": {},
   "outputs": [],
   "source": [
    "subsets = [  \n",
    "    'SPICE Solvated Amino Acids Single Points Dataset v1.1',\n",
    "    'SPICE Dipeptides Single Points Dataset v1.2',\n",
    "    'SPICE DES Monomers Single Points Dataset v1.1',\n",
    "    'SPICE DES370K Single Points Dataset v1.0',\n",
    "    'SPICE DES370K Single Points Dataset Supplement v1.0',\n",
    "    'SPICE PubChem Set 1 Single Points Dataset v1.2',\n",
    "    'SPICE PubChem Set 2 Single Points Dataset v1.2',\n",
    "    'SPICE PubChem Set 3 Single Points Dataset v1.2',\n",
    "    'SPICE PubChem Set 4 Single Points Dataset v1.2',\n",
    "    'SPICE PubChem Set 5 Single Points Dataset v1.2',\n",
    "    'SPICE PubChem Set 6 Single Points Dataset v1.2',\n",
    "    'SPICE Ion Pairs Single Points Dataset v1.1'\n",
    "]"
   ]
  },
  {
   "cell_type": "code",
   "execution_count": 36,
   "id": "8cbd0431-b0dc-4d59-b858-2212b745e6e6",
   "metadata": {},
   "outputs": [],
   "source": [
    "c = client.get_collection('Dataset', 'SPICE PubChem Set 1 Single Points Dataset v1.2')"
   ]
  },
  {
   "cell_type": "code",
   "execution_count": 37,
   "id": "be7a6fec-b894-4b52-b0c9-f3468ad368b4",
   "metadata": {},
   "outputs": [
    {
     "data": {
      "text/html": [
       "<div>\n",
       "<style scoped>\n",
       "    .dataframe tbody tr th:only-of-type {\n",
       "        vertical-align: middle;\n",
       "    }\n",
       "\n",
       "    .dataframe tbody tr th {\n",
       "        vertical-align: top;\n",
       "    }\n",
       "\n",
       "    .dataframe thead th {\n",
       "        text-align: right;\n",
       "    }\n",
       "</style>\n",
       "<table border=\"1\" class=\"dataframe\">\n",
       "  <thead>\n",
       "    <tr style=\"text-align: right;\">\n",
       "      <th></th>\n",
       "      <th>driver</th>\n",
       "      <th>program</th>\n",
       "      <th>method</th>\n",
       "      <th>basis</th>\n",
       "      <th>keywords</th>\n",
       "      <th>name</th>\n",
       "    </tr>\n",
       "  </thead>\n",
       "  <tbody>\n",
       "    <tr>\n",
       "      <th>0</th>\n",
       "      <td>gradient</td>\n",
       "      <td>psi4</td>\n",
       "      <td>wb97m-d3bj</td>\n",
       "      <td>def2-tzvppd</td>\n",
       "      <td>spice_default</td>\n",
       "      <td>WB97M-D3BJ/def2-tzvppd-spice_default</td>\n",
       "    </tr>\n",
       "    <tr>\n",
       "      <th>2</th>\n",
       "      <td>gradient</td>\n",
       "      <td>psi4</td>\n",
       "      <td>b3lyp</td>\n",
       "      <td>dzvp</td>\n",
       "      <td>openff-default</td>\n",
       "      <td>B3LYP/dzvp-openff-default</td>\n",
       "    </tr>\n",
       "    <tr>\n",
       "      <th>3</th>\n",
       "      <td>gradient</td>\n",
       "      <td>psi4</td>\n",
       "      <td>b3lyp-d3bj</td>\n",
       "      <td>dzvp</td>\n",
       "      <td>openff-default</td>\n",
       "      <td>B3LYP-D3BJ/dzvp-openff-default</td>\n",
       "    </tr>\n",
       "  </tbody>\n",
       "</table>\n",
       "</div>"
      ],
      "text/plain": [
       "     driver program      method        basis        keywords  \\\n",
       "0  gradient    psi4  wb97m-d3bj  def2-tzvppd   spice_default   \n",
       "2  gradient    psi4       b3lyp         dzvp  openff-default   \n",
       "3  gradient    psi4  b3lyp-d3bj         dzvp  openff-default   \n",
       "\n",
       "                                   name  \n",
       "0  WB97M-D3BJ/def2-tzvppd-spice_default  \n",
       "2             B3LYP/dzvp-openff-default  \n",
       "3        B3LYP-D3BJ/dzvp-openff-default  "
      ]
     },
     "execution_count": 37,
     "metadata": {},
     "output_type": "execute_result"
    }
   ],
   "source": [
    "c.list_records()"
   ]
  },
  {
   "cell_type": "code",
   "execution_count": 38,
   "id": "4f7c34ab-446d-4e70-bd20-0264c22978db",
   "metadata": {},
   "outputs": [
    {
     "name": "stdout",
     "output_type": "stream",
     "text": [
      "b3lyp-d3bj dzvp psi4 openff-default\n"
     ]
    }
   ],
   "source": [
    "method = c.list_records()[\"method\"][3]\n",
    "basis = c.list_records()[\"basis\"][3]\n",
    "program = c.list_records()[\"program\"][3]\n",
    "keywords = c.list_records()[\"keywords\"][3]\n",
    "print(method, basis, program, keywords)"
   ]
  },
  {
   "cell_type": "raw",
   "id": "bc820041-d011-42be-8bac-07b571b64857",
   "metadata": {},
   "source": [
    "recs_default = c.get_records(method='b3lyp-d3bj', basis='dzvp', program='psi4', keywords='openff-default')\n",
    "print(\"length of dataframe\", len(recs_default), \"\\n\", \"No. of records in each: \",  len(recs_default[0]), len(recs_default[1]))"
   ]
  },
  {
   "cell_type": "raw",
   "id": "289ccbe0-86a5-4e3c-b9f0-6ebf418561ce",
   "metadata": {},
   "source": [
    "# DO NOT RUN! THIS WILL TAKE VERY LONG TIME!!\n",
    "\n",
    "for subset in subsets:\n",
    "    c = client.get_collection('Dataset', subset)\n",
    "    print(c.name)\n",
    "    \n",
    "    \n",
    "    method = c.list_records()[\"method\"][0]\n",
    "    basis = c.list_records()[\"basis\"][0]\n",
    "    program = c.list_records()[\"program\"][0]\n",
    "    keywords = c.list_records()[\"keywords\"][0]\n",
    "    print(method, basis, program, keywords)\n",
    "    \n",
    "    recs = c.get_records(method=method, basis=basis, program=program, keywords=keywords)\n",
    "    print(\"records: \", len(recs))\n",
    "    print(\"entries: \", len(c.get_entries()))\n",
    "    print(\"mols:    \", len(c.get_molecules()))\n",
    "    print(\"============\")"
   ]
  },
  {
   "cell_type": "markdown",
   "id": "d8d0ed91-be0a-4525-9a1e-ca5a1cbf3f42",
   "metadata": {},
   "source": [
    "### Pepconf Optimizationd dataset"
   ]
  },
  {
   "cell_type": "code",
   "execution_count": 39,
   "id": "607c23d8-d373-4cad-8d53-785a81e4a529",
   "metadata": {},
   "outputs": [],
   "source": [
    "openff_pepconf_opt = client.get_collection('OptimizationDataset', 'OpenFF PEPCONF OptimizationDataset v1.0')"
   ]
  },
  {
   "cell_type": "code",
   "execution_count": 40,
   "id": "d7d49b11-f6d7-4e30-8613-9c73b0e704c4",
   "metadata": {},
   "outputs": [
    {
     "data": {
      "text/html": [
       "<div>\n",
       "<style scoped>\n",
       "    .dataframe tbody tr th:only-of-type {\n",
       "        vertical-align: middle;\n",
       "    }\n",
       "\n",
       "    .dataframe tbody tr th {\n",
       "        vertical-align: top;\n",
       "    }\n",
       "\n",
       "    .dataframe thead th {\n",
       "        text-align: right;\n",
       "    }\n",
       "</style>\n",
       "<table border=\"1\" class=\"dataframe\">\n",
       "  <thead>\n",
       "    <tr style=\"text-align: right;\">\n",
       "      <th></th>\n",
       "      <th>Description</th>\n",
       "    </tr>\n",
       "    <tr>\n",
       "      <th>Name</th>\n",
       "      <th></th>\n",
       "    </tr>\n",
       "  </thead>\n",
       "  <tbody>\n",
       "    <tr>\n",
       "      <th>default</th>\n",
       "      <td>Standard OpenFF optimization quantum chemistry...</td>\n",
       "    </tr>\n",
       "    <tr>\n",
       "      <th>ani2x-qm</th>\n",
       "      <td>QM optimization using the method/basis on whic...</td>\n",
       "    </tr>\n",
       "    <tr>\n",
       "      <th>default-dlc</th>\n",
       "      <td>Standard OpenFF optimization quantum chemistry...</td>\n",
       "    </tr>\n",
       "  </tbody>\n",
       "</table>\n",
       "</div>"
      ],
      "text/plain": [
       "                                                   Description\n",
       "Name                                                          \n",
       "default      Standard OpenFF optimization quantum chemistry...\n",
       "ani2x-qm     QM optimization using the method/basis on whic...\n",
       "default-dlc  Standard OpenFF optimization quantum chemistry..."
      ]
     },
     "execution_count": 40,
     "metadata": {},
     "output_type": "execute_result"
    }
   ],
   "source": [
    "openff_pepconf_opt.list_specifications()"
   ]
  },
  {
   "cell_type": "code",
   "execution_count": 41,
   "id": "c7382875-d129-4e83-a7a8-fbbce9b67ce1",
   "metadata": {},
   "outputs": [],
   "source": [
    "record_names = list(openff_pepconf_opt.data.records)"
   ]
  },
  {
   "cell_type": "code",
   "execution_count": 42,
   "id": "556bfec6-6099-4e02-a634-cc8d070192fd",
   "metadata": {
    "scrolled": true,
    "tags": []
   },
   "outputs": [
    {
     "data": {
      "text/plain": [
       "['cc(=o)n[c@@h](ccc(=o)[o-])c(=o)n[c@@h](cc1ccccc1)c(n)=o-0',\n",
       " 'cc(=o)n[c@@h](ccc(=o)[o-])c(=o)n[c@@h](cc1ccccc1)c(n)=o-1',\n",
       " 'cc(=o)n[c@@h](co)c(=o)n[c@@h](co)c(n)=o-0',\n",
       " 'cc[c@h](c)[c@h](nc(c)=o)c(=o)n[c@@h](cc1ccccc1)c(n)=o-0',\n",
       " 'cc[c@h](c)[c@h](nc(c)=o)c(=o)n[c@@h](cc1ccccc1)c(n)=o-1',\n",
       " 'cc(=o)n[c@@h](cc1c[nh]c2ccccc12)c(=o)n[c@@h](cc1ccc(o)cc1)c(n)=o-0',\n",
       " 'cc(=o)n[c@@h](cc1c[nh]c2ccccc12)c(=o)n[c@@h](cc1ccc(o)cc1)c(n)=o-1',\n",
       " 'cc(=o)n[c@@h](cc1c[nh]c2ccccc12)c(=o)n[c@@h](cc1ccc(o)cc1)c(n)=o-2',\n",
       " 'cc(=o)n[c@@h](cc1c[nh]c2ccccc12)c(=o)n[c@@h](cc1ccc(o)cc1)c(n)=o-3',\n",
       " 'cc(=o)n[c@@h](cccc[nh3+])c(=o)n[c@@h](cc1c[nh]c2ccccc12)c(n)=o-0',\n",
       " 'cc(=o)n[c@@h](cccc[nh3+])c(=o)n[c@@h](cc1c[nh]c2ccccc12)c(n)=o-1',\n",
       " 'cc(=o)n[c@@h](cccc[nh3+])c(=o)n[c@@h](cc1c[nh]c2ccccc12)c(n)=o-2',\n",
       " 'cc(=o)n[c@@h](cccnc(n)=[nh2+])c(=o)n[c@@h](cc(c)c)c(n)=o-0',\n",
       " 'cc(=o)n[c@@h](cccnc(n)=[nh2+])c(=o)n[c@@h](cc(c)c)c(n)=o-1',\n",
       " 'cc(=o)n[c@@h](co)c(=o)n[c@h](c(n)=o)[c@@h](c)o-0',\n",
       " 'cscc[c@h](nc(=o)[c@h](cc1c[nh]cn1)nc(c)=o)c(n)=o-0',\n",
       " 'cscc[c@h](nc(=o)[c@h](cc1c[nh]cn1)nc(c)=o)c(n)=o-1',\n",
       " 'cc(=o)n[c@@h](cc1c[nh]c2ccccc12)c(=o)n[c@@h](cc1c[nh]cn1)c(n)=o-0',\n",
       " 'cc(=o)n[c@@h](cc1c[nh]c2ccccc12)c(=o)n[c@@h](cc1c[nh]cn1)c(n)=o-1',\n",
       " 'cc(=o)n[c@@h](cc1c[nh]c2ccccc12)c(=o)n[c@@h](cc1c[nh]cn1)c(n)=o-2',\n",
       " 'cc(=o)n[c@@h](cc1ccc(o)cc1)c(=o)n[c@@h](ccc(n)=o)c(n)=o-0',\n",
       " 'cc(=o)n[c@@h](cc1ccc(o)cc1)c(=o)n[c@@h](ccc(n)=o)c(n)=o-1',\n",
       " 'cc(=o)n[c@@h](cc1ccccc1)c(=o)n[c@@h](cs)c(n)=o-0',\n",
       " 'cc(=o)n[c@@h](ccc(=o)[o-])c(=o)n[c@@h](cc1c[nh]c2ccccc12)c(n)=o-0',\n",
       " 'cc(=o)n[c@@h](ccc(=o)[o-])c(=o)n[c@@h](cc1c[nh]c2ccccc12)c(n)=o-1',\n",
       " 'cc(=o)n1ccc[c@h]1c(=o)n[c@@h](cc1c[nh]c2ccccc12)c(n)=o-0',\n",
       " 'cc(=o)n1ccc[c@h]1c(=o)n[c@@h](cc1c[nh]c2ccccc12)c(n)=o-1',\n",
       " 'cc(=o)n1ccc[c@h]1c(=o)n[c@@h](cc1c[nh]c2ccccc12)c(n)=o-2',\n",
       " 'cscc[c@h](nc(=o)[c@h](cs)nc(c)=o)c(n)=o-0',\n",
       " 'cc[c@h](c)[c@h](nc(c)=o)c(=o)n[c@@h](cc1c[nh]c2ccccc12)c(n)=o-0',\n",
       " 'cc[c@h](c)[c@h](nc(c)=o)c(=o)n[c@@h](cc1c[nh]c2ccccc12)c(n)=o-1',\n",
       " 'cc[c@h](c)[c@h](nc(c)=o)c(=o)n[c@@h](cc1c[nh]c2ccccc12)c(n)=o-2',\n",
       " 'cc(=o)n[c@@h](cccnc(n)=[nh2+])c(=o)n[c@@h](cc1ccccc1)c(n)=o-0',\n",
       " 'cc(=o)n[c@@h](cccnc(n)=[nh2+])c(=o)n[c@@h](cc1ccccc1)c(n)=o-1',\n",
       " 'cc(=o)n[c@@h](cccnc(n)=[nh2+])c(=o)n[c@@h](cc1ccccc1)c(n)=o-2',\n",
       " 'cc(=o)n[c@h](c(=o)n[c@@h](cs)c(n)=o)[c@@h](c)o-0',\n",
       " 'cc[c@h](c)[c@h](nc(c)=o)c(=o)n[c@@h](cc(c)c)c(n)=o-0',\n",
       " 'cc(=o)n[c@@h](ccc(=o)[o-])c(=o)n[c@@h](cc(c)c)c(n)=o-0',\n",
       " 'cc(=o)n[c@@h](ccc(=o)[o-])c(=o)n[c@@h](cc(c)c)c(n)=o-1',\n",
       " 'cc(=o)n[c@h](c(=o)n[c@@h](ccc(n)=o)c(n)=o)c(c)c-0',\n",
       " 'cc(=o)n1ccc[c@h]1c(=o)n[c@h](c(n)=o)[c@@h](c)o-0',\n",
       " 'cc(=o)n[c@@h](cc1c[nh]c2ccccc12)c(=o)n[c@@h](cc(n)=o)c(n)=o-0',\n",
       " 'cc(=o)n[c@@h](cc1c[nh]c2ccccc12)c(=o)n[c@@h](cc(n)=o)c(n)=o-1',\n",
       " 'cc(=o)n[c@@h](cc1c[nh]c2ccccc12)c(=o)n[c@@h](cc(n)=o)c(n)=o-2',\n",
       " 'cc(=o)ncc(=o)ncc(n)=o-0',\n",
       " 'cc(=o)n[c@@h](cc1ccccc1)c(=o)n[c@@h](cc1ccc(o)cc1)c(n)=o-0',\n",
       " 'cc(=o)n[c@@h](cc1ccccc1)c(=o)n[c@@h](cc1ccc(o)cc1)c(n)=o-1',\n",
       " 'cc(=o)n[c@@h](cc1ccccc1)c(=o)n[c@@h](cc1ccc(o)cc1)c(n)=o-2',\n",
       " 'cc(=o)n[c@@h](c)c(=o)n[c@@h](cc1ccccc1)c(n)=o-0',\n",
       " 'cc(=o)n[c@@h](c)c(=o)n[c@@h](cc1ccccc1)c(n)=o-1',\n",
       " 'cc(=o)n1ccc[c@h]1c(=o)n[c@@h](co)c(n)=o-0',\n",
       " 'cc(=o)n[c@@h](cc(=o)[o-])c(=o)n[c@@h](cc1ccccc1)c(n)=o-0',\n",
       " 'cc(=o)n[c@@h](cc(=o)[o-])c(=o)n[c@@h](cc1ccccc1)c(n)=o-1',\n",
       " 'cc(=o)n[c@@h](cccc[nh3+])c(=o)n[c@@h](co)c(n)=o-0',\n",
       " 'cc(=o)n[c@@h](cc(=o)[o-])c(=o)n[c@@h](cc(c)c)c(n)=o-0',\n",
       " 'cc(=o)n[c@@h](ccc(n)=o)c(=o)n[c@@h](cs)c(n)=o-0',\n",
       " 'cc(=o)n[c@@h](cccnc(n)=[nh2+])c(=o)n[c@h](c(n)=o)[c@@h](c)o-0',\n",
       " 'cc(=o)n[c@@h](cccnc(n)=[nh2+])c(=o)n[c@h](c(n)=o)[c@@h](c)o-1',\n",
       " 'cc(=o)n[c@@h](c)c(=o)n[c@@h](cc1c[nh]c2ccccc12)c(n)=o-0',\n",
       " 'cc(=o)n[c@@h](c)c(=o)n[c@@h](cc1c[nh]c2ccccc12)c(n)=o-1',\n",
       " 'cc(=o)n[c@@h](c)c(=o)n[c@@h](cc(c)c)c(n)=o-0',\n",
       " 'cc(=o)n[c@@h](c)c(=o)n[c@@h](cc(c)c)c(n)=o-1',\n",
       " 'cc(=o)n[c@@h](cccc[nh3+])c(=o)n[c@h](c(n)=o)[c@@h](c)o-0',\n",
       " 'cc(=o)n[c@@h](cc(=o)[o-])c(=o)n[c@@h](cc1c[nh]c2ccccc12)c(n)=o-0',\n",
       " 'cc(=o)n[c@@h](cc(=o)[o-])c(=o)n[c@@h](cc1c[nh]c2ccccc12)c(n)=o-1',\n",
       " 'cc(=o)n[c@@h](cccnc(n)=[nh2+])c(=o)n[c@@h](co)c(n)=o-0',\n",
       " 'cc(=o)n[c@@h](cc1ccccc1)c(=o)n[c@@h](cc(n)=o)c(n)=o-0',\n",
       " 'cc(=o)n[c@@h](cc1ccccc1)c(=o)n[c@@h](cc(n)=o)c(n)=o-1',\n",
       " 'cc(=o)n1ccc[c@h]1c(=o)n[c@@h](cc1ccccc1)c(n)=o-0',\n",
       " 'cc(=o)n1ccc[c@h]1c(=o)n[c@@h](cc1ccccc1)c(n)=o-1',\n",
       " 'cc(=o)n[c@@h](c)c(=o)n[c@h](c(n)=o)[c@@h](c)o-0',\n",
       " 'cc(=o)n[c@@h](cccc[nh3+])c(=o)n[c@@h](cc(c)c)c(n)=o-0',\n",
       " 'cc(=o)n[c@@h](cccc[nh3+])c(=o)n[c@@h](cc(c)c)c(n)=o-1',\n",
       " 'cc(=o)n[c@@h](cccnc(n)=[nh2+])c(=o)n[c@@h](cc1c[nh]c2ccccc12)c(n)=o-0',\n",
       " 'cc(=o)n[c@@h](cccnc(n)=[nh2+])c(=o)n[c@@h](cc1c[nh]c2ccccc12)c(n)=o-1',\n",
       " 'cc(=o)n[c@@h](cccnc(n)=[nh2+])c(=o)n[c@@h](cc1c[nh]c2ccccc12)c(n)=o-2',\n",
       " 'cc(=o)n[c@@h](cccnc(n)=[nh2+])c(=o)n[c@@h](cc1c[nh]c2ccccc12)c(n)=o-3',\n",
       " 'cc(=o)n[c@@h](cccnc(n)=[nh2+])c(=o)n[c@@h](cc1c[nh]c2ccccc12)c(n)=o-4',\n",
       " 'cc(=o)n[c@h](c(=o)n[c@@h](cc(n)=o)c(n)=o)[c@@h](c)o-0',\n",
       " 'cc(=o)n[c@h](c(=o)n[c@@h](cc(n)=o)c(n)=o)[c@@h](c)o-1',\n",
       " 'cc(=o)n[c@@h](cc(=o)[o-])c(=o)n[c@@h](co)c(n)=o-0',\n",
       " 'cc(=o)n[c@@h](c)c(=o)n[c@@h](co)c(n)=o-0',\n",
       " 'cc(=o)n[c@@h](cc(=o)[o-])c(=o)n[c@h](c(n)=o)[c@@h](c)o-0',\n",
       " 'cscc[c@h](nc(=o)cnc(c)=o)c(n)=o-0',\n",
       " 'cc(=o)n[c@@h](cccc[nh3+])c(=o)n[c@@h](cc1ccccc1)c(n)=o-0',\n",
       " 'cc(=o)n[c@@h](cccc[nh3+])c(=o)n[c@@h](cc1ccccc1)c(n)=o-1',\n",
       " 'cc(=o)n[c@@h](ccc(=o)[o-])c(=o)n[c@h](c(n)=o)[c@@h](c)o-0',\n",
       " 'cc[c@h](c)[c@h](nc(c)=o)c(=o)n[c@h](c(n)=o)[c@@h](c)o-0',\n",
       " 'cc[c@h](c)[c@h](nc(c)=o)c(=o)n[c@h](c(n)=o)[c@@h](c)o-1',\n",
       " 'cc(=o)n[c@@h](ccc(=o)[o-])c(=o)n[c@@h](co)c(n)=o-0',\n",
       " 'cscc[c@h](nc(=o)[c@h](cc(c)c)nc(c)=o)c(n)=o-0',\n",
       " 'cscc[c@h](nc(=o)[c@h](cc(c)c)nc(c)=o)c(n)=o-1',\n",
       " 'cc[c@h](c)[c@h](nc(c)=o)c(=o)n[c@@h](co)c(n)=o-0',\n",
       " 'cc(=o)n[c@@h](cc1ccccc1)c(=o)n[c@@h](cc1c[nh]cn1)c(n)=o-0',\n",
       " 'cc(=o)n[c@@h](cc1ccccc1)c(=o)n[c@@h](cc1c[nh]cn1)c(n)=o-1',\n",
       " 'cc(=o)n[c@@h](cc1c[nh]c2ccccc12)c(=o)n[c@@h](cs)c(n)=o-0',\n",
       " 'cc(=o)n[c@@h](cc1c[nh]c2ccccc12)c(=o)n[c@@h](cs)c(n)=o-1',\n",
       " 'cc(=o)n[c@@h](cc(c)c)c(=o)n[c@@h](cc1c[nh]c2ccccc12)c(n)=o-0',\n",
       " 'cc(=o)n[c@@h](cc(c)c)c(=o)n[c@@h](cc1c[nh]c2ccccc12)c(n)=o-1',\n",
       " 'cc(=o)n[c@@h](cc(c)c)c(=o)n[c@@h](cc1c[nh]c2ccccc12)c(n)=o-2',\n",
       " 'cc(=o)n[c@h](c(=o)n[c@@h](cc(n)=o)c(n)=o)c(c)c-0',\n",
       " 'cc(=o)n[c@h](c(=o)n[c@@h](cc(n)=o)c(n)=o)c(c)c-1',\n",
       " 'cc(=o)n[c@@h](cc(=o)[o-])c(=o)n[c@@h](cccc[nh3+])c(n)=o-0',\n",
       " 'cc(=o)n[c@@h](cc(=o)[o-])c(=o)n[c@@h](cccc[nh3+])c(n)=o-1',\n",
       " 'cc(=o)ncc(=o)n[c@@h](co)c(n)=o-0',\n",
       " 'cc(=o)ncc(=o)n[c@h](c(n)=o)[c@@h](c)o-0',\n",
       " 'cc(=o)n[c@@h](cc(c)c)c(=o)n[c@@h](cc(c)c)c(n)=o-0',\n",
       " 'cc(=o)n[c@@h](cc1ccc(o)cc1)c(=o)n[c@@h](cc(n)=o)c(n)=o-0',\n",
       " 'cc(=o)n[c@@h](cc1ccc(o)cc1)c(=o)n[c@@h](cc(n)=o)c(n)=o-1',\n",
       " 'cc(=o)n[c@@h](cccc[nh3+])c(=o)ncc(n)=o-0',\n",
       " 'cscc[c@h](nc(=o)[c@h](co)nc(c)=o)c(n)=o-0',\n",
       " 'cscc[c@h](nc(=o)[c@h](co)nc(c)=o)c(n)=o-1',\n",
       " 'cscc[c@h](nc(=o)[c@h](cc(=o)[o-])nc(c)=o)c(n)=o-0',\n",
       " 'cc(=o)n[c@@h](cc(c)c)c(=o)n[c@@h](cc1ccccc1)c(n)=o-0',\n",
       " 'cc(=o)n[c@@h](cc(c)c)c(=o)n[c@@h](cc1ccccc1)c(n)=o-1',\n",
       " 'cc(=o)n[c@h](c(=o)n[c@h](c(n)=o)c(c)c)c(c)c-0',\n",
       " 'cc(=o)n[c@h](c(=o)n[c@@h](cs)c(n)=o)c(c)c-0',\n",
       " 'cscc[c@h](nc(=o)[c@h](c)nc(c)=o)c(n)=o-0',\n",
       " 'cscc[c@h](nc(=o)[c@h](cc(n)=o)nc(c)=o)c(n)=o-0',\n",
       " 'cscc[c@h](nc(=o)[c@h](cc(n)=o)nc(c)=o)c(n)=o-1',\n",
       " 'cc(=o)n[c@h](c(=o)n[c@@h](ccc(n)=o)c(n)=o)[c@@h](c)o-0',\n",
       " 'cc(=o)n[c@h](c(=o)n[c@@h](ccc(n)=o)c(n)=o)[c@@h](c)o-1',\n",
       " 'cc(=o)n[c@@h](cc1ccccc1)c(=o)n[c@@h](ccc(n)=o)c(n)=o-0',\n",
       " 'cc(=o)n[c@@h](cc1ccccc1)c(=o)n[c@@h](ccc(n)=o)c(n)=o-1',\n",
       " 'cc(=o)n[c@@h](cccnc(n)=[nh2+])c(=o)ncc(n)=o-0',\n",
       " 'cscc[c@h](nc(=o)[c@h](cccc[nh3+])nc(c)=o)c(n)=o-0',\n",
       " 'cscc[c@h](nc(=o)[c@h](cccc[nh3+])nc(c)=o)c(n)=o-1',\n",
       " 'cc(=o)n[c@h](c(=o)n[c@@h](cc1ccc(o)cc1)c(n)=o)c(c)c-0',\n",
       " 'cc(=o)n[c@h](c(=o)n[c@@h](cc1ccc(o)cc1)c(n)=o)c(c)c-1',\n",
       " 'cc(=o)n[c@h](c(=o)n[c@@h](cc1ccc(o)cc1)c(n)=o)c(c)c-2',\n",
       " 'cc(=o)ncc(=o)n[c@@h](cc1ccccc1)c(n)=o-0',\n",
       " 'cc(=o)ncc(=o)n[c@@h](cc1ccccc1)c(n)=o-1',\n",
       " 'cscc[c@h](nc(=o)[c@h](cccnc(n)=[nh2+])nc(c)=o)c(n)=o-0',\n",
       " 'cscc[c@h](nc(=o)[c@h](cccnc(n)=[nh2+])nc(c)=o)c(n)=o-1',\n",
       " 'cscc[c@h](nc(=o)[c@h](cccnc(n)=[nh2+])nc(c)=o)c(n)=o-2',\n",
       " 'cscc[c@h](nc(=o)[c@h](cccnc(n)=[nh2+])nc(c)=o)c(n)=o-3',\n",
       " 'cc(=o)n[c@@h](ccc(=o)[o-])c(=o)n[c@@h](cccc[nh3+])c(n)=o-0',\n",
       " 'cc(=o)n[c@@h](ccc(=o)[o-])c(=o)n[c@@h](cccc[nh3+])c(n)=o-1',\n",
       " 'cc(=o)n[c@h](c(=o)n[c@@h](cc1c[nh]cn1)c(n)=o)c(c)c-0',\n",
       " 'cc(=o)n[c@h](c(=o)n[c@@h](cc1c[nh]cn1)c(n)=o)c(c)c-1',\n",
       " 'cc(=o)n[c@@h](cc(c)c)c(=o)n[c@h](c(n)=o)[c@@h](c)o-0',\n",
       " 'cc(=o)ncc(=o)n[c@@h](cc(c)c)c(n)=o-0',\n",
       " 'cc(=o)n[c@@h](cc1ccc(o)cc1)c(=o)n[c@@h](cc1ccc(o)cc1)c(n)=o-0',\n",
       " 'cc(=o)n[c@@h](cc1ccc(o)cc1)c(=o)n[c@@h](cc1ccc(o)cc1)c(n)=o-1',\n",
       " 'cc(=o)n[c@@h](cc1ccc(o)cc1)c(=o)n[c@@h](cc1ccc(o)cc1)c(n)=o-2',\n",
       " 'cc(=o)n[c@@h](cc1ccc(o)cc1)c(=o)n[c@@h](cc1ccc(o)cc1)c(n)=o-3',\n",
       " 'cc(=o)ncc(=o)n[c@@h](cc1c[nh]c2ccccc12)c(n)=o-0',\n",
       " 'cc(=o)ncc(=o)n[c@@h](cc1c[nh]c2ccccc12)c(n)=o-1',\n",
       " 'cc(=o)n[c@@h](cc(c)c)c(=o)n[c@@h](co)c(n)=o-0',\n",
       " 'cc[c@h](c)[c@h](nc(c)=o)c(=o)n[c@@h](ccsc)c(n)=o-0',\n",
       " 'cc[c@h](c)[c@h](nc(c)=o)c(=o)n[c@@h](ccsc)c(n)=o-1',\n",
       " 'cc(=o)n[c@@h](cccnc(n)=[nh2+])c(=o)n[c@@h](cccc[nh3+])c(n)=o-0',\n",
       " 'cc(=o)n[c@@h](cccnc(n)=[nh2+])c(=o)n[c@@h](cccc[nh3+])c(n)=o-1',\n",
       " 'cc(=o)n[c@@h](cccnc(n)=[nh2+])c(=o)n[c@@h](cccc[nh3+])c(n)=o-2',\n",
       " 'cscc[c@h](nc(=o)[c@@h]1cccn1c(c)=o)c(n)=o-0',\n",
       " 'cscc[c@h](nc(=o)[c@@h]1cccn1c(c)=o)c(n)=o-1',\n",
       " 'cscc[c@h](nc(=o)[c@h](ccc(=o)[o-])nc(c)=o)c(n)=o-0',\n",
       " 'cscc[c@h](nc(=o)[c@h](ccc(=o)[o-])nc(c)=o)c(n)=o-1',\n",
       " 'cc(=o)n[c@@h](cc1ccc(o)cc1)c(=o)n[c@@h](cc1c[nh]cn1)c(n)=o-0',\n",
       " 'cc(=o)n[c@@h](cc1ccc(o)cc1)c(=o)n[c@@h](cc1c[nh]cn1)c(n)=o-1',\n",
       " 'cc(=o)n[c@@h](cc1ccc(o)cc1)c(=o)n[c@@h](cc1c[nh]cn1)c(n)=o-2',\n",
       " 'cc(=o)n[c@@h](cc1ccc(o)cc1)c(=o)n[c@@h](cc1c[nh]cn1)c(n)=o-3',\n",
       " 'cc(=o)n[c@@h](ccc(n)=o)c(=o)n[c@@h](ccc(n)=o)c(n)=o-0',\n",
       " 'cc(=o)n[c@@h](ccc(n)=o)c(=o)n[c@@h](ccc(n)=o)c(n)=o-1',\n",
       " 'cc(=o)n[c@@h](cc1c[nh]c2ccccc12)c(=o)n[c@@h](ccc(n)=o)c(n)=o-0',\n",
       " 'cc(=o)n[c@@h](cc1c[nh]c2ccccc12)c(=o)n[c@@h](ccc(n)=o)c(n)=o-1',\n",
       " 'cc(=o)n[c@@h](cc1c[nh]c2ccccc12)c(=o)n[c@@h](ccc(n)=o)c(n)=o-2',\n",
       " 'cc(=o)n[c@@h](cc1ccc(o)cc1)c(=o)n[c@@h](cs)c(n)=o-0',\n",
       " 'cc(=o)n[c@@h](ccc(=o)[o-])c(=o)ncc(n)=o-0',\n",
       " 'cc(=o)n[c@@h](cc1c[nh]cn1)c(=o)n[c@h](c(n)=o)[c@@h](c)o-0',\n",
       " 'cc(=o)n[c@@h](cc1c[nh]cn1)c(=o)n[c@@h](co)c(n)=o-0',\n",
       " 'cc(=o)n[c@@h](cc(=o)[o-])c(=o)ncc(n)=o-0',\n",
       " 'cc(=o)n[c@@h](c)c(=o)ncc(n)=o-0',\n",
       " 'cc(=o)n[c@@h](cccc[nh3+])c(=o)n[c@@h](cccc[nh3+])c(n)=o-0',\n",
       " 'cc(=o)n[c@@h](cccc[nh3+])c(=o)n[c@@h](cccc[nh3+])c(n)=o-1',\n",
       " 'cc[c@h](c)[c@h](nc(=o)[c@h](cc(=o)[o-])nc(c)=o)c(n)=o-0',\n",
       " 'cc[c@h](c)[c@h](nc(=o)[c@h](cc(=o)[o-])nc(c)=o)c(n)=o-1',\n",
       " 'cc(=o)n[c@@h](ccc(=o)[o-])c(=o)n[c@@h](ccc(n)=o)c(n)=o-0',\n",
       " 'cc(=o)n[c@@h](ccc(=o)[o-])c(=o)n[c@@h](ccc(n)=o)c(n)=o-1',\n",
       " 'cscc[c@h](nc(=o)[c@h](cc1c[nh]c2ccccc12)nc(c)=o)c(n)=o-0',\n",
       " 'cscc[c@h](nc(=o)[c@h](cc1c[nh]c2ccccc12)nc(c)=o)c(n)=o-1',\n",
       " 'cscc[c@h](nc(=o)[c@h](cc1c[nh]c2ccccc12)nc(c)=o)c(n)=o-2',\n",
       " 'cc(=o)n[c@@h](cc1c[nh]cn1)c(=o)n[c@@h](cc1c[nh]cn1)c(n)=o-0',\n",
       " 'cc(=o)n[c@@h](cc1c[nh]cn1)c(=o)n[c@@h](cc1c[nh]cn1)c(n)=o-1',\n",
       " 'cc[c@h](c)[c@h](nc(=o)[c@h](c)nc(c)=o)c(n)=o-0',\n",
       " 'cc[c@h](c)[c@h](nc(c)=o)c(=o)n[c@@h](ccc(n)=o)c(n)=o-0',\n",
       " 'cc[c@h](c)[c@h](nc(c)=o)c(=o)n[c@@h](ccc(n)=o)c(n)=o-1',\n",
       " 'cc(=o)n[c@@h](cc(=o)[o-])c(=o)n[c@@h](c)c(n)=o-0',\n",
       " 'cc(=o)n[c@h](c(=o)n[c@@h](cc1ccccc1)c(n)=o)c(c)c-0',\n",
       " 'cc(=o)n[c@h](c(=o)n[c@@h](cc1ccccc1)c(n)=o)c(c)c-1',\n",
       " 'cc(=o)n[c@h](c(=o)n[c@@h](cc1ccccc1)c(n)=o)c(c)c-2',\n",
       " 'cc(=o)n[c@@h](cc(c)c)c(=o)n[c@h](c(n)=o)c(c)c-0',\n",
       " 'cc(=o)n[c@@h](cc(c)c)c(=o)n[c@@h](cs)c(n)=o-0',\n",
       " 'cc(=o)n[c@@h](ccc(=o)[o-])c(=o)n[c@@h](ccc(=o)[o-])c(n)=o-0',\n",
       " 'cc(=o)n[c@@h](ccc(=o)[o-])c(=o)n[c@@h](ccc(=o)[o-])c(n)=o-1',\n",
       " 'cc(=o)ncc(=o)n[c@@h](cc1ccc(o)cc1)c(n)=o-0',\n",
       " 'cc(=o)ncc(=o)n[c@@h](cc1ccc(o)cc1)c(n)=o-1',\n",
       " 'cc(=o)n[c@@h](c)c(=o)n[c@@h](c)c(n)=o-0',\n",
       " 'cc(=o)n[c@@h](cccnc(n)=[nh2+])c(=o)n[c@@h](ccc(n)=o)c(n)=o-0',\n",
       " 'cc(=o)n[c@@h](cccnc(n)=[nh2+])c(=o)n[c@@h](ccc(n)=o)c(n)=o-1',\n",
       " 'cc(=o)n[c@@h](cc(c)c)c(=o)n[c@@h](cc1ccc(o)cc1)c(n)=o-0',\n",
       " 'cc(=o)n[c@@h](cc(c)c)c(=o)n[c@@h](cc1ccc(o)cc1)c(n)=o-1',\n",
       " 'cc(=o)n[c@@h](cc(c)c)c(=o)n[c@@h](cc1ccc(o)cc1)c(n)=o-2',\n",
       " 'cc(=o)n[c@@h](cc1c[nh]cn1)c(=o)n[c@@h](cc(n)=o)c(n)=o-0',\n",
       " 'cc(=o)n[c@@h](cccc[nh3+])c(=o)n[c@@h](c)c(n)=o-0',\n",
       " 'cc(=o)n[c@@h](cc(=o)[o-])c(=o)n[c@@h](ccc(n)=o)c(n)=o-0',\n",
       " 'cc(=o)n[c@@h](cc(=o)[o-])c(=o)n[c@@h](ccc(n)=o)c(n)=o-1',\n",
       " 'cc[c@h](c)[c@h](nc(=o)[c@@h](nc(c)=o)[c@@h](c)cc)c(n)=o-0',\n",
       " 'cc(=o)n[c@@h](cs)c(=o)n[c@@h](cs)c(n)=o-0',\n",
       " 'cc(=o)ncc(=o)n[c@@h](cs)c(n)=o-0',\n",
       " 'cc(=o)ncc(=o)n[c@h](c(n)=o)c(c)c-0',\n",
       " 'cc[c@h](c)[c@h](nc(=o)[c@h](ccc(=o)[o-])nc(c)=o)c(n)=o-0',\n",
       " 'cc[c@h](c)[c@h](nc(=o)[c@h](ccc(=o)[o-])nc(c)=o)c(n)=o-1',\n",
       " 'cc(=o)n[c@@h](c)c(=o)n[c@@h](ccc(n)=o)c(n)=o-0',\n",
       " 'cc(=o)n[c@h](c(=o)n[c@h](c(n)=o)[c@@h](c)o)c(c)c-0',\n",
       " 'cc(=o)n[c@@h](cc(=o)[o-])c(=o)n[c@@h](cc(=o)[o-])c(n)=o-0',\n",
       " 'cc[c@h](c)[c@h](nc(=o)[c@h](cccnc(n)=[nh2+])nc(c)=o)c(n)=o-0',\n",
       " 'cc[c@h](c)[c@h](nc(=o)[c@h](cccnc(n)=[nh2+])nc(c)=o)c(n)=o-1',\n",
       " 'cc(=o)n[c@@h](cc(=o)[o-])c(=o)n[c@@h](ccc(=o)[o-])c(n)=o-0',\n",
       " 'cc(=o)n[c@h](c(=o)n[c@@h](co)c(n)=o)c(c)c-0',\n",
       " 'cc(=o)n[c@@h](ccc(=o)[o-])c(=o)n[c@@h](c)c(n)=o-0',\n",
       " 'cc(=o)n[c@@h](cc(c)c)c(=o)n[c@@h](cc(n)=o)c(n)=o-0',\n",
       " 'cc(=o)n[c@@h](cc(c)c)c(=o)n[c@@h](cc(n)=o)c(n)=o-1',\n",
       " 'cc(=o)n[c@h](c(=o)n[c@@h](cc1c[nh]c2ccccc12)c(n)=o)c(c)c-0',\n",
       " 'cc(=o)n[c@h](c(=o)n[c@@h](cc1c[nh]c2ccccc12)c(n)=o)c(c)c-1',\n",
       " 'cc(=o)n[c@h](c(=o)n[c@@h](cc1c[nh]c2ccccc12)c(n)=o)c(c)c-2',\n",
       " 'cc(=o)n1ccc[c@h]1c(=o)n[c@@h](ccc(n)=o)c(n)=o-0',\n",
       " 'cc(=o)n1ccc[c@h]1c(=o)n[c@@h](ccc(n)=o)c(n)=o-1',\n",
       " 'cscc[c@h](nc(=o)[c@h](ccc(n)=o)nc(c)=o)c(n)=o-0',\n",
       " 'cscc[c@h](nc(=o)[c@h](ccc(n)=o)nc(c)=o)c(n)=o-1',\n",
       " 'cc(=o)n[c@@h](cccc[nh3+])c(=o)n[c@@h](ccc(n)=o)c(n)=o-0',\n",
       " 'cc(=o)n[c@@h](cccc[nh3+])c(=o)n[c@@h](ccc(n)=o)c(n)=o-1',\n",
       " 'cc(=o)ncc(=o)n[c@@h](cc1c[nh]cn1)c(n)=o-0',\n",
       " 'cc(=o)n[c@@h](cc(c)c)c(=o)n1ccc[c@h]1c(n)=o-0',\n",
       " 'cc(=o)n[c@@h](co)c(=o)n[c@@h](ccc(n)=o)c(n)=o-0',\n",
       " 'cc(=o)ncc(=o)n1ccc[c@h]1c(n)=o-0',\n",
       " 'cc(=o)n[c@@h](cc1ccc(o)cc1)c(=o)n[c@h](c(n)=o)[c@@h](c)o-0',\n",
       " 'cscc[c@h](nc(=o)[c@h](cc1ccccc1)nc(c)=o)c(n)=o-0',\n",
       " 'cscc[c@h](nc(=o)[c@h](cc1ccccc1)nc(c)=o)c(n)=o-1',\n",
       " 'cc(=o)n[c@@h](cc(c)c)c(=o)n[c@@h](cc1c[nh]cn1)c(n)=o-0',\n",
       " 'cc(=o)n[c@@h](cc(c)c)c(=o)n[c@@h](cc1c[nh]cn1)c(n)=o-1',\n",
       " 'cc(=o)n[c@@h](cc(c)c)c(=o)n[c@@h](cc1c[nh]cn1)c(n)=o-2',\n",
       " 'cc(=o)n[c@@h](cccnc(n)=[nh2+])c(=o)n[c@@h](c)c(n)=o-0',\n",
       " 'cc(=o)n[c@@h](cc(n)=o)c(=o)n[c@@h](ccc(n)=o)c(n)=o-0',\n",
       " 'cc(=o)n[c@@h](cc(n)=o)c(=o)n[c@@h](ccc(n)=o)c(n)=o-1',\n",
       " 'cscc[c@h](nc(=o)[c@@h](nc(c)=o)[c@@h](c)o)c(n)=o-0',\n",
       " 'cscc[c@h](nc(=o)[c@@h](nc(c)=o)[c@@h](c)o)c(n)=o-1',\n",
       " 'cc(=o)n[c@@h](cc1ccc(o)cc1)c(=o)n[c@@h](co)c(n)=o-0',\n",
       " 'cc(=o)n[c@@h](cc1c[nh]cn1)c(=o)n[c@@h](cs)c(n)=o-0',\n",
       " 'cc[c@h](c)[c@h](nc(=o)[c@h](cccc[nh3+])nc(c)=o)c(n)=o-0',\n",
       " 'cc[c@h](c)[c@h](nc(=o)[c@h](cccc[nh3+])nc(c)=o)c(n)=o-1',\n",
       " 'cc(=o)ncc(=o)n[c@@h](cc(n)=o)c(n)=o-0',\n",
       " 'cc[c@h](c)[c@h](nc(c)=o)c(=o)n[c@h](c(n)=o)c(c)c-0',\n",
       " 'cc[c@h](c)[c@h](nc(c)=o)c(=o)n[c@h](c(n)=o)c(c)c-1',\n",
       " 'cc(=o)n[c@@h](cccnc(n)=[nh2+])c(=o)n[c@@h](cc(n)=o)c(n)=o-0',\n",
       " 'cc(=o)n[c@@h](cccnc(n)=[nh2+])c(=o)n[c@@h](cc(n)=o)c(n)=o-1',\n",
       " 'cc(=o)n[c@@h](cc1ccccc1)c(=o)n[c@@h](cc1c[nh]c2ccccc12)c(n)=o-0',\n",
       " 'cc(=o)n[c@@h](cc1ccccc1)c(=o)n[c@@h](cc1c[nh]c2ccccc12)c(n)=o-1',\n",
       " 'cc(=o)n[c@@h](cc1ccccc1)c(=o)n[c@@h](cc1c[nh]c2ccccc12)c(n)=o-2',\n",
       " 'cc(=o)n[c@@h](cc1ccccc1)c(=o)n[c@@h](cc1c[nh]c2ccccc12)c(n)=o-3',\n",
       " 'cc[c@h](c)[c@h](nc(=o)cnc(c)=o)c(n)=o-0',\n",
       " 'cc(=o)n[c@@h](ccc(=o)[o-])c(=o)n[c@h](c(n)=o)c(c)c-0',\n",
       " 'cc(=o)n1ccc[c@h]1c(=o)n[c@@h](cs)c(n)=o-0',\n",
       " 'cc[c@h](c)[c@h](nc(c)=o)c(=o)n1ccc[c@h]1c(n)=o-0',\n",
       " 'cc[c@h](c)[c@h](nc(c)=o)c(=o)n1ccc[c@h]1c(n)=o-1',\n",
       " 'cc(=o)n[c@@h](cccc[nh3+])c(=o)n[c@@h](cc(n)=o)c(n)=o-0',\n",
       " 'cc(=o)n1ccc[c@h]1c(=o)n1ccc[c@h]1c(n)=o-0',\n",
       " 'cc(=o)n[c@@h](ccc(=o)[o-])c(=o)n1ccc[c@h]1c(n)=o-0',\n",
       " 'cc(=o)n[c@@h](cccnc(n)=[nh2+])c(=o)n[c@h](c(n)=o)c(c)c-0',\n",
       " 'cc(=o)n[c@@h](cccnc(n)=[nh2+])c(=o)n[c@h](c(n)=o)c(c)c-1',\n",
       " 'cc(=o)n[c@@h](cccnc(n)=[nh2+])c(=o)n[c@@h](cs)c(n)=o-0',\n",
       " 'cc[c@h](c)[c@h](nc(c)=o)c(=o)n[c@@h](cc(n)=o)c(n)=o-0',\n",
       " 'cc[c@h](c)[c@h](nc(c)=o)c(=o)n[c@@h](cc(n)=o)c(n)=o-1',\n",
       " 'cc(=o)n[c@@h](cc(=o)[o-])c(=o)n[c@@h](cccnc(n)=[nh2+])c(n)=o-0',\n",
       " 'cc(=o)n[c@@h](cc(=o)[o-])c(=o)n[c@@h](cccnc(n)=[nh2+])c(n)=o-1',\n",
       " 'cc(=o)n[c@@h](cccc[nh3+])c(=o)n1ccc[c@h]1c(n)=o-0',\n",
       " 'cc(=o)n1ccc[c@h]1c(=o)n[c@@h](cc(n)=o)c(n)=o-0',\n",
       " 'cc(=o)n1ccc[c@h]1c(=o)n[c@@h](cc(n)=o)c(n)=o-1',\n",
       " 'cc(=o)n[c@@h](c)c(=o)n[c@@h](cc1ccc(o)cc1)c(n)=o-0',\n",
       " 'cc(=o)n[c@@h](c)c(=o)n[c@@h](cc1ccc(o)cc1)c(n)=o-1',\n",
       " 'cc(=o)n[c@@h](cc(=o)[o-])c(=o)n[c@@h](cc1c[nh]cn1)c(n)=o-0',\n",
       " 'cc(=o)n[c@@h](cc(=o)[o-])c(=o)n[c@@h](cc1c[nh]cn1)c(n)=o-1',\n",
       " 'cc(=o)n[c@@h](cc1ccccc1)c(=o)n[c@@h](cc1ccccc1)c(n)=o-0',\n",
       " 'cc(=o)n[c@@h](cc1ccccc1)c(=o)n[c@@h](cc1ccccc1)c(n)=o-1',\n",
       " 'cc(=o)n[c@@h](cc1ccccc1)c(=o)n[c@@h](cc1ccccc1)c(n)=o-2',\n",
       " 'cc(=o)n[c@@h](ccc(=o)[o-])c(=o)n[c@@h](cc(n)=o)c(n)=o-0',\n",
       " 'cc(=o)n[c@@h](cc(c)c)c(=o)n[c@@h](ccc(n)=o)c(n)=o-0',\n",
       " 'cc(=o)n[c@@h](cc(c)c)c(=o)n[c@@h](ccc(n)=o)c(n)=o-1',\n",
       " 'cc(=o)n[c@@h](cccnc(n)=[nh2+])c(=o)n1ccc[c@h]1c(n)=o-0',\n",
       " 'cc(=o)n[c@@h](cccnc(n)=[nh2+])c(=o)n1ccc[c@h]1c(n)=o-1',\n",
       " 'cc(=o)n[c@@h](c)c(=o)n[c@@h](cc1c[nh]cn1)c(n)=o-0',\n",
       " 'cc(=o)n[c@@h](cccc[nh3+])c(=o)n[c@@h](cs)c(n)=o-0',\n",
       " 'cc(=o)n[c@@h](cc(=o)[o-])c(=o)n[c@@h](cc1ccc(o)cc1)c(n)=o-0',\n",
       " 'cc(=o)n[c@@h](cc(=o)[o-])c(=o)n[c@@h](cc1ccc(o)cc1)c(n)=o-1',\n",
       " 'cc(=o)n[c@@h](cc(=o)[o-])c(=o)n[c@@h](cc1ccc(o)cc1)c(n)=o-2',\n",
       " 'cc(=o)n[c@@h](cc(=o)[o-])c(=o)n1ccc[c@h]1c(n)=o-0',\n",
       " 'cc(=o)ncc(=o)n[c@@h](ccc(n)=o)c(n)=o-0',\n",
       " 'cc(=o)n[c@@h](cccc[nh3+])c(=o)n[c@@h](cc1c[nh]cn1)c(n)=o-0',\n",
       " 'cc(=o)n[c@@h](cccc[nh3+])c(=o)n[c@@h](cc1c[nh]cn1)c(n)=o-1',\n",
       " 'cc(=o)n[c@@h](cccc[nh3+])c(=o)n[c@@h](cc1c[nh]cn1)c(n)=o-2',\n",
       " 'cc(=o)n[c@@h](cc(n)=o)c(=o)n[c@@h](cs)c(n)=o-0',\n",
       " 'cc(=o)n[c@@h](c)c(=o)n[c@h](c(n)=o)c(c)c-0',\n",
       " 'cc(=o)n[c@@h](cccnc(n)=[nh2+])c(=o)n[c@@h](cc1ccc(o)cc1)c(n)=o-0',\n",
       " 'cc(=o)n[c@@h](cccnc(n)=[nh2+])c(=o)n[c@@h](cc1ccc(o)cc1)c(n)=o-1',\n",
       " 'cc(=o)n[c@@h](cccnc(n)=[nh2+])c(=o)n[c@@h](cc1ccc(o)cc1)c(n)=o-2',\n",
       " 'cc(=o)n[c@@h](cc1c[nh]c2ccccc12)c(=o)n[c@@h](cc1c[nh]c2ccccc12)c(n)=o-0',\n",
       " 'cc(=o)n[c@@h](cc1c[nh]c2ccccc12)c(=o)n[c@@h](cc1c[nh]c2ccccc12)c(n)=o-1',\n",
       " 'cc(=o)n[c@@h](cc1c[nh]c2ccccc12)c(=o)n[c@@h](cc1c[nh]c2ccccc12)c(n)=o-2',\n",
       " 'cc(=o)n[c@@h](cc1c[nh]c2ccccc12)c(=o)n[c@@h](cc1c[nh]c2ccccc12)c(n)=o-3',\n",
       " 'cc(=o)n[c@@h](cccnc(n)=[nh2+])c(=o)n[c@@h](cccnc(n)=[nh2+])c(n)=o-0',\n",
       " 'cc(=o)n[c@@h](cccnc(n)=[nh2+])c(=o)n[c@@h](cccnc(n)=[nh2+])c(n)=o-1',\n",
       " 'cc(=o)n[c@@h](cccnc(n)=[nh2+])c(=o)n[c@@h](cccnc(n)=[nh2+])c(n)=o-2',\n",
       " 'cscc[c@h](nc(=o)[c@@h](nc(c)=o)c(c)c)c(n)=o-0',\n",
       " 'cscc[c@h](nc(=o)[c@@h](nc(c)=o)c(c)c)c(n)=o-1',\n",
       " 'cc(=o)n[c@@h](c)c(=o)n1ccc[c@h]1c(n)=o-0',\n",
       " 'cc(=o)n[c@@h](cc(=o)[o-])c(=o)n[c@h](c(n)=o)c(c)c-0',\n",
       " 'cc(=o)n[c@@h](co)c(=o)n[c@@h](cs)c(n)=o-0',\n",
       " 'cc(=o)n[c@@h](cccnc(n)=[nh2+])c(=o)n[c@@h](cc1c[nh]cn1)c(n)=o-0',\n",
       " 'cc(=o)n[c@@h](cccnc(n)=[nh2+])c(=o)n[c@@h](cc1c[nh]cn1)c(n)=o-1',\n",
       " 'cc(=o)n[c@@h](cccnc(n)=[nh2+])c(=o)n[c@@h](cc1c[nh]cn1)c(n)=o-2',\n",
       " 'cscc[c@h](nc(=o)[c@h](ccsc)nc(c)=o)c(n)=o-0',\n",
       " 'cc(=o)n[c@@h](ccc(=o)[o-])c(=o)n[c@@h](cc1ccc(o)cc1)c(n)=o-0',\n",
       " 'cc(=o)n[c@@h](ccc(=o)[o-])c(=o)n[c@@h](cc1ccc(o)cc1)c(n)=o-1',\n",
       " 'cc(=o)n[c@h](c(=o)n[c@h](c(n)=o)[c@@h](c)o)[c@@h](c)o-0',\n",
       " 'cc(=o)n[c@@h](cc(n)=o)c(=o)n[c@@h](cc(n)=o)c(n)=o-0',\n",
       " 'cc(=o)n[c@@h](cc(n)=o)c(=o)n[c@@h](cc(n)=o)c(n)=o-1',\n",
       " 'cc(=o)n[c@@h](c)c(=o)n[c@@h](cc(n)=o)c(n)=o-0',\n",
       " 'cc[c@h](c)[c@h](nc(c)=o)c(=o)n[c@@h](cc1ccc(o)cc1)c(n)=o-0',\n",
       " 'cc[c@h](c)[c@h](nc(c)=o)c(=o)n[c@@h](cc1ccc(o)cc1)c(n)=o-1',\n",
       " 'cc(=o)n[c@@h](cc1ccccc1)c(=o)n[c@h](c(n)=o)[c@@h](c)o-0',\n",
       " 'cc(=o)n[c@@h](cc(=o)[o-])c(=o)n[c@@h](cc(n)=o)c(n)=o-0',\n",
       " 'cc(=o)n[c@@h](co)c(=o)n[c@@h](cc(n)=o)c(n)=o-0',\n",
       " 'cc(=o)n[c@@h](ccc(=o)[o-])c(=o)n[c@@h](cc1c[nh]cn1)c(n)=o-0',\n",
       " 'cc(=o)n[c@@h](ccc(=o)[o-])c(=o)n[c@@h](cc1c[nh]cn1)c(n)=o-1',\n",
       " 'cscc[c@h](nc(=o)[c@h](cc1ccc(o)cc1)nc(c)=o)c(n)=o-0',\n",
       " 'cscc[c@h](nc(=o)[c@h](cc1ccc(o)cc1)nc(c)=o)c(n)=o-1',\n",
       " 'cscc[c@h](nc(=o)[c@h](cc1ccc(o)cc1)nc(c)=o)c(n)=o-2',\n",
       " 'cc(=o)n1ccc[c@h]1c(=o)n[c@@h](cc1c[nh]cn1)c(n)=o-0',\n",
       " 'cc(=o)n1ccc[c@h]1c(=o)n[c@@h](cc1c[nh]cn1)c(n)=o-1',\n",
       " 'cc(=o)n[c@@h](cc1c[nh]cn1)c(=o)n[c@@h](ccc(n)=o)c(n)=o-0',\n",
       " 'cc(=o)n[c@@h](cc1c[nh]cn1)c(=o)n[c@@h](ccc(n)=o)c(n)=o-1',\n",
       " 'cc[c@h](c)[c@h](nc(c)=o)c(=o)n[c@@h](cc1c[nh]cn1)c(n)=o-0',\n",
       " 'cc[c@h](c)[c@h](nc(c)=o)c(=o)n[c@@h](cc1c[nh]cn1)c(n)=o-1',\n",
       " 'cc(=o)n[c@@h](ccc(=o)[o-])c(=o)n[c@@h](cccnc(n)=[nh2+])c(n)=o-0',\n",
       " 'cc(=o)n[c@@h](ccc(=o)[o-])c(=o)n[c@@h](cccnc(n)=[nh2+])c(n)=o-1',\n",
       " 'cc(=o)n[c@@h](cc1ccccc1)c(=o)n[c@@h](co)c(n)=o-0',\n",
       " 'cc[c@h](c)[c@h](nc(c)=o)c(=o)n[c@@h](cs)c(n)=o-0',\n",
       " 'cc(=o)n1ccc[c@h]1c(=o)n[c@h](c(n)=o)c(c)c-0',\n",
       " 'cc(=o)n[c@@h](ccc(=o)[o-])c(=o)n[c@@h](cs)c(n)=o-0',\n",
       " 'cc(=o)n[c@@h](cc1c[nh]c2ccccc12)c(=o)n[c@h](c(n)=o)[c@@h](c)o-0',\n",
       " 'cc(=o)n[c@@h](cc1c[nh]c2ccccc12)c(=o)n[c@h](c(n)=o)[c@@h](c)o-1',\n",
       " 'cc(=o)n[c@@h](cccc[nh3+])c(=o)n[c@h](c(n)=o)c(c)c-0',\n",
       " 'cc(=o)n[c@@h](cc1c[nh]c2ccccc12)c(=o)n[c@@h](co)c(n)=o-0',\n",
       " 'cc(=o)n[c@@h](c)c(=o)n[c@@h](cs)c(n)=o-0',\n",
       " 'cc(=o)n[c@@h](cccc[nh3+])c(=o)n[c@@h](cc1ccc(o)cc1)c(n)=o-0',\n",
       " 'cc(=o)n[c@@h](cccc[nh3+])c(=o)n[c@@h](cc1ccc(o)cc1)c(n)=o-1',\n",
       " 'cc(=o)n[c@@h](cccc[nh3+])c(=o)n[c@@h](cc1ccc(o)cc1)c(n)=o-2',\n",
       " 'cc(=o)n[c@@h](cc(=o)[o-])c(=o)n[c@@h](cs)c(n)=o-0',\n",
       " 'cc(=o)n1ccc[c@h]1c(=o)n[c@@h](cc1ccc(o)cc1)c(n)=o-0',\n",
       " 'cc(=o)n1ccc[c@h]1c(=o)n[c@@h](cc1ccc(o)cc1)c(n)=o-1',\n",
       " 'cscc[c@h](nc(=o)[c@h](cc1c[nh]cn1)nc(c)=o)c(=o)n[c@@h](ccc(=o)o)c(n)=o-0',\n",
       " 'cscc[c@h](nc(=o)[c@h](cc1c[nh]cn1)nc(c)=o)c(=o)n[c@@h](ccc(=o)o)c(n)=o-1',\n",
       " 'cscc[c@h](nc(=o)[c@h](cc1c[nh]cn1)nc(c)=o)c(=o)n[c@@h](ccc(=o)o)c(n)=o-2',\n",
       " 'cscc[c@h](nc(=o)[c@h](cc1c[nh]cn1)nc(c)=o)c(=o)n[c@@h](ccc(=o)o)c(n)=o-3',\n",
       " 'cc(=o)n[c@@h](cc1c[nh]c2ccccc12)c(=o)n[c@@h](cc(c)c)c(=o)n[c@@h](cc1c[nh]cn1)c(n)=o-0',\n",
       " 'cc(=o)n[c@@h](cc1c[nh]c2ccccc12)c(=o)n[c@@h](cc(c)c)c(=o)n[c@@h](cc1c[nh]cn1)c(n)=o-1',\n",
       " 'cc(=o)n[c@@h](cc1c[nh]c2ccccc12)c(=o)n[c@@h](cc(c)c)c(=o)n[c@@h](cc1c[nh]cn1)c(n)=o-2',\n",
       " 'cc(=o)n[c@@h](cc1c[nh]c2ccccc12)c(=o)n[c@@h](cc(c)c)c(=o)n[c@@h](cc1c[nh]cn1)c(n)=o-3',\n",
       " 'cc(=o)n[c@@h](cc1c[nh]c2ccccc12)c(=o)n[c@@h](cc(c)c)c(=o)n[c@@h](cc1c[nh]cn1)c(n)=o-4',\n",
       " 'cc(=o)n[c@@h](cc1c[nh]c2ccccc12)c(=o)n[c@@h](cc(c)c)c(=o)n[c@@h](cc1c[nh]cn1)c(n)=o-5',\n",
       " 'cc(=o)n[c@@h](cc1c[nh]c2ccccc12)c(=o)n[c@@h](cc(c)c)c(=o)n[c@@h](cc1c[nh]cn1)c(n)=o-6',\n",
       " 'cscc[c@h](nc(=o)[c@@h]1cccn1c(c)=o)c(=o)n[c@@h](cc1c[nh]cn1)c(n)=o-0',\n",
       " 'cscc[c@h](nc(=o)[c@@h]1cccn1c(c)=o)c(=o)n[c@@h](cc1c[nh]cn1)c(n)=o-1',\n",
       " 'cscc[c@h](nc(=o)[c@@h]1cccn1c(c)=o)c(=o)n[c@@h](cc1c[nh]cn1)c(n)=o-2',\n",
       " 'cscc[c@h](nc(=o)[c@h](ccc(=o)o)nc(=o)[c@h](ccsc)nc(c)=o)c(n)=o-0',\n",
       " 'cscc[c@h](nc(=o)[c@h](ccc(=o)o)nc(=o)[c@h](ccsc)nc(c)=o)c(n)=o-1',\n",
       " 'cscc[c@h](nc(=o)[c@h](ccc(=o)o)nc(=o)[c@h](ccsc)nc(c)=o)c(n)=o-2',\n",
       " 'cscc[c@h](nc(=o)[c@h](ccc(=o)o)nc(=o)[c@h](ccsc)nc(c)=o)c(n)=o-3',\n",
       " 'cscc[c@h](nc(=o)[c@h](ccc(=o)o)nc(=o)[c@h](ccsc)nc(c)=o)c(n)=o-4',\n",
       " 'cc(=o)n[c@@h](cc(c)c)c(=o)n[c@@h](cc1ccc(o)cc1)c(=o)n[c@@h](ccc(n)=o)c(n)=o-0',\n",
       " 'cc(=o)n[c@@h](cc(c)c)c(=o)n[c@@h](cc1ccc(o)cc1)c(=o)n[c@@h](ccc(n)=o)c(n)=o-1',\n",
       " 'cc(=o)n[c@@h](cc(c)c)c(=o)n[c@@h](cc1ccc(o)cc1)c(=o)n[c@@h](ccc(n)=o)c(n)=o-2',\n",
       " 'cc(=o)n[c@@h](cc(c)c)c(=o)n[c@@h](cc1ccc(o)cc1)c(=o)n[c@@h](ccc(n)=o)c(n)=o-3',\n",
       " 'cc(=o)n[c@@h](cc(c)c)c(=o)n[c@@h](cc1ccc(o)cc1)c(=o)n[c@@h](ccc(n)=o)c(n)=o-4',\n",
       " 'cc(=o)n[c@@h](cc(c)c)c(=o)n[c@@h](cc1ccc(o)cc1)c(=o)n[c@@h](ccc(n)=o)c(n)=o-5',\n",
       " 'cscc[c@h](nc(=o)[c@h](ccsc)nc(=o)[c@h](ccc(n)=o)nc(c)=o)c(n)=o-0',\n",
       " 'cscc[c@h](nc(=o)[c@h](ccsc)nc(=o)[c@h](ccc(n)=o)nc(c)=o)c(n)=o-1',\n",
       " 'cscc[c@h](nc(=o)[c@h](ccsc)nc(=o)[c@h](ccc(n)=o)nc(c)=o)c(n)=o-2',\n",
       " 'cscc[c@h](nc(=o)[c@h](ccsc)nc(=o)[c@h](ccc(n)=o)nc(c)=o)c(n)=o-3',\n",
       " 'cc(=o)n[c@@h](cc1ccc(o)cc1)c(=o)n[c@@h](ccc(=o)o)c(=o)n[c@@h](cc1c[nh]cn1)c(n)=o-0',\n",
       " 'cc(=o)n[c@@h](cc1ccc(o)cc1)c(=o)n[c@@h](ccc(=o)o)c(=o)n[c@@h](cc1c[nh]cn1)c(n)=o-1',\n",
       " 'cc(=o)n[c@@h](cc1ccc(o)cc1)c(=o)n[c@@h](ccc(=o)o)c(=o)n[c@@h](cc1c[nh]cn1)c(n)=o-2',\n",
       " 'cc(=o)n[c@@h](cc1ccc(o)cc1)c(=o)n[c@@h](ccc(=o)o)c(=o)n[c@@h](cc1c[nh]cn1)c(n)=o-3',\n",
       " 'cc(=o)n[c@@h](cc1ccc(o)cc1)c(=o)n[c@@h](ccc(=o)o)c(=o)n[c@@h](cc1c[nh]cn1)c(n)=o-4',\n",
       " 'cc(=o)n[c@@h](cc(c)c)c(=o)n[c@@h](ccc(n)=o)c(=o)n[c@@h](cc1c[nh]cn1)c(n)=o-0',\n",
       " 'cc(=o)n[c@@h](cc(c)c)c(=o)n[c@@h](ccc(n)=o)c(=o)n[c@@h](cc1c[nh]cn1)c(n)=o-1',\n",
       " 'cc(=o)n[c@@h](cc(c)c)c(=o)n[c@@h](ccc(n)=o)c(=o)n[c@@h](cc1c[nh]cn1)c(n)=o-2',\n",
       " 'cc(=o)n[c@@h](cc1c[nh]cn1)c(=o)n[c@@h](ccc(=o)o)c(=o)n[c@@h](cc1c[nh]cn1)c(n)=o-0',\n",
       " 'cc(=o)n[c@@h](cc1c[nh]cn1)c(=o)n[c@@h](ccc(=o)o)c(=o)n[c@@h](cc1c[nh]cn1)c(n)=o-1',\n",
       " 'cc(=o)n[c@@h](cc1c[nh]cn1)c(=o)n[c@@h](ccc(=o)o)c(=o)n[c@@h](cc1c[nh]cn1)c(n)=o-2',\n",
       " 'cc(=o)n[c@@h](cc1c[nh]cn1)c(=o)n[c@@h](ccc(=o)o)c(=o)n[c@@h](cc1c[nh]cn1)c(n)=o-3',\n",
       " 'cc(=o)n[c@@h](cc1c[nh]cn1)c(=o)n[c@@h](ccc(=o)o)c(=o)n[c@@h](cc1c[nh]cn1)c(n)=o-4',\n",
       " 'cc(=o)n[c@@h](cc1c[nh]c2ccccc12)c(=o)n[c@@h](cc(c)c)c(=o)n[c@@h](cc1ccc(o)cc1)c(n)=o-0',\n",
       " 'cc(=o)n[c@@h](cc1c[nh]c2ccccc12)c(=o)n[c@@h](cc(c)c)c(=o)n[c@@h](cc1ccc(o)cc1)c(n)=o-1',\n",
       " 'cc(=o)n[c@@h](cc1c[nh]c2ccccc12)c(=o)n[c@@h](cc(c)c)c(=o)n[c@@h](cc1ccc(o)cc1)c(n)=o-2',\n",
       " 'cc(=o)n[c@@h](cc1c[nh]c2ccccc12)c(=o)n[c@@h](cc(c)c)c(=o)n[c@@h](cc1ccc(o)cc1)c(n)=o-3',\n",
       " 'cc(=o)n[c@@h](cc1c[nh]c2ccccc12)c(=o)n[c@@h](cc(c)c)c(=o)n[c@@h](cc1ccc(o)cc1)c(n)=o-4',\n",
       " 'cc(=o)n[c@@h](cc1c[nh]c2ccccc12)c(=o)n[c@@h](cc(c)c)c(=o)n[c@@h](cc1ccc(o)cc1)c(n)=o-5',\n",
       " 'cc(=o)n[c@@h](cc1c[nh]c2ccccc12)c(=o)n[c@@h](cc(c)c)c(=o)n[c@@h](cc1ccc(o)cc1)c(n)=o-6',\n",
       " 'cc(=o)n[c@@h](cc1c[nh]c2ccccc12)c(=o)n[c@@h](cc(c)c)c(=o)n[c@@h](cc1ccc(o)cc1)c(n)=o-7',\n",
       " 'cscc[c@h](nc(=o)[c@@h]1cccn1c(c)=o)c(=o)n[c@@h](cc1ccc(o)cc1)c(n)=o-0',\n",
       " 'cscc[c@h](nc(=o)[c@@h]1cccn1c(c)=o)c(=o)n[c@@h](cc1ccc(o)cc1)c(n)=o-1',\n",
       " 'cscc[c@h](nc(=o)[c@@h]1cccn1c(c)=o)c(=o)n[c@@h](cc1ccc(o)cc1)c(n)=o-2',\n",
       " 'cscc[c@h](nc(=o)[c@h](ccc(=o)o)nc(=o)[c@h](cc1c[nh]c2ccccc12)nc(c)=o)c(n)=o-0',\n",
       " 'cscc[c@h](nc(=o)[c@h](ccc(=o)o)nc(=o)[c@h](cc1c[nh]c2ccccc12)nc(c)=o)c(n)=o-1',\n",
       " 'cscc[c@h](nc(=o)[c@h](ccc(=o)o)nc(=o)[c@h](cc1c[nh]c2ccccc12)nc(c)=o)c(n)=o-2',\n",
       " 'cscc[c@h](nc(=o)[c@h](ccc(=o)o)nc(=o)[c@h](cc1c[nh]c2ccccc12)nc(c)=o)c(n)=o-3',\n",
       " 'cscc[c@h](nc(=o)[c@h](ccc(=o)o)nc(=o)[c@h](cc1c[nh]c2ccccc12)nc(c)=o)c(n)=o-4',\n",
       " 'cscc[c@h](nc(=o)[c@h](ccc(=o)o)nc(=o)[c@h](cc1c[nh]c2ccccc12)nc(c)=o)c(n)=o-5',\n",
       " 'cscc[c@h](nc(=o)[c@h](cc1ccc(o)cc1)nc(c)=o)c(=o)n[c@@h](ccc(=o)o)c(n)=o-0',\n",
       " 'cscc[c@h](nc(=o)[c@h](cc1ccc(o)cc1)nc(c)=o)c(=o)n[c@@h](ccc(=o)o)c(n)=o-1',\n",
       " 'cscc[c@h](nc(=o)[c@h](cc1ccc(o)cc1)nc(c)=o)c(=o)n[c@@h](ccc(=o)o)c(n)=o-2',\n",
       " 'cscc[c@h](nc(=o)[c@h](cc1ccc(o)cc1)nc(c)=o)c(=o)n[c@@h](ccc(=o)o)c(n)=o-3',\n",
       " 'cc(=o)n[c@@h](cc(c)c)c(=o)n[c@@h](ccc(n)=o)c(=o)n[c@@h](cc1ccc(o)cc1)c(n)=o-0',\n",
       " 'cc(=o)n[c@@h](cc(c)c)c(=o)n[c@@h](ccc(n)=o)c(=o)n[c@@h](cc1ccc(o)cc1)c(n)=o-1',\n",
       " 'cc(=o)n[c@@h](cc(c)c)c(=o)n[c@@h](ccc(n)=o)c(=o)n[c@@h](cc1ccc(o)cc1)c(n)=o-2',\n",
       " 'cc(=o)n[c@@h](cc(c)c)c(=o)n[c@@h](ccc(n)=o)c(=o)n[c@@h](cc1ccc(o)cc1)c(n)=o-3',\n",
       " 'cc(=o)n[c@@h](cc(c)c)c(=o)n[c@@h](ccc(n)=o)c(=o)n[c@@h](cc1ccc(o)cc1)c(n)=o-4',\n",
       " 'cc(=o)n[c@@h](cc(c)c)c(=o)n[c@@h](ccc(n)=o)c(=o)n[c@@h](cc1ccc(o)cc1)c(n)=o-5',\n",
       " 'cc(=o)n[c@@h](cc(c)c)c(=o)n[c@@h](ccc(n)=o)c(=o)n[c@@h](cc1ccc(o)cc1)c(n)=o-6',\n",
       " 'cc(=o)n[c@@h](cc(c)c)c(=o)n[c@@h](cc1c[nh]c2ccccc12)c(=o)n[c@@h](cc1ccc(o)cc1)c(n)=o-0',\n",
       " 'cc(=o)n[c@@h](cc(c)c)c(=o)n[c@@h](cc1c[nh]c2ccccc12)c(=o)n[c@@h](cc1ccc(o)cc1)c(n)=o-1',\n",
       " 'cc(=o)n[c@@h](cc(c)c)c(=o)n[c@@h](cc1c[nh]c2ccccc12)c(=o)n[c@@h](cc1ccc(o)cc1)c(n)=o-2',\n",
       " 'cc(=o)n[c@@h](cc(c)c)c(=o)n[c@@h](cc1c[nh]c2ccccc12)c(=o)n[c@@h](cc1ccc(o)cc1)c(n)=o-3',\n",
       " 'cc(=o)n[c@@h](cc(c)c)c(=o)n[c@@h](cc1c[nh]c2ccccc12)c(=o)n[c@@h](cc1ccc(o)cc1)c(n)=o-4',\n",
       " 'cc(=o)n[c@@h](cc(c)c)c(=o)n[c@@h](cc1c[nh]c2ccccc12)c(=o)n[c@@h](cc1ccc(o)cc1)c(n)=o-5',\n",
       " 'cc(=o)n[c@@h](cc(c)c)c(=o)n[c@@h](cc1c[nh]c2ccccc12)c(=o)n[c@@h](cc1ccc(o)cc1)c(n)=o-6',\n",
       " 'cscc[c@h](nc(c)=o)c(=o)n[c@@h](cc(c)c)c(=o)n[c@@h](cc1c[nh]cn1)c(n)=o-0',\n",
       " 'cscc[c@h](nc(c)=o)c(=o)n[c@@h](cc(c)c)c(=o)n[c@@h](cc1c[nh]cn1)c(n)=o-1',\n",
       " 'cscc[c@h](nc(c)=o)c(=o)n[c@@h](cc(c)c)c(=o)n[c@@h](cc1c[nh]cn1)c(n)=o-2',\n",
       " 'cscc[c@h](nc(c)=o)c(=o)n[c@@h](cc(c)c)c(=o)n[c@@h](cc1c[nh]cn1)c(n)=o-3',\n",
       " 'cscc[c@h](nc(c)=o)c(=o)n[c@@h](cc(c)c)c(=o)n[c@@h](cc1c[nh]cn1)c(n)=o-4',\n",
       " 'cc(=o)n[c@@h](ccc(n)=o)c(=o)n1ccc[c@h]1c(=o)n[c@@h](cc1c[nh]cn1)c(n)=o-0',\n",
       " 'cc(=o)n[c@@h](ccc(n)=o)c(=o)n1ccc[c@h]1c(=o)n[c@@h](cc1c[nh]cn1)c(n)=o-1',\n",
       " 'cc(=o)n[c@@h](ccc(n)=o)c(=o)n1ccc[c@h]1c(=o)n[c@@h](cc1c[nh]cn1)c(n)=o-2',\n",
       " 'cc(=o)n[c@@h](cc1c[nh]c2ccccc12)c(=o)n1ccc[c@h]1c(=o)n[c@@h](ccc(=o)o)c(n)=o-0',\n",
       " 'cc(=o)n[c@@h](cc1c[nh]c2ccccc12)c(=o)n1ccc[c@h]1c(=o)n[c@@h](ccc(=o)o)c(n)=o-1',\n",
       " 'cc(=o)n[c@@h](cc1c[nh]c2ccccc12)c(=o)n1ccc[c@h]1c(=o)n[c@@h](ccc(=o)o)c(n)=o-2',\n",
       " 'cc(=o)n[c@@h](cc1c[nh]c2ccccc12)c(=o)n1ccc[c@h]1c(=o)n[c@@h](ccc(=o)o)c(n)=o-3',\n",
       " 'cc(=o)n[c@@h](cc1c[nh]c2ccccc12)c(=o)n1ccc[c@h]1c(=o)n[c@@h](ccc(=o)o)c(n)=o-4',\n",
       " 'cc(=o)n[c@@h](cc1c[nh]c2ccccc12)c(=o)n1ccc[c@h]1c(=o)n[c@@h](ccc(=o)o)c(n)=o-5',\n",
       " 'cc(=o)n[c@@h](cc1c[nh]c2ccccc12)c(=o)n1ccc[c@h]1c(=o)n[c@@h](ccc(=o)o)c(n)=o-6',\n",
       " 'cc(=o)n[c@@h](ccc(n)=o)c(=o)n[c@@h](cc1c[nh]cn1)c(=o)n[c@@h](ccc(n)=o)c(n)=o-0',\n",
       " 'cc(=o)n[c@@h](ccc(n)=o)c(=o)n[c@@h](cc1c[nh]cn1)c(=o)n[c@@h](ccc(n)=o)c(n)=o-1',\n",
       " 'cc(=o)n[c@@h](ccc(n)=o)c(=o)n[c@@h](cc1c[nh]cn1)c(=o)n[c@@h](ccc(n)=o)c(n)=o-2',\n",
       " 'cc(=o)n[c@@h](ccc(n)=o)c(=o)n[c@@h](cc1c[nh]cn1)c(=o)n[c@@h](ccc(n)=o)c(n)=o-3',\n",
       " 'cscc[c@h](nc(=o)[c@h](cc1ccc(o)cc1)nc(=o)[c@h](ccc(n)=o)nc(c)=o)c(n)=o-0',\n",
       " 'cscc[c@h](nc(=o)[c@h](cc1ccc(o)cc1)nc(=o)[c@h](ccc(n)=o)nc(c)=o)c(n)=o-1',\n",
       " 'cscc[c@h](nc(=o)[c@h](cc1ccc(o)cc1)nc(=o)[c@h](ccc(n)=o)nc(c)=o)c(n)=o-2',\n",
       " 'cscc[c@h](nc(=o)[c@h](cc1ccc(o)cc1)nc(=o)[c@h](ccc(n)=o)nc(c)=o)c(n)=o-3',\n",
       " 'cc(=o)n[c@@h](cc(c)c)c(=o)n1ccc[c@h]1c(=o)n[c@@h](cc(c)c)c(n)=o-0',\n",
       " 'cc(=o)n[c@@h](cc(c)c)c(=o)n1ccc[c@h]1c(=o)n[c@@h](cc(c)c)c(n)=o-1',\n",
       " 'cc(=o)n[c@@h](cc(c)c)c(=o)n1ccc[c@h]1c(=o)n[c@@h](cc(c)c)c(n)=o-2',\n",
       " 'cc(=o)n[c@@h](cc(c)c)c(=o)n1ccc[c@h]1c(=o)n[c@@h](cc(c)c)c(n)=o-3',\n",
       " 'cc(=o)n1ccc[c@h]1c(=o)n[c@@h](cc1c[nh]c2ccccc12)c(=o)n[c@@h](ccc(n)=o)c(n)=o-0',\n",
       " 'cc(=o)n1ccc[c@h]1c(=o)n[c@@h](cc1c[nh]c2ccccc12)c(=o)n[c@@h](ccc(n)=o)c(n)=o-1',\n",
       " 'cc(=o)n1ccc[c@h]1c(=o)n[c@@h](cc1c[nh]c2ccccc12)c(=o)n[c@@h](ccc(n)=o)c(n)=o-2',\n",
       " 'cc(=o)n1ccc[c@h]1c(=o)n[c@@h](cc1c[nh]c2ccccc12)c(=o)n[c@@h](ccc(n)=o)c(n)=o-3',\n",
       " 'cc(=o)n1ccc[c@h]1c(=o)n[c@@h](cc1c[nh]c2ccccc12)c(=o)n[c@@h](ccc(n)=o)c(n)=o-4',\n",
       " 'cc(=o)n1ccc[c@h]1c(=o)n[c@@h](cc1ccc(o)cc1)c(=o)n[c@@h](cc1c[nh]cn1)c(n)=o-0',\n",
       " 'cc(=o)n1ccc[c@h]1c(=o)n[c@@h](cc1ccc(o)cc1)c(=o)n[c@@h](cc1c[nh]cn1)c(n)=o-1',\n",
       " 'cc(=o)n1ccc[c@h]1c(=o)n[c@@h](cc1ccc(o)cc1)c(=o)n[c@@h](cc1c[nh]cn1)c(n)=o-2',\n",
       " 'cc(=o)n1ccc[c@h]1c(=o)n[c@@h](cc1ccc(o)cc1)c(=o)n[c@@h](cc1c[nh]cn1)c(n)=o-3',\n",
       " 'cc(=o)n1ccc[c@h]1c(=o)n[c@@h](cc1ccc(o)cc1)c(=o)n[c@@h](cc1c[nh]cn1)c(n)=o-4',\n",
       " 'cc(=o)n[c@@h](cc1c[nh]cn1)c(=o)n[c@@h](cc1ccc(o)cc1)c(=o)n[c@@h](ccc(=o)o)c(n)=o-0',\n",
       " 'cc(=o)n[c@@h](cc1c[nh]cn1)c(=o)n[c@@h](cc1ccc(o)cc1)c(=o)n[c@@h](ccc(=o)o)c(n)=o-1',\n",
       " 'cc(=o)n[c@@h](cc1c[nh]cn1)c(=o)n[c@@h](cc1ccc(o)cc1)c(=o)n[c@@h](ccc(=o)o)c(n)=o-2',\n",
       " 'cc(=o)n[c@@h](cc1c[nh]cn1)c(=o)n[c@@h](cc1ccc(o)cc1)c(=o)n[c@@h](ccc(=o)o)c(n)=o-3',\n",
       " 'cc(=o)n[c@@h](cc1ccc(o)cc1)c(=o)n[c@@h](cc1ccc(o)cc1)c(=o)n[c@@h](ccc(=o)o)c(n)=o-0',\n",
       " 'cc(=o)n[c@@h](cc1ccc(o)cc1)c(=o)n[c@@h](cc1ccc(o)cc1)c(=o)n[c@@h](ccc(=o)o)c(n)=o-1',\n",
       " 'cc(=o)n[c@@h](cc1ccc(o)cc1)c(=o)n[c@@h](cc1ccc(o)cc1)c(=o)n[c@@h](ccc(=o)o)c(n)=o-2',\n",
       " 'cc(=o)n[c@@h](cc1ccc(o)cc1)c(=o)n[c@@h](cc1ccc(o)cc1)c(=o)n[c@@h](ccc(=o)o)c(n)=o-3',\n",
       " 'cc(=o)n[c@@h](cc1ccc(o)cc1)c(=o)n[c@@h](cc1ccc(o)cc1)c(=o)n[c@@h](ccc(=o)o)c(n)=o-4',\n",
       " 'cc(=o)n[c@@h](cc1ccc(o)cc1)c(=o)n[c@@h](cc1ccc(o)cc1)c(=o)n[c@@h](ccc(=o)o)c(n)=o-5',\n",
       " 'cc(=o)n[c@@h](cc1ccc(o)cc1)c(=o)n[c@@h](cc1ccc(o)cc1)c(=o)n[c@@h](ccc(=o)o)c(n)=o-6',\n",
       " 'cscc[c@h](nc(c)=o)c(=o)n1ccc[c@h]1c(=o)n[c@@h](ccc(=o)o)c(n)=o-0',\n",
       " 'cscc[c@h](nc(c)=o)c(=o)n1ccc[c@h]1c(=o)n[c@@h](ccc(=o)o)c(n)=o-1',\n",
       " 'cscc[c@h](nc(c)=o)c(=o)n1ccc[c@h]1c(=o)n[c@@h](ccc(=o)o)c(n)=o-2',\n",
       " 'cscc[c@h](nc(c)=o)c(=o)n1ccc[c@h]1c(=o)n[c@@h](ccc(=o)o)c(n)=o-3',\n",
       " 'cc(=o)n1ccc[c@h]1c(=o)n[c@@h](cc1ccc(o)cc1)c(=o)n[c@@h](cc1ccc(o)cc1)c(n)=o-0',\n",
       " 'cc(=o)n1ccc[c@h]1c(=o)n[c@@h](cc1ccc(o)cc1)c(=o)n[c@@h](cc1ccc(o)cc1)c(n)=o-1',\n",
       " 'cc(=o)n1ccc[c@h]1c(=o)n[c@@h](cc1ccc(o)cc1)c(=o)n[c@@h](cc1ccc(o)cc1)c(n)=o-2',\n",
       " 'cc(=o)n1ccc[c@h]1c(=o)n[c@@h](cc1ccc(o)cc1)c(=o)n[c@@h](cc1ccc(o)cc1)c(n)=o-3',\n",
       " 'cc(=o)n1ccc[c@h]1c(=o)n[c@@h](cc1ccc(o)cc1)c(=o)n[c@@h](cc1ccc(o)cc1)c(n)=o-4',\n",
       " 'cc(=o)n1ccc[c@h]1c(=o)n[c@@h](cc1ccc(o)cc1)c(=o)n[c@@h](cc1ccc(o)cc1)c(n)=o-5',\n",
       " 'cc(=o)n1ccc[c@h]1c(=o)n[c@@h](cc1ccc(o)cc1)c(=o)n[c@@h](cc1ccc(o)cc1)c(n)=o-6',\n",
       " 'cc(=o)n[c@@h](cc(c)c)c(=o)n[c@@h](ccc(=o)o)c(=o)n1ccc[c@h]1c(n)=o-0',\n",
       " 'cc(=o)n[c@@h](cc(c)c)c(=o)n[c@@h](ccc(=o)o)c(=o)n1ccc[c@h]1c(n)=o-1',\n",
       " 'cc(=o)n[c@@h](cc(c)c)c(=o)n[c@@h](ccc(=o)o)c(=o)n1ccc[c@h]1c(n)=o-2',\n",
       " 'cscc[c@h](nc(=o)[c@h](ccc(n)=o)nc(=o)[c@h](cc1c[nh]c2ccccc12)nc(c)=o)c(n)=o-0',\n",
       " 'cscc[c@h](nc(=o)[c@h](ccc(n)=o)nc(=o)[c@h](cc1c[nh]c2ccccc12)nc(c)=o)c(n)=o-1',\n",
       " 'cscc[c@h](nc(=o)[c@h](ccc(n)=o)nc(=o)[c@h](cc1c[nh]c2ccccc12)nc(c)=o)c(n)=o-2',\n",
       " 'cscc[c@h](nc(=o)[c@h](ccc(n)=o)nc(=o)[c@h](cc1c[nh]c2ccccc12)nc(c)=o)c(n)=o-3',\n",
       " 'cscc[c@h](nc(=o)[c@h](ccc(n)=o)nc(=o)[c@h](cc1c[nh]c2ccccc12)nc(c)=o)c(n)=o-4',\n",
       " 'cscc[c@h](nc(=o)[c@h](ccc(n)=o)nc(=o)[c@h](cc1c[nh]c2ccccc12)nc(c)=o)c(n)=o-5',\n",
       " 'cscc[c@h](nc(=o)[c@h](ccc(n)=o)nc(=o)[c@h](cc1c[nh]c2ccccc12)nc(c)=o)c(n)=o-6',\n",
       " 'cc(=o)n1ccc[c@h]1c(=o)n[c@@h](cc1ccc(o)cc1)c(=o)n1ccc[c@h]1c(n)=o-0',\n",
       " 'cc(=o)n1ccc[c@h]1c(=o)n[c@@h](cc1ccc(o)cc1)c(=o)n1ccc[c@h]1c(n)=o-1',\n",
       " 'cc(=o)n1ccc[c@h]1c(=o)n[c@@h](cc1ccc(o)cc1)c(=o)n1ccc[c@h]1c(n)=o-2',\n",
       " 'cc(=o)n1ccc[c@h]1c(=o)n[c@@h](cc1ccc(o)cc1)c(=o)n1ccc[c@h]1c(n)=o-3',\n",
       " 'cc(=o)n[c@@h](cc1ccc(o)cc1)c(=o)n[c@@h](ccc(n)=o)c(=o)n[c@@h](cc1ccc(o)cc1)c(n)=o-0',\n",
       " 'cc(=o)n[c@@h](cc1ccc(o)cc1)c(=o)n[c@@h](ccc(n)=o)c(=o)n[c@@h](cc1ccc(o)cc1)c(n)=o-1',\n",
       " 'cc(=o)n[c@@h](cc1ccc(o)cc1)c(=o)n[c@@h](ccc(n)=o)c(=o)n[c@@h](cc1ccc(o)cc1)c(n)=o-2',\n",
       " 'cc(=o)n[c@@h](cc1ccc(o)cc1)c(=o)n[c@@h](ccc(n)=o)c(=o)n[c@@h](cc1ccc(o)cc1)c(n)=o-3',\n",
       " 'cc(=o)n[c@@h](cc1ccc(o)cc1)c(=o)n[c@@h](ccc(n)=o)c(=o)n[c@@h](cc1ccc(o)cc1)c(n)=o-4',\n",
       " 'cc(=o)n[c@@h](cc1ccc(o)cc1)c(=o)n[c@@h](ccc(n)=o)c(=o)n[c@@h](cc1ccc(o)cc1)c(n)=o-5',\n",
       " 'cc(=o)n[c@@h](cc1ccc(o)cc1)c(=o)n[c@@h](ccc(n)=o)c(=o)n[c@@h](cc1ccc(o)cc1)c(n)=o-6',\n",
       " 'cc(=o)n[c@@h](cc(c)c)c(=o)n[c@@h](ccc(=o)o)c(=o)n[c@@h](cc1ccc(o)cc1)c(n)=o-0',\n",
       " 'cc(=o)n[c@@h](cc(c)c)c(=o)n[c@@h](ccc(=o)o)c(=o)n[c@@h](cc1ccc(o)cc1)c(n)=o-1',\n",
       " 'cc(=o)n[c@@h](cc(c)c)c(=o)n[c@@h](ccc(=o)o)c(=o)n[c@@h](cc1ccc(o)cc1)c(n)=o-2',\n",
       " 'cc(=o)n[c@@h](cc(c)c)c(=o)n[c@@h](ccc(=o)o)c(=o)n[c@@h](cc1ccc(o)cc1)c(n)=o-3',\n",
       " 'cscc[c@h](nc(=o)[c@h](cc(c)c)nc(c)=o)c(=o)n[c@@h](ccc(=o)o)c(n)=o-0',\n",
       " 'cscc[c@h](nc(=o)[c@h](cc(c)c)nc(c)=o)c(=o)n[c@@h](ccc(=o)o)c(n)=o-1',\n",
       " 'cscc[c@h](nc(=o)[c@h](cc(c)c)nc(c)=o)c(=o)n[c@@h](ccc(=o)o)c(n)=o-2',\n",
       " 'cc(=o)n[c@@h](cc1ccc(o)cc1)c(=o)n[c@@h](cc1c[nh]c2ccccc12)c(=o)n[c@@h](cc1ccc(o)cc1)c(n)=o-0',\n",
       " 'cc(=o)n[c@@h](cc1ccc(o)cc1)c(=o)n[c@@h](cc1c[nh]c2ccccc12)c(=o)n[c@@h](cc1ccc(o)cc1)c(n)=o-1',\n",
       " 'cc(=o)n[c@@h](cc1ccc(o)cc1)c(=o)n[c@@h](cc1c[nh]c2ccccc12)c(=o)n[c@@h](cc1ccc(o)cc1)c(n)=o-2',\n",
       " 'cc(=o)n[c@@h](cc1ccc(o)cc1)c(=o)n[c@@h](cc1c[nh]c2ccccc12)c(=o)n[c@@h](cc1ccc(o)cc1)c(n)=o-3',\n",
       " 'cc(=o)n[c@@h](cc1ccc(o)cc1)c(=o)n[c@@h](cc1c[nh]c2ccccc12)c(=o)n[c@@h](cc1ccc(o)cc1)c(n)=o-4',\n",
       " 'cc(=o)n[c@@h](cc1ccc(o)cc1)c(=o)n[c@@h](cc1c[nh]c2ccccc12)c(=o)n[c@@h](cc1ccc(o)cc1)c(n)=o-5',\n",
       " 'cc(=o)n[c@@h](cc1ccc(o)cc1)c(=o)n[c@@h](cc1c[nh]c2ccccc12)c(=o)n[c@@h](cc1ccc(o)cc1)c(n)=o-6',\n",
       " 'cc(=o)n[c@@h](cc1ccc(o)cc1)c(=o)n[c@@h](cc1c[nh]c2ccccc12)c(=o)n[c@@h](cc1ccc(o)cc1)c(n)=o-7',\n",
       " 'cc(=o)n[c@@h](cc1ccc(o)cc1)c(=o)n[c@@h](cc1c[nh]c2ccccc12)c(=o)n[c@@h](cc1ccc(o)cc1)c(n)=o-8',\n",
       " 'cc(=o)n[c@@h](cc1c[nh]c2ccccc12)c(=o)n1ccc[c@h]1c(=o)n[c@@h](ccc(n)=o)c(n)=o-0',\n",
       " 'cc(=o)n[c@@h](cc1c[nh]c2ccccc12)c(=o)n1ccc[c@h]1c(=o)n[c@@h](ccc(n)=o)c(n)=o-1',\n",
       " 'cc(=o)n[c@@h](cc1c[nh]c2ccccc12)c(=o)n1ccc[c@h]1c(=o)n[c@@h](ccc(n)=o)c(n)=o-2',\n",
       " 'cc(=o)n[c@@h](cc1c[nh]c2ccccc12)c(=o)n1ccc[c@h]1c(=o)n[c@@h](ccc(n)=o)c(n)=o-3',\n",
       " 'cc(=o)n[c@@h](cc1c[nh]c2ccccc12)c(=o)n1ccc[c@h]1c(=o)n[c@@h](ccc(n)=o)c(n)=o-4',\n",
       " 'cc(=o)n[c@@h](cc1c[nh]c2ccccc12)c(=o)n1ccc[c@h]1c(=o)n[c@@h](ccc(n)=o)c(n)=o-5',\n",
       " 'cc(=o)n[c@@h](cc1c[nh]c2ccccc12)c(=o)n1ccc[c@h]1c(=o)n[c@@h](ccc(n)=o)c(n)=o-6',\n",
       " 'cc(=o)n[c@@h](cc1c[nh]c2ccccc12)c(=o)n1ccc[c@h]1c(=o)n[c@@h](ccc(n)=o)c(n)=o-7',\n",
       " 'cc(=o)n[c@@h](ccc(n)=o)c(=o)n[c@@h](cc1c[nh]cn1)c(=o)n[c@@h](ccc(=o)o)c(n)=o-0',\n",
       " 'cc(=o)n[c@@h](ccc(n)=o)c(=o)n[c@@h](cc1c[nh]cn1)c(=o)n[c@@h](ccc(=o)o)c(n)=o-1',\n",
       " 'cc(=o)n[c@@h](ccc(n)=o)c(=o)n[c@@h](cc1c[nh]cn1)c(=o)n[c@@h](ccc(=o)o)c(n)=o-2',\n",
       " 'cc(=o)n[c@@h](ccc(n)=o)c(=o)n[c@@h](cc1c[nh]cn1)c(=o)n[c@@h](ccc(=o)o)c(n)=o-3',\n",
       " 'cc(=o)n[c@@h](cc1c[nh]cn1)c(=o)n[c@@h](cc1c[nh]c2ccccc12)c(=o)n[c@@h](cc1c[nh]cn1)c(n)=o-0',\n",
       " 'cc(=o)n[c@@h](cc1c[nh]cn1)c(=o)n[c@@h](cc1c[nh]c2ccccc12)c(=o)n[c@@h](cc1c[nh]cn1)c(n)=o-1',\n",
       " 'cc(=o)n[c@@h](cc1c[nh]cn1)c(=o)n[c@@h](cc1c[nh]c2ccccc12)c(=o)n[c@@h](cc1c[nh]cn1)c(n)=o-2',\n",
       " 'cc(=o)n[c@@h](cc1c[nh]cn1)c(=o)n[c@@h](cc1c[nh]c2ccccc12)c(=o)n[c@@h](cc1c[nh]cn1)c(n)=o-3',\n",
       " 'cc(=o)n[c@@h](cc1c[nh]cn1)c(=o)n[c@@h](cc1c[nh]c2ccccc12)c(=o)n[c@@h](cc1c[nh]cn1)c(n)=o-4',\n",
       " 'cc(=o)n[c@@h](cc1c[nh]cn1)c(=o)n[c@@h](cc1c[nh]c2ccccc12)c(=o)n[c@@h](cc1c[nh]cn1)c(n)=o-5',\n",
       " 'cscc[c@h](nc(=o)[c@h](cc(c)c)nc(=o)[c@h](cc(c)c)nc(c)=o)c(n)=o-0',\n",
       " 'cscc[c@h](nc(=o)[c@h](cc(c)c)nc(=o)[c@h](cc(c)c)nc(c)=o)c(n)=o-1',\n",
       " 'cscc[c@h](nc(=o)[c@h](cc(c)c)nc(=o)[c@h](cc(c)c)nc(c)=o)c(n)=o-2',\n",
       " 'cc(=o)n1ccc[c@h]1c(=o)n[c@@h](ccc(n)=o)c(=o)n[c@@h](ccc(=o)o)c(n)=o-0',\n",
       " 'cc(=o)n1ccc[c@h]1c(=o)n[c@@h](ccc(n)=o)c(=o)n[c@@h](ccc(=o)o)c(n)=o-1',\n",
       " 'cc(=o)n1ccc[c@h]1c(=o)n[c@@h](ccc(n)=o)c(=o)n[c@@h](ccc(=o)o)c(n)=o-2',\n",
       " 'cc(=o)n1ccc[c@h]1c(=o)n[c@@h](cc1c[nh]c2ccccc12)c(=o)n[c@@h](ccc(=o)o)c(n)=o-0',\n",
       " 'cc(=o)n1ccc[c@h]1c(=o)n[c@@h](cc1c[nh]c2ccccc12)c(=o)n[c@@h](ccc(=o)o)c(n)=o-1',\n",
       " 'cc(=o)n1ccc[c@h]1c(=o)n[c@@h](cc1c[nh]c2ccccc12)c(=o)n[c@@h](ccc(=o)o)c(n)=o-2',\n",
       " 'cc(=o)n1ccc[c@h]1c(=o)n[c@@h](cc1c[nh]c2ccccc12)c(=o)n[c@@h](ccc(=o)o)c(n)=o-3',\n",
       " 'cc(=o)n[c@@h](cc(c)c)c(=o)n[c@@h](ccc(=o)o)c(=o)n[c@@h](cc1c[nh]cn1)c(n)=o-0',\n",
       " 'cc(=o)n[c@@h](cc(c)c)c(=o)n[c@@h](ccc(=o)o)c(=o)n[c@@h](cc1c[nh]cn1)c(n)=o-1',\n",
       " 'cc(=o)n[c@@h](cc(c)c)c(=o)n[c@@h](ccc(=o)o)c(=o)n[c@@h](cc1c[nh]cn1)c(n)=o-2',\n",
       " 'cc(=o)n[c@@h](cc1ccc(o)cc1)c(=o)n[c@@h](cc1c[nh]c2ccccc12)c(=o)n[c@@h](cc1c[nh]cn1)c(n)=o-0',\n",
       " 'cc(=o)n[c@@h](cc1ccc(o)cc1)c(=o)n[c@@h](cc1c[nh]c2ccccc12)c(=o)n[c@@h](cc1c[nh]cn1)c(n)=o-1',\n",
       " 'cc(=o)n[c@@h](cc1ccc(o)cc1)c(=o)n[c@@h](cc1c[nh]c2ccccc12)c(=o)n[c@@h](cc1c[nh]cn1)c(n)=o-2',\n",
       " 'cc(=o)n[c@@h](cc1ccc(o)cc1)c(=o)n[c@@h](cc1c[nh]c2ccccc12)c(=o)n[c@@h](cc1c[nh]cn1)c(n)=o-3',\n",
       " 'cc(=o)n[c@@h](cc1ccc(o)cc1)c(=o)n[c@@h](cc1c[nh]c2ccccc12)c(=o)n[c@@h](cc1c[nh]cn1)c(n)=o-4',\n",
       " 'cc(=o)n[c@@h](cc1ccc(o)cc1)c(=o)n[c@@h](cc1c[nh]c2ccccc12)c(=o)n[c@@h](cc1c[nh]cn1)c(n)=o-5',\n",
       " 'cc(=o)n[c@@h](cc1ccc(o)cc1)c(=o)n[c@@h](cc1c[nh]c2ccccc12)c(=o)n[c@@h](cc1c[nh]cn1)c(n)=o-6',\n",
       " 'cc(=o)n[c@@h](cc1ccc(o)cc1)c(=o)n[c@@h](cc1ccc(o)cc1)c(=o)n[c@@h](ccc(n)=o)c(n)=o-0',\n",
       " 'cc(=o)n[c@@h](cc1ccc(o)cc1)c(=o)n[c@@h](cc1ccc(o)cc1)c(=o)n[c@@h](ccc(n)=o)c(n)=o-1',\n",
       " 'cc(=o)n[c@@h](cc1ccc(o)cc1)c(=o)n[c@@h](cc1ccc(o)cc1)c(=o)n[c@@h](ccc(n)=o)c(n)=o-2',\n",
       " 'cc(=o)n[c@@h](cc1ccc(o)cc1)c(=o)n[c@@h](cc1ccc(o)cc1)c(=o)n[c@@h](ccc(n)=o)c(n)=o-3',\n",
       " 'cc(=o)n[c@@h](cc1ccc(o)cc1)c(=o)n[c@@h](cc1ccc(o)cc1)c(=o)n[c@@h](ccc(n)=o)c(n)=o-4',\n",
       " 'cc(=o)n[c@@h](cc1ccc(o)cc1)c(=o)n[c@@h](cc1ccc(o)cc1)c(=o)n[c@@h](ccc(n)=o)c(n)=o-5',\n",
       " 'cc(=o)n1ccc[c@h]1c(=o)n[c@@h](cc(c)c)c(=o)n[c@@h](cc1c[nh]c2ccccc12)c(n)=o-0',\n",
       " 'cc(=o)n1ccc[c@h]1c(=o)n[c@@h](cc(c)c)c(=o)n[c@@h](cc1c[nh]c2ccccc12)c(n)=o-1',\n",
       " 'cc(=o)n1ccc[c@h]1c(=o)n[c@@h](cc(c)c)c(=o)n[c@@h](cc1c[nh]c2ccccc12)c(n)=o-2',\n",
       " 'cc(=o)n1ccc[c@h]1c(=o)n[c@@h](cc(c)c)c(=o)n[c@@h](cc1c[nh]c2ccccc12)c(n)=o-3',\n",
       " 'cc(=o)n1ccc[c@h]1c(=o)n[c@@h](cc(c)c)c(=o)n[c@@h](cc1c[nh]c2ccccc12)c(n)=o-4',\n",
       " 'cscc[c@h](nc(=o)[c@h](cc1c[nh]c2ccccc12)nc(c)=o)c(=o)n[c@@h](cc1c[nh]c2ccccc12)c(n)=o-0',\n",
       " 'cscc[c@h](nc(=o)[c@h](cc1c[nh]c2ccccc12)nc(c)=o)c(=o)n[c@@h](cc1c[nh]c2ccccc12)c(n)=o-1',\n",
       " 'cscc[c@h](nc(=o)[c@h](cc1c[nh]c2ccccc12)nc(c)=o)c(=o)n[c@@h](cc1c[nh]c2ccccc12)c(n)=o-2',\n",
       " 'cscc[c@h](nc(=o)[c@h](cc1c[nh]c2ccccc12)nc(c)=o)c(=o)n[c@@h](cc1c[nh]c2ccccc12)c(n)=o-3',\n",
       " 'cscc[c@h](nc(=o)[c@h](cc1c[nh]c2ccccc12)nc(c)=o)c(=o)n[c@@h](cc1c[nh]c2ccccc12)c(n)=o-4',\n",
       " 'cscc[c@h](nc(=o)[c@h](cc1c[nh]c2ccccc12)nc(c)=o)c(=o)n[c@@h](cc1c[nh]c2ccccc12)c(n)=o-5',\n",
       " 'cscc[c@h](nc(=o)[c@h](cc1c[nh]c2ccccc12)nc(c)=o)c(=o)n[c@@h](cc1c[nh]c2ccccc12)c(n)=o-6',\n",
       " 'cscc[c@h](nc(=o)[c@h](cc1c[nh]c2ccccc12)nc(c)=o)c(=o)n[c@@h](cc1c[nh]c2ccccc12)c(n)=o-7',\n",
       " 'cscc[c@h](nc(=o)[c@h](cc1c[nh]c2ccccc12)nc(c)=o)c(=o)n[c@@h](cc1c[nh]c2ccccc12)c(n)=o-8',\n",
       " 'cc(=o)n[c@@h](cc1c[nh]c2ccccc12)c(=o)n[c@@h](cc1c[nh]cn1)c(=o)n[c@@h](cc1ccc(o)cc1)c(n)=o-0',\n",
       " 'cc(=o)n[c@@h](cc1c[nh]c2ccccc12)c(=o)n[c@@h](cc1c[nh]cn1)c(=o)n[c@@h](cc1ccc(o)cc1)c(n)=o-1',\n",
       " 'cc(=o)n[c@@h](cc1c[nh]c2ccccc12)c(=o)n[c@@h](cc1c[nh]cn1)c(=o)n[c@@h](cc1ccc(o)cc1)c(n)=o-2',\n",
       " 'cc(=o)n[c@@h](cc1c[nh]c2ccccc12)c(=o)n[c@@h](cc1c[nh]cn1)c(=o)n[c@@h](cc1ccc(o)cc1)c(n)=o-3',\n",
       " 'cc(=o)n[c@@h](cc1c[nh]c2ccccc12)c(=o)n[c@@h](cc1c[nh]cn1)c(=o)n[c@@h](cc1ccc(o)cc1)c(n)=o-4',\n",
       " 'cc(=o)n[c@@h](cc1c[nh]c2ccccc12)c(=o)n[c@@h](cc1c[nh]cn1)c(=o)n[c@@h](cc1ccc(o)cc1)c(n)=o-5',\n",
       " 'cscc[c@h](nc(=o)[c@h](cc1c[nh]cn1)nc(=o)[c@h](cc1ccc(o)cc1)nc(c)=o)c(n)=o-0',\n",
       " 'cscc[c@h](nc(=o)[c@h](cc1c[nh]cn1)nc(=o)[c@h](cc1ccc(o)cc1)nc(c)=o)c(n)=o-1',\n",
       " 'cscc[c@h](nc(=o)[c@h](cc1c[nh]cn1)nc(=o)[c@h](cc1ccc(o)cc1)nc(c)=o)c(n)=o-2',\n",
       " 'cscc[c@h](nc(=o)[c@h](cc1c[nh]cn1)nc(=o)[c@h](cc1ccc(o)cc1)nc(c)=o)c(n)=o-3',\n",
       " 'cscc[c@h](nc(=o)[c@h](cc1c[nh]cn1)nc(=o)[c@h](cc1ccc(o)cc1)nc(c)=o)c(n)=o-4',\n",
       " 'cscc[c@h](nc(=o)[c@h](ccc(n)=o)nc(=o)[c@h](ccsc)nc(c)=o)c(n)=o-0',\n",
       " 'cscc[c@h](nc(=o)[c@h](ccc(n)=o)nc(=o)[c@h](ccsc)nc(c)=o)c(n)=o-1',\n",
       " 'cscc[c@h](nc(=o)[c@h](ccc(n)=o)nc(=o)[c@h](ccsc)nc(c)=o)c(n)=o-2',\n",
       " 'cscc[c@h](nc(=o)[c@h](ccc(n)=o)nc(=o)[c@h](ccsc)nc(c)=o)c(n)=o-3',\n",
       " 'cc(=o)n[c@@h](ccc(n)=o)c(=o)n[c@@h](cc(c)c)c(=o)n[c@@h](ccc(n)=o)c(n)=o-0',\n",
       " 'cc(=o)n[c@@h](ccc(n)=o)c(=o)n[c@@h](cc(c)c)c(=o)n[c@@h](ccc(n)=o)c(n)=o-1',\n",
       " 'cc(=o)n[c@@h](ccc(n)=o)c(=o)n[c@@h](cc(c)c)c(=o)n[c@@h](ccc(n)=o)c(n)=o-2',\n",
       " 'cc(=o)n[c@@h](ccc(n)=o)c(=o)n[c@@h](cc(c)c)c(=o)n[c@@h](ccc(n)=o)c(n)=o-3',\n",
       " 'cc(=o)n[c@@h](cc(c)c)c(=o)n[c@@h](ccc(n)=o)c(=o)n1ccc[c@h]1c(n)=o-0',\n",
       " 'cc(=o)n[c@@h](cc(c)c)c(=o)n[c@@h](ccc(n)=o)c(=o)n1ccc[c@h]1c(n)=o-1',\n",
       " 'cc(=o)n[c@@h](cc(c)c)c(=o)n[c@@h](ccc(n)=o)c(=o)n1ccc[c@h]1c(n)=o-2',\n",
       " 'cscc[c@h](nc(=o)[c@@h]1cccn1c(c)=o)c(=o)n1ccc[c@h]1c(n)=o-0',\n",
       " 'cscc[c@h](nc(=o)[c@@h]1cccn1c(c)=o)c(=o)n1ccc[c@h]1c(n)=o-1',\n",
       " 'cscc[c@h](nc(=o)[c@@h]1cccn1c(c)=o)c(=o)n1ccc[c@h]1c(n)=o-2',\n",
       " 'cscc[c@h](nc(=o)[c@h](ccc(=o)o)nc(c)=o)c(=o)n[c@@h](ccc(=o)o)c(n)=o-0',\n",
       " 'cscc[c@h](nc(=o)[c@h](ccc(=o)o)nc(c)=o)c(=o)n[c@@h](ccc(=o)o)c(n)=o-1',\n",
       " 'cscc[c@h](nc(=o)[c@h](ccc(=o)o)nc(c)=o)c(=o)n[c@@h](ccc(=o)o)c(n)=o-2',\n",
       " 'cc(=o)n1ccc[c@h]1c(=o)n[c@@h](ccc(=o)o)c(=o)n[c@@h](ccc(n)=o)c(n)=o-0',\n",
       " 'cc(=o)n1ccc[c@h]1c(=o)n[c@@h](ccc(=o)o)c(=o)n[c@@h](ccc(n)=o)c(n)=o-1',\n",
       " 'cc(=o)n[c@@h](cc1c[nh]c2ccccc12)c(=o)n[c@@h](cc1ccc(o)cc1)c(=o)n[c@@h](cc1c[nh]c2ccccc12)c(n)=o-0',\n",
       " 'cc(=o)n[c@@h](cc1c[nh]c2ccccc12)c(=o)n[c@@h](cc1ccc(o)cc1)c(=o)n[c@@h](cc1c[nh]c2ccccc12)c(n)=o-1',\n",
       " 'cc(=o)n[c@@h](cc1c[nh]c2ccccc12)c(=o)n[c@@h](cc1ccc(o)cc1)c(=o)n[c@@h](cc1c[nh]c2ccccc12)c(n)=o-2',\n",
       " 'cc(=o)n[c@@h](cc1c[nh]c2ccccc12)c(=o)n[c@@h](cc1ccc(o)cc1)c(=o)n[c@@h](cc1c[nh]c2ccccc12)c(n)=o-3',\n",
       " 'cc(=o)n[c@@h](cc1c[nh]c2ccccc12)c(=o)n[c@@h](cc1ccc(o)cc1)c(=o)n[c@@h](cc1c[nh]c2ccccc12)c(n)=o-4',\n",
       " 'cc(=o)n[c@@h](cc1c[nh]c2ccccc12)c(=o)n[c@@h](cc1ccc(o)cc1)c(=o)n[c@@h](cc1c[nh]c2ccccc12)c(n)=o-5',\n",
       " 'cc(=o)n[c@@h](cc1c[nh]c2ccccc12)c(=o)n[c@@h](cc1ccc(o)cc1)c(=o)n[c@@h](cc1c[nh]c2ccccc12)c(n)=o-6',\n",
       " 'cc(=o)n[c@@h](cc1c[nh]c2ccccc12)c(=o)n[c@@h](cc1ccc(o)cc1)c(=o)n[c@@h](cc1c[nh]c2ccccc12)c(n)=o-7',\n",
       " 'cc(=o)n[c@@h](cc1c[nh]c2ccccc12)c(=o)n[c@@h](cc1ccc(o)cc1)c(=o)n[c@@h](cc1c[nh]c2ccccc12)c(n)=o-8',\n",
       " 'cc(=o)n[c@@h](cc1c[nh]c2ccccc12)c(=o)n[c@@h](cc1ccc(o)cc1)c(=o)n[c@@h](cc1c[nh]c2ccccc12)c(n)=o-9',\n",
       " 'cc(=o)n[c@@h](cc1c[nh]c2ccccc12)c(=o)n[c@@h](cc1ccc(o)cc1)c(=o)n[c@@h](cc1c[nh]c2ccccc12)c(n)=o-10',\n",
       " 'cc(=o)n[c@@h](cc1c[nh]c2ccccc12)c(=o)n[c@@h](cc1ccc(o)cc1)c(=o)n[c@@h](cc1c[nh]c2ccccc12)c(n)=o-11',\n",
       " 'cc(=o)n[c@@h](cc1c[nh]c2ccccc12)c(=o)n[c@@h](cc1ccc(o)cc1)c(=o)n[c@@h](cc1c[nh]c2ccccc12)c(n)=o-12',\n",
       " 'cscc[c@h](nc(=o)[c@h](cc1ccc(o)cc1)nc(c)=o)c(=o)n[c@@h](ccc(n)=o)c(n)=o-0',\n",
       " 'cscc[c@h](nc(=o)[c@h](cc1ccc(o)cc1)nc(c)=o)c(=o)n[c@@h](ccc(n)=o)c(n)=o-1',\n",
       " 'cscc[c@h](nc(=o)[c@h](cc1ccc(o)cc1)nc(c)=o)c(=o)n[c@@h](ccc(n)=o)c(n)=o-2',\n",
       " 'cscc[c@h](nc(=o)[c@h](cc1ccc(o)cc1)nc(c)=o)c(=o)n[c@@h](ccc(n)=o)c(n)=o-3',\n",
       " 'cscc[c@h](nc(=o)[c@h](cc1ccc(o)cc1)nc(c)=o)c(=o)n[c@@h](ccc(n)=o)c(n)=o-4',\n",
       " 'cc(=o)n[c@@h](ccc(n)=o)c(=o)n[c@@h](cc(c)c)c(=o)n[c@@h](ccc(=o)o)c(n)=o-0',\n",
       " 'cc(=o)n[c@@h](ccc(n)=o)c(=o)n[c@@h](cc(c)c)c(=o)n[c@@h](ccc(=o)o)c(n)=o-1',\n",
       " 'cc(=o)n[c@@h](ccc(n)=o)c(=o)n[c@@h](cc(c)c)c(=o)n[c@@h](ccc(=o)o)c(n)=o-2',\n",
       " 'cscc[c@h](nc(=o)[c@h](cc1c[nh]cn1)nc(=o)[c@h](cc(c)c)nc(c)=o)c(n)=o-0',\n",
       " 'cscc[c@h](nc(=o)[c@h](cc1c[nh]cn1)nc(=o)[c@h](cc(c)c)nc(c)=o)c(n)=o-1',\n",
       " 'cscc[c@h](nc(=o)[c@h](cc1c[nh]cn1)nc(=o)[c@h](cc(c)c)nc(c)=o)c(n)=o-2',\n",
       " 'cscc[c@h](nc(=o)[c@h](cc1c[nh]cn1)nc(=o)[c@h](cc(c)c)nc(c)=o)c(n)=o-3',\n",
       " 'cc(=o)n[c@@h](cc(c)c)c(=o)n[c@@h](cc1c[nh]c2ccccc12)c(=o)n[c@@h](cc1c[nh]cn1)c(n)=o-0',\n",
       " 'cc(=o)n[c@@h](cc(c)c)c(=o)n[c@@h](cc1c[nh]c2ccccc12)c(=o)n[c@@h](cc1c[nh]cn1)c(n)=o-1',\n",
       " 'cc(=o)n[c@@h](cc(c)c)c(=o)n[c@@h](cc1c[nh]c2ccccc12)c(=o)n[c@@h](cc1c[nh]cn1)c(n)=o-2',\n",
       " 'cc(=o)n[c@@h](cc(c)c)c(=o)n[c@@h](cc1c[nh]c2ccccc12)c(=o)n[c@@h](cc1c[nh]cn1)c(n)=o-3',\n",
       " 'cc(=o)n[c@@h](cc(c)c)c(=o)n[c@@h](cc1c[nh]c2ccccc12)c(=o)n[c@@h](cc1c[nh]cn1)c(n)=o-4',\n",
       " 'cc(=o)n1ccc[c@h]1c(=o)n[c@@h](cc1c[nh]cn1)c(=o)n[c@@h](cc1c[nh]c2ccccc12)c(n)=o-0',\n",
       " 'cc(=o)n1ccc[c@h]1c(=o)n[c@@h](cc1c[nh]cn1)c(=o)n[c@@h](cc1c[nh]c2ccccc12)c(n)=o-1',\n",
       " 'cc(=o)n1ccc[c@h]1c(=o)n[c@@h](cc1c[nh]cn1)c(=o)n[c@@h](cc1c[nh]c2ccccc12)c(n)=o-2',\n",
       " 'cc(=o)n1ccc[c@h]1c(=o)n[c@@h](cc1c[nh]cn1)c(=o)n[c@@h](cc1c[nh]c2ccccc12)c(n)=o-3',\n",
       " 'cc(=o)n1ccc[c@h]1c(=o)n[c@@h](cc1c[nh]cn1)c(=o)n[c@@h](cc1c[nh]c2ccccc12)c(n)=o-4',\n",
       " 'cc(=o)n1ccc[c@h]1c(=o)n[c@@h](cc1c[nh]cn1)c(=o)n[c@@h](cc1c[nh]c2ccccc12)c(n)=o-5',\n",
       " 'cscc[c@h](nc(=o)[c@h](cc(c)c)nc(=o)[c@h](cc1ccc(o)cc1)nc(c)=o)c(n)=o-0',\n",
       " 'cscc[c@h](nc(=o)[c@h](cc(c)c)nc(=o)[c@h](cc1ccc(o)cc1)nc(c)=o)c(n)=o-1',\n",
       " 'cscc[c@h](nc(=o)[c@h](cc(c)c)nc(=o)[c@h](cc1ccc(o)cc1)nc(c)=o)c(n)=o-2',\n",
       " 'cscc[c@h](nc(=o)[c@h](cc(c)c)nc(=o)[c@h](cc1ccc(o)cc1)nc(c)=o)c(n)=o-3',\n",
       " 'cc(=o)n1ccc[c@h]1c(=o)n[c@@h](ccc(=o)o)c(=o)n[c@@h](ccc(=o)o)c(n)=o-0',\n",
       " 'cc(=o)n1ccc[c@h]1c(=o)n[c@@h](ccc(=o)o)c(=o)n[c@@h](ccc(=o)o)c(n)=o-1',\n",
       " 'cc(=o)n[c@@h](cc1ccc(o)cc1)c(=o)n[c@@h](ccc(=o)o)c(=o)n[c@@h](cc1ccc(o)cc1)c(n)=o-0',\n",
       " 'cc(=o)n[c@@h](cc1ccc(o)cc1)c(=o)n[c@@h](ccc(=o)o)c(=o)n[c@@h](cc1ccc(o)cc1)c(n)=o-1',\n",
       " 'cc(=o)n[c@@h](cc1ccc(o)cc1)c(=o)n[c@@h](ccc(=o)o)c(=o)n[c@@h](cc1ccc(o)cc1)c(n)=o-2',\n",
       " 'cc(=o)n[c@@h](cc1ccc(o)cc1)c(=o)n[c@@h](ccc(=o)o)c(=o)n[c@@h](cc1ccc(o)cc1)c(n)=o-3',\n",
       " 'cc(=o)n[c@@h](cc1ccc(o)cc1)c(=o)n[c@@h](ccc(=o)o)c(=o)n[c@@h](cc1ccc(o)cc1)c(n)=o-4',\n",
       " 'cc(=o)n[c@@h](cc1ccc(o)cc1)c(=o)n[c@@h](ccc(=o)o)c(=o)n[c@@h](cc1ccc(o)cc1)c(n)=o-5',\n",
       " 'cscc[c@h](nc(=o)[c@h](cc(c)c)nc(c)=o)c(=o)n[c@@h](ccc(n)=o)c(n)=o-0',\n",
       " 'cscc[c@h](nc(=o)[c@h](cc(c)c)nc(c)=o)c(=o)n[c@@h](ccc(n)=o)c(n)=o-1',\n",
       " 'cscc[c@h](nc(=o)[c@h](cc(c)c)nc(c)=o)c(=o)n[c@@h](ccc(n)=o)c(n)=o-2',\n",
       " 'cc(=o)n1ccc[c@h]1c(=o)n[c@@h](ccc(n)=o)c(=o)n[c@@h](ccc(n)=o)c(n)=o-0',\n",
       " 'cc(=o)n1ccc[c@h]1c(=o)n[c@@h](ccc(n)=o)c(=o)n[c@@h](ccc(n)=o)c(n)=o-1',\n",
       " 'cscc[c@h](nc(=o)[c@@h]1cccn1c(=o)[c@@h]1cccn1c(c)=o)c(n)=o-0',\n",
       " 'cscc[c@h](nc(=o)[c@@h]1cccn1c(=o)[c@@h]1cccn1c(c)=o)c(n)=o-1',\n",
       " 'cscc[c@h](nc(=o)[c@@h]1cccn1c(=o)[c@@h]1cccn1c(c)=o)c(n)=o-2',\n",
       " 'cscc[c@h](nc(=o)[c@@h]1cccn1c(=o)[c@@h]1cccn1c(c)=o)c(n)=o-3',\n",
       " 'cc(=o)n[c@@h](cc(c)c)c(=o)n1ccc[c@h]1c(=o)n[c@@h](cc1c[nh]c2ccccc12)c(n)=o-0',\n",
       " 'cc(=o)n[c@@h](cc(c)c)c(=o)n1ccc[c@h]1c(=o)n[c@@h](cc1c[nh]c2ccccc12)c(n)=o-1',\n",
       " 'cc(=o)n[c@@h](cc(c)c)c(=o)n1ccc[c@h]1c(=o)n[c@@h](cc1c[nh]c2ccccc12)c(n)=o-2',\n",
       " 'cc(=o)n[c@@h](cc(c)c)c(=o)n1ccc[c@h]1c(=o)n[c@@h](cc1c[nh]c2ccccc12)c(n)=o-3',\n",
       " 'cc(=o)n[c@@h](cc(c)c)c(=o)n1ccc[c@h]1c(=o)n[c@@h](cc1c[nh]c2ccccc12)c(n)=o-4',\n",
       " 'cc(=o)n[c@@h](cc(c)c)c(=o)n1ccc[c@h]1c(=o)n[c@@h](cc1c[nh]c2ccccc12)c(n)=o-5',\n",
       " 'cc(=o)n[c@@h](cc(c)c)c(=o)n1ccc[c@h]1c(=o)n[c@@h](cc1c[nh]c2ccccc12)c(n)=o-6',\n",
       " 'cc(=o)n[c@@h](cc1c[nh]c2ccccc12)c(=o)n[c@@h](cc1c[nh]cn1)c(=o)n[c@@h](cc1c[nh]cn1)c(n)=o-0',\n",
       " 'cc(=o)n[c@@h](cc1c[nh]c2ccccc12)c(=o)n[c@@h](cc1c[nh]cn1)c(=o)n[c@@h](cc1c[nh]cn1)c(n)=o-1',\n",
       " 'cc(=o)n[c@@h](cc1c[nh]c2ccccc12)c(=o)n[c@@h](cc1c[nh]cn1)c(=o)n[c@@h](cc1c[nh]cn1)c(n)=o-2',\n",
       " 'cc(=o)n[c@@h](cc1c[nh]c2ccccc12)c(=o)n[c@@h](cc1c[nh]cn1)c(=o)n[c@@h](cc1c[nh]cn1)c(n)=o-3',\n",
       " 'cc(=o)n[c@@h](cc1c[nh]c2ccccc12)c(=o)n[c@@h](cc1c[nh]cn1)c(=o)n[c@@h](cc1c[nh]cn1)c(n)=o-4',\n",
       " 'cc(=o)n[c@@h](cc1c[nh]c2ccccc12)c(=o)n[c@@h](cc1c[nh]cn1)c(=o)n[c@@h](cc1c[nh]cn1)c(n)=o-5',\n",
       " 'cc(=o)n[c@@h](cc1c[nh]c2ccccc12)c(=o)n[c@@h](cc1c[nh]cn1)c(=o)n[c@@h](cc1c[nh]cn1)c(n)=o-6',\n",
       " 'cc(=o)n[c@@h](cc1c[nh]c2ccccc12)c(=o)n[c@@h](cc1c[nh]cn1)c(=o)n[c@@h](cc1c[nh]cn1)c(n)=o-7',\n",
       " 'cscc[c@h](nc(=o)[c@h](cc1c[nh]c2ccccc12)nc(=o)[c@h](cc1c[nh]c2ccccc12)nc(c)=o)c(n)=o-0',\n",
       " 'cscc[c@h](nc(=o)[c@h](cc1c[nh]c2ccccc12)nc(=o)[c@h](cc1c[nh]c2ccccc12)nc(c)=o)c(n)=o-1',\n",
       " 'cscc[c@h](nc(=o)[c@h](cc1c[nh]c2ccccc12)nc(=o)[c@h](cc1c[nh]c2ccccc12)nc(c)=o)c(n)=o-2',\n",
       " 'cscc[c@h](nc(=o)[c@h](cc1c[nh]c2ccccc12)nc(=o)[c@h](cc1c[nh]c2ccccc12)nc(c)=o)c(n)=o-3',\n",
       " 'cscc[c@h](nc(=o)[c@h](cc1c[nh]c2ccccc12)nc(=o)[c@h](cc1c[nh]c2ccccc12)nc(c)=o)c(n)=o-4',\n",
       " 'cscc[c@h](nc(=o)[c@h](cc1c[nh]c2ccccc12)nc(=o)[c@h](cc1c[nh]c2ccccc12)nc(c)=o)c(n)=o-5',\n",
       " 'cscc[c@h](nc(=o)[c@h](cc1c[nh]c2ccccc12)nc(=o)[c@h](cc1c[nh]c2ccccc12)nc(c)=o)c(n)=o-6',\n",
       " 'cscc[c@h](nc(=o)[c@h](cc1c[nh]c2ccccc12)nc(=o)[c@h](cc1c[nh]c2ccccc12)nc(c)=o)c(n)=o-7',\n",
       " 'cscc[c@h](nc(=o)[c@h](cc1c[nh]c2ccccc12)nc(=o)[c@h](cc1c[nh]c2ccccc12)nc(c)=o)c(n)=o-8',\n",
       " 'cscc[c@h](nc(=o)[c@h](cc1c[nh]c2ccccc12)nc(=o)[c@h](cc1c[nh]c2ccccc12)nc(c)=o)c(n)=o-9',\n",
       " 'cc(=o)n[c@@h](ccc(=o)o)c(=o)n[c@@h](cc1ccc(o)cc1)c(=o)n[c@@h](ccc(=o)o)c(n)=o-0',\n",
       " 'cc(=o)n[c@@h](ccc(=o)o)c(=o)n[c@@h](cc1ccc(o)cc1)c(=o)n[c@@h](ccc(=o)o)c(n)=o-1',\n",
       " 'cc(=o)n[c@@h](ccc(=o)o)c(=o)n[c@@h](cc1ccc(o)cc1)c(=o)n[c@@h](ccc(=o)o)c(n)=o-2',\n",
       " 'cc(=o)n[c@@h](ccc(=o)o)c(=o)n[c@@h](cc1ccc(o)cc1)c(=o)n[c@@h](ccc(=o)o)c(n)=o-3',\n",
       " 'cc(=o)n[c@@h](ccc(=o)o)c(=o)n[c@@h](cc1ccc(o)cc1)c(=o)n[c@@h](ccc(=o)o)c(n)=o-4',\n",
       " 'cc(=o)n[c@@h](cc1c[nh]cn1)c(=o)n[c@@h](ccc(n)=o)c(=o)n[c@@h](cc1c[nh]cn1)c(n)=o-0',\n",
       " 'cc(=o)n[c@@h](cc1c[nh]cn1)c(=o)n[c@@h](ccc(n)=o)c(=o)n[c@@h](cc1c[nh]cn1)c(n)=o-1',\n",
       " 'cc(=o)n[c@@h](cc1c[nh]cn1)c(=o)n[c@@h](ccc(n)=o)c(=o)n[c@@h](cc1c[nh]cn1)c(n)=o-2',\n",
       " 'cc(=o)n[c@@h](cc1c[nh]cn1)c(=o)n[c@@h](ccc(n)=o)c(=o)n[c@@h](cc1c[nh]cn1)c(n)=o-3',\n",
       " 'cc(=o)n[c@@h](cc1c[nh]cn1)c(=o)n[c@@h](ccc(n)=o)c(=o)n[c@@h](cc1c[nh]cn1)c(n)=o-4',\n",
       " 'cc(=o)n[c@@h](cc1ccc(o)cc1)c(=o)n[c@@h](ccc(n)=o)c(=o)n[c@@h](cc1c[nh]cn1)c(n)=o-0',\n",
       " 'cc(=o)n[c@@h](cc1ccc(o)cc1)c(=o)n[c@@h](ccc(n)=o)c(=o)n[c@@h](cc1c[nh]cn1)c(n)=o-1',\n",
       " 'cc(=o)n[c@@h](cc1ccc(o)cc1)c(=o)n[c@@h](ccc(n)=o)c(=o)n[c@@h](cc1c[nh]cn1)c(n)=o-2',\n",
       " 'cc(=o)n[c@@h](cc1ccc(o)cc1)c(=o)n[c@@h](ccc(n)=o)c(=o)n[c@@h](cc1c[nh]cn1)c(n)=o-3',\n",
       " 'cc(=o)n[c@@h](cc1ccc(o)cc1)c(=o)n[c@@h](ccc(n)=o)c(=o)n[c@@h](cc1c[nh]cn1)c(n)=o-4',\n",
       " 'cscc[c@h](nc(c)=o)c(=o)n[c@@h](cc1c[nh]cn1)c(=o)n[c@@h](cc1c[nh]cn1)c(n)=o-0',\n",
       " 'cscc[c@h](nc(c)=o)c(=o)n[c@@h](cc1c[nh]cn1)c(=o)n[c@@h](cc1c[nh]cn1)c(n)=o-1',\n",
       " 'cscc[c@h](nc(c)=o)c(=o)n[c@@h](cc1c[nh]cn1)c(=o)n[c@@h](cc1c[nh]cn1)c(n)=o-2',\n",
       " 'cscc[c@h](nc(c)=o)c(=o)n[c@@h](cc1c[nh]cn1)c(=o)n[c@@h](cc1c[nh]cn1)c(n)=o-3',\n",
       " 'cscc[c@h](nc(c)=o)c(=o)n[c@@h](cc1c[nh]cn1)c(=o)n[c@@h](cc1c[nh]cn1)c(n)=o-4',\n",
       " 'cscc[c@h](nc(=o)[c@h](cc1c[nh]c2ccccc12)nc(=o)[c@h](ccsc)nc(c)=o)c(n)=o-0',\n",
       " 'cscc[c@h](nc(=o)[c@h](cc1c[nh]c2ccccc12)nc(=o)[c@h](ccsc)nc(c)=o)c(n)=o-1',\n",
       " 'cscc[c@h](nc(=o)[c@h](cc1c[nh]c2ccccc12)nc(=o)[c@h](ccsc)nc(c)=o)c(n)=o-2',\n",
       " 'cscc[c@h](nc(=o)[c@h](cc1c[nh]c2ccccc12)nc(=o)[c@h](ccsc)nc(c)=o)c(n)=o-3',\n",
       " 'cscc[c@h](nc(=o)[c@h](cc1c[nh]c2ccccc12)nc(=o)[c@h](ccsc)nc(c)=o)c(n)=o-4',\n",
       " 'cscc[c@h](nc(=o)[c@h](cc1c[nh]c2ccccc12)nc(=o)[c@h](ccsc)nc(c)=o)c(n)=o-5',\n",
       " 'cscc[c@h](nc(=o)[c@h](cc1c[nh]c2ccccc12)nc(=o)[c@h](ccsc)nc(c)=o)c(n)=o-6',\n",
       " 'cscc[c@h](nc(=o)[c@h](cc1c[nh]c2ccccc12)nc(=o)[c@h](ccsc)nc(c)=o)c(n)=o-7',\n",
       " 'cc(=o)n[c@@h](cc(c)c)c(=o)n[c@@h](cc1c[nh]c2ccccc12)c(=o)n1ccc[c@h]1c(n)=o-0',\n",
       " 'cc(=o)n[c@@h](cc(c)c)c(=o)n[c@@h](cc1c[nh]c2ccccc12)c(=o)n1ccc[c@h]1c(n)=o-1',\n",
       " 'cc(=o)n[c@@h](cc(c)c)c(=o)n[c@@h](cc1c[nh]c2ccccc12)c(=o)n1ccc[c@h]1c(n)=o-2',\n",
       " 'cc(=o)n[c@@h](cc(c)c)c(=o)n[c@@h](cc1c[nh]c2ccccc12)c(=o)n1ccc[c@h]1c(n)=o-3',\n",
       " 'cc(=o)n[c@@h](cc(c)c)c(=o)n[c@@h](cc1c[nh]c2ccccc12)c(=o)n1ccc[c@h]1c(n)=o-4',\n",
       " 'cc(=o)n[c@@h](cc(c)c)c(=o)n[c@@h](cc1c[nh]c2ccccc12)c(=o)n1ccc[c@h]1c(n)=o-5',\n",
       " 'cc(=o)n[c@@h](cc(c)c)c(=o)n[c@@h](cc1ccc(o)cc1)c(=o)n[c@@h](ccc(=o)o)c(n)=o-0',\n",
       " 'cc(=o)n[c@@h](cc(c)c)c(=o)n[c@@h](cc1ccc(o)cc1)c(=o)n[c@@h](ccc(=o)o)c(n)=o-1',\n",
       " 'cc(=o)n[c@@h](cc(c)c)c(=o)n[c@@h](cc1ccc(o)cc1)c(=o)n[c@@h](ccc(=o)o)c(n)=o-2',\n",
       " 'cc(=o)n[c@@h](cc(c)c)c(=o)n[c@@h](cc1ccc(o)cc1)c(=o)n[c@@h](ccc(=o)o)c(n)=o-3',\n",
       " 'cc(=o)n[c@@h](cc(c)c)c(=o)n[c@@h](cc1ccc(o)cc1)c(=o)n[c@@h](ccc(=o)o)c(n)=o-4',\n",
       " 'cscc[c@h](nc(=o)[c@h](cc1c[nh]cn1)nc(c)=o)c(=o)n[c@@h](cc1c[nh]cn1)c(n)=o-0',\n",
       " 'cscc[c@h](nc(=o)[c@h](cc1c[nh]cn1)nc(c)=o)c(=o)n[c@@h](cc1c[nh]cn1)c(n)=o-1',\n",
       " 'cscc[c@h](nc(=o)[c@h](cc1c[nh]cn1)nc(c)=o)c(=o)n[c@@h](cc1c[nh]cn1)c(n)=o-2',\n",
       " 'cscc[c@h](nc(=o)[c@h](cc1c[nh]cn1)nc(c)=o)c(=o)n[c@@h](cc1c[nh]cn1)c(n)=o-3',\n",
       " 'cc(=o)n1ccc[c@h]1c(=o)n[c@@h](ccc(=o)o)c(=o)n[c@@h](cc1ccc(o)cc1)c(n)=o-0',\n",
       " 'cc(=o)n1ccc[c@h]1c(=o)n[c@@h](ccc(=o)o)c(=o)n[c@@h](cc1ccc(o)cc1)c(n)=o-1',\n",
       " 'cc(=o)n1ccc[c@h]1c(=o)n[c@@h](ccc(=o)o)c(=o)n[c@@h](cc1ccc(o)cc1)c(n)=o-2',\n",
       " 'cc(=o)n1ccc[c@h]1c(=o)n[c@@h](ccc(=o)o)c(=o)n[c@@h](cc1ccc(o)cc1)c(n)=o-3',\n",
       " 'cc(=o)n[c@@h](cc1c[nh]c2ccccc12)c(=o)n[c@@h](cc(c)c)c(=o)n[c@@h](ccc(=o)o)c(n)=o-0',\n",
       " 'cc(=o)n[c@@h](cc1c[nh]c2ccccc12)c(=o)n[c@@h](cc(c)c)c(=o)n[c@@h](ccc(=o)o)c(n)=o-1',\n",
       " 'cc(=o)n[c@@h](cc1c[nh]c2ccccc12)c(=o)n[c@@h](cc(c)c)c(=o)n[c@@h](ccc(=o)o)c(n)=o-2',\n",
       " 'cc(=o)n[c@@h](cc1c[nh]c2ccccc12)c(=o)n[c@@h](cc(c)c)c(=o)n[c@@h](ccc(=o)o)c(n)=o-3',\n",
       " 'cc(=o)n[c@@h](cc1c[nh]c2ccccc12)c(=o)n[c@@h](cc(c)c)c(=o)n[c@@h](ccc(=o)o)c(n)=o-4',\n",
       " 'cscc[c@h](nc(=o)[c@@h]1cccn1c(c)=o)c(=o)n[c@@h](ccc(=o)o)c(n)=o-0',\n",
       " 'cscc[c@h](nc(=o)[c@@h]1cccn1c(c)=o)c(=o)n[c@@h](ccc(=o)o)c(n)=o-1',\n",
       " 'cscc[c@h](nc(=o)[c@@h]1cccn1c(c)=o)c(=o)n[c@@h](ccc(=o)o)c(n)=o-2',\n",
       " 'cscc[c@h](nc(=o)[c@@h]1cccn1c(c)=o)c(=o)n[c@@h](ccc(=o)o)c(n)=o-3',\n",
       " 'cc(=o)n[c@@h](cc(c)c)c(=o)n[c@@h](cc(c)c)c(=o)n[c@@h](cc(c)c)c(n)=o-0',\n",
       " 'cc(=o)n[c@@h](cc(c)c)c(=o)n[c@@h](cc(c)c)c(=o)n[c@@h](cc(c)c)c(n)=o-1',\n",
       " 'cc(=o)n[c@@h](cc(c)c)c(=o)n[c@@h](cc(c)c)c(=o)n[c@@h](cc(c)c)c(n)=o-2',\n",
       " 'cc(=o)n[c@@h](cc(c)c)c(=o)n[c@@h](cc(c)c)c(=o)n[c@@h](cc(c)c)c(n)=o-3',\n",
       " 'cscc[c@h](nc(=o)[c@h](ccsc)nc(=o)[c@h](cc1c[nh]c2ccccc12)nc(c)=o)c(n)=o-0',\n",
       " 'cscc[c@h](nc(=o)[c@h](ccsc)nc(=o)[c@h](cc1c[nh]c2ccccc12)nc(c)=o)c(n)=o-1',\n",
       " 'cscc[c@h](nc(=o)[c@h](ccsc)nc(=o)[c@h](cc1c[nh]c2ccccc12)nc(c)=o)c(n)=o-2',\n",
       " 'cscc[c@h](nc(=o)[c@h](ccsc)nc(=o)[c@h](cc1c[nh]c2ccccc12)nc(c)=o)c(n)=o-3',\n",
       " 'cscc[c@h](nc(=o)[c@h](ccsc)nc(=o)[c@h](cc1c[nh]c2ccccc12)nc(c)=o)c(n)=o-4',\n",
       " 'cscc[c@h](nc(=o)[c@h](ccsc)nc(=o)[c@h](cc1c[nh]c2ccccc12)nc(c)=o)c(n)=o-5',\n",
       " 'cscc[c@h](nc(=o)[c@h](cc(c)c)nc(=o)[c@@h]1cccn1c(c)=o)c(n)=o-0',\n",
       " 'cscc[c@h](nc(=o)[c@h](cc(c)c)nc(=o)[c@@h]1cccn1c(c)=o)c(n)=o-1',\n",
       " 'cscc[c@h](nc(=o)[c@h](cc(c)c)nc(=o)[c@@h]1cccn1c(c)=o)c(n)=o-2',\n",
       " 'cc(=o)n[c@@h](cc(c)c)c(=o)n[c@@h](ccc(n)=o)c(=o)n[c@@h](ccc(=o)o)c(n)=o-0',\n",
       " 'cc(=o)n[c@@h](cc(c)c)c(=o)n[c@@h](ccc(n)=o)c(=o)n[c@@h](ccc(=o)o)c(n)=o-1',\n",
       " 'cc(=o)n[c@@h](cc(c)c)c(=o)n[c@@h](ccc(n)=o)c(=o)n[c@@h](ccc(=o)o)c(n)=o-2',\n",
       " 'cc(=o)n[c@@h](cc(c)c)c(=o)n[c@@h](ccc(n)=o)c(=o)n[c@@h](ccc(=o)o)c(n)=o-3',\n",
       " 'cscc[c@h](nc(=o)[c@h](cc1ccc(o)cc1)nc(c)=o)c(=o)n[c@@h](cc1ccc(o)cc1)c(n)=o-0',\n",
       " 'cscc[c@h](nc(=o)[c@h](cc1ccc(o)cc1)nc(c)=o)c(=o)n[c@@h](cc1ccc(o)cc1)c(n)=o-1',\n",
       " 'cscc[c@h](nc(=o)[c@h](cc1ccc(o)cc1)nc(c)=o)c(=o)n[c@@h](cc1ccc(o)cc1)c(n)=o-2',\n",
       " 'cscc[c@h](nc(=o)[c@h](cc1ccc(o)cc1)nc(c)=o)c(=o)n[c@@h](cc1ccc(o)cc1)c(n)=o-3',\n",
       " 'cscc[c@h](nc(=o)[c@h](cc1ccc(o)cc1)nc(c)=o)c(=o)n[c@@h](cc1ccc(o)cc1)c(n)=o-4',\n",
       " 'cc(=o)n[c@@h](cc1ccc(o)cc1)c(=o)n[c@@h](ccc(=o)o)c(=o)n[c@@h](ccc(=o)o)c(n)=o-0',\n",
       " 'cc(=o)n[c@@h](cc1ccc(o)cc1)c(=o)n[c@@h](ccc(=o)o)c(=o)n[c@@h](ccc(=o)o)c(n)=o-1',\n",
       " 'cc(=o)n[c@@h](cc1ccc(o)cc1)c(=o)n[c@@h](ccc(=o)o)c(=o)n[c@@h](ccc(=o)o)c(n)=o-2',\n",
       " 'cc(=o)n[c@@h](cc1ccc(o)cc1)c(=o)n[c@@h](ccc(=o)o)c(=o)n[c@@h](ccc(=o)o)c(n)=o-3',\n",
       " 'cc(=o)n[c@@h](cc1c[nh]cn1)c(=o)n[c@@h](ccc(=o)o)c(=o)n[c@@h](ccc(=o)o)c(n)=o-0',\n",
       " 'cc(=o)n[c@@h](cc1c[nh]cn1)c(=o)n[c@@h](ccc(=o)o)c(=o)n[c@@h](ccc(=o)o)c(n)=o-1',\n",
       " 'cc(=o)n[c@@h](cc1c[nh]cn1)c(=o)n[c@@h](ccc(=o)o)c(=o)n[c@@h](ccc(=o)o)c(n)=o-2',\n",
       " 'cscc[c@h](nc(=o)[c@h](ccsc)nc(=o)[c@h](ccsc)nc(c)=o)c(n)=o-0',\n",
       " 'cscc[c@h](nc(=o)[c@h](ccsc)nc(=o)[c@h](ccsc)nc(c)=o)c(n)=o-1',\n",
       " 'cscc[c@h](nc(=o)[c@h](ccsc)nc(=o)[c@h](ccsc)nc(c)=o)c(n)=o-2',\n",
       " 'cscc[c@h](nc(=o)[c@h](ccsc)nc(=o)[c@h](ccsc)nc(c)=o)c(n)=o-3',\n",
       " 'cc(=o)n[c@@h](cc(c)c)c(=o)n[c@@h](cc(c)c)c(=o)n[c@@h](cc1c[nh]c2ccccc12)c(n)=o-0',\n",
       " 'cc(=o)n[c@@h](cc(c)c)c(=o)n[c@@h](cc(c)c)c(=o)n[c@@h](cc1c[nh]c2ccccc12)c(n)=o-1',\n",
       " 'cc(=o)n[c@@h](cc(c)c)c(=o)n[c@@h](cc(c)c)c(=o)n[c@@h](cc1c[nh]c2ccccc12)c(n)=o-2',\n",
       " 'cc(=o)n[c@@h](cc(c)c)c(=o)n[c@@h](cc(c)c)c(=o)n[c@@h](cc1c[nh]c2ccccc12)c(n)=o-3',\n",
       " 'cc(=o)n[c@@h](cc(c)c)c(=o)n[c@@h](cc(c)c)c(=o)n[c@@h](cc1c[nh]c2ccccc12)c(n)=o-4',\n",
       " 'cc(=o)n[c@@h](cc(c)c)c(=o)n[c@@h](cc(c)c)c(=o)n[c@@h](cc1c[nh]c2ccccc12)c(n)=o-5',\n",
       " 'cc(=o)n[c@@h](cc(c)c)c(=o)n[c@@h](cc(c)c)c(=o)n[c@@h](cc1c[nh]c2ccccc12)c(n)=o-6',\n",
       " 'cc(=o)n[c@@h](cc(c)c)c(=o)n[c@@h](cc(c)c)c(=o)n[c@@h](cc1c[nh]c2ccccc12)c(n)=o-7',\n",
       " 'cscc[c@h](nc(c)=o)c(=o)n[c@@h](cc(c)c)c(=o)n[c@@h](ccc(=o)o)c(n)=o-0',\n",
       " 'cscc[c@h](nc(c)=o)c(=o)n[c@@h](cc(c)c)c(=o)n[c@@h](ccc(=o)o)c(n)=o-1',\n",
       " 'cscc[c@h](nc(c)=o)c(=o)n[c@@h](cc(c)c)c(=o)n[c@@h](ccc(=o)o)c(n)=o-2',\n",
       " 'cscc[c@h](nc(c)=o)c(=o)n[c@@h](cc(c)c)c(=o)n[c@@h](ccc(=o)o)c(n)=o-3',\n",
       " 'cscc[c@h](nc(c)=o)c(=o)n[c@@h](cc(c)c)c(=o)n[c@@h](ccc(=o)o)c(n)=o-4',\n",
       " 'cc(=o)n[c@@h](cc1c[nh]c2ccccc12)c(=o)n[c@@h](cc1c[nh]c2ccccc12)c(=o)n[c@@h](cc1c[nh]c2ccccc12)c(n)=o-0',\n",
       " 'cc(=o)n[c@@h](cc1c[nh]c2ccccc12)c(=o)n[c@@h](cc1c[nh]c2ccccc12)c(=o)n[c@@h](cc1c[nh]c2ccccc12)c(n)=o-1',\n",
       " 'cc(=o)n[c@@h](cc1c[nh]c2ccccc12)c(=o)n[c@@h](cc1c[nh]c2ccccc12)c(=o)n[c@@h](cc1c[nh]c2ccccc12)c(n)=o-2',\n",
       " 'cc(=o)n[c@@h](cc1c[nh]c2ccccc12)c(=o)n[c@@h](cc1c[nh]c2ccccc12)c(=o)n[c@@h](cc1c[nh]c2ccccc12)c(n)=o-3',\n",
       " 'cc(=o)n[c@@h](cc1c[nh]c2ccccc12)c(=o)n[c@@h](cc1c[nh]c2ccccc12)c(=o)n[c@@h](cc1c[nh]c2ccccc12)c(n)=o-4',\n",
       " 'cc(=o)n[c@@h](cc1c[nh]c2ccccc12)c(=o)n[c@@h](cc1c[nh]c2ccccc12)c(=o)n[c@@h](cc1c[nh]c2ccccc12)c(n)=o-5',\n",
       " 'cc(=o)n[c@@h](cc1c[nh]c2ccccc12)c(=o)n[c@@h](cc1c[nh]c2ccccc12)c(=o)n[c@@h](cc1c[nh]c2ccccc12)c(n)=o-6',\n",
       " 'cc(=o)n[c@@h](cc1c[nh]c2ccccc12)c(=o)n[c@@h](cc1c[nh]c2ccccc12)c(=o)n[c@@h](cc1c[nh]c2ccccc12)c(n)=o-7',\n",
       " 'cc(=o)n[c@@h](cc1c[nh]c2ccccc12)c(=o)n[c@@h](cc1c[nh]c2ccccc12)c(=o)n[c@@h](cc1c[nh]c2ccccc12)c(n)=o-8',\n",
       " 'cc(=o)n[c@@h](cc1c[nh]c2ccccc12)c(=o)n[c@@h](cc1c[nh]c2ccccc12)c(=o)n[c@@h](cc1c[nh]c2ccccc12)c(n)=o-9',\n",
       " 'cc(=o)n[c@@h](cc1c[nh]c2ccccc12)c(=o)n[c@@h](cc1c[nh]c2ccccc12)c(=o)n[c@@h](cc1c[nh]c2ccccc12)c(n)=o-10',\n",
       " 'cc(=o)n[c@@h](cc1c[nh]c2ccccc12)c(=o)n[c@@h](cc1c[nh]c2ccccc12)c(=o)n[c@@h](cc1c[nh]c2ccccc12)c(n)=o-11',\n",
       " 'cc(=o)n[c@@h](cc1c[nh]c2ccccc12)c(=o)n[c@@h](cc1c[nh]c2ccccc12)c(=o)n[c@@h](cc1c[nh]c2ccccc12)c(n)=o-12',\n",
       " 'cc(=o)n[c@@h](cc1c[nh]c2ccccc12)c(=o)n[c@@h](cc1c[nh]c2ccccc12)c(=o)n[c@@h](cc1c[nh]c2ccccc12)c(n)=o-13',\n",
       " 'cc(=o)n[c@@h](cc1c[nh]c2ccccc12)c(=o)n[c@@h](ccc(n)=o)c(=o)n[c@@h](cc1c[nh]c2ccccc12)c(n)=o-0',\n",
       " 'cc(=o)n[c@@h](cc1c[nh]c2ccccc12)c(=o)n[c@@h](ccc(n)=o)c(=o)n[c@@h](cc1c[nh]c2ccccc12)c(n)=o-1',\n",
       " 'cc(=o)n[c@@h](cc1c[nh]c2ccccc12)c(=o)n[c@@h](ccc(n)=o)c(=o)n[c@@h](cc1c[nh]c2ccccc12)c(n)=o-2',\n",
       " 'cc(=o)n[c@@h](cc1c[nh]c2ccccc12)c(=o)n[c@@h](ccc(n)=o)c(=o)n[c@@h](cc1c[nh]c2ccccc12)c(n)=o-3',\n",
       " 'cc(=o)n[c@@h](cc1c[nh]c2ccccc12)c(=o)n[c@@h](ccc(n)=o)c(=o)n[c@@h](cc1c[nh]c2ccccc12)c(n)=o-4',\n",
       " 'cc(=o)n[c@@h](cc1c[nh]c2ccccc12)c(=o)n[c@@h](ccc(n)=o)c(=o)n[c@@h](cc1c[nh]c2ccccc12)c(n)=o-5',\n",
       " 'cc(=o)n[c@@h](cc1c[nh]c2ccccc12)c(=o)n[c@@h](ccc(n)=o)c(=o)n[c@@h](cc1c[nh]c2ccccc12)c(n)=o-6',\n",
       " 'cc(=o)n[c@@h](cc1c[nh]c2ccccc12)c(=o)n[c@@h](ccc(n)=o)c(=o)n[c@@h](cc1c[nh]c2ccccc12)c(n)=o-7',\n",
       " 'cc(=o)n[c@@h](cc1c[nh]c2ccccc12)c(=o)n[c@@h](ccc(n)=o)c(=o)n[c@@h](cc1c[nh]c2ccccc12)c(n)=o-8',\n",
       " 'cc(=o)n[c@@h](cc1c[nh]c2ccccc12)c(=o)n[c@@h](ccc(n)=o)c(=o)n[c@@h](cc1c[nh]c2ccccc12)c(n)=o-9',\n",
       " 'cc(=o)n[c@@h](cc1c[nh]c2ccccc12)c(=o)n[c@@h](ccc(n)=o)c(=o)n[c@@h](cc1c[nh]c2ccccc12)c(n)=o-10',\n",
       " 'cc(=o)n[c@@h](cc1c[nh]c2ccccc12)c(=o)n[c@@h](ccc(n)=o)c(=o)n[c@@h](cc1c[nh]c2ccccc12)c(n)=o-11',\n",
       " 'cc(=o)n[c@@h](cc1c[nh]c2ccccc12)c(=o)n[c@@h](ccc(n)=o)c(=o)n[c@@h](cc1c[nh]c2ccccc12)c(n)=o-12',\n",
       " 'cscc[c@h](nc(=o)[c@h](ccc(=o)o)nc(=o)[c@h](ccc(n)=o)nc(c)=o)c(n)=o-0',\n",
       " 'cscc[c@h](nc(=o)[c@h](ccc(=o)o)nc(=o)[c@h](ccc(n)=o)nc(c)=o)c(n)=o-1',\n",
       " 'cscc[c@h](nc(=o)[c@h](ccc(=o)o)nc(=o)[c@h](ccc(n)=o)nc(c)=o)c(n)=o-2',\n",
       " 'cscc[c@h](nc(=o)[c@h](cc1ccc(o)cc1)nc(c)=o)c(=o)n[c@@h](cc1c[nh]cn1)c(n)=o-0',\n",
       " 'cscc[c@h](nc(=o)[c@h](cc1ccc(o)cc1)nc(c)=o)c(=o)n[c@@h](cc1c[nh]cn1)c(n)=o-1',\n",
       " 'cscc[c@h](nc(=o)[c@h](cc1ccc(o)cc1)nc(c)=o)c(=o)n[c@@h](cc1c[nh]cn1)c(n)=o-2',\n",
       " 'cscc[c@h](nc(=o)[c@h](cc1ccc(o)cc1)nc(c)=o)c(=o)n[c@@h](cc1c[nh]cn1)c(n)=o-3',\n",
       " 'cscc[c@h](nc(=o)[c@h](cc1ccc(o)cc1)nc(c)=o)c(=o)n[c@@h](cc1c[nh]cn1)c(n)=o-4',\n",
       " 'cc(=o)n[c@@h](ccc(=o)o)c(=o)n[c@@h](ccc(n)=o)c(=o)n[c@@h](ccc(=o)o)c(n)=o-0',\n",
       " 'cc(=o)n[c@@h](ccc(=o)o)c(=o)n[c@@h](ccc(n)=o)c(=o)n[c@@h](ccc(=o)o)c(n)=o-1',\n",
       " 'cc(=o)n[c@@h](ccc(=o)o)c(=o)n[c@@h](ccc(n)=o)c(=o)n[c@@h](ccc(=o)o)c(n)=o-2',\n",
       " 'cc(=o)n[c@@h](ccc(=o)o)c(=o)n[c@@h](ccc(n)=o)c(=o)n[c@@h](ccc(=o)o)c(n)=o-3',\n",
       " 'cc(=o)n[c@@h](cc1ccc(o)cc1)c(=o)n[c@@h](cc1ccc(o)cc1)c(=o)n[c@@h](cc1ccc(o)cc1)c(n)=o-0',\n",
       " 'cc(=o)n[c@@h](cc1ccc(o)cc1)c(=o)n[c@@h](cc1ccc(o)cc1)c(=o)n[c@@h](cc1ccc(o)cc1)c(n)=o-1',\n",
       " 'cc(=o)n[c@@h](cc1ccc(o)cc1)c(=o)n[c@@h](cc1ccc(o)cc1)c(=o)n[c@@h](cc1ccc(o)cc1)c(n)=o-2',\n",
       " 'cc(=o)n[c@@h](cc1ccc(o)cc1)c(=o)n[c@@h](cc1ccc(o)cc1)c(=o)n[c@@h](cc1ccc(o)cc1)c(n)=o-3',\n",
       " 'cc(=o)n[c@@h](cc1ccc(o)cc1)c(=o)n[c@@h](cc1ccc(o)cc1)c(=o)n[c@@h](cc1ccc(o)cc1)c(n)=o-4',\n",
       " 'cc(=o)n[c@@h](cc1ccc(o)cc1)c(=o)n[c@@h](cc1ccc(o)cc1)c(=o)n[c@@h](cc1ccc(o)cc1)c(n)=o-5',\n",
       " 'cc(=o)n[c@@h](cc1ccc(o)cc1)c(=o)n[c@@h](cc1ccc(o)cc1)c(=o)n[c@@h](cc1ccc(o)cc1)c(n)=o-6',\n",
       " 'cc(=o)n[c@@h](cc1ccc(o)cc1)c(=o)n[c@@h](cc1ccc(o)cc1)c(=o)n[c@@h](cc1ccc(o)cc1)c(n)=o-7',\n",
       " 'cc(=o)n[c@@h](cc1ccc(o)cc1)c(=o)n[c@@h](cc1ccc(o)cc1)c(=o)n[c@@h](cc1ccc(o)cc1)c(n)=o-8',\n",
       " 'cc(=o)n1ccc[c@h]1c(=o)n[c@@h](ccc(n)=o)c(=o)n1ccc[c@h]1c(n)=o-0',\n",
       " 'cc(=o)n1ccc[c@h]1c(=o)n[c@@h](ccc(n)=o)c(=o)n1ccc[c@h]1c(n)=o-1',\n",
       " 'cc(=o)n1ccc[c@h]1c(=o)n[c@@h](cc1c[nh]c2ccccc12)c(=o)n1ccc[c@h]1c(n)=o-0',\n",
       " 'cc(=o)n1ccc[c@h]1c(=o)n[c@@h](cc1c[nh]c2ccccc12)c(=o)n1ccc[c@h]1c(n)=o-1',\n",
       " 'cc(=o)n1ccc[c@h]1c(=o)n[c@@h](cc1c[nh]c2ccccc12)c(=o)n1ccc[c@h]1c(n)=o-2',\n",
       " 'cc(=o)n1ccc[c@h]1c(=o)n[c@@h](cc1c[nh]c2ccccc12)c(=o)n1ccc[c@h]1c(n)=o-3',\n",
       " 'cc(=o)n1ccc[c@h]1c(=o)n[c@@h](cc1c[nh]c2ccccc12)c(=o)n1ccc[c@h]1c(n)=o-4',\n",
       " 'cc(=o)n1ccc[c@h]1c(=o)n[c@@h](cc1c[nh]c2ccccc12)c(=o)n1ccc[c@h]1c(n)=o-5',\n",
       " 'cc(=o)n[c@@h](cc1c[nh]c2ccccc12)c(=o)n1ccc[c@h]1c(=o)n[c@@h](cc1c[nh]cn1)c(n)=o-0',\n",
       " 'cc(=o)n[c@@h](cc1c[nh]c2ccccc12)c(=o)n1ccc[c@h]1c(=o)n[c@@h](cc1c[nh]cn1)c(n)=o-1',\n",
       " 'cc(=o)n[c@@h](cc1c[nh]c2ccccc12)c(=o)n1ccc[c@h]1c(=o)n[c@@h](cc1c[nh]cn1)c(n)=o-2',\n",
       " 'cc(=o)n[c@@h](cc1c[nh]c2ccccc12)c(=o)n1ccc[c@h]1c(=o)n[c@@h](cc1c[nh]cn1)c(n)=o-3',\n",
       " 'cc(=o)n[c@@h](cc1c[nh]c2ccccc12)c(=o)n1ccc[c@h]1c(=o)n[c@@h](cc1c[nh]cn1)c(n)=o-4',\n",
       " 'cc(=o)n[c@@h](cc1c[nh]c2ccccc12)c(=o)n1ccc[c@h]1c(=o)n[c@@h](cc1c[nh]cn1)c(n)=o-5',\n",
       " 'cc(=o)n[c@@h](cc1c[nh]c2ccccc12)c(=o)n1ccc[c@h]1c(=o)n[c@@h](cc1c[nh]cn1)c(n)=o-6',\n",
       " 'cc(=o)n[c@@h](ccc(n)=o)c(=o)n1ccc[c@h]1c(=o)n[c@@h](ccc(=o)o)c(n)=o-0',\n",
       " 'cc(=o)n[c@@h](ccc(n)=o)c(=o)n1ccc[c@h]1c(=o)n[c@@h](ccc(=o)o)c(n)=o-1',\n",
       " 'cc(=o)n[c@@h](ccc(n)=o)c(=o)n1ccc[c@h]1c(=o)n[c@@h](ccc(=o)o)c(n)=o-2',\n",
       " 'cc(=o)n[c@@h](ccc(n)=o)c(=o)n1ccc[c@h]1c(=o)n[c@@h](ccc(=o)o)c(n)=o-3',\n",
       " 'cc(=o)n[c@@h](cc1c[nh]c2ccccc12)c(=o)n[c@@h](cc1c[nh]cn1)c(=o)n[c@@h](ccc(n)=o)c(n)=o-0',\n",
       " 'cc(=o)n[c@@h](cc1c[nh]c2ccccc12)c(=o)n[c@@h](cc1c[nh]cn1)c(=o)n[c@@h](ccc(n)=o)c(n)=o-1',\n",
       " 'cc(=o)n[c@@h](cc1c[nh]c2ccccc12)c(=o)n[c@@h](cc1c[nh]cn1)c(=o)n[c@@h](ccc(n)=o)c(n)=o-2',\n",
       " 'cc(=o)n[c@@h](cc1c[nh]c2ccccc12)c(=o)n[c@@h](cc1c[nh]cn1)c(=o)n[c@@h](ccc(n)=o)c(n)=o-3',\n",
       " 'cc(=o)n[c@@h](cc1c[nh]c2ccccc12)c(=o)n[c@@h](cc1c[nh]cn1)c(=o)n[c@@h](ccc(n)=o)c(n)=o-4',\n",
       " 'cc(=o)n[c@@h](cc1c[nh]c2ccccc12)c(=o)n[c@@h](cc1c[nh]cn1)c(=o)n[c@@h](ccc(n)=o)c(n)=o-5',\n",
       " 'cscc[c@h](nc(=o)[c@h](cc(c)c)nc(c)=o)c(=o)n1ccc[c@h]1c(n)=o-0',\n",
       " 'cscc[c@h](nc(=o)[c@h](cc(c)c)nc(c)=o)c(=o)n1ccc[c@h]1c(n)=o-1',\n",
       " 'cscc[c@h](nc(=o)[c@h](cc(c)c)nc(c)=o)c(=o)n1ccc[c@h]1c(n)=o-2',\n",
       " 'cc(=o)n1ccc[c@h]1c(=o)n[c@@h](cc1ccc(o)cc1)c(=o)n[c@@h](ccc(=o)o)c(n)=o-0',\n",
       " 'cc(=o)n1ccc[c@h]1c(=o)n[c@@h](cc1ccc(o)cc1)c(=o)n[c@@h](ccc(=o)o)c(n)=o-1',\n",
       " 'cc(=o)n1ccc[c@h]1c(=o)n[c@@h](cc1ccc(o)cc1)c(=o)n[c@@h](ccc(=o)o)c(n)=o-2',\n",
       " 'cc(=o)n[c@@h](cc1c[nh]cn1)c(=o)n[c@@h](cc1ccc(o)cc1)c(=o)n[c@@h](cc1c[nh]cn1)c(n)=o-0',\n",
       " 'cc(=o)n[c@@h](cc1c[nh]cn1)c(=o)n[c@@h](cc1ccc(o)cc1)c(=o)n[c@@h](cc1c[nh]cn1)c(n)=o-1',\n",
       " 'cc(=o)n[c@@h](cc1c[nh]cn1)c(=o)n[c@@h](cc1ccc(o)cc1)c(=o)n[c@@h](cc1c[nh]cn1)c(n)=o-2',\n",
       " 'cc(=o)n[c@@h](cc1c[nh]cn1)c(=o)n[c@@h](cc1ccc(o)cc1)c(=o)n[c@@h](cc1c[nh]cn1)c(n)=o-3',\n",
       " 'cc(=o)n[c@@h](cc1c[nh]cn1)c(=o)n[c@@h](cc1ccc(o)cc1)c(=o)n[c@@h](cc1c[nh]cn1)c(n)=o-4',\n",
       " 'cc(=o)n[c@@h](cc1ccc(o)cc1)c(=o)n[c@@h](cc1ccc(o)cc1)c(=o)n[c@@h](cc1c[nh]cn1)c(n)=o-0',\n",
       " 'cc(=o)n[c@@h](cc1ccc(o)cc1)c(=o)n[c@@h](cc1ccc(o)cc1)c(=o)n[c@@h](cc1c[nh]cn1)c(n)=o-1',\n",
       " 'cc(=o)n[c@@h](cc1ccc(o)cc1)c(=o)n[c@@h](cc1ccc(o)cc1)c(=o)n[c@@h](cc1c[nh]cn1)c(n)=o-2',\n",
       " 'cc(=o)n[c@@h](cc1ccc(o)cc1)c(=o)n[c@@h](cc1ccc(o)cc1)c(=o)n[c@@h](cc1c[nh]cn1)c(n)=o-3',\n",
       " 'cc(=o)n[c@@h](cc1ccc(o)cc1)c(=o)n[c@@h](cc1ccc(o)cc1)c(=o)n[c@@h](cc1c[nh]cn1)c(n)=o-4',\n",
       " 'cc(=o)n[c@@h](cc1ccc(o)cc1)c(=o)n[c@@h](cc1ccc(o)cc1)c(=o)n[c@@h](cc1c[nh]cn1)c(n)=o-5',\n",
       " 'cc(=o)n[c@@h](cc1ccc(o)cc1)c(=o)n[c@@h](cc1ccc(o)cc1)c(=o)n[c@@h](cc1c[nh]cn1)c(n)=o-6',\n",
       " 'cc(=o)n[c@@h](cc1ccc(o)cc1)c(=o)n[c@@h](cc1c[nh]c2ccccc12)c(=o)n[c@@h](ccc(n)=o)c(n)=o-0',\n",
       " 'cc(=o)n[c@@h](cc1ccc(o)cc1)c(=o)n[c@@h](cc1c[nh]c2ccccc12)c(=o)n[c@@h](ccc(n)=o)c(n)=o-1',\n",
       " 'cc(=o)n[c@@h](cc1ccc(o)cc1)c(=o)n[c@@h](cc1c[nh]c2ccccc12)c(=o)n[c@@h](ccc(n)=o)c(n)=o-2',\n",
       " 'cc(=o)n[c@@h](cc1ccc(o)cc1)c(=o)n[c@@h](cc1c[nh]c2ccccc12)c(=o)n[c@@h](ccc(n)=o)c(n)=o-3',\n",
       " 'cc(=o)n[c@@h](cc1ccc(o)cc1)c(=o)n[c@@h](cc1c[nh]c2ccccc12)c(=o)n[c@@h](ccc(n)=o)c(n)=o-4',\n",
       " 'cc(=o)n[c@@h](cc1ccc(o)cc1)c(=o)n[c@@h](cc1c[nh]c2ccccc12)c(=o)n[c@@h](ccc(n)=o)c(n)=o-5',\n",
       " 'cc(=o)n[c@@h](cc1ccc(o)cc1)c(=o)n[c@@h](cc1c[nh]c2ccccc12)c(=o)n[c@@h](ccc(n)=o)c(n)=o-6',\n",
       " 'cc(=o)n[c@@h](cc(c)c)c(=o)n[c@@h](ccc(=o)o)c(=o)n[c@@h](ccc(n)=o)c(n)=o-0',\n",
       " 'cc(=o)n[c@@h](cc(c)c)c(=o)n[c@@h](ccc(=o)o)c(=o)n[c@@h](ccc(n)=o)c(n)=o-1',\n",
       " 'cc(=o)n[c@@h](cc(c)c)c(=o)n[c@@h](ccc(=o)o)c(=o)n[c@@h](ccc(n)=o)c(n)=o-2',\n",
       " 'cc(=o)n[c@@h](cc(c)c)c(=o)n[c@@h](ccc(=o)o)c(=o)n[c@@h](ccc(n)=o)c(n)=o-3',\n",
       " 'cc(=o)n[c@@h](cc1ccc(o)cc1)c(=o)n[c@@h](ccc(n)=o)c(=o)n[c@@h](ccc(n)=o)c(n)=o-0',\n",
       " 'cc(=o)n[c@@h](cc1ccc(o)cc1)c(=o)n[c@@h](ccc(n)=o)c(=o)n[c@@h](ccc(n)=o)c(n)=o-1',\n",
       " 'cc(=o)n[c@@h](cc1ccc(o)cc1)c(=o)n[c@@h](ccc(n)=o)c(=o)n[c@@h](ccc(n)=o)c(n)=o-2',\n",
       " 'cc(=o)n[c@@h](cc1ccc(o)cc1)c(=o)n[c@@h](ccc(n)=o)c(=o)n[c@@h](ccc(n)=o)c(n)=o-3',\n",
       " 'cscc[c@h](nc(=o)[c@@h]1cccn1c(=o)[c@h](cc1ccc(o)cc1)nc(c)=o)c(n)=o-0',\n",
       " 'cscc[c@h](nc(=o)[c@@h]1cccn1c(=o)[c@h](cc1ccc(o)cc1)nc(c)=o)c(n)=o-1',\n",
       " 'cscc[c@h](nc(=o)[c@@h]1cccn1c(=o)[c@h](cc1ccc(o)cc1)nc(c)=o)c(n)=o-2',\n",
       " 'cscc[c@h](nc(=o)[c@@h]1cccn1c(=o)[c@h](cc1ccc(o)cc1)nc(c)=o)c(n)=o-3',\n",
       " 'cscc[c@h](nc(=o)[c@@h]1cccn1c(=o)[c@h](cc1ccc(o)cc1)nc(c)=o)c(n)=o-4',\n",
       " 'cc(=o)n[c@@h](cc1c[nh]c2ccccc12)c(=o)n1ccc[c@h]1c(=o)n[c@@h](cc1ccc(o)cc1)c(n)=o-0',\n",
       " 'cc(=o)n[c@@h](cc1c[nh]c2ccccc12)c(=o)n1ccc[c@h]1c(=o)n[c@@h](cc1ccc(o)cc1)c(n)=o-1',\n",
       " 'cc(=o)n[c@@h](cc1c[nh]c2ccccc12)c(=o)n1ccc[c@h]1c(=o)n[c@@h](cc1ccc(o)cc1)c(n)=o-2',\n",
       " 'cc(=o)n[c@@h](cc1c[nh]c2ccccc12)c(=o)n1ccc[c@h]1c(=o)n[c@@h](cc1ccc(o)cc1)c(n)=o-3',\n",
       " 'cc(=o)n[c@@h](cc1c[nh]c2ccccc12)c(=o)n1ccc[c@h]1c(=o)n[c@@h](cc1ccc(o)cc1)c(n)=o-4',\n",
       " 'cc(=o)n[c@@h](cc1c[nh]c2ccccc12)c(=o)n1ccc[c@h]1c(=o)n[c@@h](cc1ccc(o)cc1)c(n)=o-5',\n",
       " 'cc(=o)n[c@@h](cc1c[nh]c2ccccc12)c(=o)n1ccc[c@h]1c(=o)n[c@@h](cc1ccc(o)cc1)c(n)=o-6',\n",
       " 'cc(=o)n[c@@h](cc1c[nh]c2ccccc12)c(=o)n1ccc[c@h]1c(=o)n[c@@h](cc1ccc(o)cc1)c(n)=o-7',\n",
       " 'cc(=o)n[c@@h](cc1c[nh]c2ccccc12)c(=o)n1ccc[c@h]1c(=o)n[c@@h](cc1ccc(o)cc1)c(n)=o-8',\n",
       " 'cscc[c@h](nc(c)=o)c(=o)n1ccc[c@h]1c(=o)n[c@@h](cc1c[nh]cn1)c(n)=o-0',\n",
       " 'cscc[c@h](nc(c)=o)c(=o)n1ccc[c@h]1c(=o)n[c@@h](cc1c[nh]cn1)c(n)=o-1',\n",
       " 'cscc[c@h](nc(c)=o)c(=o)n1ccc[c@h]1c(=o)n[c@@h](cc1c[nh]cn1)c(n)=o-2',\n",
       " 'cscc[c@h](nc(c)=o)c(=o)n1ccc[c@h]1c(=o)n[c@@h](cc1c[nh]cn1)c(n)=o-3',\n",
       " 'cc(=o)n[c@@h](ccc(n)=o)c(=o)n[c@@h](cc1c[nh]cn1)c(=o)n[c@@h](cc1c[nh]cn1)c(n)=o-0',\n",
       " 'cc(=o)n[c@@h](ccc(n)=o)c(=o)n[c@@h](cc1c[nh]cn1)c(=o)n[c@@h](cc1c[nh]cn1)c(n)=o-1',\n",
       " 'cc(=o)n[c@@h](ccc(n)=o)c(=o)n[c@@h](cc1c[nh]cn1)c(=o)n[c@@h](cc1c[nh]cn1)c(n)=o-2',\n",
       " 'cc(=o)n[c@@h](ccc(n)=o)c(=o)n[c@@h](cc1c[nh]cn1)c(=o)n[c@@h](cc1c[nh]cn1)c(n)=o-3',\n",
       " 'cscc[c@h](nc(=o)[c@h](cc(c)c)nc(c)=o)c(=o)n[c@@h](cc1c[nh]cn1)c(n)=o-0',\n",
       " 'cscc[c@h](nc(=o)[c@h](cc(c)c)nc(c)=o)c(=o)n[c@@h](cc1c[nh]cn1)c(n)=o-1',\n",
       " 'cscc[c@h](nc(=o)[c@h](cc(c)c)nc(c)=o)c(=o)n[c@@h](cc1c[nh]cn1)c(n)=o-2',\n",
       " 'cscc[c@h](nc(=o)[c@h](cc1c[nh]c2ccccc12)nc(=o)[c@h](ccc(n)=o)nc(c)=o)c(n)=o-0',\n",
       " 'cscc[c@h](nc(=o)[c@h](cc1c[nh]c2ccccc12)nc(=o)[c@h](ccc(n)=o)nc(c)=o)c(n)=o-1',\n",
       " 'cscc[c@h](nc(=o)[c@h](cc1c[nh]c2ccccc12)nc(=o)[c@h](ccc(n)=o)nc(c)=o)c(n)=o-2',\n",
       " 'cscc[c@h](nc(=o)[c@h](cc1c[nh]c2ccccc12)nc(=o)[c@h](ccc(n)=o)nc(c)=o)c(n)=o-3',\n",
       " 'cscc[c@h](nc(=o)[c@h](cc1c[nh]c2ccccc12)nc(=o)[c@h](ccc(n)=o)nc(c)=o)c(n)=o-4',\n",
       " 'cscc[c@h](nc(=o)[c@h](cc1c[nh]c2ccccc12)nc(=o)[c@h](ccc(n)=o)nc(c)=o)c(n)=o-5',\n",
       " 'cscc[c@h](nc(=o)[c@h](cc1c[nh]cn1)nc(=o)[c@@h]1cccn1c(c)=o)c(n)=o-0',\n",
       " 'cscc[c@h](nc(=o)[c@h](cc1c[nh]cn1)nc(=o)[c@@h]1cccn1c(c)=o)c(n)=o-1',\n",
       " 'cscc[c@h](nc(=o)[c@h](cc1c[nh]cn1)nc(=o)[c@@h]1cccn1c(c)=o)c(n)=o-2',\n",
       " 'cc(=o)n1ccc[c@h]1c(=o)n[c@@h](cc1ccc(o)cc1)c(=o)n[c@@h](ccc(n)=o)c(n)=o-0',\n",
       " 'cc(=o)n1ccc[c@h]1c(=o)n[c@@h](cc1ccc(o)cc1)c(=o)n[c@@h](ccc(n)=o)c(n)=o-1',\n",
       " 'cc(=o)n1ccc[c@h]1c(=o)n[c@@h](cc1ccc(o)cc1)c(=o)n[c@@h](ccc(n)=o)c(n)=o-2',\n",
       " 'cc(=o)n1ccc[c@h]1c(=o)n[c@@h](cc1ccc(o)cc1)c(=o)n[c@@h](ccc(n)=o)c(n)=o-3',\n",
       " 'cc(=o)n1ccc[c@h]1c(=o)n[c@@h](cc1ccc(o)cc1)c(=o)n[c@@h](ccc(n)=o)c(n)=o-4',\n",
       " 'cc(=o)n[c@@h](cc(c)c)c(=o)n[c@@h](cc1c[nh]cn1)c(=o)n[c@@h](cc(c)c)c(n)=o-0',\n",
       " 'cc(=o)n[c@@h](cc(c)c)c(=o)n[c@@h](cc1c[nh]cn1)c(=o)n[c@@h](cc(c)c)c(n)=o-1',\n",
       " 'cc(=o)n[c@@h](cc(c)c)c(=o)n[c@@h](cc1c[nh]cn1)c(=o)n[c@@h](cc(c)c)c(n)=o-2',\n",
       " 'cc(=o)n[c@@h](cc1c[nh]cn1)c(=o)n[c@@h](cc1c[nh]c2ccccc12)c(=o)n[c@@h](ccc(=o)o)c(n)=o-0',\n",
       " 'cc(=o)n[c@@h](cc1c[nh]cn1)c(=o)n[c@@h](cc1c[nh]c2ccccc12)c(=o)n[c@@h](ccc(=o)o)c(n)=o-1',\n",
       " 'cc(=o)n[c@@h](cc1c[nh]cn1)c(=o)n[c@@h](cc1c[nh]c2ccccc12)c(=o)n[c@@h](ccc(=o)o)c(n)=o-2',\n",
       " 'cc(=o)n[c@@h](cc1c[nh]cn1)c(=o)n[c@@h](cc1c[nh]c2ccccc12)c(=o)n[c@@h](ccc(=o)o)c(n)=o-3',\n",
       " 'cc(=o)n[c@@h](cc1c[nh]cn1)c(=o)n[c@@h](cc1c[nh]c2ccccc12)c(=o)n[c@@h](ccc(=o)o)c(n)=o-4',\n",
       " 'cc(=o)n1ccc[c@h]1c(=o)n[c@@h](cc1c[nh]c2ccccc12)c(=o)n[c@@h](cc1c[nh]cn1)c(n)=o-0',\n",
       " 'cc(=o)n1ccc[c@h]1c(=o)n[c@@h](cc1c[nh]c2ccccc12)c(=o)n[c@@h](cc1c[nh]cn1)c(n)=o-1',\n",
       " 'cc(=o)n1ccc[c@h]1c(=o)n[c@@h](cc1c[nh]c2ccccc12)c(=o)n[c@@h](cc1c[nh]cn1)c(n)=o-2',\n",
       " 'cc(=o)n1ccc[c@h]1c(=o)n[c@@h](cc1c[nh]c2ccccc12)c(=o)n[c@@h](cc1c[nh]cn1)c(n)=o-3',\n",
       " 'cc(=o)n1ccc[c@h]1c(=o)n[c@@h](cc1c[nh]c2ccccc12)c(=o)n[c@@h](cc1c[nh]cn1)c(n)=o-4',\n",
       " 'cc(=o)n1ccc[c@h]1c(=o)n[c@@h](cc1c[nh]c2ccccc12)c(=o)n[c@@h](cc1c[nh]cn1)c(n)=o-5',\n",
       " 'cc(=o)n1ccc[c@h]1c(=o)n[c@@h](ccc(n)=o)c(=o)n[c@@h](cc1c[nh]cn1)c(n)=o-0',\n",
       " 'cc(=o)n1ccc[c@h]1c(=o)n[c@@h](ccc(n)=o)c(=o)n[c@@h](cc1c[nh]cn1)c(n)=o-1',\n",
       " 'cc(=o)n[c@@h](cc(c)c)c(=o)n[c@@h](cc1c[nh]cn1)c(=o)n[c@@h](cc1c[nh]c2ccccc12)c(n)=o-0',\n",
       " 'cc(=o)n[c@@h](cc(c)c)c(=o)n[c@@h](cc1c[nh]cn1)c(=o)n[c@@h](cc1c[nh]c2ccccc12)c(n)=o-1',\n",
       " 'cc(=o)n[c@@h](cc(c)c)c(=o)n[c@@h](cc1c[nh]cn1)c(=o)n[c@@h](cc1c[nh]c2ccccc12)c(n)=o-2',\n",
       " 'cc(=o)n[c@@h](cc(c)c)c(=o)n[c@@h](cc1c[nh]cn1)c(=o)n[c@@h](cc1c[nh]c2ccccc12)c(n)=o-3',\n",
       " 'cc(=o)n[c@@h](cc(c)c)c(=o)n[c@@h](cc1c[nh]cn1)c(=o)n[c@@h](cc1c[nh]c2ccccc12)c(n)=o-4',\n",
       " 'cc(=o)n[c@@h](cc(c)c)c(=o)n[c@@h](cc1c[nh]cn1)c(=o)n[c@@h](cc1c[nh]c2ccccc12)c(n)=o-5',\n",
       " 'cc(=o)n[c@@h](cc(c)c)c(=o)n[c@@h](cc1c[nh]cn1)c(=o)n[c@@h](cc1c[nh]c2ccccc12)c(n)=o-6',\n",
       " 'cc(=o)n[c@@h](cc(c)c)c(=o)n[c@@h](cc1c[nh]cn1)c(=o)n[c@@h](cc1c[nh]c2ccccc12)c(n)=o-7',\n",
       " 'cc(=o)n[c@@h](cc1ccc(o)cc1)c(=o)n[c@@h](cc1c[nh]c2ccccc12)c(=o)n[c@@h](ccc(=o)o)c(n)=o-0',\n",
       " 'cc(=o)n[c@@h](cc1ccc(o)cc1)c(=o)n[c@@h](cc1c[nh]c2ccccc12)c(=o)n[c@@h](ccc(=o)o)c(n)=o-1',\n",
       " 'cc(=o)n[c@@h](cc1ccc(o)cc1)c(=o)n[c@@h](cc1c[nh]c2ccccc12)c(=o)n[c@@h](ccc(=o)o)c(n)=o-2',\n",
       " 'cc(=o)n[c@@h](cc1ccc(o)cc1)c(=o)n[c@@h](cc1c[nh]c2ccccc12)c(=o)n[c@@h](ccc(=o)o)c(n)=o-3',\n",
       " 'cc(=o)n[c@@h](cc1ccc(o)cc1)c(=o)n[c@@h](cc1c[nh]c2ccccc12)c(=o)n[c@@h](ccc(=o)o)c(n)=o-4',\n",
       " 'cc(=o)n[c@@h](cc1ccc(o)cc1)c(=o)n[c@@h](cc1c[nh]c2ccccc12)c(=o)n[c@@h](ccc(=o)o)c(n)=o-5',\n",
       " 'cc(=o)n[c@@h](cc1ccc(o)cc1)c(=o)n[c@@h](cc1c[nh]c2ccccc12)c(=o)n[c@@h](ccc(=o)o)c(n)=o-6',\n",
       " 'cc(=o)n[c@@h](cc1ccc(o)cc1)c(=o)n[c@@h](cc1c[nh]c2ccccc12)c(=o)n[c@@h](ccc(=o)o)c(n)=o-7',\n",
       " 'cc(=o)n[c@@h](cc(c)c)c(=o)n[c@@h](ccc(=o)o)c(=o)n[c@@h](ccc(=o)o)c(n)=o-0',\n",
       " 'cc(=o)n[c@@h](cc(c)c)c(=o)n[c@@h](ccc(=o)o)c(=o)n[c@@h](ccc(=o)o)c(n)=o-1',\n",
       " 'cc(=o)n[c@@h](cc(c)c)c(=o)n[c@@h](ccc(=o)o)c(=o)n[c@@h](ccc(=o)o)c(n)=o-2',\n",
       " 'cc(=o)n1ccc[c@h]1c(=o)n[c@@h](cc1c[nh]c2ccccc12)c(=o)n[c@@h](cc1ccc(o)cc1)c(n)=o-0',\n",
       " 'cc(=o)n1ccc[c@h]1c(=o)n[c@@h](cc1c[nh]c2ccccc12)c(=o)n[c@@h](cc1ccc(o)cc1)c(n)=o-1',\n",
       " 'cc(=o)n1ccc[c@h]1c(=o)n[c@@h](cc1c[nh]c2ccccc12)c(=o)n[c@@h](cc1ccc(o)cc1)c(n)=o-2',\n",
       " 'cc(=o)n1ccc[c@h]1c(=o)n[c@@h](cc1c[nh]c2ccccc12)c(=o)n[c@@h](cc1ccc(o)cc1)c(n)=o-3',\n",
       " 'cc(=o)n1ccc[c@h]1c(=o)n[c@@h](cc1c[nh]c2ccccc12)c(=o)n[c@@h](cc1ccc(o)cc1)c(n)=o-4',\n",
       " 'cc(=o)n1ccc[c@h]1c(=o)n[c@@h](cc1c[nh]c2ccccc12)c(=o)n[c@@h](cc1ccc(o)cc1)c(n)=o-5',\n",
       " 'cc(=o)n[c@@h](cc1c[nh]c2ccccc12)c(=o)n[c@@h](cc(c)c)c(=o)n[c@@h](ccc(n)=o)c(n)=o-0',\n",
       " 'cc(=o)n[c@@h](cc1c[nh]c2ccccc12)c(=o)n[c@@h](cc(c)c)c(=o)n[c@@h](ccc(n)=o)c(n)=o-1',\n",
       " 'cc(=o)n[c@@h](cc1c[nh]c2ccccc12)c(=o)n[c@@h](cc(c)c)c(=o)n[c@@h](ccc(n)=o)c(n)=o-2',\n",
       " 'cc(=o)n[c@@h](cc1c[nh]c2ccccc12)c(=o)n[c@@h](cc(c)c)c(=o)n[c@@h](ccc(n)=o)c(n)=o-3',\n",
       " 'cc(=o)n[c@@h](cc1c[nh]c2ccccc12)c(=o)n[c@@h](cc(c)c)c(=o)n[c@@h](ccc(n)=o)c(n)=o-4',\n",
       " 'cscc[c@h](nc(=o)[c@@h]1cccn1c(c)=o)c(=o)n[c@@h](ccc(n)=o)c(n)=o-0',\n",
       " 'cscc[c@h](nc(=o)[c@@h]1cccn1c(c)=o)c(=o)n[c@@h](ccc(n)=o)c(n)=o-1',\n",
       " 'cc(=o)n[c@@h](cc(c)c)c(=o)n[c@@h](cc1c[nh]c2ccccc12)c(=o)n[c@@h](ccc(n)=o)c(n)=o-0',\n",
       " 'cc(=o)n[c@@h](cc(c)c)c(=o)n[c@@h](cc1c[nh]c2ccccc12)c(=o)n[c@@h](ccc(n)=o)c(n)=o-1',\n",
       " ...]"
      ]
     },
     "execution_count": 42,
     "metadata": {},
     "output_type": "execute_result"
    }
   ],
   "source": [
    "record_names"
   ]
  },
  {
   "cell_type": "code",
   "execution_count": 43,
   "id": "c156276d-ffb5-4643-89a4-cc5fe539acbe",
   "metadata": {},
   "outputs": [],
   "source": [
    "#opt_record = openff_pepconf_opt.get_record(record_names[0], specification=\"default\")\n",
    "opt_record = openff_pepconf_opt.get_record(record_names[1], specification=\"default\")"
   ]
  },
  {
   "cell_type": "code",
   "execution_count": 44,
   "id": "763ba04b-4340-4bed-b5eb-bf11720e4caa",
   "metadata": {
    "scrolled": true,
    "tags": []
   },
   "outputs": [
    {
     "data": {
      "text/plain": [
       "{'id': '32883527',\n",
       " 'hash_index': None,\n",
       " 'procedure': 'single',\n",
       " 'program': 'psi4',\n",
       " 'version': 1,\n",
       " 'protocols': {},\n",
       " 'extras': {'qcvars': {'2-BODY DISPERSION CORRECTION ENERGY': -0.09519024,\n",
       "   'B3LYP-D3(BJ) DISPERSION CORRECTION ENERGY': -0.09519024,\n",
       "   'CURRENT DIPOLE X': 23.462968922379147,\n",
       "   'CURRENT DIPOLE Y': 2.9216668402302792,\n",
       "   'CURRENT DIPOLE Z': -3.9148612442004875,\n",
       "   'CURRENT ENERGY': -1162.3871098026964,\n",
       "   'CURRENT REFERENCE ENERGY': -1162.3871098026964,\n",
       "   'DFT FUNCTIONAL TOTAL ENERGY': -1162.2919195626966,\n",
       "   'DFT TOTAL ENERGY': -1162.3871098026966,\n",
       "   'DFT VV10 ENERGY': 0.0,\n",
       "   'DFT XC ENERGY': -127.59554580408235,\n",
       "   'DISPERSION CORRECTION ENERGY': -0.09519024,\n",
       "   'GRID ELECTRONS ALPHA': 88.9998592253157,\n",
       "   'GRID ELECTRONS BETA': 88.9998592253157,\n",
       "   'GRID ELECTRONS TOTAL': 177.9997184506314,\n",
       "   'NUCLEAR REPULSION ENERGY': 2138.2471899927477,\n",
       "   'ONE-ELECTRON ENERGY': -5855.27274150584,\n",
       "   'PCM POLARIZATION ENERGY': 0.0,\n",
       "   'PE ENERGY': 0.0,\n",
       "   'SCF DIPOLE X': 23.462968922379147,\n",
       "   'SCF DIPOLE Y': 2.9216668402302792,\n",
       "   'SCF DIPOLE Z': -3.9148612442004875,\n",
       "   'SCF ITERATION ENERGY': -1162.3871098026964,\n",
       "   'SCF ITERATIONS': 18.0,\n",
       "   'SCF QUADRUPOLE XX': -264.4084240215129,\n",
       "   'SCF QUADRUPOLE XY': -1.80513246357764,\n",
       "   'SCF QUADRUPOLE XZ': 45.00028351866764,\n",
       "   'SCF QUADRUPOLE YY': -123.98989076311547,\n",
       "   'SCF QUADRUPOLE YZ': 1.948755712536439,\n",
       "   'SCF QUADRUPOLE ZZ': -195.82483165152468,\n",
       "   'SCF TOTAL ENERGY': -1162.3871098026964,\n",
       "   'TWO-ELECTRON ENERGY': 2682.3291777544778,\n",
       "   'XC GRID RADIAL POINTS': 75.0,\n",
       "   'XC GRID SPHERICAL POINTS': 302.0,\n",
       "   'XC GRID TOTAL POINTS': 898696.0,\n",
       "   '-D GRADIENT': [-0.00026953483282128,\n",
       "    -0.00010344773718366,\n",
       "    -0.00070344441915791,\n",
       "    -0.0002503177823794,\n",
       "    0.00012528377875839,\n",
       "    0.00045887590019179,\n",
       "    -1.9150469303532e-05,\n",
       "    0.00034878138442281,\n",
       "    -0.00086976741653991,\n",
       "    -0.00017955798374878,\n",
       "    -6.3627475491873e-05,\n",
       "    -0.00094138979705576,\n",
       "    -0.00037435238808802,\n",
       "    -7.7102062326308e-05,\n",
       "    0.00021778553018973,\n",
       "    -0.00011376396460071,\n",
       "    -0.00068476472286072,\n",
       "    -0.00068982196229143,\n",
       "    -0.00051850682684104,\n",
       "    -2.4856735577198e-05,\n",
       "    0.00037515763022596,\n",
       "    9.083099049874e-05,\n",
       "    0.00089006101769828,\n",
       "    -0.00066495702683449,\n",
       "    -0.00064831731229903,\n",
       "    0.00027631109847911,\n",
       "    -0.00052986126535195,\n",
       "    0.00031093664980821,\n",
       "    -0.00031566085823878,\n",
       "    0.00012795655053037,\n",
       "    0.00047696310845959,\n",
       "    -0.00039452957678947,\n",
       "    8.2403967417178e-06,\n",
       "    0.00045227646840819,\n",
       "    -0.00053686983794236,\n",
       "    0.00044603242786869,\n",
       "    0.00073489780844606,\n",
       "    -0.00073602661980476,\n",
       "    0.00037716864243521,\n",
       "    0.00086436922241868,\n",
       "    -0.00056865472180227,\n",
       "    0.00068103246919298,\n",
       "    0.00067351294882786,\n",
       "    -0.00037133814913201,\n",
       "    0.00068153760311896,\n",
       "    0.00038310747069451,\n",
       "    0.00066957234966671,\n",
       "    -0.00055037205994755,\n",
       "    -0.00035715644687276,\n",
       "    0.00074987899859237,\n",
       "    -9.3475983353453e-05,\n",
       "    -3.6205965222404e-05,\n",
       "    -0.00030011503068706,\n",
       "    -0.00031939746111747,\n",
       "    -3.2776579752523e-05,\n",
       "    -0.0004884488401854,\n",
       "    -0.00028801206254955,\n",
       "    -0.00065568242695795,\n",
       "    4.0326659993562e-05,\n",
       "    0.00036454192872624,\n",
       "    0.00030198058114886,\n",
       "    0.00047533440960705,\n",
       "    0.00066052536656683,\n",
       "    -0.00044967351408345,\n",
       "    0.00021356724623239,\n",
       "    0.00026247209757657,\n",
       "    -0.00013589689308702,\n",
       "    0.0007560281403982,\n",
       "    6.0774213876466e-05,\n",
       "    -0.00028189115759397,\n",
       "    6.3290798237839e-05,\n",
       "    -0.00031028293319776,\n",
       "    0.00010528767112543,\n",
       "    -0.000280542834863,\n",
       "    -1.4774434854706e-05,\n",
       "    0.00026038347858412,\n",
       "    -0.00011531721064732,\n",
       "    -0.00015991749457293,\n",
       "    -1.9135026211893e-05,\n",
       "    -0.00026681988131297,\n",
       "    0.0002298267986059,\n",
       "    0.00048115562436188,\n",
       "    -0.00011736382012032,\n",
       "    -6.0547609803587e-05,\n",
       "    9.2031647707547e-05,\n",
       "    -0.00018047771901322,\n",
       "    0.00055502052406027,\n",
       "    0.00015502817625362,\n",
       "    0.00018943581079263,\n",
       "    -0.00020241855075934,\n",
       "    0.00032248456902569,\n",
       "    0.00035388717601209,\n",
       "    -0.00012658421065336,\n",
       "    -0.00026156930972176,\n",
       "    0.0003861399385236,\n",
       "    0.00011108112555913,\n",
       "    -4.6502817653771e-05,\n",
       "    -0.00039541059485745,\n",
       "    -2.7165797954907e-06,\n",
       "    -6.3724213933328e-05,\n",
       "    -0.00025109739339401,\n",
       "    -8.1904084049188e-05,\n",
       "    2.6542114090689e-05,\n",
       "    -0.00018201974725264,\n",
       "    -0.00014097287598207,\n",
       "    2.5634728438401e-05,\n",
       "    -0.00027996200477384,\n",
       "    -6.9027807739174e-05,\n",
       "    -0.00029941139805008,\n",
       "    -0.00017135057863546,\n",
       "    0.00017162135745834,\n",
       "    -0.00037685749158406,\n",
       "    8.1449412493499e-05,\n",
       "    -4.6570173711973e-05,\n",
       "    7.4111463136836e-05,\n",
       "    0.00025940951880245,\n",
       "    0.00043540509060307,\n",
       "    0.00022018471452607,\n",
       "    0.00028072357962425,\n",
       "    0.00030127500032102,\n",
       "    -0.00019158652792326,\n",
       "    0.00023993618339628,\n",
       "    0.00011953955745413,\n",
       "    -0.00018701367830328,\n",
       "    -1.3696218180575e-05,\n",
       "    0.00036459581602376,\n",
       "    -0.00012323447729656,\n",
       "    0.00038246506233342,\n",
       "    0.00013892391032409,\n",
       "    -0.00015989995163113,\n",
       "    0.00013761780700773,\n",
       "    -0.00028317372833219],\n",
       "   '2-BODY DISPERSION CORRECTION GRADIENT': [-0.00026953483282128,\n",
       "    -0.00010344773718366,\n",
       "    -0.00070344441915791,\n",
       "    -0.0002503177823794,\n",
       "    0.00012528377875839,\n",
       "    0.00045887590019179,\n",
       "    -1.9150469303532e-05,\n",
       "    0.00034878138442281,\n",
       "    -0.00086976741653991,\n",
       "    -0.00017955798374878,\n",
       "    -6.3627475491873e-05,\n",
       "    -0.00094138979705576,\n",
       "    -0.00037435238808802,\n",
       "    -7.7102062326308e-05,\n",
       "    0.00021778553018973,\n",
       "    -0.00011376396460071,\n",
       "    -0.00068476472286072,\n",
       "    -0.00068982196229143,\n",
       "    -0.00051850682684104,\n",
       "    -2.4856735577198e-05,\n",
       "    0.00037515763022596,\n",
       "    9.083099049874e-05,\n",
       "    0.00089006101769828,\n",
       "    -0.00066495702683449,\n",
       "    -0.00064831731229903,\n",
       "    0.00027631109847911,\n",
       "    -0.00052986126535195,\n",
       "    0.00031093664980821,\n",
       "    -0.00031566085823878,\n",
       "    0.00012795655053037,\n",
       "    0.00047696310845959,\n",
       "    -0.00039452957678947,\n",
       "    8.2403967417178e-06,\n",
       "    0.00045227646840819,\n",
       "    -0.00053686983794236,\n",
       "    0.00044603242786869,\n",
       "    0.00073489780844606,\n",
       "    -0.00073602661980476,\n",
       "    0.00037716864243521,\n",
       "    0.00086436922241868,\n",
       "    -0.00056865472180227,\n",
       "    0.00068103246919298,\n",
       "    0.00067351294882786,\n",
       "    -0.00037133814913201,\n",
       "    0.00068153760311896,\n",
       "    0.00038310747069451,\n",
       "    0.00066957234966671,\n",
       "    -0.00055037205994755,\n",
       "    -0.00035715644687276,\n",
       "    0.00074987899859237,\n",
       "    -9.3475983353453e-05,\n",
       "    -3.6205965222404e-05,\n",
       "    -0.00030011503068706,\n",
       "    -0.00031939746111747,\n",
       "    -3.2776579752523e-05,\n",
       "    -0.0004884488401854,\n",
       "    -0.00028801206254955,\n",
       "    -0.00065568242695795,\n",
       "    4.0326659993562e-05,\n",
       "    0.00036454192872624,\n",
       "    0.00030198058114886,\n",
       "    0.00047533440960705,\n",
       "    0.00066052536656683,\n",
       "    -0.00044967351408345,\n",
       "    0.00021356724623239,\n",
       "    0.00026247209757657,\n",
       "    -0.00013589689308702,\n",
       "    0.0007560281403982,\n",
       "    6.0774213876466e-05,\n",
       "    -0.00028189115759397,\n",
       "    6.3290798237839e-05,\n",
       "    -0.00031028293319776,\n",
       "    0.00010528767112543,\n",
       "    -0.000280542834863,\n",
       "    -1.4774434854706e-05,\n",
       "    0.00026038347858412,\n",
       "    -0.00011531721064732,\n",
       "    -0.00015991749457293,\n",
       "    -1.9135026211893e-05,\n",
       "    -0.00026681988131297,\n",
       "    0.0002298267986059,\n",
       "    0.00048115562436188,\n",
       "    -0.00011736382012032,\n",
       "    -6.0547609803587e-05,\n",
       "    9.2031647707547e-05,\n",
       "    -0.00018047771901322,\n",
       "    0.00055502052406027,\n",
       "    0.00015502817625362,\n",
       "    0.00018943581079263,\n",
       "    -0.00020241855075934,\n",
       "    0.00032248456902569,\n",
       "    0.00035388717601209,\n",
       "    -0.00012658421065336,\n",
       "    -0.00026156930972176,\n",
       "    0.0003861399385236,\n",
       "    0.00011108112555913,\n",
       "    -4.6502817653771e-05,\n",
       "    -0.00039541059485745,\n",
       "    -2.7165797954907e-06,\n",
       "    -6.3724213933328e-05,\n",
       "    -0.00025109739339401,\n",
       "    -8.1904084049188e-05,\n",
       "    2.6542114090689e-05,\n",
       "    -0.00018201974725264,\n",
       "    -0.00014097287598207,\n",
       "    2.5634728438401e-05,\n",
       "    -0.00027996200477384,\n",
       "    -6.9027807739174e-05,\n",
       "    -0.00029941139805008,\n",
       "    -0.00017135057863546,\n",
       "    0.00017162135745834,\n",
       "    -0.00037685749158406,\n",
       "    8.1449412493499e-05,\n",
       "    -4.6570173711973e-05,\n",
       "    7.4111463136836e-05,\n",
       "    0.00025940951880245,\n",
       "    0.00043540509060307,\n",
       "    0.00022018471452607,\n",
       "    0.00028072357962425,\n",
       "    0.00030127500032102,\n",
       "    -0.00019158652792326,\n",
       "    0.00023993618339628,\n",
       "    0.00011953955745413,\n",
       "    -0.00018701367830328,\n",
       "    -1.3696218180575e-05,\n",
       "    0.00036459581602376,\n",
       "    -0.00012323447729656,\n",
       "    0.00038246506233342,\n",
       "    0.00013892391032409,\n",
       "    -0.00015989995163113,\n",
       "    0.00013761780700773,\n",
       "    -0.00028317372833219],\n",
       "   'B3LYP-D3(BJ) DISPERSION CORRECTION GRADIENT': [-0.00026953483282128,\n",
       "    -0.00010344773718366,\n",
       "    -0.00070344441915791,\n",
       "    -0.0002503177823794,\n",
       "    0.00012528377875839,\n",
       "    0.00045887590019179,\n",
       "    -1.9150469303532e-05,\n",
       "    0.00034878138442281,\n",
       "    -0.00086976741653991,\n",
       "    -0.00017955798374878,\n",
       "    -6.3627475491873e-05,\n",
       "    -0.00094138979705576,\n",
       "    -0.00037435238808802,\n",
       "    -7.7102062326308e-05,\n",
       "    0.00021778553018973,\n",
       "    -0.00011376396460071,\n",
       "    -0.00068476472286072,\n",
       "    -0.00068982196229143,\n",
       "    -0.00051850682684104,\n",
       "    -2.4856735577198e-05,\n",
       "    0.00037515763022596,\n",
       "    9.083099049874e-05,\n",
       "    0.00089006101769828,\n",
       "    -0.00066495702683449,\n",
       "    -0.00064831731229903,\n",
       "    0.00027631109847911,\n",
       "    -0.00052986126535195,\n",
       "    0.00031093664980821,\n",
       "    -0.00031566085823878,\n",
       "    0.00012795655053037,\n",
       "    0.00047696310845959,\n",
       "    -0.00039452957678947,\n",
       "    8.2403967417178e-06,\n",
       "    0.00045227646840819,\n",
       "    -0.00053686983794236,\n",
       "    0.00044603242786869,\n",
       "    0.00073489780844606,\n",
       "    -0.00073602661980476,\n",
       "    0.00037716864243521,\n",
       "    0.00086436922241868,\n",
       "    -0.00056865472180227,\n",
       "    0.00068103246919298,\n",
       "    0.00067351294882786,\n",
       "    -0.00037133814913201,\n",
       "    0.00068153760311896,\n",
       "    0.00038310747069451,\n",
       "    0.00066957234966671,\n",
       "    -0.00055037205994755,\n",
       "    -0.00035715644687276,\n",
       "    0.00074987899859237,\n",
       "    -9.3475983353453e-05,\n",
       "    -3.6205965222404e-05,\n",
       "    -0.00030011503068706,\n",
       "    -0.00031939746111747,\n",
       "    -3.2776579752523e-05,\n",
       "    -0.0004884488401854,\n",
       "    -0.00028801206254955,\n",
       "    -0.00065568242695795,\n",
       "    4.0326659993562e-05,\n",
       "    0.00036454192872624,\n",
       "    0.00030198058114886,\n",
       "    0.00047533440960705,\n",
       "    0.00066052536656683,\n",
       "    -0.00044967351408345,\n",
       "    0.00021356724623239,\n",
       "    0.00026247209757657,\n",
       "    -0.00013589689308702,\n",
       "    0.0007560281403982,\n",
       "    6.0774213876466e-05,\n",
       "    -0.00028189115759397,\n",
       "    6.3290798237839e-05,\n",
       "    -0.00031028293319776,\n",
       "    0.00010528767112543,\n",
       "    -0.000280542834863,\n",
       "    -1.4774434854706e-05,\n",
       "    0.00026038347858412,\n",
       "    -0.00011531721064732,\n",
       "    -0.00015991749457293,\n",
       "    -1.9135026211893e-05,\n",
       "    -0.00026681988131297,\n",
       "    0.0002298267986059,\n",
       "    0.00048115562436188,\n",
       "    -0.00011736382012032,\n",
       "    -6.0547609803587e-05,\n",
       "    9.2031647707547e-05,\n",
       "    -0.00018047771901322,\n",
       "    0.00055502052406027,\n",
       "    0.00015502817625362,\n",
       "    0.00018943581079263,\n",
       "    -0.00020241855075934,\n",
       "    0.00032248456902569,\n",
       "    0.00035388717601209,\n",
       "    -0.00012658421065336,\n",
       "    -0.00026156930972176,\n",
       "    0.0003861399385236,\n",
       "    0.00011108112555913,\n",
       "    -4.6502817653771e-05,\n",
       "    -0.00039541059485745,\n",
       "    -2.7165797954907e-06,\n",
       "    -6.3724213933328e-05,\n",
       "    -0.00025109739339401,\n",
       "    -8.1904084049188e-05,\n",
       "    2.6542114090689e-05,\n",
       "    -0.00018201974725264,\n",
       "    -0.00014097287598207,\n",
       "    2.5634728438401e-05,\n",
       "    -0.00027996200477384,\n",
       "    -6.9027807739174e-05,\n",
       "    -0.00029941139805008,\n",
       "    -0.00017135057863546,\n",
       "    0.00017162135745834,\n",
       "    -0.00037685749158406,\n",
       "    8.1449412493499e-05,\n",
       "    -4.6570173711973e-05,\n",
       "    7.4111463136836e-05,\n",
       "    0.00025940951880245,\n",
       "    0.00043540509060307,\n",
       "    0.00022018471452607,\n",
       "    0.00028072357962425,\n",
       "    0.00030127500032102,\n",
       "    -0.00019158652792326,\n",
       "    0.00023993618339628,\n",
       "    0.00011953955745413,\n",
       "    -0.00018701367830328,\n",
       "    -1.3696218180575e-05,\n",
       "    0.00036459581602376,\n",
       "    -0.00012323447729656,\n",
       "    0.00038246506233342,\n",
       "    0.00013892391032409,\n",
       "    -0.00015989995163113,\n",
       "    0.00013761780700773,\n",
       "    -0.00028317372833219],\n",
       "   'CURRENT DIPOLE': [9.23104226422194,\n",
       "    1.1494721820313742,\n",
       "    -1.5402249273454167],\n",
       "   'CURRENT GRADIENT': [-0.013475697976353293,\n",
       "    0.01028038660535382,\n",
       "    -0.020300922289486305,\n",
       "    -0.014638805423516772,\n",
       "    -0.004594620294010176,\n",
       "    0.008501082816208105,\n",
       "    -0.0026730047753359093,\n",
       "    -0.027021723120678087,\n",
       "    -0.00938480187463062,\n",
       "    0.02982289069069457,\n",
       "    -0.03231329442927349,\n",
       "    -0.04330555849491013,\n",
       "    -0.08105121091772148,\n",
       "    -0.02462556457188045,\n",
       "    0.0368954016535774,\n",
       "    0.01579763381438008,\n",
       "    -0.05415603246845557,\n",
       "    0.014732905583182496,\n",
       "    0.10932019826269415,\n",
       "    0.026701901549285204,\n",
       "    -0.07112177646228217,\n",
       "    -0.0311014196674914,\n",
       "    -0.0014462855999790073,\n",
       "    0.05860469291854788,\n",
       "    -0.07722914619480792,\n",
       "    0.03428467122545321,\n",
       "    0.055054261019831865,\n",
       "    -0.012547021537151705,\n",
       "    0.012187865017129347,\n",
       "    0.010240965676541966,\n",
       "    -0.002390820084024951,\n",
       "    -0.007119121673679453,\n",
       "    0.002763054059340508,\n",
       "    0.018291495879620395,\n",
       "    0.019571044133804023,\n",
       "    -0.015341688293238127,\n",
       "    -0.02629314886332583,\n",
       "    -0.011888746339706418,\n",
       "    0.019642088713775204,\n",
       "    0.02239486382067225,\n",
       "    -0.023576678385409753,\n",
       "    -0.01878305108834149,\n",
       "    -0.0021315024465229557,\n",
       "    0.02212366988473266,\n",
       "    -0.00636536932823089,\n",
       "    0.01558495391857608,\n",
       "    0.0023654012016797376,\n",
       "    -0.011792600996161796,\n",
       "    0.05749996791096369,\n",
       "    -0.00013358423066159406,\n",
       "    -0.01275105602644028,\n",
       "    0.002164057043804973,\n",
       "    0.03603652581046569,\n",
       "    0.011612151577216713,\n",
       "    -0.02320788284823813,\n",
       "    0.015859154446825844,\n",
       "    -0.03738469699618946,\n",
       "    -0.015982311535773997,\n",
       "    0.0069336497127681085,\n",
       "    0.003574755381178555,\n",
       "    -0.01837239621510184,\n",
       "    -0.012492960166459495,\n",
       "    -0.051744329955579774,\n",
       "    0.035686164488086515,\n",
       "    -0.012880054860408476,\n",
       "    0.0013179414554142703,\n",
       "    0.023796188068110544,\n",
       "    -0.03793692270168881,\n",
       "    -0.010723174199811078,\n",
       "    0.02039937839365737,\n",
       "    -0.008279737196653881,\n",
       "    0.007088760720360907,\n",
       "    0.0019020915384801872,\n",
       "    -0.0022743956911972438,\n",
       "    -0.0014727529187682944,\n",
       "    -0.003937909851005672,\n",
       "    -0.00036604691433926313,\n",
       "    0.003521182231561646,\n",
       "    -0.0014838511289955267,\n",
       "    -0.006964539434403687,\n",
       "    0.0014430972039539492,\n",
       "    0.0030424845544446562,\n",
       "    0.007686282055218132,\n",
       "    -0.00196846162539124,\n",
       "    -0.004509936618951993,\n",
       "    0.008905405863090509,\n",
       "    0.0031719911093917993,\n",
       "    0.0015547245208118966,\n",
       "    0.015368078669247928,\n",
       "    -0.01826815967091525,\n",
       "    0.010877742493209932,\n",
       "    -0.006189471540764484,\n",
       "    0.01595908083581461,\n",
       "    -0.03718925490945551,\n",
       "    0.016718304394250365,\n",
       "    0.022636342587851646,\n",
       "    0.01088070462943774,\n",
       "    -0.015117757995169036,\n",
       "    0.018865802589796712,\n",
       "    -0.009319503383396403,\n",
       "    -0.0037791610488696124,\n",
       "    0.007053073573578418,\n",
       "    0.00832746842081682,\n",
       "    -0.0034519442044978195,\n",
       "    -0.0012915733368397014,\n",
       "    0.010775866057209897,\n",
       "    0.005357413508803958,\n",
       "    0.009836898997927952,\n",
       "    0.011543032216518588,\n",
       "    -0.012178367252720507,\n",
       "    0.0010070521880634125,\n",
       "    -0.00292294887440886,\n",
       "    0.008951998919724067,\n",
       "    0.0009107704038878709,\n",
       "    -0.00837942973980546,\n",
       "    0.0068726453809330726,\n",
       "    0.019606706229307453,\n",
       "    0.004797307533930687,\n",
       "    0.004083270976158503,\n",
       "    0.0004336157262660202,\n",
       "    -0.012106158473024478,\n",
       "    0.016835341930552153,\n",
       "    -0.0011354213855878836,\n",
       "    0.0008897770669406501,\n",
       "    -0.0008179969033854409,\n",
       "    -0.0006096696695333088,\n",
       "    -0.0029992907665475324,\n",
       "    0.023618265848673277,\n",
       "    0.011112607063591542,\n",
       "    -0.01131656151674643,\n",
       "    0.009047725496133743,\n",
       "    -0.01171239175987223],\n",
       "   'DFT TOTAL GRADIENT': [-0.013475697976353293,\n",
       "    0.01028038660535382,\n",
       "    -0.020300922289486305,\n",
       "    -0.014638805423516772,\n",
       "    -0.004594620294010176,\n",
       "    0.008501082816208105,\n",
       "    -0.0026730047753359093,\n",
       "    -0.027021723120678087,\n",
       "    -0.00938480187463062,\n",
       "    0.02982289069069457,\n",
       "    -0.03231329442927349,\n",
       "    -0.04330555849491013,\n",
       "    -0.08105121091772148,\n",
       "    -0.02462556457188045,\n",
       "    0.0368954016535774,\n",
       "    0.01579763381438008,\n",
       "    -0.05415603246845557,\n",
       "    0.014732905583182496,\n",
       "    0.10932019826269415,\n",
       "    0.026701901549285204,\n",
       "    -0.07112177646228217,\n",
       "    -0.0311014196674914,\n",
       "    -0.0014462855999790073,\n",
       "    0.05860469291854788,\n",
       "    -0.07722914619480792,\n",
       "    0.03428467122545321,\n",
       "    0.055054261019831865,\n",
       "    -0.012547021537151705,\n",
       "    0.012187865017129347,\n",
       "    0.010240965676541966,\n",
       "    -0.002390820084024951,\n",
       "    -0.007119121673679453,\n",
       "    0.002763054059340508,\n",
       "    0.018291495879620395,\n",
       "    0.019571044133804023,\n",
       "    -0.015341688293238127,\n",
       "    -0.02629314886332583,\n",
       "    -0.011888746339706418,\n",
       "    0.019642088713775204,\n",
       "    0.02239486382067225,\n",
       "    -0.023576678385409753,\n",
       "    -0.01878305108834149,\n",
       "    -0.0021315024465229557,\n",
       "    0.02212366988473266,\n",
       "    -0.00636536932823089,\n",
       "    0.01558495391857608,\n",
       "    0.0023654012016797376,\n",
       "    -0.011792600996161796,\n",
       "    0.05749996791096369,\n",
       "    -0.00013358423066159406,\n",
       "    -0.01275105602644028,\n",
       "    0.002164057043804973,\n",
       "    0.03603652581046569,\n",
       "    0.011612151577216713,\n",
       "    -0.02320788284823813,\n",
       "    0.015859154446825844,\n",
       "    -0.03738469699618946,\n",
       "    -0.015982311535773997,\n",
       "    0.0069336497127681085,\n",
       "    0.003574755381178555,\n",
       "    -0.01837239621510184,\n",
       "    -0.012492960166459495,\n",
       "    -0.051744329955579774,\n",
       "    0.035686164488086515,\n",
       "    -0.012880054860408476,\n",
       "    0.0013179414554142703,\n",
       "    0.023796188068110544,\n",
       "    -0.03793692270168881,\n",
       "    -0.010723174199811078,\n",
       "    0.02039937839365737,\n",
       "    -0.008279737196653881,\n",
       "    0.007088760720360907,\n",
       "    0.0019020915384801872,\n",
       "    -0.0022743956911972438,\n",
       "    -0.0014727529187682944,\n",
       "    -0.003937909851005672,\n",
       "    -0.00036604691433926313,\n",
       "    0.003521182231561646,\n",
       "    -0.0014838511289955267,\n",
       "    -0.006964539434403687,\n",
       "    0.0014430972039539492,\n",
       "    0.0030424845544446562,\n",
       "    0.007686282055218132,\n",
       "    -0.00196846162539124,\n",
       "    -0.004509936618951993,\n",
       "    0.008905405863090509,\n",
       "    0.0031719911093917993,\n",
       "    0.0015547245208118966,\n",
       "    0.015368078669247928,\n",
       "    -0.01826815967091525,\n",
       "    0.010877742493209932,\n",
       "    -0.006189471540764484,\n",
       "    0.01595908083581461,\n",
       "    -0.03718925490945551,\n",
       "    0.016718304394250365,\n",
       "    0.022636342587851646,\n",
       "    0.01088070462943774,\n",
       "    -0.015117757995169036,\n",
       "    0.018865802589796712,\n",
       "    -0.009319503383396403,\n",
       "    -0.0037791610488696124,\n",
       "    0.007053073573578418,\n",
       "    0.00832746842081682,\n",
       "    -0.0034519442044978195,\n",
       "    -0.0012915733368397014,\n",
       "    0.010775866057209897,\n",
       "    0.005357413508803958,\n",
       "    0.009836898997927952,\n",
       "    0.011543032216518588,\n",
       "    -0.012178367252720507,\n",
       "    0.0010070521880634125,\n",
       "    -0.00292294887440886,\n",
       "    0.008951998919724067,\n",
       "    0.0009107704038878709,\n",
       "    -0.00837942973980546,\n",
       "    0.0068726453809330726,\n",
       "    0.019606706229307453,\n",
       "    0.004797307533930687,\n",
       "    0.004083270976158503,\n",
       "    0.0004336157262660202,\n",
       "    -0.012106158473024478,\n",
       "    0.016835341930552153,\n",
       "    -0.0011354213855878836,\n",
       "    0.0008897770669406501,\n",
       "    -0.0008179969033854409,\n",
       "    -0.0006096696695333088,\n",
       "    -0.0029992907665475324,\n",
       "    0.023618265848673277,\n",
       "    0.011112607063591542,\n",
       "    -0.01131656151674643,\n",
       "    0.009047725496133743,\n",
       "    -0.01171239175987223],\n",
       "   'DISPERSION CORRECTION GRADIENT': [-0.00026953483282128,\n",
       "    -0.00010344773718366,\n",
       "    -0.00070344441915791,\n",
       "    -0.0002503177823794,\n",
       "    0.00012528377875839,\n",
       "    0.00045887590019179,\n",
       "    -1.9150469303532e-05,\n",
       "    0.00034878138442281,\n",
       "    -0.00086976741653991,\n",
       "    -0.00017955798374878,\n",
       "    -6.3627475491873e-05,\n",
       "    -0.00094138979705576,\n",
       "    -0.00037435238808802,\n",
       "    -7.7102062326308e-05,\n",
       "    0.00021778553018973,\n",
       "    -0.00011376396460071,\n",
       "    -0.00068476472286072,\n",
       "    -0.00068982196229143,\n",
       "    -0.00051850682684104,\n",
       "    -2.4856735577198e-05,\n",
       "    0.00037515763022596,\n",
       "    9.083099049874e-05,\n",
       "    0.00089006101769828,\n",
       "    -0.00066495702683449,\n",
       "    -0.00064831731229903,\n",
       "    0.00027631109847911,\n",
       "    -0.00052986126535195,\n",
       "    0.00031093664980821,\n",
       "    -0.00031566085823878,\n",
       "    0.00012795655053037,\n",
       "    0.00047696310845959,\n",
       "    -0.00039452957678947,\n",
       "    8.2403967417178e-06,\n",
       "    0.00045227646840819,\n",
       "    -0.00053686983794236,\n",
       "    0.00044603242786869,\n",
       "    0.00073489780844606,\n",
       "    -0.00073602661980476,\n",
       "    0.00037716864243521,\n",
       "    0.00086436922241868,\n",
       "    -0.00056865472180227,\n",
       "    0.00068103246919298,\n",
       "    0.00067351294882786,\n",
       "    -0.00037133814913201,\n",
       "    0.00068153760311896,\n",
       "    0.00038310747069451,\n",
       "    0.00066957234966671,\n",
       "    -0.00055037205994755,\n",
       "    -0.00035715644687276,\n",
       "    0.00074987899859237,\n",
       "    -9.3475983353453e-05,\n",
       "    -3.6205965222404e-05,\n",
       "    -0.00030011503068706,\n",
       "    -0.00031939746111747,\n",
       "    -3.2776579752523e-05,\n",
       "    -0.0004884488401854,\n",
       "    -0.00028801206254955,\n",
       "    -0.00065568242695795,\n",
       "    4.0326659993562e-05,\n",
       "    0.00036454192872624,\n",
       "    0.00030198058114886,\n",
       "    0.00047533440960705,\n",
       "    0.00066052536656683,\n",
       "    -0.00044967351408345,\n",
       "    0.00021356724623239,\n",
       "    0.00026247209757657,\n",
       "    -0.00013589689308702,\n",
       "    0.0007560281403982,\n",
       "    6.0774213876466e-05,\n",
       "    -0.00028189115759397,\n",
       "    6.3290798237839e-05,\n",
       "    -0.00031028293319776,\n",
       "    0.00010528767112543,\n",
       "    -0.000280542834863,\n",
       "    -1.4774434854706e-05,\n",
       "    0.00026038347858412,\n",
       "    -0.00011531721064732,\n",
       "    -0.00015991749457293,\n",
       "    -1.9135026211893e-05,\n",
       "    -0.00026681988131297,\n",
       "    0.0002298267986059,\n",
       "    0.00048115562436188,\n",
       "    -0.00011736382012032,\n",
       "    -6.0547609803587e-05,\n",
       "    9.2031647707547e-05,\n",
       "    -0.00018047771901322,\n",
       "    0.00055502052406027,\n",
       "    0.00015502817625362,\n",
       "    0.00018943581079263,\n",
       "    -0.00020241855075934,\n",
       "    0.00032248456902569,\n",
       "    0.00035388717601209,\n",
       "    -0.00012658421065336,\n",
       "    -0.00026156930972176,\n",
       "    0.0003861399385236,\n",
       "    0.00011108112555913,\n",
       "    -4.6502817653771e-05,\n",
       "    -0.00039541059485745,\n",
       "    -2.7165797954907e-06,\n",
       "    -6.3724213933328e-05,\n",
       "    -0.00025109739339401,\n",
       "    -8.1904084049188e-05,\n",
       "    2.6542114090689e-05,\n",
       "    -0.00018201974725264,\n",
       "    -0.00014097287598207,\n",
       "    2.5634728438401e-05,\n",
       "    -0.00027996200477384,\n",
       "    -6.9027807739174e-05,\n",
       "    -0.00029941139805008,\n",
       "    -0.00017135057863546,\n",
       "    0.00017162135745834,\n",
       "    -0.00037685749158406,\n",
       "    8.1449412493499e-05,\n",
       "    -4.6570173711973e-05,\n",
       "    7.4111463136836e-05,\n",
       "    0.00025940951880245,\n",
       "    0.00043540509060307,\n",
       "    0.00022018471452607,\n",
       "    0.00028072357962425,\n",
       "    0.00030127500032102,\n",
       "    -0.00019158652792326,\n",
       "    0.00023993618339628,\n",
       "    0.00011953955745413,\n",
       "    -0.00018701367830328,\n",
       "    -1.3696218180575e-05,\n",
       "    0.00036459581602376,\n",
       "    -0.00012323447729656,\n",
       "    0.00038246506233342,\n",
       "    0.00013892391032409,\n",
       "    -0.00015989995163113,\n",
       "    0.00013761780700773,\n",
       "    -0.00028317372833219],\n",
       "   'MAYER_INDICES': [0.0,\n",
       "    0.00037259338858911645,\n",
       "    -3.869597196968017e-06,\n",
       "    0.0020050817070996537,\n",
       "    6.389410714732326e-05,\n",
       "    1.9173978839445478,\n",
       "    -0.00011883712244020172,\n",
       "    8.054219457452801e-06,\n",
       "    0.0018491879995689454,\n",
       "    5.2679582410578425e-05,\n",
       "    2.070136325039485e-05,\n",
       "    0.00017741159862873053,\n",
       "    2.9745897944312914e-05,\n",
       "    0.00010802104729277472,\n",
       "    4.6036349066432536e-05,\n",
       "    2.486127903323728e-06,\n",
       "    0.0007761294659886759,\n",
       "    0.09764714171359624,\n",
       "    -0.001795372036346371,\n",
       "    0.001135238453002219,\n",
       "    4.3385985764604085e-05,\n",
       "    0.004449611990322118,\n",
       "    0.0001468809540652295,\n",
       "    0.007890093401811559,\n",
       "    -1.197329974331648e-06,\n",
       "    -6.724893409495499e-07,\n",
       "    -2.798668222993957e-05,\n",
       "    -1.3484553581909756e-07,\n",
       "    -1.0285666015644091e-05,\n",
       "    -3.789316551337374e-07,\n",
       "    1.1509933361641506e-06,\n",
       "    7.367488629420067e-06,\n",
       "    0.01174053677088056,\n",
       "    0.005719070018933045,\n",
       "    0.003945810674021978,\n",
       "    0.013089432093161985,\n",
       "    -0.00017178909994602364,\n",
       "    0.0010113864317165305,\n",
       "    -2.042747447396242e-06,\n",
       "    3.313304351938026e-05,\n",
       "    0.001288831718853496,\n",
       "    0.00011071648757397414,\n",
       "    6.572202147952923e-05,\n",
       "    0.03358319862632858,\n",
       "    0.00037259338858911645,\n",
       "    0.0,\n",
       "    -7.713913854136743e-06,\n",
       "    0.0002097644974504908,\n",
       "    0.10827473862648046,\n",
       "    -0.00015231735827585507,\n",
       "    1.7625423527948523,\n",
       "    5.92110988921929e-07,\n",
       "    -0.0003479048412002454,\n",
       "    1.0446296912453479e-05,\n",
       "    -7.900932139677256e-07,\n",
       "    -5.221545230271993e-05,\n",
       "    -2.2614702626935214e-07,\n",
       "    2.1569387703070812e-05,\n",
       "    -2.754818131680258e-06,\n",
       "    -7.618918294816263e-07,\n",
       "    -0.0003226291626959719,\n",
       "    -6.1692561807115e-05,\n",
       "    7.188896007056748e-05,\n",
       "    0.011896745744217722,\n",
       "    -6.167621096716413e-06,\n",
       "    0.09554357221807092,\n",
       "    -4.607959016520653e-05,\n",
       "    0.008671908481439224,\n",
       "    -3.4903883466070477e-07,\n",
       "    3.7839660457282145e-07,\n",
       "    -1.2173276714277526e-06,\n",
       "    2.741527567427066e-06,\n",
       "    1.788047093361233e-05,\n",
       "    -1.1016814211510118e-06,\n",
       "    6.419912326299333e-07,\n",
       "    7.623134525574417e-05,\n",
       "    3.959181646331032e-05,\n",
       "    0.00013613183051309398,\n",
       "    1.308857495086648e-05,\n",
       "    -6.13416542244021e-08,\n",
       "    0.010590800573240789,\n",
       "    0.009110855938458864,\n",
       "    -3.4961962210627196e-06,\n",
       "    1.2680837557119816e-05,\n",
       "    0.002929264449523698,\n",
       "    -0.0018556337647535862,\n",
       "    3.547605333815576e-06,\n",
       "    0.0004888861691025865,\n",
       "    -3.869597196968017e-06,\n",
       "    -7.713913854136743e-06,\n",
       "    0.0,\n",
       "    -0.008587485615885656,\n",
       "    -3.775540096420698e-06,\n",
       "    0.00019970796585289845,\n",
       "    1.4366078349475512e-06,\n",
       "    2.049111683615211,\n",
       "    0.016019184593273856,\n",
       "    0.00020351464544577776,\n",
       "    -0.00038327299481717686,\n",
       "    0.0001986564978633975,\n",
       "    -0.0005399505185663709,\n",
       "    0.0006652464720388195,\n",
       "    0.003244718242594359,\n",
       "    0.07065128997255066,\n",
       "    0.004888362896672009,\n",
       "    -3.119074690308222e-05,\n",
       "    -1.6992104641875947e-05,\n",
       "    6.446614023201699e-05,\n",
       "    0.008171850145967885,\n",
       "    0.00018593011734942998,\n",
       "    0.009757198062562795,\n",
       "    0.002414987589550104,\n",
       "    -2.3825599816216483e-07,\n",
       "    2.3330125349383446e-05,\n",
       "    3.307043884052274e-06,\n",
       "    0.00014184910878830935,\n",
       "    5.6853114224960503e-05,\n",
       "    0.009948239630034019,\n",
       "    0.020919842416977363,\n",
       "    -0.00020522239252713083,\n",
       "    5.919630366916743e-06,\n",
       "    1.0048846532337288e-06,\n",
       "    4.103296968114437e-06,\n",
       "    2.0079540738577706e-06,\n",
       "    -5.423116003163662e-06,\n",
       "    8.476274182459334e-06,\n",
       "    0.002173765137961683,\n",
       "    0.0002878531110934876,\n",
       "    2.2234155011374367e-05,\n",
       "    4.8531765640155923e-05,\n",
       "    0.014462144651017564,\n",
       "    0.0004564467594504836,\n",
       "    0.0020050817070996537,\n",
       "    0.0002097644974504908,\n",
       "    -0.008587485615885656,\n",
       "    0.0,\n",
       "    0.0005426784694288384,\n",
       "    0.007331580582252116,\n",
       "    0.0005203616677636784,\n",
       "    -0.0026778156328549785,\n",
       "    1.8729729161257624,\n",
       "    0.0030798446461597403,\n",
       "    0.0010671868023638612,\n",
       "    -0.0011276109161791233,\n",
       "    -0.006237085463915257,\n",
       "    -0.005849562568797256,\n",
       "    0.021816493299316626,\n",
       "    0.000239315131244093,\n",
       "    0.08772913724460821,\n",
       "    -0.005150223382609805,\n",
       "    0.00020693028577229954,\n",
       "    0.0014072869590293668,\n",
       "    -0.0055813459137408405,\n",
       "    0.005504161919429154,\n",
       "    0.03833181197430457,\n",
       "    0.0088839167234801,\n",
       "    2.0408770474162733e-05,\n",
       "    1.879109959267824e-05,\n",
       "    3.850003936877936e-05,\n",
       "    -0.001057825389283458,\n",
       "    -0.00020600501996998965,\n",
       "    0.0001781395351997844,\n",
       "    0.0008174408604449978,\n",
       "    0.01890552439932965,\n",
       "    0.003862538592147354,\n",
       "    2.784770183895398e-07,\n",
       "    9.62713518644657e-05,\n",
       "    9.508309634210165e-05,\n",
       "    7.508983729205853e-05,\n",
       "    0.00010076406143240762,\n",
       "    0.00014014023569059136,\n",
       "    0.002327518483146672,\n",
       "    0.00011048519314758824,\n",
       "    0.0006091297637526363,\n",
       "    0.0022944600601152057,\n",
       "    0.012382615435803497,\n",
       "    6.389410714732326e-05,\n",
       "    0.10827473862648046,\n",
       "    -3.775540096420698e-06,\n",
       "    0.0005426784694288384,\n",
       "    0.0,\n",
       "    0.00026190570004719507,\n",
       "    1.6937883097831887,\n",
       "    -3.904391642633261e-06,\n",
       "    0.00036116901901513967,\n",
       "    3.2452321630949174e-06,\n",
       "    1.2701008981663567e-05,\n",
       "    2.0307244705871964e-05,\n",
       "    -6.326612401074903e-08,\n",
       "    -0.00011703651853205794,\n",
       "    5.2025695408322626e-05,\n",
       "    7.469794829482671e-06,\n",
       "    0.0001796485099274208,\n",
       "    0.0002196927004188455,\n",
       "    -6.687525960851889e-05,\n",
       "    0.06907723316874301,\n",
       "    1.9725965027437977e-05,\n",
       "    0.007049955995970184,\n",
       "    4.858125590601451e-05,\n",
       "    0.0021230485673402336,\n",
       "    -7.038403467622897e-08,\n",
       "    -1.1381187629655366e-08,\n",
       "    -2.44193320232615e-06,\n",
       "    -4.3930722813441885e-06,\n",
       "    5.947153328739293e-05,\n",
       "    8.101895311247316e-06,\n",
       "    2.155070062260161e-06,\n",
       "    7.009829891862582e-05,\n",
       "    4.3233286647249656e-05,\n",
       "    -4.497501831905246e-06,\n",
       "    4.693990248370766e-06,\n",
       "    -1.0844263464224534e-05,\n",
       "    0.0010483501452084017,\n",
       "    0.0007702317009934516,\n",
       "    -5.172574666606397e-06,\n",
       "    1.660452204414338e-05,\n",
       "    -0.00020714176443792243,\n",
       "    -0.0015399875416853234,\n",
       "    -2.167650008133917e-06,\n",
       "    0.0013625675639457487,\n",
       "    1.9173978839445478,\n",
       "    -0.00015231735827585507,\n",
       "    0.00019970796585289845,\n",
       "    0.007331580582252116,\n",
       "    0.00026190570004719507,\n",
       "    0.0,\n",
       "    0.0004218674700359746,\n",
       "    -3.5856920256108022e-06,\n",
       "    0.0038289362376082554,\n",
       "    -3.5134873491515046e-05,\n",
       "    1.4862498526846304e-05,\n",
       "    7.18913761830025e-05,\n",
       "    -7.314146076997373e-05,\n",
       "    0.00014147582274057774,\n",
       "    -1.4118992685027035e-05,\n",
       "    -2.0913269437804212e-05,\n",
       "    0.00016219419653411537,\n",
       "    1.2281932216376374,\n",
       "    0.9649776263212652,\n",
       "    0.0002666895751231799,\n",
       "    2.4193558385753854e-06,\n",
       "    0.004951941926041701,\n",
       "    0.0004813131430766762,\n",
       "    0.00033447911596957443,\n",
       "    8.792139143466773e-06,\n",
       "    -1.8306415993794767e-09,\n",
       "    1.51595034641701e-06,\n",
       "    1.3330503015401553e-05,\n",
       "    -1.2891999040889533e-05,\n",
       "    -3.5975160137758917e-06,\n",
       "    3.868903762131452e-06,\n",
       "    0.00013684921376825096,\n",
       "    -0.002483593370065232,\n",
       "    -0.009280056217386923,\n",
       "    -0.012907561336787155,\n",
       "    -0.017969957558334235,\n",
       "    -0.00016403700909098644,\n",
       "    -6.12520569123891e-05,\n",
       "    -2.7440928290741122e-05,\n",
       "    7.855339753594875e-06,\n",
       "    0.0015375847411600479,\n",
       "    0.00019257620728054767,\n",
       "    7.448545836263659e-05,\n",
       "    -0.0051154732530600535,\n",
       "    -0.00011883712244020172,\n",
       "    1.7625423527948523,\n",
       "    1.4366078349475512e-06,\n",
       "    0.0005203616677636784,\n",
       "    1.6937883097831887,\n",
       "    0.0004218674700359746,\n",
       "    0.0,\n",
       "    7.613242296128547e-06,\n",
       "    0.001182995545655554,\n",
       "    -5.841998035137067e-06,\n",
       "    6.205023470243324e-08,\n",
       "    5.20720294795743e-05,\n",
       "    -2.2186143449158585e-05,\n",
       "    -4.040033703398603e-05,\n",
       "    4.367836706845402e-05,\n",
       "    -1.513615781709495e-06,\n",
       "    -4.9370714881071125e-05,\n",
       "    0.00033995345721925713,\n",
       "    -4.8758213074534473e-05,\n",
       "    0.9943428199501179,\n",
       "    1.328705526318611e-06,\n",
       "    -0.02700318481623909,\n",
       "    0.00010483234770329251,\n",
       "    0.004003896163449948,\n",
       "    3.0319632598540644e-07,\n",
       "    6.807723078039339e-08,\n",
       "    -2.727110013554156e-07,\n",
       "    -3.1300594329040888e-06,\n",
       "    -8.995353928766575e-06,\n",
       "    2.1679554462672272e-06,\n",
       "    1.6469303205913039e-06,\n",
       "    2.0358678492453417e-05,\n",
       "    3.5016772502090906e-05,\n",
       "    -1.3325140553599613e-05,\n",
       "    1.907764252932798e-06,\n",
       "    1.0379912614011572e-07,\n",
       "    -0.009756766033084157,\n",
       "    -0.010911855144562452,\n",
       "    -7.960981653816391e-07,\n",
       "    5.8307617114742434e-06,\n",
       "    0.0022843023497760868,\n",
       "    0.001944777947394773,\n",
       "    1.348731423825533e-06,\n",
       "    9.546192479854934e-05,\n",
       "    8.054219457452801e-06,\n",
       "    5.92110988921929e-07,\n",
       "    2.049111683615211,\n",
       "    -0.0026778156328549785,\n",
       "    -3.904391642633261e-06,\n",
       "    -3.5856920256108022e-06,\n",
       "    7.613242296128547e-06,\n",
       "    0.0,\n",
       "    -0.008010323702131289,\n",
       "    0.0001270397403864312,\n",
       "    0.000926638836819966,\n",
       "    0.0002690804943205419,\n",
       "    0.0008216515015814808,\n",
       "    0.0008903218398159837,\n",
       "    -0.0070945041686130165,\n",
       "    1.047641108256861,\n",
       "    0.0003366400747727927,\n",
       "    3.248024552242771e-05,\n",
       "    -6.404075888965872e-06,\n",
       "    0.0001935342952406118,\n",
       "    -0.009288446060116903,\n",
       "    0.0013651660147081443,\n",
       "    0.9953321720955846,\n",
       "    -0.0008088745558274692,\n",
       "    6.789995187271291e-07,\n",
       "    2.3284341893539578e-05,\n",
       "    -9.801525384162099e-06,\n",
       "    -0.0005844007156541205,\n",
       "    0.0002211467146935994,\n",
       "    0.0013757943120037486,\n",
       "    -0.004819629871913517,\n",
       "    0.004975735756946127,\n",
       "    -2.019156985414203e-06,\n",
       "    1.0019580230389544e-06,\n",
       "    3.2993608931736363e-06,\n",
       "    1.7500319129841116e-06,\n",
       "    -3.095940267144845e-05,\n",
       "    2.1759950558227565e-05,\n",
       "    0.006370207679740151,\n",
       "    -0.0037832017179500487,\n",
       "    -6.281777961391744e-05,\n",
       "    -0.00016849039957740096,\n",
       "    -0.010524764452693838,\n",
       "    -1.1960867390170995e-05,\n",
       "    0.0018491879995689454,\n",
       "    -0.0003479048412002454,\n",
       "    0.016019184593273856,\n",
       "    1.8729729161257624,\n",
       "    0.00036116901901513967,\n",
       "    0.0038289362376082554,\n",
       "    0.001182995545655554,\n",
       "    -0.008010323702131289,\n",
       "    0.0,\n",
       "    0.0005136684542514186,\n",
       "    0.00047823658540871987,\n",
       "    -0.0013084051821195472,\n",
       "    -0.0035838798560980396,\n",
       "    -0.00022095009962006123,\n",
       "    0.0011095083494505793,\n",
       "    -0.0002665404766914327,\n",
       "    1.1587580584612953,\n",
       "    -0.008801067728819617,\n",
       "    0.0016125086097604868,\n",
       "    0.0051935572706595795,\n",
       "    -0.003721731897197568,\n",
       "    -0.01926526157276492,\n",
       "    -0.0016463305240643985,\n",
       "    0.99777366803106,\n",
       "    -1.786434317549836e-05,\n",
       "    -5.503615489286794e-06,\n",
       "    -4.442746703554098e-05,\n",
       "    -0.00010474863803464558,\n",
       "    -0.00031324141969634817,\n",
       "    9.200407790026898e-05,\n",
       "    7.228255980476629e-05,\n",
       "    -0.0112611837430398,\n",
       "    -0.00033311331103088584,\n",
       "    0.0001663457178817167,\n",
       "    0.00038935646016569336,\n",
       "    9.565915276168881e-05,\n",
       "    0.000322528869814377,\n",
       "    0.00021294753940430484,\n",
       "    -0.00043960153155275973,\n",
       "    0.00019999501920177037,\n",
       "    -0.004881818208115561,\n",
       "    -0.003511955581253897,\n",
       "    0.007523951768043435,\n",
       "    -0.02072223765847137,\n",
       "    5.2679582410578425e-05,\n",
       "    1.0446296912453479e-05,\n",
       "    0.00020351464544577776,\n",
       "    0.0030798446461597403,\n",
       "    3.2452321630949174e-06,\n",
       "    -3.5134873491515046e-05,\n",
       "    -5.841998035137067e-06,\n",
       "    0.0001270397403864312,\n",
       "    0.0005136684542514186,\n",
       "    0.0,\n",
       "    1.4628152871972586,\n",
       "    1.4431557942435649,\n",
       "    0.015189044962912034,\n",
       "    0.024851379025799123,\n",
       "    0.048848811466347467,\n",
       "    -7.413002770249203e-05,\n",
       "    0.0002885731239909002,\n",
       "    0.0002677501948328455,\n",
       "    1.872080743140783e-05,\n",
       "    -1.3395243262676956e-05,\n",
       "    0.00600151292029962,\n",
       "    -2.836711733747631e-05,\n",
       "    0.0025655683455415813,\n",
       "    0.0002068301592572442,\n",
       "    0.8991873221913206,\n",
       "    -0.015865418140247823,\n",
       "    -0.01879485167725442,\n",
       "    0.008173113315583177,\n",
       "    0.00883970273526883,\n",
       "    -1.409279534397559e-05,\n",
       "    -7.4760071155845075e-06,\n",
       "    -1.5390388401330327e-05,\n",
       "    -9.31861435024917e-06,\n",
       "    6.280092187183324e-06,\n",
       "    -5.430476755673592e-06,\n",
       "    8.08707720960759e-05,\n",
       "    1.6207041206562522e-06,\n",
       "    -2.228587251111628e-06,\n",
       "    0.00043712775120098764,\n",
       "    0.0016993131728119102,\n",
       "    -8.851101908657354e-06,\n",
       "    5.770856061321064e-05,\n",
       "    0.0012475373958672617,\n",
       "    -1.8866626392301672e-06,\n",
       "    2.070136325039485e-05,\n",
       "    -7.900932139677256e-07,\n",
       "    -0.00038327299481717686,\n",
       "    0.0010671868023638612,\n",
       "    1.2701008981663567e-05,\n",
       "    1.4862498526846304e-05,\n",
       "    6.205023470243324e-08,\n",
       "    0.000926638836819966,\n",
       "    0.00047823658540871987,\n",
       "    1.4628152871972586,\n",
       "    0.0,\n",
       "    0.010025196845856182,\n",
       "    1.4845808493204211,\n",
       "    0.07809392189171221,\n",
       "    0.028371196471545786,\n",
       "    5.7954093864440784e-05,\n",
       "    0.00032650145505417103,\n",
       "    0.00014203226665967112,\n",
       "    7.581378525792468e-06,\n",
       "    1.1676358894966444e-05,\n",
       "    0.006255908850483397,\n",
       "    0.00025477860931235534,\n",
       "    -0.0008608241097009404,\n",
       "    1.1103055242657474e-05,\n",
       "    -0.013056091457924378,\n",
       "    0.900777328246797,\n",
       "    0.007197948072202648,\n",
       "    -0.008865792837332576,\n",
       "    -0.00016952730686883516,\n",
       "    2.6138543704408792e-05,\n",
       "    7.587114022705725e-05,\n",
       "    -3.451863310753435e-05,\n",
       "    0.0001391869090069381,\n",
       "    -2.8166518565421607e-07,\n",
       "    9.400012103664794e-07,\n",
       "    1.0223586418605571e-05,\n",
       "    -2.772608298046803e-06,\n",
       "    1.1466543585319047e-05,\n",
       "    0.00211787486006945,\n",
       "    -9.412109253044896e-05,\n",
       "    1.8777357666691043e-06,\n",
       "    -1.783689633369293e-06,\n",
       "    9.964230467162321e-05,\n",
       "    -2.3002709233420024e-05,\n",
       "    0.00017741159862873053,\n",
       "    -5.221545230271993e-05,\n",
       "    0.0001986564978633975,\n",
       "    -0.0011276109161791233,\n",
       "    2.0307244705871964e-05,\n",
       "    7.18913761830025e-05,\n",
       "    5.20720294795743e-05,\n",
       "    0.0002690804943205419,\n",
       "    -0.0013084051821195472,\n",
       "    1.4431557942435649,\n",
       "    0.010025196845856182,\n",
       "    0.0,\n",
       "    0.07466794979629449,\n",
       "    1.4818851582357726,\n",
       "    0.03637167121859677,\n",
       "    -5.576119505781133e-05,\n",
       "    0.00033727839198380424,\n",
       "    0.0011606022089540853,\n",
       "    3.5058451693857436e-05,\n",
       "    7.4556108270255955e-06,\n",
       "    0.005444633791508855,\n",
       "    0.0004716089259317827,\n",
       "    0.00016602104533252777,\n",
       "    -0.0006191898524835504,\n",
       "    -0.013620561098894358,\n",
       "    0.0061898961764567904,\n",
       "    0.8990975369924858,\n",
       "    8.955556509441494e-06,\n",
       "    -0.014842430543943757,\n",
       "    2.1606862475287355e-05,\n",
       "    0.00013776409526573531,\n",
       "    -2.1982384887081154e-05,\n",
       "    0.0021458013796558165,\n",
       "    5.055325012329872e-07,\n",
       "    5.175059073371205e-06,\n",
       "    9.351534556243376e-05,\n",
       "    -2.3027152467749827e-06,\n",
       "    4.222450751688019e-05,\n",
       "    0.0007595223340391945,\n",
       "    0.0012952925981968507,\n",
       "    8.343254132339758e-05,\n",
       "    -2.7900877122868932e-05,\n",
       "    0.00034901059035491813,\n",
       "    -9.73875928044747e-05,\n",
       "    2.9745897944312914e-05,\n",
       "    -2.2614702626935214e-07,\n",
       "    -0.0005399505185663709,\n",
       "    -0.006237085463915257,\n",
       "    -6.326612401074903e-08,\n",
       "    -7.314146076997373e-05,\n",
       "    -2.2186143449158585e-05,\n",
       "    0.0008216515015814808,\n",
       "    -0.0035838798560980396,\n",
       "    0.015189044962912034,\n",
       "    1.4845808493204211,\n",
       "    0.07466794979629449,\n",
       "    0.0,\n",
       "    0.01704478575166077,\n",
       "    1.4120039581355064,\n",
       "    0.0061339593806497535,\n",
       "    0.0005695581301100588,\n",
       "    -5.8928892971139736e-05,\n",
       "    4.439882221321735e-06,\n",
       "    1.706343150736941e-05,\n",
       "    0.0242960326558113,\n",
       "    -0.0003780887613994286,\n",
       "    -0.0005587216135891655,\n",
       "    -0.0003659610972644213,\n",
       "    0.006961434588063174,\n",
       "    -0.01268495445204206,\n",
       "    0.00021178005368628687,\n",
       "    0.9055310089519952,\n",
       "    0.008984326988461184,\n",
       "    5.560153460086782e-05,\n",
       "    0.0013619527914616322,\n",
       "    -1.9898812498804783e-06,\n",
       "    0.0001953920081815419,\n",
       "    2.7414877689947314e-07,\n",
       "    -3.8140754704591937e-07,\n",
       "    9.568542295652105e-06,\n",
       "    1.1996945798568026e-05,\n",
       "    4.636741449649804e-06,\n",
       "    0.008629282206343784,\n",
       "    0.002462123045047789,\n",
       "    6.102679889960949e-05,\n",
       "    4.23087764333015e-05,\n",
       "    0.002170156298053132,\n",
       "    9.08942789897714e-05,\n",
       "    0.00010802104729277472,\n",
       "    2.1569387703070812e-05,\n",
       "    0.0006652464720388195,\n",
       "    -0.005849562568797256,\n",
       "    -0.00011703651853205794,\n",
       "    0.00014147582274057774,\n",
       "    -4.040033703398603e-05,\n",
       "    0.0008903218398159837,\n",
       "    -0.00022095009962006123,\n",
       "    0.024851379025799123,\n",
       "    0.07809392189171221,\n",
       "    1.4818851582357726,\n",
       "    0.01704478575166077,\n",
       "    0.0,\n",
       "    1.419220465809974,\n",
       "    0.0005163511317040428,\n",
       "    0.006579042688989688,\n",
       "    0.0008794331329868715,\n",
       "    -2.013454906317941e-05,\n",
       "    2.8476766171563128e-06,\n",
       "    0.03272875784614011,\n",
       "    0.0007389491693036599,\n",
       "    0.00022616702005513162,\n",
       "    -0.001996590084867649,\n",
       "    0.007041794477750481,\n",
       "    0.0001737199283686835,\n",
       "    -0.012889144125418266,\n",
       "    0.009164226606106277,\n",
       "    0.8872128327256558,\n",
       "    1.9490291790299667e-05,\n",
       "    0.000493069369992017,\n",
       "    0.00013970816025946572,\n",
       "    0.00017225572776871713,\n",
       "    1.0563547110455127e-06,\n",
       "    3.4578120970744617e-06,\n",
       "    3.912831645646455e-05,\n",
       "    2.9627089337308618e-05,\n",
       "    1.92792311405298e-05,\n",
       "    0.006222747305998218,\n",
       "    0.008460057334413344,\n",
       "    4.394619341418248e-06,\n",
       "    0.0015891102853065147,\n",
       "    0.0016504075981462261,\n",
       "    0.00028898671295670916,\n",
       "    4.6036349066432536e-05,\n",
       "    -2.754818131680258e-06,\n",
       "    0.003244718242594359,\n",
       "    0.021816493299316626,\n",
       "    5.2025695408322626e-05,\n",
       "    -1.4118992685027035e-05,\n",
       "    4.367836706845402e-05,\n",
       "    -0.0070945041686130165,\n",
       "    0.0011095083494505793,\n",
       "    0.048848811466347467,\n",
       "    0.028371196471545786,\n",
       "    0.03637167121859677,\n",
       "    1.4120039581355064,\n",
       "    1.419220465809974,\n",
       "    0.0,\n",
       "    -0.006661743508408491,\n",
       "    -0.0045754126745878405,\n",
       "    0.0002428647601009408,\n",
       "    -1.2535923675414083e-06,\n",
       "    3.8101975831760856e-05,\n",
       "    0.9108209180302017,\n",
       "    0.0005533272754068909,\n",
       "    -0.01535576373861781,\n",
       "    -0.0007091273289588375,\n",
       "    -0.00035351195792826783,\n",
       "    0.006120413936519232,\n",
       "    0.007081605031921199,\n",
       "    -0.03139993890042197,\n",
       "    -0.024873829049448026,\n",
       "    0.00011334631919138969,\n",
       "    -0.0007357367173652478,\n",
       "    0.000423614721309482,\n",
       "    0.0001911840248279719,\n",
       "    -9.10639484426867e-07,\n",
       "    3.5543117765173863e-07,\n",
       "    7.712735915791018e-06,\n",
       "    -3.665201473750402e-05,\n",
       "    1.0312054823986378e-06,\n",
       "    -0.028544215695308288,\n",
       "    -0.0293396898115456,\n",
       "    -5.239416747131641e-05,\n",
       "    0.00026307946372830927,\n",
       "    0.007386245988254237,\n",
       "    -2.867125896070206e-05,\n",
       "    2.486127903323728e-06,\n",
       "    -7.618918294816263e-07,\n",
       "    0.07065128997255066,\n",
       "    0.000239315131244093,\n",
       "    7.469794829482671e-06,\n",
       "    -2.0913269437804212e-05,\n",
       "    -1.513615781709495e-06,\n",
       "    1.047641108256861,\n",
       "    -0.0002665404766914327,\n",
       "    -7.413002770249203e-05,\n",
       "    5.7954093864440784e-05,\n",
       "    -5.576119505781133e-05,\n",
       "    0.0061339593806497535,\n",
       "    0.0005163511317040428,\n",
       "    -0.006661743508408491,\n",
       "    0.0,\n",
       "    0.003705103665165166,\n",
       "    9.450878329767614e-06,\n",
       "    -2.372289733779853e-07,\n",
       "    1.6114159359571422e-05,\n",
       "    0.021757333260877285,\n",
       "    0.00011617088592819184,\n",
       "    0.02194831616210704,\n",
       "    3.15261804572472e-05,\n",
       "    4.3093930058979825e-05,\n",
       "    4.092291234738578e-05,\n",
       "    -5.445211924435979e-06,\n",
       "    0.0037162716725545855,\n",
       "    -5.527871236672503e-05,\n",
       "    0.8248361142339128,\n",
       "    0.8079954010327273,\n",
       "    0.000558784566634261,\n",
       "    3.473457228293241e-06,\n",
       "    -1.7422227240156092e-07,\n",
       "    8.13810622134574e-07,\n",
       "    -9.465573626848959e-07,\n",
       "    1.8575291236309213e-05,\n",
       "    -1.1266572853355101e-05,\n",
       "    0.002303989712253986,\n",
       "    0.003542115261241168,\n",
       "    -1.0737157909288895e-05,\n",
       "    -3.4219654000970804e-06,\n",
       "    0.0006632320477141911,\n",
       "    -1.5795470820191482e-06,\n",
       "    0.0007761294659886759,\n",
       "    -0.0003226291626959719,\n",
       "    0.004888362896672009,\n",
       "    0.08772913724460821,\n",
       "    0.0001796485099274208,\n",
       "    0.00016219419653411537,\n",
       "    -4.9370714881071125e-05,\n",
       "    0.0003366400747727927,\n",
       "    1.1587580584612953,\n",
       "    0.0002885731239909002,\n",
       "    0.00032650145505417103,\n",
       "    0.00033727839198380424,\n",
       "    0.0005695581301100588,\n",
       "    0.006579042688989688,\n",
       "    -0.0045754126745878405,\n",
       "    0.003705103665165166,\n",
       "    0.0,\n",
       "    0.0048126278708738035,\n",
       "    7.653629700568788e-05,\n",
       "    0.001851150489861995,\n",
       "    -0.02425210425340576,\n",
       "    0.006050870421382756,\n",
       "    0.992706031698561,\n",
       "    0.01847218396984959,\n",
       "    -7.802343975317878e-07,\n",
       "    1.429682048898553e-05,\n",
       "    -3.176322793984087e-05,\n",
       "    -7.993606774779079e-05,\n",
       "    0.001606947024811644,\n",
       "    0.0014087232321141855,\n",
       "    0.00043810960490593806,\n",
       "    0.7833671434784988,\n",
       "    0.00017624715870220004,\n",
       "    -1.2626920561485653e-05,\n",
       "    8.964553830365424e-05,\n",
       "    7.7242224792771e-06,\n",
       "    0.0003557245162907057,\n",
       "    3.292418934482933e-05,\n",
       "    -6.567538533654881e-05,\n",
       "    0.007047861981006527,\n",
       "    -0.0008781953232277313,\n",
       "    0.0016303679106160884,\n",
       "    -0.013735883183120029,\n",
       "    0.004274004367057466,\n",
       "    0.09764714171359624,\n",
       "    -6.1692561807115e-05,\n",
       "    -3.119074690308222e-05,\n",
       "    -0.005150223382609805,\n",
       "    0.0002196927004188455,\n",
       "    1.2281932216376374,\n",
       "    0.00033995345721925713,\n",
       "    3.248024552242771e-05,\n",
       "    -0.008801067728819617,\n",
       "    0.0002677501948328455,\n",
       "    0.00014203226665967112,\n",
       "    0.0011606022089540853,\n",
       "    -5.8928892971139736e-05,\n",
       "    0.0008794331329868715,\n",
       "    0.0002428647601009408,\n",
       "    9.450878329767614e-06,\n",
       "    0.0048126278708738035,\n",
       "    0.0,\n",
       "    0.012365988712654786,\n",
       "    -0.0048901624223651186,\n",
       "    0.0002513527379048304,\n",
       "    -0.01120395478776768,\n",
       "    0.0010193054059903673,\n",
       "    0.9649078966837124,\n",
       "    1.0226694669014132e-05,\n",
       "    -1.2417814188430416e-06,\n",
       "    8.028771457262276e-06,\n",
       "    1.337525481756783e-05,\n",
       "    -6.62531229871888e-05,\n",
       "    -2.7051114919214452e-06,\n",
       "    3.5596762952912252e-06,\n",
       "    0.00018569563018118397,\n",
       "    0.812745866006277,\n",
       "    0.006798948893370567,\n",
       "    0.007689349367418844,\n",
       "    0.003936295757791212,\n",
       "    0.009379360635875186,\n",
       "    0.0003320771872239646,\n",
       "    -4.09464642416207e-05,\n",
       "    6.62215912733144e-05,\n",
       "    0.006379673529281306,\n",
       "    -0.0014852902527638175,\n",
       "    0.0001569535282802741,\n",
       "    -0.008147710927061078,\n",
       "    -0.001795372036346371,\n",
       "    7.188896007056748e-05,\n",
       "    -1.6992104641875947e-05,\n",
       "    0.00020693028577229954,\n",
       "    -6.687525960851889e-05,\n",
       "    0.9649776263212652,\n",
       "    -4.8758213074534473e-05,\n",
       "    -6.404075888965872e-06,\n",
       "    0.0016125086097604868,\n",
       "    1.872080743140783e-05,\n",
       "    7.581378525792468e-06,\n",
       "    3.5058451693857436e-05,\n",
       "    4.439882221321735e-06,\n",
       "    -2.013454906317941e-05,\n",
       "    -1.2535923675414083e-06,\n",
       "    -2.372289733779853e-07,\n",
       "    7.653629700568788e-05,\n",
       "    0.012365988712654786,\n",
       "    0.0,\n",
       "    0.0002733671817832268,\n",
       "    1.8734295565362994e-05,\n",
       "    0.0006417206425297182,\n",
       "    6.216968992675451e-05,\n",
       "    0.0019222401112385969,\n",
       "    8.801857261074835e-07,\n",
       "    8.533926737626523e-07,\n",
       "    -4.1232167948402765e-06,\n",
       "    -3.6132586640872935e-07,\n",
       "    1.736952108499916e-06,\n",
       "    -2.897257420683404e-07,\n",
       "    -8.450442015411238e-07,\n",
       "    2.2873031811171254e-05,\n",
       "    0.003591119381102797,\n",
       "    0.9206236371412856,\n",
       "    0.9267022087363526,\n",
       "    0.937969525372868,\n",
       "    0.0002234457733778543,\n",
       "    4.313793401100788e-05,\n",
       "    2.907308180937025e-07,\n",
       "    9.146697846500015e-06,\n",
       "    0.0003824668157176067,\n",
       "    1.2947945836336642e-05,\n",
       "    5.86733050946826e-06,\n",
       "    0.003921685811527608,\n",
       "    0.001135238453002219,\n",
       "    0.011896745744217722,\n",
       "    6.446614023201699e-05,\n",
       "    0.0014072869590293668,\n",
       "    0.06907723316874301,\n",
       "    0.0002666895751231799,\n",
       "    0.9943428199501179,\n",
       "    0.0001935342952406118,\n",
       "    0.0051935572706595795,\n",
       "    -1.3395243262676956e-05,\n",
       "    1.1676358894966444e-05,\n",
       "    7.4556108270255955e-06,\n",
       "    1.706343150736941e-05,\n",
       "    2.8476766171563128e-06,\n",
       "    3.8101975831760856e-05,\n",
       "    1.6114159359571422e-05,\n",
       "    0.001851150489861995,\n",
       "    -0.0048901624223651186,\n",
       "    0.0002733671817832268,\n",
       "    0.0,\n",
       "    4.861543103419451e-05,\n",
       "    0.986662693138566,\n",
       "    0.00038868656228697746,\n",
       "    -0.025275368545040908,\n",
       "    -2.4238229532674127e-06,\n",
       "    -1.312447806767393e-07,\n",
       "    1.1305718372797798e-05,\n",
       "    -1.2184765635947033e-05,\n",
       "    9.96010293924161e-05,\n",
       "    4.8587698403907565e-06,\n",
       "    -4.6243188982362256e-07,\n",
       "    0.00207542876775484,\n",
       "    0.00040040654902567124,\n",
       "    0.00013573453495717972,\n",
       "    -6.0431598355655806e-05,\n",
       "    2.7400464295242127e-05,\n",
       "    0.9271204087820714,\n",
       "    0.9190871493528376,\n",
       "    2.3699675050833255e-06,\n",
       "    7.2163496736376895e-06,\n",
       "    -0.0193652048488419,\n",
       "    -0.011224866969397682,\n",
       "    4.23019120027255e-05,\n",
       "    0.0036893074389845533,\n",
       "    4.3385985764604085e-05,\n",
       "    -6.167621096716413e-06,\n",
       "    0.008171850145967885,\n",
       "    -0.0055813459137408405,\n",
       "    1.9725965027437977e-05,\n",
       "    2.4193558385753854e-06,\n",
       "    1.328705526318611e-06,\n",
       "    -0.009288446060116903,\n",
       "    -0.003721731897197568,\n",
       "    0.00600151292029962,\n",
       "    0.006255908850483397,\n",
       "    0.005444633791508855,\n",
       "    0.0242960326558113,\n",
       "    0.03272875784614011,\n",
       "    0.9108209180302017,\n",
       "    0.021757333260877285,\n",
       "    -0.02425210425340576,\n",
       "    0.0002513527379048304,\n",
       "    1.8734295565362994e-05,\n",
       "    4.861543103419451e-05,\n",
       "    0.0,\n",
       "    -0.0002324704209449412,\n",
       "    0.946344512881144,\n",
       "    0.0015170518910310419,\n",
       "    0.000187231714478534,\n",
       "    0.0016298193880921706,\n",
       "    0.0015654835206126683,\n",
       "    0.005075723710929301,\n",
       "    0.0035512138178511302,\n",
       "    0.001513500282073756,\n",
       "    0.006413907470320813,\n",
       "    0.00013472210564931554,\n",
       "    -6.865000850649584e-05,\n",
       "    -1.9362054261036545e-07,\n",
       "    2.867518794717754e-06,\n",
       "    -4.272698946893488e-06,\n",
       "    2.382428368876885e-05,\n",
       "    -1.35750967335872e-06,\n",
       "    0.9217942695501068,\n",
       "    0.9190193844564777,\n",
       "    0.00016094150502858796,\n",
       "    -5.0483939998882115e-05,\n",
       "    -0.02422302048021385,\n",
       "    0.00022113642904766117,\n",
       "    0.004449611990322118,\n",
       "    0.09554357221807092,\n",
       "    0.00018593011734942998,\n",
       "    0.005504161919429154,\n",
       "    0.007049955995970184,\n",
       "    0.004951941926041701,\n",
       "    -0.02700318481623909,\n",
       "    0.0013651660147081443,\n",
       "    -0.01926526157276492,\n",
       "    -2.836711733747631e-05,\n",
       "    0.00025477860931235534,\n",
       "    0.0004716089259317827,\n",
       "    -0.0003780887613994286,\n",
       "    0.0007389491693036599,\n",
       "    0.0005533272754068909,\n",
       "    0.00011617088592819184,\n",
       "    0.006050870421382756,\n",
       "    -0.01120395478776768,\n",
       "    0.0006417206425297182,\n",
       "    0.986662693138566,\n",
       "    -0.0002324704209449412,\n",
       "    0.0,\n",
       "    0.0014972140418102744,\n",
       "    0.9707114487692785,\n",
       "    8.132810164981058e-06,\n",
       "    3.1564431410162428e-06,\n",
       "    1.570450617289781e-05,\n",
       "    4.092763330544927e-05,\n",
       "    0.0005088075481620811,\n",
       "    1.2214840662972564e-05,\n",
       "    2.4371658807752893e-06,\n",
       "    0.02288026620227692,\n",
       "    0.0016084100895360325,\n",
       "    0.00039880773016027186,\n",
       "    7.15607327250664e-05,\n",
       "    6.015899571589042e-05,\n",
       "    -0.01307304595767544,\n",
       "    -0.005653251891286829,\n",
       "    -1.9778614829654737e-05,\n",
       "    0.0001724631666836755,\n",
       "    0.917885564684125,\n",
       "    0.905200079700932,\n",
       "    -1.1915466652640273e-05,\n",
       "    -0.0227242374478198,\n",
       "    0.0001468809540652295,\n",
       "    -4.607959016520653e-05,\n",
       "    0.009757198062562795,\n",
       "    0.03833181197430457,\n",
       "    4.858125590601451e-05,\n",
       "    0.0004813131430766762,\n",
       "    0.00010483234770329251,\n",
       "    0.9953321720955846,\n",
       "    -0.0016463305240643985,\n",
       "    0.0025655683455415813,\n",
       "    -0.0008608241097009404,\n",
       "    0.00016602104533252777,\n",
       "    -0.0005587216135891655,\n",
       "    0.00022616702005513162,\n",
       "    -0.01535576373861781,\n",
       "    0.02194831616210704,\n",
       "    0.992706031698561,\n",
       "    0.0010193054059903673,\n",
       "    6.216968992675451e-05,\n",
       "    0.00038868656228697746,\n",
       "    0.946344512881144,\n",
       "    0.0014972140418102744,\n",
       "    0.0,\n",
       "    0.005812788334799094,\n",
       "    -7.124985930710494e-06,\n",
       "    6.793577234329531e-05,\n",
       "    0.00015079025962095888,\n",
       "    -0.000598135123197426,\n",
       "    -0.0007142682036005947,\n",
       "    0.007099917812562544,\n",
       "    0.002944504048226666,\n",
       "    -0.0008055802598272967,\n",
       "    ...],\n",
       "   'SCF DIPOLE': [9.23104226422194, 1.1494721820313742, -1.5402249273454167],\n",
       "   'SCF QUADRUPOLE': [-196.58117602251696,\n",
       "    -1.3420716979034069,\n",
       "    33.45660671812266,\n",
       "    -1.3420716979034069,\n",
       "    -92.1834417012883,\n",
       "    1.4488520597204655,\n",
       "    33.45660671812266,\n",
       "    1.4488520597204655,\n",
       "    -145.59095778785036],\n",
       "   'SCF TOTAL GRADIENT': [-0.013475697976353293,\n",
       "    0.01028038660535382,\n",
       "    -0.020300922289486305,\n",
       "    -0.014638805423516772,\n",
       "    -0.004594620294010176,\n",
       "    0.008501082816208105,\n",
       "    -0.0026730047753359093,\n",
       "    -0.027021723120678087,\n",
       "    -0.00938480187463062,\n",
       "    0.02982289069069457,\n",
       "    -0.03231329442927349,\n",
       "    -0.04330555849491013,\n",
       "    -0.08105121091772148,\n",
       "    -0.02462556457188045,\n",
       "    0.0368954016535774,\n",
       "    0.01579763381438008,\n",
       "    -0.05415603246845557,\n",
       "    0.014732905583182496,\n",
       "    0.10932019826269415,\n",
       "    0.026701901549285204,\n",
       "    -0.07112177646228217,\n",
       "    -0.0311014196674914,\n",
       "    -0.0014462855999790073,\n",
       "    0.05860469291854788,\n",
       "    -0.07722914619480792,\n",
       "    0.03428467122545321,\n",
       "    0.055054261019831865,\n",
       "    -0.012547021537151705,\n",
       "    0.012187865017129347,\n",
       "    0.010240965676541966,\n",
       "    -0.002390820084024951,\n",
       "    -0.007119121673679453,\n",
       "    0.002763054059340508,\n",
       "    0.018291495879620395,\n",
       "    0.019571044133804023,\n",
       "    -0.015341688293238127,\n",
       "    -0.02629314886332583,\n",
       "    -0.011888746339706418,\n",
       "    0.019642088713775204,\n",
       "    0.02239486382067225,\n",
       "    -0.023576678385409753,\n",
       "    -0.01878305108834149,\n",
       "    -0.0021315024465229557,\n",
       "    0.02212366988473266,\n",
       "    -0.00636536932823089,\n",
       "    0.01558495391857608,\n",
       "    0.0023654012016797376,\n",
       "    -0.011792600996161796,\n",
       "    0.05749996791096369,\n",
       "    -0.00013358423066159406,\n",
       "    -0.01275105602644028,\n",
       "    0.002164057043804973,\n",
       "    0.03603652581046569,\n",
       "    0.011612151577216713,\n",
       "    -0.02320788284823813,\n",
       "    0.015859154446825844,\n",
       "    -0.03738469699618946,\n",
       "    -0.015982311535773997,\n",
       "    0.0069336497127681085,\n",
       "    0.003574755381178555,\n",
       "    -0.01837239621510184,\n",
       "    -0.012492960166459495,\n",
       "    -0.051744329955579774,\n",
       "    0.035686164488086515,\n",
       "    -0.012880054860408476,\n",
       "    0.0013179414554142703,\n",
       "    0.023796188068110544,\n",
       "    -0.03793692270168881,\n",
       "    -0.010723174199811078,\n",
       "    0.02039937839365737,\n",
       "    -0.008279737196653881,\n",
       "    0.007088760720360907,\n",
       "    0.0019020915384801872,\n",
       "    -0.0022743956911972438,\n",
       "    -0.0014727529187682944,\n",
       "    -0.003937909851005672,\n",
       "    -0.00036604691433926313,\n",
       "    0.003521182231561646,\n",
       "    -0.0014838511289955267,\n",
       "    -0.006964539434403687,\n",
       "    0.0014430972039539492,\n",
       "    0.0030424845544446562,\n",
       "    0.007686282055218132,\n",
       "    -0.00196846162539124,\n",
       "    -0.004509936618951993,\n",
       "    0.008905405863090509,\n",
       "    0.0031719911093917993,\n",
       "    0.0015547245208118966,\n",
       "    0.015368078669247928,\n",
       "    -0.01826815967091525,\n",
       "    0.010877742493209932,\n",
       "    -0.006189471540764484,\n",
       "    0.01595908083581461,\n",
       "    -0.03718925490945551,\n",
       "    0.016718304394250365,\n",
       "    0.022636342587851646,\n",
       "    0.01088070462943774,\n",
       "    -0.015117757995169036,\n",
       "    0.018865802589796712,\n",
       "    -0.009319503383396403,\n",
       "    -0.0037791610488696124,\n",
       "    0.007053073573578418,\n",
       "    0.00832746842081682,\n",
       "    -0.0034519442044978195,\n",
       "    -0.0012915733368397014,\n",
       "    0.010775866057209897,\n",
       "    0.005357413508803958,\n",
       "    0.009836898997927952,\n",
       "    0.011543032216518588,\n",
       "    -0.012178367252720507,\n",
       "    0.0010070521880634125,\n",
       "    -0.00292294887440886,\n",
       "    0.008951998919724067,\n",
       "    0.0009107704038878709,\n",
       "    -0.00837942973980546,\n",
       "    0.0068726453809330726,\n",
       "    0.019606706229307453,\n",
       "    0.004797307533930687,\n",
       "    0.004083270976158503,\n",
       "    0.0004336157262660202,\n",
       "    -0.012106158473024478,\n",
       "    0.016835341930552153,\n",
       "    -0.0011354213855878836,\n",
       "    0.0008897770669406501,\n",
       "    -0.0008179969033854409,\n",
       "    -0.0006096696695333088,\n",
       "    -0.0029992907665475324,\n",
       "    0.023618265848673277,\n",
       "    0.011112607063591542,\n",
       "    -0.01131656151674643,\n",
       "    0.009047725496133743,\n",
       "    -0.01171239175987223],\n",
       "   'WIBERG_LOWDIN_INDICES': [0.0,\n",
       "    0.0003957120201431366,\n",
       "    7.248437665939956e-05,\n",
       "    0.003207613808176303,\n",
       "    0.0001006500020762939,\n",
       "    2.1853730687290516,\n",
       "    0.0002562587314312564,\n",
       "    6.212512423751393e-05,\n",
       "    0.005980887961027747,\n",
       "    5.4818309737692643e-05,\n",
       "    1.7576590504333418e-05,\n",
       "    0.0002891017741375427,\n",
       "    2.3246079629689053e-05,\n",
       "    0.00022622962845025415,\n",
       "    5.3939160293444066e-05,\n",
       "    1.1216865402241774e-05,\n",
       "    0.0010878504672511254,\n",
       "    0.21297571091686318,\n",
       "    0.12240455307944145,\n",
       "    0.00223611032668445,\n",
       "    6.239293380265358e-05,\n",
       "    0.0044825049737108715,\n",
       "    0.00024272857850668136,\n",
       "    0.041303661138511666,\n",
       "    9.460954473937392e-07,\n",
       "    4.3898561255717764e-07,\n",
       "    1.5121938998235115e-05,\n",
       "    4.505869953402927e-07,\n",
       "    1.1113642126254626e-05,\n",
       "    2.0980803932318738e-06,\n",
       "    2.078445355829722e-06,\n",
       "    6.203204199299231e-05,\n",
       "    0.009974830188851543,\n",
       "    0.012313900266305796,\n",
       "    0.009396801167480732,\n",
       "    0.01612460841139501,\n",
       "    0.0005052558839120988,\n",
       "    0.00039872315544046586,\n",
       "    2.941863222567971e-06,\n",
       "    1.4328323664836282e-05,\n",
       "    0.0012220924015996044,\n",
       "    0.0006542938574358785,\n",
       "    3.237327950386073e-05,\n",
       "    0.017197625565574307,\n",
       "    0.0003957120201431366,\n",
       "    0.0,\n",
       "    5.4235387996301295e-06,\n",
       "    0.0002990106924863948,\n",
       "    0.2372816740703206,\n",
       "    0.0016174138629368204,\n",
       "    2.108729412940148,\n",
       "    8.025020249168579e-06,\n",
       "    0.0011072987390842249,\n",
       "    1.4135430896219886e-06,\n",
       "    1.7486150226972e-06,\n",
       "    3.92505906811003e-06,\n",
       "    2.5220839991759745e-06,\n",
       "    2.1538763150545036e-05,\n",
       "    7.881808924808788e-06,\n",
       "    1.927642066485991e-06,\n",
       "    0.0002861387751087999,\n",
       "    0.0017388651291378521,\n",
       "    0.00019450123305763284,\n",
       "    0.11999479899920792,\n",
       "    1.3878040562282887e-05,\n",
       "    0.0766495479246345,\n",
       "    4.7965270449387e-05,\n",
       "    0.009146374660395857,\n",
       "    9.076440412542094e-08,\n",
       "    1.2973687003891407e-07,\n",
       "    3.3511465952778623e-07,\n",
       "    1.5918459758415077e-07,\n",
       "    4.224584819269076e-06,\n",
       "    3.2922351200038854e-07,\n",
       "    1.5397216009401134e-07,\n",
       "    5.281391201781248e-05,\n",
       "    9.265280046272863e-05,\n",
       "    0.00013134306868301548,\n",
       "    1.664462576170332e-05,\n",
       "    1.1017175325363527e-05,\n",
       "    0.012766470118181012,\n",
       "    0.01281225336971037,\n",
       "    1.0838961206534216e-06,\n",
       "    1.8623794450623501e-06,\n",
       "    0.007092355639641906,\n",
       "    0.006177502545282274,\n",
       "    6.506332409265766e-06,\n",
       "    0.000497459432806227,\n",
       "    7.248437665939956e-05,\n",
       "    5.4235387996301295e-06,\n",
       "    0.0,\n",
       "    0.03758550884395806,\n",
       "    1.0464996803937928e-05,\n",
       "    0.00012481315379338006,\n",
       "    1.2569458182923454e-05,\n",
       "    2.32027821329883,\n",
       "    0.03037151689046416,\n",
       "    0.00017167043232463926,\n",
       "    0.00029191556690485337,\n",
       "    0.00034787665009579897,\n",
       "    0.0009668196253623147,\n",
       "    0.0008216040841542567,\n",
       "    0.0017434015074166834,\n",
       "    0.20353120475854167,\n",
       "    0.01451726402561189,\n",
       "    0.0005571755922956173,\n",
       "    1.54775919244388e-05,\n",
       "    7.869426432271507e-05,\n",
       "    0.018453281734156654,\n",
       "    0.00046032158853151164,\n",
       "    0.11866304763333352,\n",
       "    0.0013081846001521632,\n",
       "    1.3296275968925782e-06,\n",
       "    1.9286372045442907e-05,\n",
       "    4.793780112160688e-06,\n",
       "    0.0007456016067498303,\n",
       "    5.898865298487979e-05,\n",
       "    0.008742208896580665,\n",
       "    0.01697831219586663,\n",
       "    0.00028216123655412363,\n",
       "    9.555258415820794e-05,\n",
       "    1.6600785157866946e-06,\n",
       "    4.82909897033031e-06,\n",
       "    9.188614195355945e-07,\n",
       "    9.388749183900281e-06,\n",
       "    1.090294501277879e-05,\n",
       "    0.002158198915342479,\n",
       "    0.0010120520509311073,\n",
       "    2.58716737352379e-05,\n",
       "    7.764825895161297e-05,\n",
       "    0.01684056116719877,\n",
       "    0.00024399638556499753,\n",
       "    0.003207613808176303,\n",
       "    0.0002990106924863948,\n",
       "    0.03758550884395806,\n",
       "    0.0,\n",
       "    0.0006550635823745317,\n",
       "    0.009283548830115231,\n",
       "    0.0007905810911871457,\n",
       "    0.028894786462603614,\n",
       "    2.112830055398241,\n",
       "    0.0025792601658354494,\n",
       "    0.003492064682818666,\n",
       "    0.003987120348900631,\n",
       "    0.012133100558634681,\n",
       "    0.012215887728870126,\n",
       "    0.02073194727852502,\n",
       "    0.0027286026806259698,\n",
       "    0.1917098440819918,\n",
       "    0.03766947218543606,\n",
       "    0.0006589092757367129,\n",
       "    0.0037814120821540167,\n",
       "    0.0060056785215058086,\n",
       "    0.01751457410345757,\n",
       "    0.02259720073720862,\n",
       "    0.12873636478136272,\n",
       "    3.173445933135967e-05,\n",
       "    2.379676180907741e-05,\n",
       "    3.177255718123002e-05,\n",
       "    0.0001771608523802249,\n",
       "    0.00032177873657210837,\n",
       "    0.0003493565229553248,\n",
       "    0.0009514589575988783,\n",
       "    0.013547542580192189,\n",
       "    0.0022537494510471243,\n",
       "    0.00015873814853481881,\n",
       "    0.0001635470923543463,\n",
       "    3.956220090202409e-05,\n",
       "    0.0004977912061621089,\n",
       "    0.0003140896900792671,\n",
       "    0.0005611398150170651,\n",
       "    0.001257027933242407,\n",
       "    0.0008906478173393249,\n",
       "    0.0005597085832926602,\n",
       "    0.0016437844227099423,\n",
       "    0.015960916578444406,\n",
       "    0.0001006500020762939,\n",
       "    0.2372816740703206,\n",
       "    1.0464996803937928e-05,\n",
       "    0.0006550635823745317,\n",
       "    0.0,\n",
       "    0.00037611118097592553,\n",
       "    1.9285563801610361,\n",
       "    2.8722175997687866e-05,\n",
       "    0.0016539103183296142,\n",
       "    3.1559369533665987e-06,\n",
       "    1.282252570871987e-05,\n",
       "    8.238085567019353e-06,\n",
       "    9.760838259057831e-06,\n",
       "    5.2925021963199406e-05,\n",
       "    1.4453753580845807e-05,\n",
       "    7.297079051224526e-06,\n",
       "    0.0004608296664235092,\n",
       "    0.0006014771459241917,\n",
       "    4.635371930360521e-05,\n",
       "    0.12453086687858296,\n",
       "    2.24497609311571e-05,\n",
       "    0.02040512873266627,\n",
       "    6.755313678173251e-05,\n",
       "    0.0036123067194327564,\n",
       "    1.3878104107628616e-07,\n",
       "    2.0244738996690172e-08,\n",
       "    1.0587131511368548e-07,\n",
       "    6.610461849420551e-07,\n",
       "    2.0039756767393057e-05,\n",
       "    3.826528938682666e-06,\n",
       "    4.741016621653015e-07,\n",
       "    0.00021598489504198233,\n",
       "    3.844293584758619e-05,\n",
       "    1.5615084399732207e-05,\n",
       "    1.2471405224263055e-05,\n",
       "    3.982910407203344e-06,\n",
       "    0.008725827016827427,\n",
       "    0.009181533104289614,\n",
       "    2.344176176158217e-07,\n",
       "    4.7215760469561295e-06,\n",
       "    0.0012116544431634768,\n",
       "    0.0010110527466622285,\n",
       "    7.16133212410527e-06,\n",
       "    0.00044307007482695724,\n",
       "    2.1853730687290516,\n",
       "    0.0016174138629368204,\n",
       "    0.00012481315379338006,\n",
       "    0.009283548830115231,\n",
       "    0.00037611118097592553,\n",
       "    0.0,\n",
       "    0.0008509253237316511,\n",
       "    6.528873452025278e-05,\n",
       "    0.014846371175512223,\n",
       "    3.4418813278763576e-05,\n",
       "    1.471450741900013e-05,\n",
       "    0.0001806244418190164,\n",
       "    2.6097284523656477e-05,\n",
       "    0.00011519123682726563,\n",
       "    3.438254843103288e-05,\n",
       "    2.7786892056270897e-05,\n",
       "    0.0022145575455697567,\n",
       "    1.4248650802632827,\n",
       "    1.164674807944481,\n",
       "    0.007483543573337848,\n",
       "    4.821132807215761e-05,\n",
       "    0.014326308441430392,\n",
       "    0.00047514319991830064,\n",
       "    0.09267833502348802,\n",
       "    3.793411304853712e-07,\n",
       "    5.005227560993622e-07,\n",
       "    1.0295455573970528e-05,\n",
       "    2.162025414659315e-07,\n",
       "    5.03458186232505e-06,\n",
       "    2.4570941872722e-06,\n",
       "    1.5118639881591724e-06,\n",
       "    0.00019473004735414613,\n",
       "    0.04295107560433014,\n",
       "    0.045641726361181016,\n",
       "    0.044271012113716236,\n",
       "    0.04703366469926184,\n",
       "    0.0033581928959719193,\n",
       "    0.00041237599013152016,\n",
       "    2.135073468834838e-06,\n",
       "    1.1414047163781652e-05,\n",
       "    0.002113056812794419,\n",
       "    0.0006429938757451062,\n",
       "    5.289781328238256e-05,\n",
       "    0.011844381296403656,\n",
       "    0.0002562587314312564,\n",
       "    2.108729412940148,\n",
       "    1.2569458182923454e-05,\n",
       "    0.0007905810911871457,\n",
       "    1.9285563801610361,\n",
       "    0.0008509253237316511,\n",
       "    0.0,\n",
       "    1.3306778945914971e-05,\n",
       "    0.002382123389804748,\n",
       "    1.7595135645776059e-06,\n",
       "    3.3481727785409624e-06,\n",
       "    3.0228869264973745e-06,\n",
       "    7.635009716442829e-06,\n",
       "    1.8981223596738974e-05,\n",
       "    7.821407637592332e-06,\n",
       "    1.8932861699675573e-06,\n",
       "    0.00030381359343251564,\n",
       "    0.0026540883345035076,\n",
       "    6.304590919800255e-05,\n",
       "    1.1060156963489856,\n",
       "    7.690906631572286e-06,\n",
       "    0.0902945037788111,\n",
       "    3.6203576037597734e-05,\n",
       "    0.013401695708369857,\n",
       "    1.0406079145291269e-07,\n",
       "    6.90290722800608e-08,\n",
       "    1.610314865510022e-07,\n",
       "    2.3605563787766959e-07,\n",
       "    5.599290553500737e-06,\n",
       "    4.573881111684952e-07,\n",
       "    4.6122812390723934e-07,\n",
       "    0.00010849516163707937,\n",
       "    6.642606807784988e-05,\n",
       "    2.2838730300040833e-05,\n",
       "    1.551850187351648e-05,\n",
       "    5.242814438011153e-06,\n",
       "    0.039430249296688105,\n",
       "    0.04104745462752698,\n",
       "    7.075387064597467e-07,\n",
       "    2.545345346516485e-06,\n",
       "    0.006860820107242121,\n",
       "    0.00628071540029334,\n",
       "    4.218931719203155e-06,\n",
       "    0.0009472142684602037,\n",
       "    6.212512423751393e-05,\n",
       "    8.025020249168579e-06,\n",
       "    2.32027821329883,\n",
       "    0.028894786462603614,\n",
       "    2.8722175997687866e-05,\n",
       "    6.528873452025278e-05,\n",
       "    1.3306778945914971e-05,\n",
       "    0.0,\n",
       "    0.02119866016769787,\n",
       "    0.00048118159893545604,\n",
       "    0.0007567624963788516,\n",
       "    0.0006667526464633459,\n",
       "    0.006411299363687573,\n",
       "    0.0019103678421892717,\n",
       "    0.012230522960014508,\n",
       "    1.3640084998389013,\n",
       "    0.07937517194427271,\n",
       "    0.0004300206333375961,\n",
       "    1.0226778441707378e-05,\n",
       "    0.0001946630285536224,\n",
       "    0.08657539170717993,\n",
       "    0.0010883846968921455,\n",
       "    1.048704197953275,\n",
       "    0.0018783142331583466,\n",
       "    1.5418225650255097e-05,\n",
       "    6.908379109096806e-05,\n",
       "    1.3735824020527488e-05,\n",
       "    0.002171092837148965,\n",
       "    0.00028052938612865396,\n",
       "    0.044644945372389264,\n",
       "    0.03990080309562538,\n",
       "    0.0058864876327490954,\n",
       "    4.280238129632474e-05,\n",
       "    1.6832937926028475e-06,\n",
       "    2.5210736716370685e-06,\n",
       "    1.1724980178282147e-06,\n",
       "    2.080067240189305e-05,\n",
       "    1.3487630020911263e-05,\n",
       "    0.010810065753493754,\n",
       "    0.005982391628862582,\n",
       "    0.00016673568566498767,\n",
       "    7.518254219760489e-05,\n",
       "    0.04639210886195475,\n",
       "    0.00020711710841195044,\n",
       "    0.005980887961027747,\n",
       "    0.0011072987390842249,\n",
       "    0.03037151689046416,\n",
       "    2.112830055398241,\n",
       "    0.0016539103183296142,\n",
       "    0.014846371175512223,\n",
       "    0.002382123389804748,\n",
       "    0.02119866016769787,\n",
       "    0.0,\n",
       "    0.0009804079910144732,\n",
       "    0.001328976735532303,\n",
       "    0.002259007303436315,\n",
       "    0.0025774730778933925,\n",
       "    0.013031186309769063,\n",
       "    0.011580621635500523,\n",
       "    0.002784986278173476,\n",
       "    1.4017858366757523,\n",
       "    0.08814435623149997,\n",
       "    0.0017610424960084752,\n",
       "    0.013744399829994836,\n",
       "    0.01587827028814278,\n",
       "    0.0985329619790203,\n",
       "    0.08955300873598901,\n",
       "    1.0600055197875002,\n",
       "    3.4692710143990405e-05,\n",
       "    3.2316891136826874e-05,\n",
       "    5.590026644986966e-05,\n",
       "    6.858828103579669e-05,\n",
       "    0.0012676580039282777,\n",
       "    0.00023864309866240824,\n",
       "    0.0002572621636261164,\n",
       "    0.04478563006490904,\n",
       "    0.004905577480303923,\n",
       "    0.000321008433485329,\n",
       "    0.00043773422007108593,\n",
       "    7.246272932854401e-05,\n",
       "    0.0006651481459640302,\n",
       "    0.0009819121966987896,\n",
       "    0.0005098547103935531,\n",
       "    0.001897174386849525,\n",
       "    0.00504546161596356,\n",
       "    0.007551313814531338,\n",
       "    0.008787180305432038,\n",
       "    0.046031502462189164,\n",
       "    5.4818309737692643e-05,\n",
       "    1.4135430896219886e-06,\n",
       "    0.00017167043232463926,\n",
       "    0.0025792601658354494,\n",
       "    3.1559369533665987e-06,\n",
       "    3.4418813278763576e-05,\n",
       "    1.7595135645776059e-06,\n",
       "    0.00048118159893545604,\n",
       "    0.0009804079910144732,\n",
       "    0.0,\n",
       "    1.5557128803032052,\n",
       "    1.5501749240902871,\n",
       "    0.11986342065002711,\n",
       "    0.12378327642316256,\n",
       "    0.11014874451062115,\n",
       "    0.0003354601895788168,\n",
       "    0.0004116453049276031,\n",
       "    0.0002474439504436698,\n",
       "    2.7827885887814186e-05,\n",
       "    9.421928363414997e-06,\n",
       "    0.008774081949645235,\n",
       "    7.127424371450006e-05,\n",
       "    0.004808810931558158,\n",
       "    0.00013176420687764472,\n",
       "    0.8558096293070931,\n",
       "    0.05375330653243301,\n",
       "    0.055176734362029974,\n",
       "    0.008565089367996354,\n",
       "    0.008987823455304566,\n",
       "    1.362700458029605e-05,\n",
       "    0.00016105183769863317,\n",
       "    1.2698348575291947e-05,\n",
       "    0.00013089386263097732,\n",
       "    1.3555449748902423e-06,\n",
       "    1.12002059145897e-06,\n",
       "    2.1103184246360194e-05,\n",
       "    8.901976038371819e-07,\n",
       "    1.873482414675529e-06,\n",
       "    0.0012541044157186661,\n",
       "    0.0019045310856441306,\n",
       "    2.0802430081874e-06,\n",
       "    4.6889450430043156e-05,\n",
       "    0.0005130098838916363,\n",
       "    5.6328015147420414e-05,\n",
       "    1.7576590504333418e-05,\n",
       "    1.7486150226972e-06,\n",
       "    0.00029191556690485337,\n",
       "    0.003492064682818666,\n",
       "    1.282252570871987e-05,\n",
       "    1.471450741900013e-05,\n",
       "    3.3481727785409624e-06,\n",
       "    0.0007567624963788516,\n",
       "    0.001328976735532303,\n",
       "    1.5557128803032052,\n",
       "    0.0,\n",
       "    0.12331521682924079,\n",
       "    1.5324440016833045,\n",
       "    0.12391411348482938,\n",
       "    0.1201691458328552,\n",
       "    0.0009995035752424827,\n",
       "    0.001202599844885298,\n",
       "    0.00010710242938416479,\n",
       "    4.571027421065883e-06,\n",
       "    2.705313519525348e-05,\n",
       "    0.011289405921328046,\n",
       "    0.00013444861084999402,\n",
       "    0.0015323061169859218,\n",
       "    0.00021880668664887482,\n",
       "    0.05392778962963025,\n",
       "    0.8575463141712488,\n",
       "    0.009268796934955867,\n",
       "    0.05243716336722604,\n",
       "    0.0019250440938550592,\n",
       "    2.547801178547121e-05,\n",
       "    0.000178898936861226,\n",
       "    4.953533620098107e-05,\n",
       "    0.00012654975822367132,\n",
       "    4.094334433017617e-07,\n",
       "    1.6608787922916448e-07,\n",
       "    1.799139673711672e-06,\n",
       "    8.571646992709344e-07,\n",
       "    2.5316981483742847e-06,\n",
       "    0.0009666378313512822,\n",
       "    0.0010466568133966868,\n",
       "    7.835267344566471e-06,\n",
       "    3.3703621293676424e-05,\n",
       "    0.00019869803737933284,\n",
       "    1.917812121072977e-05,\n",
       "    0.0002891017741375427,\n",
       "    3.92505906811003e-06,\n",
       "    0.00034787665009579897,\n",
       "    0.003987120348900631,\n",
       "    8.238085567019353e-06,\n",
       "    0.0001806244418190164,\n",
       "    3.0228869264973745e-06,\n",
       "    0.0006667526464633459,\n",
       "    0.002259007303436315,\n",
       "    1.5501749240902871,\n",
       "    0.12331521682924079,\n",
       "    0.0,\n",
       "    0.11963602484544306,\n",
       "    1.5642197190261498,\n",
       "    0.12055807069376977,\n",
       "    0.0002377651249810858,\n",
       "    0.0013914566099808834,\n",
       "    0.001265150162667606,\n",
       "    3.855898968695952e-05,\n",
       "    2.798965209421475e-05,\n",
       "    0.010433814822269231,\n",
       "    0.00022714390612655423,\n",
       "    0.001556042182130704,\n",
       "    0.00039210356518980266,\n",
       "    0.05471791081437032,\n",
       "    0.0086166062743398,\n",
       "    0.8500497607031274,\n",
       "    0.0018884687469051182,\n",
       "    0.053919449957940103,\n",
       "    9.341843225509988e-06,\n",
       "    4.591279012755772e-05,\n",
       "    1.2954384977378367e-05,\n",
       "    0.0011188527819078452,\n",
       "    1.3758333772334256e-06,\n",
       "    2.1645648528556345e-06,\n",
       "    2.842530317123239e-05,\n",
       "    1.356019501937321e-06,\n",
       "    1.2774722596899857e-05,\n",
       "    0.0010464913174489567,\n",
       "    0.0008657056151771822,\n",
       "    1.514312263065274e-05,\n",
       "    0.0001360770888094845,\n",
       "    0.000261805920009926,\n",
       "    0.00019442964718469083,\n",
       "    2.3246079629689053e-05,\n",
       "    2.5220839991759745e-06,\n",
       "    0.0009668196253623147,\n",
       "    0.012133100558634681,\n",
       "    9.760838259057831e-06,\n",
       "    2.6097284523656477e-05,\n",
       "    7.635009716442829e-06,\n",
       "    0.006411299363687573,\n",
       "    0.0025774730778933925,\n",
       "    0.11986342065002711,\n",
       "    1.5324440016833045,\n",
       "    0.11963602484544306,\n",
       "    0.0,\n",
       "    0.12397736960364189,\n",
       "    1.4877536606212145,\n",
       "    0.009859863679978537,\n",
       "    0.0015609526153045495,\n",
       "    0.0002218879259824981,\n",
       "    6.618391382681874e-06,\n",
       "    3.195054713286801e-05,\n",
       "    0.10866422601930208,\n",
       "    0.000174023317634357,\n",
       "    0.01573438117612739,\n",
       "    0.0005324401096429697,\n",
       "    0.008834339634405643,\n",
       "    0.05460728960446101,\n",
       "    0.0016810775865999134,\n",
       "    0.8430076107138215,\n",
       "    0.008459273629237625,\n",
       "    0.0001259837866295483,\n",
       "    0.0012969267039742143,\n",
       "    8.753131107662662e-05,\n",
       "    0.00026832617549046937,\n",
       "    2.7994166613909235e-07,\n",
       "    6.630409460736468e-08,\n",
       "    5.2909495176602075e-06,\n",
       "    1.1895912263569608e-06,\n",
       "    1.710353430892057e-06,\n",
       "    0.009878278262178117,\n",
       "    0.009703611331447847,\n",
       "    7.133016093056543e-06,\n",
       "    6.424782496700688e-05,\n",
       "    0.001642517032288622,\n",
       "    5.329986044803712e-05,\n",
       "    0.00022622962845025415,\n",
       "    2.1538763150545036e-05,\n",
       "    0.0008216040841542567,\n",
       "    0.012215887728870126,\n",
       "    5.2925021963199406e-05,\n",
       "    0.00011519123682726563,\n",
       "    1.8981223596738974e-05,\n",
       "    0.0019103678421892717,\n",
       "    0.013031186309769063,\n",
       "    0.12378327642316256,\n",
       "    0.12391411348482938,\n",
       "    1.5642197190261498,\n",
       "    0.12397736960364189,\n",
       "    0.0,\n",
       "    1.4448239407162962,\n",
       "    0.0006904219852200004,\n",
       "    0.007101550814830482,\n",
       "    0.0008168019484404525,\n",
       "    2.084559140201921e-05,\n",
       "    0.0002979284481394296,\n",
       "    0.1074578769710991,\n",
       "    0.0018558232310278686,\n",
       "    0.015026689211589485,\n",
       "    0.0011545293716900937,\n",
       "    0.008777359301671511,\n",
       "    0.0016552552713516022,\n",
       "    0.05664561103391748,\n",
       "    0.009062841729844897,\n",
       "    0.8412518115643163,\n",
       "    4.573787617683512e-05,\n",
       "    0.0005452581257971,\n",
       "    6.559496739207325e-05,\n",
       "    0.0005432211611750382,\n",
       "    4.2022090844114635e-07,\n",
       "    3.4587097015887336e-06,\n",
       "    3.103011027635358e-06,\n",
       "    1.0305431804574233e-05,\n",
       "    0.00020467477857929263,\n",
       "    0.010442872990789106,\n",
       "    0.009811245796019587,\n",
       "    9.80416820832921e-05,\n",
       "    0.0010830133951451825,\n",
       "    0.0013463982099622264,\n",
       "    0.0005055627270926957,\n",
       "    5.3939160293444066e-05,\n",
       "    7.881808924808788e-06,\n",
       "    0.0017434015074166834,\n",
       "    0.02073194727852502,\n",
       "    1.4453753580845807e-05,\n",
       "    3.438254843103288e-05,\n",
       "    7.821407637592332e-06,\n",
       "    0.012230522960014508,\n",
       "    0.011580621635500523,\n",
       "    0.11014874451062115,\n",
       "    0.1201691458328552,\n",
       "    0.12055807069376977,\n",
       "    1.4877536606212145,\n",
       "    1.4448239407162962,\n",
       "    0.0,\n",
       "    0.002574059821712235,\n",
       "    0.01292474137364209,\n",
       "    0.00016848870800904335,\n",
       "    1.2553627199306031e-05,\n",
       "    5.9251290953690705e-05,\n",
       "    1.101565488925692,\n",
       "    0.0003921810275491774,\n",
       "    0.0758144108446303,\n",
       "    0.0008723064089810145,\n",
       "    0.001790455550961482,\n",
       "    0.007441017728142775,\n",
       "    0.008415474971390903,\n",
       "    0.05394895165383437,\n",
       "    0.05274905912630071,\n",
       "    0.00018636167728161587,\n",
       "    0.0009974303372905842,\n",
       "    0.00033959525968432026,\n",
       "    5.719867824017313e-05,\n",
       "    7.246235094275321e-07,\n",
       "    5.483402475402968e-07,\n",
       "    4.945828001261765e-06,\n",
       "    7.5588957582090535e-06,\n",
       "    1.5738183614621443e-05,\n",
       "    0.04146767555757089,\n",
       "    0.04066828528199789,\n",
       "    4.433796408964139e-05,\n",
       "    0.00013822121512934907,\n",
       "    0.009693832214487384,\n",
       "    0.0002440240809146471,\n",
       "    1.1216865402241774e-05,\n",
       "    1.927642066485991e-06,\n",
       "    0.20353120475854167,\n",
       "    0.0027286026806259698,\n",
       "    7.297079051224526e-06,\n",
       "    2.7786892056270897e-05,\n",
       "    1.8932861699675573e-06,\n",
       "    1.3640084998389013,\n",
       "    0.002784986278173476,\n",
       "    0.0003354601895788168,\n",
       "    0.0009995035752424827,\n",
       "    0.0002377651249810858,\n",
       "    0.009859863679978537,\n",
       "    0.0006904219852200004,\n",
       "    0.002574059821712235,\n",
       "    0.0,\n",
       "    0.010145574797779283,\n",
       "    6.537361796347598e-05,\n",
       "    2.254763385836548e-06,\n",
       "    3.716073086040084e-05,\n",
       "    0.02163382704360642,\n",
       "    0.00018146393324219452,\n",
       "    0.0930859971719389,\n",
       "    0.0002908657959144751,\n",
       "    5.0630552095650184e-05,\n",
       "    4.1160578253275936e-05,\n",
       "    1.4400192371979648e-05,\n",
       "    0.005637649702529991,\n",
       "    7.030023769672008e-05,\n",
       "    0.8639171041242748,\n",
       "    0.8634293359312742,\n",
       "    0.0007975060153830166,\n",
       "    9.320482161037246e-06,\n",
       "    1.9385528853618795e-07,\n",
       "    1.3437234950121343e-06,\n",
       "    1.5348956909482016e-07,\n",
       "    7.082617756448995e-06,\n",
       "    1.6154008869980774e-06,\n",
       "    0.0018268001542525324,\n",
       "    0.005823980765101551,\n",
       "    3.783613538811228e-05,\n",
       "    1.0000212897402367e-05,\n",
       "    0.007565935716631165,\n",
       "    2.1900004771574317e-05,\n",
       "    0.0010878504672511254,\n",
       "    0.0002861387751087999,\n",
       "    0.01451726402561189,\n",
       "    0.1917098440819918,\n",
       "    0.0004608296664235092,\n",
       "    0.0022145575455697567,\n",
       "    0.00030381359343251564,\n",
       "    0.07937517194427271,\n",
       "    1.4017858366757523,\n",
       "    0.0004116453049276031,\n",
       "    0.001202599844885298,\n",
       "    0.0013914566099808834,\n",
       "    0.0015609526153045495,\n",
       "    0.007101550814830482,\n",
       "    0.01292474137364209,\n",
       "    0.010145574797779283,\n",
       "    0.0,\n",
       "    0.008392877040977895,\n",
       "    0.0003309032092491586,\n",
       "    0.005380917850446273,\n",
       "    0.08366471472983068,\n",
       "    0.033879114164623574,\n",
       "    1.163370574044693,\n",
       "    0.09034189668434484,\n",
       "    9.814888881025637e-06,\n",
       "    5.8567920975139356e-06,\n",
       "    4.6590710964132e-05,\n",
       "    0.00010518879661252709,\n",
       "    0.000861022868512214,\n",
       "    0.0009177318814562975,\n",
       "    0.0009143217071022572,\n",
       "    0.7861117998333488,\n",
       "    0.0004048696556138716,\n",
       "    3.217019552316357e-05,\n",
       "    7.614965482052099e-05,\n",
       "    2.955654458152613e-05,\n",
       "    0.0010128576889552026,\n",
       "    0.00031530531312384813,\n",
       "    0.004662446880210472,\n",
       "    0.012342694298902383,\n",
       "    0.0075383008812936695,\n",
       "    0.001355670286264488,\n",
       "    0.03430232064190379,\n",
       "    0.006669959538750562,\n",
       "    0.21297571091686318,\n",
       "    0.0017388651291378521,\n",
       "    0.0005571755922956173,\n",
       "    0.03766947218543606,\n",
       "    0.0006014771459241917,\n",
       "    1.4248650802632827,\n",
       "    0.0026540883345035076,\n",
       "    0.0004300206333375961,\n",
       "    0.08814435623149997,\n",
       "    0.0002474439504436698,\n",
       "    0.00010710242938416479,\n",
       "    0.001265150162667606,\n",
       "    0.0002218879259824981,\n",
       "    0.0008168019484404525,\n",
       "    0.00016848870800904335,\n",
       "    6.537361796347598e-05,\n",
       "    0.008392877040977895,\n",
       "    0.0,\n",
       "    0.09200525105302355,\n",
       "    0.02456888970255166,\n",
       "    0.0002737075209484682,\n",
       "    0.07523063813793682,\n",
       "    0.0015419913981907507,\n",
       "    1.117168131143582,\n",
       "    1.8141605176979727e-06,\n",
       "    1.760112554488381e-06,\n",
       "    7.016885207024057e-05,\n",
       "    1.2256013152270251e-06,\n",
       "    2.0102793172938945e-05,\n",
       "    6.231092941845642e-06,\n",
       "    9.322065282881645e-06,\n",
       "    0.0012879842671074404,\n",
       "    0.8170423270025695,\n",
       "    0.010236073730852538,\n",
       "    0.010740380614284797,\n",
       "    0.0058930864506398515,\n",
       "    0.008436984113978726,\n",
       "    0.0002797728980502055,\n",
       "    2.0819086397327862e-05,\n",
       "    5.2109622360920536e-05,\n",
       "    0.011899401295715544,\n",
       "    0.0027209067256275857,\n",
       "    0.00015885717092070883,\n",
       "    0.027146751967633106,\n",
       "    0.12240455307944145,\n",
       "    0.00019450123305763284,\n",
       "    1.54775919244388e-05,\n",
       "    0.0006589092757367129,\n",
       "    4.635371930360521e-05,\n",
       "    1.164674807944481,\n",
       "    6.304590919800255e-05,\n",
       "    1.0226778441707378e-05,\n",
       "    0.0017610424960084752,\n",
       "    2.7827885887814186e-05,\n",
       "    4.571027421065883e-06,\n",
       "    3.855898968695952e-05,\n",
       "    6.618391382681874e-06,\n",
       "    2.084559140201921e-05,\n",
       "    1.2553627199306031e-05,\n",
       "    2.254763385836548e-06,\n",
       "    0.0003309032092491586,\n",
       "    0.09200525105302355,\n",
       "    0.0,\n",
       "    0.0005301617700331742,\n",
       "    1.3131540150971928e-05,\n",
       "    0.0013912287453464133,\n",
       "    7.294336832517724e-05,\n",
       "    0.012511050550017723,\n",
       "    6.655335861904406e-07,\n",
       "    1.2221929932051098e-07,\n",
       "    2.251792230589476e-06,\n",
       "    5.3978708186807025e-08,\n",
       "    1.317309526173184e-06,\n",
       "    2.085339407441094e-07,\n",
       "    2.1775201335538363e-07,\n",
       "    5.135660864764662e-05,\n",
       "    0.005590164393743843,\n",
       "    0.9033248017314116,\n",
       "    0.9092449382870941,\n",
       "    0.9130017878883163,\n",
       "    0.000212119109664293,\n",
       "    5.838696228288017e-05,\n",
       "    4.2696828953519883e-07,\n",
       "    4.410124726129241e-06,\n",
       "    0.0005571831715317001,\n",
       "    5.925640707775412e-05,\n",
       "    6.6530344313938175e-06,\n",
       "    0.002366897255066723,\n",
       "    0.00223611032668445,\n",
       "    0.11999479899920792,\n",
       "    7.869426432271507e-05,\n",
       "    0.0037814120821540167,\n",
       "    0.12453086687858296,\n",
       "    0.007483543573337848,\n",
       "    1.1060156963489856,\n",
       "    0.0001946630285536224,\n",
       "    0.013744399829994836,\n",
       "    9.421928363414997e-06,\n",
       "    2.705313519525348e-05,\n",
       "    2.798965209421475e-05,\n",
       "    3.195054713286801e-05,\n",
       "    0.0002979284481394296,\n",
       "    5.9251290953690705e-05,\n",
       "    3.716073086040084e-05,\n",
       "    0.005380917850446273,\n",
       "    0.02456888970255166,\n",
       "    0.0005301617700331742,\n",
       "    0.0,\n",
       "    6.600160072934988e-05,\n",
       "    1.1055600329494861,\n",
       "    0.0005277556116550983,\n",
       "    0.09291724278852047,\n",
       "    5.039614096854461e-07,\n",
       "    6.236702773672051e-07,\n",
       "    1.0658171915266836e-06,\n",
       "    3.0107607622603146e-06,\n",
       "    0.0001230846567035653,\n",
       "    1.2051408295770996e-05,\n",
       "    2.986628073812191e-06,\n",
       "    0.0022450476328702154,\n",
       "    0.0007256407072265802,\n",
       "    0.00011228513505725188,\n",
       "    0.0001926528987954,\n",
       "    3.2844556763624664e-05,\n",
       "    0.8615225559904185,\n",
       "    0.8625828973887438,\n",
       "    4.0995683508804936e-06,\n",
       "    1.320596172680633e-05,\n",
       "    0.02975320537599314,\n",
       "    0.028767828482588843,\n",
       "    3.209044408463947e-05,\n",
       "    0.007362181929340099,\n",
       "    6.239293380265358e-05,\n",
       "    1.3878040562282887e-05,\n",
       "    0.018453281734156654,\n",
       "    0.0060056785215058086,\n",
       "    2.24497609311571e-05,\n",
       "    4.821132807215761e-05,\n",
       "    7.690906631572286e-06,\n",
       "    0.08657539170717993,\n",
       "    0.01587827028814278,\n",
       "    0.008774081949645235,\n",
       "    0.011289405921328046,\n",
       "    0.010433814822269231,\n",
       "    0.10866422601930208,\n",
       "    0.1074578769710991,\n",
       "    1.101565488925692,\n",
       "    0.02163382704360642,\n",
       "    0.08366471472983068,\n",
       "    0.0002737075209484682,\n",
       "    1.3131540150971928e-05,\n",
       "    6.600160072934988e-05,\n",
       "    0.0,\n",
       "    0.0004363512825484184,\n",
       "    1.1056773472908805,\n",
       "    0.0013858265908485471,\n",
       "    0.0003150634898575676,\n",
       "    0.0008354316613850051,\n",
       "    0.0009459120580319169,\n",
       "    0.009415067578333904,\n",
       "    0.00994314113678147,\n",
       "    0.001754982455651884,\n",
       "    0.007754618800298272,\n",
       "    0.0028936258909707585,\n",
       "    2.3796505987789307e-05,\n",
       "    8.998919713690645e-07,\n",
       "    2.1960415257282438e-06,\n",
       "    8.993065859959021e-07,\n",
       "    1.1211922738170774e-05,\n",
       "    1.1877015809282714e-05,\n",
       "    0.8464941850279085,\n",
       "    0.8453446260142973,\n",
       "    9.371283508978892e-05,\n",
       "    3.6844158568951015e-05,\n",
       "    0.042992955268362054,\n",
       "    0.0003596233067829944,\n",
       "    0.0044825049737108715,\n",
       "    0.0766495479246345,\n",
       "    0.00046032158853151164,\n",
       "    0.01751457410345757,\n",
       "    0.02040512873266627,\n",
       "    0.014326308441430392,\n",
       "    0.0902945037788111,\n",
       "    0.0010883846968921455,\n",
       "    0.0985329619790203,\n",
       "    7.127424371450006e-05,\n",
       "    0.00013444861084999402,\n",
       "    0.00022714390612655423,\n",
       "    0.000174023317634357,\n",
       "    0.0018558232310278686,\n",
       "    0.0003921810275491774,\n",
       "    0.00018146393324219452,\n",
       "    0.033879114164623574,\n",
       "    0.07523063813793682,\n",
       "    0.0013912287453464133,\n",
       "    1.1055600329494861,\n",
       "    0.0004363512825484184,\n",
       "    0.0,\n",
       "    0.003276020936766316,\n",
       "    1.1101957149057213,\n",
       "    6.423636884375774e-06,\n",
       "    1.8066221087553346e-06,\n",
       "    1.1206921452792865e-05,\n",
       "    1.3146295314001118e-05,\n",
       "    0.0008100399863961297,\n",
       "    4.619824345059996e-05,\n",
       "    6.4542222575643015e-06,\n",
       "    0.016664570810626396,\n",
       "    0.004367580259692101,\n",
       "    0.00047930590797811383,\n",
       "    0.00016837062667102452,\n",
       "    0.00010844958502140925,\n",
       "    0.031795841329953146,\n",
       "    0.032374005617112185,\n",
       "    3.920945342393156e-05,\n",
       "    7.461488203879522e-05,\n",
       "    0.84753560151619,\n",
       "    0.8673759478469583,\n",
       "    0.00022973393139693097,\n",
       "    0.03245275213251951,\n",
       "    0.00024272857850668136,\n",
       "    4.7965270449387e-05,\n",
       "    0.11866304763333352,\n",
       "    0.02259720073720862,\n",
       "    6.755313678173251e-05,\n",
       "    0.00047514319991830064,\n",
       "    3.6203576037597734e-05,\n",
       "    1.048704197953275,\n",
       "    0.08955300873598901,\n",
       "    0.004808810931558158,\n",
       "    0.0015323061169859218,\n",
       "    0.001556042182130704,\n",
       "    0.01573438117612739,\n",
       "    0.015026689211589485,\n",
       "    0.0758144108446303,\n",
       "    0.0930859971719389,\n",
       "    1.163370574044693,\n",
       "    0.0015419913981907507,\n",
       "    7.294336832517724e-05,\n",
       "    0.0005277556116550983,\n",
       "    1.1056773472908805,\n",
       "    0.003276020936766316,\n",
       "    0.0,\n",
       "    0.011978617868584973,\n",
       "    2.801216904815494e-05,\n",
       "    0.0001477192985751847,\n",
       "    0.00015179573457274343,\n",
       "    0.0005479357550240772,\n",
       "    0.0005908401795439017,\n",
       "    0.00939925707489032,\n",
       "    0.004862028866473316,\n",
       "    0.038115819322808955,\n",
       "    ...]}},\n",
       " 'stdout': '34732763',\n",
       " 'stderr': None,\n",
       " 'error': None,\n",
       " 'manager_name': None,\n",
       " 'status': <RecordStatusEnum.complete: 'COMPLETE'>,\n",
       " 'modified_on': datetime.datetime(2020, 11, 24, 3, 49, 11, 491661),\n",
       " 'created_on': datetime.datetime(2020, 11, 24, 3, 49, 11, 491664),\n",
       " 'provenance': {'creator': 'Psi4',\n",
       "  'version': '1.4a2.dev1058',\n",
       "  'routine': 'psi4.schema_runner.run_qcschema',\n",
       "  'wall_time': 70.71526598930359,\n",
       "  'username': 'tgokey',\n",
       "  'qcengine_version': 'v0.17.0',\n",
       "  'nthreads': 8,\n",
       "  'hostname': 'hpc3-14-07',\n",
       "  'memory': 76.0,\n",
       "  'cpu': 'Intel(R) Xeon(R) Gold 6148 CPU @ 2.40GHz'},\n",
       " 'driver': <DriverEnum.gradient: 'gradient'>,\n",
       " 'method': 'b3lyp-d3bj',\n",
       " 'molecule': '24773601',\n",
       " 'basis': 'dzvp',\n",
       " 'keywords': '2',\n",
       " 'return_result': array([[-0.0134757 ,  0.01028039, -0.02030092],\n",
       "        [-0.01463881, -0.00459462,  0.00850108],\n",
       "        [-0.002673  , -0.02702172, -0.0093848 ],\n",
       "        [ 0.02982289, -0.03231329, -0.04330556],\n",
       "        [-0.08105121, -0.02462556,  0.0368954 ],\n",
       "        [ 0.01579763, -0.05415603,  0.01473291],\n",
       "        [ 0.1093202 ,  0.0267019 , -0.07112178],\n",
       "        [-0.03110142, -0.00144629,  0.05860469],\n",
       "        [-0.07722915,  0.03428467,  0.05505426],\n",
       "        [-0.01254702,  0.01218787,  0.01024097],\n",
       "        [-0.00239082, -0.00711912,  0.00276305],\n",
       "        [ 0.0182915 ,  0.01957104, -0.01534169],\n",
       "        [-0.02629315, -0.01188875,  0.01964209],\n",
       "        [ 0.02239486, -0.02357668, -0.01878305],\n",
       "        [-0.0021315 ,  0.02212367, -0.00636537],\n",
       "        [ 0.01558495,  0.0023654 , -0.0117926 ],\n",
       "        [ 0.05749997, -0.00013358, -0.01275106],\n",
       "        [ 0.00216406,  0.03603653,  0.01161215],\n",
       "        [-0.02320788,  0.01585915, -0.0373847 ],\n",
       "        [-0.01598231,  0.00693365,  0.00357476],\n",
       "        [-0.0183724 , -0.01249296, -0.05174433],\n",
       "        [ 0.03568616, -0.01288005,  0.00131794],\n",
       "        [ 0.02379619, -0.03793692, -0.01072317],\n",
       "        [ 0.02039938, -0.00827974,  0.00708876],\n",
       "        [ 0.00190209, -0.0022744 , -0.00147275],\n",
       "        [-0.00393791, -0.00036605,  0.00352118],\n",
       "        [-0.00148385, -0.00696454,  0.0014431 ],\n",
       "        [ 0.00304248,  0.00768628, -0.00196846],\n",
       "        [-0.00450994,  0.00890541,  0.00317199],\n",
       "        [ 0.00155472,  0.01536808, -0.01826816],\n",
       "        [ 0.01087774, -0.00618947,  0.01595908],\n",
       "        [-0.03718925,  0.0167183 ,  0.02263634],\n",
       "        [ 0.0108807 , -0.01511776,  0.0188658 ],\n",
       "        [-0.0093195 , -0.00377916,  0.00705307],\n",
       "        [ 0.00832747, -0.00345194, -0.00129157],\n",
       "        [ 0.01077587,  0.00535741,  0.0098369 ],\n",
       "        [ 0.01154303, -0.01217837,  0.00100705],\n",
       "        [-0.00292295,  0.008952  ,  0.00091077],\n",
       "        [-0.00837943,  0.00687265,  0.01960671],\n",
       "        [ 0.00479731,  0.00408327,  0.00043362],\n",
       "        [-0.01210616,  0.01683534, -0.00113542],\n",
       "        [ 0.00088978, -0.000818  , -0.00060967],\n",
       "        [-0.00299929,  0.02361827,  0.01111261],\n",
       "        [-0.01131656,  0.00904773, -0.01171239]]),\n",
       " 'properties': {'calcinfo_nbasis': 376,\n",
       "  'calcinfo_nmo': 376,\n",
       "  'calcinfo_nalpha': 89,\n",
       "  'calcinfo_nbeta': 89,\n",
       "  'calcinfo_natom': 44,\n",
       "  'nuclear_repulsion_energy': 2138.2471899927477,\n",
       "  'return_energy': -1162.3871098026964,\n",
       "  'scf_one_electron_energy': -5855.27274150584,\n",
       "  'scf_two_electron_energy': 2682.3291777544778,\n",
       "  'scf_xc_energy': -127.59554580408235,\n",
       "  'scf_dispersion_correction_energy': -0.09519024,\n",
       "  'scf_dipole_moment': array([ 9.23104226,  1.14947218, -1.54022493]),\n",
       "  'scf_total_energy': -1162.3871098026964,\n",
       "  'scf_iterations': 18},\n",
       " 'wavefunction': None,\n",
       " 'wavefunction_data_id': None}"
      ]
     },
     "execution_count": 44,
     "metadata": {},
     "output_type": "execute_result"
    }
   ],
   "source": [
    "opt_record.get_trajectory()[0].dict()"
   ]
  },
  {
   "cell_type": "code",
   "execution_count": 45,
   "id": "e8500882-79c9-40bf-a5fe-dba87201a2b1",
   "metadata": {},
   "outputs": [
    {
     "data": {
      "application/vnd.jupyter.widget-view+json": {
       "model_id": "b195c0b6ce5d4362bd4e8012466cc591",
       "version_major": 2,
       "version_minor": 0
      },
      "text/plain": [
       "NGLWidget()"
      ]
     },
     "metadata": {},
     "output_type": "display_data"
    }
   ],
   "source": [
    "opt_record.get_initial_molecule()"
   ]
  },
  {
   "cell_type": "code",
   "execution_count": 46,
   "id": "73defbcf-ea31-4216-9f49-f08e22753fa4",
   "metadata": {},
   "outputs": [
    {
     "data": {
      "text/html": [
       "        <script type=\"text/javascript\">\n",
       "        window.PlotlyConfig = {MathJaxConfig: 'local'};\n",
       "        if (window.MathJax && window.MathJax.Hub && window.MathJax.Hub.Config) {window.MathJax.Hub.Config({SVG: {font: \"STIX-Web\"}});}\n",
       "        if (typeof require !== 'undefined') {\n",
       "        require.undef(\"plotly\");\n",
       "        requirejs.config({\n",
       "            paths: {\n",
       "                'plotly': ['https://cdn.plot.ly/plotly-2.18.2.min']\n",
       "            }\n",
       "        });\n",
       "        require(['plotly'], function(Plotly) {\n",
       "            window._Plotly = Plotly;\n",
       "        });\n",
       "        }\n",
       "        </script>\n",
       "        "
      ]
     },
     "metadata": {},
     "output_type": "display_data"
    },
    {
     "data": {
      "application/vnd.plotly.v1+json": {
       "config": {
        "linkText": "Export to plot.ly",
        "plotlyServerURL": "https://plot.ly",
        "showLink": false
       },
       "data": [
        {
         "mode": "lines+markers",
         "type": "scatter",
         "x": [
          1,
          2,
          3,
          4,
          5,
          6,
          7,
          8,
          9,
          10,
          11,
          12,
          13,
          14,
          15,
          16,
          17,
          18,
          19,
          20,
          21,
          22,
          23,
          24,
          25,
          26,
          27,
          28,
          29,
          30,
          31,
          32,
          33,
          34,
          35,
          36,
          37,
          38,
          39,
          40,
          41,
          42,
          43,
          44,
          45,
          46,
          47,
          48,
          49,
          50,
          51,
          52,
          53,
          54,
          55,
          56,
          57,
          58,
          59,
          60,
          61,
          62,
          63,
          64,
          65,
          66,
          67,
          68,
          69,
          70,
          71,
          72,
          73,
          74,
          75,
          76,
          77,
          78,
          79,
          80,
          81,
          82,
          83,
          84,
          85,
          86,
          87,
          88,
          89,
          90,
          91,
          92,
          93,
          94,
          95,
          96,
          97,
          98,
          99,
          100,
          101,
          102,
          103,
          104,
          105,
          106,
          107,
          108,
          109,
          110,
          111,
          112,
          113,
          114,
          115,
          116,
          117,
          118,
          119,
          120,
          121,
          122,
          123,
          124,
          125,
          126,
          127,
          128,
          129,
          130,
          131,
          132,
          133,
          134,
          135
         ],
         "y": [
          67.767,
          51.845,
          30.392,
          26.19,
          20.988,
          20.473,
          18.081,
          17.85,
          16.426,
          16.136,
          14.924,
          14.469,
          13.712,
          12.824,
          11.635,
          11.106,
          12.711,
          9.998,
          23.28,
          9.722,
          8.913,
          8.608,
          8.115,
          7.448,
          6.605,
          5.837,
          5.357,
          7.323,
          5.299,
          4.892,
          4.698,
          4.518,
          4.214,
          3.509,
          3.684,
          2.567,
          2.276,
          1.925,
          1.802,
          1.503,
          1.359,
          1.276,
          1.15,
          0.962,
          0.737,
          0.624,
          0.539,
          0.491,
          0.452,
          0.395,
          0.36,
          0.318,
          0.274,
          0.217,
          0.146,
          0.117,
          0.114,
          0.074,
          0.063,
          0.052,
          0.041,
          0.037,
          0.041,
          0.033,
          0.029,
          0.019,
          0.014,
          0.005,
          0.005,
          0.002,
          0.001,
          0.002,
          0.005,
          0.011,
          0.006,
          0.003,
          0.001,
          0.001,
          0.001,
          0,
          0,
          0,
          0,
          0.001,
          0.001,
          0.001,
          0.002,
          0.002,
          0.002,
          0.002,
          0.003,
          0.003,
          0.003,
          0.003,
          0.003,
          0.003,
          0.003,
          0.002,
          0.002,
          0.001,
          0.001,
          0.002,
          0.002,
          0.003,
          0.003,
          0.004,
          0.003,
          0.004,
          0.004,
          0.005,
          0.005,
          0.004,
          0.003,
          0.002,
          0.002,
          0.002,
          0.001,
          0.002,
          0.002,
          0.002,
          0.003,
          0.003,
          0.003,
          0.004,
          0.004,
          0.004,
          0.004,
          0.004,
          0.004,
          0.004,
          0.003,
          0.003,
          0.002,
          0.002,
          0.002
         ]
        }
       ],
       "layout": {
        "autosize": true,
        "template": {
         "data": {
          "bar": [
           {
            "error_x": {
             "color": "#2a3f5f"
            },
            "error_y": {
             "color": "#2a3f5f"
            },
            "marker": {
             "line": {
              "color": "#E5ECF6",
              "width": 0.5
             },
             "pattern": {
              "fillmode": "overlay",
              "size": 10,
              "solidity": 0.2
             }
            },
            "type": "bar"
           }
          ],
          "barpolar": [
           {
            "marker": {
             "line": {
              "color": "#E5ECF6",
              "width": 0.5
             },
             "pattern": {
              "fillmode": "overlay",
              "size": 10,
              "solidity": 0.2
             }
            },
            "type": "barpolar"
           }
          ],
          "carpet": [
           {
            "aaxis": {
             "endlinecolor": "#2a3f5f",
             "gridcolor": "white",
             "linecolor": "white",
             "minorgridcolor": "white",
             "startlinecolor": "#2a3f5f"
            },
            "baxis": {
             "endlinecolor": "#2a3f5f",
             "gridcolor": "white",
             "linecolor": "white",
             "minorgridcolor": "white",
             "startlinecolor": "#2a3f5f"
            },
            "type": "carpet"
           }
          ],
          "choropleth": [
           {
            "colorbar": {
             "outlinewidth": 0,
             "ticks": ""
            },
            "type": "choropleth"
           }
          ],
          "contour": [
           {
            "colorbar": {
             "outlinewidth": 0,
             "ticks": ""
            },
            "colorscale": [
             [
              0,
              "#0d0887"
             ],
             [
              0.1111111111111111,
              "#46039f"
             ],
             [
              0.2222222222222222,
              "#7201a8"
             ],
             [
              0.3333333333333333,
              "#9c179e"
             ],
             [
              0.4444444444444444,
              "#bd3786"
             ],
             [
              0.5555555555555556,
              "#d8576b"
             ],
             [
              0.6666666666666666,
              "#ed7953"
             ],
             [
              0.7777777777777778,
              "#fb9f3a"
             ],
             [
              0.8888888888888888,
              "#fdca26"
             ],
             [
              1,
              "#f0f921"
             ]
            ],
            "type": "contour"
           }
          ],
          "contourcarpet": [
           {
            "colorbar": {
             "outlinewidth": 0,
             "ticks": ""
            },
            "type": "contourcarpet"
           }
          ],
          "heatmap": [
           {
            "colorbar": {
             "outlinewidth": 0,
             "ticks": ""
            },
            "colorscale": [
             [
              0,
              "#0d0887"
             ],
             [
              0.1111111111111111,
              "#46039f"
             ],
             [
              0.2222222222222222,
              "#7201a8"
             ],
             [
              0.3333333333333333,
              "#9c179e"
             ],
             [
              0.4444444444444444,
              "#bd3786"
             ],
             [
              0.5555555555555556,
              "#d8576b"
             ],
             [
              0.6666666666666666,
              "#ed7953"
             ],
             [
              0.7777777777777778,
              "#fb9f3a"
             ],
             [
              0.8888888888888888,
              "#fdca26"
             ],
             [
              1,
              "#f0f921"
             ]
            ],
            "type": "heatmap"
           }
          ],
          "heatmapgl": [
           {
            "colorbar": {
             "outlinewidth": 0,
             "ticks": ""
            },
            "colorscale": [
             [
              0,
              "#0d0887"
             ],
             [
              0.1111111111111111,
              "#46039f"
             ],
             [
              0.2222222222222222,
              "#7201a8"
             ],
             [
              0.3333333333333333,
              "#9c179e"
             ],
             [
              0.4444444444444444,
              "#bd3786"
             ],
             [
              0.5555555555555556,
              "#d8576b"
             ],
             [
              0.6666666666666666,
              "#ed7953"
             ],
             [
              0.7777777777777778,
              "#fb9f3a"
             ],
             [
              0.8888888888888888,
              "#fdca26"
             ],
             [
              1,
              "#f0f921"
             ]
            ],
            "type": "heatmapgl"
           }
          ],
          "histogram": [
           {
            "marker": {
             "pattern": {
              "fillmode": "overlay",
              "size": 10,
              "solidity": 0.2
             }
            },
            "type": "histogram"
           }
          ],
          "histogram2d": [
           {
            "colorbar": {
             "outlinewidth": 0,
             "ticks": ""
            },
            "colorscale": [
             [
              0,
              "#0d0887"
             ],
             [
              0.1111111111111111,
              "#46039f"
             ],
             [
              0.2222222222222222,
              "#7201a8"
             ],
             [
              0.3333333333333333,
              "#9c179e"
             ],
             [
              0.4444444444444444,
              "#bd3786"
             ],
             [
              0.5555555555555556,
              "#d8576b"
             ],
             [
              0.6666666666666666,
              "#ed7953"
             ],
             [
              0.7777777777777778,
              "#fb9f3a"
             ],
             [
              0.8888888888888888,
              "#fdca26"
             ],
             [
              1,
              "#f0f921"
             ]
            ],
            "type": "histogram2d"
           }
          ],
          "histogram2dcontour": [
           {
            "colorbar": {
             "outlinewidth": 0,
             "ticks": ""
            },
            "colorscale": [
             [
              0,
              "#0d0887"
             ],
             [
              0.1111111111111111,
              "#46039f"
             ],
             [
              0.2222222222222222,
              "#7201a8"
             ],
             [
              0.3333333333333333,
              "#9c179e"
             ],
             [
              0.4444444444444444,
              "#bd3786"
             ],
             [
              0.5555555555555556,
              "#d8576b"
             ],
             [
              0.6666666666666666,
              "#ed7953"
             ],
             [
              0.7777777777777778,
              "#fb9f3a"
             ],
             [
              0.8888888888888888,
              "#fdca26"
             ],
             [
              1,
              "#f0f921"
             ]
            ],
            "type": "histogram2dcontour"
           }
          ],
          "mesh3d": [
           {
            "colorbar": {
             "outlinewidth": 0,
             "ticks": ""
            },
            "type": "mesh3d"
           }
          ],
          "parcoords": [
           {
            "line": {
             "colorbar": {
              "outlinewidth": 0,
              "ticks": ""
             }
            },
            "type": "parcoords"
           }
          ],
          "pie": [
           {
            "automargin": true,
            "type": "pie"
           }
          ],
          "scatter": [
           {
            "fillpattern": {
             "fillmode": "overlay",
             "size": 10,
             "solidity": 0.2
            },
            "type": "scatter"
           }
          ],
          "scatter3d": [
           {
            "line": {
             "colorbar": {
              "outlinewidth": 0,
              "ticks": ""
             }
            },
            "marker": {
             "colorbar": {
              "outlinewidth": 0,
              "ticks": ""
             }
            },
            "type": "scatter3d"
           }
          ],
          "scattercarpet": [
           {
            "marker": {
             "colorbar": {
              "outlinewidth": 0,
              "ticks": ""
             }
            },
            "type": "scattercarpet"
           }
          ],
          "scattergeo": [
           {
            "marker": {
             "colorbar": {
              "outlinewidth": 0,
              "ticks": ""
             }
            },
            "type": "scattergeo"
           }
          ],
          "scattergl": [
           {
            "marker": {
             "colorbar": {
              "outlinewidth": 0,
              "ticks": ""
             }
            },
            "type": "scattergl"
           }
          ],
          "scattermapbox": [
           {
            "marker": {
             "colorbar": {
              "outlinewidth": 0,
              "ticks": ""
             }
            },
            "type": "scattermapbox"
           }
          ],
          "scatterpolar": [
           {
            "marker": {
             "colorbar": {
              "outlinewidth": 0,
              "ticks": ""
             }
            },
            "type": "scatterpolar"
           }
          ],
          "scatterpolargl": [
           {
            "marker": {
             "colorbar": {
              "outlinewidth": 0,
              "ticks": ""
             }
            },
            "type": "scatterpolargl"
           }
          ],
          "scatterternary": [
           {
            "marker": {
             "colorbar": {
              "outlinewidth": 0,
              "ticks": ""
             }
            },
            "type": "scatterternary"
           }
          ],
          "surface": [
           {
            "colorbar": {
             "outlinewidth": 0,
             "ticks": ""
            },
            "colorscale": [
             [
              0,
              "#0d0887"
             ],
             [
              0.1111111111111111,
              "#46039f"
             ],
             [
              0.2222222222222222,
              "#7201a8"
             ],
             [
              0.3333333333333333,
              "#9c179e"
             ],
             [
              0.4444444444444444,
              "#bd3786"
             ],
             [
              0.5555555555555556,
              "#d8576b"
             ],
             [
              0.6666666666666666,
              "#ed7953"
             ],
             [
              0.7777777777777778,
              "#fb9f3a"
             ],
             [
              0.8888888888888888,
              "#fdca26"
             ],
             [
              1,
              "#f0f921"
             ]
            ],
            "type": "surface"
           }
          ],
          "table": [
           {
            "cells": {
             "fill": {
              "color": "#EBF0F8"
             },
             "line": {
              "color": "white"
             }
            },
            "header": {
             "fill": {
              "color": "#C8D4E3"
             },
             "line": {
              "color": "white"
             }
            },
            "type": "table"
           }
          ]
         },
         "layout": {
          "annotationdefaults": {
           "arrowcolor": "#2a3f5f",
           "arrowhead": 0,
           "arrowwidth": 1
          },
          "autotypenumbers": "strict",
          "coloraxis": {
           "colorbar": {
            "outlinewidth": 0,
            "ticks": ""
           }
          },
          "colorscale": {
           "diverging": [
            [
             0,
             "#8e0152"
            ],
            [
             0.1,
             "#c51b7d"
            ],
            [
             0.2,
             "#de77ae"
            ],
            [
             0.3,
             "#f1b6da"
            ],
            [
             0.4,
             "#fde0ef"
            ],
            [
             0.5,
             "#f7f7f7"
            ],
            [
             0.6,
             "#e6f5d0"
            ],
            [
             0.7,
             "#b8e186"
            ],
            [
             0.8,
             "#7fbc41"
            ],
            [
             0.9,
             "#4d9221"
            ],
            [
             1,
             "#276419"
            ]
           ],
           "sequential": [
            [
             0,
             "#0d0887"
            ],
            [
             0.1111111111111111,
             "#46039f"
            ],
            [
             0.2222222222222222,
             "#7201a8"
            ],
            [
             0.3333333333333333,
             "#9c179e"
            ],
            [
             0.4444444444444444,
             "#bd3786"
            ],
            [
             0.5555555555555556,
             "#d8576b"
            ],
            [
             0.6666666666666666,
             "#ed7953"
            ],
            [
             0.7777777777777778,
             "#fb9f3a"
            ],
            [
             0.8888888888888888,
             "#fdca26"
            ],
            [
             1,
             "#f0f921"
            ]
           ],
           "sequentialminus": [
            [
             0,
             "#0d0887"
            ],
            [
             0.1111111111111111,
             "#46039f"
            ],
            [
             0.2222222222222222,
             "#7201a8"
            ],
            [
             0.3333333333333333,
             "#9c179e"
            ],
            [
             0.4444444444444444,
             "#bd3786"
            ],
            [
             0.5555555555555556,
             "#d8576b"
            ],
            [
             0.6666666666666666,
             "#ed7953"
            ],
            [
             0.7777777777777778,
             "#fb9f3a"
            ],
            [
             0.8888888888888888,
             "#fdca26"
            ],
            [
             1,
             "#f0f921"
            ]
           ]
          },
          "colorway": [
           "#636efa",
           "#EF553B",
           "#00cc96",
           "#ab63fa",
           "#FFA15A",
           "#19d3f3",
           "#FF6692",
           "#B6E880",
           "#FF97FF",
           "#FECB52"
          ],
          "font": {
           "color": "#2a3f5f"
          },
          "geo": {
           "bgcolor": "white",
           "lakecolor": "white",
           "landcolor": "#E5ECF6",
           "showlakes": true,
           "showland": true,
           "subunitcolor": "white"
          },
          "hoverlabel": {
           "align": "left"
          },
          "hovermode": "closest",
          "mapbox": {
           "style": "light"
          },
          "paper_bgcolor": "white",
          "plot_bgcolor": "#E5ECF6",
          "polar": {
           "angularaxis": {
            "gridcolor": "white",
            "linecolor": "white",
            "ticks": ""
           },
           "bgcolor": "#E5ECF6",
           "radialaxis": {
            "gridcolor": "white",
            "linecolor": "white",
            "ticks": ""
           }
          },
          "scene": {
           "xaxis": {
            "backgroundcolor": "#E5ECF6",
            "gridcolor": "white",
            "gridwidth": 2,
            "linecolor": "white",
            "showbackground": true,
            "ticks": "",
            "zerolinecolor": "white"
           },
           "yaxis": {
            "backgroundcolor": "#E5ECF6",
            "gridcolor": "white",
            "gridwidth": 2,
            "linecolor": "white",
            "showbackground": true,
            "ticks": "",
            "zerolinecolor": "white"
           },
           "zaxis": {
            "backgroundcolor": "#E5ECF6",
            "gridcolor": "white",
            "gridwidth": 2,
            "linecolor": "white",
            "showbackground": true,
            "ticks": "",
            "zerolinecolor": "white"
           }
          },
          "shapedefaults": {
           "line": {
            "color": "#2a3f5f"
           }
          },
          "ternary": {
           "aaxis": {
            "gridcolor": "white",
            "linecolor": "white",
            "ticks": ""
           },
           "baxis": {
            "gridcolor": "white",
            "linecolor": "white",
            "ticks": ""
           },
           "bgcolor": "#E5ECF6",
           "caxis": {
            "gridcolor": "white",
            "linecolor": "white",
            "ticks": ""
           }
          },
          "title": {
           "x": 0.05
          },
          "xaxis": {
           "automargin": true,
           "gridcolor": "white",
           "linecolor": "white",
           "ticks": "",
           "title": {
            "standoff": 15
           },
           "zerolinecolor": "white",
           "zerolinewidth": 2
          },
          "yaxis": {
           "automargin": true,
           "gridcolor": "white",
           "linecolor": "white",
           "ticks": "",
           "title": {
            "standoff": 15
           },
           "zerolinecolor": "white",
           "zerolinewidth": 2
          }
         }
        },
        "title": {
         "text": "Geometry Optimization"
        },
        "xaxis": {
         "range": [
          1,
          135
         ],
         "title": {
          "text": "Optimization Step"
         },
         "type": "linear"
        },
        "yaxis": {
         "autorange": true,
         "range": [
          -5.592422330097087,
          73.35942233009709
         ],
         "title": {
          "text": "Relative Energy [kcal/mol]"
         },
         "type": "linear",
         "zeroline": true
        }
       }
      },
      "image/png": "[encoded data removed]",
      "text/html": [
       "<div>                            <div id=\"63576947-6128-4a45-94c0-b5b4b4960c7b\" class=\"plotly-graph-div\" style=\"height:525px; width:100%;\"></div>            <script type=\"text/javascript\">                require([\"plotly\"], function(Plotly) {                    window.PLOTLYENV=window.PLOTLYENV || {};                                    if (document.getElementById(\"63576947-6128-4a45-94c0-b5b4b4960c7b\")) {                    Plotly.newPlot(                        \"63576947-6128-4a45-94c0-b5b4b4960c7b\",                        [{\"mode\":\"lines+markers\",\"x\":[1,2,3,4,5,6,7,8,9,10,11,12,13,14,15,16,17,18,19,20,21,22,23,24,25,26,27,28,29,30,31,32,33,34,35,36,37,38,39,40,41,42,43,44,45,46,47,48,49,50,51,52,53,54,55,56,57,58,59,60,61,62,63,64,65,66,67,68,69,70,71,72,73,74,75,76,77,78,79,80,81,82,83,84,85,86,87,88,89,90,91,92,93,94,95,96,97,98,99,100,101,102,103,104,105,106,107,108,109,110,111,112,113,114,115,116,117,118,119,120,121,122,123,124,125,126,127,128,129,130,131,132,133,134,135],\"y\":[67.767,51.845,30.392,26.19,20.988,20.473,18.081,17.85,16.426,16.136,14.924,14.469,13.712,12.824,11.635,11.106,12.711,9.998,23.28,9.722,8.913,8.608,8.115,7.448,6.605,5.837,5.357,7.323,5.299,4.892,4.698,4.518,4.214,3.509,3.684,2.567,2.276,1.925,1.802,1.503,1.359,1.276,1.15,0.962,0.737,0.624,0.539,0.491,0.452,0.395,0.36,0.318,0.274,0.217,0.146,0.117,0.114,0.074,0.063,0.052,0.041,0.037,0.041,0.033,0.029,0.019,0.014,0.005,0.005,0.002,0.001,0.002,0.005,0.011,0.006,0.003,0.001,0.001,0.001,0.0,0.0,0.0,0.0,0.001,0.001,0.001,0.002,0.002,0.002,0.002,0.003,0.003,0.003,0.003,0.003,0.003,0.003,0.002,0.002,0.001,0.001,0.002,0.002,0.003,0.003,0.004,0.003,0.004,0.004,0.005,0.005,0.004,0.003,0.002,0.002,0.002,0.001,0.002,0.002,0.002,0.003,0.003,0.003,0.004,0.004,0.004,0.004,0.004,0.004,0.004,0.003,0.003,0.002,0.002,0.002],\"type\":\"scatter\"}],                        {\"template\":{\"data\":{\"barpolar\":[{\"marker\":{\"line\":{\"color\":\"#E5ECF6\",\"width\":0.5},\"pattern\":{\"fillmode\":\"overlay\",\"size\":10,\"solidity\":0.2}},\"type\":\"barpolar\"}],\"bar\":[{\"error_x\":{\"color\":\"#2a3f5f\"},\"error_y\":{\"color\":\"#2a3f5f\"},\"marker\":{\"line\":{\"color\":\"#E5ECF6\",\"width\":0.5},\"pattern\":{\"fillmode\":\"overlay\",\"size\":10,\"solidity\":0.2}},\"type\":\"bar\"}],\"carpet\":[{\"aaxis\":{\"endlinecolor\":\"#2a3f5f\",\"gridcolor\":\"white\",\"linecolor\":\"white\",\"minorgridcolor\":\"white\",\"startlinecolor\":\"#2a3f5f\"},\"baxis\":{\"endlinecolor\":\"#2a3f5f\",\"gridcolor\":\"white\",\"linecolor\":\"white\",\"minorgridcolor\":\"white\",\"startlinecolor\":\"#2a3f5f\"},\"type\":\"carpet\"}],\"choropleth\":[{\"colorbar\":{\"outlinewidth\":0,\"ticks\":\"\"},\"type\":\"choropleth\"}],\"contourcarpet\":[{\"colorbar\":{\"outlinewidth\":0,\"ticks\":\"\"},\"type\":\"contourcarpet\"}],\"contour\":[{\"colorbar\":{\"outlinewidth\":0,\"ticks\":\"\"},\"colorscale\":[[0.0,\"#0d0887\"],[0.1111111111111111,\"#46039f\"],[0.2222222222222222,\"#7201a8\"],[0.3333333333333333,\"#9c179e\"],[0.4444444444444444,\"#bd3786\"],[0.5555555555555556,\"#d8576b\"],[0.6666666666666666,\"#ed7953\"],[0.7777777777777778,\"#fb9f3a\"],[0.8888888888888888,\"#fdca26\"],[1.0,\"#f0f921\"]],\"type\":\"contour\"}],\"heatmapgl\":[{\"colorbar\":{\"outlinewidth\":0,\"ticks\":\"\"},\"colorscale\":[[0.0,\"#0d0887\"],[0.1111111111111111,\"#46039f\"],[0.2222222222222222,\"#7201a8\"],[0.3333333333333333,\"#9c179e\"],[0.4444444444444444,\"#bd3786\"],[0.5555555555555556,\"#d8576b\"],[0.6666666666666666,\"#ed7953\"],[0.7777777777777778,\"#fb9f3a\"],[0.8888888888888888,\"#fdca26\"],[1.0,\"#f0f921\"]],\"type\":\"heatmapgl\"}],\"heatmap\":[{\"colorbar\":{\"outlinewidth\":0,\"ticks\":\"\"},\"colorscale\":[[0.0,\"#0d0887\"],[0.1111111111111111,\"#46039f\"],[0.2222222222222222,\"#7201a8\"],[0.3333333333333333,\"#9c179e\"],[0.4444444444444444,\"#bd3786\"],[0.5555555555555556,\"#d8576b\"],[0.6666666666666666,\"#ed7953\"],[0.7777777777777778,\"#fb9f3a\"],[0.8888888888888888,\"#fdca26\"],[1.0,\"#f0f921\"]],\"type\":\"heatmap\"}],\"histogram2dcontour\":[{\"colorbar\":{\"outlinewidth\":0,\"ticks\":\"\"},\"colorscale\":[[0.0,\"#0d0887\"],[0.1111111111111111,\"#46039f\"],[0.2222222222222222,\"#7201a8\"],[0.3333333333333333,\"#9c179e\"],[0.4444444444444444,\"#bd3786\"],[0.5555555555555556,\"#d8576b\"],[0.6666666666666666,\"#ed7953\"],[0.7777777777777778,\"#fb9f3a\"],[0.8888888888888888,\"#fdca26\"],[1.0,\"#f0f921\"]],\"type\":\"histogram2dcontour\"}],\"histogram2d\":[{\"colorbar\":{\"outlinewidth\":0,\"ticks\":\"\"},\"colorscale\":[[0.0,\"#0d0887\"],[0.1111111111111111,\"#46039f\"],[0.2222222222222222,\"#7201a8\"],[0.3333333333333333,\"#9c179e\"],[0.4444444444444444,\"#bd3786\"],[0.5555555555555556,\"#d8576b\"],[0.6666666666666666,\"#ed7953\"],[0.7777777777777778,\"#fb9f3a\"],[0.8888888888888888,\"#fdca26\"],[1.0,\"#f0f921\"]],\"type\":\"histogram2d\"}],\"histogram\":[{\"marker\":{\"pattern\":{\"fillmode\":\"overlay\",\"size\":10,\"solidity\":0.2}},\"type\":\"histogram\"}],\"mesh3d\":[{\"colorbar\":{\"outlinewidth\":0,\"ticks\":\"\"},\"type\":\"mesh3d\"}],\"parcoords\":[{\"line\":{\"colorbar\":{\"outlinewidth\":0,\"ticks\":\"\"}},\"type\":\"parcoords\"}],\"pie\":[{\"automargin\":true,\"type\":\"pie\"}],\"scatter3d\":[{\"line\":{\"colorbar\":{\"outlinewidth\":0,\"ticks\":\"\"}},\"marker\":{\"colorbar\":{\"outlinewidth\":0,\"ticks\":\"\"}},\"type\":\"scatter3d\"}],\"scattercarpet\":[{\"marker\":{\"colorbar\":{\"outlinewidth\":0,\"ticks\":\"\"}},\"type\":\"scattercarpet\"}],\"scattergeo\":[{\"marker\":{\"colorbar\":{\"outlinewidth\":0,\"ticks\":\"\"}},\"type\":\"scattergeo\"}],\"scattergl\":[{\"marker\":{\"colorbar\":{\"outlinewidth\":0,\"ticks\":\"\"}},\"type\":\"scattergl\"}],\"scattermapbox\":[{\"marker\":{\"colorbar\":{\"outlinewidth\":0,\"ticks\":\"\"}},\"type\":\"scattermapbox\"}],\"scatterpolargl\":[{\"marker\":{\"colorbar\":{\"outlinewidth\":0,\"ticks\":\"\"}},\"type\":\"scatterpolargl\"}],\"scatterpolar\":[{\"marker\":{\"colorbar\":{\"outlinewidth\":0,\"ticks\":\"\"}},\"type\":\"scatterpolar\"}],\"scatter\":[{\"fillpattern\":{\"fillmode\":\"overlay\",\"size\":10,\"solidity\":0.2},\"type\":\"scatter\"}],\"scatterternary\":[{\"marker\":{\"colorbar\":{\"outlinewidth\":0,\"ticks\":\"\"}},\"type\":\"scatterternary\"}],\"surface\":[{\"colorbar\":{\"outlinewidth\":0,\"ticks\":\"\"},\"colorscale\":[[0.0,\"#0d0887\"],[0.1111111111111111,\"#46039f\"],[0.2222222222222222,\"#7201a8\"],[0.3333333333333333,\"#9c179e\"],[0.4444444444444444,\"#bd3786\"],[0.5555555555555556,\"#d8576b\"],[0.6666666666666666,\"#ed7953\"],[0.7777777777777778,\"#fb9f3a\"],[0.8888888888888888,\"#fdca26\"],[1.0,\"#f0f921\"]],\"type\":\"surface\"}],\"table\":[{\"cells\":{\"fill\":{\"color\":\"#EBF0F8\"},\"line\":{\"color\":\"white\"}},\"header\":{\"fill\":{\"color\":\"#C8D4E3\"},\"line\":{\"color\":\"white\"}},\"type\":\"table\"}]},\"layout\":{\"annotationdefaults\":{\"arrowcolor\":\"#2a3f5f\",\"arrowhead\":0,\"arrowwidth\":1},\"autotypenumbers\":\"strict\",\"coloraxis\":{\"colorbar\":{\"outlinewidth\":0,\"ticks\":\"\"}},\"colorscale\":{\"diverging\":[[0,\"#8e0152\"],[0.1,\"#c51b7d\"],[0.2,\"#de77ae\"],[0.3,\"#f1b6da\"],[0.4,\"#fde0ef\"],[0.5,\"#f7f7f7\"],[0.6,\"#e6f5d0\"],[0.7,\"#b8e186\"],[0.8,\"#7fbc41\"],[0.9,\"#4d9221\"],[1,\"#276419\"]],\"sequential\":[[0.0,\"#0d0887\"],[0.1111111111111111,\"#46039f\"],[0.2222222222222222,\"#7201a8\"],[0.3333333333333333,\"#9c179e\"],[0.4444444444444444,\"#bd3786\"],[0.5555555555555556,\"#d8576b\"],[0.6666666666666666,\"#ed7953\"],[0.7777777777777778,\"#fb9f3a\"],[0.8888888888888888,\"#fdca26\"],[1.0,\"#f0f921\"]],\"sequentialminus\":[[0.0,\"#0d0887\"],[0.1111111111111111,\"#46039f\"],[0.2222222222222222,\"#7201a8\"],[0.3333333333333333,\"#9c179e\"],[0.4444444444444444,\"#bd3786\"],[0.5555555555555556,\"#d8576b\"],[0.6666666666666666,\"#ed7953\"],[0.7777777777777778,\"#fb9f3a\"],[0.8888888888888888,\"#fdca26\"],[1.0,\"#f0f921\"]]},\"colorway\":[\"#636efa\",\"#EF553B\",\"#00cc96\",\"#ab63fa\",\"#FFA15A\",\"#19d3f3\",\"#FF6692\",\"#B6E880\",\"#FF97FF\",\"#FECB52\"],\"font\":{\"color\":\"#2a3f5f\"},\"geo\":{\"bgcolor\":\"white\",\"lakecolor\":\"white\",\"landcolor\":\"#E5ECF6\",\"showlakes\":true,\"showland\":true,\"subunitcolor\":\"white\"},\"hoverlabel\":{\"align\":\"left\"},\"hovermode\":\"closest\",\"mapbox\":{\"style\":\"light\"},\"paper_bgcolor\":\"white\",\"plot_bgcolor\":\"#E5ECF6\",\"polar\":{\"angularaxis\":{\"gridcolor\":\"white\",\"linecolor\":\"white\",\"ticks\":\"\"},\"bgcolor\":\"#E5ECF6\",\"radialaxis\":{\"gridcolor\":\"white\",\"linecolor\":\"white\",\"ticks\":\"\"}},\"scene\":{\"xaxis\":{\"backgroundcolor\":\"#E5ECF6\",\"gridcolor\":\"white\",\"gridwidth\":2,\"linecolor\":\"white\",\"showbackground\":true,\"ticks\":\"\",\"zerolinecolor\":\"white\"},\"yaxis\":{\"backgroundcolor\":\"#E5ECF6\",\"gridcolor\":\"white\",\"gridwidth\":2,\"linecolor\":\"white\",\"showbackground\":true,\"ticks\":\"\",\"zerolinecolor\":\"white\"},\"zaxis\":{\"backgroundcolor\":\"#E5ECF6\",\"gridcolor\":\"white\",\"gridwidth\":2,\"linecolor\":\"white\",\"showbackground\":true,\"ticks\":\"\",\"zerolinecolor\":\"white\"}},\"shapedefaults\":{\"line\":{\"color\":\"#2a3f5f\"}},\"ternary\":{\"aaxis\":{\"gridcolor\":\"white\",\"linecolor\":\"white\",\"ticks\":\"\"},\"baxis\":{\"gridcolor\":\"white\",\"linecolor\":\"white\",\"ticks\":\"\"},\"bgcolor\":\"#E5ECF6\",\"caxis\":{\"gridcolor\":\"white\",\"linecolor\":\"white\",\"ticks\":\"\"}},\"title\":{\"x\":0.05},\"xaxis\":{\"automargin\":true,\"gridcolor\":\"white\",\"linecolor\":\"white\",\"ticks\":\"\",\"title\":{\"standoff\":15},\"zerolinecolor\":\"white\",\"zerolinewidth\":2},\"yaxis\":{\"automargin\":true,\"gridcolor\":\"white\",\"linecolor\":\"white\",\"ticks\":\"\",\"title\":{\"standoff\":15},\"zerolinecolor\":\"white\",\"zerolinewidth\":2}}},\"title\":{\"text\":\"Geometry Optimization\"},\"xaxis\":{\"range\":[1,135],\"title\":{\"text\":\"Optimization Step\"}},\"yaxis\":{\"title\":{\"text\":\"Relative Energy [kcal/mol]\"},\"zeroline\":true}},                        {\"responsive\": true}                    ).then(function(){\n",
       "                            \n",
       "var gd = document.getElementById('63576947-6128-4a45-94c0-b5b4b4960c7b');\n",
       "var x = new MutationObserver(function (mutations, observer) {{\n",
       "        var display = window.getComputedStyle(gd).display;\n",
       "        if (!display || display === 'none') {{\n",
       "            console.log([gd, 'removed!']);\n",
       "            Plotly.purge(gd);\n",
       "            observer.disconnect();\n",
       "        }}\n",
       "}});\n",
       "\n",
       "// Listen for the removal of the full notebook cells\n",
       "var notebookContainer = gd.closest('#notebook-container');\n",
       "if (notebookContainer) {{\n",
       "    x.observe(notebookContainer, {childList: true});\n",
       "}}\n",
       "\n",
       "// Listen for the clearing of the current output cell\n",
       "var outputEl = gd.closest('.output');\n",
       "if (outputEl) {{\n",
       "    x.observe(outputEl, {childList: true});\n",
       "}}\n",
       "\n",
       "                        })                };                });            </script>        </div>"
      ]
     },
     "metadata": {},
     "output_type": "display_data"
    }
   ],
   "source": [
    "opt_record.show_history()"
   ]
  },
  {
   "cell_type": "code",
   "execution_count": 47,
   "id": "06bb4d5a-8c94-4c0f-b643-cfc0636cab4f",
   "metadata": {},
   "outputs": [],
   "source": [
    "mols = opt_record.get_molecular_trajectory()"
   ]
  },
  {
   "cell_type": "code",
   "execution_count": 48,
   "id": "e4417a71-2439-477e-967a-7265480149bb",
   "metadata": {},
   "outputs": [
    {
     "data": {
      "text/plain": [
       "qcelemental.models.molecule.Molecule"
      ]
     },
     "execution_count": 48,
     "metadata": {},
     "output_type": "execute_result"
    }
   ],
   "source": [
    "type(mols[0])"
   ]
  },
  {
   "cell_type": "code",
   "execution_count": 49,
   "id": "9990561a-7aeb-446a-b875-3defd10e5850",
   "metadata": {},
   "outputs": [],
   "source": [
    "offmols = Molecule.from_qcschema(mols[0])\n",
    "\n",
    "for mol in mols[1:]:\n",
    "    m = Molecule.from_qcschema(mol)\n",
    "    offmols.add_conformer(m.conformers[0])    "
   ]
  },
  {
   "cell_type": "code",
   "execution_count": 50,
   "id": "930ad271-36ad-4650-b8df-1f3845659d16",
   "metadata": {},
   "outputs": [
    {
     "data": {
      "application/vnd.jupyter.widget-view+json": {
       "model_id": "86d22aefff4e4e86a918ada8cc0ccc40",
       "version_major": 2,
       "version_minor": 0
      },
      "text/plain": [
       "NGLWidget(max_frame=134)"
      ]
     },
     "metadata": {},
     "output_type": "display_data"
    }
   ],
   "source": [
    "offmols"
   ]
  },
  {
   "cell_type": "code",
   "execution_count": 51,
   "id": "491db3f5-ef32-44ea-9e8c-816956f8e869",
   "metadata": {},
   "outputs": [
    {
     "data": {
      "text/plain": [
       "-1162.4951011118994"
      ]
     },
     "execution_count": 51,
     "metadata": {},
     "output_type": "execute_result"
    }
   ],
   "source": [
    "opt_record.get_final_energy()"
   ]
  },
  {
   "cell_type": "code",
   "execution_count": 52,
   "id": "3e3b7a8a-bec8-413e-a87c-ccb5291df755",
   "metadata": {},
   "outputs": [
    {
     "name": "stdout",
     "output_type": "stream",
     "text": [
      "cc(=o)n[c@@h](ccc(=o)[o-])c(=o)n[c@@h](cc1ccccc1)c(n)=o-0\n"
     ]
    }
   ],
   "source": [
    "# try default-dlc\n",
    "record_names = list(openff_pepconf_opt.data.records)\n",
    "#opt_record = openff_pepconf_opt.get_record(record_names[0], specification=\"default-dlc\")\n",
    "opt_record = openff_pepconf_opt.get_record(record_names[1], specification=\"default-dlc\")\n",
    "print(record_names[0])"
   ]
  },
  {
   "cell_type": "code",
   "execution_count": 53,
   "id": "2141ee72-6a0e-4c1c-a037-d6e73204cf90",
   "metadata": {},
   "outputs": [
    {
     "data": {
      "application/vnd.jupyter.widget-view+json": {
       "model_id": "e6fd0256c98b41d4a69b40b09195ffd6",
       "version_major": 2,
       "version_minor": 0
      },
      "text/plain": [
       "NGLWidget()"
      ]
     },
     "metadata": {},
     "output_type": "display_data"
    }
   ],
   "source": [
    "opt_record.get_initial_molecule()"
   ]
  },
  {
   "cell_type": "code",
   "execution_count": 54,
   "id": "acfdebf1-00a1-4157-bcf1-2c4bd5b23d7b",
   "metadata": {},
   "outputs": [
    {
     "data": {
      "text/html": [
       "        <script type=\"text/javascript\">\n",
       "        window.PlotlyConfig = {MathJaxConfig: 'local'};\n",
       "        if (window.MathJax && window.MathJax.Hub && window.MathJax.Hub.Config) {window.MathJax.Hub.Config({SVG: {font: \"STIX-Web\"}});}\n",
       "        if (typeof require !== 'undefined') {\n",
       "        require.undef(\"plotly\");\n",
       "        requirejs.config({\n",
       "            paths: {\n",
       "                'plotly': ['https://cdn.plot.ly/plotly-2.18.2.min']\n",
       "            }\n",
       "        });\n",
       "        require(['plotly'], function(Plotly) {\n",
       "            window._Plotly = Plotly;\n",
       "        });\n",
       "        }\n",
       "        </script>\n",
       "        "
      ]
     },
     "metadata": {},
     "output_type": "display_data"
    },
    {
     "data": {
      "application/vnd.plotly.v1+json": {
       "config": {
        "linkText": "Export to plot.ly",
        "plotlyServerURL": "https://plot.ly",
        "showLink": false
       },
       "data": [
        {
         "mode": "lines+markers",
         "type": "scatter",
         "x": [
          1,
          2,
          3,
          4,
          5,
          6,
          7,
          8,
          9,
          10,
          11,
          12,
          13,
          14,
          15,
          16,
          17,
          18,
          19,
          20,
          21,
          22,
          23,
          24,
          25,
          26,
          27,
          28,
          29,
          30,
          31,
          32,
          33,
          34,
          35,
          36,
          37,
          38,
          39,
          40,
          41,
          42,
          43,
          44,
          45,
          46,
          47,
          48,
          49,
          50,
          51,
          52,
          53,
          54,
          55,
          56,
          57,
          58,
          59,
          60,
          61,
          62,
          63,
          64,
          65,
          66,
          67,
          68,
          69,
          70,
          71,
          72,
          73,
          74,
          75,
          76,
          77,
          78,
          79,
          80,
          81
         ],
         "y": [
          67.742,
          51.82,
          30.366,
          26.165,
          20.963,
          20.447,
          18.056,
          17.826,
          16.399,
          16.11,
          14.897,
          14.441,
          13.685,
          12.797,
          11.608,
          11.087,
          12.744,
          9.976,
          14.003,
          9.292,
          10.376,
          8.925,
          8.717,
          8.014,
          7.433,
          6.909,
          6.176,
          5.442,
          4.988,
          4.783,
          4.515,
          4.336,
          3.994,
          3.311,
          2.867,
          2.411,
          2.025,
          1.798,
          1.652,
          1.51,
          1.298,
          1.217,
          1.128,
          1.016,
          0.845,
          0.665,
          0.508,
          0.455,
          0.399,
          0.357,
          0.326,
          0.258,
          0.193,
          0.159,
          0.111,
          0.077,
          0.056,
          0.032,
          0.02,
          0.016,
          0.013,
          0.01,
          0.008,
          0.007,
          0.007,
          0.007,
          0.007,
          0.007,
          0.007,
          0.007,
          0.006,
          0.006,
          0.006,
          0.006,
          0.006,
          0.005,
          0.005,
          0.004,
          0.002,
          0,
          0
         ]
        }
       ],
       "layout": {
        "autosize": true,
        "template": {
         "data": {
          "bar": [
           {
            "error_x": {
             "color": "#2a3f5f"
            },
            "error_y": {
             "color": "#2a3f5f"
            },
            "marker": {
             "line": {
              "color": "#E5ECF6",
              "width": 0.5
             },
             "pattern": {
              "fillmode": "overlay",
              "size": 10,
              "solidity": 0.2
             }
            },
            "type": "bar"
           }
          ],
          "barpolar": [
           {
            "marker": {
             "line": {
              "color": "#E5ECF6",
              "width": 0.5
             },
             "pattern": {
              "fillmode": "overlay",
              "size": 10,
              "solidity": 0.2
             }
            },
            "type": "barpolar"
           }
          ],
          "carpet": [
           {
            "aaxis": {
             "endlinecolor": "#2a3f5f",
             "gridcolor": "white",
             "linecolor": "white",
             "minorgridcolor": "white",
             "startlinecolor": "#2a3f5f"
            },
            "baxis": {
             "endlinecolor": "#2a3f5f",
             "gridcolor": "white",
             "linecolor": "white",
             "minorgridcolor": "white",
             "startlinecolor": "#2a3f5f"
            },
            "type": "carpet"
           }
          ],
          "choropleth": [
           {
            "colorbar": {
             "outlinewidth": 0,
             "ticks": ""
            },
            "type": "choropleth"
           }
          ],
          "contour": [
           {
            "colorbar": {
             "outlinewidth": 0,
             "ticks": ""
            },
            "colorscale": [
             [
              0,
              "#0d0887"
             ],
             [
              0.1111111111111111,
              "#46039f"
             ],
             [
              0.2222222222222222,
              "#7201a8"
             ],
             [
              0.3333333333333333,
              "#9c179e"
             ],
             [
              0.4444444444444444,
              "#bd3786"
             ],
             [
              0.5555555555555556,
              "#d8576b"
             ],
             [
              0.6666666666666666,
              "#ed7953"
             ],
             [
              0.7777777777777778,
              "#fb9f3a"
             ],
             [
              0.8888888888888888,
              "#fdca26"
             ],
             [
              1,
              "#f0f921"
             ]
            ],
            "type": "contour"
           }
          ],
          "contourcarpet": [
           {
            "colorbar": {
             "outlinewidth": 0,
             "ticks": ""
            },
            "type": "contourcarpet"
           }
          ],
          "heatmap": [
           {
            "colorbar": {
             "outlinewidth": 0,
             "ticks": ""
            },
            "colorscale": [
             [
              0,
              "#0d0887"
             ],
             [
              0.1111111111111111,
              "#46039f"
             ],
             [
              0.2222222222222222,
              "#7201a8"
             ],
             [
              0.3333333333333333,
              "#9c179e"
             ],
             [
              0.4444444444444444,
              "#bd3786"
             ],
             [
              0.5555555555555556,
              "#d8576b"
             ],
             [
              0.6666666666666666,
              "#ed7953"
             ],
             [
              0.7777777777777778,
              "#fb9f3a"
             ],
             [
              0.8888888888888888,
              "#fdca26"
             ],
             [
              1,
              "#f0f921"
             ]
            ],
            "type": "heatmap"
           }
          ],
          "heatmapgl": [
           {
            "colorbar": {
             "outlinewidth": 0,
             "ticks": ""
            },
            "colorscale": [
             [
              0,
              "#0d0887"
             ],
             [
              0.1111111111111111,
              "#46039f"
             ],
             [
              0.2222222222222222,
              "#7201a8"
             ],
             [
              0.3333333333333333,
              "#9c179e"
             ],
             [
              0.4444444444444444,
              "#bd3786"
             ],
             [
              0.5555555555555556,
              "#d8576b"
             ],
             [
              0.6666666666666666,
              "#ed7953"
             ],
             [
              0.7777777777777778,
              "#fb9f3a"
             ],
             [
              0.8888888888888888,
              "#fdca26"
             ],
             [
              1,
              "#f0f921"
             ]
            ],
            "type": "heatmapgl"
           }
          ],
          "histogram": [
           {
            "marker": {
             "pattern": {
              "fillmode": "overlay",
              "size": 10,
              "solidity": 0.2
             }
            },
            "type": "histogram"
           }
          ],
          "histogram2d": [
           {
            "colorbar": {
             "outlinewidth": 0,
             "ticks": ""
            },
            "colorscale": [
             [
              0,
              "#0d0887"
             ],
             [
              0.1111111111111111,
              "#46039f"
             ],
             [
              0.2222222222222222,
              "#7201a8"
             ],
             [
              0.3333333333333333,
              "#9c179e"
             ],
             [
              0.4444444444444444,
              "#bd3786"
             ],
             [
              0.5555555555555556,
              "#d8576b"
             ],
             [
              0.6666666666666666,
              "#ed7953"
             ],
             [
              0.7777777777777778,
              "#fb9f3a"
             ],
             [
              0.8888888888888888,
              "#fdca26"
             ],
             [
              1,
              "#f0f921"
             ]
            ],
            "type": "histogram2d"
           }
          ],
          "histogram2dcontour": [
           {
            "colorbar": {
             "outlinewidth": 0,
             "ticks": ""
            },
            "colorscale": [
             [
              0,
              "#0d0887"
             ],
             [
              0.1111111111111111,
              "#46039f"
             ],
             [
              0.2222222222222222,
              "#7201a8"
             ],
             [
              0.3333333333333333,
              "#9c179e"
             ],
             [
              0.4444444444444444,
              "#bd3786"
             ],
             [
              0.5555555555555556,
              "#d8576b"
             ],
             [
              0.6666666666666666,
              "#ed7953"
             ],
             [
              0.7777777777777778,
              "#fb9f3a"
             ],
             [
              0.8888888888888888,
              "#fdca26"
             ],
             [
              1,
              "#f0f921"
             ]
            ],
            "type": "histogram2dcontour"
           }
          ],
          "mesh3d": [
           {
            "colorbar": {
             "outlinewidth": 0,
             "ticks": ""
            },
            "type": "mesh3d"
           }
          ],
          "parcoords": [
           {
            "line": {
             "colorbar": {
              "outlinewidth": 0,
              "ticks": ""
             }
            },
            "type": "parcoords"
           }
          ],
          "pie": [
           {
            "automargin": true,
            "type": "pie"
           }
          ],
          "scatter": [
           {
            "fillpattern": {
             "fillmode": "overlay",
             "size": 10,
             "solidity": 0.2
            },
            "type": "scatter"
           }
          ],
          "scatter3d": [
           {
            "line": {
             "colorbar": {
              "outlinewidth": 0,
              "ticks": ""
             }
            },
            "marker": {
             "colorbar": {
              "outlinewidth": 0,
              "ticks": ""
             }
            },
            "type": "scatter3d"
           }
          ],
          "scattercarpet": [
           {
            "marker": {
             "colorbar": {
              "outlinewidth": 0,
              "ticks": ""
             }
            },
            "type": "scattercarpet"
           }
          ],
          "scattergeo": [
           {
            "marker": {
             "colorbar": {
              "outlinewidth": 0,
              "ticks": ""
             }
            },
            "type": "scattergeo"
           }
          ],
          "scattergl": [
           {
            "marker": {
             "colorbar": {
              "outlinewidth": 0,
              "ticks": ""
             }
            },
            "type": "scattergl"
           }
          ],
          "scattermapbox": [
           {
            "marker": {
             "colorbar": {
              "outlinewidth": 0,
              "ticks": ""
             }
            },
            "type": "scattermapbox"
           }
          ],
          "scatterpolar": [
           {
            "marker": {
             "colorbar": {
              "outlinewidth": 0,
              "ticks": ""
             }
            },
            "type": "scatterpolar"
           }
          ],
          "scatterpolargl": [
           {
            "marker": {
             "colorbar": {
              "outlinewidth": 0,
              "ticks": ""
             }
            },
            "type": "scatterpolargl"
           }
          ],
          "scatterternary": [
           {
            "marker": {
             "colorbar": {
              "outlinewidth": 0,
              "ticks": ""
             }
            },
            "type": "scatterternary"
           }
          ],
          "surface": [
           {
            "colorbar": {
             "outlinewidth": 0,
             "ticks": ""
            },
            "colorscale": [
             [
              0,
              "#0d0887"
             ],
             [
              0.1111111111111111,
              "#46039f"
             ],
             [
              0.2222222222222222,
              "#7201a8"
             ],
             [
              0.3333333333333333,
              "#9c179e"
             ],
             [
              0.4444444444444444,
              "#bd3786"
             ],
             [
              0.5555555555555556,
              "#d8576b"
             ],
             [
              0.6666666666666666,
              "#ed7953"
             ],
             [
              0.7777777777777778,
              "#fb9f3a"
             ],
             [
              0.8888888888888888,
              "#fdca26"
             ],
             [
              1,
              "#f0f921"
             ]
            ],
            "type": "surface"
           }
          ],
          "table": [
           {
            "cells": {
             "fill": {
              "color": "#EBF0F8"
             },
             "line": {
              "color": "white"
             }
            },
            "header": {
             "fill": {
              "color": "#C8D4E3"
             },
             "line": {
              "color": "white"
             }
            },
            "type": "table"
           }
          ]
         },
         "layout": {
          "annotationdefaults": {
           "arrowcolor": "#2a3f5f",
           "arrowhead": 0,
           "arrowwidth": 1
          },
          "autotypenumbers": "strict",
          "coloraxis": {
           "colorbar": {
            "outlinewidth": 0,
            "ticks": ""
           }
          },
          "colorscale": {
           "diverging": [
            [
             0,
             "#8e0152"
            ],
            [
             0.1,
             "#c51b7d"
            ],
            [
             0.2,
             "#de77ae"
            ],
            [
             0.3,
             "#f1b6da"
            ],
            [
             0.4,
             "#fde0ef"
            ],
            [
             0.5,
             "#f7f7f7"
            ],
            [
             0.6,
             "#e6f5d0"
            ],
            [
             0.7,
             "#b8e186"
            ],
            [
             0.8,
             "#7fbc41"
            ],
            [
             0.9,
             "#4d9221"
            ],
            [
             1,
             "#276419"
            ]
           ],
           "sequential": [
            [
             0,
             "#0d0887"
            ],
            [
             0.1111111111111111,
             "#46039f"
            ],
            [
             0.2222222222222222,
             "#7201a8"
            ],
            [
             0.3333333333333333,
             "#9c179e"
            ],
            [
             0.4444444444444444,
             "#bd3786"
            ],
            [
             0.5555555555555556,
             "#d8576b"
            ],
            [
             0.6666666666666666,
             "#ed7953"
            ],
            [
             0.7777777777777778,
             "#fb9f3a"
            ],
            [
             0.8888888888888888,
             "#fdca26"
            ],
            [
             1,
             "#f0f921"
            ]
           ],
           "sequentialminus": [
            [
             0,
             "#0d0887"
            ],
            [
             0.1111111111111111,
             "#46039f"
            ],
            [
             0.2222222222222222,
             "#7201a8"
            ],
            [
             0.3333333333333333,
             "#9c179e"
            ],
            [
             0.4444444444444444,
             "#bd3786"
            ],
            [
             0.5555555555555556,
             "#d8576b"
            ],
            [
             0.6666666666666666,
             "#ed7953"
            ],
            [
             0.7777777777777778,
             "#fb9f3a"
            ],
            [
             0.8888888888888888,
             "#fdca26"
            ],
            [
             1,
             "#f0f921"
            ]
           ]
          },
          "colorway": [
           "#636efa",
           "#EF553B",
           "#00cc96",
           "#ab63fa",
           "#FFA15A",
           "#19d3f3",
           "#FF6692",
           "#B6E880",
           "#FF97FF",
           "#FECB52"
          ],
          "font": {
           "color": "#2a3f5f"
          },
          "geo": {
           "bgcolor": "white",
           "lakecolor": "white",
           "landcolor": "#E5ECF6",
           "showlakes": true,
           "showland": true,
           "subunitcolor": "white"
          },
          "hoverlabel": {
           "align": "left"
          },
          "hovermode": "closest",
          "mapbox": {
           "style": "light"
          },
          "paper_bgcolor": "white",
          "plot_bgcolor": "#E5ECF6",
          "polar": {
           "angularaxis": {
            "gridcolor": "white",
            "linecolor": "white",
            "ticks": ""
           },
           "bgcolor": "#E5ECF6",
           "radialaxis": {
            "gridcolor": "white",
            "linecolor": "white",
            "ticks": ""
           }
          },
          "scene": {
           "xaxis": {
            "backgroundcolor": "#E5ECF6",
            "gridcolor": "white",
            "gridwidth": 2,
            "linecolor": "white",
            "showbackground": true,
            "ticks": "",
            "zerolinecolor": "white"
           },
           "yaxis": {
            "backgroundcolor": "#E5ECF6",
            "gridcolor": "white",
            "gridwidth": 2,
            "linecolor": "white",
            "showbackground": true,
            "ticks": "",
            "zerolinecolor": "white"
           },
           "zaxis": {
            "backgroundcolor": "#E5ECF6",
            "gridcolor": "white",
            "gridwidth": 2,
            "linecolor": "white",
            "showbackground": true,
            "ticks": "",
            "zerolinecolor": "white"
           }
          },
          "shapedefaults": {
           "line": {
            "color": "#2a3f5f"
           }
          },
          "ternary": {
           "aaxis": {
            "gridcolor": "white",
            "linecolor": "white",
            "ticks": ""
           },
           "baxis": {
            "gridcolor": "white",
            "linecolor": "white",
            "ticks": ""
           },
           "bgcolor": "#E5ECF6",
           "caxis": {
            "gridcolor": "white",
            "linecolor": "white",
            "ticks": ""
           }
          },
          "title": {
           "x": 0.05
          },
          "xaxis": {
           "automargin": true,
           "gridcolor": "white",
           "linecolor": "white",
           "ticks": "",
           "title": {
            "standoff": 15
           },
           "zerolinecolor": "white",
           "zerolinewidth": 2
          },
          "yaxis": {
           "automargin": true,
           "gridcolor": "white",
           "linecolor": "white",
           "ticks": "",
           "title": {
            "standoff": 15
           },
           "zerolinecolor": "white",
           "zerolinewidth": 2
          }
         }
        },
        "title": {
         "text": "Geometry Optimization"
        },
        "xaxis": {
         "range": [
          1,
          81
         ],
         "title": {
          "text": "Optimization Step"
         },
         "type": "linear"
        },
        "yaxis": {
         "autorange": true,
         "range": [
          -5.590359223300971,
          73.33235922330097
         ],
         "title": {
          "text": "Relative Energy [kcal/mol]"
         },
         "type": "linear",
         "zeroline": true
        }
       }
      },
      "image/png": "[encoded data removed]",
      "text/html": [
       "<div>                            <div id=\"dd0ff314-7058-414e-b7d8-b1ff98446242\" class=\"plotly-graph-div\" style=\"height:525px; width:100%;\"></div>            <script type=\"text/javascript\">                require([\"plotly\"], function(Plotly) {                    window.PLOTLYENV=window.PLOTLYENV || {};                                    if (document.getElementById(\"dd0ff314-7058-414e-b7d8-b1ff98446242\")) {                    Plotly.newPlot(                        \"dd0ff314-7058-414e-b7d8-b1ff98446242\",                        [{\"mode\":\"lines+markers\",\"x\":[1,2,3,4,5,6,7,8,9,10,11,12,13,14,15,16,17,18,19,20,21,22,23,24,25,26,27,28,29,30,31,32,33,34,35,36,37,38,39,40,41,42,43,44,45,46,47,48,49,50,51,52,53,54,55,56,57,58,59,60,61,62,63,64,65,66,67,68,69,70,71,72,73,74,75,76,77,78,79,80,81],\"y\":[67.742,51.82,30.366,26.165,20.963,20.447,18.056,17.826,16.399,16.11,14.897,14.441,13.685,12.797,11.608,11.087,12.744,9.976,14.003,9.292,10.376,8.925,8.717,8.014,7.433,6.909,6.176,5.442,4.988,4.783,4.515,4.336,3.994,3.311,2.867,2.411,2.025,1.798,1.652,1.51,1.298,1.217,1.128,1.016,0.845,0.665,0.508,0.455,0.399,0.357,0.326,0.258,0.193,0.159,0.111,0.077,0.056,0.032,0.02,0.016,0.013,0.01,0.008,0.007,0.007,0.007,0.007,0.007,0.007,0.007,0.006,0.006,0.006,0.006,0.006,0.005,0.005,0.004,0.002,0.0,0.0],\"type\":\"scatter\"}],                        {\"template\":{\"data\":{\"barpolar\":[{\"marker\":{\"line\":{\"color\":\"#E5ECF6\",\"width\":0.5},\"pattern\":{\"fillmode\":\"overlay\",\"size\":10,\"solidity\":0.2}},\"type\":\"barpolar\"}],\"bar\":[{\"error_x\":{\"color\":\"#2a3f5f\"},\"error_y\":{\"color\":\"#2a3f5f\"},\"marker\":{\"line\":{\"color\":\"#E5ECF6\",\"width\":0.5},\"pattern\":{\"fillmode\":\"overlay\",\"size\":10,\"solidity\":0.2}},\"type\":\"bar\"}],\"carpet\":[{\"aaxis\":{\"endlinecolor\":\"#2a3f5f\",\"gridcolor\":\"white\",\"linecolor\":\"white\",\"minorgridcolor\":\"white\",\"startlinecolor\":\"#2a3f5f\"},\"baxis\":{\"endlinecolor\":\"#2a3f5f\",\"gridcolor\":\"white\",\"linecolor\":\"white\",\"minorgridcolor\":\"white\",\"startlinecolor\":\"#2a3f5f\"},\"type\":\"carpet\"}],\"choropleth\":[{\"colorbar\":{\"outlinewidth\":0,\"ticks\":\"\"},\"type\":\"choropleth\"}],\"contourcarpet\":[{\"colorbar\":{\"outlinewidth\":0,\"ticks\":\"\"},\"type\":\"contourcarpet\"}],\"contour\":[{\"colorbar\":{\"outlinewidth\":0,\"ticks\":\"\"},\"colorscale\":[[0.0,\"#0d0887\"],[0.1111111111111111,\"#46039f\"],[0.2222222222222222,\"#7201a8\"],[0.3333333333333333,\"#9c179e\"],[0.4444444444444444,\"#bd3786\"],[0.5555555555555556,\"#d8576b\"],[0.6666666666666666,\"#ed7953\"],[0.7777777777777778,\"#fb9f3a\"],[0.8888888888888888,\"#fdca26\"],[1.0,\"#f0f921\"]],\"type\":\"contour\"}],\"heatmapgl\":[{\"colorbar\":{\"outlinewidth\":0,\"ticks\":\"\"},\"colorscale\":[[0.0,\"#0d0887\"],[0.1111111111111111,\"#46039f\"],[0.2222222222222222,\"#7201a8\"],[0.3333333333333333,\"#9c179e\"],[0.4444444444444444,\"#bd3786\"],[0.5555555555555556,\"#d8576b\"],[0.6666666666666666,\"#ed7953\"],[0.7777777777777778,\"#fb9f3a\"],[0.8888888888888888,\"#fdca26\"],[1.0,\"#f0f921\"]],\"type\":\"heatmapgl\"}],\"heatmap\":[{\"colorbar\":{\"outlinewidth\":0,\"ticks\":\"\"},\"colorscale\":[[0.0,\"#0d0887\"],[0.1111111111111111,\"#46039f\"],[0.2222222222222222,\"#7201a8\"],[0.3333333333333333,\"#9c179e\"],[0.4444444444444444,\"#bd3786\"],[0.5555555555555556,\"#d8576b\"],[0.6666666666666666,\"#ed7953\"],[0.7777777777777778,\"#fb9f3a\"],[0.8888888888888888,\"#fdca26\"],[1.0,\"#f0f921\"]],\"type\":\"heatmap\"}],\"histogram2dcontour\":[{\"colorbar\":{\"outlinewidth\":0,\"ticks\":\"\"},\"colorscale\":[[0.0,\"#0d0887\"],[0.1111111111111111,\"#46039f\"],[0.2222222222222222,\"#7201a8\"],[0.3333333333333333,\"#9c179e\"],[0.4444444444444444,\"#bd3786\"],[0.5555555555555556,\"#d8576b\"],[0.6666666666666666,\"#ed7953\"],[0.7777777777777778,\"#fb9f3a\"],[0.8888888888888888,\"#fdca26\"],[1.0,\"#f0f921\"]],\"type\":\"histogram2dcontour\"}],\"histogram2d\":[{\"colorbar\":{\"outlinewidth\":0,\"ticks\":\"\"},\"colorscale\":[[0.0,\"#0d0887\"],[0.1111111111111111,\"#46039f\"],[0.2222222222222222,\"#7201a8\"],[0.3333333333333333,\"#9c179e\"],[0.4444444444444444,\"#bd3786\"],[0.5555555555555556,\"#d8576b\"],[0.6666666666666666,\"#ed7953\"],[0.7777777777777778,\"#fb9f3a\"],[0.8888888888888888,\"#fdca26\"],[1.0,\"#f0f921\"]],\"type\":\"histogram2d\"}],\"histogram\":[{\"marker\":{\"pattern\":{\"fillmode\":\"overlay\",\"size\":10,\"solidity\":0.2}},\"type\":\"histogram\"}],\"mesh3d\":[{\"colorbar\":{\"outlinewidth\":0,\"ticks\":\"\"},\"type\":\"mesh3d\"}],\"parcoords\":[{\"line\":{\"colorbar\":{\"outlinewidth\":0,\"ticks\":\"\"}},\"type\":\"parcoords\"}],\"pie\":[{\"automargin\":true,\"type\":\"pie\"}],\"scatter3d\":[{\"line\":{\"colorbar\":{\"outlinewidth\":0,\"ticks\":\"\"}},\"marker\":{\"colorbar\":{\"outlinewidth\":0,\"ticks\":\"\"}},\"type\":\"scatter3d\"}],\"scattercarpet\":[{\"marker\":{\"colorbar\":{\"outlinewidth\":0,\"ticks\":\"\"}},\"type\":\"scattercarpet\"}],\"scattergeo\":[{\"marker\":{\"colorbar\":{\"outlinewidth\":0,\"ticks\":\"\"}},\"type\":\"scattergeo\"}],\"scattergl\":[{\"marker\":{\"colorbar\":{\"outlinewidth\":0,\"ticks\":\"\"}},\"type\":\"scattergl\"}],\"scattermapbox\":[{\"marker\":{\"colorbar\":{\"outlinewidth\":0,\"ticks\":\"\"}},\"type\":\"scattermapbox\"}],\"scatterpolargl\":[{\"marker\":{\"colorbar\":{\"outlinewidth\":0,\"ticks\":\"\"}},\"type\":\"scatterpolargl\"}],\"scatterpolar\":[{\"marker\":{\"colorbar\":{\"outlinewidth\":0,\"ticks\":\"\"}},\"type\":\"scatterpolar\"}],\"scatter\":[{\"fillpattern\":{\"fillmode\":\"overlay\",\"size\":10,\"solidity\":0.2},\"type\":\"scatter\"}],\"scatterternary\":[{\"marker\":{\"colorbar\":{\"outlinewidth\":0,\"ticks\":\"\"}},\"type\":\"scatterternary\"}],\"surface\":[{\"colorbar\":{\"outlinewidth\":0,\"ticks\":\"\"},\"colorscale\":[[0.0,\"#0d0887\"],[0.1111111111111111,\"#46039f\"],[0.2222222222222222,\"#7201a8\"],[0.3333333333333333,\"#9c179e\"],[0.4444444444444444,\"#bd3786\"],[0.5555555555555556,\"#d8576b\"],[0.6666666666666666,\"#ed7953\"],[0.7777777777777778,\"#fb9f3a\"],[0.8888888888888888,\"#fdca26\"],[1.0,\"#f0f921\"]],\"type\":\"surface\"}],\"table\":[{\"cells\":{\"fill\":{\"color\":\"#EBF0F8\"},\"line\":{\"color\":\"white\"}},\"header\":{\"fill\":{\"color\":\"#C8D4E3\"},\"line\":{\"color\":\"white\"}},\"type\":\"table\"}]},\"layout\":{\"annotationdefaults\":{\"arrowcolor\":\"#2a3f5f\",\"arrowhead\":0,\"arrowwidth\":1},\"autotypenumbers\":\"strict\",\"coloraxis\":{\"colorbar\":{\"outlinewidth\":0,\"ticks\":\"\"}},\"colorscale\":{\"diverging\":[[0,\"#8e0152\"],[0.1,\"#c51b7d\"],[0.2,\"#de77ae\"],[0.3,\"#f1b6da\"],[0.4,\"#fde0ef\"],[0.5,\"#f7f7f7\"],[0.6,\"#e6f5d0\"],[0.7,\"#b8e186\"],[0.8,\"#7fbc41\"],[0.9,\"#4d9221\"],[1,\"#276419\"]],\"sequential\":[[0.0,\"#0d0887\"],[0.1111111111111111,\"#46039f\"],[0.2222222222222222,\"#7201a8\"],[0.3333333333333333,\"#9c179e\"],[0.4444444444444444,\"#bd3786\"],[0.5555555555555556,\"#d8576b\"],[0.6666666666666666,\"#ed7953\"],[0.7777777777777778,\"#fb9f3a\"],[0.8888888888888888,\"#fdca26\"],[1.0,\"#f0f921\"]],\"sequentialminus\":[[0.0,\"#0d0887\"],[0.1111111111111111,\"#46039f\"],[0.2222222222222222,\"#7201a8\"],[0.3333333333333333,\"#9c179e\"],[0.4444444444444444,\"#bd3786\"],[0.5555555555555556,\"#d8576b\"],[0.6666666666666666,\"#ed7953\"],[0.7777777777777778,\"#fb9f3a\"],[0.8888888888888888,\"#fdca26\"],[1.0,\"#f0f921\"]]},\"colorway\":[\"#636efa\",\"#EF553B\",\"#00cc96\",\"#ab63fa\",\"#FFA15A\",\"#19d3f3\",\"#FF6692\",\"#B6E880\",\"#FF97FF\",\"#FECB52\"],\"font\":{\"color\":\"#2a3f5f\"},\"geo\":{\"bgcolor\":\"white\",\"lakecolor\":\"white\",\"landcolor\":\"#E5ECF6\",\"showlakes\":true,\"showland\":true,\"subunitcolor\":\"white\"},\"hoverlabel\":{\"align\":\"left\"},\"hovermode\":\"closest\",\"mapbox\":{\"style\":\"light\"},\"paper_bgcolor\":\"white\",\"plot_bgcolor\":\"#E5ECF6\",\"polar\":{\"angularaxis\":{\"gridcolor\":\"white\",\"linecolor\":\"white\",\"ticks\":\"\"},\"bgcolor\":\"#E5ECF6\",\"radialaxis\":{\"gridcolor\":\"white\",\"linecolor\":\"white\",\"ticks\":\"\"}},\"scene\":{\"xaxis\":{\"backgroundcolor\":\"#E5ECF6\",\"gridcolor\":\"white\",\"gridwidth\":2,\"linecolor\":\"white\",\"showbackground\":true,\"ticks\":\"\",\"zerolinecolor\":\"white\"},\"yaxis\":{\"backgroundcolor\":\"#E5ECF6\",\"gridcolor\":\"white\",\"gridwidth\":2,\"linecolor\":\"white\",\"showbackground\":true,\"ticks\":\"\",\"zerolinecolor\":\"white\"},\"zaxis\":{\"backgroundcolor\":\"#E5ECF6\",\"gridcolor\":\"white\",\"gridwidth\":2,\"linecolor\":\"white\",\"showbackground\":true,\"ticks\":\"\",\"zerolinecolor\":\"white\"}},\"shapedefaults\":{\"line\":{\"color\":\"#2a3f5f\"}},\"ternary\":{\"aaxis\":{\"gridcolor\":\"white\",\"linecolor\":\"white\",\"ticks\":\"\"},\"baxis\":{\"gridcolor\":\"white\",\"linecolor\":\"white\",\"ticks\":\"\"},\"bgcolor\":\"#E5ECF6\",\"caxis\":{\"gridcolor\":\"white\",\"linecolor\":\"white\",\"ticks\":\"\"}},\"title\":{\"x\":0.05},\"xaxis\":{\"automargin\":true,\"gridcolor\":\"white\",\"linecolor\":\"white\",\"ticks\":\"\",\"title\":{\"standoff\":15},\"zerolinecolor\":\"white\",\"zerolinewidth\":2},\"yaxis\":{\"automargin\":true,\"gridcolor\":\"white\",\"linecolor\":\"white\",\"ticks\":\"\",\"title\":{\"standoff\":15},\"zerolinecolor\":\"white\",\"zerolinewidth\":2}}},\"title\":{\"text\":\"Geometry Optimization\"},\"xaxis\":{\"range\":[1,81],\"title\":{\"text\":\"Optimization Step\"}},\"yaxis\":{\"title\":{\"text\":\"Relative Energy [kcal/mol]\"},\"zeroline\":true}},                        {\"responsive\": true}                    ).then(function(){\n",
       "                            \n",
       "var gd = document.getElementById('dd0ff314-7058-414e-b7d8-b1ff98446242');\n",
       "var x = new MutationObserver(function (mutations, observer) {{\n",
       "        var display = window.getComputedStyle(gd).display;\n",
       "        if (!display || display === 'none') {{\n",
       "            console.log([gd, 'removed!']);\n",
       "            Plotly.purge(gd);\n",
       "            observer.disconnect();\n",
       "        }}\n",
       "}});\n",
       "\n",
       "// Listen for the removal of the full notebook cells\n",
       "var notebookContainer = gd.closest('#notebook-container');\n",
       "if (notebookContainer) {{\n",
       "    x.observe(notebookContainer, {childList: true});\n",
       "}}\n",
       "\n",
       "// Listen for the clearing of the current output cell\n",
       "var outputEl = gd.closest('.output');\n",
       "if (outputEl) {{\n",
       "    x.observe(outputEl, {childList: true});\n",
       "}}\n",
       "\n",
       "                        })                };                });            </script>        </div>"
      ]
     },
     "metadata": {},
     "output_type": "display_data"
    }
   ],
   "source": [
    "opt_record.show_history()"
   ]
  },
  {
   "cell_type": "code",
   "execution_count": 55,
   "id": "5d9221fc-8c47-4d2b-afe1-754c6fb9dfe5",
   "metadata": {},
   "outputs": [],
   "source": [
    "mols = opt_record.get_molecular_trajectory()"
   ]
  },
  {
   "cell_type": "code",
   "execution_count": 56,
   "id": "1b4ecf51-c074-4b22-acde-b5f40685b94f",
   "metadata": {},
   "outputs": [],
   "source": [
    "offmols = Molecule.from_qcschema(mols[0])\n",
    "\n",
    "for mol in mols[1:]:\n",
    "    m = Molecule.from_qcschema(mol)\n",
    "    offmols.add_conformer(m.conformers[0])"
   ]
  },
  {
   "cell_type": "code",
   "execution_count": 57,
   "id": "d7e10385-7cc0-4d7b-9f5b-7911e35da46b",
   "metadata": {},
   "outputs": [
    {
     "data": {
      "application/vnd.jupyter.widget-view+json": {
       "model_id": "17a10c4921604b4e874ddc2082f83614",
       "version_major": 2,
       "version_minor": 0
      },
      "text/plain": [
       "NGLWidget(max_frame=80)"
      ]
     },
     "metadata": {},
     "output_type": "display_data"
    }
   ],
   "source": [
    "offmols"
   ]
  },
  {
   "cell_type": "code",
   "execution_count": 58,
   "id": "c45b01dc-e027-421a-a43b-868a4c61e6a3",
   "metadata": {},
   "outputs": [
    {
     "data": {
      "text/plain": [
       "-1162.4950636880335"
      ]
     },
     "execution_count": 58,
     "metadata": {},
     "output_type": "execute_result"
    }
   ],
   "source": [
    "opt_record.get_final_energy()"
   ]
  },
  {
   "cell_type": "markdown",
   "id": "04b05cf3-cadd-4754-b145-6c5609d64bc6",
   "metadata": {},
   "source": [
    "##### compare energy"
   ]
  },
  {
   "cell_type": "raw",
   "id": "38afa70d-87a9-4c09-85da-c29458393d8f",
   "metadata": {},
   "source": [
    "e1, e2 = [], []\n",
    "\n",
    "for record_name in record_names[:100]:\n",
    "    try:\n",
    "        default_record = openff_pepconf_opt.get_record(record_name, specification=\"default\")\n",
    "        dlc_record = openff_pepconf_opt.get_record(record_name, specification=\"default-dlc\")\n",
    "        \n",
    "        e1.append(default_record.get_final_energy())\n",
    "        e2.append(dlc_record.get_final_energy())\n",
    "    except:\n",
    "        pass"
   ]
  },
  {
   "cell_type": "raw",
   "id": "c3385ae8-4b95-41d9-a2d8-e112d3b47627",
   "metadata": {},
   "source": [
    "plt.plot(e1, e2)\n",
    "plt.show()"
   ]
  },
  {
   "cell_type": "markdown",
   "id": "1cfcff3e-b1b9-49cd-9502-2c839a3403e7",
   "metadata": {},
   "source": [
    "### Gen2 Optimization dataset"
   ]
  },
  {
   "cell_type": "code",
   "execution_count": 59,
   "id": "ab4f8ebb-c396-4247-8473-65029e16483f",
   "metadata": {},
   "outputs": [],
   "source": [
    "openff_gen2_opt_set1 = client.get_collection('OptimizationDataset', 'OpenFF Gen 2 Opt Set 1 Roche')\n",
    "openff_gen2_opt_set2 = client.get_collection('OptimizationDataset', 'OpenFF Gen 2 Opt Set 2 Coverage')\n",
    "openff_gen2_opt_set3 = client.get_collection('OptimizationDataset', 'OpenFF Gen 2 Opt Set 3 Pfizer Discrepancy')\n",
    "openff_gen2_opt_set4 = client.get_collection('OptimizationDataset', 'OpenFF Gen 2 Opt Set 4 eMolecules Discrepancy')\n",
    "openff_gen2_opt_set5 = client.get_collection('OptimizationDataset', 'OpenFF Gen 2 Opt Set 5 Bayer')"
   ]
  },
  {
   "cell_type": "code",
   "execution_count": 60,
   "id": "e88ce992-b8c7-4d51-b165-789b12ca6c89",
   "metadata": {},
   "outputs": [
    {
     "data": {
      "text/html": [
       "<div>\n",
       "<style scoped>\n",
       "    .dataframe tbody tr th:only-of-type {\n",
       "        vertical-align: middle;\n",
       "    }\n",
       "\n",
       "    .dataframe tbody tr th {\n",
       "        vertical-align: top;\n",
       "    }\n",
       "\n",
       "    .dataframe thead th {\n",
       "        text-align: right;\n",
       "    }\n",
       "</style>\n",
       "<table border=\"1\" class=\"dataframe\">\n",
       "  <thead>\n",
       "    <tr style=\"text-align: right;\">\n",
       "      <th></th>\n",
       "      <th>Description</th>\n",
       "    </tr>\n",
       "    <tr>\n",
       "      <th>Name</th>\n",
       "      <th></th>\n",
       "    </tr>\n",
       "  </thead>\n",
       "  <tbody>\n",
       "    <tr>\n",
       "      <th>default</th>\n",
       "      <td>Standard OpenFF optimization quantum chemistry...</td>\n",
       "    </tr>\n",
       "  </tbody>\n",
       "</table>\n",
       "</div>"
      ],
      "text/plain": [
       "                                               Description\n",
       "Name                                                      \n",
       "default  Standard OpenFF optimization quantum chemistry..."
      ]
     },
     "execution_count": 60,
     "metadata": {},
     "output_type": "execute_result"
    }
   ],
   "source": [
    "openff_gen2_opt_set1.list_specifications()"
   ]
  },
  {
   "cell_type": "code",
   "execution_count": 61,
   "id": "2abf40a1-7106-4f8f-908b-0da2d60b709d",
   "metadata": {},
   "outputs": [
    {
     "data": {
      "text/html": [
       "<div>\n",
       "<style scoped>\n",
       "    .dataframe tbody tr th:only-of-type {\n",
       "        vertical-align: middle;\n",
       "    }\n",
       "\n",
       "    .dataframe tbody tr th {\n",
       "        vertical-align: top;\n",
       "    }\n",
       "\n",
       "    .dataframe thead th {\n",
       "        text-align: right;\n",
       "    }\n",
       "</style>\n",
       "<table border=\"1\" class=\"dataframe\">\n",
       "  <thead>\n",
       "    <tr style=\"text-align: right;\">\n",
       "      <th></th>\n",
       "      <th>Description</th>\n",
       "    </tr>\n",
       "    <tr>\n",
       "      <th>Name</th>\n",
       "      <th></th>\n",
       "    </tr>\n",
       "  </thead>\n",
       "  <tbody>\n",
       "    <tr>\n",
       "      <th>default</th>\n",
       "      <td>Standard OpenFF optimization quantum chemistry...</td>\n",
       "    </tr>\n",
       "  </tbody>\n",
       "</table>\n",
       "</div>"
      ],
      "text/plain": [
       "                                               Description\n",
       "Name                                                      \n",
       "default  Standard OpenFF optimization quantum chemistry..."
      ]
     },
     "execution_count": 61,
     "metadata": {},
     "output_type": "execute_result"
    }
   ],
   "source": [
    "openff_gen2_opt_set2.list_specifications()"
   ]
  },
  {
   "cell_type": "code",
   "execution_count": 62,
   "id": "ea0d8528-1728-4da9-9384-f75156e92f05",
   "metadata": {},
   "outputs": [
    {
     "data": {
      "text/html": [
       "<div>\n",
       "<style scoped>\n",
       "    .dataframe tbody tr th:only-of-type {\n",
       "        vertical-align: middle;\n",
       "    }\n",
       "\n",
       "    .dataframe tbody tr th {\n",
       "        vertical-align: top;\n",
       "    }\n",
       "\n",
       "    .dataframe thead th {\n",
       "        text-align: right;\n",
       "    }\n",
       "</style>\n",
       "<table border=\"1\" class=\"dataframe\">\n",
       "  <thead>\n",
       "    <tr style=\"text-align: right;\">\n",
       "      <th></th>\n",
       "      <th>Description</th>\n",
       "    </tr>\n",
       "    <tr>\n",
       "      <th>Name</th>\n",
       "      <th></th>\n",
       "    </tr>\n",
       "  </thead>\n",
       "  <tbody>\n",
       "    <tr>\n",
       "      <th>default</th>\n",
       "      <td>Standard OpenFF optimization quantum chemistry...</td>\n",
       "    </tr>\n",
       "  </tbody>\n",
       "</table>\n",
       "</div>"
      ],
      "text/plain": [
       "                                               Description\n",
       "Name                                                      \n",
       "default  Standard OpenFF optimization quantum chemistry..."
      ]
     },
     "execution_count": 62,
     "metadata": {},
     "output_type": "execute_result"
    }
   ],
   "source": [
    "openff_gen2_opt_set3.list_specifications()"
   ]
  },
  {
   "cell_type": "code",
   "execution_count": 63,
   "id": "b87cfd15-0ad7-4a21-8c3c-1f35fc355cc6",
   "metadata": {},
   "outputs": [
    {
     "data": {
      "text/html": [
       "<div>\n",
       "<style scoped>\n",
       "    .dataframe tbody tr th:only-of-type {\n",
       "        vertical-align: middle;\n",
       "    }\n",
       "\n",
       "    .dataframe tbody tr th {\n",
       "        vertical-align: top;\n",
       "    }\n",
       "\n",
       "    .dataframe thead th {\n",
       "        text-align: right;\n",
       "    }\n",
       "</style>\n",
       "<table border=\"1\" class=\"dataframe\">\n",
       "  <thead>\n",
       "    <tr style=\"text-align: right;\">\n",
       "      <th></th>\n",
       "      <th>Description</th>\n",
       "    </tr>\n",
       "    <tr>\n",
       "      <th>Name</th>\n",
       "      <th></th>\n",
       "    </tr>\n",
       "  </thead>\n",
       "  <tbody>\n",
       "    <tr>\n",
       "      <th>default</th>\n",
       "      <td>Standard OpenFF optimization quantum chemistry...</td>\n",
       "    </tr>\n",
       "  </tbody>\n",
       "</table>\n",
       "</div>"
      ],
      "text/plain": [
       "                                               Description\n",
       "Name                                                      \n",
       "default  Standard OpenFF optimization quantum chemistry..."
      ]
     },
     "execution_count": 63,
     "metadata": {},
     "output_type": "execute_result"
    }
   ],
   "source": [
    "openff_gen2_opt_set4.list_specifications()"
   ]
  },
  {
   "cell_type": "code",
   "execution_count": 64,
   "id": "bc9325e3-c212-47dd-a060-cee5def27b4a",
   "metadata": {},
   "outputs": [
    {
     "data": {
      "text/html": [
       "<div>\n",
       "<style scoped>\n",
       "    .dataframe tbody tr th:only-of-type {\n",
       "        vertical-align: middle;\n",
       "    }\n",
       "\n",
       "    .dataframe tbody tr th {\n",
       "        vertical-align: top;\n",
       "    }\n",
       "\n",
       "    .dataframe thead th {\n",
       "        text-align: right;\n",
       "    }\n",
       "</style>\n",
       "<table border=\"1\" class=\"dataframe\">\n",
       "  <thead>\n",
       "    <tr style=\"text-align: right;\">\n",
       "      <th></th>\n",
       "      <th>Description</th>\n",
       "    </tr>\n",
       "    <tr>\n",
       "      <th>Name</th>\n",
       "      <th></th>\n",
       "    </tr>\n",
       "  </thead>\n",
       "  <tbody>\n",
       "    <tr>\n",
       "      <th>default</th>\n",
       "      <td>Standard OpenFF optimization quantum chemistry...</td>\n",
       "    </tr>\n",
       "  </tbody>\n",
       "</table>\n",
       "</div>"
      ],
      "text/plain": [
       "                                               Description\n",
       "Name                                                      \n",
       "default  Standard OpenFF optimization quantum chemistry..."
      ]
     },
     "execution_count": 64,
     "metadata": {},
     "output_type": "execute_result"
    }
   ],
   "source": [
    "openff_gen2_opt_set5.list_specifications()"
   ]
  },
  {
   "cell_type": "code",
   "execution_count": 65,
   "id": "1a4e67a2-6334-43b8-a56d-d21dc69249c7",
   "metadata": {
    "scrolled": true,
    "tags": []
   },
   "outputs": [
    {
     "name": "stdout",
     "output_type": "stream",
     "text": [
      "['cn1c(cccc1=o)c2ccccc2oc-0', 'cn1c(cccc1=o)c2ccccc2oc-1', 'c1cc(c(=o)[nh]c1)cn2cc[nh2+]cc2-0', 'c1cc(c(=o)[nh]c1)cn2cc[nh2+]cc2-1', 'cc(c)s(=o)(=o)c1cccs1-0', 'cc(c)s(=o)(=o)c1cccs1-1', 'coc1ccccc1f-0', 'cc1ccccc1oc2ccccc2-0', 'cc1ccccc1oc2ccccc2-1', 'cc1ccccc1s(=o)(=o)n(c)c-0', 'cc1ccccc1s(=o)(=o)n(c)c-1', 'cc1ccccc1c2ccccc2c3ccccc3-0', 'cc1ccccc1c2ccccc2c3ccccc3-1', 'c1ccc(cc1)coc2ccccc2-0', 'c1ccc(cc1)coc2ccccc2-1', 'cc1ccccc1c(=o)c2ccccc2f-0', 'cc1ccccc1c(=o)c2ccccc2f-1', 'cc1ccccc1c(=o)c2ccccc2f-2', 'cc1ccccc1c(=o)c2ccccc2f-3', 'cc1ccccc1c(=o)c2ccccc2f-4', 'cc1ccccc1c(=o)c2ccccc2f-5', 'cc1ccccc1c(=o)c2ccccc2f-6', 'cc1ccccc1c(=o)c2ccccc2f-7', 'c1ccc(cc1)c[n@@]2ccccs2(=o)=o-0', 'c1ccc(cc1)c[n@@]2ccccs2(=o)=o-1', 'c1ccc(cc1)c[n@@]2ccccs2(=o)=o-2', 'c1ccc(cc1)c[n@@]2ccccs2(=o)=o-3', 'c1ccc(cc1)c[n@@]2ccccs2(=o)=o-4', 'c1cnc(nc1)cn2cc[nh2+]cc2-0', 'cc1ccccc1c(=o)n2ccccc2-0', 'cc1ccccc1c(=o)n2ccccc2-1', 'ccn1ccccc1=o-0', 'c[c@h](c1ccccc1)c2[nh]ccn2-0', 'c1ccc(cc1)c2ccccc2[c@h]3cccc(=o)n3-0', 'c1ccc(cc1)c2ccccc2[c@h]3cccc(=o)n3-1', 'ccc(=o)nc-0', 'c[c@@h](c1ccccc1)c(=o)nc-0', 'c[c@@h](c1ccccc1)c(=o)nc-1', 'c[c@@h](c1ccccc1)c(=o)nc-2', 'c1ccc(cc1)s(=o)(=o)c2cc2-0', 'cc(c)c1nccn1c-0', 'c1cc1(co)o-0', 'c1cc1(co)o-1', 'c1cc1(co)o-2', 'cn1ccc(c1c(=o)n(c)c)o-0', 'cn1ccc(c1c(=o)n(c)c)o-1', 'cc1cccc(c1oc)o-0', 'c1ccc(cc1)cn2ccnc2-0', 'c1ccc(cc1)cn2ccnc2-1', 'c1ccc(cc1)[c@@h]2cccnc2=o-0', 'cc1cccc(c1s(=o)(=o)c2ccccc2)c-0', 'cc1cccc(c1oc)c-0', 'c[c@@h](c1ccccc1)oc2ccccc2-0', 'c[c@@h](c1ccccc1)oc2ccccc2-1', 'c[c@@h](c1ccccc1)oc2ccccc2-2', 'c[c@@h](c1ccccc1)oc2ccccc2-3', 'ccs(=o)(=o)n(c)c-0', 'cc1ccccc1c(=o)c2ccccc2-0', 'cc1ccccc1c(=o)c2ccccc2-1', 'cc[n@@]1ccccs1(=o)=o-0', 'cc[n@@]1ccccs1(=o)=o-1', 'cn(c)c1ccccn1-0', 'c1ccc(=o)ncc1-0', 'cs(=o)(=o)cc1ccccc1-0', 'cs(=o)(=o)cc1ccccc1-1', 'cs(=o)(=o)cc1ccccc1-2', 'cc1ccccc1oc-0', 'coc1ccccn1-0', 'cc1ccccc1coc2ccccc2-0', 'cc1ccccc1coc2ccccc2-1', 'cc1ccccc1coc2ccccc2-2', 'cn(c)s(=o)(=o)c1ccccn1-0', 'cn(c)s(=o)(=o)c1ccccn1-1', 'cn(c)s(=o)(=o)c1ccccn1-2', 'cc1ccccc1c2ccccc2-0', 'cc(=o)c1c(cccc1f)f-0', 'cn1c(=o)cccc1oc-0', 'c1ccc(c(c1)o)oc2ccccn2-0', 'c1ccc(c(c1)o)oc2ccccn2-1', 'c1ccc(c(c1)o)oc2ccccn2-2', 'c1ccc(c(c1)o)oc2ccccn2-3', 'c1ccc(c(c1)o)oc2ccccn2-4', 'c1ccc(c(c1)o)oc2ccccn2-5', 'cc1ccnn1c2ccccc2oc-0', 'cc1ccnn1c2ccccc2oc-1', 'cc1ccccc1oc2ccccc2-0a', 'cc1ccccc1oc2ccccc2-1a', 'cc1ccccc1oc2ccccc2-2a', 'cc1ccccc1oc2ccccc2-3a', 'coc1cccc(c1oc)f-0', 'c1ccnc(c1)c2ccccn2-0', 'c1ccnc(c1)c2ccccn2-1', 'c1ccc(cc1)c(=o)n2ccccc2-0', 'c1ccc(cc1)c(=o)n2ccccc2-1', 'c1ccc(cc1)s(=o)(=o)c2ccccc2-0', 'cc1=ncc(=o)n(c2c1cccc2)c-0', 'cc1=ncc(=o)n(c2c1cccc2)c-1', 'ccc1ccccc1oc-0', 'c[s@@](=n)(=o)c1ccccc1-0', 'c1ccc(cc1)c2ccccc2c3ccccc3-0', 'c1cnc(nc1)c2ncco2-0', 'cn1ccnc1c2ccccc2-0', 'cn(c)s(=o)(=o)c1ncco1-0', 'cn(c)s(=o)(=o)c1ncco1-1', 'c1ccnc(c1)c2ncco2-0', 'c1ccnc(c1)c2ncco2-1', 'cc1ccnn1c2ncccn2-0', 'cc1cccc(c1nc)oc-0', 'cc1cccc(c1oc)f-0', 'c1ccc(cc1)cnc2ccccc2-0', 'c1ccc(cc1)cnc2ccccc2-1', 'c1ccc(cc1)cnc2ccccc2-2', 'c1ccc2c(c1)cccnc2=o-0', 'c1ccc2c(c1)cccnc2=o-1', 'cc1=ncc(=o)nc2c1cccc2-0', 'cn(c)c(=o)[c@h](c1ccccc1)oc-0', 'cn(c)c(=o)[c@h](c1ccccc1)oc-1', 'cn(c)c(=o)[c@h](c1ccccc1)oc-2', 'coc1ccccc1nc(=o)nc2ccccn2-0', 'coc1ccccc1nc(=o)nc2ccccn2-1', 'coc1ccccc1nc(=o)nc2ccccn2-2', 'coc1ccccc1nc(=o)nc2ccccn2-3', 'coc1ccccc1nc(=o)nc2ccccn2-4', 'coc1ccccc1nc(=o)nc2ccccn2-5', 'c1ccc(cc1)c2ccccc2c3ncccn3-0', 'cc1cccc(c1n2cc[nh2+]cc2)c-0', 'c1cc(c(=o)[nh]c1)c2cc[nh2+]cc2-0', 'c[c@h](c1ccccc1)s(=o)(=o)c-0', 'c[c@h](c1ccccc1)s(=o)(=o)c-1', 'c[c@h](c1ccccc1)s(=o)(=o)c-2', 'c1ccc(cc1)c2=ncc(=o)nc3c2cccc3-0', 'c1ccc(cc1)c2=ncc(=o)nc3c2cccc3-1', 'coc1ccccc1-0', 'cc1cccnc1oc-0', 'c1ccc(cc1)oc2ccccc2-0', 'c1ccc(cc1)ns(=o)(=o)c2ccccc2-0', 'c1ccc(cc1)ns(=o)(=o)c2ccccc2-1', 'c1ccc(cc1)ns(=o)(=o)c2ccccc2-2', 'c1ccc(cc1)ns(=o)(=o)c2ccccc2-3', 'cc(=o)c1ccccc1f-0', 'cc(=o)c1ccccc1f-1', 'c1ccc(c(c1)c2ccccn2)c3ncco3-0', 'c1ccc(c(c1)c2ccccn2)c3ncco3-1', 'c1ccc(c(c1)c2ccccn2)c3ncco3-2', 'cn(c)c(=o)c1cccc(=o)[nh]1-0', 'cn(c)c(=o)c1cccc(=o)[nh]1-1', 'c1ccnc(c1)c2cc2-0', 'c1ccc(cc1)c(=o)c2ccccc2o-0', 'c1ccc(cc1)c(=o)c2ccccc2o-1', 'c1ccc(cc1)oc2ccccn2-0', 'c1ccc(cc1)oc2ccccn2-1', 'c1ccc(cc1)oc2ccccn2-2', 'cn(c)s(=o)(=o)c1ccccc1-0', 'c1ccc(cc1)c2ccccc2c3cccc(=o)[nh]3-0', 'c1ccc(cc1)c2ccccc2c3cccc(=o)[nh]3-1', 'c1ccc(cc1)c2ncccn2-0', 'coc1cccnc1n2cccn2-0', 'coc1cccnc1n2cccn2-1', 'c[c@@h]1ccccn1c(=o)c2ccccc2-0', 'c[c@@h]1ccccn1c(=o)c2ccccc2-1', 'cc1ccccc1c2=ncc(=o)nc3c2cccc3-0', 'cc1ccccc1c2=ncc(=o)nc3c2cccc3-1', 'cc1ccccc1c2=ncc(=o)nc3c2cccc3-2', 'cc1ccccc1c2=ncc(=o)nc3c2cccc3-3', 'cc(=o)c1ccccc1o-0', 'cc(=o)c1ccccc1o-1', 'cc1cccc2c1c(=o)nccc2-0', 'cc1cccc2c1c(=o)nccc2-1', 'c1ccc2c(c1)c(=o)ccn2c3cccc3-0', 'c1ccc(cc1)c2ccccc2-0', 'cc1ccnn1c2ccccc2-0', 'cn(c)c(=o)c1ccc[nh]c1=o-0', 'cn(c)c(=o)c1ccc[nh]c1=o-1', 'c1ccc(cc1)c(=o)c2ncccn2-0', 'c1ccc(c(c1)c2ccccn2)n-0', 'c1ccc(c(c1)c2ccccn2)n-1', 'cnc(=o)c1c(cc[nh]1)o-0', 'cnc(=o)c1c(cc[nh]1)o-1', 'coc1ccccc1o-0', 'cn(c)c(=o)c1c(cc[nh]1)oc-0', 'cn(c)c(=o)c1c(cc[nh]1)oc-1', 'cn(c)c(=o)c1c(cc[nh]1)oc-2', 'cn(c)c(=o)c1c(cc[nh]1)oc-3', 'cn1c(ccn1)oc-0', 'c1ccnc(c1)oc2ccccc2-0', 'c1ccnc(c1)oc2ccccc2-1', 'c1ccnc(c1)oc2ccccc2-2', 'c1ccnc(c1)oc2ccccc2-3', 'c1ccnc(c1)c2coc2-0', 'cc1(ccc1)c2ccccc2-0', 'c1c(co1)(co)o-0', 'c1c(co1)(co)o-1', 'c1ccn(c(=o)c1)c2cc2-0', 'c1cc2c(=o)ccn(c2nc1)c3cc3-0', 'cnc(=o)c1(cc1)f-0', 'cnc(=o)c1(cc1)f-1', 'c1ccc2c(c1)c(=ncc(=o)n2)c3ccccc3cl-0', 'c1ccc2c(c1)c(=ncc(=o)n2)c3ccccc3cl-1', 'c1ccc2c(c1)c(=ncc(=o)n2)c3ccccc3cl-2', 'c1ccc2c(c1)c(=ncc(=o)n2)c3ccccc3cl-3', 'cc(=o)nc1ccccn1-0', 'cc(=o)nc1ccccn1-1', 'cc(=o)c1ccc[nh]c1=o-0', 'cc(=o)c1ccc[nh]c1=o-1', 'cc(=o)oc1cccc(=o)[nh]1-0', 'cc(=o)oc1cccc(=o)[nh]1-1', 'cn(c)c(=o)nc1ccccc1-0', 'cn(c)c(=o)nc1ccccc1-1', 'cnc(=o)c1cccc(=o)[nh]1-0', 'cnc(=o)c1cccc(=o)[nh]1-1', 'c1ccc(cc1)n2cc[nh2+]cc2-0', 'c1ccc(cc1)c2=ncc(=o)nc3c2c(ccc3)f-0', 'c1ccc(cc1)c2=ncc(=o)nc3c2c(ccc3)f-1', 'c1ccc(cc1)c2ccccc2c3[nh]ccn3-0', 'cc1ccnn1c2ccccc2f-0', 'cc1ccnn1c2ccccc2f-1', 'c1ccc(cc1)n2ccccc2=o-0', 'c1ccc(cc1)nc2ccccn2-0', 'c1ccc(cc1)nc2ccccn2-1', 'c1ccc(cc1)c2[nh]ccn2-0', 'c1ccc(cc1)c(=o)nc2ncco2-0', 'c1ccc(cc1)c(=o)nc2ncco2-1', 'c1ccc(cc1)c(=o)nc2ncco2-2', 'c1ccc(cc1)c(=o)nc2ncco2-3', 'cc1cccc(c1nc)f-0', 'cn(c)s(=o)(=o)c1cccs1-0', 'cn(c)s(=o)(=o)c1cccs1-1', 'c1ccc(cc1)n2c(=o)cccn2-0', 'cn(c)s(=o)(=o)c1[nh]ccn1-0', 'cn1ccnc1c2ncccn2-0', 'c1cnc(nc1)n2cc[nh2+]cc2-0', 'c1ccc(cc1)oc2ncccn2-0', 'c1ccnc(c1)nc2ncco2-0', 'c1ccnc(c1)nc2ncco2-1', 'c1ccnc(c1)nc2ncco2-2', 'c1ccnc(c1)nc2ncco2-3', 'cnc(=o)c1cccoc1=o-0', 'cnc(=o)c1cccoc1=o-1', 'c1ccc(cc1)nc2ncco2-0', 'c1ccc(cc1)nc2ncco2-1', 'cn(c1ncco1)c(=o)c2ccccc2-0', 'cn(c1ncco1)c(=o)c2ccccc2-1', 'cn(c1ncco1)c(=o)c2ccccc2-2', 'cn(c1ncco1)c(=o)c2ccccc2-3', 'cc(=o)n(c)c1cccs1-0', 'cc(=o)n(c)c1cccs1-1', 'cc(=o)n(c)c1cccs1-2', 'cc(=o)n(c)c1cccs1-3', 'cn(c)c(=o)c1cccs1-0', 'cn(c)c(=o)c1cccs1-1', 'cc(=o)ncc1nccn1c-0', 'cc(=o)ncc1nccn1c-1', 'cc(=o)ncc1nccn1c-2', 'cc(=o)ncc1nccn1c-3', 'cc(=o)ncc1nccn1c-4', 'cc(=o)ncc1nccn1c-5', 'c1ccc(cc1)c2(cc2)nc3ccccc3-0', 'c1ccc(cc1)c2(cc2)nc3ccccc3-1', 'c1ccc(cc1)c2(cc2)nc3ccccc3-2', 'c1ccc(cc1)c2(cc2)nc3ccccc3-3', 'c1ccc2c(c1)c(=o)ccn2c3cc3-0', 'c1ccc(cc1)s(=o)(=o)n2cccc2-0', 'c1ccc(cc1)s(=o)(=o)n2cccc2-1', 'cnc(=o)c1c(ccn1c)cl-0', 'cnc(=o)c1c(ccn1c)cl-1', 'cc(=o)oc1cccc(=o)n1c-0', 'cc(=o)oc1cccc(=o)n1c-1', 'coc1ccccc1oc-0', 'c1cc(c(nc1)n2cccn2)f-0', 'c1cc(c(nc1)n2cccn2)f-1', 'cc1ccccc1s(=o)(=o)c2ccccc2c-0', 'cc1ccccc1s(=o)(=o)c2ccccc2c-1', 'cn(c)s(=o)(=o)c1ccccc1o-0', 'cn(c)s(=o)(=o)c1ccccc1o-1', 'cn(c)s(=o)(=o)c1ccccc1o-2', 'cs(=o)(=o)c1ccccc1-0', 'c1ccc(cc1)s(=o)(=o)c(f)(f)f-0', 'c[c@h](c1ccccc1)f-0', 'c1ccc(cc1)c2cc[nh2+]cc2-0', 'c1ccc(c(c1)c[n@@]2ccccs2(=o)=o)o-0', 'c1ccc(c(c1)c[n@@]2ccccs2(=o)=o)o-1', 'c1ccc(c(c1)c[n@@]2ccccs2(=o)=o)o-2', 'c1ccc(c(c1)c[n@@]2ccccs2(=o)=o)o-3', 'c1ccc(c(c1)c[n@@]2ccccs2(=o)=o)o-4', 'c1ccc(c(c1)c[n@@]2ccccs2(=o)=o)o-5', 'c1ccc(c(c1)c[n@@]2ccccs2(=o)=o)o-6', 'c1ccc(c(c1)c[n@@]2ccccs2(=o)=o)o-7', 'c1ccc(c(c1)c[n@@]2ccccs2(=o)=o)o-8', 'c1ccc(c(c1)c[n@@]2ccccs2(=o)=o)o-9', 'c[s@](=o)c1ccccc1-0', 'c1ccnc(c1)c2[n-]nnn2-0', 'cc1ccccc1c2[n-]nnn2-0', 'c1cc(c2c(c1)non2)c3c=cnc=c3-0', 'c1cc(c2c(c1)non2)c3c=cnc=c3-1', 'c1cc(c2c(c1)non2)c3c=cnc=c3-2', 'c1ccc(c(c1)c#n)nc(=o)nc2ccccn2-0', 'c1ccc(c(c1)c#n)nc(=o)nc2ccccn2-1', 'c1ccc(c(c1)c#n)nc(=o)nc2ccccn2-2', 'c1ccc(c(c1)c#n)nc(=o)nc2ccccn2-3', 'c1ccc(c(c1)c#n)nc(=o)nc2ccccn2-4', 'c1ccc(c(c1)c2c=cnc=c2)[n+](=o)[o-]-0', 'c1ccc(c(c1)c2c=cnc=c2)[n+](=o)[o-]-1']\n"
     ]
    }
   ],
   "source": [
    "# vizualize trajectory\n",
    "record_names = list(openff_gen2_opt_set1.data.records)\n",
    "print(record_names)"
   ]
  },
  {
   "cell_type": "code",
   "execution_count": 66,
   "id": "ff6b0369-6ee5-47fa-aa00-39f8f0a9836b",
   "metadata": {},
   "outputs": [
    {
     "name": "stdout",
     "output_type": "stream",
     "text": [
      "cn1c(cccc1=o)c2ccccc2oc-0\n"
     ]
    }
   ],
   "source": [
    "opt_record = openff_gen2_opt_set1.get_record(record_names[0], specification=\"default\")\n",
    "print(record_names[0])"
   ]
  },
  {
   "cell_type": "code",
   "execution_count": 67,
   "id": "b63d3c27-892e-420e-865e-a7466970b63c",
   "metadata": {},
   "outputs": [
    {
     "data": {
      "text/plain": [
       "QCSpecification(driver=<DriverEnum.gradient: 'gradient'>, method='b3lyp-d3bj', basis='dzvp', keywords='2', protocols=ResultProtocols(wavefunction=<WavefunctionProtocolEnum.none: 'none'>, stdout=True, error_correction=ErrorCorrectionProtocol(default_policy=True, policies=None), native_files=<NativeFilesProtocolEnum.none: 'none'>), program='psi4')"
      ]
     },
     "execution_count": 67,
     "metadata": {},
     "output_type": "execute_result"
    }
   ],
   "source": [
    "opt_record.qc_spec"
   ]
  },
  {
   "cell_type": "code",
   "execution_count": 68,
   "id": "3f0663fd-575a-428e-9e6a-bfeba18bdedb",
   "metadata": {},
   "outputs": [
    {
     "data": {
      "application/vnd.jupyter.widget-view+json": {
       "model_id": "50b147aa31b942249c0448025fdea4a5",
       "version_major": 2,
       "version_minor": 0
      },
      "text/plain": [
       "NGLWidget()"
      ]
     },
     "metadata": {},
     "output_type": "display_data"
    }
   ],
   "source": [
    "opt_record.get_initial_molecule()"
   ]
  },
  {
   "cell_type": "code",
   "execution_count": 69,
   "id": "b11dc1f2-179c-4fda-8e86-fd2ed595c280",
   "metadata": {},
   "outputs": [
    {
     "data": {
      "text/html": [
       "        <script type=\"text/javascript\">\n",
       "        window.PlotlyConfig = {MathJaxConfig: 'local'};\n",
       "        if (window.MathJax && window.MathJax.Hub && window.MathJax.Hub.Config) {window.MathJax.Hub.Config({SVG: {font: \"STIX-Web\"}});}\n",
       "        if (typeof require !== 'undefined') {\n",
       "        require.undef(\"plotly\");\n",
       "        requirejs.config({\n",
       "            paths: {\n",
       "                'plotly': ['https://cdn.plot.ly/plotly-2.18.2.min']\n",
       "            }\n",
       "        });\n",
       "        require(['plotly'], function(Plotly) {\n",
       "            window._Plotly = Plotly;\n",
       "        });\n",
       "        }\n",
       "        </script>\n",
       "        "
      ]
     },
     "metadata": {},
     "output_type": "display_data"
    },
    {
     "data": {
      "application/vnd.plotly.v1+json": {
       "config": {
        "linkText": "Export to plot.ly",
        "plotlyServerURL": "https://plot.ly",
        "showLink": false
       },
       "data": [
        {
         "mode": "lines+markers",
         "type": "scatter",
         "x": [
          1,
          2,
          3,
          4,
          5,
          6,
          7,
          8,
          9,
          10,
          11,
          12,
          13,
          14,
          15,
          16,
          17,
          18,
          19,
          20,
          21,
          22,
          23,
          24,
          25,
          26,
          27,
          28,
          29,
          30,
          31,
          32,
          33,
          34,
          35,
          36,
          37,
          38,
          39,
          40,
          41,
          42,
          43,
          44,
          45,
          46,
          47,
          48,
          49,
          50,
          51,
          52,
          53,
          54,
          55,
          56,
          57,
          58,
          59
         ],
         "y": [
          9.803,
          3.509,
          3.201,
          1.491,
          1.514,
          1.248,
          1.181,
          1.12,
          1.048,
          1.018,
          1.012,
          1.004,
          1.005,
          1.002,
          1,
          0.996,
          1.504,
          0.945,
          0.872,
          0.693,
          0.435,
          0.193,
          0.11,
          0.066,
          0.017,
          0.005,
          0.002,
          0,
          0,
          0,
          0.001,
          0.001,
          0.001,
          0.001,
          0.001,
          0.001,
          0,
          0.001,
          0.001,
          0.002,
          0.001,
          0.001,
          0.001,
          0,
          0,
          0,
          0,
          0,
          0,
          0,
          0,
          0,
          0,
          0,
          0,
          0,
          0,
          0.001,
          0.001
         ]
        }
       ],
       "layout": {
        "autosize": true,
        "template": {
         "data": {
          "bar": [
           {
            "error_x": {
             "color": "#2a3f5f"
            },
            "error_y": {
             "color": "#2a3f5f"
            },
            "marker": {
             "line": {
              "color": "#E5ECF6",
              "width": 0.5
             },
             "pattern": {
              "fillmode": "overlay",
              "size": 10,
              "solidity": 0.2
             }
            },
            "type": "bar"
           }
          ],
          "barpolar": [
           {
            "marker": {
             "line": {
              "color": "#E5ECF6",
              "width": 0.5
             },
             "pattern": {
              "fillmode": "overlay",
              "size": 10,
              "solidity": 0.2
             }
            },
            "type": "barpolar"
           }
          ],
          "carpet": [
           {
            "aaxis": {
             "endlinecolor": "#2a3f5f",
             "gridcolor": "white",
             "linecolor": "white",
             "minorgridcolor": "white",
             "startlinecolor": "#2a3f5f"
            },
            "baxis": {
             "endlinecolor": "#2a3f5f",
             "gridcolor": "white",
             "linecolor": "white",
             "minorgridcolor": "white",
             "startlinecolor": "#2a3f5f"
            },
            "type": "carpet"
           }
          ],
          "choropleth": [
           {
            "colorbar": {
             "outlinewidth": 0,
             "ticks": ""
            },
            "type": "choropleth"
           }
          ],
          "contour": [
           {
            "colorbar": {
             "outlinewidth": 0,
             "ticks": ""
            },
            "colorscale": [
             [
              0,
              "#0d0887"
             ],
             [
              0.1111111111111111,
              "#46039f"
             ],
             [
              0.2222222222222222,
              "#7201a8"
             ],
             [
              0.3333333333333333,
              "#9c179e"
             ],
             [
              0.4444444444444444,
              "#bd3786"
             ],
             [
              0.5555555555555556,
              "#d8576b"
             ],
             [
              0.6666666666666666,
              "#ed7953"
             ],
             [
              0.7777777777777778,
              "#fb9f3a"
             ],
             [
              0.8888888888888888,
              "#fdca26"
             ],
             [
              1,
              "#f0f921"
             ]
            ],
            "type": "contour"
           }
          ],
          "contourcarpet": [
           {
            "colorbar": {
             "outlinewidth": 0,
             "ticks": ""
            },
            "type": "contourcarpet"
           }
          ],
          "heatmap": [
           {
            "colorbar": {
             "outlinewidth": 0,
             "ticks": ""
            },
            "colorscale": [
             [
              0,
              "#0d0887"
             ],
             [
              0.1111111111111111,
              "#46039f"
             ],
             [
              0.2222222222222222,
              "#7201a8"
             ],
             [
              0.3333333333333333,
              "#9c179e"
             ],
             [
              0.4444444444444444,
              "#bd3786"
             ],
             [
              0.5555555555555556,
              "#d8576b"
             ],
             [
              0.6666666666666666,
              "#ed7953"
             ],
             [
              0.7777777777777778,
              "#fb9f3a"
             ],
             [
              0.8888888888888888,
              "#fdca26"
             ],
             [
              1,
              "#f0f921"
             ]
            ],
            "type": "heatmap"
           }
          ],
          "heatmapgl": [
           {
            "colorbar": {
             "outlinewidth": 0,
             "ticks": ""
            },
            "colorscale": [
             [
              0,
              "#0d0887"
             ],
             [
              0.1111111111111111,
              "#46039f"
             ],
             [
              0.2222222222222222,
              "#7201a8"
             ],
             [
              0.3333333333333333,
              "#9c179e"
             ],
             [
              0.4444444444444444,
              "#bd3786"
             ],
             [
              0.5555555555555556,
              "#d8576b"
             ],
             [
              0.6666666666666666,
              "#ed7953"
             ],
             [
              0.7777777777777778,
              "#fb9f3a"
             ],
             [
              0.8888888888888888,
              "#fdca26"
             ],
             [
              1,
              "#f0f921"
             ]
            ],
            "type": "heatmapgl"
           }
          ],
          "histogram": [
           {
            "marker": {
             "pattern": {
              "fillmode": "overlay",
              "size": 10,
              "solidity": 0.2
             }
            },
            "type": "histogram"
           }
          ],
          "histogram2d": [
           {
            "colorbar": {
             "outlinewidth": 0,
             "ticks": ""
            },
            "colorscale": [
             [
              0,
              "#0d0887"
             ],
             [
              0.1111111111111111,
              "#46039f"
             ],
             [
              0.2222222222222222,
              "#7201a8"
             ],
             [
              0.3333333333333333,
              "#9c179e"
             ],
             [
              0.4444444444444444,
              "#bd3786"
             ],
             [
              0.5555555555555556,
              "#d8576b"
             ],
             [
              0.6666666666666666,
              "#ed7953"
             ],
             [
              0.7777777777777778,
              "#fb9f3a"
             ],
             [
              0.8888888888888888,
              "#fdca26"
             ],
             [
              1,
              "#f0f921"
             ]
            ],
            "type": "histogram2d"
           }
          ],
          "histogram2dcontour": [
           {
            "colorbar": {
             "outlinewidth": 0,
             "ticks": ""
            },
            "colorscale": [
             [
              0,
              "#0d0887"
             ],
             [
              0.1111111111111111,
              "#46039f"
             ],
             [
              0.2222222222222222,
              "#7201a8"
             ],
             [
              0.3333333333333333,
              "#9c179e"
             ],
             [
              0.4444444444444444,
              "#bd3786"
             ],
             [
              0.5555555555555556,
              "#d8576b"
             ],
             [
              0.6666666666666666,
              "#ed7953"
             ],
             [
              0.7777777777777778,
              "#fb9f3a"
             ],
             [
              0.8888888888888888,
              "#fdca26"
             ],
             [
              1,
              "#f0f921"
             ]
            ],
            "type": "histogram2dcontour"
           }
          ],
          "mesh3d": [
           {
            "colorbar": {
             "outlinewidth": 0,
             "ticks": ""
            },
            "type": "mesh3d"
           }
          ],
          "parcoords": [
           {
            "line": {
             "colorbar": {
              "outlinewidth": 0,
              "ticks": ""
             }
            },
            "type": "parcoords"
           }
          ],
          "pie": [
           {
            "automargin": true,
            "type": "pie"
           }
          ],
          "scatter": [
           {
            "fillpattern": {
             "fillmode": "overlay",
             "size": 10,
             "solidity": 0.2
            },
            "type": "scatter"
           }
          ],
          "scatter3d": [
           {
            "line": {
             "colorbar": {
              "outlinewidth": 0,
              "ticks": ""
             }
            },
            "marker": {
             "colorbar": {
              "outlinewidth": 0,
              "ticks": ""
             }
            },
            "type": "scatter3d"
           }
          ],
          "scattercarpet": [
           {
            "marker": {
             "colorbar": {
              "outlinewidth": 0,
              "ticks": ""
             }
            },
            "type": "scattercarpet"
           }
          ],
          "scattergeo": [
           {
            "marker": {
             "colorbar": {
              "outlinewidth": 0,
              "ticks": ""
             }
            },
            "type": "scattergeo"
           }
          ],
          "scattergl": [
           {
            "marker": {
             "colorbar": {
              "outlinewidth": 0,
              "ticks": ""
             }
            },
            "type": "scattergl"
           }
          ],
          "scattermapbox": [
           {
            "marker": {
             "colorbar": {
              "outlinewidth": 0,
              "ticks": ""
             }
            },
            "type": "scattermapbox"
           }
          ],
          "scatterpolar": [
           {
            "marker": {
             "colorbar": {
              "outlinewidth": 0,
              "ticks": ""
             }
            },
            "type": "scatterpolar"
           }
          ],
          "scatterpolargl": [
           {
            "marker": {
             "colorbar": {
              "outlinewidth": 0,
              "ticks": ""
             }
            },
            "type": "scatterpolargl"
           }
          ],
          "scatterternary": [
           {
            "marker": {
             "colorbar": {
              "outlinewidth": 0,
              "ticks": ""
             }
            },
            "type": "scatterternary"
           }
          ],
          "surface": [
           {
            "colorbar": {
             "outlinewidth": 0,
             "ticks": ""
            },
            "colorscale": [
             [
              0,
              "#0d0887"
             ],
             [
              0.1111111111111111,
              "#46039f"
             ],
             [
              0.2222222222222222,
              "#7201a8"
             ],
             [
              0.3333333333333333,
              "#9c179e"
             ],
             [
              0.4444444444444444,
              "#bd3786"
             ],
             [
              0.5555555555555556,
              "#d8576b"
             ],
             [
              0.6666666666666666,
              "#ed7953"
             ],
             [
              0.7777777777777778,
              "#fb9f3a"
             ],
             [
              0.8888888888888888,
              "#fdca26"
             ],
             [
              1,
              "#f0f921"
             ]
            ],
            "type": "surface"
           }
          ],
          "table": [
           {
            "cells": {
             "fill": {
              "color": "#EBF0F8"
             },
             "line": {
              "color": "white"
             }
            },
            "header": {
             "fill": {
              "color": "#C8D4E3"
             },
             "line": {
              "color": "white"
             }
            },
            "type": "table"
           }
          ]
         },
         "layout": {
          "annotationdefaults": {
           "arrowcolor": "#2a3f5f",
           "arrowhead": 0,
           "arrowwidth": 1
          },
          "autotypenumbers": "strict",
          "coloraxis": {
           "colorbar": {
            "outlinewidth": 0,
            "ticks": ""
           }
          },
          "colorscale": {
           "diverging": [
            [
             0,
             "#8e0152"
            ],
            [
             0.1,
             "#c51b7d"
            ],
            [
             0.2,
             "#de77ae"
            ],
            [
             0.3,
             "#f1b6da"
            ],
            [
             0.4,
             "#fde0ef"
            ],
            [
             0.5,
             "#f7f7f7"
            ],
            [
             0.6,
             "#e6f5d0"
            ],
            [
             0.7,
             "#b8e186"
            ],
            [
             0.8,
             "#7fbc41"
            ],
            [
             0.9,
             "#4d9221"
            ],
            [
             1,
             "#276419"
            ]
           ],
           "sequential": [
            [
             0,
             "#0d0887"
            ],
            [
             0.1111111111111111,
             "#46039f"
            ],
            [
             0.2222222222222222,
             "#7201a8"
            ],
            [
             0.3333333333333333,
             "#9c179e"
            ],
            [
             0.4444444444444444,
             "#bd3786"
            ],
            [
             0.5555555555555556,
             "#d8576b"
            ],
            [
             0.6666666666666666,
             "#ed7953"
            ],
            [
             0.7777777777777778,
             "#fb9f3a"
            ],
            [
             0.8888888888888888,
             "#fdca26"
            ],
            [
             1,
             "#f0f921"
            ]
           ],
           "sequentialminus": [
            [
             0,
             "#0d0887"
            ],
            [
             0.1111111111111111,
             "#46039f"
            ],
            [
             0.2222222222222222,
             "#7201a8"
            ],
            [
             0.3333333333333333,
             "#9c179e"
            ],
            [
             0.4444444444444444,
             "#bd3786"
            ],
            [
             0.5555555555555556,
             "#d8576b"
            ],
            [
             0.6666666666666666,
             "#ed7953"
            ],
            [
             0.7777777777777778,
             "#fb9f3a"
            ],
            [
             0.8888888888888888,
             "#fdca26"
            ],
            [
             1,
             "#f0f921"
            ]
           ]
          },
          "colorway": [
           "#636efa",
           "#EF553B",
           "#00cc96",
           "#ab63fa",
           "#FFA15A",
           "#19d3f3",
           "#FF6692",
           "#B6E880",
           "#FF97FF",
           "#FECB52"
          ],
          "font": {
           "color": "#2a3f5f"
          },
          "geo": {
           "bgcolor": "white",
           "lakecolor": "white",
           "landcolor": "#E5ECF6",
           "showlakes": true,
           "showland": true,
           "subunitcolor": "white"
          },
          "hoverlabel": {
           "align": "left"
          },
          "hovermode": "closest",
          "mapbox": {
           "style": "light"
          },
          "paper_bgcolor": "white",
          "plot_bgcolor": "#E5ECF6",
          "polar": {
           "angularaxis": {
            "gridcolor": "white",
            "linecolor": "white",
            "ticks": ""
           },
           "bgcolor": "#E5ECF6",
           "radialaxis": {
            "gridcolor": "white",
            "linecolor": "white",
            "ticks": ""
           }
          },
          "scene": {
           "xaxis": {
            "backgroundcolor": "#E5ECF6",
            "gridcolor": "white",
            "gridwidth": 2,
            "linecolor": "white",
            "showbackground": true,
            "ticks": "",
            "zerolinecolor": "white"
           },
           "yaxis": {
            "backgroundcolor": "#E5ECF6",
            "gridcolor": "white",
            "gridwidth": 2,
            "linecolor": "white",
            "showbackground": true,
            "ticks": "",
            "zerolinecolor": "white"
           },
           "zaxis": {
            "backgroundcolor": "#E5ECF6",
            "gridcolor": "white",
            "gridwidth": 2,
            "linecolor": "white",
            "showbackground": true,
            "ticks": "",
            "zerolinecolor": "white"
           }
          },
          "shapedefaults": {
           "line": {
            "color": "#2a3f5f"
           }
          },
          "ternary": {
           "aaxis": {
            "gridcolor": "white",
            "linecolor": "white",
            "ticks": ""
           },
           "baxis": {
            "gridcolor": "white",
            "linecolor": "white",
            "ticks": ""
           },
           "bgcolor": "#E5ECF6",
           "caxis": {
            "gridcolor": "white",
            "linecolor": "white",
            "ticks": ""
           }
          },
          "title": {
           "x": 0.05
          },
          "xaxis": {
           "automargin": true,
           "gridcolor": "white",
           "linecolor": "white",
           "ticks": "",
           "title": {
            "standoff": 15
           },
           "zerolinecolor": "white",
           "zerolinewidth": 2
          },
          "yaxis": {
           "automargin": true,
           "gridcolor": "white",
           "linecolor": "white",
           "ticks": "",
           "title": {
            "standoff": 15
           },
           "zerolinecolor": "white",
           "zerolinewidth": 2
          }
         }
        },
        "title": {
         "text": "Geometry Optimization"
        },
        "xaxis": {
         "range": [
          1,
          59
         ],
         "title": {
          "text": "Optimization Step"
         },
         "type": "linear"
        },
        "yaxis": {
         "autorange": true,
         "range": [
          -0.8089854368932039,
          10.611985436893205
         ],
         "title": {
          "text": "Relative Energy [kcal/mol]"
         },
         "type": "linear",
         "zeroline": true
        }
       }
      },
      "image/png": "[encoded data removed]",
      "text/html": [
       "<div>                            <div id=\"cba58a9c-51f0-4673-b7c4-4d705bcff372\" class=\"plotly-graph-div\" style=\"height:525px; width:100%;\"></div>            <script type=\"text/javascript\">                require([\"plotly\"], function(Plotly) {                    window.PLOTLYENV=window.PLOTLYENV || {};                                    if (document.getElementById(\"cba58a9c-51f0-4673-b7c4-4d705bcff372\")) {                    Plotly.newPlot(                        \"cba58a9c-51f0-4673-b7c4-4d705bcff372\",                        [{\"mode\":\"lines+markers\",\"x\":[1,2,3,4,5,6,7,8,9,10,11,12,13,14,15,16,17,18,19,20,21,22,23,24,25,26,27,28,29,30,31,32,33,34,35,36,37,38,39,40,41,42,43,44,45,46,47,48,49,50,51,52,53,54,55,56,57,58,59],\"y\":[9.803,3.509,3.201,1.491,1.514,1.248,1.181,1.12,1.048,1.018,1.012,1.004,1.005,1.002,1.0,0.996,1.504,0.945,0.872,0.693,0.435,0.193,0.11,0.066,0.017,0.005,0.002,0.0,0.0,0.0,0.001,0.001,0.001,0.001,0.001,0.001,0.0,0.001,0.001,0.002,0.001,0.001,0.001,0.0,0.0,0.0,0.0,0.0,0.0,0.0,0.0,0.0,0.0,0.0,0.0,0.0,0.0,0.001,0.001],\"type\":\"scatter\"}],                        {\"template\":{\"data\":{\"barpolar\":[{\"marker\":{\"line\":{\"color\":\"#E5ECF6\",\"width\":0.5},\"pattern\":{\"fillmode\":\"overlay\",\"size\":10,\"solidity\":0.2}},\"type\":\"barpolar\"}],\"bar\":[{\"error_x\":{\"color\":\"#2a3f5f\"},\"error_y\":{\"color\":\"#2a3f5f\"},\"marker\":{\"line\":{\"color\":\"#E5ECF6\",\"width\":0.5},\"pattern\":{\"fillmode\":\"overlay\",\"size\":10,\"solidity\":0.2}},\"type\":\"bar\"}],\"carpet\":[{\"aaxis\":{\"endlinecolor\":\"#2a3f5f\",\"gridcolor\":\"white\",\"linecolor\":\"white\",\"minorgridcolor\":\"white\",\"startlinecolor\":\"#2a3f5f\"},\"baxis\":{\"endlinecolor\":\"#2a3f5f\",\"gridcolor\":\"white\",\"linecolor\":\"white\",\"minorgridcolor\":\"white\",\"startlinecolor\":\"#2a3f5f\"},\"type\":\"carpet\"}],\"choropleth\":[{\"colorbar\":{\"outlinewidth\":0,\"ticks\":\"\"},\"type\":\"choropleth\"}],\"contourcarpet\":[{\"colorbar\":{\"outlinewidth\":0,\"ticks\":\"\"},\"type\":\"contourcarpet\"}],\"contour\":[{\"colorbar\":{\"outlinewidth\":0,\"ticks\":\"\"},\"colorscale\":[[0.0,\"#0d0887\"],[0.1111111111111111,\"#46039f\"],[0.2222222222222222,\"#7201a8\"],[0.3333333333333333,\"#9c179e\"],[0.4444444444444444,\"#bd3786\"],[0.5555555555555556,\"#d8576b\"],[0.6666666666666666,\"#ed7953\"],[0.7777777777777778,\"#fb9f3a\"],[0.8888888888888888,\"#fdca26\"],[1.0,\"#f0f921\"]],\"type\":\"contour\"}],\"heatmapgl\":[{\"colorbar\":{\"outlinewidth\":0,\"ticks\":\"\"},\"colorscale\":[[0.0,\"#0d0887\"],[0.1111111111111111,\"#46039f\"],[0.2222222222222222,\"#7201a8\"],[0.3333333333333333,\"#9c179e\"],[0.4444444444444444,\"#bd3786\"],[0.5555555555555556,\"#d8576b\"],[0.6666666666666666,\"#ed7953\"],[0.7777777777777778,\"#fb9f3a\"],[0.8888888888888888,\"#fdca26\"],[1.0,\"#f0f921\"]],\"type\":\"heatmapgl\"}],\"heatmap\":[{\"colorbar\":{\"outlinewidth\":0,\"ticks\":\"\"},\"colorscale\":[[0.0,\"#0d0887\"],[0.1111111111111111,\"#46039f\"],[0.2222222222222222,\"#7201a8\"],[0.3333333333333333,\"#9c179e\"],[0.4444444444444444,\"#bd3786\"],[0.5555555555555556,\"#d8576b\"],[0.6666666666666666,\"#ed7953\"],[0.7777777777777778,\"#fb9f3a\"],[0.8888888888888888,\"#fdca26\"],[1.0,\"#f0f921\"]],\"type\":\"heatmap\"}],\"histogram2dcontour\":[{\"colorbar\":{\"outlinewidth\":0,\"ticks\":\"\"},\"colorscale\":[[0.0,\"#0d0887\"],[0.1111111111111111,\"#46039f\"],[0.2222222222222222,\"#7201a8\"],[0.3333333333333333,\"#9c179e\"],[0.4444444444444444,\"#bd3786\"],[0.5555555555555556,\"#d8576b\"],[0.6666666666666666,\"#ed7953\"],[0.7777777777777778,\"#fb9f3a\"],[0.8888888888888888,\"#fdca26\"],[1.0,\"#f0f921\"]],\"type\":\"histogram2dcontour\"}],\"histogram2d\":[{\"colorbar\":{\"outlinewidth\":0,\"ticks\":\"\"},\"colorscale\":[[0.0,\"#0d0887\"],[0.1111111111111111,\"#46039f\"],[0.2222222222222222,\"#7201a8\"],[0.3333333333333333,\"#9c179e\"],[0.4444444444444444,\"#bd3786\"],[0.5555555555555556,\"#d8576b\"],[0.6666666666666666,\"#ed7953\"],[0.7777777777777778,\"#fb9f3a\"],[0.8888888888888888,\"#fdca26\"],[1.0,\"#f0f921\"]],\"type\":\"histogram2d\"}],\"histogram\":[{\"marker\":{\"pattern\":{\"fillmode\":\"overlay\",\"size\":10,\"solidity\":0.2}},\"type\":\"histogram\"}],\"mesh3d\":[{\"colorbar\":{\"outlinewidth\":0,\"ticks\":\"\"},\"type\":\"mesh3d\"}],\"parcoords\":[{\"line\":{\"colorbar\":{\"outlinewidth\":0,\"ticks\":\"\"}},\"type\":\"parcoords\"}],\"pie\":[{\"automargin\":true,\"type\":\"pie\"}],\"scatter3d\":[{\"line\":{\"colorbar\":{\"outlinewidth\":0,\"ticks\":\"\"}},\"marker\":{\"colorbar\":{\"outlinewidth\":0,\"ticks\":\"\"}},\"type\":\"scatter3d\"}],\"scattercarpet\":[{\"marker\":{\"colorbar\":{\"outlinewidth\":0,\"ticks\":\"\"}},\"type\":\"scattercarpet\"}],\"scattergeo\":[{\"marker\":{\"colorbar\":{\"outlinewidth\":0,\"ticks\":\"\"}},\"type\":\"scattergeo\"}],\"scattergl\":[{\"marker\":{\"colorbar\":{\"outlinewidth\":0,\"ticks\":\"\"}},\"type\":\"scattergl\"}],\"scattermapbox\":[{\"marker\":{\"colorbar\":{\"outlinewidth\":0,\"ticks\":\"\"}},\"type\":\"scattermapbox\"}],\"scatterpolargl\":[{\"marker\":{\"colorbar\":{\"outlinewidth\":0,\"ticks\":\"\"}},\"type\":\"scatterpolargl\"}],\"scatterpolar\":[{\"marker\":{\"colorbar\":{\"outlinewidth\":0,\"ticks\":\"\"}},\"type\":\"scatterpolar\"}],\"scatter\":[{\"fillpattern\":{\"fillmode\":\"overlay\",\"size\":10,\"solidity\":0.2},\"type\":\"scatter\"}],\"scatterternary\":[{\"marker\":{\"colorbar\":{\"outlinewidth\":0,\"ticks\":\"\"}},\"type\":\"scatterternary\"}],\"surface\":[{\"colorbar\":{\"outlinewidth\":0,\"ticks\":\"\"},\"colorscale\":[[0.0,\"#0d0887\"],[0.1111111111111111,\"#46039f\"],[0.2222222222222222,\"#7201a8\"],[0.3333333333333333,\"#9c179e\"],[0.4444444444444444,\"#bd3786\"],[0.5555555555555556,\"#d8576b\"],[0.6666666666666666,\"#ed7953\"],[0.7777777777777778,\"#fb9f3a\"],[0.8888888888888888,\"#fdca26\"],[1.0,\"#f0f921\"]],\"type\":\"surface\"}],\"table\":[{\"cells\":{\"fill\":{\"color\":\"#EBF0F8\"},\"line\":{\"color\":\"white\"}},\"header\":{\"fill\":{\"color\":\"#C8D4E3\"},\"line\":{\"color\":\"white\"}},\"type\":\"table\"}]},\"layout\":{\"annotationdefaults\":{\"arrowcolor\":\"#2a3f5f\",\"arrowhead\":0,\"arrowwidth\":1},\"autotypenumbers\":\"strict\",\"coloraxis\":{\"colorbar\":{\"outlinewidth\":0,\"ticks\":\"\"}},\"colorscale\":{\"diverging\":[[0,\"#8e0152\"],[0.1,\"#c51b7d\"],[0.2,\"#de77ae\"],[0.3,\"#f1b6da\"],[0.4,\"#fde0ef\"],[0.5,\"#f7f7f7\"],[0.6,\"#e6f5d0\"],[0.7,\"#b8e186\"],[0.8,\"#7fbc41\"],[0.9,\"#4d9221\"],[1,\"#276419\"]],\"sequential\":[[0.0,\"#0d0887\"],[0.1111111111111111,\"#46039f\"],[0.2222222222222222,\"#7201a8\"],[0.3333333333333333,\"#9c179e\"],[0.4444444444444444,\"#bd3786\"],[0.5555555555555556,\"#d8576b\"],[0.6666666666666666,\"#ed7953\"],[0.7777777777777778,\"#fb9f3a\"],[0.8888888888888888,\"#fdca26\"],[1.0,\"#f0f921\"]],\"sequentialminus\":[[0.0,\"#0d0887\"],[0.1111111111111111,\"#46039f\"],[0.2222222222222222,\"#7201a8\"],[0.3333333333333333,\"#9c179e\"],[0.4444444444444444,\"#bd3786\"],[0.5555555555555556,\"#d8576b\"],[0.6666666666666666,\"#ed7953\"],[0.7777777777777778,\"#fb9f3a\"],[0.8888888888888888,\"#fdca26\"],[1.0,\"#f0f921\"]]},\"colorway\":[\"#636efa\",\"#EF553B\",\"#00cc96\",\"#ab63fa\",\"#FFA15A\",\"#19d3f3\",\"#FF6692\",\"#B6E880\",\"#FF97FF\",\"#FECB52\"],\"font\":{\"color\":\"#2a3f5f\"},\"geo\":{\"bgcolor\":\"white\",\"lakecolor\":\"white\",\"landcolor\":\"#E5ECF6\",\"showlakes\":true,\"showland\":true,\"subunitcolor\":\"white\"},\"hoverlabel\":{\"align\":\"left\"},\"hovermode\":\"closest\",\"mapbox\":{\"style\":\"light\"},\"paper_bgcolor\":\"white\",\"plot_bgcolor\":\"#E5ECF6\",\"polar\":{\"angularaxis\":{\"gridcolor\":\"white\",\"linecolor\":\"white\",\"ticks\":\"\"},\"bgcolor\":\"#E5ECF6\",\"radialaxis\":{\"gridcolor\":\"white\",\"linecolor\":\"white\",\"ticks\":\"\"}},\"scene\":{\"xaxis\":{\"backgroundcolor\":\"#E5ECF6\",\"gridcolor\":\"white\",\"gridwidth\":2,\"linecolor\":\"white\",\"showbackground\":true,\"ticks\":\"\",\"zerolinecolor\":\"white\"},\"yaxis\":{\"backgroundcolor\":\"#E5ECF6\",\"gridcolor\":\"white\",\"gridwidth\":2,\"linecolor\":\"white\",\"showbackground\":true,\"ticks\":\"\",\"zerolinecolor\":\"white\"},\"zaxis\":{\"backgroundcolor\":\"#E5ECF6\",\"gridcolor\":\"white\",\"gridwidth\":2,\"linecolor\":\"white\",\"showbackground\":true,\"ticks\":\"\",\"zerolinecolor\":\"white\"}},\"shapedefaults\":{\"line\":{\"color\":\"#2a3f5f\"}},\"ternary\":{\"aaxis\":{\"gridcolor\":\"white\",\"linecolor\":\"white\",\"ticks\":\"\"},\"baxis\":{\"gridcolor\":\"white\",\"linecolor\":\"white\",\"ticks\":\"\"},\"bgcolor\":\"#E5ECF6\",\"caxis\":{\"gridcolor\":\"white\",\"linecolor\":\"white\",\"ticks\":\"\"}},\"title\":{\"x\":0.05},\"xaxis\":{\"automargin\":true,\"gridcolor\":\"white\",\"linecolor\":\"white\",\"ticks\":\"\",\"title\":{\"standoff\":15},\"zerolinecolor\":\"white\",\"zerolinewidth\":2},\"yaxis\":{\"automargin\":true,\"gridcolor\":\"white\",\"linecolor\":\"white\",\"ticks\":\"\",\"title\":{\"standoff\":15},\"zerolinecolor\":\"white\",\"zerolinewidth\":2}}},\"title\":{\"text\":\"Geometry Optimization\"},\"xaxis\":{\"range\":[1,59],\"title\":{\"text\":\"Optimization Step\"}},\"yaxis\":{\"title\":{\"text\":\"Relative Energy [kcal/mol]\"},\"zeroline\":true}},                        {\"responsive\": true}                    ).then(function(){\n",
       "                            \n",
       "var gd = document.getElementById('cba58a9c-51f0-4673-b7c4-4d705bcff372');\n",
       "var x = new MutationObserver(function (mutations, observer) {{\n",
       "        var display = window.getComputedStyle(gd).display;\n",
       "        if (!display || display === 'none') {{\n",
       "            console.log([gd, 'removed!']);\n",
       "            Plotly.purge(gd);\n",
       "            observer.disconnect();\n",
       "        }}\n",
       "}});\n",
       "\n",
       "// Listen for the removal of the full notebook cells\n",
       "var notebookContainer = gd.closest('#notebook-container');\n",
       "if (notebookContainer) {{\n",
       "    x.observe(notebookContainer, {childList: true});\n",
       "}}\n",
       "\n",
       "// Listen for the clearing of the current output cell\n",
       "var outputEl = gd.closest('.output');\n",
       "if (outputEl) {{\n",
       "    x.observe(outputEl, {childList: true});\n",
       "}}\n",
       "\n",
       "                        })                };                });            </script>        </div>"
      ]
     },
     "metadata": {},
     "output_type": "display_data"
    }
   ],
   "source": [
    "opt_record.show_history()"
   ]
  },
  {
   "cell_type": "code",
   "execution_count": 70,
   "id": "df85ca6b-8673-479f-97c0-c1176393923c",
   "metadata": {},
   "outputs": [],
   "source": [
    "mols = opt_record.get_molecular_trajectory()"
   ]
  },
  {
   "cell_type": "code",
   "execution_count": 71,
   "id": "efdff85e-267a-4bb6-975c-4390db2981ae",
   "metadata": {
    "scrolled": true,
    "tags": []
   },
   "outputs": [
    {
     "data": {
      "text/plain": [
       "[Molecule(name='C13H13NO2', formula='C13H13NO2', hash='60cc040'),\n",
       " Molecule(name='C13H13NO2', formula='C13H13NO2', hash='f7bdf5f'),\n",
       " Molecule(name='C13H13NO2', formula='C13H13NO2', hash='24fa93f'),\n",
       " Molecule(name='C13H13NO2', formula='C13H13NO2', hash='6732995'),\n",
       " Molecule(name='C13H13NO2', formula='C13H13NO2', hash='82aa65d'),\n",
       " Molecule(name='C13H13NO2', formula='C13H13NO2', hash='0e7dbc1'),\n",
       " Molecule(name='C13H13NO2', formula='C13H13NO2', hash='bbc81de'),\n",
       " Molecule(name='C13H13NO2', formula='C13H13NO2', hash='f6e7078'),\n",
       " Molecule(name='C13H13NO2', formula='C13H13NO2', hash='bdad06e'),\n",
       " Molecule(name='C13H13NO2', formula='C13H13NO2', hash='c8e8e3f'),\n",
       " Molecule(name='C13H13NO2', formula='C13H13NO2', hash='d91e97c'),\n",
       " Molecule(name='C13H13NO2', formula='C13H13NO2', hash='c8aaa5c'),\n",
       " Molecule(name='C13H13NO2', formula='C13H13NO2', hash='81dfbec'),\n",
       " Molecule(name='C13H13NO2', formula='C13H13NO2', hash='230e92f'),\n",
       " Molecule(name='C13H13NO2', formula='C13H13NO2', hash='134f884'),\n",
       " Molecule(name='C13H13NO2', formula='C13H13NO2', hash='bb776e1'),\n",
       " Molecule(name='C13H13NO2', formula='C13H13NO2', hash='062cb3e'),\n",
       " Molecule(name='C13H13NO2', formula='C13H13NO2', hash='0b370ae'),\n",
       " Molecule(name='C13H13NO2', formula='C13H13NO2', hash='74400f1'),\n",
       " Molecule(name='C13H13NO2', formula='C13H13NO2', hash='6f12025'),\n",
       " Molecule(name='C13H13NO2', formula='C13H13NO2', hash='6c6caa9'),\n",
       " Molecule(name='C13H13NO2', formula='C13H13NO2', hash='21ce89e'),\n",
       " Molecule(name='C13H13NO2', formula='C13H13NO2', hash='9ead6f1'),\n",
       " Molecule(name='C13H13NO2', formula='C13H13NO2', hash='7b74091'),\n",
       " Molecule(name='C13H13NO2', formula='C13H13NO2', hash='9beaf81'),\n",
       " Molecule(name='C13H13NO2', formula='C13H13NO2', hash='1fe111e'),\n",
       " Molecule(name='C13H13NO2', formula='C13H13NO2', hash='d4e1946'),\n",
       " Molecule(name='C13H13NO2', formula='C13H13NO2', hash='0492b7b'),\n",
       " Molecule(name='C13H13NO2', formula='C13H13NO2', hash='7f3425f'),\n",
       " Molecule(name='C13H13NO2', formula='C13H13NO2', hash='14995f1'),\n",
       " Molecule(name='C13H13NO2', formula='C13H13NO2', hash='9737fac'),\n",
       " Molecule(name='C13H13NO2', formula='C13H13NO2', hash='9737fac'),\n",
       " Molecule(name='C13H13NO2', formula='C13H13NO2', hash='53f8620'),\n",
       " Molecule(name='C13H13NO2', formula='C13H13NO2', hash='f1cc41b'),\n",
       " Molecule(name='C13H13NO2', formula='C13H13NO2', hash='4c5f69f'),\n",
       " Molecule(name='C13H13NO2', formula='C13H13NO2', hash='8c1d5dd'),\n",
       " Molecule(name='C13H13NO2', formula='C13H13NO2', hash='1f2ea1b'),\n",
       " Molecule(name='C13H13NO2', formula='C13H13NO2', hash='1773a71'),\n",
       " Molecule(name='C13H13NO2', formula='C13H13NO2', hash='3d4b27a'),\n",
       " Molecule(name='C13H13NO2', formula='C13H13NO2', hash='c1fa2b2'),\n",
       " Molecule(name='C13H13NO2', formula='C13H13NO2', hash='1adbeb7'),\n",
       " Molecule(name='C13H13NO2', formula='C13H13NO2', hash='6362fe3'),\n",
       " Molecule(name='C13H13NO2', formula='C13H13NO2', hash='7c6fa56'),\n",
       " Molecule(name='C13H13NO2', formula='C13H13NO2', hash='f22887e'),\n",
       " Molecule(name='C13H13NO2', formula='C13H13NO2', hash='74b08b5'),\n",
       " Molecule(name='C13H13NO2', formula='C13H13NO2', hash='a75d14f'),\n",
       " Molecule(name='C13H13NO2', formula='C13H13NO2', hash='41cd376'),\n",
       " Molecule(name='C13H13NO2', formula='C13H13NO2', hash='2f6f110'),\n",
       " Molecule(name='C13H13NO2', formula='C13H13NO2', hash='9194fb5'),\n",
       " Molecule(name='C13H13NO2', formula='C13H13NO2', hash='4faff9b'),\n",
       " Molecule(name='C13H13NO2', formula='C13H13NO2', hash='b1f5dc6'),\n",
       " Molecule(name='C13H13NO2', formula='C13H13NO2', hash='bc9d61a'),\n",
       " Molecule(name='C13H13NO2', formula='C13H13NO2', hash='fd0ee44'),\n",
       " Molecule(name='C13H13NO2', formula='C13H13NO2', hash='b67b5e0'),\n",
       " Molecule(name='C13H13NO2', formula='C13H13NO2', hash='4518965'),\n",
       " Molecule(name='C13H13NO2', formula='C13H13NO2', hash='bd448ef'),\n",
       " Molecule(name='C13H13NO2', formula='C13H13NO2', hash='94b6f21'),\n",
       " Molecule(name='C13H13NO2', formula='C13H13NO2', hash='c4b392a'),\n",
       " Molecule(name='C13H13NO2', formula='C13H13NO2', hash='7b42c89')]"
      ]
     },
     "execution_count": 71,
     "metadata": {},
     "output_type": "execute_result"
    }
   ],
   "source": [
    "mols"
   ]
  },
  {
   "cell_type": "markdown",
   "id": "e4dda055-944f-444c-a5e1-afb7ab2e223e",
   "metadata": {},
   "source": [
    "### TorsionDataset"
   ]
  },
  {
   "cell_type": "code",
   "execution_count": 72,
   "id": "cf3e39f9-f680-4e3b-b960-377581ec1ddc",
   "metadata": {},
   "outputs": [],
   "source": [
    "#ds = client.get_collection(\"TorsionDriveDataset\", \"OpenFF Gen 2 Torsion Set 1 Roche\")\n",
    "#ds = client.get_collection(\"TorsionDriveDataset\", \"OpenFF Protein Dipeptide 2-D TorsionDrive v2.1\")\n",
    "#ds = client.get_collection(\"TorsionDriveDataset\", \"OpenFF Protein Capped 1-mer Sidechains v1.3\")\n",
    "ds = client.get_collection(\"TorsionDriveDataset\", \"OpenFF Gen 2 Torsion Set 1 Roche 2\")"
   ]
  },
  {
   "cell_type": "code",
   "execution_count": 73,
   "id": "8b5569f9-6b04-4440-b7af-2df36aed1ce1",
   "metadata": {},
   "outputs": [
    {
     "data": {
      "text/html": [
       "<div>\n",
       "<style scoped>\n",
       "    .dataframe tbody tr th:only-of-type {\n",
       "        vertical-align: middle;\n",
       "    }\n",
       "\n",
       "    .dataframe tbody tr th {\n",
       "        vertical-align: top;\n",
       "    }\n",
       "\n",
       "    .dataframe thead th {\n",
       "        text-align: right;\n",
       "    }\n",
       "</style>\n",
       "<table border=\"1\" class=\"dataframe\">\n",
       "  <thead>\n",
       "    <tr style=\"text-align: right;\">\n",
       "      <th></th>\n",
       "      <th>Description</th>\n",
       "    </tr>\n",
       "    <tr>\n",
       "      <th>Name</th>\n",
       "      <th></th>\n",
       "    </tr>\n",
       "  </thead>\n",
       "  <tbody>\n",
       "    <tr>\n",
       "      <th>default</th>\n",
       "      <td>Standard OpenFF torsiondrive specification.</td>\n",
       "    </tr>\n",
       "  </tbody>\n",
       "</table>\n",
       "</div>"
      ],
      "text/plain": [
       "                                         Description\n",
       "Name                                                \n",
       "default  Standard OpenFF torsiondrive specification."
      ]
     },
     "execution_count": 73,
     "metadata": {},
     "output_type": "execute_result"
    }
   ],
   "source": [
    "ds.list_specifications()"
   ]
  },
  {
   "cell_type": "code",
   "execution_count": 74,
   "id": "12c644c8-df79-43a3-bb36-caf09e086880",
   "metadata": {},
   "outputs": [],
   "source": [
    "record_names = list(ds.data.records)"
   ]
  },
  {
   "cell_type": "code",
   "execution_count": 75,
   "id": "88054dfd-2813-43b8-88c8-5dbbed7bbab9",
   "metadata": {},
   "outputs": [
    {
     "data": {
      "text/html": [
       "<div>\n",
       "<style scoped>\n",
       "    .dataframe tbody tr th:only-of-type {\n",
       "        vertical-align: middle;\n",
       "    }\n",
       "\n",
       "    .dataframe tbody tr th {\n",
       "        vertical-align: top;\n",
       "    }\n",
       "\n",
       "    .dataframe thead th {\n",
       "        text-align: right;\n",
       "    }\n",
       "</style>\n",
       "<table border=\"1\" class=\"dataframe\">\n",
       "  <thead>\n",
       "    <tr style=\"text-align: right;\">\n",
       "      <th></th>\n",
       "      <th>default</th>\n",
       "    </tr>\n",
       "  </thead>\n",
       "  <tbody>\n",
       "    <tr>\n",
       "      <th>COMPLETE</th>\n",
       "      <td>136</td>\n",
       "    </tr>\n",
       "    <tr>\n",
       "      <th>RUNNING</th>\n",
       "      <td>5</td>\n",
       "    </tr>\n",
       "    <tr>\n",
       "      <th>ERROR</th>\n",
       "      <td>1</td>\n",
       "    </tr>\n",
       "  </tbody>\n",
       "</table>\n",
       "</div>"
      ],
      "text/plain": [
       "          default\n",
       "COMPLETE      136\n",
       "RUNNING         5\n",
       "ERROR           1"
      ]
     },
     "execution_count": 75,
     "metadata": {},
     "output_type": "execute_result"
    }
   ],
   "source": [
    "ds.status()"
   ]
  },
  {
   "cell_type": "code",
   "execution_count": 76,
   "id": "2768d15c-30ee-41e7-b6ff-d5754fe9405a",
   "metadata": {},
   "outputs": [
    {
     "data": {
      "text/plain": [
       "142"
      ]
     },
     "execution_count": 76,
     "metadata": {},
     "output_type": "execute_result"
    }
   ],
   "source": [
    "len(record_names)"
   ]
  },
  {
   "cell_type": "code",
   "execution_count": 77,
   "id": "d9fbe483-276b-467c-8d37-a2ac80a05349",
   "metadata": {},
   "outputs": [
    {
     "data": {
      "text/html": [
       "<div>\n",
       "<style scoped>\n",
       "    .dataframe tbody tr th:only-of-type {\n",
       "        vertical-align: middle;\n",
       "    }\n",
       "\n",
       "    .dataframe tbody tr th {\n",
       "        vertical-align: top;\n",
       "    }\n",
       "\n",
       "    .dataframe thead th {\n",
       "        text-align: right;\n",
       "    }\n",
       "</style>\n",
       "<table border=\"1\" class=\"dataframe\">\n",
       "  <thead>\n",
       "    <tr style=\"text-align: right;\">\n",
       "      <th></th>\n",
       "      <th>default</th>\n",
       "    </tr>\n",
       "  </thead>\n",
       "  <tbody>\n",
       "    <tr>\n",
       "      <th>c1cn[c:1]([nH]1)[CH2:2][C@H:3]2CCCC[C@@H:4]2O</th>\n",
       "      <td>COMPLETE</td>\n",
       "    </tr>\n",
       "    <tr>\n",
       "      <th>c1cc[c:1](cc1)[CH2:2][CH2:3][F:4]</th>\n",
       "      <td>COMPLETE</td>\n",
       "    </tr>\n",
       "    <tr>\n",
       "      <th>[CH3:1][CH2:4][CH2:3][CH3:2]</th>\n",
       "      <td>NaN</td>\n",
       "    </tr>\n",
       "    <tr>\n",
       "      <th>[CH3:4][CH2:3][C:2]1([CH2:1]OC1)C</th>\n",
       "      <td>COMPLETE</td>\n",
       "    </tr>\n",
       "    <tr>\n",
       "      <th>[H:1][CH2:2][C@:3]([H:4])(c1ccccc1)C(=O)N(C)C</th>\n",
       "      <td>COMPLETE</td>\n",
       "    </tr>\n",
       "  </tbody>\n",
       "</table>\n",
       "</div>"
      ],
      "text/plain": [
       "                                                default\n",
       "c1cn[c:1]([nH]1)[CH2:2][C@H:3]2CCCC[C@@H:4]2O  COMPLETE\n",
       "c1cc[c:1](cc1)[CH2:2][CH2:3][F:4]              COMPLETE\n",
       "[CH3:1][CH2:4][CH2:3][CH3:2]                        NaN\n",
       "[CH3:4][CH2:3][C:2]1([CH2:1]OC1)C              COMPLETE\n",
       "[H:1][CH2:2][C@:3]([H:4])(c1ccccc1)C(=O)N(C)C  COMPLETE"
      ]
     },
     "execution_count": 77,
     "metadata": {},
     "output_type": "execute_result"
    }
   ],
   "source": [
    "ds.status([\"default\"], collapse=False, status=\"COMPLETE\").head()"
   ]
  },
  {
   "cell_type": "code",
   "execution_count": 78,
   "id": "5f5c6e4e-7fee-4956-8fa1-58dcdaa27dc6",
   "metadata": {},
   "outputs": [],
   "source": [
    "record_name = record_names[0]"
   ]
  },
  {
   "cell_type": "code",
   "execution_count": 79,
   "id": "0b367c51-b66d-44af-b406-aa7a76f15272",
   "metadata": {},
   "outputs": [
    {
     "data": {
      "text/plain": [
       "'c1cn[c:1]([nh]1)[ch2:2][c@h:3]2cccc[c@@h:4]2o'"
      ]
     },
     "execution_count": 79,
     "metadata": {},
     "output_type": "execute_result"
    }
   ],
   "source": [
    "record_name"
   ]
  },
  {
   "cell_type": "code",
   "execution_count": 80,
   "id": "7a1cf9f8-fb78-4c04-b4ba-552fa41c5bb8",
   "metadata": {},
   "outputs": [
    {
     "data": {
      "text/html": [
       "        <script type=\"text/javascript\">\n",
       "        window.PlotlyConfig = {MathJaxConfig: 'local'};\n",
       "        if (window.MathJax && window.MathJax.Hub && window.MathJax.Hub.Config) {window.MathJax.Hub.Config({SVG: {font: \"STIX-Web\"}});}\n",
       "        if (typeof require !== 'undefined') {\n",
       "        require.undef(\"plotly\");\n",
       "        requirejs.config({\n",
       "            paths: {\n",
       "                'plotly': ['https://cdn.plot.ly/plotly-2.18.2.min']\n",
       "            }\n",
       "        });\n",
       "        require(['plotly'], function(Plotly) {\n",
       "            window._Plotly = Plotly;\n",
       "        });\n",
       "        }\n",
       "        </script>\n",
       "        "
      ]
     },
     "metadata": {},
     "output_type": "display_data"
    },
    {
     "data": {
      "text/html": [
       "        <script type=\"text/javascript\">\n",
       "        window.PlotlyConfig = {MathJaxConfig: 'local'};\n",
       "        if (window.MathJax && window.MathJax.Hub && window.MathJax.Hub.Config) {window.MathJax.Hub.Config({SVG: {font: \"STIX-Web\"}});}\n",
       "        if (typeof require !== 'undefined') {\n",
       "        require.undef(\"plotly\");\n",
       "        requirejs.config({\n",
       "            paths: {\n",
       "                'plotly': ['https://cdn.plot.ly/plotly-2.18.2.min']\n",
       "            }\n",
       "        });\n",
       "        require(['plotly'], function(Plotly) {\n",
       "            window._Plotly = Plotly;\n",
       "        });\n",
       "        }\n",
       "        </script>\n",
       "        "
      ]
     },
     "metadata": {},
     "output_type": "display_data"
    },
    {
     "data": {
      "application/vnd.plotly.v1+json": {
       "config": {
        "linkText": "Export to plot.ly",
        "plotlyServerURL": "https://plot.ly",
        "showLink": false
       },
       "data": [
        {
         "mode": "lines+markers",
         "name": "c1cn[c:1]([nH]1)[CH2:2][C@H:3]2CCCC[C@@H:4]2O",
         "type": "scatter",
         "x": [
          -165,
          -150,
          -135,
          -120,
          -105,
          -90,
          -75,
          -60,
          -45,
          -30,
          -15,
          0,
          15,
          30,
          45,
          60,
          75,
          90,
          105,
          120,
          135,
          150,
          165,
          180
         ],
         "y": [
          3.934,
          4.566,
          5.34,
          4.921,
          2.792,
          1.692,
          1.473,
          1.867,
          3.095,
          4.594,
          5.75,
          4.987,
          3.197,
          1.11,
          0,
          1.003,
          3.045,
          4.805,
          6.528,
          7.728,
          7.696,
          6.519,
          5.058,
          4.064
         ]
        }
       ],
       "layout": {
        "autosize": true,
        "template": {
         "data": {
          "bar": [
           {
            "error_x": {
             "color": "#2a3f5f"
            },
            "error_y": {
             "color": "#2a3f5f"
            },
            "marker": {
             "line": {
              "color": "#E5ECF6",
              "width": 0.5
             },
             "pattern": {
              "fillmode": "overlay",
              "size": 10,
              "solidity": 0.2
             }
            },
            "type": "bar"
           }
          ],
          "barpolar": [
           {
            "marker": {
             "line": {
              "color": "#E5ECF6",
              "width": 0.5
             },
             "pattern": {
              "fillmode": "overlay",
              "size": 10,
              "solidity": 0.2
             }
            },
            "type": "barpolar"
           }
          ],
          "carpet": [
           {
            "aaxis": {
             "endlinecolor": "#2a3f5f",
             "gridcolor": "white",
             "linecolor": "white",
             "minorgridcolor": "white",
             "startlinecolor": "#2a3f5f"
            },
            "baxis": {
             "endlinecolor": "#2a3f5f",
             "gridcolor": "white",
             "linecolor": "white",
             "minorgridcolor": "white",
             "startlinecolor": "#2a3f5f"
            },
            "type": "carpet"
           }
          ],
          "choropleth": [
           {
            "colorbar": {
             "outlinewidth": 0,
             "ticks": ""
            },
            "type": "choropleth"
           }
          ],
          "contour": [
           {
            "colorbar": {
             "outlinewidth": 0,
             "ticks": ""
            },
            "colorscale": [
             [
              0,
              "#0d0887"
             ],
             [
              0.1111111111111111,
              "#46039f"
             ],
             [
              0.2222222222222222,
              "#7201a8"
             ],
             [
              0.3333333333333333,
              "#9c179e"
             ],
             [
              0.4444444444444444,
              "#bd3786"
             ],
             [
              0.5555555555555556,
              "#d8576b"
             ],
             [
              0.6666666666666666,
              "#ed7953"
             ],
             [
              0.7777777777777778,
              "#fb9f3a"
             ],
             [
              0.8888888888888888,
              "#fdca26"
             ],
             [
              1,
              "#f0f921"
             ]
            ],
            "type": "contour"
           }
          ],
          "contourcarpet": [
           {
            "colorbar": {
             "outlinewidth": 0,
             "ticks": ""
            },
            "type": "contourcarpet"
           }
          ],
          "heatmap": [
           {
            "colorbar": {
             "outlinewidth": 0,
             "ticks": ""
            },
            "colorscale": [
             [
              0,
              "#0d0887"
             ],
             [
              0.1111111111111111,
              "#46039f"
             ],
             [
              0.2222222222222222,
              "#7201a8"
             ],
             [
              0.3333333333333333,
              "#9c179e"
             ],
             [
              0.4444444444444444,
              "#bd3786"
             ],
             [
              0.5555555555555556,
              "#d8576b"
             ],
             [
              0.6666666666666666,
              "#ed7953"
             ],
             [
              0.7777777777777778,
              "#fb9f3a"
             ],
             [
              0.8888888888888888,
              "#fdca26"
             ],
             [
              1,
              "#f0f921"
             ]
            ],
            "type": "heatmap"
           }
          ],
          "heatmapgl": [
           {
            "colorbar": {
             "outlinewidth": 0,
             "ticks": ""
            },
            "colorscale": [
             [
              0,
              "#0d0887"
             ],
             [
              0.1111111111111111,
              "#46039f"
             ],
             [
              0.2222222222222222,
              "#7201a8"
             ],
             [
              0.3333333333333333,
              "#9c179e"
             ],
             [
              0.4444444444444444,
              "#bd3786"
             ],
             [
              0.5555555555555556,
              "#d8576b"
             ],
             [
              0.6666666666666666,
              "#ed7953"
             ],
             [
              0.7777777777777778,
              "#fb9f3a"
             ],
             [
              0.8888888888888888,
              "#fdca26"
             ],
             [
              1,
              "#f0f921"
             ]
            ],
            "type": "heatmapgl"
           }
          ],
          "histogram": [
           {
            "marker": {
             "pattern": {
              "fillmode": "overlay",
              "size": 10,
              "solidity": 0.2
             }
            },
            "type": "histogram"
           }
          ],
          "histogram2d": [
           {
            "colorbar": {
             "outlinewidth": 0,
             "ticks": ""
            },
            "colorscale": [
             [
              0,
              "#0d0887"
             ],
             [
              0.1111111111111111,
              "#46039f"
             ],
             [
              0.2222222222222222,
              "#7201a8"
             ],
             [
              0.3333333333333333,
              "#9c179e"
             ],
             [
              0.4444444444444444,
              "#bd3786"
             ],
             [
              0.5555555555555556,
              "#d8576b"
             ],
             [
              0.6666666666666666,
              "#ed7953"
             ],
             [
              0.7777777777777778,
              "#fb9f3a"
             ],
             [
              0.8888888888888888,
              "#fdca26"
             ],
             [
              1,
              "#f0f921"
             ]
            ],
            "type": "histogram2d"
           }
          ],
          "histogram2dcontour": [
           {
            "colorbar": {
             "outlinewidth": 0,
             "ticks": ""
            },
            "colorscale": [
             [
              0,
              "#0d0887"
             ],
             [
              0.1111111111111111,
              "#46039f"
             ],
             [
              0.2222222222222222,
              "#7201a8"
             ],
             [
              0.3333333333333333,
              "#9c179e"
             ],
             [
              0.4444444444444444,
              "#bd3786"
             ],
             [
              0.5555555555555556,
              "#d8576b"
             ],
             [
              0.6666666666666666,
              "#ed7953"
             ],
             [
              0.7777777777777778,
              "#fb9f3a"
             ],
             [
              0.8888888888888888,
              "#fdca26"
             ],
             [
              1,
              "#f0f921"
             ]
            ],
            "type": "histogram2dcontour"
           }
          ],
          "mesh3d": [
           {
            "colorbar": {
             "outlinewidth": 0,
             "ticks": ""
            },
            "type": "mesh3d"
           }
          ],
          "parcoords": [
           {
            "line": {
             "colorbar": {
              "outlinewidth": 0,
              "ticks": ""
             }
            },
            "type": "parcoords"
           }
          ],
          "pie": [
           {
            "automargin": true,
            "type": "pie"
           }
          ],
          "scatter": [
           {
            "fillpattern": {
             "fillmode": "overlay",
             "size": 10,
             "solidity": 0.2
            },
            "type": "scatter"
           }
          ],
          "scatter3d": [
           {
            "line": {
             "colorbar": {
              "outlinewidth": 0,
              "ticks": ""
             }
            },
            "marker": {
             "colorbar": {
              "outlinewidth": 0,
              "ticks": ""
             }
            },
            "type": "scatter3d"
           }
          ],
          "scattercarpet": [
           {
            "marker": {
             "colorbar": {
              "outlinewidth": 0,
              "ticks": ""
             }
            },
            "type": "scattercarpet"
           }
          ],
          "scattergeo": [
           {
            "marker": {
             "colorbar": {
              "outlinewidth": 0,
              "ticks": ""
             }
            },
            "type": "scattergeo"
           }
          ],
          "scattergl": [
           {
            "marker": {
             "colorbar": {
              "outlinewidth": 0,
              "ticks": ""
             }
            },
            "type": "scattergl"
           }
          ],
          "scattermapbox": [
           {
            "marker": {
             "colorbar": {
              "outlinewidth": 0,
              "ticks": ""
             }
            },
            "type": "scattermapbox"
           }
          ],
          "scatterpolar": [
           {
            "marker": {
             "colorbar": {
              "outlinewidth": 0,
              "ticks": ""
             }
            },
            "type": "scatterpolar"
           }
          ],
          "scatterpolargl": [
           {
            "marker": {
             "colorbar": {
              "outlinewidth": 0,
              "ticks": ""
             }
            },
            "type": "scatterpolargl"
           }
          ],
          "scatterternary": [
           {
            "marker": {
             "colorbar": {
              "outlinewidth": 0,
              "ticks": ""
             }
            },
            "type": "scatterternary"
           }
          ],
          "surface": [
           {
            "colorbar": {
             "outlinewidth": 0,
             "ticks": ""
            },
            "colorscale": [
             [
              0,
              "#0d0887"
             ],
             [
              0.1111111111111111,
              "#46039f"
             ],
             [
              0.2222222222222222,
              "#7201a8"
             ],
             [
              0.3333333333333333,
              "#9c179e"
             ],
             [
              0.4444444444444444,
              "#bd3786"
             ],
             [
              0.5555555555555556,
              "#d8576b"
             ],
             [
              0.6666666666666666,
              "#ed7953"
             ],
             [
              0.7777777777777778,
              "#fb9f3a"
             ],
             [
              0.8888888888888888,
              "#fdca26"
             ],
             [
              1,
              "#f0f921"
             ]
            ],
            "type": "surface"
           }
          ],
          "table": [
           {
            "cells": {
             "fill": {
              "color": "#EBF0F8"
             },
             "line": {
              "color": "white"
             }
            },
            "header": {
             "fill": {
              "color": "#C8D4E3"
             },
             "line": {
              "color": "white"
             }
            },
            "type": "table"
           }
          ]
         },
         "layout": {
          "annotationdefaults": {
           "arrowcolor": "#2a3f5f",
           "arrowhead": 0,
           "arrowwidth": 1
          },
          "autotypenumbers": "strict",
          "coloraxis": {
           "colorbar": {
            "outlinewidth": 0,
            "ticks": ""
           }
          },
          "colorscale": {
           "diverging": [
            [
             0,
             "#8e0152"
            ],
            [
             0.1,
             "#c51b7d"
            ],
            [
             0.2,
             "#de77ae"
            ],
            [
             0.3,
             "#f1b6da"
            ],
            [
             0.4,
             "#fde0ef"
            ],
            [
             0.5,
             "#f7f7f7"
            ],
            [
             0.6,
             "#e6f5d0"
            ],
            [
             0.7,
             "#b8e186"
            ],
            [
             0.8,
             "#7fbc41"
            ],
            [
             0.9,
             "#4d9221"
            ],
            [
             1,
             "#276419"
            ]
           ],
           "sequential": [
            [
             0,
             "#0d0887"
            ],
            [
             0.1111111111111111,
             "#46039f"
            ],
            [
             0.2222222222222222,
             "#7201a8"
            ],
            [
             0.3333333333333333,
             "#9c179e"
            ],
            [
             0.4444444444444444,
             "#bd3786"
            ],
            [
             0.5555555555555556,
             "#d8576b"
            ],
            [
             0.6666666666666666,
             "#ed7953"
            ],
            [
             0.7777777777777778,
             "#fb9f3a"
            ],
            [
             0.8888888888888888,
             "#fdca26"
            ],
            [
             1,
             "#f0f921"
            ]
           ],
           "sequentialminus": [
            [
             0,
             "#0d0887"
            ],
            [
             0.1111111111111111,
             "#46039f"
            ],
            [
             0.2222222222222222,
             "#7201a8"
            ],
            [
             0.3333333333333333,
             "#9c179e"
            ],
            [
             0.4444444444444444,
             "#bd3786"
            ],
            [
             0.5555555555555556,
             "#d8576b"
            ],
            [
             0.6666666666666666,
             "#ed7953"
            ],
            [
             0.7777777777777778,
             "#fb9f3a"
            ],
            [
             0.8888888888888888,
             "#fdca26"
            ],
            [
             1,
             "#f0f921"
            ]
           ]
          },
          "colorway": [
           "#636efa",
           "#EF553B",
           "#00cc96",
           "#ab63fa",
           "#FFA15A",
           "#19d3f3",
           "#FF6692",
           "#B6E880",
           "#FF97FF",
           "#FECB52"
          ],
          "font": {
           "color": "#2a3f5f"
          },
          "geo": {
           "bgcolor": "white",
           "lakecolor": "white",
           "landcolor": "#E5ECF6",
           "showlakes": true,
           "showland": true,
           "subunitcolor": "white"
          },
          "hoverlabel": {
           "align": "left"
          },
          "hovermode": "closest",
          "mapbox": {
           "style": "light"
          },
          "paper_bgcolor": "white",
          "plot_bgcolor": "#E5ECF6",
          "polar": {
           "angularaxis": {
            "gridcolor": "white",
            "linecolor": "white",
            "ticks": ""
           },
           "bgcolor": "#E5ECF6",
           "radialaxis": {
            "gridcolor": "white",
            "linecolor": "white",
            "ticks": ""
           }
          },
          "scene": {
           "xaxis": {
            "backgroundcolor": "#E5ECF6",
            "gridcolor": "white",
            "gridwidth": 2,
            "linecolor": "white",
            "showbackground": true,
            "ticks": "",
            "zerolinecolor": "white"
           },
           "yaxis": {
            "backgroundcolor": "#E5ECF6",
            "gridcolor": "white",
            "gridwidth": 2,
            "linecolor": "white",
            "showbackground": true,
            "ticks": "",
            "zerolinecolor": "white"
           },
           "zaxis": {
            "backgroundcolor": "#E5ECF6",
            "gridcolor": "white",
            "gridwidth": 2,
            "linecolor": "white",
            "showbackground": true,
            "ticks": "",
            "zerolinecolor": "white"
           }
          },
          "shapedefaults": {
           "line": {
            "color": "#2a3f5f"
           }
          },
          "ternary": {
           "aaxis": {
            "gridcolor": "white",
            "linecolor": "white",
            "ticks": ""
           },
           "baxis": {
            "gridcolor": "white",
            "linecolor": "white",
            "ticks": ""
           },
           "bgcolor": "#E5ECF6",
           "caxis": {
            "gridcolor": "white",
            "linecolor": "white",
            "ticks": ""
           }
          },
          "title": {
           "x": 0.05
          },
          "xaxis": {
           "automargin": true,
           "gridcolor": "white",
           "linecolor": "white",
           "ticks": "",
           "title": {
            "standoff": 15
           },
           "zerolinecolor": "white",
           "zerolinewidth": 2
          },
          "yaxis": {
           "automargin": true,
           "gridcolor": "white",
           "linecolor": "white",
           "ticks": "",
           "title": {
            "standoff": 15
           },
           "zerolinecolor": "white",
           "zerolinewidth": 2
          }
         }
        },
        "title": {
         "text": "TorsionDriveDataset 1-D Plot [spec=default]"
        },
        "xaxis": {
         "range": [
          -175,
          190
         ],
         "title": {
          "text": "Dihedral Angle [degrees]"
         },
         "type": "linear",
         "zeroline": false
        },
        "yaxis": {
         "autorange": true,
         "range": [
          -0.637747572815534,
          8.365747572815534
         ],
         "title": {
          "text": "Relative Energy [kcal / mol]"
         },
         "type": "linear",
         "zeroline": true
        }
       }
      },
      "image/png": "[encoded data removed]",
      "text/html": [
       "<div>                            <div id=\"dc8894ee-a774-43c1-aa76-61ac6fe213c9\" class=\"plotly-graph-div\" style=\"height:525px; width:100%;\"></div>            <script type=\"text/javascript\">                require([\"plotly\"], function(Plotly) {                    window.PLOTLYENV=window.PLOTLYENV || {};                                    if (document.getElementById(\"dc8894ee-a774-43c1-aa76-61ac6fe213c9\")) {                    Plotly.newPlot(                        \"dc8894ee-a774-43c1-aa76-61ac6fe213c9\",                        [{\"mode\":\"lines+markers\",\"name\":\"c1cn[c:1]([nH]1)[CH2:2][C@H:3]2CCCC[C@@H:4]2O\",\"x\":[-165,-150,-135,-120,-105,-90,-75,-60,-45,-30,-15,0,15,30,45,60,75,90,105,120,135,150,165,180],\"y\":[3.934,4.566,5.34,4.921,2.792,1.692,1.473,1.867,3.095,4.594,5.75,4.987,3.197,1.11,0.0,1.003,3.045,4.805,6.528,7.728,7.696,6.519,5.058,4.064],\"type\":\"scatter\"}],                        {\"template\":{\"data\":{\"barpolar\":[{\"marker\":{\"line\":{\"color\":\"#E5ECF6\",\"width\":0.5},\"pattern\":{\"fillmode\":\"overlay\",\"size\":10,\"solidity\":0.2}},\"type\":\"barpolar\"}],\"bar\":[{\"error_x\":{\"color\":\"#2a3f5f\"},\"error_y\":{\"color\":\"#2a3f5f\"},\"marker\":{\"line\":{\"color\":\"#E5ECF6\",\"width\":0.5},\"pattern\":{\"fillmode\":\"overlay\",\"size\":10,\"solidity\":0.2}},\"type\":\"bar\"}],\"carpet\":[{\"aaxis\":{\"endlinecolor\":\"#2a3f5f\",\"gridcolor\":\"white\",\"linecolor\":\"white\",\"minorgridcolor\":\"white\",\"startlinecolor\":\"#2a3f5f\"},\"baxis\":{\"endlinecolor\":\"#2a3f5f\",\"gridcolor\":\"white\",\"linecolor\":\"white\",\"minorgridcolor\":\"white\",\"startlinecolor\":\"#2a3f5f\"},\"type\":\"carpet\"}],\"choropleth\":[{\"colorbar\":{\"outlinewidth\":0,\"ticks\":\"\"},\"type\":\"choropleth\"}],\"contourcarpet\":[{\"colorbar\":{\"outlinewidth\":0,\"ticks\":\"\"},\"type\":\"contourcarpet\"}],\"contour\":[{\"colorbar\":{\"outlinewidth\":0,\"ticks\":\"\"},\"colorscale\":[[0.0,\"#0d0887\"],[0.1111111111111111,\"#46039f\"],[0.2222222222222222,\"#7201a8\"],[0.3333333333333333,\"#9c179e\"],[0.4444444444444444,\"#bd3786\"],[0.5555555555555556,\"#d8576b\"],[0.6666666666666666,\"#ed7953\"],[0.7777777777777778,\"#fb9f3a\"],[0.8888888888888888,\"#fdca26\"],[1.0,\"#f0f921\"]],\"type\":\"contour\"}],\"heatmapgl\":[{\"colorbar\":{\"outlinewidth\":0,\"ticks\":\"\"},\"colorscale\":[[0.0,\"#0d0887\"],[0.1111111111111111,\"#46039f\"],[0.2222222222222222,\"#7201a8\"],[0.3333333333333333,\"#9c179e\"],[0.4444444444444444,\"#bd3786\"],[0.5555555555555556,\"#d8576b\"],[0.6666666666666666,\"#ed7953\"],[0.7777777777777778,\"#fb9f3a\"],[0.8888888888888888,\"#fdca26\"],[1.0,\"#f0f921\"]],\"type\":\"heatmapgl\"}],\"heatmap\":[{\"colorbar\":{\"outlinewidth\":0,\"ticks\":\"\"},\"colorscale\":[[0.0,\"#0d0887\"],[0.1111111111111111,\"#46039f\"],[0.2222222222222222,\"#7201a8\"],[0.3333333333333333,\"#9c179e\"],[0.4444444444444444,\"#bd3786\"],[0.5555555555555556,\"#d8576b\"],[0.6666666666666666,\"#ed7953\"],[0.7777777777777778,\"#fb9f3a\"],[0.8888888888888888,\"#fdca26\"],[1.0,\"#f0f921\"]],\"type\":\"heatmap\"}],\"histogram2dcontour\":[{\"colorbar\":{\"outlinewidth\":0,\"ticks\":\"\"},\"colorscale\":[[0.0,\"#0d0887\"],[0.1111111111111111,\"#46039f\"],[0.2222222222222222,\"#7201a8\"],[0.3333333333333333,\"#9c179e\"],[0.4444444444444444,\"#bd3786\"],[0.5555555555555556,\"#d8576b\"],[0.6666666666666666,\"#ed7953\"],[0.7777777777777778,\"#fb9f3a\"],[0.8888888888888888,\"#fdca26\"],[1.0,\"#f0f921\"]],\"type\":\"histogram2dcontour\"}],\"histogram2d\":[{\"colorbar\":{\"outlinewidth\":0,\"ticks\":\"\"},\"colorscale\":[[0.0,\"#0d0887\"],[0.1111111111111111,\"#46039f\"],[0.2222222222222222,\"#7201a8\"],[0.3333333333333333,\"#9c179e\"],[0.4444444444444444,\"#bd3786\"],[0.5555555555555556,\"#d8576b\"],[0.6666666666666666,\"#ed7953\"],[0.7777777777777778,\"#fb9f3a\"],[0.8888888888888888,\"#fdca26\"],[1.0,\"#f0f921\"]],\"type\":\"histogram2d\"}],\"histogram\":[{\"marker\":{\"pattern\":{\"fillmode\":\"overlay\",\"size\":10,\"solidity\":0.2}},\"type\":\"histogram\"}],\"mesh3d\":[{\"colorbar\":{\"outlinewidth\":0,\"ticks\":\"\"},\"type\":\"mesh3d\"}],\"parcoords\":[{\"line\":{\"colorbar\":{\"outlinewidth\":0,\"ticks\":\"\"}},\"type\":\"parcoords\"}],\"pie\":[{\"automargin\":true,\"type\":\"pie\"}],\"scatter3d\":[{\"line\":{\"colorbar\":{\"outlinewidth\":0,\"ticks\":\"\"}},\"marker\":{\"colorbar\":{\"outlinewidth\":0,\"ticks\":\"\"}},\"type\":\"scatter3d\"}],\"scattercarpet\":[{\"marker\":{\"colorbar\":{\"outlinewidth\":0,\"ticks\":\"\"}},\"type\":\"scattercarpet\"}],\"scattergeo\":[{\"marker\":{\"colorbar\":{\"outlinewidth\":0,\"ticks\":\"\"}},\"type\":\"scattergeo\"}],\"scattergl\":[{\"marker\":{\"colorbar\":{\"outlinewidth\":0,\"ticks\":\"\"}},\"type\":\"scattergl\"}],\"scattermapbox\":[{\"marker\":{\"colorbar\":{\"outlinewidth\":0,\"ticks\":\"\"}},\"type\":\"scattermapbox\"}],\"scatterpolargl\":[{\"marker\":{\"colorbar\":{\"outlinewidth\":0,\"ticks\":\"\"}},\"type\":\"scatterpolargl\"}],\"scatterpolar\":[{\"marker\":{\"colorbar\":{\"outlinewidth\":0,\"ticks\":\"\"}},\"type\":\"scatterpolar\"}],\"scatter\":[{\"fillpattern\":{\"fillmode\":\"overlay\",\"size\":10,\"solidity\":0.2},\"type\":\"scatter\"}],\"scatterternary\":[{\"marker\":{\"colorbar\":{\"outlinewidth\":0,\"ticks\":\"\"}},\"type\":\"scatterternary\"}],\"surface\":[{\"colorbar\":{\"outlinewidth\":0,\"ticks\":\"\"},\"colorscale\":[[0.0,\"#0d0887\"],[0.1111111111111111,\"#46039f\"],[0.2222222222222222,\"#7201a8\"],[0.3333333333333333,\"#9c179e\"],[0.4444444444444444,\"#bd3786\"],[0.5555555555555556,\"#d8576b\"],[0.6666666666666666,\"#ed7953\"],[0.7777777777777778,\"#fb9f3a\"],[0.8888888888888888,\"#fdca26\"],[1.0,\"#f0f921\"]],\"type\":\"surface\"}],\"table\":[{\"cells\":{\"fill\":{\"color\":\"#EBF0F8\"},\"line\":{\"color\":\"white\"}},\"header\":{\"fill\":{\"color\":\"#C8D4E3\"},\"line\":{\"color\":\"white\"}},\"type\":\"table\"}]},\"layout\":{\"annotationdefaults\":{\"arrowcolor\":\"#2a3f5f\",\"arrowhead\":0,\"arrowwidth\":1},\"autotypenumbers\":\"strict\",\"coloraxis\":{\"colorbar\":{\"outlinewidth\":0,\"ticks\":\"\"}},\"colorscale\":{\"diverging\":[[0,\"#8e0152\"],[0.1,\"#c51b7d\"],[0.2,\"#de77ae\"],[0.3,\"#f1b6da\"],[0.4,\"#fde0ef\"],[0.5,\"#f7f7f7\"],[0.6,\"#e6f5d0\"],[0.7,\"#b8e186\"],[0.8,\"#7fbc41\"],[0.9,\"#4d9221\"],[1,\"#276419\"]],\"sequential\":[[0.0,\"#0d0887\"],[0.1111111111111111,\"#46039f\"],[0.2222222222222222,\"#7201a8\"],[0.3333333333333333,\"#9c179e\"],[0.4444444444444444,\"#bd3786\"],[0.5555555555555556,\"#d8576b\"],[0.6666666666666666,\"#ed7953\"],[0.7777777777777778,\"#fb9f3a\"],[0.8888888888888888,\"#fdca26\"],[1.0,\"#f0f921\"]],\"sequentialminus\":[[0.0,\"#0d0887\"],[0.1111111111111111,\"#46039f\"],[0.2222222222222222,\"#7201a8\"],[0.3333333333333333,\"#9c179e\"],[0.4444444444444444,\"#bd3786\"],[0.5555555555555556,\"#d8576b\"],[0.6666666666666666,\"#ed7953\"],[0.7777777777777778,\"#fb9f3a\"],[0.8888888888888888,\"#fdca26\"],[1.0,\"#f0f921\"]]},\"colorway\":[\"#636efa\",\"#EF553B\",\"#00cc96\",\"#ab63fa\",\"#FFA15A\",\"#19d3f3\",\"#FF6692\",\"#B6E880\",\"#FF97FF\",\"#FECB52\"],\"font\":{\"color\":\"#2a3f5f\"},\"geo\":{\"bgcolor\":\"white\",\"lakecolor\":\"white\",\"landcolor\":\"#E5ECF6\",\"showlakes\":true,\"showland\":true,\"subunitcolor\":\"white\"},\"hoverlabel\":{\"align\":\"left\"},\"hovermode\":\"closest\",\"mapbox\":{\"style\":\"light\"},\"paper_bgcolor\":\"white\",\"plot_bgcolor\":\"#E5ECF6\",\"polar\":{\"angularaxis\":{\"gridcolor\":\"white\",\"linecolor\":\"white\",\"ticks\":\"\"},\"bgcolor\":\"#E5ECF6\",\"radialaxis\":{\"gridcolor\":\"white\",\"linecolor\":\"white\",\"ticks\":\"\"}},\"scene\":{\"xaxis\":{\"backgroundcolor\":\"#E5ECF6\",\"gridcolor\":\"white\",\"gridwidth\":2,\"linecolor\":\"white\",\"showbackground\":true,\"ticks\":\"\",\"zerolinecolor\":\"white\"},\"yaxis\":{\"backgroundcolor\":\"#E5ECF6\",\"gridcolor\":\"white\",\"gridwidth\":2,\"linecolor\":\"white\",\"showbackground\":true,\"ticks\":\"\",\"zerolinecolor\":\"white\"},\"zaxis\":{\"backgroundcolor\":\"#E5ECF6\",\"gridcolor\":\"white\",\"gridwidth\":2,\"linecolor\":\"white\",\"showbackground\":true,\"ticks\":\"\",\"zerolinecolor\":\"white\"}},\"shapedefaults\":{\"line\":{\"color\":\"#2a3f5f\"}},\"ternary\":{\"aaxis\":{\"gridcolor\":\"white\",\"linecolor\":\"white\",\"ticks\":\"\"},\"baxis\":{\"gridcolor\":\"white\",\"linecolor\":\"white\",\"ticks\":\"\"},\"bgcolor\":\"#E5ECF6\",\"caxis\":{\"gridcolor\":\"white\",\"linecolor\":\"white\",\"ticks\":\"\"}},\"title\":{\"x\":0.05},\"xaxis\":{\"automargin\":true,\"gridcolor\":\"white\",\"linecolor\":\"white\",\"ticks\":\"\",\"title\":{\"standoff\":15},\"zerolinecolor\":\"white\",\"zerolinewidth\":2},\"yaxis\":{\"automargin\":true,\"gridcolor\":\"white\",\"linecolor\":\"white\",\"ticks\":\"\",\"title\":{\"standoff\":15},\"zerolinecolor\":\"white\",\"zerolinewidth\":2}}},\"title\":{\"text\":\"TorsionDriveDataset 1-D Plot [spec=default]\"},\"xaxis\":{\"range\":[-175,190],\"title\":{\"text\":\"Dihedral Angle [degrees]\"},\"zeroline\":false},\"yaxis\":{\"title\":{\"text\":\"Relative Energy [kcal / mol]\"},\"zeroline\":true}},                        {\"responsive\": true}                    ).then(function(){\n",
       "                            \n",
       "var gd = document.getElementById('dc8894ee-a774-43c1-aa76-61ac6fe213c9');\n",
       "var x = new MutationObserver(function (mutations, observer) {{\n",
       "        var display = window.getComputedStyle(gd).display;\n",
       "        if (!display || display === 'none') {{\n",
       "            console.log([gd, 'removed!']);\n",
       "            Plotly.purge(gd);\n",
       "            observer.disconnect();\n",
       "        }}\n",
       "}});\n",
       "\n",
       "// Listen for the removal of the full notebook cells\n",
       "var notebookContainer = gd.closest('#notebook-container');\n",
       "if (notebookContainer) {{\n",
       "    x.observe(notebookContainer, {childList: true});\n",
       "}}\n",
       "\n",
       "// Listen for the clearing of the current output cell\n",
       "var outputEl = gd.closest('.output');\n",
       "if (outputEl) {{\n",
       "    x.observe(outputEl, {childList: true});\n",
       "}}\n",
       "\n",
       "                        })                };                });            </script>        </div>"
      ]
     },
     "metadata": {},
     "output_type": "display_data"
    }
   ],
   "source": [
    "# Related to https://github.com/choderalab/download-qca-datasets/issues/1\n",
    "\n",
    "#ds.visualize(record_name.upper(), 'default')\n",
    "record_name = ds.data.records[record_names[0]].name\n",
    "ds.visualize(record_name, 'default')"
   ]
  },
  {
   "cell_type": "code",
   "execution_count": 81,
   "id": "37fbe92d-63d7-49cc-bee2-fd16d96e621c",
   "metadata": {},
   "outputs": [],
   "source": [
    "td_record = ds.get_record(record_name, specification=\"default\") "
   ]
  },
  {
   "cell_type": "code",
   "execution_count": 82,
   "id": "a30242f6-7204-4098-9eda-f8fa226492b9",
   "metadata": {
    "scrolled": true,
    "tags": []
   },
   "outputs": [
    {
     "data": {
      "text/plain": [
       "{'id': '18535804',\n",
       " 'hash_index': '8b9422cdaedb0fbd2486112eb444603b74bfc3cf',\n",
       " 'procedure': 'torsiondrive',\n",
       " 'program': 'torsiondrive',\n",
       " 'version': 1,\n",
       " 'protocols': None,\n",
       " 'extras': {},\n",
       " 'stdout': None,\n",
       " 'stderr': None,\n",
       " 'error': None,\n",
       " 'manager_name': None,\n",
       " 'status': <RecordStatusEnum.complete: 'COMPLETE'>,\n",
       " 'modified_on': datetime.datetime(2020, 3, 24, 17, 35, 55, 826429),\n",
       " 'created_on': datetime.datetime(2020, 3, 24, 17, 35, 55, 826432),\n",
       " 'provenance': {'creator': 'torsiondrive',\n",
       "  'version': 'v0.9.8.1',\n",
       "  'routine': 'torsiondrive.td_api'},\n",
       " 'initial_molecule': ['12213448',\n",
       "  '12213449',\n",
       "  '12213450',\n",
       "  '12213451',\n",
       "  '12213452',\n",
       "  '12213453',\n",
       "  '12213454',\n",
       "  '12213455',\n",
       "  '12213456'],\n",
       " 'keywords': {'dihedrals': [(2, 9, 7, 8)],\n",
       "  'grid_spacing': [15],\n",
       "  'dihedral_ranges': None,\n",
       "  'energy_decrease_thresh': None,\n",
       "  'energy_upper_limit': 0.05},\n",
       " 'optimization_spec': {'program': 'geometric',\n",
       "  'keywords': {'coordsys': 'tric',\n",
       "   'enforce': 0.1,\n",
       "   'reset': True,\n",
       "   'qccnv': True,\n",
       "   'epsilon': 0}},\n",
       " 'qc_spec': {'driver': <DriverEnum.gradient: 'gradient'>,\n",
       "  'method': 'b3lyp-d3bj',\n",
       "  'basis': 'dzvp',\n",
       "  'keywords': '2',\n",
       "  'program': 'psi4'},\n",
       " 'final_energy_dict': {'[-150]': -575.545082494615,\n",
       "  '[-75]': -575.550011543697,\n",
       "  '[60]': -575.5507614446304,\n",
       "  '[180]': -575.5458829932581,\n",
       "  '[-165]': -575.5460894125941,\n",
       "  '[-135]': -575.543849022657,\n",
       "  '[-90]': -575.5496621493025,\n",
       "  '[-60]': -575.5493837234106,\n",
       "  '[45]': -575.5523591343918,\n",
       "  '[75]': -575.5475068190555,\n",
       "  '[165]': -575.5442984370609,\n",
       "  '[-120]': -575.5445166135873,\n",
       "  '[-105]': -575.5479095683078,\n",
       "  '[-45]': -575.5474271507215,\n",
       "  '[30]': -575.5505906653791,\n",
       "  '[90]': -575.5447012274794,\n",
       "  '[150]': -575.5419701980377,\n",
       "  '[-30]': -575.545038743096,\n",
       "  '[15]': -575.5472648185864,\n",
       "  '[105]': -575.5419568244853,\n",
       "  '[135]': -575.5400949528957,\n",
       "  '[-15]': -575.5431962339803,\n",
       "  '[0]': -575.5444125870554,\n",
       "  '[120]': -575.5400434509901},\n",
       " 'optimization_history': {'[-150]': ['18536134',\n",
       "   '18601669',\n",
       "   '18601670',\n",
       "   '18619060',\n",
       "   '18758833',\n",
       "   '18770849',\n",
       "   '18781105'],\n",
       "  '[-75]': ['18536135',\n",
       "   '18536136',\n",
       "   '18536137',\n",
       "   '18536138',\n",
       "   '18601673',\n",
       "   '18601674',\n",
       "   '18722867',\n",
       "   '18735386'],\n",
       "  '[60]': ['18536139', '18536140', '18601677', '18601678', '18801863'],\n",
       "  '[180]': ['18536141',\n",
       "   '18536142',\n",
       "   '18601681',\n",
       "   '18601682',\n",
       "   '18770850',\n",
       "   '18781107',\n",
       "   '18781108'],\n",
       "  '[-165]': ['18556822', '18556823', '18610181', '18766098', '18773836'],\n",
       "  '[-135]': ['18556824',\n",
       "   '18610182',\n",
       "   '18610202',\n",
       "   '18619061',\n",
       "   '18750536',\n",
       "   '18766099'],\n",
       "  '[-90]': ['18556825', '18610205', '18729996', '18743670'],\n",
       "  '[-60]': ['18556826', '18610206', '18717004', '18729997'],\n",
       "  '[45]': ['18556827', '18610209'],\n",
       "  '[75]': ['18556832', '18610210', '18801049'],\n",
       "  '[165]': ['18556836', '18610213', '18773837', '18785716'],\n",
       "  '[-120]': ['18601671', '18610203', '18619062', '18743669', '18758843'],\n",
       "  '[-105]': ['18601672', '18610204', '18619070', '18735385', '18750537'],\n",
       "  '[-45]': ['18601675', '18619071', '18710783', '18722876', '18722889'],\n",
       "  '[30]': ['18601676', '18619074'],\n",
       "  '[90]': ['18601679', '18619075', '18635101', '18799114', '18801879'],\n",
       "  '[150]': ['18601680', '18619089', '18781106', '18791800'],\n",
       "  '[-30]': ['18610207', '18627836', '18635099', '18717005'],\n",
       "  '[15]': ['18610208', '18627839'],\n",
       "  '[105]': ['18610211', '18627840', '18796979', '18801050'],\n",
       "  '[135]': ['18610212', '18627841', '18785715', '18796980'],\n",
       "  '[-15]': ['18619072', '18627837', '18710784', '18722890'],\n",
       "  '[0]': ['18619073', '18627838', '18635100'],\n",
       "  '[120]': ['18619076', '18619077', '18635102', '18791799', '18799115']},\n",
       " 'minimum_positions': {'[-150]': 6,\n",
       "  '[-75]': 6,\n",
       "  '[60]': 3,\n",
       "  '[180]': 4,\n",
       "  '[-165]': 4,\n",
       "  '[-135]': 5,\n",
       "  '[-90]': 3,\n",
       "  '[-60]': 2,\n",
       "  '[45]': 1,\n",
       "  '[75]': 2,\n",
       "  '[165]': 3,\n",
       "  '[-120]': 4,\n",
       "  '[-105]': 4,\n",
       "  '[-45]': 2,\n",
       "  '[30]': 1,\n",
       "  '[90]': 3,\n",
       "  '[150]': 2,\n",
       "  '[-30]': 3,\n",
       "  '[15]': 0,\n",
       "  '[105]': 2,\n",
       "  '[135]': 3,\n",
       "  '[-15]': 1,\n",
       "  '[0]': 0,\n",
       "  '[120]': 3}}"
      ]
     },
     "execution_count": 82,
     "metadata": {},
     "output_type": "execute_result"
    }
   ],
   "source": [
    "td_record.dict()"
   ]
  },
  {
   "cell_type": "code",
   "execution_count": 83,
   "id": "8a8a7def-daea-4470-b047-064e79731c13",
   "metadata": {},
   "outputs": [
    {
     "data": {
      "text/plain": [
       "'b3lyp-d3bj'"
      ]
     },
     "execution_count": 83,
     "metadata": {},
     "output_type": "execute_result"
    }
   ],
   "source": [
    "td_record.qc_spec.method"
   ]
  },
  {
   "cell_type": "code",
   "execution_count": 84,
   "id": "f928bc47-3aa0-4a81-87fb-4e68ab32cccc",
   "metadata": {},
   "outputs": [
    {
     "data": {
      "text/plain": [
       "{'canonical_explicit_hydrogen_smiles': '[H]c1c(n(c(n1)C([H])([H])C2(C(C(C(C(C2([H])O[H])([H])[H])([H])[H])([H])[H])([H])[H])[H])[H])[H]',\n",
       " 'canonical_isomeric_explicit_hydrogen_mapped_smiles': '[H:14][c:1]1[c:2]([n:12]([c:3]([n:11]1)[C:10]([H:26])([H:27])[C@@:8]2([C@@:9]([C:7]([C:5]([C:4]([C:6]2([H:20])[H:21])([H:16])[H:17])([H:18])[H:19])([H:22])[H:23])([H:25])[O:13][H:29])[H:24])[H:28])[H:15]',\n",
       " 'canonical_isomeric_explicit_hydrogen_smiles': '[H]c1c(n(c(n1)C([H])([H])[C@@]2([C@@](C(C(C(C2([H])[H])([H])[H])([H])[H])([H])[H])([H])O[H])[H])[H])[H]',\n",
       " 'canonical_isomeric_smiles': 'c1cnc([nH]1)C[C@H]2CCCC[C@@H]2O',\n",
       " 'canonical_smiles': 'c1cnc([nH]1)CC2CCCCC2O',\n",
       " 'inchi_key': 'PMPJCEUEVYODLV-BDAKNGLRSA-N',\n",
       " 'molecular_formula': 'C10H16N2O',\n",
       " 'provenance': 'cmiles_0+unknown_openeye_2019.Oct.2',\n",
       " 'standard_inchi': 'InChI=1S/C10H16N2O/c13-9-4-2-1-3-8(9)7-10-11-5-6-12-10/h5-6,8-9,13H,1-4,7H2,(H,11,12)/t8-,9+/m1/s1',\n",
       " 'unique_protomer_representation': 'c1cnc([nH]1)C[C@H]2CCCC[C@@H]2O',\n",
       " 'unique_tautomer_representation': 'O[C@H]1CCCC[C@@H]1Cc1ncc[nH]1'}"
      ]
     },
     "execution_count": 84,
     "metadata": {},
     "output_type": "execute_result"
    }
   ],
   "source": [
    "ds.get_entry(record_names[0]).attributes"
   ]
  },
  {
   "cell_type": "code",
   "execution_count": 85,
   "id": "b2eb6f54-927f-4cf0-bd6a-01f80b996a68",
   "metadata": {},
   "outputs": [
    {
     "name": "stdout",
     "output_type": "stream",
     "text": [
      "complete\n"
     ]
    }
   ],
   "source": [
    "if td_record is not None and td_record.status == 'COMPLETE':\n",
    "    print('complete')"
   ]
  },
  {
   "cell_type": "code",
   "execution_count": 86,
   "id": "846c41cc-a4a1-4bd9-ba90-ab25f0ea6b7f",
   "metadata": {},
   "outputs": [
    {
     "name": "stdout",
     "output_type": "stream",
     "text": [
      "(60,)\n",
      "(15,)\n",
      "(45,)\n",
      "(0,)\n",
      "(30,)\n",
      "(-15,)\n",
      "(-45,)\n",
      "(-60,)\n",
      "(-30,)\n",
      "(-75,)\n",
      "(-90,)\n",
      "(-105,)\n",
      "(-120,)\n",
      "(-135,)\n",
      "(180,)\n",
      "(-165,)\n",
      "(-150,)\n",
      "(150,)\n",
      "(165,)\n",
      "(120,)\n",
      "(105,)\n",
      "(135,)\n",
      "(90,)\n",
      "(75,)\n"
     ]
    }
   ],
   "source": [
    "for k, v in td_record.get_final_results().items():\n",
    "    print(k)"
   ]
  },
  {
   "cell_type": "code",
   "execution_count": 87,
   "id": "7dea2d74-1bee-4025-aeaf-8ee6d8bc81d0",
   "metadata": {
    "scrolled": true,
    "tags": []
   },
   "outputs": [
    {
     "data": {
      "text/plain": [
       "{'id': '18801357',\n",
       " 'hash_index': None,\n",
       " 'procedure': 'single',\n",
       " 'program': 'psi4',\n",
       " 'version': 1,\n",
       " 'protocols': {},\n",
       " 'extras': {'qcvars': {'-D ENERGY': -0.05375343,\n",
       "   'B3LYP-D3(BJ) DISPERSION CORRECTION ENERGY': -0.05375343,\n",
       "   'CURRENT DIPOLE X': -0.4823645602634478,\n",
       "   'CURRENT DIPOLE Y': 2.9296489385395854,\n",
       "   'CURRENT DIPOLE Z': 0.4727256043554128,\n",
       "   'CURRENT ENERGY': -575.5475068190555,\n",
       "   'CURRENT REFERENCE ENERGY': -575.5475068190555,\n",
       "   'DFT FUNCTIONAL TOTAL ENERGY': -575.4937533890553,\n",
       "   'DFT TOTAL ENERGY': -575.5475068190553,\n",
       "   'DFT VV10 ENERGY': 0.0,\n",
       "   'DFT XC ENERGY': -66.76322388611668,\n",
       "   'DISPERSION CORRECTION ENERGY': -0.05375343,\n",
       "   'NUCLEAR REPULSION ENERGY': 833.4643102008332,\n",
       "   'ONE-ELECTRON ENERGY': -2433.259724119016,\n",
       "   'PCM POLARIZATION ENERGY': 0.0,\n",
       "   'SCF DIPOLE X': -0.4823645602634478,\n",
       "   'SCF DIPOLE Y': 2.9296489385395854,\n",
       "   'SCF DIPOLE Z': 0.4727256043554128,\n",
       "   'SCF ITERATION ENERGY': -575.5475068190555,\n",
       "   'SCF ITERATIONS': 13.0,\n",
       "   'SCF QUADRUPOLE XX': -70.95362852549515,\n",
       "   'SCF QUADRUPOLE XY': 0.08890913324580359,\n",
       "   'SCF QUADRUPOLE XZ': 2.7706508057605466,\n",
       "   'SCF QUADRUPOLE YY': -97.95079847249843,\n",
       "   'SCF QUADRUPOLE YZ': -13.145719844477282,\n",
       "   'SCF QUADRUPOLE ZZ': -82.7138401153282,\n",
       "   'SCF TOTAL ENERGY': -575.5475068190555,\n",
       "   'TWO-ELECTRON ENERGY': 1091.0648844152443,\n",
       "   'CURRENT GRADIENT': [-4.233571822442688e-05,\n",
       "    7.64690318200258e-05,\n",
       "    0.0001046915831433297,\n",
       "    4.509913543715232e-05,\n",
       "    3.829692844851349e-06,\n",
       "    -9.091438043876398e-05,\n",
       "    -0.0022353597219207993,\n",
       "    -0.0034918676683967412,\n",
       "    0.0007996923271174364,\n",
       "    -9.012921966536347e-06,\n",
       "    -6.060209879832162e-07,\n",
       "    1.4116054655501694e-05,\n",
       "    -3.7647290718348836e-05,\n",
       "    -6.700390644972208e-06,\n",
       "    9.932330502388518e-07,\n",
       "    5.537952652131812e-05,\n",
       "    2.583794423940863e-05,\n",
       "    -7.078896293252079e-05,\n",
       "    -3.330626540168601e-05,\n",
       "    1.4578543249846266e-05,\n",
       "    -4.432743485510509e-05,\n",
       "    0.002337065767558805,\n",
       "    -0.004578172550990261,\n",
       "    0.0038541770748841808,\n",
       "    -0.002268822879923373,\n",
       "    0.002246269606188588,\n",
       "    -0.0024927220550212585,\n",
       "    0.0021950655705585374,\n",
       "    0.005745815180271007,\n",
       "    -0.002145260733220575,\n",
       "    -1.642034120065243e-05,\n",
       "    -4.216690865111719e-05,\n",
       "    -4.877772625548412e-05,\n",
       "    4.484387614658175e-05,\n",
       "    -3.475776798151015e-05,\n",
       "    4.4231132134471134e-05,\n",
       "    -3.456418688511425e-05,\n",
       "    -3.5112239520679236e-05,\n",
       "    7.350614700794324e-08,\n",
       "    2.9296003832294994e-06,\n",
       "    2.3126790508791125e-06,\n",
       "    -7.4335595466146646e-06,\n",
       "    5.180975473458981e-06,\n",
       "    -1.1621965867129321e-06,\n",
       "    1.6910508392615714e-05,\n",
       "    -9.118240065334599e-06,\n",
       "    1.683656615962794e-05,\n",
       "    1.4304251292824796e-05,\n",
       "    2.742122164153219e-06,\n",
       "    -4.921034521512455e-06,\n",
       "    -1.3662211015459696e-05,\n",
       "    1.494939420332021e-05,\n",
       "    -8.997082195528306e-06,\n",
       "    1.7524889217647693e-05,\n",
       "    1.1585077997786986e-05,\n",
       "    -1.234431797239615e-06,\n",
       "    -2.0579452674944032e-05,\n",
       "    -1.2682170281727478e-05,\n",
       "    -5.546066269491404e-06,\n",
       "    1.8751088375026925e-05,\n",
       "    -1.3287737899646507e-06,\n",
       "    4.603397042571397e-06,\n",
       "    -3.7360926713050978e-06,\n",
       "    1.211342700183562e-05,\n",
       "    1.2423372563257222e-05,\n",
       "    -7.87976826819707e-06,\n",
       "    4.532432181459623e-06,\n",
       "    -1.750683057190626e-05,\n",
       "    3.597946154584178e-05,\n",
       "    8.067455787637561e-06,\n",
       "    4.574234193396543e-05,\n",
       "    -9.56000840353485e-07,\n",
       "    3.178488577614566e-06,\n",
       "    3.7228188621338536e-05,\n",
       "    -3.00245647640947e-06,\n",
       "    1.6541089493966792e-05,\n",
       "    8.278207729342362e-06,\n",
       "    2.0220914196117617e-05,\n",
       "    2.185545508950681e-06,\n",
       "    -6.970061362589268e-06,\n",
       "    2.2498306933575426e-05,\n",
       "    -1.2275438044389783e-05,\n",
       "    -5.777066950321205e-06,\n",
       "    8.038742372494078e-06,\n",
       "    1.3894576368148263e-06,\n",
       "    -5.839120157182811e-07,\n",
       "    5.7036389644299465e-06],\n",
       "   'SCF TOTAL GRADIENT': [-4.233571822442688e-05,\n",
       "    7.64690318200258e-05,\n",
       "    0.0001046915831433297,\n",
       "    4.509913543715232e-05,\n",
       "    3.829692844851349e-06,\n",
       "    -9.091438043876398e-05,\n",
       "    -0.0022353597219207993,\n",
       "    -0.0034918676683967412,\n",
       "    0.0007996923271174364,\n",
       "    -9.012921966536347e-06,\n",
       "    -6.060209879832162e-07,\n",
       "    1.4116054655501694e-05,\n",
       "    -3.7647290718348836e-05,\n",
       "    -6.700390644972208e-06,\n",
       "    9.932330502388518e-07,\n",
       "    5.537952652131812e-05,\n",
       "    2.583794423940863e-05,\n",
       "    -7.078896293252079e-05,\n",
       "    -3.330626540168601e-05,\n",
       "    1.4578543249846266e-05,\n",
       "    -4.432743485510509e-05,\n",
       "    0.002337065767558805,\n",
       "    -0.004578172550990261,\n",
       "    0.0038541770748841808,\n",
       "    -0.002268822879923373,\n",
       "    0.002246269606188588,\n",
       "    -0.0024927220550212585,\n",
       "    0.0021950655705585374,\n",
       "    0.005745815180271007,\n",
       "    -0.002145260733220575,\n",
       "    -1.642034120065243e-05,\n",
       "    -4.216690865111719e-05,\n",
       "    -4.877772625548412e-05,\n",
       "    4.484387614658175e-05,\n",
       "    -3.475776798151015e-05,\n",
       "    4.4231132134471134e-05,\n",
       "    -3.456418688511425e-05,\n",
       "    -3.5112239520679236e-05,\n",
       "    7.350614700794324e-08,\n",
       "    2.9296003832294994e-06,\n",
       "    2.3126790508791125e-06,\n",
       "    -7.4335595466146646e-06,\n",
       "    5.180975473458981e-06,\n",
       "    -1.1621965867129321e-06,\n",
       "    1.6910508392615714e-05,\n",
       "    -9.118240065334599e-06,\n",
       "    1.683656615962794e-05,\n",
       "    1.4304251292824796e-05,\n",
       "    2.742122164153219e-06,\n",
       "    -4.921034521512455e-06,\n",
       "    -1.3662211015459696e-05,\n",
       "    1.494939420332021e-05,\n",
       "    -8.997082195528306e-06,\n",
       "    1.7524889217647693e-05,\n",
       "    1.1585077997786986e-05,\n",
       "    -1.234431797239615e-06,\n",
       "    -2.0579452674944032e-05,\n",
       "    -1.2682170281727478e-05,\n",
       "    -5.546066269491404e-06,\n",
       "    1.8751088375026925e-05,\n",
       "    -1.3287737899646507e-06,\n",
       "    4.603397042571397e-06,\n",
       "    -3.7360926713050978e-06,\n",
       "    1.211342700183562e-05,\n",
       "    1.2423372563257222e-05,\n",
       "    -7.87976826819707e-06,\n",
       "    4.532432181459623e-06,\n",
       "    -1.750683057190626e-05,\n",
       "    3.597946154584178e-05,\n",
       "    8.067455787637561e-06,\n",
       "    4.574234193396543e-05,\n",
       "    -9.56000840353485e-07,\n",
       "    3.178488577614566e-06,\n",
       "    3.7228188621338536e-05,\n",
       "    -3.00245647640947e-06,\n",
       "    1.6541089493966792e-05,\n",
       "    8.278207729342362e-06,\n",
       "    2.0220914196117617e-05,\n",
       "    2.185545508950681e-06,\n",
       "    -6.970061362589268e-06,\n",
       "    2.2498306933575426e-05,\n",
       "    -1.2275438044389783e-05,\n",
       "    -5.777066950321205e-06,\n",
       "    8.038742372494078e-06,\n",
       "    1.3894576368148263e-06,\n",
       "    -5.839120157182811e-07,\n",
       "    5.7036389644299465e-06],\n",
       "   '-D GRADIENT': [-0.0010855246966307,\n",
       "    0.0014084934577344,\n",
       "    -0.00065176748050761,\n",
       "    -0.00091725042941296,\n",
       "    -0.00011963852832381,\n",
       "    -0.00027665057803515,\n",
       "    0.0028471382015123,\n",
       "    -0.0019548060615931,\n",
       "    0.00029028244633897,\n",
       "    -0.00041584219277849,\n",
       "    -0.00025930341561006,\n",
       "    0.00056280332391965,\n",
       "    -0.00012336613043684,\n",
       "    0.00025234607356162,\n",
       "    0.00066236110619815,\n",
       "    -0.00051719687598296,\n",
       "    -0.00046589004926187,\n",
       "    0.00041396585451086,\n",
       "    -1.9901285691264e-05,\n",
       "    0.00067519831573178,\n",
       "    0.00027480195243375,\n",
       "    -0.00031215382088144,\n",
       "    -0.0001052975716905,\n",
       "    -0.00037640356730792,\n",
       "    1.6803587757721e-05,\n",
       "    0.00076295877900464,\n",
       "    -6.1521038571385e-05,\n",
       "    -0.00026245199779276,\n",
       "    -0.00024281050455631,\n",
       "    -0.00069991867262775,\n",
       "    0.00062579462715333,\n",
       "    -0.00054979897638808,\n",
       "    -0.00021592612687679,\n",
       "    0.00073061826316808,\n",
       "    -0.00070968141420766,\n",
       "    -0.00016531061887748,\n",
       "    8.6464346704831e-05,\n",
       "    0.0006935901939136,\n",
       "    -0.00031921996052601,\n",
       "    7.7938520791085e-05,\n",
       "    -0.00019505198973457,\n",
       "    3.8609555740737e-05,\n",
       "    0.00026061710658852,\n",
       "    1.6554535636119e-05,\n",
       "    1.6623097552013e-05,\n",
       "    -0.00015627772962944,\n",
       "    -0.00017974502688643,\n",
       "    0.00026946074261598,\n",
       "    -0.00038131278137997,\n",
       "    -0.00011563606919637,\n",
       "    0.00019238416131271,\n",
       "    -8.040958391273e-05,\n",
       "    0.00014343991419059,\n",
       "    0.00030870150702622,\n",
       "    0.00012498854238616,\n",
       "    9.4478199854614e-05,\n",
       "    0.00041963305141156,\n",
       "    -7.6932675850802e-05,\n",
       "    -0.00031766525127113,\n",
       "    0.00037505818428199,\n",
       "    -0.00030501372566049,\n",
       "    -0.00033470205426038,\n",
       "    0.00013539984047372,\n",
       "    -0.00018730332739011,\n",
       "    0.00040066349034692,\n",
       "    3.6852263003974e-05,\n",
       "    6.9376301387051e-05,\n",
       "    0.00035091666390889,\n",
       "    0.00013396156776678,\n",
       "    -0.0003458042847699,\n",
       "    -1.026161448674e-05,\n",
       "    -0.00027930429993875,\n",
       "    0.00029244612018725,\n",
       "    0.00036998793669103,\n",
       "    0.00011577488929222,\n",
       "    -0.00010489855574575,\n",
       "    1.7702898929378e-05,\n",
       "    -0.00042507052875535,\n",
       "    -0.0002080112414345,\n",
       "    -0.00014649452482325,\n",
       "    -0.00034937375407364,\n",
       "    0.00039504559628919,\n",
       "    0.00014963593462308,\n",
       "    -0.00017610447096388,\n",
       "    -2.757987854448e-05,\n",
       "    0.00037081665816361,\n",
       "    -0.00025010244681756],\n",
       "   'MAYER_INDICES': [0.0,\n",
       "    1.6227986265021457,\n",
       "    -0.02896245532231481,\n",
       "    -3.424824216886638e-05,\n",
       "    -2.4243781549413916e-05,\n",
       "    0.0005513125804657287,\n",
       "    0.0002229004374921202,\n",
       "    0.002242581428615755,\n",
       "    0.0007377527259402877,\n",
       "    0.008433652006262674,\n",
       "    1.3867996522777986,\n",
       "    0.023795448601925853,\n",
       "    -1.1743906420460212e-05,\n",
       "    0.9173576142628126,\n",
       "    -0.007400271933019819,\n",
       "    -2.372979525853775e-05,\n",
       "    8.574602792629517e-06,\n",
       "    4.2019911597271324e-07,\n",
       "    1.826963036349272e-06,\n",
       "    -0.0005136553629973381,\n",
       "    7.96343026563089e-05,\n",
       "    4.3380549298619903e-05,\n",
       "    1.3447669079155322e-05,\n",
       "    0.0011435259863304846,\n",
       "    0.0004931572053792689,\n",
       "    0.0016825044031000076,\n",
       "    0.0010384269126621744,\n",
       "    0.0071272203538605226,\n",
       "    1.3675692606491037e-05,\n",
       "    1.6227986265021457,\n",
       "    0.0,\n",
       "    0.048888871949838576,\n",
       "    0.00010515728241126939,\n",
       "    3.713288203335617e-06,\n",
       "    0.0009519881960943884,\n",
       "    0.00021078240849118653,\n",
       "    0.004612551721685437,\n",
       "    0.0009453302805257921,\n",
       "    0.005697136347464781,\n",
       "    0.017920434030942314,\n",
       "    1.2179889523865244,\n",
       "    0.00019128450194349887,\n",
       "    -0.017258901581970694,\n",
       "    0.9058894620427587,\n",
       "    3.930158249857512e-05,\n",
       "    7.652286127767804e-05,\n",
       "    -2.234598273019133e-06,\n",
       "    2.9015100189528026e-06,\n",
       "    0.00011300066015661103,\n",
       "    -7.474287632107801e-05,\n",
       "    -9.160382179608889e-07,\n",
       "    8.840245513256022e-05,\n",
       "    0.001220318414372542,\n",
       "    7.085593182703967e-05,\n",
       "    0.0016534053450791585,\n",
       "    0.0025552676191026944,\n",
       "    -0.0018090246085079279,\n",
       "    -6.28551093058007e-06,\n",
       "    -0.02896245532231481,\n",
       "    0.048888871949838576,\n",
       "    0.0,\n",
       "    0.0005144757540086003,\n",
       "    1.3376923017855938e-05,\n",
       "    -0.004267205992315611,\n",
       "    0.000922682370382433,\n",
       "    -0.006419135489582265,\n",
       "    -0.0023098007530591956,\n",
       "    0.9832986102251965,\n",
       "    1.6554283206785898,\n",
       "    1.2233462356114841,\n",
       "    0.0020304579683604676,\n",
       "    0.007403861240300738,\n",
       "    0.006643284673267532,\n",
       "    2.4025652258681258e-05,\n",
       "    3.145637568443138e-05,\n",
       "    2.7940243573448456e-05,\n",
       "    -7.689738290590768e-05,\n",
       "    0.006073860946754536,\n",
       "    -0.0016291225464134006,\n",
       "    0.00014489610152508482,\n",
       "    4.897283045815212e-05,\n",
       "    0.005760241918038769,\n",
       "    0.0036703599253966315,\n",
       "    -0.014423983045883135,\n",
       "    -0.019784365379399472,\n",
       "    -0.005050753665225679,\n",
       "    3.924350493936855e-05,\n",
       "    -3.424824216886638e-05,\n",
       "    0.00010515728241126939,\n",
       "    0.0005144757540086003,\n",
       "    0.0,\n",
       "    1.0033413784583838,\n",
       "    1.001307684143268,\n",
       "    -0.016313304552933568,\n",
       "    -0.01203481505514602,\n",
       "    -0.00360140984108787,\n",
       "    0.005906879869284555,\n",
       "    0.00044803654431334805,\n",
       "    -0.00023750207084455145,\n",
       "    -0.00035573760589150197,\n",
       "    -1.0209384650335968e-05,\n",
       "    1.7146457836658557e-05,\n",
       "    0.9283163363847625,\n",
       "    0.9265324027409222,\n",
       "    -0.01645428699245644,\n",
       "    -0.015356328844214121,\n",
       "    -0.01573669842903406,\n",
       "    -0.018163977822951823,\n",
       "    9.793947992425923e-05,\n",
       "    0.0052903516708905345,\n",
       "    9.496386885092379e-05,\n",
       "    0.00011834570438929749,\n",
       "    0.0013382651711869786,\n",
       "    -5.2127709045850405e-05,\n",
       "    1.0887562521197809e-05,\n",
       "    0.00019203952269061003,\n",
       "    -2.4243781549413916e-05,\n",
       "    3.713288203335617e-06,\n",
       "    1.3376923017855938e-05,\n",
       "    1.0033413784583838,\n",
       "    0.0,\n",
       "    -0.01712220842789902,\n",
       "    0.9994164063646801,\n",
       "    -0.004261340303041231,\n",
       "    -0.010367848545022965,\n",
       "    0.0009998063570122058,\n",
       "    -9.574680786605267e-05,\n",
       "    -2.1675399354734366e-05,\n",
       "    0.009550108348235543,\n",
       "    2.0204851549212365e-06,\n",
       "    2.7228758406797056e-06,\n",
       "    -0.014806302169800839,\n",
       "    -0.015047565809512577,\n",
       "    0.9270120372959587,\n",
       "    0.9250323912010403,\n",
       "    -0.00027507259719365776,\n",
       "    0.004640851669683975,\n",
       "    -0.014563220645101524,\n",
       "    -0.015980429984494407,\n",
       "    1.6353446288033023e-05,\n",
       "    -0.0007680875991074386,\n",
       "    0.00024639913947968427,\n",
       "    3.0372274682252834e-05,\n",
       "    6.807836983595164e-05,\n",
       "    0.00026653714958160986,\n",
       "    0.0005513125804657287,\n",
       "    0.0009519881960943884,\n",
       "    -0.004267205992315611,\n",
       "    1.001307684143268,\n",
       "    -0.01712220842789902,\n",
       "    0.0,\n",
       "    -0.0017911273322040963,\n",
       "    1.0047041065551343,\n",
       "    -0.007454550430673274,\n",
       "    -0.01863781424752154,\n",
       "    0.010987089750518103,\n",
       "    -0.0009028850392754117,\n",
       "    0.008843128849709288,\n",
       "    2.2717123852650605e-05,\n",
       "    -7.4480628686672395e-06,\n",
       "    -0.017393929607739847,\n",
       "    -0.014090963299594077,\n",
       "    0.004766447938407195,\n",
       "    0.0008307228449501903,\n",
       "    0.9091589644240696,\n",
       "    0.9291810099398023,\n",
       "    -0.00021561394941753086,\n",
       "    0.00045210106089404176,\n",
       "    -0.01543256452812568,\n",
       "    -0.002290521269283295,\n",
       "    0.004833540890377804,\n",
       "    -0.0017508829009834758,\n",
       "    3.3784979366544914e-05,\n",
       "    -0.00023680849213580878,\n",
       "    0.0002229004374921202,\n",
       "    0.00021078240849118653,\n",
       "    0.000922682370382433,\n",
       "    -0.016313304552933568,\n",
       "    0.9994164063646801,\n",
       "    -0.0017911273322040963,\n",
       "    0.0,\n",
       "    -0.019666867225213148,\n",
       "    1.0301459598988314,\n",
       "    0.00671049533582392,\n",
       "    8.31361677806017e-05,\n",
       "    0.00022988883167959672,\n",
       "    0.02117880786669285,\n",
       "    9.036041605909614e-07,\n",
       "    -3.1784532520577126e-06,\n",
       "    0.005504578883728868,\n",
       "    0.00024433627357724934,\n",
       "    -0.01347472691305608,\n",
       "    -0.014935808423543796,\n",
       "    -4.221520174690628e-05,\n",
       "    0.0003741149252338642,\n",
       "    0.9175465223120225,\n",
       "    0.922047017382027,\n",
       "    -0.0023232276110831925,\n",
       "    -0.01409249368851829,\n",
       "    0.00031945534951972795,\n",
       "    0.0008897516671129725,\n",
       "    -4.019916812342136e-05,\n",
       "    0.002548409154585041,\n",
       "    0.002242581428615755,\n",
       "    0.004612551721685437,\n",
       "    -0.006419135489582265,\n",
       "    -0.01203481505514602,\n",
       "    -0.004261340303041231,\n",
       "    1.0047041065551343,\n",
       "    -0.019666867225213148,\n",
       "    0.0,\n",
       "    1.019050973115699,\n",
       "    0.9686308178978423,\n",
       "    0.009956606660290352,\n",
       "    0.0067161413786963504,\n",
       "    0.017589201764543125,\n",
       "    -4.946081041477857e-05,\n",
       "    1.2569661575382135e-05,\n",
       "    0.004618728695125285,\n",
       "    -0.0012874880867865832,\n",
       "    0.000422794903387442,\n",
       "    -0.0004019709429748616,\n",
       "    -0.011359546558485032,\n",
       "    -0.017649432617267355,\n",
       "    -0.005180186214978381,\n",
       "    0.005881978923546403,\n",
       "    0.8955907805428869,\n",
       "    -0.015733382046580428,\n",
       "    -0.01868813234176488,\n",
       "    -0.015621847594894338,\n",
       "    -0.0004911036628173962,\n",
       "    0.002749207916388365,\n",
       "    0.0007377527259402877,\n",
       "    0.0009453302805257921,\n",
       "    -0.0023098007530591956,\n",
       "    -0.00360140984108787,\n",
       "    -0.010367848545022965,\n",
       "    -0.007454550430673274,\n",
       "    1.0301459598988314,\n",
       "    1.019050973115699,\n",
       "    0.0,\n",
       "    -0.022903275951526605,\n",
       "    4.784374607533924e-05,\n",
       "    0.004303449314347507,\n",
       "    0.962681265060469,\n",
       "    6.948371734798995e-06,\n",
       "    1.983283346236677e-05,\n",
       "    0.00041739518117112176,\n",
       "    -0.00019360760801974096,\n",
       "    0.004497125591693058,\n",
       "    -0.0007768920845473947,\n",
       "    -0.002717685683973516,\n",
       "    0.004873447040129995,\n",
       "    -0.0048548335882521495,\n",
       "    -0.015291166301772095,\n",
       "    -0.011489713662724447,\n",
       "    0.8772670610544184,\n",
       "    -0.0017573702914414594,\n",
       "    0.002119250648969589,\n",
       "    0.00017873664237375248,\n",
       "    -0.005772760245439554,\n",
       "    0.008433652006262674,\n",
       "    0.005697136347464781,\n",
       "    0.9832986102251965,\n",
       "    0.005906879869284555,\n",
       "    0.0009998063570122058,\n",
       "    -0.01863781424752154,\n",
       "    0.00671049533582392,\n",
       "    0.9686308178978423,\n",
       "    -0.022903275951526605,\n",
       "    0.0,\n",
       "    -0.007280803171867079,\n",
       "    0.006091531921275599,\n",
       "    -0.008031342883665192,\n",
       "    0.001693067743806707,\n",
       "    0.0023386878913390615,\n",
       "    0.0014008713848829512,\n",
       "    0.00010682055689900382,\n",
       "    1.672242125627813e-07,\n",
       "    -0.000229666357461093,\n",
       "    -0.0016844155639558227,\n",
       "    0.0022414935755641187,\n",
       "    1.6236877059865643e-05,\n",
       "    0.0016324723854912236,\n",
       "    -0.021181535397781344,\n",
       "    -0.004326713774786732,\n",
       "    0.9111455379320491,\n",
       "    0.9254876091656271,\n",
       "    0.0028591547420922787,\n",
       "    4.2058531513871655e-05,\n",
       "    1.3867996522777986,\n",
       "    0.017920434030942314,\n",
       "    1.6554283206785898,\n",
       "    0.00044803654431334805,\n",
       "    -9.574680786605267e-05,\n",
       "    0.010987089750518103,\n",
       "    8.31361677806017e-05,\n",
       "    0.009956606660290352,\n",
       "    4.784374607533924e-05,\n",
       "    -0.007280803171867079,\n",
       "    0.0,\n",
       "    0.049072969498111886,\n",
       "    -4.752182130129795e-05,\n",
       "    -0.008385320683586339,\n",
       "    0.008888326838740915,\n",
       "    4.2722104786232644e-05,\n",
       "    0.00012025967278745257,\n",
       "    8.066094727388037e-06,\n",
       "    2.2247634193006543e-05,\n",
       "    -0.000938039044311145,\n",
       "    0.0010008049564473483,\n",
       "    -6.158710912882095e-06,\n",
       "    0.00010229378857304598,\n",
       "    0.0006676241075185463,\n",
       "    0.00019836578147001429,\n",
       "    0.0056695952688498915,\n",
       "    0.009235825517316752,\n",
       "    0.01647279124540514,\n",
       "    6.447460036372649e-05,\n",
       "    0.023795448601925853,\n",
       "    1.2179889523865244,\n",
       "    1.2233462356114841,\n",
       "    -0.00023750207084455145,\n",
       "    -2.1675399354734366e-05,\n",
       "    -0.0009028850392754117,\n",
       "    0.00022988883167959672,\n",
       "    0.0067161413786963504,\n",
       "    0.004303449314347507,\n",
       "    0.006091531921275599,\n",
       "    0.049072969498111886,\n",
       "    0.0,\n",
       "    0.0001460696865095188,\n",
       "    0.004713285920959744,\n",
       "    -0.006245016347520051,\n",
       "    -2.514556297810331e-05,\n",
       "    4.509739886549158e-05,\n",
       "    -2.073147916976352e-05,\n",
       "    -1.7537497516195475e-07,\n",
       "    0.00013000300154193507,\n",
       "    0.0001351577038929585,\n",
       "    4.141996802425343e-05,\n",
       "    8.057066602566466e-05,\n",
       "    0.0013070776801223777,\n",
       "    0.003987856471380849,\n",
       "    0.0004334651897673798,\n",
       "    0.0033141370091709123,\n",
       "    0.8020373858877722,\n",
       "    -5.08779153348665e-07,\n",
       "    -1.1743906420460212e-05,\n",
       "    0.00019128450194349887,\n",
       "    0.0020304579683604676,\n",
       "    -0.00035573760589150197,\n",
       "    0.009550108348235543,\n",
       "    0.008843128849709288,\n",
       "    0.02117880786669285,\n",
       "    0.017589201764543125,\n",
       "    0.962681265060469,\n",
       "    -0.008031342883665192,\n",
       "    -4.752182130129795e-05,\n",
       "    0.0001460696865095188,\n",
       "    0.0,\n",
       "    -8.973882805629436e-06,\n",
       "    -3.4322164082994073e-06,\n",
       "    -0.00018835641802013057,\n",
       "    -0.0002094599861712356,\n",
       "    0.0020925324363343127,\n",
       "    -0.00017206555122159043,\n",
       "    -5.324600678275381e-05,\n",
       "    0.002003660740143962,\n",
       "    0.0004291142088263326,\n",
       "    0.0034828986148634973,\n",
       "    0.00010638868939338331,\n",
       "    -0.015156001326630295,\n",
       "    0.01743838347597514,\n",
       "    0.0004413439892161391,\n",
       "    0.0045181001015505585,\n",
       "    0.7922854046544607,\n",
       "    0.9173576142628126,\n",
       "    -0.017258901581970694,\n",
       "    0.007403861240300738,\n",
       "    -1.0209384650335968e-05,\n",
       "    2.0204851549212365e-06,\n",
       "    2.2717123852650605e-05,\n",
       "    9.036041605909614e-07,\n",
       "    -4.946081041477857e-05,\n",
       "    6.948371734798995e-06,\n",
       "    0.001693067743806707,\n",
       "    -0.008385320683586339,\n",
       "    0.004713285920959744,\n",
       "    -8.973882805629436e-06,\n",
       "    0.0,\n",
       "    0.00046328015707397573,\n",
       "    4.322491766960082e-06,\n",
       "    2.0430047885991587e-06,\n",
       "    -6.388627631833076e-08,\n",
       "    -1.0606736457000237e-06,\n",
       "    -5.105311021972566e-05,\n",
       "    1.0865636685518128e-05,\n",
       "    1.4934245715621858e-06,\n",
       "    -7.457436502554574e-07,\n",
       "    1.4919005260972035e-05,\n",
       "    8.98534200607932e-07,\n",
       "    0.00018896821223486298,\n",
       "    0.00012350741273687915,\n",
       "    0.0007221174985887206,\n",
       "    1.0132720692602432e-06,\n",
       "    -0.007400271933019819,\n",
       "    0.9058894620427587,\n",
       "    0.006643284673267532,\n",
       "    1.7146457836658557e-05,\n",
       "    2.7228758406797056e-06,\n",
       "    -7.4480628686672395e-06,\n",
       "    -3.1784532520577126e-06,\n",
       "    1.2569661575382135e-05,\n",
       "    1.983283346236677e-05,\n",
       "    0.0023386878913390615,\n",
       "    0.008888326838740915,\n",
       "    -0.006245016347520051,\n",
       "    -3.4322164082994073e-06,\n",
       "    0.00046328015707397573,\n",
       "    0.0,\n",
       "    -4.542368541209108e-06,\n",
       "    -1.4069966652614963e-06,\n",
       "    -1.9147044619567277e-07,\n",
       "    -9.593816139008265e-07,\n",
       "    -1.0778080873266653e-06,\n",
       "    -1.0400241602500891e-05,\n",
       "    1.71257321720883e-06,\n",
       "    6.221040833957898e-07,\n",
       "    2.192001743059463e-06,\n",
       "    -4.122062164480734e-05,\n",
       "    8.091916440263649e-05,\n",
       "    0.000175663844964333,\n",
       "    -1.2158342731188673e-05,\n",
       "    1.918468836805415e-06,\n",
       "    -2.372979525853775e-05,\n",
       "    3.930158249857512e-05,\n",
       "    2.4025652258681258e-05,\n",
       "    0.9283163363847625,\n",
       "    -0.014806302169800839,\n",
       "    -0.017393929607739847,\n",
       "    0.005504578883728868,\n",
       "    0.004618728695125285,\n",
       "    0.00041739518117112176,\n",
       "    0.0014008713848829512,\n",
       "    4.2722104786232644e-05,\n",
       "    -2.514556297810331e-05,\n",
       "    -0.00018835641802013057,\n",
       "    4.322491766960082e-06,\n",
       "    -4.542368541209108e-06,\n",
       "    0.0,\n",
       "    -0.010888536137252951,\n",
       "    -0.00020838347610296795,\n",
       "    -0.0002717875549714001,\n",
       "    -0.00029136263033922036,\n",
       "    -0.0002022134697978311,\n",
       "    0.00013253402291650053,\n",
       "    0.000850572259826461,\n",
       "    0.00011769446190389319,\n",
       "    -1.5710445717751536e-06,\n",
       "    0.00031102283923275815,\n",
       "    2.0859990942213853e-05,\n",
       "    1.5890926768288826e-06,\n",
       "    -2.37998426401768e-06,\n",
       "    8.574602792629517e-06,\n",
       "    7.652286127767804e-05,\n",
       "    3.145637568443138e-05,\n",
       "    0.9265324027409222,\n",
       "    -0.015047565809512577,\n",
       "    -0.014090963299594077,\n",
       "    0.00024433627357724934,\n",
       "    -0.0012874880867865832,\n",
       "    -0.00019360760801974096,\n",
       "    0.00010682055689900382,\n",
       "    0.00012025967278745257,\n",
       "    4.509739886549158e-05,\n",
       "    -0.0002094599861712356,\n",
       "    2.0430047885991587e-06,\n",
       "    -1.4069966652614963e-06,\n",
       "    -0.010888536137252951,\n",
       "    0.0,\n",
       "    -0.00030661561302447124,\n",
       "    0.009426893900338774,\n",
       "    0.009442014533762002,\n",
       "    -0.00013824052179467345,\n",
       "    0.0029132447235041274,\n",
       "    0.00020029517518814109,\n",
       "    0.004247748489221893,\n",
       "    0.0012443506529726963,\n",
       "    7.971619005863523e-06,\n",
       "    1.13516202028865e-05,\n",
       "    -2.8140148018948015e-07,\n",
       "    -9.553511944434587e-06,\n",
       "    4.2019911597271324e-07,\n",
       "    -2.234598273019133e-06,\n",
       "    2.7940243573448456e-05,\n",
       "    -0.01645428699245644,\n",
       "    0.9270120372959587,\n",
       "    0.004766447938407195,\n",
       "    -0.01347472691305608,\n",
       "    0.000422794903387442,\n",
       "    0.004497125591693058,\n",
       "    1.672242125627813e-07,\n",
       "    8.066094727388037e-06,\n",
       "    -2.073147916976352e-05,\n",
       "    0.0020925324363343127,\n",
       "    -6.388627631833076e-08,\n",
       "    -1.9147044619567277e-07,\n",
       "    -0.00020838347610296795,\n",
       "    -0.00030661561302447124,\n",
       "    0.0,\n",
       "    -0.010847697048153375,\n",
       "    0.00018192748756779053,\n",
       "    0.0008805384464759904,\n",
       "    -0.00017276459997198122,\n",
       "    -3.1850895341551484e-05,\n",
       "    0.00013443799504846908,\n",
       "    -2.6400663157971948e-05,\n",
       "    4.836601733073861e-07,\n",
       "    -5.773500102486774e-06,\n",
       "    -3.1985385858432036e-06,\n",
       "    -8.257245353871618e-06,\n",
       "    1.826963036349272e-06,\n",
       "    2.9015100189528026e-06,\n",
       "    -7.689738290590768e-05,\n",
       "    -0.015356328844214121,\n",
       "    0.9250323912010403,\n",
       "    0.0008307228449501903,\n",
       "    -0.014935808423543796,\n",
       "    -0.0004019709429748616,\n",
       "    -0.0007768920845473947,\n",
       "    -0.000229666357461093,\n",
       "    2.2247634193006543e-05,\n",
       "    -1.7537497516195475e-07,\n",
       "    -0.00017206555122159043,\n",
       "    -1.0606736457000237e-06,\n",
       "    -9.593816139008265e-07,\n",
       "    -0.0002717875549714001,\n",
       "    0.009426893900338774,\n",
       "    -0.010847697048153375,\n",
       "    0.0,\n",
       "    0.0025933759659403275,\n",
       "    0.00017416974023072029,\n",
       "    0.009356015003124342,\n",
       "    -0.00025087789035343095,\n",
       "    0.0009784391018437442,\n",
       "    0.003583909727349975,\n",
       "    9.620063294364278e-07,\n",
       "    1.2686259247762382e-05,\n",
       "    1.2476660740287046e-05,\n",
       "    0.00030494845410246525,\n",
       "    -0.0005136553629973381,\n",
       "    0.00011300066015661103,\n",
       "    0.006073860946754536,\n",
       "    -0.01573669842903406,\n",
       "    -0.00027507259719365776,\n",
       "    0.9091589644240696,\n",
       "    -4.221520174690628e-05,\n",
       "    -0.011359546558485032,\n",
       "    -0.002717685683973516,\n",
       "    -0.0016844155639558227,\n",
       "    -0.000938039044311145,\n",
       "    0.00013000300154193507,\n",
       "    -5.324600678275381e-05,\n",
       "    -5.105311021972566e-05,\n",
       "    -1.0778080873266653e-06,\n",
       "    -0.00029136263033922036,\n",
       "    0.009442014533762002,\n",
       "    0.00018192748756779053,\n",
       "    0.0025933759659403275,\n",
       "    0.0,\n",
       "    -0.006791163176357413,\n",
       "    0.0011964974303470112,\n",
       "    -2.8230418716623053e-05,\n",
       "    0.010959239285572292,\n",
       "    0.0053444601612910175,\n",
       "    3.9511366688496944e-05,\n",
       "    -2.1909558351267897e-06,\n",
       "    1.3049106003578243e-05,\n",
       "    0.0003420209474828311,\n",
       "    7.96343026563089e-05,\n",
       "    -7.474287632107801e-05,\n",
       "    -0.0016291225464134006,\n",
       "    -0.018163977822951823,\n",
       "    0.004640851669683975,\n",
       "    0.9291810099398023,\n",
       "    0.0003741149252338642,\n",
       "    -0.017649432617267355,\n",
       "    0.004873447040129995,\n",
       "    0.0022414935755641187,\n",
       "    0.0010008049564473483,\n",
       "    0.0001351577038929585,\n",
       "    0.002003660740143962,\n",
       "    1.0865636685518128e-05,\n",
       "    -1.0400241602500891e-05,\n",
       "    -0.0002022134697978311,\n",
       "    -0.00013824052179467345,\n",
       "    0.0008805384464759904,\n",
       "    0.00017416974023072029,\n",
       "    -0.006791163176357413,\n",
       "    0.0,\n",
       "    0.00010263720267842865,\n",
       "    0.00012654185089167535,\n",
       "    -0.00021040522745566285,\n",
       "    -4.8295942082751434e-05,\n",
       "    0.0001345586806461414,\n",
       "    0.0013072296126996666,\n",
       "    -2.5609080809239493e-05,\n",
       "    -3.959246803540957e-06,\n",
       "    4.3380549298619903e-05,\n",
       "    -9.160382179608889e-07,\n",
       "    0.00014489610152508482,\n",
       "    9.793947992425923e-05,\n",
       "    -0.014563220645101524,\n",
       "    -0.00021561394941753086,\n",
       "    0.9175465223120225,\n",
       "    -0.005180186214978381,\n",
       "    -0.0048548335882521495,\n",
       "    1.6236877059865643e-05,\n",
       "    -6.158710912882095e-06,\n",
       "    4.141996802425343e-05,\n",
       "    0.0004291142088263326,\n",
       "    1.4934245715621858e-06,\n",
       "    1.71257321720883e-06,\n",
       "    0.00013253402291650053,\n",
       "    0.0029132447235041274,\n",
       "    -0.00017276459997198122,\n",
       "    0.009356015003124342,\n",
       "    0.0011964974303470112,\n",
       "    0.00010263720267842865,\n",
       "    0.0,\n",
       "    -0.011052378241872031,\n",
       "    0.006410620510641824,\n",
       "    0.012117206516369782,\n",
       "    -1.132785712877766e-06,\n",
       "    -8.277843360030856e-07,\n",
       "    8.754857056453757e-05,\n",
       "    0.0037746612543855407,\n",
       "    1.3447669079155322e-05,\n",
       "    8.840245513256022e-05,\n",
       "    4.897283045815212e-05,\n",
       "    0.0052903516708905345,\n",
       "    -0.015980429984494407,\n",
       "    0.00045210106089404176,\n",
       "    0.922047017382027,\n",
       "    0.005881978923546403,\n",
       "    -0.015291166301772095,\n",
       "    0.0016324723854912236,\n",
       "    0.00010229378857304598,\n",
       "    8.057066602566466e-05,\n",
       "    0.0034828986148634973,\n",
       "    -7.457436502554574e-07,\n",
       "    6.221040833957898e-07,\n",
       "    0.000850572259826461,\n",
       "    0.00020029517518814109,\n",
       "    -3.1850895341551484e-05,\n",
       "    -0.00025087789035343095,\n",
       "    -2.8230418716623053e-05,\n",
       "    0.00012654185089167535,\n",
       "    -0.011052378241872031,\n",
       "    0.0,\n",
       "    0.00012063604880129357,\n",
       "    -0.0006312496520061723,\n",
       "    4.476683477835995e-05,\n",
       "    0.0002851565930090427,\n",
       "    9.660008206830895e-07,\n",
       "    -0.00020603223166049638,\n",
       "    0.0011435259863304846,\n",
       "    0.001220318414372542,\n",
       "    0.005760241918038769,\n",
       "    9.496386885092379e-05,\n",
       "    1.6353446288033023e-05,\n",
       "    -0.01543256452812568,\n",
       "    -0.0023232276110831925,\n",
       "    0.8955907805428869,\n",
       "    -0.011489713662724447,\n",
       "    -0.021181535397781344,\n",
       "    0.0006676241075185463,\n",
       "    0.0013070776801223777,\n",
       "    0.00010638868939338331,\n",
       "    1.4919005260972035e-05,\n",
       "    2.192001743059463e-06,\n",
       "    0.00011769446190389319,\n",
       "    0.004247748489221893,\n",
       "    0.00013443799504846908,\n",
       "    0.0009784391018437442,\n",
       "    0.010959239285572292,\n",
       "    -0.00021040522745566285,\n",
       "    0.006410620510641824,\n",
       "    0.00012063604880129357,\n",
       "    0.0,\n",
       "    0.012966425226030654,\n",
       "    -0.0002935284694175134,\n",
       "    -0.000136938669585199,\n",
       "    -1.6041935606963053e-05,\n",
       "    0.002741223293861543,\n",
       "    0.0004931572053792689,\n",
       "    7.085593182703967e-05,\n",
       "    0.0036703599253966315,\n",
       "    0.00011834570438929749,\n",
       "    -0.0007680875991074386,\n",
       "    -0.002290521269283295,\n",
       "    -0.01409249368851829,\n",
       "    -0.015733382046580428,\n",
       "    0.8772670610544184,\n",
       "    -0.004326713774786732,\n",
       "    0.00019836578147001429,\n",
       "    0.003987856471380849,\n",
       "    -0.015156001326630295,\n",
       "    8.98534200607932e-07,\n",
       "    -4.122062164480734e-05,\n",
       "    -1.5710445717751536e-06,\n",
       "    0.0012443506529726963,\n",
       "    -2.6400663157971948e-05,\n",
       "    0.003583909727349975,\n",
       "    0.0053444601612910175,\n",
       "    -4.8295942082751434e-05,\n",
       "    0.012117206516369782,\n",
       "    -0.0006312496520061723,\n",
       "    0.012966425226030654,\n",
       "    0.0,\n",
       "    0.0003101640945740333,\n",
       "    -1.4143523645980232e-05,\n",
       "    0.00027227987245467,\n",
       "    0.01315437690658257,\n",
       "    0.0016825044031000076,\n",
       "    0.0016534053450791585,\n",
       "    -0.014423983045883135,\n",
       "    0.0013382651711869786,\n",
       "    0.00024639913947968427,\n",
       "    0.004833540890377804,\n",
       "    0.00031945534951972795,\n",
       "    -0.01868813234176488,\n",
       "    -0.0017573702914414594,\n",
       "    0.9111455379320491,\n",
       "    0.0056695952688498915,\n",
       "    0.0004334651897673798,\n",
       "    0.01743838347597514,\n",
       "    0.00018896821223486298,\n",
       "    8.091916440263649e-05,\n",
       "    0.00031102283923275815,\n",
       "    7.971619005863523e-06,\n",
       "    4.836601733073861e-07,\n",
       "    9.620063294364278e-07,\n",
       "    3.9511366688496944e-05,\n",
       "    0.0001345586806461414,\n",
       "    -1.132785712877766e-06,\n",
       "    4.476683477835995e-05,\n",
       "    -0.0002935284694175134,\n",
       "    0.0003101640945740333,\n",
       "    0.0,\n",
       "    -0.008690337051616648,\n",
       "    0.00048183929568655366,\n",
       "    0.00037509795272238516,\n",
       "    0.0010384269126621744,\n",
       "    0.0025552676191026944,\n",
       "    -0.019784365379399472,\n",
       "    -5.2127709045850405e-05,\n",
       "    3.0372274682252834e-05,\n",
       "    -0.0017508829009834758,\n",
       "    0.0008897516671129725,\n",
       "    -0.015621847594894338,\n",
       "    0.002119250648969589,\n",
       "    0.9254876091656271,\n",
       "    0.009235825517316752,\n",
       "    0.0033141370091709123,\n",
       "    0.0004413439892161391,\n",
       "    0.00012350741273687915,\n",
       "    0.000175663844964333,\n",
       "    2.0859990942213853e-05,\n",
       "    1.13516202028865e-05,\n",
       "    -5.773500102486774e-06,\n",
       "    1.2686259247762382e-05,\n",
       "    -2.1909558351267897e-06,\n",
       "    0.0013072296126996666,\n",
       "    -8.277843360030856e-07,\n",
       "    0.0002851565930090427,\n",
       "    -0.000136938669585199,\n",
       "    -1.4143523645980232e-05,\n",
       "    -0.008690337051616648,\n",
       "    0.0,\n",
       "    -6.64871562244868e-05,\n",
       "    8.602231425681515e-05,\n",
       "    0.0071272203538605226,\n",
       "    -0.0018090246085079279,\n",
       "    -0.005050753665225679,\n",
       "    1.0887562521197809e-05,\n",
       "    6.807836983595164e-05,\n",
       "    3.3784979366544914e-05,\n",
       "    -4.019916812342136e-05,\n",
       "    -0.0004911036628173962,\n",
       "    0.00017873664237375248,\n",
       "    0.0028591547420922787,\n",
       "    0.01647279124540514,\n",
       "    0.8020373858877722,\n",
       "    0.0045181001015505585,\n",
       "    0.0007221174985887206,\n",
       "    -1.2158342731188673e-05,\n",
       "    1.5890926768288826e-06,\n",
       "    -2.8140148018948015e-07,\n",
       "    -3.1985385858432036e-06,\n",
       "    1.2476660740287046e-05,\n",
       "    1.3049106003578243e-05,\n",
       "    -2.5609080809239493e-05,\n",
       "    8.754857056453757e-05,\n",
       "    9.660008206830895e-07,\n",
       "    -1.6041935606963053e-05,\n",
       "    0.00027227987245467,\n",
       "    0.00048183929568655366,\n",
       "    -6.64871562244868e-05,\n",
       "    0.0,\n",
       "    7.398202227526232e-06,\n",
       "    1.3675692606491037e-05,\n",
       "    -6.28551093058007e-06,\n",
       "    3.924350493936855e-05,\n",
       "    0.00019203952269061003,\n",
       "    0.00026653714958160986,\n",
       "    -0.00023680849213580878,\n",
       "    0.002548409154585041,\n",
       "    0.002749207916388365,\n",
       "    -0.005772760245439554,\n",
       "    4.2058531513871655e-05,\n",
       "    6.447460036372649e-05,\n",
       "    -5.08779153348665e-07,\n",
       "    0.7922854046544607,\n",
       "    1.0132720692602432e-06,\n",
       "    1.918468836805415e-06,\n",
       "    -2.37998426401768e-06,\n",
       "    -9.553511944434587e-06,\n",
       "    -8.257245353871618e-06,\n",
       "    0.00030494845410246525,\n",
       "    0.0003420209474828311,\n",
       "    -3.959246803540957e-06,\n",
       "    0.0037746612543855407,\n",
       "    -0.00020603223166049638,\n",
       "    0.002741223293861543,\n",
       "    0.01315437690658257,\n",
       "    0.00037509795272238516,\n",
       "    8.602231425681515e-05,\n",
       "    7.398202227526232e-06,\n",
       "    0.0],\n",
       "   'WIBERG_LOWDIN_INDICES': [0.0,\n",
       "    1.7031657013402883,\n",
       "    0.18309522518369392,\n",
       "    0.00019925248691948582,\n",
       "    3.089759232483445e-05,\n",
       "    0.0012324320912904135,\n",
       "    0.0001720485788759005,\n",
       "    0.0037319731541492875,\n",
       "    0.0015836465777759163,\n",
       "    0.018788183690404987,\n",
       "    1.509789726360789,\n",
       "    0.17729036127744396,\n",
       "    0.00019571097865071457,\n",
       "    0.8763652038031786,\n",
       "    0.051549722852628696,\n",
       "    2.8688643126767025e-05,\n",
       "    6.610502817989718e-05,\n",
       "    3.063850329218305e-06,\n",
       "    3.844101940505674e-06,\n",
       "    0.00033133990512174166,\n",
       "    9.144247636008568e-05,\n",
       "    3.615957344459059e-05,\n",
       "    4.164084275737554e-05,\n",
       "    0.000581420659567636,\n",
       "    0.000557544794781678,\n",
       "    0.001506267267823436,\n",
       "    0.0013210008451518505,\n",
       "    0.011161448310758215,\n",
       "    1.8920587899765994e-05,\n",
       "    1.7031657013402883,\n",
       "    0.0,\n",
       "    0.21306073925450997,\n",
       "    0.0002103541563499201,\n",
       "    3.229147224319179e-05,\n",
       "    0.0018612253540773527,\n",
       "    0.00027458805327271456,\n",
       "    0.0069025059843949655,\n",
       "    0.0010254434964524068,\n",
       "    0.020121174513113464,\n",
       "    0.15123556595106144,\n",
       "    1.3702052409302758,\n",
       "    0.00027706860709353023,\n",
       "    0.05259200638841237,\n",
       "    0.8751249403029628,\n",
       "    5.952591326830407e-05,\n",
       "    6.032056056070217e-05,\n",
       "    2.227526574792299e-06,\n",
       "    4.60315263567833e-06,\n",
       "    0.00036872791331138324,\n",
       "    8.579615882825563e-05,\n",
       "    4.705285900973386e-05,\n",
       "    7.42212853896952e-05,\n",
       "    0.0007811744986019875,\n",
       "    0.00034654094006648223,\n",
       "    0.0022762268531989344,\n",
       "    0.0018307793055434003,\n",
       "    0.0380631122763809,\n",
       "    3.954823568007147e-05,\n",
       "    0.18309522518369392,\n",
       "    0.21306073925450997,\n",
       "    0.0,\n",
       "    0.0022928999104437618,\n",
       "    0.00024135766904203698,\n",
       "    0.021110344517505222,\n",
       "    0.0015483207507958404,\n",
       "    0.07641233679750231,\n",
       "    0.011137675140105519,\n",
       "    1.1129139249735938,\n",
       "    1.765458998175987,\n",
       "    1.3888259521548318,\n",
       "    0.0013134523023489398,\n",
       "    0.011295267575384587,\n",
       "    0.010554498315726435,\n",
       "    0.00014798382434730312,\n",
       "    0.0006559524089527876,\n",
       "    2.850470069475928e-05,\n",
       "    4.872739854878758e-05,\n",
       "    0.005736055830928185,\n",
       "    0.0009705306449347119,\n",
       "    0.0004971355831380414,\n",
       "    0.0001463203130798968,\n",
       "    0.008716256925049189,\n",
       "    0.0024624882934457123,\n",
       "    0.0432579198293519,\n",
       "    0.04713383823143101,\n",
       "    0.041799463305800894,\n",
       "    0.00014235490375204483,\n",
       "    0.00019925248691948582,\n",
       "    0.0002103541563499201,\n",
       "    0.0022928999104437618,\n",
       "    0.0,\n",
       "    1.1469832289689792,\n",
       "    1.1438482304639543,\n",
       "    0.06885326870528514,\n",
       "    0.07484717307927947,\n",
       "    0.01616734228684058,\n",
       "    0.013201543255484465,\n",
       "    0.0011336619715172915,\n",
       "    0.00020619063705641777,\n",
       "    0.0016252309206335749,\n",
       "    5.235902820900107e-06,\n",
       "    5.247221071755277e-06,\n",
       "    0.8800206980411224,\n",
       "    0.880267643991838,\n",
       "    0.03679690225749078,\n",
       "    0.031247445241651,\n",
       "    0.031011424287996133,\n",
       "    0.03702444131841258,\n",
       "    0.005068908053248691,\n",
       "    0.010800451114865564,\n",
       "    0.006382305900932177,\n",
       "    0.0007330684409104346,\n",
       "    0.0010978189876224534,\n",
       "    0.00047836885031955355,\n",
       "    1.5094599213747123e-05,\n",
       "    0.00023996585675674833,\n",
       "    3.089759232483445e-05,\n",
       "    3.229147224319179e-05,\n",
       "    0.00024135766904203698,\n",
       "    1.1469832289689792,\n",
       "    0.0,\n",
       "    0.07073941030082195,\n",
       "    1.1370471450398663,\n",
       "    0.015845699031675226,\n",
       "    0.07736675207122931,\n",
       "    0.0016213031063610172,\n",
       "    0.0001538413571253656,\n",
       "    7.332536544892502e-05,\n",
       "    0.015396139724511718,\n",
       "    2.2735198310708297e-06,\n",
       "    2.093830651112426e-06,\n",
       "    0.037245612468952555,\n",
       "    0.031453971455805085,\n",
       "    0.8808467459907977,\n",
       "    0.88110467643787,\n",
       "    0.005120373012565274,\n",
       "    0.0110171333259609,\n",
       "    0.030762856405280297,\n",
       "    0.036618320728092735,\n",
       "    0.0008277919389397716,\n",
       "    0.005200074148960032,\n",
       "    0.00020688565606112716,\n",
       "    0.00022566191353955059,\n",
       "    2.677145053193335e-05,\n",
       "    0.0010620436311132224,\n",
       "    0.0012324320912904135,\n",
       "    0.0018612253540773527,\n",
       "    0.021110344517505222,\n",
       "    1.1438482304639543,\n",
       "    0.07073941030082195,\n",
       "    0.0,\n",
       "    0.016160306045995432,\n",
       "    1.0913459106568788,\n",
       "    0.07640875121209431,\n",
       "    0.06988398917573133,\n",
       "    0.011168057905411736,\n",
       "    0.0015577400092314083,\n",
       "    0.013292586997150144,\n",
       "    4.9437161417834436e-05,\n",
       "    1.698828984444242e-05,\n",
       "    0.03771064722518699,\n",
       "    0.033209296735962256,\n",
       "    0.010791785202616293,\n",
       "    0.005261678422812941,\n",
       "    0.8698310439943886,\n",
       "    0.8713551479263054,\n",
       "    0.0007511063635512881,\n",
       "    0.0009739874240288047,\n",
       "    0.029793216426454508,\n",
       "    0.005602752186213468,\n",
       "    0.009278170773810901,\n",
       "    0.0037693287268705006,\n",
       "    8.075887364297749e-05,\n",
       "    0.0007088329924700727,\n",
       "    0.0001720485788759005,\n",
       "    0.00027458805327271456,\n",
       "    0.0015483207507958404,\n",
       "    0.06885326870528514,\n",
       "    1.1370471450398663,\n",
       "    0.016160306045995432,\n",
       "    0.0,\n",
       "    0.07604979664164548,\n",
       "    1.1111336180236673,\n",
       "    0.011535144991471498,\n",
       "    0.00043982931716031676,\n",
       "    0.0007314544699905834,\n",
       "    0.08736593588074335,\n",
       "    3.5153421591530154e-06,\n",
       "    5.7021264153885e-06,\n",
       "    0.01088273667707416,\n",
       "    0.00512446012583583,\n",
       "    0.03843732301299034,\n",
       "    0.031716866833512575,\n",
       "    0.0007733803873138125,\n",
       "    0.0008517084101106817,\n",
       "    0.8739707378423972,\n",
       "    0.8759492429339683,\n",
       "    0.007687142032787815,\n",
       "    0.031592886557462334,\n",
       "    0.0010364588484144163,\n",
       "    0.0008488685736384548,\n",
       "    0.00021222087200975357,\n",
       "    0.006821153167113014,\n",
       "    0.0037319731541492875,\n",
       "    0.0069025059843949655,\n",
       "    0.07641233679750231,\n",
       "    0.07484717307927947,\n",
       "    0.015845699031675226,\n",
       "    1.0913459106568788,\n",
       "    0.07604979664164548,\n",
       "    0.0,\n",
       "    1.062496950063004,\n",
       "    1.0813116869922792,\n",
       "    0.01699719467834382,\n",
       "    0.012456616414147121,\n",
       "    0.0814430952764519,\n",
       "    0.00013892069770824755,\n",
       "    0.00012114345154178338,\n",
       "    0.010352211009471878,\n",
       "    0.005733968060625915,\n",
       "    0.0008660288746728809,\n",
       "    0.0006466898144213968,\n",
       "    0.03132657153853999,\n",
       "    0.03760725580629694,\n",
       "    0.007034056376001674,\n",
       "    0.00969997578390553,\n",
       "    0.8286284518449599,\n",
       "    0.03167335997995017,\n",
       "    0.036636462743641456,\n",
       "    0.037794334774924304,\n",
       "    0.0003758876218610005,\n",
       "    0.0046908740453875395,\n",
       "    0.0015836465777759163,\n",
       "    0.0010254434964524068,\n",
       "    0.011137675140105519,\n",
       "    0.01616734228684058,\n",
       "    0.07736675207122931,\n",
       "    0.07640875121209431,\n",
       "    1.1111336180236673,\n",
       "    1.062496950063004,\n",
       "    0.0,\n",
       "    0.07151533539034506,\n",
       "    0.0016987933743424694,\n",
       "    0.007927742320491225,\n",
       "    1.2973117275554853,\n",
       "    2.290792591439822e-05,\n",
       "    5.013978656571087e-05,\n",
       "    0.0011784296380074938,\n",
       "    0.0006635060579071476,\n",
       "    0.010271497511561213,\n",
       "    0.005535382890660772,\n",
       "    0.006042766267759005,\n",
       "    0.010140161142550301,\n",
       "    0.03593790819082706,\n",
       "    0.03990522873686956,\n",
       "    0.03329401891855255,\n",
       "    0.8385172015412673,\n",
       "    0.0071147363480190485,\n",
       "    0.009276325134092803,\n",
       "    0.001280703647345667,\n",
       "    0.03243635408358668,\n",
       "    0.018788183690404987,\n",
       "    0.020121174513113464,\n",
       "    1.1129139249735938,\n",
       "    0.013201543255484465,\n",
       "    0.0016213031063610172,\n",
       "    0.06988398917573133,\n",
       "    0.011535144991471498,\n",
       "    1.0813116869922792,\n",
       "    0.07151533539034506,\n",
       "    0.0,\n",
       "    0.09657756697388302,\n",
       "    0.08390106606400353,\n",
       "    0.026429483558780314,\n",
       "    0.0008609025023442495,\n",
       "    0.0009185937996125651,\n",
       "    0.001033174156193187,\n",
       "    0.0004696600521042702,\n",
       "    0.00025292055921324826,\n",
       "    5.810768312118187e-05,\n",
       "    0.0038681671245630947,\n",
       "    0.005833330919634511,\n",
       "    0.0005329847103086142,\n",
       "    0.0011792964284539362,\n",
       "    0.037774408679191705,\n",
       "    0.004089782487239787,\n",
       "    0.8571020664906602,\n",
       "    0.8575560229779683,\n",
       "    0.0041879984486462496,\n",
       "    0.0006319838810892901,\n",
       "    1.509789726360789,\n",
       "    0.15123556595106144,\n",
       "    1.765458998175987,\n",
       "    0.0011336619715172915,\n",
       "    0.0001538413571253656,\n",
       "    0.011168057905411736,\n",
       "    0.00043982931716031676,\n",
       "    0.01699719467834382,\n",
       "    0.0016987933743424694,\n",
       "    0.09657756697388302,\n",
       "    0.0,\n",
       "    0.16941681436846986,\n",
       "    0.00046035958409556724,\n",
       "    0.040632517910327376,\n",
       "    0.007771822918404581,\n",
       "    0.0001438749102585178,\n",
       "    0.00018863962185765757,\n",
       "    2.9867427706209642e-05,\n",
       "    5.41055001823211e-06,\n",
       "    0.0022585533247774098,\n",
       "    0.0005774187748440937,\n",
       "    4.779977841329299e-05,\n",
       "    7.81282842523397e-05,\n",
       "    0.0011566657094578936,\n",
       "    0.0003102894613020188,\n",
       "    0.010797315045318279,\n",
       "    0.006218916463664123,\n",
       "    0.009717219235375073,\n",
       "    5.841790438078943e-05,\n",
       "    0.17729036127744396,\n",
       "    1.3702052409302758,\n",
       "    1.3888259521548318,\n",
       "    0.00020619063705641777,\n",
       "    7.332536544892502e-05,\n",
       "    0.0015577400092314083,\n",
       "    0.0007314544699905834,\n",
       "    0.012456616414147121,\n",
       "    0.007927742320491225,\n",
       "    0.08390106606400353,\n",
       "    0.16941681436846986,\n",
       "    0.0,\n",
       "    0.0014040277509810369,\n",
       "    0.00816025939352479,\n",
       "    0.03984583965503018,\n",
       "    3.445467571739198e-05,\n",
       "    6.193843705733996e-05,\n",
       "    6.04230811502769e-06,\n",
       "    1.2294953617900826e-05,\n",
       "    0.00020096316229375818,\n",
       "    0.000200296144336788,\n",
       "    0.00036140860773911404,\n",
       "    0.00010779883508077803,\n",
       "    0.001148476911355456,\n",
       "    0.003979305609252649,\n",
       "    0.004555346920643705,\n",
       "    0.008233940715248975,\n",
       "    0.8204994411399507,\n",
       "    7.226709228335715e-05,\n",
       "    0.00019571097865071457,\n",
       "    0.00027706860709353023,\n",
       "    0.0013134523023489398,\n",
       "    0.0016252309206335749,\n",
       "    0.015396139724511718,\n",
       "    0.013292586997150144,\n",
       "    0.08736593588074335,\n",
       "    0.0814430952764519,\n",
       "    1.2973117275554853,\n",
       "    0.026429483558780314,\n",
       "    0.00046035958409556724,\n",
       "    0.0014040277509810369,\n",
       "    0.0,\n",
       "    1.2228521963888034e-05,\n",
       "    4.2556033696079285e-06,\n",
       "    0.0003016167095005153,\n",
       "    7.35336641106328e-05,\n",
       "    0.001384364637659602,\n",
       "    0.0005068620667186104,\n",
       "    0.00047637909707021105,\n",
       "    0.0015224361805015467,\n",
       "    0.003483315804774344,\n",
       "    0.003667859752725364,\n",
       "    0.002866864919481437,\n",
       "    0.029312361988232633,\n",
       "    0.008686964684284777,\n",
       "    0.0010537299828303852,\n",
       "    0.0016445276871255505,\n",
       "    0.8497336866370189,\n",
       "    0.8763652038031786,\n",
       "    0.05259200638841237,\n",
       "    0.011295267575384587,\n",
       "    5.235902820900107e-06,\n",
       "    2.2735198310708297e-06,\n",
       "    4.9437161417834436e-05,\n",
       "    3.5153421591530154e-06,\n",
       "    0.00013892069770824755,\n",
       "    2.290792591439822e-05,\n",
       "    0.0008609025023442495,\n",
       "    0.040632517910327376,\n",
       "    0.00816025939352479,\n",
       "    1.2228521963888034e-05,\n",
       "    0.0,\n",
       "    0.000748560912740103,\n",
       "    9.24156138016539e-07,\n",
       "    1.8537821565007297e-06,\n",
       "    1.0984946197820076e-07,\n",
       "    4.6670632379128577e-07,\n",
       "    7.376937797072134e-06,\n",
       "    8.068039652961621e-07,\n",
       "    3.109204549762656e-06,\n",
       "    1.9297909437542345e-07,\n",
       "    7.752318521603122e-06,\n",
       "    5.303583227613889e-06,\n",
       "    0.0002448089094481604,\n",
       "    4.660859815829397e-05,\n",
       "    0.0003012834360333824,\n",
       "    2.3711041408876395e-06,\n",
       "    0.051549722852628696,\n",
       "    0.8751249403029628,\n",
       "    0.010554498315726435,\n",
       "    5.247221071755277e-06,\n",
       "    2.093830651112426e-06,\n",
       "    1.698828984444242e-05,\n",
       "    5.7021264153885e-06,\n",
       "    0.00012114345154178338,\n",
       "    5.013978656571087e-05,\n",
       "    0.0009185937996125651,\n",
       "    0.007771822918404581,\n",
       "    0.03984583965503018,\n",
       "    4.2556033696079285e-06,\n",
       "    0.000748560912740103,\n",
       "    0.0,\n",
       "    1.9508650744994802e-07,\n",
       "    2.7337143542006866e-06,\n",
       "    1.334171324569129e-07,\n",
       "    4.396014636836644e-07,\n",
       "    1.2905108554368158e-05,\n",
       "    1.6439301985020041e-06,\n",
       "    9.66287193109009e-07,\n",
       "    1.5983692389664085e-06,\n",
       "    1.0211934668015965e-05,\n",
       "    6.460685686931314e-06,\n",
       "    5.1768521270962684e-05,\n",
       "    0.00034678417495345596,\n",
       "    0.0012036303056262305,\n",
       "    5.055925717230686e-07,\n",
       "    2.8688643126767025e-05,\n",
       "    5.952591326830407e-05,\n",
       "    0.00014798382434730312,\n",
       "    0.8800206980411224,\n",
       "    0.037245612468952555,\n",
       "    0.03771064722518699,\n",
       "    0.01088273667707416,\n",
       "    0.010352211009471878,\n",
       "    0.0011784296380074938,\n",
       "    0.001033174156193187,\n",
       "    0.0001438749102585178,\n",
       "    3.445467571739198e-05,\n",
       "    0.0003016167095005153,\n",
       "    9.24156138016539e-07,\n",
       "    1.9508650744994802e-07,\n",
       "    0.0,\n",
       "    0.006953560204498498,\n",
       "    0.0011492135713269225,\n",
       "    0.0018797748858141719,\n",
       "    0.0017587621886566663,\n",
       "    0.0011864369942640122,\n",
       "    0.0004651239651097765,\n",
       "    0.0002846247671115112,\n",
       "    0.000604546737265365,\n",
       "    2.1644874596728466e-05,\n",
       "    0.0003204733213071365,\n",
       "    2.993362458232336e-05,\n",
       "    1.14308837617547e-06,\n",
       "    2.192454947713541e-05,\n",
       "    6.610502817989718e-05,\n",
       "    6.032056056070217e-05,\n",
       "    0.0006559524089527876,\n",
       "    0.880267643991838,\n",
       "    0.031453971455805085,\n",
       "    0.033209296735962256,\n",
       "    0.00512446012583583,\n",
       "    0.005733968060625915,\n",
       "    0.0006635060579071476,\n",
       "    0.0004696600521042702,\n",
       "    0.00018863962185765757,\n",
       "    6.193843705733996e-05,\n",
       "    7.35336641106328e-05,\n",
       "    1.8537821565007297e-06,\n",
       "    2.7337143542006866e-06,\n",
       "    0.006953560204498498,\n",
       "    0.0,\n",
       "    0.0018335646821533414,\n",
       "    0.012413965062364552,\n",
       "    0.012026709561000163,\n",
       "    0.0017138758540153217,\n",
       "    0.0006501880700153628,\n",
       "    0.00042578766885409907,\n",
       "    0.0009728819570046954,\n",
       "    0.0004519566501237956,\n",
       "    4.833727044416508e-05,\n",
       "    5.23337682613553e-05,\n",
       "    2.474643880694556e-06,\n",
       "    5.746689026072623e-05,\n",
       "    3.063850329218305e-06,\n",
       "    2.227526574792299e-06,\n",
       "    2.850470069475928e-05,\n",
       "    0.03679690225749078,\n",
       "    0.8808467459907977,\n",
       "    0.010791785202616293,\n",
       "    0.03843732301299034,\n",
       "    0.0008660288746728809,\n",
       "    0.010271497511561213,\n",
       "    0.00025292055921324826,\n",
       "    2.9867427706209642e-05,\n",
       "    6.04230811502769e-06,\n",
       "    0.001384364637659602,\n",
       "    1.0984946197820076e-07,\n",
       "    1.334171324569129e-07,\n",
       "    0.0011492135713269225,\n",
       "    0.0018335646821533414,\n",
       "    0.0,\n",
       "    0.007025760467121105,\n",
       "    0.0004645515781363368,\n",
       "    0.0003639865132020802,\n",
       "    0.0017728057691117837,\n",
       "    0.0011828092665069232,\n",
       "    1.4004450100877824e-05,\n",
       "    0.00044955271116078443,\n",
       "    9.594352303687376e-06,\n",
       "    1.621268870579173e-05,\n",
       "    1.36753167579231e-06,\n",
       "    0.00015272230623079977,\n",
       "    3.844101940505674e-06,\n",
       "    4.60315263567833e-06,\n",
       "    4.872739854878758e-05,\n",
       "    0.031247445241651,\n",
       "    0.88110467643787,\n",
       "    0.005261678422812941,\n",
       "    0.031716866833512575,\n",
       "    0.0006466898144213968,\n",
       "    0.005535382890660772,\n",
       "    5.810768312118187e-05,\n",
       "    5.41055001823211e-06,\n",
       "    1.2294953617900826e-05,\n",
       "    0.0005068620667186104,\n",
       "    4.6670632379128577e-07,\n",
       "    4.396014636836644e-07,\n",
       "    0.0018797748858141719,\n",
       "    0.012413965062364552,\n",
       "    0.007025760467121105,\n",
       "    0.0,\n",
       "    0.000608943785350949,\n",
       "    0.00046958905743562426,\n",
       "    0.012499562787761275,\n",
       "    0.001760956633798542,\n",
       "    0.0005235592121682274,\n",
       "    0.0007766829161353336,\n",
       "    1.619559987790553e-05,\n",
       "    1.4725871883719433e-05,\n",
       "    7.817802797965284e-06,\n",
       "    0.00042348123959495083,\n",
       "    0.00033133990512174166,\n",
       "    0.00036872791331138324,\n",
       "    0.005736055830928185,\n",
       "    0.031011424287996133,\n",
       "    0.005120373012565274,\n",
       "    0.8698310439943886,\n",
       "    0.0007733803873138125,\n",
       "    0.03132657153853999,\n",
       "    0.006042766267759005,\n",
       "    0.0038681671245630947,\n",
       "    0.0022585533247774098,\n",
       "    0.00020096316229375818,\n",
       "    0.00047637909707021105,\n",
       "    7.376937797072134e-06,\n",
       "    1.2905108554368158e-05,\n",
       "    0.0017587621886566663,\n",
       "    0.012026709561000163,\n",
       "    0.0004645515781363368,\n",
       "    0.000608943785350949,\n",
       "    0.0,\n",
       "    0.006877892597599911,\n",
       "    0.00046713673221894243,\n",
       "    3.125505990646342e-05,\n",
       "    0.012184158514719944,\n",
       "    0.0008860898001895232,\n",
       "    0.00044680831362704906,\n",
       "    1.4068123290004262e-05,\n",
       "    4.747432680362884e-06,\n",
       "    0.00031875448707222324,\n",
       "    9.144247636008568e-05,\n",
       "    8.579615882825563e-05,\n",
       "    0.0009705306449347119,\n",
       "    0.03702444131841258,\n",
       "    0.0110171333259609,\n",
       "    0.8713551479263054,\n",
       "    0.0008517084101106817,\n",
       "    0.03760725580629694,\n",
       "    0.010140161142550301,\n",
       "    0.005833330919634511,\n",
       "    0.0005774187748440937,\n",
       "    0.000200296144336788,\n",
       "    0.0015224361805015467,\n",
       "    8.068039652961621e-07,\n",
       "    1.6439301985020041e-06,\n",
       "    0.0011864369942640122,\n",
       "    0.0017138758540153217,\n",
       "    0.0003639865132020802,\n",
       "    0.00046958905743562426,\n",
       "    0.006877892597599911,\n",
       "    0.0,\n",
       "    2.1088320334189234e-05,\n",
       "    0.00021511767410401026,\n",
       "    0.0015613589154731336,\n",
       "    0.00039451124986610193,\n",
       "    0.0005001270931809498,\n",
       "    0.0003978863360957494,\n",
       "    1.605068412239218e-05,\n",
       "    0.00020356288430950262,\n",
       "    3.615957344459059e-05,\n",
       "    4.705285900973386e-05,\n",
       "    0.0004971355831380414,\n",
       "    0.005068908053248691,\n",
       "    0.030762856405280297,\n",
       "    0.0007511063635512881,\n",
       "    0.8739707378423972,\n",
       "    0.007034056376001674,\n",
       "    0.03593790819082706,\n",
       "    0.0005329847103086142,\n",
       "    4.779977841329299e-05,\n",
       "    0.00036140860773911404,\n",
       "    0.003483315804774344,\n",
       "    3.109204549762656e-06,\n",
       "    9.66287193109009e-07,\n",
       "    0.0004651239651097765,\n",
       "    0.0006501880700153628,\n",
       "    0.0017728057691117837,\n",
       "    0.012499562787761275,\n",
       "    0.00046713673221894243,\n",
       "    2.1088320334189234e-05,\n",
       "    0.0,\n",
       "    0.006792798972072602,\n",
       "    0.0012602266103133228,\n",
       "    0.012019399582006526,\n",
       "    4.9581667076724546e-05,\n",
       "    4.34370620012497e-05,\n",
       "    0.00015602342628558727,\n",
       "    0.0019238798339769735,\n",
       "    4.164084275737554e-05,\n",
       "    7.42212853896952e-05,\n",
       "    0.0001463203130798968,\n",
       "    0.010800451114865564,\n",
       "    0.036618320728092735,\n",
       "    0.0009739874240288047,\n",
       "    0.8759492429339683,\n",
       "    0.00969997578390553,\n",
       "    0.03990522873686956,\n",
       "    0.0011792964284539362,\n",
       "    7.81282842523397e-05,\n",
       "    0.00010779883508077803,\n",
       "    0.003667859752725364,\n",
       "    1.9297909437542345e-07,\n",
       "    1.5983692389664085e-06,\n",
       "    0.0002846247671115112,\n",
       "    0.00042578766885409907,\n",
       "    0.0011828092665069232,\n",
       "    0.001760956633798542,\n",
       "    3.125505990646342e-05,\n",
       "    0.00021511767410401026,\n",
       "    0.006792798972072602,\n",
       "    0.0,\n",
       "    0.0005507460276461787,\n",
       "    0.001895992179889826,\n",
       "    5.7875906719287317e-05,\n",
       "    0.00027772990795949903,\n",
       "    1.8279001462910132e-06,\n",
       "    0.00010672011232855147,\n",
       "    0.000581420659567636,\n",
       "    0.0007811744986019875,\n",
       "    0.008716256925049189,\n",
       "    0.006382305900932177,\n",
       "    0.0008277919389397716,\n",
       "    0.029793216426454508,\n",
       "    0.007687142032787815,\n",
       "    0.8286284518449599,\n",
       "    0.03329401891855255,\n",
       "    0.037774408679191705,\n",
       "    0.0011566657094578936,\n",
       "    0.001148476911355456,\n",
       "    0.002866864919481437,\n",
       "    7.752318521603122e-06,\n",
       "    1.0211934668015965e-05,\n",
       "    0.000604546737265365,\n",
       "    0.0009728819570046954,\n",
       "    1.4004450100877824e-05,\n",
       "    0.0005235592121682274,\n",
       "    0.012184158514719944,\n",
       "    0.0015613589154731336,\n",
       "    0.0012602266103133228,\n",
       "    0.0005507460276461787,\n",
       "    0.0,\n",
       "    0.01173742387022854,\n",
       "    0.0011231121300025852,\n",
       "    0.0025267176785017526,\n",
       "    0.00013538683637504413,\n",
       "    0.0010851991432914282,\n",
       "    0.000557544794781678,\n",
       "    0.00034654094006648223,\n",
       "    0.0024624882934457123,\n",
       "    0.0007330684409104346,\n",
       "    0.005200074148960032,\n",
       "    0.005602752186213468,\n",
       "    0.031592886557462334,\n",
       "    0.03167335997995017,\n",
       "    0.8385172015412673,\n",
       "    0.004089782487239787,\n",
       "    0.0003102894613020188,\n",
       "    0.003979305609252649,\n",
       "    0.029312361988232633,\n",
       "    5.303583227613889e-06,\n",
       "    6.460685686931314e-06,\n",
       "    2.1644874596728466e-05,\n",
       "    0.0004519566501237956,\n",
       "    0.00044955271116078443,\n",
       "    0.0007766829161353336,\n",
       "    0.0008860898001895232,\n",
       "    0.00039451124986610193,\n",
       "    0.012019399582006526,\n",
       "    0.001895992179889826,\n",
       "    0.01173742387022854,\n",
       "    0.0,\n",
       "    6.478115829279101e-05,\n",
       "    0.00042929882411395524,\n",
       "    0.00047400610794584553,\n",
       "    0.013334849212163529,\n",
       "    0.001506267267823436,\n",
       "    0.0022762268531989344,\n",
       "    0.0432579198293519,\n",
       "    0.0010978189876224534,\n",
       "    0.00020688565606112716,\n",
       "    0.009278170773810901,\n",
       "    0.0010364588484144163,\n",
       "    0.036636462743641456,\n",
       "    0.0071147363480190485,\n",
       "    0.8571020664906602,\n",
       "    0.010797315045318279,\n",
       "    0.004555346920643705,\n",
       "    0.008686964684284777,\n",
       "    0.0002448089094481604,\n",
       "    5.1768521270962684e-05,\n",
       "    0.0003204733213071365,\n",
       "    4.833727044416508e-05,\n",
       "    9.594352303687376e-06,\n",
       "    1.619559987790553e-05,\n",
       "    0.00044680831362704906,\n",
       "    0.0005001270931809498,\n",
       "    4.9581667076724546e-05,\n",
       "    5.7875906719287317e-05,\n",
       "    0.0011231121300025852,\n",
       "    6.478115829279101e-05,\n",
       "    0.0,\n",
       "    0.007473965477997144,\n",
       "    0.0003754800598778381,\n",
       "    0.00012339169025045286,\n",
       "    0.0013210008451518505,\n",
       "    0.0018307793055434003,\n",
       "    0.04713383823143101,\n",
       "    0.00047836885031955355,\n",
       "    0.00022566191353955059,\n",
       "    0.0037693287268705006,\n",
       "    0.0008488685736384548,\n",
       "    0.037794334774924304,\n",
       "    0.009276325134092803,\n",
       "    0.8575560229779683,\n",
       "    0.006218916463664123,\n",
       "    0.008233940715248975,\n",
       "    0.0010537299828303852,\n",
       "    4.660859815829397e-05,\n",
       "    0.00034678417495345596,\n",
       "    2.993362458232336e-05,\n",
       "    5.23337682613553e-05,\n",
       "    1.621268870579173e-05,\n",
       "    1.4725871883719433e-05,\n",
       "    1.4068123290004262e-05,\n",
       "    0.0003978863360957494,\n",
       "    4.34370620012497e-05,\n",
       "    0.00027772990795949903,\n",
       "    0.0025267176785017526,\n",
       "    0.00042929882411395524,\n",
       "    0.007473965477997144,\n",
       "    0.0,\n",
       "    0.0003771298089156619,\n",
       "    1.133082324056966e-05,\n",
       "    0.011161448310758215,\n",
       "    0.0380631122763809,\n",
       "    0.041799463305800894,\n",
       "    1.5094599213747123e-05,\n",
       "    2.677145053193335e-05,\n",
       "    8.075887364297749e-05,\n",
       "    0.00021222087200975357,\n",
       "    0.0003758876218610005,\n",
       "    0.001280703647345667,\n",
       "    0.0041879984486462496,\n",
       "    0.009717219235375073,\n",
       "    0.8204994411399507,\n",
       "    0.0016445276871255505,\n",
       "    0.0003012834360333824,\n",
       "    0.0012036303056262305,\n",
       "    1.14308837617547e-06,\n",
       "    2.474643880694556e-06,\n",
       "    1.36753167579231e-06,\n",
       "    7.817802797965284e-06,\n",
       "    4.747432680362884e-06,\n",
       "    1.605068412239218e-05,\n",
       "    0.00015602342628558727,\n",
       "    1.8279001462910132e-06,\n",
       "    0.00013538683637504413,\n",
       "    0.00047400610794584553,\n",
       "    0.0003754800598778381,\n",
       "    0.0003771298089156619,\n",
       "    0.0,\n",
       "    2.4859025606398194e-05,\n",
       "    1.8920587899765994e-05,\n",
       "    3.954823568007147e-05,\n",
       "    0.00014235490375204483,\n",
       "    0.00023996585675674833,\n",
       "    0.0010620436311132224,\n",
       "    0.0007088329924700727,\n",
       "    0.006821153167113014,\n",
       "    0.0046908740453875395,\n",
       "    0.03243635408358668,\n",
       "    0.0006319838810892901,\n",
       "    5.841790438078943e-05,\n",
       "    7.226709228335715e-05,\n",
       "    0.8497336866370189,\n",
       "    2.3711041408876395e-06,\n",
       "    5.055925717230686e-07,\n",
       "    2.192454947713541e-05,\n",
       "    5.746689026072623e-05,\n",
       "    0.00015272230623079977,\n",
       "    0.00042348123959495083,\n",
       "    0.00031875448707222324,\n",
       "    0.00020356288430950262,\n",
       "    0.0019238798339769735,\n",
       "    0.00010672011232855147,\n",
       "    0.0010851991432914282,\n",
       "    0.013334849212163529,\n",
       "    0.00012339169025045286,\n",
       "    1.133082324056966e-05,\n",
       "    2.4859025606398194e-05,\n",
       "    0.0]}},\n",
       " 'stdout': '21949925',\n",
       " 'stderr': None,\n",
       " 'error': None,\n",
       " 'manager_name': None,\n",
       " 'status': <RecordStatusEnum.complete: 'COMPLETE'>,\n",
       " 'modified_on': datetime.datetime(2020, 3, 26, 6, 14, 1, 705704),\n",
       " 'created_on': datetime.datetime(2020, 3, 26, 6, 14, 1, 705704),\n",
       " 'provenance': {'creator': 'Psi4',\n",
       "  'version': '1.3.2',\n",
       "  'routine': 'psi4.json.run_json',\n",
       "  'wall_time': 20.40800976753235,\n",
       "  'username': 'qcfractal',\n",
       "  'nthreads': 16,\n",
       "  'qcengine_version': 'v0.13.0',\n",
       "  'hostname': 'openff-qca-77f8f57b5-nj7k9',\n",
       "  'memory': 24.0,\n",
       "  'cpu': 'Intel(R) Xeon(R) Gold 6136 CPU @ 3.00GHz'},\n",
       " 'driver': <DriverEnum.gradient: 'gradient'>,\n",
       " 'method': 'b3lyp-d3bj',\n",
       " 'molecule': '12461112',\n",
       " 'basis': 'dzvp',\n",
       " 'keywords': '2',\n",
       " 'return_result': array([[-4.2335718224426879e-05,  7.6469031820025797e-05,\n",
       "          1.0469158314332970e-04],\n",
       "        [ 4.5099135437152321e-05,  3.8296928448513492e-06,\n",
       "         -9.0914380438763978e-05],\n",
       "        [-2.2353597219207993e-03, -3.4918676683967412e-03,\n",
       "          7.9969232711743640e-04],\n",
       "        [-9.0129219665363472e-06, -6.0602098798321615e-07,\n",
       "          1.4116054655501694e-05],\n",
       "        [-3.7647290718348836e-05, -6.7003906449722081e-06,\n",
       "          9.9323305023885176e-07],\n",
       "        [ 5.5379526521318122e-05,  2.5837944239408630e-05,\n",
       "         -7.0788962932520790e-05],\n",
       "        [-3.3306265401686010e-05,  1.4578543249846266e-05,\n",
       "         -4.4327434855105088e-05],\n",
       "        [ 2.3370657675588049e-03, -4.5781725509902614e-03,\n",
       "          3.8541770748841808e-03],\n",
       "        [-2.2688228799233731e-03,  2.2462696061885880e-03,\n",
       "         -2.4927220550212585e-03],\n",
       "        [ 2.1950655705585374e-03,  5.7458151802710069e-03,\n",
       "         -2.1452607332205749e-03],\n",
       "        [-1.6420341200652430e-05, -4.2166908651117187e-05,\n",
       "         -4.8777726255484121e-05],\n",
       "        [ 4.4843876146581749e-05, -3.4757767981510152e-05,\n",
       "          4.4231132134471134e-05],\n",
       "        [-3.4564186885114253e-05, -3.5112239520679236e-05,\n",
       "          7.3506147007943237e-08],\n",
       "        [ 2.9296003832294994e-06,  2.3126790508791125e-06,\n",
       "         -7.4335595466146646e-06],\n",
       "        [ 5.1809754734589812e-06, -1.1621965867129321e-06,\n",
       "          1.6910508392615714e-05],\n",
       "        [-9.1182400653345985e-06,  1.6836566159627941e-05,\n",
       "          1.4304251292824796e-05],\n",
       "        [ 2.7421221641532188e-06, -4.9210345215124551e-06,\n",
       "         -1.3662211015459696e-05],\n",
       "        [ 1.4949394203320210e-05, -8.9970821955283060e-06,\n",
       "          1.7524889217647693e-05],\n",
       "        [ 1.1585077997786986e-05, -1.2344317972396151e-06,\n",
       "         -2.0579452674944032e-05],\n",
       "        [-1.2682170281727478e-05, -5.5460662694914041e-06,\n",
       "          1.8751088375026925e-05],\n",
       "        [-1.3287737899646507e-06,  4.6033970425713973e-06,\n",
       "         -3.7360926713050978e-06],\n",
       "        [ 1.2113427001835621e-05,  1.2423372563257222e-05,\n",
       "         -7.8797682681970699e-06],\n",
       "        [ 4.5324321814596227e-06, -1.7506830571906260e-05,\n",
       "          3.5979461545841777e-05],\n",
       "        [ 8.0674557876375609e-06,  4.5742341933965432e-05,\n",
       "         -9.5600084035348497e-07],\n",
       "        [ 3.1784885776145661e-06,  3.7228188621338536e-05,\n",
       "         -3.0024564764094698e-06],\n",
       "        [ 1.6541089493966792e-05,  8.2782077293423616e-06,\n",
       "          2.0220914196117617e-05],\n",
       "        [ 2.1855455089506810e-06, -6.9700613625892679e-06,\n",
       "          2.2498306933575426e-05],\n",
       "        [-1.2275438044389783e-05, -5.7770669503212049e-06,\n",
       "          8.0387423724940783e-06],\n",
       "        [ 1.3894576368148263e-06, -5.8391201571828108e-07,\n",
       "          5.7036389644299465e-06]]),\n",
       " 'properties': {'calcinfo_nbasis': 214,\n",
       "  'calcinfo_nmo': 214,\n",
       "  'calcinfo_nalpha': 49,\n",
       "  'calcinfo_nbeta': 49,\n",
       "  'calcinfo_natom': 29,\n",
       "  'nuclear_repulsion_energy': 833.4643102008332,\n",
       "  'return_energy': -575.5475068190555,\n",
       "  'scf_one_electron_energy': -2433.259724119016,\n",
       "  'scf_two_electron_energy': 1091.0648844152443,\n",
       "  'scf_xc_energy': -66.76322388611668,\n",
       "  'scf_dispersion_correction_energy': -0.05375343,\n",
       "  'scf_dipole_moment': array([-0.4823645602634478,  2.9296489385395854,  0.4727256043554128]),\n",
       "  'scf_total_energy': -575.5475068190555,\n",
       "  'scf_iterations': 13},\n",
       " 'wavefunction': None,\n",
       " 'wavefunction_data_id': None}"
      ]
     },
     "execution_count": 87,
     "metadata": {},
     "output_type": "execute_result"
    }
   ],
   "source": [
    "v.dict()"
   ]
  },
  {
   "cell_type": "code",
   "execution_count": 88,
   "id": "9ecb753f-d0bb-41da-8992-1fe6f5493df0",
   "metadata": {},
   "outputs": [
    {
     "data": {
      "text/plain": [
       "-575.5475068190555"
      ]
     },
     "execution_count": 88,
     "metadata": {},
     "output_type": "execute_result"
    }
   ],
   "source": [
    "v.properties.return_energy"
   ]
  },
  {
   "cell_type": "code",
   "execution_count": 89,
   "id": "5ef638f2-866e-45e3-aee2-babee3177f80",
   "metadata": {
    "scrolled": true,
    "tags": []
   },
   "outputs": [
    {
     "data": {
      "text/plain": [
       "array([[-4.2335718224426879e-05,  7.6469031820025797e-05,\n",
       "         1.0469158314332970e-04],\n",
       "       [ 4.5099135437152321e-05,  3.8296928448513492e-06,\n",
       "        -9.0914380438763978e-05],\n",
       "       [-2.2353597219207993e-03, -3.4918676683967412e-03,\n",
       "         7.9969232711743640e-04],\n",
       "       [-9.0129219665363472e-06, -6.0602098798321615e-07,\n",
       "         1.4116054655501694e-05],\n",
       "       [-3.7647290718348836e-05, -6.7003906449722081e-06,\n",
       "         9.9323305023885176e-07],\n",
       "       [ 5.5379526521318122e-05,  2.5837944239408630e-05,\n",
       "        -7.0788962932520790e-05],\n",
       "       [-3.3306265401686010e-05,  1.4578543249846266e-05,\n",
       "        -4.4327434855105088e-05],\n",
       "       [ 2.3370657675588049e-03, -4.5781725509902614e-03,\n",
       "         3.8541770748841808e-03],\n",
       "       [-2.2688228799233731e-03,  2.2462696061885880e-03,\n",
       "        -2.4927220550212585e-03],\n",
       "       [ 2.1950655705585374e-03,  5.7458151802710069e-03,\n",
       "        -2.1452607332205749e-03],\n",
       "       [-1.6420341200652430e-05, -4.2166908651117187e-05,\n",
       "        -4.8777726255484121e-05],\n",
       "       [ 4.4843876146581749e-05, -3.4757767981510152e-05,\n",
       "         4.4231132134471134e-05],\n",
       "       [-3.4564186885114253e-05, -3.5112239520679236e-05,\n",
       "         7.3506147007943237e-08],\n",
       "       [ 2.9296003832294994e-06,  2.3126790508791125e-06,\n",
       "        -7.4335595466146646e-06],\n",
       "       [ 5.1809754734589812e-06, -1.1621965867129321e-06,\n",
       "         1.6910508392615714e-05],\n",
       "       [-9.1182400653345985e-06,  1.6836566159627941e-05,\n",
       "         1.4304251292824796e-05],\n",
       "       [ 2.7421221641532188e-06, -4.9210345215124551e-06,\n",
       "        -1.3662211015459696e-05],\n",
       "       [ 1.4949394203320210e-05, -8.9970821955283060e-06,\n",
       "         1.7524889217647693e-05],\n",
       "       [ 1.1585077997786986e-05, -1.2344317972396151e-06,\n",
       "        -2.0579452674944032e-05],\n",
       "       [-1.2682170281727478e-05, -5.5460662694914041e-06,\n",
       "         1.8751088375026925e-05],\n",
       "       [-1.3287737899646507e-06,  4.6033970425713973e-06,\n",
       "        -3.7360926713050978e-06],\n",
       "       [ 1.2113427001835621e-05,  1.2423372563257222e-05,\n",
       "        -7.8797682681970699e-06],\n",
       "       [ 4.5324321814596227e-06, -1.7506830571906260e-05,\n",
       "         3.5979461545841777e-05],\n",
       "       [ 8.0674557876375609e-06,  4.5742341933965432e-05,\n",
       "        -9.5600084035348497e-07],\n",
       "       [ 3.1784885776145661e-06,  3.7228188621338536e-05,\n",
       "        -3.0024564764094698e-06],\n",
       "       [ 1.6541089493966792e-05,  8.2782077293423616e-06,\n",
       "         2.0220914196117617e-05],\n",
       "       [ 2.1855455089506810e-06, -6.9700613625892679e-06,\n",
       "         2.2498306933575426e-05],\n",
       "       [-1.2275438044389783e-05, -5.7770669503212049e-06,\n",
       "         8.0387423724940783e-06],\n",
       "       [ 1.3894576368148263e-06, -5.8391201571828108e-07,\n",
       "         5.7036389644299465e-06]])"
      ]
     },
     "execution_count": 89,
     "metadata": {},
     "output_type": "execute_result"
    }
   ],
   "source": [
    "v.return_result"
   ]
  },
  {
   "cell_type": "code",
   "execution_count": 90,
   "id": "5460f938-db95-41e4-818d-1f9cb474050c",
   "metadata": {},
   "outputs": [
    {
     "data": {
      "text/plain": [
       "<bound method TorsionDriveRecord.get_final_molecules of TorsionDriveRecord(id='18535804', status='COMPLETE')>"
      ]
     },
     "execution_count": 90,
     "metadata": {},
     "output_type": "execute_result"
    }
   ],
   "source": [
    "td_record.get_final_molecules"
   ]
  },
  {
   "cell_type": "code",
   "execution_count": 91,
   "id": "eb1088e2-4184-4f1c-97b0-b11e75dbf8d4",
   "metadata": {},
   "outputs": [
    {
     "name": "stdout",
     "output_type": "stream",
     "text": [
      "(60,)\n",
      "(15,)\n",
      "(45,)\n",
      "(0,)\n",
      "(30,)\n",
      "(-15,)\n",
      "(-45,)\n",
      "(-60,)\n",
      "(-30,)\n",
      "(-75,)\n",
      "(-90,)\n",
      "(-105,)\n",
      "(-120,)\n",
      "(-135,)\n",
      "(180,)\n",
      "(-165,)\n",
      "(-150,)\n",
      "(150,)\n",
      "(165,)\n",
      "(120,)\n",
      "(105,)\n",
      "(135,)\n",
      "(90,)\n",
      "(75,)\n"
     ]
    }
   ],
   "source": [
    "for k, v in td_record.get_final_molecules().items():\n",
    "    print(k)"
   ]
  },
  {
   "cell_type": "code",
   "execution_count": 92,
   "id": "af58898e-64f1-42cd-9391-0e2c1bf7cf9a",
   "metadata": {},
   "outputs": [
    {
     "data": {
      "text/plain": [
       "array([[  5.67326375,  -8.30456978,  -6.8427881 ],\n",
       "       [  7.01508576,  -6.09671435,  -7.1520969 ],\n",
       "       [  2.90920966,  -5.48715815,  -7.89520518],\n",
       "       [ -2.40760388,  -3.151101  ,  -1.70161313],\n",
       "       [ -1.03405997,  -0.70950816,  -0.94965693],\n",
       "       [ -1.03313115,  -4.51212786,  -3.86179859],\n",
       "       [ -0.62203155,   1.02554107,  -3.24051098],\n",
       "       [ -0.67895031,  -2.7674286 ,  -6.15371902],\n",
       "       [  0.75310481,  -0.35867208,  -5.37539316],\n",
       "       [  0.52152049,  -4.08835795,  -8.46745754],\n",
       "       [  3.13303794,  -7.90820349,  -7.30696329],\n",
       "       [  5.22389585,  -4.30994661,  -7.82126454],\n",
       "       [  1.27000424,   1.28082634,  -7.47920494],\n",
       "       [  6.38896391, -10.15015747,  -6.32718932],\n",
       "       [  9.00046293,  -5.64935205,  -6.98389068],\n",
       "       [ -2.57393661,  -4.407757  ,  -0.06354877],\n",
       "       [ -4.34375406,  -2.69276153,  -2.29627999],\n",
       "       [ -2.0908346 ,   0.29805223,   0.5192929 ],\n",
       "       [  0.80969675,  -1.19051955,  -0.12654846],\n",
       "       [  0.81905591,  -5.17208024,  -3.20852842],\n",
       "       [ -2.06903536,  -6.20953105,  -4.43684806],\n",
       "       [ -2.4626423 ,   1.68723585,  -3.94873527],\n",
       "       [  0.46426333,   2.70647751,  -2.71137713],\n",
       "       [ -2.57198418,  -2.14922212,  -6.76959739],\n",
       "       [  2.63429128,  -0.89943394,  -4.69474095],\n",
       "       [  0.85443079,  -2.68646978,  -9.94875783],\n",
       "       [ -0.82233366,  -5.4757886 ,  -9.2036312 ],\n",
       "       [  5.53824676,  -2.4663628 ,  -8.22493239],\n",
       "       [ -0.33123127,   1.95189189,  -8.07393411]])"
      ]
     },
     "execution_count": 92,
     "metadata": {},
     "output_type": "execute_result"
    }
   ],
   "source": [
    "v.geometry"
   ]
  },
  {
   "cell_type": "code",
   "execution_count": 93,
   "id": "c777e47a-09b1-41af-a5ff-75a3a04610af",
   "metadata": {},
   "outputs": [
    {
     "data": {
      "text/plain": [
       "array([6, 6, 6, 6, 6, 6, 6, 6, 6, 6, 7, 7, 8, 1, 1, 1, 1, 1, 1, 1, 1, 1,\n",
       "       1, 1, 1, 1, 1, 1, 1])"
      ]
     },
     "execution_count": 93,
     "metadata": {},
     "output_type": "execute_result"
    }
   ],
   "source": [
    "v.atomic_numbers"
   ]
  },
  {
   "cell_type": "code",
   "execution_count": 94,
   "id": "08ea4deb-a96f-454e-95b9-57366ebca956",
   "metadata": {},
   "outputs": [
    {
     "data": {
      "text/plain": [
       "{'schema_name': 'qcschema_molecule',\n",
       " 'schema_version': 2,\n",
       " 'validated': True,\n",
       " 'symbols': array(['C', 'C', 'C', 'C', 'C', 'C', 'C', 'C', 'C', 'C', 'N', 'N', 'O',\n",
       "        'H', 'H', 'H', 'H', 'H', 'H', 'H', 'H', 'H', 'H', 'H', 'H', 'H',\n",
       "        'H', 'H', 'H'], dtype='<U1'),\n",
       " 'geometry': array([[  5.67326375,  -8.30456978,  -6.8427881 ],\n",
       "        [  7.01508576,  -6.09671435,  -7.1520969 ],\n",
       "        [  2.90920966,  -5.48715815,  -7.89520518],\n",
       "        [ -2.40760388,  -3.151101  ,  -1.70161313],\n",
       "        [ -1.03405997,  -0.70950816,  -0.94965693],\n",
       "        [ -1.03313115,  -4.51212786,  -3.86179859],\n",
       "        [ -0.62203155,   1.02554107,  -3.24051098],\n",
       "        [ -0.67895031,  -2.7674286 ,  -6.15371902],\n",
       "        [  0.75310481,  -0.35867208,  -5.37539316],\n",
       "        [  0.52152049,  -4.08835795,  -8.46745754],\n",
       "        [  3.13303794,  -7.90820349,  -7.30696329],\n",
       "        [  5.22389585,  -4.30994661,  -7.82126454],\n",
       "        [  1.27000424,   1.28082634,  -7.47920494],\n",
       "        [  6.38896391, -10.15015747,  -6.32718932],\n",
       "        [  9.00046293,  -5.64935205,  -6.98389068],\n",
       "        [ -2.57393661,  -4.407757  ,  -0.06354877],\n",
       "        [ -4.34375406,  -2.69276153,  -2.29627999],\n",
       "        [ -2.0908346 ,   0.29805223,   0.5192929 ],\n",
       "        [  0.80969675,  -1.19051955,  -0.12654846],\n",
       "        [  0.81905591,  -5.17208024,  -3.20852842],\n",
       "        [ -2.06903536,  -6.20953105,  -4.43684806],\n",
       "        [ -2.4626423 ,   1.68723585,  -3.94873527],\n",
       "        [  0.46426333,   2.70647751,  -2.71137713],\n",
       "        [ -2.57198418,  -2.14922212,  -6.76959739],\n",
       "        [  2.63429128,  -0.89943394,  -4.69474095],\n",
       "        [  0.85443079,  -2.68646978,  -9.94875783],\n",
       "        [ -0.82233366,  -5.4757886 ,  -9.2036312 ],\n",
       "        [  5.53824676,  -2.4663628 ,  -8.22493239],\n",
       "        [ -0.33123127,   1.95189189,  -8.07393411]]),\n",
       " 'name': 'C10H16N2O',\n",
       " 'identifiers': {'molecule_hash': '6b10e4cec089a243197fbffcd35296ab6e90e2a2',\n",
       "  'molecular_formula': 'C10H16N2O'},\n",
       " 'molecular_charge': 0.0,\n",
       " 'molecular_multiplicity': 1,\n",
       " 'connectivity': [(0, 1, 2.0),\n",
       "  (0, 10, 1.0),\n",
       "  (0, 13, 1.0),\n",
       "  (1, 11, 1.0),\n",
       "  (1, 14, 1.0),\n",
       "  (2, 9, 1.0),\n",
       "  (2, 10, 2.0),\n",
       "  (2, 11, 1.0),\n",
       "  (3, 4, 1.0),\n",
       "  (3, 5, 1.0),\n",
       "  (3, 15, 1.0),\n",
       "  (3, 16, 1.0),\n",
       "  (4, 6, 1.0),\n",
       "  (4, 17, 1.0),\n",
       "  (4, 18, 1.0),\n",
       "  (5, 7, 1.0),\n",
       "  (5, 19, 1.0),\n",
       "  (5, 20, 1.0),\n",
       "  (6, 8, 1.0),\n",
       "  (6, 21, 1.0),\n",
       "  (6, 22, 1.0),\n",
       "  (7, 8, 1.0),\n",
       "  (7, 9, 1.0),\n",
       "  (7, 23, 1.0),\n",
       "  (8, 12, 1.0),\n",
       "  (8, 24, 1.0),\n",
       "  (9, 25, 1.0),\n",
       "  (9, 26, 1.0),\n",
       "  (11, 27, 1.0),\n",
       "  (12, 28, 1.0)],\n",
       " 'fix_com': True,\n",
       " 'fix_orientation': True,\n",
       " 'provenance': {'creator': 'QCElemental',\n",
       "  'version': 'v0.24.0',\n",
       "  'routine': 'qcelemental.molparse.from_schema'},\n",
       " 'id': 12461112}"
      ]
     },
     "execution_count": 94,
     "metadata": {},
     "output_type": "execute_result"
    }
   ],
   "source": [
    "v.dict()"
   ]
  },
  {
   "cell_type": "code",
   "execution_count": null,
   "id": "8634b3b7-4a7c-4f86-8c78-a19ecfc2bac0",
   "metadata": {},
   "outputs": [],
   "source": []
  }
 ],
 "metadata": {
  "kernelspec": {
   "display_name": "Python 3 (ipykernel)",
   "language": "python",
   "name": "python3"
  },
  "language_info": {
   "codemirror_mode": {
    "name": "ipython",
    "version": 3
   },
   "file_extension": ".py",
   "mimetype": "text/x-python",
   "name": "python",
   "nbconvert_exporter": "python",
   "pygments_lexer": "ipython3",
   "version": "3.9.16"
  }
 },
 "nbformat": 4,
 "nbformat_minor": 5
}
