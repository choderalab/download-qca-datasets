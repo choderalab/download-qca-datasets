{
 "cells": [
  {
   "cell_type": "markdown",
   "id": "6c8d8fe4-8139-4088-8666-1d18d596a8de",
   "metadata": {},
   "source": [
    "# Check datasets stored in QCArchive"
   ]
  },
  {
   "cell_type": "code",
   "execution_count": 1,
   "id": "adccef4b-68fe-4a3c-8216-5a45bcab7ff5",
   "metadata": {},
   "outputs": [],
   "source": [
    "import os, sys\n",
    "import numpy as np\n",
    "import torch\n",
    "import espaloma as esp\n",
    "import qcportal as ptl\n",
    "from collections import Counter\n",
    "from openff.toolkit.topology import Molecule\n",
    "from openff.qcsubmit.results import BasicResultCollection\n",
    "from simtk import unit\n",
    "from simtk.unit import Quantity\n",
    "from matplotlib import pyplot as plt"
   ]
  },
  {
   "cell_type": "code",
   "execution_count": 2,
   "id": "46555951-b42b-4d63-8cce-a25f8166b7b9",
   "metadata": {},
   "outputs": [],
   "source": [
    "client = ptl.FractalClient()"
   ]
  },
  {
   "cell_type": "code",
   "execution_count": 3,
   "id": "c584276c-9b1d-4e6f-afb2-8f7dcce08c0f",
   "metadata": {},
   "outputs": [
    {
     "data": {
      "text/html": [
       "<div>\n",
       "<style scoped>\n",
       "    .dataframe tbody tr th:only-of-type {\n",
       "        vertical-align: middle;\n",
       "    }\n",
       "\n",
       "    .dataframe tbody tr th {\n",
       "        vertical-align: top;\n",
       "    }\n",
       "\n",
       "    .dataframe thead th {\n",
       "        text-align: right;\n",
       "    }\n",
       "</style>\n",
       "<table border=\"1\" class=\"dataframe\">\n",
       "  <thead>\n",
       "    <tr style=\"text-align: right;\">\n",
       "      <th></th>\n",
       "      <th></th>\n",
       "      <th>tagline</th>\n",
       "    </tr>\n",
       "    <tr>\n",
       "      <th>collection</th>\n",
       "      <th>name</th>\n",
       "      <th></th>\n",
       "    </tr>\n",
       "  </thead>\n",
       "  <tbody>\n",
       "    <tr>\n",
       "      <th rowspan=\"5\" valign=\"top\">Dataset</th>\n",
       "      <th>A Benchmark Data Set for Hydrogen Combustion</th>\n",
       "      <td>A Benchmark Data Set for Hydrogen Combustion</td>\n",
       "    </tr>\n",
       "    <tr>\n",
       "      <th>ANI-1</th>\n",
       "      <td>22 million off-equilibrium conformations and e...</td>\n",
       "    </tr>\n",
       "    <tr>\n",
       "      <th>ANI-1ccx</th>\n",
       "      <td>Coupled cluster properties for molecules</td>\n",
       "    </tr>\n",
       "    <tr>\n",
       "      <th>ANI-1x</th>\n",
       "      <td>Density functional theory properties for molec...</td>\n",
       "    </tr>\n",
       "    <tr>\n",
       "      <th>COMP6 ANI-MD</th>\n",
       "      <td>Benchmark containing MD trajectories from the ...</td>\n",
       "    </tr>\n",
       "    <tr>\n",
       "      <th>...</th>\n",
       "      <th>...</th>\n",
       "      <td>...</td>\n",
       "    </tr>\n",
       "    <tr>\n",
       "      <th rowspan=\"5\" valign=\"top\">TorsionDriveDataset</th>\n",
       "      <th>OpenFF-benchmark-ligand-fragments-v2.0</th>\n",
       "      <td>Ligand fragments from the JACS benchmark systems.</td>\n",
       "    </tr>\n",
       "    <tr>\n",
       "      <th>Pfizer Discrepancy Torsion Dataset 1</th>\n",
       "      <td>None</td>\n",
       "    </tr>\n",
       "    <tr>\n",
       "      <th>SMIRNOFF Coverage Torsion Set 1</th>\n",
       "      <td>None</td>\n",
       "    </tr>\n",
       "    <tr>\n",
       "      <th>SiliconTX Torsion Benchmark Set 1</th>\n",
       "      <td>None</td>\n",
       "    </tr>\n",
       "    <tr>\n",
       "      <th>TorsionDrive Paper</th>\n",
       "      <td>None</td>\n",
       "    </tr>\n",
       "  </tbody>\n",
       "</table>\n",
       "<p>206 rows × 1 columns</p>\n",
       "</div>"
      ],
      "text/plain": [
       "                                                                                                            tagline\n",
       "collection          name                                                                                           \n",
       "Dataset             A Benchmark Data Set for Hydrogen Combustion       A Benchmark Data Set for Hydrogen Combustion\n",
       "                    ANI-1                                         22 million off-equilibrium conformations and e...\n",
       "                    ANI-1ccx                                               Coupled cluster properties for molecules\n",
       "                    ANI-1x                                        Density functional theory properties for molec...\n",
       "                    COMP6 ANI-MD                                  Benchmark containing MD trajectories from the ...\n",
       "...                                                                                                             ...\n",
       "TorsionDriveDataset OpenFF-benchmark-ligand-fragments-v2.0        Ligand fragments from the JACS benchmark systems.\n",
       "                    Pfizer Discrepancy Torsion Dataset 1                                                       None\n",
       "                    SMIRNOFF Coverage Torsion Set 1                                                            None\n",
       "                    SiliconTX Torsion Benchmark Set 1                                                          None\n",
       "                    TorsionDrive Paper                                                                         None\n",
       "\n",
       "[206 rows x 1 columns]"
      ]
     },
     "execution_count": 3,
     "metadata": {},
     "output_type": "execute_result"
    }
   ],
   "source": [
    "client.list_collections()"
   ]
  },
  {
   "cell_type": "code",
   "execution_count": 4,
   "id": "3b618703-f1a0-42bb-8c6e-1bb29706d53e",
   "metadata": {},
   "outputs": [
    {
     "data": {
      "text/html": [
       "<div>\n",
       "<style scoped>\n",
       "    .dataframe tbody tr th:only-of-type {\n",
       "        vertical-align: middle;\n",
       "    }\n",
       "\n",
       "    .dataframe tbody tr th {\n",
       "        vertical-align: top;\n",
       "    }\n",
       "\n",
       "    .dataframe thead th {\n",
       "        text-align: right;\n",
       "    }\n",
       "</style>\n",
       "<table border=\"1\" class=\"dataframe\">\n",
       "  <thead>\n",
       "    <tr style=\"text-align: right;\">\n",
       "      <th></th>\n",
       "      <th></th>\n",
       "      <th>tagline</th>\n",
       "    </tr>\n",
       "    <tr>\n",
       "      <th>collection</th>\n",
       "      <th>name</th>\n",
       "      <th></th>\n",
       "    </tr>\n",
       "  </thead>\n",
       "  <tbody>\n",
       "    <tr>\n",
       "      <th rowspan=\"5\" valign=\"top\">Dataset</th>\n",
       "      <th>A Benchmark Data Set for Hydrogen Combustion</th>\n",
       "      <td>A Benchmark Data Set for Hydrogen Combustion</td>\n",
       "    </tr>\n",
       "    <tr>\n",
       "      <th>ANI-1</th>\n",
       "      <td>22 million off-equilibrium conformations and e...</td>\n",
       "    </tr>\n",
       "    <tr>\n",
       "      <th>ANI-1ccx</th>\n",
       "      <td>Coupled cluster properties for molecules</td>\n",
       "    </tr>\n",
       "    <tr>\n",
       "      <th>ANI-1x</th>\n",
       "      <td>Density functional theory properties for molec...</td>\n",
       "    </tr>\n",
       "    <tr>\n",
       "      <th>COMP6 ANI-MD</th>\n",
       "      <td>Benchmark containing MD trajectories from the ...</td>\n",
       "    </tr>\n",
       "  </tbody>\n",
       "</table>\n",
       "</div>"
      ],
      "text/plain": [
       "                                                                                                   tagline\n",
       "collection name                                                                                           \n",
       "Dataset    A Benchmark Data Set for Hydrogen Combustion       A Benchmark Data Set for Hydrogen Combustion\n",
       "           ANI-1                                         22 million off-equilibrium conformations and e...\n",
       "           ANI-1ccx                                               Coupled cluster properties for molecules\n",
       "           ANI-1x                                        Density functional theory properties for molec...\n",
       "           COMP6 ANI-MD                                  Benchmark containing MD trajectories from the ..."
      ]
     },
     "execution_count": 4,
     "metadata": {},
     "output_type": "execute_result"
    }
   ],
   "source": [
    "client.list_collections(\"Dataset\").head()"
   ]
  },
  {
   "cell_type": "code",
   "execution_count": 5,
   "id": "cb97db25-f8a5-4ce0-af40-5820cec89344",
   "metadata": {},
   "outputs": [],
   "source": [
    "df = client.list_collections()"
   ]
  },
  {
   "cell_type": "code",
   "execution_count": 6,
   "id": "db4c3719-465f-49cb-9ede-bcbef3e06e1d",
   "metadata": {
    "scrolled": true,
    "tags": []
   },
   "outputs": [
    {
     "name": "stdout",
     "output_type": "stream",
     "text": [
      "0 ('Dataset', 'A Benchmark Data Set for Hydrogen Combustion') A Benchmark Data Set for Hydrogen Combustion\n",
      "1 ('Dataset', 'ANI-1') 22 million off-equilibrium conformations and enegies for organic molecules\n",
      "2 ('Dataset', 'ANI-1ccx') Coupled cluster properties for molecules\n",
      "3 ('Dataset', 'ANI-1x') Density functional theory properties for molecules\n",
      "4 ('Dataset', 'COMP6 ANI-MD') Benchmark containing MD trajectories from the ANI-1x potential.\n",
      "5 ('Dataset', 'COMP6 DrugBank') Benchmark containing DrugBank off-equilibrium molecules.\n",
      "6 ('Dataset', 'COMP6 GDB10to13') Benchmark containing off-equilibrium molecules from GDB13 with 10 to 13 heavy atoms.\n",
      "7 ('Dataset', 'COMP6 GDB7to9') Benchmark containing off-equilibrium molecules from GDB11 with 7 to 9 heavy atoms.\n",
      "8 ('Dataset', 'COMP6 S66x8') Benchmark for noncovalent interactions.\n",
      "9 ('Dataset', 'COMP6 Tripeptides') Benchmark containing off-equilibrium geometries of 248 tripeptides.\n",
      "10 ('Dataset', 'G-SchNet Generated') Molecules generated by G-SchNet, trained on QM9.\n",
      "11 ('Dataset', 'GDB13-T') Small organic molecules with up to 13 heavy atoms thermalized at 350K.\n",
      "12 ('Dataset', 'GDML') Molecular dynamics trajectories of small molecules\n",
      "13 ('Dataset', 'ISO-17') Molecular dynamics trajectories of isomers of C7O2H10\n",
      "14 ('Dataset', 'OpenFF BCC Refit Study COH v1.0') C,H,O single point training data for BCC refits.\n",
      "15 ('Dataset', 'OpenFF Discrepancy Benchmark 1') None\n",
      "16 ('Dataset', 'OpenFF ESP Fragment Conformers v1.0') HF/6-31G* conformers of diverse fragments.\n",
      "17 ('Dataset', 'OpenFF ESP Industry Benchmark Set v1.1') HF/6-31G* conformers of public industry benchmark molecules.\n",
      "18 ('Dataset', 'OpenFF Gen 2 Opt Set 1 Roche') None\n",
      "19 ('Dataset', 'OpenFF Gen 2 Opt Set 2 Coverage') None\n",
      "20 ('Dataset', 'OpenFF Gen 2 Opt Set 3 Pfizer Discrepancy') None\n",
      "21 ('Dataset', 'OpenFF Gen 2 Opt Set 4 eMolecules Discrepancy') None\n",
      "22 ('Dataset', 'OpenFF Gen 2 Opt Set 5 Bayer') None\n",
      "23 ('Dataset', 'OpenFF NCI250K Boron 1') None\n",
      "24 ('Dataset', 'OpenFF Optimization Set 1') None\n",
      "25 ('Dataset', 'OpenFF Theory Benchmarking Single Point Energies v1.0') Single point energies at final geometries of torsiondrives calculated at reference spec MP2/heavy-aug-cc-pVTZ\n",
      "26 ('Dataset', 'OpenFF VEHICLe Set 1') None\n",
      "27 ('Dataset', 'PC9') A diverse subset of PubChemQC containing up to 9 heavy atoms.\n",
      "28 ('Dataset', 'PC9 (netural singlet subset)') DELETE ME\n",
      "29 ('Dataset', 'PC9 (neutral singlet subset)') A subset of PC9 contaning only neutral singlets.\n",
      "30 ('Dataset', 'QM7') Small organic molecules with up to 7 heavy atoms.\n",
      "31 ('Dataset', 'QM7b') Small organic molecules with up to 7 heavy atoms with excited state properties.\n",
      "32 ('Dataset', 'QM7b-T') Small organic molecules with up to 7 heavy atoms thermalized at 350K.\n",
      "33 ('Dataset', 'QM9') Small organic molecules with up to 9 heavy atoms with electronic and thermodynamic properties.\n",
      "34 ('Dataset', 'RNA Single Point Dataset v1.0') QM dataset for ML\n",
      "35 ('Dataset', 'RNA Trinucleotide Single Point Dataset v1.0') QM dataset for ML\n",
      "36 ('Dataset', 'SMIRNOFF Coverage Set 1') None\n",
      "37 ('Dataset', 'SN2 Reactions') Chemical reactions of methyl halides with halide anions\n",
      "38 ('Dataset', 'SPICE DES Monomers Single Points Dataset v1.0') QM dataset for ML\n",
      "39 ('Dataset', 'SPICE DES Monomers Single Points Dataset v1.1') QM dataset for ML\n",
      "40 ('Dataset', 'SPICE DES370K Single Points Dataset Supplement v1.0') QM dataset for ML\n",
      "41 ('Dataset', 'SPICE DES370K Single Points Dataset v1.0') QM dataset for ML\n",
      "42 ('Dataset', 'SPICE Dipeptides Single Points Dataset v1.0') QM Dataset for ML\n",
      "43 ('Dataset', 'SPICE Dipeptides Single Points Dataset v1.1') QM Dataset for ML\n",
      "44 ('Dataset', 'SPICE Dipeptides Single Points Dataset v1.2') QM Dataset for ML\n",
      "45 ('Dataset', 'SPICE Ion Pairs Single Points Dataset v1.0') QM dataset for ML\n",
      "46 ('Dataset', 'SPICE Ion Pairs Single Points Dataset v1.1') QM dataset for ML\n",
      "47 ('Dataset', 'SPICE PubChem Set 1 Single Points Dataset v1.0') QM dataset for ML\n",
      "48 ('Dataset', 'SPICE PubChem Set 1 Single Points Dataset v1.1') QM dataset for ML\n",
      "49 ('Dataset', 'SPICE PubChem Set 1 Single Points Dataset v1.2') QM dataset for ML\n",
      "50 ('Dataset', 'SPICE PubChem Set 2 Single Points Dataset v1.0') QM dataset for ML\n",
      "51 ('Dataset', 'SPICE PubChem Set 2 Single Points Dataset v1.2') QM dataset for ML\n",
      "52 ('Dataset', 'SPICE PubChem Set 3 Single Points Dataset v1.0') QM dataset for ML\n",
      "53 ('Dataset', 'SPICE PubChem Set 3 Single Points Dataset v1.2') QM dataset for ML\n",
      "54 ('Dataset', 'SPICE PubChem Set 5 Single Points Dataset v1.0') QM dataset for ML\n",
      "55 ('Dataset', 'SPICE PubChem Set 5 Single Points Dataset v1.2') QM dataset for ML\n",
      "56 ('Dataset', 'SPICE PubChem Set 6 Single Points Dataset v1.0') QM dataset for ML\n",
      "57 ('Dataset', 'SPICE PubChem Set 6 Single Points Dataset v1.2') QM dataset for ML\n",
      "58 ('Dataset', 'SPICE Pubchem Set 4 Single Points Dataset v1.0') QM dataset for ML\n",
      "59 ('Dataset', 'SPICE Pubchem Set 4 Single Points Dataset v1.2') QM dataset for ML\n",
      "60 ('Dataset', 'SPICE Solvated Amino Acids Single Points Dataset v1.0') QM dataset for ML\n",
      "61 ('Dataset', 'SPICE Solvated Amino Acids Single Points Dataset v1.1') QM dataset for ML\n",
      "62 ('Dataset', 'Solvated Protein Fragments') Amons derived from proteins, in water.\n",
      "63 ('Dataset', 'StockholderMultipoles') None\n",
      "64 ('Dataset', 'TensorMol Water Clusters') Clusters of 1 to 21 water molecules, sampled with metadynamics.\n",
      "65 ('Dataset', 'TorsionNet500 Single Points Dataset v1.0') TorsionNet500 geometries with openff default spec\n",
      "66 ('GridOptimizationDataset', 'OpenFF Trivalent Nitrogen Set 1') None\n",
      "67 ('GridOptimizationDataset', 'OpenFF Trivalent Nitrogen Set 1 (deprecated)') None\n",
      "68 ('GridOptimizationDataset', 'OpenFF Trivalent Nitrogen Set 2') None\n",
      "69 ('GridOptimizationDataset', 'OpenFF Trivalent Nitrogen Set 3') None\n",
      "70 ('OptimizationDataset', 'FDA Optimization Dataset 1') None\n",
      "71 ('OptimizationDataset', 'Genentech PDB Ligand Expo fragment optimization neutral v1.0') Optimization set\n",
      "72 ('OptimizationDataset', 'Genentech PDB Ligand Expo whole optimization neutral v1.0') Optimization set\n",
      "73 ('OptimizationDataset', 'JGI Metabolite Set 1') None\n",
      "74 ('OptimizationDataset', 'Kinase Inhibitors: WBO Distributions') None\n",
      "75 ('OptimizationDataset', 'OpenFF Aniline Para Opt v1.0') Optimizations of diverse, para-substituted aniline derivatives.\n",
      "76 ('OptimizationDataset', 'OpenFF BCC Refit Study COH v2.0') Optimizations of diverse, para-substituted aniline derivatives.\n",
      "77 ('OptimizationDataset', 'OpenFF Discrepancy Benchmark 1') None\n",
      "78 ('OptimizationDataset', 'OpenFF ESP Industry Benchmark Set v1.0') HF/6-31G* conformers of public industry benchmark molecules.\n",
      "79 ('OptimizationDataset', 'OpenFF Ehrman Informative Optimization v0.1') None\n",
      "80 ('OptimizationDataset', 'OpenFF Ehrman Informative Optimization v0.2') None\n",
      "81 ('OptimizationDataset', 'OpenFF Full Optimization Benchmark 1') None\n",
      "82 ('OptimizationDataset', 'OpenFF Gen 2 Opt Set 1 Roche') None\n",
      "83 ('OptimizationDataset', 'OpenFF Gen 2 Opt Set 2 Coverage') None\n",
      "84 ('OptimizationDataset', 'OpenFF Gen 2 Opt Set 3 Pfizer Discrepancy') None\n",
      "85 ('OptimizationDataset', 'OpenFF Gen 2 Opt Set 4 eMolecules Discrepancy') None\n",
      "86 ('OptimizationDataset', 'OpenFF Gen 2 Opt Set 5 Bayer') None\n",
      "87 ('OptimizationDataset', 'OpenFF Gen2 Optimization Dataset Protomers v1.0') Reasonable protomers enumerated\n",
      "88 ('OptimizationDataset', 'OpenFF Industry Benchmark Season 1 - MM v1.1') OpenForcefield optimizations.\n",
      "89 ('OptimizationDataset', 'OpenFF Industry Benchmark Season 1 v1.0') The public molecules from the OpenFF Industry Benchmark.\n",
      "90 ('OptimizationDataset', 'OpenFF Industry Benchmark Season 1 v1.1') The public molecules from the OpenFF Industry Benchmark.\n",
      "91 ('OptimizationDataset', 'OpenFF Iodine Chemistry Optimization Dataset v1.0') Optimization set created from Gen1, Gen2, and other dataset molecules containing iodine\n",
      "92 ('OptimizationDataset', 'OpenFF NCI250K Boron 1') None\n",
      "93 ('OptimizationDataset', 'OpenFF Optimization Set 1') None\n",
      "94 ('OptimizationDataset', 'OpenFF PEPCONF OptimizationDataset v1.0') OptimizationDataset of short peptides in various contexts, including disulfide bridges.\n",
      "95 ('OptimizationDataset', 'OpenFF Primary Optimization Benchmark 1') None\n",
      "96 ('OptimizationDataset', 'OpenFF Protein Capped 1-mers 3-mers Optimization Dataset v1.0') Optimization dataset for protein capped 1-mers and 3-mers\n",
      "97 ('OptimizationDataset', 'OpenFF Protein Fragments v1.0') Constrained optimization of various protein fragments.\n",
      "98 ('OptimizationDataset', 'OpenFF Protein Fragments v2.0') Constrained optimization of various protein fragments.\n",
      "99 ('OptimizationDataset', 'OpenFF Protein Peptide Fragments constrained v1.0') Constrained optimization of various protein peptide fragments.\n",
      "100 ('OptimizationDataset', 'OpenFF Protein Peptide Fragments unconstrained v1.0') Unconstrained optimization of various protein fragments.\n",
      "101 ('OptimizationDataset', 'OpenFF RESP Polarizability Optimizations v1.0') Optimizations of ESP-fitting based direct polarizabilities.\n",
      "102 ('OptimizationDataset', 'OpenFF RESP Polarizability Optimizations v1.1') Optimizations of ESP-fitting based direct polarizabilities.\n",
      "103 ('OptimizationDataset', 'OpenFF Roche Opt Set With Protomers and Tautomers v1.0') Optimization set with protomers and tautomers\n",
      "104 ('OptimizationDataset', 'OpenFF Roche Opt Set With Protomers and Tautomers v1.1') Optimization set with protomers and tautomers\n",
      "105 ('OptimizationDataset', 'OpenFF Sandbox CHO PhAlkEthOH v1.0') A diverse set of small CHO molecules\n",
      "106 ('OptimizationDataset', 'OpenFF Theory Benchmarking Constrained Optimization Set B3LYP-NL def2-TZVPD v1.0') Optimized geometries for benchmaking b3lyp-nl/def2-TZVPD\n",
      "107 ('OptimizationDataset', 'OpenFF Theory Benchmarking Constrained Optimization Set MP2 heavy-aug-cc-pVTZ v1.0') Optimized geometries for benchmaking MP2/heavy-aug-cc-pVTZ\n",
      "108 ('OptimizationDataset', 'OpenFF Theory Benchmarking Constrained Optimization Set MP2 heavy-aug-cc-pVTZ v1.1') Optimized geometries for benchmaking MP2/heavy-aug-cc-pVTZ\n",
      "109 ('OptimizationDataset', 'OpenFF Theory Benchmarking Constrained Optimization Set WB97X-V def2-TZVPD v1.0') Optimized geometries for benchmaking wb97x-v/def2-TZVPD\n",
      "110 ('OptimizationDataset', 'OpenFF VEHICLe Set 1') None\n",
      "111 ('OptimizationDataset', 'OpenFF multiplicity correction optimization set v1.0') QM Dataset for fitting multiplicity corrected torsions\n",
      "112 ('OptimizationDataset', 'PEI') None\n",
      "113 ('OptimizationDataset', 'Pfizer Discrepancy Optimization Dataset 1') None\n",
      "114 ('OptimizationDataset', 'QM8-T') None\n",
      "115 ('OptimizationDataset', 'SMIRNOFF Coverage Set 1') None\n",
      "116 ('OptimizationDataset', 'SPICE Dipeptides Optimization Dataset v1.0') QM Dataset for ML\n",
      "117 ('ReactionDataset', 'A21') Equilibrium complexes from A24 database of small bimolecular complexes\n",
      "118 ('ReactionDataset', 'A24') Interaction energies for small bimolecular complexes\n",
      "119 ('ReactionDataset', 'ACONF') Conformation energies for alkanes\n",
      "120 ('ReactionDataset', 'ASCDB') A statistically significant database generated from MGCDB84, GMTKN55, and Minnesota 2015B.\n",
      "121 ('ReactionDataset', 'AlkBind12') Binding energies of saturated and unsaturated hydrocarbon dimers\n",
      "122 ('ReactionDataset', 'AlkIsod14') Isodesmic reaction energies for alkanes N=3--8\n",
      "123 ('ReactionDataset', 'AlkIsomer11') Isomerization energies of alkanes N=4--8\n",
      "124 ('ReactionDataset', 'BH76RC') Reaction energies from hydrogen and non-hydrogen tranfser reactions\n",
      "125 ('ReactionDataset', 'BHPERI26') Barrier heights of pericyclic reactions\n",
      "126 ('ReactionDataset', 'BSR36') Hydrocarbon bond-separation reaction energies\n",
      "127 ('ReactionDataset', 'Bauza30') Binding energies of halogen, chalcogen, and pnicogen bonded dimers\n",
      "128 ('ReactionDataset', 'Butanediol65') Isomerization energies for butanediol\n",
      "129 ('ReactionDataset', 'C20C24') Isomerization energies of the ground-state structures of C20 and C24\n",
      "130 ('ReactionDataset', 'CYCONF') Conformation energies for cysteine\n",
      "131 ('ReactionDataset', 'DBH24') Diverse barrier heights\n",
      "132 ('ReactionDataset', 'DIE60') Isomerization energies of reactions involving double-bond migration in conjugated dienes\n",
      "133 ('ReactionDataset', 'DS14') Binding energies of complexes containing divalent sulfur\n",
      "134 ('ReactionDataset', 'FmH2O10') Binding energies of isomers of F-(H20)10 complexes\n",
      "135 ('ReactionDataset', 'G21EA') Adiabatic electron affinities of atoms and small molecules\n",
      "136 ('ReactionDataset', 'H2O16Rel5') Isomerization energies of (H2O)16 boat and fused-cube structures\n",
      "137 ('ReactionDataset', 'H2O17Rel4') Isomerization energies of (H2O)17 complexes\n",
      "138 ('ReactionDataset', 'HB15') Binding energies of hydrogen bonded dimers featuring ionic groups common in biomolecules\n",
      "139 ('ReactionDataset', 'HNBrBDE18') Homolytic N--Br bond dissociation energies\n",
      "140 ('ReactionDataset', 'HSG') Interaction energies for bimolecular complexes from protein-indinavir reaction site 1HSG\n",
      "141 ('ReactionDataset', 'HTBH38') Hydrogen transfer barrier heights\n",
      "142 ('ReactionDataset', 'MPCONF196') Conformation energies of acyclic and cyclic model peptides and several other macrocycles\n",
      "143 ('ReactionDataset', 'NC15') Binding energies of very small noncovalent complexes\n",
      "144 ('ReactionDataset', 'NHTBH38') Non-hydrogen transfer barrier heights\n",
      "145 ('ReactionDataset', 'S22') Interaction energies for common organic bimolecular complexes\n",
      "146 ('ReactionDataset', 'S66') Interaction energies for organic bimolecular complexes\n",
      "147 ('ReactionDataset', 'SSI') Interaction energies for peptide sidechain-sidechain complexes\n",
      "148 ('ReactionDataset', 'X40') Binding energies of noncovalent interactions involving halogenated molecules\n",
      "149 ('ReactionDataset', 'YMPJ16') None\n",
      "150 ('TorsionDriveDataset', 'Fragment Stability Benchmark') None\n",
      "151 ('TorsionDriveDataset', 'Fragmenter paper') None\n",
      "152 ('TorsionDriveDataset', 'OpenFF Amide Torsion Set v1.0') Amides, thioamides and amidines diversely functionalized.\n",
      "153 ('TorsionDriveDataset', 'OpenFF Aniline 2D Impropers v1.0') Substituted aniline derivatives with various electron withdrawing and donating groups\n",
      "154 ('TorsionDriveDataset', 'OpenFF DANCE 1 eMolecules t142 v1.0') None\n",
      "155 ('TorsionDriveDataset', 'OpenFF Fragmenter Validation 1.0') None\n",
      "156 ('TorsionDriveDataset', 'OpenFF Full TorsionDrive Benchmark 1') None\n",
      "157 ('TorsionDriveDataset', 'OpenFF Gen 2 Torsion Set 1 Roche') None\n",
      "158 ('TorsionDriveDataset', 'OpenFF Gen 2 Torsion Set 1 Roche 2') None\n",
      "159 ('TorsionDriveDataset', 'OpenFF Gen 2 Torsion Set 2 Coverage') None\n",
      "160 ('TorsionDriveDataset', 'OpenFF Gen 2 Torsion Set 2 Coverage 2') None\n",
      "161 ('TorsionDriveDataset', 'OpenFF Gen 2 Torsion Set 3 Pfizer Discrepancy') None\n",
      "162 ('TorsionDriveDataset', 'OpenFF Gen 2 Torsion Set 3 Pfizer Discrepancy 2') None\n",
      "163 ('TorsionDriveDataset', 'OpenFF Gen 2 Torsion Set 4 eMolecules Discrepancy') None\n",
      "164 ('TorsionDriveDataset', 'OpenFF Gen 2 Torsion Set 4 eMolecules Discrepancy 2') None\n",
      "165 ('TorsionDriveDataset', 'OpenFF Gen 2 Torsion Set 5 Bayer') None\n",
      "166 ('TorsionDriveDataset', 'OpenFF Gen 2 Torsion Set 5 Bayer 2') None\n",
      "167 ('TorsionDriveDataset', 'OpenFF Gen 2 Torsion Set 6 Supplemental') None\n",
      "168 ('TorsionDriveDataset', 'OpenFF Gen 2 Torsion Set 6 Supplemental 2') None\n",
      "169 ('TorsionDriveDataset', 'OpenFF Gen3 Torsion Set v1.0') OpenFF Gen3 Torsion Set v1.0\n",
      "170 ('TorsionDriveDataset', 'OpenFF Group1 Torsions') None\n",
      "171 ('TorsionDriveDataset', 'OpenFF Group1 Torsions 2') None\n",
      "172 ('TorsionDriveDataset', 'OpenFF Group1 Torsions 3') None\n",
      "173 ('TorsionDriveDataset', 'OpenFF Primary Benchmark 1 Torsion Set') None\n",
      "174 ('TorsionDriveDataset', 'OpenFF Primary Benchmark 2 Torsion Set') None\n",
      "175 ('TorsionDriveDataset', 'OpenFF Primary TorsionDrive Benchmark 1') None\n",
      "176 ('TorsionDriveDataset', 'OpenFF Protein Capped 1-mer Sidechains v1.0') Capped 1-mer TorsionDrives on up to two sidechain dihedrals\n",
      "177 ('TorsionDriveDataset', 'OpenFF Protein Capped 1-mer Sidechains v1.1') Capped 1-mer TorsionDrives on up to two sidechain dihedrals\n",
      "178 ('TorsionDriveDataset', 'OpenFF Protein Capped 1-mer Sidechains v1.2') Capped 1-mer TorsionDrives on up to two sidechain dihedrals\n",
      "179 ('TorsionDriveDataset', 'OpenFF Protein Capped 1-mer Sidechains v1.3') Capped 1-mer TorsionDrives on up to two sidechain dihedrals\n",
      "180 ('TorsionDriveDataset', 'OpenFF Protein Capped 3-mer Backbones v1.0') Capped 3-mer 2-D TorsionDrives on backbone dihedrals for central residue\n",
      "181 ('TorsionDriveDataset', 'OpenFF Protein Capped 3-mer Omega v1.0') Capped 3-mer TorsionDrives on backbone omega dihedral for central residue\n",
      "182 ('TorsionDriveDataset', 'OpenFF Protein Dipeptide 2-D TorsionDrive v1.0') Dipeptide 2-D TorsionDrives on phi and psi\n",
      "183 ('TorsionDriveDataset', 'OpenFF Protein Dipeptide 2-D TorsionDrive v1.1') Dipeptide 2-D TorsionDrives on phi and psi\n",
      "184 ('TorsionDriveDataset', 'OpenFF Protein Dipeptide 2-D TorsionDrive v2.0') Dipeptide 2-D TorsionDrives on phi and psi\n",
      "185 ('TorsionDriveDataset', 'OpenFF Protein Dipeptide 2-D TorsionDrive v2.1') Dipeptide 2-D TorsionDrives on phi and psi\n",
      "186 ('TorsionDriveDataset', 'OpenFF Protein Fragments TorsionDrives v1.0') Torsiondrives for selected dihedrals of various protein fragments\n",
      "187 ('TorsionDriveDataset', 'OpenFF Rowley Biaryl v1.0') Torsiondrives of biaryl molecules.\n",
      "188 ('TorsionDriveDataset', 'OpenFF Substituted Phenyl Set 1') None\n",
      "189 ('TorsionDriveDataset', 'OpenFF Substituted Phenyl Set 1 v2.0') Torsiondrives for selected dihedrals of various phenyl fragments\n",
      "190 ('TorsionDriveDataset', 'OpenFF Theory Benchmarking Set B3LYP-D3BJ 6-31+Gss') Torsiondrives for benchmarking B3LYP-D3BJ/6-31+G**\n",
      "191 ('TorsionDriveDataset', 'OpenFF Theory Benchmarking Set B3LYP-D3BJ DZVP v1.0') Torsiondrives for benchmarking B3LYP-D3BJ/DZVP\n",
      "192 ('TorsionDriveDataset', 'OpenFF Theory Benchmarking Set B3LYP-D3BJ def2-TZVP v1.0') Torsiondrives for benchmarking B3LYP-D3BJ/def2-TZVP\n",
      "193 ('TorsionDriveDataset', 'OpenFF Theory Benchmarking Set B3LYP-D3BJ def2-TZVPD v1.0') Torsiondrives for benchmarking B3LYP-D3BJ/def2-TZVPD\n",
      "194 ('TorsionDriveDataset', 'OpenFF Theory Benchmarking Set B3LYP-D3BJ def2-TZVPP v1.0') Torsiondrives for benchmarking B3LYP-D3BJ/def2-TZVPP\n",
      "195 ('TorsionDriveDataset', 'OpenFF Theory Benchmarking Set B3LYP-D3BJ def2-TZVPPD') Torsiondrives for benchmarking B3LYP-D3BJ/def2-TZVPPD\n",
      "196 ('TorsionDriveDataset', 'OpenFF Theory Benchmarking Set v1.0') Torsiondrives for theory benchmarking\n",
      "197 ('TorsionDriveDataset', 'OpenFF WBO Conjugated Series v1.0') A functional series of molecules with varying conjugation\n",
      "198 ('TorsionDriveDataset', 'OpenFF multiplicity correction torsion drive data v1.0') OpenFF multiplicity correction torsion drive data v1.0\n",
      "199 ('TorsionDriveDataset', 'OpenFF multiplicity correction torsion drive data v1.1') OpenFF multiplicity correction torsion drive data v1.1\n",
      "200 ('TorsionDriveDataset', 'OpenFF-benchmark-ligand-fragments-v1.0') Fragmented torsiondrives of JACS benchmark inhibitors.\n",
      "201 ('TorsionDriveDataset', 'OpenFF-benchmark-ligand-fragments-v2.0') Ligand fragments from the JACS benchmark systems.\n",
      "202 ('TorsionDriveDataset', 'Pfizer Discrepancy Torsion Dataset 1') None\n",
      "203 ('TorsionDriveDataset', 'SMIRNOFF Coverage Torsion Set 1') None\n",
      "204 ('TorsionDriveDataset', 'SiliconTX Torsion Benchmark Set 1') None\n",
      "205 ('TorsionDriveDataset', 'TorsionDrive Paper') None\n"
     ]
    }
   ],
   "source": [
    "for i, r in enumerate(df.iterrows()):\n",
    "    #print(\"{}:\\t{}\\t{}\".format(r[0][0], r[0][1], r[1]))\n",
    "    print(i, r[0], r[1][0])"
   ]
  },
  {
   "cell_type": "code",
   "execution_count": 7,
   "id": "82715593-3c7d-41e2-982a-c54676038aee",
   "metadata": {},
   "outputs": [
    {
     "name": "stdout",
     "output_type": "stream",
     "text": [
      "38 ('Dataset', 'SPICE DES Monomers Single Points Dataset v1.0') QM dataset for ML\n",
      "39 ('Dataset', 'SPICE DES Monomers Single Points Dataset v1.1') QM dataset for ML\n",
      "40 ('Dataset', 'SPICE DES370K Single Points Dataset Supplement v1.0') QM dataset for ML\n",
      "41 ('Dataset', 'SPICE DES370K Single Points Dataset v1.0') QM dataset for ML\n",
      "42 ('Dataset', 'SPICE Dipeptides Single Points Dataset v1.0') QM Dataset for ML\n",
      "43 ('Dataset', 'SPICE Dipeptides Single Points Dataset v1.1') QM Dataset for ML\n",
      "44 ('Dataset', 'SPICE Dipeptides Single Points Dataset v1.2') QM Dataset for ML\n",
      "45 ('Dataset', 'SPICE Ion Pairs Single Points Dataset v1.0') QM dataset for ML\n",
      "46 ('Dataset', 'SPICE Ion Pairs Single Points Dataset v1.1') QM dataset for ML\n",
      "47 ('Dataset', 'SPICE PubChem Set 1 Single Points Dataset v1.0') QM dataset for ML\n",
      "48 ('Dataset', 'SPICE PubChem Set 1 Single Points Dataset v1.1') QM dataset for ML\n",
      "49 ('Dataset', 'SPICE PubChem Set 1 Single Points Dataset v1.2') QM dataset for ML\n",
      "50 ('Dataset', 'SPICE PubChem Set 2 Single Points Dataset v1.0') QM dataset for ML\n",
      "51 ('Dataset', 'SPICE PubChem Set 2 Single Points Dataset v1.2') QM dataset for ML\n",
      "52 ('Dataset', 'SPICE PubChem Set 3 Single Points Dataset v1.0') QM dataset for ML\n",
      "53 ('Dataset', 'SPICE PubChem Set 3 Single Points Dataset v1.2') QM dataset for ML\n",
      "54 ('Dataset', 'SPICE PubChem Set 5 Single Points Dataset v1.0') QM dataset for ML\n",
      "55 ('Dataset', 'SPICE PubChem Set 5 Single Points Dataset v1.2') QM dataset for ML\n",
      "56 ('Dataset', 'SPICE PubChem Set 6 Single Points Dataset v1.0') QM dataset for ML\n",
      "57 ('Dataset', 'SPICE PubChem Set 6 Single Points Dataset v1.2') QM dataset for ML\n",
      "58 ('Dataset', 'SPICE Pubchem Set 4 Single Points Dataset v1.0') QM dataset for ML\n",
      "59 ('Dataset', 'SPICE Pubchem Set 4 Single Points Dataset v1.2') QM dataset for ML\n",
      "60 ('Dataset', 'SPICE Solvated Amino Acids Single Points Dataset v1.0') QM dataset for ML\n",
      "61 ('Dataset', 'SPICE Solvated Amino Acids Single Points Dataset v1.1') QM dataset for ML\n",
      "116 ('OptimizationDataset', 'SPICE Dipeptides Optimization Dataset v1.0') QM Dataset for ML\n"
     ]
    }
   ],
   "source": [
    "for i, r in enumerate(df.iterrows()):\n",
    "    #print(\"{}:\\t{}\\t{}\".format(r[0][0], r[0][1], r[1]))\n",
    "    if r[0][1].startswith(\"SPICE\"):\n",
    "        print(i, r[0], r[1][0])"
   ]
  },
  {
   "cell_type": "markdown",
   "id": "e0fbaf89-a68b-443b-9bcf-96aec040eca7",
   "metadata": {},
   "source": [
    "### GridOptimizationDataset"
   ]
  },
  {
   "cell_type": "code",
   "execution_count": 10,
   "id": "945faf0b-d18f-454e-a370-4a9b8779e671",
   "metadata": {},
   "outputs": [],
   "source": [
    "ds = client.get_collection('GridOptimizationDataset', 'OpenFF Trivalent Nitrogen Set 1')"
   ]
  },
  {
   "cell_type": "code",
   "execution_count": 12,
   "id": "98a97656-de80-42d0-b934-3787d0695d81",
   "metadata": {},
   "outputs": [
    {
     "data": {
      "text/html": [
       "<div>\n",
       "<style scoped>\n",
       "    .dataframe tbody tr th:only-of-type {\n",
       "        vertical-align: middle;\n",
       "    }\n",
       "\n",
       "    .dataframe tbody tr th {\n",
       "        vertical-align: top;\n",
       "    }\n",
       "\n",
       "    .dataframe thead th {\n",
       "        text-align: right;\n",
       "    }\n",
       "</style>\n",
       "<table border=\"1\" class=\"dataframe\">\n",
       "  <thead>\n",
       "    <tr style=\"text-align: right;\">\n",
       "      <th></th>\n",
       "      <th>Description</th>\n",
       "    </tr>\n",
       "    <tr>\n",
       "      <th>Name</th>\n",
       "      <th></th>\n",
       "    </tr>\n",
       "  </thead>\n",
       "  <tbody>\n",
       "    <tr>\n",
       "      <th>default</th>\n",
       "      <td>Standard OpenFF gridoptimization specification.</td>\n",
       "    </tr>\n",
       "  </tbody>\n",
       "</table>\n",
       "</div>"
      ],
      "text/plain": [
       "                                             Description\n",
       "Name                                                    \n",
       "default  Standard OpenFF gridoptimization specification."
      ]
     },
     "execution_count": 12,
     "metadata": {},
     "output_type": "execute_result"
    }
   ],
   "source": [
    "ds.list_specifications()"
   ]
  },
  {
   "cell_type": "code",
   "execution_count": 21,
   "id": "7728e66f-870c-4882-a460-7a1cae7a38fb",
   "metadata": {},
   "outputs": [],
   "source": [
    "record_names = list(ds.data.records)"
   ]
  },
  {
   "cell_type": "code",
   "execution_count": 23,
   "id": "42417801-2d71-42b8-9e8b-b57a08249f58",
   "metadata": {},
   "outputs": [
    {
     "data": {
      "text/plain": [
       "311"
      ]
     },
     "execution_count": 23,
     "metadata": {},
     "output_type": "execute_result"
    }
   ],
   "source": [
    "len(record_names)"
   ]
  },
  {
   "cell_type": "code",
   "execution_count": 51,
   "id": "203df2c4-fbbe-4c76-9b0b-7f4a69a539e8",
   "metadata": {},
   "outputs": [],
   "source": [
    "record = ds.get_record(record_names[15], specification='default')"
   ]
  },
  {
   "cell_type": "code",
   "execution_count": 52,
   "id": "9a903b84-01c3-44fe-be92-0b06dc8206fc",
   "metadata": {},
   "outputs": [],
   "source": [
    "mols = [ record.get_final_molecules()[k] for k in record.get_final_molecules().keys() ]"
   ]
  },
  {
   "cell_type": "code",
   "execution_count": 53,
   "id": "2416f708-7e34-4849-bdeb-23f2e44cdbaf",
   "metadata": {},
   "outputs": [
    {
     "data": {
      "application/vnd.jupyter.widget-view+json": {
       "model_id": "caf99f5056dd473992c81d17eb784e83",
       "version_major": 2,
       "version_minor": 0
      },
      "text/plain": [
       "NGLWidget()"
      ]
     },
     "metadata": {},
     "output_type": "display_data"
    }
   ],
   "source": [
    "mols[-1]"
   ]
  },
  {
   "cell_type": "markdown",
   "id": "cf89b3c8-5686-4a96-a815-da63630490d1",
   "metadata": {},
   "source": [
    "### openff full optimization benchmark1"
   ]
  },
  {
   "cell_type": "code",
   "execution_count": 8,
   "id": "9981836c-ac2a-4cf9-969f-4404f2a58769",
   "metadata": {},
   "outputs": [],
   "source": [
    "openff_full_opt_benchmark1 = client.get_collection('OptimizationDataset', 'OpenFF Full Optimization Benchmark 1')"
   ]
  },
  {
   "cell_type": "code",
   "execution_count": 9,
   "id": "083e0c2c-57ed-436f-ab0e-4aca083c483f",
   "metadata": {},
   "outputs": [
    {
     "data": {
      "text/html": [
       "<div>\n",
       "<style scoped>\n",
       "    .dataframe tbody tr th:only-of-type {\n",
       "        vertical-align: middle;\n",
       "    }\n",
       "\n",
       "    .dataframe tbody tr th {\n",
       "        vertical-align: top;\n",
       "    }\n",
       "\n",
       "    .dataframe thead th {\n",
       "        text-align: right;\n",
       "    }\n",
       "</style>\n",
       "<table border=\"1\" class=\"dataframe\">\n",
       "  <thead>\n",
       "    <tr style=\"text-align: right;\">\n",
       "      <th></th>\n",
       "      <th>Description</th>\n",
       "    </tr>\n",
       "    <tr>\n",
       "      <th>Name</th>\n",
       "      <th></th>\n",
       "    </tr>\n",
       "  </thead>\n",
       "  <tbody>\n",
       "    <tr>\n",
       "      <th>default</th>\n",
       "      <td>Standard OpenFF optimization quantum chemistry...</td>\n",
       "    </tr>\n",
       "  </tbody>\n",
       "</table>\n",
       "</div>"
      ],
      "text/plain": [
       "                                               Description\n",
       "Name                                                      \n",
       "default  Standard OpenFF optimization quantum chemistry..."
      ]
     },
     "execution_count": 9,
     "metadata": {},
     "output_type": "execute_result"
    }
   ],
   "source": [
    "openff_full_opt_benchmark1.list_specifications()"
   ]
  },
  {
   "cell_type": "code",
   "execution_count": 10,
   "id": "a88436e6-3fb1-4f21-9ec4-81ac1243f659",
   "metadata": {},
   "outputs": [
    {
     "data": {
      "text/plain": [
       "QCSpecification(driver=<DriverEnum.gradient: 'gradient'>, method='b3lyp-d3bj', basis='dzvp', keywords='2', protocols=ResultProtocols(wavefunction=<WavefunctionProtocolEnum.none: 'none'>, stdout=True, error_correction=ErrorCorrectionProtocol(default_policy=True, policies=None), native_files=<NativeFilesProtocolEnum.none: 'none'>), program='psi4')"
      ]
     },
     "execution_count": 10,
     "metadata": {},
     "output_type": "execute_result"
    }
   ],
   "source": [
    "openff_full_opt_benchmark1.get_specification(\"default\").qc_spec"
   ]
  },
  {
   "cell_type": "markdown",
   "id": "c3be519f-2f5f-49f1-96df-01c8b9339278",
   "metadata": {},
   "source": [
    "### openff gen2 dataset"
   ]
  },
  {
   "cell_type": "code",
   "execution_count": 11,
   "id": "9a7648ab-7307-43f0-918b-92ae5d707da2",
   "metadata": {},
   "outputs": [],
   "source": [
    "openff_gen2_set1 = client.get_collection('Dataset', 'OpenFF Gen 2 Opt Set 1 Roche')\n",
    "openff_gen2_set2 = client.get_collection('Dataset', 'OpenFF Gen 2 Opt Set 2 Coverage')\n",
    "openff_gen2_set3 = client.get_collection('Dataset', 'OpenFF Gen 2 Opt Set 3 Pfizer Discrepancy')\n",
    "openff_gen2_set4 = client.get_collection('Dataset', 'OpenFF Gen 2 Opt Set 4 eMolecules Discrepancy')\n",
    "openff_gen2_set5 = client.get_collection('Dataset', 'OpenFF Gen 2 Opt Set 5 Bayer')"
   ]
  },
  {
   "cell_type": "code",
   "execution_count": 12,
   "id": "4cb96f40-36e1-4c25-882c-058e6022843d",
   "metadata": {},
   "outputs": [
    {
     "data": {
      "text/html": [
       "<div>\n",
       "<style scoped>\n",
       "    .dataframe tbody tr th:only-of-type {\n",
       "        vertical-align: middle;\n",
       "    }\n",
       "\n",
       "    .dataframe tbody tr th {\n",
       "        vertical-align: top;\n",
       "    }\n",
       "\n",
       "    .dataframe thead th {\n",
       "        text-align: right;\n",
       "    }\n",
       "</style>\n",
       "<table border=\"1\" class=\"dataframe\">\n",
       "  <thead>\n",
       "    <tr style=\"text-align: right;\">\n",
       "      <th></th>\n",
       "      <th>driver</th>\n",
       "      <th>program</th>\n",
       "      <th>method</th>\n",
       "      <th>basis</th>\n",
       "      <th>keywords</th>\n",
       "      <th>name</th>\n",
       "    </tr>\n",
       "  </thead>\n",
       "  <tbody>\n",
       "    <tr>\n",
       "      <th>0</th>\n",
       "      <td>hessian</td>\n",
       "      <td>psi4</td>\n",
       "      <td>b3lyp-d3bj</td>\n",
       "      <td>dzvp</td>\n",
       "      <td>default</td>\n",
       "      <td>B3LYP-D3BJ/dzvp</td>\n",
       "    </tr>\n",
       "  </tbody>\n",
       "</table>\n",
       "</div>"
      ],
      "text/plain": [
       "    driver program      method basis keywords             name\n",
       "0  hessian    psi4  b3lyp-d3bj  dzvp  default  B3LYP-D3BJ/dzvp"
      ]
     },
     "execution_count": 12,
     "metadata": {},
     "output_type": "execute_result"
    }
   ],
   "source": [
    "openff_gen2_set1.list_records()"
   ]
  },
  {
   "cell_type": "code",
   "execution_count": 13,
   "id": "5e9c397c-6996-4a08-891f-51ca35fbf981",
   "metadata": {},
   "outputs": [
    {
     "data": {
      "text/html": [
       "<div>\n",
       "<style scoped>\n",
       "    .dataframe tbody tr th:only-of-type {\n",
       "        vertical-align: middle;\n",
       "    }\n",
       "\n",
       "    .dataframe tbody tr th {\n",
       "        vertical-align: top;\n",
       "    }\n",
       "\n",
       "    .dataframe thead th {\n",
       "        text-align: right;\n",
       "    }\n",
       "</style>\n",
       "<table border=\"1\" class=\"dataframe\">\n",
       "  <thead>\n",
       "    <tr style=\"text-align: right;\">\n",
       "      <th></th>\n",
       "      <th>driver</th>\n",
       "      <th>program</th>\n",
       "      <th>method</th>\n",
       "      <th>basis</th>\n",
       "      <th>keywords</th>\n",
       "      <th>name</th>\n",
       "    </tr>\n",
       "  </thead>\n",
       "  <tbody>\n",
       "    <tr>\n",
       "      <th>0</th>\n",
       "      <td>hessian</td>\n",
       "      <td>psi4</td>\n",
       "      <td>b3lyp-d3bj</td>\n",
       "      <td>dzvp</td>\n",
       "      <td>default</td>\n",
       "      <td>B3LYP-D3BJ/dzvp</td>\n",
       "    </tr>\n",
       "  </tbody>\n",
       "</table>\n",
       "</div>"
      ],
      "text/plain": [
       "    driver program      method basis keywords             name\n",
       "0  hessian    psi4  b3lyp-d3bj  dzvp  default  B3LYP-D3BJ/dzvp"
      ]
     },
     "execution_count": 13,
     "metadata": {},
     "output_type": "execute_result"
    }
   ],
   "source": [
    "openff_gen2_set2.list_records()"
   ]
  },
  {
   "cell_type": "code",
   "execution_count": 14,
   "id": "5e8f11d2-0b17-4359-9b72-da6fb7fef2eb",
   "metadata": {},
   "outputs": [
    {
     "data": {
      "text/html": [
       "<div>\n",
       "<style scoped>\n",
       "    .dataframe tbody tr th:only-of-type {\n",
       "        vertical-align: middle;\n",
       "    }\n",
       "\n",
       "    .dataframe tbody tr th {\n",
       "        vertical-align: top;\n",
       "    }\n",
       "\n",
       "    .dataframe thead th {\n",
       "        text-align: right;\n",
       "    }\n",
       "</style>\n",
       "<table border=\"1\" class=\"dataframe\">\n",
       "  <thead>\n",
       "    <tr style=\"text-align: right;\">\n",
       "      <th></th>\n",
       "      <th>driver</th>\n",
       "      <th>program</th>\n",
       "      <th>method</th>\n",
       "      <th>basis</th>\n",
       "      <th>keywords</th>\n",
       "      <th>name</th>\n",
       "    </tr>\n",
       "  </thead>\n",
       "  <tbody>\n",
       "    <tr>\n",
       "      <th>0</th>\n",
       "      <td>hessian</td>\n",
       "      <td>psi4</td>\n",
       "      <td>b3lyp-d3bj</td>\n",
       "      <td>dzvp</td>\n",
       "      <td>default</td>\n",
       "      <td>B3LYP-D3BJ/dzvp</td>\n",
       "    </tr>\n",
       "  </tbody>\n",
       "</table>\n",
       "</div>"
      ],
      "text/plain": [
       "    driver program      method basis keywords             name\n",
       "0  hessian    psi4  b3lyp-d3bj  dzvp  default  B3LYP-D3BJ/dzvp"
      ]
     },
     "execution_count": 14,
     "metadata": {},
     "output_type": "execute_result"
    }
   ],
   "source": [
    "openff_gen2_set3.list_records()"
   ]
  },
  {
   "cell_type": "code",
   "execution_count": 15,
   "id": "d2574682-8515-46ea-98ce-163bad5fbc16",
   "metadata": {},
   "outputs": [
    {
     "data": {
      "text/html": [
       "<div>\n",
       "<style scoped>\n",
       "    .dataframe tbody tr th:only-of-type {\n",
       "        vertical-align: middle;\n",
       "    }\n",
       "\n",
       "    .dataframe tbody tr th {\n",
       "        vertical-align: top;\n",
       "    }\n",
       "\n",
       "    .dataframe thead th {\n",
       "        text-align: right;\n",
       "    }\n",
       "</style>\n",
       "<table border=\"1\" class=\"dataframe\">\n",
       "  <thead>\n",
       "    <tr style=\"text-align: right;\">\n",
       "      <th></th>\n",
       "      <th>driver</th>\n",
       "      <th>program</th>\n",
       "      <th>method</th>\n",
       "      <th>basis</th>\n",
       "      <th>keywords</th>\n",
       "      <th>name</th>\n",
       "    </tr>\n",
       "  </thead>\n",
       "  <tbody>\n",
       "    <tr>\n",
       "      <th>0</th>\n",
       "      <td>hessian</td>\n",
       "      <td>psi4</td>\n",
       "      <td>b3lyp-d3bj</td>\n",
       "      <td>dzvp</td>\n",
       "      <td>default</td>\n",
       "      <td>B3LYP-D3BJ/dzvp</td>\n",
       "    </tr>\n",
       "  </tbody>\n",
       "</table>\n",
       "</div>"
      ],
      "text/plain": [
       "    driver program      method basis keywords             name\n",
       "0  hessian    psi4  b3lyp-d3bj  dzvp  default  B3LYP-D3BJ/dzvp"
      ]
     },
     "execution_count": 15,
     "metadata": {},
     "output_type": "execute_result"
    }
   ],
   "source": [
    "openff_gen2_set4.list_records()"
   ]
  },
  {
   "cell_type": "code",
   "execution_count": 16,
   "id": "c455340f-ba07-46c4-a2b0-6a0971791a93",
   "metadata": {},
   "outputs": [
    {
     "data": {
      "text/html": [
       "<div>\n",
       "<style scoped>\n",
       "    .dataframe tbody tr th:only-of-type {\n",
       "        vertical-align: middle;\n",
       "    }\n",
       "\n",
       "    .dataframe tbody tr th {\n",
       "        vertical-align: top;\n",
       "    }\n",
       "\n",
       "    .dataframe thead th {\n",
       "        text-align: right;\n",
       "    }\n",
       "</style>\n",
       "<table border=\"1\" class=\"dataframe\">\n",
       "  <thead>\n",
       "    <tr style=\"text-align: right;\">\n",
       "      <th></th>\n",
       "      <th>driver</th>\n",
       "      <th>program</th>\n",
       "      <th>method</th>\n",
       "      <th>basis</th>\n",
       "      <th>keywords</th>\n",
       "      <th>name</th>\n",
       "    </tr>\n",
       "  </thead>\n",
       "  <tbody>\n",
       "    <tr>\n",
       "      <th>0</th>\n",
       "      <td>hessian</td>\n",
       "      <td>psi4</td>\n",
       "      <td>b3lyp-d3bj</td>\n",
       "      <td>dzvp</td>\n",
       "      <td>default</td>\n",
       "      <td>B3LYP-D3BJ/dzvp</td>\n",
       "    </tr>\n",
       "  </tbody>\n",
       "</table>\n",
       "</div>"
      ],
      "text/plain": [
       "    driver program      method basis keywords             name\n",
       "0  hessian    psi4  b3lyp-d3bj  dzvp  default  B3LYP-D3BJ/dzvp"
      ]
     },
     "execution_count": 16,
     "metadata": {},
     "output_type": "execute_result"
    }
   ],
   "source": [
    "openff_gen2_set5.list_records()"
   ]
  },
  {
   "cell_type": "markdown",
   "id": "1c10c6a7-b5dd-4626-b413-b88ec552537d",
   "metadata": {},
   "source": [
    "### VEHICLE"
   ]
  },
  {
   "cell_type": "code",
   "execution_count": 19,
   "id": "28c4499b-966a-4dda-84cc-dca14e136abc",
   "metadata": {},
   "outputs": [],
   "source": [
    "vehicle = client.get_collection('Dataset', 'OpenFF VEHICLe Set 1')"
   ]
  },
  {
   "cell_type": "code",
   "execution_count": 20,
   "id": "218c8bdc-7254-4d6a-8e09-f3c6970d3881",
   "metadata": {},
   "outputs": [
    {
     "data": {
      "text/html": [
       "<div>\n",
       "<style scoped>\n",
       "    .dataframe tbody tr th:only-of-type {\n",
       "        vertical-align: middle;\n",
       "    }\n",
       "\n",
       "    .dataframe tbody tr th {\n",
       "        vertical-align: top;\n",
       "    }\n",
       "\n",
       "    .dataframe thead th {\n",
       "        text-align: right;\n",
       "    }\n",
       "</style>\n",
       "<table border=\"1\" class=\"dataframe\">\n",
       "  <thead>\n",
       "    <tr style=\"text-align: right;\">\n",
       "      <th></th>\n",
       "      <th>driver</th>\n",
       "      <th>program</th>\n",
       "      <th>method</th>\n",
       "      <th>basis</th>\n",
       "      <th>keywords</th>\n",
       "      <th>name</th>\n",
       "    </tr>\n",
       "  </thead>\n",
       "  <tbody>\n",
       "    <tr>\n",
       "      <th>0</th>\n",
       "      <td>hessian</td>\n",
       "      <td>psi4</td>\n",
       "      <td>b3lyp-d3bj</td>\n",
       "      <td>dzvp</td>\n",
       "      <td>default</td>\n",
       "      <td>B3LYP-D3BJ/dzvp-Psi4</td>\n",
       "    </tr>\n",
       "  </tbody>\n",
       "</table>\n",
       "</div>"
      ],
      "text/plain": [
       "    driver program      method basis keywords                  name\n",
       "0  hessian    psi4  b3lyp-d3bj  dzvp  default  B3LYP-D3BJ/dzvp-Psi4"
      ]
     },
     "execution_count": 20,
     "metadata": {},
     "output_type": "execute_result"
    }
   ],
   "source": [
    "vehicle.list_records()"
   ]
  },
  {
   "cell_type": "markdown",
   "id": "18f40525-eb6b-4a84-b687-4d0507b53769",
   "metadata": {},
   "source": [
    "### RNA bgsu dataset"
   ]
  },
  {
   "cell_type": "code",
   "execution_count": 21,
   "id": "4d60baf4-2de9-4894-ac66-8f542c86d7d7",
   "metadata": {},
   "outputs": [],
   "source": [
    "rna = client.get_collection('Dataset', 'RNA Single Point Dataset v1.0')"
   ]
  },
  {
   "cell_type": "code",
   "execution_count": 22,
   "id": "bbe67d4e-3742-4140-9985-e65888412991",
   "metadata": {},
   "outputs": [
    {
     "data": {
      "text/html": [
       "<div>\n",
       "<style scoped>\n",
       "    .dataframe tbody tr th:only-of-type {\n",
       "        vertical-align: middle;\n",
       "    }\n",
       "\n",
       "    .dataframe tbody tr th {\n",
       "        vertical-align: top;\n",
       "    }\n",
       "\n",
       "    .dataframe thead th {\n",
       "        text-align: right;\n",
       "    }\n",
       "</style>\n",
       "<table border=\"1\" class=\"dataframe\">\n",
       "  <thead>\n",
       "    <tr style=\"text-align: right;\">\n",
       "      <th></th>\n",
       "      <th>driver</th>\n",
       "      <th>program</th>\n",
       "      <th>method</th>\n",
       "      <th>basis</th>\n",
       "      <th>keywords</th>\n",
       "      <th>name</th>\n",
       "    </tr>\n",
       "  </thead>\n",
       "  <tbody>\n",
       "    <tr>\n",
       "      <th>0</th>\n",
       "      <td>gradient</td>\n",
       "      <td>psi4</td>\n",
       "      <td>wb97m-d3bj</td>\n",
       "      <td>def2-tzvppd</td>\n",
       "      <td>wb97m-d3bj/def2-tzvppd</td>\n",
       "      <td>WB97M-D3BJ/def2-tzvppd-wb97m-d3bj/def2-tzvppd</td>\n",
       "    </tr>\n",
       "    <tr>\n",
       "      <th>1</th>\n",
       "      <td>gradient</td>\n",
       "      <td>psi4</td>\n",
       "      <td>b3lyp</td>\n",
       "      <td>dzvp</td>\n",
       "      <td>default</td>\n",
       "      <td>B3LYP/dzvp-default</td>\n",
       "    </tr>\n",
       "    <tr>\n",
       "      <th>3</th>\n",
       "      <td>gradient</td>\n",
       "      <td>psi4</td>\n",
       "      <td>b3lyp-d3bj</td>\n",
       "      <td>dzvp</td>\n",
       "      <td>default</td>\n",
       "      <td>B3LYP-D3BJ/dzvp-default</td>\n",
       "    </tr>\n",
       "  </tbody>\n",
       "</table>\n",
       "</div>"
      ],
      "text/plain": [
       "     driver program      method        basis                keywords  \\\n",
       "0  gradient    psi4  wb97m-d3bj  def2-tzvppd  wb97m-d3bj/def2-tzvppd   \n",
       "1  gradient    psi4       b3lyp         dzvp                 default   \n",
       "3  gradient    psi4  b3lyp-d3bj         dzvp                 default   \n",
       "\n",
       "                                            name  \n",
       "0  WB97M-D3BJ/def2-tzvppd-wb97m-d3bj/def2-tzvppd  \n",
       "1                             B3LYP/dzvp-default  \n",
       "3                        B3LYP-D3BJ/dzvp-default  "
      ]
     },
     "execution_count": 22,
     "metadata": {},
     "output_type": "execute_result"
    }
   ],
   "source": [
    "rna.list_records()"
   ]
  },
  {
   "cell_type": "code",
   "execution_count": 23,
   "id": "9df21716-5dd5-4b7d-ab38-9bcf1c884871",
   "metadata": {},
   "outputs": [],
   "source": [
    "rna_records = rna.get_records(method='wb97m-d3bj', basis='def2-tzvppd', program='psi4', keywords='wb97m-d3bj/def2-tzvppd')"
   ]
  },
  {
   "cell_type": "code",
   "execution_count": 24,
   "id": "fa96d139-6ddf-44fd-b255-be21b6502f4f",
   "metadata": {},
   "outputs": [
    {
     "data": {
      "text/html": [
       "<div>\n",
       "<style scoped>\n",
       "    .dataframe tbody tr th:only-of-type {\n",
       "        vertical-align: middle;\n",
       "    }\n",
       "\n",
       "    .dataframe tbody tr th {\n",
       "        vertical-align: top;\n",
       "    }\n",
       "\n",
       "    .dataframe thead th {\n",
       "        text-align: right;\n",
       "    }\n",
       "</style>\n",
       "<table border=\"1\" class=\"dataframe\">\n",
       "  <thead>\n",
       "    <tr style=\"text-align: right;\">\n",
       "      <th></th>\n",
       "      <th>record</th>\n",
       "    </tr>\n",
       "    <tr>\n",
       "      <th>index</th>\n",
       "      <th></th>\n",
       "    </tr>\n",
       "  </thead>\n",
       "  <tbody>\n",
       "    <tr>\n",
       "      <th>Nc1ccn([C@@H]2O[C@H](CO)[C@@H](O)[C@H]2O)c(=O)n1.Nc1ccn([C@@H]2O[C@H](CO)[C@@H](O)[C@H]2O)c(=O)n1-0</th>\n",
       "      <td>ResultRecord(id='109526909', status='COMPLETE')</td>\n",
       "    </tr>\n",
       "    <tr>\n",
       "      <th>Nc1ccn([C@@H]2O[C@H](CO)[C@@H](O)[C@H]2O)c(=O)n1.Nc1ccn([C@@H]2O[C@H](CO)[C@@H](O)[C@H]2O)c(=O)n1-1</th>\n",
       "      <td>ResultRecord(id='109527040', status='COMPLETE')</td>\n",
       "    </tr>\n",
       "    <tr>\n",
       "      <th>Nc1ccn([C@@H]2O[C@H](CO)[C@@H](O)[C@H]2O)c(=O)n1.Nc1ccn([C@@H]2O[C@H](CO)[C@@H](O)[C@H]2O)c(=O)n1-2</th>\n",
       "      <td>ResultRecord(id='109526893', status='INCOMPLETE')</td>\n",
       "    </tr>\n",
       "    <tr>\n",
       "      <th>Nc1ccn([C@@H]2O[C@H](CO)[C@@H](O)[C@H]2O)c(=O)n1.Nc1ccn([C@@H]2O[C@H](CO)[C@@H](O)[C@H]2O)c(=O)n1-3</th>\n",
       "      <td>ResultRecord(id='109526987', status='INCOMPLETE')</td>\n",
       "    </tr>\n",
       "    <tr>\n",
       "      <th>Nc1ccn([C@@H]2O[C@H](CO)[C@@H](O)[C@H]2O)c(=O)n1.Nc1ccn([C@@H]2O[C@H](CO)[C@@H](O)[C@H]2O)c(=O)n1-4</th>\n",
       "      <td>ResultRecord(id='109527080', status='COMPLETE')</td>\n",
       "    </tr>\n",
       "    <tr>\n",
       "      <th>...</th>\n",
       "      <td>...</td>\n",
       "    </tr>\n",
       "    <tr>\n",
       "      <th>O=c1ccn([C@@H]2O[C@H](COP(=O)([O-])O[C@@H]3[C@@H](COP(=O)([O-])O[C@@H]4[C@@H](CO)O[C@@H](n5ccc(=O)[nH]c5=O)[C@@H]4O)O[C@@H](n4ccc(=O)[nH]c4=O)[C@@H]3O)[C@@H](O)[C@H]2O)c(=O)[nH]1-73</th>\n",
       "      <td>ResultRecord(id='109526244', status='COMPLETE')</td>\n",
       "    </tr>\n",
       "    <tr>\n",
       "      <th>O=c1ccn([C@@H]2O[C@H](COP(=O)([O-])O[C@@H]3[C@@H](COP(=O)([O-])O[C@@H]4[C@@H](CO)O[C@@H](n5ccc(=O)[nH]c5=O)[C@@H]4O)O[C@@H](n4ccc(=O)[nH]c4=O)[C@@H]3O)[C@@H](O)[C@H]2O)c(=O)[nH]1-74</th>\n",
       "      <td>ResultRecord(id='109526247', status='COMPLETE')</td>\n",
       "    </tr>\n",
       "    <tr>\n",
       "      <th>O=c1ccn([C@@H]2O[C@H](COP(=O)([O-])O[C@@H]3[C@@H](COP(=O)([O-])O[C@@H]4[C@@H](CO)O[C@@H](n5ccc(=O)[nH]c5=O)[C@@H]4O)O[C@@H](n4ccc(=O)[nH]c4=O)[C@@H]3O)[C@@H](O)[C@H]2O)c(=O)[nH]1-75</th>\n",
       "      <td>ResultRecord(id='109526273', status='COMPLETE')</td>\n",
       "    </tr>\n",
       "    <tr>\n",
       "      <th>O=c1ccn([C@@H]2O[C@H](COP(=O)([O-])O[C@@H]3[C@@H](COP(=O)([O-])O[C@@H]4[C@@H](CO)O[C@@H](n5ccc(=O)[nH]c5=O)[C@@H]4O)O[C@@H](n4ccc(=O)[nH]c4=O)[C@@H]3O)[C@@H](O)[C@H]2O)c(=O)[nH]1-8</th>\n",
       "      <td>ResultRecord(id='109526250', status='COMPLETE')</td>\n",
       "    </tr>\n",
       "    <tr>\n",
       "      <th>O=c1ccn([C@@H]2O[C@H](COP(=O)([O-])O[C@@H]3[C@@H](COP(=O)([O-])O[C@@H]4[C@@H](CO)O[C@@H](n5ccc(=O)[nH]c5=O)[C@@H]4O)O[C@@H](n4ccc(=O)[nH]c4=O)[C@@H]3O)[C@@H](O)[C@H]2O)c(=O)[nH]1-9</th>\n",
       "      <td>ResultRecord(id='109526240', status='COMPLETE')</td>\n",
       "    </tr>\n",
       "  </tbody>\n",
       "</table>\n",
       "<p>4489 rows × 1 columns</p>\n",
       "</div>"
      ],
      "text/plain": [
       "                                                                                               record\n",
       "index                                                                                                \n",
       "Nc1ccn([C@@H]2O[C@H](CO)[C@@H](O)[C@H]2O)c(=O)n...    ResultRecord(id='109526909', status='COMPLETE')\n",
       "Nc1ccn([C@@H]2O[C@H](CO)[C@@H](O)[C@H]2O)c(=O)n...    ResultRecord(id='109527040', status='COMPLETE')\n",
       "Nc1ccn([C@@H]2O[C@H](CO)[C@@H](O)[C@H]2O)c(=O)n...  ResultRecord(id='109526893', status='INCOMPLETE')\n",
       "Nc1ccn([C@@H]2O[C@H](CO)[C@@H](O)[C@H]2O)c(=O)n...  ResultRecord(id='109526987', status='INCOMPLETE')\n",
       "Nc1ccn([C@@H]2O[C@H](CO)[C@@H](O)[C@H]2O)c(=O)n...    ResultRecord(id='109527080', status='COMPLETE')\n",
       "...                                                                                               ...\n",
       "O=c1ccn([C@@H]2O[C@H](COP(=O)([O-])O[C@@H]3[C@@...    ResultRecord(id='109526244', status='COMPLETE')\n",
       "O=c1ccn([C@@H]2O[C@H](COP(=O)([O-])O[C@@H]3[C@@...    ResultRecord(id='109526247', status='COMPLETE')\n",
       "O=c1ccn([C@@H]2O[C@H](COP(=O)([O-])O[C@@H]3[C@@...    ResultRecord(id='109526273', status='COMPLETE')\n",
       "O=c1ccn([C@@H]2O[C@H](COP(=O)([O-])O[C@@H]3[C@@...    ResultRecord(id='109526250', status='COMPLETE')\n",
       "O=c1ccn([C@@H]2O[C@H](COP(=O)([O-])O[C@@H]3[C@@...    ResultRecord(id='109526240', status='COMPLETE')\n",
       "\n",
       "[4489 rows x 1 columns]"
      ]
     },
     "execution_count": 24,
     "metadata": {},
     "output_type": "execute_result"
    }
   ],
   "source": [
    "rna_records"
   ]
  },
  {
   "cell_type": "code",
   "execution_count": 25,
   "id": "73b4497b-4311-4bde-97b9-c297ae6d3d8c",
   "metadata": {
    "scrolled": true,
    "tags": []
   },
   "outputs": [
    {
     "data": {
      "text/plain": [
       "{'id': '109526909',\n",
       " 'hash_index': None,\n",
       " 'procedure': 'single',\n",
       " 'program': 'psi4',\n",
       " 'version': 1,\n",
       " 'protocols': {'wavefunction': <WavefunctionProtocolEnum.none: 'none'>},\n",
       " 'extras': {'_qcfractal_tags': {'program': 'psi4', 'keywords': '35'},\n",
       "  'qcvars': {'2-BODY DISPERSION CORRECTION ENERGY': -0.1072433,\n",
       "   'CURRENT DIPOLE X': 13.68366705544945,\n",
       "   'CURRENT DIPOLE Y': -6.483792013567729,\n",
       "   'CURRENT DIPOLE Z': 6.011138387471894,\n",
       "   'CURRENT ENERGY': -1783.561406822387,\n",
       "   'CURRENT REFERENCE ENERGY': -1783.561406822387,\n",
       "   'DFT FUNCTIONAL TOTAL ENERGY': -1783.4541635223866,\n",
       "   'DFT TOTAL ENERGY': -1783.5614068223865,\n",
       "   'DFT VV10 ENERGY': 0.0,\n",
       "   'DFT XC ENERGY': -167.77883413435194,\n",
       "   'DISPERSION CORRECTION ENERGY': -0.1072433,\n",
       "   'GRID ELECTRONS ALPHA': 128.00006262168,\n",
       "   'GRID ELECTRONS BETA': 128.00006262168,\n",
       "   'GRID ELECTRONS TOTAL': 256.00012524336,\n",
       "   'NUCLEAR REPULSION ENERGY': 3602.9164088388934,\n",
       "   'ONE-ELECTRON ENERGY': -9603.994586769557,\n",
       "   'PCM POLARIZATION ENERGY': 0.0,\n",
       "   'PE ENERGY': 0.0,\n",
       "   'SCF DIPOLE X': 13.68366705544945,\n",
       "   'SCF DIPOLE Y': -6.483792013567729,\n",
       "   'SCF DIPOLE Z': 6.011138387471894,\n",
       "   'SCF ITERATION ENERGY': -1783.561406822387,\n",
       "   'SCF ITERATIONS': 13.0,\n",
       "   'SCF QUADRUPOLE XX': 1681.0111895821392,\n",
       "   'SCF QUADRUPOLE XY': 778.6803172766865,\n",
       "   'SCF QUADRUPOLE XZ': 2829.495634384747,\n",
       "   'SCF QUADRUPOLE YY': -1346.5585691886963,\n",
       "   'SCF QUADRUPOLE YZ': -644.2966455880946,\n",
       "   'SCF QUADRUPOLE ZZ': 1947.3975066376881,\n",
       "   'SCF TOTAL ENERGY': -1783.561406822387,\n",
       "   'TWO-ELECTRON ENERGY': 4385.402848542629,\n",
       "   'WB97M-D3BJ DISPERSION CORRECTION ENERGY': -0.1072433,\n",
       "   'XC GRID RADIAL POINTS': 75.0,\n",
       "   'XC GRID SPHERICAL POINTS': 302.0,\n",
       "   'XC GRID TOTAL POINTS': 1231101.0,\n",
       "   '-D GRADIENT': array([[ 2.36941177e-04, -4.07564967e-04,  5.82521028e-04],\n",
       "          [ 8.55429009e-05, -1.23980027e-04,  3.14694020e-04],\n",
       "          [ 1.97834926e-04, -6.51786316e-04,  2.47483556e-04],\n",
       "          [-1.00561577e-05, -3.69319190e-04,  8.42862013e-05],\n",
       "          [ 2.41832417e-04, -3.41093120e-04,  1.00815624e-04],\n",
       "          [ 1.13747108e-04, -6.03978636e-04, -1.43553330e-04],\n",
       "          [ 2.47711220e-05, -4.69571424e-04, -2.55872028e-04],\n",
       "          [-4.14294272e-04, -5.24764465e-04, -2.09306413e-04],\n",
       "          [ 5.66197527e-04,  1.15438555e-04, -2.17951837e-04],\n",
       "          [ 5.04118141e-04,  2.53206365e-04,  1.64780812e-04],\n",
       "          [ 6.93255828e-04,  1.33581822e-04, -1.62079412e-04],\n",
       "          [ 4.64168973e-04,  1.21373964e-04, -1.63872612e-05],\n",
       "          [ 2.04363601e-04,  2.46141510e-04, -5.35236585e-04],\n",
       "          [ 2.05342096e-04,  4.87102788e-04, -2.44449514e-04],\n",
       "          [ 4.89634881e-05,  1.94475588e-04, -7.29291551e-04],\n",
       "          [ 1.09334674e-04,  9.18081010e-05, -4.94302494e-04],\n",
       "          [-3.93634673e-04, -7.72437369e-05, -2.94247048e-04],\n",
       "          [-3.41653551e-04, -1.67295599e-04, -3.43687186e-04],\n",
       "          [-4.24431933e-04,  1.10720181e-04,  7.76921962e-05],\n",
       "          [-1.87887480e-04,  1.33077550e-05,  2.91893351e-04],\n",
       "          [-3.65663456e-04,  1.76247011e-05, -4.02497439e-04],\n",
       "          [-6.49408216e-05, -1.28202964e-04,  4.23906401e-05],\n",
       "          [ 1.37623703e-04, -2.19512030e-04,  9.12757808e-06],\n",
       "          [-3.99317311e-05,  8.25541694e-05,  4.54237705e-04],\n",
       "          [-6.81990067e-05,  1.35476429e-04,  3.00901035e-04],\n",
       "          [-5.75526125e-05,  5.50765270e-05,  3.35019718e-04],\n",
       "          [ 3.92351491e-05,  3.30035700e-05,  4.51296878e-04],\n",
       "          [ 1.69243734e-04, -8.13910195e-05,  3.11521749e-04],\n",
       "          [-4.27224496e-04,  3.35365213e-04,  5.54067598e-04],\n",
       "          [-2.36645891e-05,  7.53263382e-05,  5.04262020e-04],\n",
       "          [-1.37826111e-05, -3.26986923e-04, -4.11644247e-04],\n",
       "          [-1.04159640e-04, -1.65706922e-04, -3.35718252e-04],\n",
       "          [ 2.36876673e-04, -3.53787417e-04, -5.63815023e-04],\n",
       "          [ 2.83276568e-04, -1.43896794e-04, -2.98098338e-04],\n",
       "          [ 3.36664446e-04, -3.38723025e-04, -2.16723868e-04],\n",
       "          [-8.63905775e-06, -4.68550116e-05, -5.19540876e-04],\n",
       "          [-2.01784413e-04,  1.06958556e-04, -4.39574880e-04],\n",
       "          [-5.28908772e-04, -1.74434724e-04, -2.63140945e-04],\n",
       "          [ 4.23385145e-04,  4.07802145e-04, -1.19923084e-04],\n",
       "          [ 5.81709143e-04,  1.34425735e-04,  8.87577781e-05],\n",
       "          [ 5.25033429e-04,  4.68433026e-04, -1.54527770e-04],\n",
       "          [ 3.99658398e-04,  2.59153683e-04, -5.87297711e-05],\n",
       "          [-5.19710414e-05,  5.77828345e-04, -3.57131903e-06],\n",
       "          [ 1.62478906e-04,  4.55458052e-04,  2.55547403e-04],\n",
       "          [-3.24971724e-04,  6.91328669e-04, -3.26300839e-05],\n",
       "          [-1.65201406e-04,  4.87937129e-04, -6.93692317e-05],\n",
       "          [-5.09336864e-04,  4.20556794e-05,  3.30529047e-05],\n",
       "          [-5.40139448e-04,  5.18141760e-05, -9.06801094e-05],\n",
       "          [-2.92938876e-04, -2.07854075e-04,  3.08901304e-04],\n",
       "          [-1.11795607e-04, -2.35703305e-04,  5.08938706e-04],\n",
       "          [-4.09067967e-04,  3.43037364e-04,  5.49730875e-04],\n",
       "          [-1.84489624e-04,  1.68788674e-04,  4.03866422e-04],\n",
       "          [-1.91354692e-04,  2.52743243e-04, -5.79297377e-05],\n",
       "          [-2.72097769e-04,  2.39669012e-04,  2.20892655e-04],\n",
       "          [-1.89112313e-04,  1.18988313e-04,  9.32979564e-05],\n",
       "          [-1.26899033e-04,  9.23012454e-05,  2.39827357e-04],\n",
       "          [ 2.44219655e-05, -1.80545117e-04, -3.56314860e-05],\n",
       "          [ 3.34508354e-05, -7.45986717e-05, -2.55930353e-04],\n",
       "          [-6.31331749e-05, -5.05184357e-04,  4.04672595e-04],\n",
       "          [ 5.94467379e-05, -4.80326784e-04,  4.15638089e-05]]),\n",
       "   '2-BODY DISPERSION CORRECTION GRADIENT': array([[ 2.36941177e-04, -4.07564967e-04,  5.82521028e-04],\n",
       "          [ 8.55429009e-05, -1.23980027e-04,  3.14694020e-04],\n",
       "          [ 1.97834926e-04, -6.51786316e-04,  2.47483556e-04],\n",
       "          [-1.00561577e-05, -3.69319190e-04,  8.42862013e-05],\n",
       "          [ 2.41832417e-04, -3.41093120e-04,  1.00815624e-04],\n",
       "          [ 1.13747108e-04, -6.03978636e-04, -1.43553330e-04],\n",
       "          [ 2.47711220e-05, -4.69571424e-04, -2.55872028e-04],\n",
       "          [-4.14294272e-04, -5.24764465e-04, -2.09306413e-04],\n",
       "          [ 5.66197527e-04,  1.15438555e-04, -2.17951837e-04],\n",
       "          [ 5.04118141e-04,  2.53206365e-04,  1.64780812e-04],\n",
       "          [ 6.93255828e-04,  1.33581822e-04, -1.62079412e-04],\n",
       "          [ 4.64168973e-04,  1.21373964e-04, -1.63872612e-05],\n",
       "          [ 2.04363601e-04,  2.46141510e-04, -5.35236585e-04],\n",
       "          [ 2.05342096e-04,  4.87102788e-04, -2.44449514e-04],\n",
       "          [ 4.89634881e-05,  1.94475588e-04, -7.29291551e-04],\n",
       "          [ 1.09334674e-04,  9.18081010e-05, -4.94302494e-04],\n",
       "          [-3.93634673e-04, -7.72437369e-05, -2.94247048e-04],\n",
       "          [-3.41653551e-04, -1.67295599e-04, -3.43687186e-04],\n",
       "          [-4.24431933e-04,  1.10720181e-04,  7.76921962e-05],\n",
       "          [-1.87887480e-04,  1.33077550e-05,  2.91893351e-04],\n",
       "          [-3.65663456e-04,  1.76247011e-05, -4.02497439e-04],\n",
       "          [-6.49408216e-05, -1.28202964e-04,  4.23906401e-05],\n",
       "          [ 1.37623703e-04, -2.19512030e-04,  9.12757808e-06],\n",
       "          [-3.99317311e-05,  8.25541694e-05,  4.54237705e-04],\n",
       "          [-6.81990067e-05,  1.35476429e-04,  3.00901035e-04],\n",
       "          [-5.75526125e-05,  5.50765270e-05,  3.35019718e-04],\n",
       "          [ 3.92351491e-05,  3.30035700e-05,  4.51296878e-04],\n",
       "          [ 1.69243734e-04, -8.13910195e-05,  3.11521749e-04],\n",
       "          [-4.27224496e-04,  3.35365213e-04,  5.54067598e-04],\n",
       "          [-2.36645891e-05,  7.53263382e-05,  5.04262020e-04],\n",
       "          [-1.37826111e-05, -3.26986923e-04, -4.11644247e-04],\n",
       "          [-1.04159640e-04, -1.65706922e-04, -3.35718252e-04],\n",
       "          [ 2.36876673e-04, -3.53787417e-04, -5.63815023e-04],\n",
       "          [ 2.83276568e-04, -1.43896794e-04, -2.98098338e-04],\n",
       "          [ 3.36664446e-04, -3.38723025e-04, -2.16723868e-04],\n",
       "          [-8.63905775e-06, -4.68550116e-05, -5.19540876e-04],\n",
       "          [-2.01784413e-04,  1.06958556e-04, -4.39574880e-04],\n",
       "          [-5.28908772e-04, -1.74434724e-04, -2.63140945e-04],\n",
       "          [ 4.23385145e-04,  4.07802145e-04, -1.19923084e-04],\n",
       "          [ 5.81709143e-04,  1.34425735e-04,  8.87577781e-05],\n",
       "          [ 5.25033429e-04,  4.68433026e-04, -1.54527770e-04],\n",
       "          [ 3.99658398e-04,  2.59153683e-04, -5.87297711e-05],\n",
       "          [-5.19710414e-05,  5.77828345e-04, -3.57131903e-06],\n",
       "          [ 1.62478906e-04,  4.55458052e-04,  2.55547403e-04],\n",
       "          [-3.24971724e-04,  6.91328669e-04, -3.26300839e-05],\n",
       "          [-1.65201406e-04,  4.87937129e-04, -6.93692317e-05],\n",
       "          [-5.09336864e-04,  4.20556794e-05,  3.30529047e-05],\n",
       "          [-5.40139448e-04,  5.18141760e-05, -9.06801094e-05],\n",
       "          [-2.92938876e-04, -2.07854075e-04,  3.08901304e-04],\n",
       "          [-1.11795607e-04, -2.35703305e-04,  5.08938706e-04],\n",
       "          [-4.09067967e-04,  3.43037364e-04,  5.49730875e-04],\n",
       "          [-1.84489624e-04,  1.68788674e-04,  4.03866422e-04],\n",
       "          [-1.91354692e-04,  2.52743243e-04, -5.79297377e-05],\n",
       "          [-2.72097769e-04,  2.39669012e-04,  2.20892655e-04],\n",
       "          [-1.89112313e-04,  1.18988313e-04,  9.32979564e-05],\n",
       "          [-1.26899033e-04,  9.23012454e-05,  2.39827357e-04],\n",
       "          [ 2.44219655e-05, -1.80545117e-04, -3.56314860e-05],\n",
       "          [ 3.34508354e-05, -7.45986717e-05, -2.55930353e-04],\n",
       "          [-6.31331749e-05, -5.05184357e-04,  4.04672595e-04],\n",
       "          [ 5.94467379e-05, -4.80326784e-04,  4.15638089e-05]]),\n",
       "   'CURRENT DIPOLE': array([ 5.38356886, -2.55092006,  2.36496382]),\n",
       "   'CURRENT GRADIENT': array([[ 1.91295830e-03, -6.71826246e-03,  1.88466958e-03],\n",
       "          [ 1.13772626e-03, -1.89457509e-03,  2.11755473e-03],\n",
       "          [ 3.72065230e-03,  3.73965495e-03,  6.34790360e-03],\n",
       "          [ 1.24143052e-03,  2.70248852e-04,  1.83415117e-03],\n",
       "          [-1.01028124e-03, -6.30830542e-04,  4.59224101e-03],\n",
       "          [-1.43559890e-02,  6.35887486e-03, -1.15212736e-02],\n",
       "          [-2.91959360e-03,  3.26887847e-03, -8.18032619e-05],\n",
       "          [-5.76991445e-03, -1.53855912e-02, -1.66186283e-03],\n",
       "          [ 5.64706323e-03, -4.49999695e-03,  3.84139945e-03],\n",
       "          [ 4.31734407e-04,  1.42844213e-03, -3.42305179e-04],\n",
       "          [ 5.11909147e-03,  4.97864419e-03, -1.54425741e-03],\n",
       "          [-7.98518210e-04,  2.26988094e-03, -1.05114214e-03],\n",
       "          [ 5.14782015e-04, -4.60431312e-04,  1.87559336e-03],\n",
       "          [ 3.55849396e-03, -1.66470849e-03,  1.93798511e-03],\n",
       "          [ 3.47021755e-03, -2.15591187e-04, -1.31360605e-02],\n",
       "          [-3.14669966e-03,  1.80196626e-03,  1.15129425e-03],\n",
       "          [ 1.70751111e-03, -3.39274560e-03, -1.09588671e-03],\n",
       "          [ 2.30896371e-03, -3.82280726e-03, -8.38414960e-03],\n",
       "          [-8.84479530e-03,  1.25693727e-02, -7.25740595e-03],\n",
       "          [ 2.74135629e-02, -1.51421048e-02,  3.60157299e-02],\n",
       "          [-1.76027298e-02,  1.09957081e-02, -1.15199811e-02],\n",
       "          [-1.26875066e-02,  6.49852660e-03, -1.85656638e-02],\n",
       "          [-3.55404608e-03,  1.33813018e-02,  3.40518224e-02],\n",
       "          [ 1.55059797e-02, -2.46763172e-02, -3.63671387e-02],\n",
       "          [ 7.20241472e-03, -5.45849074e-03,  6.05762679e-03],\n",
       "          [-6.12387399e-03,  3.88125118e-03, -8.16226990e-03],\n",
       "          [-1.12117572e-02,  1.11567446e-02,  4.93892333e-03],\n",
       "          [ 1.19281500e-03, -6.53117019e-04,  1.06409955e-03],\n",
       "          [ 3.49423036e-03, -4.11098671e-03,  2.79949336e-03],\n",
       "          [ 2.79961661e-03,  3.51625991e-03,  6.79075017e-03],\n",
       "          [-5.42253665e-03,  4.42311296e-03, -3.63026854e-03],\n",
       "          [-1.14472216e-03,  3.94687288e-04, -2.05099297e-03],\n",
       "          [ 1.69471717e-02, -8.43094444e-03,  9.86552660e-04],\n",
       "          [-2.70405238e-03, -3.01943302e-03, -2.78961547e-03],\n",
       "          [ 2.91534089e-03,  4.45034539e-03,  3.61376614e-03],\n",
       "          [-1.51470148e-02,  8.15142036e-04,  9.64994451e-03],\n",
       "          [ 1.33240835e-03, -1.26351401e-03,  2.08312775e-03],\n",
       "          [-5.57722672e-03, -6.37677460e-03, -1.48942336e-02],\n",
       "          [ 1.10591037e-02, -4.37854298e-03, -1.37687098e-03],\n",
       "          [-7.97391521e-04,  9.49657394e-04, -1.01931101e-03],\n",
       "          [ 2.20522613e-03,  4.85330457e-03,  1.41608052e-03],\n",
       "          [-6.87857561e-04,  1.04870297e-03,  1.48781119e-03],\n",
       "          [ 4.75335428e-04, -5.88796154e-04, -4.69150626e-03],\n",
       "          [ 4.50140600e-03, -1.65580542e-04, -2.23725014e-03],\n",
       "          [-5.32148902e-03,  1.15782154e-02, -3.56989073e-03],\n",
       "          [-1.03636476e-03, -5.78270732e-04,  2.14712870e-03],\n",
       "          [-1.41841721e-03, -4.52011269e-03, -2.95271112e-03],\n",
       "          [-2.53299204e-03,  4.82997553e-03, -1.67843216e-03],\n",
       "          [-6.22580097e-03,  1.19294746e-02,  1.93828953e-02],\n",
       "          [ 2.13095359e-02, -2.83958528e-02, -2.41982947e-02],\n",
       "          [-9.68271406e-03,  9.71241438e-03,  2.32952132e-02],\n",
       "          [-1.16002765e-02,  1.68318530e-02,  1.07730819e-02],\n",
       "          [ 1.75960267e-02, -3.46513295e-02,  2.02707202e-02],\n",
       "          [-1.10065698e-02,  2.46385520e-02, -3.55874065e-02],\n",
       "          [ 1.23894521e-04,  2.70996584e-03, -3.38297402e-03],\n",
       "          [-1.58441148e-03,  3.47563110e-03,  4.92367891e-03],\n",
       "          [-3.30471235e-03, -7.68293908e-05,  2.07320201e-02],\n",
       "          [ 4.92566201e-04,  7.83361102e-04, -1.32912689e-03],\n",
       "          [ 4.54366918e-04, -1.16477775e-03, -1.31338291e-02],\n",
       "          [ 5.58912986e-03, -7.26868893e-03,  1.26506959e-03]]),\n",
       "   'DFT TOTAL GRADIENT': array([[ 1.91295830e-03, -6.71826246e-03,  1.88466958e-03],\n",
       "          [ 1.13772626e-03, -1.89457509e-03,  2.11755473e-03],\n",
       "          [ 3.72065230e-03,  3.73965495e-03,  6.34790360e-03],\n",
       "          [ 1.24143052e-03,  2.70248852e-04,  1.83415117e-03],\n",
       "          [-1.01028124e-03, -6.30830542e-04,  4.59224101e-03],\n",
       "          [-1.43559890e-02,  6.35887486e-03, -1.15212736e-02],\n",
       "          [-2.91959360e-03,  3.26887847e-03, -8.18032619e-05],\n",
       "          [-5.76991445e-03, -1.53855912e-02, -1.66186283e-03],\n",
       "          [ 5.64706323e-03, -4.49999695e-03,  3.84139945e-03],\n",
       "          [ 4.31734407e-04,  1.42844213e-03, -3.42305179e-04],\n",
       "          [ 5.11909147e-03,  4.97864419e-03, -1.54425741e-03],\n",
       "          [-7.98518210e-04,  2.26988094e-03, -1.05114214e-03],\n",
       "          [ 5.14782015e-04, -4.60431312e-04,  1.87559336e-03],\n",
       "          [ 3.55849396e-03, -1.66470849e-03,  1.93798511e-03],\n",
       "          [ 3.47021755e-03, -2.15591187e-04, -1.31360605e-02],\n",
       "          [-3.14669966e-03,  1.80196626e-03,  1.15129425e-03],\n",
       "          [ 1.70751111e-03, -3.39274560e-03, -1.09588671e-03],\n",
       "          [ 2.30896371e-03, -3.82280726e-03, -8.38414960e-03],\n",
       "          [-8.84479530e-03,  1.25693727e-02, -7.25740595e-03],\n",
       "          [ 2.74135629e-02, -1.51421048e-02,  3.60157299e-02],\n",
       "          [-1.76027298e-02,  1.09957081e-02, -1.15199811e-02],\n",
       "          [-1.26875066e-02,  6.49852660e-03, -1.85656638e-02],\n",
       "          [-3.55404608e-03,  1.33813018e-02,  3.40518224e-02],\n",
       "          [ 1.55059797e-02, -2.46763172e-02, -3.63671387e-02],\n",
       "          [ 7.20241472e-03, -5.45849074e-03,  6.05762679e-03],\n",
       "          [-6.12387399e-03,  3.88125118e-03, -8.16226990e-03],\n",
       "          [-1.12117572e-02,  1.11567446e-02,  4.93892333e-03],\n",
       "          [ 1.19281500e-03, -6.53117019e-04,  1.06409955e-03],\n",
       "          [ 3.49423036e-03, -4.11098671e-03,  2.79949336e-03],\n",
       "          [ 2.79961661e-03,  3.51625991e-03,  6.79075017e-03],\n",
       "          [-5.42253665e-03,  4.42311296e-03, -3.63026854e-03],\n",
       "          [-1.14472216e-03,  3.94687288e-04, -2.05099297e-03],\n",
       "          [ 1.69471717e-02, -8.43094444e-03,  9.86552660e-04],\n",
       "          [-2.70405238e-03, -3.01943302e-03, -2.78961547e-03],\n",
       "          [ 2.91534089e-03,  4.45034539e-03,  3.61376614e-03],\n",
       "          [-1.51470148e-02,  8.15142036e-04,  9.64994451e-03],\n",
       "          [ 1.33240835e-03, -1.26351401e-03,  2.08312775e-03],\n",
       "          [-5.57722672e-03, -6.37677460e-03, -1.48942336e-02],\n",
       "          [ 1.10591037e-02, -4.37854298e-03, -1.37687098e-03],\n",
       "          [-7.97391521e-04,  9.49657394e-04, -1.01931101e-03],\n",
       "          [ 2.20522613e-03,  4.85330457e-03,  1.41608052e-03],\n",
       "          [-6.87857561e-04,  1.04870297e-03,  1.48781119e-03],\n",
       "          [ 4.75335428e-04, -5.88796154e-04, -4.69150626e-03],\n",
       "          [ 4.50140600e-03, -1.65580542e-04, -2.23725014e-03],\n",
       "          [-5.32148902e-03,  1.15782154e-02, -3.56989073e-03],\n",
       "          [-1.03636476e-03, -5.78270732e-04,  2.14712870e-03],\n",
       "          [-1.41841721e-03, -4.52011269e-03, -2.95271112e-03],\n",
       "          [-2.53299204e-03,  4.82997553e-03, -1.67843216e-03],\n",
       "          [-6.22580097e-03,  1.19294746e-02,  1.93828953e-02],\n",
       "          [ 2.13095359e-02, -2.83958528e-02, -2.41982947e-02],\n",
       "          [-9.68271406e-03,  9.71241438e-03,  2.32952132e-02],\n",
       "          [-1.16002765e-02,  1.68318530e-02,  1.07730819e-02],\n",
       "          [ 1.75960267e-02, -3.46513295e-02,  2.02707202e-02],\n",
       "          [-1.10065698e-02,  2.46385520e-02, -3.55874065e-02],\n",
       "          [ 1.23894521e-04,  2.70996584e-03, -3.38297402e-03],\n",
       "          [-1.58441148e-03,  3.47563110e-03,  4.92367891e-03],\n",
       "          [-3.30471235e-03, -7.68293908e-05,  2.07320201e-02],\n",
       "          [ 4.92566201e-04,  7.83361102e-04, -1.32912689e-03],\n",
       "          [ 4.54366918e-04, -1.16477775e-03, -1.31338291e-02],\n",
       "          [ 5.58912986e-03, -7.26868893e-03,  1.26506959e-03]]),\n",
       "   'DISPERSION CORRECTION GRADIENT': array([[ 2.36941177e-04, -4.07564967e-04,  5.82521028e-04],\n",
       "          [ 8.55429009e-05, -1.23980027e-04,  3.14694020e-04],\n",
       "          [ 1.97834926e-04, -6.51786316e-04,  2.47483556e-04],\n",
       "          [-1.00561577e-05, -3.69319190e-04,  8.42862013e-05],\n",
       "          [ 2.41832417e-04, -3.41093120e-04,  1.00815624e-04],\n",
       "          [ 1.13747108e-04, -6.03978636e-04, -1.43553330e-04],\n",
       "          [ 2.47711220e-05, -4.69571424e-04, -2.55872028e-04],\n",
       "          [-4.14294272e-04, -5.24764465e-04, -2.09306413e-04],\n",
       "          [ 5.66197527e-04,  1.15438555e-04, -2.17951837e-04],\n",
       "          [ 5.04118141e-04,  2.53206365e-04,  1.64780812e-04],\n",
       "          [ 6.93255828e-04,  1.33581822e-04, -1.62079412e-04],\n",
       "          [ 4.64168973e-04,  1.21373964e-04, -1.63872612e-05],\n",
       "          [ 2.04363601e-04,  2.46141510e-04, -5.35236585e-04],\n",
       "          [ 2.05342096e-04,  4.87102788e-04, -2.44449514e-04],\n",
       "          [ 4.89634881e-05,  1.94475588e-04, -7.29291551e-04],\n",
       "          [ 1.09334674e-04,  9.18081010e-05, -4.94302494e-04],\n",
       "          [-3.93634673e-04, -7.72437369e-05, -2.94247048e-04],\n",
       "          [-3.41653551e-04, -1.67295599e-04, -3.43687186e-04],\n",
       "          [-4.24431933e-04,  1.10720181e-04,  7.76921962e-05],\n",
       "          [-1.87887480e-04,  1.33077550e-05,  2.91893351e-04],\n",
       "          [-3.65663456e-04,  1.76247011e-05, -4.02497439e-04],\n",
       "          [-6.49408216e-05, -1.28202964e-04,  4.23906401e-05],\n",
       "          [ 1.37623703e-04, -2.19512030e-04,  9.12757808e-06],\n",
       "          [-3.99317311e-05,  8.25541694e-05,  4.54237705e-04],\n",
       "          [-6.81990067e-05,  1.35476429e-04,  3.00901035e-04],\n",
       "          [-5.75526125e-05,  5.50765270e-05,  3.35019718e-04],\n",
       "          [ 3.92351491e-05,  3.30035700e-05,  4.51296878e-04],\n",
       "          [ 1.69243734e-04, -8.13910195e-05,  3.11521749e-04],\n",
       "          [-4.27224496e-04,  3.35365213e-04,  5.54067598e-04],\n",
       "          [-2.36645891e-05,  7.53263382e-05,  5.04262020e-04],\n",
       "          [-1.37826111e-05, -3.26986923e-04, -4.11644247e-04],\n",
       "          [-1.04159640e-04, -1.65706922e-04, -3.35718252e-04],\n",
       "          [ 2.36876673e-04, -3.53787417e-04, -5.63815023e-04],\n",
       "          [ 2.83276568e-04, -1.43896794e-04, -2.98098338e-04],\n",
       "          [ 3.36664446e-04, -3.38723025e-04, -2.16723868e-04],\n",
       "          [-8.63905775e-06, -4.68550116e-05, -5.19540876e-04],\n",
       "          [-2.01784413e-04,  1.06958556e-04, -4.39574880e-04],\n",
       "          [-5.28908772e-04, -1.74434724e-04, -2.63140945e-04],\n",
       "          [ 4.23385145e-04,  4.07802145e-04, -1.19923084e-04],\n",
       "          [ 5.81709143e-04,  1.34425735e-04,  8.87577781e-05],\n",
       "          [ 5.25033429e-04,  4.68433026e-04, -1.54527770e-04],\n",
       "          [ 3.99658398e-04,  2.59153683e-04, -5.87297711e-05],\n",
       "          [-5.19710414e-05,  5.77828345e-04, -3.57131903e-06],\n",
       "          [ 1.62478906e-04,  4.55458052e-04,  2.55547403e-04],\n",
       "          [-3.24971724e-04,  6.91328669e-04, -3.26300839e-05],\n",
       "          [-1.65201406e-04,  4.87937129e-04, -6.93692317e-05],\n",
       "          [-5.09336864e-04,  4.20556794e-05,  3.30529047e-05],\n",
       "          [-5.40139448e-04,  5.18141760e-05, -9.06801094e-05],\n",
       "          [-2.92938876e-04, -2.07854075e-04,  3.08901304e-04],\n",
       "          [-1.11795607e-04, -2.35703305e-04,  5.08938706e-04],\n",
       "          [-4.09067967e-04,  3.43037364e-04,  5.49730875e-04],\n",
       "          [-1.84489624e-04,  1.68788674e-04,  4.03866422e-04],\n",
       "          [-1.91354692e-04,  2.52743243e-04, -5.79297377e-05],\n",
       "          [-2.72097769e-04,  2.39669012e-04,  2.20892655e-04],\n",
       "          [-1.89112313e-04,  1.18988313e-04,  9.32979564e-05],\n",
       "          [-1.26899033e-04,  9.23012454e-05,  2.39827357e-04],\n",
       "          [ 2.44219655e-05, -1.80545117e-04, -3.56314860e-05],\n",
       "          [ 3.34508354e-05, -7.45986717e-05, -2.55930353e-04],\n",
       "          [-6.31331749e-05, -5.05184357e-04,  4.04672595e-04],\n",
       "          [ 5.94467379e-05, -4.80326784e-04,  4.15638089e-05]]),\n",
       "   'SCF DIPOLE': array([ 5.38356886, -2.55092006,  2.36496382]),\n",
       "   'SCF QUADRUPOLE': array([[ 1249.79057599,   578.92971104,  2103.66058274],\n",
       "          [  578.92971104, -1001.1332585 ,  -479.01874823],\n",
       "          [ 2103.66058274,  -479.01874823,  1447.84226696]]),\n",
       "   'SCF TOTAL GRADIENT': array([[ 1.91295830e-03, -6.71826246e-03,  1.88466958e-03],\n",
       "          [ 1.13772626e-03, -1.89457509e-03,  2.11755473e-03],\n",
       "          [ 3.72065230e-03,  3.73965495e-03,  6.34790360e-03],\n",
       "          [ 1.24143052e-03,  2.70248852e-04,  1.83415117e-03],\n",
       "          [-1.01028124e-03, -6.30830542e-04,  4.59224101e-03],\n",
       "          [-1.43559890e-02,  6.35887486e-03, -1.15212736e-02],\n",
       "          [-2.91959360e-03,  3.26887847e-03, -8.18032619e-05],\n",
       "          [-5.76991445e-03, -1.53855912e-02, -1.66186283e-03],\n",
       "          [ 5.64706323e-03, -4.49999695e-03,  3.84139945e-03],\n",
       "          [ 4.31734407e-04,  1.42844213e-03, -3.42305179e-04],\n",
       "          [ 5.11909147e-03,  4.97864419e-03, -1.54425741e-03],\n",
       "          [-7.98518210e-04,  2.26988094e-03, -1.05114214e-03],\n",
       "          [ 5.14782015e-04, -4.60431312e-04,  1.87559336e-03],\n",
       "          [ 3.55849396e-03, -1.66470849e-03,  1.93798511e-03],\n",
       "          [ 3.47021755e-03, -2.15591187e-04, -1.31360605e-02],\n",
       "          [-3.14669966e-03,  1.80196626e-03,  1.15129425e-03],\n",
       "          [ 1.70751111e-03, -3.39274560e-03, -1.09588671e-03],\n",
       "          [ 2.30896371e-03, -3.82280726e-03, -8.38414960e-03],\n",
       "          [-8.84479530e-03,  1.25693727e-02, -7.25740595e-03],\n",
       "          [ 2.74135629e-02, -1.51421048e-02,  3.60157299e-02],\n",
       "          [-1.76027298e-02,  1.09957081e-02, -1.15199811e-02],\n",
       "          [-1.26875066e-02,  6.49852660e-03, -1.85656638e-02],\n",
       "          [-3.55404608e-03,  1.33813018e-02,  3.40518224e-02],\n",
       "          [ 1.55059797e-02, -2.46763172e-02, -3.63671387e-02],\n",
       "          [ 7.20241472e-03, -5.45849074e-03,  6.05762679e-03],\n",
       "          [-6.12387399e-03,  3.88125118e-03, -8.16226990e-03],\n",
       "          [-1.12117572e-02,  1.11567446e-02,  4.93892333e-03],\n",
       "          [ 1.19281500e-03, -6.53117019e-04,  1.06409955e-03],\n",
       "          [ 3.49423036e-03, -4.11098671e-03,  2.79949336e-03],\n",
       "          [ 2.79961661e-03,  3.51625991e-03,  6.79075017e-03],\n",
       "          [-5.42253665e-03,  4.42311296e-03, -3.63026854e-03],\n",
       "          [-1.14472216e-03,  3.94687288e-04, -2.05099297e-03],\n",
       "          [ 1.69471717e-02, -8.43094444e-03,  9.86552660e-04],\n",
       "          [-2.70405238e-03, -3.01943302e-03, -2.78961547e-03],\n",
       "          [ 2.91534089e-03,  4.45034539e-03,  3.61376614e-03],\n",
       "          [-1.51470148e-02,  8.15142036e-04,  9.64994451e-03],\n",
       "          [ 1.33240835e-03, -1.26351401e-03,  2.08312775e-03],\n",
       "          [-5.57722672e-03, -6.37677460e-03, -1.48942336e-02],\n",
       "          [ 1.10591037e-02, -4.37854298e-03, -1.37687098e-03],\n",
       "          [-7.97391521e-04,  9.49657394e-04, -1.01931101e-03],\n",
       "          [ 2.20522613e-03,  4.85330457e-03,  1.41608052e-03],\n",
       "          [-6.87857561e-04,  1.04870297e-03,  1.48781119e-03],\n",
       "          [ 4.75335428e-04, -5.88796154e-04, -4.69150626e-03],\n",
       "          [ 4.50140600e-03, -1.65580542e-04, -2.23725014e-03],\n",
       "          [-5.32148902e-03,  1.15782154e-02, -3.56989073e-03],\n",
       "          [-1.03636476e-03, -5.78270732e-04,  2.14712870e-03],\n",
       "          [-1.41841721e-03, -4.52011269e-03, -2.95271112e-03],\n",
       "          [-2.53299204e-03,  4.82997553e-03, -1.67843216e-03],\n",
       "          [-6.22580097e-03,  1.19294746e-02,  1.93828953e-02],\n",
       "          [ 2.13095359e-02, -2.83958528e-02, -2.41982947e-02],\n",
       "          [-9.68271406e-03,  9.71241438e-03,  2.32952132e-02],\n",
       "          [-1.16002765e-02,  1.68318530e-02,  1.07730819e-02],\n",
       "          [ 1.75960267e-02, -3.46513295e-02,  2.02707202e-02],\n",
       "          [-1.10065698e-02,  2.46385520e-02, -3.55874065e-02],\n",
       "          [ 1.23894521e-04,  2.70996584e-03, -3.38297402e-03],\n",
       "          [-1.58441148e-03,  3.47563110e-03,  4.92367891e-03],\n",
       "          [-3.30471235e-03, -7.68293908e-05,  2.07320201e-02],\n",
       "          [ 4.92566201e-04,  7.83361102e-04, -1.32912689e-03],\n",
       "          [ 4.54366918e-04, -1.16477775e-03, -1.31338291e-02],\n",
       "          [ 5.58912986e-03, -7.26868893e-03,  1.26506959e-03]]),\n",
       "   'WB97M-D3BJ DISPERSION CORRECTION GRADIENT': array([[ 2.36941177e-04, -4.07564967e-04,  5.82521028e-04],\n",
       "          [ 8.55429009e-05, -1.23980027e-04,  3.14694020e-04],\n",
       "          [ 1.97834926e-04, -6.51786316e-04,  2.47483556e-04],\n",
       "          [-1.00561577e-05, -3.69319190e-04,  8.42862013e-05],\n",
       "          [ 2.41832417e-04, -3.41093120e-04,  1.00815624e-04],\n",
       "          [ 1.13747108e-04, -6.03978636e-04, -1.43553330e-04],\n",
       "          [ 2.47711220e-05, -4.69571424e-04, -2.55872028e-04],\n",
       "          [-4.14294272e-04, -5.24764465e-04, -2.09306413e-04],\n",
       "          [ 5.66197527e-04,  1.15438555e-04, -2.17951837e-04],\n",
       "          [ 5.04118141e-04,  2.53206365e-04,  1.64780812e-04],\n",
       "          [ 6.93255828e-04,  1.33581822e-04, -1.62079412e-04],\n",
       "          [ 4.64168973e-04,  1.21373964e-04, -1.63872612e-05],\n",
       "          [ 2.04363601e-04,  2.46141510e-04, -5.35236585e-04],\n",
       "          [ 2.05342096e-04,  4.87102788e-04, -2.44449514e-04],\n",
       "          [ 4.89634881e-05,  1.94475588e-04, -7.29291551e-04],\n",
       "          [ 1.09334674e-04,  9.18081010e-05, -4.94302494e-04],\n",
       "          [-3.93634673e-04, -7.72437369e-05, -2.94247048e-04],\n",
       "          [-3.41653551e-04, -1.67295599e-04, -3.43687186e-04],\n",
       "          [-4.24431933e-04,  1.10720181e-04,  7.76921962e-05],\n",
       "          [-1.87887480e-04,  1.33077550e-05,  2.91893351e-04],\n",
       "          [-3.65663456e-04,  1.76247011e-05, -4.02497439e-04],\n",
       "          [-6.49408216e-05, -1.28202964e-04,  4.23906401e-05],\n",
       "          [ 1.37623703e-04, -2.19512030e-04,  9.12757808e-06],\n",
       "          [-3.99317311e-05,  8.25541694e-05,  4.54237705e-04],\n",
       "          [-6.81990067e-05,  1.35476429e-04,  3.00901035e-04],\n",
       "          [-5.75526125e-05,  5.50765270e-05,  3.35019718e-04],\n",
       "          [ 3.92351491e-05,  3.30035700e-05,  4.51296878e-04],\n",
       "          [ 1.69243734e-04, -8.13910195e-05,  3.11521749e-04],\n",
       "          [-4.27224496e-04,  3.35365213e-04,  5.54067598e-04],\n",
       "          [-2.36645891e-05,  7.53263382e-05,  5.04262020e-04],\n",
       "          [-1.37826111e-05, -3.26986923e-04, -4.11644247e-04],\n",
       "          [-1.04159640e-04, -1.65706922e-04, -3.35718252e-04],\n",
       "          [ 2.36876673e-04, -3.53787417e-04, -5.63815023e-04],\n",
       "          [ 2.83276568e-04, -1.43896794e-04, -2.98098338e-04],\n",
       "          [ 3.36664446e-04, -3.38723025e-04, -2.16723868e-04],\n",
       "          [-8.63905775e-06, -4.68550116e-05, -5.19540876e-04],\n",
       "          [-2.01784413e-04,  1.06958556e-04, -4.39574880e-04],\n",
       "          [-5.28908772e-04, -1.74434724e-04, -2.63140945e-04],\n",
       "          [ 4.23385145e-04,  4.07802145e-04, -1.19923084e-04],\n",
       "          [ 5.81709143e-04,  1.34425735e-04,  8.87577781e-05],\n",
       "          [ 5.25033429e-04,  4.68433026e-04, -1.54527770e-04],\n",
       "          [ 3.99658398e-04,  2.59153683e-04, -5.87297711e-05],\n",
       "          [-5.19710414e-05,  5.77828345e-04, -3.57131903e-06],\n",
       "          [ 1.62478906e-04,  4.55458052e-04,  2.55547403e-04],\n",
       "          [-3.24971724e-04,  6.91328669e-04, -3.26300839e-05],\n",
       "          [-1.65201406e-04,  4.87937129e-04, -6.93692317e-05],\n",
       "          [-5.09336864e-04,  4.20556794e-05,  3.30529047e-05],\n",
       "          [-5.40139448e-04,  5.18141760e-05, -9.06801094e-05],\n",
       "          [-2.92938876e-04, -2.07854075e-04,  3.08901304e-04],\n",
       "          [-1.11795607e-04, -2.35703305e-04,  5.08938706e-04],\n",
       "          [-4.09067967e-04,  3.43037364e-04,  5.49730875e-04],\n",
       "          [-1.84489624e-04,  1.68788674e-04,  4.03866422e-04],\n",
       "          [-1.91354692e-04,  2.52743243e-04, -5.79297377e-05],\n",
       "          [-2.72097769e-04,  2.39669012e-04,  2.20892655e-04],\n",
       "          [-1.89112313e-04,  1.18988313e-04,  9.32979564e-05],\n",
       "          [-1.26899033e-04,  9.23012454e-05,  2.39827357e-04],\n",
       "          [ 2.44219655e-05, -1.80545117e-04, -3.56314860e-05],\n",
       "          [ 3.34508354e-05, -7.45986717e-05, -2.55930353e-04],\n",
       "          [-6.31331749e-05, -5.05184357e-04,  4.04672595e-04],\n",
       "          [ 5.94467379e-05, -4.80326784e-04,  4.15638089e-05]])}},\n",
       " 'stdout': '144188828',\n",
       " 'stderr': None,\n",
       " 'error': None,\n",
       " 'manager_name': 'LilacQM-lt19-3f3ffc75-08c4-4639-9bc4-e95dbb8002a3',\n",
       " 'status': <RecordStatusEnum.complete: 'COMPLETE'>,\n",
       " 'modified_on': datetime.datetime(2022, 9, 7, 0, 46, 35, 513400),\n",
       " 'created_on': datetime.datetime(2022, 7, 15, 3, 7, 27, 752940),\n",
       " 'provenance': {'creator': 'Psi4',\n",
       "  'version': '1.4.1',\n",
       "  'routine': 'psi4.schema_runner.run_qcschema',\n",
       "  'cpu': 'Intel(R) Xeon(R) CPU E5-2697 v4 @ 2.30GHz',\n",
       "  'memory': 70.0,\n",
       "  'nthreads': 10,\n",
       "  'module': 'scf',\n",
       "  'qcengine_version': 'v0.22.0',\n",
       "  'username': 'dotson',\n",
       "  'hostname': 'lt19',\n",
       "  'wall_time': 5137.838227987289},\n",
       " 'driver': <DriverEnum.gradient: 'gradient'>,\n",
       " 'method': 'wb97m-d3bj',\n",
       " 'molecule': '102478519',\n",
       " 'basis': 'def2-tzvppd',\n",
       " 'keywords': '35',\n",
       " 'return_result': array([[ 1.91295830e-03, -6.71826246e-03,  1.88466958e-03],\n",
       "        [ 1.13772626e-03, -1.89457509e-03,  2.11755473e-03],\n",
       "        [ 3.72065230e-03,  3.73965495e-03,  6.34790360e-03],\n",
       "        [ 1.24143052e-03,  2.70248852e-04,  1.83415117e-03],\n",
       "        [-1.01028124e-03, -6.30830542e-04,  4.59224101e-03],\n",
       "        [-1.43559890e-02,  6.35887486e-03, -1.15212736e-02],\n",
       "        [-2.91959360e-03,  3.26887847e-03, -8.18032619e-05],\n",
       "        [-5.76991445e-03, -1.53855912e-02, -1.66186283e-03],\n",
       "        [ 5.64706323e-03, -4.49999695e-03,  3.84139945e-03],\n",
       "        [ 4.31734407e-04,  1.42844213e-03, -3.42305179e-04],\n",
       "        [ 5.11909147e-03,  4.97864419e-03, -1.54425741e-03],\n",
       "        [-7.98518210e-04,  2.26988094e-03, -1.05114214e-03],\n",
       "        [ 5.14782015e-04, -4.60431312e-04,  1.87559336e-03],\n",
       "        [ 3.55849396e-03, -1.66470849e-03,  1.93798511e-03],\n",
       "        [ 3.47021755e-03, -2.15591187e-04, -1.31360605e-02],\n",
       "        [-3.14669966e-03,  1.80196626e-03,  1.15129425e-03],\n",
       "        [ 1.70751111e-03, -3.39274560e-03, -1.09588671e-03],\n",
       "        [ 2.30896371e-03, -3.82280726e-03, -8.38414960e-03],\n",
       "        [-8.84479530e-03,  1.25693727e-02, -7.25740595e-03],\n",
       "        [ 2.74135629e-02, -1.51421048e-02,  3.60157299e-02],\n",
       "        [-1.76027298e-02,  1.09957081e-02, -1.15199811e-02],\n",
       "        [-1.26875066e-02,  6.49852660e-03, -1.85656638e-02],\n",
       "        [-3.55404608e-03,  1.33813018e-02,  3.40518224e-02],\n",
       "        [ 1.55059797e-02, -2.46763172e-02, -3.63671387e-02],\n",
       "        [ 7.20241472e-03, -5.45849074e-03,  6.05762679e-03],\n",
       "        [-6.12387399e-03,  3.88125118e-03, -8.16226990e-03],\n",
       "        [-1.12117572e-02,  1.11567446e-02,  4.93892333e-03],\n",
       "        [ 1.19281500e-03, -6.53117019e-04,  1.06409955e-03],\n",
       "        [ 3.49423036e-03, -4.11098671e-03,  2.79949336e-03],\n",
       "        [ 2.79961661e-03,  3.51625991e-03,  6.79075017e-03],\n",
       "        [-5.42253665e-03,  4.42311296e-03, -3.63026854e-03],\n",
       "        [-1.14472216e-03,  3.94687288e-04, -2.05099297e-03],\n",
       "        [ 1.69471717e-02, -8.43094444e-03,  9.86552660e-04],\n",
       "        [-2.70405238e-03, -3.01943302e-03, -2.78961547e-03],\n",
       "        [ 2.91534089e-03,  4.45034539e-03,  3.61376614e-03],\n",
       "        [-1.51470148e-02,  8.15142036e-04,  9.64994451e-03],\n",
       "        [ 1.33240835e-03, -1.26351401e-03,  2.08312775e-03],\n",
       "        [-5.57722672e-03, -6.37677460e-03, -1.48942336e-02],\n",
       "        [ 1.10591037e-02, -4.37854298e-03, -1.37687098e-03],\n",
       "        [-7.97391521e-04,  9.49657394e-04, -1.01931101e-03],\n",
       "        [ 2.20522613e-03,  4.85330457e-03,  1.41608052e-03],\n",
       "        [-6.87857561e-04,  1.04870297e-03,  1.48781119e-03],\n",
       "        [ 4.75335428e-04, -5.88796154e-04, -4.69150626e-03],\n",
       "        [ 4.50140600e-03, -1.65580542e-04, -2.23725014e-03],\n",
       "        [-5.32148902e-03,  1.15782154e-02, -3.56989073e-03],\n",
       "        [-1.03636476e-03, -5.78270732e-04,  2.14712870e-03],\n",
       "        [-1.41841721e-03, -4.52011269e-03, -2.95271112e-03],\n",
       "        [-2.53299204e-03,  4.82997553e-03, -1.67843216e-03],\n",
       "        [-6.22580097e-03,  1.19294746e-02,  1.93828953e-02],\n",
       "        [ 2.13095359e-02, -2.83958528e-02, -2.41982947e-02],\n",
       "        [-9.68271406e-03,  9.71241438e-03,  2.32952132e-02],\n",
       "        [-1.16002765e-02,  1.68318530e-02,  1.07730819e-02],\n",
       "        [ 1.75960267e-02, -3.46513295e-02,  2.02707202e-02],\n",
       "        [-1.10065698e-02,  2.46385520e-02, -3.55874065e-02],\n",
       "        [ 1.23894521e-04,  2.70996584e-03, -3.38297402e-03],\n",
       "        [-1.58441148e-03,  3.47563110e-03,  4.92367891e-03],\n",
       "        [-3.30471235e-03, -7.68293908e-05,  2.07320201e-02],\n",
       "        [ 4.92566201e-04,  7.83361102e-04, -1.32912689e-03],\n",
       "        [ 4.54366918e-04, -1.16477775e-03, -1.31338291e-02],\n",
       "        [ 5.58912986e-03, -7.26868893e-03,  1.26506959e-03]]),\n",
       " 'properties': {'calcinfo_nbasis': 1730,\n",
       "  'calcinfo_nmo': 1730,\n",
       "  'calcinfo_nalpha': 128,\n",
       "  'calcinfo_nbeta': 128,\n",
       "  'calcinfo_natom': 60,\n",
       "  'nuclear_repulsion_energy': 3602.9164088388934,\n",
       "  'return_energy': -1783.561406822387,\n",
       "  'scf_one_electron_energy': -9603.994586769557,\n",
       "  'scf_two_electron_energy': 4385.402848542629,\n",
       "  'scf_xc_energy': -167.77883413435194,\n",
       "  'scf_dispersion_correction_energy': -0.1072433,\n",
       "  'scf_dipole_moment': array([ 5.38356886, -2.55092006,  2.36496382]),\n",
       "  'scf_total_energy': -1783.561406822387,\n",
       "  'scf_iterations': 13},\n",
       " 'wavefunction': None,\n",
       " 'wavefunction_data_id': None}"
      ]
     },
     "execution_count": 25,
     "metadata": {},
     "output_type": "execute_result"
    }
   ],
   "source": [
    "rna_records.record[0].dict()\n",
    "#rna_records.iloc[0].record.dict()"
   ]
  },
  {
   "cell_type": "code",
   "execution_count": 26,
   "id": "b05037c4-9896-455b-8df1-c8d74905c155",
   "metadata": {},
   "outputs": [
    {
     "name": "stdout",
     "output_type": "stream",
     "text": [
      "records:  4489\n",
      "entries:  4489\n",
      "mols:     4489\n"
     ]
    }
   ],
   "source": [
    "print(\"records: \", len(rna_records))\n",
    "print(\"entries: \", len(rna.get_entries()))\n",
    "print(\"mols:    \", len(rna.get_molecules()))"
   ]
  },
  {
   "cell_type": "code",
   "execution_count": 27,
   "id": "26bc7d29-ec7f-49bf-93da-00a2cc9a943d",
   "metadata": {},
   "outputs": [
    {
     "data": {
      "application/vnd.jupyter.widget-view+json": {
       "model_id": "5cb0afea232648e5b9bc518d65cb1968",
       "version_major": 2,
       "version_minor": 0
      },
      "text/plain": []
     },
     "metadata": {},
     "output_type": "display_data"
    },
    {
     "data": {
      "application/vnd.jupyter.widget-view+json": {
       "model_id": "a88da584981542dc8cee3355561a7c72",
       "version_major": 2,
       "version_minor": 0
      },
      "text/plain": [
       "NGLWidget()"
      ]
     },
     "metadata": {},
     "output_type": "display_data"
    }
   ],
   "source": [
    "mol = client.query_molecules(rna_records.iloc[i].record.molecule)[0]\n",
    "mol"
   ]
  },
  {
   "cell_type": "code",
   "execution_count": 28,
   "id": "31937c87-7781-4917-b936-91ef772bca1b",
   "metadata": {},
   "outputs": [
    {
     "data": {
      "text/plain": [
       "'102478008'"
      ]
     },
     "execution_count": 28,
     "metadata": {},
     "output_type": "execute_result"
    }
   ],
   "source": [
    "mol.id"
   ]
  },
  {
   "cell_type": "markdown",
   "id": "c15450de-0e50-4fe9-a02d-d567a4be09aa",
   "metadata": {},
   "source": [
    "### SPICE v1.0\n",
    "https://github.com/openmm/spice-dataset/blob/1.0/downloader/config.yaml"
   ]
  },
  {
   "cell_type": "code",
   "execution_count": 29,
   "id": "28eff649-f91e-4dbc-a5cc-c8d84ad44008",
   "metadata": {},
   "outputs": [],
   "source": [
    "subsets = [  \n",
    "    'SPICE Solvated Amino Acids Single Points Dataset v1.1',\n",
    "    'SPICE Dipeptides Single Points Dataset v1.2',\n",
    "    'SPICE DES Monomers Single Points Dataset v1.1',\n",
    "    'SPICE DES370K Single Points Dataset v1.0',\n",
    "    'SPICE DES370K Single Points Dataset Supplement v1.0',\n",
    "    'SPICE PubChem Set 1 Single Points Dataset v1.2',\n",
    "    'SPICE PubChem Set 2 Single Points Dataset v1.2',\n",
    "    'SPICE PubChem Set 3 Single Points Dataset v1.2',\n",
    "    'SPICE PubChem Set 4 Single Points Dataset v1.2',\n",
    "    'SPICE PubChem Set 5 Single Points Dataset v1.2',\n",
    "    'SPICE PubChem Set 6 Single Points Dataset v1.2',\n",
    "    'SPICE Ion Pairs Single Points Dataset v1.1'\n",
    "]"
   ]
  },
  {
   "cell_type": "code",
   "execution_count": 30,
   "id": "8cbd0431-b0dc-4d59-b858-2212b745e6e6",
   "metadata": {},
   "outputs": [],
   "source": [
    "c = client.get_collection('Dataset', 'SPICE PubChem Set 1 Single Points Dataset v1.2')"
   ]
  },
  {
   "cell_type": "code",
   "execution_count": 31,
   "id": "be7a6fec-b894-4b52-b0c9-f3468ad368b4",
   "metadata": {},
   "outputs": [
    {
     "data": {
      "text/html": [
       "<div>\n",
       "<style scoped>\n",
       "    .dataframe tbody tr th:only-of-type {\n",
       "        vertical-align: middle;\n",
       "    }\n",
       "\n",
       "    .dataframe tbody tr th {\n",
       "        vertical-align: top;\n",
       "    }\n",
       "\n",
       "    .dataframe thead th {\n",
       "        text-align: right;\n",
       "    }\n",
       "</style>\n",
       "<table border=\"1\" class=\"dataframe\">\n",
       "  <thead>\n",
       "    <tr style=\"text-align: right;\">\n",
       "      <th></th>\n",
       "      <th>driver</th>\n",
       "      <th>program</th>\n",
       "      <th>method</th>\n",
       "      <th>basis</th>\n",
       "      <th>keywords</th>\n",
       "      <th>name</th>\n",
       "    </tr>\n",
       "  </thead>\n",
       "  <tbody>\n",
       "    <tr>\n",
       "      <th>1</th>\n",
       "      <td>gradient</td>\n",
       "      <td>psi4</td>\n",
       "      <td>b3lyp</td>\n",
       "      <td>dzvp</td>\n",
       "      <td>openff-default</td>\n",
       "      <td>B3LYP/dzvp-openff-default</td>\n",
       "    </tr>\n",
       "    <tr>\n",
       "      <th>2</th>\n",
       "      <td>gradient</td>\n",
       "      <td>psi4</td>\n",
       "      <td>wb97m-d3bj</td>\n",
       "      <td>def2-tzvppd</td>\n",
       "      <td>spice_default</td>\n",
       "      <td>WB97M-D3BJ/def2-tzvppd-spice_default</td>\n",
       "    </tr>\n",
       "    <tr>\n",
       "      <th>3</th>\n",
       "      <td>gradient</td>\n",
       "      <td>psi4</td>\n",
       "      <td>b3lyp-d3bj</td>\n",
       "      <td>dzvp</td>\n",
       "      <td>openff-default</td>\n",
       "      <td>B3LYP-D3BJ/dzvp-openff-default</td>\n",
       "    </tr>\n",
       "  </tbody>\n",
       "</table>\n",
       "</div>"
      ],
      "text/plain": [
       "     driver program      method        basis        keywords  \\\n",
       "1  gradient    psi4       b3lyp         dzvp  openff-default   \n",
       "2  gradient    psi4  wb97m-d3bj  def2-tzvppd   spice_default   \n",
       "3  gradient    psi4  b3lyp-d3bj         dzvp  openff-default   \n",
       "\n",
       "                                   name  \n",
       "1             B3LYP/dzvp-openff-default  \n",
       "2  WB97M-D3BJ/def2-tzvppd-spice_default  \n",
       "3        B3LYP-D3BJ/dzvp-openff-default  "
      ]
     },
     "execution_count": 31,
     "metadata": {},
     "output_type": "execute_result"
    }
   ],
   "source": [
    "c.list_records()"
   ]
  },
  {
   "cell_type": "code",
   "execution_count": 32,
   "id": "4f7c34ab-446d-4e70-bd20-0264c22978db",
   "metadata": {},
   "outputs": [
    {
     "name": "stdout",
     "output_type": "stream",
     "text": [
      "b3lyp-d3bj dzvp psi4 openff-default\n"
     ]
    }
   ],
   "source": [
    "method = c.list_records()[\"method\"][3]\n",
    "basis = c.list_records()[\"basis\"][3]\n",
    "program = c.list_records()[\"program\"][3]\n",
    "keywords = c.list_records()[\"keywords\"][3]\n",
    "print(method, basis, program, keywords)"
   ]
  },
  {
   "cell_type": "raw",
   "id": "bc820041-d011-42be-8bac-07b571b64857",
   "metadata": {},
   "source": [
    "recs_default = c.get_records(method='b3lyp-d3bj', basis='dzvp', program='psi4', keywords='openff-default')\n",
    "print(\"length of dataframe\", len(recs_default), \"\\n\", \"No. of records in each: \",  len(recs_default[0]), len(recs_default[1]))"
   ]
  },
  {
   "cell_type": "raw",
   "id": "289ccbe0-86a5-4e3c-b9f0-6ebf418561ce",
   "metadata": {},
   "source": [
    "# DO NOT RUN! THIS WILL TAKE VERY LONG TIME!!\n",
    "\n",
    "for subset in subsets:\n",
    "    c = client.get_collection('Dataset', subset)\n",
    "    print(c.name)\n",
    "    \n",
    "    \n",
    "    method = c.list_records()[\"method\"][0]\n",
    "    basis = c.list_records()[\"basis\"][0]\n",
    "    program = c.list_records()[\"program\"][0]\n",
    "    keywords = c.list_records()[\"keywords\"][0]\n",
    "    print(method, basis, program, keywords)\n",
    "    \n",
    "    recs = c.get_records(method=method, basis=basis, program=program, keywords=keywords)\n",
    "    print(\"records: \", len(recs))\n",
    "    print(\"entries: \", len(c.get_entries()))\n",
    "    print(\"mols:    \", len(c.get_molecules()))\n",
    "    print(\"============\")"
   ]
  },
  {
   "cell_type": "markdown",
   "id": "d8d0ed91-be0a-4525-9a1e-ca5a1cbf3f42",
   "metadata": {},
   "source": [
    "### Pepconf Optimizationd dataset"
   ]
  },
  {
   "cell_type": "code",
   "execution_count": 33,
   "id": "607c23d8-d373-4cad-8d53-785a81e4a529",
   "metadata": {},
   "outputs": [],
   "source": [
    "openff_pepconf_opt = client.get_collection('OptimizationDataset', 'OpenFF PEPCONF OptimizationDataset v1.0')"
   ]
  },
  {
   "cell_type": "code",
   "execution_count": 34,
   "id": "d7d49b11-f6d7-4e30-8613-9c73b0e704c4",
   "metadata": {},
   "outputs": [
    {
     "data": {
      "text/html": [
       "<div>\n",
       "<style scoped>\n",
       "    .dataframe tbody tr th:only-of-type {\n",
       "        vertical-align: middle;\n",
       "    }\n",
       "\n",
       "    .dataframe tbody tr th {\n",
       "        vertical-align: top;\n",
       "    }\n",
       "\n",
       "    .dataframe thead th {\n",
       "        text-align: right;\n",
       "    }\n",
       "</style>\n",
       "<table border=\"1\" class=\"dataframe\">\n",
       "  <thead>\n",
       "    <tr style=\"text-align: right;\">\n",
       "      <th></th>\n",
       "      <th>Description</th>\n",
       "    </tr>\n",
       "    <tr>\n",
       "      <th>Name</th>\n",
       "      <th></th>\n",
       "    </tr>\n",
       "  </thead>\n",
       "  <tbody>\n",
       "    <tr>\n",
       "      <th>default</th>\n",
       "      <td>Standard OpenFF optimization quantum chemistry...</td>\n",
       "    </tr>\n",
       "    <tr>\n",
       "      <th>ani2x-qm</th>\n",
       "      <td>QM optimization using the method/basis on whic...</td>\n",
       "    </tr>\n",
       "    <tr>\n",
       "      <th>default-dlc</th>\n",
       "      <td>Standard OpenFF optimization quantum chemistry...</td>\n",
       "    </tr>\n",
       "  </tbody>\n",
       "</table>\n",
       "</div>"
      ],
      "text/plain": [
       "                                                   Description\n",
       "Name                                                          \n",
       "default      Standard OpenFF optimization quantum chemistry...\n",
       "ani2x-qm     QM optimization using the method/basis on whic...\n",
       "default-dlc  Standard OpenFF optimization quantum chemistry..."
      ]
     },
     "execution_count": 34,
     "metadata": {},
     "output_type": "execute_result"
    }
   ],
   "source": [
    "openff_pepconf_opt.list_specifications()"
   ]
  },
  {
   "cell_type": "code",
   "execution_count": 35,
   "id": "c7382875-d129-4e83-a7a8-fbbce9b67ce1",
   "metadata": {},
   "outputs": [],
   "source": [
    "record_names = list(openff_pepconf_opt.data.records)"
   ]
  },
  {
   "cell_type": "code",
   "execution_count": 36,
   "id": "556bfec6-6099-4e02-a634-cc8d070192fd",
   "metadata": {
    "scrolled": true,
    "tags": []
   },
   "outputs": [
    {
     "data": {
      "text/plain": [
       "['cc(=o)n[c@@h](ccc(=o)[o-])c(=o)n[c@@h](cc1ccccc1)c(n)=o-0',\n",
       " 'cc(=o)n[c@@h](ccc(=o)[o-])c(=o)n[c@@h](cc1ccccc1)c(n)=o-1',\n",
       " 'cc(=o)n[c@@h](co)c(=o)n[c@@h](co)c(n)=o-0',\n",
       " 'cc[c@h](c)[c@h](nc(c)=o)c(=o)n[c@@h](cc1ccccc1)c(n)=o-0',\n",
       " 'cc[c@h](c)[c@h](nc(c)=o)c(=o)n[c@@h](cc1ccccc1)c(n)=o-1',\n",
       " 'cc(=o)n[c@@h](cc1c[nh]c2ccccc12)c(=o)n[c@@h](cc1ccc(o)cc1)c(n)=o-0',\n",
       " 'cc(=o)n[c@@h](cc1c[nh]c2ccccc12)c(=o)n[c@@h](cc1ccc(o)cc1)c(n)=o-1',\n",
       " 'cc(=o)n[c@@h](cc1c[nh]c2ccccc12)c(=o)n[c@@h](cc1ccc(o)cc1)c(n)=o-2',\n",
       " 'cc(=o)n[c@@h](cc1c[nh]c2ccccc12)c(=o)n[c@@h](cc1ccc(o)cc1)c(n)=o-3',\n",
       " 'cc(=o)n[c@@h](cccc[nh3+])c(=o)n[c@@h](cc1c[nh]c2ccccc12)c(n)=o-0',\n",
       " 'cc(=o)n[c@@h](cccc[nh3+])c(=o)n[c@@h](cc1c[nh]c2ccccc12)c(n)=o-1',\n",
       " 'cc(=o)n[c@@h](cccc[nh3+])c(=o)n[c@@h](cc1c[nh]c2ccccc12)c(n)=o-2',\n",
       " 'cc(=o)n[c@@h](cccnc(n)=[nh2+])c(=o)n[c@@h](cc(c)c)c(n)=o-0',\n",
       " 'cc(=o)n[c@@h](cccnc(n)=[nh2+])c(=o)n[c@@h](cc(c)c)c(n)=o-1',\n",
       " 'cc(=o)n[c@@h](co)c(=o)n[c@h](c(n)=o)[c@@h](c)o-0',\n",
       " 'cscc[c@h](nc(=o)[c@h](cc1c[nh]cn1)nc(c)=o)c(n)=o-0',\n",
       " 'cscc[c@h](nc(=o)[c@h](cc1c[nh]cn1)nc(c)=o)c(n)=o-1',\n",
       " 'cc(=o)n[c@@h](cc1c[nh]c2ccccc12)c(=o)n[c@@h](cc1c[nh]cn1)c(n)=o-0',\n",
       " 'cc(=o)n[c@@h](cc1c[nh]c2ccccc12)c(=o)n[c@@h](cc1c[nh]cn1)c(n)=o-1',\n",
       " 'cc(=o)n[c@@h](cc1c[nh]c2ccccc12)c(=o)n[c@@h](cc1c[nh]cn1)c(n)=o-2',\n",
       " 'cc(=o)n[c@@h](cc1ccc(o)cc1)c(=o)n[c@@h](ccc(n)=o)c(n)=o-0',\n",
       " 'cc(=o)n[c@@h](cc1ccc(o)cc1)c(=o)n[c@@h](ccc(n)=o)c(n)=o-1',\n",
       " 'cc(=o)n[c@@h](cc1ccccc1)c(=o)n[c@@h](cs)c(n)=o-0',\n",
       " 'cc(=o)n[c@@h](ccc(=o)[o-])c(=o)n[c@@h](cc1c[nh]c2ccccc12)c(n)=o-0',\n",
       " 'cc(=o)n[c@@h](ccc(=o)[o-])c(=o)n[c@@h](cc1c[nh]c2ccccc12)c(n)=o-1',\n",
       " 'cc(=o)n1ccc[c@h]1c(=o)n[c@@h](cc1c[nh]c2ccccc12)c(n)=o-0',\n",
       " 'cc(=o)n1ccc[c@h]1c(=o)n[c@@h](cc1c[nh]c2ccccc12)c(n)=o-1',\n",
       " 'cc(=o)n1ccc[c@h]1c(=o)n[c@@h](cc1c[nh]c2ccccc12)c(n)=o-2',\n",
       " 'cscc[c@h](nc(=o)[c@h](cs)nc(c)=o)c(n)=o-0',\n",
       " 'cc[c@h](c)[c@h](nc(c)=o)c(=o)n[c@@h](cc1c[nh]c2ccccc12)c(n)=o-0',\n",
       " 'cc[c@h](c)[c@h](nc(c)=o)c(=o)n[c@@h](cc1c[nh]c2ccccc12)c(n)=o-1',\n",
       " 'cc[c@h](c)[c@h](nc(c)=o)c(=o)n[c@@h](cc1c[nh]c2ccccc12)c(n)=o-2',\n",
       " 'cc(=o)n[c@@h](cccnc(n)=[nh2+])c(=o)n[c@@h](cc1ccccc1)c(n)=o-0',\n",
       " 'cc(=o)n[c@@h](cccnc(n)=[nh2+])c(=o)n[c@@h](cc1ccccc1)c(n)=o-1',\n",
       " 'cc(=o)n[c@@h](cccnc(n)=[nh2+])c(=o)n[c@@h](cc1ccccc1)c(n)=o-2',\n",
       " 'cc(=o)n[c@h](c(=o)n[c@@h](cs)c(n)=o)[c@@h](c)o-0',\n",
       " 'cc[c@h](c)[c@h](nc(c)=o)c(=o)n[c@@h](cc(c)c)c(n)=o-0',\n",
       " 'cc(=o)n[c@@h](ccc(=o)[o-])c(=o)n[c@@h](cc(c)c)c(n)=o-0',\n",
       " 'cc(=o)n[c@@h](ccc(=o)[o-])c(=o)n[c@@h](cc(c)c)c(n)=o-1',\n",
       " 'cc(=o)n[c@h](c(=o)n[c@@h](ccc(n)=o)c(n)=o)c(c)c-0',\n",
       " 'cc(=o)n1ccc[c@h]1c(=o)n[c@h](c(n)=o)[c@@h](c)o-0',\n",
       " 'cc(=o)n[c@@h](cc1c[nh]c2ccccc12)c(=o)n[c@@h](cc(n)=o)c(n)=o-0',\n",
       " 'cc(=o)n[c@@h](cc1c[nh]c2ccccc12)c(=o)n[c@@h](cc(n)=o)c(n)=o-1',\n",
       " 'cc(=o)n[c@@h](cc1c[nh]c2ccccc12)c(=o)n[c@@h](cc(n)=o)c(n)=o-2',\n",
       " 'cc(=o)ncc(=o)ncc(n)=o-0',\n",
       " 'cc(=o)n[c@@h](cc1ccccc1)c(=o)n[c@@h](cc1ccc(o)cc1)c(n)=o-0',\n",
       " 'cc(=o)n[c@@h](cc1ccccc1)c(=o)n[c@@h](cc1ccc(o)cc1)c(n)=o-1',\n",
       " 'cc(=o)n[c@@h](cc1ccccc1)c(=o)n[c@@h](cc1ccc(o)cc1)c(n)=o-2',\n",
       " 'cc(=o)n[c@@h](c)c(=o)n[c@@h](cc1ccccc1)c(n)=o-0',\n",
       " 'cc(=o)n[c@@h](c)c(=o)n[c@@h](cc1ccccc1)c(n)=o-1',\n",
       " 'cc(=o)n1ccc[c@h]1c(=o)n[c@@h](co)c(n)=o-0',\n",
       " 'cc(=o)n[c@@h](cc(=o)[o-])c(=o)n[c@@h](cc1ccccc1)c(n)=o-0',\n",
       " 'cc(=o)n[c@@h](cc(=o)[o-])c(=o)n[c@@h](cc1ccccc1)c(n)=o-1',\n",
       " 'cc(=o)n[c@@h](cccc[nh3+])c(=o)n[c@@h](co)c(n)=o-0',\n",
       " 'cc(=o)n[c@@h](cc(=o)[o-])c(=o)n[c@@h](cc(c)c)c(n)=o-0',\n",
       " 'cc(=o)n[c@@h](ccc(n)=o)c(=o)n[c@@h](cs)c(n)=o-0',\n",
       " 'cc(=o)n[c@@h](cccnc(n)=[nh2+])c(=o)n[c@h](c(n)=o)[c@@h](c)o-0',\n",
       " 'cc(=o)n[c@@h](cccnc(n)=[nh2+])c(=o)n[c@h](c(n)=o)[c@@h](c)o-1',\n",
       " 'cc(=o)n[c@@h](c)c(=o)n[c@@h](cc1c[nh]c2ccccc12)c(n)=o-0',\n",
       " 'cc(=o)n[c@@h](c)c(=o)n[c@@h](cc1c[nh]c2ccccc12)c(n)=o-1',\n",
       " 'cc(=o)n[c@@h](c)c(=o)n[c@@h](cc(c)c)c(n)=o-0',\n",
       " 'cc(=o)n[c@@h](c)c(=o)n[c@@h](cc(c)c)c(n)=o-1',\n",
       " 'cc(=o)n[c@@h](cccc[nh3+])c(=o)n[c@h](c(n)=o)[c@@h](c)o-0',\n",
       " 'cc(=o)n[c@@h](cc(=o)[o-])c(=o)n[c@@h](cc1c[nh]c2ccccc12)c(n)=o-0',\n",
       " 'cc(=o)n[c@@h](cc(=o)[o-])c(=o)n[c@@h](cc1c[nh]c2ccccc12)c(n)=o-1',\n",
       " 'cc(=o)n[c@@h](cccnc(n)=[nh2+])c(=o)n[c@@h](co)c(n)=o-0',\n",
       " 'cc(=o)n[c@@h](cc1ccccc1)c(=o)n[c@@h](cc(n)=o)c(n)=o-0',\n",
       " 'cc(=o)n[c@@h](cc1ccccc1)c(=o)n[c@@h](cc(n)=o)c(n)=o-1',\n",
       " 'cc(=o)n1ccc[c@h]1c(=o)n[c@@h](cc1ccccc1)c(n)=o-0',\n",
       " 'cc(=o)n1ccc[c@h]1c(=o)n[c@@h](cc1ccccc1)c(n)=o-1',\n",
       " 'cc(=o)n[c@@h](c)c(=o)n[c@h](c(n)=o)[c@@h](c)o-0',\n",
       " 'cc(=o)n[c@@h](cccc[nh3+])c(=o)n[c@@h](cc(c)c)c(n)=o-0',\n",
       " 'cc(=o)n[c@@h](cccc[nh3+])c(=o)n[c@@h](cc(c)c)c(n)=o-1',\n",
       " 'cc(=o)n[c@@h](cccnc(n)=[nh2+])c(=o)n[c@@h](cc1c[nh]c2ccccc12)c(n)=o-0',\n",
       " 'cc(=o)n[c@@h](cccnc(n)=[nh2+])c(=o)n[c@@h](cc1c[nh]c2ccccc12)c(n)=o-1',\n",
       " 'cc(=o)n[c@@h](cccnc(n)=[nh2+])c(=o)n[c@@h](cc1c[nh]c2ccccc12)c(n)=o-2',\n",
       " 'cc(=o)n[c@@h](cccnc(n)=[nh2+])c(=o)n[c@@h](cc1c[nh]c2ccccc12)c(n)=o-3',\n",
       " 'cc(=o)n[c@@h](cccnc(n)=[nh2+])c(=o)n[c@@h](cc1c[nh]c2ccccc12)c(n)=o-4',\n",
       " 'cc(=o)n[c@h](c(=o)n[c@@h](cc(n)=o)c(n)=o)[c@@h](c)o-0',\n",
       " 'cc(=o)n[c@h](c(=o)n[c@@h](cc(n)=o)c(n)=o)[c@@h](c)o-1',\n",
       " 'cc(=o)n[c@@h](cc(=o)[o-])c(=o)n[c@@h](co)c(n)=o-0',\n",
       " 'cc(=o)n[c@@h](c)c(=o)n[c@@h](co)c(n)=o-0',\n",
       " 'cc(=o)n[c@@h](cc(=o)[o-])c(=o)n[c@h](c(n)=o)[c@@h](c)o-0',\n",
       " 'cscc[c@h](nc(=o)cnc(c)=o)c(n)=o-0',\n",
       " 'cc(=o)n[c@@h](cccc[nh3+])c(=o)n[c@@h](cc1ccccc1)c(n)=o-0',\n",
       " 'cc(=o)n[c@@h](cccc[nh3+])c(=o)n[c@@h](cc1ccccc1)c(n)=o-1',\n",
       " 'cc(=o)n[c@@h](ccc(=o)[o-])c(=o)n[c@h](c(n)=o)[c@@h](c)o-0',\n",
       " 'cc[c@h](c)[c@h](nc(c)=o)c(=o)n[c@h](c(n)=o)[c@@h](c)o-0',\n",
       " 'cc[c@h](c)[c@h](nc(c)=o)c(=o)n[c@h](c(n)=o)[c@@h](c)o-1',\n",
       " 'cc(=o)n[c@@h](ccc(=o)[o-])c(=o)n[c@@h](co)c(n)=o-0',\n",
       " 'cscc[c@h](nc(=o)[c@h](cc(c)c)nc(c)=o)c(n)=o-0',\n",
       " 'cscc[c@h](nc(=o)[c@h](cc(c)c)nc(c)=o)c(n)=o-1',\n",
       " 'cc[c@h](c)[c@h](nc(c)=o)c(=o)n[c@@h](co)c(n)=o-0',\n",
       " 'cc(=o)n[c@@h](cc1ccccc1)c(=o)n[c@@h](cc1c[nh]cn1)c(n)=o-0',\n",
       " 'cc(=o)n[c@@h](cc1ccccc1)c(=o)n[c@@h](cc1c[nh]cn1)c(n)=o-1',\n",
       " 'cc(=o)n[c@@h](cc1c[nh]c2ccccc12)c(=o)n[c@@h](cs)c(n)=o-0',\n",
       " 'cc(=o)n[c@@h](cc1c[nh]c2ccccc12)c(=o)n[c@@h](cs)c(n)=o-1',\n",
       " 'cc(=o)n[c@@h](cc(c)c)c(=o)n[c@@h](cc1c[nh]c2ccccc12)c(n)=o-0',\n",
       " 'cc(=o)n[c@@h](cc(c)c)c(=o)n[c@@h](cc1c[nh]c2ccccc12)c(n)=o-1',\n",
       " 'cc(=o)n[c@@h](cc(c)c)c(=o)n[c@@h](cc1c[nh]c2ccccc12)c(n)=o-2',\n",
       " 'cc(=o)n[c@h](c(=o)n[c@@h](cc(n)=o)c(n)=o)c(c)c-0',\n",
       " 'cc(=o)n[c@h](c(=o)n[c@@h](cc(n)=o)c(n)=o)c(c)c-1',\n",
       " 'cc(=o)n[c@@h](cc(=o)[o-])c(=o)n[c@@h](cccc[nh3+])c(n)=o-0',\n",
       " 'cc(=o)n[c@@h](cc(=o)[o-])c(=o)n[c@@h](cccc[nh3+])c(n)=o-1',\n",
       " 'cc(=o)ncc(=o)n[c@@h](co)c(n)=o-0',\n",
       " 'cc(=o)ncc(=o)n[c@h](c(n)=o)[c@@h](c)o-0',\n",
       " 'cc(=o)n[c@@h](cc(c)c)c(=o)n[c@@h](cc(c)c)c(n)=o-0',\n",
       " 'cc(=o)n[c@@h](cc1ccc(o)cc1)c(=o)n[c@@h](cc(n)=o)c(n)=o-0',\n",
       " 'cc(=o)n[c@@h](cc1ccc(o)cc1)c(=o)n[c@@h](cc(n)=o)c(n)=o-1',\n",
       " 'cc(=o)n[c@@h](cccc[nh3+])c(=o)ncc(n)=o-0',\n",
       " 'cscc[c@h](nc(=o)[c@h](co)nc(c)=o)c(n)=o-0',\n",
       " 'cscc[c@h](nc(=o)[c@h](co)nc(c)=o)c(n)=o-1',\n",
       " 'cscc[c@h](nc(=o)[c@h](cc(=o)[o-])nc(c)=o)c(n)=o-0',\n",
       " 'cc(=o)n[c@@h](cc(c)c)c(=o)n[c@@h](cc1ccccc1)c(n)=o-0',\n",
       " 'cc(=o)n[c@@h](cc(c)c)c(=o)n[c@@h](cc1ccccc1)c(n)=o-1',\n",
       " 'cc(=o)n[c@h](c(=o)n[c@h](c(n)=o)c(c)c)c(c)c-0',\n",
       " 'cc(=o)n[c@h](c(=o)n[c@@h](cs)c(n)=o)c(c)c-0',\n",
       " 'cscc[c@h](nc(=o)[c@h](c)nc(c)=o)c(n)=o-0',\n",
       " 'cscc[c@h](nc(=o)[c@h](cc(n)=o)nc(c)=o)c(n)=o-0',\n",
       " 'cscc[c@h](nc(=o)[c@h](cc(n)=o)nc(c)=o)c(n)=o-1',\n",
       " 'cc(=o)n[c@h](c(=o)n[c@@h](ccc(n)=o)c(n)=o)[c@@h](c)o-0',\n",
       " 'cc(=o)n[c@h](c(=o)n[c@@h](ccc(n)=o)c(n)=o)[c@@h](c)o-1',\n",
       " 'cc(=o)n[c@@h](cc1ccccc1)c(=o)n[c@@h](ccc(n)=o)c(n)=o-0',\n",
       " 'cc(=o)n[c@@h](cc1ccccc1)c(=o)n[c@@h](ccc(n)=o)c(n)=o-1',\n",
       " 'cc(=o)n[c@@h](cccnc(n)=[nh2+])c(=o)ncc(n)=o-0',\n",
       " 'cscc[c@h](nc(=o)[c@h](cccc[nh3+])nc(c)=o)c(n)=o-0',\n",
       " 'cscc[c@h](nc(=o)[c@h](cccc[nh3+])nc(c)=o)c(n)=o-1',\n",
       " 'cc(=o)n[c@h](c(=o)n[c@@h](cc1ccc(o)cc1)c(n)=o)c(c)c-0',\n",
       " 'cc(=o)n[c@h](c(=o)n[c@@h](cc1ccc(o)cc1)c(n)=o)c(c)c-1',\n",
       " 'cc(=o)n[c@h](c(=o)n[c@@h](cc1ccc(o)cc1)c(n)=o)c(c)c-2',\n",
       " 'cc(=o)ncc(=o)n[c@@h](cc1ccccc1)c(n)=o-0',\n",
       " 'cc(=o)ncc(=o)n[c@@h](cc1ccccc1)c(n)=o-1',\n",
       " 'cscc[c@h](nc(=o)[c@h](cccnc(n)=[nh2+])nc(c)=o)c(n)=o-0',\n",
       " 'cscc[c@h](nc(=o)[c@h](cccnc(n)=[nh2+])nc(c)=o)c(n)=o-1',\n",
       " 'cscc[c@h](nc(=o)[c@h](cccnc(n)=[nh2+])nc(c)=o)c(n)=o-2',\n",
       " 'cscc[c@h](nc(=o)[c@h](cccnc(n)=[nh2+])nc(c)=o)c(n)=o-3',\n",
       " 'cc(=o)n[c@@h](ccc(=o)[o-])c(=o)n[c@@h](cccc[nh3+])c(n)=o-0',\n",
       " 'cc(=o)n[c@@h](ccc(=o)[o-])c(=o)n[c@@h](cccc[nh3+])c(n)=o-1',\n",
       " 'cc(=o)n[c@h](c(=o)n[c@@h](cc1c[nh]cn1)c(n)=o)c(c)c-0',\n",
       " 'cc(=o)n[c@h](c(=o)n[c@@h](cc1c[nh]cn1)c(n)=o)c(c)c-1',\n",
       " 'cc(=o)n[c@@h](cc(c)c)c(=o)n[c@h](c(n)=o)[c@@h](c)o-0',\n",
       " 'cc(=o)ncc(=o)n[c@@h](cc(c)c)c(n)=o-0',\n",
       " 'cc(=o)n[c@@h](cc1ccc(o)cc1)c(=o)n[c@@h](cc1ccc(o)cc1)c(n)=o-0',\n",
       " 'cc(=o)n[c@@h](cc1ccc(o)cc1)c(=o)n[c@@h](cc1ccc(o)cc1)c(n)=o-1',\n",
       " 'cc(=o)n[c@@h](cc1ccc(o)cc1)c(=o)n[c@@h](cc1ccc(o)cc1)c(n)=o-2',\n",
       " 'cc(=o)n[c@@h](cc1ccc(o)cc1)c(=o)n[c@@h](cc1ccc(o)cc1)c(n)=o-3',\n",
       " 'cc(=o)ncc(=o)n[c@@h](cc1c[nh]c2ccccc12)c(n)=o-0',\n",
       " 'cc(=o)ncc(=o)n[c@@h](cc1c[nh]c2ccccc12)c(n)=o-1',\n",
       " 'cc(=o)n[c@@h](cc(c)c)c(=o)n[c@@h](co)c(n)=o-0',\n",
       " 'cc[c@h](c)[c@h](nc(c)=o)c(=o)n[c@@h](ccsc)c(n)=o-0',\n",
       " 'cc[c@h](c)[c@h](nc(c)=o)c(=o)n[c@@h](ccsc)c(n)=o-1',\n",
       " 'cc(=o)n[c@@h](cccnc(n)=[nh2+])c(=o)n[c@@h](cccc[nh3+])c(n)=o-0',\n",
       " 'cc(=o)n[c@@h](cccnc(n)=[nh2+])c(=o)n[c@@h](cccc[nh3+])c(n)=o-1',\n",
       " 'cc(=o)n[c@@h](cccnc(n)=[nh2+])c(=o)n[c@@h](cccc[nh3+])c(n)=o-2',\n",
       " 'cscc[c@h](nc(=o)[c@@h]1cccn1c(c)=o)c(n)=o-0',\n",
       " 'cscc[c@h](nc(=o)[c@@h]1cccn1c(c)=o)c(n)=o-1',\n",
       " 'cscc[c@h](nc(=o)[c@h](ccc(=o)[o-])nc(c)=o)c(n)=o-0',\n",
       " 'cscc[c@h](nc(=o)[c@h](ccc(=o)[o-])nc(c)=o)c(n)=o-1',\n",
       " 'cc(=o)n[c@@h](cc1ccc(o)cc1)c(=o)n[c@@h](cc1c[nh]cn1)c(n)=o-0',\n",
       " 'cc(=o)n[c@@h](cc1ccc(o)cc1)c(=o)n[c@@h](cc1c[nh]cn1)c(n)=o-1',\n",
       " 'cc(=o)n[c@@h](cc1ccc(o)cc1)c(=o)n[c@@h](cc1c[nh]cn1)c(n)=o-2',\n",
       " 'cc(=o)n[c@@h](cc1ccc(o)cc1)c(=o)n[c@@h](cc1c[nh]cn1)c(n)=o-3',\n",
       " 'cc(=o)n[c@@h](ccc(n)=o)c(=o)n[c@@h](ccc(n)=o)c(n)=o-0',\n",
       " 'cc(=o)n[c@@h](ccc(n)=o)c(=o)n[c@@h](ccc(n)=o)c(n)=o-1',\n",
       " 'cc(=o)n[c@@h](cc1c[nh]c2ccccc12)c(=o)n[c@@h](ccc(n)=o)c(n)=o-0',\n",
       " 'cc(=o)n[c@@h](cc1c[nh]c2ccccc12)c(=o)n[c@@h](ccc(n)=o)c(n)=o-1',\n",
       " 'cc(=o)n[c@@h](cc1c[nh]c2ccccc12)c(=o)n[c@@h](ccc(n)=o)c(n)=o-2',\n",
       " 'cc(=o)n[c@@h](cc1ccc(o)cc1)c(=o)n[c@@h](cs)c(n)=o-0',\n",
       " 'cc(=o)n[c@@h](ccc(=o)[o-])c(=o)ncc(n)=o-0',\n",
       " 'cc(=o)n[c@@h](cc1c[nh]cn1)c(=o)n[c@h](c(n)=o)[c@@h](c)o-0',\n",
       " 'cc(=o)n[c@@h](cc1c[nh]cn1)c(=o)n[c@@h](co)c(n)=o-0',\n",
       " 'cc(=o)n[c@@h](cc(=o)[o-])c(=o)ncc(n)=o-0',\n",
       " 'cc(=o)n[c@@h](c)c(=o)ncc(n)=o-0',\n",
       " 'cc(=o)n[c@@h](cccc[nh3+])c(=o)n[c@@h](cccc[nh3+])c(n)=o-0',\n",
       " 'cc(=o)n[c@@h](cccc[nh3+])c(=o)n[c@@h](cccc[nh3+])c(n)=o-1',\n",
       " 'cc[c@h](c)[c@h](nc(=o)[c@h](cc(=o)[o-])nc(c)=o)c(n)=o-0',\n",
       " 'cc[c@h](c)[c@h](nc(=o)[c@h](cc(=o)[o-])nc(c)=o)c(n)=o-1',\n",
       " 'cc(=o)n[c@@h](ccc(=o)[o-])c(=o)n[c@@h](ccc(n)=o)c(n)=o-0',\n",
       " 'cc(=o)n[c@@h](ccc(=o)[o-])c(=o)n[c@@h](ccc(n)=o)c(n)=o-1',\n",
       " 'cscc[c@h](nc(=o)[c@h](cc1c[nh]c2ccccc12)nc(c)=o)c(n)=o-0',\n",
       " 'cscc[c@h](nc(=o)[c@h](cc1c[nh]c2ccccc12)nc(c)=o)c(n)=o-1',\n",
       " 'cscc[c@h](nc(=o)[c@h](cc1c[nh]c2ccccc12)nc(c)=o)c(n)=o-2',\n",
       " 'cc(=o)n[c@@h](cc1c[nh]cn1)c(=o)n[c@@h](cc1c[nh]cn1)c(n)=o-0',\n",
       " 'cc(=o)n[c@@h](cc1c[nh]cn1)c(=o)n[c@@h](cc1c[nh]cn1)c(n)=o-1',\n",
       " 'cc[c@h](c)[c@h](nc(=o)[c@h](c)nc(c)=o)c(n)=o-0',\n",
       " 'cc[c@h](c)[c@h](nc(c)=o)c(=o)n[c@@h](ccc(n)=o)c(n)=o-0',\n",
       " 'cc[c@h](c)[c@h](nc(c)=o)c(=o)n[c@@h](ccc(n)=o)c(n)=o-1',\n",
       " 'cc(=o)n[c@@h](cc(=o)[o-])c(=o)n[c@@h](c)c(n)=o-0',\n",
       " 'cc(=o)n[c@h](c(=o)n[c@@h](cc1ccccc1)c(n)=o)c(c)c-0',\n",
       " 'cc(=o)n[c@h](c(=o)n[c@@h](cc1ccccc1)c(n)=o)c(c)c-1',\n",
       " 'cc(=o)n[c@h](c(=o)n[c@@h](cc1ccccc1)c(n)=o)c(c)c-2',\n",
       " 'cc(=o)n[c@@h](cc(c)c)c(=o)n[c@h](c(n)=o)c(c)c-0',\n",
       " 'cc(=o)n[c@@h](cc(c)c)c(=o)n[c@@h](cs)c(n)=o-0',\n",
       " 'cc(=o)n[c@@h](ccc(=o)[o-])c(=o)n[c@@h](ccc(=o)[o-])c(n)=o-0',\n",
       " 'cc(=o)n[c@@h](ccc(=o)[o-])c(=o)n[c@@h](ccc(=o)[o-])c(n)=o-1',\n",
       " 'cc(=o)ncc(=o)n[c@@h](cc1ccc(o)cc1)c(n)=o-0',\n",
       " 'cc(=o)ncc(=o)n[c@@h](cc1ccc(o)cc1)c(n)=o-1',\n",
       " 'cc(=o)n[c@@h](c)c(=o)n[c@@h](c)c(n)=o-0',\n",
       " 'cc(=o)n[c@@h](cccnc(n)=[nh2+])c(=o)n[c@@h](ccc(n)=o)c(n)=o-0',\n",
       " 'cc(=o)n[c@@h](cccnc(n)=[nh2+])c(=o)n[c@@h](ccc(n)=o)c(n)=o-1',\n",
       " 'cc(=o)n[c@@h](cc(c)c)c(=o)n[c@@h](cc1ccc(o)cc1)c(n)=o-0',\n",
       " 'cc(=o)n[c@@h](cc(c)c)c(=o)n[c@@h](cc1ccc(o)cc1)c(n)=o-1',\n",
       " 'cc(=o)n[c@@h](cc(c)c)c(=o)n[c@@h](cc1ccc(o)cc1)c(n)=o-2',\n",
       " 'cc(=o)n[c@@h](cc1c[nh]cn1)c(=o)n[c@@h](cc(n)=o)c(n)=o-0',\n",
       " 'cc(=o)n[c@@h](cccc[nh3+])c(=o)n[c@@h](c)c(n)=o-0',\n",
       " 'cc(=o)n[c@@h](cc(=o)[o-])c(=o)n[c@@h](ccc(n)=o)c(n)=o-0',\n",
       " 'cc(=o)n[c@@h](cc(=o)[o-])c(=o)n[c@@h](ccc(n)=o)c(n)=o-1',\n",
       " 'cc[c@h](c)[c@h](nc(=o)[c@@h](nc(c)=o)[c@@h](c)cc)c(n)=o-0',\n",
       " 'cc(=o)n[c@@h](cs)c(=o)n[c@@h](cs)c(n)=o-0',\n",
       " 'cc(=o)ncc(=o)n[c@@h](cs)c(n)=o-0',\n",
       " 'cc(=o)ncc(=o)n[c@h](c(n)=o)c(c)c-0',\n",
       " 'cc[c@h](c)[c@h](nc(=o)[c@h](ccc(=o)[o-])nc(c)=o)c(n)=o-0',\n",
       " 'cc[c@h](c)[c@h](nc(=o)[c@h](ccc(=o)[o-])nc(c)=o)c(n)=o-1',\n",
       " 'cc(=o)n[c@@h](c)c(=o)n[c@@h](ccc(n)=o)c(n)=o-0',\n",
       " 'cc(=o)n[c@h](c(=o)n[c@h](c(n)=o)[c@@h](c)o)c(c)c-0',\n",
       " 'cc(=o)n[c@@h](cc(=o)[o-])c(=o)n[c@@h](cc(=o)[o-])c(n)=o-0',\n",
       " 'cc[c@h](c)[c@h](nc(=o)[c@h](cccnc(n)=[nh2+])nc(c)=o)c(n)=o-0',\n",
       " 'cc[c@h](c)[c@h](nc(=o)[c@h](cccnc(n)=[nh2+])nc(c)=o)c(n)=o-1',\n",
       " 'cc(=o)n[c@@h](cc(=o)[o-])c(=o)n[c@@h](ccc(=o)[o-])c(n)=o-0',\n",
       " 'cc(=o)n[c@h](c(=o)n[c@@h](co)c(n)=o)c(c)c-0',\n",
       " 'cc(=o)n[c@@h](ccc(=o)[o-])c(=o)n[c@@h](c)c(n)=o-0',\n",
       " 'cc(=o)n[c@@h](cc(c)c)c(=o)n[c@@h](cc(n)=o)c(n)=o-0',\n",
       " 'cc(=o)n[c@@h](cc(c)c)c(=o)n[c@@h](cc(n)=o)c(n)=o-1',\n",
       " 'cc(=o)n[c@h](c(=o)n[c@@h](cc1c[nh]c2ccccc12)c(n)=o)c(c)c-0',\n",
       " 'cc(=o)n[c@h](c(=o)n[c@@h](cc1c[nh]c2ccccc12)c(n)=o)c(c)c-1',\n",
       " 'cc(=o)n[c@h](c(=o)n[c@@h](cc1c[nh]c2ccccc12)c(n)=o)c(c)c-2',\n",
       " 'cc(=o)n1ccc[c@h]1c(=o)n[c@@h](ccc(n)=o)c(n)=o-0',\n",
       " 'cc(=o)n1ccc[c@h]1c(=o)n[c@@h](ccc(n)=o)c(n)=o-1',\n",
       " 'cscc[c@h](nc(=o)[c@h](ccc(n)=o)nc(c)=o)c(n)=o-0',\n",
       " 'cscc[c@h](nc(=o)[c@h](ccc(n)=o)nc(c)=o)c(n)=o-1',\n",
       " 'cc(=o)n[c@@h](cccc[nh3+])c(=o)n[c@@h](ccc(n)=o)c(n)=o-0',\n",
       " 'cc(=o)n[c@@h](cccc[nh3+])c(=o)n[c@@h](ccc(n)=o)c(n)=o-1',\n",
       " 'cc(=o)ncc(=o)n[c@@h](cc1c[nh]cn1)c(n)=o-0',\n",
       " 'cc(=o)n[c@@h](cc(c)c)c(=o)n1ccc[c@h]1c(n)=o-0',\n",
       " 'cc(=o)n[c@@h](co)c(=o)n[c@@h](ccc(n)=o)c(n)=o-0',\n",
       " 'cc(=o)ncc(=o)n1ccc[c@h]1c(n)=o-0',\n",
       " 'cc(=o)n[c@@h](cc1ccc(o)cc1)c(=o)n[c@h](c(n)=o)[c@@h](c)o-0',\n",
       " 'cscc[c@h](nc(=o)[c@h](cc1ccccc1)nc(c)=o)c(n)=o-0',\n",
       " 'cscc[c@h](nc(=o)[c@h](cc1ccccc1)nc(c)=o)c(n)=o-1',\n",
       " 'cc(=o)n[c@@h](cc(c)c)c(=o)n[c@@h](cc1c[nh]cn1)c(n)=o-0',\n",
       " 'cc(=o)n[c@@h](cc(c)c)c(=o)n[c@@h](cc1c[nh]cn1)c(n)=o-1',\n",
       " 'cc(=o)n[c@@h](cc(c)c)c(=o)n[c@@h](cc1c[nh]cn1)c(n)=o-2',\n",
       " 'cc(=o)n[c@@h](cccnc(n)=[nh2+])c(=o)n[c@@h](c)c(n)=o-0',\n",
       " 'cc(=o)n[c@@h](cc(n)=o)c(=o)n[c@@h](ccc(n)=o)c(n)=o-0',\n",
       " 'cc(=o)n[c@@h](cc(n)=o)c(=o)n[c@@h](ccc(n)=o)c(n)=o-1',\n",
       " 'cscc[c@h](nc(=o)[c@@h](nc(c)=o)[c@@h](c)o)c(n)=o-0',\n",
       " 'cscc[c@h](nc(=o)[c@@h](nc(c)=o)[c@@h](c)o)c(n)=o-1',\n",
       " 'cc(=o)n[c@@h](cc1ccc(o)cc1)c(=o)n[c@@h](co)c(n)=o-0',\n",
       " 'cc(=o)n[c@@h](cc1c[nh]cn1)c(=o)n[c@@h](cs)c(n)=o-0',\n",
       " 'cc[c@h](c)[c@h](nc(=o)[c@h](cccc[nh3+])nc(c)=o)c(n)=o-0',\n",
       " 'cc[c@h](c)[c@h](nc(=o)[c@h](cccc[nh3+])nc(c)=o)c(n)=o-1',\n",
       " 'cc(=o)ncc(=o)n[c@@h](cc(n)=o)c(n)=o-0',\n",
       " 'cc[c@h](c)[c@h](nc(c)=o)c(=o)n[c@h](c(n)=o)c(c)c-0',\n",
       " 'cc[c@h](c)[c@h](nc(c)=o)c(=o)n[c@h](c(n)=o)c(c)c-1',\n",
       " 'cc(=o)n[c@@h](cccnc(n)=[nh2+])c(=o)n[c@@h](cc(n)=o)c(n)=o-0',\n",
       " 'cc(=o)n[c@@h](cccnc(n)=[nh2+])c(=o)n[c@@h](cc(n)=o)c(n)=o-1',\n",
       " 'cc(=o)n[c@@h](cc1ccccc1)c(=o)n[c@@h](cc1c[nh]c2ccccc12)c(n)=o-0',\n",
       " 'cc(=o)n[c@@h](cc1ccccc1)c(=o)n[c@@h](cc1c[nh]c2ccccc12)c(n)=o-1',\n",
       " 'cc(=o)n[c@@h](cc1ccccc1)c(=o)n[c@@h](cc1c[nh]c2ccccc12)c(n)=o-2',\n",
       " 'cc(=o)n[c@@h](cc1ccccc1)c(=o)n[c@@h](cc1c[nh]c2ccccc12)c(n)=o-3',\n",
       " 'cc[c@h](c)[c@h](nc(=o)cnc(c)=o)c(n)=o-0',\n",
       " 'cc(=o)n[c@@h](ccc(=o)[o-])c(=o)n[c@h](c(n)=o)c(c)c-0',\n",
       " 'cc(=o)n1ccc[c@h]1c(=o)n[c@@h](cs)c(n)=o-0',\n",
       " 'cc[c@h](c)[c@h](nc(c)=o)c(=o)n1ccc[c@h]1c(n)=o-0',\n",
       " 'cc[c@h](c)[c@h](nc(c)=o)c(=o)n1ccc[c@h]1c(n)=o-1',\n",
       " 'cc(=o)n[c@@h](cccc[nh3+])c(=o)n[c@@h](cc(n)=o)c(n)=o-0',\n",
       " 'cc(=o)n1ccc[c@h]1c(=o)n1ccc[c@h]1c(n)=o-0',\n",
       " 'cc(=o)n[c@@h](ccc(=o)[o-])c(=o)n1ccc[c@h]1c(n)=o-0',\n",
       " 'cc(=o)n[c@@h](cccnc(n)=[nh2+])c(=o)n[c@h](c(n)=o)c(c)c-0',\n",
       " 'cc(=o)n[c@@h](cccnc(n)=[nh2+])c(=o)n[c@h](c(n)=o)c(c)c-1',\n",
       " 'cc(=o)n[c@@h](cccnc(n)=[nh2+])c(=o)n[c@@h](cs)c(n)=o-0',\n",
       " 'cc[c@h](c)[c@h](nc(c)=o)c(=o)n[c@@h](cc(n)=o)c(n)=o-0',\n",
       " 'cc[c@h](c)[c@h](nc(c)=o)c(=o)n[c@@h](cc(n)=o)c(n)=o-1',\n",
       " 'cc(=o)n[c@@h](cc(=o)[o-])c(=o)n[c@@h](cccnc(n)=[nh2+])c(n)=o-0',\n",
       " 'cc(=o)n[c@@h](cc(=o)[o-])c(=o)n[c@@h](cccnc(n)=[nh2+])c(n)=o-1',\n",
       " 'cc(=o)n[c@@h](cccc[nh3+])c(=o)n1ccc[c@h]1c(n)=o-0',\n",
       " 'cc(=o)n1ccc[c@h]1c(=o)n[c@@h](cc(n)=o)c(n)=o-0',\n",
       " 'cc(=o)n1ccc[c@h]1c(=o)n[c@@h](cc(n)=o)c(n)=o-1',\n",
       " 'cc(=o)n[c@@h](c)c(=o)n[c@@h](cc1ccc(o)cc1)c(n)=o-0',\n",
       " 'cc(=o)n[c@@h](c)c(=o)n[c@@h](cc1ccc(o)cc1)c(n)=o-1',\n",
       " 'cc(=o)n[c@@h](cc(=o)[o-])c(=o)n[c@@h](cc1c[nh]cn1)c(n)=o-0',\n",
       " 'cc(=o)n[c@@h](cc(=o)[o-])c(=o)n[c@@h](cc1c[nh]cn1)c(n)=o-1',\n",
       " 'cc(=o)n[c@@h](cc1ccccc1)c(=o)n[c@@h](cc1ccccc1)c(n)=o-0',\n",
       " 'cc(=o)n[c@@h](cc1ccccc1)c(=o)n[c@@h](cc1ccccc1)c(n)=o-1',\n",
       " 'cc(=o)n[c@@h](cc1ccccc1)c(=o)n[c@@h](cc1ccccc1)c(n)=o-2',\n",
       " 'cc(=o)n[c@@h](ccc(=o)[o-])c(=o)n[c@@h](cc(n)=o)c(n)=o-0',\n",
       " 'cc(=o)n[c@@h](cc(c)c)c(=o)n[c@@h](ccc(n)=o)c(n)=o-0',\n",
       " 'cc(=o)n[c@@h](cc(c)c)c(=o)n[c@@h](ccc(n)=o)c(n)=o-1',\n",
       " 'cc(=o)n[c@@h](cccnc(n)=[nh2+])c(=o)n1ccc[c@h]1c(n)=o-0',\n",
       " 'cc(=o)n[c@@h](cccnc(n)=[nh2+])c(=o)n1ccc[c@h]1c(n)=o-1',\n",
       " 'cc(=o)n[c@@h](c)c(=o)n[c@@h](cc1c[nh]cn1)c(n)=o-0',\n",
       " 'cc(=o)n[c@@h](cccc[nh3+])c(=o)n[c@@h](cs)c(n)=o-0',\n",
       " 'cc(=o)n[c@@h](cc(=o)[o-])c(=o)n[c@@h](cc1ccc(o)cc1)c(n)=o-0',\n",
       " 'cc(=o)n[c@@h](cc(=o)[o-])c(=o)n[c@@h](cc1ccc(o)cc1)c(n)=o-1',\n",
       " 'cc(=o)n[c@@h](cc(=o)[o-])c(=o)n[c@@h](cc1ccc(o)cc1)c(n)=o-2',\n",
       " 'cc(=o)n[c@@h](cc(=o)[o-])c(=o)n1ccc[c@h]1c(n)=o-0',\n",
       " 'cc(=o)ncc(=o)n[c@@h](ccc(n)=o)c(n)=o-0',\n",
       " 'cc(=o)n[c@@h](cccc[nh3+])c(=o)n[c@@h](cc1c[nh]cn1)c(n)=o-0',\n",
       " 'cc(=o)n[c@@h](cccc[nh3+])c(=o)n[c@@h](cc1c[nh]cn1)c(n)=o-1',\n",
       " 'cc(=o)n[c@@h](cccc[nh3+])c(=o)n[c@@h](cc1c[nh]cn1)c(n)=o-2',\n",
       " 'cc(=o)n[c@@h](cc(n)=o)c(=o)n[c@@h](cs)c(n)=o-0',\n",
       " 'cc(=o)n[c@@h](c)c(=o)n[c@h](c(n)=o)c(c)c-0',\n",
       " 'cc(=o)n[c@@h](cccnc(n)=[nh2+])c(=o)n[c@@h](cc1ccc(o)cc1)c(n)=o-0',\n",
       " 'cc(=o)n[c@@h](cccnc(n)=[nh2+])c(=o)n[c@@h](cc1ccc(o)cc1)c(n)=o-1',\n",
       " 'cc(=o)n[c@@h](cccnc(n)=[nh2+])c(=o)n[c@@h](cc1ccc(o)cc1)c(n)=o-2',\n",
       " 'cc(=o)n[c@@h](cc1c[nh]c2ccccc12)c(=o)n[c@@h](cc1c[nh]c2ccccc12)c(n)=o-0',\n",
       " 'cc(=o)n[c@@h](cc1c[nh]c2ccccc12)c(=o)n[c@@h](cc1c[nh]c2ccccc12)c(n)=o-1',\n",
       " 'cc(=o)n[c@@h](cc1c[nh]c2ccccc12)c(=o)n[c@@h](cc1c[nh]c2ccccc12)c(n)=o-2',\n",
       " 'cc(=o)n[c@@h](cc1c[nh]c2ccccc12)c(=o)n[c@@h](cc1c[nh]c2ccccc12)c(n)=o-3',\n",
       " 'cc(=o)n[c@@h](cccnc(n)=[nh2+])c(=o)n[c@@h](cccnc(n)=[nh2+])c(n)=o-0',\n",
       " 'cc(=o)n[c@@h](cccnc(n)=[nh2+])c(=o)n[c@@h](cccnc(n)=[nh2+])c(n)=o-1',\n",
       " 'cc(=o)n[c@@h](cccnc(n)=[nh2+])c(=o)n[c@@h](cccnc(n)=[nh2+])c(n)=o-2',\n",
       " 'cscc[c@h](nc(=o)[c@@h](nc(c)=o)c(c)c)c(n)=o-0',\n",
       " 'cscc[c@h](nc(=o)[c@@h](nc(c)=o)c(c)c)c(n)=o-1',\n",
       " 'cc(=o)n[c@@h](c)c(=o)n1ccc[c@h]1c(n)=o-0',\n",
       " 'cc(=o)n[c@@h](cc(=o)[o-])c(=o)n[c@h](c(n)=o)c(c)c-0',\n",
       " 'cc(=o)n[c@@h](co)c(=o)n[c@@h](cs)c(n)=o-0',\n",
       " 'cc(=o)n[c@@h](cccnc(n)=[nh2+])c(=o)n[c@@h](cc1c[nh]cn1)c(n)=o-0',\n",
       " 'cc(=o)n[c@@h](cccnc(n)=[nh2+])c(=o)n[c@@h](cc1c[nh]cn1)c(n)=o-1',\n",
       " 'cc(=o)n[c@@h](cccnc(n)=[nh2+])c(=o)n[c@@h](cc1c[nh]cn1)c(n)=o-2',\n",
       " 'cscc[c@h](nc(=o)[c@h](ccsc)nc(c)=o)c(n)=o-0',\n",
       " 'cc(=o)n[c@@h](ccc(=o)[o-])c(=o)n[c@@h](cc1ccc(o)cc1)c(n)=o-0',\n",
       " 'cc(=o)n[c@@h](ccc(=o)[o-])c(=o)n[c@@h](cc1ccc(o)cc1)c(n)=o-1',\n",
       " 'cc(=o)n[c@h](c(=o)n[c@h](c(n)=o)[c@@h](c)o)[c@@h](c)o-0',\n",
       " 'cc(=o)n[c@@h](cc(n)=o)c(=o)n[c@@h](cc(n)=o)c(n)=o-0',\n",
       " 'cc(=o)n[c@@h](cc(n)=o)c(=o)n[c@@h](cc(n)=o)c(n)=o-1',\n",
       " 'cc(=o)n[c@@h](c)c(=o)n[c@@h](cc(n)=o)c(n)=o-0',\n",
       " 'cc[c@h](c)[c@h](nc(c)=o)c(=o)n[c@@h](cc1ccc(o)cc1)c(n)=o-0',\n",
       " 'cc[c@h](c)[c@h](nc(c)=o)c(=o)n[c@@h](cc1ccc(o)cc1)c(n)=o-1',\n",
       " 'cc(=o)n[c@@h](cc1ccccc1)c(=o)n[c@h](c(n)=o)[c@@h](c)o-0',\n",
       " 'cc(=o)n[c@@h](cc(=o)[o-])c(=o)n[c@@h](cc(n)=o)c(n)=o-0',\n",
       " 'cc(=o)n[c@@h](co)c(=o)n[c@@h](cc(n)=o)c(n)=o-0',\n",
       " 'cc(=o)n[c@@h](ccc(=o)[o-])c(=o)n[c@@h](cc1c[nh]cn1)c(n)=o-0',\n",
       " 'cc(=o)n[c@@h](ccc(=o)[o-])c(=o)n[c@@h](cc1c[nh]cn1)c(n)=o-1',\n",
       " 'cscc[c@h](nc(=o)[c@h](cc1ccc(o)cc1)nc(c)=o)c(n)=o-0',\n",
       " 'cscc[c@h](nc(=o)[c@h](cc1ccc(o)cc1)nc(c)=o)c(n)=o-1',\n",
       " 'cscc[c@h](nc(=o)[c@h](cc1ccc(o)cc1)nc(c)=o)c(n)=o-2',\n",
       " 'cc(=o)n1ccc[c@h]1c(=o)n[c@@h](cc1c[nh]cn1)c(n)=o-0',\n",
       " 'cc(=o)n1ccc[c@h]1c(=o)n[c@@h](cc1c[nh]cn1)c(n)=o-1',\n",
       " 'cc(=o)n[c@@h](cc1c[nh]cn1)c(=o)n[c@@h](ccc(n)=o)c(n)=o-0',\n",
       " 'cc(=o)n[c@@h](cc1c[nh]cn1)c(=o)n[c@@h](ccc(n)=o)c(n)=o-1',\n",
       " 'cc[c@h](c)[c@h](nc(c)=o)c(=o)n[c@@h](cc1c[nh]cn1)c(n)=o-0',\n",
       " 'cc[c@h](c)[c@h](nc(c)=o)c(=o)n[c@@h](cc1c[nh]cn1)c(n)=o-1',\n",
       " 'cc(=o)n[c@@h](ccc(=o)[o-])c(=o)n[c@@h](cccnc(n)=[nh2+])c(n)=o-0',\n",
       " 'cc(=o)n[c@@h](ccc(=o)[o-])c(=o)n[c@@h](cccnc(n)=[nh2+])c(n)=o-1',\n",
       " 'cc(=o)n[c@@h](cc1ccccc1)c(=o)n[c@@h](co)c(n)=o-0',\n",
       " 'cc[c@h](c)[c@h](nc(c)=o)c(=o)n[c@@h](cs)c(n)=o-0',\n",
       " 'cc(=o)n1ccc[c@h]1c(=o)n[c@h](c(n)=o)c(c)c-0',\n",
       " 'cc(=o)n[c@@h](ccc(=o)[o-])c(=o)n[c@@h](cs)c(n)=o-0',\n",
       " 'cc(=o)n[c@@h](cc1c[nh]c2ccccc12)c(=o)n[c@h](c(n)=o)[c@@h](c)o-0',\n",
       " 'cc(=o)n[c@@h](cc1c[nh]c2ccccc12)c(=o)n[c@h](c(n)=o)[c@@h](c)o-1',\n",
       " 'cc(=o)n[c@@h](cccc[nh3+])c(=o)n[c@h](c(n)=o)c(c)c-0',\n",
       " 'cc(=o)n[c@@h](cc1c[nh]c2ccccc12)c(=o)n[c@@h](co)c(n)=o-0',\n",
       " 'cc(=o)n[c@@h](c)c(=o)n[c@@h](cs)c(n)=o-0',\n",
       " 'cc(=o)n[c@@h](cccc[nh3+])c(=o)n[c@@h](cc1ccc(o)cc1)c(n)=o-0',\n",
       " 'cc(=o)n[c@@h](cccc[nh3+])c(=o)n[c@@h](cc1ccc(o)cc1)c(n)=o-1',\n",
       " 'cc(=o)n[c@@h](cccc[nh3+])c(=o)n[c@@h](cc1ccc(o)cc1)c(n)=o-2',\n",
       " 'cc(=o)n[c@@h](cc(=o)[o-])c(=o)n[c@@h](cs)c(n)=o-0',\n",
       " 'cc(=o)n1ccc[c@h]1c(=o)n[c@@h](cc1ccc(o)cc1)c(n)=o-0',\n",
       " 'cc(=o)n1ccc[c@h]1c(=o)n[c@@h](cc1ccc(o)cc1)c(n)=o-1',\n",
       " 'cscc[c@h](nc(=o)[c@h](cc1c[nh]cn1)nc(c)=o)c(=o)n[c@@h](ccc(=o)o)c(n)=o-0',\n",
       " 'cscc[c@h](nc(=o)[c@h](cc1c[nh]cn1)nc(c)=o)c(=o)n[c@@h](ccc(=o)o)c(n)=o-1',\n",
       " 'cscc[c@h](nc(=o)[c@h](cc1c[nh]cn1)nc(c)=o)c(=o)n[c@@h](ccc(=o)o)c(n)=o-2',\n",
       " 'cscc[c@h](nc(=o)[c@h](cc1c[nh]cn1)nc(c)=o)c(=o)n[c@@h](ccc(=o)o)c(n)=o-3',\n",
       " 'cc(=o)n[c@@h](cc1c[nh]c2ccccc12)c(=o)n[c@@h](cc(c)c)c(=o)n[c@@h](cc1c[nh]cn1)c(n)=o-0',\n",
       " 'cc(=o)n[c@@h](cc1c[nh]c2ccccc12)c(=o)n[c@@h](cc(c)c)c(=o)n[c@@h](cc1c[nh]cn1)c(n)=o-1',\n",
       " 'cc(=o)n[c@@h](cc1c[nh]c2ccccc12)c(=o)n[c@@h](cc(c)c)c(=o)n[c@@h](cc1c[nh]cn1)c(n)=o-2',\n",
       " 'cc(=o)n[c@@h](cc1c[nh]c2ccccc12)c(=o)n[c@@h](cc(c)c)c(=o)n[c@@h](cc1c[nh]cn1)c(n)=o-3',\n",
       " 'cc(=o)n[c@@h](cc1c[nh]c2ccccc12)c(=o)n[c@@h](cc(c)c)c(=o)n[c@@h](cc1c[nh]cn1)c(n)=o-4',\n",
       " 'cc(=o)n[c@@h](cc1c[nh]c2ccccc12)c(=o)n[c@@h](cc(c)c)c(=o)n[c@@h](cc1c[nh]cn1)c(n)=o-5',\n",
       " 'cc(=o)n[c@@h](cc1c[nh]c2ccccc12)c(=o)n[c@@h](cc(c)c)c(=o)n[c@@h](cc1c[nh]cn1)c(n)=o-6',\n",
       " 'cscc[c@h](nc(=o)[c@@h]1cccn1c(c)=o)c(=o)n[c@@h](cc1c[nh]cn1)c(n)=o-0',\n",
       " 'cscc[c@h](nc(=o)[c@@h]1cccn1c(c)=o)c(=o)n[c@@h](cc1c[nh]cn1)c(n)=o-1',\n",
       " 'cscc[c@h](nc(=o)[c@@h]1cccn1c(c)=o)c(=o)n[c@@h](cc1c[nh]cn1)c(n)=o-2',\n",
       " 'cscc[c@h](nc(=o)[c@h](ccc(=o)o)nc(=o)[c@h](ccsc)nc(c)=o)c(n)=o-0',\n",
       " 'cscc[c@h](nc(=o)[c@h](ccc(=o)o)nc(=o)[c@h](ccsc)nc(c)=o)c(n)=o-1',\n",
       " 'cscc[c@h](nc(=o)[c@h](ccc(=o)o)nc(=o)[c@h](ccsc)nc(c)=o)c(n)=o-2',\n",
       " 'cscc[c@h](nc(=o)[c@h](ccc(=o)o)nc(=o)[c@h](ccsc)nc(c)=o)c(n)=o-3',\n",
       " 'cscc[c@h](nc(=o)[c@h](ccc(=o)o)nc(=o)[c@h](ccsc)nc(c)=o)c(n)=o-4',\n",
       " 'cc(=o)n[c@@h](cc(c)c)c(=o)n[c@@h](cc1ccc(o)cc1)c(=o)n[c@@h](ccc(n)=o)c(n)=o-0',\n",
       " 'cc(=o)n[c@@h](cc(c)c)c(=o)n[c@@h](cc1ccc(o)cc1)c(=o)n[c@@h](ccc(n)=o)c(n)=o-1',\n",
       " 'cc(=o)n[c@@h](cc(c)c)c(=o)n[c@@h](cc1ccc(o)cc1)c(=o)n[c@@h](ccc(n)=o)c(n)=o-2',\n",
       " 'cc(=o)n[c@@h](cc(c)c)c(=o)n[c@@h](cc1ccc(o)cc1)c(=o)n[c@@h](ccc(n)=o)c(n)=o-3',\n",
       " 'cc(=o)n[c@@h](cc(c)c)c(=o)n[c@@h](cc1ccc(o)cc1)c(=o)n[c@@h](ccc(n)=o)c(n)=o-4',\n",
       " 'cc(=o)n[c@@h](cc(c)c)c(=o)n[c@@h](cc1ccc(o)cc1)c(=o)n[c@@h](ccc(n)=o)c(n)=o-5',\n",
       " 'cscc[c@h](nc(=o)[c@h](ccsc)nc(=o)[c@h](ccc(n)=o)nc(c)=o)c(n)=o-0',\n",
       " 'cscc[c@h](nc(=o)[c@h](ccsc)nc(=o)[c@h](ccc(n)=o)nc(c)=o)c(n)=o-1',\n",
       " 'cscc[c@h](nc(=o)[c@h](ccsc)nc(=o)[c@h](ccc(n)=o)nc(c)=o)c(n)=o-2',\n",
       " 'cscc[c@h](nc(=o)[c@h](ccsc)nc(=o)[c@h](ccc(n)=o)nc(c)=o)c(n)=o-3',\n",
       " 'cc(=o)n[c@@h](cc1ccc(o)cc1)c(=o)n[c@@h](ccc(=o)o)c(=o)n[c@@h](cc1c[nh]cn1)c(n)=o-0',\n",
       " 'cc(=o)n[c@@h](cc1ccc(o)cc1)c(=o)n[c@@h](ccc(=o)o)c(=o)n[c@@h](cc1c[nh]cn1)c(n)=o-1',\n",
       " 'cc(=o)n[c@@h](cc1ccc(o)cc1)c(=o)n[c@@h](ccc(=o)o)c(=o)n[c@@h](cc1c[nh]cn1)c(n)=o-2',\n",
       " 'cc(=o)n[c@@h](cc1ccc(o)cc1)c(=o)n[c@@h](ccc(=o)o)c(=o)n[c@@h](cc1c[nh]cn1)c(n)=o-3',\n",
       " 'cc(=o)n[c@@h](cc1ccc(o)cc1)c(=o)n[c@@h](ccc(=o)o)c(=o)n[c@@h](cc1c[nh]cn1)c(n)=o-4',\n",
       " 'cc(=o)n[c@@h](cc(c)c)c(=o)n[c@@h](ccc(n)=o)c(=o)n[c@@h](cc1c[nh]cn1)c(n)=o-0',\n",
       " 'cc(=o)n[c@@h](cc(c)c)c(=o)n[c@@h](ccc(n)=o)c(=o)n[c@@h](cc1c[nh]cn1)c(n)=o-1',\n",
       " 'cc(=o)n[c@@h](cc(c)c)c(=o)n[c@@h](ccc(n)=o)c(=o)n[c@@h](cc1c[nh]cn1)c(n)=o-2',\n",
       " 'cc(=o)n[c@@h](cc1c[nh]cn1)c(=o)n[c@@h](ccc(=o)o)c(=o)n[c@@h](cc1c[nh]cn1)c(n)=o-0',\n",
       " 'cc(=o)n[c@@h](cc1c[nh]cn1)c(=o)n[c@@h](ccc(=o)o)c(=o)n[c@@h](cc1c[nh]cn1)c(n)=o-1',\n",
       " 'cc(=o)n[c@@h](cc1c[nh]cn1)c(=o)n[c@@h](ccc(=o)o)c(=o)n[c@@h](cc1c[nh]cn1)c(n)=o-2',\n",
       " 'cc(=o)n[c@@h](cc1c[nh]cn1)c(=o)n[c@@h](ccc(=o)o)c(=o)n[c@@h](cc1c[nh]cn1)c(n)=o-3',\n",
       " 'cc(=o)n[c@@h](cc1c[nh]cn1)c(=o)n[c@@h](ccc(=o)o)c(=o)n[c@@h](cc1c[nh]cn1)c(n)=o-4',\n",
       " 'cc(=o)n[c@@h](cc1c[nh]c2ccccc12)c(=o)n[c@@h](cc(c)c)c(=o)n[c@@h](cc1ccc(o)cc1)c(n)=o-0',\n",
       " 'cc(=o)n[c@@h](cc1c[nh]c2ccccc12)c(=o)n[c@@h](cc(c)c)c(=o)n[c@@h](cc1ccc(o)cc1)c(n)=o-1',\n",
       " 'cc(=o)n[c@@h](cc1c[nh]c2ccccc12)c(=o)n[c@@h](cc(c)c)c(=o)n[c@@h](cc1ccc(o)cc1)c(n)=o-2',\n",
       " 'cc(=o)n[c@@h](cc1c[nh]c2ccccc12)c(=o)n[c@@h](cc(c)c)c(=o)n[c@@h](cc1ccc(o)cc1)c(n)=o-3',\n",
       " 'cc(=o)n[c@@h](cc1c[nh]c2ccccc12)c(=o)n[c@@h](cc(c)c)c(=o)n[c@@h](cc1ccc(o)cc1)c(n)=o-4',\n",
       " 'cc(=o)n[c@@h](cc1c[nh]c2ccccc12)c(=o)n[c@@h](cc(c)c)c(=o)n[c@@h](cc1ccc(o)cc1)c(n)=o-5',\n",
       " 'cc(=o)n[c@@h](cc1c[nh]c2ccccc12)c(=o)n[c@@h](cc(c)c)c(=o)n[c@@h](cc1ccc(o)cc1)c(n)=o-6',\n",
       " 'cc(=o)n[c@@h](cc1c[nh]c2ccccc12)c(=o)n[c@@h](cc(c)c)c(=o)n[c@@h](cc1ccc(o)cc1)c(n)=o-7',\n",
       " 'cscc[c@h](nc(=o)[c@@h]1cccn1c(c)=o)c(=o)n[c@@h](cc1ccc(o)cc1)c(n)=o-0',\n",
       " 'cscc[c@h](nc(=o)[c@@h]1cccn1c(c)=o)c(=o)n[c@@h](cc1ccc(o)cc1)c(n)=o-1',\n",
       " 'cscc[c@h](nc(=o)[c@@h]1cccn1c(c)=o)c(=o)n[c@@h](cc1ccc(o)cc1)c(n)=o-2',\n",
       " 'cscc[c@h](nc(=o)[c@h](ccc(=o)o)nc(=o)[c@h](cc1c[nh]c2ccccc12)nc(c)=o)c(n)=o-0',\n",
       " 'cscc[c@h](nc(=o)[c@h](ccc(=o)o)nc(=o)[c@h](cc1c[nh]c2ccccc12)nc(c)=o)c(n)=o-1',\n",
       " 'cscc[c@h](nc(=o)[c@h](ccc(=o)o)nc(=o)[c@h](cc1c[nh]c2ccccc12)nc(c)=o)c(n)=o-2',\n",
       " 'cscc[c@h](nc(=o)[c@h](ccc(=o)o)nc(=o)[c@h](cc1c[nh]c2ccccc12)nc(c)=o)c(n)=o-3',\n",
       " 'cscc[c@h](nc(=o)[c@h](ccc(=o)o)nc(=o)[c@h](cc1c[nh]c2ccccc12)nc(c)=o)c(n)=o-4',\n",
       " 'cscc[c@h](nc(=o)[c@h](ccc(=o)o)nc(=o)[c@h](cc1c[nh]c2ccccc12)nc(c)=o)c(n)=o-5',\n",
       " 'cscc[c@h](nc(=o)[c@h](cc1ccc(o)cc1)nc(c)=o)c(=o)n[c@@h](ccc(=o)o)c(n)=o-0',\n",
       " 'cscc[c@h](nc(=o)[c@h](cc1ccc(o)cc1)nc(c)=o)c(=o)n[c@@h](ccc(=o)o)c(n)=o-1',\n",
       " 'cscc[c@h](nc(=o)[c@h](cc1ccc(o)cc1)nc(c)=o)c(=o)n[c@@h](ccc(=o)o)c(n)=o-2',\n",
       " 'cscc[c@h](nc(=o)[c@h](cc1ccc(o)cc1)nc(c)=o)c(=o)n[c@@h](ccc(=o)o)c(n)=o-3',\n",
       " 'cc(=o)n[c@@h](cc(c)c)c(=o)n[c@@h](ccc(n)=o)c(=o)n[c@@h](cc1ccc(o)cc1)c(n)=o-0',\n",
       " 'cc(=o)n[c@@h](cc(c)c)c(=o)n[c@@h](ccc(n)=o)c(=o)n[c@@h](cc1ccc(o)cc1)c(n)=o-1',\n",
       " 'cc(=o)n[c@@h](cc(c)c)c(=o)n[c@@h](ccc(n)=o)c(=o)n[c@@h](cc1ccc(o)cc1)c(n)=o-2',\n",
       " 'cc(=o)n[c@@h](cc(c)c)c(=o)n[c@@h](ccc(n)=o)c(=o)n[c@@h](cc1ccc(o)cc1)c(n)=o-3',\n",
       " 'cc(=o)n[c@@h](cc(c)c)c(=o)n[c@@h](ccc(n)=o)c(=o)n[c@@h](cc1ccc(o)cc1)c(n)=o-4',\n",
       " 'cc(=o)n[c@@h](cc(c)c)c(=o)n[c@@h](ccc(n)=o)c(=o)n[c@@h](cc1ccc(o)cc1)c(n)=o-5',\n",
       " 'cc(=o)n[c@@h](cc(c)c)c(=o)n[c@@h](ccc(n)=o)c(=o)n[c@@h](cc1ccc(o)cc1)c(n)=o-6',\n",
       " 'cc(=o)n[c@@h](cc(c)c)c(=o)n[c@@h](cc1c[nh]c2ccccc12)c(=o)n[c@@h](cc1ccc(o)cc1)c(n)=o-0',\n",
       " 'cc(=o)n[c@@h](cc(c)c)c(=o)n[c@@h](cc1c[nh]c2ccccc12)c(=o)n[c@@h](cc1ccc(o)cc1)c(n)=o-1',\n",
       " 'cc(=o)n[c@@h](cc(c)c)c(=o)n[c@@h](cc1c[nh]c2ccccc12)c(=o)n[c@@h](cc1ccc(o)cc1)c(n)=o-2',\n",
       " 'cc(=o)n[c@@h](cc(c)c)c(=o)n[c@@h](cc1c[nh]c2ccccc12)c(=o)n[c@@h](cc1ccc(o)cc1)c(n)=o-3',\n",
       " 'cc(=o)n[c@@h](cc(c)c)c(=o)n[c@@h](cc1c[nh]c2ccccc12)c(=o)n[c@@h](cc1ccc(o)cc1)c(n)=o-4',\n",
       " 'cc(=o)n[c@@h](cc(c)c)c(=o)n[c@@h](cc1c[nh]c2ccccc12)c(=o)n[c@@h](cc1ccc(o)cc1)c(n)=o-5',\n",
       " 'cc(=o)n[c@@h](cc(c)c)c(=o)n[c@@h](cc1c[nh]c2ccccc12)c(=o)n[c@@h](cc1ccc(o)cc1)c(n)=o-6',\n",
       " 'cscc[c@h](nc(c)=o)c(=o)n[c@@h](cc(c)c)c(=o)n[c@@h](cc1c[nh]cn1)c(n)=o-0',\n",
       " 'cscc[c@h](nc(c)=o)c(=o)n[c@@h](cc(c)c)c(=o)n[c@@h](cc1c[nh]cn1)c(n)=o-1',\n",
       " 'cscc[c@h](nc(c)=o)c(=o)n[c@@h](cc(c)c)c(=o)n[c@@h](cc1c[nh]cn1)c(n)=o-2',\n",
       " 'cscc[c@h](nc(c)=o)c(=o)n[c@@h](cc(c)c)c(=o)n[c@@h](cc1c[nh]cn1)c(n)=o-3',\n",
       " 'cscc[c@h](nc(c)=o)c(=o)n[c@@h](cc(c)c)c(=o)n[c@@h](cc1c[nh]cn1)c(n)=o-4',\n",
       " 'cc(=o)n[c@@h](ccc(n)=o)c(=o)n1ccc[c@h]1c(=o)n[c@@h](cc1c[nh]cn1)c(n)=o-0',\n",
       " 'cc(=o)n[c@@h](ccc(n)=o)c(=o)n1ccc[c@h]1c(=o)n[c@@h](cc1c[nh]cn1)c(n)=o-1',\n",
       " 'cc(=o)n[c@@h](ccc(n)=o)c(=o)n1ccc[c@h]1c(=o)n[c@@h](cc1c[nh]cn1)c(n)=o-2',\n",
       " 'cc(=o)n[c@@h](cc1c[nh]c2ccccc12)c(=o)n1ccc[c@h]1c(=o)n[c@@h](ccc(=o)o)c(n)=o-0',\n",
       " 'cc(=o)n[c@@h](cc1c[nh]c2ccccc12)c(=o)n1ccc[c@h]1c(=o)n[c@@h](ccc(=o)o)c(n)=o-1',\n",
       " 'cc(=o)n[c@@h](cc1c[nh]c2ccccc12)c(=o)n1ccc[c@h]1c(=o)n[c@@h](ccc(=o)o)c(n)=o-2',\n",
       " 'cc(=o)n[c@@h](cc1c[nh]c2ccccc12)c(=o)n1ccc[c@h]1c(=o)n[c@@h](ccc(=o)o)c(n)=o-3',\n",
       " 'cc(=o)n[c@@h](cc1c[nh]c2ccccc12)c(=o)n1ccc[c@h]1c(=o)n[c@@h](ccc(=o)o)c(n)=o-4',\n",
       " 'cc(=o)n[c@@h](cc1c[nh]c2ccccc12)c(=o)n1ccc[c@h]1c(=o)n[c@@h](ccc(=o)o)c(n)=o-5',\n",
       " 'cc(=o)n[c@@h](cc1c[nh]c2ccccc12)c(=o)n1ccc[c@h]1c(=o)n[c@@h](ccc(=o)o)c(n)=o-6',\n",
       " 'cc(=o)n[c@@h](ccc(n)=o)c(=o)n[c@@h](cc1c[nh]cn1)c(=o)n[c@@h](ccc(n)=o)c(n)=o-0',\n",
       " 'cc(=o)n[c@@h](ccc(n)=o)c(=o)n[c@@h](cc1c[nh]cn1)c(=o)n[c@@h](ccc(n)=o)c(n)=o-1',\n",
       " 'cc(=o)n[c@@h](ccc(n)=o)c(=o)n[c@@h](cc1c[nh]cn1)c(=o)n[c@@h](ccc(n)=o)c(n)=o-2',\n",
       " 'cc(=o)n[c@@h](ccc(n)=o)c(=o)n[c@@h](cc1c[nh]cn1)c(=o)n[c@@h](ccc(n)=o)c(n)=o-3',\n",
       " 'cscc[c@h](nc(=o)[c@h](cc1ccc(o)cc1)nc(=o)[c@h](ccc(n)=o)nc(c)=o)c(n)=o-0',\n",
       " 'cscc[c@h](nc(=o)[c@h](cc1ccc(o)cc1)nc(=o)[c@h](ccc(n)=o)nc(c)=o)c(n)=o-1',\n",
       " 'cscc[c@h](nc(=o)[c@h](cc1ccc(o)cc1)nc(=o)[c@h](ccc(n)=o)nc(c)=o)c(n)=o-2',\n",
       " 'cscc[c@h](nc(=o)[c@h](cc1ccc(o)cc1)nc(=o)[c@h](ccc(n)=o)nc(c)=o)c(n)=o-3',\n",
       " 'cc(=o)n[c@@h](cc(c)c)c(=o)n1ccc[c@h]1c(=o)n[c@@h](cc(c)c)c(n)=o-0',\n",
       " 'cc(=o)n[c@@h](cc(c)c)c(=o)n1ccc[c@h]1c(=o)n[c@@h](cc(c)c)c(n)=o-1',\n",
       " 'cc(=o)n[c@@h](cc(c)c)c(=o)n1ccc[c@h]1c(=o)n[c@@h](cc(c)c)c(n)=o-2',\n",
       " 'cc(=o)n[c@@h](cc(c)c)c(=o)n1ccc[c@h]1c(=o)n[c@@h](cc(c)c)c(n)=o-3',\n",
       " 'cc(=o)n1ccc[c@h]1c(=o)n[c@@h](cc1c[nh]c2ccccc12)c(=o)n[c@@h](ccc(n)=o)c(n)=o-0',\n",
       " 'cc(=o)n1ccc[c@h]1c(=o)n[c@@h](cc1c[nh]c2ccccc12)c(=o)n[c@@h](ccc(n)=o)c(n)=o-1',\n",
       " 'cc(=o)n1ccc[c@h]1c(=o)n[c@@h](cc1c[nh]c2ccccc12)c(=o)n[c@@h](ccc(n)=o)c(n)=o-2',\n",
       " 'cc(=o)n1ccc[c@h]1c(=o)n[c@@h](cc1c[nh]c2ccccc12)c(=o)n[c@@h](ccc(n)=o)c(n)=o-3',\n",
       " 'cc(=o)n1ccc[c@h]1c(=o)n[c@@h](cc1c[nh]c2ccccc12)c(=o)n[c@@h](ccc(n)=o)c(n)=o-4',\n",
       " 'cc(=o)n1ccc[c@h]1c(=o)n[c@@h](cc1ccc(o)cc1)c(=o)n[c@@h](cc1c[nh]cn1)c(n)=o-0',\n",
       " 'cc(=o)n1ccc[c@h]1c(=o)n[c@@h](cc1ccc(o)cc1)c(=o)n[c@@h](cc1c[nh]cn1)c(n)=o-1',\n",
       " 'cc(=o)n1ccc[c@h]1c(=o)n[c@@h](cc1ccc(o)cc1)c(=o)n[c@@h](cc1c[nh]cn1)c(n)=o-2',\n",
       " 'cc(=o)n1ccc[c@h]1c(=o)n[c@@h](cc1ccc(o)cc1)c(=o)n[c@@h](cc1c[nh]cn1)c(n)=o-3',\n",
       " 'cc(=o)n1ccc[c@h]1c(=o)n[c@@h](cc1ccc(o)cc1)c(=o)n[c@@h](cc1c[nh]cn1)c(n)=o-4',\n",
       " 'cc(=o)n[c@@h](cc1c[nh]cn1)c(=o)n[c@@h](cc1ccc(o)cc1)c(=o)n[c@@h](ccc(=o)o)c(n)=o-0',\n",
       " 'cc(=o)n[c@@h](cc1c[nh]cn1)c(=o)n[c@@h](cc1ccc(o)cc1)c(=o)n[c@@h](ccc(=o)o)c(n)=o-1',\n",
       " 'cc(=o)n[c@@h](cc1c[nh]cn1)c(=o)n[c@@h](cc1ccc(o)cc1)c(=o)n[c@@h](ccc(=o)o)c(n)=o-2',\n",
       " 'cc(=o)n[c@@h](cc1c[nh]cn1)c(=o)n[c@@h](cc1ccc(o)cc1)c(=o)n[c@@h](ccc(=o)o)c(n)=o-3',\n",
       " 'cc(=o)n[c@@h](cc1ccc(o)cc1)c(=o)n[c@@h](cc1ccc(o)cc1)c(=o)n[c@@h](ccc(=o)o)c(n)=o-0',\n",
       " 'cc(=o)n[c@@h](cc1ccc(o)cc1)c(=o)n[c@@h](cc1ccc(o)cc1)c(=o)n[c@@h](ccc(=o)o)c(n)=o-1',\n",
       " 'cc(=o)n[c@@h](cc1ccc(o)cc1)c(=o)n[c@@h](cc1ccc(o)cc1)c(=o)n[c@@h](ccc(=o)o)c(n)=o-2',\n",
       " 'cc(=o)n[c@@h](cc1ccc(o)cc1)c(=o)n[c@@h](cc1ccc(o)cc1)c(=o)n[c@@h](ccc(=o)o)c(n)=o-3',\n",
       " 'cc(=o)n[c@@h](cc1ccc(o)cc1)c(=o)n[c@@h](cc1ccc(o)cc1)c(=o)n[c@@h](ccc(=o)o)c(n)=o-4',\n",
       " 'cc(=o)n[c@@h](cc1ccc(o)cc1)c(=o)n[c@@h](cc1ccc(o)cc1)c(=o)n[c@@h](ccc(=o)o)c(n)=o-5',\n",
       " 'cc(=o)n[c@@h](cc1ccc(o)cc1)c(=o)n[c@@h](cc1ccc(o)cc1)c(=o)n[c@@h](ccc(=o)o)c(n)=o-6',\n",
       " 'cscc[c@h](nc(c)=o)c(=o)n1ccc[c@h]1c(=o)n[c@@h](ccc(=o)o)c(n)=o-0',\n",
       " 'cscc[c@h](nc(c)=o)c(=o)n1ccc[c@h]1c(=o)n[c@@h](ccc(=o)o)c(n)=o-1',\n",
       " 'cscc[c@h](nc(c)=o)c(=o)n1ccc[c@h]1c(=o)n[c@@h](ccc(=o)o)c(n)=o-2',\n",
       " 'cscc[c@h](nc(c)=o)c(=o)n1ccc[c@h]1c(=o)n[c@@h](ccc(=o)o)c(n)=o-3',\n",
       " 'cc(=o)n1ccc[c@h]1c(=o)n[c@@h](cc1ccc(o)cc1)c(=o)n[c@@h](cc1ccc(o)cc1)c(n)=o-0',\n",
       " 'cc(=o)n1ccc[c@h]1c(=o)n[c@@h](cc1ccc(o)cc1)c(=o)n[c@@h](cc1ccc(o)cc1)c(n)=o-1',\n",
       " 'cc(=o)n1ccc[c@h]1c(=o)n[c@@h](cc1ccc(o)cc1)c(=o)n[c@@h](cc1ccc(o)cc1)c(n)=o-2',\n",
       " 'cc(=o)n1ccc[c@h]1c(=o)n[c@@h](cc1ccc(o)cc1)c(=o)n[c@@h](cc1ccc(o)cc1)c(n)=o-3',\n",
       " 'cc(=o)n1ccc[c@h]1c(=o)n[c@@h](cc1ccc(o)cc1)c(=o)n[c@@h](cc1ccc(o)cc1)c(n)=o-4',\n",
       " 'cc(=o)n1ccc[c@h]1c(=o)n[c@@h](cc1ccc(o)cc1)c(=o)n[c@@h](cc1ccc(o)cc1)c(n)=o-5',\n",
       " 'cc(=o)n1ccc[c@h]1c(=o)n[c@@h](cc1ccc(o)cc1)c(=o)n[c@@h](cc1ccc(o)cc1)c(n)=o-6',\n",
       " 'cc(=o)n[c@@h](cc(c)c)c(=o)n[c@@h](ccc(=o)o)c(=o)n1ccc[c@h]1c(n)=o-0',\n",
       " 'cc(=o)n[c@@h](cc(c)c)c(=o)n[c@@h](ccc(=o)o)c(=o)n1ccc[c@h]1c(n)=o-1',\n",
       " 'cc(=o)n[c@@h](cc(c)c)c(=o)n[c@@h](ccc(=o)o)c(=o)n1ccc[c@h]1c(n)=o-2',\n",
       " 'cscc[c@h](nc(=o)[c@h](ccc(n)=o)nc(=o)[c@h](cc1c[nh]c2ccccc12)nc(c)=o)c(n)=o-0',\n",
       " 'cscc[c@h](nc(=o)[c@h](ccc(n)=o)nc(=o)[c@h](cc1c[nh]c2ccccc12)nc(c)=o)c(n)=o-1',\n",
       " 'cscc[c@h](nc(=o)[c@h](ccc(n)=o)nc(=o)[c@h](cc1c[nh]c2ccccc12)nc(c)=o)c(n)=o-2',\n",
       " 'cscc[c@h](nc(=o)[c@h](ccc(n)=o)nc(=o)[c@h](cc1c[nh]c2ccccc12)nc(c)=o)c(n)=o-3',\n",
       " 'cscc[c@h](nc(=o)[c@h](ccc(n)=o)nc(=o)[c@h](cc1c[nh]c2ccccc12)nc(c)=o)c(n)=o-4',\n",
       " 'cscc[c@h](nc(=o)[c@h](ccc(n)=o)nc(=o)[c@h](cc1c[nh]c2ccccc12)nc(c)=o)c(n)=o-5',\n",
       " 'cscc[c@h](nc(=o)[c@h](ccc(n)=o)nc(=o)[c@h](cc1c[nh]c2ccccc12)nc(c)=o)c(n)=o-6',\n",
       " 'cc(=o)n1ccc[c@h]1c(=o)n[c@@h](cc1ccc(o)cc1)c(=o)n1ccc[c@h]1c(n)=o-0',\n",
       " 'cc(=o)n1ccc[c@h]1c(=o)n[c@@h](cc1ccc(o)cc1)c(=o)n1ccc[c@h]1c(n)=o-1',\n",
       " 'cc(=o)n1ccc[c@h]1c(=o)n[c@@h](cc1ccc(o)cc1)c(=o)n1ccc[c@h]1c(n)=o-2',\n",
       " 'cc(=o)n1ccc[c@h]1c(=o)n[c@@h](cc1ccc(o)cc1)c(=o)n1ccc[c@h]1c(n)=o-3',\n",
       " 'cc(=o)n[c@@h](cc1ccc(o)cc1)c(=o)n[c@@h](ccc(n)=o)c(=o)n[c@@h](cc1ccc(o)cc1)c(n)=o-0',\n",
       " 'cc(=o)n[c@@h](cc1ccc(o)cc1)c(=o)n[c@@h](ccc(n)=o)c(=o)n[c@@h](cc1ccc(o)cc1)c(n)=o-1',\n",
       " 'cc(=o)n[c@@h](cc1ccc(o)cc1)c(=o)n[c@@h](ccc(n)=o)c(=o)n[c@@h](cc1ccc(o)cc1)c(n)=o-2',\n",
       " 'cc(=o)n[c@@h](cc1ccc(o)cc1)c(=o)n[c@@h](ccc(n)=o)c(=o)n[c@@h](cc1ccc(o)cc1)c(n)=o-3',\n",
       " 'cc(=o)n[c@@h](cc1ccc(o)cc1)c(=o)n[c@@h](ccc(n)=o)c(=o)n[c@@h](cc1ccc(o)cc1)c(n)=o-4',\n",
       " 'cc(=o)n[c@@h](cc1ccc(o)cc1)c(=o)n[c@@h](ccc(n)=o)c(=o)n[c@@h](cc1ccc(o)cc1)c(n)=o-5',\n",
       " 'cc(=o)n[c@@h](cc1ccc(o)cc1)c(=o)n[c@@h](ccc(n)=o)c(=o)n[c@@h](cc1ccc(o)cc1)c(n)=o-6',\n",
       " 'cc(=o)n[c@@h](cc(c)c)c(=o)n[c@@h](ccc(=o)o)c(=o)n[c@@h](cc1ccc(o)cc1)c(n)=o-0',\n",
       " 'cc(=o)n[c@@h](cc(c)c)c(=o)n[c@@h](ccc(=o)o)c(=o)n[c@@h](cc1ccc(o)cc1)c(n)=o-1',\n",
       " 'cc(=o)n[c@@h](cc(c)c)c(=o)n[c@@h](ccc(=o)o)c(=o)n[c@@h](cc1ccc(o)cc1)c(n)=o-2',\n",
       " 'cc(=o)n[c@@h](cc(c)c)c(=o)n[c@@h](ccc(=o)o)c(=o)n[c@@h](cc1ccc(o)cc1)c(n)=o-3',\n",
       " 'cscc[c@h](nc(=o)[c@h](cc(c)c)nc(c)=o)c(=o)n[c@@h](ccc(=o)o)c(n)=o-0',\n",
       " 'cscc[c@h](nc(=o)[c@h](cc(c)c)nc(c)=o)c(=o)n[c@@h](ccc(=o)o)c(n)=o-1',\n",
       " 'cscc[c@h](nc(=o)[c@h](cc(c)c)nc(c)=o)c(=o)n[c@@h](ccc(=o)o)c(n)=o-2',\n",
       " 'cc(=o)n[c@@h](cc1ccc(o)cc1)c(=o)n[c@@h](cc1c[nh]c2ccccc12)c(=o)n[c@@h](cc1ccc(o)cc1)c(n)=o-0',\n",
       " 'cc(=o)n[c@@h](cc1ccc(o)cc1)c(=o)n[c@@h](cc1c[nh]c2ccccc12)c(=o)n[c@@h](cc1ccc(o)cc1)c(n)=o-1',\n",
       " 'cc(=o)n[c@@h](cc1ccc(o)cc1)c(=o)n[c@@h](cc1c[nh]c2ccccc12)c(=o)n[c@@h](cc1ccc(o)cc1)c(n)=o-2',\n",
       " 'cc(=o)n[c@@h](cc1ccc(o)cc1)c(=o)n[c@@h](cc1c[nh]c2ccccc12)c(=o)n[c@@h](cc1ccc(o)cc1)c(n)=o-3',\n",
       " 'cc(=o)n[c@@h](cc1ccc(o)cc1)c(=o)n[c@@h](cc1c[nh]c2ccccc12)c(=o)n[c@@h](cc1ccc(o)cc1)c(n)=o-4',\n",
       " 'cc(=o)n[c@@h](cc1ccc(o)cc1)c(=o)n[c@@h](cc1c[nh]c2ccccc12)c(=o)n[c@@h](cc1ccc(o)cc1)c(n)=o-5',\n",
       " 'cc(=o)n[c@@h](cc1ccc(o)cc1)c(=o)n[c@@h](cc1c[nh]c2ccccc12)c(=o)n[c@@h](cc1ccc(o)cc1)c(n)=o-6',\n",
       " 'cc(=o)n[c@@h](cc1ccc(o)cc1)c(=o)n[c@@h](cc1c[nh]c2ccccc12)c(=o)n[c@@h](cc1ccc(o)cc1)c(n)=o-7',\n",
       " 'cc(=o)n[c@@h](cc1ccc(o)cc1)c(=o)n[c@@h](cc1c[nh]c2ccccc12)c(=o)n[c@@h](cc1ccc(o)cc1)c(n)=o-8',\n",
       " 'cc(=o)n[c@@h](cc1c[nh]c2ccccc12)c(=o)n1ccc[c@h]1c(=o)n[c@@h](ccc(n)=o)c(n)=o-0',\n",
       " 'cc(=o)n[c@@h](cc1c[nh]c2ccccc12)c(=o)n1ccc[c@h]1c(=o)n[c@@h](ccc(n)=o)c(n)=o-1',\n",
       " 'cc(=o)n[c@@h](cc1c[nh]c2ccccc12)c(=o)n1ccc[c@h]1c(=o)n[c@@h](ccc(n)=o)c(n)=o-2',\n",
       " 'cc(=o)n[c@@h](cc1c[nh]c2ccccc12)c(=o)n1ccc[c@h]1c(=o)n[c@@h](ccc(n)=o)c(n)=o-3',\n",
       " 'cc(=o)n[c@@h](cc1c[nh]c2ccccc12)c(=o)n1ccc[c@h]1c(=o)n[c@@h](ccc(n)=o)c(n)=o-4',\n",
       " 'cc(=o)n[c@@h](cc1c[nh]c2ccccc12)c(=o)n1ccc[c@h]1c(=o)n[c@@h](ccc(n)=o)c(n)=o-5',\n",
       " 'cc(=o)n[c@@h](cc1c[nh]c2ccccc12)c(=o)n1ccc[c@h]1c(=o)n[c@@h](ccc(n)=o)c(n)=o-6',\n",
       " 'cc(=o)n[c@@h](cc1c[nh]c2ccccc12)c(=o)n1ccc[c@h]1c(=o)n[c@@h](ccc(n)=o)c(n)=o-7',\n",
       " 'cc(=o)n[c@@h](ccc(n)=o)c(=o)n[c@@h](cc1c[nh]cn1)c(=o)n[c@@h](ccc(=o)o)c(n)=o-0',\n",
       " 'cc(=o)n[c@@h](ccc(n)=o)c(=o)n[c@@h](cc1c[nh]cn1)c(=o)n[c@@h](ccc(=o)o)c(n)=o-1',\n",
       " 'cc(=o)n[c@@h](ccc(n)=o)c(=o)n[c@@h](cc1c[nh]cn1)c(=o)n[c@@h](ccc(=o)o)c(n)=o-2',\n",
       " 'cc(=o)n[c@@h](ccc(n)=o)c(=o)n[c@@h](cc1c[nh]cn1)c(=o)n[c@@h](ccc(=o)o)c(n)=o-3',\n",
       " 'cc(=o)n[c@@h](cc1c[nh]cn1)c(=o)n[c@@h](cc1c[nh]c2ccccc12)c(=o)n[c@@h](cc1c[nh]cn1)c(n)=o-0',\n",
       " 'cc(=o)n[c@@h](cc1c[nh]cn1)c(=o)n[c@@h](cc1c[nh]c2ccccc12)c(=o)n[c@@h](cc1c[nh]cn1)c(n)=o-1',\n",
       " 'cc(=o)n[c@@h](cc1c[nh]cn1)c(=o)n[c@@h](cc1c[nh]c2ccccc12)c(=o)n[c@@h](cc1c[nh]cn1)c(n)=o-2',\n",
       " 'cc(=o)n[c@@h](cc1c[nh]cn1)c(=o)n[c@@h](cc1c[nh]c2ccccc12)c(=o)n[c@@h](cc1c[nh]cn1)c(n)=o-3',\n",
       " 'cc(=o)n[c@@h](cc1c[nh]cn1)c(=o)n[c@@h](cc1c[nh]c2ccccc12)c(=o)n[c@@h](cc1c[nh]cn1)c(n)=o-4',\n",
       " 'cc(=o)n[c@@h](cc1c[nh]cn1)c(=o)n[c@@h](cc1c[nh]c2ccccc12)c(=o)n[c@@h](cc1c[nh]cn1)c(n)=o-5',\n",
       " 'cscc[c@h](nc(=o)[c@h](cc(c)c)nc(=o)[c@h](cc(c)c)nc(c)=o)c(n)=o-0',\n",
       " 'cscc[c@h](nc(=o)[c@h](cc(c)c)nc(=o)[c@h](cc(c)c)nc(c)=o)c(n)=o-1',\n",
       " 'cscc[c@h](nc(=o)[c@h](cc(c)c)nc(=o)[c@h](cc(c)c)nc(c)=o)c(n)=o-2',\n",
       " 'cc(=o)n1ccc[c@h]1c(=o)n[c@@h](ccc(n)=o)c(=o)n[c@@h](ccc(=o)o)c(n)=o-0',\n",
       " 'cc(=o)n1ccc[c@h]1c(=o)n[c@@h](ccc(n)=o)c(=o)n[c@@h](ccc(=o)o)c(n)=o-1',\n",
       " 'cc(=o)n1ccc[c@h]1c(=o)n[c@@h](ccc(n)=o)c(=o)n[c@@h](ccc(=o)o)c(n)=o-2',\n",
       " 'cc(=o)n1ccc[c@h]1c(=o)n[c@@h](cc1c[nh]c2ccccc12)c(=o)n[c@@h](ccc(=o)o)c(n)=o-0',\n",
       " 'cc(=o)n1ccc[c@h]1c(=o)n[c@@h](cc1c[nh]c2ccccc12)c(=o)n[c@@h](ccc(=o)o)c(n)=o-1',\n",
       " 'cc(=o)n1ccc[c@h]1c(=o)n[c@@h](cc1c[nh]c2ccccc12)c(=o)n[c@@h](ccc(=o)o)c(n)=o-2',\n",
       " 'cc(=o)n1ccc[c@h]1c(=o)n[c@@h](cc1c[nh]c2ccccc12)c(=o)n[c@@h](ccc(=o)o)c(n)=o-3',\n",
       " 'cc(=o)n[c@@h](cc(c)c)c(=o)n[c@@h](ccc(=o)o)c(=o)n[c@@h](cc1c[nh]cn1)c(n)=o-0',\n",
       " 'cc(=o)n[c@@h](cc(c)c)c(=o)n[c@@h](ccc(=o)o)c(=o)n[c@@h](cc1c[nh]cn1)c(n)=o-1',\n",
       " 'cc(=o)n[c@@h](cc(c)c)c(=o)n[c@@h](ccc(=o)o)c(=o)n[c@@h](cc1c[nh]cn1)c(n)=o-2',\n",
       " 'cc(=o)n[c@@h](cc1ccc(o)cc1)c(=o)n[c@@h](cc1c[nh]c2ccccc12)c(=o)n[c@@h](cc1c[nh]cn1)c(n)=o-0',\n",
       " 'cc(=o)n[c@@h](cc1ccc(o)cc1)c(=o)n[c@@h](cc1c[nh]c2ccccc12)c(=o)n[c@@h](cc1c[nh]cn1)c(n)=o-1',\n",
       " 'cc(=o)n[c@@h](cc1ccc(o)cc1)c(=o)n[c@@h](cc1c[nh]c2ccccc12)c(=o)n[c@@h](cc1c[nh]cn1)c(n)=o-2',\n",
       " 'cc(=o)n[c@@h](cc1ccc(o)cc1)c(=o)n[c@@h](cc1c[nh]c2ccccc12)c(=o)n[c@@h](cc1c[nh]cn1)c(n)=o-3',\n",
       " 'cc(=o)n[c@@h](cc1ccc(o)cc1)c(=o)n[c@@h](cc1c[nh]c2ccccc12)c(=o)n[c@@h](cc1c[nh]cn1)c(n)=o-4',\n",
       " 'cc(=o)n[c@@h](cc1ccc(o)cc1)c(=o)n[c@@h](cc1c[nh]c2ccccc12)c(=o)n[c@@h](cc1c[nh]cn1)c(n)=o-5',\n",
       " 'cc(=o)n[c@@h](cc1ccc(o)cc1)c(=o)n[c@@h](cc1c[nh]c2ccccc12)c(=o)n[c@@h](cc1c[nh]cn1)c(n)=o-6',\n",
       " 'cc(=o)n[c@@h](cc1ccc(o)cc1)c(=o)n[c@@h](cc1ccc(o)cc1)c(=o)n[c@@h](ccc(n)=o)c(n)=o-0',\n",
       " 'cc(=o)n[c@@h](cc1ccc(o)cc1)c(=o)n[c@@h](cc1ccc(o)cc1)c(=o)n[c@@h](ccc(n)=o)c(n)=o-1',\n",
       " 'cc(=o)n[c@@h](cc1ccc(o)cc1)c(=o)n[c@@h](cc1ccc(o)cc1)c(=o)n[c@@h](ccc(n)=o)c(n)=o-2',\n",
       " 'cc(=o)n[c@@h](cc1ccc(o)cc1)c(=o)n[c@@h](cc1ccc(o)cc1)c(=o)n[c@@h](ccc(n)=o)c(n)=o-3',\n",
       " 'cc(=o)n[c@@h](cc1ccc(o)cc1)c(=o)n[c@@h](cc1ccc(o)cc1)c(=o)n[c@@h](ccc(n)=o)c(n)=o-4',\n",
       " 'cc(=o)n[c@@h](cc1ccc(o)cc1)c(=o)n[c@@h](cc1ccc(o)cc1)c(=o)n[c@@h](ccc(n)=o)c(n)=o-5',\n",
       " 'cc(=o)n1ccc[c@h]1c(=o)n[c@@h](cc(c)c)c(=o)n[c@@h](cc1c[nh]c2ccccc12)c(n)=o-0',\n",
       " 'cc(=o)n1ccc[c@h]1c(=o)n[c@@h](cc(c)c)c(=o)n[c@@h](cc1c[nh]c2ccccc12)c(n)=o-1',\n",
       " 'cc(=o)n1ccc[c@h]1c(=o)n[c@@h](cc(c)c)c(=o)n[c@@h](cc1c[nh]c2ccccc12)c(n)=o-2',\n",
       " 'cc(=o)n1ccc[c@h]1c(=o)n[c@@h](cc(c)c)c(=o)n[c@@h](cc1c[nh]c2ccccc12)c(n)=o-3',\n",
       " 'cc(=o)n1ccc[c@h]1c(=o)n[c@@h](cc(c)c)c(=o)n[c@@h](cc1c[nh]c2ccccc12)c(n)=o-4',\n",
       " 'cscc[c@h](nc(=o)[c@h](cc1c[nh]c2ccccc12)nc(c)=o)c(=o)n[c@@h](cc1c[nh]c2ccccc12)c(n)=o-0',\n",
       " 'cscc[c@h](nc(=o)[c@h](cc1c[nh]c2ccccc12)nc(c)=o)c(=o)n[c@@h](cc1c[nh]c2ccccc12)c(n)=o-1',\n",
       " 'cscc[c@h](nc(=o)[c@h](cc1c[nh]c2ccccc12)nc(c)=o)c(=o)n[c@@h](cc1c[nh]c2ccccc12)c(n)=o-2',\n",
       " 'cscc[c@h](nc(=o)[c@h](cc1c[nh]c2ccccc12)nc(c)=o)c(=o)n[c@@h](cc1c[nh]c2ccccc12)c(n)=o-3',\n",
       " 'cscc[c@h](nc(=o)[c@h](cc1c[nh]c2ccccc12)nc(c)=o)c(=o)n[c@@h](cc1c[nh]c2ccccc12)c(n)=o-4',\n",
       " 'cscc[c@h](nc(=o)[c@h](cc1c[nh]c2ccccc12)nc(c)=o)c(=o)n[c@@h](cc1c[nh]c2ccccc12)c(n)=o-5',\n",
       " 'cscc[c@h](nc(=o)[c@h](cc1c[nh]c2ccccc12)nc(c)=o)c(=o)n[c@@h](cc1c[nh]c2ccccc12)c(n)=o-6',\n",
       " 'cscc[c@h](nc(=o)[c@h](cc1c[nh]c2ccccc12)nc(c)=o)c(=o)n[c@@h](cc1c[nh]c2ccccc12)c(n)=o-7',\n",
       " 'cscc[c@h](nc(=o)[c@h](cc1c[nh]c2ccccc12)nc(c)=o)c(=o)n[c@@h](cc1c[nh]c2ccccc12)c(n)=o-8',\n",
       " 'cc(=o)n[c@@h](cc1c[nh]c2ccccc12)c(=o)n[c@@h](cc1c[nh]cn1)c(=o)n[c@@h](cc1ccc(o)cc1)c(n)=o-0',\n",
       " 'cc(=o)n[c@@h](cc1c[nh]c2ccccc12)c(=o)n[c@@h](cc1c[nh]cn1)c(=o)n[c@@h](cc1ccc(o)cc1)c(n)=o-1',\n",
       " 'cc(=o)n[c@@h](cc1c[nh]c2ccccc12)c(=o)n[c@@h](cc1c[nh]cn1)c(=o)n[c@@h](cc1ccc(o)cc1)c(n)=o-2',\n",
       " 'cc(=o)n[c@@h](cc1c[nh]c2ccccc12)c(=o)n[c@@h](cc1c[nh]cn1)c(=o)n[c@@h](cc1ccc(o)cc1)c(n)=o-3',\n",
       " 'cc(=o)n[c@@h](cc1c[nh]c2ccccc12)c(=o)n[c@@h](cc1c[nh]cn1)c(=o)n[c@@h](cc1ccc(o)cc1)c(n)=o-4',\n",
       " 'cc(=o)n[c@@h](cc1c[nh]c2ccccc12)c(=o)n[c@@h](cc1c[nh]cn1)c(=o)n[c@@h](cc1ccc(o)cc1)c(n)=o-5',\n",
       " 'cscc[c@h](nc(=o)[c@h](cc1c[nh]cn1)nc(=o)[c@h](cc1ccc(o)cc1)nc(c)=o)c(n)=o-0',\n",
       " 'cscc[c@h](nc(=o)[c@h](cc1c[nh]cn1)nc(=o)[c@h](cc1ccc(o)cc1)nc(c)=o)c(n)=o-1',\n",
       " 'cscc[c@h](nc(=o)[c@h](cc1c[nh]cn1)nc(=o)[c@h](cc1ccc(o)cc1)nc(c)=o)c(n)=o-2',\n",
       " 'cscc[c@h](nc(=o)[c@h](cc1c[nh]cn1)nc(=o)[c@h](cc1ccc(o)cc1)nc(c)=o)c(n)=o-3',\n",
       " 'cscc[c@h](nc(=o)[c@h](cc1c[nh]cn1)nc(=o)[c@h](cc1ccc(o)cc1)nc(c)=o)c(n)=o-4',\n",
       " 'cscc[c@h](nc(=o)[c@h](ccc(n)=o)nc(=o)[c@h](ccsc)nc(c)=o)c(n)=o-0',\n",
       " 'cscc[c@h](nc(=o)[c@h](ccc(n)=o)nc(=o)[c@h](ccsc)nc(c)=o)c(n)=o-1',\n",
       " 'cscc[c@h](nc(=o)[c@h](ccc(n)=o)nc(=o)[c@h](ccsc)nc(c)=o)c(n)=o-2',\n",
       " 'cscc[c@h](nc(=o)[c@h](ccc(n)=o)nc(=o)[c@h](ccsc)nc(c)=o)c(n)=o-3',\n",
       " 'cc(=o)n[c@@h](ccc(n)=o)c(=o)n[c@@h](cc(c)c)c(=o)n[c@@h](ccc(n)=o)c(n)=o-0',\n",
       " 'cc(=o)n[c@@h](ccc(n)=o)c(=o)n[c@@h](cc(c)c)c(=o)n[c@@h](ccc(n)=o)c(n)=o-1',\n",
       " 'cc(=o)n[c@@h](ccc(n)=o)c(=o)n[c@@h](cc(c)c)c(=o)n[c@@h](ccc(n)=o)c(n)=o-2',\n",
       " 'cc(=o)n[c@@h](ccc(n)=o)c(=o)n[c@@h](cc(c)c)c(=o)n[c@@h](ccc(n)=o)c(n)=o-3',\n",
       " 'cc(=o)n[c@@h](cc(c)c)c(=o)n[c@@h](ccc(n)=o)c(=o)n1ccc[c@h]1c(n)=o-0',\n",
       " 'cc(=o)n[c@@h](cc(c)c)c(=o)n[c@@h](ccc(n)=o)c(=o)n1ccc[c@h]1c(n)=o-1',\n",
       " 'cc(=o)n[c@@h](cc(c)c)c(=o)n[c@@h](ccc(n)=o)c(=o)n1ccc[c@h]1c(n)=o-2',\n",
       " 'cscc[c@h](nc(=o)[c@@h]1cccn1c(c)=o)c(=o)n1ccc[c@h]1c(n)=o-0',\n",
       " 'cscc[c@h](nc(=o)[c@@h]1cccn1c(c)=o)c(=o)n1ccc[c@h]1c(n)=o-1',\n",
       " 'cscc[c@h](nc(=o)[c@@h]1cccn1c(c)=o)c(=o)n1ccc[c@h]1c(n)=o-2',\n",
       " 'cscc[c@h](nc(=o)[c@h](ccc(=o)o)nc(c)=o)c(=o)n[c@@h](ccc(=o)o)c(n)=o-0',\n",
       " 'cscc[c@h](nc(=o)[c@h](ccc(=o)o)nc(c)=o)c(=o)n[c@@h](ccc(=o)o)c(n)=o-1',\n",
       " 'cscc[c@h](nc(=o)[c@h](ccc(=o)o)nc(c)=o)c(=o)n[c@@h](ccc(=o)o)c(n)=o-2',\n",
       " 'cc(=o)n1ccc[c@h]1c(=o)n[c@@h](ccc(=o)o)c(=o)n[c@@h](ccc(n)=o)c(n)=o-0',\n",
       " 'cc(=o)n1ccc[c@h]1c(=o)n[c@@h](ccc(=o)o)c(=o)n[c@@h](ccc(n)=o)c(n)=o-1',\n",
       " 'cc(=o)n[c@@h](cc1c[nh]c2ccccc12)c(=o)n[c@@h](cc1ccc(o)cc1)c(=o)n[c@@h](cc1c[nh]c2ccccc12)c(n)=o-0',\n",
       " 'cc(=o)n[c@@h](cc1c[nh]c2ccccc12)c(=o)n[c@@h](cc1ccc(o)cc1)c(=o)n[c@@h](cc1c[nh]c2ccccc12)c(n)=o-1',\n",
       " 'cc(=o)n[c@@h](cc1c[nh]c2ccccc12)c(=o)n[c@@h](cc1ccc(o)cc1)c(=o)n[c@@h](cc1c[nh]c2ccccc12)c(n)=o-2',\n",
       " 'cc(=o)n[c@@h](cc1c[nh]c2ccccc12)c(=o)n[c@@h](cc1ccc(o)cc1)c(=o)n[c@@h](cc1c[nh]c2ccccc12)c(n)=o-3',\n",
       " 'cc(=o)n[c@@h](cc1c[nh]c2ccccc12)c(=o)n[c@@h](cc1ccc(o)cc1)c(=o)n[c@@h](cc1c[nh]c2ccccc12)c(n)=o-4',\n",
       " 'cc(=o)n[c@@h](cc1c[nh]c2ccccc12)c(=o)n[c@@h](cc1ccc(o)cc1)c(=o)n[c@@h](cc1c[nh]c2ccccc12)c(n)=o-5',\n",
       " 'cc(=o)n[c@@h](cc1c[nh]c2ccccc12)c(=o)n[c@@h](cc1ccc(o)cc1)c(=o)n[c@@h](cc1c[nh]c2ccccc12)c(n)=o-6',\n",
       " 'cc(=o)n[c@@h](cc1c[nh]c2ccccc12)c(=o)n[c@@h](cc1ccc(o)cc1)c(=o)n[c@@h](cc1c[nh]c2ccccc12)c(n)=o-7',\n",
       " 'cc(=o)n[c@@h](cc1c[nh]c2ccccc12)c(=o)n[c@@h](cc1ccc(o)cc1)c(=o)n[c@@h](cc1c[nh]c2ccccc12)c(n)=o-8',\n",
       " 'cc(=o)n[c@@h](cc1c[nh]c2ccccc12)c(=o)n[c@@h](cc1ccc(o)cc1)c(=o)n[c@@h](cc1c[nh]c2ccccc12)c(n)=o-9',\n",
       " 'cc(=o)n[c@@h](cc1c[nh]c2ccccc12)c(=o)n[c@@h](cc1ccc(o)cc1)c(=o)n[c@@h](cc1c[nh]c2ccccc12)c(n)=o-10',\n",
       " 'cc(=o)n[c@@h](cc1c[nh]c2ccccc12)c(=o)n[c@@h](cc1ccc(o)cc1)c(=o)n[c@@h](cc1c[nh]c2ccccc12)c(n)=o-11',\n",
       " 'cc(=o)n[c@@h](cc1c[nh]c2ccccc12)c(=o)n[c@@h](cc1ccc(o)cc1)c(=o)n[c@@h](cc1c[nh]c2ccccc12)c(n)=o-12',\n",
       " 'cscc[c@h](nc(=o)[c@h](cc1ccc(o)cc1)nc(c)=o)c(=o)n[c@@h](ccc(n)=o)c(n)=o-0',\n",
       " 'cscc[c@h](nc(=o)[c@h](cc1ccc(o)cc1)nc(c)=o)c(=o)n[c@@h](ccc(n)=o)c(n)=o-1',\n",
       " 'cscc[c@h](nc(=o)[c@h](cc1ccc(o)cc1)nc(c)=o)c(=o)n[c@@h](ccc(n)=o)c(n)=o-2',\n",
       " 'cscc[c@h](nc(=o)[c@h](cc1ccc(o)cc1)nc(c)=o)c(=o)n[c@@h](ccc(n)=o)c(n)=o-3',\n",
       " 'cscc[c@h](nc(=o)[c@h](cc1ccc(o)cc1)nc(c)=o)c(=o)n[c@@h](ccc(n)=o)c(n)=o-4',\n",
       " 'cc(=o)n[c@@h](ccc(n)=o)c(=o)n[c@@h](cc(c)c)c(=o)n[c@@h](ccc(=o)o)c(n)=o-0',\n",
       " 'cc(=o)n[c@@h](ccc(n)=o)c(=o)n[c@@h](cc(c)c)c(=o)n[c@@h](ccc(=o)o)c(n)=o-1',\n",
       " 'cc(=o)n[c@@h](ccc(n)=o)c(=o)n[c@@h](cc(c)c)c(=o)n[c@@h](ccc(=o)o)c(n)=o-2',\n",
       " 'cscc[c@h](nc(=o)[c@h](cc1c[nh]cn1)nc(=o)[c@h](cc(c)c)nc(c)=o)c(n)=o-0',\n",
       " 'cscc[c@h](nc(=o)[c@h](cc1c[nh]cn1)nc(=o)[c@h](cc(c)c)nc(c)=o)c(n)=o-1',\n",
       " 'cscc[c@h](nc(=o)[c@h](cc1c[nh]cn1)nc(=o)[c@h](cc(c)c)nc(c)=o)c(n)=o-2',\n",
       " 'cscc[c@h](nc(=o)[c@h](cc1c[nh]cn1)nc(=o)[c@h](cc(c)c)nc(c)=o)c(n)=o-3',\n",
       " 'cc(=o)n[c@@h](cc(c)c)c(=o)n[c@@h](cc1c[nh]c2ccccc12)c(=o)n[c@@h](cc1c[nh]cn1)c(n)=o-0',\n",
       " 'cc(=o)n[c@@h](cc(c)c)c(=o)n[c@@h](cc1c[nh]c2ccccc12)c(=o)n[c@@h](cc1c[nh]cn1)c(n)=o-1',\n",
       " 'cc(=o)n[c@@h](cc(c)c)c(=o)n[c@@h](cc1c[nh]c2ccccc12)c(=o)n[c@@h](cc1c[nh]cn1)c(n)=o-2',\n",
       " 'cc(=o)n[c@@h](cc(c)c)c(=o)n[c@@h](cc1c[nh]c2ccccc12)c(=o)n[c@@h](cc1c[nh]cn1)c(n)=o-3',\n",
       " 'cc(=o)n[c@@h](cc(c)c)c(=o)n[c@@h](cc1c[nh]c2ccccc12)c(=o)n[c@@h](cc1c[nh]cn1)c(n)=o-4',\n",
       " 'cc(=o)n1ccc[c@h]1c(=o)n[c@@h](cc1c[nh]cn1)c(=o)n[c@@h](cc1c[nh]c2ccccc12)c(n)=o-0',\n",
       " 'cc(=o)n1ccc[c@h]1c(=o)n[c@@h](cc1c[nh]cn1)c(=o)n[c@@h](cc1c[nh]c2ccccc12)c(n)=o-1',\n",
       " 'cc(=o)n1ccc[c@h]1c(=o)n[c@@h](cc1c[nh]cn1)c(=o)n[c@@h](cc1c[nh]c2ccccc12)c(n)=o-2',\n",
       " 'cc(=o)n1ccc[c@h]1c(=o)n[c@@h](cc1c[nh]cn1)c(=o)n[c@@h](cc1c[nh]c2ccccc12)c(n)=o-3',\n",
       " 'cc(=o)n1ccc[c@h]1c(=o)n[c@@h](cc1c[nh]cn1)c(=o)n[c@@h](cc1c[nh]c2ccccc12)c(n)=o-4',\n",
       " 'cc(=o)n1ccc[c@h]1c(=o)n[c@@h](cc1c[nh]cn1)c(=o)n[c@@h](cc1c[nh]c2ccccc12)c(n)=o-5',\n",
       " 'cscc[c@h](nc(=o)[c@h](cc(c)c)nc(=o)[c@h](cc1ccc(o)cc1)nc(c)=o)c(n)=o-0',\n",
       " 'cscc[c@h](nc(=o)[c@h](cc(c)c)nc(=o)[c@h](cc1ccc(o)cc1)nc(c)=o)c(n)=o-1',\n",
       " 'cscc[c@h](nc(=o)[c@h](cc(c)c)nc(=o)[c@h](cc1ccc(o)cc1)nc(c)=o)c(n)=o-2',\n",
       " 'cscc[c@h](nc(=o)[c@h](cc(c)c)nc(=o)[c@h](cc1ccc(o)cc1)nc(c)=o)c(n)=o-3',\n",
       " 'cc(=o)n1ccc[c@h]1c(=o)n[c@@h](ccc(=o)o)c(=o)n[c@@h](ccc(=o)o)c(n)=o-0',\n",
       " 'cc(=o)n1ccc[c@h]1c(=o)n[c@@h](ccc(=o)o)c(=o)n[c@@h](ccc(=o)o)c(n)=o-1',\n",
       " 'cc(=o)n[c@@h](cc1ccc(o)cc1)c(=o)n[c@@h](ccc(=o)o)c(=o)n[c@@h](cc1ccc(o)cc1)c(n)=o-0',\n",
       " 'cc(=o)n[c@@h](cc1ccc(o)cc1)c(=o)n[c@@h](ccc(=o)o)c(=o)n[c@@h](cc1ccc(o)cc1)c(n)=o-1',\n",
       " 'cc(=o)n[c@@h](cc1ccc(o)cc1)c(=o)n[c@@h](ccc(=o)o)c(=o)n[c@@h](cc1ccc(o)cc1)c(n)=o-2',\n",
       " 'cc(=o)n[c@@h](cc1ccc(o)cc1)c(=o)n[c@@h](ccc(=o)o)c(=o)n[c@@h](cc1ccc(o)cc1)c(n)=o-3',\n",
       " 'cc(=o)n[c@@h](cc1ccc(o)cc1)c(=o)n[c@@h](ccc(=o)o)c(=o)n[c@@h](cc1ccc(o)cc1)c(n)=o-4',\n",
       " 'cc(=o)n[c@@h](cc1ccc(o)cc1)c(=o)n[c@@h](ccc(=o)o)c(=o)n[c@@h](cc1ccc(o)cc1)c(n)=o-5',\n",
       " 'cscc[c@h](nc(=o)[c@h](cc(c)c)nc(c)=o)c(=o)n[c@@h](ccc(n)=o)c(n)=o-0',\n",
       " 'cscc[c@h](nc(=o)[c@h](cc(c)c)nc(c)=o)c(=o)n[c@@h](ccc(n)=o)c(n)=o-1',\n",
       " 'cscc[c@h](nc(=o)[c@h](cc(c)c)nc(c)=o)c(=o)n[c@@h](ccc(n)=o)c(n)=o-2',\n",
       " 'cc(=o)n1ccc[c@h]1c(=o)n[c@@h](ccc(n)=o)c(=o)n[c@@h](ccc(n)=o)c(n)=o-0',\n",
       " 'cc(=o)n1ccc[c@h]1c(=o)n[c@@h](ccc(n)=o)c(=o)n[c@@h](ccc(n)=o)c(n)=o-1',\n",
       " 'cscc[c@h](nc(=o)[c@@h]1cccn1c(=o)[c@@h]1cccn1c(c)=o)c(n)=o-0',\n",
       " 'cscc[c@h](nc(=o)[c@@h]1cccn1c(=o)[c@@h]1cccn1c(c)=o)c(n)=o-1',\n",
       " 'cscc[c@h](nc(=o)[c@@h]1cccn1c(=o)[c@@h]1cccn1c(c)=o)c(n)=o-2',\n",
       " 'cscc[c@h](nc(=o)[c@@h]1cccn1c(=o)[c@@h]1cccn1c(c)=o)c(n)=o-3',\n",
       " 'cc(=o)n[c@@h](cc(c)c)c(=o)n1ccc[c@h]1c(=o)n[c@@h](cc1c[nh]c2ccccc12)c(n)=o-0',\n",
       " 'cc(=o)n[c@@h](cc(c)c)c(=o)n1ccc[c@h]1c(=o)n[c@@h](cc1c[nh]c2ccccc12)c(n)=o-1',\n",
       " 'cc(=o)n[c@@h](cc(c)c)c(=o)n1ccc[c@h]1c(=o)n[c@@h](cc1c[nh]c2ccccc12)c(n)=o-2',\n",
       " 'cc(=o)n[c@@h](cc(c)c)c(=o)n1ccc[c@h]1c(=o)n[c@@h](cc1c[nh]c2ccccc12)c(n)=o-3',\n",
       " 'cc(=o)n[c@@h](cc(c)c)c(=o)n1ccc[c@h]1c(=o)n[c@@h](cc1c[nh]c2ccccc12)c(n)=o-4',\n",
       " 'cc(=o)n[c@@h](cc(c)c)c(=o)n1ccc[c@h]1c(=o)n[c@@h](cc1c[nh]c2ccccc12)c(n)=o-5',\n",
       " 'cc(=o)n[c@@h](cc(c)c)c(=o)n1ccc[c@h]1c(=o)n[c@@h](cc1c[nh]c2ccccc12)c(n)=o-6',\n",
       " 'cc(=o)n[c@@h](cc1c[nh]c2ccccc12)c(=o)n[c@@h](cc1c[nh]cn1)c(=o)n[c@@h](cc1c[nh]cn1)c(n)=o-0',\n",
       " 'cc(=o)n[c@@h](cc1c[nh]c2ccccc12)c(=o)n[c@@h](cc1c[nh]cn1)c(=o)n[c@@h](cc1c[nh]cn1)c(n)=o-1',\n",
       " 'cc(=o)n[c@@h](cc1c[nh]c2ccccc12)c(=o)n[c@@h](cc1c[nh]cn1)c(=o)n[c@@h](cc1c[nh]cn1)c(n)=o-2',\n",
       " 'cc(=o)n[c@@h](cc1c[nh]c2ccccc12)c(=o)n[c@@h](cc1c[nh]cn1)c(=o)n[c@@h](cc1c[nh]cn1)c(n)=o-3',\n",
       " 'cc(=o)n[c@@h](cc1c[nh]c2ccccc12)c(=o)n[c@@h](cc1c[nh]cn1)c(=o)n[c@@h](cc1c[nh]cn1)c(n)=o-4',\n",
       " 'cc(=o)n[c@@h](cc1c[nh]c2ccccc12)c(=o)n[c@@h](cc1c[nh]cn1)c(=o)n[c@@h](cc1c[nh]cn1)c(n)=o-5',\n",
       " 'cc(=o)n[c@@h](cc1c[nh]c2ccccc12)c(=o)n[c@@h](cc1c[nh]cn1)c(=o)n[c@@h](cc1c[nh]cn1)c(n)=o-6',\n",
       " 'cc(=o)n[c@@h](cc1c[nh]c2ccccc12)c(=o)n[c@@h](cc1c[nh]cn1)c(=o)n[c@@h](cc1c[nh]cn1)c(n)=o-7',\n",
       " 'cscc[c@h](nc(=o)[c@h](cc1c[nh]c2ccccc12)nc(=o)[c@h](cc1c[nh]c2ccccc12)nc(c)=o)c(n)=o-0',\n",
       " 'cscc[c@h](nc(=o)[c@h](cc1c[nh]c2ccccc12)nc(=o)[c@h](cc1c[nh]c2ccccc12)nc(c)=o)c(n)=o-1',\n",
       " 'cscc[c@h](nc(=o)[c@h](cc1c[nh]c2ccccc12)nc(=o)[c@h](cc1c[nh]c2ccccc12)nc(c)=o)c(n)=o-2',\n",
       " 'cscc[c@h](nc(=o)[c@h](cc1c[nh]c2ccccc12)nc(=o)[c@h](cc1c[nh]c2ccccc12)nc(c)=o)c(n)=o-3',\n",
       " 'cscc[c@h](nc(=o)[c@h](cc1c[nh]c2ccccc12)nc(=o)[c@h](cc1c[nh]c2ccccc12)nc(c)=o)c(n)=o-4',\n",
       " 'cscc[c@h](nc(=o)[c@h](cc1c[nh]c2ccccc12)nc(=o)[c@h](cc1c[nh]c2ccccc12)nc(c)=o)c(n)=o-5',\n",
       " 'cscc[c@h](nc(=o)[c@h](cc1c[nh]c2ccccc12)nc(=o)[c@h](cc1c[nh]c2ccccc12)nc(c)=o)c(n)=o-6',\n",
       " 'cscc[c@h](nc(=o)[c@h](cc1c[nh]c2ccccc12)nc(=o)[c@h](cc1c[nh]c2ccccc12)nc(c)=o)c(n)=o-7',\n",
       " 'cscc[c@h](nc(=o)[c@h](cc1c[nh]c2ccccc12)nc(=o)[c@h](cc1c[nh]c2ccccc12)nc(c)=o)c(n)=o-8',\n",
       " 'cscc[c@h](nc(=o)[c@h](cc1c[nh]c2ccccc12)nc(=o)[c@h](cc1c[nh]c2ccccc12)nc(c)=o)c(n)=o-9',\n",
       " 'cc(=o)n[c@@h](ccc(=o)o)c(=o)n[c@@h](cc1ccc(o)cc1)c(=o)n[c@@h](ccc(=o)o)c(n)=o-0',\n",
       " 'cc(=o)n[c@@h](ccc(=o)o)c(=o)n[c@@h](cc1ccc(o)cc1)c(=o)n[c@@h](ccc(=o)o)c(n)=o-1',\n",
       " 'cc(=o)n[c@@h](ccc(=o)o)c(=o)n[c@@h](cc1ccc(o)cc1)c(=o)n[c@@h](ccc(=o)o)c(n)=o-2',\n",
       " 'cc(=o)n[c@@h](ccc(=o)o)c(=o)n[c@@h](cc1ccc(o)cc1)c(=o)n[c@@h](ccc(=o)o)c(n)=o-3',\n",
       " 'cc(=o)n[c@@h](ccc(=o)o)c(=o)n[c@@h](cc1ccc(o)cc1)c(=o)n[c@@h](ccc(=o)o)c(n)=o-4',\n",
       " 'cc(=o)n[c@@h](cc1c[nh]cn1)c(=o)n[c@@h](ccc(n)=o)c(=o)n[c@@h](cc1c[nh]cn1)c(n)=o-0',\n",
       " 'cc(=o)n[c@@h](cc1c[nh]cn1)c(=o)n[c@@h](ccc(n)=o)c(=o)n[c@@h](cc1c[nh]cn1)c(n)=o-1',\n",
       " 'cc(=o)n[c@@h](cc1c[nh]cn1)c(=o)n[c@@h](ccc(n)=o)c(=o)n[c@@h](cc1c[nh]cn1)c(n)=o-2',\n",
       " 'cc(=o)n[c@@h](cc1c[nh]cn1)c(=o)n[c@@h](ccc(n)=o)c(=o)n[c@@h](cc1c[nh]cn1)c(n)=o-3',\n",
       " 'cc(=o)n[c@@h](cc1c[nh]cn1)c(=o)n[c@@h](ccc(n)=o)c(=o)n[c@@h](cc1c[nh]cn1)c(n)=o-4',\n",
       " 'cc(=o)n[c@@h](cc1ccc(o)cc1)c(=o)n[c@@h](ccc(n)=o)c(=o)n[c@@h](cc1c[nh]cn1)c(n)=o-0',\n",
       " 'cc(=o)n[c@@h](cc1ccc(o)cc1)c(=o)n[c@@h](ccc(n)=o)c(=o)n[c@@h](cc1c[nh]cn1)c(n)=o-1',\n",
       " 'cc(=o)n[c@@h](cc1ccc(o)cc1)c(=o)n[c@@h](ccc(n)=o)c(=o)n[c@@h](cc1c[nh]cn1)c(n)=o-2',\n",
       " 'cc(=o)n[c@@h](cc1ccc(o)cc1)c(=o)n[c@@h](ccc(n)=o)c(=o)n[c@@h](cc1c[nh]cn1)c(n)=o-3',\n",
       " 'cc(=o)n[c@@h](cc1ccc(o)cc1)c(=o)n[c@@h](ccc(n)=o)c(=o)n[c@@h](cc1c[nh]cn1)c(n)=o-4',\n",
       " 'cscc[c@h](nc(c)=o)c(=o)n[c@@h](cc1c[nh]cn1)c(=o)n[c@@h](cc1c[nh]cn1)c(n)=o-0',\n",
       " 'cscc[c@h](nc(c)=o)c(=o)n[c@@h](cc1c[nh]cn1)c(=o)n[c@@h](cc1c[nh]cn1)c(n)=o-1',\n",
       " 'cscc[c@h](nc(c)=o)c(=o)n[c@@h](cc1c[nh]cn1)c(=o)n[c@@h](cc1c[nh]cn1)c(n)=o-2',\n",
       " 'cscc[c@h](nc(c)=o)c(=o)n[c@@h](cc1c[nh]cn1)c(=o)n[c@@h](cc1c[nh]cn1)c(n)=o-3',\n",
       " 'cscc[c@h](nc(c)=o)c(=o)n[c@@h](cc1c[nh]cn1)c(=o)n[c@@h](cc1c[nh]cn1)c(n)=o-4',\n",
       " 'cscc[c@h](nc(=o)[c@h](cc1c[nh]c2ccccc12)nc(=o)[c@h](ccsc)nc(c)=o)c(n)=o-0',\n",
       " 'cscc[c@h](nc(=o)[c@h](cc1c[nh]c2ccccc12)nc(=o)[c@h](ccsc)nc(c)=o)c(n)=o-1',\n",
       " 'cscc[c@h](nc(=o)[c@h](cc1c[nh]c2ccccc12)nc(=o)[c@h](ccsc)nc(c)=o)c(n)=o-2',\n",
       " 'cscc[c@h](nc(=o)[c@h](cc1c[nh]c2ccccc12)nc(=o)[c@h](ccsc)nc(c)=o)c(n)=o-3',\n",
       " 'cscc[c@h](nc(=o)[c@h](cc1c[nh]c2ccccc12)nc(=o)[c@h](ccsc)nc(c)=o)c(n)=o-4',\n",
       " 'cscc[c@h](nc(=o)[c@h](cc1c[nh]c2ccccc12)nc(=o)[c@h](ccsc)nc(c)=o)c(n)=o-5',\n",
       " 'cscc[c@h](nc(=o)[c@h](cc1c[nh]c2ccccc12)nc(=o)[c@h](ccsc)nc(c)=o)c(n)=o-6',\n",
       " 'cscc[c@h](nc(=o)[c@h](cc1c[nh]c2ccccc12)nc(=o)[c@h](ccsc)nc(c)=o)c(n)=o-7',\n",
       " 'cc(=o)n[c@@h](cc(c)c)c(=o)n[c@@h](cc1c[nh]c2ccccc12)c(=o)n1ccc[c@h]1c(n)=o-0',\n",
       " 'cc(=o)n[c@@h](cc(c)c)c(=o)n[c@@h](cc1c[nh]c2ccccc12)c(=o)n1ccc[c@h]1c(n)=o-1',\n",
       " 'cc(=o)n[c@@h](cc(c)c)c(=o)n[c@@h](cc1c[nh]c2ccccc12)c(=o)n1ccc[c@h]1c(n)=o-2',\n",
       " 'cc(=o)n[c@@h](cc(c)c)c(=o)n[c@@h](cc1c[nh]c2ccccc12)c(=o)n1ccc[c@h]1c(n)=o-3',\n",
       " 'cc(=o)n[c@@h](cc(c)c)c(=o)n[c@@h](cc1c[nh]c2ccccc12)c(=o)n1ccc[c@h]1c(n)=o-4',\n",
       " 'cc(=o)n[c@@h](cc(c)c)c(=o)n[c@@h](cc1c[nh]c2ccccc12)c(=o)n1ccc[c@h]1c(n)=o-5',\n",
       " 'cc(=o)n[c@@h](cc(c)c)c(=o)n[c@@h](cc1ccc(o)cc1)c(=o)n[c@@h](ccc(=o)o)c(n)=o-0',\n",
       " 'cc(=o)n[c@@h](cc(c)c)c(=o)n[c@@h](cc1ccc(o)cc1)c(=o)n[c@@h](ccc(=o)o)c(n)=o-1',\n",
       " 'cc(=o)n[c@@h](cc(c)c)c(=o)n[c@@h](cc1ccc(o)cc1)c(=o)n[c@@h](ccc(=o)o)c(n)=o-2',\n",
       " 'cc(=o)n[c@@h](cc(c)c)c(=o)n[c@@h](cc1ccc(o)cc1)c(=o)n[c@@h](ccc(=o)o)c(n)=o-3',\n",
       " 'cc(=o)n[c@@h](cc(c)c)c(=o)n[c@@h](cc1ccc(o)cc1)c(=o)n[c@@h](ccc(=o)o)c(n)=o-4',\n",
       " 'cscc[c@h](nc(=o)[c@h](cc1c[nh]cn1)nc(c)=o)c(=o)n[c@@h](cc1c[nh]cn1)c(n)=o-0',\n",
       " 'cscc[c@h](nc(=o)[c@h](cc1c[nh]cn1)nc(c)=o)c(=o)n[c@@h](cc1c[nh]cn1)c(n)=o-1',\n",
       " 'cscc[c@h](nc(=o)[c@h](cc1c[nh]cn1)nc(c)=o)c(=o)n[c@@h](cc1c[nh]cn1)c(n)=o-2',\n",
       " 'cscc[c@h](nc(=o)[c@h](cc1c[nh]cn1)nc(c)=o)c(=o)n[c@@h](cc1c[nh]cn1)c(n)=o-3',\n",
       " 'cc(=o)n1ccc[c@h]1c(=o)n[c@@h](ccc(=o)o)c(=o)n[c@@h](cc1ccc(o)cc1)c(n)=o-0',\n",
       " 'cc(=o)n1ccc[c@h]1c(=o)n[c@@h](ccc(=o)o)c(=o)n[c@@h](cc1ccc(o)cc1)c(n)=o-1',\n",
       " 'cc(=o)n1ccc[c@h]1c(=o)n[c@@h](ccc(=o)o)c(=o)n[c@@h](cc1ccc(o)cc1)c(n)=o-2',\n",
       " 'cc(=o)n1ccc[c@h]1c(=o)n[c@@h](ccc(=o)o)c(=o)n[c@@h](cc1ccc(o)cc1)c(n)=o-3',\n",
       " 'cc(=o)n[c@@h](cc1c[nh]c2ccccc12)c(=o)n[c@@h](cc(c)c)c(=o)n[c@@h](ccc(=o)o)c(n)=o-0',\n",
       " 'cc(=o)n[c@@h](cc1c[nh]c2ccccc12)c(=o)n[c@@h](cc(c)c)c(=o)n[c@@h](ccc(=o)o)c(n)=o-1',\n",
       " 'cc(=o)n[c@@h](cc1c[nh]c2ccccc12)c(=o)n[c@@h](cc(c)c)c(=o)n[c@@h](ccc(=o)o)c(n)=o-2',\n",
       " 'cc(=o)n[c@@h](cc1c[nh]c2ccccc12)c(=o)n[c@@h](cc(c)c)c(=o)n[c@@h](ccc(=o)o)c(n)=o-3',\n",
       " 'cc(=o)n[c@@h](cc1c[nh]c2ccccc12)c(=o)n[c@@h](cc(c)c)c(=o)n[c@@h](ccc(=o)o)c(n)=o-4',\n",
       " 'cscc[c@h](nc(=o)[c@@h]1cccn1c(c)=o)c(=o)n[c@@h](ccc(=o)o)c(n)=o-0',\n",
       " 'cscc[c@h](nc(=o)[c@@h]1cccn1c(c)=o)c(=o)n[c@@h](ccc(=o)o)c(n)=o-1',\n",
       " 'cscc[c@h](nc(=o)[c@@h]1cccn1c(c)=o)c(=o)n[c@@h](ccc(=o)o)c(n)=o-2',\n",
       " 'cscc[c@h](nc(=o)[c@@h]1cccn1c(c)=o)c(=o)n[c@@h](ccc(=o)o)c(n)=o-3',\n",
       " 'cc(=o)n[c@@h](cc(c)c)c(=o)n[c@@h](cc(c)c)c(=o)n[c@@h](cc(c)c)c(n)=o-0',\n",
       " 'cc(=o)n[c@@h](cc(c)c)c(=o)n[c@@h](cc(c)c)c(=o)n[c@@h](cc(c)c)c(n)=o-1',\n",
       " 'cc(=o)n[c@@h](cc(c)c)c(=o)n[c@@h](cc(c)c)c(=o)n[c@@h](cc(c)c)c(n)=o-2',\n",
       " 'cc(=o)n[c@@h](cc(c)c)c(=o)n[c@@h](cc(c)c)c(=o)n[c@@h](cc(c)c)c(n)=o-3',\n",
       " 'cscc[c@h](nc(=o)[c@h](ccsc)nc(=o)[c@h](cc1c[nh]c2ccccc12)nc(c)=o)c(n)=o-0',\n",
       " 'cscc[c@h](nc(=o)[c@h](ccsc)nc(=o)[c@h](cc1c[nh]c2ccccc12)nc(c)=o)c(n)=o-1',\n",
       " 'cscc[c@h](nc(=o)[c@h](ccsc)nc(=o)[c@h](cc1c[nh]c2ccccc12)nc(c)=o)c(n)=o-2',\n",
       " 'cscc[c@h](nc(=o)[c@h](ccsc)nc(=o)[c@h](cc1c[nh]c2ccccc12)nc(c)=o)c(n)=o-3',\n",
       " 'cscc[c@h](nc(=o)[c@h](ccsc)nc(=o)[c@h](cc1c[nh]c2ccccc12)nc(c)=o)c(n)=o-4',\n",
       " 'cscc[c@h](nc(=o)[c@h](ccsc)nc(=o)[c@h](cc1c[nh]c2ccccc12)nc(c)=o)c(n)=o-5',\n",
       " 'cscc[c@h](nc(=o)[c@h](cc(c)c)nc(=o)[c@@h]1cccn1c(c)=o)c(n)=o-0',\n",
       " 'cscc[c@h](nc(=o)[c@h](cc(c)c)nc(=o)[c@@h]1cccn1c(c)=o)c(n)=o-1',\n",
       " 'cscc[c@h](nc(=o)[c@h](cc(c)c)nc(=o)[c@@h]1cccn1c(c)=o)c(n)=o-2',\n",
       " 'cc(=o)n[c@@h](cc(c)c)c(=o)n[c@@h](ccc(n)=o)c(=o)n[c@@h](ccc(=o)o)c(n)=o-0',\n",
       " 'cc(=o)n[c@@h](cc(c)c)c(=o)n[c@@h](ccc(n)=o)c(=o)n[c@@h](ccc(=o)o)c(n)=o-1',\n",
       " 'cc(=o)n[c@@h](cc(c)c)c(=o)n[c@@h](ccc(n)=o)c(=o)n[c@@h](ccc(=o)o)c(n)=o-2',\n",
       " 'cc(=o)n[c@@h](cc(c)c)c(=o)n[c@@h](ccc(n)=o)c(=o)n[c@@h](ccc(=o)o)c(n)=o-3',\n",
       " 'cscc[c@h](nc(=o)[c@h](cc1ccc(o)cc1)nc(c)=o)c(=o)n[c@@h](cc1ccc(o)cc1)c(n)=o-0',\n",
       " 'cscc[c@h](nc(=o)[c@h](cc1ccc(o)cc1)nc(c)=o)c(=o)n[c@@h](cc1ccc(o)cc1)c(n)=o-1',\n",
       " 'cscc[c@h](nc(=o)[c@h](cc1ccc(o)cc1)nc(c)=o)c(=o)n[c@@h](cc1ccc(o)cc1)c(n)=o-2',\n",
       " 'cscc[c@h](nc(=o)[c@h](cc1ccc(o)cc1)nc(c)=o)c(=o)n[c@@h](cc1ccc(o)cc1)c(n)=o-3',\n",
       " 'cscc[c@h](nc(=o)[c@h](cc1ccc(o)cc1)nc(c)=o)c(=o)n[c@@h](cc1ccc(o)cc1)c(n)=o-4',\n",
       " 'cc(=o)n[c@@h](cc1ccc(o)cc1)c(=o)n[c@@h](ccc(=o)o)c(=o)n[c@@h](ccc(=o)o)c(n)=o-0',\n",
       " 'cc(=o)n[c@@h](cc1ccc(o)cc1)c(=o)n[c@@h](ccc(=o)o)c(=o)n[c@@h](ccc(=o)o)c(n)=o-1',\n",
       " 'cc(=o)n[c@@h](cc1ccc(o)cc1)c(=o)n[c@@h](ccc(=o)o)c(=o)n[c@@h](ccc(=o)o)c(n)=o-2',\n",
       " 'cc(=o)n[c@@h](cc1ccc(o)cc1)c(=o)n[c@@h](ccc(=o)o)c(=o)n[c@@h](ccc(=o)o)c(n)=o-3',\n",
       " 'cc(=o)n[c@@h](cc1c[nh]cn1)c(=o)n[c@@h](ccc(=o)o)c(=o)n[c@@h](ccc(=o)o)c(n)=o-0',\n",
       " 'cc(=o)n[c@@h](cc1c[nh]cn1)c(=o)n[c@@h](ccc(=o)o)c(=o)n[c@@h](ccc(=o)o)c(n)=o-1',\n",
       " 'cc(=o)n[c@@h](cc1c[nh]cn1)c(=o)n[c@@h](ccc(=o)o)c(=o)n[c@@h](ccc(=o)o)c(n)=o-2',\n",
       " 'cscc[c@h](nc(=o)[c@h](ccsc)nc(=o)[c@h](ccsc)nc(c)=o)c(n)=o-0',\n",
       " 'cscc[c@h](nc(=o)[c@h](ccsc)nc(=o)[c@h](ccsc)nc(c)=o)c(n)=o-1',\n",
       " 'cscc[c@h](nc(=o)[c@h](ccsc)nc(=o)[c@h](ccsc)nc(c)=o)c(n)=o-2',\n",
       " 'cscc[c@h](nc(=o)[c@h](ccsc)nc(=o)[c@h](ccsc)nc(c)=o)c(n)=o-3',\n",
       " 'cc(=o)n[c@@h](cc(c)c)c(=o)n[c@@h](cc(c)c)c(=o)n[c@@h](cc1c[nh]c2ccccc12)c(n)=o-0',\n",
       " 'cc(=o)n[c@@h](cc(c)c)c(=o)n[c@@h](cc(c)c)c(=o)n[c@@h](cc1c[nh]c2ccccc12)c(n)=o-1',\n",
       " 'cc(=o)n[c@@h](cc(c)c)c(=o)n[c@@h](cc(c)c)c(=o)n[c@@h](cc1c[nh]c2ccccc12)c(n)=o-2',\n",
       " 'cc(=o)n[c@@h](cc(c)c)c(=o)n[c@@h](cc(c)c)c(=o)n[c@@h](cc1c[nh]c2ccccc12)c(n)=o-3',\n",
       " 'cc(=o)n[c@@h](cc(c)c)c(=o)n[c@@h](cc(c)c)c(=o)n[c@@h](cc1c[nh]c2ccccc12)c(n)=o-4',\n",
       " 'cc(=o)n[c@@h](cc(c)c)c(=o)n[c@@h](cc(c)c)c(=o)n[c@@h](cc1c[nh]c2ccccc12)c(n)=o-5',\n",
       " 'cc(=o)n[c@@h](cc(c)c)c(=o)n[c@@h](cc(c)c)c(=o)n[c@@h](cc1c[nh]c2ccccc12)c(n)=o-6',\n",
       " 'cc(=o)n[c@@h](cc(c)c)c(=o)n[c@@h](cc(c)c)c(=o)n[c@@h](cc1c[nh]c2ccccc12)c(n)=o-7',\n",
       " 'cscc[c@h](nc(c)=o)c(=o)n[c@@h](cc(c)c)c(=o)n[c@@h](ccc(=o)o)c(n)=o-0',\n",
       " 'cscc[c@h](nc(c)=o)c(=o)n[c@@h](cc(c)c)c(=o)n[c@@h](ccc(=o)o)c(n)=o-1',\n",
       " 'cscc[c@h](nc(c)=o)c(=o)n[c@@h](cc(c)c)c(=o)n[c@@h](ccc(=o)o)c(n)=o-2',\n",
       " 'cscc[c@h](nc(c)=o)c(=o)n[c@@h](cc(c)c)c(=o)n[c@@h](ccc(=o)o)c(n)=o-3',\n",
       " 'cscc[c@h](nc(c)=o)c(=o)n[c@@h](cc(c)c)c(=o)n[c@@h](ccc(=o)o)c(n)=o-4',\n",
       " 'cc(=o)n[c@@h](cc1c[nh]c2ccccc12)c(=o)n[c@@h](cc1c[nh]c2ccccc12)c(=o)n[c@@h](cc1c[nh]c2ccccc12)c(n)=o-0',\n",
       " 'cc(=o)n[c@@h](cc1c[nh]c2ccccc12)c(=o)n[c@@h](cc1c[nh]c2ccccc12)c(=o)n[c@@h](cc1c[nh]c2ccccc12)c(n)=o-1',\n",
       " 'cc(=o)n[c@@h](cc1c[nh]c2ccccc12)c(=o)n[c@@h](cc1c[nh]c2ccccc12)c(=o)n[c@@h](cc1c[nh]c2ccccc12)c(n)=o-2',\n",
       " 'cc(=o)n[c@@h](cc1c[nh]c2ccccc12)c(=o)n[c@@h](cc1c[nh]c2ccccc12)c(=o)n[c@@h](cc1c[nh]c2ccccc12)c(n)=o-3',\n",
       " 'cc(=o)n[c@@h](cc1c[nh]c2ccccc12)c(=o)n[c@@h](cc1c[nh]c2ccccc12)c(=o)n[c@@h](cc1c[nh]c2ccccc12)c(n)=o-4',\n",
       " 'cc(=o)n[c@@h](cc1c[nh]c2ccccc12)c(=o)n[c@@h](cc1c[nh]c2ccccc12)c(=o)n[c@@h](cc1c[nh]c2ccccc12)c(n)=o-5',\n",
       " 'cc(=o)n[c@@h](cc1c[nh]c2ccccc12)c(=o)n[c@@h](cc1c[nh]c2ccccc12)c(=o)n[c@@h](cc1c[nh]c2ccccc12)c(n)=o-6',\n",
       " 'cc(=o)n[c@@h](cc1c[nh]c2ccccc12)c(=o)n[c@@h](cc1c[nh]c2ccccc12)c(=o)n[c@@h](cc1c[nh]c2ccccc12)c(n)=o-7',\n",
       " 'cc(=o)n[c@@h](cc1c[nh]c2ccccc12)c(=o)n[c@@h](cc1c[nh]c2ccccc12)c(=o)n[c@@h](cc1c[nh]c2ccccc12)c(n)=o-8',\n",
       " 'cc(=o)n[c@@h](cc1c[nh]c2ccccc12)c(=o)n[c@@h](cc1c[nh]c2ccccc12)c(=o)n[c@@h](cc1c[nh]c2ccccc12)c(n)=o-9',\n",
       " 'cc(=o)n[c@@h](cc1c[nh]c2ccccc12)c(=o)n[c@@h](cc1c[nh]c2ccccc12)c(=o)n[c@@h](cc1c[nh]c2ccccc12)c(n)=o-10',\n",
       " 'cc(=o)n[c@@h](cc1c[nh]c2ccccc12)c(=o)n[c@@h](cc1c[nh]c2ccccc12)c(=o)n[c@@h](cc1c[nh]c2ccccc12)c(n)=o-11',\n",
       " 'cc(=o)n[c@@h](cc1c[nh]c2ccccc12)c(=o)n[c@@h](cc1c[nh]c2ccccc12)c(=o)n[c@@h](cc1c[nh]c2ccccc12)c(n)=o-12',\n",
       " 'cc(=o)n[c@@h](cc1c[nh]c2ccccc12)c(=o)n[c@@h](cc1c[nh]c2ccccc12)c(=o)n[c@@h](cc1c[nh]c2ccccc12)c(n)=o-13',\n",
       " 'cc(=o)n[c@@h](cc1c[nh]c2ccccc12)c(=o)n[c@@h](ccc(n)=o)c(=o)n[c@@h](cc1c[nh]c2ccccc12)c(n)=o-0',\n",
       " 'cc(=o)n[c@@h](cc1c[nh]c2ccccc12)c(=o)n[c@@h](ccc(n)=o)c(=o)n[c@@h](cc1c[nh]c2ccccc12)c(n)=o-1',\n",
       " 'cc(=o)n[c@@h](cc1c[nh]c2ccccc12)c(=o)n[c@@h](ccc(n)=o)c(=o)n[c@@h](cc1c[nh]c2ccccc12)c(n)=o-2',\n",
       " 'cc(=o)n[c@@h](cc1c[nh]c2ccccc12)c(=o)n[c@@h](ccc(n)=o)c(=o)n[c@@h](cc1c[nh]c2ccccc12)c(n)=o-3',\n",
       " 'cc(=o)n[c@@h](cc1c[nh]c2ccccc12)c(=o)n[c@@h](ccc(n)=o)c(=o)n[c@@h](cc1c[nh]c2ccccc12)c(n)=o-4',\n",
       " 'cc(=o)n[c@@h](cc1c[nh]c2ccccc12)c(=o)n[c@@h](ccc(n)=o)c(=o)n[c@@h](cc1c[nh]c2ccccc12)c(n)=o-5',\n",
       " 'cc(=o)n[c@@h](cc1c[nh]c2ccccc12)c(=o)n[c@@h](ccc(n)=o)c(=o)n[c@@h](cc1c[nh]c2ccccc12)c(n)=o-6',\n",
       " 'cc(=o)n[c@@h](cc1c[nh]c2ccccc12)c(=o)n[c@@h](ccc(n)=o)c(=o)n[c@@h](cc1c[nh]c2ccccc12)c(n)=o-7',\n",
       " 'cc(=o)n[c@@h](cc1c[nh]c2ccccc12)c(=o)n[c@@h](ccc(n)=o)c(=o)n[c@@h](cc1c[nh]c2ccccc12)c(n)=o-8',\n",
       " 'cc(=o)n[c@@h](cc1c[nh]c2ccccc12)c(=o)n[c@@h](ccc(n)=o)c(=o)n[c@@h](cc1c[nh]c2ccccc12)c(n)=o-9',\n",
       " 'cc(=o)n[c@@h](cc1c[nh]c2ccccc12)c(=o)n[c@@h](ccc(n)=o)c(=o)n[c@@h](cc1c[nh]c2ccccc12)c(n)=o-10',\n",
       " 'cc(=o)n[c@@h](cc1c[nh]c2ccccc12)c(=o)n[c@@h](ccc(n)=o)c(=o)n[c@@h](cc1c[nh]c2ccccc12)c(n)=o-11',\n",
       " 'cc(=o)n[c@@h](cc1c[nh]c2ccccc12)c(=o)n[c@@h](ccc(n)=o)c(=o)n[c@@h](cc1c[nh]c2ccccc12)c(n)=o-12',\n",
       " 'cscc[c@h](nc(=o)[c@h](ccc(=o)o)nc(=o)[c@h](ccc(n)=o)nc(c)=o)c(n)=o-0',\n",
       " 'cscc[c@h](nc(=o)[c@h](ccc(=o)o)nc(=o)[c@h](ccc(n)=o)nc(c)=o)c(n)=o-1',\n",
       " 'cscc[c@h](nc(=o)[c@h](ccc(=o)o)nc(=o)[c@h](ccc(n)=o)nc(c)=o)c(n)=o-2',\n",
       " 'cscc[c@h](nc(=o)[c@h](cc1ccc(o)cc1)nc(c)=o)c(=o)n[c@@h](cc1c[nh]cn1)c(n)=o-0',\n",
       " 'cscc[c@h](nc(=o)[c@h](cc1ccc(o)cc1)nc(c)=o)c(=o)n[c@@h](cc1c[nh]cn1)c(n)=o-1',\n",
       " 'cscc[c@h](nc(=o)[c@h](cc1ccc(o)cc1)nc(c)=o)c(=o)n[c@@h](cc1c[nh]cn1)c(n)=o-2',\n",
       " 'cscc[c@h](nc(=o)[c@h](cc1ccc(o)cc1)nc(c)=o)c(=o)n[c@@h](cc1c[nh]cn1)c(n)=o-3',\n",
       " 'cscc[c@h](nc(=o)[c@h](cc1ccc(o)cc1)nc(c)=o)c(=o)n[c@@h](cc1c[nh]cn1)c(n)=o-4',\n",
       " 'cc(=o)n[c@@h](ccc(=o)o)c(=o)n[c@@h](ccc(n)=o)c(=o)n[c@@h](ccc(=o)o)c(n)=o-0',\n",
       " 'cc(=o)n[c@@h](ccc(=o)o)c(=o)n[c@@h](ccc(n)=o)c(=o)n[c@@h](ccc(=o)o)c(n)=o-1',\n",
       " 'cc(=o)n[c@@h](ccc(=o)o)c(=o)n[c@@h](ccc(n)=o)c(=o)n[c@@h](ccc(=o)o)c(n)=o-2',\n",
       " 'cc(=o)n[c@@h](ccc(=o)o)c(=o)n[c@@h](ccc(n)=o)c(=o)n[c@@h](ccc(=o)o)c(n)=o-3',\n",
       " 'cc(=o)n[c@@h](cc1ccc(o)cc1)c(=o)n[c@@h](cc1ccc(o)cc1)c(=o)n[c@@h](cc1ccc(o)cc1)c(n)=o-0',\n",
       " 'cc(=o)n[c@@h](cc1ccc(o)cc1)c(=o)n[c@@h](cc1ccc(o)cc1)c(=o)n[c@@h](cc1ccc(o)cc1)c(n)=o-1',\n",
       " 'cc(=o)n[c@@h](cc1ccc(o)cc1)c(=o)n[c@@h](cc1ccc(o)cc1)c(=o)n[c@@h](cc1ccc(o)cc1)c(n)=o-2',\n",
       " 'cc(=o)n[c@@h](cc1ccc(o)cc1)c(=o)n[c@@h](cc1ccc(o)cc1)c(=o)n[c@@h](cc1ccc(o)cc1)c(n)=o-3',\n",
       " 'cc(=o)n[c@@h](cc1ccc(o)cc1)c(=o)n[c@@h](cc1ccc(o)cc1)c(=o)n[c@@h](cc1ccc(o)cc1)c(n)=o-4',\n",
       " 'cc(=o)n[c@@h](cc1ccc(o)cc1)c(=o)n[c@@h](cc1ccc(o)cc1)c(=o)n[c@@h](cc1ccc(o)cc1)c(n)=o-5',\n",
       " 'cc(=o)n[c@@h](cc1ccc(o)cc1)c(=o)n[c@@h](cc1ccc(o)cc1)c(=o)n[c@@h](cc1ccc(o)cc1)c(n)=o-6',\n",
       " 'cc(=o)n[c@@h](cc1ccc(o)cc1)c(=o)n[c@@h](cc1ccc(o)cc1)c(=o)n[c@@h](cc1ccc(o)cc1)c(n)=o-7',\n",
       " 'cc(=o)n[c@@h](cc1ccc(o)cc1)c(=o)n[c@@h](cc1ccc(o)cc1)c(=o)n[c@@h](cc1ccc(o)cc1)c(n)=o-8',\n",
       " 'cc(=o)n1ccc[c@h]1c(=o)n[c@@h](ccc(n)=o)c(=o)n1ccc[c@h]1c(n)=o-0',\n",
       " 'cc(=o)n1ccc[c@h]1c(=o)n[c@@h](ccc(n)=o)c(=o)n1ccc[c@h]1c(n)=o-1',\n",
       " 'cc(=o)n1ccc[c@h]1c(=o)n[c@@h](cc1c[nh]c2ccccc12)c(=o)n1ccc[c@h]1c(n)=o-0',\n",
       " 'cc(=o)n1ccc[c@h]1c(=o)n[c@@h](cc1c[nh]c2ccccc12)c(=o)n1ccc[c@h]1c(n)=o-1',\n",
       " 'cc(=o)n1ccc[c@h]1c(=o)n[c@@h](cc1c[nh]c2ccccc12)c(=o)n1ccc[c@h]1c(n)=o-2',\n",
       " 'cc(=o)n1ccc[c@h]1c(=o)n[c@@h](cc1c[nh]c2ccccc12)c(=o)n1ccc[c@h]1c(n)=o-3',\n",
       " 'cc(=o)n1ccc[c@h]1c(=o)n[c@@h](cc1c[nh]c2ccccc12)c(=o)n1ccc[c@h]1c(n)=o-4',\n",
       " 'cc(=o)n1ccc[c@h]1c(=o)n[c@@h](cc1c[nh]c2ccccc12)c(=o)n1ccc[c@h]1c(n)=o-5',\n",
       " 'cc(=o)n[c@@h](cc1c[nh]c2ccccc12)c(=o)n1ccc[c@h]1c(=o)n[c@@h](cc1c[nh]cn1)c(n)=o-0',\n",
       " 'cc(=o)n[c@@h](cc1c[nh]c2ccccc12)c(=o)n1ccc[c@h]1c(=o)n[c@@h](cc1c[nh]cn1)c(n)=o-1',\n",
       " 'cc(=o)n[c@@h](cc1c[nh]c2ccccc12)c(=o)n1ccc[c@h]1c(=o)n[c@@h](cc1c[nh]cn1)c(n)=o-2',\n",
       " 'cc(=o)n[c@@h](cc1c[nh]c2ccccc12)c(=o)n1ccc[c@h]1c(=o)n[c@@h](cc1c[nh]cn1)c(n)=o-3',\n",
       " 'cc(=o)n[c@@h](cc1c[nh]c2ccccc12)c(=o)n1ccc[c@h]1c(=o)n[c@@h](cc1c[nh]cn1)c(n)=o-4',\n",
       " 'cc(=o)n[c@@h](cc1c[nh]c2ccccc12)c(=o)n1ccc[c@h]1c(=o)n[c@@h](cc1c[nh]cn1)c(n)=o-5',\n",
       " 'cc(=o)n[c@@h](cc1c[nh]c2ccccc12)c(=o)n1ccc[c@h]1c(=o)n[c@@h](cc1c[nh]cn1)c(n)=o-6',\n",
       " 'cc(=o)n[c@@h](ccc(n)=o)c(=o)n1ccc[c@h]1c(=o)n[c@@h](ccc(=o)o)c(n)=o-0',\n",
       " 'cc(=o)n[c@@h](ccc(n)=o)c(=o)n1ccc[c@h]1c(=o)n[c@@h](ccc(=o)o)c(n)=o-1',\n",
       " 'cc(=o)n[c@@h](ccc(n)=o)c(=o)n1ccc[c@h]1c(=o)n[c@@h](ccc(=o)o)c(n)=o-2',\n",
       " 'cc(=o)n[c@@h](ccc(n)=o)c(=o)n1ccc[c@h]1c(=o)n[c@@h](ccc(=o)o)c(n)=o-3',\n",
       " 'cc(=o)n[c@@h](cc1c[nh]c2ccccc12)c(=o)n[c@@h](cc1c[nh]cn1)c(=o)n[c@@h](ccc(n)=o)c(n)=o-0',\n",
       " 'cc(=o)n[c@@h](cc1c[nh]c2ccccc12)c(=o)n[c@@h](cc1c[nh]cn1)c(=o)n[c@@h](ccc(n)=o)c(n)=o-1',\n",
       " 'cc(=o)n[c@@h](cc1c[nh]c2ccccc12)c(=o)n[c@@h](cc1c[nh]cn1)c(=o)n[c@@h](ccc(n)=o)c(n)=o-2',\n",
       " 'cc(=o)n[c@@h](cc1c[nh]c2ccccc12)c(=o)n[c@@h](cc1c[nh]cn1)c(=o)n[c@@h](ccc(n)=o)c(n)=o-3',\n",
       " 'cc(=o)n[c@@h](cc1c[nh]c2ccccc12)c(=o)n[c@@h](cc1c[nh]cn1)c(=o)n[c@@h](ccc(n)=o)c(n)=o-4',\n",
       " 'cc(=o)n[c@@h](cc1c[nh]c2ccccc12)c(=o)n[c@@h](cc1c[nh]cn1)c(=o)n[c@@h](ccc(n)=o)c(n)=o-5',\n",
       " 'cscc[c@h](nc(=o)[c@h](cc(c)c)nc(c)=o)c(=o)n1ccc[c@h]1c(n)=o-0',\n",
       " 'cscc[c@h](nc(=o)[c@h](cc(c)c)nc(c)=o)c(=o)n1ccc[c@h]1c(n)=o-1',\n",
       " 'cscc[c@h](nc(=o)[c@h](cc(c)c)nc(c)=o)c(=o)n1ccc[c@h]1c(n)=o-2',\n",
       " 'cc(=o)n1ccc[c@h]1c(=o)n[c@@h](cc1ccc(o)cc1)c(=o)n[c@@h](ccc(=o)o)c(n)=o-0',\n",
       " 'cc(=o)n1ccc[c@h]1c(=o)n[c@@h](cc1ccc(o)cc1)c(=o)n[c@@h](ccc(=o)o)c(n)=o-1',\n",
       " 'cc(=o)n1ccc[c@h]1c(=o)n[c@@h](cc1ccc(o)cc1)c(=o)n[c@@h](ccc(=o)o)c(n)=o-2',\n",
       " 'cc(=o)n[c@@h](cc1c[nh]cn1)c(=o)n[c@@h](cc1ccc(o)cc1)c(=o)n[c@@h](cc1c[nh]cn1)c(n)=o-0',\n",
       " 'cc(=o)n[c@@h](cc1c[nh]cn1)c(=o)n[c@@h](cc1ccc(o)cc1)c(=o)n[c@@h](cc1c[nh]cn1)c(n)=o-1',\n",
       " 'cc(=o)n[c@@h](cc1c[nh]cn1)c(=o)n[c@@h](cc1ccc(o)cc1)c(=o)n[c@@h](cc1c[nh]cn1)c(n)=o-2',\n",
       " 'cc(=o)n[c@@h](cc1c[nh]cn1)c(=o)n[c@@h](cc1ccc(o)cc1)c(=o)n[c@@h](cc1c[nh]cn1)c(n)=o-3',\n",
       " 'cc(=o)n[c@@h](cc1c[nh]cn1)c(=o)n[c@@h](cc1ccc(o)cc1)c(=o)n[c@@h](cc1c[nh]cn1)c(n)=o-4',\n",
       " 'cc(=o)n[c@@h](cc1ccc(o)cc1)c(=o)n[c@@h](cc1ccc(o)cc1)c(=o)n[c@@h](cc1c[nh]cn1)c(n)=o-0',\n",
       " 'cc(=o)n[c@@h](cc1ccc(o)cc1)c(=o)n[c@@h](cc1ccc(o)cc1)c(=o)n[c@@h](cc1c[nh]cn1)c(n)=o-1',\n",
       " 'cc(=o)n[c@@h](cc1ccc(o)cc1)c(=o)n[c@@h](cc1ccc(o)cc1)c(=o)n[c@@h](cc1c[nh]cn1)c(n)=o-2',\n",
       " 'cc(=o)n[c@@h](cc1ccc(o)cc1)c(=o)n[c@@h](cc1ccc(o)cc1)c(=o)n[c@@h](cc1c[nh]cn1)c(n)=o-3',\n",
       " 'cc(=o)n[c@@h](cc1ccc(o)cc1)c(=o)n[c@@h](cc1ccc(o)cc1)c(=o)n[c@@h](cc1c[nh]cn1)c(n)=o-4',\n",
       " 'cc(=o)n[c@@h](cc1ccc(o)cc1)c(=o)n[c@@h](cc1ccc(o)cc1)c(=o)n[c@@h](cc1c[nh]cn1)c(n)=o-5',\n",
       " 'cc(=o)n[c@@h](cc1ccc(o)cc1)c(=o)n[c@@h](cc1ccc(o)cc1)c(=o)n[c@@h](cc1c[nh]cn1)c(n)=o-6',\n",
       " 'cc(=o)n[c@@h](cc1ccc(o)cc1)c(=o)n[c@@h](cc1c[nh]c2ccccc12)c(=o)n[c@@h](ccc(n)=o)c(n)=o-0',\n",
       " 'cc(=o)n[c@@h](cc1ccc(o)cc1)c(=o)n[c@@h](cc1c[nh]c2ccccc12)c(=o)n[c@@h](ccc(n)=o)c(n)=o-1',\n",
       " 'cc(=o)n[c@@h](cc1ccc(o)cc1)c(=o)n[c@@h](cc1c[nh]c2ccccc12)c(=o)n[c@@h](ccc(n)=o)c(n)=o-2',\n",
       " 'cc(=o)n[c@@h](cc1ccc(o)cc1)c(=o)n[c@@h](cc1c[nh]c2ccccc12)c(=o)n[c@@h](ccc(n)=o)c(n)=o-3',\n",
       " 'cc(=o)n[c@@h](cc1ccc(o)cc1)c(=o)n[c@@h](cc1c[nh]c2ccccc12)c(=o)n[c@@h](ccc(n)=o)c(n)=o-4',\n",
       " 'cc(=o)n[c@@h](cc1ccc(o)cc1)c(=o)n[c@@h](cc1c[nh]c2ccccc12)c(=o)n[c@@h](ccc(n)=o)c(n)=o-5',\n",
       " 'cc(=o)n[c@@h](cc1ccc(o)cc1)c(=o)n[c@@h](cc1c[nh]c2ccccc12)c(=o)n[c@@h](ccc(n)=o)c(n)=o-6',\n",
       " 'cc(=o)n[c@@h](cc(c)c)c(=o)n[c@@h](ccc(=o)o)c(=o)n[c@@h](ccc(n)=o)c(n)=o-0',\n",
       " 'cc(=o)n[c@@h](cc(c)c)c(=o)n[c@@h](ccc(=o)o)c(=o)n[c@@h](ccc(n)=o)c(n)=o-1',\n",
       " 'cc(=o)n[c@@h](cc(c)c)c(=o)n[c@@h](ccc(=o)o)c(=o)n[c@@h](ccc(n)=o)c(n)=o-2',\n",
       " 'cc(=o)n[c@@h](cc(c)c)c(=o)n[c@@h](ccc(=o)o)c(=o)n[c@@h](ccc(n)=o)c(n)=o-3',\n",
       " 'cc(=o)n[c@@h](cc1ccc(o)cc1)c(=o)n[c@@h](ccc(n)=o)c(=o)n[c@@h](ccc(n)=o)c(n)=o-0',\n",
       " 'cc(=o)n[c@@h](cc1ccc(o)cc1)c(=o)n[c@@h](ccc(n)=o)c(=o)n[c@@h](ccc(n)=o)c(n)=o-1',\n",
       " 'cc(=o)n[c@@h](cc1ccc(o)cc1)c(=o)n[c@@h](ccc(n)=o)c(=o)n[c@@h](ccc(n)=o)c(n)=o-2',\n",
       " 'cc(=o)n[c@@h](cc1ccc(o)cc1)c(=o)n[c@@h](ccc(n)=o)c(=o)n[c@@h](ccc(n)=o)c(n)=o-3',\n",
       " 'cscc[c@h](nc(=o)[c@@h]1cccn1c(=o)[c@h](cc1ccc(o)cc1)nc(c)=o)c(n)=o-0',\n",
       " 'cscc[c@h](nc(=o)[c@@h]1cccn1c(=o)[c@h](cc1ccc(o)cc1)nc(c)=o)c(n)=o-1',\n",
       " 'cscc[c@h](nc(=o)[c@@h]1cccn1c(=o)[c@h](cc1ccc(o)cc1)nc(c)=o)c(n)=o-2',\n",
       " 'cscc[c@h](nc(=o)[c@@h]1cccn1c(=o)[c@h](cc1ccc(o)cc1)nc(c)=o)c(n)=o-3',\n",
       " 'cscc[c@h](nc(=o)[c@@h]1cccn1c(=o)[c@h](cc1ccc(o)cc1)nc(c)=o)c(n)=o-4',\n",
       " 'cc(=o)n[c@@h](cc1c[nh]c2ccccc12)c(=o)n1ccc[c@h]1c(=o)n[c@@h](cc1ccc(o)cc1)c(n)=o-0',\n",
       " 'cc(=o)n[c@@h](cc1c[nh]c2ccccc12)c(=o)n1ccc[c@h]1c(=o)n[c@@h](cc1ccc(o)cc1)c(n)=o-1',\n",
       " 'cc(=o)n[c@@h](cc1c[nh]c2ccccc12)c(=o)n1ccc[c@h]1c(=o)n[c@@h](cc1ccc(o)cc1)c(n)=o-2',\n",
       " 'cc(=o)n[c@@h](cc1c[nh]c2ccccc12)c(=o)n1ccc[c@h]1c(=o)n[c@@h](cc1ccc(o)cc1)c(n)=o-3',\n",
       " 'cc(=o)n[c@@h](cc1c[nh]c2ccccc12)c(=o)n1ccc[c@h]1c(=o)n[c@@h](cc1ccc(o)cc1)c(n)=o-4',\n",
       " 'cc(=o)n[c@@h](cc1c[nh]c2ccccc12)c(=o)n1ccc[c@h]1c(=o)n[c@@h](cc1ccc(o)cc1)c(n)=o-5',\n",
       " 'cc(=o)n[c@@h](cc1c[nh]c2ccccc12)c(=o)n1ccc[c@h]1c(=o)n[c@@h](cc1ccc(o)cc1)c(n)=o-6',\n",
       " 'cc(=o)n[c@@h](cc1c[nh]c2ccccc12)c(=o)n1ccc[c@h]1c(=o)n[c@@h](cc1ccc(o)cc1)c(n)=o-7',\n",
       " 'cc(=o)n[c@@h](cc1c[nh]c2ccccc12)c(=o)n1ccc[c@h]1c(=o)n[c@@h](cc1ccc(o)cc1)c(n)=o-8',\n",
       " 'cscc[c@h](nc(c)=o)c(=o)n1ccc[c@h]1c(=o)n[c@@h](cc1c[nh]cn1)c(n)=o-0',\n",
       " 'cscc[c@h](nc(c)=o)c(=o)n1ccc[c@h]1c(=o)n[c@@h](cc1c[nh]cn1)c(n)=o-1',\n",
       " 'cscc[c@h](nc(c)=o)c(=o)n1ccc[c@h]1c(=o)n[c@@h](cc1c[nh]cn1)c(n)=o-2',\n",
       " 'cscc[c@h](nc(c)=o)c(=o)n1ccc[c@h]1c(=o)n[c@@h](cc1c[nh]cn1)c(n)=o-3',\n",
       " 'cc(=o)n[c@@h](ccc(n)=o)c(=o)n[c@@h](cc1c[nh]cn1)c(=o)n[c@@h](cc1c[nh]cn1)c(n)=o-0',\n",
       " 'cc(=o)n[c@@h](ccc(n)=o)c(=o)n[c@@h](cc1c[nh]cn1)c(=o)n[c@@h](cc1c[nh]cn1)c(n)=o-1',\n",
       " 'cc(=o)n[c@@h](ccc(n)=o)c(=o)n[c@@h](cc1c[nh]cn1)c(=o)n[c@@h](cc1c[nh]cn1)c(n)=o-2',\n",
       " 'cc(=o)n[c@@h](ccc(n)=o)c(=o)n[c@@h](cc1c[nh]cn1)c(=o)n[c@@h](cc1c[nh]cn1)c(n)=o-3',\n",
       " 'cscc[c@h](nc(=o)[c@h](cc(c)c)nc(c)=o)c(=o)n[c@@h](cc1c[nh]cn1)c(n)=o-0',\n",
       " 'cscc[c@h](nc(=o)[c@h](cc(c)c)nc(c)=o)c(=o)n[c@@h](cc1c[nh]cn1)c(n)=o-1',\n",
       " 'cscc[c@h](nc(=o)[c@h](cc(c)c)nc(c)=o)c(=o)n[c@@h](cc1c[nh]cn1)c(n)=o-2',\n",
       " 'cscc[c@h](nc(=o)[c@h](cc1c[nh]c2ccccc12)nc(=o)[c@h](ccc(n)=o)nc(c)=o)c(n)=o-0',\n",
       " 'cscc[c@h](nc(=o)[c@h](cc1c[nh]c2ccccc12)nc(=o)[c@h](ccc(n)=o)nc(c)=o)c(n)=o-1',\n",
       " 'cscc[c@h](nc(=o)[c@h](cc1c[nh]c2ccccc12)nc(=o)[c@h](ccc(n)=o)nc(c)=o)c(n)=o-2',\n",
       " 'cscc[c@h](nc(=o)[c@h](cc1c[nh]c2ccccc12)nc(=o)[c@h](ccc(n)=o)nc(c)=o)c(n)=o-3',\n",
       " 'cscc[c@h](nc(=o)[c@h](cc1c[nh]c2ccccc12)nc(=o)[c@h](ccc(n)=o)nc(c)=o)c(n)=o-4',\n",
       " 'cscc[c@h](nc(=o)[c@h](cc1c[nh]c2ccccc12)nc(=o)[c@h](ccc(n)=o)nc(c)=o)c(n)=o-5',\n",
       " 'cscc[c@h](nc(=o)[c@h](cc1c[nh]cn1)nc(=o)[c@@h]1cccn1c(c)=o)c(n)=o-0',\n",
       " 'cscc[c@h](nc(=o)[c@h](cc1c[nh]cn1)nc(=o)[c@@h]1cccn1c(c)=o)c(n)=o-1',\n",
       " 'cscc[c@h](nc(=o)[c@h](cc1c[nh]cn1)nc(=o)[c@@h]1cccn1c(c)=o)c(n)=o-2',\n",
       " 'cc(=o)n1ccc[c@h]1c(=o)n[c@@h](cc1ccc(o)cc1)c(=o)n[c@@h](ccc(n)=o)c(n)=o-0',\n",
       " 'cc(=o)n1ccc[c@h]1c(=o)n[c@@h](cc1ccc(o)cc1)c(=o)n[c@@h](ccc(n)=o)c(n)=o-1',\n",
       " 'cc(=o)n1ccc[c@h]1c(=o)n[c@@h](cc1ccc(o)cc1)c(=o)n[c@@h](ccc(n)=o)c(n)=o-2',\n",
       " 'cc(=o)n1ccc[c@h]1c(=o)n[c@@h](cc1ccc(o)cc1)c(=o)n[c@@h](ccc(n)=o)c(n)=o-3',\n",
       " 'cc(=o)n1ccc[c@h]1c(=o)n[c@@h](cc1ccc(o)cc1)c(=o)n[c@@h](ccc(n)=o)c(n)=o-4',\n",
       " 'cc(=o)n[c@@h](cc(c)c)c(=o)n[c@@h](cc1c[nh]cn1)c(=o)n[c@@h](cc(c)c)c(n)=o-0',\n",
       " 'cc(=o)n[c@@h](cc(c)c)c(=o)n[c@@h](cc1c[nh]cn1)c(=o)n[c@@h](cc(c)c)c(n)=o-1',\n",
       " 'cc(=o)n[c@@h](cc(c)c)c(=o)n[c@@h](cc1c[nh]cn1)c(=o)n[c@@h](cc(c)c)c(n)=o-2',\n",
       " 'cc(=o)n[c@@h](cc1c[nh]cn1)c(=o)n[c@@h](cc1c[nh]c2ccccc12)c(=o)n[c@@h](ccc(=o)o)c(n)=o-0',\n",
       " 'cc(=o)n[c@@h](cc1c[nh]cn1)c(=o)n[c@@h](cc1c[nh]c2ccccc12)c(=o)n[c@@h](ccc(=o)o)c(n)=o-1',\n",
       " 'cc(=o)n[c@@h](cc1c[nh]cn1)c(=o)n[c@@h](cc1c[nh]c2ccccc12)c(=o)n[c@@h](ccc(=o)o)c(n)=o-2',\n",
       " 'cc(=o)n[c@@h](cc1c[nh]cn1)c(=o)n[c@@h](cc1c[nh]c2ccccc12)c(=o)n[c@@h](ccc(=o)o)c(n)=o-3',\n",
       " 'cc(=o)n[c@@h](cc1c[nh]cn1)c(=o)n[c@@h](cc1c[nh]c2ccccc12)c(=o)n[c@@h](ccc(=o)o)c(n)=o-4',\n",
       " 'cc(=o)n1ccc[c@h]1c(=o)n[c@@h](cc1c[nh]c2ccccc12)c(=o)n[c@@h](cc1c[nh]cn1)c(n)=o-0',\n",
       " 'cc(=o)n1ccc[c@h]1c(=o)n[c@@h](cc1c[nh]c2ccccc12)c(=o)n[c@@h](cc1c[nh]cn1)c(n)=o-1',\n",
       " 'cc(=o)n1ccc[c@h]1c(=o)n[c@@h](cc1c[nh]c2ccccc12)c(=o)n[c@@h](cc1c[nh]cn1)c(n)=o-2',\n",
       " 'cc(=o)n1ccc[c@h]1c(=o)n[c@@h](cc1c[nh]c2ccccc12)c(=o)n[c@@h](cc1c[nh]cn1)c(n)=o-3',\n",
       " 'cc(=o)n1ccc[c@h]1c(=o)n[c@@h](cc1c[nh]c2ccccc12)c(=o)n[c@@h](cc1c[nh]cn1)c(n)=o-4',\n",
       " 'cc(=o)n1ccc[c@h]1c(=o)n[c@@h](cc1c[nh]c2ccccc12)c(=o)n[c@@h](cc1c[nh]cn1)c(n)=o-5',\n",
       " 'cc(=o)n1ccc[c@h]1c(=o)n[c@@h](ccc(n)=o)c(=o)n[c@@h](cc1c[nh]cn1)c(n)=o-0',\n",
       " 'cc(=o)n1ccc[c@h]1c(=o)n[c@@h](ccc(n)=o)c(=o)n[c@@h](cc1c[nh]cn1)c(n)=o-1',\n",
       " 'cc(=o)n[c@@h](cc(c)c)c(=o)n[c@@h](cc1c[nh]cn1)c(=o)n[c@@h](cc1c[nh]c2ccccc12)c(n)=o-0',\n",
       " 'cc(=o)n[c@@h](cc(c)c)c(=o)n[c@@h](cc1c[nh]cn1)c(=o)n[c@@h](cc1c[nh]c2ccccc12)c(n)=o-1',\n",
       " 'cc(=o)n[c@@h](cc(c)c)c(=o)n[c@@h](cc1c[nh]cn1)c(=o)n[c@@h](cc1c[nh]c2ccccc12)c(n)=o-2',\n",
       " 'cc(=o)n[c@@h](cc(c)c)c(=o)n[c@@h](cc1c[nh]cn1)c(=o)n[c@@h](cc1c[nh]c2ccccc12)c(n)=o-3',\n",
       " 'cc(=o)n[c@@h](cc(c)c)c(=o)n[c@@h](cc1c[nh]cn1)c(=o)n[c@@h](cc1c[nh]c2ccccc12)c(n)=o-4',\n",
       " 'cc(=o)n[c@@h](cc(c)c)c(=o)n[c@@h](cc1c[nh]cn1)c(=o)n[c@@h](cc1c[nh]c2ccccc12)c(n)=o-5',\n",
       " 'cc(=o)n[c@@h](cc(c)c)c(=o)n[c@@h](cc1c[nh]cn1)c(=o)n[c@@h](cc1c[nh]c2ccccc12)c(n)=o-6',\n",
       " 'cc(=o)n[c@@h](cc(c)c)c(=o)n[c@@h](cc1c[nh]cn1)c(=o)n[c@@h](cc1c[nh]c2ccccc12)c(n)=o-7',\n",
       " 'cc(=o)n[c@@h](cc1ccc(o)cc1)c(=o)n[c@@h](cc1c[nh]c2ccccc12)c(=o)n[c@@h](ccc(=o)o)c(n)=o-0',\n",
       " 'cc(=o)n[c@@h](cc1ccc(o)cc1)c(=o)n[c@@h](cc1c[nh]c2ccccc12)c(=o)n[c@@h](ccc(=o)o)c(n)=o-1',\n",
       " 'cc(=o)n[c@@h](cc1ccc(o)cc1)c(=o)n[c@@h](cc1c[nh]c2ccccc12)c(=o)n[c@@h](ccc(=o)o)c(n)=o-2',\n",
       " 'cc(=o)n[c@@h](cc1ccc(o)cc1)c(=o)n[c@@h](cc1c[nh]c2ccccc12)c(=o)n[c@@h](ccc(=o)o)c(n)=o-3',\n",
       " 'cc(=o)n[c@@h](cc1ccc(o)cc1)c(=o)n[c@@h](cc1c[nh]c2ccccc12)c(=o)n[c@@h](ccc(=o)o)c(n)=o-4',\n",
       " 'cc(=o)n[c@@h](cc1ccc(o)cc1)c(=o)n[c@@h](cc1c[nh]c2ccccc12)c(=o)n[c@@h](ccc(=o)o)c(n)=o-5',\n",
       " 'cc(=o)n[c@@h](cc1ccc(o)cc1)c(=o)n[c@@h](cc1c[nh]c2ccccc12)c(=o)n[c@@h](ccc(=o)o)c(n)=o-6',\n",
       " 'cc(=o)n[c@@h](cc1ccc(o)cc1)c(=o)n[c@@h](cc1c[nh]c2ccccc12)c(=o)n[c@@h](ccc(=o)o)c(n)=o-7',\n",
       " 'cc(=o)n[c@@h](cc(c)c)c(=o)n[c@@h](ccc(=o)o)c(=o)n[c@@h](ccc(=o)o)c(n)=o-0',\n",
       " 'cc(=o)n[c@@h](cc(c)c)c(=o)n[c@@h](ccc(=o)o)c(=o)n[c@@h](ccc(=o)o)c(n)=o-1',\n",
       " 'cc(=o)n[c@@h](cc(c)c)c(=o)n[c@@h](ccc(=o)o)c(=o)n[c@@h](ccc(=o)o)c(n)=o-2',\n",
       " 'cc(=o)n1ccc[c@h]1c(=o)n[c@@h](cc1c[nh]c2ccccc12)c(=o)n[c@@h](cc1ccc(o)cc1)c(n)=o-0',\n",
       " 'cc(=o)n1ccc[c@h]1c(=o)n[c@@h](cc1c[nh]c2ccccc12)c(=o)n[c@@h](cc1ccc(o)cc1)c(n)=o-1',\n",
       " 'cc(=o)n1ccc[c@h]1c(=o)n[c@@h](cc1c[nh]c2ccccc12)c(=o)n[c@@h](cc1ccc(o)cc1)c(n)=o-2',\n",
       " 'cc(=o)n1ccc[c@h]1c(=o)n[c@@h](cc1c[nh]c2ccccc12)c(=o)n[c@@h](cc1ccc(o)cc1)c(n)=o-3',\n",
       " 'cc(=o)n1ccc[c@h]1c(=o)n[c@@h](cc1c[nh]c2ccccc12)c(=o)n[c@@h](cc1ccc(o)cc1)c(n)=o-4',\n",
       " 'cc(=o)n1ccc[c@h]1c(=o)n[c@@h](cc1c[nh]c2ccccc12)c(=o)n[c@@h](cc1ccc(o)cc1)c(n)=o-5',\n",
       " 'cc(=o)n[c@@h](cc1c[nh]c2ccccc12)c(=o)n[c@@h](cc(c)c)c(=o)n[c@@h](ccc(n)=o)c(n)=o-0',\n",
       " 'cc(=o)n[c@@h](cc1c[nh]c2ccccc12)c(=o)n[c@@h](cc(c)c)c(=o)n[c@@h](ccc(n)=o)c(n)=o-1',\n",
       " 'cc(=o)n[c@@h](cc1c[nh]c2ccccc12)c(=o)n[c@@h](cc(c)c)c(=o)n[c@@h](ccc(n)=o)c(n)=o-2',\n",
       " 'cc(=o)n[c@@h](cc1c[nh]c2ccccc12)c(=o)n[c@@h](cc(c)c)c(=o)n[c@@h](ccc(n)=o)c(n)=o-3',\n",
       " 'cc(=o)n[c@@h](cc1c[nh]c2ccccc12)c(=o)n[c@@h](cc(c)c)c(=o)n[c@@h](ccc(n)=o)c(n)=o-4',\n",
       " 'cscc[c@h](nc(=o)[c@@h]1cccn1c(c)=o)c(=o)n[c@@h](ccc(n)=o)c(n)=o-0',\n",
       " 'cscc[c@h](nc(=o)[c@@h]1cccn1c(c)=o)c(=o)n[c@@h](ccc(n)=o)c(n)=o-1',\n",
       " 'cc(=o)n[c@@h](cc(c)c)c(=o)n[c@@h](cc1c[nh]c2ccccc12)c(=o)n[c@@h](ccc(n)=o)c(n)=o-0',\n",
       " 'cc(=o)n[c@@h](cc(c)c)c(=o)n[c@@h](cc1c[nh]c2ccccc12)c(=o)n[c@@h](ccc(n)=o)c(n)=o-1',\n",
       " ...]"
      ]
     },
     "execution_count": 36,
     "metadata": {},
     "output_type": "execute_result"
    }
   ],
   "source": [
    "record_names"
   ]
  },
  {
   "cell_type": "code",
   "execution_count": 37,
   "id": "c156276d-ffb5-4643-89a4-cc5fe539acbe",
   "metadata": {},
   "outputs": [],
   "source": [
    "#opt_record = openff_pepconf_opt.get_record(record_names[0], specification=\"default\")\n",
    "opt_record = openff_pepconf_opt.get_record(record_names[1], specification=\"default\")"
   ]
  },
  {
   "cell_type": "code",
   "execution_count": 38,
   "id": "763ba04b-4340-4bed-b5eb-bf11720e4caa",
   "metadata": {
    "scrolled": true,
    "tags": []
   },
   "outputs": [
    {
     "data": {
      "text/plain": [
       "{'id': '32883527',\n",
       " 'hash_index': None,\n",
       " 'procedure': 'single',\n",
       " 'program': 'psi4',\n",
       " 'version': 1,\n",
       " 'protocols': {},\n",
       " 'extras': {'qcvars': {'2-BODY DISPERSION CORRECTION ENERGY': -0.09519024,\n",
       "   'B3LYP-D3(BJ) DISPERSION CORRECTION ENERGY': -0.09519024,\n",
       "   'CURRENT DIPOLE X': 23.462968922379147,\n",
       "   'CURRENT DIPOLE Y': 2.9216668402302792,\n",
       "   'CURRENT DIPOLE Z': -3.9148612442004875,\n",
       "   'CURRENT ENERGY': -1162.3871098026964,\n",
       "   'CURRENT REFERENCE ENERGY': -1162.3871098026964,\n",
       "   'DFT FUNCTIONAL TOTAL ENERGY': -1162.2919195626966,\n",
       "   'DFT TOTAL ENERGY': -1162.3871098026966,\n",
       "   'DFT VV10 ENERGY': 0.0,\n",
       "   'DFT XC ENERGY': -127.59554580408235,\n",
       "   'DISPERSION CORRECTION ENERGY': -0.09519024,\n",
       "   'GRID ELECTRONS ALPHA': 88.9998592253157,\n",
       "   'GRID ELECTRONS BETA': 88.9998592253157,\n",
       "   'GRID ELECTRONS TOTAL': 177.9997184506314,\n",
       "   'NUCLEAR REPULSION ENERGY': 2138.2471899927477,\n",
       "   'ONE-ELECTRON ENERGY': -5855.27274150584,\n",
       "   'PCM POLARIZATION ENERGY': 0.0,\n",
       "   'PE ENERGY': 0.0,\n",
       "   'SCF DIPOLE X': 23.462968922379147,\n",
       "   'SCF DIPOLE Y': 2.9216668402302792,\n",
       "   'SCF DIPOLE Z': -3.9148612442004875,\n",
       "   'SCF ITERATION ENERGY': -1162.3871098026964,\n",
       "   'SCF ITERATIONS': 18.0,\n",
       "   'SCF QUADRUPOLE XX': -264.4084240215129,\n",
       "   'SCF QUADRUPOLE XY': -1.80513246357764,\n",
       "   'SCF QUADRUPOLE XZ': 45.00028351866764,\n",
       "   'SCF QUADRUPOLE YY': -123.98989076311547,\n",
       "   'SCF QUADRUPOLE YZ': 1.948755712536439,\n",
       "   'SCF QUADRUPOLE ZZ': -195.82483165152468,\n",
       "   'SCF TOTAL ENERGY': -1162.3871098026964,\n",
       "   'TWO-ELECTRON ENERGY': 2682.3291777544778,\n",
       "   'XC GRID RADIAL POINTS': 75.0,\n",
       "   'XC GRID SPHERICAL POINTS': 302.0,\n",
       "   'XC GRID TOTAL POINTS': 898696.0,\n",
       "   '-D GRADIENT': [-0.00026953483282128,\n",
       "    -0.00010344773718366,\n",
       "    -0.00070344441915791,\n",
       "    -0.0002503177823794,\n",
       "    0.00012528377875839,\n",
       "    0.00045887590019179,\n",
       "    -1.9150469303532e-05,\n",
       "    0.00034878138442281,\n",
       "    -0.00086976741653991,\n",
       "    -0.00017955798374878,\n",
       "    -6.3627475491873e-05,\n",
       "    -0.00094138979705576,\n",
       "    -0.00037435238808802,\n",
       "    -7.7102062326308e-05,\n",
       "    0.00021778553018973,\n",
       "    -0.00011376396460071,\n",
       "    -0.00068476472286072,\n",
       "    -0.00068982196229143,\n",
       "    -0.00051850682684104,\n",
       "    -2.4856735577198e-05,\n",
       "    0.00037515763022596,\n",
       "    9.083099049874e-05,\n",
       "    0.00089006101769828,\n",
       "    -0.00066495702683449,\n",
       "    -0.00064831731229903,\n",
       "    0.00027631109847911,\n",
       "    -0.00052986126535195,\n",
       "    0.00031093664980821,\n",
       "    -0.00031566085823878,\n",
       "    0.00012795655053037,\n",
       "    0.00047696310845959,\n",
       "    -0.00039452957678947,\n",
       "    8.2403967417178e-06,\n",
       "    0.00045227646840819,\n",
       "    -0.00053686983794236,\n",
       "    0.00044603242786869,\n",
       "    0.00073489780844606,\n",
       "    -0.00073602661980476,\n",
       "    0.00037716864243521,\n",
       "    0.00086436922241868,\n",
       "    -0.00056865472180227,\n",
       "    0.00068103246919298,\n",
       "    0.00067351294882786,\n",
       "    -0.00037133814913201,\n",
       "    0.00068153760311896,\n",
       "    0.00038310747069451,\n",
       "    0.00066957234966671,\n",
       "    -0.00055037205994755,\n",
       "    -0.00035715644687276,\n",
       "    0.00074987899859237,\n",
       "    -9.3475983353453e-05,\n",
       "    -3.6205965222404e-05,\n",
       "    -0.00030011503068706,\n",
       "    -0.00031939746111747,\n",
       "    -3.2776579752523e-05,\n",
       "    -0.0004884488401854,\n",
       "    -0.00028801206254955,\n",
       "    -0.00065568242695795,\n",
       "    4.0326659993562e-05,\n",
       "    0.00036454192872624,\n",
       "    0.00030198058114886,\n",
       "    0.00047533440960705,\n",
       "    0.00066052536656683,\n",
       "    -0.00044967351408345,\n",
       "    0.00021356724623239,\n",
       "    0.00026247209757657,\n",
       "    -0.00013589689308702,\n",
       "    0.0007560281403982,\n",
       "    6.0774213876466e-05,\n",
       "    -0.00028189115759397,\n",
       "    6.3290798237839e-05,\n",
       "    -0.00031028293319776,\n",
       "    0.00010528767112543,\n",
       "    -0.000280542834863,\n",
       "    -1.4774434854706e-05,\n",
       "    0.00026038347858412,\n",
       "    -0.00011531721064732,\n",
       "    -0.00015991749457293,\n",
       "    -1.9135026211893e-05,\n",
       "    -0.00026681988131297,\n",
       "    0.0002298267986059,\n",
       "    0.00048115562436188,\n",
       "    -0.00011736382012032,\n",
       "    -6.0547609803587e-05,\n",
       "    9.2031647707547e-05,\n",
       "    -0.00018047771901322,\n",
       "    0.00055502052406027,\n",
       "    0.00015502817625362,\n",
       "    0.00018943581079263,\n",
       "    -0.00020241855075934,\n",
       "    0.00032248456902569,\n",
       "    0.00035388717601209,\n",
       "    -0.00012658421065336,\n",
       "    -0.00026156930972176,\n",
       "    0.0003861399385236,\n",
       "    0.00011108112555913,\n",
       "    -4.6502817653771e-05,\n",
       "    -0.00039541059485745,\n",
       "    -2.7165797954907e-06,\n",
       "    -6.3724213933328e-05,\n",
       "    -0.00025109739339401,\n",
       "    -8.1904084049188e-05,\n",
       "    2.6542114090689e-05,\n",
       "    -0.00018201974725264,\n",
       "    -0.00014097287598207,\n",
       "    2.5634728438401e-05,\n",
       "    -0.00027996200477384,\n",
       "    -6.9027807739174e-05,\n",
       "    -0.00029941139805008,\n",
       "    -0.00017135057863546,\n",
       "    0.00017162135745834,\n",
       "    -0.00037685749158406,\n",
       "    8.1449412493499e-05,\n",
       "    -4.6570173711973e-05,\n",
       "    7.4111463136836e-05,\n",
       "    0.00025940951880245,\n",
       "    0.00043540509060307,\n",
       "    0.00022018471452607,\n",
       "    0.00028072357962425,\n",
       "    0.00030127500032102,\n",
       "    -0.00019158652792326,\n",
       "    0.00023993618339628,\n",
       "    0.00011953955745413,\n",
       "    -0.00018701367830328,\n",
       "    -1.3696218180575e-05,\n",
       "    0.00036459581602376,\n",
       "    -0.00012323447729656,\n",
       "    0.00038246506233342,\n",
       "    0.00013892391032409,\n",
       "    -0.00015989995163113,\n",
       "    0.00013761780700773,\n",
       "    -0.00028317372833219],\n",
       "   '2-BODY DISPERSION CORRECTION GRADIENT': [-0.00026953483282128,\n",
       "    -0.00010344773718366,\n",
       "    -0.00070344441915791,\n",
       "    -0.0002503177823794,\n",
       "    0.00012528377875839,\n",
       "    0.00045887590019179,\n",
       "    -1.9150469303532e-05,\n",
       "    0.00034878138442281,\n",
       "    -0.00086976741653991,\n",
       "    -0.00017955798374878,\n",
       "    -6.3627475491873e-05,\n",
       "    -0.00094138979705576,\n",
       "    -0.00037435238808802,\n",
       "    -7.7102062326308e-05,\n",
       "    0.00021778553018973,\n",
       "    -0.00011376396460071,\n",
       "    -0.00068476472286072,\n",
       "    -0.00068982196229143,\n",
       "    -0.00051850682684104,\n",
       "    -2.4856735577198e-05,\n",
       "    0.00037515763022596,\n",
       "    9.083099049874e-05,\n",
       "    0.00089006101769828,\n",
       "    -0.00066495702683449,\n",
       "    -0.00064831731229903,\n",
       "    0.00027631109847911,\n",
       "    -0.00052986126535195,\n",
       "    0.00031093664980821,\n",
       "    -0.00031566085823878,\n",
       "    0.00012795655053037,\n",
       "    0.00047696310845959,\n",
       "    -0.00039452957678947,\n",
       "    8.2403967417178e-06,\n",
       "    0.00045227646840819,\n",
       "    -0.00053686983794236,\n",
       "    0.00044603242786869,\n",
       "    0.00073489780844606,\n",
       "    -0.00073602661980476,\n",
       "    0.00037716864243521,\n",
       "    0.00086436922241868,\n",
       "    -0.00056865472180227,\n",
       "    0.00068103246919298,\n",
       "    0.00067351294882786,\n",
       "    -0.00037133814913201,\n",
       "    0.00068153760311896,\n",
       "    0.00038310747069451,\n",
       "    0.00066957234966671,\n",
       "    -0.00055037205994755,\n",
       "    -0.00035715644687276,\n",
       "    0.00074987899859237,\n",
       "    -9.3475983353453e-05,\n",
       "    -3.6205965222404e-05,\n",
       "    -0.00030011503068706,\n",
       "    -0.00031939746111747,\n",
       "    -3.2776579752523e-05,\n",
       "    -0.0004884488401854,\n",
       "    -0.00028801206254955,\n",
       "    -0.00065568242695795,\n",
       "    4.0326659993562e-05,\n",
       "    0.00036454192872624,\n",
       "    0.00030198058114886,\n",
       "    0.00047533440960705,\n",
       "    0.00066052536656683,\n",
       "    -0.00044967351408345,\n",
       "    0.00021356724623239,\n",
       "    0.00026247209757657,\n",
       "    -0.00013589689308702,\n",
       "    0.0007560281403982,\n",
       "    6.0774213876466e-05,\n",
       "    -0.00028189115759397,\n",
       "    6.3290798237839e-05,\n",
       "    -0.00031028293319776,\n",
       "    0.00010528767112543,\n",
       "    -0.000280542834863,\n",
       "    -1.4774434854706e-05,\n",
       "    0.00026038347858412,\n",
       "    -0.00011531721064732,\n",
       "    -0.00015991749457293,\n",
       "    -1.9135026211893e-05,\n",
       "    -0.00026681988131297,\n",
       "    0.0002298267986059,\n",
       "    0.00048115562436188,\n",
       "    -0.00011736382012032,\n",
       "    -6.0547609803587e-05,\n",
       "    9.2031647707547e-05,\n",
       "    -0.00018047771901322,\n",
       "    0.00055502052406027,\n",
       "    0.00015502817625362,\n",
       "    0.00018943581079263,\n",
       "    -0.00020241855075934,\n",
       "    0.00032248456902569,\n",
       "    0.00035388717601209,\n",
       "    -0.00012658421065336,\n",
       "    -0.00026156930972176,\n",
       "    0.0003861399385236,\n",
       "    0.00011108112555913,\n",
       "    -4.6502817653771e-05,\n",
       "    -0.00039541059485745,\n",
       "    -2.7165797954907e-06,\n",
       "    -6.3724213933328e-05,\n",
       "    -0.00025109739339401,\n",
       "    -8.1904084049188e-05,\n",
       "    2.6542114090689e-05,\n",
       "    -0.00018201974725264,\n",
       "    -0.00014097287598207,\n",
       "    2.5634728438401e-05,\n",
       "    -0.00027996200477384,\n",
       "    -6.9027807739174e-05,\n",
       "    -0.00029941139805008,\n",
       "    -0.00017135057863546,\n",
       "    0.00017162135745834,\n",
       "    -0.00037685749158406,\n",
       "    8.1449412493499e-05,\n",
       "    -4.6570173711973e-05,\n",
       "    7.4111463136836e-05,\n",
       "    0.00025940951880245,\n",
       "    0.00043540509060307,\n",
       "    0.00022018471452607,\n",
       "    0.00028072357962425,\n",
       "    0.00030127500032102,\n",
       "    -0.00019158652792326,\n",
       "    0.00023993618339628,\n",
       "    0.00011953955745413,\n",
       "    -0.00018701367830328,\n",
       "    -1.3696218180575e-05,\n",
       "    0.00036459581602376,\n",
       "    -0.00012323447729656,\n",
       "    0.00038246506233342,\n",
       "    0.00013892391032409,\n",
       "    -0.00015989995163113,\n",
       "    0.00013761780700773,\n",
       "    -0.00028317372833219],\n",
       "   'B3LYP-D3(BJ) DISPERSION CORRECTION GRADIENT': [-0.00026953483282128,\n",
       "    -0.00010344773718366,\n",
       "    -0.00070344441915791,\n",
       "    -0.0002503177823794,\n",
       "    0.00012528377875839,\n",
       "    0.00045887590019179,\n",
       "    -1.9150469303532e-05,\n",
       "    0.00034878138442281,\n",
       "    -0.00086976741653991,\n",
       "    -0.00017955798374878,\n",
       "    -6.3627475491873e-05,\n",
       "    -0.00094138979705576,\n",
       "    -0.00037435238808802,\n",
       "    -7.7102062326308e-05,\n",
       "    0.00021778553018973,\n",
       "    -0.00011376396460071,\n",
       "    -0.00068476472286072,\n",
       "    -0.00068982196229143,\n",
       "    -0.00051850682684104,\n",
       "    -2.4856735577198e-05,\n",
       "    0.00037515763022596,\n",
       "    9.083099049874e-05,\n",
       "    0.00089006101769828,\n",
       "    -0.00066495702683449,\n",
       "    -0.00064831731229903,\n",
       "    0.00027631109847911,\n",
       "    -0.00052986126535195,\n",
       "    0.00031093664980821,\n",
       "    -0.00031566085823878,\n",
       "    0.00012795655053037,\n",
       "    0.00047696310845959,\n",
       "    -0.00039452957678947,\n",
       "    8.2403967417178e-06,\n",
       "    0.00045227646840819,\n",
       "    -0.00053686983794236,\n",
       "    0.00044603242786869,\n",
       "    0.00073489780844606,\n",
       "    -0.00073602661980476,\n",
       "    0.00037716864243521,\n",
       "    0.00086436922241868,\n",
       "    -0.00056865472180227,\n",
       "    0.00068103246919298,\n",
       "    0.00067351294882786,\n",
       "    -0.00037133814913201,\n",
       "    0.00068153760311896,\n",
       "    0.00038310747069451,\n",
       "    0.00066957234966671,\n",
       "    -0.00055037205994755,\n",
       "    -0.00035715644687276,\n",
       "    0.00074987899859237,\n",
       "    -9.3475983353453e-05,\n",
       "    -3.6205965222404e-05,\n",
       "    -0.00030011503068706,\n",
       "    -0.00031939746111747,\n",
       "    -3.2776579752523e-05,\n",
       "    -0.0004884488401854,\n",
       "    -0.00028801206254955,\n",
       "    -0.00065568242695795,\n",
       "    4.0326659993562e-05,\n",
       "    0.00036454192872624,\n",
       "    0.00030198058114886,\n",
       "    0.00047533440960705,\n",
       "    0.00066052536656683,\n",
       "    -0.00044967351408345,\n",
       "    0.00021356724623239,\n",
       "    0.00026247209757657,\n",
       "    -0.00013589689308702,\n",
       "    0.0007560281403982,\n",
       "    6.0774213876466e-05,\n",
       "    -0.00028189115759397,\n",
       "    6.3290798237839e-05,\n",
       "    -0.00031028293319776,\n",
       "    0.00010528767112543,\n",
       "    -0.000280542834863,\n",
       "    -1.4774434854706e-05,\n",
       "    0.00026038347858412,\n",
       "    -0.00011531721064732,\n",
       "    -0.00015991749457293,\n",
       "    -1.9135026211893e-05,\n",
       "    -0.00026681988131297,\n",
       "    0.0002298267986059,\n",
       "    0.00048115562436188,\n",
       "    -0.00011736382012032,\n",
       "    -6.0547609803587e-05,\n",
       "    9.2031647707547e-05,\n",
       "    -0.00018047771901322,\n",
       "    0.00055502052406027,\n",
       "    0.00015502817625362,\n",
       "    0.00018943581079263,\n",
       "    -0.00020241855075934,\n",
       "    0.00032248456902569,\n",
       "    0.00035388717601209,\n",
       "    -0.00012658421065336,\n",
       "    -0.00026156930972176,\n",
       "    0.0003861399385236,\n",
       "    0.00011108112555913,\n",
       "    -4.6502817653771e-05,\n",
       "    -0.00039541059485745,\n",
       "    -2.7165797954907e-06,\n",
       "    -6.3724213933328e-05,\n",
       "    -0.00025109739339401,\n",
       "    -8.1904084049188e-05,\n",
       "    2.6542114090689e-05,\n",
       "    -0.00018201974725264,\n",
       "    -0.00014097287598207,\n",
       "    2.5634728438401e-05,\n",
       "    -0.00027996200477384,\n",
       "    -6.9027807739174e-05,\n",
       "    -0.00029941139805008,\n",
       "    -0.00017135057863546,\n",
       "    0.00017162135745834,\n",
       "    -0.00037685749158406,\n",
       "    8.1449412493499e-05,\n",
       "    -4.6570173711973e-05,\n",
       "    7.4111463136836e-05,\n",
       "    0.00025940951880245,\n",
       "    0.00043540509060307,\n",
       "    0.00022018471452607,\n",
       "    0.00028072357962425,\n",
       "    0.00030127500032102,\n",
       "    -0.00019158652792326,\n",
       "    0.00023993618339628,\n",
       "    0.00011953955745413,\n",
       "    -0.00018701367830328,\n",
       "    -1.3696218180575e-05,\n",
       "    0.00036459581602376,\n",
       "    -0.00012323447729656,\n",
       "    0.00038246506233342,\n",
       "    0.00013892391032409,\n",
       "    -0.00015989995163113,\n",
       "    0.00013761780700773,\n",
       "    -0.00028317372833219],\n",
       "   'CURRENT DIPOLE': [9.23104226422194,\n",
       "    1.1494721820313742,\n",
       "    -1.5402249273454167],\n",
       "   'CURRENT GRADIENT': [-0.013475697976353293,\n",
       "    0.01028038660535382,\n",
       "    -0.020300922289486305,\n",
       "    -0.014638805423516772,\n",
       "    -0.004594620294010176,\n",
       "    0.008501082816208105,\n",
       "    -0.0026730047753359093,\n",
       "    -0.027021723120678087,\n",
       "    -0.00938480187463062,\n",
       "    0.02982289069069457,\n",
       "    -0.03231329442927349,\n",
       "    -0.04330555849491013,\n",
       "    -0.08105121091772148,\n",
       "    -0.02462556457188045,\n",
       "    0.0368954016535774,\n",
       "    0.01579763381438008,\n",
       "    -0.05415603246845557,\n",
       "    0.014732905583182496,\n",
       "    0.10932019826269415,\n",
       "    0.026701901549285204,\n",
       "    -0.07112177646228217,\n",
       "    -0.0311014196674914,\n",
       "    -0.0014462855999790073,\n",
       "    0.05860469291854788,\n",
       "    -0.07722914619480792,\n",
       "    0.03428467122545321,\n",
       "    0.055054261019831865,\n",
       "    -0.012547021537151705,\n",
       "    0.012187865017129347,\n",
       "    0.010240965676541966,\n",
       "    -0.002390820084024951,\n",
       "    -0.007119121673679453,\n",
       "    0.002763054059340508,\n",
       "    0.018291495879620395,\n",
       "    0.019571044133804023,\n",
       "    -0.015341688293238127,\n",
       "    -0.02629314886332583,\n",
       "    -0.011888746339706418,\n",
       "    0.019642088713775204,\n",
       "    0.02239486382067225,\n",
       "    -0.023576678385409753,\n",
       "    -0.01878305108834149,\n",
       "    -0.0021315024465229557,\n",
       "    0.02212366988473266,\n",
       "    -0.00636536932823089,\n",
       "    0.01558495391857608,\n",
       "    0.0023654012016797376,\n",
       "    -0.011792600996161796,\n",
       "    0.05749996791096369,\n",
       "    -0.00013358423066159406,\n",
       "    -0.01275105602644028,\n",
       "    0.002164057043804973,\n",
       "    0.03603652581046569,\n",
       "    0.011612151577216713,\n",
       "    -0.02320788284823813,\n",
       "    0.015859154446825844,\n",
       "    -0.03738469699618946,\n",
       "    -0.015982311535773997,\n",
       "    0.0069336497127681085,\n",
       "    0.003574755381178555,\n",
       "    -0.01837239621510184,\n",
       "    -0.012492960166459495,\n",
       "    -0.051744329955579774,\n",
       "    0.035686164488086515,\n",
       "    -0.012880054860408476,\n",
       "    0.0013179414554142703,\n",
       "    0.023796188068110544,\n",
       "    -0.03793692270168881,\n",
       "    -0.010723174199811078,\n",
       "    0.02039937839365737,\n",
       "    -0.008279737196653881,\n",
       "    0.007088760720360907,\n",
       "    0.0019020915384801872,\n",
       "    -0.0022743956911972438,\n",
       "    -0.0014727529187682944,\n",
       "    -0.003937909851005672,\n",
       "    -0.00036604691433926313,\n",
       "    0.003521182231561646,\n",
       "    -0.0014838511289955267,\n",
       "    -0.006964539434403687,\n",
       "    0.0014430972039539492,\n",
       "    0.0030424845544446562,\n",
       "    0.007686282055218132,\n",
       "    -0.00196846162539124,\n",
       "    -0.004509936618951993,\n",
       "    0.008905405863090509,\n",
       "    0.0031719911093917993,\n",
       "    0.0015547245208118966,\n",
       "    0.015368078669247928,\n",
       "    -0.01826815967091525,\n",
       "    0.010877742493209932,\n",
       "    -0.006189471540764484,\n",
       "    0.01595908083581461,\n",
       "    -0.03718925490945551,\n",
       "    0.016718304394250365,\n",
       "    0.022636342587851646,\n",
       "    0.01088070462943774,\n",
       "    -0.015117757995169036,\n",
       "    0.018865802589796712,\n",
       "    -0.009319503383396403,\n",
       "    -0.0037791610488696124,\n",
       "    0.007053073573578418,\n",
       "    0.00832746842081682,\n",
       "    -0.0034519442044978195,\n",
       "    -0.0012915733368397014,\n",
       "    0.010775866057209897,\n",
       "    0.005357413508803958,\n",
       "    0.009836898997927952,\n",
       "    0.011543032216518588,\n",
       "    -0.012178367252720507,\n",
       "    0.0010070521880634125,\n",
       "    -0.00292294887440886,\n",
       "    0.008951998919724067,\n",
       "    0.0009107704038878709,\n",
       "    -0.00837942973980546,\n",
       "    0.0068726453809330726,\n",
       "    0.019606706229307453,\n",
       "    0.004797307533930687,\n",
       "    0.004083270976158503,\n",
       "    0.0004336157262660202,\n",
       "    -0.012106158473024478,\n",
       "    0.016835341930552153,\n",
       "    -0.0011354213855878836,\n",
       "    0.0008897770669406501,\n",
       "    -0.0008179969033854409,\n",
       "    -0.0006096696695333088,\n",
       "    -0.0029992907665475324,\n",
       "    0.023618265848673277,\n",
       "    0.011112607063591542,\n",
       "    -0.01131656151674643,\n",
       "    0.009047725496133743,\n",
       "    -0.01171239175987223],\n",
       "   'DFT TOTAL GRADIENT': [-0.013475697976353293,\n",
       "    0.01028038660535382,\n",
       "    -0.020300922289486305,\n",
       "    -0.014638805423516772,\n",
       "    -0.004594620294010176,\n",
       "    0.008501082816208105,\n",
       "    -0.0026730047753359093,\n",
       "    -0.027021723120678087,\n",
       "    -0.00938480187463062,\n",
       "    0.02982289069069457,\n",
       "    -0.03231329442927349,\n",
       "    -0.04330555849491013,\n",
       "    -0.08105121091772148,\n",
       "    -0.02462556457188045,\n",
       "    0.0368954016535774,\n",
       "    0.01579763381438008,\n",
       "    -0.05415603246845557,\n",
       "    0.014732905583182496,\n",
       "    0.10932019826269415,\n",
       "    0.026701901549285204,\n",
       "    -0.07112177646228217,\n",
       "    -0.0311014196674914,\n",
       "    -0.0014462855999790073,\n",
       "    0.05860469291854788,\n",
       "    -0.07722914619480792,\n",
       "    0.03428467122545321,\n",
       "    0.055054261019831865,\n",
       "    -0.012547021537151705,\n",
       "    0.012187865017129347,\n",
       "    0.010240965676541966,\n",
       "    -0.002390820084024951,\n",
       "    -0.007119121673679453,\n",
       "    0.002763054059340508,\n",
       "    0.018291495879620395,\n",
       "    0.019571044133804023,\n",
       "    -0.015341688293238127,\n",
       "    -0.02629314886332583,\n",
       "    -0.011888746339706418,\n",
       "    0.019642088713775204,\n",
       "    0.02239486382067225,\n",
       "    -0.023576678385409753,\n",
       "    -0.01878305108834149,\n",
       "    -0.0021315024465229557,\n",
       "    0.02212366988473266,\n",
       "    -0.00636536932823089,\n",
       "    0.01558495391857608,\n",
       "    0.0023654012016797376,\n",
       "    -0.011792600996161796,\n",
       "    0.05749996791096369,\n",
       "    -0.00013358423066159406,\n",
       "    -0.01275105602644028,\n",
       "    0.002164057043804973,\n",
       "    0.03603652581046569,\n",
       "    0.011612151577216713,\n",
       "    -0.02320788284823813,\n",
       "    0.015859154446825844,\n",
       "    -0.03738469699618946,\n",
       "    -0.015982311535773997,\n",
       "    0.0069336497127681085,\n",
       "    0.003574755381178555,\n",
       "    -0.01837239621510184,\n",
       "    -0.012492960166459495,\n",
       "    -0.051744329955579774,\n",
       "    0.035686164488086515,\n",
       "    -0.012880054860408476,\n",
       "    0.0013179414554142703,\n",
       "    0.023796188068110544,\n",
       "    -0.03793692270168881,\n",
       "    -0.010723174199811078,\n",
       "    0.02039937839365737,\n",
       "    -0.008279737196653881,\n",
       "    0.007088760720360907,\n",
       "    0.0019020915384801872,\n",
       "    -0.0022743956911972438,\n",
       "    -0.0014727529187682944,\n",
       "    -0.003937909851005672,\n",
       "    -0.00036604691433926313,\n",
       "    0.003521182231561646,\n",
       "    -0.0014838511289955267,\n",
       "    -0.006964539434403687,\n",
       "    0.0014430972039539492,\n",
       "    0.0030424845544446562,\n",
       "    0.007686282055218132,\n",
       "    -0.00196846162539124,\n",
       "    -0.004509936618951993,\n",
       "    0.008905405863090509,\n",
       "    0.0031719911093917993,\n",
       "    0.0015547245208118966,\n",
       "    0.015368078669247928,\n",
       "    -0.01826815967091525,\n",
       "    0.010877742493209932,\n",
       "    -0.006189471540764484,\n",
       "    0.01595908083581461,\n",
       "    -0.03718925490945551,\n",
       "    0.016718304394250365,\n",
       "    0.022636342587851646,\n",
       "    0.01088070462943774,\n",
       "    -0.015117757995169036,\n",
       "    0.018865802589796712,\n",
       "    -0.009319503383396403,\n",
       "    -0.0037791610488696124,\n",
       "    0.007053073573578418,\n",
       "    0.00832746842081682,\n",
       "    -0.0034519442044978195,\n",
       "    -0.0012915733368397014,\n",
       "    0.010775866057209897,\n",
       "    0.005357413508803958,\n",
       "    0.009836898997927952,\n",
       "    0.011543032216518588,\n",
       "    -0.012178367252720507,\n",
       "    0.0010070521880634125,\n",
       "    -0.00292294887440886,\n",
       "    0.008951998919724067,\n",
       "    0.0009107704038878709,\n",
       "    -0.00837942973980546,\n",
       "    0.0068726453809330726,\n",
       "    0.019606706229307453,\n",
       "    0.004797307533930687,\n",
       "    0.004083270976158503,\n",
       "    0.0004336157262660202,\n",
       "    -0.012106158473024478,\n",
       "    0.016835341930552153,\n",
       "    -0.0011354213855878836,\n",
       "    0.0008897770669406501,\n",
       "    -0.0008179969033854409,\n",
       "    -0.0006096696695333088,\n",
       "    -0.0029992907665475324,\n",
       "    0.023618265848673277,\n",
       "    0.011112607063591542,\n",
       "    -0.01131656151674643,\n",
       "    0.009047725496133743,\n",
       "    -0.01171239175987223],\n",
       "   'DISPERSION CORRECTION GRADIENT': [-0.00026953483282128,\n",
       "    -0.00010344773718366,\n",
       "    -0.00070344441915791,\n",
       "    -0.0002503177823794,\n",
       "    0.00012528377875839,\n",
       "    0.00045887590019179,\n",
       "    -1.9150469303532e-05,\n",
       "    0.00034878138442281,\n",
       "    -0.00086976741653991,\n",
       "    -0.00017955798374878,\n",
       "    -6.3627475491873e-05,\n",
       "    -0.00094138979705576,\n",
       "    -0.00037435238808802,\n",
       "    -7.7102062326308e-05,\n",
       "    0.00021778553018973,\n",
       "    -0.00011376396460071,\n",
       "    -0.00068476472286072,\n",
       "    -0.00068982196229143,\n",
       "    -0.00051850682684104,\n",
       "    -2.4856735577198e-05,\n",
       "    0.00037515763022596,\n",
       "    9.083099049874e-05,\n",
       "    0.00089006101769828,\n",
       "    -0.00066495702683449,\n",
       "    -0.00064831731229903,\n",
       "    0.00027631109847911,\n",
       "    -0.00052986126535195,\n",
       "    0.00031093664980821,\n",
       "    -0.00031566085823878,\n",
       "    0.00012795655053037,\n",
       "    0.00047696310845959,\n",
       "    -0.00039452957678947,\n",
       "    8.2403967417178e-06,\n",
       "    0.00045227646840819,\n",
       "    -0.00053686983794236,\n",
       "    0.00044603242786869,\n",
       "    0.00073489780844606,\n",
       "    -0.00073602661980476,\n",
       "    0.00037716864243521,\n",
       "    0.00086436922241868,\n",
       "    -0.00056865472180227,\n",
       "    0.00068103246919298,\n",
       "    0.00067351294882786,\n",
       "    -0.00037133814913201,\n",
       "    0.00068153760311896,\n",
       "    0.00038310747069451,\n",
       "    0.00066957234966671,\n",
       "    -0.00055037205994755,\n",
       "    -0.00035715644687276,\n",
       "    0.00074987899859237,\n",
       "    -9.3475983353453e-05,\n",
       "    -3.6205965222404e-05,\n",
       "    -0.00030011503068706,\n",
       "    -0.00031939746111747,\n",
       "    -3.2776579752523e-05,\n",
       "    -0.0004884488401854,\n",
       "    -0.00028801206254955,\n",
       "    -0.00065568242695795,\n",
       "    4.0326659993562e-05,\n",
       "    0.00036454192872624,\n",
       "    0.00030198058114886,\n",
       "    0.00047533440960705,\n",
       "    0.00066052536656683,\n",
       "    -0.00044967351408345,\n",
       "    0.00021356724623239,\n",
       "    0.00026247209757657,\n",
       "    -0.00013589689308702,\n",
       "    0.0007560281403982,\n",
       "    6.0774213876466e-05,\n",
       "    -0.00028189115759397,\n",
       "    6.3290798237839e-05,\n",
       "    -0.00031028293319776,\n",
       "    0.00010528767112543,\n",
       "    -0.000280542834863,\n",
       "    -1.4774434854706e-05,\n",
       "    0.00026038347858412,\n",
       "    -0.00011531721064732,\n",
       "    -0.00015991749457293,\n",
       "    -1.9135026211893e-05,\n",
       "    -0.00026681988131297,\n",
       "    0.0002298267986059,\n",
       "    0.00048115562436188,\n",
       "    -0.00011736382012032,\n",
       "    -6.0547609803587e-05,\n",
       "    9.2031647707547e-05,\n",
       "    -0.00018047771901322,\n",
       "    0.00055502052406027,\n",
       "    0.00015502817625362,\n",
       "    0.00018943581079263,\n",
       "    -0.00020241855075934,\n",
       "    0.00032248456902569,\n",
       "    0.00035388717601209,\n",
       "    -0.00012658421065336,\n",
       "    -0.00026156930972176,\n",
       "    0.0003861399385236,\n",
       "    0.00011108112555913,\n",
       "    -4.6502817653771e-05,\n",
       "    -0.00039541059485745,\n",
       "    -2.7165797954907e-06,\n",
       "    -6.3724213933328e-05,\n",
       "    -0.00025109739339401,\n",
       "    -8.1904084049188e-05,\n",
       "    2.6542114090689e-05,\n",
       "    -0.00018201974725264,\n",
       "    -0.00014097287598207,\n",
       "    2.5634728438401e-05,\n",
       "    -0.00027996200477384,\n",
       "    -6.9027807739174e-05,\n",
       "    -0.00029941139805008,\n",
       "    -0.00017135057863546,\n",
       "    0.00017162135745834,\n",
       "    -0.00037685749158406,\n",
       "    8.1449412493499e-05,\n",
       "    -4.6570173711973e-05,\n",
       "    7.4111463136836e-05,\n",
       "    0.00025940951880245,\n",
       "    0.00043540509060307,\n",
       "    0.00022018471452607,\n",
       "    0.00028072357962425,\n",
       "    0.00030127500032102,\n",
       "    -0.00019158652792326,\n",
       "    0.00023993618339628,\n",
       "    0.00011953955745413,\n",
       "    -0.00018701367830328,\n",
       "    -1.3696218180575e-05,\n",
       "    0.00036459581602376,\n",
       "    -0.00012323447729656,\n",
       "    0.00038246506233342,\n",
       "    0.00013892391032409,\n",
       "    -0.00015989995163113,\n",
       "    0.00013761780700773,\n",
       "    -0.00028317372833219],\n",
       "   'MAYER_INDICES': [0.0,\n",
       "    0.00037259338858911645,\n",
       "    -3.869597196968017e-06,\n",
       "    0.0020050817070996537,\n",
       "    6.389410714732326e-05,\n",
       "    1.9173978839445478,\n",
       "    -0.00011883712244020172,\n",
       "    8.054219457452801e-06,\n",
       "    0.0018491879995689454,\n",
       "    5.2679582410578425e-05,\n",
       "    2.070136325039485e-05,\n",
       "    0.00017741159862873053,\n",
       "    2.9745897944312914e-05,\n",
       "    0.00010802104729277472,\n",
       "    4.6036349066432536e-05,\n",
       "    2.486127903323728e-06,\n",
       "    0.0007761294659886759,\n",
       "    0.09764714171359624,\n",
       "    -0.001795372036346371,\n",
       "    0.001135238453002219,\n",
       "    4.3385985764604085e-05,\n",
       "    0.004449611990322118,\n",
       "    0.0001468809540652295,\n",
       "    0.007890093401811559,\n",
       "    -1.197329974331648e-06,\n",
       "    -6.724893409495499e-07,\n",
       "    -2.798668222993957e-05,\n",
       "    -1.3484553581909756e-07,\n",
       "    -1.0285666015644091e-05,\n",
       "    -3.789316551337374e-07,\n",
       "    1.1509933361641506e-06,\n",
       "    7.367488629420067e-06,\n",
       "    0.01174053677088056,\n",
       "    0.005719070018933045,\n",
       "    0.003945810674021978,\n",
       "    0.013089432093161985,\n",
       "    -0.00017178909994602364,\n",
       "    0.0010113864317165305,\n",
       "    -2.042747447396242e-06,\n",
       "    3.313304351938026e-05,\n",
       "    0.001288831718853496,\n",
       "    0.00011071648757397414,\n",
       "    6.572202147952923e-05,\n",
       "    0.03358319862632858,\n",
       "    0.00037259338858911645,\n",
       "    0.0,\n",
       "    -7.713913854136743e-06,\n",
       "    0.0002097644974504908,\n",
       "    0.10827473862648046,\n",
       "    -0.00015231735827585507,\n",
       "    1.7625423527948523,\n",
       "    5.92110988921929e-07,\n",
       "    -0.0003479048412002454,\n",
       "    1.0446296912453479e-05,\n",
       "    -7.900932139677256e-07,\n",
       "    -5.221545230271993e-05,\n",
       "    -2.2614702626935214e-07,\n",
       "    2.1569387703070812e-05,\n",
       "    -2.754818131680258e-06,\n",
       "    -7.618918294816263e-07,\n",
       "    -0.0003226291626959719,\n",
       "    -6.1692561807115e-05,\n",
       "    7.188896007056748e-05,\n",
       "    0.011896745744217722,\n",
       "    -6.167621096716413e-06,\n",
       "    0.09554357221807092,\n",
       "    -4.607959016520653e-05,\n",
       "    0.008671908481439224,\n",
       "    -3.4903883466070477e-07,\n",
       "    3.7839660457282145e-07,\n",
       "    -1.2173276714277526e-06,\n",
       "    2.741527567427066e-06,\n",
       "    1.788047093361233e-05,\n",
       "    -1.1016814211510118e-06,\n",
       "    6.419912326299333e-07,\n",
       "    7.623134525574417e-05,\n",
       "    3.959181646331032e-05,\n",
       "    0.00013613183051309398,\n",
       "    1.308857495086648e-05,\n",
       "    -6.13416542244021e-08,\n",
       "    0.010590800573240789,\n",
       "    0.009110855938458864,\n",
       "    -3.4961962210627196e-06,\n",
       "    1.2680837557119816e-05,\n",
       "    0.002929264449523698,\n",
       "    -0.0018556337647535862,\n",
       "    3.547605333815576e-06,\n",
       "    0.0004888861691025865,\n",
       "    -3.869597196968017e-06,\n",
       "    -7.713913854136743e-06,\n",
       "    0.0,\n",
       "    -0.008587485615885656,\n",
       "    -3.775540096420698e-06,\n",
       "    0.00019970796585289845,\n",
       "    1.4366078349475512e-06,\n",
       "    2.049111683615211,\n",
       "    0.016019184593273856,\n",
       "    0.00020351464544577776,\n",
       "    -0.00038327299481717686,\n",
       "    0.0001986564978633975,\n",
       "    -0.0005399505185663709,\n",
       "    0.0006652464720388195,\n",
       "    0.003244718242594359,\n",
       "    0.07065128997255066,\n",
       "    0.004888362896672009,\n",
       "    -3.119074690308222e-05,\n",
       "    -1.6992104641875947e-05,\n",
       "    6.446614023201699e-05,\n",
       "    0.008171850145967885,\n",
       "    0.00018593011734942998,\n",
       "    0.009757198062562795,\n",
       "    0.002414987589550104,\n",
       "    -2.3825599816216483e-07,\n",
       "    2.3330125349383446e-05,\n",
       "    3.307043884052274e-06,\n",
       "    0.00014184910878830935,\n",
       "    5.6853114224960503e-05,\n",
       "    0.009948239630034019,\n",
       "    0.020919842416977363,\n",
       "    -0.00020522239252713083,\n",
       "    5.919630366916743e-06,\n",
       "    1.0048846532337288e-06,\n",
       "    4.103296968114437e-06,\n",
       "    2.0079540738577706e-06,\n",
       "    -5.423116003163662e-06,\n",
       "    8.476274182459334e-06,\n",
       "    0.002173765137961683,\n",
       "    0.0002878531110934876,\n",
       "    2.2234155011374367e-05,\n",
       "    4.8531765640155923e-05,\n",
       "    0.014462144651017564,\n",
       "    0.0004564467594504836,\n",
       "    0.0020050817070996537,\n",
       "    0.0002097644974504908,\n",
       "    -0.008587485615885656,\n",
       "    0.0,\n",
       "    0.0005426784694288384,\n",
       "    0.007331580582252116,\n",
       "    0.0005203616677636784,\n",
       "    -0.0026778156328549785,\n",
       "    1.8729729161257624,\n",
       "    0.0030798446461597403,\n",
       "    0.0010671868023638612,\n",
       "    -0.0011276109161791233,\n",
       "    -0.006237085463915257,\n",
       "    -0.005849562568797256,\n",
       "    0.021816493299316626,\n",
       "    0.000239315131244093,\n",
       "    0.08772913724460821,\n",
       "    -0.005150223382609805,\n",
       "    0.00020693028577229954,\n",
       "    0.0014072869590293668,\n",
       "    -0.0055813459137408405,\n",
       "    0.005504161919429154,\n",
       "    0.03833181197430457,\n",
       "    0.0088839167234801,\n",
       "    2.0408770474162733e-05,\n",
       "    1.879109959267824e-05,\n",
       "    3.850003936877936e-05,\n",
       "    -0.001057825389283458,\n",
       "    -0.00020600501996998965,\n",
       "    0.0001781395351997844,\n",
       "    0.0008174408604449978,\n",
       "    0.01890552439932965,\n",
       "    0.003862538592147354,\n",
       "    2.784770183895398e-07,\n",
       "    9.62713518644657e-05,\n",
       "    9.508309634210165e-05,\n",
       "    7.508983729205853e-05,\n",
       "    0.00010076406143240762,\n",
       "    0.00014014023569059136,\n",
       "    0.002327518483146672,\n",
       "    0.00011048519314758824,\n",
       "    0.0006091297637526363,\n",
       "    0.0022944600601152057,\n",
       "    0.012382615435803497,\n",
       "    6.389410714732326e-05,\n",
       "    0.10827473862648046,\n",
       "    -3.775540096420698e-06,\n",
       "    0.0005426784694288384,\n",
       "    0.0,\n",
       "    0.00026190570004719507,\n",
       "    1.6937883097831887,\n",
       "    -3.904391642633261e-06,\n",
       "    0.00036116901901513967,\n",
       "    3.2452321630949174e-06,\n",
       "    1.2701008981663567e-05,\n",
       "    2.0307244705871964e-05,\n",
       "    -6.326612401074903e-08,\n",
       "    -0.00011703651853205794,\n",
       "    5.2025695408322626e-05,\n",
       "    7.469794829482671e-06,\n",
       "    0.0001796485099274208,\n",
       "    0.0002196927004188455,\n",
       "    -6.687525960851889e-05,\n",
       "    0.06907723316874301,\n",
       "    1.9725965027437977e-05,\n",
       "    0.007049955995970184,\n",
       "    4.858125590601451e-05,\n",
       "    0.0021230485673402336,\n",
       "    -7.038403467622897e-08,\n",
       "    -1.1381187629655366e-08,\n",
       "    -2.44193320232615e-06,\n",
       "    -4.3930722813441885e-06,\n",
       "    5.947153328739293e-05,\n",
       "    8.101895311247316e-06,\n",
       "    2.155070062260161e-06,\n",
       "    7.009829891862582e-05,\n",
       "    4.3233286647249656e-05,\n",
       "    -4.497501831905246e-06,\n",
       "    4.693990248370766e-06,\n",
       "    -1.0844263464224534e-05,\n",
       "    0.0010483501452084017,\n",
       "    0.0007702317009934516,\n",
       "    -5.172574666606397e-06,\n",
       "    1.660452204414338e-05,\n",
       "    -0.00020714176443792243,\n",
       "    -0.0015399875416853234,\n",
       "    -2.167650008133917e-06,\n",
       "    0.0013625675639457487,\n",
       "    1.9173978839445478,\n",
       "    -0.00015231735827585507,\n",
       "    0.00019970796585289845,\n",
       "    0.007331580582252116,\n",
       "    0.00026190570004719507,\n",
       "    0.0,\n",
       "    0.0004218674700359746,\n",
       "    -3.5856920256108022e-06,\n",
       "    0.0038289362376082554,\n",
       "    -3.5134873491515046e-05,\n",
       "    1.4862498526846304e-05,\n",
       "    7.18913761830025e-05,\n",
       "    -7.314146076997373e-05,\n",
       "    0.00014147582274057774,\n",
       "    -1.4118992685027035e-05,\n",
       "    -2.0913269437804212e-05,\n",
       "    0.00016219419653411537,\n",
       "    1.2281932216376374,\n",
       "    0.9649776263212652,\n",
       "    0.0002666895751231799,\n",
       "    2.4193558385753854e-06,\n",
       "    0.004951941926041701,\n",
       "    0.0004813131430766762,\n",
       "    0.00033447911596957443,\n",
       "    8.792139143466773e-06,\n",
       "    -1.8306415993794767e-09,\n",
       "    1.51595034641701e-06,\n",
       "    1.3330503015401553e-05,\n",
       "    -1.2891999040889533e-05,\n",
       "    -3.5975160137758917e-06,\n",
       "    3.868903762131452e-06,\n",
       "    0.00013684921376825096,\n",
       "    -0.002483593370065232,\n",
       "    -0.009280056217386923,\n",
       "    -0.012907561336787155,\n",
       "    -0.017969957558334235,\n",
       "    -0.00016403700909098644,\n",
       "    -6.12520569123891e-05,\n",
       "    -2.7440928290741122e-05,\n",
       "    7.855339753594875e-06,\n",
       "    0.0015375847411600479,\n",
       "    0.00019257620728054767,\n",
       "    7.448545836263659e-05,\n",
       "    -0.0051154732530600535,\n",
       "    -0.00011883712244020172,\n",
       "    1.7625423527948523,\n",
       "    1.4366078349475512e-06,\n",
       "    0.0005203616677636784,\n",
       "    1.6937883097831887,\n",
       "    0.0004218674700359746,\n",
       "    0.0,\n",
       "    7.613242296128547e-06,\n",
       "    0.001182995545655554,\n",
       "    -5.841998035137067e-06,\n",
       "    6.205023470243324e-08,\n",
       "    5.20720294795743e-05,\n",
       "    -2.2186143449158585e-05,\n",
       "    -4.040033703398603e-05,\n",
       "    4.367836706845402e-05,\n",
       "    -1.513615781709495e-06,\n",
       "    -4.9370714881071125e-05,\n",
       "    0.00033995345721925713,\n",
       "    -4.8758213074534473e-05,\n",
       "    0.9943428199501179,\n",
       "    1.328705526318611e-06,\n",
       "    -0.02700318481623909,\n",
       "    0.00010483234770329251,\n",
       "    0.004003896163449948,\n",
       "    3.0319632598540644e-07,\n",
       "    6.807723078039339e-08,\n",
       "    -2.727110013554156e-07,\n",
       "    -3.1300594329040888e-06,\n",
       "    -8.995353928766575e-06,\n",
       "    2.1679554462672272e-06,\n",
       "    1.6469303205913039e-06,\n",
       "    2.0358678492453417e-05,\n",
       "    3.5016772502090906e-05,\n",
       "    -1.3325140553599613e-05,\n",
       "    1.907764252932798e-06,\n",
       "    1.0379912614011572e-07,\n",
       "    -0.009756766033084157,\n",
       "    -0.010911855144562452,\n",
       "    -7.960981653816391e-07,\n",
       "    5.8307617114742434e-06,\n",
       "    0.0022843023497760868,\n",
       "    0.001944777947394773,\n",
       "    1.348731423825533e-06,\n",
       "    9.546192479854934e-05,\n",
       "    8.054219457452801e-06,\n",
       "    5.92110988921929e-07,\n",
       "    2.049111683615211,\n",
       "    -0.0026778156328549785,\n",
       "    -3.904391642633261e-06,\n",
       "    -3.5856920256108022e-06,\n",
       "    7.613242296128547e-06,\n",
       "    0.0,\n",
       "    -0.008010323702131289,\n",
       "    0.0001270397403864312,\n",
       "    0.000926638836819966,\n",
       "    0.0002690804943205419,\n",
       "    0.0008216515015814808,\n",
       "    0.0008903218398159837,\n",
       "    -0.0070945041686130165,\n",
       "    1.047641108256861,\n",
       "    0.0003366400747727927,\n",
       "    3.248024552242771e-05,\n",
       "    -6.404075888965872e-06,\n",
       "    0.0001935342952406118,\n",
       "    -0.009288446060116903,\n",
       "    0.0013651660147081443,\n",
       "    0.9953321720955846,\n",
       "    -0.0008088745558274692,\n",
       "    6.789995187271291e-07,\n",
       "    2.3284341893539578e-05,\n",
       "    -9.801525384162099e-06,\n",
       "    -0.0005844007156541205,\n",
       "    0.0002211467146935994,\n",
       "    0.0013757943120037486,\n",
       "    -0.004819629871913517,\n",
       "    0.004975735756946127,\n",
       "    -2.019156985414203e-06,\n",
       "    1.0019580230389544e-06,\n",
       "    3.2993608931736363e-06,\n",
       "    1.7500319129841116e-06,\n",
       "    -3.095940267144845e-05,\n",
       "    2.1759950558227565e-05,\n",
       "    0.006370207679740151,\n",
       "    -0.0037832017179500487,\n",
       "    -6.281777961391744e-05,\n",
       "    -0.00016849039957740096,\n",
       "    -0.010524764452693838,\n",
       "    -1.1960867390170995e-05,\n",
       "    0.0018491879995689454,\n",
       "    -0.0003479048412002454,\n",
       "    0.016019184593273856,\n",
       "    1.8729729161257624,\n",
       "    0.00036116901901513967,\n",
       "    0.0038289362376082554,\n",
       "    0.001182995545655554,\n",
       "    -0.008010323702131289,\n",
       "    0.0,\n",
       "    0.0005136684542514186,\n",
       "    0.00047823658540871987,\n",
       "    -0.0013084051821195472,\n",
       "    -0.0035838798560980396,\n",
       "    -0.00022095009962006123,\n",
       "    0.0011095083494505793,\n",
       "    -0.0002665404766914327,\n",
       "    1.1587580584612953,\n",
       "    -0.008801067728819617,\n",
       "    0.0016125086097604868,\n",
       "    0.0051935572706595795,\n",
       "    -0.003721731897197568,\n",
       "    -0.01926526157276492,\n",
       "    -0.0016463305240643985,\n",
       "    0.99777366803106,\n",
       "    -1.786434317549836e-05,\n",
       "    -5.503615489286794e-06,\n",
       "    -4.442746703554098e-05,\n",
       "    -0.00010474863803464558,\n",
       "    -0.00031324141969634817,\n",
       "    9.200407790026898e-05,\n",
       "    7.228255980476629e-05,\n",
       "    -0.0112611837430398,\n",
       "    -0.00033311331103088584,\n",
       "    0.0001663457178817167,\n",
       "    0.00038935646016569336,\n",
       "    9.565915276168881e-05,\n",
       "    0.000322528869814377,\n",
       "    0.00021294753940430484,\n",
       "    -0.00043960153155275973,\n",
       "    0.00019999501920177037,\n",
       "    -0.004881818208115561,\n",
       "    -0.003511955581253897,\n",
       "    0.007523951768043435,\n",
       "    -0.02072223765847137,\n",
       "    5.2679582410578425e-05,\n",
       "    1.0446296912453479e-05,\n",
       "    0.00020351464544577776,\n",
       "    0.0030798446461597403,\n",
       "    3.2452321630949174e-06,\n",
       "    -3.5134873491515046e-05,\n",
       "    -5.841998035137067e-06,\n",
       "    0.0001270397403864312,\n",
       "    0.0005136684542514186,\n",
       "    0.0,\n",
       "    1.4628152871972586,\n",
       "    1.4431557942435649,\n",
       "    0.015189044962912034,\n",
       "    0.024851379025799123,\n",
       "    0.048848811466347467,\n",
       "    -7.413002770249203e-05,\n",
       "    0.0002885731239909002,\n",
       "    0.0002677501948328455,\n",
       "    1.872080743140783e-05,\n",
       "    -1.3395243262676956e-05,\n",
       "    0.00600151292029962,\n",
       "    -2.836711733747631e-05,\n",
       "    0.0025655683455415813,\n",
       "    0.0002068301592572442,\n",
       "    0.8991873221913206,\n",
       "    -0.015865418140247823,\n",
       "    -0.01879485167725442,\n",
       "    0.008173113315583177,\n",
       "    0.00883970273526883,\n",
       "    -1.409279534397559e-05,\n",
       "    -7.4760071155845075e-06,\n",
       "    -1.5390388401330327e-05,\n",
       "    -9.31861435024917e-06,\n",
       "    6.280092187183324e-06,\n",
       "    -5.430476755673592e-06,\n",
       "    8.08707720960759e-05,\n",
       "    1.6207041206562522e-06,\n",
       "    -2.228587251111628e-06,\n",
       "    0.00043712775120098764,\n",
       "    0.0016993131728119102,\n",
       "    -8.851101908657354e-06,\n",
       "    5.770856061321064e-05,\n",
       "    0.0012475373958672617,\n",
       "    -1.8866626392301672e-06,\n",
       "    2.070136325039485e-05,\n",
       "    -7.900932139677256e-07,\n",
       "    -0.00038327299481717686,\n",
       "    0.0010671868023638612,\n",
       "    1.2701008981663567e-05,\n",
       "    1.4862498526846304e-05,\n",
       "    6.205023470243324e-08,\n",
       "    0.000926638836819966,\n",
       "    0.00047823658540871987,\n",
       "    1.4628152871972586,\n",
       "    0.0,\n",
       "    0.010025196845856182,\n",
       "    1.4845808493204211,\n",
       "    0.07809392189171221,\n",
       "    0.028371196471545786,\n",
       "    5.7954093864440784e-05,\n",
       "    0.00032650145505417103,\n",
       "    0.00014203226665967112,\n",
       "    7.581378525792468e-06,\n",
       "    1.1676358894966444e-05,\n",
       "    0.006255908850483397,\n",
       "    0.00025477860931235534,\n",
       "    -0.0008608241097009404,\n",
       "    1.1103055242657474e-05,\n",
       "    -0.013056091457924378,\n",
       "    0.900777328246797,\n",
       "    0.007197948072202648,\n",
       "    -0.008865792837332576,\n",
       "    -0.00016952730686883516,\n",
       "    2.6138543704408792e-05,\n",
       "    7.587114022705725e-05,\n",
       "    -3.451863310753435e-05,\n",
       "    0.0001391869090069381,\n",
       "    -2.8166518565421607e-07,\n",
       "    9.400012103664794e-07,\n",
       "    1.0223586418605571e-05,\n",
       "    -2.772608298046803e-06,\n",
       "    1.1466543585319047e-05,\n",
       "    0.00211787486006945,\n",
       "    -9.412109253044896e-05,\n",
       "    1.8777357666691043e-06,\n",
       "    -1.783689633369293e-06,\n",
       "    9.964230467162321e-05,\n",
       "    -2.3002709233420024e-05,\n",
       "    0.00017741159862873053,\n",
       "    -5.221545230271993e-05,\n",
       "    0.0001986564978633975,\n",
       "    -0.0011276109161791233,\n",
       "    2.0307244705871964e-05,\n",
       "    7.18913761830025e-05,\n",
       "    5.20720294795743e-05,\n",
       "    0.0002690804943205419,\n",
       "    -0.0013084051821195472,\n",
       "    1.4431557942435649,\n",
       "    0.010025196845856182,\n",
       "    0.0,\n",
       "    0.07466794979629449,\n",
       "    1.4818851582357726,\n",
       "    0.03637167121859677,\n",
       "    -5.576119505781133e-05,\n",
       "    0.00033727839198380424,\n",
       "    0.0011606022089540853,\n",
       "    3.5058451693857436e-05,\n",
       "    7.4556108270255955e-06,\n",
       "    0.005444633791508855,\n",
       "    0.0004716089259317827,\n",
       "    0.00016602104533252777,\n",
       "    -0.0006191898524835504,\n",
       "    -0.013620561098894358,\n",
       "    0.0061898961764567904,\n",
       "    0.8990975369924858,\n",
       "    8.955556509441494e-06,\n",
       "    -0.014842430543943757,\n",
       "    2.1606862475287355e-05,\n",
       "    0.00013776409526573531,\n",
       "    -2.1982384887081154e-05,\n",
       "    0.0021458013796558165,\n",
       "    5.055325012329872e-07,\n",
       "    5.175059073371205e-06,\n",
       "    9.351534556243376e-05,\n",
       "    -2.3027152467749827e-06,\n",
       "    4.222450751688019e-05,\n",
       "    0.0007595223340391945,\n",
       "    0.0012952925981968507,\n",
       "    8.343254132339758e-05,\n",
       "    -2.7900877122868932e-05,\n",
       "    0.00034901059035491813,\n",
       "    -9.73875928044747e-05,\n",
       "    2.9745897944312914e-05,\n",
       "    -2.2614702626935214e-07,\n",
       "    -0.0005399505185663709,\n",
       "    -0.006237085463915257,\n",
       "    -6.326612401074903e-08,\n",
       "    -7.314146076997373e-05,\n",
       "    -2.2186143449158585e-05,\n",
       "    0.0008216515015814808,\n",
       "    -0.0035838798560980396,\n",
       "    0.015189044962912034,\n",
       "    1.4845808493204211,\n",
       "    0.07466794979629449,\n",
       "    0.0,\n",
       "    0.01704478575166077,\n",
       "    1.4120039581355064,\n",
       "    0.0061339593806497535,\n",
       "    0.0005695581301100588,\n",
       "    -5.8928892971139736e-05,\n",
       "    4.439882221321735e-06,\n",
       "    1.706343150736941e-05,\n",
       "    0.0242960326558113,\n",
       "    -0.0003780887613994286,\n",
       "    -0.0005587216135891655,\n",
       "    -0.0003659610972644213,\n",
       "    0.006961434588063174,\n",
       "    -0.01268495445204206,\n",
       "    0.00021178005368628687,\n",
       "    0.9055310089519952,\n",
       "    0.008984326988461184,\n",
       "    5.560153460086782e-05,\n",
       "    0.0013619527914616322,\n",
       "    -1.9898812498804783e-06,\n",
       "    0.0001953920081815419,\n",
       "    2.7414877689947314e-07,\n",
       "    -3.8140754704591937e-07,\n",
       "    9.568542295652105e-06,\n",
       "    1.1996945798568026e-05,\n",
       "    4.636741449649804e-06,\n",
       "    0.008629282206343784,\n",
       "    0.002462123045047789,\n",
       "    6.102679889960949e-05,\n",
       "    4.23087764333015e-05,\n",
       "    0.002170156298053132,\n",
       "    9.08942789897714e-05,\n",
       "    0.00010802104729277472,\n",
       "    2.1569387703070812e-05,\n",
       "    0.0006652464720388195,\n",
       "    -0.005849562568797256,\n",
       "    -0.00011703651853205794,\n",
       "    0.00014147582274057774,\n",
       "    -4.040033703398603e-05,\n",
       "    0.0008903218398159837,\n",
       "    -0.00022095009962006123,\n",
       "    0.024851379025799123,\n",
       "    0.07809392189171221,\n",
       "    1.4818851582357726,\n",
       "    0.01704478575166077,\n",
       "    0.0,\n",
       "    1.419220465809974,\n",
       "    0.0005163511317040428,\n",
       "    0.006579042688989688,\n",
       "    0.0008794331329868715,\n",
       "    -2.013454906317941e-05,\n",
       "    2.8476766171563128e-06,\n",
       "    0.03272875784614011,\n",
       "    0.0007389491693036599,\n",
       "    0.00022616702005513162,\n",
       "    -0.001996590084867649,\n",
       "    0.007041794477750481,\n",
       "    0.0001737199283686835,\n",
       "    -0.012889144125418266,\n",
       "    0.009164226606106277,\n",
       "    0.8872128327256558,\n",
       "    1.9490291790299667e-05,\n",
       "    0.000493069369992017,\n",
       "    0.00013970816025946572,\n",
       "    0.00017225572776871713,\n",
       "    1.0563547110455127e-06,\n",
       "    3.4578120970744617e-06,\n",
       "    3.912831645646455e-05,\n",
       "    2.9627089337308618e-05,\n",
       "    1.92792311405298e-05,\n",
       "    0.006222747305998218,\n",
       "    0.008460057334413344,\n",
       "    4.394619341418248e-06,\n",
       "    0.0015891102853065147,\n",
       "    0.0016504075981462261,\n",
       "    0.00028898671295670916,\n",
       "    4.6036349066432536e-05,\n",
       "    -2.754818131680258e-06,\n",
       "    0.003244718242594359,\n",
       "    0.021816493299316626,\n",
       "    5.2025695408322626e-05,\n",
       "    -1.4118992685027035e-05,\n",
       "    4.367836706845402e-05,\n",
       "    -0.0070945041686130165,\n",
       "    0.0011095083494505793,\n",
       "    0.048848811466347467,\n",
       "    0.028371196471545786,\n",
       "    0.03637167121859677,\n",
       "    1.4120039581355064,\n",
       "    1.419220465809974,\n",
       "    0.0,\n",
       "    -0.006661743508408491,\n",
       "    -0.0045754126745878405,\n",
       "    0.0002428647601009408,\n",
       "    -1.2535923675414083e-06,\n",
       "    3.8101975831760856e-05,\n",
       "    0.9108209180302017,\n",
       "    0.0005533272754068909,\n",
       "    -0.01535576373861781,\n",
       "    -0.0007091273289588375,\n",
       "    -0.00035351195792826783,\n",
       "    0.006120413936519232,\n",
       "    0.007081605031921199,\n",
       "    -0.03139993890042197,\n",
       "    -0.024873829049448026,\n",
       "    0.00011334631919138969,\n",
       "    -0.0007357367173652478,\n",
       "    0.000423614721309482,\n",
       "    0.0001911840248279719,\n",
       "    -9.10639484426867e-07,\n",
       "    3.5543117765173863e-07,\n",
       "    7.712735915791018e-06,\n",
       "    -3.665201473750402e-05,\n",
       "    1.0312054823986378e-06,\n",
       "    -0.028544215695308288,\n",
       "    -0.0293396898115456,\n",
       "    -5.239416747131641e-05,\n",
       "    0.00026307946372830927,\n",
       "    0.007386245988254237,\n",
       "    -2.867125896070206e-05,\n",
       "    2.486127903323728e-06,\n",
       "    -7.618918294816263e-07,\n",
       "    0.07065128997255066,\n",
       "    0.000239315131244093,\n",
       "    7.469794829482671e-06,\n",
       "    -2.0913269437804212e-05,\n",
       "    -1.513615781709495e-06,\n",
       "    1.047641108256861,\n",
       "    -0.0002665404766914327,\n",
       "    -7.413002770249203e-05,\n",
       "    5.7954093864440784e-05,\n",
       "    -5.576119505781133e-05,\n",
       "    0.0061339593806497535,\n",
       "    0.0005163511317040428,\n",
       "    -0.006661743508408491,\n",
       "    0.0,\n",
       "    0.003705103665165166,\n",
       "    9.450878329767614e-06,\n",
       "    -2.372289733779853e-07,\n",
       "    1.6114159359571422e-05,\n",
       "    0.021757333260877285,\n",
       "    0.00011617088592819184,\n",
       "    0.02194831616210704,\n",
       "    3.15261804572472e-05,\n",
       "    4.3093930058979825e-05,\n",
       "    4.092291234738578e-05,\n",
       "    -5.445211924435979e-06,\n",
       "    0.0037162716725545855,\n",
       "    -5.527871236672503e-05,\n",
       "    0.8248361142339128,\n",
       "    0.8079954010327273,\n",
       "    0.000558784566634261,\n",
       "    3.473457228293241e-06,\n",
       "    -1.7422227240156092e-07,\n",
       "    8.13810622134574e-07,\n",
       "    -9.465573626848959e-07,\n",
       "    1.8575291236309213e-05,\n",
       "    -1.1266572853355101e-05,\n",
       "    0.002303989712253986,\n",
       "    0.003542115261241168,\n",
       "    -1.0737157909288895e-05,\n",
       "    -3.4219654000970804e-06,\n",
       "    0.0006632320477141911,\n",
       "    -1.5795470820191482e-06,\n",
       "    0.0007761294659886759,\n",
       "    -0.0003226291626959719,\n",
       "    0.004888362896672009,\n",
       "    0.08772913724460821,\n",
       "    0.0001796485099274208,\n",
       "    0.00016219419653411537,\n",
       "    -4.9370714881071125e-05,\n",
       "    0.0003366400747727927,\n",
       "    1.1587580584612953,\n",
       "    0.0002885731239909002,\n",
       "    0.00032650145505417103,\n",
       "    0.00033727839198380424,\n",
       "    0.0005695581301100588,\n",
       "    0.006579042688989688,\n",
       "    -0.0045754126745878405,\n",
       "    0.003705103665165166,\n",
       "    0.0,\n",
       "    0.0048126278708738035,\n",
       "    7.653629700568788e-05,\n",
       "    0.001851150489861995,\n",
       "    -0.02425210425340576,\n",
       "    0.006050870421382756,\n",
       "    0.992706031698561,\n",
       "    0.01847218396984959,\n",
       "    -7.802343975317878e-07,\n",
       "    1.429682048898553e-05,\n",
       "    -3.176322793984087e-05,\n",
       "    -7.993606774779079e-05,\n",
       "    0.001606947024811644,\n",
       "    0.0014087232321141855,\n",
       "    0.00043810960490593806,\n",
       "    0.7833671434784988,\n",
       "    0.00017624715870220004,\n",
       "    -1.2626920561485653e-05,\n",
       "    8.964553830365424e-05,\n",
       "    7.7242224792771e-06,\n",
       "    0.0003557245162907057,\n",
       "    3.292418934482933e-05,\n",
       "    -6.567538533654881e-05,\n",
       "    0.007047861981006527,\n",
       "    -0.0008781953232277313,\n",
       "    0.0016303679106160884,\n",
       "    -0.013735883183120029,\n",
       "    0.004274004367057466,\n",
       "    0.09764714171359624,\n",
       "    -6.1692561807115e-05,\n",
       "    -3.119074690308222e-05,\n",
       "    -0.005150223382609805,\n",
       "    0.0002196927004188455,\n",
       "    1.2281932216376374,\n",
       "    0.00033995345721925713,\n",
       "    3.248024552242771e-05,\n",
       "    -0.008801067728819617,\n",
       "    0.0002677501948328455,\n",
       "    0.00014203226665967112,\n",
       "    0.0011606022089540853,\n",
       "    -5.8928892971139736e-05,\n",
       "    0.0008794331329868715,\n",
       "    0.0002428647601009408,\n",
       "    9.450878329767614e-06,\n",
       "    0.0048126278708738035,\n",
       "    0.0,\n",
       "    0.012365988712654786,\n",
       "    -0.0048901624223651186,\n",
       "    0.0002513527379048304,\n",
       "    -0.01120395478776768,\n",
       "    0.0010193054059903673,\n",
       "    0.9649078966837124,\n",
       "    1.0226694669014132e-05,\n",
       "    -1.2417814188430416e-06,\n",
       "    8.028771457262276e-06,\n",
       "    1.337525481756783e-05,\n",
       "    -6.62531229871888e-05,\n",
       "    -2.7051114919214452e-06,\n",
       "    3.5596762952912252e-06,\n",
       "    0.00018569563018118397,\n",
       "    0.812745866006277,\n",
       "    0.006798948893370567,\n",
       "    0.007689349367418844,\n",
       "    0.003936295757791212,\n",
       "    0.009379360635875186,\n",
       "    0.0003320771872239646,\n",
       "    -4.09464642416207e-05,\n",
       "    6.62215912733144e-05,\n",
       "    0.006379673529281306,\n",
       "    -0.0014852902527638175,\n",
       "    0.0001569535282802741,\n",
       "    -0.008147710927061078,\n",
       "    -0.001795372036346371,\n",
       "    7.188896007056748e-05,\n",
       "    -1.6992104641875947e-05,\n",
       "    0.00020693028577229954,\n",
       "    -6.687525960851889e-05,\n",
       "    0.9649776263212652,\n",
       "    -4.8758213074534473e-05,\n",
       "    -6.404075888965872e-06,\n",
       "    0.0016125086097604868,\n",
       "    1.872080743140783e-05,\n",
       "    7.581378525792468e-06,\n",
       "    3.5058451693857436e-05,\n",
       "    4.439882221321735e-06,\n",
       "    -2.013454906317941e-05,\n",
       "    -1.2535923675414083e-06,\n",
       "    -2.372289733779853e-07,\n",
       "    7.653629700568788e-05,\n",
       "    0.012365988712654786,\n",
       "    0.0,\n",
       "    0.0002733671817832268,\n",
       "    1.8734295565362994e-05,\n",
       "    0.0006417206425297182,\n",
       "    6.216968992675451e-05,\n",
       "    0.0019222401112385969,\n",
       "    8.801857261074835e-07,\n",
       "    8.533926737626523e-07,\n",
       "    -4.1232167948402765e-06,\n",
       "    -3.6132586640872935e-07,\n",
       "    1.736952108499916e-06,\n",
       "    -2.897257420683404e-07,\n",
       "    -8.450442015411238e-07,\n",
       "    2.2873031811171254e-05,\n",
       "    0.003591119381102797,\n",
       "    0.9206236371412856,\n",
       "    0.9267022087363526,\n",
       "    0.937969525372868,\n",
       "    0.0002234457733778543,\n",
       "    4.313793401100788e-05,\n",
       "    2.907308180937025e-07,\n",
       "    9.146697846500015e-06,\n",
       "    0.0003824668157176067,\n",
       "    1.2947945836336642e-05,\n",
       "    5.86733050946826e-06,\n",
       "    0.003921685811527608,\n",
       "    0.001135238453002219,\n",
       "    0.011896745744217722,\n",
       "    6.446614023201699e-05,\n",
       "    0.0014072869590293668,\n",
       "    0.06907723316874301,\n",
       "    0.0002666895751231799,\n",
       "    0.9943428199501179,\n",
       "    0.0001935342952406118,\n",
       "    0.0051935572706595795,\n",
       "    -1.3395243262676956e-05,\n",
       "    1.1676358894966444e-05,\n",
       "    7.4556108270255955e-06,\n",
       "    1.706343150736941e-05,\n",
       "    2.8476766171563128e-06,\n",
       "    3.8101975831760856e-05,\n",
       "    1.6114159359571422e-05,\n",
       "    0.001851150489861995,\n",
       "    -0.0048901624223651186,\n",
       "    0.0002733671817832268,\n",
       "    0.0,\n",
       "    4.861543103419451e-05,\n",
       "    0.986662693138566,\n",
       "    0.00038868656228697746,\n",
       "    -0.025275368545040908,\n",
       "    -2.4238229532674127e-06,\n",
       "    -1.312447806767393e-07,\n",
       "    1.1305718372797798e-05,\n",
       "    -1.2184765635947033e-05,\n",
       "    9.96010293924161e-05,\n",
       "    4.8587698403907565e-06,\n",
       "    -4.6243188982362256e-07,\n",
       "    0.00207542876775484,\n",
       "    0.00040040654902567124,\n",
       "    0.00013573453495717972,\n",
       "    -6.0431598355655806e-05,\n",
       "    2.7400464295242127e-05,\n",
       "    0.9271204087820714,\n",
       "    0.9190871493528376,\n",
       "    2.3699675050833255e-06,\n",
       "    7.2163496736376895e-06,\n",
       "    -0.0193652048488419,\n",
       "    -0.011224866969397682,\n",
       "    4.23019120027255e-05,\n",
       "    0.0036893074389845533,\n",
       "    4.3385985764604085e-05,\n",
       "    -6.167621096716413e-06,\n",
       "    0.008171850145967885,\n",
       "    -0.0055813459137408405,\n",
       "    1.9725965027437977e-05,\n",
       "    2.4193558385753854e-06,\n",
       "    1.328705526318611e-06,\n",
       "    -0.009288446060116903,\n",
       "    -0.003721731897197568,\n",
       "    0.00600151292029962,\n",
       "    0.006255908850483397,\n",
       "    0.005444633791508855,\n",
       "    0.0242960326558113,\n",
       "    0.03272875784614011,\n",
       "    0.9108209180302017,\n",
       "    0.021757333260877285,\n",
       "    -0.02425210425340576,\n",
       "    0.0002513527379048304,\n",
       "    1.8734295565362994e-05,\n",
       "    4.861543103419451e-05,\n",
       "    0.0,\n",
       "    -0.0002324704209449412,\n",
       "    0.946344512881144,\n",
       "    0.0015170518910310419,\n",
       "    0.000187231714478534,\n",
       "    0.0016298193880921706,\n",
       "    0.0015654835206126683,\n",
       "    0.005075723710929301,\n",
       "    0.0035512138178511302,\n",
       "    0.001513500282073756,\n",
       "    0.006413907470320813,\n",
       "    0.00013472210564931554,\n",
       "    -6.865000850649584e-05,\n",
       "    -1.9362054261036545e-07,\n",
       "    2.867518794717754e-06,\n",
       "    -4.272698946893488e-06,\n",
       "    2.382428368876885e-05,\n",
       "    -1.35750967335872e-06,\n",
       "    0.9217942695501068,\n",
       "    0.9190193844564777,\n",
       "    0.00016094150502858796,\n",
       "    -5.0483939998882115e-05,\n",
       "    -0.02422302048021385,\n",
       "    0.00022113642904766117,\n",
       "    0.004449611990322118,\n",
       "    0.09554357221807092,\n",
       "    0.00018593011734942998,\n",
       "    0.005504161919429154,\n",
       "    0.007049955995970184,\n",
       "    0.004951941926041701,\n",
       "    -0.02700318481623909,\n",
       "    0.0013651660147081443,\n",
       "    -0.01926526157276492,\n",
       "    -2.836711733747631e-05,\n",
       "    0.00025477860931235534,\n",
       "    0.0004716089259317827,\n",
       "    -0.0003780887613994286,\n",
       "    0.0007389491693036599,\n",
       "    0.0005533272754068909,\n",
       "    0.00011617088592819184,\n",
       "    0.006050870421382756,\n",
       "    -0.01120395478776768,\n",
       "    0.0006417206425297182,\n",
       "    0.986662693138566,\n",
       "    -0.0002324704209449412,\n",
       "    0.0,\n",
       "    0.0014972140418102744,\n",
       "    0.9707114487692785,\n",
       "    8.132810164981058e-06,\n",
       "    3.1564431410162428e-06,\n",
       "    1.570450617289781e-05,\n",
       "    4.092763330544927e-05,\n",
       "    0.0005088075481620811,\n",
       "    1.2214840662972564e-05,\n",
       "    2.4371658807752893e-06,\n",
       "    0.02288026620227692,\n",
       "    0.0016084100895360325,\n",
       "    0.00039880773016027186,\n",
       "    7.15607327250664e-05,\n",
       "    6.015899571589042e-05,\n",
       "    -0.01307304595767544,\n",
       "    -0.005653251891286829,\n",
       "    -1.9778614829654737e-05,\n",
       "    0.0001724631666836755,\n",
       "    0.917885564684125,\n",
       "    0.905200079700932,\n",
       "    -1.1915466652640273e-05,\n",
       "    -0.0227242374478198,\n",
       "    0.0001468809540652295,\n",
       "    -4.607959016520653e-05,\n",
       "    0.009757198062562795,\n",
       "    0.03833181197430457,\n",
       "    4.858125590601451e-05,\n",
       "    0.0004813131430766762,\n",
       "    0.00010483234770329251,\n",
       "    0.9953321720955846,\n",
       "    -0.0016463305240643985,\n",
       "    0.0025655683455415813,\n",
       "    -0.0008608241097009404,\n",
       "    0.00016602104533252777,\n",
       "    -0.0005587216135891655,\n",
       "    0.00022616702005513162,\n",
       "    -0.01535576373861781,\n",
       "    0.02194831616210704,\n",
       "    0.992706031698561,\n",
       "    0.0010193054059903673,\n",
       "    6.216968992675451e-05,\n",
       "    0.00038868656228697746,\n",
       "    0.946344512881144,\n",
       "    0.0014972140418102744,\n",
       "    0.0,\n",
       "    0.005812788334799094,\n",
       "    -7.124985930710494e-06,\n",
       "    6.793577234329531e-05,\n",
       "    0.00015079025962095888,\n",
       "    -0.000598135123197426,\n",
       "    -0.0007142682036005947,\n",
       "    0.007099917812562544,\n",
       "    0.002944504048226666,\n",
       "    -0.0008055802598272967,\n",
       "    ...],\n",
       "   'SCF DIPOLE': [9.23104226422194, 1.1494721820313742, -1.5402249273454167],\n",
       "   'SCF QUADRUPOLE': [-196.58117602251696,\n",
       "    -1.3420716979034069,\n",
       "    33.45660671812266,\n",
       "    -1.3420716979034069,\n",
       "    -92.1834417012883,\n",
       "    1.4488520597204655,\n",
       "    33.45660671812266,\n",
       "    1.4488520597204655,\n",
       "    -145.59095778785036],\n",
       "   'SCF TOTAL GRADIENT': [-0.013475697976353293,\n",
       "    0.01028038660535382,\n",
       "    -0.020300922289486305,\n",
       "    -0.014638805423516772,\n",
       "    -0.004594620294010176,\n",
       "    0.008501082816208105,\n",
       "    -0.0026730047753359093,\n",
       "    -0.027021723120678087,\n",
       "    -0.00938480187463062,\n",
       "    0.02982289069069457,\n",
       "    -0.03231329442927349,\n",
       "    -0.04330555849491013,\n",
       "    -0.08105121091772148,\n",
       "    -0.02462556457188045,\n",
       "    0.0368954016535774,\n",
       "    0.01579763381438008,\n",
       "    -0.05415603246845557,\n",
       "    0.014732905583182496,\n",
       "    0.10932019826269415,\n",
       "    0.026701901549285204,\n",
       "    -0.07112177646228217,\n",
       "    -0.0311014196674914,\n",
       "    -0.0014462855999790073,\n",
       "    0.05860469291854788,\n",
       "    -0.07722914619480792,\n",
       "    0.03428467122545321,\n",
       "    0.055054261019831865,\n",
       "    -0.012547021537151705,\n",
       "    0.012187865017129347,\n",
       "    0.010240965676541966,\n",
       "    -0.002390820084024951,\n",
       "    -0.007119121673679453,\n",
       "    0.002763054059340508,\n",
       "    0.018291495879620395,\n",
       "    0.019571044133804023,\n",
       "    -0.015341688293238127,\n",
       "    -0.02629314886332583,\n",
       "    -0.011888746339706418,\n",
       "    0.019642088713775204,\n",
       "    0.02239486382067225,\n",
       "    -0.023576678385409753,\n",
       "    -0.01878305108834149,\n",
       "    -0.0021315024465229557,\n",
       "    0.02212366988473266,\n",
       "    -0.00636536932823089,\n",
       "    0.01558495391857608,\n",
       "    0.0023654012016797376,\n",
       "    -0.011792600996161796,\n",
       "    0.05749996791096369,\n",
       "    -0.00013358423066159406,\n",
       "    -0.01275105602644028,\n",
       "    0.002164057043804973,\n",
       "    0.03603652581046569,\n",
       "    0.011612151577216713,\n",
       "    -0.02320788284823813,\n",
       "    0.015859154446825844,\n",
       "    -0.03738469699618946,\n",
       "    -0.015982311535773997,\n",
       "    0.0069336497127681085,\n",
       "    0.003574755381178555,\n",
       "    -0.01837239621510184,\n",
       "    -0.012492960166459495,\n",
       "    -0.051744329955579774,\n",
       "    0.035686164488086515,\n",
       "    -0.012880054860408476,\n",
       "    0.0013179414554142703,\n",
       "    0.023796188068110544,\n",
       "    -0.03793692270168881,\n",
       "    -0.010723174199811078,\n",
       "    0.02039937839365737,\n",
       "    -0.008279737196653881,\n",
       "    0.007088760720360907,\n",
       "    0.0019020915384801872,\n",
       "    -0.0022743956911972438,\n",
       "    -0.0014727529187682944,\n",
       "    -0.003937909851005672,\n",
       "    -0.00036604691433926313,\n",
       "    0.003521182231561646,\n",
       "    -0.0014838511289955267,\n",
       "    -0.006964539434403687,\n",
       "    0.0014430972039539492,\n",
       "    0.0030424845544446562,\n",
       "    0.007686282055218132,\n",
       "    -0.00196846162539124,\n",
       "    -0.004509936618951993,\n",
       "    0.008905405863090509,\n",
       "    0.0031719911093917993,\n",
       "    0.0015547245208118966,\n",
       "    0.015368078669247928,\n",
       "    -0.01826815967091525,\n",
       "    0.010877742493209932,\n",
       "    -0.006189471540764484,\n",
       "    0.01595908083581461,\n",
       "    -0.03718925490945551,\n",
       "    0.016718304394250365,\n",
       "    0.022636342587851646,\n",
       "    0.01088070462943774,\n",
       "    -0.015117757995169036,\n",
       "    0.018865802589796712,\n",
       "    -0.009319503383396403,\n",
       "    -0.0037791610488696124,\n",
       "    0.007053073573578418,\n",
       "    0.00832746842081682,\n",
       "    -0.0034519442044978195,\n",
       "    -0.0012915733368397014,\n",
       "    0.010775866057209897,\n",
       "    0.005357413508803958,\n",
       "    0.009836898997927952,\n",
       "    0.011543032216518588,\n",
       "    -0.012178367252720507,\n",
       "    0.0010070521880634125,\n",
       "    -0.00292294887440886,\n",
       "    0.008951998919724067,\n",
       "    0.0009107704038878709,\n",
       "    -0.00837942973980546,\n",
       "    0.0068726453809330726,\n",
       "    0.019606706229307453,\n",
       "    0.004797307533930687,\n",
       "    0.004083270976158503,\n",
       "    0.0004336157262660202,\n",
       "    -0.012106158473024478,\n",
       "    0.016835341930552153,\n",
       "    -0.0011354213855878836,\n",
       "    0.0008897770669406501,\n",
       "    -0.0008179969033854409,\n",
       "    -0.0006096696695333088,\n",
       "    -0.0029992907665475324,\n",
       "    0.023618265848673277,\n",
       "    0.011112607063591542,\n",
       "    -0.01131656151674643,\n",
       "    0.009047725496133743,\n",
       "    -0.01171239175987223],\n",
       "   'WIBERG_LOWDIN_INDICES': [0.0,\n",
       "    0.0003957120201431366,\n",
       "    7.248437665939956e-05,\n",
       "    0.003207613808176303,\n",
       "    0.0001006500020762939,\n",
       "    2.1853730687290516,\n",
       "    0.0002562587314312564,\n",
       "    6.212512423751393e-05,\n",
       "    0.005980887961027747,\n",
       "    5.4818309737692643e-05,\n",
       "    1.7576590504333418e-05,\n",
       "    0.0002891017741375427,\n",
       "    2.3246079629689053e-05,\n",
       "    0.00022622962845025415,\n",
       "    5.3939160293444066e-05,\n",
       "    1.1216865402241774e-05,\n",
       "    0.0010878504672511254,\n",
       "    0.21297571091686318,\n",
       "    0.12240455307944145,\n",
       "    0.00223611032668445,\n",
       "    6.239293380265358e-05,\n",
       "    0.0044825049737108715,\n",
       "    0.00024272857850668136,\n",
       "    0.041303661138511666,\n",
       "    9.460954473937392e-07,\n",
       "    4.3898561255717764e-07,\n",
       "    1.5121938998235115e-05,\n",
       "    4.505869953402927e-07,\n",
       "    1.1113642126254626e-05,\n",
       "    2.0980803932318738e-06,\n",
       "    2.078445355829722e-06,\n",
       "    6.203204199299231e-05,\n",
       "    0.009974830188851543,\n",
       "    0.012313900266305796,\n",
       "    0.009396801167480732,\n",
       "    0.01612460841139501,\n",
       "    0.0005052558839120988,\n",
       "    0.00039872315544046586,\n",
       "    2.941863222567971e-06,\n",
       "    1.4328323664836282e-05,\n",
       "    0.0012220924015996044,\n",
       "    0.0006542938574358785,\n",
       "    3.237327950386073e-05,\n",
       "    0.017197625565574307,\n",
       "    0.0003957120201431366,\n",
       "    0.0,\n",
       "    5.4235387996301295e-06,\n",
       "    0.0002990106924863948,\n",
       "    0.2372816740703206,\n",
       "    0.0016174138629368204,\n",
       "    2.108729412940148,\n",
       "    8.025020249168579e-06,\n",
       "    0.0011072987390842249,\n",
       "    1.4135430896219886e-06,\n",
       "    1.7486150226972e-06,\n",
       "    3.92505906811003e-06,\n",
       "    2.5220839991759745e-06,\n",
       "    2.1538763150545036e-05,\n",
       "    7.881808924808788e-06,\n",
       "    1.927642066485991e-06,\n",
       "    0.0002861387751087999,\n",
       "    0.0017388651291378521,\n",
       "    0.00019450123305763284,\n",
       "    0.11999479899920792,\n",
       "    1.3878040562282887e-05,\n",
       "    0.0766495479246345,\n",
       "    4.7965270449387e-05,\n",
       "    0.009146374660395857,\n",
       "    9.076440412542094e-08,\n",
       "    1.2973687003891407e-07,\n",
       "    3.3511465952778623e-07,\n",
       "    1.5918459758415077e-07,\n",
       "    4.224584819269076e-06,\n",
       "    3.2922351200038854e-07,\n",
       "    1.5397216009401134e-07,\n",
       "    5.281391201781248e-05,\n",
       "    9.265280046272863e-05,\n",
       "    0.00013134306868301548,\n",
       "    1.664462576170332e-05,\n",
       "    1.1017175325363527e-05,\n",
       "    0.012766470118181012,\n",
       "    0.01281225336971037,\n",
       "    1.0838961206534216e-06,\n",
       "    1.8623794450623501e-06,\n",
       "    0.007092355639641906,\n",
       "    0.006177502545282274,\n",
       "    6.506332409265766e-06,\n",
       "    0.000497459432806227,\n",
       "    7.248437665939956e-05,\n",
       "    5.4235387996301295e-06,\n",
       "    0.0,\n",
       "    0.03758550884395806,\n",
       "    1.0464996803937928e-05,\n",
       "    0.00012481315379338006,\n",
       "    1.2569458182923454e-05,\n",
       "    2.32027821329883,\n",
       "    0.03037151689046416,\n",
       "    0.00017167043232463926,\n",
       "    0.00029191556690485337,\n",
       "    0.00034787665009579897,\n",
       "    0.0009668196253623147,\n",
       "    0.0008216040841542567,\n",
       "    0.0017434015074166834,\n",
       "    0.20353120475854167,\n",
       "    0.01451726402561189,\n",
       "    0.0005571755922956173,\n",
       "    1.54775919244388e-05,\n",
       "    7.869426432271507e-05,\n",
       "    0.018453281734156654,\n",
       "    0.00046032158853151164,\n",
       "    0.11866304763333352,\n",
       "    0.0013081846001521632,\n",
       "    1.3296275968925782e-06,\n",
       "    1.9286372045442907e-05,\n",
       "    4.793780112160688e-06,\n",
       "    0.0007456016067498303,\n",
       "    5.898865298487979e-05,\n",
       "    0.008742208896580665,\n",
       "    0.01697831219586663,\n",
       "    0.00028216123655412363,\n",
       "    9.555258415820794e-05,\n",
       "    1.6600785157866946e-06,\n",
       "    4.82909897033031e-06,\n",
       "    9.188614195355945e-07,\n",
       "    9.388749183900281e-06,\n",
       "    1.090294501277879e-05,\n",
       "    0.002158198915342479,\n",
       "    0.0010120520509311073,\n",
       "    2.58716737352379e-05,\n",
       "    7.764825895161297e-05,\n",
       "    0.01684056116719877,\n",
       "    0.00024399638556499753,\n",
       "    0.003207613808176303,\n",
       "    0.0002990106924863948,\n",
       "    0.03758550884395806,\n",
       "    0.0,\n",
       "    0.0006550635823745317,\n",
       "    0.009283548830115231,\n",
       "    0.0007905810911871457,\n",
       "    0.028894786462603614,\n",
       "    2.112830055398241,\n",
       "    0.0025792601658354494,\n",
       "    0.003492064682818666,\n",
       "    0.003987120348900631,\n",
       "    0.012133100558634681,\n",
       "    0.012215887728870126,\n",
       "    0.02073194727852502,\n",
       "    0.0027286026806259698,\n",
       "    0.1917098440819918,\n",
       "    0.03766947218543606,\n",
       "    0.0006589092757367129,\n",
       "    0.0037814120821540167,\n",
       "    0.0060056785215058086,\n",
       "    0.01751457410345757,\n",
       "    0.02259720073720862,\n",
       "    0.12873636478136272,\n",
       "    3.173445933135967e-05,\n",
       "    2.379676180907741e-05,\n",
       "    3.177255718123002e-05,\n",
       "    0.0001771608523802249,\n",
       "    0.00032177873657210837,\n",
       "    0.0003493565229553248,\n",
       "    0.0009514589575988783,\n",
       "    0.013547542580192189,\n",
       "    0.0022537494510471243,\n",
       "    0.00015873814853481881,\n",
       "    0.0001635470923543463,\n",
       "    3.956220090202409e-05,\n",
       "    0.0004977912061621089,\n",
       "    0.0003140896900792671,\n",
       "    0.0005611398150170651,\n",
       "    0.001257027933242407,\n",
       "    0.0008906478173393249,\n",
       "    0.0005597085832926602,\n",
       "    0.0016437844227099423,\n",
       "    0.015960916578444406,\n",
       "    0.0001006500020762939,\n",
       "    0.2372816740703206,\n",
       "    1.0464996803937928e-05,\n",
       "    0.0006550635823745317,\n",
       "    0.0,\n",
       "    0.00037611118097592553,\n",
       "    1.9285563801610361,\n",
       "    2.8722175997687866e-05,\n",
       "    0.0016539103183296142,\n",
       "    3.1559369533665987e-06,\n",
       "    1.282252570871987e-05,\n",
       "    8.238085567019353e-06,\n",
       "    9.760838259057831e-06,\n",
       "    5.2925021963199406e-05,\n",
       "    1.4453753580845807e-05,\n",
       "    7.297079051224526e-06,\n",
       "    0.0004608296664235092,\n",
       "    0.0006014771459241917,\n",
       "    4.635371930360521e-05,\n",
       "    0.12453086687858296,\n",
       "    2.24497609311571e-05,\n",
       "    0.02040512873266627,\n",
       "    6.755313678173251e-05,\n",
       "    0.0036123067194327564,\n",
       "    1.3878104107628616e-07,\n",
       "    2.0244738996690172e-08,\n",
       "    1.0587131511368548e-07,\n",
       "    6.610461849420551e-07,\n",
       "    2.0039756767393057e-05,\n",
       "    3.826528938682666e-06,\n",
       "    4.741016621653015e-07,\n",
       "    0.00021598489504198233,\n",
       "    3.844293584758619e-05,\n",
       "    1.5615084399732207e-05,\n",
       "    1.2471405224263055e-05,\n",
       "    3.982910407203344e-06,\n",
       "    0.008725827016827427,\n",
       "    0.009181533104289614,\n",
       "    2.344176176158217e-07,\n",
       "    4.7215760469561295e-06,\n",
       "    0.0012116544431634768,\n",
       "    0.0010110527466622285,\n",
       "    7.16133212410527e-06,\n",
       "    0.00044307007482695724,\n",
       "    2.1853730687290516,\n",
       "    0.0016174138629368204,\n",
       "    0.00012481315379338006,\n",
       "    0.009283548830115231,\n",
       "    0.00037611118097592553,\n",
       "    0.0,\n",
       "    0.0008509253237316511,\n",
       "    6.528873452025278e-05,\n",
       "    0.014846371175512223,\n",
       "    3.4418813278763576e-05,\n",
       "    1.471450741900013e-05,\n",
       "    0.0001806244418190164,\n",
       "    2.6097284523656477e-05,\n",
       "    0.00011519123682726563,\n",
       "    3.438254843103288e-05,\n",
       "    2.7786892056270897e-05,\n",
       "    0.0022145575455697567,\n",
       "    1.4248650802632827,\n",
       "    1.164674807944481,\n",
       "    0.007483543573337848,\n",
       "    4.821132807215761e-05,\n",
       "    0.014326308441430392,\n",
       "    0.00047514319991830064,\n",
       "    0.09267833502348802,\n",
       "    3.793411304853712e-07,\n",
       "    5.005227560993622e-07,\n",
       "    1.0295455573970528e-05,\n",
       "    2.162025414659315e-07,\n",
       "    5.03458186232505e-06,\n",
       "    2.4570941872722e-06,\n",
       "    1.5118639881591724e-06,\n",
       "    0.00019473004735414613,\n",
       "    0.04295107560433014,\n",
       "    0.045641726361181016,\n",
       "    0.044271012113716236,\n",
       "    0.04703366469926184,\n",
       "    0.0033581928959719193,\n",
       "    0.00041237599013152016,\n",
       "    2.135073468834838e-06,\n",
       "    1.1414047163781652e-05,\n",
       "    0.002113056812794419,\n",
       "    0.0006429938757451062,\n",
       "    5.289781328238256e-05,\n",
       "    0.011844381296403656,\n",
       "    0.0002562587314312564,\n",
       "    2.108729412940148,\n",
       "    1.2569458182923454e-05,\n",
       "    0.0007905810911871457,\n",
       "    1.9285563801610361,\n",
       "    0.0008509253237316511,\n",
       "    0.0,\n",
       "    1.3306778945914971e-05,\n",
       "    0.002382123389804748,\n",
       "    1.7595135645776059e-06,\n",
       "    3.3481727785409624e-06,\n",
       "    3.0228869264973745e-06,\n",
       "    7.635009716442829e-06,\n",
       "    1.8981223596738974e-05,\n",
       "    7.821407637592332e-06,\n",
       "    1.8932861699675573e-06,\n",
       "    0.00030381359343251564,\n",
       "    0.0026540883345035076,\n",
       "    6.304590919800255e-05,\n",
       "    1.1060156963489856,\n",
       "    7.690906631572286e-06,\n",
       "    0.0902945037788111,\n",
       "    3.6203576037597734e-05,\n",
       "    0.013401695708369857,\n",
       "    1.0406079145291269e-07,\n",
       "    6.90290722800608e-08,\n",
       "    1.610314865510022e-07,\n",
       "    2.3605563787766959e-07,\n",
       "    5.599290553500737e-06,\n",
       "    4.573881111684952e-07,\n",
       "    4.6122812390723934e-07,\n",
       "    0.00010849516163707937,\n",
       "    6.642606807784988e-05,\n",
       "    2.2838730300040833e-05,\n",
       "    1.551850187351648e-05,\n",
       "    5.242814438011153e-06,\n",
       "    0.039430249296688105,\n",
       "    0.04104745462752698,\n",
       "    7.075387064597467e-07,\n",
       "    2.545345346516485e-06,\n",
       "    0.006860820107242121,\n",
       "    0.00628071540029334,\n",
       "    4.218931719203155e-06,\n",
       "    0.0009472142684602037,\n",
       "    6.212512423751393e-05,\n",
       "    8.025020249168579e-06,\n",
       "    2.32027821329883,\n",
       "    0.028894786462603614,\n",
       "    2.8722175997687866e-05,\n",
       "    6.528873452025278e-05,\n",
       "    1.3306778945914971e-05,\n",
       "    0.0,\n",
       "    0.02119866016769787,\n",
       "    0.00048118159893545604,\n",
       "    0.0007567624963788516,\n",
       "    0.0006667526464633459,\n",
       "    0.006411299363687573,\n",
       "    0.0019103678421892717,\n",
       "    0.012230522960014508,\n",
       "    1.3640084998389013,\n",
       "    0.07937517194427271,\n",
       "    0.0004300206333375961,\n",
       "    1.0226778441707378e-05,\n",
       "    0.0001946630285536224,\n",
       "    0.08657539170717993,\n",
       "    0.0010883846968921455,\n",
       "    1.048704197953275,\n",
       "    0.0018783142331583466,\n",
       "    1.5418225650255097e-05,\n",
       "    6.908379109096806e-05,\n",
       "    1.3735824020527488e-05,\n",
       "    0.002171092837148965,\n",
       "    0.00028052938612865396,\n",
       "    0.044644945372389264,\n",
       "    0.03990080309562538,\n",
       "    0.0058864876327490954,\n",
       "    4.280238129632474e-05,\n",
       "    1.6832937926028475e-06,\n",
       "    2.5210736716370685e-06,\n",
       "    1.1724980178282147e-06,\n",
       "    2.080067240189305e-05,\n",
       "    1.3487630020911263e-05,\n",
       "    0.010810065753493754,\n",
       "    0.005982391628862582,\n",
       "    0.00016673568566498767,\n",
       "    7.518254219760489e-05,\n",
       "    0.04639210886195475,\n",
       "    0.00020711710841195044,\n",
       "    0.005980887961027747,\n",
       "    0.0011072987390842249,\n",
       "    0.03037151689046416,\n",
       "    2.112830055398241,\n",
       "    0.0016539103183296142,\n",
       "    0.014846371175512223,\n",
       "    0.002382123389804748,\n",
       "    0.02119866016769787,\n",
       "    0.0,\n",
       "    0.0009804079910144732,\n",
       "    0.001328976735532303,\n",
       "    0.002259007303436315,\n",
       "    0.0025774730778933925,\n",
       "    0.013031186309769063,\n",
       "    0.011580621635500523,\n",
       "    0.002784986278173476,\n",
       "    1.4017858366757523,\n",
       "    0.08814435623149997,\n",
       "    0.0017610424960084752,\n",
       "    0.013744399829994836,\n",
       "    0.01587827028814278,\n",
       "    0.0985329619790203,\n",
       "    0.08955300873598901,\n",
       "    1.0600055197875002,\n",
       "    3.4692710143990405e-05,\n",
       "    3.2316891136826874e-05,\n",
       "    5.590026644986966e-05,\n",
       "    6.858828103579669e-05,\n",
       "    0.0012676580039282777,\n",
       "    0.00023864309866240824,\n",
       "    0.0002572621636261164,\n",
       "    0.04478563006490904,\n",
       "    0.004905577480303923,\n",
       "    0.000321008433485329,\n",
       "    0.00043773422007108593,\n",
       "    7.246272932854401e-05,\n",
       "    0.0006651481459640302,\n",
       "    0.0009819121966987896,\n",
       "    0.0005098547103935531,\n",
       "    0.001897174386849525,\n",
       "    0.00504546161596356,\n",
       "    0.007551313814531338,\n",
       "    0.008787180305432038,\n",
       "    0.046031502462189164,\n",
       "    5.4818309737692643e-05,\n",
       "    1.4135430896219886e-06,\n",
       "    0.00017167043232463926,\n",
       "    0.0025792601658354494,\n",
       "    3.1559369533665987e-06,\n",
       "    3.4418813278763576e-05,\n",
       "    1.7595135645776059e-06,\n",
       "    0.00048118159893545604,\n",
       "    0.0009804079910144732,\n",
       "    0.0,\n",
       "    1.5557128803032052,\n",
       "    1.5501749240902871,\n",
       "    0.11986342065002711,\n",
       "    0.12378327642316256,\n",
       "    0.11014874451062115,\n",
       "    0.0003354601895788168,\n",
       "    0.0004116453049276031,\n",
       "    0.0002474439504436698,\n",
       "    2.7827885887814186e-05,\n",
       "    9.421928363414997e-06,\n",
       "    0.008774081949645235,\n",
       "    7.127424371450006e-05,\n",
       "    0.004808810931558158,\n",
       "    0.00013176420687764472,\n",
       "    0.8558096293070931,\n",
       "    0.05375330653243301,\n",
       "    0.055176734362029974,\n",
       "    0.008565089367996354,\n",
       "    0.008987823455304566,\n",
       "    1.362700458029605e-05,\n",
       "    0.00016105183769863317,\n",
       "    1.2698348575291947e-05,\n",
       "    0.00013089386263097732,\n",
       "    1.3555449748902423e-06,\n",
       "    1.12002059145897e-06,\n",
       "    2.1103184246360194e-05,\n",
       "    8.901976038371819e-07,\n",
       "    1.873482414675529e-06,\n",
       "    0.0012541044157186661,\n",
       "    0.0019045310856441306,\n",
       "    2.0802430081874e-06,\n",
       "    4.6889450430043156e-05,\n",
       "    0.0005130098838916363,\n",
       "    5.6328015147420414e-05,\n",
       "    1.7576590504333418e-05,\n",
       "    1.7486150226972e-06,\n",
       "    0.00029191556690485337,\n",
       "    0.003492064682818666,\n",
       "    1.282252570871987e-05,\n",
       "    1.471450741900013e-05,\n",
       "    3.3481727785409624e-06,\n",
       "    0.0007567624963788516,\n",
       "    0.001328976735532303,\n",
       "    1.5557128803032052,\n",
       "    0.0,\n",
       "    0.12331521682924079,\n",
       "    1.5324440016833045,\n",
       "    0.12391411348482938,\n",
       "    0.1201691458328552,\n",
       "    0.0009995035752424827,\n",
       "    0.001202599844885298,\n",
       "    0.00010710242938416479,\n",
       "    4.571027421065883e-06,\n",
       "    2.705313519525348e-05,\n",
       "    0.011289405921328046,\n",
       "    0.00013444861084999402,\n",
       "    0.0015323061169859218,\n",
       "    0.00021880668664887482,\n",
       "    0.05392778962963025,\n",
       "    0.8575463141712488,\n",
       "    0.009268796934955867,\n",
       "    0.05243716336722604,\n",
       "    0.0019250440938550592,\n",
       "    2.547801178547121e-05,\n",
       "    0.000178898936861226,\n",
       "    4.953533620098107e-05,\n",
       "    0.00012654975822367132,\n",
       "    4.094334433017617e-07,\n",
       "    1.6608787922916448e-07,\n",
       "    1.799139673711672e-06,\n",
       "    8.571646992709344e-07,\n",
       "    2.5316981483742847e-06,\n",
       "    0.0009666378313512822,\n",
       "    0.0010466568133966868,\n",
       "    7.835267344566471e-06,\n",
       "    3.3703621293676424e-05,\n",
       "    0.00019869803737933284,\n",
       "    1.917812121072977e-05,\n",
       "    0.0002891017741375427,\n",
       "    3.92505906811003e-06,\n",
       "    0.00034787665009579897,\n",
       "    0.003987120348900631,\n",
       "    8.238085567019353e-06,\n",
       "    0.0001806244418190164,\n",
       "    3.0228869264973745e-06,\n",
       "    0.0006667526464633459,\n",
       "    0.002259007303436315,\n",
       "    1.5501749240902871,\n",
       "    0.12331521682924079,\n",
       "    0.0,\n",
       "    0.11963602484544306,\n",
       "    1.5642197190261498,\n",
       "    0.12055807069376977,\n",
       "    0.0002377651249810858,\n",
       "    0.0013914566099808834,\n",
       "    0.001265150162667606,\n",
       "    3.855898968695952e-05,\n",
       "    2.798965209421475e-05,\n",
       "    0.010433814822269231,\n",
       "    0.00022714390612655423,\n",
       "    0.001556042182130704,\n",
       "    0.00039210356518980266,\n",
       "    0.05471791081437032,\n",
       "    0.0086166062743398,\n",
       "    0.8500497607031274,\n",
       "    0.0018884687469051182,\n",
       "    0.053919449957940103,\n",
       "    9.341843225509988e-06,\n",
       "    4.591279012755772e-05,\n",
       "    1.2954384977378367e-05,\n",
       "    0.0011188527819078452,\n",
       "    1.3758333772334256e-06,\n",
       "    2.1645648528556345e-06,\n",
       "    2.842530317123239e-05,\n",
       "    1.356019501937321e-06,\n",
       "    1.2774722596899857e-05,\n",
       "    0.0010464913174489567,\n",
       "    0.0008657056151771822,\n",
       "    1.514312263065274e-05,\n",
       "    0.0001360770888094845,\n",
       "    0.000261805920009926,\n",
       "    0.00019442964718469083,\n",
       "    2.3246079629689053e-05,\n",
       "    2.5220839991759745e-06,\n",
       "    0.0009668196253623147,\n",
       "    0.012133100558634681,\n",
       "    9.760838259057831e-06,\n",
       "    2.6097284523656477e-05,\n",
       "    7.635009716442829e-06,\n",
       "    0.006411299363687573,\n",
       "    0.0025774730778933925,\n",
       "    0.11986342065002711,\n",
       "    1.5324440016833045,\n",
       "    0.11963602484544306,\n",
       "    0.0,\n",
       "    0.12397736960364189,\n",
       "    1.4877536606212145,\n",
       "    0.009859863679978537,\n",
       "    0.0015609526153045495,\n",
       "    0.0002218879259824981,\n",
       "    6.618391382681874e-06,\n",
       "    3.195054713286801e-05,\n",
       "    0.10866422601930208,\n",
       "    0.000174023317634357,\n",
       "    0.01573438117612739,\n",
       "    0.0005324401096429697,\n",
       "    0.008834339634405643,\n",
       "    0.05460728960446101,\n",
       "    0.0016810775865999134,\n",
       "    0.8430076107138215,\n",
       "    0.008459273629237625,\n",
       "    0.0001259837866295483,\n",
       "    0.0012969267039742143,\n",
       "    8.753131107662662e-05,\n",
       "    0.00026832617549046937,\n",
       "    2.7994166613909235e-07,\n",
       "    6.630409460736468e-08,\n",
       "    5.2909495176602075e-06,\n",
       "    1.1895912263569608e-06,\n",
       "    1.710353430892057e-06,\n",
       "    0.009878278262178117,\n",
       "    0.009703611331447847,\n",
       "    7.133016093056543e-06,\n",
       "    6.424782496700688e-05,\n",
       "    0.001642517032288622,\n",
       "    5.329986044803712e-05,\n",
       "    0.00022622962845025415,\n",
       "    2.1538763150545036e-05,\n",
       "    0.0008216040841542567,\n",
       "    0.012215887728870126,\n",
       "    5.2925021963199406e-05,\n",
       "    0.00011519123682726563,\n",
       "    1.8981223596738974e-05,\n",
       "    0.0019103678421892717,\n",
       "    0.013031186309769063,\n",
       "    0.12378327642316256,\n",
       "    0.12391411348482938,\n",
       "    1.5642197190261498,\n",
       "    0.12397736960364189,\n",
       "    0.0,\n",
       "    1.4448239407162962,\n",
       "    0.0006904219852200004,\n",
       "    0.007101550814830482,\n",
       "    0.0008168019484404525,\n",
       "    2.084559140201921e-05,\n",
       "    0.0002979284481394296,\n",
       "    0.1074578769710991,\n",
       "    0.0018558232310278686,\n",
       "    0.015026689211589485,\n",
       "    0.0011545293716900937,\n",
       "    0.008777359301671511,\n",
       "    0.0016552552713516022,\n",
       "    0.05664561103391748,\n",
       "    0.009062841729844897,\n",
       "    0.8412518115643163,\n",
       "    4.573787617683512e-05,\n",
       "    0.0005452581257971,\n",
       "    6.559496739207325e-05,\n",
       "    0.0005432211611750382,\n",
       "    4.2022090844114635e-07,\n",
       "    3.4587097015887336e-06,\n",
       "    3.103011027635358e-06,\n",
       "    1.0305431804574233e-05,\n",
       "    0.00020467477857929263,\n",
       "    0.010442872990789106,\n",
       "    0.009811245796019587,\n",
       "    9.80416820832921e-05,\n",
       "    0.0010830133951451825,\n",
       "    0.0013463982099622264,\n",
       "    0.0005055627270926957,\n",
       "    5.3939160293444066e-05,\n",
       "    7.881808924808788e-06,\n",
       "    0.0017434015074166834,\n",
       "    0.02073194727852502,\n",
       "    1.4453753580845807e-05,\n",
       "    3.438254843103288e-05,\n",
       "    7.821407637592332e-06,\n",
       "    0.012230522960014508,\n",
       "    0.011580621635500523,\n",
       "    0.11014874451062115,\n",
       "    0.1201691458328552,\n",
       "    0.12055807069376977,\n",
       "    1.4877536606212145,\n",
       "    1.4448239407162962,\n",
       "    0.0,\n",
       "    0.002574059821712235,\n",
       "    0.01292474137364209,\n",
       "    0.00016848870800904335,\n",
       "    1.2553627199306031e-05,\n",
       "    5.9251290953690705e-05,\n",
       "    1.101565488925692,\n",
       "    0.0003921810275491774,\n",
       "    0.0758144108446303,\n",
       "    0.0008723064089810145,\n",
       "    0.001790455550961482,\n",
       "    0.007441017728142775,\n",
       "    0.008415474971390903,\n",
       "    0.05394895165383437,\n",
       "    0.05274905912630071,\n",
       "    0.00018636167728161587,\n",
       "    0.0009974303372905842,\n",
       "    0.00033959525968432026,\n",
       "    5.719867824017313e-05,\n",
       "    7.246235094275321e-07,\n",
       "    5.483402475402968e-07,\n",
       "    4.945828001261765e-06,\n",
       "    7.5588957582090535e-06,\n",
       "    1.5738183614621443e-05,\n",
       "    0.04146767555757089,\n",
       "    0.04066828528199789,\n",
       "    4.433796408964139e-05,\n",
       "    0.00013822121512934907,\n",
       "    0.009693832214487384,\n",
       "    0.0002440240809146471,\n",
       "    1.1216865402241774e-05,\n",
       "    1.927642066485991e-06,\n",
       "    0.20353120475854167,\n",
       "    0.0027286026806259698,\n",
       "    7.297079051224526e-06,\n",
       "    2.7786892056270897e-05,\n",
       "    1.8932861699675573e-06,\n",
       "    1.3640084998389013,\n",
       "    0.002784986278173476,\n",
       "    0.0003354601895788168,\n",
       "    0.0009995035752424827,\n",
       "    0.0002377651249810858,\n",
       "    0.009859863679978537,\n",
       "    0.0006904219852200004,\n",
       "    0.002574059821712235,\n",
       "    0.0,\n",
       "    0.010145574797779283,\n",
       "    6.537361796347598e-05,\n",
       "    2.254763385836548e-06,\n",
       "    3.716073086040084e-05,\n",
       "    0.02163382704360642,\n",
       "    0.00018146393324219452,\n",
       "    0.0930859971719389,\n",
       "    0.0002908657959144751,\n",
       "    5.0630552095650184e-05,\n",
       "    4.1160578253275936e-05,\n",
       "    1.4400192371979648e-05,\n",
       "    0.005637649702529991,\n",
       "    7.030023769672008e-05,\n",
       "    0.8639171041242748,\n",
       "    0.8634293359312742,\n",
       "    0.0007975060153830166,\n",
       "    9.320482161037246e-06,\n",
       "    1.9385528853618795e-07,\n",
       "    1.3437234950121343e-06,\n",
       "    1.5348956909482016e-07,\n",
       "    7.082617756448995e-06,\n",
       "    1.6154008869980774e-06,\n",
       "    0.0018268001542525324,\n",
       "    0.005823980765101551,\n",
       "    3.783613538811228e-05,\n",
       "    1.0000212897402367e-05,\n",
       "    0.007565935716631165,\n",
       "    2.1900004771574317e-05,\n",
       "    0.0010878504672511254,\n",
       "    0.0002861387751087999,\n",
       "    0.01451726402561189,\n",
       "    0.1917098440819918,\n",
       "    0.0004608296664235092,\n",
       "    0.0022145575455697567,\n",
       "    0.00030381359343251564,\n",
       "    0.07937517194427271,\n",
       "    1.4017858366757523,\n",
       "    0.0004116453049276031,\n",
       "    0.001202599844885298,\n",
       "    0.0013914566099808834,\n",
       "    0.0015609526153045495,\n",
       "    0.007101550814830482,\n",
       "    0.01292474137364209,\n",
       "    0.010145574797779283,\n",
       "    0.0,\n",
       "    0.008392877040977895,\n",
       "    0.0003309032092491586,\n",
       "    0.005380917850446273,\n",
       "    0.08366471472983068,\n",
       "    0.033879114164623574,\n",
       "    1.163370574044693,\n",
       "    0.09034189668434484,\n",
       "    9.814888881025637e-06,\n",
       "    5.8567920975139356e-06,\n",
       "    4.6590710964132e-05,\n",
       "    0.00010518879661252709,\n",
       "    0.000861022868512214,\n",
       "    0.0009177318814562975,\n",
       "    0.0009143217071022572,\n",
       "    0.7861117998333488,\n",
       "    0.0004048696556138716,\n",
       "    3.217019552316357e-05,\n",
       "    7.614965482052099e-05,\n",
       "    2.955654458152613e-05,\n",
       "    0.0010128576889552026,\n",
       "    0.00031530531312384813,\n",
       "    0.004662446880210472,\n",
       "    0.012342694298902383,\n",
       "    0.0075383008812936695,\n",
       "    0.001355670286264488,\n",
       "    0.03430232064190379,\n",
       "    0.006669959538750562,\n",
       "    0.21297571091686318,\n",
       "    0.0017388651291378521,\n",
       "    0.0005571755922956173,\n",
       "    0.03766947218543606,\n",
       "    0.0006014771459241917,\n",
       "    1.4248650802632827,\n",
       "    0.0026540883345035076,\n",
       "    0.0004300206333375961,\n",
       "    0.08814435623149997,\n",
       "    0.0002474439504436698,\n",
       "    0.00010710242938416479,\n",
       "    0.001265150162667606,\n",
       "    0.0002218879259824981,\n",
       "    0.0008168019484404525,\n",
       "    0.00016848870800904335,\n",
       "    6.537361796347598e-05,\n",
       "    0.008392877040977895,\n",
       "    0.0,\n",
       "    0.09200525105302355,\n",
       "    0.02456888970255166,\n",
       "    0.0002737075209484682,\n",
       "    0.07523063813793682,\n",
       "    0.0015419913981907507,\n",
       "    1.117168131143582,\n",
       "    1.8141605176979727e-06,\n",
       "    1.760112554488381e-06,\n",
       "    7.016885207024057e-05,\n",
       "    1.2256013152270251e-06,\n",
       "    2.0102793172938945e-05,\n",
       "    6.231092941845642e-06,\n",
       "    9.322065282881645e-06,\n",
       "    0.0012879842671074404,\n",
       "    0.8170423270025695,\n",
       "    0.010236073730852538,\n",
       "    0.010740380614284797,\n",
       "    0.0058930864506398515,\n",
       "    0.008436984113978726,\n",
       "    0.0002797728980502055,\n",
       "    2.0819086397327862e-05,\n",
       "    5.2109622360920536e-05,\n",
       "    0.011899401295715544,\n",
       "    0.0027209067256275857,\n",
       "    0.00015885717092070883,\n",
       "    0.027146751967633106,\n",
       "    0.12240455307944145,\n",
       "    0.00019450123305763284,\n",
       "    1.54775919244388e-05,\n",
       "    0.0006589092757367129,\n",
       "    4.635371930360521e-05,\n",
       "    1.164674807944481,\n",
       "    6.304590919800255e-05,\n",
       "    1.0226778441707378e-05,\n",
       "    0.0017610424960084752,\n",
       "    2.7827885887814186e-05,\n",
       "    4.571027421065883e-06,\n",
       "    3.855898968695952e-05,\n",
       "    6.618391382681874e-06,\n",
       "    2.084559140201921e-05,\n",
       "    1.2553627199306031e-05,\n",
       "    2.254763385836548e-06,\n",
       "    0.0003309032092491586,\n",
       "    0.09200525105302355,\n",
       "    0.0,\n",
       "    0.0005301617700331742,\n",
       "    1.3131540150971928e-05,\n",
       "    0.0013912287453464133,\n",
       "    7.294336832517724e-05,\n",
       "    0.012511050550017723,\n",
       "    6.655335861904406e-07,\n",
       "    1.2221929932051098e-07,\n",
       "    2.251792230589476e-06,\n",
       "    5.3978708186807025e-08,\n",
       "    1.317309526173184e-06,\n",
       "    2.085339407441094e-07,\n",
       "    2.1775201335538363e-07,\n",
       "    5.135660864764662e-05,\n",
       "    0.005590164393743843,\n",
       "    0.9033248017314116,\n",
       "    0.9092449382870941,\n",
       "    0.9130017878883163,\n",
       "    0.000212119109664293,\n",
       "    5.838696228288017e-05,\n",
       "    4.2696828953519883e-07,\n",
       "    4.410124726129241e-06,\n",
       "    0.0005571831715317001,\n",
       "    5.925640707775412e-05,\n",
       "    6.6530344313938175e-06,\n",
       "    0.002366897255066723,\n",
       "    0.00223611032668445,\n",
       "    0.11999479899920792,\n",
       "    7.869426432271507e-05,\n",
       "    0.0037814120821540167,\n",
       "    0.12453086687858296,\n",
       "    0.007483543573337848,\n",
       "    1.1060156963489856,\n",
       "    0.0001946630285536224,\n",
       "    0.013744399829994836,\n",
       "    9.421928363414997e-06,\n",
       "    2.705313519525348e-05,\n",
       "    2.798965209421475e-05,\n",
       "    3.195054713286801e-05,\n",
       "    0.0002979284481394296,\n",
       "    5.9251290953690705e-05,\n",
       "    3.716073086040084e-05,\n",
       "    0.005380917850446273,\n",
       "    0.02456888970255166,\n",
       "    0.0005301617700331742,\n",
       "    0.0,\n",
       "    6.600160072934988e-05,\n",
       "    1.1055600329494861,\n",
       "    0.0005277556116550983,\n",
       "    0.09291724278852047,\n",
       "    5.039614096854461e-07,\n",
       "    6.236702773672051e-07,\n",
       "    1.0658171915266836e-06,\n",
       "    3.0107607622603146e-06,\n",
       "    0.0001230846567035653,\n",
       "    1.2051408295770996e-05,\n",
       "    2.986628073812191e-06,\n",
       "    0.0022450476328702154,\n",
       "    0.0007256407072265802,\n",
       "    0.00011228513505725188,\n",
       "    0.0001926528987954,\n",
       "    3.2844556763624664e-05,\n",
       "    0.8615225559904185,\n",
       "    0.8625828973887438,\n",
       "    4.0995683508804936e-06,\n",
       "    1.320596172680633e-05,\n",
       "    0.02975320537599314,\n",
       "    0.028767828482588843,\n",
       "    3.209044408463947e-05,\n",
       "    0.007362181929340099,\n",
       "    6.239293380265358e-05,\n",
       "    1.3878040562282887e-05,\n",
       "    0.018453281734156654,\n",
       "    0.0060056785215058086,\n",
       "    2.24497609311571e-05,\n",
       "    4.821132807215761e-05,\n",
       "    7.690906631572286e-06,\n",
       "    0.08657539170717993,\n",
       "    0.01587827028814278,\n",
       "    0.008774081949645235,\n",
       "    0.011289405921328046,\n",
       "    0.010433814822269231,\n",
       "    0.10866422601930208,\n",
       "    0.1074578769710991,\n",
       "    1.101565488925692,\n",
       "    0.02163382704360642,\n",
       "    0.08366471472983068,\n",
       "    0.0002737075209484682,\n",
       "    1.3131540150971928e-05,\n",
       "    6.600160072934988e-05,\n",
       "    0.0,\n",
       "    0.0004363512825484184,\n",
       "    1.1056773472908805,\n",
       "    0.0013858265908485471,\n",
       "    0.0003150634898575676,\n",
       "    0.0008354316613850051,\n",
       "    0.0009459120580319169,\n",
       "    0.009415067578333904,\n",
       "    0.00994314113678147,\n",
       "    0.001754982455651884,\n",
       "    0.007754618800298272,\n",
       "    0.0028936258909707585,\n",
       "    2.3796505987789307e-05,\n",
       "    8.998919713690645e-07,\n",
       "    2.1960415257282438e-06,\n",
       "    8.993065859959021e-07,\n",
       "    1.1211922738170774e-05,\n",
       "    1.1877015809282714e-05,\n",
       "    0.8464941850279085,\n",
       "    0.8453446260142973,\n",
       "    9.371283508978892e-05,\n",
       "    3.6844158568951015e-05,\n",
       "    0.042992955268362054,\n",
       "    0.0003596233067829944,\n",
       "    0.0044825049737108715,\n",
       "    0.0766495479246345,\n",
       "    0.00046032158853151164,\n",
       "    0.01751457410345757,\n",
       "    0.02040512873266627,\n",
       "    0.014326308441430392,\n",
       "    0.0902945037788111,\n",
       "    0.0010883846968921455,\n",
       "    0.0985329619790203,\n",
       "    7.127424371450006e-05,\n",
       "    0.00013444861084999402,\n",
       "    0.00022714390612655423,\n",
       "    0.000174023317634357,\n",
       "    0.0018558232310278686,\n",
       "    0.0003921810275491774,\n",
       "    0.00018146393324219452,\n",
       "    0.033879114164623574,\n",
       "    0.07523063813793682,\n",
       "    0.0013912287453464133,\n",
       "    1.1055600329494861,\n",
       "    0.0004363512825484184,\n",
       "    0.0,\n",
       "    0.003276020936766316,\n",
       "    1.1101957149057213,\n",
       "    6.423636884375774e-06,\n",
       "    1.8066221087553346e-06,\n",
       "    1.1206921452792865e-05,\n",
       "    1.3146295314001118e-05,\n",
       "    0.0008100399863961297,\n",
       "    4.619824345059996e-05,\n",
       "    6.4542222575643015e-06,\n",
       "    0.016664570810626396,\n",
       "    0.004367580259692101,\n",
       "    0.00047930590797811383,\n",
       "    0.00016837062667102452,\n",
       "    0.00010844958502140925,\n",
       "    0.031795841329953146,\n",
       "    0.032374005617112185,\n",
       "    3.920945342393156e-05,\n",
       "    7.461488203879522e-05,\n",
       "    0.84753560151619,\n",
       "    0.8673759478469583,\n",
       "    0.00022973393139693097,\n",
       "    0.03245275213251951,\n",
       "    0.00024272857850668136,\n",
       "    4.7965270449387e-05,\n",
       "    0.11866304763333352,\n",
       "    0.02259720073720862,\n",
       "    6.755313678173251e-05,\n",
       "    0.00047514319991830064,\n",
       "    3.6203576037597734e-05,\n",
       "    1.048704197953275,\n",
       "    0.08955300873598901,\n",
       "    0.004808810931558158,\n",
       "    0.0015323061169859218,\n",
       "    0.001556042182130704,\n",
       "    0.01573438117612739,\n",
       "    0.015026689211589485,\n",
       "    0.0758144108446303,\n",
       "    0.0930859971719389,\n",
       "    1.163370574044693,\n",
       "    0.0015419913981907507,\n",
       "    7.294336832517724e-05,\n",
       "    0.0005277556116550983,\n",
       "    1.1056773472908805,\n",
       "    0.003276020936766316,\n",
       "    0.0,\n",
       "    0.011978617868584973,\n",
       "    2.801216904815494e-05,\n",
       "    0.0001477192985751847,\n",
       "    0.00015179573457274343,\n",
       "    0.0005479357550240772,\n",
       "    0.0005908401795439017,\n",
       "    0.00939925707489032,\n",
       "    0.004862028866473316,\n",
       "    0.038115819322808955,\n",
       "    ...]}},\n",
       " 'stdout': '34732763',\n",
       " 'stderr': None,\n",
       " 'error': None,\n",
       " 'manager_name': None,\n",
       " 'status': <RecordStatusEnum.complete: 'COMPLETE'>,\n",
       " 'modified_on': datetime.datetime(2020, 11, 24, 3, 49, 11, 491661),\n",
       " 'created_on': datetime.datetime(2020, 11, 24, 3, 49, 11, 491664),\n",
       " 'provenance': {'creator': 'Psi4',\n",
       "  'version': '1.4a2.dev1058',\n",
       "  'routine': 'psi4.schema_runner.run_qcschema',\n",
       "  'cpu': 'Intel(R) Xeon(R) Gold 6148 CPU @ 2.40GHz',\n",
       "  'memory': 76.0,\n",
       "  'nthreads': 8,\n",
       "  'qcengine_version': 'v0.17.0',\n",
       "  'username': 'tgokey',\n",
       "  'hostname': 'hpc3-14-07',\n",
       "  'wall_time': 70.71526598930359},\n",
       " 'driver': <DriverEnum.gradient: 'gradient'>,\n",
       " 'method': 'b3lyp-d3bj',\n",
       " 'molecule': '24773601',\n",
       " 'basis': 'dzvp',\n",
       " 'keywords': '2',\n",
       " 'return_result': array([[-0.0134757 ,  0.01028039, -0.02030092],\n",
       "        [-0.01463881, -0.00459462,  0.00850108],\n",
       "        [-0.002673  , -0.02702172, -0.0093848 ],\n",
       "        [ 0.02982289, -0.03231329, -0.04330556],\n",
       "        [-0.08105121, -0.02462556,  0.0368954 ],\n",
       "        [ 0.01579763, -0.05415603,  0.01473291],\n",
       "        [ 0.1093202 ,  0.0267019 , -0.07112178],\n",
       "        [-0.03110142, -0.00144629,  0.05860469],\n",
       "        [-0.07722915,  0.03428467,  0.05505426],\n",
       "        [-0.01254702,  0.01218787,  0.01024097],\n",
       "        [-0.00239082, -0.00711912,  0.00276305],\n",
       "        [ 0.0182915 ,  0.01957104, -0.01534169],\n",
       "        [-0.02629315, -0.01188875,  0.01964209],\n",
       "        [ 0.02239486, -0.02357668, -0.01878305],\n",
       "        [-0.0021315 ,  0.02212367, -0.00636537],\n",
       "        [ 0.01558495,  0.0023654 , -0.0117926 ],\n",
       "        [ 0.05749997, -0.00013358, -0.01275106],\n",
       "        [ 0.00216406,  0.03603653,  0.01161215],\n",
       "        [-0.02320788,  0.01585915, -0.0373847 ],\n",
       "        [-0.01598231,  0.00693365,  0.00357476],\n",
       "        [-0.0183724 , -0.01249296, -0.05174433],\n",
       "        [ 0.03568616, -0.01288005,  0.00131794],\n",
       "        [ 0.02379619, -0.03793692, -0.01072317],\n",
       "        [ 0.02039938, -0.00827974,  0.00708876],\n",
       "        [ 0.00190209, -0.0022744 , -0.00147275],\n",
       "        [-0.00393791, -0.00036605,  0.00352118],\n",
       "        [-0.00148385, -0.00696454,  0.0014431 ],\n",
       "        [ 0.00304248,  0.00768628, -0.00196846],\n",
       "        [-0.00450994,  0.00890541,  0.00317199],\n",
       "        [ 0.00155472,  0.01536808, -0.01826816],\n",
       "        [ 0.01087774, -0.00618947,  0.01595908],\n",
       "        [-0.03718925,  0.0167183 ,  0.02263634],\n",
       "        [ 0.0108807 , -0.01511776,  0.0188658 ],\n",
       "        [-0.0093195 , -0.00377916,  0.00705307],\n",
       "        [ 0.00832747, -0.00345194, -0.00129157],\n",
       "        [ 0.01077587,  0.00535741,  0.0098369 ],\n",
       "        [ 0.01154303, -0.01217837,  0.00100705],\n",
       "        [-0.00292295,  0.008952  ,  0.00091077],\n",
       "        [-0.00837943,  0.00687265,  0.01960671],\n",
       "        [ 0.00479731,  0.00408327,  0.00043362],\n",
       "        [-0.01210616,  0.01683534, -0.00113542],\n",
       "        [ 0.00088978, -0.000818  , -0.00060967],\n",
       "        [-0.00299929,  0.02361827,  0.01111261],\n",
       "        [-0.01131656,  0.00904773, -0.01171239]]),\n",
       " 'properties': {'calcinfo_nbasis': 376,\n",
       "  'calcinfo_nmo': 376,\n",
       "  'calcinfo_nalpha': 89,\n",
       "  'calcinfo_nbeta': 89,\n",
       "  'calcinfo_natom': 44,\n",
       "  'nuclear_repulsion_energy': 2138.2471899927477,\n",
       "  'return_energy': -1162.3871098026964,\n",
       "  'scf_one_electron_energy': -5855.27274150584,\n",
       "  'scf_two_electron_energy': 2682.3291777544778,\n",
       "  'scf_xc_energy': -127.59554580408235,\n",
       "  'scf_dispersion_correction_energy': -0.09519024,\n",
       "  'scf_dipole_moment': array([ 9.23104226,  1.14947218, -1.54022493]),\n",
       "  'scf_total_energy': -1162.3871098026964,\n",
       "  'scf_iterations': 18},\n",
       " 'wavefunction': None,\n",
       " 'wavefunction_data_id': None}"
      ]
     },
     "execution_count": 38,
     "metadata": {},
     "output_type": "execute_result"
    }
   ],
   "source": [
    "opt_record.get_trajectory()[0].dict()"
   ]
  },
  {
   "cell_type": "code",
   "execution_count": 39,
   "id": "e8500882-79c9-40bf-a5fe-dba87201a2b1",
   "metadata": {},
   "outputs": [
    {
     "data": {
      "application/vnd.jupyter.widget-view+json": {
       "model_id": "7bfbe72fd493432bb26b48f15fdf05ae",
       "version_major": 2,
       "version_minor": 0
      },
      "text/plain": [
       "NGLWidget()"
      ]
     },
     "metadata": {},
     "output_type": "display_data"
    }
   ],
   "source": [
    "opt_record.get_initial_molecule()"
   ]
  },
  {
   "cell_type": "code",
   "execution_count": 40,
   "id": "73defbcf-ea31-4216-9f49-f08e22753fa4",
   "metadata": {},
   "outputs": [
    {
     "data": {
      "text/html": [
       "        <script type=\"text/javascript\">\n",
       "        window.PlotlyConfig = {MathJaxConfig: 'local'};\n",
       "        if (window.MathJax && window.MathJax.Hub && window.MathJax.Hub.Config) {window.MathJax.Hub.Config({SVG: {font: \"STIX-Web\"}});}\n",
       "        if (typeof require !== 'undefined') {\n",
       "        require.undef(\"plotly\");\n",
       "        requirejs.config({\n",
       "            paths: {\n",
       "                'plotly': ['https://cdn.plot.ly/plotly-2.12.1.min']\n",
       "            }\n",
       "        });\n",
       "        require(['plotly'], function(Plotly) {\n",
       "            window._Plotly = Plotly;\n",
       "        });\n",
       "        }\n",
       "        </script>\n",
       "        "
      ]
     },
     "metadata": {},
     "output_type": "display_data"
    },
    {
     "data": {
      "application/vnd.plotly.v1+json": {
       "config": {
        "linkText": "Export to plot.ly",
        "plotlyServerURL": "https://plot.ly",
        "showLink": false
       },
       "data": [
        {
         "mode": "lines+markers",
         "type": "scatter",
         "x": [
          1,
          2,
          3,
          4,
          5,
          6,
          7,
          8,
          9,
          10,
          11,
          12,
          13,
          14,
          15,
          16,
          17,
          18,
          19,
          20,
          21,
          22,
          23,
          24,
          25,
          26,
          27,
          28,
          29,
          30,
          31,
          32,
          33,
          34,
          35,
          36,
          37,
          38,
          39,
          40,
          41,
          42,
          43,
          44,
          45,
          46,
          47,
          48,
          49,
          50,
          51,
          52,
          53,
          54,
          55,
          56,
          57,
          58,
          59,
          60,
          61,
          62,
          63,
          64,
          65,
          66,
          67,
          68,
          69,
          70,
          71,
          72,
          73,
          74,
          75,
          76,
          77,
          78,
          79,
          80,
          81,
          82,
          83,
          84,
          85,
          86,
          87,
          88,
          89,
          90,
          91,
          92,
          93,
          94,
          95,
          96,
          97,
          98,
          99,
          100,
          101,
          102,
          103,
          104,
          105,
          106,
          107,
          108,
          109,
          110,
          111,
          112,
          113,
          114,
          115,
          116,
          117,
          118,
          119,
          120,
          121,
          122,
          123,
          124,
          125,
          126,
          127,
          128,
          129,
          130,
          131,
          132,
          133,
          134,
          135
         ],
         "y": [
          67.767,
          51.845,
          30.392,
          26.19,
          20.988,
          20.473,
          18.081,
          17.85,
          16.426,
          16.136,
          14.924,
          14.469,
          13.712,
          12.824,
          11.635,
          11.106,
          12.711,
          9.998,
          23.28,
          9.722,
          8.913,
          8.608,
          8.115,
          7.448,
          6.605,
          5.837,
          5.357,
          7.323,
          5.299,
          4.892,
          4.698,
          4.518,
          4.214,
          3.509,
          3.684,
          2.567,
          2.276,
          1.925,
          1.802,
          1.503,
          1.359,
          1.276,
          1.15,
          0.962,
          0.737,
          0.624,
          0.539,
          0.491,
          0.452,
          0.395,
          0.36,
          0.318,
          0.274,
          0.217,
          0.146,
          0.117,
          0.114,
          0.074,
          0.063,
          0.052,
          0.041,
          0.037,
          0.041,
          0.033,
          0.029,
          0.019,
          0.014,
          0.005,
          0.005,
          0.002,
          0.001,
          0.002,
          0.005,
          0.011,
          0.006,
          0.003,
          0.001,
          0.001,
          0.001,
          0,
          0,
          0,
          0,
          0.001,
          0.001,
          0.001,
          0.002,
          0.002,
          0.002,
          0.002,
          0.003,
          0.003,
          0.003,
          0.003,
          0.003,
          0.003,
          0.003,
          0.002,
          0.002,
          0.001,
          0.001,
          0.002,
          0.002,
          0.003,
          0.003,
          0.004,
          0.003,
          0.004,
          0.004,
          0.005,
          0.005,
          0.004,
          0.003,
          0.002,
          0.002,
          0.002,
          0.001,
          0.002,
          0.002,
          0.002,
          0.003,
          0.003,
          0.003,
          0.004,
          0.004,
          0.004,
          0.004,
          0.004,
          0.004,
          0.004,
          0.003,
          0.003,
          0.002,
          0.002,
          0.002
         ]
        }
       ],
       "layout": {
        "autosize": true,
        "template": {
         "data": {
          "bar": [
           {
            "error_x": {
             "color": "#2a3f5f"
            },
            "error_y": {
             "color": "#2a3f5f"
            },
            "marker": {
             "line": {
              "color": "#E5ECF6",
              "width": 0.5
             },
             "pattern": {
              "fillmode": "overlay",
              "size": 10,
              "solidity": 0.2
             }
            },
            "type": "bar"
           }
          ],
          "barpolar": [
           {
            "marker": {
             "line": {
              "color": "#E5ECF6",
              "width": 0.5
             },
             "pattern": {
              "fillmode": "overlay",
              "size": 10,
              "solidity": 0.2
             }
            },
            "type": "barpolar"
           }
          ],
          "carpet": [
           {
            "aaxis": {
             "endlinecolor": "#2a3f5f",
             "gridcolor": "white",
             "linecolor": "white",
             "minorgridcolor": "white",
             "startlinecolor": "#2a3f5f"
            },
            "baxis": {
             "endlinecolor": "#2a3f5f",
             "gridcolor": "white",
             "linecolor": "white",
             "minorgridcolor": "white",
             "startlinecolor": "#2a3f5f"
            },
            "type": "carpet"
           }
          ],
          "choropleth": [
           {
            "colorbar": {
             "outlinewidth": 0,
             "ticks": ""
            },
            "type": "choropleth"
           }
          ],
          "contour": [
           {
            "colorbar": {
             "outlinewidth": 0,
             "ticks": ""
            },
            "colorscale": [
             [
              0,
              "#0d0887"
             ],
             [
              0.1111111111111111,
              "#46039f"
             ],
             [
              0.2222222222222222,
              "#7201a8"
             ],
             [
              0.3333333333333333,
              "#9c179e"
             ],
             [
              0.4444444444444444,
              "#bd3786"
             ],
             [
              0.5555555555555556,
              "#d8576b"
             ],
             [
              0.6666666666666666,
              "#ed7953"
             ],
             [
              0.7777777777777778,
              "#fb9f3a"
             ],
             [
              0.8888888888888888,
              "#fdca26"
             ],
             [
              1,
              "#f0f921"
             ]
            ],
            "type": "contour"
           }
          ],
          "contourcarpet": [
           {
            "colorbar": {
             "outlinewidth": 0,
             "ticks": ""
            },
            "type": "contourcarpet"
           }
          ],
          "heatmap": [
           {
            "colorbar": {
             "outlinewidth": 0,
             "ticks": ""
            },
            "colorscale": [
             [
              0,
              "#0d0887"
             ],
             [
              0.1111111111111111,
              "#46039f"
             ],
             [
              0.2222222222222222,
              "#7201a8"
             ],
             [
              0.3333333333333333,
              "#9c179e"
             ],
             [
              0.4444444444444444,
              "#bd3786"
             ],
             [
              0.5555555555555556,
              "#d8576b"
             ],
             [
              0.6666666666666666,
              "#ed7953"
             ],
             [
              0.7777777777777778,
              "#fb9f3a"
             ],
             [
              0.8888888888888888,
              "#fdca26"
             ],
             [
              1,
              "#f0f921"
             ]
            ],
            "type": "heatmap"
           }
          ],
          "heatmapgl": [
           {
            "colorbar": {
             "outlinewidth": 0,
             "ticks": ""
            },
            "colorscale": [
             [
              0,
              "#0d0887"
             ],
             [
              0.1111111111111111,
              "#46039f"
             ],
             [
              0.2222222222222222,
              "#7201a8"
             ],
             [
              0.3333333333333333,
              "#9c179e"
             ],
             [
              0.4444444444444444,
              "#bd3786"
             ],
             [
              0.5555555555555556,
              "#d8576b"
             ],
             [
              0.6666666666666666,
              "#ed7953"
             ],
             [
              0.7777777777777778,
              "#fb9f3a"
             ],
             [
              0.8888888888888888,
              "#fdca26"
             ],
             [
              1,
              "#f0f921"
             ]
            ],
            "type": "heatmapgl"
           }
          ],
          "histogram": [
           {
            "marker": {
             "pattern": {
              "fillmode": "overlay",
              "size": 10,
              "solidity": 0.2
             }
            },
            "type": "histogram"
           }
          ],
          "histogram2d": [
           {
            "colorbar": {
             "outlinewidth": 0,
             "ticks": ""
            },
            "colorscale": [
             [
              0,
              "#0d0887"
             ],
             [
              0.1111111111111111,
              "#46039f"
             ],
             [
              0.2222222222222222,
              "#7201a8"
             ],
             [
              0.3333333333333333,
              "#9c179e"
             ],
             [
              0.4444444444444444,
              "#bd3786"
             ],
             [
              0.5555555555555556,
              "#d8576b"
             ],
             [
              0.6666666666666666,
              "#ed7953"
             ],
             [
              0.7777777777777778,
              "#fb9f3a"
             ],
             [
              0.8888888888888888,
              "#fdca26"
             ],
             [
              1,
              "#f0f921"
             ]
            ],
            "type": "histogram2d"
           }
          ],
          "histogram2dcontour": [
           {
            "colorbar": {
             "outlinewidth": 0,
             "ticks": ""
            },
            "colorscale": [
             [
              0,
              "#0d0887"
             ],
             [
              0.1111111111111111,
              "#46039f"
             ],
             [
              0.2222222222222222,
              "#7201a8"
             ],
             [
              0.3333333333333333,
              "#9c179e"
             ],
             [
              0.4444444444444444,
              "#bd3786"
             ],
             [
              0.5555555555555556,
              "#d8576b"
             ],
             [
              0.6666666666666666,
              "#ed7953"
             ],
             [
              0.7777777777777778,
              "#fb9f3a"
             ],
             [
              0.8888888888888888,
              "#fdca26"
             ],
             [
              1,
              "#f0f921"
             ]
            ],
            "type": "histogram2dcontour"
           }
          ],
          "mesh3d": [
           {
            "colorbar": {
             "outlinewidth": 0,
             "ticks": ""
            },
            "type": "mesh3d"
           }
          ],
          "parcoords": [
           {
            "line": {
             "colorbar": {
              "outlinewidth": 0,
              "ticks": ""
             }
            },
            "type": "parcoords"
           }
          ],
          "pie": [
           {
            "automargin": true,
            "type": "pie"
           }
          ],
          "scatter": [
           {
            "fillpattern": {
             "fillmode": "overlay",
             "size": 10,
             "solidity": 0.2
            },
            "type": "scatter"
           }
          ],
          "scatter3d": [
           {
            "line": {
             "colorbar": {
              "outlinewidth": 0,
              "ticks": ""
             }
            },
            "marker": {
             "colorbar": {
              "outlinewidth": 0,
              "ticks": ""
             }
            },
            "type": "scatter3d"
           }
          ],
          "scattercarpet": [
           {
            "marker": {
             "colorbar": {
              "outlinewidth": 0,
              "ticks": ""
             }
            },
            "type": "scattercarpet"
           }
          ],
          "scattergeo": [
           {
            "marker": {
             "colorbar": {
              "outlinewidth": 0,
              "ticks": ""
             }
            },
            "type": "scattergeo"
           }
          ],
          "scattergl": [
           {
            "marker": {
             "colorbar": {
              "outlinewidth": 0,
              "ticks": ""
             }
            },
            "type": "scattergl"
           }
          ],
          "scattermapbox": [
           {
            "marker": {
             "colorbar": {
              "outlinewidth": 0,
              "ticks": ""
             }
            },
            "type": "scattermapbox"
           }
          ],
          "scatterpolar": [
           {
            "marker": {
             "colorbar": {
              "outlinewidth": 0,
              "ticks": ""
             }
            },
            "type": "scatterpolar"
           }
          ],
          "scatterpolargl": [
           {
            "marker": {
             "colorbar": {
              "outlinewidth": 0,
              "ticks": ""
             }
            },
            "type": "scatterpolargl"
           }
          ],
          "scatterternary": [
           {
            "marker": {
             "colorbar": {
              "outlinewidth": 0,
              "ticks": ""
             }
            },
            "type": "scatterternary"
           }
          ],
          "surface": [
           {
            "colorbar": {
             "outlinewidth": 0,
             "ticks": ""
            },
            "colorscale": [
             [
              0,
              "#0d0887"
             ],
             [
              0.1111111111111111,
              "#46039f"
             ],
             [
              0.2222222222222222,
              "#7201a8"
             ],
             [
              0.3333333333333333,
              "#9c179e"
             ],
             [
              0.4444444444444444,
              "#bd3786"
             ],
             [
              0.5555555555555556,
              "#d8576b"
             ],
             [
              0.6666666666666666,
              "#ed7953"
             ],
             [
              0.7777777777777778,
              "#fb9f3a"
             ],
             [
              0.8888888888888888,
              "#fdca26"
             ],
             [
              1,
              "#f0f921"
             ]
            ],
            "type": "surface"
           }
          ],
          "table": [
           {
            "cells": {
             "fill": {
              "color": "#EBF0F8"
             },
             "line": {
              "color": "white"
             }
            },
            "header": {
             "fill": {
              "color": "#C8D4E3"
             },
             "line": {
              "color": "white"
             }
            },
            "type": "table"
           }
          ]
         },
         "layout": {
          "annotationdefaults": {
           "arrowcolor": "#2a3f5f",
           "arrowhead": 0,
           "arrowwidth": 1
          },
          "autotypenumbers": "strict",
          "coloraxis": {
           "colorbar": {
            "outlinewidth": 0,
            "ticks": ""
           }
          },
          "colorscale": {
           "diverging": [
            [
             0,
             "#8e0152"
            ],
            [
             0.1,
             "#c51b7d"
            ],
            [
             0.2,
             "#de77ae"
            ],
            [
             0.3,
             "#f1b6da"
            ],
            [
             0.4,
             "#fde0ef"
            ],
            [
             0.5,
             "#f7f7f7"
            ],
            [
             0.6,
             "#e6f5d0"
            ],
            [
             0.7,
             "#b8e186"
            ],
            [
             0.8,
             "#7fbc41"
            ],
            [
             0.9,
             "#4d9221"
            ],
            [
             1,
             "#276419"
            ]
           ],
           "sequential": [
            [
             0,
             "#0d0887"
            ],
            [
             0.1111111111111111,
             "#46039f"
            ],
            [
             0.2222222222222222,
             "#7201a8"
            ],
            [
             0.3333333333333333,
             "#9c179e"
            ],
            [
             0.4444444444444444,
             "#bd3786"
            ],
            [
             0.5555555555555556,
             "#d8576b"
            ],
            [
             0.6666666666666666,
             "#ed7953"
            ],
            [
             0.7777777777777778,
             "#fb9f3a"
            ],
            [
             0.8888888888888888,
             "#fdca26"
            ],
            [
             1,
             "#f0f921"
            ]
           ],
           "sequentialminus": [
            [
             0,
             "#0d0887"
            ],
            [
             0.1111111111111111,
             "#46039f"
            ],
            [
             0.2222222222222222,
             "#7201a8"
            ],
            [
             0.3333333333333333,
             "#9c179e"
            ],
            [
             0.4444444444444444,
             "#bd3786"
            ],
            [
             0.5555555555555556,
             "#d8576b"
            ],
            [
             0.6666666666666666,
             "#ed7953"
            ],
            [
             0.7777777777777778,
             "#fb9f3a"
            ],
            [
             0.8888888888888888,
             "#fdca26"
            ],
            [
             1,
             "#f0f921"
            ]
           ]
          },
          "colorway": [
           "#636efa",
           "#EF553B",
           "#00cc96",
           "#ab63fa",
           "#FFA15A",
           "#19d3f3",
           "#FF6692",
           "#B6E880",
           "#FF97FF",
           "#FECB52"
          ],
          "font": {
           "color": "#2a3f5f"
          },
          "geo": {
           "bgcolor": "white",
           "lakecolor": "white",
           "landcolor": "#E5ECF6",
           "showlakes": true,
           "showland": true,
           "subunitcolor": "white"
          },
          "hoverlabel": {
           "align": "left"
          },
          "hovermode": "closest",
          "mapbox": {
           "style": "light"
          },
          "paper_bgcolor": "white",
          "plot_bgcolor": "#E5ECF6",
          "polar": {
           "angularaxis": {
            "gridcolor": "white",
            "linecolor": "white",
            "ticks": ""
           },
           "bgcolor": "#E5ECF6",
           "radialaxis": {
            "gridcolor": "white",
            "linecolor": "white",
            "ticks": ""
           }
          },
          "scene": {
           "xaxis": {
            "backgroundcolor": "#E5ECF6",
            "gridcolor": "white",
            "gridwidth": 2,
            "linecolor": "white",
            "showbackground": true,
            "ticks": "",
            "zerolinecolor": "white"
           },
           "yaxis": {
            "backgroundcolor": "#E5ECF6",
            "gridcolor": "white",
            "gridwidth": 2,
            "linecolor": "white",
            "showbackground": true,
            "ticks": "",
            "zerolinecolor": "white"
           },
           "zaxis": {
            "backgroundcolor": "#E5ECF6",
            "gridcolor": "white",
            "gridwidth": 2,
            "linecolor": "white",
            "showbackground": true,
            "ticks": "",
            "zerolinecolor": "white"
           }
          },
          "shapedefaults": {
           "line": {
            "color": "#2a3f5f"
           }
          },
          "ternary": {
           "aaxis": {
            "gridcolor": "white",
            "linecolor": "white",
            "ticks": ""
           },
           "baxis": {
            "gridcolor": "white",
            "linecolor": "white",
            "ticks": ""
           },
           "bgcolor": "#E5ECF6",
           "caxis": {
            "gridcolor": "white",
            "linecolor": "white",
            "ticks": ""
           }
          },
          "title": {
           "x": 0.05
          },
          "xaxis": {
           "automargin": true,
           "gridcolor": "white",
           "linecolor": "white",
           "ticks": "",
           "title": {
            "standoff": 15
           },
           "zerolinecolor": "white",
           "zerolinewidth": 2
          },
          "yaxis": {
           "automargin": true,
           "gridcolor": "white",
           "linecolor": "white",
           "ticks": "",
           "title": {
            "standoff": 15
           },
           "zerolinecolor": "white",
           "zerolinewidth": 2
          }
         }
        },
        "title": {
         "text": "Geometry Optimization"
        },
        "xaxis": {
         "range": [
          1,
          135
         ],
         "title": {
          "text": "Optimization Step"
         },
         "type": "linear"
        },
        "yaxis": {
         "autorange": true,
         "range": [
          -5.592422330097087,
          73.35942233009709
         ],
         "title": {
          "text": "Relative Energy [kcal/mol]"
         },
         "type": "linear",
         "zeroline": true
        }
       }
      },
      "image/png": "[encoded data removed]",
      "text/html": [
       "<div>                            <div id=\"de94a476-0388-48dc-818b-f4b82c4eb931\" class=\"plotly-graph-div\" style=\"height:525px; width:100%;\"></div>            <script type=\"text/javascript\">                require([\"plotly\"], function(Plotly) {                    window.PLOTLYENV=window.PLOTLYENV || {};                                    if (document.getElementById(\"de94a476-0388-48dc-818b-f4b82c4eb931\")) {                    Plotly.newPlot(                        \"de94a476-0388-48dc-818b-f4b82c4eb931\",                        [{\"mode\":\"lines+markers\",\"x\":[1,2,3,4,5,6,7,8,9,10,11,12,13,14,15,16,17,18,19,20,21,22,23,24,25,26,27,28,29,30,31,32,33,34,35,36,37,38,39,40,41,42,43,44,45,46,47,48,49,50,51,52,53,54,55,56,57,58,59,60,61,62,63,64,65,66,67,68,69,70,71,72,73,74,75,76,77,78,79,80,81,82,83,84,85,86,87,88,89,90,91,92,93,94,95,96,97,98,99,100,101,102,103,104,105,106,107,108,109,110,111,112,113,114,115,116,117,118,119,120,121,122,123,124,125,126,127,128,129,130,131,132,133,134,135],\"y\":[67.767,51.845,30.392,26.19,20.988,20.473,18.081,17.85,16.426,16.136,14.924,14.469,13.712,12.824,11.635,11.106,12.711,9.998,23.28,9.722,8.913,8.608,8.115,7.448,6.605,5.837,5.357,7.323,5.299,4.892,4.698,4.518,4.214,3.509,3.684,2.567,2.276,1.925,1.802,1.503,1.359,1.276,1.15,0.962,0.737,0.624,0.539,0.491,0.452,0.395,0.36,0.318,0.274,0.217,0.146,0.117,0.114,0.074,0.063,0.052,0.041,0.037,0.041,0.033,0.029,0.019,0.014,0.005,0.005,0.002,0.001,0.002,0.005,0.011,0.006,0.003,0.001,0.001,0.001,0.0,0.0,0.0,0.0,0.001,0.001,0.001,0.002,0.002,0.002,0.002,0.003,0.003,0.003,0.003,0.003,0.003,0.003,0.002,0.002,0.001,0.001,0.002,0.002,0.003,0.003,0.004,0.003,0.004,0.004,0.005,0.005,0.004,0.003,0.002,0.002,0.002,0.001,0.002,0.002,0.002,0.003,0.003,0.003,0.004,0.004,0.004,0.004,0.004,0.004,0.004,0.003,0.003,0.002,0.002,0.002],\"type\":\"scatter\"}],                        {\"template\":{\"data\":{\"barpolar\":[{\"marker\":{\"line\":{\"color\":\"#E5ECF6\",\"width\":0.5},\"pattern\":{\"fillmode\":\"overlay\",\"size\":10,\"solidity\":0.2}},\"type\":\"barpolar\"}],\"bar\":[{\"error_x\":{\"color\":\"#2a3f5f\"},\"error_y\":{\"color\":\"#2a3f5f\"},\"marker\":{\"line\":{\"color\":\"#E5ECF6\",\"width\":0.5},\"pattern\":{\"fillmode\":\"overlay\",\"size\":10,\"solidity\":0.2}},\"type\":\"bar\"}],\"carpet\":[{\"aaxis\":{\"endlinecolor\":\"#2a3f5f\",\"gridcolor\":\"white\",\"linecolor\":\"white\",\"minorgridcolor\":\"white\",\"startlinecolor\":\"#2a3f5f\"},\"baxis\":{\"endlinecolor\":\"#2a3f5f\",\"gridcolor\":\"white\",\"linecolor\":\"white\",\"minorgridcolor\":\"white\",\"startlinecolor\":\"#2a3f5f\"},\"type\":\"carpet\"}],\"choropleth\":[{\"colorbar\":{\"outlinewidth\":0,\"ticks\":\"\"},\"type\":\"choropleth\"}],\"contourcarpet\":[{\"colorbar\":{\"outlinewidth\":0,\"ticks\":\"\"},\"type\":\"contourcarpet\"}],\"contour\":[{\"colorbar\":{\"outlinewidth\":0,\"ticks\":\"\"},\"colorscale\":[[0.0,\"#0d0887\"],[0.1111111111111111,\"#46039f\"],[0.2222222222222222,\"#7201a8\"],[0.3333333333333333,\"#9c179e\"],[0.4444444444444444,\"#bd3786\"],[0.5555555555555556,\"#d8576b\"],[0.6666666666666666,\"#ed7953\"],[0.7777777777777778,\"#fb9f3a\"],[0.8888888888888888,\"#fdca26\"],[1.0,\"#f0f921\"]],\"type\":\"contour\"}],\"heatmapgl\":[{\"colorbar\":{\"outlinewidth\":0,\"ticks\":\"\"},\"colorscale\":[[0.0,\"#0d0887\"],[0.1111111111111111,\"#46039f\"],[0.2222222222222222,\"#7201a8\"],[0.3333333333333333,\"#9c179e\"],[0.4444444444444444,\"#bd3786\"],[0.5555555555555556,\"#d8576b\"],[0.6666666666666666,\"#ed7953\"],[0.7777777777777778,\"#fb9f3a\"],[0.8888888888888888,\"#fdca26\"],[1.0,\"#f0f921\"]],\"type\":\"heatmapgl\"}],\"heatmap\":[{\"colorbar\":{\"outlinewidth\":0,\"ticks\":\"\"},\"colorscale\":[[0.0,\"#0d0887\"],[0.1111111111111111,\"#46039f\"],[0.2222222222222222,\"#7201a8\"],[0.3333333333333333,\"#9c179e\"],[0.4444444444444444,\"#bd3786\"],[0.5555555555555556,\"#d8576b\"],[0.6666666666666666,\"#ed7953\"],[0.7777777777777778,\"#fb9f3a\"],[0.8888888888888888,\"#fdca26\"],[1.0,\"#f0f921\"]],\"type\":\"heatmap\"}],\"histogram2dcontour\":[{\"colorbar\":{\"outlinewidth\":0,\"ticks\":\"\"},\"colorscale\":[[0.0,\"#0d0887\"],[0.1111111111111111,\"#46039f\"],[0.2222222222222222,\"#7201a8\"],[0.3333333333333333,\"#9c179e\"],[0.4444444444444444,\"#bd3786\"],[0.5555555555555556,\"#d8576b\"],[0.6666666666666666,\"#ed7953\"],[0.7777777777777778,\"#fb9f3a\"],[0.8888888888888888,\"#fdca26\"],[1.0,\"#f0f921\"]],\"type\":\"histogram2dcontour\"}],\"histogram2d\":[{\"colorbar\":{\"outlinewidth\":0,\"ticks\":\"\"},\"colorscale\":[[0.0,\"#0d0887\"],[0.1111111111111111,\"#46039f\"],[0.2222222222222222,\"#7201a8\"],[0.3333333333333333,\"#9c179e\"],[0.4444444444444444,\"#bd3786\"],[0.5555555555555556,\"#d8576b\"],[0.6666666666666666,\"#ed7953\"],[0.7777777777777778,\"#fb9f3a\"],[0.8888888888888888,\"#fdca26\"],[1.0,\"#f0f921\"]],\"type\":\"histogram2d\"}],\"histogram\":[{\"marker\":{\"pattern\":{\"fillmode\":\"overlay\",\"size\":10,\"solidity\":0.2}},\"type\":\"histogram\"}],\"mesh3d\":[{\"colorbar\":{\"outlinewidth\":0,\"ticks\":\"\"},\"type\":\"mesh3d\"}],\"parcoords\":[{\"line\":{\"colorbar\":{\"outlinewidth\":0,\"ticks\":\"\"}},\"type\":\"parcoords\"}],\"pie\":[{\"automargin\":true,\"type\":\"pie\"}],\"scatter3d\":[{\"line\":{\"colorbar\":{\"outlinewidth\":0,\"ticks\":\"\"}},\"marker\":{\"colorbar\":{\"outlinewidth\":0,\"ticks\":\"\"}},\"type\":\"scatter3d\"}],\"scattercarpet\":[{\"marker\":{\"colorbar\":{\"outlinewidth\":0,\"ticks\":\"\"}},\"type\":\"scattercarpet\"}],\"scattergeo\":[{\"marker\":{\"colorbar\":{\"outlinewidth\":0,\"ticks\":\"\"}},\"type\":\"scattergeo\"}],\"scattergl\":[{\"marker\":{\"colorbar\":{\"outlinewidth\":0,\"ticks\":\"\"}},\"type\":\"scattergl\"}],\"scattermapbox\":[{\"marker\":{\"colorbar\":{\"outlinewidth\":0,\"ticks\":\"\"}},\"type\":\"scattermapbox\"}],\"scatterpolargl\":[{\"marker\":{\"colorbar\":{\"outlinewidth\":0,\"ticks\":\"\"}},\"type\":\"scatterpolargl\"}],\"scatterpolar\":[{\"marker\":{\"colorbar\":{\"outlinewidth\":0,\"ticks\":\"\"}},\"type\":\"scatterpolar\"}],\"scatter\":[{\"fillpattern\":{\"fillmode\":\"overlay\",\"size\":10,\"solidity\":0.2},\"type\":\"scatter\"}],\"scatterternary\":[{\"marker\":{\"colorbar\":{\"outlinewidth\":0,\"ticks\":\"\"}},\"type\":\"scatterternary\"}],\"surface\":[{\"colorbar\":{\"outlinewidth\":0,\"ticks\":\"\"},\"colorscale\":[[0.0,\"#0d0887\"],[0.1111111111111111,\"#46039f\"],[0.2222222222222222,\"#7201a8\"],[0.3333333333333333,\"#9c179e\"],[0.4444444444444444,\"#bd3786\"],[0.5555555555555556,\"#d8576b\"],[0.6666666666666666,\"#ed7953\"],[0.7777777777777778,\"#fb9f3a\"],[0.8888888888888888,\"#fdca26\"],[1.0,\"#f0f921\"]],\"type\":\"surface\"}],\"table\":[{\"cells\":{\"fill\":{\"color\":\"#EBF0F8\"},\"line\":{\"color\":\"white\"}},\"header\":{\"fill\":{\"color\":\"#C8D4E3\"},\"line\":{\"color\":\"white\"}},\"type\":\"table\"}]},\"layout\":{\"annotationdefaults\":{\"arrowcolor\":\"#2a3f5f\",\"arrowhead\":0,\"arrowwidth\":1},\"autotypenumbers\":\"strict\",\"coloraxis\":{\"colorbar\":{\"outlinewidth\":0,\"ticks\":\"\"}},\"colorscale\":{\"diverging\":[[0,\"#8e0152\"],[0.1,\"#c51b7d\"],[0.2,\"#de77ae\"],[0.3,\"#f1b6da\"],[0.4,\"#fde0ef\"],[0.5,\"#f7f7f7\"],[0.6,\"#e6f5d0\"],[0.7,\"#b8e186\"],[0.8,\"#7fbc41\"],[0.9,\"#4d9221\"],[1,\"#276419\"]],\"sequential\":[[0.0,\"#0d0887\"],[0.1111111111111111,\"#46039f\"],[0.2222222222222222,\"#7201a8\"],[0.3333333333333333,\"#9c179e\"],[0.4444444444444444,\"#bd3786\"],[0.5555555555555556,\"#d8576b\"],[0.6666666666666666,\"#ed7953\"],[0.7777777777777778,\"#fb9f3a\"],[0.8888888888888888,\"#fdca26\"],[1.0,\"#f0f921\"]],\"sequentialminus\":[[0.0,\"#0d0887\"],[0.1111111111111111,\"#46039f\"],[0.2222222222222222,\"#7201a8\"],[0.3333333333333333,\"#9c179e\"],[0.4444444444444444,\"#bd3786\"],[0.5555555555555556,\"#d8576b\"],[0.6666666666666666,\"#ed7953\"],[0.7777777777777778,\"#fb9f3a\"],[0.8888888888888888,\"#fdca26\"],[1.0,\"#f0f921\"]]},\"colorway\":[\"#636efa\",\"#EF553B\",\"#00cc96\",\"#ab63fa\",\"#FFA15A\",\"#19d3f3\",\"#FF6692\",\"#B6E880\",\"#FF97FF\",\"#FECB52\"],\"font\":{\"color\":\"#2a3f5f\"},\"geo\":{\"bgcolor\":\"white\",\"lakecolor\":\"white\",\"landcolor\":\"#E5ECF6\",\"showlakes\":true,\"showland\":true,\"subunitcolor\":\"white\"},\"hoverlabel\":{\"align\":\"left\"},\"hovermode\":\"closest\",\"mapbox\":{\"style\":\"light\"},\"paper_bgcolor\":\"white\",\"plot_bgcolor\":\"#E5ECF6\",\"polar\":{\"angularaxis\":{\"gridcolor\":\"white\",\"linecolor\":\"white\",\"ticks\":\"\"},\"bgcolor\":\"#E5ECF6\",\"radialaxis\":{\"gridcolor\":\"white\",\"linecolor\":\"white\",\"ticks\":\"\"}},\"scene\":{\"xaxis\":{\"backgroundcolor\":\"#E5ECF6\",\"gridcolor\":\"white\",\"gridwidth\":2,\"linecolor\":\"white\",\"showbackground\":true,\"ticks\":\"\",\"zerolinecolor\":\"white\"},\"yaxis\":{\"backgroundcolor\":\"#E5ECF6\",\"gridcolor\":\"white\",\"gridwidth\":2,\"linecolor\":\"white\",\"showbackground\":true,\"ticks\":\"\",\"zerolinecolor\":\"white\"},\"zaxis\":{\"backgroundcolor\":\"#E5ECF6\",\"gridcolor\":\"white\",\"gridwidth\":2,\"linecolor\":\"white\",\"showbackground\":true,\"ticks\":\"\",\"zerolinecolor\":\"white\"}},\"shapedefaults\":{\"line\":{\"color\":\"#2a3f5f\"}},\"ternary\":{\"aaxis\":{\"gridcolor\":\"white\",\"linecolor\":\"white\",\"ticks\":\"\"},\"baxis\":{\"gridcolor\":\"white\",\"linecolor\":\"white\",\"ticks\":\"\"},\"bgcolor\":\"#E5ECF6\",\"caxis\":{\"gridcolor\":\"white\",\"linecolor\":\"white\",\"ticks\":\"\"}},\"title\":{\"x\":0.05},\"xaxis\":{\"automargin\":true,\"gridcolor\":\"white\",\"linecolor\":\"white\",\"ticks\":\"\",\"title\":{\"standoff\":15},\"zerolinecolor\":\"white\",\"zerolinewidth\":2},\"yaxis\":{\"automargin\":true,\"gridcolor\":\"white\",\"linecolor\":\"white\",\"ticks\":\"\",\"title\":{\"standoff\":15},\"zerolinecolor\":\"white\",\"zerolinewidth\":2}}},\"title\":{\"text\":\"Geometry Optimization\"},\"xaxis\":{\"range\":[1,135],\"title\":{\"text\":\"Optimization Step\"}},\"yaxis\":{\"title\":{\"text\":\"Relative Energy [kcal/mol]\"},\"zeroline\":true}},                        {\"responsive\": true}                    ).then(function(){\n",
       "                            \n",
       "var gd = document.getElementById('de94a476-0388-48dc-818b-f4b82c4eb931');\n",
       "var x = new MutationObserver(function (mutations, observer) {{\n",
       "        var display = window.getComputedStyle(gd).display;\n",
       "        if (!display || display === 'none') {{\n",
       "            console.log([gd, 'removed!']);\n",
       "            Plotly.purge(gd);\n",
       "            observer.disconnect();\n",
       "        }}\n",
       "}});\n",
       "\n",
       "// Listen for the removal of the full notebook cells\n",
       "var notebookContainer = gd.closest('#notebook-container');\n",
       "if (notebookContainer) {{\n",
       "    x.observe(notebookContainer, {childList: true});\n",
       "}}\n",
       "\n",
       "// Listen for the clearing of the current output cell\n",
       "var outputEl = gd.closest('.output');\n",
       "if (outputEl) {{\n",
       "    x.observe(outputEl, {childList: true});\n",
       "}}\n",
       "\n",
       "                        })                };                });            </script>        </div>"
      ]
     },
     "metadata": {},
     "output_type": "display_data"
    }
   ],
   "source": [
    "opt_record.show_history()"
   ]
  },
  {
   "cell_type": "code",
   "execution_count": 41,
   "id": "06bb4d5a-8c94-4c0f-b643-cfc0636cab4f",
   "metadata": {},
   "outputs": [],
   "source": [
    "mols = opt_record.get_molecular_trajectory()"
   ]
  },
  {
   "cell_type": "code",
   "execution_count": 42,
   "id": "e4417a71-2439-477e-967a-7265480149bb",
   "metadata": {},
   "outputs": [
    {
     "data": {
      "text/plain": [
       "qcelemental.models.molecule.Molecule"
      ]
     },
     "execution_count": 42,
     "metadata": {},
     "output_type": "execute_result"
    }
   ],
   "source": [
    "type(mols[0])"
   ]
  },
  {
   "cell_type": "code",
   "execution_count": 43,
   "id": "9990561a-7aeb-446a-b875-3defd10e5850",
   "metadata": {},
   "outputs": [],
   "source": [
    "offmols = Molecule.from_qcschema(mols[0])\n",
    "\n",
    "for mol in mols[1:]:\n",
    "    m = Molecule.from_qcschema(mol)\n",
    "    offmols.add_conformer(m.conformers[0])    "
   ]
  },
  {
   "cell_type": "code",
   "execution_count": 44,
   "id": "930ad271-36ad-4650-b8df-1f3845659d16",
   "metadata": {},
   "outputs": [
    {
     "data": {
      "application/vnd.jupyter.widget-view+json": {
       "model_id": "cf2c5d0ebc7f4b299714c95a70b1bd62",
       "version_major": 2,
       "version_minor": 0
      },
      "text/plain": [
       "NGLWidget(max_frame=134)"
      ]
     },
     "metadata": {},
     "output_type": "display_data"
    }
   ],
   "source": [
    "offmols"
   ]
  },
  {
   "cell_type": "code",
   "execution_count": 45,
   "id": "491db3f5-ef32-44ea-9e8c-816956f8e869",
   "metadata": {},
   "outputs": [
    {
     "data": {
      "text/plain": [
       "-1162.4951011118994"
      ]
     },
     "execution_count": 45,
     "metadata": {},
     "output_type": "execute_result"
    }
   ],
   "source": [
    "opt_record.get_final_energy()"
   ]
  },
  {
   "cell_type": "code",
   "execution_count": 46,
   "id": "3e3b7a8a-bec8-413e-a87c-ccb5291df755",
   "metadata": {},
   "outputs": [
    {
     "name": "stdout",
     "output_type": "stream",
     "text": [
      "cc(=o)n[c@@h](ccc(=o)[o-])c(=o)n[c@@h](cc1ccccc1)c(n)=o-0\n"
     ]
    }
   ],
   "source": [
    "# try default-dlc\n",
    "record_names = list(openff_pepconf_opt.data.records)\n",
    "#opt_record = openff_pepconf_opt.get_record(record_names[0], specification=\"default-dlc\")\n",
    "opt_record = openff_pepconf_opt.get_record(record_names[1], specification=\"default-dlc\")\n",
    "print(record_names[0])"
   ]
  },
  {
   "cell_type": "code",
   "execution_count": 47,
   "id": "2141ee72-6a0e-4c1c-a037-d6e73204cf90",
   "metadata": {},
   "outputs": [
    {
     "data": {
      "application/vnd.jupyter.widget-view+json": {
       "model_id": "1b327f27b3524538b40b4a26503d664b",
       "version_major": 2,
       "version_minor": 0
      },
      "text/plain": [
       "NGLWidget()"
      ]
     },
     "metadata": {},
     "output_type": "display_data"
    }
   ],
   "source": [
    "opt_record.get_initial_molecule()"
   ]
  },
  {
   "cell_type": "code",
   "execution_count": 48,
   "id": "acfdebf1-00a1-4157-bcf1-2c4bd5b23d7b",
   "metadata": {},
   "outputs": [
    {
     "data": {
      "text/html": [
       "        <script type=\"text/javascript\">\n",
       "        window.PlotlyConfig = {MathJaxConfig: 'local'};\n",
       "        if (window.MathJax && window.MathJax.Hub && window.MathJax.Hub.Config) {window.MathJax.Hub.Config({SVG: {font: \"STIX-Web\"}});}\n",
       "        if (typeof require !== 'undefined') {\n",
       "        require.undef(\"plotly\");\n",
       "        requirejs.config({\n",
       "            paths: {\n",
       "                'plotly': ['https://cdn.plot.ly/plotly-2.12.1.min']\n",
       "            }\n",
       "        });\n",
       "        require(['plotly'], function(Plotly) {\n",
       "            window._Plotly = Plotly;\n",
       "        });\n",
       "        }\n",
       "        </script>\n",
       "        "
      ]
     },
     "metadata": {},
     "output_type": "display_data"
    },
    {
     "data": {
      "application/vnd.plotly.v1+json": {
       "config": {
        "linkText": "Export to plot.ly",
        "plotlyServerURL": "https://plot.ly",
        "showLink": false
       },
       "data": [
        {
         "mode": "lines+markers",
         "type": "scatter",
         "x": [
          1,
          2,
          3,
          4,
          5,
          6,
          7,
          8,
          9,
          10,
          11,
          12,
          13,
          14,
          15,
          16,
          17,
          18,
          19,
          20,
          21,
          22,
          23,
          24,
          25,
          26,
          27,
          28,
          29,
          30,
          31,
          32,
          33,
          34,
          35,
          36,
          37,
          38,
          39,
          40,
          41,
          42,
          43,
          44,
          45,
          46,
          47,
          48,
          49,
          50,
          51,
          52,
          53,
          54,
          55,
          56,
          57,
          58,
          59,
          60,
          61,
          62,
          63,
          64,
          65,
          66,
          67,
          68,
          69,
          70,
          71,
          72,
          73,
          74,
          75,
          76,
          77,
          78,
          79,
          80,
          81
         ],
         "y": [
          67.742,
          51.82,
          30.366,
          26.165,
          20.963,
          20.447,
          18.056,
          17.826,
          16.399,
          16.11,
          14.897,
          14.441,
          13.685,
          12.797,
          11.608,
          11.087,
          12.744,
          9.976,
          14.003,
          9.292,
          10.376,
          8.925,
          8.717,
          8.014,
          7.433,
          6.909,
          6.176,
          5.442,
          4.988,
          4.783,
          4.515,
          4.336,
          3.994,
          3.311,
          2.867,
          2.411,
          2.025,
          1.798,
          1.652,
          1.51,
          1.298,
          1.217,
          1.128,
          1.016,
          0.845,
          0.665,
          0.508,
          0.455,
          0.399,
          0.357,
          0.326,
          0.258,
          0.193,
          0.159,
          0.111,
          0.077,
          0.056,
          0.032,
          0.02,
          0.016,
          0.013,
          0.01,
          0.008,
          0.007,
          0.007,
          0.007,
          0.007,
          0.007,
          0.007,
          0.007,
          0.006,
          0.006,
          0.006,
          0.006,
          0.006,
          0.005,
          0.005,
          0.004,
          0.002,
          0,
          0
         ]
        }
       ],
       "layout": {
        "autosize": true,
        "template": {
         "data": {
          "bar": [
           {
            "error_x": {
             "color": "#2a3f5f"
            },
            "error_y": {
             "color": "#2a3f5f"
            },
            "marker": {
             "line": {
              "color": "#E5ECF6",
              "width": 0.5
             },
             "pattern": {
              "fillmode": "overlay",
              "size": 10,
              "solidity": 0.2
             }
            },
            "type": "bar"
           }
          ],
          "barpolar": [
           {
            "marker": {
             "line": {
              "color": "#E5ECF6",
              "width": 0.5
             },
             "pattern": {
              "fillmode": "overlay",
              "size": 10,
              "solidity": 0.2
             }
            },
            "type": "barpolar"
           }
          ],
          "carpet": [
           {
            "aaxis": {
             "endlinecolor": "#2a3f5f",
             "gridcolor": "white",
             "linecolor": "white",
             "minorgridcolor": "white",
             "startlinecolor": "#2a3f5f"
            },
            "baxis": {
             "endlinecolor": "#2a3f5f",
             "gridcolor": "white",
             "linecolor": "white",
             "minorgridcolor": "white",
             "startlinecolor": "#2a3f5f"
            },
            "type": "carpet"
           }
          ],
          "choropleth": [
           {
            "colorbar": {
             "outlinewidth": 0,
             "ticks": ""
            },
            "type": "choropleth"
           }
          ],
          "contour": [
           {
            "colorbar": {
             "outlinewidth": 0,
             "ticks": ""
            },
            "colorscale": [
             [
              0,
              "#0d0887"
             ],
             [
              0.1111111111111111,
              "#46039f"
             ],
             [
              0.2222222222222222,
              "#7201a8"
             ],
             [
              0.3333333333333333,
              "#9c179e"
             ],
             [
              0.4444444444444444,
              "#bd3786"
             ],
             [
              0.5555555555555556,
              "#d8576b"
             ],
             [
              0.6666666666666666,
              "#ed7953"
             ],
             [
              0.7777777777777778,
              "#fb9f3a"
             ],
             [
              0.8888888888888888,
              "#fdca26"
             ],
             [
              1,
              "#f0f921"
             ]
            ],
            "type": "contour"
           }
          ],
          "contourcarpet": [
           {
            "colorbar": {
             "outlinewidth": 0,
             "ticks": ""
            },
            "type": "contourcarpet"
           }
          ],
          "heatmap": [
           {
            "colorbar": {
             "outlinewidth": 0,
             "ticks": ""
            },
            "colorscale": [
             [
              0,
              "#0d0887"
             ],
             [
              0.1111111111111111,
              "#46039f"
             ],
             [
              0.2222222222222222,
              "#7201a8"
             ],
             [
              0.3333333333333333,
              "#9c179e"
             ],
             [
              0.4444444444444444,
              "#bd3786"
             ],
             [
              0.5555555555555556,
              "#d8576b"
             ],
             [
              0.6666666666666666,
              "#ed7953"
             ],
             [
              0.7777777777777778,
              "#fb9f3a"
             ],
             [
              0.8888888888888888,
              "#fdca26"
             ],
             [
              1,
              "#f0f921"
             ]
            ],
            "type": "heatmap"
           }
          ],
          "heatmapgl": [
           {
            "colorbar": {
             "outlinewidth": 0,
             "ticks": ""
            },
            "colorscale": [
             [
              0,
              "#0d0887"
             ],
             [
              0.1111111111111111,
              "#46039f"
             ],
             [
              0.2222222222222222,
              "#7201a8"
             ],
             [
              0.3333333333333333,
              "#9c179e"
             ],
             [
              0.4444444444444444,
              "#bd3786"
             ],
             [
              0.5555555555555556,
              "#d8576b"
             ],
             [
              0.6666666666666666,
              "#ed7953"
             ],
             [
              0.7777777777777778,
              "#fb9f3a"
             ],
             [
              0.8888888888888888,
              "#fdca26"
             ],
             [
              1,
              "#f0f921"
             ]
            ],
            "type": "heatmapgl"
           }
          ],
          "histogram": [
           {
            "marker": {
             "pattern": {
              "fillmode": "overlay",
              "size": 10,
              "solidity": 0.2
             }
            },
            "type": "histogram"
           }
          ],
          "histogram2d": [
           {
            "colorbar": {
             "outlinewidth": 0,
             "ticks": ""
            },
            "colorscale": [
             [
              0,
              "#0d0887"
             ],
             [
              0.1111111111111111,
              "#46039f"
             ],
             [
              0.2222222222222222,
              "#7201a8"
             ],
             [
              0.3333333333333333,
              "#9c179e"
             ],
             [
              0.4444444444444444,
              "#bd3786"
             ],
             [
              0.5555555555555556,
              "#d8576b"
             ],
             [
              0.6666666666666666,
              "#ed7953"
             ],
             [
              0.7777777777777778,
              "#fb9f3a"
             ],
             [
              0.8888888888888888,
              "#fdca26"
             ],
             [
              1,
              "#f0f921"
             ]
            ],
            "type": "histogram2d"
           }
          ],
          "histogram2dcontour": [
           {
            "colorbar": {
             "outlinewidth": 0,
             "ticks": ""
            },
            "colorscale": [
             [
              0,
              "#0d0887"
             ],
             [
              0.1111111111111111,
              "#46039f"
             ],
             [
              0.2222222222222222,
              "#7201a8"
             ],
             [
              0.3333333333333333,
              "#9c179e"
             ],
             [
              0.4444444444444444,
              "#bd3786"
             ],
             [
              0.5555555555555556,
              "#d8576b"
             ],
             [
              0.6666666666666666,
              "#ed7953"
             ],
             [
              0.7777777777777778,
              "#fb9f3a"
             ],
             [
              0.8888888888888888,
              "#fdca26"
             ],
             [
              1,
              "#f0f921"
             ]
            ],
            "type": "histogram2dcontour"
           }
          ],
          "mesh3d": [
           {
            "colorbar": {
             "outlinewidth": 0,
             "ticks": ""
            },
            "type": "mesh3d"
           }
          ],
          "parcoords": [
           {
            "line": {
             "colorbar": {
              "outlinewidth": 0,
              "ticks": ""
             }
            },
            "type": "parcoords"
           }
          ],
          "pie": [
           {
            "automargin": true,
            "type": "pie"
           }
          ],
          "scatter": [
           {
            "fillpattern": {
             "fillmode": "overlay",
             "size": 10,
             "solidity": 0.2
            },
            "type": "scatter"
           }
          ],
          "scatter3d": [
           {
            "line": {
             "colorbar": {
              "outlinewidth": 0,
              "ticks": ""
             }
            },
            "marker": {
             "colorbar": {
              "outlinewidth": 0,
              "ticks": ""
             }
            },
            "type": "scatter3d"
           }
          ],
          "scattercarpet": [
           {
            "marker": {
             "colorbar": {
              "outlinewidth": 0,
              "ticks": ""
             }
            },
            "type": "scattercarpet"
           }
          ],
          "scattergeo": [
           {
            "marker": {
             "colorbar": {
              "outlinewidth": 0,
              "ticks": ""
             }
            },
            "type": "scattergeo"
           }
          ],
          "scattergl": [
           {
            "marker": {
             "colorbar": {
              "outlinewidth": 0,
              "ticks": ""
             }
            },
            "type": "scattergl"
           }
          ],
          "scattermapbox": [
           {
            "marker": {
             "colorbar": {
              "outlinewidth": 0,
              "ticks": ""
             }
            },
            "type": "scattermapbox"
           }
          ],
          "scatterpolar": [
           {
            "marker": {
             "colorbar": {
              "outlinewidth": 0,
              "ticks": ""
             }
            },
            "type": "scatterpolar"
           }
          ],
          "scatterpolargl": [
           {
            "marker": {
             "colorbar": {
              "outlinewidth": 0,
              "ticks": ""
             }
            },
            "type": "scatterpolargl"
           }
          ],
          "scatterternary": [
           {
            "marker": {
             "colorbar": {
              "outlinewidth": 0,
              "ticks": ""
             }
            },
            "type": "scatterternary"
           }
          ],
          "surface": [
           {
            "colorbar": {
             "outlinewidth": 0,
             "ticks": ""
            },
            "colorscale": [
             [
              0,
              "#0d0887"
             ],
             [
              0.1111111111111111,
              "#46039f"
             ],
             [
              0.2222222222222222,
              "#7201a8"
             ],
             [
              0.3333333333333333,
              "#9c179e"
             ],
             [
              0.4444444444444444,
              "#bd3786"
             ],
             [
              0.5555555555555556,
              "#d8576b"
             ],
             [
              0.6666666666666666,
              "#ed7953"
             ],
             [
              0.7777777777777778,
              "#fb9f3a"
             ],
             [
              0.8888888888888888,
              "#fdca26"
             ],
             [
              1,
              "#f0f921"
             ]
            ],
            "type": "surface"
           }
          ],
          "table": [
           {
            "cells": {
             "fill": {
              "color": "#EBF0F8"
             },
             "line": {
              "color": "white"
             }
            },
            "header": {
             "fill": {
              "color": "#C8D4E3"
             },
             "line": {
              "color": "white"
             }
            },
            "type": "table"
           }
          ]
         },
         "layout": {
          "annotationdefaults": {
           "arrowcolor": "#2a3f5f",
           "arrowhead": 0,
           "arrowwidth": 1
          },
          "autotypenumbers": "strict",
          "coloraxis": {
           "colorbar": {
            "outlinewidth": 0,
            "ticks": ""
           }
          },
          "colorscale": {
           "diverging": [
            [
             0,
             "#8e0152"
            ],
            [
             0.1,
             "#c51b7d"
            ],
            [
             0.2,
             "#de77ae"
            ],
            [
             0.3,
             "#f1b6da"
            ],
            [
             0.4,
             "#fde0ef"
            ],
            [
             0.5,
             "#f7f7f7"
            ],
            [
             0.6,
             "#e6f5d0"
            ],
            [
             0.7,
             "#b8e186"
            ],
            [
             0.8,
             "#7fbc41"
            ],
            [
             0.9,
             "#4d9221"
            ],
            [
             1,
             "#276419"
            ]
           ],
           "sequential": [
            [
             0,
             "#0d0887"
            ],
            [
             0.1111111111111111,
             "#46039f"
            ],
            [
             0.2222222222222222,
             "#7201a8"
            ],
            [
             0.3333333333333333,
             "#9c179e"
            ],
            [
             0.4444444444444444,
             "#bd3786"
            ],
            [
             0.5555555555555556,
             "#d8576b"
            ],
            [
             0.6666666666666666,
             "#ed7953"
            ],
            [
             0.7777777777777778,
             "#fb9f3a"
            ],
            [
             0.8888888888888888,
             "#fdca26"
            ],
            [
             1,
             "#f0f921"
            ]
           ],
           "sequentialminus": [
            [
             0,
             "#0d0887"
            ],
            [
             0.1111111111111111,
             "#46039f"
            ],
            [
             0.2222222222222222,
             "#7201a8"
            ],
            [
             0.3333333333333333,
             "#9c179e"
            ],
            [
             0.4444444444444444,
             "#bd3786"
            ],
            [
             0.5555555555555556,
             "#d8576b"
            ],
            [
             0.6666666666666666,
             "#ed7953"
            ],
            [
             0.7777777777777778,
             "#fb9f3a"
            ],
            [
             0.8888888888888888,
             "#fdca26"
            ],
            [
             1,
             "#f0f921"
            ]
           ]
          },
          "colorway": [
           "#636efa",
           "#EF553B",
           "#00cc96",
           "#ab63fa",
           "#FFA15A",
           "#19d3f3",
           "#FF6692",
           "#B6E880",
           "#FF97FF",
           "#FECB52"
          ],
          "font": {
           "color": "#2a3f5f"
          },
          "geo": {
           "bgcolor": "white",
           "lakecolor": "white",
           "landcolor": "#E5ECF6",
           "showlakes": true,
           "showland": true,
           "subunitcolor": "white"
          },
          "hoverlabel": {
           "align": "left"
          },
          "hovermode": "closest",
          "mapbox": {
           "style": "light"
          },
          "paper_bgcolor": "white",
          "plot_bgcolor": "#E5ECF6",
          "polar": {
           "angularaxis": {
            "gridcolor": "white",
            "linecolor": "white",
            "ticks": ""
           },
           "bgcolor": "#E5ECF6",
           "radialaxis": {
            "gridcolor": "white",
            "linecolor": "white",
            "ticks": ""
           }
          },
          "scene": {
           "xaxis": {
            "backgroundcolor": "#E5ECF6",
            "gridcolor": "white",
            "gridwidth": 2,
            "linecolor": "white",
            "showbackground": true,
            "ticks": "",
            "zerolinecolor": "white"
           },
           "yaxis": {
            "backgroundcolor": "#E5ECF6",
            "gridcolor": "white",
            "gridwidth": 2,
            "linecolor": "white",
            "showbackground": true,
            "ticks": "",
            "zerolinecolor": "white"
           },
           "zaxis": {
            "backgroundcolor": "#E5ECF6",
            "gridcolor": "white",
            "gridwidth": 2,
            "linecolor": "white",
            "showbackground": true,
            "ticks": "",
            "zerolinecolor": "white"
           }
          },
          "shapedefaults": {
           "line": {
            "color": "#2a3f5f"
           }
          },
          "ternary": {
           "aaxis": {
            "gridcolor": "white",
            "linecolor": "white",
            "ticks": ""
           },
           "baxis": {
            "gridcolor": "white",
            "linecolor": "white",
            "ticks": ""
           },
           "bgcolor": "#E5ECF6",
           "caxis": {
            "gridcolor": "white",
            "linecolor": "white",
            "ticks": ""
           }
          },
          "title": {
           "x": 0.05
          },
          "xaxis": {
           "automargin": true,
           "gridcolor": "white",
           "linecolor": "white",
           "ticks": "",
           "title": {
            "standoff": 15
           },
           "zerolinecolor": "white",
           "zerolinewidth": 2
          },
          "yaxis": {
           "automargin": true,
           "gridcolor": "white",
           "linecolor": "white",
           "ticks": "",
           "title": {
            "standoff": 15
           },
           "zerolinecolor": "white",
           "zerolinewidth": 2
          }
         }
        },
        "title": {
         "text": "Geometry Optimization"
        },
        "xaxis": {
         "range": [
          1,
          81
         ],
         "title": {
          "text": "Optimization Step"
         },
         "type": "linear"
        },
        "yaxis": {
         "autorange": true,
         "range": [
          -5.590359223300971,
          73.33235922330097
         ],
         "title": {
          "text": "Relative Energy [kcal/mol]"
         },
         "type": "linear",
         "zeroline": true
        }
       }
      },
      "image/png": "[encoded data removed]",
      "text/html": [
       "<div>                            <div id=\"f1add2e2-cee0-4553-a376-6861a5cecf34\" class=\"plotly-graph-div\" style=\"height:525px; width:100%;\"></div>            <script type=\"text/javascript\">                require([\"plotly\"], function(Plotly) {                    window.PLOTLYENV=window.PLOTLYENV || {};                                    if (document.getElementById(\"f1add2e2-cee0-4553-a376-6861a5cecf34\")) {                    Plotly.newPlot(                        \"f1add2e2-cee0-4553-a376-6861a5cecf34\",                        [{\"mode\":\"lines+markers\",\"x\":[1,2,3,4,5,6,7,8,9,10,11,12,13,14,15,16,17,18,19,20,21,22,23,24,25,26,27,28,29,30,31,32,33,34,35,36,37,38,39,40,41,42,43,44,45,46,47,48,49,50,51,52,53,54,55,56,57,58,59,60,61,62,63,64,65,66,67,68,69,70,71,72,73,74,75,76,77,78,79,80,81],\"y\":[67.742,51.82,30.366,26.165,20.963,20.447,18.056,17.826,16.399,16.11,14.897,14.441,13.685,12.797,11.608,11.087,12.744,9.976,14.003,9.292,10.376,8.925,8.717,8.014,7.433,6.909,6.176,5.442,4.988,4.783,4.515,4.336,3.994,3.311,2.867,2.411,2.025,1.798,1.652,1.51,1.298,1.217,1.128,1.016,0.845,0.665,0.508,0.455,0.399,0.357,0.326,0.258,0.193,0.159,0.111,0.077,0.056,0.032,0.02,0.016,0.013,0.01,0.008,0.007,0.007,0.007,0.007,0.007,0.007,0.007,0.006,0.006,0.006,0.006,0.006,0.005,0.005,0.004,0.002,0.0,0.0],\"type\":\"scatter\"}],                        {\"template\":{\"data\":{\"barpolar\":[{\"marker\":{\"line\":{\"color\":\"#E5ECF6\",\"width\":0.5},\"pattern\":{\"fillmode\":\"overlay\",\"size\":10,\"solidity\":0.2}},\"type\":\"barpolar\"}],\"bar\":[{\"error_x\":{\"color\":\"#2a3f5f\"},\"error_y\":{\"color\":\"#2a3f5f\"},\"marker\":{\"line\":{\"color\":\"#E5ECF6\",\"width\":0.5},\"pattern\":{\"fillmode\":\"overlay\",\"size\":10,\"solidity\":0.2}},\"type\":\"bar\"}],\"carpet\":[{\"aaxis\":{\"endlinecolor\":\"#2a3f5f\",\"gridcolor\":\"white\",\"linecolor\":\"white\",\"minorgridcolor\":\"white\",\"startlinecolor\":\"#2a3f5f\"},\"baxis\":{\"endlinecolor\":\"#2a3f5f\",\"gridcolor\":\"white\",\"linecolor\":\"white\",\"minorgridcolor\":\"white\",\"startlinecolor\":\"#2a3f5f\"},\"type\":\"carpet\"}],\"choropleth\":[{\"colorbar\":{\"outlinewidth\":0,\"ticks\":\"\"},\"type\":\"choropleth\"}],\"contourcarpet\":[{\"colorbar\":{\"outlinewidth\":0,\"ticks\":\"\"},\"type\":\"contourcarpet\"}],\"contour\":[{\"colorbar\":{\"outlinewidth\":0,\"ticks\":\"\"},\"colorscale\":[[0.0,\"#0d0887\"],[0.1111111111111111,\"#46039f\"],[0.2222222222222222,\"#7201a8\"],[0.3333333333333333,\"#9c179e\"],[0.4444444444444444,\"#bd3786\"],[0.5555555555555556,\"#d8576b\"],[0.6666666666666666,\"#ed7953\"],[0.7777777777777778,\"#fb9f3a\"],[0.8888888888888888,\"#fdca26\"],[1.0,\"#f0f921\"]],\"type\":\"contour\"}],\"heatmapgl\":[{\"colorbar\":{\"outlinewidth\":0,\"ticks\":\"\"},\"colorscale\":[[0.0,\"#0d0887\"],[0.1111111111111111,\"#46039f\"],[0.2222222222222222,\"#7201a8\"],[0.3333333333333333,\"#9c179e\"],[0.4444444444444444,\"#bd3786\"],[0.5555555555555556,\"#d8576b\"],[0.6666666666666666,\"#ed7953\"],[0.7777777777777778,\"#fb9f3a\"],[0.8888888888888888,\"#fdca26\"],[1.0,\"#f0f921\"]],\"type\":\"heatmapgl\"}],\"heatmap\":[{\"colorbar\":{\"outlinewidth\":0,\"ticks\":\"\"},\"colorscale\":[[0.0,\"#0d0887\"],[0.1111111111111111,\"#46039f\"],[0.2222222222222222,\"#7201a8\"],[0.3333333333333333,\"#9c179e\"],[0.4444444444444444,\"#bd3786\"],[0.5555555555555556,\"#d8576b\"],[0.6666666666666666,\"#ed7953\"],[0.7777777777777778,\"#fb9f3a\"],[0.8888888888888888,\"#fdca26\"],[1.0,\"#f0f921\"]],\"type\":\"heatmap\"}],\"histogram2dcontour\":[{\"colorbar\":{\"outlinewidth\":0,\"ticks\":\"\"},\"colorscale\":[[0.0,\"#0d0887\"],[0.1111111111111111,\"#46039f\"],[0.2222222222222222,\"#7201a8\"],[0.3333333333333333,\"#9c179e\"],[0.4444444444444444,\"#bd3786\"],[0.5555555555555556,\"#d8576b\"],[0.6666666666666666,\"#ed7953\"],[0.7777777777777778,\"#fb9f3a\"],[0.8888888888888888,\"#fdca26\"],[1.0,\"#f0f921\"]],\"type\":\"histogram2dcontour\"}],\"histogram2d\":[{\"colorbar\":{\"outlinewidth\":0,\"ticks\":\"\"},\"colorscale\":[[0.0,\"#0d0887\"],[0.1111111111111111,\"#46039f\"],[0.2222222222222222,\"#7201a8\"],[0.3333333333333333,\"#9c179e\"],[0.4444444444444444,\"#bd3786\"],[0.5555555555555556,\"#d8576b\"],[0.6666666666666666,\"#ed7953\"],[0.7777777777777778,\"#fb9f3a\"],[0.8888888888888888,\"#fdca26\"],[1.0,\"#f0f921\"]],\"type\":\"histogram2d\"}],\"histogram\":[{\"marker\":{\"pattern\":{\"fillmode\":\"overlay\",\"size\":10,\"solidity\":0.2}},\"type\":\"histogram\"}],\"mesh3d\":[{\"colorbar\":{\"outlinewidth\":0,\"ticks\":\"\"},\"type\":\"mesh3d\"}],\"parcoords\":[{\"line\":{\"colorbar\":{\"outlinewidth\":0,\"ticks\":\"\"}},\"type\":\"parcoords\"}],\"pie\":[{\"automargin\":true,\"type\":\"pie\"}],\"scatter3d\":[{\"line\":{\"colorbar\":{\"outlinewidth\":0,\"ticks\":\"\"}},\"marker\":{\"colorbar\":{\"outlinewidth\":0,\"ticks\":\"\"}},\"type\":\"scatter3d\"}],\"scattercarpet\":[{\"marker\":{\"colorbar\":{\"outlinewidth\":0,\"ticks\":\"\"}},\"type\":\"scattercarpet\"}],\"scattergeo\":[{\"marker\":{\"colorbar\":{\"outlinewidth\":0,\"ticks\":\"\"}},\"type\":\"scattergeo\"}],\"scattergl\":[{\"marker\":{\"colorbar\":{\"outlinewidth\":0,\"ticks\":\"\"}},\"type\":\"scattergl\"}],\"scattermapbox\":[{\"marker\":{\"colorbar\":{\"outlinewidth\":0,\"ticks\":\"\"}},\"type\":\"scattermapbox\"}],\"scatterpolargl\":[{\"marker\":{\"colorbar\":{\"outlinewidth\":0,\"ticks\":\"\"}},\"type\":\"scatterpolargl\"}],\"scatterpolar\":[{\"marker\":{\"colorbar\":{\"outlinewidth\":0,\"ticks\":\"\"}},\"type\":\"scatterpolar\"}],\"scatter\":[{\"fillpattern\":{\"fillmode\":\"overlay\",\"size\":10,\"solidity\":0.2},\"type\":\"scatter\"}],\"scatterternary\":[{\"marker\":{\"colorbar\":{\"outlinewidth\":0,\"ticks\":\"\"}},\"type\":\"scatterternary\"}],\"surface\":[{\"colorbar\":{\"outlinewidth\":0,\"ticks\":\"\"},\"colorscale\":[[0.0,\"#0d0887\"],[0.1111111111111111,\"#46039f\"],[0.2222222222222222,\"#7201a8\"],[0.3333333333333333,\"#9c179e\"],[0.4444444444444444,\"#bd3786\"],[0.5555555555555556,\"#d8576b\"],[0.6666666666666666,\"#ed7953\"],[0.7777777777777778,\"#fb9f3a\"],[0.8888888888888888,\"#fdca26\"],[1.0,\"#f0f921\"]],\"type\":\"surface\"}],\"table\":[{\"cells\":{\"fill\":{\"color\":\"#EBF0F8\"},\"line\":{\"color\":\"white\"}},\"header\":{\"fill\":{\"color\":\"#C8D4E3\"},\"line\":{\"color\":\"white\"}},\"type\":\"table\"}]},\"layout\":{\"annotationdefaults\":{\"arrowcolor\":\"#2a3f5f\",\"arrowhead\":0,\"arrowwidth\":1},\"autotypenumbers\":\"strict\",\"coloraxis\":{\"colorbar\":{\"outlinewidth\":0,\"ticks\":\"\"}},\"colorscale\":{\"diverging\":[[0,\"#8e0152\"],[0.1,\"#c51b7d\"],[0.2,\"#de77ae\"],[0.3,\"#f1b6da\"],[0.4,\"#fde0ef\"],[0.5,\"#f7f7f7\"],[0.6,\"#e6f5d0\"],[0.7,\"#b8e186\"],[0.8,\"#7fbc41\"],[0.9,\"#4d9221\"],[1,\"#276419\"]],\"sequential\":[[0.0,\"#0d0887\"],[0.1111111111111111,\"#46039f\"],[0.2222222222222222,\"#7201a8\"],[0.3333333333333333,\"#9c179e\"],[0.4444444444444444,\"#bd3786\"],[0.5555555555555556,\"#d8576b\"],[0.6666666666666666,\"#ed7953\"],[0.7777777777777778,\"#fb9f3a\"],[0.8888888888888888,\"#fdca26\"],[1.0,\"#f0f921\"]],\"sequentialminus\":[[0.0,\"#0d0887\"],[0.1111111111111111,\"#46039f\"],[0.2222222222222222,\"#7201a8\"],[0.3333333333333333,\"#9c179e\"],[0.4444444444444444,\"#bd3786\"],[0.5555555555555556,\"#d8576b\"],[0.6666666666666666,\"#ed7953\"],[0.7777777777777778,\"#fb9f3a\"],[0.8888888888888888,\"#fdca26\"],[1.0,\"#f0f921\"]]},\"colorway\":[\"#636efa\",\"#EF553B\",\"#00cc96\",\"#ab63fa\",\"#FFA15A\",\"#19d3f3\",\"#FF6692\",\"#B6E880\",\"#FF97FF\",\"#FECB52\"],\"font\":{\"color\":\"#2a3f5f\"},\"geo\":{\"bgcolor\":\"white\",\"lakecolor\":\"white\",\"landcolor\":\"#E5ECF6\",\"showlakes\":true,\"showland\":true,\"subunitcolor\":\"white\"},\"hoverlabel\":{\"align\":\"left\"},\"hovermode\":\"closest\",\"mapbox\":{\"style\":\"light\"},\"paper_bgcolor\":\"white\",\"plot_bgcolor\":\"#E5ECF6\",\"polar\":{\"angularaxis\":{\"gridcolor\":\"white\",\"linecolor\":\"white\",\"ticks\":\"\"},\"bgcolor\":\"#E5ECF6\",\"radialaxis\":{\"gridcolor\":\"white\",\"linecolor\":\"white\",\"ticks\":\"\"}},\"scene\":{\"xaxis\":{\"backgroundcolor\":\"#E5ECF6\",\"gridcolor\":\"white\",\"gridwidth\":2,\"linecolor\":\"white\",\"showbackground\":true,\"ticks\":\"\",\"zerolinecolor\":\"white\"},\"yaxis\":{\"backgroundcolor\":\"#E5ECF6\",\"gridcolor\":\"white\",\"gridwidth\":2,\"linecolor\":\"white\",\"showbackground\":true,\"ticks\":\"\",\"zerolinecolor\":\"white\"},\"zaxis\":{\"backgroundcolor\":\"#E5ECF6\",\"gridcolor\":\"white\",\"gridwidth\":2,\"linecolor\":\"white\",\"showbackground\":true,\"ticks\":\"\",\"zerolinecolor\":\"white\"}},\"shapedefaults\":{\"line\":{\"color\":\"#2a3f5f\"}},\"ternary\":{\"aaxis\":{\"gridcolor\":\"white\",\"linecolor\":\"white\",\"ticks\":\"\"},\"baxis\":{\"gridcolor\":\"white\",\"linecolor\":\"white\",\"ticks\":\"\"},\"bgcolor\":\"#E5ECF6\",\"caxis\":{\"gridcolor\":\"white\",\"linecolor\":\"white\",\"ticks\":\"\"}},\"title\":{\"x\":0.05},\"xaxis\":{\"automargin\":true,\"gridcolor\":\"white\",\"linecolor\":\"white\",\"ticks\":\"\",\"title\":{\"standoff\":15},\"zerolinecolor\":\"white\",\"zerolinewidth\":2},\"yaxis\":{\"automargin\":true,\"gridcolor\":\"white\",\"linecolor\":\"white\",\"ticks\":\"\",\"title\":{\"standoff\":15},\"zerolinecolor\":\"white\",\"zerolinewidth\":2}}},\"title\":{\"text\":\"Geometry Optimization\"},\"xaxis\":{\"range\":[1,81],\"title\":{\"text\":\"Optimization Step\"}},\"yaxis\":{\"title\":{\"text\":\"Relative Energy [kcal/mol]\"},\"zeroline\":true}},                        {\"responsive\": true}                    ).then(function(){\n",
       "                            \n",
       "var gd = document.getElementById('f1add2e2-cee0-4553-a376-6861a5cecf34');\n",
       "var x = new MutationObserver(function (mutations, observer) {{\n",
       "        var display = window.getComputedStyle(gd).display;\n",
       "        if (!display || display === 'none') {{\n",
       "            console.log([gd, 'removed!']);\n",
       "            Plotly.purge(gd);\n",
       "            observer.disconnect();\n",
       "        }}\n",
       "}});\n",
       "\n",
       "// Listen for the removal of the full notebook cells\n",
       "var notebookContainer = gd.closest('#notebook-container');\n",
       "if (notebookContainer) {{\n",
       "    x.observe(notebookContainer, {childList: true});\n",
       "}}\n",
       "\n",
       "// Listen for the clearing of the current output cell\n",
       "var outputEl = gd.closest('.output');\n",
       "if (outputEl) {{\n",
       "    x.observe(outputEl, {childList: true});\n",
       "}}\n",
       "\n",
       "                        })                };                });            </script>        </div>"
      ]
     },
     "metadata": {},
     "output_type": "display_data"
    }
   ],
   "source": [
    "opt_record.show_history()"
   ]
  },
  {
   "cell_type": "code",
   "execution_count": 49,
   "id": "5d9221fc-8c47-4d2b-afe1-754c6fb9dfe5",
   "metadata": {},
   "outputs": [],
   "source": [
    "mols = opt_record.get_molecular_trajectory()"
   ]
  },
  {
   "cell_type": "code",
   "execution_count": 50,
   "id": "1b4ecf51-c074-4b22-acde-b5f40685b94f",
   "metadata": {},
   "outputs": [],
   "source": [
    "offmols = Molecule.from_qcschema(mols[0])\n",
    "\n",
    "for mol in mols[1:]:\n",
    "    m = Molecule.from_qcschema(mol)\n",
    "    offmols.add_conformer(m.conformers[0])"
   ]
  },
  {
   "cell_type": "code",
   "execution_count": 51,
   "id": "d7e10385-7cc0-4d7b-9f5b-7911e35da46b",
   "metadata": {},
   "outputs": [
    {
     "data": {
      "application/vnd.jupyter.widget-view+json": {
       "model_id": "ee10ec87525b4713b7702423416c846a",
       "version_major": 2,
       "version_minor": 0
      },
      "text/plain": [
       "NGLWidget(max_frame=80)"
      ]
     },
     "metadata": {},
     "output_type": "display_data"
    }
   ],
   "source": [
    "offmols"
   ]
  },
  {
   "cell_type": "code",
   "execution_count": 52,
   "id": "c45b01dc-e027-421a-a43b-868a4c61e6a3",
   "metadata": {},
   "outputs": [
    {
     "data": {
      "text/plain": [
       "-1162.4950636880335"
      ]
     },
     "execution_count": 52,
     "metadata": {},
     "output_type": "execute_result"
    }
   ],
   "source": [
    "opt_record.get_final_energy()"
   ]
  },
  {
   "cell_type": "markdown",
   "id": "04b05cf3-cadd-4754-b145-6c5609d64bc6",
   "metadata": {},
   "source": [
    "##### compare energy"
   ]
  },
  {
   "cell_type": "raw",
   "id": "38afa70d-87a9-4c09-85da-c29458393d8f",
   "metadata": {},
   "source": [
    "e1, e2 = [], []\n",
    "\n",
    "for record_name in record_names[:100]:\n",
    "    try:\n",
    "        default_record = openff_pepconf_opt.get_record(record_name, specification=\"default\")\n",
    "        dlc_record = openff_pepconf_opt.get_record(record_name, specification=\"default-dlc\")\n",
    "        \n",
    "        e1.append(default_record.get_final_energy())\n",
    "        e2.append(dlc_record.get_final_energy())\n",
    "    except:\n",
    "        pass"
   ]
  },
  {
   "cell_type": "raw",
   "id": "c3385ae8-4b95-41d9-a2d8-e112d3b47627",
   "metadata": {},
   "source": [
    "plt.plot(e1, e2)\n",
    "plt.show()"
   ]
  },
  {
   "cell_type": "markdown",
   "id": "1cfcff3e-b1b9-49cd-9502-2c839a3403e7",
   "metadata": {},
   "source": [
    "### Gen2 Optimization dataset"
   ]
  },
  {
   "cell_type": "code",
   "execution_count": 53,
   "id": "ab4f8ebb-c396-4247-8473-65029e16483f",
   "metadata": {},
   "outputs": [],
   "source": [
    "openff_gen2_opt_set1 = client.get_collection('OptimizationDataset', 'OpenFF Gen 2 Opt Set 1 Roche')\n",
    "openff_gen2_opt_set2 = client.get_collection('OptimizationDataset', 'OpenFF Gen 2 Opt Set 2 Coverage')\n",
    "openff_gen2_opt_set3 = client.get_collection('OptimizationDataset', 'OpenFF Gen 2 Opt Set 3 Pfizer Discrepancy')\n",
    "openff_gen2_opt_set4 = client.get_collection('OptimizationDataset', 'OpenFF Gen 2 Opt Set 4 eMolecules Discrepancy')\n",
    "openff_gen2_opt_set5 = client.get_collection('OptimizationDataset', 'OpenFF Gen 2 Opt Set 5 Bayer')"
   ]
  },
  {
   "cell_type": "code",
   "execution_count": 54,
   "id": "e88ce992-b8c7-4d51-b165-789b12ca6c89",
   "metadata": {},
   "outputs": [
    {
     "data": {
      "text/html": [
       "<div>\n",
       "<style scoped>\n",
       "    .dataframe tbody tr th:only-of-type {\n",
       "        vertical-align: middle;\n",
       "    }\n",
       "\n",
       "    .dataframe tbody tr th {\n",
       "        vertical-align: top;\n",
       "    }\n",
       "\n",
       "    .dataframe thead th {\n",
       "        text-align: right;\n",
       "    }\n",
       "</style>\n",
       "<table border=\"1\" class=\"dataframe\">\n",
       "  <thead>\n",
       "    <tr style=\"text-align: right;\">\n",
       "      <th></th>\n",
       "      <th>Description</th>\n",
       "    </tr>\n",
       "    <tr>\n",
       "      <th>Name</th>\n",
       "      <th></th>\n",
       "    </tr>\n",
       "  </thead>\n",
       "  <tbody>\n",
       "    <tr>\n",
       "      <th>default</th>\n",
       "      <td>Standard OpenFF optimization quantum chemistry...</td>\n",
       "    </tr>\n",
       "  </tbody>\n",
       "</table>\n",
       "</div>"
      ],
      "text/plain": [
       "                                               Description\n",
       "Name                                                      \n",
       "default  Standard OpenFF optimization quantum chemistry..."
      ]
     },
     "execution_count": 54,
     "metadata": {},
     "output_type": "execute_result"
    }
   ],
   "source": [
    "openff_gen2_opt_set1.list_specifications()"
   ]
  },
  {
   "cell_type": "code",
   "execution_count": 55,
   "id": "2abf40a1-7106-4f8f-908b-0da2d60b709d",
   "metadata": {},
   "outputs": [
    {
     "data": {
      "text/html": [
       "<div>\n",
       "<style scoped>\n",
       "    .dataframe tbody tr th:only-of-type {\n",
       "        vertical-align: middle;\n",
       "    }\n",
       "\n",
       "    .dataframe tbody tr th {\n",
       "        vertical-align: top;\n",
       "    }\n",
       "\n",
       "    .dataframe thead th {\n",
       "        text-align: right;\n",
       "    }\n",
       "</style>\n",
       "<table border=\"1\" class=\"dataframe\">\n",
       "  <thead>\n",
       "    <tr style=\"text-align: right;\">\n",
       "      <th></th>\n",
       "      <th>Description</th>\n",
       "    </tr>\n",
       "    <tr>\n",
       "      <th>Name</th>\n",
       "      <th></th>\n",
       "    </tr>\n",
       "  </thead>\n",
       "  <tbody>\n",
       "    <tr>\n",
       "      <th>default</th>\n",
       "      <td>Standard OpenFF optimization quantum chemistry...</td>\n",
       "    </tr>\n",
       "  </tbody>\n",
       "</table>\n",
       "</div>"
      ],
      "text/plain": [
       "                                               Description\n",
       "Name                                                      \n",
       "default  Standard OpenFF optimization quantum chemistry..."
      ]
     },
     "execution_count": 55,
     "metadata": {},
     "output_type": "execute_result"
    }
   ],
   "source": [
    "openff_gen2_opt_set2.list_specifications()"
   ]
  },
  {
   "cell_type": "code",
   "execution_count": 56,
   "id": "ea0d8528-1728-4da9-9384-f75156e92f05",
   "metadata": {},
   "outputs": [
    {
     "data": {
      "text/html": [
       "<div>\n",
       "<style scoped>\n",
       "    .dataframe tbody tr th:only-of-type {\n",
       "        vertical-align: middle;\n",
       "    }\n",
       "\n",
       "    .dataframe tbody tr th {\n",
       "        vertical-align: top;\n",
       "    }\n",
       "\n",
       "    .dataframe thead th {\n",
       "        text-align: right;\n",
       "    }\n",
       "</style>\n",
       "<table border=\"1\" class=\"dataframe\">\n",
       "  <thead>\n",
       "    <tr style=\"text-align: right;\">\n",
       "      <th></th>\n",
       "      <th>Description</th>\n",
       "    </tr>\n",
       "    <tr>\n",
       "      <th>Name</th>\n",
       "      <th></th>\n",
       "    </tr>\n",
       "  </thead>\n",
       "  <tbody>\n",
       "    <tr>\n",
       "      <th>default</th>\n",
       "      <td>Standard OpenFF optimization quantum chemistry...</td>\n",
       "    </tr>\n",
       "  </tbody>\n",
       "</table>\n",
       "</div>"
      ],
      "text/plain": [
       "                                               Description\n",
       "Name                                                      \n",
       "default  Standard OpenFF optimization quantum chemistry..."
      ]
     },
     "execution_count": 56,
     "metadata": {},
     "output_type": "execute_result"
    }
   ],
   "source": [
    "openff_gen2_opt_set3.list_specifications()"
   ]
  },
  {
   "cell_type": "code",
   "execution_count": 57,
   "id": "b87cfd15-0ad7-4a21-8c3c-1f35fc355cc6",
   "metadata": {},
   "outputs": [
    {
     "data": {
      "text/html": [
       "<div>\n",
       "<style scoped>\n",
       "    .dataframe tbody tr th:only-of-type {\n",
       "        vertical-align: middle;\n",
       "    }\n",
       "\n",
       "    .dataframe tbody tr th {\n",
       "        vertical-align: top;\n",
       "    }\n",
       "\n",
       "    .dataframe thead th {\n",
       "        text-align: right;\n",
       "    }\n",
       "</style>\n",
       "<table border=\"1\" class=\"dataframe\">\n",
       "  <thead>\n",
       "    <tr style=\"text-align: right;\">\n",
       "      <th></th>\n",
       "      <th>Description</th>\n",
       "    </tr>\n",
       "    <tr>\n",
       "      <th>Name</th>\n",
       "      <th></th>\n",
       "    </tr>\n",
       "  </thead>\n",
       "  <tbody>\n",
       "    <tr>\n",
       "      <th>default</th>\n",
       "      <td>Standard OpenFF optimization quantum chemistry...</td>\n",
       "    </tr>\n",
       "  </tbody>\n",
       "</table>\n",
       "</div>"
      ],
      "text/plain": [
       "                                               Description\n",
       "Name                                                      \n",
       "default  Standard OpenFF optimization quantum chemistry..."
      ]
     },
     "execution_count": 57,
     "metadata": {},
     "output_type": "execute_result"
    }
   ],
   "source": [
    "openff_gen2_opt_set4.list_specifications()"
   ]
  },
  {
   "cell_type": "code",
   "execution_count": 58,
   "id": "bc9325e3-c212-47dd-a060-cee5def27b4a",
   "metadata": {},
   "outputs": [
    {
     "data": {
      "text/html": [
       "<div>\n",
       "<style scoped>\n",
       "    .dataframe tbody tr th:only-of-type {\n",
       "        vertical-align: middle;\n",
       "    }\n",
       "\n",
       "    .dataframe tbody tr th {\n",
       "        vertical-align: top;\n",
       "    }\n",
       "\n",
       "    .dataframe thead th {\n",
       "        text-align: right;\n",
       "    }\n",
       "</style>\n",
       "<table border=\"1\" class=\"dataframe\">\n",
       "  <thead>\n",
       "    <tr style=\"text-align: right;\">\n",
       "      <th></th>\n",
       "      <th>Description</th>\n",
       "    </tr>\n",
       "    <tr>\n",
       "      <th>Name</th>\n",
       "      <th></th>\n",
       "    </tr>\n",
       "  </thead>\n",
       "  <tbody>\n",
       "    <tr>\n",
       "      <th>default</th>\n",
       "      <td>Standard OpenFF optimization quantum chemistry...</td>\n",
       "    </tr>\n",
       "  </tbody>\n",
       "</table>\n",
       "</div>"
      ],
      "text/plain": [
       "                                               Description\n",
       "Name                                                      \n",
       "default  Standard OpenFF optimization quantum chemistry..."
      ]
     },
     "execution_count": 58,
     "metadata": {},
     "output_type": "execute_result"
    }
   ],
   "source": [
    "openff_gen2_opt_set5.list_specifications()"
   ]
  },
  {
   "cell_type": "code",
   "execution_count": 59,
   "id": "1a4e67a2-6334-43b8-a56d-d21dc69249c7",
   "metadata": {
    "scrolled": true,
    "tags": []
   },
   "outputs": [
    {
     "name": "stdout",
     "output_type": "stream",
     "text": [
      "['cn1c(cccc1=o)c2ccccc2oc-0', 'cn1c(cccc1=o)c2ccccc2oc-1', 'c1cc(c(=o)[nh]c1)cn2cc[nh2+]cc2-0', 'c1cc(c(=o)[nh]c1)cn2cc[nh2+]cc2-1', 'cc(c)s(=o)(=o)c1cccs1-0', 'cc(c)s(=o)(=o)c1cccs1-1', 'coc1ccccc1f-0', 'cc1ccccc1oc2ccccc2-0', 'cc1ccccc1oc2ccccc2-1', 'cc1ccccc1s(=o)(=o)n(c)c-0', 'cc1ccccc1s(=o)(=o)n(c)c-1', 'cc1ccccc1c2ccccc2c3ccccc3-0', 'cc1ccccc1c2ccccc2c3ccccc3-1', 'c1ccc(cc1)coc2ccccc2-0', 'c1ccc(cc1)coc2ccccc2-1', 'cc1ccccc1c(=o)c2ccccc2f-0', 'cc1ccccc1c(=o)c2ccccc2f-1', 'cc1ccccc1c(=o)c2ccccc2f-2', 'cc1ccccc1c(=o)c2ccccc2f-3', 'cc1ccccc1c(=o)c2ccccc2f-4', 'cc1ccccc1c(=o)c2ccccc2f-5', 'cc1ccccc1c(=o)c2ccccc2f-6', 'cc1ccccc1c(=o)c2ccccc2f-7', 'c1ccc(cc1)c[n@@]2ccccs2(=o)=o-0', 'c1ccc(cc1)c[n@@]2ccccs2(=o)=o-1', 'c1ccc(cc1)c[n@@]2ccccs2(=o)=o-2', 'c1ccc(cc1)c[n@@]2ccccs2(=o)=o-3', 'c1ccc(cc1)c[n@@]2ccccs2(=o)=o-4', 'c1cnc(nc1)cn2cc[nh2+]cc2-0', 'cc1ccccc1c(=o)n2ccccc2-0', 'cc1ccccc1c(=o)n2ccccc2-1', 'ccn1ccccc1=o-0', 'c[c@h](c1ccccc1)c2[nh]ccn2-0', 'c1ccc(cc1)c2ccccc2[c@h]3cccc(=o)n3-0', 'c1ccc(cc1)c2ccccc2[c@h]3cccc(=o)n3-1', 'ccc(=o)nc-0', 'c[c@@h](c1ccccc1)c(=o)nc-0', 'c[c@@h](c1ccccc1)c(=o)nc-1', 'c[c@@h](c1ccccc1)c(=o)nc-2', 'c1ccc(cc1)s(=o)(=o)c2cc2-0', 'cc(c)c1nccn1c-0', 'c1cc1(co)o-0', 'c1cc1(co)o-1', 'c1cc1(co)o-2', 'cn1ccc(c1c(=o)n(c)c)o-0', 'cn1ccc(c1c(=o)n(c)c)o-1', 'cc1cccc(c1oc)o-0', 'c1ccc(cc1)cn2ccnc2-0', 'c1ccc(cc1)cn2ccnc2-1', 'c1ccc(cc1)[c@@h]2cccnc2=o-0', 'cc1cccc(c1s(=o)(=o)c2ccccc2)c-0', 'cc1cccc(c1oc)c-0', 'c[c@@h](c1ccccc1)oc2ccccc2-0', 'c[c@@h](c1ccccc1)oc2ccccc2-1', 'c[c@@h](c1ccccc1)oc2ccccc2-2', 'c[c@@h](c1ccccc1)oc2ccccc2-3', 'ccs(=o)(=o)n(c)c-0', 'cc1ccccc1c(=o)c2ccccc2-0', 'cc1ccccc1c(=o)c2ccccc2-1', 'cc[n@@]1ccccs1(=o)=o-0', 'cc[n@@]1ccccs1(=o)=o-1', 'cn(c)c1ccccn1-0', 'c1ccc(=o)ncc1-0', 'cs(=o)(=o)cc1ccccc1-0', 'cs(=o)(=o)cc1ccccc1-1', 'cs(=o)(=o)cc1ccccc1-2', 'cc1ccccc1oc-0', 'coc1ccccn1-0', 'cc1ccccc1coc2ccccc2-0', 'cc1ccccc1coc2ccccc2-1', 'cc1ccccc1coc2ccccc2-2', 'cn(c)s(=o)(=o)c1ccccn1-0', 'cn(c)s(=o)(=o)c1ccccn1-1', 'cn(c)s(=o)(=o)c1ccccn1-2', 'cc1ccccc1c2ccccc2-0', 'cc(=o)c1c(cccc1f)f-0', 'cn1c(=o)cccc1oc-0', 'c1ccc(c(c1)o)oc2ccccn2-0', 'c1ccc(c(c1)o)oc2ccccn2-1', 'c1ccc(c(c1)o)oc2ccccn2-2', 'c1ccc(c(c1)o)oc2ccccn2-3', 'c1ccc(c(c1)o)oc2ccccn2-4', 'c1ccc(c(c1)o)oc2ccccn2-5', 'cc1ccnn1c2ccccc2oc-0', 'cc1ccnn1c2ccccc2oc-1', 'cc1ccccc1oc2ccccc2-0a', 'cc1ccccc1oc2ccccc2-1a', 'cc1ccccc1oc2ccccc2-2a', 'cc1ccccc1oc2ccccc2-3a', 'coc1cccc(c1oc)f-0', 'c1ccnc(c1)c2ccccn2-0', 'c1ccnc(c1)c2ccccn2-1', 'c1ccc(cc1)c(=o)n2ccccc2-0', 'c1ccc(cc1)c(=o)n2ccccc2-1', 'c1ccc(cc1)s(=o)(=o)c2ccccc2-0', 'cc1=ncc(=o)n(c2c1cccc2)c-0', 'cc1=ncc(=o)n(c2c1cccc2)c-1', 'ccc1ccccc1oc-0', 'c[s@@](=n)(=o)c1ccccc1-0', 'c1ccc(cc1)c2ccccc2c3ccccc3-0', 'c1cnc(nc1)c2ncco2-0', 'cn1ccnc1c2ccccc2-0', 'cn(c)s(=o)(=o)c1ncco1-0', 'cn(c)s(=o)(=o)c1ncco1-1', 'c1ccnc(c1)c2ncco2-0', 'c1ccnc(c1)c2ncco2-1', 'cc1ccnn1c2ncccn2-0', 'cc1cccc(c1nc)oc-0', 'cc1cccc(c1oc)f-0', 'c1ccc(cc1)cnc2ccccc2-0', 'c1ccc(cc1)cnc2ccccc2-1', 'c1ccc(cc1)cnc2ccccc2-2', 'c1ccc2c(c1)cccnc2=o-0', 'c1ccc2c(c1)cccnc2=o-1', 'cc1=ncc(=o)nc2c1cccc2-0', 'cn(c)c(=o)[c@h](c1ccccc1)oc-0', 'cn(c)c(=o)[c@h](c1ccccc1)oc-1', 'cn(c)c(=o)[c@h](c1ccccc1)oc-2', 'coc1ccccc1nc(=o)nc2ccccn2-0', 'coc1ccccc1nc(=o)nc2ccccn2-1', 'coc1ccccc1nc(=o)nc2ccccn2-2', 'coc1ccccc1nc(=o)nc2ccccn2-3', 'coc1ccccc1nc(=o)nc2ccccn2-4', 'coc1ccccc1nc(=o)nc2ccccn2-5', 'c1ccc(cc1)c2ccccc2c3ncccn3-0', 'cc1cccc(c1n2cc[nh2+]cc2)c-0', 'c1cc(c(=o)[nh]c1)c2cc[nh2+]cc2-0', 'c[c@h](c1ccccc1)s(=o)(=o)c-0', 'c[c@h](c1ccccc1)s(=o)(=o)c-1', 'c[c@h](c1ccccc1)s(=o)(=o)c-2', 'c1ccc(cc1)c2=ncc(=o)nc3c2cccc3-0', 'c1ccc(cc1)c2=ncc(=o)nc3c2cccc3-1', 'coc1ccccc1-0', 'cc1cccnc1oc-0', 'c1ccc(cc1)oc2ccccc2-0', 'c1ccc(cc1)ns(=o)(=o)c2ccccc2-0', 'c1ccc(cc1)ns(=o)(=o)c2ccccc2-1', 'c1ccc(cc1)ns(=o)(=o)c2ccccc2-2', 'c1ccc(cc1)ns(=o)(=o)c2ccccc2-3', 'cc(=o)c1ccccc1f-0', 'cc(=o)c1ccccc1f-1', 'c1ccc(c(c1)c2ccccn2)c3ncco3-0', 'c1ccc(c(c1)c2ccccn2)c3ncco3-1', 'c1ccc(c(c1)c2ccccn2)c3ncco3-2', 'cn(c)c(=o)c1cccc(=o)[nh]1-0', 'cn(c)c(=o)c1cccc(=o)[nh]1-1', 'c1ccnc(c1)c2cc2-0', 'c1ccc(cc1)c(=o)c2ccccc2o-0', 'c1ccc(cc1)c(=o)c2ccccc2o-1', 'c1ccc(cc1)oc2ccccn2-0', 'c1ccc(cc1)oc2ccccn2-1', 'c1ccc(cc1)oc2ccccn2-2', 'cn(c)s(=o)(=o)c1ccccc1-0', 'c1ccc(cc1)c2ccccc2c3cccc(=o)[nh]3-0', 'c1ccc(cc1)c2ccccc2c3cccc(=o)[nh]3-1', 'c1ccc(cc1)c2ncccn2-0', 'coc1cccnc1n2cccn2-0', 'coc1cccnc1n2cccn2-1', 'c[c@@h]1ccccn1c(=o)c2ccccc2-0', 'c[c@@h]1ccccn1c(=o)c2ccccc2-1', 'cc1ccccc1c2=ncc(=o)nc3c2cccc3-0', 'cc1ccccc1c2=ncc(=o)nc3c2cccc3-1', 'cc1ccccc1c2=ncc(=o)nc3c2cccc3-2', 'cc1ccccc1c2=ncc(=o)nc3c2cccc3-3', 'cc(=o)c1ccccc1o-0', 'cc(=o)c1ccccc1o-1', 'cc1cccc2c1c(=o)nccc2-0', 'cc1cccc2c1c(=o)nccc2-1', 'c1ccc2c(c1)c(=o)ccn2c3cccc3-0', 'c1ccc(cc1)c2ccccc2-0', 'cc1ccnn1c2ccccc2-0', 'cn(c)c(=o)c1ccc[nh]c1=o-0', 'cn(c)c(=o)c1ccc[nh]c1=o-1', 'c1ccc(cc1)c(=o)c2ncccn2-0', 'c1ccc(c(c1)c2ccccn2)n-0', 'c1ccc(c(c1)c2ccccn2)n-1', 'cnc(=o)c1c(cc[nh]1)o-0', 'cnc(=o)c1c(cc[nh]1)o-1', 'coc1ccccc1o-0', 'cn(c)c(=o)c1c(cc[nh]1)oc-0', 'cn(c)c(=o)c1c(cc[nh]1)oc-1', 'cn(c)c(=o)c1c(cc[nh]1)oc-2', 'cn(c)c(=o)c1c(cc[nh]1)oc-3', 'cn1c(ccn1)oc-0', 'c1ccnc(c1)oc2ccccc2-0', 'c1ccnc(c1)oc2ccccc2-1', 'c1ccnc(c1)oc2ccccc2-2', 'c1ccnc(c1)oc2ccccc2-3', 'c1ccnc(c1)c2coc2-0', 'cc1(ccc1)c2ccccc2-0', 'c1c(co1)(co)o-0', 'c1c(co1)(co)o-1', 'c1ccn(c(=o)c1)c2cc2-0', 'c1cc2c(=o)ccn(c2nc1)c3cc3-0', 'cnc(=o)c1(cc1)f-0', 'cnc(=o)c1(cc1)f-1', 'c1ccc2c(c1)c(=ncc(=o)n2)c3ccccc3cl-0', 'c1ccc2c(c1)c(=ncc(=o)n2)c3ccccc3cl-1', 'c1ccc2c(c1)c(=ncc(=o)n2)c3ccccc3cl-2', 'c1ccc2c(c1)c(=ncc(=o)n2)c3ccccc3cl-3', 'cc(=o)nc1ccccn1-0', 'cc(=o)nc1ccccn1-1', 'cc(=o)c1ccc[nh]c1=o-0', 'cc(=o)c1ccc[nh]c1=o-1', 'cc(=o)oc1cccc(=o)[nh]1-0', 'cc(=o)oc1cccc(=o)[nh]1-1', 'cn(c)c(=o)nc1ccccc1-0', 'cn(c)c(=o)nc1ccccc1-1', 'cnc(=o)c1cccc(=o)[nh]1-0', 'cnc(=o)c1cccc(=o)[nh]1-1', 'c1ccc(cc1)n2cc[nh2+]cc2-0', 'c1ccc(cc1)c2=ncc(=o)nc3c2c(ccc3)f-0', 'c1ccc(cc1)c2=ncc(=o)nc3c2c(ccc3)f-1', 'c1ccc(cc1)c2ccccc2c3[nh]ccn3-0', 'cc1ccnn1c2ccccc2f-0', 'cc1ccnn1c2ccccc2f-1', 'c1ccc(cc1)n2ccccc2=o-0', 'c1ccc(cc1)nc2ccccn2-0', 'c1ccc(cc1)nc2ccccn2-1', 'c1ccc(cc1)c2[nh]ccn2-0', 'c1ccc(cc1)c(=o)nc2ncco2-0', 'c1ccc(cc1)c(=o)nc2ncco2-1', 'c1ccc(cc1)c(=o)nc2ncco2-2', 'c1ccc(cc1)c(=o)nc2ncco2-3', 'cc1cccc(c1nc)f-0', 'cn(c)s(=o)(=o)c1cccs1-0', 'cn(c)s(=o)(=o)c1cccs1-1', 'c1ccc(cc1)n2c(=o)cccn2-0', 'cn(c)s(=o)(=o)c1[nh]ccn1-0', 'cn1ccnc1c2ncccn2-0', 'c1cnc(nc1)n2cc[nh2+]cc2-0', 'c1ccc(cc1)oc2ncccn2-0', 'c1ccnc(c1)nc2ncco2-0', 'c1ccnc(c1)nc2ncco2-1', 'c1ccnc(c1)nc2ncco2-2', 'c1ccnc(c1)nc2ncco2-3', 'cnc(=o)c1cccoc1=o-0', 'cnc(=o)c1cccoc1=o-1', 'c1ccc(cc1)nc2ncco2-0', 'c1ccc(cc1)nc2ncco2-1', 'cn(c1ncco1)c(=o)c2ccccc2-0', 'cn(c1ncco1)c(=o)c2ccccc2-1', 'cn(c1ncco1)c(=o)c2ccccc2-2', 'cn(c1ncco1)c(=o)c2ccccc2-3', 'cc(=o)n(c)c1cccs1-0', 'cc(=o)n(c)c1cccs1-1', 'cc(=o)n(c)c1cccs1-2', 'cc(=o)n(c)c1cccs1-3', 'cn(c)c(=o)c1cccs1-0', 'cn(c)c(=o)c1cccs1-1', 'cc(=o)ncc1nccn1c-0', 'cc(=o)ncc1nccn1c-1', 'cc(=o)ncc1nccn1c-2', 'cc(=o)ncc1nccn1c-3', 'cc(=o)ncc1nccn1c-4', 'cc(=o)ncc1nccn1c-5', 'c1ccc(cc1)c2(cc2)nc3ccccc3-0', 'c1ccc(cc1)c2(cc2)nc3ccccc3-1', 'c1ccc(cc1)c2(cc2)nc3ccccc3-2', 'c1ccc(cc1)c2(cc2)nc3ccccc3-3', 'c1ccc2c(c1)c(=o)ccn2c3cc3-0', 'c1ccc(cc1)s(=o)(=o)n2cccc2-0', 'c1ccc(cc1)s(=o)(=o)n2cccc2-1', 'cnc(=o)c1c(ccn1c)cl-0', 'cnc(=o)c1c(ccn1c)cl-1', 'cc(=o)oc1cccc(=o)n1c-0', 'cc(=o)oc1cccc(=o)n1c-1', 'coc1ccccc1oc-0', 'c1cc(c(nc1)n2cccn2)f-0', 'c1cc(c(nc1)n2cccn2)f-1', 'cc1ccccc1s(=o)(=o)c2ccccc2c-0', 'cc1ccccc1s(=o)(=o)c2ccccc2c-1', 'cn(c)s(=o)(=o)c1ccccc1o-0', 'cn(c)s(=o)(=o)c1ccccc1o-1', 'cn(c)s(=o)(=o)c1ccccc1o-2', 'cs(=o)(=o)c1ccccc1-0', 'c1ccc(cc1)s(=o)(=o)c(f)(f)f-0', 'c[c@h](c1ccccc1)f-0', 'c1ccc(cc1)c2cc[nh2+]cc2-0', 'c1ccc(c(c1)c[n@@]2ccccs2(=o)=o)o-0', 'c1ccc(c(c1)c[n@@]2ccccs2(=o)=o)o-1', 'c1ccc(c(c1)c[n@@]2ccccs2(=o)=o)o-2', 'c1ccc(c(c1)c[n@@]2ccccs2(=o)=o)o-3', 'c1ccc(c(c1)c[n@@]2ccccs2(=o)=o)o-4', 'c1ccc(c(c1)c[n@@]2ccccs2(=o)=o)o-5', 'c1ccc(c(c1)c[n@@]2ccccs2(=o)=o)o-6', 'c1ccc(c(c1)c[n@@]2ccccs2(=o)=o)o-7', 'c1ccc(c(c1)c[n@@]2ccccs2(=o)=o)o-8', 'c1ccc(c(c1)c[n@@]2ccccs2(=o)=o)o-9', 'c[s@](=o)c1ccccc1-0', 'c1ccnc(c1)c2[n-]nnn2-0', 'cc1ccccc1c2[n-]nnn2-0', 'c1cc(c2c(c1)non2)c3c=cnc=c3-0', 'c1cc(c2c(c1)non2)c3c=cnc=c3-1', 'c1cc(c2c(c1)non2)c3c=cnc=c3-2', 'c1ccc(c(c1)c#n)nc(=o)nc2ccccn2-0', 'c1ccc(c(c1)c#n)nc(=o)nc2ccccn2-1', 'c1ccc(c(c1)c#n)nc(=o)nc2ccccn2-2', 'c1ccc(c(c1)c#n)nc(=o)nc2ccccn2-3', 'c1ccc(c(c1)c#n)nc(=o)nc2ccccn2-4', 'c1ccc(c(c1)c2c=cnc=c2)[n+](=o)[o-]-0', 'c1ccc(c(c1)c2c=cnc=c2)[n+](=o)[o-]-1']\n"
     ]
    }
   ],
   "source": [
    "# vizualize trajectory\n",
    "record_names = list(openff_gen2_opt_set1.data.records)\n",
    "print(record_names)"
   ]
  },
  {
   "cell_type": "code",
   "execution_count": 60,
   "id": "ff6b0369-6ee5-47fa-aa00-39f8f0a9836b",
   "metadata": {},
   "outputs": [
    {
     "name": "stdout",
     "output_type": "stream",
     "text": [
      "cn1c(cccc1=o)c2ccccc2oc-0\n"
     ]
    }
   ],
   "source": [
    "opt_record = openff_gen2_opt_set1.get_record(record_names[0], specification=\"default\")\n",
    "print(record_names[0])"
   ]
  },
  {
   "cell_type": "code",
   "execution_count": 61,
   "id": "b63d3c27-892e-420e-865e-a7466970b63c",
   "metadata": {},
   "outputs": [
    {
     "data": {
      "text/plain": [
       "QCSpecification(driver=<DriverEnum.gradient: 'gradient'>, method='b3lyp-d3bj', basis='dzvp', keywords='2', protocols=ResultProtocols(wavefunction=<WavefunctionProtocolEnum.none: 'none'>, stdout=True, error_correction=ErrorCorrectionProtocol(default_policy=True, policies=None), native_files=<NativeFilesProtocolEnum.none: 'none'>), program='psi4')"
      ]
     },
     "execution_count": 61,
     "metadata": {},
     "output_type": "execute_result"
    }
   ],
   "source": [
    "opt_record.qc_spec"
   ]
  },
  {
   "cell_type": "code",
   "execution_count": 62,
   "id": "3f0663fd-575a-428e-9e6a-bfeba18bdedb",
   "metadata": {},
   "outputs": [
    {
     "data": {
      "application/vnd.jupyter.widget-view+json": {
       "model_id": "1dcf4ef3eb0449b69bc368493ea22afd",
       "version_major": 2,
       "version_minor": 0
      },
      "text/plain": [
       "NGLWidget()"
      ]
     },
     "metadata": {},
     "output_type": "display_data"
    }
   ],
   "source": [
    "opt_record.get_initial_molecule()"
   ]
  },
  {
   "cell_type": "code",
   "execution_count": 63,
   "id": "b11dc1f2-179c-4fda-8e86-fd2ed595c280",
   "metadata": {},
   "outputs": [
    {
     "data": {
      "text/html": [
       "        <script type=\"text/javascript\">\n",
       "        window.PlotlyConfig = {MathJaxConfig: 'local'};\n",
       "        if (window.MathJax && window.MathJax.Hub && window.MathJax.Hub.Config) {window.MathJax.Hub.Config({SVG: {font: \"STIX-Web\"}});}\n",
       "        if (typeof require !== 'undefined') {\n",
       "        require.undef(\"plotly\");\n",
       "        requirejs.config({\n",
       "            paths: {\n",
       "                'plotly': ['https://cdn.plot.ly/plotly-2.12.1.min']\n",
       "            }\n",
       "        });\n",
       "        require(['plotly'], function(Plotly) {\n",
       "            window._Plotly = Plotly;\n",
       "        });\n",
       "        }\n",
       "        </script>\n",
       "        "
      ]
     },
     "metadata": {},
     "output_type": "display_data"
    },
    {
     "data": {
      "application/vnd.plotly.v1+json": {
       "config": {
        "linkText": "Export to plot.ly",
        "plotlyServerURL": "https://plot.ly",
        "showLink": false
       },
       "data": [
        {
         "mode": "lines+markers",
         "type": "scatter",
         "x": [
          1,
          2,
          3,
          4,
          5,
          6,
          7,
          8,
          9,
          10,
          11,
          12,
          13,
          14,
          15,
          16,
          17,
          18,
          19,
          20,
          21,
          22,
          23,
          24,
          25,
          26,
          27,
          28,
          29,
          30,
          31,
          32,
          33,
          34,
          35,
          36,
          37,
          38,
          39,
          40,
          41,
          42,
          43,
          44,
          45,
          46,
          47,
          48,
          49,
          50,
          51,
          52,
          53,
          54,
          55,
          56,
          57,
          58,
          59
         ],
         "y": [
          9.803,
          3.509,
          3.201,
          1.491,
          1.514,
          1.248,
          1.181,
          1.12,
          1.048,
          1.018,
          1.012,
          1.004,
          1.005,
          1.002,
          1,
          0.996,
          1.504,
          0.945,
          0.872,
          0.693,
          0.435,
          0.193,
          0.11,
          0.066,
          0.017,
          0.005,
          0.002,
          0,
          0,
          0,
          0.001,
          0.001,
          0.001,
          0.001,
          0.001,
          0.001,
          0,
          0.001,
          0.001,
          0.002,
          0.001,
          0.001,
          0.001,
          0,
          0,
          0,
          0,
          0,
          0,
          0,
          0,
          0,
          0,
          0,
          0,
          0,
          0,
          0.001,
          0.001
         ]
        }
       ],
       "layout": {
        "autosize": true,
        "template": {
         "data": {
          "bar": [
           {
            "error_x": {
             "color": "#2a3f5f"
            },
            "error_y": {
             "color": "#2a3f5f"
            },
            "marker": {
             "line": {
              "color": "#E5ECF6",
              "width": 0.5
             },
             "pattern": {
              "fillmode": "overlay",
              "size": 10,
              "solidity": 0.2
             }
            },
            "type": "bar"
           }
          ],
          "barpolar": [
           {
            "marker": {
             "line": {
              "color": "#E5ECF6",
              "width": 0.5
             },
             "pattern": {
              "fillmode": "overlay",
              "size": 10,
              "solidity": 0.2
             }
            },
            "type": "barpolar"
           }
          ],
          "carpet": [
           {
            "aaxis": {
             "endlinecolor": "#2a3f5f",
             "gridcolor": "white",
             "linecolor": "white",
             "minorgridcolor": "white",
             "startlinecolor": "#2a3f5f"
            },
            "baxis": {
             "endlinecolor": "#2a3f5f",
             "gridcolor": "white",
             "linecolor": "white",
             "minorgridcolor": "white",
             "startlinecolor": "#2a3f5f"
            },
            "type": "carpet"
           }
          ],
          "choropleth": [
           {
            "colorbar": {
             "outlinewidth": 0,
             "ticks": ""
            },
            "type": "choropleth"
           }
          ],
          "contour": [
           {
            "colorbar": {
             "outlinewidth": 0,
             "ticks": ""
            },
            "colorscale": [
             [
              0,
              "#0d0887"
             ],
             [
              0.1111111111111111,
              "#46039f"
             ],
             [
              0.2222222222222222,
              "#7201a8"
             ],
             [
              0.3333333333333333,
              "#9c179e"
             ],
             [
              0.4444444444444444,
              "#bd3786"
             ],
             [
              0.5555555555555556,
              "#d8576b"
             ],
             [
              0.6666666666666666,
              "#ed7953"
             ],
             [
              0.7777777777777778,
              "#fb9f3a"
             ],
             [
              0.8888888888888888,
              "#fdca26"
             ],
             [
              1,
              "#f0f921"
             ]
            ],
            "type": "contour"
           }
          ],
          "contourcarpet": [
           {
            "colorbar": {
             "outlinewidth": 0,
             "ticks": ""
            },
            "type": "contourcarpet"
           }
          ],
          "heatmap": [
           {
            "colorbar": {
             "outlinewidth": 0,
             "ticks": ""
            },
            "colorscale": [
             [
              0,
              "#0d0887"
             ],
             [
              0.1111111111111111,
              "#46039f"
             ],
             [
              0.2222222222222222,
              "#7201a8"
             ],
             [
              0.3333333333333333,
              "#9c179e"
             ],
             [
              0.4444444444444444,
              "#bd3786"
             ],
             [
              0.5555555555555556,
              "#d8576b"
             ],
             [
              0.6666666666666666,
              "#ed7953"
             ],
             [
              0.7777777777777778,
              "#fb9f3a"
             ],
             [
              0.8888888888888888,
              "#fdca26"
             ],
             [
              1,
              "#f0f921"
             ]
            ],
            "type": "heatmap"
           }
          ],
          "heatmapgl": [
           {
            "colorbar": {
             "outlinewidth": 0,
             "ticks": ""
            },
            "colorscale": [
             [
              0,
              "#0d0887"
             ],
             [
              0.1111111111111111,
              "#46039f"
             ],
             [
              0.2222222222222222,
              "#7201a8"
             ],
             [
              0.3333333333333333,
              "#9c179e"
             ],
             [
              0.4444444444444444,
              "#bd3786"
             ],
             [
              0.5555555555555556,
              "#d8576b"
             ],
             [
              0.6666666666666666,
              "#ed7953"
             ],
             [
              0.7777777777777778,
              "#fb9f3a"
             ],
             [
              0.8888888888888888,
              "#fdca26"
             ],
             [
              1,
              "#f0f921"
             ]
            ],
            "type": "heatmapgl"
           }
          ],
          "histogram": [
           {
            "marker": {
             "pattern": {
              "fillmode": "overlay",
              "size": 10,
              "solidity": 0.2
             }
            },
            "type": "histogram"
           }
          ],
          "histogram2d": [
           {
            "colorbar": {
             "outlinewidth": 0,
             "ticks": ""
            },
            "colorscale": [
             [
              0,
              "#0d0887"
             ],
             [
              0.1111111111111111,
              "#46039f"
             ],
             [
              0.2222222222222222,
              "#7201a8"
             ],
             [
              0.3333333333333333,
              "#9c179e"
             ],
             [
              0.4444444444444444,
              "#bd3786"
             ],
             [
              0.5555555555555556,
              "#d8576b"
             ],
             [
              0.6666666666666666,
              "#ed7953"
             ],
             [
              0.7777777777777778,
              "#fb9f3a"
             ],
             [
              0.8888888888888888,
              "#fdca26"
             ],
             [
              1,
              "#f0f921"
             ]
            ],
            "type": "histogram2d"
           }
          ],
          "histogram2dcontour": [
           {
            "colorbar": {
             "outlinewidth": 0,
             "ticks": ""
            },
            "colorscale": [
             [
              0,
              "#0d0887"
             ],
             [
              0.1111111111111111,
              "#46039f"
             ],
             [
              0.2222222222222222,
              "#7201a8"
             ],
             [
              0.3333333333333333,
              "#9c179e"
             ],
             [
              0.4444444444444444,
              "#bd3786"
             ],
             [
              0.5555555555555556,
              "#d8576b"
             ],
             [
              0.6666666666666666,
              "#ed7953"
             ],
             [
              0.7777777777777778,
              "#fb9f3a"
             ],
             [
              0.8888888888888888,
              "#fdca26"
             ],
             [
              1,
              "#f0f921"
             ]
            ],
            "type": "histogram2dcontour"
           }
          ],
          "mesh3d": [
           {
            "colorbar": {
             "outlinewidth": 0,
             "ticks": ""
            },
            "type": "mesh3d"
           }
          ],
          "parcoords": [
           {
            "line": {
             "colorbar": {
              "outlinewidth": 0,
              "ticks": ""
             }
            },
            "type": "parcoords"
           }
          ],
          "pie": [
           {
            "automargin": true,
            "type": "pie"
           }
          ],
          "scatter": [
           {
            "fillpattern": {
             "fillmode": "overlay",
             "size": 10,
             "solidity": 0.2
            },
            "type": "scatter"
           }
          ],
          "scatter3d": [
           {
            "line": {
             "colorbar": {
              "outlinewidth": 0,
              "ticks": ""
             }
            },
            "marker": {
             "colorbar": {
              "outlinewidth": 0,
              "ticks": ""
             }
            },
            "type": "scatter3d"
           }
          ],
          "scattercarpet": [
           {
            "marker": {
             "colorbar": {
              "outlinewidth": 0,
              "ticks": ""
             }
            },
            "type": "scattercarpet"
           }
          ],
          "scattergeo": [
           {
            "marker": {
             "colorbar": {
              "outlinewidth": 0,
              "ticks": ""
             }
            },
            "type": "scattergeo"
           }
          ],
          "scattergl": [
           {
            "marker": {
             "colorbar": {
              "outlinewidth": 0,
              "ticks": ""
             }
            },
            "type": "scattergl"
           }
          ],
          "scattermapbox": [
           {
            "marker": {
             "colorbar": {
              "outlinewidth": 0,
              "ticks": ""
             }
            },
            "type": "scattermapbox"
           }
          ],
          "scatterpolar": [
           {
            "marker": {
             "colorbar": {
              "outlinewidth": 0,
              "ticks": ""
             }
            },
            "type": "scatterpolar"
           }
          ],
          "scatterpolargl": [
           {
            "marker": {
             "colorbar": {
              "outlinewidth": 0,
              "ticks": ""
             }
            },
            "type": "scatterpolargl"
           }
          ],
          "scatterternary": [
           {
            "marker": {
             "colorbar": {
              "outlinewidth": 0,
              "ticks": ""
             }
            },
            "type": "scatterternary"
           }
          ],
          "surface": [
           {
            "colorbar": {
             "outlinewidth": 0,
             "ticks": ""
            },
            "colorscale": [
             [
              0,
              "#0d0887"
             ],
             [
              0.1111111111111111,
              "#46039f"
             ],
             [
              0.2222222222222222,
              "#7201a8"
             ],
             [
              0.3333333333333333,
              "#9c179e"
             ],
             [
              0.4444444444444444,
              "#bd3786"
             ],
             [
              0.5555555555555556,
              "#d8576b"
             ],
             [
              0.6666666666666666,
              "#ed7953"
             ],
             [
              0.7777777777777778,
              "#fb9f3a"
             ],
             [
              0.8888888888888888,
              "#fdca26"
             ],
             [
              1,
              "#f0f921"
             ]
            ],
            "type": "surface"
           }
          ],
          "table": [
           {
            "cells": {
             "fill": {
              "color": "#EBF0F8"
             },
             "line": {
              "color": "white"
             }
            },
            "header": {
             "fill": {
              "color": "#C8D4E3"
             },
             "line": {
              "color": "white"
             }
            },
            "type": "table"
           }
          ]
         },
         "layout": {
          "annotationdefaults": {
           "arrowcolor": "#2a3f5f",
           "arrowhead": 0,
           "arrowwidth": 1
          },
          "autotypenumbers": "strict",
          "coloraxis": {
           "colorbar": {
            "outlinewidth": 0,
            "ticks": ""
           }
          },
          "colorscale": {
           "diverging": [
            [
             0,
             "#8e0152"
            ],
            [
             0.1,
             "#c51b7d"
            ],
            [
             0.2,
             "#de77ae"
            ],
            [
             0.3,
             "#f1b6da"
            ],
            [
             0.4,
             "#fde0ef"
            ],
            [
             0.5,
             "#f7f7f7"
            ],
            [
             0.6,
             "#e6f5d0"
            ],
            [
             0.7,
             "#b8e186"
            ],
            [
             0.8,
             "#7fbc41"
            ],
            [
             0.9,
             "#4d9221"
            ],
            [
             1,
             "#276419"
            ]
           ],
           "sequential": [
            [
             0,
             "#0d0887"
            ],
            [
             0.1111111111111111,
             "#46039f"
            ],
            [
             0.2222222222222222,
             "#7201a8"
            ],
            [
             0.3333333333333333,
             "#9c179e"
            ],
            [
             0.4444444444444444,
             "#bd3786"
            ],
            [
             0.5555555555555556,
             "#d8576b"
            ],
            [
             0.6666666666666666,
             "#ed7953"
            ],
            [
             0.7777777777777778,
             "#fb9f3a"
            ],
            [
             0.8888888888888888,
             "#fdca26"
            ],
            [
             1,
             "#f0f921"
            ]
           ],
           "sequentialminus": [
            [
             0,
             "#0d0887"
            ],
            [
             0.1111111111111111,
             "#46039f"
            ],
            [
             0.2222222222222222,
             "#7201a8"
            ],
            [
             0.3333333333333333,
             "#9c179e"
            ],
            [
             0.4444444444444444,
             "#bd3786"
            ],
            [
             0.5555555555555556,
             "#d8576b"
            ],
            [
             0.6666666666666666,
             "#ed7953"
            ],
            [
             0.7777777777777778,
             "#fb9f3a"
            ],
            [
             0.8888888888888888,
             "#fdca26"
            ],
            [
             1,
             "#f0f921"
            ]
           ]
          },
          "colorway": [
           "#636efa",
           "#EF553B",
           "#00cc96",
           "#ab63fa",
           "#FFA15A",
           "#19d3f3",
           "#FF6692",
           "#B6E880",
           "#FF97FF",
           "#FECB52"
          ],
          "font": {
           "color": "#2a3f5f"
          },
          "geo": {
           "bgcolor": "white",
           "lakecolor": "white",
           "landcolor": "#E5ECF6",
           "showlakes": true,
           "showland": true,
           "subunitcolor": "white"
          },
          "hoverlabel": {
           "align": "left"
          },
          "hovermode": "closest",
          "mapbox": {
           "style": "light"
          },
          "paper_bgcolor": "white",
          "plot_bgcolor": "#E5ECF6",
          "polar": {
           "angularaxis": {
            "gridcolor": "white",
            "linecolor": "white",
            "ticks": ""
           },
           "bgcolor": "#E5ECF6",
           "radialaxis": {
            "gridcolor": "white",
            "linecolor": "white",
            "ticks": ""
           }
          },
          "scene": {
           "xaxis": {
            "backgroundcolor": "#E5ECF6",
            "gridcolor": "white",
            "gridwidth": 2,
            "linecolor": "white",
            "showbackground": true,
            "ticks": "",
            "zerolinecolor": "white"
           },
           "yaxis": {
            "backgroundcolor": "#E5ECF6",
            "gridcolor": "white",
            "gridwidth": 2,
            "linecolor": "white",
            "showbackground": true,
            "ticks": "",
            "zerolinecolor": "white"
           },
           "zaxis": {
            "backgroundcolor": "#E5ECF6",
            "gridcolor": "white",
            "gridwidth": 2,
            "linecolor": "white",
            "showbackground": true,
            "ticks": "",
            "zerolinecolor": "white"
           }
          },
          "shapedefaults": {
           "line": {
            "color": "#2a3f5f"
           }
          },
          "ternary": {
           "aaxis": {
            "gridcolor": "white",
            "linecolor": "white",
            "ticks": ""
           },
           "baxis": {
            "gridcolor": "white",
            "linecolor": "white",
            "ticks": ""
           },
           "bgcolor": "#E5ECF6",
           "caxis": {
            "gridcolor": "white",
            "linecolor": "white",
            "ticks": ""
           }
          },
          "title": {
           "x": 0.05
          },
          "xaxis": {
           "automargin": true,
           "gridcolor": "white",
           "linecolor": "white",
           "ticks": "",
           "title": {
            "standoff": 15
           },
           "zerolinecolor": "white",
           "zerolinewidth": 2
          },
          "yaxis": {
           "automargin": true,
           "gridcolor": "white",
           "linecolor": "white",
           "ticks": "",
           "title": {
            "standoff": 15
           },
           "zerolinecolor": "white",
           "zerolinewidth": 2
          }
         }
        },
        "title": {
         "text": "Geometry Optimization"
        },
        "xaxis": {
         "range": [
          1,
          59
         ],
         "title": {
          "text": "Optimization Step"
         },
         "type": "linear"
        },
        "yaxis": {
         "autorange": true,
         "range": [
          -0.8089854368932039,
          10.611985436893205
         ],
         "title": {
          "text": "Relative Energy [kcal/mol]"
         },
         "type": "linear",
         "zeroline": true
        }
       }
      },
      "image/png": "[encoded data removed]",
      "text/html": [
       "<div>                            <div id=\"b260ee54-5e0f-438e-9f5f-f065f8373137\" class=\"plotly-graph-div\" style=\"height:525px; width:100%;\"></div>            <script type=\"text/javascript\">                require([\"plotly\"], function(Plotly) {                    window.PLOTLYENV=window.PLOTLYENV || {};                                    if (document.getElementById(\"b260ee54-5e0f-438e-9f5f-f065f8373137\")) {                    Plotly.newPlot(                        \"b260ee54-5e0f-438e-9f5f-f065f8373137\",                        [{\"mode\":\"lines+markers\",\"x\":[1,2,3,4,5,6,7,8,9,10,11,12,13,14,15,16,17,18,19,20,21,22,23,24,25,26,27,28,29,30,31,32,33,34,35,36,37,38,39,40,41,42,43,44,45,46,47,48,49,50,51,52,53,54,55,56,57,58,59],\"y\":[9.803,3.509,3.201,1.491,1.514,1.248,1.181,1.12,1.048,1.018,1.012,1.004,1.005,1.002,1.0,0.996,1.504,0.945,0.872,0.693,0.435,0.193,0.11,0.066,0.017,0.005,0.002,0.0,0.0,0.0,0.001,0.001,0.001,0.001,0.001,0.001,0.0,0.001,0.001,0.002,0.001,0.001,0.001,0.0,0.0,0.0,0.0,0.0,0.0,0.0,0.0,0.0,0.0,0.0,0.0,0.0,0.0,0.001,0.001],\"type\":\"scatter\"}],                        {\"template\":{\"data\":{\"barpolar\":[{\"marker\":{\"line\":{\"color\":\"#E5ECF6\",\"width\":0.5},\"pattern\":{\"fillmode\":\"overlay\",\"size\":10,\"solidity\":0.2}},\"type\":\"barpolar\"}],\"bar\":[{\"error_x\":{\"color\":\"#2a3f5f\"},\"error_y\":{\"color\":\"#2a3f5f\"},\"marker\":{\"line\":{\"color\":\"#E5ECF6\",\"width\":0.5},\"pattern\":{\"fillmode\":\"overlay\",\"size\":10,\"solidity\":0.2}},\"type\":\"bar\"}],\"carpet\":[{\"aaxis\":{\"endlinecolor\":\"#2a3f5f\",\"gridcolor\":\"white\",\"linecolor\":\"white\",\"minorgridcolor\":\"white\",\"startlinecolor\":\"#2a3f5f\"},\"baxis\":{\"endlinecolor\":\"#2a3f5f\",\"gridcolor\":\"white\",\"linecolor\":\"white\",\"minorgridcolor\":\"white\",\"startlinecolor\":\"#2a3f5f\"},\"type\":\"carpet\"}],\"choropleth\":[{\"colorbar\":{\"outlinewidth\":0,\"ticks\":\"\"},\"type\":\"choropleth\"}],\"contourcarpet\":[{\"colorbar\":{\"outlinewidth\":0,\"ticks\":\"\"},\"type\":\"contourcarpet\"}],\"contour\":[{\"colorbar\":{\"outlinewidth\":0,\"ticks\":\"\"},\"colorscale\":[[0.0,\"#0d0887\"],[0.1111111111111111,\"#46039f\"],[0.2222222222222222,\"#7201a8\"],[0.3333333333333333,\"#9c179e\"],[0.4444444444444444,\"#bd3786\"],[0.5555555555555556,\"#d8576b\"],[0.6666666666666666,\"#ed7953\"],[0.7777777777777778,\"#fb9f3a\"],[0.8888888888888888,\"#fdca26\"],[1.0,\"#f0f921\"]],\"type\":\"contour\"}],\"heatmapgl\":[{\"colorbar\":{\"outlinewidth\":0,\"ticks\":\"\"},\"colorscale\":[[0.0,\"#0d0887\"],[0.1111111111111111,\"#46039f\"],[0.2222222222222222,\"#7201a8\"],[0.3333333333333333,\"#9c179e\"],[0.4444444444444444,\"#bd3786\"],[0.5555555555555556,\"#d8576b\"],[0.6666666666666666,\"#ed7953\"],[0.7777777777777778,\"#fb9f3a\"],[0.8888888888888888,\"#fdca26\"],[1.0,\"#f0f921\"]],\"type\":\"heatmapgl\"}],\"heatmap\":[{\"colorbar\":{\"outlinewidth\":0,\"ticks\":\"\"},\"colorscale\":[[0.0,\"#0d0887\"],[0.1111111111111111,\"#46039f\"],[0.2222222222222222,\"#7201a8\"],[0.3333333333333333,\"#9c179e\"],[0.4444444444444444,\"#bd3786\"],[0.5555555555555556,\"#d8576b\"],[0.6666666666666666,\"#ed7953\"],[0.7777777777777778,\"#fb9f3a\"],[0.8888888888888888,\"#fdca26\"],[1.0,\"#f0f921\"]],\"type\":\"heatmap\"}],\"histogram2dcontour\":[{\"colorbar\":{\"outlinewidth\":0,\"ticks\":\"\"},\"colorscale\":[[0.0,\"#0d0887\"],[0.1111111111111111,\"#46039f\"],[0.2222222222222222,\"#7201a8\"],[0.3333333333333333,\"#9c179e\"],[0.4444444444444444,\"#bd3786\"],[0.5555555555555556,\"#d8576b\"],[0.6666666666666666,\"#ed7953\"],[0.7777777777777778,\"#fb9f3a\"],[0.8888888888888888,\"#fdca26\"],[1.0,\"#f0f921\"]],\"type\":\"histogram2dcontour\"}],\"histogram2d\":[{\"colorbar\":{\"outlinewidth\":0,\"ticks\":\"\"},\"colorscale\":[[0.0,\"#0d0887\"],[0.1111111111111111,\"#46039f\"],[0.2222222222222222,\"#7201a8\"],[0.3333333333333333,\"#9c179e\"],[0.4444444444444444,\"#bd3786\"],[0.5555555555555556,\"#d8576b\"],[0.6666666666666666,\"#ed7953\"],[0.7777777777777778,\"#fb9f3a\"],[0.8888888888888888,\"#fdca26\"],[1.0,\"#f0f921\"]],\"type\":\"histogram2d\"}],\"histogram\":[{\"marker\":{\"pattern\":{\"fillmode\":\"overlay\",\"size\":10,\"solidity\":0.2}},\"type\":\"histogram\"}],\"mesh3d\":[{\"colorbar\":{\"outlinewidth\":0,\"ticks\":\"\"},\"type\":\"mesh3d\"}],\"parcoords\":[{\"line\":{\"colorbar\":{\"outlinewidth\":0,\"ticks\":\"\"}},\"type\":\"parcoords\"}],\"pie\":[{\"automargin\":true,\"type\":\"pie\"}],\"scatter3d\":[{\"line\":{\"colorbar\":{\"outlinewidth\":0,\"ticks\":\"\"}},\"marker\":{\"colorbar\":{\"outlinewidth\":0,\"ticks\":\"\"}},\"type\":\"scatter3d\"}],\"scattercarpet\":[{\"marker\":{\"colorbar\":{\"outlinewidth\":0,\"ticks\":\"\"}},\"type\":\"scattercarpet\"}],\"scattergeo\":[{\"marker\":{\"colorbar\":{\"outlinewidth\":0,\"ticks\":\"\"}},\"type\":\"scattergeo\"}],\"scattergl\":[{\"marker\":{\"colorbar\":{\"outlinewidth\":0,\"ticks\":\"\"}},\"type\":\"scattergl\"}],\"scattermapbox\":[{\"marker\":{\"colorbar\":{\"outlinewidth\":0,\"ticks\":\"\"}},\"type\":\"scattermapbox\"}],\"scatterpolargl\":[{\"marker\":{\"colorbar\":{\"outlinewidth\":0,\"ticks\":\"\"}},\"type\":\"scatterpolargl\"}],\"scatterpolar\":[{\"marker\":{\"colorbar\":{\"outlinewidth\":0,\"ticks\":\"\"}},\"type\":\"scatterpolar\"}],\"scatter\":[{\"fillpattern\":{\"fillmode\":\"overlay\",\"size\":10,\"solidity\":0.2},\"type\":\"scatter\"}],\"scatterternary\":[{\"marker\":{\"colorbar\":{\"outlinewidth\":0,\"ticks\":\"\"}},\"type\":\"scatterternary\"}],\"surface\":[{\"colorbar\":{\"outlinewidth\":0,\"ticks\":\"\"},\"colorscale\":[[0.0,\"#0d0887\"],[0.1111111111111111,\"#46039f\"],[0.2222222222222222,\"#7201a8\"],[0.3333333333333333,\"#9c179e\"],[0.4444444444444444,\"#bd3786\"],[0.5555555555555556,\"#d8576b\"],[0.6666666666666666,\"#ed7953\"],[0.7777777777777778,\"#fb9f3a\"],[0.8888888888888888,\"#fdca26\"],[1.0,\"#f0f921\"]],\"type\":\"surface\"}],\"table\":[{\"cells\":{\"fill\":{\"color\":\"#EBF0F8\"},\"line\":{\"color\":\"white\"}},\"header\":{\"fill\":{\"color\":\"#C8D4E3\"},\"line\":{\"color\":\"white\"}},\"type\":\"table\"}]},\"layout\":{\"annotationdefaults\":{\"arrowcolor\":\"#2a3f5f\",\"arrowhead\":0,\"arrowwidth\":1},\"autotypenumbers\":\"strict\",\"coloraxis\":{\"colorbar\":{\"outlinewidth\":0,\"ticks\":\"\"}},\"colorscale\":{\"diverging\":[[0,\"#8e0152\"],[0.1,\"#c51b7d\"],[0.2,\"#de77ae\"],[0.3,\"#f1b6da\"],[0.4,\"#fde0ef\"],[0.5,\"#f7f7f7\"],[0.6,\"#e6f5d0\"],[0.7,\"#b8e186\"],[0.8,\"#7fbc41\"],[0.9,\"#4d9221\"],[1,\"#276419\"]],\"sequential\":[[0.0,\"#0d0887\"],[0.1111111111111111,\"#46039f\"],[0.2222222222222222,\"#7201a8\"],[0.3333333333333333,\"#9c179e\"],[0.4444444444444444,\"#bd3786\"],[0.5555555555555556,\"#d8576b\"],[0.6666666666666666,\"#ed7953\"],[0.7777777777777778,\"#fb9f3a\"],[0.8888888888888888,\"#fdca26\"],[1.0,\"#f0f921\"]],\"sequentialminus\":[[0.0,\"#0d0887\"],[0.1111111111111111,\"#46039f\"],[0.2222222222222222,\"#7201a8\"],[0.3333333333333333,\"#9c179e\"],[0.4444444444444444,\"#bd3786\"],[0.5555555555555556,\"#d8576b\"],[0.6666666666666666,\"#ed7953\"],[0.7777777777777778,\"#fb9f3a\"],[0.8888888888888888,\"#fdca26\"],[1.0,\"#f0f921\"]]},\"colorway\":[\"#636efa\",\"#EF553B\",\"#00cc96\",\"#ab63fa\",\"#FFA15A\",\"#19d3f3\",\"#FF6692\",\"#B6E880\",\"#FF97FF\",\"#FECB52\"],\"font\":{\"color\":\"#2a3f5f\"},\"geo\":{\"bgcolor\":\"white\",\"lakecolor\":\"white\",\"landcolor\":\"#E5ECF6\",\"showlakes\":true,\"showland\":true,\"subunitcolor\":\"white\"},\"hoverlabel\":{\"align\":\"left\"},\"hovermode\":\"closest\",\"mapbox\":{\"style\":\"light\"},\"paper_bgcolor\":\"white\",\"plot_bgcolor\":\"#E5ECF6\",\"polar\":{\"angularaxis\":{\"gridcolor\":\"white\",\"linecolor\":\"white\",\"ticks\":\"\"},\"bgcolor\":\"#E5ECF6\",\"radialaxis\":{\"gridcolor\":\"white\",\"linecolor\":\"white\",\"ticks\":\"\"}},\"scene\":{\"xaxis\":{\"backgroundcolor\":\"#E5ECF6\",\"gridcolor\":\"white\",\"gridwidth\":2,\"linecolor\":\"white\",\"showbackground\":true,\"ticks\":\"\",\"zerolinecolor\":\"white\"},\"yaxis\":{\"backgroundcolor\":\"#E5ECF6\",\"gridcolor\":\"white\",\"gridwidth\":2,\"linecolor\":\"white\",\"showbackground\":true,\"ticks\":\"\",\"zerolinecolor\":\"white\"},\"zaxis\":{\"backgroundcolor\":\"#E5ECF6\",\"gridcolor\":\"white\",\"gridwidth\":2,\"linecolor\":\"white\",\"showbackground\":true,\"ticks\":\"\",\"zerolinecolor\":\"white\"}},\"shapedefaults\":{\"line\":{\"color\":\"#2a3f5f\"}},\"ternary\":{\"aaxis\":{\"gridcolor\":\"white\",\"linecolor\":\"white\",\"ticks\":\"\"},\"baxis\":{\"gridcolor\":\"white\",\"linecolor\":\"white\",\"ticks\":\"\"},\"bgcolor\":\"#E5ECF6\",\"caxis\":{\"gridcolor\":\"white\",\"linecolor\":\"white\",\"ticks\":\"\"}},\"title\":{\"x\":0.05},\"xaxis\":{\"automargin\":true,\"gridcolor\":\"white\",\"linecolor\":\"white\",\"ticks\":\"\",\"title\":{\"standoff\":15},\"zerolinecolor\":\"white\",\"zerolinewidth\":2},\"yaxis\":{\"automargin\":true,\"gridcolor\":\"white\",\"linecolor\":\"white\",\"ticks\":\"\",\"title\":{\"standoff\":15},\"zerolinecolor\":\"white\",\"zerolinewidth\":2}}},\"title\":{\"text\":\"Geometry Optimization\"},\"xaxis\":{\"range\":[1,59],\"title\":{\"text\":\"Optimization Step\"}},\"yaxis\":{\"title\":{\"text\":\"Relative Energy [kcal/mol]\"},\"zeroline\":true}},                        {\"responsive\": true}                    ).then(function(){\n",
       "                            \n",
       "var gd = document.getElementById('b260ee54-5e0f-438e-9f5f-f065f8373137');\n",
       "var x = new MutationObserver(function (mutations, observer) {{\n",
       "        var display = window.getComputedStyle(gd).display;\n",
       "        if (!display || display === 'none') {{\n",
       "            console.log([gd, 'removed!']);\n",
       "            Plotly.purge(gd);\n",
       "            observer.disconnect();\n",
       "        }}\n",
       "}});\n",
       "\n",
       "// Listen for the removal of the full notebook cells\n",
       "var notebookContainer = gd.closest('#notebook-container');\n",
       "if (notebookContainer) {{\n",
       "    x.observe(notebookContainer, {childList: true});\n",
       "}}\n",
       "\n",
       "// Listen for the clearing of the current output cell\n",
       "var outputEl = gd.closest('.output');\n",
       "if (outputEl) {{\n",
       "    x.observe(outputEl, {childList: true});\n",
       "}}\n",
       "\n",
       "                        })                };                });            </script>        </div>"
      ]
     },
     "metadata": {},
     "output_type": "display_data"
    }
   ],
   "source": [
    "opt_record.show_history()"
   ]
  },
  {
   "cell_type": "code",
   "execution_count": 64,
   "id": "df85ca6b-8673-479f-97c0-c1176393923c",
   "metadata": {},
   "outputs": [],
   "source": [
    "mols = opt_record.get_molecular_trajectory()"
   ]
  },
  {
   "cell_type": "code",
   "execution_count": 65,
   "id": "efdff85e-267a-4bb6-975c-4390db2981ae",
   "metadata": {
    "scrolled": true,
    "tags": []
   },
   "outputs": [
    {
     "data": {
      "text/plain": [
       "[Molecule(name='C13H13NO2', formula='C13H13NO2', hash='60cc040'),\n",
       " Molecule(name='C13H13NO2', formula='C13H13NO2', hash='f7bdf5f'),\n",
       " Molecule(name='C13H13NO2', formula='C13H13NO2', hash='24fa93f'),\n",
       " Molecule(name='C13H13NO2', formula='C13H13NO2', hash='6732995'),\n",
       " Molecule(name='C13H13NO2', formula='C13H13NO2', hash='82aa65d'),\n",
       " Molecule(name='C13H13NO2', formula='C13H13NO2', hash='0e7dbc1'),\n",
       " Molecule(name='C13H13NO2', formula='C13H13NO2', hash='bbc81de'),\n",
       " Molecule(name='C13H13NO2', formula='C13H13NO2', hash='f6e7078'),\n",
       " Molecule(name='C13H13NO2', formula='C13H13NO2', hash='bdad06e'),\n",
       " Molecule(name='C13H13NO2', formula='C13H13NO2', hash='c8e8e3f'),\n",
       " Molecule(name='C13H13NO2', formula='C13H13NO2', hash='d91e97c'),\n",
       " Molecule(name='C13H13NO2', formula='C13H13NO2', hash='c8aaa5c'),\n",
       " Molecule(name='C13H13NO2', formula='C13H13NO2', hash='81dfbec'),\n",
       " Molecule(name='C13H13NO2', formula='C13H13NO2', hash='230e92f'),\n",
       " Molecule(name='C13H13NO2', formula='C13H13NO2', hash='134f884'),\n",
       " Molecule(name='C13H13NO2', formula='C13H13NO2', hash='bb776e1'),\n",
       " Molecule(name='C13H13NO2', formula='C13H13NO2', hash='062cb3e'),\n",
       " Molecule(name='C13H13NO2', formula='C13H13NO2', hash='0b370ae'),\n",
       " Molecule(name='C13H13NO2', formula='C13H13NO2', hash='74400f1'),\n",
       " Molecule(name='C13H13NO2', formula='C13H13NO2', hash='6f12025'),\n",
       " Molecule(name='C13H13NO2', formula='C13H13NO2', hash='6c6caa9'),\n",
       " Molecule(name='C13H13NO2', formula='C13H13NO2', hash='21ce89e'),\n",
       " Molecule(name='C13H13NO2', formula='C13H13NO2', hash='9ead6f1'),\n",
       " Molecule(name='C13H13NO2', formula='C13H13NO2', hash='7b74091'),\n",
       " Molecule(name='C13H13NO2', formula='C13H13NO2', hash='9beaf81'),\n",
       " Molecule(name='C13H13NO2', formula='C13H13NO2', hash='1fe111e'),\n",
       " Molecule(name='C13H13NO2', formula='C13H13NO2', hash='d4e1946'),\n",
       " Molecule(name='C13H13NO2', formula='C13H13NO2', hash='0492b7b'),\n",
       " Molecule(name='C13H13NO2', formula='C13H13NO2', hash='7f3425f'),\n",
       " Molecule(name='C13H13NO2', formula='C13H13NO2', hash='14995f1'),\n",
       " Molecule(name='C13H13NO2', formula='C13H13NO2', hash='9737fac'),\n",
       " Molecule(name='C13H13NO2', formula='C13H13NO2', hash='9737fac'),\n",
       " Molecule(name='C13H13NO2', formula='C13H13NO2', hash='53f8620'),\n",
       " Molecule(name='C13H13NO2', formula='C13H13NO2', hash='f1cc41b'),\n",
       " Molecule(name='C13H13NO2', formula='C13H13NO2', hash='4c5f69f'),\n",
       " Molecule(name='C13H13NO2', formula='C13H13NO2', hash='8c1d5dd'),\n",
       " Molecule(name='C13H13NO2', formula='C13H13NO2', hash='1f2ea1b'),\n",
       " Molecule(name='C13H13NO2', formula='C13H13NO2', hash='1773a71'),\n",
       " Molecule(name='C13H13NO2', formula='C13H13NO2', hash='3d4b27a'),\n",
       " Molecule(name='C13H13NO2', formula='C13H13NO2', hash='c1fa2b2'),\n",
       " Molecule(name='C13H13NO2', formula='C13H13NO2', hash='1adbeb7'),\n",
       " Molecule(name='C13H13NO2', formula='C13H13NO2', hash='6362fe3'),\n",
       " Molecule(name='C13H13NO2', formula='C13H13NO2', hash='7c6fa56'),\n",
       " Molecule(name='C13H13NO2', formula='C13H13NO2', hash='f22887e'),\n",
       " Molecule(name='C13H13NO2', formula='C13H13NO2', hash='74b08b5'),\n",
       " Molecule(name='C13H13NO2', formula='C13H13NO2', hash='a75d14f'),\n",
       " Molecule(name='C13H13NO2', formula='C13H13NO2', hash='41cd376'),\n",
       " Molecule(name='C13H13NO2', formula='C13H13NO2', hash='2f6f110'),\n",
       " Molecule(name='C13H13NO2', formula='C13H13NO2', hash='9194fb5'),\n",
       " Molecule(name='C13H13NO2', formula='C13H13NO2', hash='4faff9b'),\n",
       " Molecule(name='C13H13NO2', formula='C13H13NO2', hash='b1f5dc6'),\n",
       " Molecule(name='C13H13NO2', formula='C13H13NO2', hash='bc9d61a'),\n",
       " Molecule(name='C13H13NO2', formula='C13H13NO2', hash='fd0ee44'),\n",
       " Molecule(name='C13H13NO2', formula='C13H13NO2', hash='b67b5e0'),\n",
       " Molecule(name='C13H13NO2', formula='C13H13NO2', hash='4518965'),\n",
       " Molecule(name='C13H13NO2', formula='C13H13NO2', hash='bd448ef'),\n",
       " Molecule(name='C13H13NO2', formula='C13H13NO2', hash='94b6f21'),\n",
       " Molecule(name='C13H13NO2', formula='C13H13NO2', hash='c4b392a'),\n",
       " Molecule(name='C13H13NO2', formula='C13H13NO2', hash='7b42c89')]"
      ]
     },
     "execution_count": 65,
     "metadata": {},
     "output_type": "execute_result"
    }
   ],
   "source": [
    "mols"
   ]
  },
  {
   "cell_type": "markdown",
   "id": "e4dda055-944f-444c-a5e1-afb7ab2e223e",
   "metadata": {},
   "source": [
    "### TorsionDataset"
   ]
  },
  {
   "cell_type": "code",
   "execution_count": 101,
   "id": "cf3e39f9-f680-4e3b-b960-377581ec1ddc",
   "metadata": {},
   "outputs": [],
   "source": [
    "#ds = client.get_collection(\"TorsionDriveDataset\", \"OpenFF Gen 2 Torsion Set 1 Roche\")\n",
    "#ds = client.get_collection(\"TorsionDriveDataset\", \"OpenFF Protein Dipeptide 2-D TorsionDrive v2.1\")\n",
    "#ds = client.get_collection(\"TorsionDriveDataset\", \"OpenFF Protein Capped 1-mer Sidechains v1.3\")\n",
    "ds = client.get_collection(\"TorsionDriveDataset\", \"OpenFF Gen 2 Torsion Set 1 Roche 2\")"
   ]
  },
  {
   "cell_type": "code",
   "execution_count": 102,
   "id": "8b5569f9-6b04-4440-b7af-2df36aed1ce1",
   "metadata": {},
   "outputs": [
    {
     "data": {
      "text/html": [
       "<div>\n",
       "<style scoped>\n",
       "    .dataframe tbody tr th:only-of-type {\n",
       "        vertical-align: middle;\n",
       "    }\n",
       "\n",
       "    .dataframe tbody tr th {\n",
       "        vertical-align: top;\n",
       "    }\n",
       "\n",
       "    .dataframe thead th {\n",
       "        text-align: right;\n",
       "    }\n",
       "</style>\n",
       "<table border=\"1\" class=\"dataframe\">\n",
       "  <thead>\n",
       "    <tr style=\"text-align: right;\">\n",
       "      <th></th>\n",
       "      <th>Description</th>\n",
       "    </tr>\n",
       "    <tr>\n",
       "      <th>Name</th>\n",
       "      <th></th>\n",
       "    </tr>\n",
       "  </thead>\n",
       "  <tbody>\n",
       "    <tr>\n",
       "      <th>default</th>\n",
       "      <td>Standard OpenFF torsiondrive specification.</td>\n",
       "    </tr>\n",
       "  </tbody>\n",
       "</table>\n",
       "</div>"
      ],
      "text/plain": [
       "                                         Description\n",
       "Name                                                \n",
       "default  Standard OpenFF torsiondrive specification."
      ]
     },
     "execution_count": 102,
     "metadata": {},
     "output_type": "execute_result"
    }
   ],
   "source": [
    "ds.list_specifications()"
   ]
  },
  {
   "cell_type": "code",
   "execution_count": 103,
   "id": "12c644c8-df79-43a3-bb36-caf09e086880",
   "metadata": {},
   "outputs": [],
   "source": [
    "record_names = list(ds.data.records)"
   ]
  },
  {
   "cell_type": "code",
   "execution_count": 104,
   "id": "88054dfd-2813-43b8-88c8-5dbbed7bbab9",
   "metadata": {},
   "outputs": [
    {
     "data": {
      "text/html": [
       "<div>\n",
       "<style scoped>\n",
       "    .dataframe tbody tr th:only-of-type {\n",
       "        vertical-align: middle;\n",
       "    }\n",
       "\n",
       "    .dataframe tbody tr th {\n",
       "        vertical-align: top;\n",
       "    }\n",
       "\n",
       "    .dataframe thead th {\n",
       "        text-align: right;\n",
       "    }\n",
       "</style>\n",
       "<table border=\"1\" class=\"dataframe\">\n",
       "  <thead>\n",
       "    <tr style=\"text-align: right;\">\n",
       "      <th></th>\n",
       "      <th>default</th>\n",
       "    </tr>\n",
       "  </thead>\n",
       "  <tbody>\n",
       "    <tr>\n",
       "      <th>COMPLETE</th>\n",
       "      <td>136</td>\n",
       "    </tr>\n",
       "    <tr>\n",
       "      <th>RUNNING</th>\n",
       "      <td>5</td>\n",
       "    </tr>\n",
       "    <tr>\n",
       "      <th>ERROR</th>\n",
       "      <td>1</td>\n",
       "    </tr>\n",
       "  </tbody>\n",
       "</table>\n",
       "</div>"
      ],
      "text/plain": [
       "          default\n",
       "COMPLETE      136\n",
       "RUNNING         5\n",
       "ERROR           1"
      ]
     },
     "execution_count": 104,
     "metadata": {},
     "output_type": "execute_result"
    }
   ],
   "source": [
    "ds.status()"
   ]
  },
  {
   "cell_type": "code",
   "execution_count": 105,
   "id": "2768d15c-30ee-41e7-b6ff-d5754fe9405a",
   "metadata": {},
   "outputs": [
    {
     "data": {
      "text/plain": [
       "142"
      ]
     },
     "execution_count": 105,
     "metadata": {},
     "output_type": "execute_result"
    }
   ],
   "source": [
    "len(record_names)"
   ]
  },
  {
   "cell_type": "code",
   "execution_count": 71,
   "id": "d9fbe483-276b-467c-8d37-a2ac80a05349",
   "metadata": {},
   "outputs": [
    {
     "data": {
      "text/html": [
       "<div>\n",
       "<style scoped>\n",
       "    .dataframe tbody tr th:only-of-type {\n",
       "        vertical-align: middle;\n",
       "    }\n",
       "\n",
       "    .dataframe tbody tr th {\n",
       "        vertical-align: top;\n",
       "    }\n",
       "\n",
       "    .dataframe thead th {\n",
       "        text-align: right;\n",
       "    }\n",
       "</style>\n",
       "<table border=\"1\" class=\"dataframe\">\n",
       "  <thead>\n",
       "    <tr style=\"text-align: right;\">\n",
       "      <th></th>\n",
       "      <th>default</th>\n",
       "    </tr>\n",
       "  </thead>\n",
       "  <tbody>\n",
       "    <tr>\n",
       "      <th>[CH3:1][CH2:2][CH2:3][NH+:4]1CCCC1</th>\n",
       "      <td>COMPLETE</td>\n",
       "    </tr>\n",
       "    <tr>\n",
       "      <th>[CH3:1][CH2:4][CH2:3][CH3:2]</th>\n",
       "      <td>NaN</td>\n",
       "    </tr>\n",
       "    <tr>\n",
       "      <th>[H:1][CH2:2][C@:3]([H:4])(c1ccccc1)C(=O)N(C)C</th>\n",
       "      <td>COMPLETE</td>\n",
       "    </tr>\n",
       "    <tr>\n",
       "      <th>[H:4][CH2:3][CH2:2][C:1]1(COC1)C</th>\n",
       "      <td>COMPLETE</td>\n",
       "    </tr>\n",
       "    <tr>\n",
       "      <th>[CH2:3]([CH2:2][OH:4])[OH:1]</th>\n",
       "      <td>COMPLETE</td>\n",
       "    </tr>\n",
       "  </tbody>\n",
       "</table>\n",
       "</div>"
      ],
      "text/plain": [
       "                                                default\n",
       "[CH3:1][CH2:2][CH2:3][NH+:4]1CCCC1             COMPLETE\n",
       "[CH3:1][CH2:4][CH2:3][CH3:2]                        NaN\n",
       "[H:1][CH2:2][C@:3]([H:4])(c1ccccc1)C(=O)N(C)C  COMPLETE\n",
       "[H:4][CH2:3][CH2:2][C:1]1(COC1)C               COMPLETE\n",
       "[CH2:3]([CH2:2][OH:4])[OH:1]                   COMPLETE"
      ]
     },
     "execution_count": 71,
     "metadata": {},
     "output_type": "execute_result"
    }
   ],
   "source": [
    "ds.status([\"default\"], collapse=False, status=\"COMPLETE\").head()"
   ]
  },
  {
   "cell_type": "code",
   "execution_count": 72,
   "id": "5f5c6e4e-7fee-4956-8fa1-58dcdaa27dc6",
   "metadata": {},
   "outputs": [],
   "source": [
    "record_name = record_names[0]"
   ]
  },
  {
   "cell_type": "code",
   "execution_count": 73,
   "id": "0b367c51-b66d-44af-b406-aa7a76f15272",
   "metadata": {},
   "outputs": [
    {
     "data": {
      "text/plain": [
       "'[ch3:1][ch2:2][ch2:3][nh+:4]1cccc1'"
      ]
     },
     "execution_count": 73,
     "metadata": {},
     "output_type": "execute_result"
    }
   ],
   "source": [
    "record_name"
   ]
  },
  {
   "cell_type": "code",
   "execution_count": 74,
   "id": "7a1cf9f8-fb78-4c04-b4ba-552fa41c5bb8",
   "metadata": {},
   "outputs": [
    {
     "data": {
      "text/html": [
       "        <script type=\"text/javascript\">\n",
       "        window.PlotlyConfig = {MathJaxConfig: 'local'};\n",
       "        if (window.MathJax && window.MathJax.Hub && window.MathJax.Hub.Config) {window.MathJax.Hub.Config({SVG: {font: \"STIX-Web\"}});}\n",
       "        if (typeof require !== 'undefined') {\n",
       "        require.undef(\"plotly\");\n",
       "        requirejs.config({\n",
       "            paths: {\n",
       "                'plotly': ['https://cdn.plot.ly/plotly-2.12.1.min']\n",
       "            }\n",
       "        });\n",
       "        require(['plotly'], function(Plotly) {\n",
       "            window._Plotly = Plotly;\n",
       "        });\n",
       "        }\n",
       "        </script>\n",
       "        "
      ]
     },
     "metadata": {},
     "output_type": "display_data"
    },
    {
     "data": {
      "text/html": [
       "        <script type=\"text/javascript\">\n",
       "        window.PlotlyConfig = {MathJaxConfig: 'local'};\n",
       "        if (window.MathJax && window.MathJax.Hub && window.MathJax.Hub.Config) {window.MathJax.Hub.Config({SVG: {font: \"STIX-Web\"}});}\n",
       "        if (typeof require !== 'undefined') {\n",
       "        require.undef(\"plotly\");\n",
       "        requirejs.config({\n",
       "            paths: {\n",
       "                'plotly': ['https://cdn.plot.ly/plotly-2.12.1.min']\n",
       "            }\n",
       "        });\n",
       "        require(['plotly'], function(Plotly) {\n",
       "            window._Plotly = Plotly;\n",
       "        });\n",
       "        }\n",
       "        </script>\n",
       "        "
      ]
     },
     "metadata": {},
     "output_type": "display_data"
    },
    {
     "data": {
      "application/vnd.plotly.v1+json": {
       "config": {
        "linkText": "Export to plot.ly",
        "plotlyServerURL": "https://plot.ly",
        "showLink": false
       },
       "data": [
        {
         "mode": "lines+markers",
         "name": "[CH3:1][CH2:2][CH2:3][NH+:4]1CCCC1",
         "type": "scatter",
         "x": [
          -165,
          -150,
          -135,
          -120,
          -105,
          -90,
          -75,
          -60,
          -45,
          -30,
          -15,
          0,
          15,
          30,
          45,
          60,
          75,
          90,
          105,
          120,
          135,
          150,
          165,
          180
         ],
         "y": [
          0.621,
          1.616,
          2.889,
          3.626,
          3.318,
          2.118,
          0.763,
          0,
          0.475,
          2.22,
          4.322,
          5.706,
          5.679,
          4.332,
          2.813,
          2.07,
          2.239,
          2.264,
          2.833,
          3.467,
          3.268,
          2.263,
          1.106,
          0.427
         ]
        }
       ],
       "layout": {
        "autosize": true,
        "template": {
         "data": {
          "bar": [
           {
            "error_x": {
             "color": "#2a3f5f"
            },
            "error_y": {
             "color": "#2a3f5f"
            },
            "marker": {
             "line": {
              "color": "#E5ECF6",
              "width": 0.5
             },
             "pattern": {
              "fillmode": "overlay",
              "size": 10,
              "solidity": 0.2
             }
            },
            "type": "bar"
           }
          ],
          "barpolar": [
           {
            "marker": {
             "line": {
              "color": "#E5ECF6",
              "width": 0.5
             },
             "pattern": {
              "fillmode": "overlay",
              "size": 10,
              "solidity": 0.2
             }
            },
            "type": "barpolar"
           }
          ],
          "carpet": [
           {
            "aaxis": {
             "endlinecolor": "#2a3f5f",
             "gridcolor": "white",
             "linecolor": "white",
             "minorgridcolor": "white",
             "startlinecolor": "#2a3f5f"
            },
            "baxis": {
             "endlinecolor": "#2a3f5f",
             "gridcolor": "white",
             "linecolor": "white",
             "minorgridcolor": "white",
             "startlinecolor": "#2a3f5f"
            },
            "type": "carpet"
           }
          ],
          "choropleth": [
           {
            "colorbar": {
             "outlinewidth": 0,
             "ticks": ""
            },
            "type": "choropleth"
           }
          ],
          "contour": [
           {
            "colorbar": {
             "outlinewidth": 0,
             "ticks": ""
            },
            "colorscale": [
             [
              0,
              "#0d0887"
             ],
             [
              0.1111111111111111,
              "#46039f"
             ],
             [
              0.2222222222222222,
              "#7201a8"
             ],
             [
              0.3333333333333333,
              "#9c179e"
             ],
             [
              0.4444444444444444,
              "#bd3786"
             ],
             [
              0.5555555555555556,
              "#d8576b"
             ],
             [
              0.6666666666666666,
              "#ed7953"
             ],
             [
              0.7777777777777778,
              "#fb9f3a"
             ],
             [
              0.8888888888888888,
              "#fdca26"
             ],
             [
              1,
              "#f0f921"
             ]
            ],
            "type": "contour"
           }
          ],
          "contourcarpet": [
           {
            "colorbar": {
             "outlinewidth": 0,
             "ticks": ""
            },
            "type": "contourcarpet"
           }
          ],
          "heatmap": [
           {
            "colorbar": {
             "outlinewidth": 0,
             "ticks": ""
            },
            "colorscale": [
             [
              0,
              "#0d0887"
             ],
             [
              0.1111111111111111,
              "#46039f"
             ],
             [
              0.2222222222222222,
              "#7201a8"
             ],
             [
              0.3333333333333333,
              "#9c179e"
             ],
             [
              0.4444444444444444,
              "#bd3786"
             ],
             [
              0.5555555555555556,
              "#d8576b"
             ],
             [
              0.6666666666666666,
              "#ed7953"
             ],
             [
              0.7777777777777778,
              "#fb9f3a"
             ],
             [
              0.8888888888888888,
              "#fdca26"
             ],
             [
              1,
              "#f0f921"
             ]
            ],
            "type": "heatmap"
           }
          ],
          "heatmapgl": [
           {
            "colorbar": {
             "outlinewidth": 0,
             "ticks": ""
            },
            "colorscale": [
             [
              0,
              "#0d0887"
             ],
             [
              0.1111111111111111,
              "#46039f"
             ],
             [
              0.2222222222222222,
              "#7201a8"
             ],
             [
              0.3333333333333333,
              "#9c179e"
             ],
             [
              0.4444444444444444,
              "#bd3786"
             ],
             [
              0.5555555555555556,
              "#d8576b"
             ],
             [
              0.6666666666666666,
              "#ed7953"
             ],
             [
              0.7777777777777778,
              "#fb9f3a"
             ],
             [
              0.8888888888888888,
              "#fdca26"
             ],
             [
              1,
              "#f0f921"
             ]
            ],
            "type": "heatmapgl"
           }
          ],
          "histogram": [
           {
            "marker": {
             "pattern": {
              "fillmode": "overlay",
              "size": 10,
              "solidity": 0.2
             }
            },
            "type": "histogram"
           }
          ],
          "histogram2d": [
           {
            "colorbar": {
             "outlinewidth": 0,
             "ticks": ""
            },
            "colorscale": [
             [
              0,
              "#0d0887"
             ],
             [
              0.1111111111111111,
              "#46039f"
             ],
             [
              0.2222222222222222,
              "#7201a8"
             ],
             [
              0.3333333333333333,
              "#9c179e"
             ],
             [
              0.4444444444444444,
              "#bd3786"
             ],
             [
              0.5555555555555556,
              "#d8576b"
             ],
             [
              0.6666666666666666,
              "#ed7953"
             ],
             [
              0.7777777777777778,
              "#fb9f3a"
             ],
             [
              0.8888888888888888,
              "#fdca26"
             ],
             [
              1,
              "#f0f921"
             ]
            ],
            "type": "histogram2d"
           }
          ],
          "histogram2dcontour": [
           {
            "colorbar": {
             "outlinewidth": 0,
             "ticks": ""
            },
            "colorscale": [
             [
              0,
              "#0d0887"
             ],
             [
              0.1111111111111111,
              "#46039f"
             ],
             [
              0.2222222222222222,
              "#7201a8"
             ],
             [
              0.3333333333333333,
              "#9c179e"
             ],
             [
              0.4444444444444444,
              "#bd3786"
             ],
             [
              0.5555555555555556,
              "#d8576b"
             ],
             [
              0.6666666666666666,
              "#ed7953"
             ],
             [
              0.7777777777777778,
              "#fb9f3a"
             ],
             [
              0.8888888888888888,
              "#fdca26"
             ],
             [
              1,
              "#f0f921"
             ]
            ],
            "type": "histogram2dcontour"
           }
          ],
          "mesh3d": [
           {
            "colorbar": {
             "outlinewidth": 0,
             "ticks": ""
            },
            "type": "mesh3d"
           }
          ],
          "parcoords": [
           {
            "line": {
             "colorbar": {
              "outlinewidth": 0,
              "ticks": ""
             }
            },
            "type": "parcoords"
           }
          ],
          "pie": [
           {
            "automargin": true,
            "type": "pie"
           }
          ],
          "scatter": [
           {
            "fillpattern": {
             "fillmode": "overlay",
             "size": 10,
             "solidity": 0.2
            },
            "type": "scatter"
           }
          ],
          "scatter3d": [
           {
            "line": {
             "colorbar": {
              "outlinewidth": 0,
              "ticks": ""
             }
            },
            "marker": {
             "colorbar": {
              "outlinewidth": 0,
              "ticks": ""
             }
            },
            "type": "scatter3d"
           }
          ],
          "scattercarpet": [
           {
            "marker": {
             "colorbar": {
              "outlinewidth": 0,
              "ticks": ""
             }
            },
            "type": "scattercarpet"
           }
          ],
          "scattergeo": [
           {
            "marker": {
             "colorbar": {
              "outlinewidth": 0,
              "ticks": ""
             }
            },
            "type": "scattergeo"
           }
          ],
          "scattergl": [
           {
            "marker": {
             "colorbar": {
              "outlinewidth": 0,
              "ticks": ""
             }
            },
            "type": "scattergl"
           }
          ],
          "scattermapbox": [
           {
            "marker": {
             "colorbar": {
              "outlinewidth": 0,
              "ticks": ""
             }
            },
            "type": "scattermapbox"
           }
          ],
          "scatterpolar": [
           {
            "marker": {
             "colorbar": {
              "outlinewidth": 0,
              "ticks": ""
             }
            },
            "type": "scatterpolar"
           }
          ],
          "scatterpolargl": [
           {
            "marker": {
             "colorbar": {
              "outlinewidth": 0,
              "ticks": ""
             }
            },
            "type": "scatterpolargl"
           }
          ],
          "scatterternary": [
           {
            "marker": {
             "colorbar": {
              "outlinewidth": 0,
              "ticks": ""
             }
            },
            "type": "scatterternary"
           }
          ],
          "surface": [
           {
            "colorbar": {
             "outlinewidth": 0,
             "ticks": ""
            },
            "colorscale": [
             [
              0,
              "#0d0887"
             ],
             [
              0.1111111111111111,
              "#46039f"
             ],
             [
              0.2222222222222222,
              "#7201a8"
             ],
             [
              0.3333333333333333,
              "#9c179e"
             ],
             [
              0.4444444444444444,
              "#bd3786"
             ],
             [
              0.5555555555555556,
              "#d8576b"
             ],
             [
              0.6666666666666666,
              "#ed7953"
             ],
             [
              0.7777777777777778,
              "#fb9f3a"
             ],
             [
              0.8888888888888888,
              "#fdca26"
             ],
             [
              1,
              "#f0f921"
             ]
            ],
            "type": "surface"
           }
          ],
          "table": [
           {
            "cells": {
             "fill": {
              "color": "#EBF0F8"
             },
             "line": {
              "color": "white"
             }
            },
            "header": {
             "fill": {
              "color": "#C8D4E3"
             },
             "line": {
              "color": "white"
             }
            },
            "type": "table"
           }
          ]
         },
         "layout": {
          "annotationdefaults": {
           "arrowcolor": "#2a3f5f",
           "arrowhead": 0,
           "arrowwidth": 1
          },
          "autotypenumbers": "strict",
          "coloraxis": {
           "colorbar": {
            "outlinewidth": 0,
            "ticks": ""
           }
          },
          "colorscale": {
           "diverging": [
            [
             0,
             "#8e0152"
            ],
            [
             0.1,
             "#c51b7d"
            ],
            [
             0.2,
             "#de77ae"
            ],
            [
             0.3,
             "#f1b6da"
            ],
            [
             0.4,
             "#fde0ef"
            ],
            [
             0.5,
             "#f7f7f7"
            ],
            [
             0.6,
             "#e6f5d0"
            ],
            [
             0.7,
             "#b8e186"
            ],
            [
             0.8,
             "#7fbc41"
            ],
            [
             0.9,
             "#4d9221"
            ],
            [
             1,
             "#276419"
            ]
           ],
           "sequential": [
            [
             0,
             "#0d0887"
            ],
            [
             0.1111111111111111,
             "#46039f"
            ],
            [
             0.2222222222222222,
             "#7201a8"
            ],
            [
             0.3333333333333333,
             "#9c179e"
            ],
            [
             0.4444444444444444,
             "#bd3786"
            ],
            [
             0.5555555555555556,
             "#d8576b"
            ],
            [
             0.6666666666666666,
             "#ed7953"
            ],
            [
             0.7777777777777778,
             "#fb9f3a"
            ],
            [
             0.8888888888888888,
             "#fdca26"
            ],
            [
             1,
             "#f0f921"
            ]
           ],
           "sequentialminus": [
            [
             0,
             "#0d0887"
            ],
            [
             0.1111111111111111,
             "#46039f"
            ],
            [
             0.2222222222222222,
             "#7201a8"
            ],
            [
             0.3333333333333333,
             "#9c179e"
            ],
            [
             0.4444444444444444,
             "#bd3786"
            ],
            [
             0.5555555555555556,
             "#d8576b"
            ],
            [
             0.6666666666666666,
             "#ed7953"
            ],
            [
             0.7777777777777778,
             "#fb9f3a"
            ],
            [
             0.8888888888888888,
             "#fdca26"
            ],
            [
             1,
             "#f0f921"
            ]
           ]
          },
          "colorway": [
           "#636efa",
           "#EF553B",
           "#00cc96",
           "#ab63fa",
           "#FFA15A",
           "#19d3f3",
           "#FF6692",
           "#B6E880",
           "#FF97FF",
           "#FECB52"
          ],
          "font": {
           "color": "#2a3f5f"
          },
          "geo": {
           "bgcolor": "white",
           "lakecolor": "white",
           "landcolor": "#E5ECF6",
           "showlakes": true,
           "showland": true,
           "subunitcolor": "white"
          },
          "hoverlabel": {
           "align": "left"
          },
          "hovermode": "closest",
          "mapbox": {
           "style": "light"
          },
          "paper_bgcolor": "white",
          "plot_bgcolor": "#E5ECF6",
          "polar": {
           "angularaxis": {
            "gridcolor": "white",
            "linecolor": "white",
            "ticks": ""
           },
           "bgcolor": "#E5ECF6",
           "radialaxis": {
            "gridcolor": "white",
            "linecolor": "white",
            "ticks": ""
           }
          },
          "scene": {
           "xaxis": {
            "backgroundcolor": "#E5ECF6",
            "gridcolor": "white",
            "gridwidth": 2,
            "linecolor": "white",
            "showbackground": true,
            "ticks": "",
            "zerolinecolor": "white"
           },
           "yaxis": {
            "backgroundcolor": "#E5ECF6",
            "gridcolor": "white",
            "gridwidth": 2,
            "linecolor": "white",
            "showbackground": true,
            "ticks": "",
            "zerolinecolor": "white"
           },
           "zaxis": {
            "backgroundcolor": "#E5ECF6",
            "gridcolor": "white",
            "gridwidth": 2,
            "linecolor": "white",
            "showbackground": true,
            "ticks": "",
            "zerolinecolor": "white"
           }
          },
          "shapedefaults": {
           "line": {
            "color": "#2a3f5f"
           }
          },
          "ternary": {
           "aaxis": {
            "gridcolor": "white",
            "linecolor": "white",
            "ticks": ""
           },
           "baxis": {
            "gridcolor": "white",
            "linecolor": "white",
            "ticks": ""
           },
           "bgcolor": "#E5ECF6",
           "caxis": {
            "gridcolor": "white",
            "linecolor": "white",
            "ticks": ""
           }
          },
          "title": {
           "x": 0.05
          },
          "xaxis": {
           "automargin": true,
           "gridcolor": "white",
           "linecolor": "white",
           "ticks": "",
           "title": {
            "standoff": 15
           },
           "zerolinecolor": "white",
           "zerolinewidth": 2
          },
          "yaxis": {
           "automargin": true,
           "gridcolor": "white",
           "linecolor": "white",
           "ticks": "",
           "title": {
            "standoff": 15
           },
           "zerolinecolor": "white",
           "zerolinewidth": 2
          }
         }
        },
        "title": {
         "text": "TorsionDriveDataset 1-D Plot [spec=default]"
        },
        "xaxis": {
         "range": [
          -175,
          190
         ],
         "title": {
          "text": "Dihedral Angle [degrees]"
         },
         "type": "linear",
         "zeroline": false
        },
        "yaxis": {
         "autorange": true,
         "range": [
          -0.47088349514563105,
          6.176883495145631
         ],
         "title": {
          "text": "Relative Energy [kcal / mol]"
         },
         "type": "linear",
         "zeroline": true
        }
       }
      },
      "image/png": "[encoded data removed]",
      "text/html": [
       "<div>                            <div id=\"d1aa5fb6-c87b-4aa6-a50e-a6cf8d4ee617\" class=\"plotly-graph-div\" style=\"height:525px; width:100%;\"></div>            <script type=\"text/javascript\">                require([\"plotly\"], function(Plotly) {                    window.PLOTLYENV=window.PLOTLYENV || {};                                    if (document.getElementById(\"d1aa5fb6-c87b-4aa6-a50e-a6cf8d4ee617\")) {                    Plotly.newPlot(                        \"d1aa5fb6-c87b-4aa6-a50e-a6cf8d4ee617\",                        [{\"mode\":\"lines+markers\",\"name\":\"[CH3:1][CH2:2][CH2:3][NH+:4]1CCCC1\",\"x\":[-165,-150,-135,-120,-105,-90,-75,-60,-45,-30,-15,0,15,30,45,60,75,90,105,120,135,150,165,180],\"y\":[0.621,1.616,2.889,3.626,3.318,2.118,0.763,0.0,0.475,2.22,4.322,5.706,5.679,4.332,2.813,2.07,2.239,2.264,2.833,3.467,3.268,2.263,1.106,0.427],\"type\":\"scatter\"}],                        {\"template\":{\"data\":{\"barpolar\":[{\"marker\":{\"line\":{\"color\":\"#E5ECF6\",\"width\":0.5},\"pattern\":{\"fillmode\":\"overlay\",\"size\":10,\"solidity\":0.2}},\"type\":\"barpolar\"}],\"bar\":[{\"error_x\":{\"color\":\"#2a3f5f\"},\"error_y\":{\"color\":\"#2a3f5f\"},\"marker\":{\"line\":{\"color\":\"#E5ECF6\",\"width\":0.5},\"pattern\":{\"fillmode\":\"overlay\",\"size\":10,\"solidity\":0.2}},\"type\":\"bar\"}],\"carpet\":[{\"aaxis\":{\"endlinecolor\":\"#2a3f5f\",\"gridcolor\":\"white\",\"linecolor\":\"white\",\"minorgridcolor\":\"white\",\"startlinecolor\":\"#2a3f5f\"},\"baxis\":{\"endlinecolor\":\"#2a3f5f\",\"gridcolor\":\"white\",\"linecolor\":\"white\",\"minorgridcolor\":\"white\",\"startlinecolor\":\"#2a3f5f\"},\"type\":\"carpet\"}],\"choropleth\":[{\"colorbar\":{\"outlinewidth\":0,\"ticks\":\"\"},\"type\":\"choropleth\"}],\"contourcarpet\":[{\"colorbar\":{\"outlinewidth\":0,\"ticks\":\"\"},\"type\":\"contourcarpet\"}],\"contour\":[{\"colorbar\":{\"outlinewidth\":0,\"ticks\":\"\"},\"colorscale\":[[0.0,\"#0d0887\"],[0.1111111111111111,\"#46039f\"],[0.2222222222222222,\"#7201a8\"],[0.3333333333333333,\"#9c179e\"],[0.4444444444444444,\"#bd3786\"],[0.5555555555555556,\"#d8576b\"],[0.6666666666666666,\"#ed7953\"],[0.7777777777777778,\"#fb9f3a\"],[0.8888888888888888,\"#fdca26\"],[1.0,\"#f0f921\"]],\"type\":\"contour\"}],\"heatmapgl\":[{\"colorbar\":{\"outlinewidth\":0,\"ticks\":\"\"},\"colorscale\":[[0.0,\"#0d0887\"],[0.1111111111111111,\"#46039f\"],[0.2222222222222222,\"#7201a8\"],[0.3333333333333333,\"#9c179e\"],[0.4444444444444444,\"#bd3786\"],[0.5555555555555556,\"#d8576b\"],[0.6666666666666666,\"#ed7953\"],[0.7777777777777778,\"#fb9f3a\"],[0.8888888888888888,\"#fdca26\"],[1.0,\"#f0f921\"]],\"type\":\"heatmapgl\"}],\"heatmap\":[{\"colorbar\":{\"outlinewidth\":0,\"ticks\":\"\"},\"colorscale\":[[0.0,\"#0d0887\"],[0.1111111111111111,\"#46039f\"],[0.2222222222222222,\"#7201a8\"],[0.3333333333333333,\"#9c179e\"],[0.4444444444444444,\"#bd3786\"],[0.5555555555555556,\"#d8576b\"],[0.6666666666666666,\"#ed7953\"],[0.7777777777777778,\"#fb9f3a\"],[0.8888888888888888,\"#fdca26\"],[1.0,\"#f0f921\"]],\"type\":\"heatmap\"}],\"histogram2dcontour\":[{\"colorbar\":{\"outlinewidth\":0,\"ticks\":\"\"},\"colorscale\":[[0.0,\"#0d0887\"],[0.1111111111111111,\"#46039f\"],[0.2222222222222222,\"#7201a8\"],[0.3333333333333333,\"#9c179e\"],[0.4444444444444444,\"#bd3786\"],[0.5555555555555556,\"#d8576b\"],[0.6666666666666666,\"#ed7953\"],[0.7777777777777778,\"#fb9f3a\"],[0.8888888888888888,\"#fdca26\"],[1.0,\"#f0f921\"]],\"type\":\"histogram2dcontour\"}],\"histogram2d\":[{\"colorbar\":{\"outlinewidth\":0,\"ticks\":\"\"},\"colorscale\":[[0.0,\"#0d0887\"],[0.1111111111111111,\"#46039f\"],[0.2222222222222222,\"#7201a8\"],[0.3333333333333333,\"#9c179e\"],[0.4444444444444444,\"#bd3786\"],[0.5555555555555556,\"#d8576b\"],[0.6666666666666666,\"#ed7953\"],[0.7777777777777778,\"#fb9f3a\"],[0.8888888888888888,\"#fdca26\"],[1.0,\"#f0f921\"]],\"type\":\"histogram2d\"}],\"histogram\":[{\"marker\":{\"pattern\":{\"fillmode\":\"overlay\",\"size\":10,\"solidity\":0.2}},\"type\":\"histogram\"}],\"mesh3d\":[{\"colorbar\":{\"outlinewidth\":0,\"ticks\":\"\"},\"type\":\"mesh3d\"}],\"parcoords\":[{\"line\":{\"colorbar\":{\"outlinewidth\":0,\"ticks\":\"\"}},\"type\":\"parcoords\"}],\"pie\":[{\"automargin\":true,\"type\":\"pie\"}],\"scatter3d\":[{\"line\":{\"colorbar\":{\"outlinewidth\":0,\"ticks\":\"\"}},\"marker\":{\"colorbar\":{\"outlinewidth\":0,\"ticks\":\"\"}},\"type\":\"scatter3d\"}],\"scattercarpet\":[{\"marker\":{\"colorbar\":{\"outlinewidth\":0,\"ticks\":\"\"}},\"type\":\"scattercarpet\"}],\"scattergeo\":[{\"marker\":{\"colorbar\":{\"outlinewidth\":0,\"ticks\":\"\"}},\"type\":\"scattergeo\"}],\"scattergl\":[{\"marker\":{\"colorbar\":{\"outlinewidth\":0,\"ticks\":\"\"}},\"type\":\"scattergl\"}],\"scattermapbox\":[{\"marker\":{\"colorbar\":{\"outlinewidth\":0,\"ticks\":\"\"}},\"type\":\"scattermapbox\"}],\"scatterpolargl\":[{\"marker\":{\"colorbar\":{\"outlinewidth\":0,\"ticks\":\"\"}},\"type\":\"scatterpolargl\"}],\"scatterpolar\":[{\"marker\":{\"colorbar\":{\"outlinewidth\":0,\"ticks\":\"\"}},\"type\":\"scatterpolar\"}],\"scatter\":[{\"fillpattern\":{\"fillmode\":\"overlay\",\"size\":10,\"solidity\":0.2},\"type\":\"scatter\"}],\"scatterternary\":[{\"marker\":{\"colorbar\":{\"outlinewidth\":0,\"ticks\":\"\"}},\"type\":\"scatterternary\"}],\"surface\":[{\"colorbar\":{\"outlinewidth\":0,\"ticks\":\"\"},\"colorscale\":[[0.0,\"#0d0887\"],[0.1111111111111111,\"#46039f\"],[0.2222222222222222,\"#7201a8\"],[0.3333333333333333,\"#9c179e\"],[0.4444444444444444,\"#bd3786\"],[0.5555555555555556,\"#d8576b\"],[0.6666666666666666,\"#ed7953\"],[0.7777777777777778,\"#fb9f3a\"],[0.8888888888888888,\"#fdca26\"],[1.0,\"#f0f921\"]],\"type\":\"surface\"}],\"table\":[{\"cells\":{\"fill\":{\"color\":\"#EBF0F8\"},\"line\":{\"color\":\"white\"}},\"header\":{\"fill\":{\"color\":\"#C8D4E3\"},\"line\":{\"color\":\"white\"}},\"type\":\"table\"}]},\"layout\":{\"annotationdefaults\":{\"arrowcolor\":\"#2a3f5f\",\"arrowhead\":0,\"arrowwidth\":1},\"autotypenumbers\":\"strict\",\"coloraxis\":{\"colorbar\":{\"outlinewidth\":0,\"ticks\":\"\"}},\"colorscale\":{\"diverging\":[[0,\"#8e0152\"],[0.1,\"#c51b7d\"],[0.2,\"#de77ae\"],[0.3,\"#f1b6da\"],[0.4,\"#fde0ef\"],[0.5,\"#f7f7f7\"],[0.6,\"#e6f5d0\"],[0.7,\"#b8e186\"],[0.8,\"#7fbc41\"],[0.9,\"#4d9221\"],[1,\"#276419\"]],\"sequential\":[[0.0,\"#0d0887\"],[0.1111111111111111,\"#46039f\"],[0.2222222222222222,\"#7201a8\"],[0.3333333333333333,\"#9c179e\"],[0.4444444444444444,\"#bd3786\"],[0.5555555555555556,\"#d8576b\"],[0.6666666666666666,\"#ed7953\"],[0.7777777777777778,\"#fb9f3a\"],[0.8888888888888888,\"#fdca26\"],[1.0,\"#f0f921\"]],\"sequentialminus\":[[0.0,\"#0d0887\"],[0.1111111111111111,\"#46039f\"],[0.2222222222222222,\"#7201a8\"],[0.3333333333333333,\"#9c179e\"],[0.4444444444444444,\"#bd3786\"],[0.5555555555555556,\"#d8576b\"],[0.6666666666666666,\"#ed7953\"],[0.7777777777777778,\"#fb9f3a\"],[0.8888888888888888,\"#fdca26\"],[1.0,\"#f0f921\"]]},\"colorway\":[\"#636efa\",\"#EF553B\",\"#00cc96\",\"#ab63fa\",\"#FFA15A\",\"#19d3f3\",\"#FF6692\",\"#B6E880\",\"#FF97FF\",\"#FECB52\"],\"font\":{\"color\":\"#2a3f5f\"},\"geo\":{\"bgcolor\":\"white\",\"lakecolor\":\"white\",\"landcolor\":\"#E5ECF6\",\"showlakes\":true,\"showland\":true,\"subunitcolor\":\"white\"},\"hoverlabel\":{\"align\":\"left\"},\"hovermode\":\"closest\",\"mapbox\":{\"style\":\"light\"},\"paper_bgcolor\":\"white\",\"plot_bgcolor\":\"#E5ECF6\",\"polar\":{\"angularaxis\":{\"gridcolor\":\"white\",\"linecolor\":\"white\",\"ticks\":\"\"},\"bgcolor\":\"#E5ECF6\",\"radialaxis\":{\"gridcolor\":\"white\",\"linecolor\":\"white\",\"ticks\":\"\"}},\"scene\":{\"xaxis\":{\"backgroundcolor\":\"#E5ECF6\",\"gridcolor\":\"white\",\"gridwidth\":2,\"linecolor\":\"white\",\"showbackground\":true,\"ticks\":\"\",\"zerolinecolor\":\"white\"},\"yaxis\":{\"backgroundcolor\":\"#E5ECF6\",\"gridcolor\":\"white\",\"gridwidth\":2,\"linecolor\":\"white\",\"showbackground\":true,\"ticks\":\"\",\"zerolinecolor\":\"white\"},\"zaxis\":{\"backgroundcolor\":\"#E5ECF6\",\"gridcolor\":\"white\",\"gridwidth\":2,\"linecolor\":\"white\",\"showbackground\":true,\"ticks\":\"\",\"zerolinecolor\":\"white\"}},\"shapedefaults\":{\"line\":{\"color\":\"#2a3f5f\"}},\"ternary\":{\"aaxis\":{\"gridcolor\":\"white\",\"linecolor\":\"white\",\"ticks\":\"\"},\"baxis\":{\"gridcolor\":\"white\",\"linecolor\":\"white\",\"ticks\":\"\"},\"bgcolor\":\"#E5ECF6\",\"caxis\":{\"gridcolor\":\"white\",\"linecolor\":\"white\",\"ticks\":\"\"}},\"title\":{\"x\":0.05},\"xaxis\":{\"automargin\":true,\"gridcolor\":\"white\",\"linecolor\":\"white\",\"ticks\":\"\",\"title\":{\"standoff\":15},\"zerolinecolor\":\"white\",\"zerolinewidth\":2},\"yaxis\":{\"automargin\":true,\"gridcolor\":\"white\",\"linecolor\":\"white\",\"ticks\":\"\",\"title\":{\"standoff\":15},\"zerolinecolor\":\"white\",\"zerolinewidth\":2}}},\"title\":{\"text\":\"TorsionDriveDataset 1-D Plot [spec=default]\"},\"xaxis\":{\"range\":[-175,190],\"title\":{\"text\":\"Dihedral Angle [degrees]\"},\"zeroline\":false},\"yaxis\":{\"title\":{\"text\":\"Relative Energy [kcal / mol]\"},\"zeroline\":true}},                        {\"responsive\": true}                    ).then(function(){\n",
       "                            \n",
       "var gd = document.getElementById('d1aa5fb6-c87b-4aa6-a50e-a6cf8d4ee617');\n",
       "var x = new MutationObserver(function (mutations, observer) {{\n",
       "        var display = window.getComputedStyle(gd).display;\n",
       "        if (!display || display === 'none') {{\n",
       "            console.log([gd, 'removed!']);\n",
       "            Plotly.purge(gd);\n",
       "            observer.disconnect();\n",
       "        }}\n",
       "}});\n",
       "\n",
       "// Listen for the removal of the full notebook cells\n",
       "var notebookContainer = gd.closest('#notebook-container');\n",
       "if (notebookContainer) {{\n",
       "    x.observe(notebookContainer, {childList: true});\n",
       "}}\n",
       "\n",
       "// Listen for the clearing of the current output cell\n",
       "var outputEl = gd.closest('.output');\n",
       "if (outputEl) {{\n",
       "    x.observe(outputEl, {childList: true});\n",
       "}}\n",
       "\n",
       "                        })                };                });            </script>        </div>"
      ]
     },
     "metadata": {},
     "output_type": "display_data"
    }
   ],
   "source": [
    "ds.visualize(record_name.upper(), 'default')"
   ]
  },
  {
   "cell_type": "code",
   "execution_count": 75,
   "id": "37fbe92d-63d7-49cc-bee2-fd16d96e621c",
   "metadata": {},
   "outputs": [],
   "source": [
    "td_record = ds.get_record(record_name, specification=\"default\") "
   ]
  },
  {
   "cell_type": "code",
   "execution_count": 76,
   "id": "a30242f6-7204-4098-9eda-f8fa226492b9",
   "metadata": {
    "scrolled": true,
    "tags": []
   },
   "outputs": [
    {
     "data": {
      "text/plain": [
       "{'id': '18045308',\n",
       " 'hash_index': 'eab65798470f1afee1ae335d91ce7dc0c07fee0e',\n",
       " 'procedure': 'torsiondrive',\n",
       " 'program': 'torsiondrive',\n",
       " 'version': 1,\n",
       " 'protocols': None,\n",
       " 'extras': {},\n",
       " 'stdout': None,\n",
       " 'stderr': None,\n",
       " 'error': None,\n",
       " 'manager_name': None,\n",
       " 'status': <RecordStatusEnum.complete: 'COMPLETE'>,\n",
       " 'modified_on': datetime.datetime(2020, 3, 13, 20, 17, 43, 638434),\n",
       " 'created_on': datetime.datetime(2020, 3, 13, 20, 17, 43, 638437),\n",
       " 'provenance': {'creator': 'torsiondrive',\n",
       "  'version': 'v0.9.8.1',\n",
       "  'routine': 'torsiondrive.td_api'},\n",
       " 'initial_molecule': ['756358'],\n",
       " 'keywords': {'dihedrals': [(4, 5, 6, 7)],\n",
       "  'grid_spacing': [15],\n",
       "  'dihedral_ranges': None,\n",
       "  'energy_decrease_thresh': None,\n",
       "  'energy_upper_limit': 0.05},\n",
       " 'optimization_spec': {'program': 'geometric',\n",
       "  'keywords': {'coordsys': 'tric',\n",
       "   'enforce': 0.1,\n",
       "   'reset': True,\n",
       "   'qccnv': True,\n",
       "   'epsilon': 0}},\n",
       " 'qc_spec': {'driver': <DriverEnum.gradient: 'gradient'>,\n",
       "  'method': 'b3lyp-d3bj',\n",
       "  'basis': 'dzvp',\n",
       "  'keywords': '2',\n",
       "  'program': 'psi4'},\n",
       " 'final_energy_dict': {'[180]': -330.97537050415445,\n",
       "  '[-165]': -330.97506236406593,\n",
       "  '[165]': -330.97428916771304,\n",
       "  '[-150]': -330.97347655121916,\n",
       "  '[150]': -330.97244491030455,\n",
       "  '[-135]': -330.9714475920908,\n",
       "  '[135]': -330.9708441875255,\n",
       "  '[-120]': -330.9702735720628,\n",
       "  '[120]': -330.97052590850103,\n",
       "  '[-105]': -330.970764627338,\n",
       "  '[105]': -330.9715369487642,\n",
       "  '[-90]': -330.97267579394037,\n",
       "  '[90]': -330.97244387386627,\n",
       "  '[-75]': -330.97483573206375,\n",
       "  '[75]': -330.972483015017,\n",
       "  '[-60]': -330.976051609677,\n",
       "  '[60]': -330.9727536307004,\n",
       "  '[-45]': -330.97529506852345,\n",
       "  '[45]': -330.97156910037074,\n",
       "  '[-30]': -330.9725136164327,\n",
       "  '[30]': -330.96914772017254,\n",
       "  '[-15]': -330.9691636782264,\n",
       "  '[15]': -330.967001203516,\n",
       "  '[0]': -330.9669581889028},\n",
       " 'optimization_history': {'[180]': ['18045373', '18065301', '18065302'],\n",
       "  '[-165]': ['18055480', '18075390'],\n",
       "  '[165]': ['18055481', '18075405', '18121753'],\n",
       "  '[-150]': ['18065299', '18086880'],\n",
       "  '[150]': ['18065300', '18086883', '18111263'],\n",
       "  '[-135]': ['18075391', '18097927'],\n",
       "  '[135]': ['18075392', '18097944', '18121751', '18121752'],\n",
       "  '[-120]': ['18086881', '18111258'],\n",
       "  '[120]': ['18086882', '18111261', '18111262'],\n",
       "  '[-105]': ['18097928', '18121746'],\n",
       "  '[105]': ['18097943', '18121749', '18121750'],\n",
       "  '[-90]': ['18111259', '18138736'],\n",
       "  '[90]': ['18111260', '18138739'],\n",
       "  '[-75]': ['18121747', '18149012', '18188188'],\n",
       "  '[75]': ['18121748', '18149015'],\n",
       "  '[-60]': ['18138737', '18158301', '18177536'],\n",
       "  '[60]': ['18138738', '18158304'],\n",
       "  '[-45]': ['18149013', '18169634', '18188189'],\n",
       "  '[45]': ['18149014', '18169637'],\n",
       "  '[-30]': ['18158302', '18177537', '18177538'],\n",
       "  '[30]': ['18158303', '18177541'],\n",
       "  '[-15]': ['18169635', '18188201'],\n",
       "  '[15]': ['18169636', '18188202'],\n",
       "  '[0]': ['18177539', '18177540']},\n",
       " 'minimum_positions': {'[180]': 1,\n",
       "  '[-165]': 1,\n",
       "  '[165]': 1,\n",
       "  '[-150]': 1,\n",
       "  '[150]': 2,\n",
       "  '[-135]': 1,\n",
       "  '[135]': 2,\n",
       "  '[-120]': 1,\n",
       "  '[120]': 2,\n",
       "  '[-105]': 1,\n",
       "  '[105]': 2,\n",
       "  '[-90]': 1,\n",
       "  '[90]': 1,\n",
       "  '[-75]': 2,\n",
       "  '[75]': 0,\n",
       "  '[-60]': 2,\n",
       "  '[60]': 1,\n",
       "  '[-45]': 1,\n",
       "  '[45]': 1,\n",
       "  '[-30]': 2,\n",
       "  '[30]': 1,\n",
       "  '[-15]': 1,\n",
       "  '[15]': 0,\n",
       "  '[0]': 0}}"
      ]
     },
     "execution_count": 76,
     "metadata": {},
     "output_type": "execute_result"
    }
   ],
   "source": [
    "td_record.dict()"
   ]
  },
  {
   "cell_type": "code",
   "execution_count": 77,
   "id": "8a8a7def-daea-4470-b047-064e79731c13",
   "metadata": {},
   "outputs": [
    {
     "data": {
      "text/plain": [
       "'b3lyp-d3bj'"
      ]
     },
     "execution_count": 77,
     "metadata": {},
     "output_type": "execute_result"
    }
   ],
   "source": [
    "td_record.qc_spec.method"
   ]
  },
  {
   "cell_type": "code",
   "execution_count": 78,
   "id": "f928bc47-3aa0-4a81-87fb-4e68ab32cccc",
   "metadata": {},
   "outputs": [
    {
     "data": {
      "text/plain": [
       "{'canonical_explicit_hydrogen_smiles': '[H]C1(C(C([N+](C1([H])[H])([H])C([H])([H])C([H])([H])C([H])([H])[H])([H])[H])([H])[H])[H]',\n",
       " 'canonical_isomeric_explicit_hydrogen_mapped_smiles': '[H:9][C:1]1([C:2]([C:4]([N+:8]([C:3]1([H:13])[H:14])([H:24])[C:7]([H:22])([H:23])[C:6]([H:20])([H:21])[C:5]([H:17])([H:18])[H:19])([H:15])[H:16])([H:11])[H:12])[H:10]',\n",
       " 'canonical_isomeric_explicit_hydrogen_smiles': '[H]C1(C(C([N+](C1([H])[H])([H])C([H])([H])C([H])([H])C([H])([H])[H])([H])[H])([H])[H])[H]',\n",
       " 'canonical_isomeric_smiles': 'CCC[NH+]1CCCC1',\n",
       " 'canonical_smiles': 'CCC[NH+]1CCCC1',\n",
       " 'inchi_key': 'HLNRRPIYRBBHSQ-UHFFFAOYSA-O',\n",
       " 'molecular_formula': 'C7H16N',\n",
       " 'provenance': 'cmiles_0+unknown_openeye_2019.Oct.2',\n",
       " 'standard_inchi': 'InChI=1S/C7H15N/c1-2-5-8-6-3-4-7-8/h2-7H2,1H3/p+1',\n",
       " 'unique_protomer_representation': 'CCCN1CCCC1',\n",
       " 'unique_tautomer_representation': 'CCC[NH+]1CCCC1'}"
      ]
     },
     "execution_count": 78,
     "metadata": {},
     "output_type": "execute_result"
    }
   ],
   "source": [
    "ds.get_entry(record_names[0]).attributes"
   ]
  },
  {
   "cell_type": "code",
   "execution_count": 79,
   "id": "b2eb6f54-927f-4cf0-bd6a-01f80b996a68",
   "metadata": {},
   "outputs": [
    {
     "name": "stdout",
     "output_type": "stream",
     "text": [
      "complete\n"
     ]
    }
   ],
   "source": [
    "if td_record is not None and td_record.status == 'COMPLETE':\n",
    "    print('complete')"
   ]
  },
  {
   "cell_type": "code",
   "execution_count": 80,
   "id": "846c41cc-a4a1-4bd9-ba90-ab25f0ea6b7f",
   "metadata": {},
   "outputs": [
    {
     "name": "stdout",
     "output_type": "stream",
     "text": [
      "(180,)\n",
      "(-165,)\n",
      "(165,)\n",
      "(-150,)\n",
      "(-135,)\n",
      "(-120,)\n",
      "(120,)\n",
      "(150,)\n",
      "(-105,)\n",
      "(75,)\n",
      "(105,)\n",
      "(135,)\n",
      "(-90,)\n",
      "(90,)\n",
      "(60,)\n",
      "(-45,)\n",
      "(15,)\n",
      "(45,)\n",
      "(-60,)\n",
      "(-30,)\n",
      "(0,)\n",
      "(30,)\n",
      "(-75,)\n",
      "(-15,)\n"
     ]
    }
   ],
   "source": [
    "for k, v in td_record.get_final_results().items():\n",
    "    print(k)"
   ]
  },
  {
   "cell_type": "code",
   "execution_count": 81,
   "id": "7dea2d74-1bee-4025-aeaf-8ee6d8bc81d0",
   "metadata": {
    "scrolled": true,
    "tags": []
   },
   "outputs": [
    {
     "data": {
      "text/plain": [
       "{'id': '18211381',\n",
       " 'hash_index': None,\n",
       " 'procedure': 'single',\n",
       " 'program': 'psi4',\n",
       " 'version': 1,\n",
       " 'protocols': {},\n",
       " 'extras': {'qcvars': {'-D ENERGY': -0.03683408,\n",
       "   'B3LYP-D3(BJ) DISPERSION CORRECTION ENERGY': -0.03683408,\n",
       "   'CURRENT DIPOLE X': 11.151553524532934,\n",
       "   'CURRENT DIPOLE Y': -9.04257787510606,\n",
       "   'CURRENT DIPOLE Z': -5.550154464424103,\n",
       "   'CURRENT ENERGY': -330.9691636782264,\n",
       "   'CURRENT REFERENCE ENERGY': -330.9691636782264,\n",
       "   'DFT FUNCTIONAL TOTAL ENERGY': -330.9323295982264,\n",
       "   'DFT TOTAL ENERGY': -330.9691636782264,\n",
       "   'DFT VV10 ENERGY': 0.0,\n",
       "   'DFT XC ENERGY': -40.89104090070066,\n",
       "   'DISPERSION CORRECTION ENERGY': -0.03683408,\n",
       "   'NUCLEAR REPULSION ENERGY': 417.54819304411564,\n",
       "   'ONE-ELECTRON ENERGY': -1260.0831499480344,\n",
       "   'PCM POLARIZATION ENERGY': 0.0,\n",
       "   'SCF DIPOLE X': 11.151553524532934,\n",
       "   'SCF DIPOLE Y': -9.04257787510606,\n",
       "   'SCF DIPOLE Z': -5.550154464424103,\n",
       "   'SCF ITERATION ENERGY': -330.9691636782264,\n",
       "   'SCF ITERATIONS': 12.0,\n",
       "   'SCF QUADRUPOLE XX': -16.493825298904,\n",
       "   'SCF QUADRUPOLE XY': -19.26819303170205,\n",
       "   'SCF QUADRUPOLE XZ': -8.268251029572626,\n",
       "   'SCF QUADRUPOLE YY': -25.986640082260926,\n",
       "   'SCF QUADRUPOLE YZ': 12.858903464384113,\n",
       "   'SCF QUADRUPOLE ZZ': -32.857251003495726,\n",
       "   'SCF TOTAL ENERGY': -330.9691636782264,\n",
       "   'TWO-ELECTRON ENERGY': 552.4936682063931,\n",
       "   'CURRENT GRADIENT': [-1.013320723976019e-05,\n",
       "    -2.3729769181531947e-06,\n",
       "    1.2542583545883154e-05,\n",
       "    4.522570770255951e-06,\n",
       "    -3.61909699890444e-06,\n",
       "    2.008731378029061e-06,\n",
       "    -2.21361156194301e-05,\n",
       "    -1.1128401945894218e-05,\n",
       "    -1.221237704256641e-05,\n",
       "    1.1389383052423218e-05,\n",
       "    1.4447059564753092e-05,\n",
       "    5.4291262242001375e-06,\n",
       "    -0.003167531592159926,\n",
       "    0.003057149180188742,\n",
       "    -0.0006729292633055603,\n",
       "    0.0060137785867234225,\n",
       "    -0.005496164269616085,\n",
       "    0.000817877673138461,\n",
       "    -0.006353634332544346,\n",
       "    0.00519918406256077,\n",
       "    0.0002194639455067,\n",
       "    0.0035046923981457974,\n",
       "    -0.0026835105462717865,\n",
       "    -0.0003718071496473438,\n",
       "    1.1785870773578592e-05,\n",
       "    -9.765590901816558e-06,\n",
       "    -1.793840530936683e-05,\n",
       "    1.880476916244703e-05,\n",
       "    1.7635719880175764e-05,\n",
       "    1.1923431074080404e-05,\n",
       "    -9.837641967897235e-06,\n",
       "    5.103284636404299e-06,\n",
       "    -1.0140501810845706e-05,\n",
       "    -4.736397237831987e-06,\n",
       "    3.4912419793785895e-06,\n",
       "    1.7121932200943812e-05,\n",
       "    -1.546233484791751e-05,\n",
       "    -1.4276676132327884e-05,\n",
       "    1.011359468098147e-05,\n",
       "    -1.0450829858580274e-05,\n",
       "    2.50480200858045e-05,\n",
       "    3.1906850974380645e-06,\n",
       "    7.916793695305344e-07,\n",
       "    -2.943948382032617e-06,\n",
       "    -6.327798964217603e-06,\n",
       "    2.3519615415293327e-06,\n",
       "    8.517334375855197e-06,\n",
       "    2.6052288617851136e-06,\n",
       "    -1.2940824079724376e-05,\n",
       "    1.314589332476843e-05,\n",
       "    -3.669459175596046e-06,\n",
       "    1.5431443531349555e-05,\n",
       "    -1.5718032697720034e-05,\n",
       "    -1.0335636786038111e-05,\n",
       "    6.811264046415117e-06,\n",
       "    -2.747317036514357e-06,\n",
       "    1.2954334318730372e-05,\n",
       "    2.0860112210378508e-05,\n",
       "    4.782342779178535e-06,\n",
       "    -5.565968192541349e-06,\n",
       "    9.37725037822776e-06,\n",
       "    -1.340888283950768e-05,\n",
       "    3.1814673077032495e-05,\n",
       "    2.6864217163571602e-05,\n",
       "    1.5076507334004982e-05,\n",
       "    6.20733282267078e-06,\n",
       "    -8.429677828947332e-06,\n",
       "    -2.006344388340333e-05,\n",
       "    -1.454722274732515e-05,\n",
       "    4.837332008887364e-06,\n",
       "    -3.574703786520585e-05,\n",
       "    -2.3320353552760433e-06],\n",
       "   'SCF TOTAL GRADIENT': [-1.013320723976019e-05,\n",
       "    -2.3729769181531947e-06,\n",
       "    1.2542583545883154e-05,\n",
       "    4.522570770255951e-06,\n",
       "    -3.61909699890444e-06,\n",
       "    2.008731378029061e-06,\n",
       "    -2.21361156194301e-05,\n",
       "    -1.1128401945894218e-05,\n",
       "    -1.221237704256641e-05,\n",
       "    1.1389383052423218e-05,\n",
       "    1.4447059564753092e-05,\n",
       "    5.4291262242001375e-06,\n",
       "    -0.003167531592159926,\n",
       "    0.003057149180188742,\n",
       "    -0.0006729292633055603,\n",
       "    0.0060137785867234225,\n",
       "    -0.005496164269616085,\n",
       "    0.000817877673138461,\n",
       "    -0.006353634332544346,\n",
       "    0.00519918406256077,\n",
       "    0.0002194639455067,\n",
       "    0.0035046923981457974,\n",
       "    -0.0026835105462717865,\n",
       "    -0.0003718071496473438,\n",
       "    1.1785870773578592e-05,\n",
       "    -9.765590901816558e-06,\n",
       "    -1.793840530936683e-05,\n",
       "    1.880476916244703e-05,\n",
       "    1.7635719880175764e-05,\n",
       "    1.1923431074080404e-05,\n",
       "    -9.837641967897235e-06,\n",
       "    5.103284636404299e-06,\n",
       "    -1.0140501810845706e-05,\n",
       "    -4.736397237831987e-06,\n",
       "    3.4912419793785895e-06,\n",
       "    1.7121932200943812e-05,\n",
       "    -1.546233484791751e-05,\n",
       "    -1.4276676132327884e-05,\n",
       "    1.011359468098147e-05,\n",
       "    -1.0450829858580274e-05,\n",
       "    2.50480200858045e-05,\n",
       "    3.1906850974380645e-06,\n",
       "    7.916793695305344e-07,\n",
       "    -2.943948382032617e-06,\n",
       "    -6.327798964217603e-06,\n",
       "    2.3519615415293327e-06,\n",
       "    8.517334375855197e-06,\n",
       "    2.6052288617851136e-06,\n",
       "    -1.2940824079724376e-05,\n",
       "    1.314589332476843e-05,\n",
       "    -3.669459175596046e-06,\n",
       "    1.5431443531349555e-05,\n",
       "    -1.5718032697720034e-05,\n",
       "    -1.0335636786038111e-05,\n",
       "    6.811264046415117e-06,\n",
       "    -2.747317036514357e-06,\n",
       "    1.2954334318730372e-05,\n",
       "    2.0860112210378508e-05,\n",
       "    4.782342779178535e-06,\n",
       "    -5.565968192541349e-06,\n",
       "    9.37725037822776e-06,\n",
       "    -1.340888283950768e-05,\n",
       "    3.1814673077032495e-05,\n",
       "    2.6864217163571602e-05,\n",
       "    1.5076507334004982e-05,\n",
       "    6.20733282267078e-06,\n",
       "    -8.429677828947332e-06,\n",
       "    -2.006344388340333e-05,\n",
       "    -1.454722274732515e-05,\n",
       "    4.837332008887364e-06,\n",
       "    -3.574703786520585e-05,\n",
       "    -2.3320353552760433e-06],\n",
       "   '-D GRADIENT': [-0.00014744134168821,\n",
       "    -0.00030280137252778,\n",
       "    -0.00046875084914167,\n",
       "    -0.00026749832241015,\n",
       "    0.00019336528029787,\n",
       "    -0.00051578959380558,\n",
       "    -5.9412519252591e-05,\n",
       "    -0.00058101233345448,\n",
       "    -0.0001590155422011,\n",
       "    -0.00049011999721039,\n",
       "    0.00032833680799468,\n",
       "    -0.00030245951150521,\n",
       "    0.0006067677841805,\n",
       "    0.00041691505552307,\n",
       "    0.00020274753668835,\n",
       "    0.00031120634210468,\n",
       "    0.00017101970399675,\n",
       "    0.00057344980666559,\n",
       "    7.2671902954728e-06,\n",
       "    -0.00019131292987397,\n",
       "    0.00062546098365945,\n",
       "    -9.4276474737185e-05,\n",
       "    -0.00023153151697204,\n",
       "    3.7112219153147e-05,\n",
       "    -0.00017966572834191,\n",
       "    -0.00022997382974107,\n",
       "    -0.00022213368527751,\n",
       "    4.0613491580515e-05,\n",
       "    -0.00020007188129226,\n",
       "    -0.00031461748187218,\n",
       "    -1.2438920251118e-05,\n",
       "    0.00019466066199636,\n",
       "    -0.00034838953674719,\n",
       "    -0.0002132296536497,\n",
       "    0.00015840932609849,\n",
       "    -0.00023369688126585,\n",
       "    0.00013393624179062,\n",
       "    -0.00039490947283043,\n",
       "    -4.7997062323959e-05,\n",
       "    -0.00014435184874094,\n",
       "    -0.00037362509060471,\n",
       "    7.9659446366149e-05,\n",
       "    -0.00020570425003,\n",
       "    0.00039587179432647,\n",
       "    -0.000142230598907,\n",
       "    -0.00037451878045588,\n",
       "    0.00021684623763329,\n",
       "    5.8292578935712e-05,\n",
       "    0.00019218878972696,\n",
       "    0.00016793571493376,\n",
       "    3.2141212943234e-05,\n",
       "    0.0002771052722083,\n",
       "    0.00034272238851375,\n",
       "    -1.2887961296293e-05,\n",
       "    0.0003872777619764,\n",
       "    0.00013157239696592,\n",
       "    -3.1374155252913e-05,\n",
       "    0.00012161452709883,\n",
       "    -3.3722703106467e-06,\n",
       "    0.00027680288464482,\n",
       "    1.3510832452828e-05,\n",
       "    0.00016792018957513,\n",
       "    0.00033773511329738,\n",
       "    4.4770923454068e-05,\n",
       "    -0.00026641719241608,\n",
       "    0.00029023320225077,\n",
       "    -0.0001902128688271,\n",
       "    -7.827923866419e-05,\n",
       "    0.00037069830300089,\n",
       "    0.000242611548726,\n",
       "    -3.2268429167876e-05,\n",
       "    -8.4990428009046e-05],\n",
       "   'MAYER_INDICES': [0.0,\n",
       "    0.9446837889697792,\n",
       "    0.9483911303636502,\n",
       "    -0.012919434966839108,\n",
       "    0.00038412860507519575,\n",
       "    0.002051346150907372,\n",
       "    0.006323130773884892,\n",
       "    -0.01210884413865077,\n",
       "    0.9228999170578162,\n",
       "    0.9217429278173832,\n",
       "    -0.018130593824165653,\n",
       "    -0.017288190150505388,\n",
       "    -0.017247761195544338,\n",
       "    -0.019704707595322564,\n",
       "    0.0049683771833213455,\n",
       "    0.0009944425835388604,\n",
       "    0.0001279523229087872,\n",
       "    -0.00015180933438119624,\n",
       "    -2.2171857313826455e-05,\n",
       "    0.00013333922227390266,\n",
       "    0.0002016768337619158,\n",
       "    0.00022927736262567318,\n",
       "    -5.992912526466846e-05,\n",
       "    -0.0015769985917514656,\n",
       "    0.9446837889697792,\n",
       "    0.0,\n",
       "    -0.012083112108476799,\n",
       "    0.9689310284245297,\n",
       "    -0.0007758195019988067,\n",
       "    5.23234396538479e-05,\n",
       "    0.008361703315559273,\n",
       "    -0.003972151657920521,\n",
       "    -0.01517418526400832,\n",
       "    -0.017373550128227586,\n",
       "    0.9187833174838342,\n",
       "    0.9174121104515329,\n",
       "    0.003206921820617869,\n",
       "    0.0013610090568979521,\n",
       "    -0.01872628853153586,\n",
       "    -0.018038921485316082,\n",
       "    -1.3905531138397839e-05,\n",
       "    -0.0010647438880212726,\n",
       "    6.710077747640362e-05,\n",
       "    2.794874527711834e-05,\n",
       "    2.3782462121307435e-05,\n",
       "    0.0014581383707966123,\n",
       "    0.00039390853236845184,\n",
       "    -0.00014486887488284836,\n",
       "    0.9483911303636502,\n",
       "    -0.012083112108476799,\n",
       "    0.0,\n",
       "    -0.025916814603150307,\n",
       "    0.0011127848866661417,\n",
       "    0.007394395862576764,\n",
       "    -0.00845185295547795,\n",
       "    0.9057996913645393,\n",
       "    -0.013496259018758928,\n",
       "    -0.014670106919164372,\n",
       "    0.002042957814104281,\n",
       "    0.002689016169094586,\n",
       "    0.9043743039320727,\n",
       "    0.9062473404269955,\n",
       "    0.006135467882400319,\n",
       "    -0.003338630562285267,\n",
       "    4.797681337289281e-05,\n",
       "    0.00040900654748874456,\n",
       "    8.979711615413532e-05,\n",
       "    0.0010276759991024978,\n",
       "    0.0005793514500808071,\n",
       "    0.0033733975092120395,\n",
       "    -0.00401679880236178,\n",
       "    -0.013192214743506906,\n",
       "    -0.012919434966839108,\n",
       "    0.9689310284245297,\n",
       "    -0.025916814603150307,\n",
       "    0.0,\n",
       "    0.0058017335198734515,\n",
       "    -0.0011067506010981375,\n",
       "    -0.015377319984184882,\n",
       "    0.8931005559833421,\n",
       "    0.0009771749515759278,\n",
       "    0.004014848984135765,\n",
       "    -0.012025169209670917,\n",
       "    -0.01394746763305016,\n",
       "    0.004406034145368085,\n",
       "    -0.004323904558016884,\n",
       "    0.900079925579488,\n",
       "    0.9033161781582897,\n",
       "    0.00031189056427229436,\n",
       "    0.008925111625435972,\n",
       "    -1.3157904098095073e-06,\n",
       "    0.00018989082963333896,\n",
       "    -7.40600878408808e-05,\n",
       "    0.005413813261863412,\n",
       "    -0.00044155536141018357,\n",
       "    -0.011039926548067345,\n",
       "    0.00038412860507519575,\n",
       "    -0.0007758195019988067,\n",
       "    0.0011127848866661417,\n",
       "    0.0058017335198734515,\n",
       "    0.0,\n",
       "    1.0144763982870466,\n",
       "    -0.012300967431293445,\n",
       "    0.008968352416223888,\n",
       "    0.00012392340551347898,\n",
       "    -0.0001601030227107745,\n",
       "    0.0003898607531582505,\n",
       "    0.00010094212119715378,\n",
       "    9.095340727832777e-05,\n",
       "    0.00013774939219643353,\n",
       "    -0.0003356911675571792,\n",
       "    0.0007752856410915956,\n",
       "    0.9069404865249835,\n",
       "    0.9140716556867247,\n",
       "    0.9156466997459891,\n",
       "    -0.016237567349402827,\n",
       "    -0.017472388588079354,\n",
       "    0.0005805204056482732,\n",
       "    0.0035479088298774786,\n",
       "    0.020647676381381926,\n",
       "    0.002051346150907372,\n",
       "    5.23234396538479e-05,\n",
       "    0.007394395862576764,\n",
       "    -0.0011067506010981375,\n",
       "    1.0144763982870466,\n",
       "    0.0,\n",
       "    0.9686584113598788,\n",
       "    -0.003496957883316964,\n",
       "    0.00012602613441202004,\n",
       "    0.0001335393980458804,\n",
       "    -4.185988061543068e-05,\n",
       "    5.969297700608223e-05,\n",
       "    4.890737102086753e-05,\n",
       "    9.404593429624382e-05,\n",
       "    0.0015775237054037276,\n",
       "    -0.00022368276293045506,\n",
       "    -0.012853254549705284,\n",
       "    -0.007768045504531573,\n",
       "    -0.01073905460255351,\n",
       "    0.9117042206415853,\n",
       "    0.9147588994514781,\n",
       "    -0.01864686397230426,\n",
       "    -0.015426409122313686,\n",
       "    -0.002963335134711644,\n",
       "    0.006323130773884892,\n",
       "    0.008361703315559273,\n",
       "    -0.00845185295547795,\n",
       "    -0.015377319984184882,\n",
       "    -0.012300967431293445,\n",
       "    0.9686584113598788,\n",
       "    0.0,\n",
       "    0.8885510281640977,\n",
       "    0.0013482314027035555,\n",
       "    0.00018891871284852914,\n",
       "    0.0006758225262303935,\n",
       "    0.0008839498018081096,\n",
       "    -0.001988633879107706,\n",
       "    0.0015315782766859168,\n",
       "    -0.0011788054020849792,\n",
       "    -0.0007338708135534206,\n",
       "    0.00515293192357043,\n",
       "    -0.000596154030057918,\n",
       "    0.0009823383180234079,\n",
       "    -0.010546748578083047,\n",
       "    -0.011095319650299872,\n",
       "    0.9101769189475458,\n",
       "    0.9072599236976303,\n",
       "    -0.00896616340500858,\n",
       "    -0.01210884413865077,\n",
       "    -0.003972151657920521,\n",
       "    0.9057996913645393,\n",
       "    0.8931005559833421,\n",
       "    0.008968352416223888,\n",
       "    -0.003496957883316964,\n",
       "    0.8885510281640977,\n",
       "    0.0,\n",
       "    0.0028933618576843833,\n",
       "    0.0010476596013721676,\n",
       "    -0.0004648931606491446,\n",
       "    0.004857019643767005,\n",
       "    -0.009591230745930275,\n",
       "    -0.0073591608642245634,\n",
       "    -0.007777408172319605,\n",
       "    -0.006750240264277625,\n",
       "    0.002148395004066785,\n",
       "    0.0004993765619901472,\n",
       "    -0.0012913548865998862,\n",
       "    0.003184264895109629,\n",
       "    0.0010695645712114911,\n",
       "    -0.010755123705051897,\n",
       "    -0.0072519812312712125,\n",
       "    0.752529642430695,\n",
       "    0.9228999170578162,\n",
       "    -0.01517418526400832,\n",
       "    -0.013496259018758928,\n",
       "    0.0009771749515759278,\n",
       "    0.00012392340551347898,\n",
       "    0.00012602613441202004,\n",
       "    0.0013482314027035555,\n",
       "    0.0028933618576843833,\n",
       "    0.0,\n",
       "    -0.0028743650090926193,\n",
       "    0.002391681302296481,\n",
       "    0.0013962201632175717,\n",
       "    0.00025123300446560986,\n",
       "    0.0012727255509236916,\n",
       "    -7.485682625630782e-05,\n",
       "    -0.00018096544886155277,\n",
       "    8.589834003453345e-06,\n",
       "    -2.016822441975704e-05,\n",
       "    7.955713862766316e-06,\n",
       "    1.448600235460792e-05,\n",
       "    2.901291026615821e-05,\n",
       "    9.534847342082852e-06,\n",
       "    -8.012599972171246e-06,\n",
       "    -0.00027086721225088293,\n",
       "    0.9217429278173832,\n",
       "    -0.017373550128227586,\n",
       "    -0.014670106919164372,\n",
       "    0.004014848984135765,\n",
       "    -0.0001601030227107745,\n",
       "    0.0001335393980458804,\n",
       "    0.00018891871284852914,\n",
       "    0.0010476596013721676,\n",
       "    -0.0028743650090926193,\n",
       "    0.0,\n",
       "    0.0014717241756521376,\n",
       "    0.00037206655338925824,\n",
       "    0.001233974748897421,\n",
       "    0.003145575417395362,\n",
       "    0.0006819456779202877,\n",
       "    0.00027895853806394165,\n",
       "    3.109612784334334e-06,\n",
       "    8.964274624776713e-05,\n",
       "    -8.282319694925076e-07,\n",
       "    5.250060229259595e-05,\n",
       "    -3.238399479170918e-06,\n",
       "    2.9748505116589357e-05,\n",
       "    -3.6654697986533654e-05,\n",
       "    0.00030508863457932807,\n",
       "    -0.018130593824165653,\n",
       "    0.9187833174838342,\n",
       "    0.002042957814104281,\n",
       "    -0.012025169209670917,\n",
       "    0.0003898607531582505,\n",
       "    -4.185988061543068e-05,\n",
       "    0.0006758225262303935,\n",
       "    -0.0004648931606491446,\n",
       "    0.002391681302296481,\n",
       "    0.0014717241756521376,\n",
       "    0.0,\n",
       "    -0.0019861005896057455,\n",
       "    0.00042625560734216024,\n",
       "    0.0004207314669297043,\n",
       "    0.0003563093822672779,\n",
       "    0.005652654513210454,\n",
       "    1.0105565014885577e-05,\n",
       "    0.0002570651042419889,\n",
       "    -6.171813228399929e-06,\n",
       "    -2.6869889836954538e-05,\n",
       "    1.8174435516679563e-05,\n",
       "    2.9729046010472717e-05,\n",
       "    1.0968699689118538e-05,\n",
       "    0.0005667835880750503,\n",
       "    -0.017288190150505388,\n",
       "    0.9174121104515329,\n",
       "    0.002689016169094586,\n",
       "    -0.01394746763305016,\n",
       "    0.00010094212119715378,\n",
       "    5.969297700608223e-05,\n",
       "    0.0008839498018081096,\n",
       "    0.004857019643767005,\n",
       "    0.0013962201632175717,\n",
       "    0.00037206655338925824,\n",
       "    -0.0019861005896057455,\n",
       "    0.0,\n",
       "    1.7299732599915375e-05,\n",
       "    0.0001355233922806914,\n",
       "    -0.00013787375600291495,\n",
       "    0.000765227755589955,\n",
       "    2.1947154651488012e-05,\n",
       "    -9.70736162540212e-06,\n",
       "    4.793082788209906e-06,\n",
       "    4.608931103216031e-05,\n",
       "    -1.403747624759301e-06,\n",
       "    0.00026606271706822594,\n",
       "    2.688809248473383e-06,\n",
       "    9.138955563134211e-05,\n",
       "    -0.017247761195544338,\n",
       "    0.003206921820617869,\n",
       "    0.9043743039320727,\n",
       "    0.004406034145368085,\n",
       "    9.095340727832777e-05,\n",
       "    4.890737102086753e-05,\n",
       "    -0.001988633879107706,\n",
       "    -0.009591230745930275,\n",
       "    0.00025123300446560986,\n",
       "    0.001233974748897421,\n",
       "    0.00042625560734216024,\n",
       "    1.7299732599915375e-05,\n",
       "    0.0,\n",
       "    -0.004232346656143753,\n",
       "    0.0006511660395073411,\n",
       "    5.8424647254344693e-05,\n",
       "    1.9432568475716007e-05,\n",
       "    -4.134664843131502e-05,\n",
       "    -6.799080031547459e-06,\n",
       "    -1.8733920881042006e-05,\n",
       "    -1.838225520151167e-05,\n",
       "    0.0012216702830718717,\n",
       "    4.163291255939099e-05,\n",
       "    -0.001357091341301382,\n",
       "    -0.019704707595322564,\n",
       "    0.0013610090568979521,\n",
       "    0.9062473404269955,\n",
       "    -0.004323904558016884,\n",
       "    0.00013774939219643353,\n",
       "    9.404593429624382e-05,\n",
       "    0.0015315782766859168,\n",
       "    -0.0073591608642245634,\n",
       "    0.0012727255509236916,\n",
       "    0.003145575417395362,\n",
       "    0.0004207314669297043,\n",
       "    0.0001355233922806914,\n",
       "    -0.004232346656143753,\n",
       "    0.0,\n",
       "    -1.131157238646162e-06,\n",
       "    0.002632389503287997,\n",
       "    6.885767767697318e-05,\n",
       "    0.0001290105073857476,\n",
       "    3.23473362023963e-05,\n",
       "    7.965435854419775e-06,\n",
       "    -8.247968306552717e-06,\n",
       "    -0.0012921479921108507,\n",
       "    0.0018343317847565885,\n",
       "    0.008142605932091882,\n",
       "    0.0049683771833213455,\n",
       "    -0.01872628853153586,\n",
       "    0.006135467882400319,\n",
       "    0.900079925579488,\n",
       "    -0.0003356911675571792,\n",
       "    0.0015775237054037276,\n",
       "    -0.0011788054020849792,\n",
       "    -0.007777408172319605,\n",
       "    -7.485682625630782e-05,\n",
       "    0.0006819456779202877,\n",
       "    0.0003563093822672779,\n",
       "    -0.00013787375600291495,\n",
       "    0.0006511660395073411,\n",
       "    -1.131157238646162e-06,\n",
       "    0.0,\n",
       "    -0.005572927121831932,\n",
       "    8.722847149350417e-06,\n",
       "    0.004070291272297456,\n",
       "    5.0684011572655375e-06,\n",
       "    1.8486485289569095e-06,\n",
       "    -0.00014593966038598308,\n",
       "    0.0003296985559607875,\n",
       "    9.533672008624707e-05,\n",
       "    -0.0013193076058468883,\n",
       "    0.0009944425835388604,\n",
       "    -0.018038921485316082,\n",
       "    -0.003338630562285267,\n",
       "    0.9033161781582897,\n",
       "    0.0007752856410915956,\n",
       "    -0.00022368276293045506,\n",
       "    -0.0007338708135534206,\n",
       "    -0.006750240264277625,\n",
       "    -0.00018096544886155277,\n",
       "    0.00027895853806394165,\n",
       "    0.005652654513210454,\n",
       "    0.000765227755589955,\n",
       "    5.8424647254344693e-05,\n",
       "    0.002632389503287997,\n",
       "    -0.005572927121831932,\n",
       "    0.0,\n",
       "    6.30307752469376e-06,\n",
       "    0.00043227165524054137,\n",
       "    7.601196934855618e-05,\n",
       "    -0.00013936904451333128,\n",
       "    6.953907307162652e-05,\n",
       "    6.070654983164748e-05,\n",
       "    0.003784978041642708,\n",
       "    0.00742105870176514,\n",
       "    0.0001279523229087872,\n",
       "    -1.3905531138397839e-05,\n",
       "    4.797681337289281e-05,\n",
       "    0.00031189056427229436,\n",
       "    0.9069404865249835,\n",
       "    -0.012853254549705284,\n",
       "    0.00515293192357043,\n",
       "    0.002148395004066785,\n",
       "    8.589834003453345e-06,\n",
       "    3.109612784334334e-06,\n",
       "    1.0105565014885577e-05,\n",
       "    2.1947154651488012e-05,\n",
       "    1.9432568475716007e-05,\n",
       "    6.885767767697318e-05,\n",
       "    8.722847149350417e-06,\n",
       "    6.30307752469376e-06,\n",
       "    0.0,\n",
       "    -0.008610683445830717,\n",
       "    -0.007622610745758844,\n",
       "    -0.0001371859025064685,\n",
       "    -0.0002261100218525718,\n",
       "    0.00019038932515461724,\n",
       "    0.00038083683461591876,\n",
       "    0.000722591706315157,\n",
       "    -0.00015180933438119624,\n",
       "    -0.0010647438880212726,\n",
       "    0.00040900654748874456,\n",
       "    0.008925111625435972,\n",
       "    0.9140716556867247,\n",
       "    -0.007768045504531573,\n",
       "    -0.000596154030057918,\n",
       "    0.0004993765619901472,\n",
       "    -2.016822441975704e-05,\n",
       "    8.964274624776713e-05,\n",
       "    0.0002570651042419889,\n",
       "    -9.70736162540212e-06,\n",
       "    -4.134664843131502e-05,\n",
       "    0.0001290105073857476,\n",
       "    0.004070291272297456,\n",
       "    0.00043227165524054137,\n",
       "    -0.008610683445830717,\n",
       "    0.0,\n",
       "    -0.011202244455219234,\n",
       "    0.007622531745312229,\n",
       "    -0.00021922190671576488,\n",
       "    -4.9575508576155146e-05,\n",
       "    2.620293097704842e-06,\n",
       "    0.0007174684436938258,\n",
       "    -2.2171857313826455e-05,\n",
       "    6.710077747640362e-05,\n",
       "    8.979711615413532e-05,\n",
       "    -1.3157904098095073e-06,\n",
       "    0.9156466997459891,\n",
       "    -0.01073905460255351,\n",
       "    0.0009823383180234079,\n",
       "    -0.0012913548865998862,\n",
       "    7.955713862766316e-06,\n",
       "    -8.282319694925076e-07,\n",
       "    -6.171813228399929e-06,\n",
       "    4.793082788209906e-06,\n",
       "    -6.799080031547459e-06,\n",
       "    3.23473362023963e-05,\n",
       "    5.0684011572655375e-06,\n",
       "    7.601196934855618e-05,\n",
       "    -0.007622610745758844,\n",
       "    -0.011202244455219234,\n",
       "    0.0,\n",
       "    -0.000286839771342973,\n",
       "    0.008536960939813553,\n",
       "    0.0002721898496512275,\n",
       "    0.00014409282228151554,\n",
       "    0.009186505141602692,\n",
       "    0.00013333922227390266,\n",
       "    2.794874527711834e-05,\n",
       "    0.0010276759991024978,\n",
       "    0.00018989082963333896,\n",
       "    -0.016237567349402827,\n",
       "    0.9117042206415853,\n",
       "    -0.010546748578083047,\n",
       "    0.003184264895109629,\n",
       "    1.448600235460792e-05,\n",
       "    5.250060229259595e-05,\n",
       "    -2.6869889836954538e-05,\n",
       "    4.608931103216031e-05,\n",
       "    -1.8733920881042006e-05,\n",
       "    7.965435854419775e-06,\n",
       "    1.8486485289569095e-06,\n",
       "    -0.00013936904451333128,\n",
       "    -0.0001371859025064685,\n",
       "    0.007622531745312229,\n",
       "    -0.000286839771342973,\n",
       "    0.0,\n",
       "    -0.00849120842895918,\n",
       "    0.00013256943544654349,\n",
       "    0.00027654192897444,\n",
       "    -0.00028810314188012245,\n",
       "    0.0002016768337619158,\n",
       "    2.3782462121307435e-05,\n",
       "    0.0005793514500808071,\n",
       "    -7.40600878408808e-05,\n",
       "    -0.017472388588079354,\n",
       "    0.9147588994514781,\n",
       "    -0.011095319650299872,\n",
       "    0.0010695645712114911,\n",
       "    2.901291026615821e-05,\n",
       "    -3.238399479170918e-06,\n",
       "    1.8174435516679563e-05,\n",
       "    -1.403747624759301e-06,\n",
       "    -1.838225520151167e-05,\n",
       "    -8.247968306552717e-06,\n",
       "    -0.00014593966038598308,\n",
       "    6.953907307162652e-05,\n",
       "    -0.0002261100218525718,\n",
       "    -0.00021922190671576488,\n",
       "    0.008536960939813553,\n",
       "    -0.00849120842895918,\n",
       "    0.0,\n",
       "    0.0035810055683255996,\n",
       "    0.0006321844481785533,\n",
       "    0.00037609419997167707,\n",
       "    0.00022927736262567318,\n",
       "    0.0014581383707966123,\n",
       "    0.0033733975092120395,\n",
       "    0.005413813261863412,\n",
       "    0.0005805204056482732,\n",
       "    -0.01864686397230426,\n",
       "    0.9101769189475458,\n",
       "    -0.010755123705051897,\n",
       "    9.534847342082852e-06,\n",
       "    2.9748505116589357e-05,\n",
       "    2.9729046010472717e-05,\n",
       "    0.00026606271706822594,\n",
       "    0.0012216702830718717,\n",
       "    -0.0012921479921108507,\n",
       "    0.0003296985559607875,\n",
       "    6.070654983164748e-05,\n",
       "    0.00019038932515461724,\n",
       "    -4.9575508576155146e-05,\n",
       "    0.0002721898496512275,\n",
       "    0.00013256943544654349,\n",
       "    0.0035810055683255996,\n",
       "    0.0,\n",
       "    -0.008721110698820611,\n",
       "    -0.00021631559013657726,\n",
       "    -5.992912526466846e-05,\n",
       "    0.00039390853236845184,\n",
       "    -0.00401679880236178,\n",
       "    -0.00044155536141018357,\n",
       "    0.0035479088298774786,\n",
       "    -0.015426409122313686,\n",
       "    0.9072599236976303,\n",
       "    -0.0072519812312712125,\n",
       "    -8.012599972171246e-06,\n",
       "    -3.6654697986533654e-05,\n",
       "    1.0968699689118538e-05,\n",
       "    2.688809248473383e-06,\n",
       "    4.163291255939099e-05,\n",
       "    0.0018343317847565885,\n",
       "    9.533672008624707e-05,\n",
       "    0.003784978041642708,\n",
       "    0.00038083683461591876,\n",
       "    2.620293097704842e-06,\n",
       "    0.00014409282228151554,\n",
       "    0.00027654192897444,\n",
       "    0.0006321844481785533,\n",
       "    -0.008721110698820611,\n",
       "    0.0,\n",
       "    0.0059780293426965015,\n",
       "    -0.0015769985917514656,\n",
       "    -0.00014486887488284836,\n",
       "    -0.013192214743506906,\n",
       "    -0.011039926548067345,\n",
       "    0.020647676381381926,\n",
       "    -0.002963335134711644,\n",
       "    -0.00896616340500858,\n",
       "    0.752529642430695,\n",
       "    -0.00027086721225088293,\n",
       "    0.00030508863457932807,\n",
       "    0.0005667835880750503,\n",
       "    9.138955563134211e-05,\n",
       "    -0.001357091341301382,\n",
       "    0.008142605932091882,\n",
       "    -0.0013193076058468883,\n",
       "    0.00742105870176514,\n",
       "    0.000722591706315157,\n",
       "    0.0007174684436938258,\n",
       "    0.009186505141602692,\n",
       "    -0.00028810314188012245,\n",
       "    0.00037609419997167707,\n",
       "    -0.00021631559013657726,\n",
       "    0.0059780293426965015,\n",
       "    0.0],\n",
       "   'WIBERG_LOWDIN_INDICES': [0.0,\n",
       "    1.1135855552737275,\n",
       "    1.1350101413719038,\n",
       "    0.07794351272920721,\n",
       "    0.0005307240254722944,\n",
       "    0.002249887068904315,\n",
       "    0.013458233639738979,\n",
       "    0.07294550938923275,\n",
       "    0.8811690936011297,\n",
       "    0.8848031584136138,\n",
       "    0.031671717483792675,\n",
       "    0.03101106444349768,\n",
       "    0.031317117320424685,\n",
       "    0.030490345280631298,\n",
       "    0.008814837783473431,\n",
       "    0.0029454211578105313,\n",
       "    4.950110339416762e-05,\n",
       "    0.00011353693484240668,\n",
       "    3.1076342254888024e-05,\n",
       "    0.00017790592581817848,\n",
       "    0.00017706973941233761,\n",
       "    0.0011230206519414491,\n",
       "    0.00036471682436591983,\n",
       "    0.002637112316467066,\n",
       "    1.1135855552737275,\n",
       "    0.0,\n",
       "    0.07505735592716535,\n",
       "    1.1485691561584788,\n",
       "    0.0007329615355352878,\n",
       "    0.0009180416867341629,\n",
       "    0.013568775679555264,\n",
       "    0.07905737170610451,\n",
       "    0.030815916799793584,\n",
       "    0.03271895825547749,\n",
       "    0.8830243882473083,\n",
       "    0.877237831134418,\n",
       "    0.006274641099077645,\n",
       "    0.002189318769940848,\n",
       "    0.032430269781349705,\n",
       "    0.030699226586100702,\n",
       "    4.385515345848792e-05,\n",
       "    0.00033312901130736194,\n",
       "    2.0299962926117007e-05,\n",
       "    0.00015257771689851032,\n",
       "    6.335087269197256e-05,\n",
       "    0.0013805653615527186,\n",
       "    0.0009986764842935829,\n",
       "    0.004101288198246704,\n",
       "    1.1350101413719038,\n",
       "    0.07505735592716535,\n",
       "    0.0,\n",
       "    0.08033407977637909,\n",
       "    0.002674425573133109,\n",
       "    0.012848829763177964,\n",
       "    0.07722856587181687,\n",
       "    1.0587360572516948,\n",
       "    0.03887766454358035,\n",
       "    0.035490788891680954,\n",
       "    0.0029893542752838505,\n",
       "    0.005738679930684076,\n",
       "    0.8874991777825082,\n",
       "    0.8777437856094467,\n",
       "    0.010273579669656927,\n",
       "    0.006058545911779226,\n",
       "    0.0003516959391550771,\n",
       "    0.00038689431833811025,\n",
       "    0.00024075775390280027,\n",
       "    0.000548294180257396,\n",
       "    0.0009204405283246232,\n",
       "    0.012351829127006771,\n",
       "    0.0036396449242815623,\n",
       "    0.02502784729359595,\n",
       "    0.07794351272920721,\n",
       "    1.1485691561584788,\n",
       "    0.08033407977637909,\n",
       "    0.0,\n",
       "    0.010903748940854987,\n",
       "    0.005868337560208083,\n",
       "    0.06764280499858713,\n",
       "    1.0587203897100739,\n",
       "    0.003066237194394796,\n",
       "    0.005756410543117229,\n",
       "    0.03606216619042517,\n",
       "    0.040529208292367266,\n",
       "    0.009458516179980846,\n",
       "    0.005135184169239353,\n",
       "    0.8827156916947864,\n",
       "    0.8761127232331442,\n",
       "    0.0006192242210484794,\n",
       "    0.005515838263838293,\n",
       "    0.0003077165456637466,\n",
       "    0.0004031173444293919,\n",
       "    0.00021367791848641592,\n",
       "    0.00983127043182073,\n",
       "    0.00990646743580345,\n",
       "    0.024996664759500478,\n",
       "    0.0005307240254722944,\n",
       "    0.0007329615355352878,\n",
       "    0.002674425573133109,\n",
       "    0.010903748940854987,\n",
       "    0.0,\n",
       "    1.1921177549685895,\n",
       "    0.0687212809481019,\n",
       "    0.025655359289325084,\n",
       "    6.746952638907771e-05,\n",
       "    3.425249749748574e-05,\n",
       "    6.126415139263445e-05,\n",
       "    0.00010775632377837433,\n",
       "    6.627183012177628e-05,\n",
       "    0.000892890636880102,\n",
       "    0.0037197261572735995,\n",
       "    0.0005040541157155863,\n",
       "    0.9091790519918561,\n",
       "    0.9216712162811306,\n",
       "    0.920880632030734,\n",
       "    0.031349661206170484,\n",
       "    0.03266975180694229,\n",
       "    0.002167382076053244,\n",
       "    0.005828615151813213,\n",
       "    0.015402256813815155,\n",
       "    0.002249887068904315,\n",
       "    0.0009180416867341629,\n",
       "    0.012848829763177964,\n",
       "    0.005868337560208083,\n",
       "    1.1921177549685895,\n",
       "    0.0,\n",
       "    1.1419490249852784,\n",
       "    0.061268212855984466,\n",
       "    0.0001862320379994227,\n",
       "    0.00014387078805927608,\n",
       "    4.507415033173176e-05,\n",
       "    0.00014551505090489326,\n",
       "    0.0002183459135477879,\n",
       "    0.0007997983816472268,\n",
       "    0.0012332801236926265,\n",
       "    0.00039839404486583327,\n",
       "    0.040112191342528504,\n",
       "    0.03240117296848849,\n",
       "    0.03241175971810053,\n",
       "    0.8764327660965163,\n",
       "    0.8815339710688674,\n",
       "    0.03231314660937323,\n",
       "    0.032283619981929995,\n",
       "    0.005803929416182905,\n",
       "    0.013458233639738979,\n",
       "    0.013568775679555264,\n",
       "    0.07722856587181687,\n",
       "    0.06764280499858713,\n",
       "    0.0687212809481019,\n",
       "    1.1419490249852784,\n",
       "    0.0,\n",
       "    1.074380440619539,\n",
       "    0.0007364176962991629,\n",
       "    0.0008105617205514885,\n",
       "    0.0005444236681081019,\n",
       "    0.0012136402817212308,\n",
       "    0.004135041173486673,\n",
       "    0.010471553943970363,\n",
       "    0.0032452443965720577,\n",
       "    0.008420989517303903,\n",
       "    0.011956954880220352,\n",
       "    0.0036051465236284354,\n",
       "    0.00436380550441973,\n",
       "    0.042362758643929285,\n",
       "    0.03725091166503176,\n",
       "    0.8747041636301209,\n",
       "    0.880590770507249,\n",
       "    0.024870975060276294,\n",
       "    0.07294550938923275,\n",
       "    0.07905737170610451,\n",
       "    1.0587360572516948,\n",
       "    1.0587203897100739,\n",
       "    0.025655359289325084,\n",
       "    0.061268212855984466,\n",
       "    1.074380440619539,\n",
       "    0.0,\n",
       "    0.005926510205049271,\n",
       "    0.0014865863701712906,\n",
       "    0.001518522233384772,\n",
       "    0.00939028575166046,\n",
       "    0.028871538977903507,\n",
       "    0.02922565902366472,\n",
       "    0.028222046705937913,\n",
       "    0.028192066755783243,\n",
       "    0.0033446330048449912,\n",
       "    0.0025612587414567687,\n",
       "    0.003079429821194655,\n",
       "    0.006137818966243557,\n",
       "    0.001552458969410956,\n",
       "    0.032725765619340645,\n",
       "    0.02941322626314458,\n",
       "    0.7911111751861971,\n",
       "    0.8811690936011297,\n",
       "    0.030815916799793584,\n",
       "    0.03887766454358035,\n",
       "    0.003066237194394796,\n",
       "    6.746952638907771e-05,\n",
       "    0.0001862320379994227,\n",
       "    0.0007364176962991629,\n",
       "    0.005926510205049271,\n",
       "    0.0,\n",
       "    0.007949368784152788,\n",
       "    0.005286632445091901,\n",
       "    0.004230231917422075,\n",
       "    0.0019337837768146405,\n",
       "    0.004364320076514435,\n",
       "    0.00012321899525178132,\n",
       "    5.491540060928786e-05,\n",
       "    6.481614194800514e-06,\n",
       "    3.331314674975935e-06,\n",
       "    2.4339722744413104e-06,\n",
       "    2.2256216637512723e-05,\n",
       "    3.0853157497160497e-06,\n",
       "    8.46955566452175e-05,\n",
       "    0.00014826883560630402,\n",
       "    0.0002065996057551586,\n",
       "    0.8848031584136138,\n",
       "    0.03271895825547749,\n",
       "    0.035490788891680954,\n",
       "    0.005756410543117229,\n",
       "    3.425249749748574e-05,\n",
       "    0.00014387078805927608,\n",
       "    0.0008105617205514885,\n",
       "    0.0014865863701712906,\n",
       "    0.007949368784152788,\n",
       "    0.0,\n",
       "    0.004870011654024575,\n",
       "    0.0018880271383818915,\n",
       "    0.003683710123076822,\n",
       "    0.0068762262139082705,\n",
       "    6.605361426123193e-05,\n",
       "    0.00035913519523339066,\n",
       "    4.3390444775279336e-07,\n",
       "    2.4575804846147684e-06,\n",
       "    3.0110690087801837e-07,\n",
       "    3.4487744549759706e-06,\n",
       "    5.192977622234975e-06,\n",
       "    4.072100426456562e-05,\n",
       "    5.483338078306462e-05,\n",
       "    4.235223836449244e-05,\n",
       "    0.031671717483792675,\n",
       "    0.8830243882473083,\n",
       "    0.0029893542752838505,\n",
       "    0.03606216619042517,\n",
       "    6.126415139263445e-05,\n",
       "    4.507415033173176e-05,\n",
       "    0.0005444236681081019,\n",
       "    0.001518522233384772,\n",
       "    0.005286632445091901,\n",
       "    0.004870011654024575,\n",
       "    0.0,\n",
       "    0.007971195049101655,\n",
       "    2.622061859009327e-05,\n",
       "    0.00028092921329622467,\n",
       "    0.0030507748388058677,\n",
       "    0.010062623231622981,\n",
       "    2.4488277478036925e-06,\n",
       "    2.8590782249634082e-05,\n",
       "    3.411832232056044e-06,\n",
       "    3.1062744807414935e-06,\n",
       "    6.590374529143559e-06,\n",
       "    4.999011348771017e-05,\n",
       "    0.00017180478084960574,\n",
       "    0.00035623570328023596,\n",
       "    0.03101106444349768,\n",
       "    0.877237831134418,\n",
       "    0.005738679930684076,\n",
       "    0.040529208292367266,\n",
       "    0.00010775632377837433,\n",
       "    0.00014551505090489326,\n",
       "    0.0012136402817212308,\n",
       "    0.00939028575166046,\n",
       "    0.004230231917422075,\n",
       "    0.0018880271383818915,\n",
       "    0.007971195049101655,\n",
       "    0.0,\n",
       "    9.992408989175256e-05,\n",
       "    3.714157659111573e-05,\n",
       "    0.0006167027277454174,\n",
       "    0.0030729394296472355,\n",
       "    1.7179026130557512e-06,\n",
       "    3.3006587042651695e-05,\n",
       "    1.307763868025559e-06,\n",
       "    1.2501023754951214e-05,\n",
       "    2.542215949033498e-06,\n",
       "    0.0003097836155849575,\n",
       "    4.556484662834427e-05,\n",
       "    0.000284619553472881,\n",
       "    0.031317117320424685,\n",
       "    0.006274641099077645,\n",
       "    0.8874991777825082,\n",
       "    0.009458516179980846,\n",
       "    6.627183012177628e-05,\n",
       "    0.0002183459135477879,\n",
       "    0.004135041173486673,\n",
       "    0.028871538977903507,\n",
       "    0.0019337837768146405,\n",
       "    0.003683710123076822,\n",
       "    2.622061859009327e-05,\n",
       "    9.992408989175256e-05,\n",
       "    0.0,\n",
       "    0.007875921610789977,\n",
       "    0.00030267611646433355,\n",
       "    0.0005245672733225974,\n",
       "    9.784830749461462e-06,\n",
       "    1.3757283475893238e-05,\n",
       "    9.359905798676789e-06,\n",
       "    6.46078496904304e-05,\n",
       "    7.237681320903983e-05,\n",
       "    0.0007661678228317139,\n",
       "    3.6015867410920435e-05,\n",
       "    0.002552766203124569,\n",
       "    0.030490345280631298,\n",
       "    0.002189318769940848,\n",
       "    0.8777437856094467,\n",
       "    0.005135184169239353,\n",
       "    0.000892890636880102,\n",
       "    0.0007997983816472268,\n",
       "    0.010471553943970363,\n",
       "    0.02922565902366472,\n",
       "    0.004364320076514435,\n",
       "    0.0068762262139082705,\n",
       "    0.00028092921329622467,\n",
       "    3.714157659111573e-05,\n",
       "    0.007875921610789977,\n",
       "    0.0,\n",
       "    0.0003165293286793552,\n",
       "    0.00046950794740781103,\n",
       "    0.00017548266884075494,\n",
       "    9.261281701583032e-05,\n",
       "    7.295837377619308e-05,\n",
       "    6.914159266446134e-05,\n",
       "    4.569123602588366e-05,\n",
       "    0.0005394851816562298,\n",
       "    0.0006719967803007719,\n",
       "    0.007300667692381892,\n",
       "    0.008814837783473431,\n",
       "    0.032430269781349705,\n",
       "    0.010273579669656927,\n",
       "    0.8827156916947864,\n",
       "    0.0037197261572735995,\n",
       "    0.0012332801236926265,\n",
       "    0.0032452443965720577,\n",
       "    0.028222046705937913,\n",
       "    0.00012321899525178132,\n",
       "    6.605361426123193e-05,\n",
       "    0.0030507748388058677,\n",
       "    0.0006167027277454174,\n",
       "    0.00030267611646433355,\n",
       "    0.0003165293286793552,\n",
       "    0.0,\n",
       "    0.008165372260000246,\n",
       "    0.00012168344872799848,\n",
       "    0.0026972188542322573,\n",
       "    0.00011049300982195492,\n",
       "    0.00026387455159769,\n",
       "    5.3823403722309296e-05,\n",
       "    0.00019398296745522017,\n",
       "    5.657284447643312e-05,\n",
       "    0.0020755100963938205,\n",
       "    0.0029454211578105313,\n",
       "    0.030699226586100702,\n",
       "    0.006058545911779226,\n",
       "    0.8761127232331442,\n",
       "    0.0005040541157155863,\n",
       "    0.00039839404486583327,\n",
       "    0.008420989517303903,\n",
       "    0.028192066755783243,\n",
       "    5.491540060928786e-05,\n",
       "    0.00035913519523339066,\n",
       "    0.010062623231622981,\n",
       "    0.0030729394296472355,\n",
       "    0.0005245672733225974,\n",
       "    0.00046950794740781103,\n",
       "    0.008165372260000246,\n",
       "    0.0,\n",
       "    4.399366640724829e-06,\n",
       "    8.762881043534916e-05,\n",
       "    9.85936410252743e-05,\n",
       "    8.833303885374543e-05,\n",
       "    2.4118069119485717e-05,\n",
       "    0.0003338906031233722,\n",
       "    0.001964580250535249,\n",
       "    0.008199828622087124,\n",
       "    4.950110339416762e-05,\n",
       "    4.385515345848792e-05,\n",
       "    0.0003516959391550771,\n",
       "    0.0006192242210484794,\n",
       "    0.9091790519918561,\n",
       "    0.040112191342528504,\n",
       "    0.011956954880220352,\n",
       "    0.0033446330048449912,\n",
       "    6.481614194800514e-06,\n",
       "    4.3390444775279336e-07,\n",
       "    2.4488277478036925e-06,\n",
       "    1.7179026130557512e-06,\n",
       "    9.784830749461462e-06,\n",
       "    0.00017548266884075494,\n",
       "    0.00012168344872799848,\n",
       "    4.399366640724829e-06,\n",
       "    0.0,\n",
       "    0.008542497168328955,\n",
       "    0.008457487980633088,\n",
       "    0.0019167150358151107,\n",
       "    0.001620190693524373,\n",
       "    5.6350789327194996e-05,\n",
       "    7.199490708514664e-05,\n",
       "    0.0009515267664920217,\n",
       "    0.00011353693484240668,\n",
       "    0.00033312901130736194,\n",
       "    0.00038689431833811025,\n",
       "    0.005515838263838293,\n",
       "    0.9216712162811306,\n",
       "    0.03240117296848849,\n",
       "    0.0036051465236284354,\n",
       "    0.0025612587414567687,\n",
       "    3.331314674975935e-06,\n",
       "    2.4575804846147684e-06,\n",
       "    2.8590782249634082e-05,\n",
       "    3.3006587042651695e-05,\n",
       "    1.3757283475893238e-05,\n",
       "    9.261281701583032e-05,\n",
       "    0.0026972188542322573,\n",
       "    8.762881043534916e-05,\n",
       "    0.008542497168328955,\n",
       "    0.0,\n",
       "    0.00679677097292644,\n",
       "    0.012008866951819111,\n",
       "    0.0020779640058293997,\n",
       "    0.00011174753710309999,\n",
       "    0.00010059846702213802,\n",
       "    0.0011182062467062495,\n",
       "    3.1076342254888024e-05,\n",
       "    2.0299962926117007e-05,\n",
       "    0.00024075775390280027,\n",
       "    0.0003077165456637466,\n",
       "    0.920880632030734,\n",
       "    0.03241175971810053,\n",
       "    0.00436380550441973,\n",
       "    0.003079429821194655,\n",
       "    2.4339722744413104e-06,\n",
       "    3.0110690087801837e-07,\n",
       "    3.411832232056044e-06,\n",
       "    1.307763868025559e-06,\n",
       "    9.359905798676789e-06,\n",
       "    7.295837377619308e-05,\n",
       "    0.00011049300982195492,\n",
       "    9.85936410252743e-05,\n",
       "    0.008457487980633088,\n",
       "    0.00679677097292644,\n",
       "    0.0,\n",
       "    0.0016255460038524293,\n",
       "    0.012882235356689396,\n",
       "    0.00010905035310154827,\n",
       "    0.000290774734417972,\n",
       "    0.00447968835371785,\n",
       "    0.00017790592581817848,\n",
       "    0.00015257771689851032,\n",
       "    0.000548294180257396,\n",
       "    0.0004031173444293919,\n",
       "    0.031349661206170484,\n",
       "    0.8764327660965163,\n",
       "    0.042362758643929285,\n",
       "    0.006137818966243557,\n",
       "    2.2256216637512723e-05,\n",
       "    3.4487744549759706e-06,\n",
       "    3.1062744807414935e-06,\n",
       "    1.2501023754951214e-05,\n",
       "    6.46078496904304e-05,\n",
       "    6.914159266446134e-05,\n",
       "    0.00026387455159769,\n",
       "    8.833303885374543e-05,\n",
       "    0.0019167150358151107,\n",
       "    0.012008866951819111,\n",
       "    0.0016255460038524293,\n",
       "    0.0,\n",
       "    0.007189967536509252,\n",
       "    0.0046821180111694905,\n",
       "    0.0011832343382938422,\n",
       "    0.00033417987509312994,\n",
       "    0.00017706973941233761,\n",
       "    6.335087269197256e-05,\n",
       "    0.0009204405283246232,\n",
       "    0.00021367791848641592,\n",
       "    0.03266975180694229,\n",
       "    0.8815339710688674,\n",
       "    0.03725091166503176,\n",
       "    0.001552458969410956,\n",
       "    3.0853157497160497e-06,\n",
       "    5.192977622234975e-06,\n",
       "    6.590374529143559e-06,\n",
       "    2.542215949033498e-06,\n",
       "    7.237681320903983e-05,\n",
       "    4.569123602588366e-05,\n",
       "    5.3823403722309296e-05,\n",
       "    2.4118069119485717e-05,\n",
       "    0.001620190693524373,\n",
       "    0.0020779640058293997,\n",
       "    0.012882235356689396,\n",
       "    0.007189967536509252,\n",
       "    0.0,\n",
       "    0.005952682243778207,\n",
       "    0.00434334490839566,\n",
       "    0.00032362350686105463,\n",
       "    0.0011230206519414491,\n",
       "    0.0013805653615527186,\n",
       "    0.012351829127006771,\n",
       "    0.00983127043182073,\n",
       "    0.002167382076053244,\n",
       "    0.03231314660937323,\n",
       "    0.8747041636301209,\n",
       "    0.032725765619340645,\n",
       "    8.46955566452175e-05,\n",
       "    4.072100426456562e-05,\n",
       "    4.999011348771017e-05,\n",
       "    0.0003097836155849575,\n",
       "    0.0007661678228317139,\n",
       "    0.0005394851816562298,\n",
       "    0.00019398296745522017,\n",
       "    0.0003338906031233722,\n",
       "    5.6350789327194996e-05,\n",
       "    0.00011174753710309999,\n",
       "    0.00010905035310154827,\n",
       "    0.0046821180111694905,\n",
       "    0.005952682243778207,\n",
       "    0.0,\n",
       "    0.00759645314785714,\n",
       "    0.0007320714100736725,\n",
       "    0.00036471682436591983,\n",
       "    0.0009986764842935829,\n",
       "    0.0036396449242815623,\n",
       "    0.00990646743580345,\n",
       "    0.005828615151813213,\n",
       "    0.032283619981929995,\n",
       "    0.880590770507249,\n",
       "    0.02941322626314458,\n",
       "    0.00014826883560630402,\n",
       "    5.483338078306462e-05,\n",
       "    0.00017180478084960574,\n",
       "    4.556484662834427e-05,\n",
       "    3.6015867410920435e-05,\n",
       "    0.0006719967803007719,\n",
       "    5.657284447643312e-05,\n",
       "    0.001964580250535249,\n",
       "    7.199490708514664e-05,\n",
       "    0.00010059846702213802,\n",
       "    0.000290774734417972,\n",
       "    0.0011832343382938422,\n",
       "    0.00434334490839566,\n",
       "    0.00759645314785714,\n",
       "    0.0,\n",
       "    0.007828665892387544,\n",
       "    0.002637112316467066,\n",
       "    0.004101288198246704,\n",
       "    0.02502784729359595,\n",
       "    0.024996664759500478,\n",
       "    0.015402256813815155,\n",
       "    0.005803929416182905,\n",
       "    0.024870975060276294,\n",
       "    0.7911111751861971,\n",
       "    0.0002065996057551586,\n",
       "    4.235223836449244e-05,\n",
       "    0.00035623570328023596,\n",
       "    0.000284619553472881,\n",
       "    0.002552766203124569,\n",
       "    0.007300667692381892,\n",
       "    0.0020755100963938205,\n",
       "    0.008199828622087124,\n",
       "    0.0009515267664920217,\n",
       "    0.0011182062467062495,\n",
       "    0.00447968835371785,\n",
       "    0.00033417987509312994,\n",
       "    0.00032362350686105463,\n",
       "    0.0007320714100736725,\n",
       "    0.007828665892387544,\n",
       "    0.0]}},\n",
       " 'stdout': '21177746',\n",
       " 'stderr': None,\n",
       " 'error': None,\n",
       " 'manager_name': None,\n",
       " 'status': <RecordStatusEnum.complete: 'COMPLETE'>,\n",
       " 'modified_on': datetime.datetime(2020, 3, 17, 17, 57, 42, 866294),\n",
       " 'created_on': datetime.datetime(2020, 3, 17, 17, 57, 42, 866295),\n",
       " 'provenance': {'creator': 'Psi4',\n",
       "  'version': '1.3.2',\n",
       "  'routine': 'psi4.json.run_json',\n",
       "  'cpu': 'Intel(R) Xeon(R) CPU E5-2687W v3 @ 3.10GHz',\n",
       "  'memory': 30.0,\n",
       "  'nthreads': 16,\n",
       "  'qcengine_version': 'v0.13.0',\n",
       "  'username': 'qcfractal',\n",
       "  'hostname': 'openff-qca-7977f75c85-dkhnn',\n",
       "  'wall_time': 14.782704591751099},\n",
       " 'driver': <DriverEnum.gradient: 'gradient'>,\n",
       " 'method': 'b3lyp-d3bj',\n",
       " 'molecule': '11917037',\n",
       " 'basis': 'dzvp',\n",
       " 'keywords': '2',\n",
       " 'return_result': array([[-1.0133207239760190e-05, -2.3729769181531947e-06,\n",
       "          1.2542583545883154e-05],\n",
       "        [ 4.5225707702559507e-06, -3.6190969989044399e-06,\n",
       "          2.0087313780290609e-06],\n",
       "        [-2.2136115619430099e-05, -1.1128401945894218e-05,\n",
       "         -1.2212377042566410e-05],\n",
       "        [ 1.1389383052423218e-05,  1.4447059564753092e-05,\n",
       "          5.4291262242001375e-06],\n",
       "        [-3.1675315921599260e-03,  3.0571491801887419e-03,\n",
       "         -6.7292926330556025e-04],\n",
       "        [ 6.0137785867234225e-03, -5.4961642696160851e-03,\n",
       "          8.1787767313846104e-04],\n",
       "        [-6.3536343325443457e-03,  5.1991840625607699e-03,\n",
       "          2.1946394550669999e-04],\n",
       "        [ 3.5046923981457974e-03, -2.6835105462717865e-03,\n",
       "         -3.7180714964734382e-04],\n",
       "        [ 1.1785870773578592e-05, -9.7655909018165576e-06,\n",
       "         -1.7938405309366829e-05],\n",
       "        [ 1.8804769162447030e-05,  1.7635719880175764e-05,\n",
       "          1.1923431074080404e-05],\n",
       "        [-9.8376419678972348e-06,  5.1032846364042986e-06,\n",
       "         -1.0140501810845706e-05],\n",
       "        [-4.7363972378319872e-06,  3.4912419793785895e-06,\n",
       "          1.7121932200943812e-05],\n",
       "        [-1.5462334847917510e-05, -1.4276676132327884e-05,\n",
       "          1.0113594680981470e-05],\n",
       "        [-1.0450829858580274e-05,  2.5048020085804501e-05,\n",
       "          3.1906850974380645e-06],\n",
       "        [ 7.9167936953053442e-07, -2.9439483820326170e-06,\n",
       "         -6.3277989642176026e-06],\n",
       "        [ 2.3519615415293327e-06,  8.5173343758551971e-06,\n",
       "          2.6052288617851136e-06],\n",
       "        [-1.2940824079724376e-05,  1.3145893324768431e-05,\n",
       "         -3.6694591755960461e-06],\n",
       "        [ 1.5431443531349555e-05, -1.5718032697720034e-05,\n",
       "         -1.0335636786038111e-05],\n",
       "        [ 6.8112640464151170e-06, -2.7473170365143568e-06,\n",
       "          1.2954334318730372e-05],\n",
       "        [ 2.0860112210378508e-05,  4.7823427791785353e-06,\n",
       "         -5.5659681925413493e-06],\n",
       "        [ 9.3772503782277606e-06, -1.3408882839507680e-05,\n",
       "          3.1814673077032495e-05],\n",
       "        [ 2.6864217163571602e-05,  1.5076507334004982e-05,\n",
       "          6.2073328226707803e-06],\n",
       "        [-8.4296778289473322e-06, -2.0063443883403328e-05,\n",
       "         -1.4547222747325150e-05],\n",
       "        [ 4.8373320088873639e-06, -3.5747037865205852e-05,\n",
       "         -2.3320353552760433e-06]]),\n",
       " 'properties': {'calcinfo_nbasis': 144,\n",
       "  'calcinfo_nmo': 144,\n",
       "  'calcinfo_nalpha': 32,\n",
       "  'calcinfo_nbeta': 32,\n",
       "  'calcinfo_natom': 24,\n",
       "  'nuclear_repulsion_energy': 417.54819304411564,\n",
       "  'return_energy': -330.9691636782264,\n",
       "  'scf_one_electron_energy': -1260.0831499480344,\n",
       "  'scf_two_electron_energy': 552.4936682063931,\n",
       "  'scf_xc_energy': -40.89104090070066,\n",
       "  'scf_dispersion_correction_energy': -0.03683408,\n",
       "  'scf_dipole_moment': array([11.151553524532934, -9.04257787510606 , -5.550154464424103]),\n",
       "  'scf_total_energy': -330.9691636782264,\n",
       "  'scf_iterations': 12},\n",
       " 'wavefunction': None,\n",
       " 'wavefunction_data_id': None}"
      ]
     },
     "execution_count": 81,
     "metadata": {},
     "output_type": "execute_result"
    }
   ],
   "source": [
    "v.dict()"
   ]
  },
  {
   "cell_type": "code",
   "execution_count": 82,
   "id": "9ecb753f-d0bb-41da-8992-1fe6f5493df0",
   "metadata": {},
   "outputs": [
    {
     "data": {
      "text/plain": [
       "-330.9691636782264"
      ]
     },
     "execution_count": 82,
     "metadata": {},
     "output_type": "execute_result"
    }
   ],
   "source": [
    "v.properties.return_energy"
   ]
  },
  {
   "cell_type": "code",
   "execution_count": 83,
   "id": "5ef638f2-866e-45e3-aee2-babee3177f80",
   "metadata": {
    "scrolled": true,
    "tags": []
   },
   "outputs": [
    {
     "data": {
      "text/plain": [
       "array([[-1.0133207239760190e-05, -2.3729769181531947e-06,\n",
       "         1.2542583545883154e-05],\n",
       "       [ 4.5225707702559507e-06, -3.6190969989044399e-06,\n",
       "         2.0087313780290609e-06],\n",
       "       [-2.2136115619430099e-05, -1.1128401945894218e-05,\n",
       "        -1.2212377042566410e-05],\n",
       "       [ 1.1389383052423218e-05,  1.4447059564753092e-05,\n",
       "         5.4291262242001375e-06],\n",
       "       [-3.1675315921599260e-03,  3.0571491801887419e-03,\n",
       "        -6.7292926330556025e-04],\n",
       "       [ 6.0137785867234225e-03, -5.4961642696160851e-03,\n",
       "         8.1787767313846104e-04],\n",
       "       [-6.3536343325443457e-03,  5.1991840625607699e-03,\n",
       "         2.1946394550669999e-04],\n",
       "       [ 3.5046923981457974e-03, -2.6835105462717865e-03,\n",
       "        -3.7180714964734382e-04],\n",
       "       [ 1.1785870773578592e-05, -9.7655909018165576e-06,\n",
       "        -1.7938405309366829e-05],\n",
       "       [ 1.8804769162447030e-05,  1.7635719880175764e-05,\n",
       "         1.1923431074080404e-05],\n",
       "       [-9.8376419678972348e-06,  5.1032846364042986e-06,\n",
       "        -1.0140501810845706e-05],\n",
       "       [-4.7363972378319872e-06,  3.4912419793785895e-06,\n",
       "         1.7121932200943812e-05],\n",
       "       [-1.5462334847917510e-05, -1.4276676132327884e-05,\n",
       "         1.0113594680981470e-05],\n",
       "       [-1.0450829858580274e-05,  2.5048020085804501e-05,\n",
       "         3.1906850974380645e-06],\n",
       "       [ 7.9167936953053442e-07, -2.9439483820326170e-06,\n",
       "        -6.3277989642176026e-06],\n",
       "       [ 2.3519615415293327e-06,  8.5173343758551971e-06,\n",
       "         2.6052288617851136e-06],\n",
       "       [-1.2940824079724376e-05,  1.3145893324768431e-05,\n",
       "        -3.6694591755960461e-06],\n",
       "       [ 1.5431443531349555e-05, -1.5718032697720034e-05,\n",
       "        -1.0335636786038111e-05],\n",
       "       [ 6.8112640464151170e-06, -2.7473170365143568e-06,\n",
       "         1.2954334318730372e-05],\n",
       "       [ 2.0860112210378508e-05,  4.7823427791785353e-06,\n",
       "        -5.5659681925413493e-06],\n",
       "       [ 9.3772503782277606e-06, -1.3408882839507680e-05,\n",
       "         3.1814673077032495e-05],\n",
       "       [ 2.6864217163571602e-05,  1.5076507334004982e-05,\n",
       "         6.2073328226707803e-06],\n",
       "       [-8.4296778289473322e-06, -2.0063443883403328e-05,\n",
       "        -1.4547222747325150e-05],\n",
       "       [ 4.8373320088873639e-06, -3.5747037865205852e-05,\n",
       "        -2.3320353552760433e-06]])"
      ]
     },
     "execution_count": 83,
     "metadata": {},
     "output_type": "execute_result"
    }
   ],
   "source": [
    "v.return_result"
   ]
  },
  {
   "cell_type": "code",
   "execution_count": 84,
   "id": "5460f938-db95-41e4-818d-1f9cb474050c",
   "metadata": {},
   "outputs": [
    {
     "data": {
      "text/plain": [
       "<bound method TorsionDriveRecord.get_final_molecules of TorsionDriveRecord(id='18045308', status='COMPLETE')>"
      ]
     },
     "execution_count": 84,
     "metadata": {},
     "output_type": "execute_result"
    }
   ],
   "source": [
    "td_record.get_final_molecules"
   ]
  },
  {
   "cell_type": "code",
   "execution_count": 117,
   "id": "eb1088e2-4184-4f1c-97b0-b11e75dbf8d4",
   "metadata": {},
   "outputs": [
    {
     "name": "stdout",
     "output_type": "stream",
     "text": [
      "(45,)\n",
      "(60,)\n",
      "(90,)\n",
      "(15,)\n",
      "(75,)\n",
      "(30,)\n",
      "(120,)\n",
      "(105,)\n",
      "(0,)\n",
      "(-15,)\n",
      "(135,)\n",
      "(150,)\n",
      "(165,)\n",
      "(-150,)\n",
      "(180,)\n",
      "(-165,)\n",
      "(-135,)\n",
      "(-105,)\n",
      "(-120,)\n",
      "(-75,)\n",
      "(-90,)\n",
      "(-60,)\n",
      "(-45,)\n",
      "(-30,)\n"
     ]
    }
   ],
   "source": [
    "for k, v in td_record.get_final_molecules().items():\n",
    "    print(k)"
   ]
  },
  {
   "cell_type": "code",
   "execution_count": 123,
   "id": "af58898e-64f1-42cd-9391-0e2c1bf7cf9a",
   "metadata": {},
   "outputs": [
    {
     "data": {
      "text/plain": [
       "array([[ 3.88968743, -1.30366613,  0.73728391],\n",
       "       [ 6.42759986,  0.12923737,  0.68106347],\n",
       "       [ 3.98300369, -3.54181871, -0.80262955],\n",
       "       [ 8.50307222, -1.53641898,  0.31409992],\n",
       "       [ 3.50969471, -2.01308101,  2.63962856],\n",
       "       [ 2.32651778, -0.06117299,  0.18566044],\n",
       "       [ 6.69282193,  1.1512484 ,  2.46160593],\n",
       "       [ 6.40476738,  1.5359627 , -0.8545217 ],\n",
       "       [ 3.72862969, -3.06332652, -2.55545743],\n",
       "       [ 7.79209354, -3.09004771, -0.3731953 ]])"
      ]
     },
     "execution_count": 123,
     "metadata": {},
     "output_type": "execute_result"
    }
   ],
   "source": [
    "v.geometry"
   ]
  },
  {
   "cell_type": "code",
   "execution_count": 127,
   "id": "c777e47a-09b1-41af-a5ff-75a3a04610af",
   "metadata": {},
   "outputs": [
    {
     "data": {
      "text/plain": [
       "array([6, 6, 8, 8, 1, 1, 1, 1, 1, 1], dtype=int16)"
      ]
     },
     "execution_count": 127,
     "metadata": {},
     "output_type": "execute_result"
    }
   ],
   "source": [
    "v.atomic_numbers"
   ]
  },
  {
   "cell_type": "code",
   "execution_count": 126,
   "id": "08ea4deb-a96f-454e-95b9-57366ebca956",
   "metadata": {},
   "outputs": [
    {
     "data": {
      "text/plain": [
       "{'schema_name': 'qcschema_molecule',\n",
       " 'schema_version': 2,\n",
       " 'validated': True,\n",
       " 'symbols': array(['C', 'C', 'O', 'O', 'H', 'H', 'H', 'H', 'H', 'H'], dtype='<U1'),\n",
       " 'geometry': array([[ 3.88968743, -1.30366613,  0.73728391],\n",
       "        [ 6.42759986,  0.12923737,  0.68106347],\n",
       "        [ 3.98300369, -3.54181871, -0.80262955],\n",
       "        [ 8.50307222, -1.53641898,  0.31409992],\n",
       "        [ 3.50969471, -2.01308101,  2.63962856],\n",
       "        [ 2.32651778, -0.06117299,  0.18566044],\n",
       "        [ 6.69282193,  1.1512484 ,  2.46160593],\n",
       "        [ 6.40476738,  1.5359627 , -0.8545217 ],\n",
       "        [ 3.72862969, -3.06332652, -2.55545743],\n",
       "        [ 7.79209354, -3.09004771, -0.3731953 ]]),\n",
       " 'name': 'C2H6O2',\n",
       " 'identifiers': {'molecule_hash': '73d0ea317fd2f0a0eb9771aeded8bd5c72ff7da7',\n",
       "  'molecular_formula': 'C2H6O2'},\n",
       " 'molecular_charge': 0.0,\n",
       " 'molecular_multiplicity': 1,\n",
       " 'masses': array([12.           , 12.           , 15.99491461957, 15.99491461957,\n",
       "         1.00782503223,  1.00782503223,  1.00782503223,  1.00782503223,\n",
       "         1.00782503223,  1.00782503223]),\n",
       " 'real': array([ True,  True,  True,  True,  True,  True,  True,  True,  True,\n",
       "         True]),\n",
       " 'atom_labels': array(['', '', '', '', '', '', '', '', '', ''], dtype='<U1'),\n",
       " 'atomic_numbers': array([6, 6, 8, 8, 1, 1, 1, 1, 1, 1], dtype=int16),\n",
       " 'mass_numbers': array([12, 12, 16, 16,  1,  1,  1,  1,  1,  1], dtype=int16),\n",
       " 'connectivity': [(0, 1, 1.0),\n",
       "  (0, 2, 1.0),\n",
       "  (0, 4, 1.0),\n",
       "  (0, 5, 1.0),\n",
       "  (1, 3, 1.0),\n",
       "  (1, 6, 1.0),\n",
       "  (1, 7, 1.0),\n",
       "  (2, 8, 1.0),\n",
       "  (3, 9, 1.0)],\n",
       " 'fragments': [array([0, 1, 2, 3, 4, 5, 6, 7, 8, 9], dtype=int32)],\n",
       " 'fragment_charges': [0.0],\n",
       " 'fragment_multiplicities': [1],\n",
       " 'fix_com': True,\n",
       " 'fix_orientation': True,\n",
       " 'provenance': {'creator': 'QCElemental',\n",
       "  'version': 'v0.24.0',\n",
       "  'routine': 'qcelemental.molparse.from_schema'},\n",
       " 'id': 12002892}"
      ]
     },
     "execution_count": 126,
     "metadata": {},
     "output_type": "execute_result"
    }
   ],
   "source": [
    "v.dict()"
   ]
  },
  {
   "cell_type": "code",
   "execution_count": null,
   "id": "8634b3b7-4a7c-4f86-8c78-a19ecfc2bac0",
   "metadata": {},
   "outputs": [],
   "source": []
  }
 ],
 "metadata": {
  "kernelspec": {
   "display_name": "Python 3 (ipykernel)",
   "language": "python",
   "name": "python3"
  },
  "language_info": {
   "codemirror_mode": {
    "name": "ipython",
    "version": 3
   },
   "file_extension": ".py",
   "mimetype": "text/x-python",
   "name": "python",
   "nbconvert_exporter": "python",
   "pygments_lexer": "ipython3",
   "version": "3.9.13"
  }
 },
 "nbformat": 4,
 "nbformat_minor": 5
}
