{
 "cells": [
  {
   "cell_type": "code",
   "execution_count": 1,
   "id": "b60a4b32-bdb4-4722-94e4-3ae05bf21c0b",
   "metadata": {},
   "outputs": [],
   "source": [
    "import os, sys\n",
    "import glob\n",
    "from rdkit import Chem\n",
    "import numpy as np\n",
    "import h5py\n",
    "import yaml"
   ]
  },
  {
   "cell_type": "markdown",
   "id": "626fc56c-4651-4ab4-94cb-1d94dd796a62",
   "metadata": {},
   "source": [
    "### Load hdf5"
   ]
  },
  {
   "cell_type": "code",
   "execution_count": 2,
   "id": "018469d7-32bc-47f8-bb3e-d527962358d6",
   "metadata": {},
   "outputs": [],
   "source": [
    "files = glob.glob(\"Open*.hdf5\")\n",
    "files.sort()"
   ]
  },
  {
   "cell_type": "code",
   "execution_count": 3,
   "id": "fe9975dc-473f-4533-8033-dfb042ac1673",
   "metadata": {},
   "outputs": [
    {
     "data": {
      "text/plain": [
       "['OpenFF-PEPCONF-OptimizationDataset-part1.hdf5',\n",
       " 'OpenFF-PEPCONF-OptimizationDataset-part2.hdf5',\n",
       " 'OpenFF-PEPCONF-OptimizationDataset-part3.hdf5',\n",
       " 'OpenFF-PEPCONF-OptimizationDataset-part4.hdf5']"
      ]
     },
     "execution_count": 3,
     "metadata": {},
     "output_type": "execute_result"
    }
   ],
   "source": [
    "files"
   ]
  },
  {
   "cell_type": "markdown",
   "id": "54faa832-ea35-4f1c-90c9-af4683b7c516",
   "metadata": {},
   "source": [
    "### Check data format"
   ]
  },
  {
   "cell_type": "code",
   "execution_count": 4,
   "id": "87279f5f-e84b-4c1a-9f35-4369692fb314",
   "metadata": {},
   "outputs": [],
   "source": [
    "data = h5py.File(files[0])\n",
    "groups = [ key for key in data.keys() ]"
   ]
  },
  {
   "cell_type": "code",
   "execution_count": 5,
   "id": "42f04610-8441-47be-a020-06383675dbb3",
   "metadata": {
    "scrolled": true,
    "tags": []
   },
   "outputs": [
    {
     "data": {
      "text/plain": [
       "['CC(=O)N1CCC[C@H]1C(=O)N1CCC[C@H]1C(N)=O',\n",
       " 'CC(=O)N1CCC[C@H]1C(=O)N[C@@H](CC(C)C)C(=O)N[C@@H](Cc1c[nH]c2ccccc12)C(N)=O',\n",
       " 'CC(=O)N1CCC[C@H]1C(=O)N[C@@H](CC(N)=O)C(N)=O',\n",
       " 'CC(=O)N1CCC[C@H]1C(=O)N[C@@H](CCC(N)=O)C(=O)N[C@@H](CCC(=O)O)C(N)=O',\n",
       " 'CC(=O)N1CCC[C@H]1C(=O)N[C@@H](CCC(N)=O)C(N)=O',\n",
       " 'CC(=O)N1CCC[C@H]1C(=O)N[C@@H](CO)C(N)=O',\n",
       " 'CC(=O)N1CCC[C@H]1C(=O)N[C@@H](CS)C(N)=O',\n",
       " 'CC(=O)N1CCC[C@H]1C(=O)N[C@@H](Cc1c[nH]c2ccccc12)C(=O)N[C@@H](CCC(=O)O)C(N)=O',\n",
       " 'CC(=O)N1CCC[C@H]1C(=O)N[C@@H](Cc1c[nH]c2ccccc12)C(=O)N[C@@H](CCC(N)=O)C(N)=O',\n",
       " 'CC(=O)N1CCC[C@H]1C(=O)N[C@@H](Cc1c[nH]c2ccccc12)C(N)=O',\n",
       " 'CC(=O)N1CCC[C@H]1C(=O)N[C@@H](Cc1c[nH]cn1)C(N)=O',\n",
       " 'CC(=O)N1CCC[C@H]1C(=O)N[C@@H](Cc1ccc(O)cc1)C(=O)N1CCC[C@H]1C(N)=O',\n",
       " 'CC(=O)N1CCC[C@H]1C(=O)N[C@@H](Cc1ccc(O)cc1)C(=O)N[C@@H](Cc1c[nH]cn1)C(N)=O',\n",
       " 'CC(=O)N1CCC[C@H]1C(=O)N[C@@H](Cc1ccc(O)cc1)C(=O)N[C@@H](Cc1ccc(O)cc1)C(N)=O',\n",
       " 'CC(=O)N1CCC[C@H]1C(=O)N[C@@H](Cc1ccc(O)cc1)C(N)=O',\n",
       " 'CC(=O)N1CCC[C@H]1C(=O)N[C@@H](Cc1ccccc1)C(N)=O',\n",
       " 'CC(=O)N1CCC[C@H]1C(=O)N[C@H](C(N)=O)C(C)C',\n",
       " 'CC(=O)N1CCC[C@H]1C(=O)N[C@H](C(N)=O)[C@@H](C)O',\n",
       " 'CC(=O)NCC(=O)N1CCC[C@H]1C(N)=O',\n",
       " 'CC(=O)NCC(=O)NCC(N)=O',\n",
       " 'CC(=O)NCC(=O)N[C@@H](CC(C)C)C(N)=O',\n",
       " 'CC(=O)NCC(=O)N[C@@H](CCC(N)=O)C(N)=O',\n",
       " 'CC(=O)NCC(=O)N[C@@H](CO)C(N)=O',\n",
       " 'CC(=O)NCC(=O)N[C@@H](CS)C(N)=O',\n",
       " 'CC(=O)NCC(=O)N[C@@H](Cc1c[nH]c2ccccc12)C(N)=O',\n",
       " 'CC(=O)NCC(=O)N[C@@H](Cc1ccc(O)cc1)C(N)=O',\n",
       " 'CC(=O)NCC(=O)N[C@@H](Cc1ccccc1)C(N)=O',\n",
       " 'CC(=O)NCC(=O)N[C@H](C(N)=O)C(C)C',\n",
       " 'CC(=O)NCC(=O)N[C@H](C(N)=O)[C@@H](C)O',\n",
       " 'CC(=O)N[C@@H](C)C(=O)N1CCC[C@H]1C(N)=O',\n",
       " 'CC(=O)N[C@@H](C)C(=O)NCC(N)=O',\n",
       " 'CC(=O)N[C@@H](C)C(=O)N[C@@H](C)C(N)=O',\n",
       " 'CC(=O)N[C@@H](C)C(=O)N[C@@H](CC(C)C)C(N)=O',\n",
       " 'CC(=O)N[C@@H](C)C(=O)N[C@@H](CCC(N)=O)C(N)=O',\n",
       " 'CC(=O)N[C@@H](C)C(=O)N[C@@H](CO)C(N)=O',\n",
       " 'CC(=O)N[C@@H](C)C(=O)N[C@@H](CS)C(N)=O',\n",
       " 'CC(=O)N[C@@H](C)C(=O)N[C@@H](Cc1c[nH]c2ccccc12)C(N)=O',\n",
       " 'CC(=O)N[C@@H](C)C(=O)N[C@@H](Cc1c[nH]cn1)C(N)=O',\n",
       " 'CC(=O)N[C@@H](C)C(=O)N[C@@H](Cc1ccc(O)cc1)C(N)=O',\n",
       " 'CC(=O)N[C@@H](C)C(=O)N[C@@H](Cc1ccccc1)C(N)=O',\n",
       " 'CC(=O)N[C@@H](C)C(=O)N[C@H](C(N)=O)C(C)C',\n",
       " 'CC(=O)N[C@@H](C)C(=O)N[C@H](C(N)=O)[C@@H](C)O',\n",
       " 'CC(=O)N[C@@H](CC(=O)[O-])C(=O)N1CCC[C@H]1C(N)=O',\n",
       " 'CC(=O)N[C@@H](CC(=O)[O-])C(=O)NCC(N)=O',\n",
       " 'CC(=O)N[C@@H](CC(=O)[O-])C(=O)N[C@@H](C)C(N)=O',\n",
       " 'CC(=O)N[C@@H](CC(=O)[O-])C(=O)N[C@@H](CC(=O)[O-])C(N)=O',\n",
       " 'CC(=O)N[C@@H](CC(=O)[O-])C(=O)N[C@@H](CC(C)C)C(N)=O',\n",
       " 'CC(=O)N[C@@H](CC(=O)[O-])C(=O)N[C@@H](CC(N)=O)C(N)=O',\n",
       " 'CC(=O)N[C@@H](CC(=O)[O-])C(=O)N[C@@H](CCC(=O)[O-])C(N)=O',\n",
       " 'CC(=O)N[C@@H](CC(=O)[O-])C(=O)N[C@@H](CCC(N)=O)C(N)=O',\n",
       " 'CC(=O)N[C@@H](CC(=O)[O-])C(=O)N[C@@H](CCCC[NH3+])C(N)=O',\n",
       " 'CC(=O)N[C@@H](CC(=O)[O-])C(=O)N[C@@H](CO)C(N)=O',\n",
       " 'CC(=O)N[C@@H](CC(=O)[O-])C(=O)N[C@@H](CS)C(N)=O',\n",
       " 'CC(=O)N[C@@H](CC(=O)[O-])C(=O)N[C@@H](Cc1c[nH]c2ccccc12)C(N)=O',\n",
       " 'CC(=O)N[C@@H](CC(=O)[O-])C(=O)N[C@@H](Cc1c[nH]cn1)C(N)=O',\n",
       " 'CC(=O)N[C@@H](CC(=O)[O-])C(=O)N[C@@H](Cc1ccc(O)cc1)C(N)=O',\n",
       " 'CC(=O)N[C@@H](CC(=O)[O-])C(=O)N[C@@H](Cc1ccccc1)C(N)=O',\n",
       " 'CC(=O)N[C@@H](CC(=O)[O-])C(=O)N[C@H](C(N)=O)C(C)C',\n",
       " 'CC(=O)N[C@@H](CC(=O)[O-])C(=O)N[C@H](C(N)=O)[C@@H](C)O',\n",
       " 'CC(=O)N[C@@H](CC(C)C)C(=O)N1CCC[C@H]1C(=O)N[C@@H](CC(C)C)C(N)=O',\n",
       " 'CC(=O)N[C@@H](CC(C)C)C(=O)N1CCC[C@H]1C(N)=O',\n",
       " 'CC(=O)N[C@@H](CC(C)C)C(=O)N[C@@H](CC(C)C)C(N)=O',\n",
       " 'CC(=O)N[C@@H](CC(C)C)C(=O)N[C@@H](CC(N)=O)C(N)=O',\n",
       " 'CC(=O)N[C@@H](CC(C)C)C(=O)N[C@@H](CCC(=O)O)C(=O)N1CCC[C@H]1C(N)=O',\n",
       " 'CC(=O)N[C@@H](CC(C)C)C(=O)N[C@@H](CCC(=O)O)C(=O)N[C@@H](Cc1c[nH]cn1)C(N)=O',\n",
       " 'CC(=O)N[C@@H](CC(C)C)C(=O)N[C@@H](CCC(=O)O)C(=O)N[C@@H](Cc1ccc(O)cc1)C(N)=O',\n",
       " 'CC(=O)N[C@@H](CC(C)C)C(=O)N[C@@H](CCC(N)=O)C(=O)N[C@@H](Cc1c[nH]cn1)C(N)=O',\n",
       " 'CC(=O)N[C@@H](CC(C)C)C(=O)N[C@@H](CCC(N)=O)C(=O)N[C@@H](Cc1ccc(O)cc1)C(N)=O',\n",
       " 'CC(=O)N[C@@H](CC(C)C)C(=O)N[C@@H](CCC(N)=O)C(N)=O',\n",
       " 'CC(=O)N[C@@H](CC(C)C)C(=O)N[C@@H](CO)C(N)=O',\n",
       " 'CC(=O)N[C@@H](CC(C)C)C(=O)N[C@@H](CS)C(N)=O',\n",
       " 'CC(=O)N[C@@H](CC(C)C)C(=O)N[C@@H](Cc1c[nH]c2ccccc12)C(=O)N[C@@H](Cc1ccc(O)cc1)C(N)=O',\n",
       " 'CC(=O)N[C@@H](CC(C)C)C(=O)N[C@@H](Cc1c[nH]c2ccccc12)C(N)=O',\n",
       " 'CC(=O)N[C@@H](CC(C)C)C(=O)N[C@@H](Cc1c[nH]cn1)C(N)=O',\n",
       " 'CC(=O)N[C@@H](CC(C)C)C(=O)N[C@@H](Cc1ccc(O)cc1)C(=O)N[C@@H](CCC(N)=O)C(N)=O',\n",
       " 'CC(=O)N[C@@H](CC(C)C)C(=O)N[C@@H](Cc1ccc(O)cc1)C(N)=O',\n",
       " 'CC(=O)N[C@@H](CC(C)C)C(=O)N[C@@H](Cc1ccccc1)C(N)=O',\n",
       " 'CC(=O)N[C@@H](CC(C)C)C(=O)N[C@H](C(N)=O)C(C)C',\n",
       " 'CC(=O)N[C@@H](CC(C)C)C(=O)N[C@H](C(N)=O)[C@@H](C)O',\n",
       " 'CC(=O)N[C@@H](CC(N)=O)C(=O)N[C@@H](CC(N)=O)C(N)=O',\n",
       " 'CC(=O)N[C@@H](CC(N)=O)C(=O)N[C@@H](CCC(N)=O)C(N)=O',\n",
       " 'CC(=O)N[C@@H](CC(N)=O)C(=O)N[C@@H](CS)C(N)=O',\n",
       " 'CC(=O)N[C@@H](CCC(=O)[O-])C(=O)N1CCC[C@H]1C(N)=O',\n",
       " 'CC(=O)N[C@@H](CCC(=O)[O-])C(=O)NCC(N)=O',\n",
       " 'CC(=O)N[C@@H](CCC(=O)[O-])C(=O)N[C@@H](C)C(N)=O',\n",
       " 'CC(=O)N[C@@H](CCC(=O)[O-])C(=O)N[C@@H](CC(C)C)C(N)=O',\n",
       " 'CC(=O)N[C@@H](CCC(=O)[O-])C(=O)N[C@@H](CC(N)=O)C(N)=O',\n",
       " 'CC(=O)N[C@@H](CCC(=O)[O-])C(=O)N[C@@H](CCC(=O)[O-])C(N)=O',\n",
       " 'CC(=O)N[C@@H](CCC(=O)[O-])C(=O)N[C@@H](CCC(N)=O)C(N)=O',\n",
       " 'CC(=O)N[C@@H](CCC(=O)[O-])C(=O)N[C@@H](CCCC[NH3+])C(N)=O',\n",
       " 'CC(=O)N[C@@H](CCC(=O)[O-])C(=O)N[C@@H](CO)C(N)=O',\n",
       " 'CC(=O)N[C@@H](CCC(=O)[O-])C(=O)N[C@@H](CS)C(N)=O',\n",
       " 'CC(=O)N[C@@H](CCC(=O)[O-])C(=O)N[C@@H](Cc1c[nH]c2ccccc12)C(N)=O',\n",
       " 'CC(=O)N[C@@H](CCC(=O)[O-])C(=O)N[C@@H](Cc1c[nH]cn1)C(N)=O',\n",
       " 'CC(=O)N[C@@H](CCC(=O)[O-])C(=O)N[C@@H](Cc1ccc(O)cc1)C(N)=O',\n",
       " 'CC(=O)N[C@@H](CCC(=O)[O-])C(=O)N[C@@H](Cc1ccccc1)C(N)=O',\n",
       " 'CC(=O)N[C@@H](CCC(=O)[O-])C(=O)N[C@H](C(N)=O)C(C)C',\n",
       " 'CC(=O)N[C@@H](CCC(N)=O)C(=O)N1CCC[C@H]1C(=O)N[C@@H](Cc1c[nH]cn1)C(N)=O',\n",
       " 'CC(=O)N[C@@H](CCC(N)=O)C(=O)N[C@@H](CCC(N)=O)C(N)=O',\n",
       " 'CC(=O)N[C@@H](CCC(N)=O)C(=O)N[C@@H](CS)C(N)=O',\n",
       " 'CC(=O)N[C@@H](CCC(N)=O)C(=O)N[C@@H](Cc1c[nH]cn1)C(=O)N[C@@H](CCC(=O)O)C(N)=O',\n",
       " 'CC(=O)N[C@@H](CCC(N)=O)C(=O)N[C@@H](Cc1c[nH]cn1)C(=O)N[C@@H](CCC(N)=O)C(N)=O',\n",
       " 'CC(=O)N[C@@H](CCCC[NH3+])C(=O)NCC(N)=O',\n",
       " 'CC(=O)N[C@@H](CCCC[NH3+])C(=O)N[C@@H](CC(C)C)C(N)=O',\n",
       " 'CC(=O)N[C@@H](CCCC[NH3+])C(=O)N[C@@H](CC(N)=O)C(N)=O',\n",
       " 'CC(=O)N[C@@H](CCCC[NH3+])C(=O)N[C@@H](CCC(N)=O)C(N)=O',\n",
       " 'CC(=O)N[C@@H](CCCC[NH3+])C(=O)N[C@@H](CS)C(N)=O',\n",
       " 'CC(=O)N[C@@H](CCCC[NH3+])C(=O)N[C@@H](Cc1c[nH]c2ccccc12)C(N)=O',\n",
       " 'CC(=O)N[C@@H](CCCC[NH3+])C(=O)N[C@@H](Cc1c[nH]cn1)C(N)=O',\n",
       " 'CC(=O)N[C@@H](CCCC[NH3+])C(=O)N[C@@H](Cc1ccc(O)cc1)C(N)=O',\n",
       " 'CC(=O)N[C@@H](CCCC[NH3+])C(=O)N[C@@H](Cc1ccccc1)C(N)=O',\n",
       " 'CC(=O)N[C@@H](CCCC[NH3+])C(=O)N[C@H](C(N)=O)C(C)C',\n",
       " 'CC(=O)N[C@@H](CCCC[NH3+])C(=O)N[C@H](C(N)=O)[C@@H](C)O',\n",
       " 'CC(=O)N[C@@H](CCCNC(N)=[NH2+])C(=O)N1CCC[C@H]1C(N)=O',\n",
       " 'CC(=O)N[C@@H](CCCNC(N)=[NH2+])C(=O)NCC(N)=O',\n",
       " 'CC(=O)N[C@@H](CCCNC(N)=[NH2+])C(=O)N[C@@H](C)C(N)=O',\n",
       " 'CC(=O)N[C@@H](CCCNC(N)=[NH2+])C(=O)N[C@@H](CC(N)=O)C(N)=O',\n",
       " 'CC(=O)N[C@@H](CCCNC(N)=[NH2+])C(=O)N[C@@H](CCC(N)=O)C(N)=O',\n",
       " 'CC(=O)N[C@@H](CCCNC(N)=[NH2+])C(=O)N[C@@H](CCCC[NH3+])C(N)=O',\n",
       " 'CC(=O)N[C@@H](CCCNC(N)=[NH2+])C(=O)N[C@@H](CCCNC(N)=[NH2+])C(N)=O',\n",
       " 'CC(=O)N[C@@H](CCCNC(N)=[NH2+])C(=O)N[C@@H](CO)C(N)=O',\n",
       " 'CC(=O)N[C@@H](CCCNC(N)=[NH2+])C(=O)N[C@@H](Cc1c[nH]c2ccccc12)C(N)=O',\n",
       " 'CC(=O)N[C@@H](CCCNC(N)=[NH2+])C(=O)N[C@@H](Cc1c[nH]cn1)C(N)=O',\n",
       " 'CC(=O)N[C@@H](CCCNC(N)=[NH2+])C(=O)N[C@@H](Cc1ccc(O)cc1)C(N)=O',\n",
       " 'CC(=O)N[C@@H](CCCNC(N)=[NH2+])C(=O)N[C@@H](Cc1ccccc1)C(N)=O',\n",
       " 'CC(=O)N[C@@H](CCCNC(N)=[NH2+])C(=O)N[C@H](C(N)=O)C(C)C',\n",
       " 'CC(=O)N[C@@H](CCCNC(N)=[NH2+])C(=O)N[C@H](C(N)=O)[C@@H](C)O',\n",
       " 'CC(=O)N[C@@H](CO)C(=O)N[C@@H](CC(N)=O)C(N)=O',\n",
       " 'CC(=O)N[C@@H](CO)C(=O)N[C@@H](CCC(N)=O)C(N)=O',\n",
       " 'CC(=O)N[C@@H](CO)C(=O)N[C@@H](CO)C(N)=O',\n",
       " 'CC(=O)N[C@@H](CO)C(=O)N[C@@H](CS)C(N)=O',\n",
       " 'CC(=O)N[C@@H](CO)C(=O)N[C@H](C(N)=O)[C@@H](C)O',\n",
       " 'CC(=O)N[C@@H](CS)C(=O)N[C@@H](CS)C(N)=O',\n",
       " 'CC(=O)N[C@@H](Cc1c[nH]c2ccccc12)C(=O)N1CCC[C@H]1C(=O)N[C@@H](CCC(=O)O)C(N)=O',\n",
       " 'CC(=O)N[C@@H](Cc1c[nH]c2ccccc12)C(=O)N1CCC[C@H]1C(=O)N[C@@H](CCC(N)=O)C(N)=O',\n",
       " 'CC(=O)N[C@@H](Cc1c[nH]c2ccccc12)C(=O)N[C@@H](CC(C)C)C(=O)N[C@@H](Cc1c[nH]cn1)C(N)=O',\n",
       " 'CC(=O)N[C@@H](Cc1c[nH]c2ccccc12)C(=O)N[C@@H](CC(C)C)C(=O)N[C@@H](Cc1ccc(O)cc1)C(N)=O',\n",
       " 'CC(=O)N[C@@H](Cc1c[nH]c2ccccc12)C(=O)N[C@@H](CC(N)=O)C(N)=O',\n",
       " 'CC(=O)N[C@@H](Cc1c[nH]c2ccccc12)C(=O)N[C@@H](CCC(N)=O)C(N)=O',\n",
       " 'CC(=O)N[C@@H](Cc1c[nH]c2ccccc12)C(=O)N[C@@H](CO)C(N)=O',\n",
       " 'CC(=O)N[C@@H](Cc1c[nH]c2ccccc12)C(=O)N[C@@H](CS)C(N)=O',\n",
       " 'CC(=O)N[C@@H](Cc1c[nH]c2ccccc12)C(=O)N[C@@H](Cc1c[nH]c2ccccc12)C(N)=O',\n",
       " 'CC(=O)N[C@@H](Cc1c[nH]c2ccccc12)C(=O)N[C@@H](Cc1c[nH]cn1)C(N)=O',\n",
       " 'CC(=O)N[C@@H](Cc1c[nH]c2ccccc12)C(=O)N[C@@H](Cc1ccc(O)cc1)C(N)=O',\n",
       " 'CC(=O)N[C@@H](Cc1c[nH]c2ccccc12)C(=O)N[C@H](C(N)=O)[C@@H](C)O',\n",
       " 'CC(=O)N[C@@H](Cc1c[nH]cn1)C(=O)N[C@@H](CCC(=O)O)C(=O)N[C@@H](Cc1c[nH]cn1)C(N)=O',\n",
       " 'CC(=O)N[C@@H](Cc1c[nH]cn1)C(=O)N[C@@H](CCC(N)=O)C(N)=O',\n",
       " 'CC(=O)N[C@@H](Cc1c[nH]cn1)C(=O)N[C@@H](CO)C(N)=O',\n",
       " 'CC(=O)N[C@@H](Cc1c[nH]cn1)C(=O)N[C@@H](CS)C(N)=O',\n",
       " 'CC(=O)N[C@@H](Cc1c[nH]cn1)C(=O)N[C@@H](Cc1c[nH]c2ccccc12)C(=O)N[C@@H](Cc1c[nH]cn1)C(N)=O',\n",
       " 'CC(=O)N[C@@H](Cc1c[nH]cn1)C(=O)N[C@@H](Cc1c[nH]cn1)C(N)=O',\n",
       " 'CC(=O)N[C@@H](Cc1c[nH]cn1)C(=O)N[C@@H](Cc1ccc(O)cc1)C(=O)N[C@@H](CCC(=O)O)C(N)=O',\n",
       " 'CC(=O)N[C@@H](Cc1c[nH]cn1)C(=O)N[C@H](C(N)=O)[C@@H](C)O',\n",
       " 'CC(=O)N[C@@H](Cc1ccc(O)cc1)C(=O)N[C@@H](CC(N)=O)C(N)=O',\n",
       " 'CC(=O)N[C@@H](Cc1ccc(O)cc1)C(=O)N[C@@H](CCC(=O)O)C(=O)N[C@@H](Cc1c[nH]cn1)C(N)=O',\n",
       " 'CC(=O)N[C@@H](Cc1ccc(O)cc1)C(=O)N[C@@H](CCC(N)=O)C(=O)N[C@@H](Cc1ccc(O)cc1)C(N)=O',\n",
       " 'CC(=O)N[C@@H](Cc1ccc(O)cc1)C(=O)N[C@@H](CCC(N)=O)C(N)=O',\n",
       " 'CC(=O)N[C@@H](Cc1ccc(O)cc1)C(=O)N[C@@H](CO)C(N)=O',\n",
       " 'CC(=O)N[C@@H](Cc1ccc(O)cc1)C(=O)N[C@@H](CS)C(N)=O',\n",
       " 'CC(=O)N[C@@H](Cc1ccc(O)cc1)C(=O)N[C@@H](Cc1c[nH]c2ccccc12)C(=O)N[C@@H](Cc1c[nH]cn1)C(N)=O',\n",
       " 'CC(=O)N[C@@H](Cc1ccc(O)cc1)C(=O)N[C@@H](Cc1c[nH]c2ccccc12)C(=O)N[C@@H](Cc1ccc(O)cc1)C(N)=O',\n",
       " 'CC(=O)N[C@@H](Cc1ccc(O)cc1)C(=O)N[C@@H](Cc1c[nH]cn1)C(N)=O',\n",
       " 'CC(=O)N[C@@H](Cc1ccc(O)cc1)C(=O)N[C@@H](Cc1ccc(O)cc1)C(=O)N[C@@H](CCC(=O)O)C(N)=O',\n",
       " 'CC(=O)N[C@@H](Cc1ccc(O)cc1)C(=O)N[C@@H](Cc1ccc(O)cc1)C(=O)N[C@@H](CCC(N)=O)C(N)=O',\n",
       " 'CC(=O)N[C@@H](Cc1ccc(O)cc1)C(=O)N[C@@H](Cc1ccc(O)cc1)C(N)=O',\n",
       " 'CC(=O)N[C@@H](Cc1ccc(O)cc1)C(=O)N[C@H](C(N)=O)[C@@H](C)O',\n",
       " 'CC(=O)N[C@@H](Cc1ccccc1)C(=O)N[C@@H](CC(N)=O)C(N)=O',\n",
       " 'CC(=O)N[C@@H](Cc1ccccc1)C(=O)N[C@@H](CCC(N)=O)C(N)=O',\n",
       " 'CC(=O)N[C@@H](Cc1ccccc1)C(=O)N[C@@H](CO)C(N)=O',\n",
       " 'CC(=O)N[C@@H](Cc1ccccc1)C(=O)N[C@@H](CS)C(N)=O',\n",
       " 'CC(=O)N[C@@H](Cc1ccccc1)C(=O)N[C@@H](Cc1c[nH]c2ccccc12)C(N)=O',\n",
       " 'CC(=O)N[C@@H](Cc1ccccc1)C(=O)N[C@@H](Cc1c[nH]cn1)C(N)=O',\n",
       " 'CC(=O)N[C@@H](Cc1ccccc1)C(=O)N[C@@H](Cc1ccc(O)cc1)C(N)=O',\n",
       " 'CC(=O)N[C@@H](Cc1ccccc1)C(=O)N[C@@H](Cc1ccccc1)C(N)=O',\n",
       " 'CC(=O)N[C@@H](Cc1ccccc1)C(=O)N[C@H](C(N)=O)[C@@H](C)O',\n",
       " 'CC(=O)N[C@H](C(=O)N[C@@H](CC(N)=O)C(N)=O)C(C)C',\n",
       " 'CC(=O)N[C@H](C(=O)N[C@@H](CC(N)=O)C(N)=O)[C@@H](C)O',\n",
       " 'CC(=O)N[C@H](C(=O)N[C@@H](CCC(N)=O)C(N)=O)C(C)C',\n",
       " 'CC(=O)N[C@H](C(=O)N[C@@H](CCC(N)=O)C(N)=O)[C@@H](C)O',\n",
       " 'CC(=O)N[C@H](C(=O)N[C@@H](CO)C(N)=O)C(C)C',\n",
       " 'CC(=O)N[C@H](C(=O)N[C@@H](CS)C(N)=O)C(C)C',\n",
       " 'CC(=O)N[C@H](C(=O)N[C@@H](CS)C(N)=O)[C@@H](C)O',\n",
       " 'CC(=O)N[C@H](C(=O)N[C@@H](Cc1c[nH]c2ccccc12)C(N)=O)C(C)C',\n",
       " 'CC(=O)N[C@H](C(=O)N[C@@H](Cc1c[nH]cn1)C(N)=O)C(C)C',\n",
       " 'CC(=O)N[C@H](C(=O)N[C@@H](Cc1ccc(O)cc1)C(N)=O)C(C)C',\n",
       " 'CC(=O)N[C@H](C(=O)N[C@@H](Cc1ccccc1)C(N)=O)C(C)C',\n",
       " 'CC(=O)N[C@H](C(=O)N[C@H](C(N)=O)C(C)C)C(C)C',\n",
       " 'CC(=O)N[C@H](C(=O)N[C@H](C(N)=O)[C@@H](C)O)C(C)C',\n",
       " 'CC(=O)N[C@H](C(=O)N[C@H](C(N)=O)[C@@H](C)O)[C@@H](C)O',\n",
       " 'CC[C@H](C)[C@H](NC(=O)CNC(C)=O)C(N)=O',\n",
       " 'CC[C@H](C)[C@H](NC(=O)[C@@H](NC(C)=O)[C@@H](C)CC)C(N)=O',\n",
       " 'CC[C@H](C)[C@H](NC(=O)[C@H](C)NC(C)=O)C(N)=O',\n",
       " 'CC[C@H](C)[C@H](NC(=O)[C@H](CC(=O)[O-])NC(C)=O)C(N)=O',\n",
       " 'CC[C@H](C)[C@H](NC(=O)[C@H](CCC(=O)[O-])NC(C)=O)C(N)=O',\n",
       " 'CC[C@H](C)[C@H](NC(=O)[C@H](CCCC[NH3+])NC(C)=O)C(N)=O',\n",
       " 'CC[C@H](C)[C@H](NC(=O)[C@H](CCCNC(N)=[NH2+])NC(C)=O)C(N)=O',\n",
       " 'CC[C@H](C)[C@H](NC(C)=O)C(=O)N1CCC[C@H]1C(N)=O',\n",
       " 'CC[C@H](C)[C@H](NC(C)=O)C(=O)N[C@@H](CC(C)C)C(N)=O',\n",
       " 'CC[C@H](C)[C@H](NC(C)=O)C(=O)N[C@@H](CC(N)=O)C(N)=O',\n",
       " 'CC[C@H](C)[C@H](NC(C)=O)C(=O)N[C@@H](CCC(N)=O)C(N)=O',\n",
       " 'CC[C@H](C)[C@H](NC(C)=O)C(=O)N[C@@H](CCSC)C(N)=O',\n",
       " 'CC[C@H](C)[C@H](NC(C)=O)C(=O)N[C@@H](CO)C(N)=O',\n",
       " 'CC[C@H](C)[C@H](NC(C)=O)C(=O)N[C@@H](CS)C(N)=O',\n",
       " 'CC[C@H](C)[C@H](NC(C)=O)C(=O)N[C@@H](Cc1c[nH]c2ccccc12)C(N)=O',\n",
       " 'CC[C@H](C)[C@H](NC(C)=O)C(=O)N[C@@H](Cc1c[nH]cn1)C(N)=O',\n",
       " 'CC[C@H](C)[C@H](NC(C)=O)C(=O)N[C@@H](Cc1ccc(O)cc1)C(N)=O',\n",
       " 'CC[C@H](C)[C@H](NC(C)=O)C(=O)N[C@@H](Cc1ccccc1)C(N)=O',\n",
       " 'CC[C@H](C)[C@H](NC(C)=O)C(=O)N[C@H](C(N)=O)C(C)C',\n",
       " 'CC[C@H](C)[C@H](NC(C)=O)C(=O)N[C@H](C(N)=O)[C@@H](C)O',\n",
       " 'CSCC[C@H](NC(=O)CNC(C)=O)C(N)=O',\n",
       " 'CSCC[C@H](NC(=O)[C@@H](NC(C)=O)C(C)C)C(N)=O',\n",
       " 'CSCC[C@H](NC(=O)[C@@H](NC(C)=O)[C@@H](C)O)C(N)=O',\n",
       " 'CSCC[C@H](NC(=O)[C@@H]1CCCN1C(C)=O)C(=O)N[C@@H](Cc1c[nH]cn1)C(N)=O',\n",
       " 'CSCC[C@H](NC(=O)[C@@H]1CCCN1C(C)=O)C(=O)N[C@@H](Cc1ccc(O)cc1)C(N)=O',\n",
       " 'CSCC[C@H](NC(=O)[C@@H]1CCCN1C(C)=O)C(N)=O',\n",
       " 'CSCC[C@H](NC(=O)[C@H](C)NC(C)=O)C(N)=O',\n",
       " 'CSCC[C@H](NC(=O)[C@H](CC(=O)[O-])NC(C)=O)C(N)=O',\n",
       " 'CSCC[C@H](NC(=O)[C@H](CC(C)C)NC(=O)[C@H](CC(C)C)NC(C)=O)C(N)=O',\n",
       " 'CSCC[C@H](NC(=O)[C@H](CC(C)C)NC(C)=O)C(=O)N[C@@H](CCC(=O)O)C(N)=O',\n",
       " 'CSCC[C@H](NC(=O)[C@H](CC(C)C)NC(C)=O)C(N)=O',\n",
       " 'CSCC[C@H](NC(=O)[C@H](CC(N)=O)NC(C)=O)C(N)=O',\n",
       " 'CSCC[C@H](NC(=O)[C@H](CCC(=O)O)NC(=O)[C@H](CCSC)NC(C)=O)C(N)=O',\n",
       " 'CSCC[C@H](NC(=O)[C@H](CCC(=O)O)NC(=O)[C@H](Cc1c[nH]c2ccccc12)NC(C)=O)C(N)=O',\n",
       " 'CSCC[C@H](NC(=O)[C@H](CCC(=O)[O-])NC(C)=O)C(N)=O',\n",
       " 'CSCC[C@H](NC(=O)[C@H](CCC(N)=O)NC(=O)[C@H](Cc1c[nH]c2ccccc12)NC(C)=O)C(N)=O',\n",
       " 'CSCC[C@H](NC(=O)[C@H](CCC(N)=O)NC(C)=O)C(N)=O',\n",
       " 'CSCC[C@H](NC(=O)[C@H](CCCC[NH3+])NC(C)=O)C(N)=O',\n",
       " 'CSCC[C@H](NC(=O)[C@H](CCCNC(N)=[NH2+])NC(C)=O)C(N)=O',\n",
       " 'CSCC[C@H](NC(=O)[C@H](CCSC)NC(=O)[C@H](CCC(N)=O)NC(C)=O)C(N)=O',\n",
       " 'CSCC[C@H](NC(=O)[C@H](CCSC)NC(C)=O)C(N)=O',\n",
       " 'CSCC[C@H](NC(=O)[C@H](CO)NC(C)=O)C(N)=O',\n",
       " 'CSCC[C@H](NC(=O)[C@H](CS)NC(C)=O)C(N)=O',\n",
       " 'CSCC[C@H](NC(=O)[C@H](Cc1c[nH]c2ccccc12)NC(C)=O)C(=O)N[C@@H](Cc1c[nH]c2ccccc12)C(N)=O',\n",
       " 'CSCC[C@H](NC(=O)[C@H](Cc1c[nH]c2ccccc12)NC(C)=O)C(N)=O',\n",
       " 'CSCC[C@H](NC(=O)[C@H](Cc1c[nH]cn1)NC(C)=O)C(=O)N[C@@H](CCC(=O)O)C(N)=O',\n",
       " 'CSCC[C@H](NC(=O)[C@H](Cc1c[nH]cn1)NC(C)=O)C(N)=O',\n",
       " 'CSCC[C@H](NC(=O)[C@H](Cc1ccc(O)cc1)NC(=O)[C@H](CCC(N)=O)NC(C)=O)C(N)=O',\n",
       " 'CSCC[C@H](NC(=O)[C@H](Cc1ccc(O)cc1)NC(C)=O)C(=O)N[C@@H](CCC(=O)O)C(N)=O',\n",
       " 'CSCC[C@H](NC(=O)[C@H](Cc1ccc(O)cc1)NC(C)=O)C(N)=O',\n",
       " 'CSCC[C@H](NC(=O)[C@H](Cc1ccccc1)NC(C)=O)C(N)=O',\n",
       " 'CSCC[C@H](NC(C)=O)C(=O)N1CCC[C@H]1C(=O)N[C@@H](CCC(=O)O)C(N)=O',\n",
       " 'CSCC[C@H](NC(C)=O)C(=O)N[C@@H](CC(C)C)C(=O)N[C@@H](Cc1c[nH]cn1)C(N)=O']"
      ]
     },
     "execution_count": 5,
     "metadata": {},
     "output_type": "execute_result"
    }
   ],
   "source": [
    "groups"
   ]
  },
  {
   "cell_type": "code",
   "execution_count": 6,
   "id": "bb105c31-23ee-4920-bc46-3750a1d5d9d6",
   "metadata": {},
   "outputs": [
    {
     "data": {
      "text/plain": [
       "<KeysViewHDF5 ['atomic_numbers', 'conformations', 'smiles', 'subset', 'total_energy', 'total_gradient']>"
      ]
     },
     "execution_count": 6,
     "metadata": {},
     "output_type": "execute_result"
    }
   ],
   "source": [
    "data[groups[0]].keys()"
   ]
  },
  {
   "cell_type": "code",
   "execution_count": 7,
   "id": "7132cb08-a28b-48b6-9f05-5662fc45aa08",
   "metadata": {},
   "outputs": [
    {
     "data": {
      "text/plain": [
       "<HDF5 dataset \"atomic_numbers\": shape (37,), type \"<i2\">"
      ]
     },
     "execution_count": 7,
     "metadata": {},
     "output_type": "execute_result"
    }
   ],
   "source": [
    "data[groups[0]]['atomic_numbers']"
   ]
  },
  {
   "cell_type": "code",
   "execution_count": 8,
   "id": "5b106cf0-15f3-4ab6-bfed-9d4cb7b5cac4",
   "metadata": {},
   "outputs": [
    {
     "data": {
      "text/plain": [
       "<HDF5 dataset \"conformations\": shape (86, 37, 3), type \"<f4\">"
      ]
     },
     "execution_count": 8,
     "metadata": {},
     "output_type": "execute_result"
    }
   ],
   "source": [
    "data[groups[0]]['conformations']"
   ]
  },
  {
   "cell_type": "code",
   "execution_count": 9,
   "id": "3152533b-64e2-4954-801e-5c905b80be48",
   "metadata": {},
   "outputs": [
    {
     "data": {
      "text/plain": [
       "<HDF5 dataset \"smiles\": shape (1,), type \"|O\">"
      ]
     },
     "execution_count": 9,
     "metadata": {},
     "output_type": "execute_result"
    }
   ],
   "source": [
    "data[groups[0]]['smiles']"
   ]
  },
  {
   "cell_type": "code",
   "execution_count": 10,
   "id": "2bb948c0-46b2-49cc-94d7-4447a22b799f",
   "metadata": {},
   "outputs": [
    {
     "data": {
      "text/plain": [
       "<HDF5 dataset \"subset\": shape (1,), type \"|O\">"
      ]
     },
     "execution_count": 10,
     "metadata": {},
     "output_type": "execute_result"
    }
   ],
   "source": [
    "data[groups[0]]['subset']"
   ]
  },
  {
   "cell_type": "code",
   "execution_count": 11,
   "id": "9b21957b-3437-480a-960c-f64f608dc24b",
   "metadata": {},
   "outputs": [
    {
     "data": {
      "text/plain": [
       "<HDF5 dataset \"total_energy\": shape (86,), type \"<f8\">"
      ]
     },
     "execution_count": 11,
     "metadata": {},
     "output_type": "execute_result"
    }
   ],
   "source": [
    "data[groups[0]]['total_energy']"
   ]
  },
  {
   "cell_type": "code",
   "execution_count": 12,
   "id": "443785ff-a419-4a9b-8aa2-6f308ad94c28",
   "metadata": {},
   "outputs": [
    {
     "data": {
      "text/plain": [
       "<HDF5 dataset \"total_gradient\": shape (86, 37, 3), type \"<f4\">"
      ]
     },
     "execution_count": 12,
     "metadata": {},
     "output_type": "execute_result"
    }
   ],
   "source": [
    "data[groups[0]]['total_gradient']"
   ]
  },
  {
   "cell_type": "markdown",
   "id": "deabbe06-fceb-4f4f-9117-064df5deaca9",
   "metadata": {},
   "source": [
    "### Grab unique group names and corresponding hdf5 file"
   ]
  },
  {
   "cell_type": "code",
   "execution_count": 13,
   "id": "2ea6b0b5-c410-46c2-a037-012163edbaab",
   "metadata": {},
   "outputs": [],
   "source": [
    "data = []\n",
    "for file in files:\n",
    "    f = h5py.File(file)\n",
    "    for group in f.keys():\n",
    "        data.append([group, file])\n",
    "    f.close()"
   ]
  },
  {
   "cell_type": "code",
   "execution_count": 14,
   "id": "b97f85ea-a840-463e-b93c-d168e6669b7e",
   "metadata": {},
   "outputs": [
    {
     "data": {
      "text/plain": [
       "571"
      ]
     },
     "execution_count": 14,
     "metadata": {},
     "output_type": "execute_result"
    }
   ],
   "source": [
    "len(data)"
   ]
  },
  {
   "cell_type": "code",
   "execution_count": 15,
   "id": "cf8187fa-187e-4b20-bd72-863acbfb6198",
   "metadata": {},
   "outputs": [],
   "source": [
    "import pandas as pd\n",
    "df = pd.DataFrame(data, columns=[\"GROUP\", \"FILENAME\"])"
   ]
  },
  {
   "cell_type": "code",
   "execution_count": 16,
   "id": "52d18def-102b-4341-8306-8995bee1b847",
   "metadata": {},
   "outputs": [
    {
     "data": {
      "text/html": [
       "<div>\n",
       "<style scoped>\n",
       "    .dataframe tbody tr th:only-of-type {\n",
       "        vertical-align: middle;\n",
       "    }\n",
       "\n",
       "    .dataframe tbody tr th {\n",
       "        vertical-align: top;\n",
       "    }\n",
       "\n",
       "    .dataframe thead th {\n",
       "        text-align: right;\n",
       "    }\n",
       "</style>\n",
       "<table border=\"1\" class=\"dataframe\">\n",
       "  <thead>\n",
       "    <tr style=\"text-align: right;\">\n",
       "      <th></th>\n",
       "      <th>GROUP</th>\n",
       "      <th>FILENAME</th>\n",
       "    </tr>\n",
       "  </thead>\n",
       "  <tbody>\n",
       "    <tr>\n",
       "      <th>0</th>\n",
       "      <td>CC(=O)N1CCC[C@H]1C(=O)N1CCC[C@H]1C(N)=O</td>\n",
       "      <td>OpenFF-PEPCONF-OptimizationDataset-part1.hdf5</td>\n",
       "    </tr>\n",
       "    <tr>\n",
       "      <th>1</th>\n",
       "      <td>CC(=O)N1CCC[C@H]1C(=O)N[C@@H](CC(C)C)C(=O)N[C@...</td>\n",
       "      <td>OpenFF-PEPCONF-OptimizationDataset-part1.hdf5</td>\n",
       "    </tr>\n",
       "    <tr>\n",
       "      <th>2</th>\n",
       "      <td>CC(=O)N1CCC[C@H]1C(=O)N[C@@H](CC(N)=O)C(N)=O</td>\n",
       "      <td>OpenFF-PEPCONF-OptimizationDataset-part1.hdf5</td>\n",
       "    </tr>\n",
       "    <tr>\n",
       "      <th>3</th>\n",
       "      <td>CC(=O)N1CCC[C@H]1C(=O)N[C@@H](CCC(N)=O)C(=O)N[...</td>\n",
       "      <td>OpenFF-PEPCONF-OptimizationDataset-part1.hdf5</td>\n",
       "    </tr>\n",
       "    <tr>\n",
       "      <th>4</th>\n",
       "      <td>CC(=O)N1CCC[C@H]1C(=O)N[C@@H](CCC(N)=O)C(N)=O</td>\n",
       "      <td>OpenFF-PEPCONF-OptimizationDataset-part1.hdf5</td>\n",
       "    </tr>\n",
       "    <tr>\n",
       "      <th>...</th>\n",
       "      <td>...</td>\n",
       "      <td>...</td>\n",
       "    </tr>\n",
       "    <tr>\n",
       "      <th>566</th>\n",
       "      <td>O=C1NCC(=O)N2CCC[C@H]2C(=O)NCC(=O)N2CCC[C@@H]12</td>\n",
       "      <td>OpenFF-PEPCONF-OptimizationDataset-part4.hdf5</td>\n",
       "    </tr>\n",
       "    <tr>\n",
       "      <th>567</th>\n",
       "      <td>O=C1NCC(=O)N2CCC[C@H]2C(=O)NCC(=O)N2CCC[C@H]2C...</td>\n",
       "      <td>OpenFF-PEPCONF-OptimizationDataset-part4.hdf5</td>\n",
       "    </tr>\n",
       "    <tr>\n",
       "      <th>568</th>\n",
       "      <td>O=C1[C@@H]2CCCN2C(=O)[C@H]2CCCN2C(=O)[C@H]2CCC...</td>\n",
       "      <td>OpenFF-PEPCONF-OptimizationDataset-part4.hdf5</td>\n",
       "    </tr>\n",
       "    <tr>\n",
       "      <th>569</th>\n",
       "      <td>O=C1[C@@H]2CCCN2C(=O)[C@H]2CCCN2C(=O)[C@H]2CCC...</td>\n",
       "      <td>OpenFF-PEPCONF-OptimizationDataset-part4.hdf5</td>\n",
       "    </tr>\n",
       "    <tr>\n",
       "      <th>570</th>\n",
       "      <td>O=C1[C@H]2CCCN2C(=O)[C@@H]2CCCN2C(=O)[C@H]2CCC...</td>\n",
       "      <td>OpenFF-PEPCONF-OptimizationDataset-part4.hdf5</td>\n",
       "    </tr>\n",
       "  </tbody>\n",
       "</table>\n",
       "<p>571 rows × 2 columns</p>\n",
       "</div>"
      ],
      "text/plain": [
       "                                                 GROUP  \\\n",
       "0              CC(=O)N1CCC[C@H]1C(=O)N1CCC[C@H]1C(N)=O   \n",
       "1    CC(=O)N1CCC[C@H]1C(=O)N[C@@H](CC(C)C)C(=O)N[C@...   \n",
       "2         CC(=O)N1CCC[C@H]1C(=O)N[C@@H](CC(N)=O)C(N)=O   \n",
       "3    CC(=O)N1CCC[C@H]1C(=O)N[C@@H](CCC(N)=O)C(=O)N[...   \n",
       "4        CC(=O)N1CCC[C@H]1C(=O)N[C@@H](CCC(N)=O)C(N)=O   \n",
       "..                                                 ...   \n",
       "566    O=C1NCC(=O)N2CCC[C@H]2C(=O)NCC(=O)N2CCC[C@@H]12   \n",
       "567  O=C1NCC(=O)N2CCC[C@H]2C(=O)NCC(=O)N2CCC[C@H]2C...   \n",
       "568  O=C1[C@@H]2CCCN2C(=O)[C@H]2CCCN2C(=O)[C@H]2CCC...   \n",
       "569  O=C1[C@@H]2CCCN2C(=O)[C@H]2CCCN2C(=O)[C@H]2CCC...   \n",
       "570  O=C1[C@H]2CCCN2C(=O)[C@@H]2CCCN2C(=O)[C@H]2CCC...   \n",
       "\n",
       "                                          FILENAME  \n",
       "0    OpenFF-PEPCONF-OptimizationDataset-part1.hdf5  \n",
       "1    OpenFF-PEPCONF-OptimizationDataset-part1.hdf5  \n",
       "2    OpenFF-PEPCONF-OptimizationDataset-part1.hdf5  \n",
       "3    OpenFF-PEPCONF-OptimizationDataset-part1.hdf5  \n",
       "4    OpenFF-PEPCONF-OptimizationDataset-part1.hdf5  \n",
       "..                                             ...  \n",
       "566  OpenFF-PEPCONF-OptimizationDataset-part4.hdf5  \n",
       "567  OpenFF-PEPCONF-OptimizationDataset-part4.hdf5  \n",
       "568  OpenFF-PEPCONF-OptimizationDataset-part4.hdf5  \n",
       "569  OpenFF-PEPCONF-OptimizationDataset-part4.hdf5  \n",
       "570  OpenFF-PEPCONF-OptimizationDataset-part4.hdf5  \n",
       "\n",
       "[571 rows x 2 columns]"
      ]
     },
     "execution_count": 16,
     "metadata": {},
     "output_type": "execute_result"
    }
   ],
   "source": [
    "df"
   ]
  },
  {
   "cell_type": "code",
   "execution_count": 17,
   "id": "7aa08e05-d98c-4d87-9f8f-54f1aafcc6d2",
   "metadata": {},
   "outputs": [
    {
     "data": {
      "text/plain": [
       "568"
      ]
     },
     "execution_count": 17,
     "metadata": {},
     "output_type": "execute_result"
    }
   ],
   "source": [
    "# this should be 568\n",
    "\n",
    "len(df['GROUP'].unique())"
   ]
  },
  {
   "cell_type": "code",
   "execution_count": 18,
   "id": "40a46bbd-9a97-40db-96d1-9e0eab641364",
   "metadata": {},
   "outputs": [
    {
     "data": {
      "text/plain": [
       "568"
      ]
     },
     "execution_count": 18,
     "metadata": {},
     "output_type": "execute_result"
    }
   ],
   "source": [
    "_df = df['GROUP'].unique()\n",
    "groups = _df.tolist()\n",
    "len(groups)"
   ]
  },
  {
   "cell_type": "code",
   "execution_count": 19,
   "id": "fd8aa391-0fe9-445d-83d1-54563f1ffc90",
   "metadata": {},
   "outputs": [
    {
     "data": {
      "text/html": [
       "<div>\n",
       "<style scoped>\n",
       "    .dataframe tbody tr th:only-of-type {\n",
       "        vertical-align: middle;\n",
       "    }\n",
       "\n",
       "    .dataframe tbody tr th {\n",
       "        vertical-align: top;\n",
       "    }\n",
       "\n",
       "    .dataframe thead th {\n",
       "        text-align: right;\n",
       "    }\n",
       "</style>\n",
       "<table border=\"1\" class=\"dataframe\">\n",
       "  <thead>\n",
       "    <tr style=\"text-align: right;\">\n",
       "      <th></th>\n",
       "      <th>GROUP</th>\n",
       "      <th>FILENAME</th>\n",
       "    </tr>\n",
       "  </thead>\n",
       "  <tbody>\n",
       "    <tr>\n",
       "      <th>0</th>\n",
       "      <td>CC(=O)N1CCC[C@H]1C(=O)N1CCC[C@H]1C(N)=O</td>\n",
       "      <td>OpenFF-PEPCONF-OptimizationDataset-part1.hdf5</td>\n",
       "    </tr>\n",
       "  </tbody>\n",
       "</table>\n",
       "</div>"
      ],
      "text/plain": [
       "                                     GROUP  \\\n",
       "0  CC(=O)N1CCC[C@H]1C(=O)N1CCC[C@H]1C(N)=O   \n",
       "\n",
       "                                        FILENAME  \n",
       "0  OpenFF-PEPCONF-OptimizationDataset-part1.hdf5  "
      ]
     },
     "execution_count": 19,
     "metadata": {},
     "output_type": "execute_result"
    }
   ],
   "source": [
    "df[df['GROUP'] == groups[0]]"
   ]
  },
  {
   "cell_type": "code",
   "execution_count": 20,
   "id": "c8d28a11-e06f-4012-979a-52436ae0d9cb",
   "metadata": {},
   "outputs": [
    {
     "data": {
      "text/plain": [
       "'OpenFF-PEPCONF-OptimizationDataset-part1.hdf5'"
      ]
     },
     "execution_count": 20,
     "metadata": {},
     "output_type": "execute_result"
    }
   ],
   "source": [
    "df[df['GROUP'] == groups[0]]['FILENAME'][0]"
   ]
  },
  {
   "cell_type": "markdown",
   "id": "167defe4-5f04-4cfe-a18b-19660541a84e",
   "metadata": {},
   "source": [
    "check if a group of with the same molecule is saved in a different hdf5 file"
   ]
  },
  {
   "cell_type": "code",
   "execution_count": 21,
   "id": "5b78d211-a35a-41e5-ad8b-d244a01678e1",
   "metadata": {
    "tags": []
   },
   "outputs": [
    {
     "name": "stdout",
     "output_type": "stream",
     "text": [
      "CSCC[C@H](NC(=O)[C@H](Cc1c[nH]c2ccccc12)NC(C)=O)C(=O)N[C@@H](Cc1c[nH]c2ccccc12)C(N)=O 2\n",
      "CSCC[C@H](NC(=O)[C@H](CC(C)C)NC(=O)[C@H](CCSC)NC(C)=O)C(N)=O 2\n",
      "CC(=O)N1CCC[C@H]1C(=O)N[C@@H](Cc1ccc(O)cc1)C(=O)N[C@@H](Cc1c[nH]c2ccccc12)C(N)=O 2\n"
     ]
    }
   ],
   "source": [
    "# check\n",
    "for group in groups:    \n",
    "    filenames = df[df['GROUP'] == group]['FILENAME'].tolist()\n",
    "    #print(key, len(filenames))    \n",
    "    if len(filenames) != 1:\n",
    "        print(group, len(filenames))    "
   ]
  },
  {
   "cell_type": "raw",
   "id": "6030f86e-0b0b-4737-88a0-211c39bcbdfa",
   "metadata": {},
   "source": [
    "group = \"CSCC[C@H](NC(=O)[C@H](CCC(N)=O)NC(=O)[C@H](Cc1c[nH]c2ccccc12)NC(C)=O)C(N)=O\"\n",
    "files = df[df['GROUP'] == group]['FILENAME'].tolist()\n",
    "\n",
    "xyz = []\n",
    "qvars1 = []\n",
    "qvars2 = []\n",
    "for file in files:\n",
    "    f = h5py.File(file)\n",
    "    data = f[group]\n",
    "    subset = data['subset']\n",
    "    smiles = data['smiles']\n",
    "    atomic_numbers = data['atomic_numbers']\n",
    "    xyz.append(data['conformations'])\n",
    "    qvars1.append(data['total_energy'])\n",
    "    qvars2.append(data['total_gradient'])\n",
    "    #f.close()"
   ]
  },
  {
   "cell_type": "raw",
   "id": "43343202-03b4-4ae0-a288-065c2a994464",
   "metadata": {},
   "source": [
    "subset[0]"
   ]
  },
  {
   "cell_type": "raw",
   "id": "85ca1acf-64ca-4685-9a11-bf19cf0a7c96",
   "metadata": {},
   "source": [
    "smiles[0]"
   ]
  },
  {
   "cell_type": "raw",
   "id": "a6b22770-dd76-4f39-b74c-17c9bec89754",
   "metadata": {
    "tags": []
   },
   "source": [
    "a = [ a for a in atomic_numbers ]\n",
    "a"
   ]
  },
  {
   "cell_type": "raw",
   "id": "df6af8f6-2f0c-4d6b-b90d-cfd6117c5e5c",
   "metadata": {},
   "source": [
    "len(a)"
   ]
  },
  {
   "cell_type": "raw",
   "id": "27119421-2e13-4de5-893b-b04695999794",
   "metadata": {
    "tags": []
   },
   "source": [
    "for _xyz in xyz:\n",
    "    print(_xyz)"
   ]
  },
  {
   "cell_type": "raw",
   "id": "a3644928-1308-40ea-a61b-3afee7b43a0c",
   "metadata": {
    "tags": []
   },
   "source": [
    "for _ in _xyz:\n",
    "    print(_)"
   ]
  },
  {
   "cell_type": "raw",
   "id": "d8a04192-942d-45b1-b00e-e743b5090337",
   "metadata": {},
   "source": [
    "_.shape"
   ]
  },
  {
   "cell_type": "markdown",
   "id": "ce126c43-2c75-4c02-a51a-f8f63dd08d52",
   "metadata": {},
   "source": [
    "### merge hdf5 files"
   ]
  },
  {
   "cell_type": "code",
   "execution_count": 22,
   "id": "b7924294-da3a-4eb8-8e12-b76bd0956516",
   "metadata": {},
   "outputs": [],
   "source": [
    "outputfile = h5py.File('PEPCONF-OPTIMIZATION-DATASET-OPENFF-DEFAULT.hdf5', 'w')"
   ]
  },
  {
   "cell_type": "code",
   "execution_count": 23,
   "id": "58f5ee98-b9f5-4d8a-b6d4-2e66626861b2",
   "metadata": {
    "scrolled": true,
    "tags": []
   },
   "outputs": [],
   "source": [
    "# Add the data to the HDF5 file.\n",
    "for name in groups:    \n",
    "    group = outputfile.create_group(name)\n",
    "    \n",
    "    files = df[df['GROUP'] == name]['FILENAME'].tolist()\n",
    "    xyz = []\n",
    "    qvars1 = []\n",
    "    qvars2 = []\n",
    "    for file in files:\n",
    "        f = h5py.File(file)\n",
    "        data = f[name]\n",
    "        subset = data['subset']\n",
    "        smiles = data['smiles']\n",
    "        atomic_numbers = data['atomic_numbers']\n",
    "        xyz.append(data['conformations'])\n",
    "        qvars1.append(data['total_energy'])\n",
    "        qvars2.append(data['total_gradient'])\n",
    "        #f.close()\n",
    "    \n",
    "    group.create_dataset('subset', data=[subset[0].decode('utf-8')], dtype=h5py.string_dtype())\n",
    "    group.create_dataset('smiles', data=[smiles[0].decode('utf-8')], dtype=h5py.string_dtype())\n",
    "    a = [ a for a in atomic_numbers ]\n",
    "    group.create_dataset(\"atomic_numbers\", data=a, dtype=np.int16)\n",
    "\n",
    "    # conformations\n",
    "    confs = []\n",
    "    for _xyz in xyz:\n",
    "        for _ in _xyz:\n",
    "            confs.append(_)\n",
    "    ds = group.create_dataset('conformations', data=np.array(confs), dtype=np.float32)\n",
    "    ds.attrs['units'] = 'bohr'\n",
    "\n",
    "    # total energy\n",
    "    e = []\n",
    "    for qvar in qvars1:\n",
    "        for _ in qvar:\n",
    "            e.append(_)\n",
    "    ds = group.create_dataset('total_energy', data=np.array(e), dtype=np.float64)\n",
    "    ds.attrs['units'] = 'hartee'\n",
    "\n",
    "    # total gradient\n",
    "    e = []\n",
    "    for qvar in qvars2:\n",
    "        for _ in qvar:\n",
    "            e.append(_)\n",
    "    ds = group.create_dataset('total_gradient', data=np.array(e), dtype=np.float32)\n",
    "    ds.attrs['units'] = 'hartee/bohr'"
   ]
  },
  {
   "cell_type": "markdown",
   "id": "bf18216a-6c15-40b4-aebc-62df6210c989",
   "metadata": {},
   "source": [
    "### Load new hdf5"
   ]
  },
  {
   "cell_type": "code",
   "execution_count": 24,
   "id": "cbc37f41-cb88-41c0-920b-e9daacd562ac",
   "metadata": {},
   "outputs": [],
   "source": [
    "f = h5py.File('PEPCONF-OPTIMIZATION-DATASET-OPENFF-DEFAULT.hdf5')"
   ]
  },
  {
   "cell_type": "code",
   "execution_count": 25,
   "id": "d23004af-5b75-49fd-a475-b49b241bf117",
   "metadata": {},
   "outputs": [
    {
     "data": {
      "text/plain": [
       "568"
      ]
     },
     "execution_count": 25,
     "metadata": {},
     "output_type": "execute_result"
    }
   ],
   "source": [
    "len(f.keys())"
   ]
  },
  {
   "cell_type": "code",
   "execution_count": 26,
   "id": "f4b34549-24e4-430d-874e-fbf538949a59",
   "metadata": {},
   "outputs": [],
   "source": [
    "groups = [ key for key in f.keys() ]"
   ]
  },
  {
   "cell_type": "code",
   "execution_count": 27,
   "id": "60f2ca4f-6cf1-43fe-96c6-7d1e48829992",
   "metadata": {
    "scrolled": true,
    "tags": []
   },
   "outputs": [
    {
     "data": {
      "text/plain": [
       "['CC(=O)N1CCC[C@H]1C(=O)N1CCC[C@H]1C(=O)N1CCC[C@H]1C(N)=O',\n",
       " 'CC(=O)N1CCC[C@H]1C(=O)N1CCC[C@H]1C(=O)N[C@@H](CCC(=O)O)C(N)=O',\n",
       " 'CC(=O)N1CCC[C@H]1C(=O)N1CCC[C@H]1C(=O)N[C@@H](CCC(N)=O)C(N)=O',\n",
       " 'CC(=O)N1CCC[C@H]1C(=O)N1CCC[C@H]1C(=O)N[C@@H](Cc1c[nH]c2ccccc12)C(N)=O',\n",
       " 'CC(=O)N1CCC[C@H]1C(=O)N1CCC[C@H]1C(=O)N[C@@H](Cc1c[nH]cn1)C(N)=O',\n",
       " 'CC(=O)N1CCC[C@H]1C(=O)N1CCC[C@H]1C(=O)N[C@@H](Cc1ccc(O)cc1)C(N)=O',\n",
       " 'CC(=O)N1CCC[C@H]1C(=O)N1CCC[C@H]1C(N)=O',\n",
       " 'CC(=O)N1CCC[C@H]1C(=O)N[C@@H](CC(C)C)C(=O)N1CCC[C@H]1C(N)=O',\n",
       " 'CC(=O)N1CCC[C@H]1C(=O)N[C@@H](CC(C)C)C(=O)N[C@@H](CCC(=O)O)C(N)=O',\n",
       " 'CC(=O)N1CCC[C@H]1C(=O)N[C@@H](CC(C)C)C(=O)N[C@@H](CCC(N)=O)C(N)=O',\n",
       " 'CC(=O)N1CCC[C@H]1C(=O)N[C@@H](CC(C)C)C(=O)N[C@@H](Cc1c[nH]c2ccccc12)C(N)=O',\n",
       " 'CC(=O)N1CCC[C@H]1C(=O)N[C@@H](CC(C)C)C(=O)N[C@@H](Cc1c[nH]cn1)C(N)=O',\n",
       " 'CC(=O)N1CCC[C@H]1C(=O)N[C@@H](CC(C)C)C(=O)N[C@@H](Cc1ccc(O)cc1)C(N)=O',\n",
       " 'CC(=O)N1CCC[C@H]1C(=O)N[C@@H](CC(N)=O)C(N)=O',\n",
       " 'CC(=O)N1CCC[C@H]1C(=O)N[C@@H](CCC(=O)O)C(=O)N1CCC[C@H]1C(N)=O',\n",
       " 'CC(=O)N1CCC[C@H]1C(=O)N[C@@H](CCC(=O)O)C(=O)N[C@@H](CCC(=O)O)C(N)=O',\n",
       " 'CC(=O)N1CCC[C@H]1C(=O)N[C@@H](CCC(=O)O)C(=O)N[C@@H](CCC(N)=O)C(N)=O',\n",
       " 'CC(=O)N1CCC[C@H]1C(=O)N[C@@H](CCC(=O)O)C(=O)N[C@@H](Cc1c[nH]c2ccccc12)C(N)=O',\n",
       " 'CC(=O)N1CCC[C@H]1C(=O)N[C@@H](CCC(=O)O)C(=O)N[C@@H](Cc1c[nH]cn1)C(N)=O',\n",
       " 'CC(=O)N1CCC[C@H]1C(=O)N[C@@H](CCC(=O)O)C(=O)N[C@@H](Cc1ccc(O)cc1)C(N)=O',\n",
       " 'CC(=O)N1CCC[C@H]1C(=O)N[C@@H](CCC(N)=O)C(=O)N1CCC[C@H]1C(N)=O',\n",
       " 'CC(=O)N1CCC[C@H]1C(=O)N[C@@H](CCC(N)=O)C(=O)N[C@@H](CCC(=O)O)C(N)=O',\n",
       " 'CC(=O)N1CCC[C@H]1C(=O)N[C@@H](CCC(N)=O)C(=O)N[C@@H](CCC(N)=O)C(N)=O',\n",
       " 'CC(=O)N1CCC[C@H]1C(=O)N[C@@H](CCC(N)=O)C(=O)N[C@@H](Cc1c[nH]c2ccccc12)C(N)=O',\n",
       " 'CC(=O)N1CCC[C@H]1C(=O)N[C@@H](CCC(N)=O)C(=O)N[C@@H](Cc1c[nH]cn1)C(N)=O',\n",
       " 'CC(=O)N1CCC[C@H]1C(=O)N[C@@H](CCC(N)=O)C(=O)N[C@@H](Cc1ccc(O)cc1)C(N)=O',\n",
       " 'CC(=O)N1CCC[C@H]1C(=O)N[C@@H](CCC(N)=O)C(N)=O',\n",
       " 'CC(=O)N1CCC[C@H]1C(=O)N[C@@H](CO)C(N)=O',\n",
       " 'CC(=O)N1CCC[C@H]1C(=O)N[C@@H](CS)C(N)=O',\n",
       " 'CC(=O)N1CCC[C@H]1C(=O)N[C@@H](Cc1c[nH]c2ccccc12)C(=O)N1CCC[C@H]1C(N)=O',\n",
       " 'CC(=O)N1CCC[C@H]1C(=O)N[C@@H](Cc1c[nH]c2ccccc12)C(=O)N[C@@H](CCC(=O)O)C(N)=O',\n",
       " 'CC(=O)N1CCC[C@H]1C(=O)N[C@@H](Cc1c[nH]c2ccccc12)C(=O)N[C@@H](CCC(N)=O)C(N)=O',\n",
       " 'CC(=O)N1CCC[C@H]1C(=O)N[C@@H](Cc1c[nH]c2ccccc12)C(=O)N[C@@H](Cc1c[nH]c2ccccc12)C(N)=O',\n",
       " 'CC(=O)N1CCC[C@H]1C(=O)N[C@@H](Cc1c[nH]c2ccccc12)C(=O)N[C@@H](Cc1c[nH]cn1)C(N)=O',\n",
       " 'CC(=O)N1CCC[C@H]1C(=O)N[C@@H](Cc1c[nH]c2ccccc12)C(=O)N[C@@H](Cc1ccc(O)cc1)C(N)=O',\n",
       " 'CC(=O)N1CCC[C@H]1C(=O)N[C@@H](Cc1c[nH]c2ccccc12)C(N)=O',\n",
       " 'CC(=O)N1CCC[C@H]1C(=O)N[C@@H](Cc1c[nH]cn1)C(=O)N1CCC[C@H]1C(N)=O',\n",
       " 'CC(=O)N1CCC[C@H]1C(=O)N[C@@H](Cc1c[nH]cn1)C(=O)N[C@@H](CCC(=O)O)C(N)=O',\n",
       " 'CC(=O)N1CCC[C@H]1C(=O)N[C@@H](Cc1c[nH]cn1)C(=O)N[C@@H](CCC(N)=O)C(N)=O',\n",
       " 'CC(=O)N1CCC[C@H]1C(=O)N[C@@H](Cc1c[nH]cn1)C(=O)N[C@@H](Cc1c[nH]c2ccccc12)C(N)=O',\n",
       " 'CC(=O)N1CCC[C@H]1C(=O)N[C@@H](Cc1c[nH]cn1)C(=O)N[C@@H](Cc1c[nH]cn1)C(N)=O',\n",
       " 'CC(=O)N1CCC[C@H]1C(=O)N[C@@H](Cc1c[nH]cn1)C(=O)N[C@@H](Cc1ccc(O)cc1)C(N)=O',\n",
       " 'CC(=O)N1CCC[C@H]1C(=O)N[C@@H](Cc1c[nH]cn1)C(N)=O',\n",
       " 'CC(=O)N1CCC[C@H]1C(=O)N[C@@H](Cc1ccc(O)cc1)C(=O)N1CCC[C@H]1C(N)=O',\n",
       " 'CC(=O)N1CCC[C@H]1C(=O)N[C@@H](Cc1ccc(O)cc1)C(=O)N[C@@H](CCC(=O)O)C(N)=O',\n",
       " 'CC(=O)N1CCC[C@H]1C(=O)N[C@@H](Cc1ccc(O)cc1)C(=O)N[C@@H](CCC(N)=O)C(N)=O',\n",
       " 'CC(=O)N1CCC[C@H]1C(=O)N[C@@H](Cc1ccc(O)cc1)C(=O)N[C@@H](Cc1c[nH]c2ccccc12)C(N)=O',\n",
       " 'CC(=O)N1CCC[C@H]1C(=O)N[C@@H](Cc1ccc(O)cc1)C(=O)N[C@@H](Cc1c[nH]cn1)C(N)=O',\n",
       " 'CC(=O)N1CCC[C@H]1C(=O)N[C@@H](Cc1ccc(O)cc1)C(=O)N[C@@H](Cc1ccc(O)cc1)C(N)=O',\n",
       " 'CC(=O)N1CCC[C@H]1C(=O)N[C@@H](Cc1ccc(O)cc1)C(N)=O',\n",
       " 'CC(=O)N1CCC[C@H]1C(=O)N[C@@H](Cc1ccccc1)C(N)=O',\n",
       " 'CC(=O)N1CCC[C@H]1C(=O)N[C@H](C(N)=O)C(C)C',\n",
       " 'CC(=O)N1CCC[C@H]1C(=O)N[C@H](C(N)=O)[C@@H](C)O',\n",
       " 'CC(=O)NCC(=O)N1CCC[C@H]1C(=O)N1CCC[C@H]1C(=O)NCC(=O)N1CCC[C@H]1C(=O)N1CCC[C@H]1C(N)=O',\n",
       " 'CC(=O)NCC(=O)N1CCC[C@H]1C(N)=O',\n",
       " 'CC(=O)NCC(=O)NCC(N)=O',\n",
       " 'CC(=O)NCC(=O)N[C@@H](C)C(=O)NCC(=O)N[C@@H](C)C(=O)NCC(=O)N[C@@H](C)C(=O)NCC(=O)N[C@@H](C)C(N)=O',\n",
       " 'CC(=O)NCC(=O)N[C@@H](CC(C)C)C(=O)N[C@@H](CSSC[C@H](NC(C)=O)C(=O)NCC(=O)N[C@H](C(N)=O)[C@@H](C)O)C(N)=O',\n",
       " 'CC(=O)NCC(=O)N[C@@H](CC(C)C)C(N)=O',\n",
       " 'CC(=O)NCC(=O)N[C@@H](CCC(N)=O)C(N)=O',\n",
       " 'CC(=O)NCC(=O)N[C@@H](CO)C(N)=O',\n",
       " 'CC(=O)NCC(=O)N[C@@H](CS)C(N)=O',\n",
       " 'CC(=O)NCC(=O)N[C@@H](CSSC[C@H](NC(=O)[C@@H](NC(C)=O)[C@@H](C)O)C(=O)N[C@H](C(N)=O)C(C)C)C(=O)N[C@H](C(N)=O)[C@@H](C)O',\n",
       " 'CC(=O)NCC(=O)N[C@@H](CSSC[C@H](NC(=O)[C@H](C)NC(C)=O)C(=O)N[C@@H](CC(=O)[O-])C(N)=O)C(=O)N[C@@H](CCC(N)=O)C(N)=O',\n",
       " 'CC(=O)NCC(=O)N[C@@H](CSSC[C@H](NC(=O)[C@H](CC(C)C)NC(C)=O)C(=O)NCC(N)=O)C(=O)N[C@@H](CCC(N)=O)C(N)=O',\n",
       " 'CC(=O)NCC(=O)N[C@@H](CSSC[C@H](NC(=O)[C@H](CC(C)C)NC(C)=O)C(=O)N[C@@H](CC(C)C)C(N)=O)C(=O)NCC(N)=O',\n",
       " 'CC(=O)NCC(=O)N[C@@H](CSSC[C@H](NC(=O)[C@H](CC(N)=O)NC(C)=O)C(=O)N[C@@H](Cc1ccc(O)cc1)C(N)=O)C(=O)N[C@@H](C)C(N)=O',\n",
       " 'CC(=O)NCC(=O)N[C@@H](CSSC[C@H](NC(=O)[C@H](Cc1ccc(O)cc1)NC(C)=O)C(=O)N[C@@H](CO)C(N)=O)C(=O)N[C@@H](CO)C(N)=O',\n",
       " 'CC(=O)NCC(=O)N[C@@H](Cc1c[nH]c2ccccc12)C(N)=O',\n",
       " 'CC(=O)NCC(=O)N[C@@H](Cc1ccc(O)cc1)C(N)=O',\n",
       " 'CC(=O)NCC(=O)N[C@@H](Cc1ccccc1)C(N)=O',\n",
       " 'CC(=O)NCC(=O)N[C@H](C(N)=O)C(C)C',\n",
       " 'CC(=O)NCC(=O)N[C@H](C(N)=O)[C@@H](C)O',\n",
       " 'CC(=O)N[C@@H](C)C(=O)N1CCC[C@H]1C(=O)NCC(=O)N[C@@H](CC(C)C)C(N)=O',\n",
       " 'CC(=O)N[C@@H](C)C(=O)N1CCC[C@H]1C(N)=O',\n",
       " 'CC(=O)N[C@@H](C)C(=O)NCC(N)=O',\n",
       " 'CC(=O)N[C@@H](C)C(=O)N[C@@H](C)C(N)=O',\n",
       " 'CC(=O)N[C@@H](C)C(=O)N[C@@H](CC(C)C)C(N)=O',\n",
       " 'CC(=O)N[C@@H](C)C(=O)N[C@@H](CCC(N)=O)C(N)=O',\n",
       " 'CC(=O)N[C@@H](C)C(=O)N[C@@H](CO)C(N)=O',\n",
       " 'CC(=O)N[C@@H](C)C(=O)N[C@@H](CS)C(N)=O',\n",
       " 'CC(=O)N[C@@H](C)C(=O)N[C@@H](CSSC[C@H](NC(=O)[C@H](C)NC(C)=O)C(=O)N[C@@H](C)C(N)=O)C(=O)N[C@@H](C)C(N)=O',\n",
       " 'CC(=O)N[C@@H](C)C(=O)N[C@@H](CSSC[C@H](NC(=O)[C@H](CC(=O)[O-])NC(C)=O)C(=O)N[C@@H](CCCC[NH3+])C(N)=O)C(=O)N[C@@H](CCC(N)=O)C(N)=O',\n",
       " 'CC(=O)N[C@@H](C)C(=O)N[C@@H](CSSC[C@H](NC(=O)[C@H](CC(N)=O)NC(C)=O)C(=O)N[C@@H](Cc1ccc(O)cc1)C(N)=O)C(=O)N[C@@H](CCCNC(N)=[NH2+])C(N)=O',\n",
       " 'CC(=O)N[C@@H](C)C(=O)N[C@@H](CSSC[C@H](NC(=O)[C@H](CCC(N)=O)NC(C)=O)C(=O)NCC(N)=O)C(=O)NCC(N)=O',\n",
       " 'CC(=O)N[C@@H](C)C(=O)N[C@@H](CSSC[C@H](NC(=O)[C@H](CCCC[NH3+])NC(C)=O)C(=O)N[C@@H](C)C(N)=O)C(=O)N[C@H](C(N)=O)C(C)C',\n",
       " 'CC(=O)N[C@@H](C)C(=O)N[C@@H](Cc1c[nH]c2ccccc12)C(N)=O',\n",
       " 'CC(=O)N[C@@H](C)C(=O)N[C@@H](Cc1c[nH]cn1)C(N)=O',\n",
       " 'CC(=O)N[C@@H](C)C(=O)N[C@@H](Cc1ccc(O)cc1)C(N)=O',\n",
       " 'CC(=O)N[C@@H](C)C(=O)N[C@@H](Cc1ccccc1)C(N)=O',\n",
       " 'CC(=O)N[C@@H](C)C(=O)N[C@H](C(N)=O)C(C)C',\n",
       " 'CC(=O)N[C@@H](C)C(=O)N[C@H](C(N)=O)[C@@H](C)O',\n",
       " 'CC(=O)N[C@@H](CC(=O)[O-])C(=O)N1CCC[C@H]1C(N)=O',\n",
       " 'CC(=O)N[C@@H](CC(=O)[O-])C(=O)NCC(=O)N[C@@H](CCC(=O)[O-])C(=O)N[C@@H](C)C(N)=O',\n",
       " 'CC(=O)N[C@@H](CC(=O)[O-])C(=O)NCC(N)=O',\n",
       " 'CC(=O)N[C@@H](CC(=O)[O-])C(=O)N[C@@H](C)C(N)=O',\n",
       " 'CC(=O)N[C@@H](CC(=O)[O-])C(=O)N[C@@H](CC(=O)[O-])C(N)=O',\n",
       " 'CC(=O)N[C@@H](CC(=O)[O-])C(=O)N[C@@H](CC(C)C)C(N)=O',\n",
       " 'CC(=O)N[C@@H](CC(=O)[O-])C(=O)N[C@@H](CC(N)=O)C(N)=O',\n",
       " 'CC(=O)N[C@@H](CC(=O)[O-])C(=O)N[C@@H](CCC(=O)[O-])C(N)=O',\n",
       " 'CC(=O)N[C@@H](CC(=O)[O-])C(=O)N[C@@H](CCC(N)=O)C(N)=O',\n",
       " 'CC(=O)N[C@@H](CC(=O)[O-])C(=O)N[C@@H](CCCC[NH3+])C(N)=O',\n",
       " 'CC(=O)N[C@@H](CC(=O)[O-])C(=O)N[C@@H](CO)C(N)=O',\n",
       " 'CC(=O)N[C@@H](CC(=O)[O-])C(=O)N[C@@H](CS)C(N)=O',\n",
       " 'CC(=O)N[C@@H](CC(=O)[O-])C(=O)N[C@@H](CSSC[C@H](NC(=O)[C@H](CC(=O)[O-])NC(C)=O)C(=O)N[C@@H](CC(C)C)C(N)=O)C(=O)N[C@@H](CC(C)C)C(N)=O',\n",
       " 'CC(=O)N[C@@H](CC(=O)[O-])C(=O)N[C@@H](CSSC[C@H](NC(=O)[C@H](Cc1ccccc1)NC(C)=O)C(=O)N[C@@H](CO)C(N)=O)C(=O)N[C@@H](CCC(N)=O)C(N)=O',\n",
       " 'CC(=O)N[C@@H](CC(=O)[O-])C(=O)N[C@@H](Cc1c[nH]c2ccccc12)C(N)=O',\n",
       " 'CC(=O)N[C@@H](CC(=O)[O-])C(=O)N[C@@H](Cc1c[nH]cn1)C(N)=O',\n",
       " 'CC(=O)N[C@@H](CC(=O)[O-])C(=O)N[C@@H](Cc1ccc(O)cc1)C(N)=O',\n",
       " 'CC(=O)N[C@@H](CC(=O)[O-])C(=O)N[C@@H](Cc1ccccc1)C(N)=O',\n",
       " 'CC(=O)N[C@@H](CC(=O)[O-])C(=O)N[C@H](C(N)=O)C(C)C',\n",
       " 'CC(=O)N[C@@H](CC(=O)[O-])C(=O)N[C@H](C(N)=O)[C@@H](C)O',\n",
       " 'CC(=O)N[C@@H](CC(C)C)C(=O)N1CCC[C@H]1C(=O)N1CCC[C@H]1C(N)=O',\n",
       " 'CC(=O)N[C@@H](CC(C)C)C(=O)N1CCC[C@H]1C(=O)N[C@@H](CC(C)C)C(N)=O',\n",
       " 'CC(=O)N[C@@H](CC(C)C)C(=O)N1CCC[C@H]1C(=O)N[C@@H](CCC(=O)O)C(N)=O',\n",
       " 'CC(=O)N[C@@H](CC(C)C)C(=O)N1CCC[C@H]1C(=O)N[C@@H](CCC(N)=O)C(N)=O',\n",
       " 'CC(=O)N[C@@H](CC(C)C)C(=O)N1CCC[C@H]1C(=O)N[C@@H](Cc1c[nH]c2ccccc12)C(N)=O',\n",
       " 'CC(=O)N[C@@H](CC(C)C)C(=O)N1CCC[C@H]1C(=O)N[C@@H](Cc1c[nH]cn1)C(N)=O',\n",
       " 'CC(=O)N[C@@H](CC(C)C)C(=O)N1CCC[C@H]1C(=O)N[C@@H](Cc1ccc(O)cc1)C(N)=O',\n",
       " 'CC(=O)N[C@@H](CC(C)C)C(=O)N1CCC[C@H]1C(N)=O',\n",
       " 'CC(=O)N[C@@H](CC(C)C)C(=O)N[C@@H](CC(C)C)C(=O)N1CCC[C@H]1C(N)=O',\n",
       " 'CC(=O)N[C@@H](CC(C)C)C(=O)N[C@@H](CC(C)C)C(=O)N[C@@H](CC(C)C)C(N)=O',\n",
       " 'CC(=O)N[C@@H](CC(C)C)C(=O)N[C@@H](CC(C)C)C(=O)N[C@@H](CCC(=O)O)C(N)=O',\n",
       " 'CC(=O)N[C@@H](CC(C)C)C(=O)N[C@@H](CC(C)C)C(=O)N[C@@H](CCC(N)=O)C(N)=O',\n",
       " 'CC(=O)N[C@@H](CC(C)C)C(=O)N[C@@H](CC(C)C)C(=O)N[C@@H](Cc1c[nH]c2ccccc12)C(N)=O',\n",
       " 'CC(=O)N[C@@H](CC(C)C)C(=O)N[C@@H](CC(C)C)C(=O)N[C@@H](Cc1c[nH]cn1)C(N)=O',\n",
       " 'CC(=O)N[C@@H](CC(C)C)C(=O)N[C@@H](CC(C)C)C(=O)N[C@@H](Cc1ccc(O)cc1)C(N)=O',\n",
       " 'CC(=O)N[C@@H](CC(C)C)C(=O)N[C@@H](CC(C)C)C(N)=O',\n",
       " 'CC(=O)N[C@@H](CC(C)C)C(=O)N[C@@H](CC(N)=O)C(N)=O',\n",
       " 'CC(=O)N[C@@H](CC(C)C)C(=O)N[C@@H](CCC(=O)O)C(=O)N1CCC[C@H]1C(N)=O',\n",
       " 'CC(=O)N[C@@H](CC(C)C)C(=O)N[C@@H](CCC(=O)O)C(=O)N[C@@H](CC(C)C)C(N)=O',\n",
       " 'CC(=O)N[C@@H](CC(C)C)C(=O)N[C@@H](CCC(=O)O)C(=O)N[C@@H](CCC(=O)O)C(N)=O',\n",
       " 'CC(=O)N[C@@H](CC(C)C)C(=O)N[C@@H](CCC(=O)O)C(=O)N[C@@H](CCC(N)=O)C(N)=O',\n",
       " 'CC(=O)N[C@@H](CC(C)C)C(=O)N[C@@H](CCC(=O)O)C(=O)N[C@@H](Cc1c[nH]c2ccccc12)C(N)=O',\n",
       " 'CC(=O)N[C@@H](CC(C)C)C(=O)N[C@@H](CCC(=O)O)C(=O)N[C@@H](Cc1c[nH]cn1)C(N)=O',\n",
       " 'CC(=O)N[C@@H](CC(C)C)C(=O)N[C@@H](CCC(=O)O)C(=O)N[C@@H](Cc1ccc(O)cc1)C(N)=O',\n",
       " 'CC(=O)N[C@@H](CC(C)C)C(=O)N[C@@H](CCC(N)=O)C(=O)N1CCC[C@H]1C(N)=O',\n",
       " 'CC(=O)N[C@@H](CC(C)C)C(=O)N[C@@H](CCC(N)=O)C(=O)N[C@@H](CC(C)C)C(N)=O',\n",
       " 'CC(=O)N[C@@H](CC(C)C)C(=O)N[C@@H](CCC(N)=O)C(=O)N[C@@H](CCC(=O)O)C(N)=O',\n",
       " 'CC(=O)N[C@@H](CC(C)C)C(=O)N[C@@H](CCC(N)=O)C(=O)N[C@@H](CCC(N)=O)C(N)=O',\n",
       " 'CC(=O)N[C@@H](CC(C)C)C(=O)N[C@@H](CCC(N)=O)C(=O)N[C@@H](Cc1c[nH]c2ccccc12)C(N)=O',\n",
       " 'CC(=O)N[C@@H](CC(C)C)C(=O)N[C@@H](CCC(N)=O)C(=O)N[C@@H](Cc1c[nH]cn1)C(N)=O',\n",
       " 'CC(=O)N[C@@H](CC(C)C)C(=O)N[C@@H](CCC(N)=O)C(=O)N[C@@H](Cc1ccc(O)cc1)C(N)=O',\n",
       " 'CC(=O)N[C@@H](CC(C)C)C(=O)N[C@@H](CCC(N)=O)C(N)=O',\n",
       " 'CC(=O)N[C@@H](CC(C)C)C(=O)N[C@@H](CO)C(N)=O',\n",
       " 'CC(=O)N[C@@H](CC(C)C)C(=O)N[C@@H](CS)C(N)=O',\n",
       " 'CC(=O)N[C@@H](CC(C)C)C(=O)N[C@@H](Cc1c[nH]c2ccccc12)C(=O)N1CCC[C@H]1C(N)=O',\n",
       " 'CC(=O)N[C@@H](CC(C)C)C(=O)N[C@@H](Cc1c[nH]c2ccccc12)C(=O)N[C@@H](CC(C)C)C(N)=O',\n",
       " 'CC(=O)N[C@@H](CC(C)C)C(=O)N[C@@H](Cc1c[nH]c2ccccc12)C(=O)N[C@@H](CCC(=O)O)C(N)=O',\n",
       " 'CC(=O)N[C@@H](CC(C)C)C(=O)N[C@@H](Cc1c[nH]c2ccccc12)C(=O)N[C@@H](CCC(N)=O)C(N)=O',\n",
       " 'CC(=O)N[C@@H](CC(C)C)C(=O)N[C@@H](Cc1c[nH]c2ccccc12)C(=O)N[C@@H](Cc1c[nH]c2ccccc12)C(N)=O',\n",
       " 'CC(=O)N[C@@H](CC(C)C)C(=O)N[C@@H](Cc1c[nH]c2ccccc12)C(=O)N[C@@H](Cc1c[nH]cn1)C(N)=O',\n",
       " 'CC(=O)N[C@@H](CC(C)C)C(=O)N[C@@H](Cc1c[nH]c2ccccc12)C(=O)N[C@@H](Cc1ccc(O)cc1)C(N)=O',\n",
       " 'CC(=O)N[C@@H](CC(C)C)C(=O)N[C@@H](Cc1c[nH]c2ccccc12)C(N)=O',\n",
       " 'CC(=O)N[C@@H](CC(C)C)C(=O)N[C@@H](Cc1c[nH]cn1)C(=O)N1CCC[C@H]1C(N)=O',\n",
       " 'CC(=O)N[C@@H](CC(C)C)C(=O)N[C@@H](Cc1c[nH]cn1)C(=O)N[C@@H](CC(C)C)C(N)=O',\n",
       " 'CC(=O)N[C@@H](CC(C)C)C(=O)N[C@@H](Cc1c[nH]cn1)C(=O)N[C@@H](CCC(=O)O)C(N)=O',\n",
       " 'CC(=O)N[C@@H](CC(C)C)C(=O)N[C@@H](Cc1c[nH]cn1)C(=O)N[C@@H](CCC(N)=O)C(N)=O',\n",
       " 'CC(=O)N[C@@H](CC(C)C)C(=O)N[C@@H](Cc1c[nH]cn1)C(=O)N[C@@H](Cc1c[nH]c2ccccc12)C(N)=O',\n",
       " 'CC(=O)N[C@@H](CC(C)C)C(=O)N[C@@H](Cc1c[nH]cn1)C(=O)N[C@@H](Cc1c[nH]cn1)C(N)=O',\n",
       " 'CC(=O)N[C@@H](CC(C)C)C(=O)N[C@@H](Cc1c[nH]cn1)C(=O)N[C@@H](Cc1ccc(O)cc1)C(N)=O',\n",
       " 'CC(=O)N[C@@H](CC(C)C)C(=O)N[C@@H](Cc1c[nH]cn1)C(N)=O',\n",
       " 'CC(=O)N[C@@H](CC(C)C)C(=O)N[C@@H](Cc1ccc(O)cc1)C(=O)N1CCC[C@H]1C(N)=O',\n",
       " 'CC(=O)N[C@@H](CC(C)C)C(=O)N[C@@H](Cc1ccc(O)cc1)C(=O)N[C@@H](CC(C)C)C(N)=O',\n",
       " 'CC(=O)N[C@@H](CC(C)C)C(=O)N[C@@H](Cc1ccc(O)cc1)C(=O)N[C@@H](CCC(=O)O)C(N)=O',\n",
       " 'CC(=O)N[C@@H](CC(C)C)C(=O)N[C@@H](Cc1ccc(O)cc1)C(=O)N[C@@H](CCC(N)=O)C(N)=O',\n",
       " 'CC(=O)N[C@@H](CC(C)C)C(=O)N[C@@H](Cc1ccc(O)cc1)C(=O)N[C@@H](Cc1c[nH]c2ccccc12)C(N)=O',\n",
       " 'CC(=O)N[C@@H](CC(C)C)C(=O)N[C@@H](Cc1ccc(O)cc1)C(=O)N[C@@H](Cc1c[nH]cn1)C(N)=O',\n",
       " 'CC(=O)N[C@@H](CC(C)C)C(=O)N[C@@H](Cc1ccc(O)cc1)C(=O)N[C@@H](Cc1ccc(O)cc1)C(N)=O',\n",
       " 'CC(=O)N[C@@H](CC(C)C)C(=O)N[C@@H](Cc1ccc(O)cc1)C(N)=O',\n",
       " 'CC(=O)N[C@@H](CC(C)C)C(=O)N[C@@H](Cc1ccccc1)C(N)=O',\n",
       " 'CC(=O)N[C@@H](CC(C)C)C(=O)N[C@H](C(N)=O)C(C)C',\n",
       " 'CC(=O)N[C@@H](CC(C)C)C(=O)N[C@H](C(N)=O)[C@@H](C)O',\n",
       " 'CC(=O)N[C@@H](CC(N)=O)C(=O)N[C@@H](CC(N)=O)C(N)=O',\n",
       " 'CC(=O)N[C@@H](CC(N)=O)C(=O)N[C@@H](CCC(N)=O)C(N)=O',\n",
       " 'CC(=O)N[C@@H](CC(N)=O)C(=O)N[C@@H](CS)C(N)=O',\n",
       " 'CC(=O)N[C@@H](CC(N)=O)C(=O)N[C@@H](CSSC[C@H](NC(=O)[C@@H](NC(C)=O)C(C)C)C(=O)N[C@@H](CCC(N)=O)C(N)=O)C(=O)N1CCC[C@H]1C(N)=O',\n",
       " 'CC(=O)N[C@@H](CC(N)=O)C(=O)N[C@@H](CSSC[C@H](NC(=O)[C@@H](NC(C)=O)[C@@H](C)O)C(=O)N[C@@H](CCC(=O)[O-])C(N)=O)C(=O)N[C@H](C(N)=O)[C@@H](C)O',\n",
       " 'CC(=O)N[C@@H](CCC(=O)O)C(=O)N1CCC[C@H]1C(=O)N[C@@H](CCC(=O)O)C(N)=O',\n",
       " 'CC(=O)N[C@@H](CCC(=O)O)C(=O)N[C@@H](CC(C)C)C(=O)N[C@@H](CCC(=O)O)C(N)=O',\n",
       " 'CC(=O)N[C@@H](CCC(=O)O)C(=O)N[C@@H](CCC(N)=O)C(=O)N[C@@H](CCC(=O)O)C(N)=O',\n",
       " 'CC(=O)N[C@@H](CCC(=O)O)C(=O)N[C@@H](Cc1c[nH]c2ccccc12)C(=O)N[C@@H](CCC(=O)O)C(N)=O',\n",
       " 'CC(=O)N[C@@H](CCC(=O)O)C(=O)N[C@@H](Cc1c[nH]cn1)C(=O)N[C@@H](CCC(=O)O)C(N)=O',\n",
       " 'CC(=O)N[C@@H](CCC(=O)O)C(=O)N[C@@H](Cc1ccc(O)cc1)C(=O)N[C@@H](CCC(=O)O)C(N)=O',\n",
       " 'CC(=O)N[C@@H](CCC(=O)[O-])C(=O)N1CCC[C@H]1C(N)=O',\n",
       " 'CC(=O)N[C@@H](CCC(=O)[O-])C(=O)NCC(N)=O',\n",
       " 'CC(=O)N[C@@H](CCC(=O)[O-])C(=O)N[C@@H](C)C(N)=O',\n",
       " 'CC(=O)N[C@@H](CCC(=O)[O-])C(=O)N[C@@H](CC(C)C)C(N)=O',\n",
       " 'CC(=O)N[C@@H](CCC(=O)[O-])C(=O)N[C@@H](CC(N)=O)C(N)=O',\n",
       " 'CC(=O)N[C@@H](CCC(=O)[O-])C(=O)N[C@@H](CCC(=O)[O-])C(N)=O',\n",
       " 'CC(=O)N[C@@H](CCC(=O)[O-])C(=O)N[C@@H](CCC(N)=O)C(N)=O',\n",
       " 'CC(=O)N[C@@H](CCC(=O)[O-])C(=O)N[C@@H](CCCC[NH3+])C(N)=O',\n",
       " 'CC(=O)N[C@@H](CCC(=O)[O-])C(=O)N[C@@H](CO)C(N)=O',\n",
       " 'CC(=O)N[C@@H](CCC(=O)[O-])C(=O)N[C@@H](CS)C(N)=O',\n",
       " 'CC(=O)N[C@@H](CCC(=O)[O-])C(=O)N[C@@H](CSSC[C@H](NC(=O)[C@H](CCC(=O)[O-])NC(C)=O)C(=O)N[C@@H](CC(N)=O)C(N)=O)C(=O)N[C@@H](CC(N)=O)C(N)=O',\n",
       " 'CC(=O)N[C@@H](CCC(=O)[O-])C(=O)N[C@@H](Cc1c[nH]c2ccccc12)C(N)=O',\n",
       " 'CC(=O)N[C@@H](CCC(=O)[O-])C(=O)N[C@@H](Cc1c[nH]cn1)C(N)=O',\n",
       " 'CC(=O)N[C@@H](CCC(=O)[O-])C(=O)N[C@@H](Cc1ccc(O)cc1)C(N)=O',\n",
       " 'CC(=O)N[C@@H](CCC(=O)[O-])C(=O)N[C@@H](Cc1ccccc1)C(N)=O',\n",
       " 'CC(=O)N[C@@H](CCC(=O)[O-])C(=O)N[C@H](C(N)=O)C(C)C',\n",
       " 'CC(=O)N[C@@H](CCC(N)=O)C(=O)N1CCC[C@H]1C(=O)N[C@@H](CCC(=O)O)C(N)=O',\n",
       " 'CC(=O)N[C@@H](CCC(N)=O)C(=O)N1CCC[C@H]1C(=O)N[C@@H](CCC(N)=O)C(N)=O',\n",
       " 'CC(=O)N[C@@H](CCC(N)=O)C(=O)N1CCC[C@H]1C(=O)N[C@@H](Cc1c[nH]cn1)C(N)=O',\n",
       " 'CC(=O)N[C@@H](CCC(N)=O)C(=O)N[C@@H](CC(C)C)C(=O)N[C@@H](CCC(=O)O)C(N)=O',\n",
       " 'CC(=O)N[C@@H](CCC(N)=O)C(=O)N[C@@H](CC(C)C)C(=O)N[C@@H](CCC(N)=O)C(N)=O',\n",
       " 'CC(=O)N[C@@H](CCC(N)=O)C(=O)N[C@@H](CC(C)C)C(=O)N[C@@H](Cc1c[nH]cn1)C(N)=O',\n",
       " 'CC(=O)N[C@@H](CCC(N)=O)C(=O)N[C@@H](CCC(=O)O)C(=O)N[C@@H](CCC(=O)O)C(N)=O',\n",
       " 'CC(=O)N[C@@H](CCC(N)=O)C(=O)N[C@@H](CCC(=O)O)C(=O)N[C@@H](CCC(N)=O)C(N)=O',\n",
       " 'CC(=O)N[C@@H](CCC(N)=O)C(=O)N[C@@H](CCC(=O)O)C(=O)N[C@@H](Cc1c[nH]cn1)C(N)=O',\n",
       " 'CC(=O)N[C@@H](CCC(N)=O)C(=O)N[C@@H](CCC(N)=O)C(=O)N[C@@H](CCC(=O)O)C(N)=O',\n",
       " 'CC(=O)N[C@@H](CCC(N)=O)C(=O)N[C@@H](CCC(N)=O)C(=O)N[C@@H](Cc1c[nH]cn1)C(N)=O',\n",
       " 'CC(=O)N[C@@H](CCC(N)=O)C(=O)N[C@@H](CCC(N)=O)C(N)=O',\n",
       " 'CC(=O)N[C@@H](CCC(N)=O)C(=O)N[C@@H](CS)C(N)=O',\n",
       " 'CC(=O)N[C@@H](CCC(N)=O)C(=O)N[C@@H](CSSC[C@H](NC(=O)[C@@H]1CCCN1C(C)=O)C(=O)N[C@@H](CCCC[NH3+])C(N)=O)C(=O)N[C@@H](CCCC[NH3+])C(N)=O',\n",
       " 'CC(=O)N[C@@H](CCC(N)=O)C(=O)N[C@@H](Cc1c[nH]c2ccccc12)C(=O)N[C@@H](CCC(=O)O)C(N)=O',\n",
       " 'CC(=O)N[C@@H](CCC(N)=O)C(=O)N[C@@H](Cc1c[nH]c2ccccc12)C(=O)N[C@@H](CCC(N)=O)C(N)=O',\n",
       " 'CC(=O)N[C@@H](CCC(N)=O)C(=O)N[C@@H](Cc1c[nH]c2ccccc12)C(=O)N[C@@H](Cc1c[nH]cn1)C(N)=O',\n",
       " 'CC(=O)N[C@@H](CCC(N)=O)C(=O)N[C@@H](Cc1c[nH]cn1)C(=O)N[C@@H](CCC(=O)O)C(N)=O',\n",
       " 'CC(=O)N[C@@H](CCC(N)=O)C(=O)N[C@@H](Cc1c[nH]cn1)C(=O)N[C@@H](CCC(N)=O)C(N)=O',\n",
       " 'CC(=O)N[C@@H](CCC(N)=O)C(=O)N[C@@H](Cc1c[nH]cn1)C(=O)N[C@@H](Cc1c[nH]cn1)C(N)=O',\n",
       " 'CC(=O)N[C@@H](CCC(N)=O)C(=O)N[C@@H](Cc1ccc(O)cc1)C(=O)N[C@@H](CCC(=O)O)C(N)=O',\n",
       " 'CC(=O)N[C@@H](CCC(N)=O)C(=O)N[C@@H](Cc1ccc(O)cc1)C(=O)N[C@@H](CCC(N)=O)C(N)=O',\n",
       " 'CC(=O)N[C@@H](CCC(N)=O)C(=O)N[C@@H](Cc1ccc(O)cc1)C(=O)N[C@@H](Cc1c[nH]cn1)C(N)=O',\n",
       " 'CC(=O)N[C@@H](CCCC[NH3+])C(=O)NCC(N)=O',\n",
       " 'CC(=O)N[C@@H](CCCC[NH3+])C(=O)N[C@@H](CC(C)C)C(=O)N[C@@H](C)C(=O)N[C@@H](CCCC[NH3+])C(N)=O',\n",
       " 'CC(=O)N[C@@H](CCCC[NH3+])C(=O)N[C@@H](CC(C)C)C(N)=O',\n",
       " 'CC(=O)N[C@@H](CCCC[NH3+])C(=O)N[C@@H](CC(N)=O)C(N)=O',\n",
       " 'CC(=O)N[C@@H](CCCC[NH3+])C(=O)N[C@@H](CCC(N)=O)C(N)=O',\n",
       " 'CC(=O)N[C@@H](CCCC[NH3+])C(=O)N[C@@H](CS)C(N)=O',\n",
       " 'CC(=O)N[C@@H](CCCC[NH3+])C(=O)N[C@@H](CSSC[C@H](NC(=O)[C@H](CCCC[NH3+])NC(C)=O)C(=O)N[C@@H](Cc1ccc(O)cc1)C(N)=O)C(=O)N[C@@H](Cc1ccc(O)cc1)C(N)=O',\n",
       " 'CC(=O)N[C@@H](CCCC[NH3+])C(=O)N[C@@H](Cc1c[nH]c2ccccc12)C(N)=O',\n",
       " 'CC(=O)N[C@@H](CCCC[NH3+])C(=O)N[C@@H](Cc1c[nH]cn1)C(N)=O',\n",
       " 'CC(=O)N[C@@H](CCCC[NH3+])C(=O)N[C@@H](Cc1ccc(O)cc1)C(N)=O',\n",
       " 'CC(=O)N[C@@H](CCCC[NH3+])C(=O)N[C@@H](Cc1ccccc1)C(N)=O',\n",
       " 'CC(=O)N[C@@H](CCCC[NH3+])C(=O)N[C@H](C(N)=O)C(C)C',\n",
       " 'CC(=O)N[C@@H](CCCC[NH3+])C(=O)N[C@H](C(N)=O)[C@@H](C)O',\n",
       " 'CC(=O)N[C@@H](CCCNC(N)=[NH2+])C(=O)N1CCC[C@H]1C(N)=O',\n",
       " 'CC(=O)N[C@@H](CCCNC(N)=[NH2+])C(=O)NCC(N)=O',\n",
       " 'CC(=O)N[C@@H](CCCNC(N)=[NH2+])C(=O)N[C@@H](C)C(N)=O',\n",
       " 'CC(=O)N[C@@H](CCCNC(N)=[NH2+])C(=O)N[C@@H](CC(C)C)C(=O)NCC(=O)N[C@H](C(=O)N[C@@H](Cc1ccc(O)cc1)C(N)=O)C(C)C',\n",
       " 'CC(=O)N[C@@H](CCCNC(N)=[NH2+])C(=O)N[C@@H](CC(N)=O)C(N)=O',\n",
       " 'CC(=O)N[C@@H](CCCNC(N)=[NH2+])C(=O)N[C@@H](CCC(N)=O)C(N)=O',\n",
       " 'CC(=O)N[C@@H](CCCNC(N)=[NH2+])C(=O)N[C@@H](CCCC[NH3+])C(N)=O',\n",
       " 'CC(=O)N[C@@H](CCCNC(N)=[NH2+])C(=O)N[C@@H](CCCNC(N)=[NH2+])C(N)=O',\n",
       " 'CC(=O)N[C@@H](CCCNC(N)=[NH2+])C(=O)N[C@@H](CO)C(N)=O',\n",
       " 'CC(=O)N[C@@H](CCCNC(N)=[NH2+])C(=O)N[C@@H](CSSC[C@H](NC(=O)[C@@H](NC(C)=O)[C@@H](C)O)C(=O)N[C@H](C(N)=O)[C@@H](C)O)C(=O)N[C@@H](CCC(N)=O)C(N)=O',\n",
       " 'CC(=O)N[C@@H](CCCNC(N)=[NH2+])C(=O)N[C@@H](CSSC[C@H](NC(=O)[C@H](CC(C)C)NC(C)=O)C(=O)N[C@@H](Cc1ccccc1)C(N)=O)C(=O)N[C@@H](CO)C(N)=O',\n",
       " 'CC(=O)N[C@@H](CCCNC(N)=[NH2+])C(=O)N[C@@H](CSSC[C@H](NC(=O)[C@H](CCCC[NH3+])NC(C)=O)C(=O)N[C@@H](CC(C)C)C(N)=O)C(=O)N[C@@H](CCC(N)=O)C(N)=O',\n",
       " 'CC(=O)N[C@@H](CCCNC(N)=[NH2+])C(=O)N[C@@H](Cc1c[nH]c2ccccc12)C(N)=O',\n",
       " 'CC(=O)N[C@@H](CCCNC(N)=[NH2+])C(=O)N[C@@H](Cc1c[nH]cn1)C(N)=O',\n",
       " 'CC(=O)N[C@@H](CCCNC(N)=[NH2+])C(=O)N[C@@H](Cc1ccc(O)cc1)C(N)=O',\n",
       " 'CC(=O)N[C@@H](CCCNC(N)=[NH2+])C(=O)N[C@@H](Cc1ccccc1)C(N)=O',\n",
       " 'CC(=O)N[C@@H](CCCNC(N)=[NH2+])C(=O)N[C@H](C(N)=O)C(C)C',\n",
       " 'CC(=O)N[C@@H](CCCNC(N)=[NH2+])C(=O)N[C@H](C(N)=O)[C@@H](C)O',\n",
       " 'CC(=O)N[C@@H](CO)C(=O)N[C@@H](CC(N)=O)C(N)=O',\n",
       " 'CC(=O)N[C@@H](CO)C(=O)N[C@@H](CCC(N)=O)C(N)=O',\n",
       " 'CC(=O)N[C@@H](CO)C(=O)N[C@@H](CO)C(N)=O',\n",
       " 'CC(=O)N[C@@H](CO)C(=O)N[C@@H](CS)C(N)=O',\n",
       " 'CC(=O)N[C@@H](CO)C(=O)N[C@@H](CSSC[C@H](NC(=O)[C@@H](NC(C)=O)C(C)C)C(=O)N[C@@H](CC(N)=O)C(N)=O)C(=O)N[C@@H](Cc1ccccc1)C(N)=O',\n",
       " 'CC(=O)N[C@@H](CO)C(=O)N[C@@H](CSSC[C@H](NC(=O)[C@@H](NC(C)=O)C(C)C)C(=O)N[C@@H](CCCNC(N)=[NH2+])C(N)=O)C(=O)N[C@@H](Cc1ccccc1)C(N)=O',\n",
       " 'CC(=O)N[C@@H](CO)C(=O)N[C@@H](CSSC[C@H](NC(=O)[C@H](CC(N)=O)NC(C)=O)C(=O)N[C@@H](Cc1ccc(O)cc1)C(N)=O)C(=O)N[C@@H](CCCNC(N)=[NH2+])C(N)=O',\n",
       " 'CC(=O)N[C@@H](CO)C(=O)N[C@@H](CSSC[C@H](NC(=O)[C@H](CO)NC(C)=O)C(=O)N[C@@H](C)C(N)=O)C(=O)N[C@@H](C)C(N)=O',\n",
       " 'CC(=O)N[C@@H](CO)C(=O)N[C@@H](CSSC[C@H](NC(=O)[C@H](CO)NC(C)=O)C(=O)N[C@@H](CCC(=O)[O-])C(N)=O)C(=O)N[C@@H](CCC(=O)[O-])C(N)=O',\n",
       " 'CC(=O)N[C@@H](CO)C(=O)N[C@@H](CSSC[C@H](NC(=O)[C@H](CO)NC(C)=O)C(=O)N[C@@H](CS)C(N)=O)C(=O)N[C@@H](CS)C(N)=O',\n",
       " 'CC(=O)N[C@@H](CO)C(=O)N[C@@H](CSSC[C@H](NC(=O)[C@H](CO)NC(C)=O)C(=O)N[C@H](C(N)=O)C(C)C)C(=O)N[C@@H](C)C(N)=O',\n",
       " 'CC(=O)N[C@@H](CO)C(=O)N[C@@H](CSSC[C@H](NC(=O)[C@H](Cc1c[nH]cn1)NC(C)=O)C(=O)N[C@@H](CC(C)C)C(N)=O)C(=O)N[C@@H](Cc1c[nH]cn1)C(N)=O',\n",
       " 'CC(=O)N[C@@H](CO)C(=O)N[C@@H](CSSC[C@H](NC(=O)[C@H](Cc1ccc(O)cc1)NC(C)=O)C(=O)N[C@@H](CC(N)=O)C(N)=O)C(=O)N[C@@H](CCCC[NH3+])C(N)=O',\n",
       " 'CC(=O)N[C@@H](CO)C(=O)N[C@H](C(N)=O)[C@@H](C)O',\n",
       " 'CC(=O)N[C@@H](CS)C(=O)N[C@@H](CC(N)=O)C(=O)NCC(=O)N[C@@H](CCCNC(N)=[NH2+])C(=O)N[C@@H](CS)C(N)=O',\n",
       " 'CC(=O)N[C@@H](CS)C(=O)N[C@@H](CCCNC(N)=[NH2+])C(=O)NCC(=O)N[C@@H](CC(=O)[O-])C(=O)N[C@@H](CCCC[NH3+])C(N)=O',\n",
       " 'CC(=O)N[C@@H](CS)C(=O)N[C@@H](CS)C(N)=O',\n",
       " 'CC(=O)N[C@@H](Cc1c[nH]c2ccccc12)C(=O)N1CCC[C@H]1C(=O)N[C@@H](CCC(=O)O)C(N)=O',\n",
       " 'CC(=O)N[C@@H](Cc1c[nH]c2ccccc12)C(=O)N1CCC[C@H]1C(=O)N[C@@H](CCC(N)=O)C(N)=O',\n",
       " 'CC(=O)N[C@@H](Cc1c[nH]c2ccccc12)C(=O)N1CCC[C@H]1C(=O)N[C@@H](Cc1c[nH]c2ccccc12)C(N)=O',\n",
       " 'CC(=O)N[C@@H](Cc1c[nH]c2ccccc12)C(=O)N1CCC[C@H]1C(=O)N[C@@H](Cc1c[nH]cn1)C(N)=O',\n",
       " 'CC(=O)N[C@@H](Cc1c[nH]c2ccccc12)C(=O)N1CCC[C@H]1C(=O)N[C@@H](Cc1ccc(O)cc1)C(N)=O',\n",
       " 'CC(=O)N[C@@H](Cc1c[nH]c2ccccc12)C(=O)N[C@@H](CC(C)C)C(=O)N[C@@H](CCC(=O)O)C(N)=O',\n",
       " 'CC(=O)N[C@@H](Cc1c[nH]c2ccccc12)C(=O)N[C@@H](CC(C)C)C(=O)N[C@@H](CCC(N)=O)C(N)=O',\n",
       " 'CC(=O)N[C@@H](Cc1c[nH]c2ccccc12)C(=O)N[C@@H](CC(C)C)C(=O)N[C@@H](Cc1c[nH]c2ccccc12)C(N)=O',\n",
       " 'CC(=O)N[C@@H](Cc1c[nH]c2ccccc12)C(=O)N[C@@H](CC(C)C)C(=O)N[C@@H](Cc1c[nH]cn1)C(N)=O',\n",
       " 'CC(=O)N[C@@H](Cc1c[nH]c2ccccc12)C(=O)N[C@@H](CC(C)C)C(=O)N[C@@H](Cc1ccc(O)cc1)C(N)=O',\n",
       " 'CC(=O)N[C@@H](Cc1c[nH]c2ccccc12)C(=O)N[C@@H](CC(N)=O)C(N)=O',\n",
       " 'CC(=O)N[C@@H](Cc1c[nH]c2ccccc12)C(=O)N[C@@H](CCC(=O)O)C(=O)N[C@@H](CCC(=O)O)C(N)=O',\n",
       " 'CC(=O)N[C@@H](Cc1c[nH]c2ccccc12)C(=O)N[C@@H](CCC(=O)O)C(=O)N[C@@H](CCC(N)=O)C(N)=O',\n",
       " 'CC(=O)N[C@@H](Cc1c[nH]c2ccccc12)C(=O)N[C@@H](CCC(=O)O)C(=O)N[C@@H](Cc1c[nH]c2ccccc12)C(N)=O',\n",
       " 'CC(=O)N[C@@H](Cc1c[nH]c2ccccc12)C(=O)N[C@@H](CCC(=O)O)C(=O)N[C@@H](Cc1c[nH]cn1)C(N)=O',\n",
       " 'CC(=O)N[C@@H](Cc1c[nH]c2ccccc12)C(=O)N[C@@H](CCC(=O)O)C(=O)N[C@@H](Cc1ccc(O)cc1)C(N)=O',\n",
       " 'CC(=O)N[C@@H](Cc1c[nH]c2ccccc12)C(=O)N[C@@H](CCC(N)=O)C(=O)N[C@@H](CCC(=O)O)C(N)=O',\n",
       " 'CC(=O)N[C@@H](Cc1c[nH]c2ccccc12)C(=O)N[C@@H](CCC(N)=O)C(=O)N[C@@H](CCC(N)=O)C(N)=O',\n",
       " 'CC(=O)N[C@@H](Cc1c[nH]c2ccccc12)C(=O)N[C@@H](CCC(N)=O)C(=O)N[C@@H](Cc1c[nH]c2ccccc12)C(N)=O',\n",
       " 'CC(=O)N[C@@H](Cc1c[nH]c2ccccc12)C(=O)N[C@@H](CCC(N)=O)C(=O)N[C@@H](Cc1c[nH]cn1)C(N)=O',\n",
       " 'CC(=O)N[C@@H](Cc1c[nH]c2ccccc12)C(=O)N[C@@H](CCC(N)=O)C(=O)N[C@@H](Cc1ccc(O)cc1)C(N)=O',\n",
       " 'CC(=O)N[C@@H](Cc1c[nH]c2ccccc12)C(=O)N[C@@H](CCC(N)=O)C(N)=O',\n",
       " 'CC(=O)N[C@@H](Cc1c[nH]c2ccccc12)C(=O)N[C@@H](CO)C(N)=O',\n",
       " 'CC(=O)N[C@@H](Cc1c[nH]c2ccccc12)C(=O)N[C@@H](CS)C(N)=O',\n",
       " 'CC(=O)N[C@@H](Cc1c[nH]c2ccccc12)C(=O)N[C@@H](Cc1c[nH]c2ccccc12)C(=O)N[C@@H](CCC(=O)O)C(N)=O',\n",
       " 'CC(=O)N[C@@H](Cc1c[nH]c2ccccc12)C(=O)N[C@@H](Cc1c[nH]c2ccccc12)C(=O)N[C@@H](CCC(N)=O)C(N)=O',\n",
       " 'CC(=O)N[C@@H](Cc1c[nH]c2ccccc12)C(=O)N[C@@H](Cc1c[nH]c2ccccc12)C(=O)N[C@@H](Cc1c[nH]c2ccccc12)C(N)=O',\n",
       " 'CC(=O)N[C@@H](Cc1c[nH]c2ccccc12)C(=O)N[C@@H](Cc1c[nH]c2ccccc12)C(=O)N[C@@H](Cc1c[nH]cn1)C(N)=O',\n",
       " 'CC(=O)N[C@@H](Cc1c[nH]c2ccccc12)C(=O)N[C@@H](Cc1c[nH]c2ccccc12)C(=O)N[C@@H](Cc1ccc(O)cc1)C(N)=O',\n",
       " 'CC(=O)N[C@@H](Cc1c[nH]c2ccccc12)C(=O)N[C@@H](Cc1c[nH]c2ccccc12)C(N)=O',\n",
       " 'CC(=O)N[C@@H](Cc1c[nH]c2ccccc12)C(=O)N[C@@H](Cc1c[nH]cn1)C(=O)N[C@@H](CCC(=O)O)C(N)=O',\n",
       " 'CC(=O)N[C@@H](Cc1c[nH]c2ccccc12)C(=O)N[C@@H](Cc1c[nH]cn1)C(=O)N[C@@H](CCC(N)=O)C(N)=O',\n",
       " 'CC(=O)N[C@@H](Cc1c[nH]c2ccccc12)C(=O)N[C@@H](Cc1c[nH]cn1)C(=O)N[C@@H](Cc1c[nH]c2ccccc12)C(N)=O',\n",
       " 'CC(=O)N[C@@H](Cc1c[nH]c2ccccc12)C(=O)N[C@@H](Cc1c[nH]cn1)C(=O)N[C@@H](Cc1c[nH]cn1)C(N)=O',\n",
       " 'CC(=O)N[C@@H](Cc1c[nH]c2ccccc12)C(=O)N[C@@H](Cc1c[nH]cn1)C(=O)N[C@@H](Cc1ccc(O)cc1)C(N)=O',\n",
       " 'CC(=O)N[C@@H](Cc1c[nH]c2ccccc12)C(=O)N[C@@H](Cc1c[nH]cn1)C(N)=O',\n",
       " 'CC(=O)N[C@@H](Cc1c[nH]c2ccccc12)C(=O)N[C@@H](Cc1ccc(O)cc1)C(=O)N[C@@H](CCC(=O)O)C(N)=O',\n",
       " 'CC(=O)N[C@@H](Cc1c[nH]c2ccccc12)C(=O)N[C@@H](Cc1ccc(O)cc1)C(=O)N[C@@H](CCC(N)=O)C(N)=O',\n",
       " 'CC(=O)N[C@@H](Cc1c[nH]c2ccccc12)C(=O)N[C@@H](Cc1ccc(O)cc1)C(=O)N[C@@H](Cc1c[nH]c2ccccc12)C(N)=O',\n",
       " 'CC(=O)N[C@@H](Cc1c[nH]c2ccccc12)C(=O)N[C@@H](Cc1ccc(O)cc1)C(=O)N[C@@H](Cc1c[nH]cn1)C(N)=O',\n",
       " 'CC(=O)N[C@@H](Cc1c[nH]c2ccccc12)C(=O)N[C@@H](Cc1ccc(O)cc1)C(=O)N[C@@H](Cc1ccc(O)cc1)C(N)=O',\n",
       " 'CC(=O)N[C@@H](Cc1c[nH]c2ccccc12)C(=O)N[C@@H](Cc1ccc(O)cc1)C(N)=O',\n",
       " 'CC(=O)N[C@@H](Cc1c[nH]c2ccccc12)C(=O)N[C@H](C(N)=O)[C@@H](C)O',\n",
       " 'CC(=O)N[C@@H](Cc1c[nH]cn1)C(=O)N1CCC[C@H]1C(=O)N[C@@H](CCC(=O)O)C(N)=O',\n",
       " 'CC(=O)N[C@@H](Cc1c[nH]cn1)C(=O)N1CCC[C@H]1C(=O)N[C@@H](Cc1c[nH]cn1)C(N)=O',\n",
       " 'CC(=O)N[C@@H](Cc1c[nH]cn1)C(=O)N[C@@H](CC(C)C)C(=O)N[C@@H](CCC(=O)O)C(N)=O',\n",
       " 'CC(=O)N[C@@H](Cc1c[nH]cn1)C(=O)N[C@@H](CC(C)C)C(=O)N[C@@H](Cc1c[nH]cn1)C(N)=O',\n",
       " 'CC(=O)N[C@@H](Cc1c[nH]cn1)C(=O)N[C@@H](CCC(=O)O)C(=O)N[C@@H](CCC(=O)O)C(N)=O',\n",
       " 'CC(=O)N[C@@H](Cc1c[nH]cn1)C(=O)N[C@@H](CCC(=O)O)C(=O)N[C@@H](Cc1c[nH]cn1)C(N)=O',\n",
       " 'CC(=O)N[C@@H](Cc1c[nH]cn1)C(=O)N[C@@H](CCC(N)=O)C(=O)N[C@@H](CCC(=O)O)C(N)=O',\n",
       " 'CC(=O)N[C@@H](Cc1c[nH]cn1)C(=O)N[C@@H](CCC(N)=O)C(=O)N[C@@H](Cc1c[nH]cn1)C(N)=O',\n",
       " 'CC(=O)N[C@@H](Cc1c[nH]cn1)C(=O)N[C@@H](CCC(N)=O)C(N)=O',\n",
       " 'CC(=O)N[C@@H](Cc1c[nH]cn1)C(=O)N[C@@H](CO)C(N)=O',\n",
       " 'CC(=O)N[C@@H](Cc1c[nH]cn1)C(=O)N[C@@H](CS)C(N)=O',\n",
       " 'CC(=O)N[C@@H](Cc1c[nH]cn1)C(=O)N[C@@H](CSSC[C@H](NC(=O)[C@H](Cc1c[nH]cn1)NC(C)=O)C(=O)N[C@@H](CC(C)C)C(N)=O)C(=O)N[C@@H](CC(C)C)C(N)=O',\n",
       " 'CC(=O)N[C@@H](Cc1c[nH]cn1)C(=O)N[C@@H](Cc1c[nH]c2ccccc12)C(=O)N[C@@H](CCC(=O)O)C(N)=O',\n",
       " 'CC(=O)N[C@@H](Cc1c[nH]cn1)C(=O)N[C@@H](Cc1c[nH]c2ccccc12)C(=O)N[C@@H](Cc1c[nH]cn1)C(N)=O',\n",
       " 'CC(=O)N[C@@H](Cc1c[nH]cn1)C(=O)N[C@@H](Cc1c[nH]cn1)C(=O)N[C@@H](CCC(=O)O)C(N)=O',\n",
       " 'CC(=O)N[C@@H](Cc1c[nH]cn1)C(=O)N[C@@H](Cc1c[nH]cn1)C(=O)N[C@@H](Cc1c[nH]cn1)C(N)=O',\n",
       " 'CC(=O)N[C@@H](Cc1c[nH]cn1)C(=O)N[C@@H](Cc1c[nH]cn1)C(N)=O',\n",
       " 'CC(=O)N[C@@H](Cc1c[nH]cn1)C(=O)N[C@@H](Cc1ccc(O)cc1)C(=O)N[C@@H](CCC(=O)O)C(N)=O',\n",
       " 'CC(=O)N[C@@H](Cc1c[nH]cn1)C(=O)N[C@@H](Cc1ccc(O)cc1)C(=O)N[C@@H](Cc1c[nH]cn1)C(N)=O',\n",
       " 'CC(=O)N[C@@H](Cc1c[nH]cn1)C(=O)N[C@H](C(N)=O)[C@@H](C)O',\n",
       " 'CC(=O)N[C@@H](Cc1c[nH]cn1)C(=O)N[C@H]1CSSC[C@@H](C(=O)N[C@H](C(N)=O)C(C)C)NC(=O)CNC(=O)CNC1=O',\n",
       " 'CC(=O)N[C@@H](Cc1ccc(O)cc1)C(=O)N1CCC[C@H]1C(=O)N[C@@H](CCC(=O)O)C(N)=O',\n",
       " 'CC(=O)N[C@@H](Cc1ccc(O)cc1)C(=O)N1CCC[C@H]1C(=O)N[C@@H](CCC(N)=O)C(N)=O',\n",
       " 'CC(=O)N[C@@H](Cc1ccc(O)cc1)C(=O)N1CCC[C@H]1C(=O)N[C@@H](Cc1c[nH]cn1)C(N)=O',\n",
       " 'CC(=O)N[C@@H](Cc1ccc(O)cc1)C(=O)N1CCC[C@H]1C(=O)N[C@@H](Cc1ccc(O)cc1)C(N)=O',\n",
       " 'CC(=O)N[C@@H](Cc1ccc(O)cc1)C(=O)N1CCC[C@H]1C(=O)N[C@@H](Cc1ccccc1)C(=O)N[C@@H](Cc1ccccc1)C(N)=O',\n",
       " 'CC(=O)N[C@@H](Cc1ccc(O)cc1)C(=O)NCC(=O)NCC(=O)N[C@@H](Cc1ccccc1)C(=O)N[C@@H](CC(C)C)C(N)=O',\n",
       " 'CC(=O)N[C@@H](Cc1ccc(O)cc1)C(=O)N[C@@H](CC(C)C)C(=O)N[C@@H](CCC(=O)O)C(N)=O',\n",
       " 'CC(=O)N[C@@H](Cc1ccc(O)cc1)C(=O)N[C@@H](CC(C)C)C(=O)N[C@@H](CCC(N)=O)C(N)=O',\n",
       " 'CC(=O)N[C@@H](Cc1ccc(O)cc1)C(=O)N[C@@H](CC(C)C)C(=O)N[C@@H](Cc1c[nH]cn1)C(N)=O',\n",
       " 'CC(=O)N[C@@H](Cc1ccc(O)cc1)C(=O)N[C@@H](CC(C)C)C(=O)N[C@@H](Cc1ccc(O)cc1)C(N)=O',\n",
       " 'CC(=O)N[C@@H](Cc1ccc(O)cc1)C(=O)N[C@@H](CC(N)=O)C(N)=O',\n",
       " 'CC(=O)N[C@@H](Cc1ccc(O)cc1)C(=O)N[C@@H](CCC(=O)O)C(=O)N[C@@H](CCC(=O)O)C(N)=O',\n",
       " 'CC(=O)N[C@@H](Cc1ccc(O)cc1)C(=O)N[C@@H](CCC(=O)O)C(=O)N[C@@H](CCC(N)=O)C(N)=O',\n",
       " 'CC(=O)N[C@@H](Cc1ccc(O)cc1)C(=O)N[C@@H](CCC(=O)O)C(=O)N[C@@H](Cc1c[nH]cn1)C(N)=O',\n",
       " 'CC(=O)N[C@@H](Cc1ccc(O)cc1)C(=O)N[C@@H](CCC(=O)O)C(=O)N[C@@H](Cc1ccc(O)cc1)C(N)=O',\n",
       " 'CC(=O)N[C@@H](Cc1ccc(O)cc1)C(=O)N[C@@H](CCC(N)=O)C(=O)N[C@@H](CCC(=O)O)C(N)=O',\n",
       " 'CC(=O)N[C@@H](Cc1ccc(O)cc1)C(=O)N[C@@H](CCC(N)=O)C(=O)N[C@@H](CCC(N)=O)C(N)=O',\n",
       " 'CC(=O)N[C@@H](Cc1ccc(O)cc1)C(=O)N[C@@H](CCC(N)=O)C(=O)N[C@@H](Cc1c[nH]cn1)C(N)=O',\n",
       " 'CC(=O)N[C@@H](Cc1ccc(O)cc1)C(=O)N[C@@H](CCC(N)=O)C(=O)N[C@@H](Cc1ccc(O)cc1)C(N)=O',\n",
       " 'CC(=O)N[C@@H](Cc1ccc(O)cc1)C(=O)N[C@@H](CCC(N)=O)C(N)=O',\n",
       " 'CC(=O)N[C@@H](Cc1ccc(O)cc1)C(=O)N[C@@H](CO)C(N)=O',\n",
       " 'CC(=O)N[C@@H](Cc1ccc(O)cc1)C(=O)N[C@@H](CS)C(N)=O',\n",
       " 'CC(=O)N[C@@H](Cc1ccc(O)cc1)C(=O)N[C@@H](CSSC[C@H](NC(=O)[C@@H](NC(C)=O)[C@@H](C)O)C(=O)N[C@@H](Cc1c[nH]cn1)C(N)=O)C(=O)N[C@@H](Cc1c[nH]cn1)C(N)=O',\n",
       " 'CC(=O)N[C@@H](Cc1ccc(O)cc1)C(=O)N[C@@H](CSSC[C@H](NC(=O)[C@H](CCCC[NH3+])NC(C)=O)C(=O)N[C@H](C(N)=O)C(C)C)C(=O)N[C@@H](C)C(N)=O',\n",
       " 'CC(=O)N[C@@H](Cc1ccc(O)cc1)C(=O)N[C@@H](CSSC[C@H](NC(=O)[C@H](Cc1ccc(O)cc1)NC(C)=O)C(=O)N[C@@H](Cc1c[nH]cn1)C(N)=O)C(=O)N[C@@H](Cc1c[nH]cn1)C(N)=O',\n",
       " 'CC(=O)N[C@@H](Cc1ccc(O)cc1)C(=O)N[C@@H](Cc1c[nH]c2ccccc12)C(=O)N[C@@H](CCC(=O)O)C(N)=O',\n",
       " 'CC(=O)N[C@@H](Cc1ccc(O)cc1)C(=O)N[C@@H](Cc1c[nH]c2ccccc12)C(=O)N[C@@H](CCC(N)=O)C(N)=O',\n",
       " 'CC(=O)N[C@@H](Cc1ccc(O)cc1)C(=O)N[C@@H](Cc1c[nH]c2ccccc12)C(=O)N[C@@H](Cc1c[nH]cn1)C(N)=O',\n",
       " 'CC(=O)N[C@@H](Cc1ccc(O)cc1)C(=O)N[C@@H](Cc1c[nH]c2ccccc12)C(=O)N[C@@H](Cc1ccc(O)cc1)C(N)=O',\n",
       " 'CC(=O)N[C@@H](Cc1ccc(O)cc1)C(=O)N[C@@H](Cc1c[nH]cn1)C(=O)N[C@@H](CCC(=O)O)C(N)=O',\n",
       " 'CC(=O)N[C@@H](Cc1ccc(O)cc1)C(=O)N[C@@H](Cc1c[nH]cn1)C(=O)N[C@@H](CCC(N)=O)C(N)=O',\n",
       " 'CC(=O)N[C@@H](Cc1ccc(O)cc1)C(=O)N[C@@H](Cc1c[nH]cn1)C(=O)N[C@@H](Cc1c[nH]cn1)C(N)=O',\n",
       " 'CC(=O)N[C@@H](Cc1ccc(O)cc1)C(=O)N[C@@H](Cc1c[nH]cn1)C(=O)N[C@@H](Cc1ccc(O)cc1)C(N)=O',\n",
       " 'CC(=O)N[C@@H](Cc1ccc(O)cc1)C(=O)N[C@@H](Cc1c[nH]cn1)C(N)=O',\n",
       " 'CC(=O)N[C@@H](Cc1ccc(O)cc1)C(=O)N[C@@H](Cc1ccc(O)cc1)C(=O)N[C@@H](CCC(=O)O)C(N)=O',\n",
       " 'CC(=O)N[C@@H](Cc1ccc(O)cc1)C(=O)N[C@@H](Cc1ccc(O)cc1)C(=O)N[C@@H](CCC(N)=O)C(N)=O',\n",
       " 'CC(=O)N[C@@H](Cc1ccc(O)cc1)C(=O)N[C@@H](Cc1ccc(O)cc1)C(=O)N[C@@H](Cc1c[nH]cn1)C(N)=O',\n",
       " 'CC(=O)N[C@@H](Cc1ccc(O)cc1)C(=O)N[C@@H](Cc1ccc(O)cc1)C(=O)N[C@@H](Cc1ccc(O)cc1)C(N)=O',\n",
       " 'CC(=O)N[C@@H](Cc1ccc(O)cc1)C(=O)N[C@@H](Cc1ccc(O)cc1)C(N)=O',\n",
       " 'CC(=O)N[C@@H](Cc1ccc(O)cc1)C(=O)N[C@H](C(N)=O)[C@@H](C)O',\n",
       " 'CC(=O)N[C@@H](Cc1ccccc1)C(=O)N[C@@H](CC(N)=O)C(N)=O',\n",
       " 'CC(=O)N[C@@H](Cc1ccccc1)C(=O)N[C@@H](CCC(N)=O)C(N)=O',\n",
       " 'CC(=O)N[C@@H](Cc1ccccc1)C(=O)N[C@@H](CO)C(N)=O',\n",
       " 'CC(=O)N[C@@H](Cc1ccccc1)C(=O)N[C@@H](CS)C(N)=O',\n",
       " 'CC(=O)N[C@@H](Cc1ccccc1)C(=O)N[C@@H](CSSC[C@H](NC(=O)[C@@H](NC(C)=O)[C@@H](C)O)C(=O)N[C@@H](CCC(=O)[O-])C(N)=O)C(=O)N[C@@H](CCC(=O)[O-])C(N)=O',\n",
       " 'CC(=O)N[C@@H](Cc1ccccc1)C(=O)N[C@@H](CSSC[C@H](NC(=O)[C@H](Cc1ccccc1)NC(C)=O)C(=O)NCC(N)=O)C(=O)NCC(N)=O',\n",
       " 'CC(=O)N[C@@H](Cc1ccccc1)C(=O)N[C@@H](Cc1c[nH]c2ccccc12)C(N)=O',\n",
       " 'CC(=O)N[C@@H](Cc1ccccc1)C(=O)N[C@@H](Cc1c[nH]cn1)C(N)=O',\n",
       " 'CC(=O)N[C@@H](Cc1ccccc1)C(=O)N[C@@H](Cc1ccc(O)cc1)C(N)=O',\n",
       " 'CC(=O)N[C@@H](Cc1ccccc1)C(=O)N[C@@H](Cc1ccccc1)C(N)=O',\n",
       " 'CC(=O)N[C@@H](Cc1ccccc1)C(=O)N[C@H](C(N)=O)[C@@H](C)O',\n",
       " 'CC(=O)N[C@@H](Cc1ccccc1)C(=O)N[C@H]1CSSC[C@@H](C(=O)N[C@H](C(N)=O)C(C)C)NC(=O)[C@H](CC(=O)[O-])NC1=O',\n",
       " 'CC(=O)N[C@H](C(=O)N[C@@H](CC(N)=O)C(N)=O)C(C)C',\n",
       " 'CC(=O)N[C@H](C(=O)N[C@@H](CC(N)=O)C(N)=O)[C@@H](C)O',\n",
       " 'CC(=O)N[C@H](C(=O)N[C@@H](CCC(N)=O)C(N)=O)C(C)C',\n",
       " 'CC(=O)N[C@H](C(=O)N[C@@H](CCC(N)=O)C(N)=O)[C@@H](C)O',\n",
       " 'CC(=O)N[C@H](C(=O)N[C@@H](CCCNC(N)=[NH2+])C(=O)N[C@@H](CC(N)=O)C(N)=O)C(C)C',\n",
       " 'CC(=O)N[C@H](C(=O)N[C@@H](CO)C(N)=O)C(C)C',\n",
       " 'CC(=O)N[C@H](C(=O)N[C@@H](CS)C(N)=O)C(C)C',\n",
       " 'CC(=O)N[C@H](C(=O)N[C@@H](CS)C(N)=O)[C@@H](C)O',\n",
       " 'CC(=O)N[C@H](C(=O)N[C@@H](CSSC[C@H](NC(=O)[C@@H](NC(C)=O)C(C)C)C(=O)N[C@@H](CCC(N)=O)C(N)=O)C(=O)N[C@@H](CCC(N)=O)C(N)=O)C(C)C',\n",
       " 'CC(=O)N[C@H](C(=O)N[C@@H](CSSC[C@H](NC(=O)[C@@H](NC(C)=O)C(C)C)C(=O)N[C@H](C(N)=O)[C@@H](C)O)C(=O)N[C@@H](CC(=O)[O-])C(N)=O)C(C)C',\n",
       " 'CC(=O)N[C@H](C(=O)N[C@@H](CSSC[C@H](NC(=O)[C@@H](NC(C)=O)[C@@H](C)O)C(=O)N[C@@H](CC(N)=O)C(N)=O)C(=O)N[C@@H](CO)C(N)=O)[C@@H](C)O',\n",
       " 'CC(=O)N[C@H](C(=O)N[C@@H](Cc1c[nH]c2ccccc12)C(N)=O)C(C)C',\n",
       " 'CC(=O)N[C@H](C(=O)N[C@@H](Cc1c[nH]cn1)C(N)=O)C(C)C',\n",
       " 'CC(=O)N[C@H](C(=O)N[C@@H](Cc1ccc(O)cc1)C(N)=O)C(C)C',\n",
       " 'CC(=O)N[C@H](C(=O)N[C@@H](Cc1ccccc1)C(N)=O)C(C)C',\n",
       " 'CC(=O)N[C@H](C(=O)N[C@H](C(N)=O)C(C)C)C(C)C',\n",
       " 'CC(=O)N[C@H](C(=O)N[C@H](C(N)=O)[C@@H](C)O)C(C)C',\n",
       " 'CC(=O)N[C@H](C(=O)N[C@H](C(N)=O)[C@@H](C)O)[C@@H](C)O',\n",
       " 'CC(C)C[C@@H]1NC(=O)CNC(=O)CNC(=O)[C@H](CC(C)C)NC(=O)CNC(=O)CNC1=O',\n",
       " 'CC(C)C[C@@H]1NC(=O)[C@@H](C(C)C)NC(=O)[C@@H]2CCCN2C(=O)[C@@H](CC(=O)O)NC(=O)[C@@H](Cc2c[nH]c3ccccc23)NC1=O',\n",
       " 'CC(C)C[C@@H]1NC(=O)[C@@H](C)NC(=O)[C@H](C(C)C)NC(=O)[C@H](Cc2ccccc2)N(C)C(=O)[C@@H]2CCCCN2C1=O',\n",
       " 'CC(C)C[C@@H]1NC(=O)[C@@H](Cc2c[nH]c3ccccc23)NC(=O)[C@H](CO)NC(=O)[C@@H]2CCCN2C(=O)[C@@H](CO)NC(=O)CNC(=O)[C@H](C(C)C)NC1=O',\n",
       " 'CC(C)[C@@H]1NC(=O)[C@@H](C)NC(=O)[C@@H]2CCCN2C(=O)[C@H](C(C)C)NC(=O)[C@@H](C)NC(=O)[C@@H]2CCCN2C1=O',\n",
       " 'CC(C)[C@@H]1NC(=O)[C@@H]2CCCN2C(=O)CNC(=O)[C@H](C)NC(=O)[C@H](Cc2ccccc2)NC(=O)[C@H](Cc2ccccc2)NC1=O',\n",
       " 'CC(C)[C@@H]1NC(=O)[C@H](Cc2ccccc2)NC(=O)CNC(=O)[C@@H]2CCCN2C(=O)[C@H](C)NC(=O)[C@H](CO)NC1=O',\n",
       " 'CC(C)[C@@H]1NC(=O)[C@H]2CCCN2C(=O)[C@H](C(C)C)NC(=O)CNC(=O)[C@H](C)NC(=O)[C@H](Cc2c[nH]c3ccccc23)NC1=O',\n",
       " 'CC[C@H](C)[C@@H]1NC(=O)[C@H](CC(C)C)NC(=O)[C@@H]2CCCN2C(=O)[C@@H]([C@@H](C)CC)NC(=O)[C@@H]2CCCN2C(=O)[C@H](CO)NC(=O)[C@H](Cc2ccccc2)NC1=O',\n",
       " 'CC[C@H](C)[C@@H]1NC(=O)[C@H](CC(C)C)NC(=O)[C@H](CC(C)C)NC(=O)[C@H](CC(C)C)NC(=O)[C@H](CC(C)C)NC1=O',\n",
       " 'CC[C@H](C)[C@H](NC(=O)CNC(=O)[C@H](CCC(N)=O)NC(=O)[C@@H]1CCCN1C(=O)CNC(C)=O)C(=O)N[C@@H](C)C(=O)NCC(N)=O',\n",
       " 'CC[C@H](C)[C@H](NC(=O)CNC(C)=O)C(N)=O',\n",
       " 'CC[C@H](C)[C@H](NC(=O)[C@@H](NC(C)=O)[C@@H](C)CC)C(N)=O',\n",
       " 'CC[C@H](C)[C@H](NC(=O)[C@H](C)NC(=O)CNC(=O)[C@H](Cc1ccccc1)NC(=O)[C@H](CC(N)=O)NC(C)=O)C(=O)N[C@@H](CC(C)C)C(N)=O',\n",
       " 'CC[C@H](C)[C@H](NC(=O)[C@H](C)NC(C)=O)C(N)=O',\n",
       " 'CC[C@H](C)[C@H](NC(=O)[C@H](CC(=O)[O-])NC(C)=O)C(N)=O',\n",
       " 'CC[C@H](C)[C@H](NC(=O)[C@H](CCC(=O)[O-])NC(C)=O)C(N)=O',\n",
       " 'CC[C@H](C)[C@H](NC(=O)[C@H](CCCC[NH3+])NC(C)=O)C(N)=O',\n",
       " 'CC[C@H](C)[C@H](NC(=O)[C@H](CCCNC(N)=[NH2+])NC(C)=O)C(N)=O',\n",
       " 'CC[C@H](C)[C@H](NC(=O)[C@H](CSSC[C@H](NC(=O)[C@@H]1CCCN1C(C)=O)C(=O)N[C@H](C(N)=O)[C@@H](C)CC)NC(=O)[C@@H]1CCCN1C(C)=O)C(N)=O',\n",
       " 'CC[C@H](C)[C@H](NC(=O)[C@H](CSSC[C@H](NC(=O)[C@H](CC(C)C)NC(C)=O)C(=O)N[C@H](C(N)=O)C(C)C)NC(=O)[C@H](CC(N)=O)NC(C)=O)C(N)=O',\n",
       " 'CC[C@H](C)[C@H](NC(=O)[C@H](CSSC[C@H](NC(=O)[C@H](CC(N)=O)NC(C)=O)C(=O)N[C@@H](Cc1c[nH]c2ccccc12)C(N)=O)NC(=O)[C@@H](NC(C)=O)[C@@H](C)O)C(N)=O',\n",
       " 'CC[C@H](C)[C@H](NC(=O)[C@H](CSSC[C@H](NC(=O)[C@H](CCCNC(N)=[NH2+])NC(C)=O)C(=O)N[C@@H](Cc1ccccc1)C(N)=O)NC(=O)[C@H](CCCNC(N)=[NH2+])NC(C)=O)C(N)=O',\n",
       " 'CC[C@H](C)[C@H](NC(C)=O)C(=O)N1CCC[C@H]1C(N)=O',\n",
       " 'CC[C@H](C)[C@H](NC(C)=O)C(=O)N[C@@H](CC(C)C)C(N)=O',\n",
       " 'CC[C@H](C)[C@H](NC(C)=O)C(=O)N[C@@H](CC(N)=O)C(N)=O',\n",
       " 'CC[C@H](C)[C@H](NC(C)=O)C(=O)N[C@@H](CCC(N)=O)C(N)=O',\n",
       " 'CC[C@H](C)[C@H](NC(C)=O)C(=O)N[C@@H](CCSC)C(N)=O',\n",
       " 'CC[C@H](C)[C@H](NC(C)=O)C(=O)N[C@@H](CO)C(N)=O',\n",
       " 'CC[C@H](C)[C@H](NC(C)=O)C(=O)N[C@@H](CS)C(N)=O',\n",
       " 'CC[C@H](C)[C@H](NC(C)=O)C(=O)N[C@@H](CSSC[C@H](NC(=O)CNC(C)=O)C(=O)N[C@@H](CCCNC(N)=[NH2+])C(N)=O)C(=O)N[C@@H](CO)C(N)=O',\n",
       " 'CC[C@H](C)[C@H](NC(C)=O)C(=O)N[C@@H](CSSC[C@H](NC(=O)[C@@H](NC(C)=O)[C@@H](C)CC)C(=O)N[C@@H](CC(C)C)C(N)=O)C(=O)N[C@@H](CC(C)C)C(N)=O',\n",
       " 'CC[C@H](C)[C@H](NC(C)=O)C(=O)N[C@@H](CSSC[C@H](NC(=O)[C@H](CCCNC(N)=[NH2+])NC(C)=O)C(=O)N[C@@H](CO)C(N)=O)C(=O)N[C@@H](CC(N)=O)C(N)=O',\n",
       " 'CC[C@H](C)[C@H](NC(C)=O)C(=O)N[C@@H](CSSC[C@H](NC(=O)[C@H](Cc1ccccc1)NC(C)=O)C(=O)NCC(N)=O)C(=O)N1CCC[C@H]1C(N)=O',\n",
       " 'CC[C@H](C)[C@H](NC(C)=O)C(=O)N[C@@H](Cc1c[nH]c2ccccc12)C(N)=O',\n",
       " 'CC[C@H](C)[C@H](NC(C)=O)C(=O)N[C@@H](Cc1c[nH]cn1)C(N)=O',\n",
       " 'CC[C@H](C)[C@H](NC(C)=O)C(=O)N[C@@H](Cc1ccc(O)cc1)C(N)=O',\n",
       " 'CC[C@H](C)[C@H](NC(C)=O)C(=O)N[C@@H](Cc1ccccc1)C(N)=O',\n",
       " 'CC[C@H](C)[C@H](NC(C)=O)C(=O)N[C@H](C(N)=O)C(C)C',\n",
       " 'CC[C@H](C)[C@H](NC(C)=O)C(=O)N[C@H](C(N)=O)[C@@H](C)O',\n",
       " 'CSCC[C@H](NC(=O)CNC(C)=O)C(N)=O',\n",
       " 'CSCC[C@H](NC(=O)[C@@H](NC(C)=O)C(C)C)C(N)=O',\n",
       " 'CSCC[C@H](NC(=O)[C@@H](NC(C)=O)[C@@H](C)O)C(N)=O',\n",
       " 'CSCC[C@H](NC(=O)[C@@H]1CCCN1C(=O)[C@@H]1CCCN1C(C)=O)C(N)=O',\n",
       " 'CSCC[C@H](NC(=O)[C@@H]1CCCN1C(=O)[C@H](CC(C)C)NC(C)=O)C(N)=O',\n",
       " 'CSCC[C@H](NC(=O)[C@@H]1CCCN1C(=O)[C@H](CCC(N)=O)NC(C)=O)C(N)=O',\n",
       " 'CSCC[C@H](NC(=O)[C@@H]1CCCN1C(=O)[C@H](CCSC)NC(C)=O)C(N)=O',\n",
       " 'CSCC[C@H](NC(=O)[C@@H]1CCCN1C(=O)[C@H](Cc1c[nH]c2ccccc12)NC(C)=O)C(N)=O',\n",
       " 'CSCC[C@H](NC(=O)[C@@H]1CCCN1C(=O)[C@H](Cc1ccc(O)cc1)NC(C)=O)C(N)=O',\n",
       " 'CSCC[C@H](NC(=O)[C@@H]1CCCN1C(C)=O)C(=O)N1CCC[C@H]1C(N)=O',\n",
       " 'CSCC[C@H](NC(=O)[C@@H]1CCCN1C(C)=O)C(=O)N[C@@H](CCC(=O)O)C(N)=O',\n",
       " 'CSCC[C@H](NC(=O)[C@@H]1CCCN1C(C)=O)C(=O)N[C@@H](CCC(N)=O)C(N)=O',\n",
       " 'CSCC[C@H](NC(=O)[C@@H]1CCCN1C(C)=O)C(=O)N[C@@H](Cc1c[nH]c2ccccc12)C(N)=O',\n",
       " 'CSCC[C@H](NC(=O)[C@@H]1CCCN1C(C)=O)C(=O)N[C@@H](Cc1c[nH]cn1)C(N)=O',\n",
       " 'CSCC[C@H](NC(=O)[C@@H]1CCCN1C(C)=O)C(=O)N[C@@H](Cc1ccc(O)cc1)C(N)=O',\n",
       " 'CSCC[C@H](NC(=O)[C@@H]1CCCN1C(C)=O)C(N)=O',\n",
       " 'CSCC[C@H](NC(=O)[C@@H]1CSSC[C@H](NC(=O)[C@H](CO)NC(C)=O)C(=O)N[C@@H](CO)C(=O)N1)C(N)=O',\n",
       " 'CSCC[C@H](NC(=O)[C@H](C)NC(C)=O)C(N)=O',\n",
       " 'CSCC[C@H](NC(=O)[C@H](CC(=O)[O-])NC(C)=O)C(N)=O',\n",
       " 'CSCC[C@H](NC(=O)[C@H](CC(C)C)NC(=O)[C@@H]1CCCN1C(C)=O)C(N)=O',\n",
       " 'CSCC[C@H](NC(=O)[C@H](CC(C)C)NC(=O)[C@H](CC(C)C)NC(C)=O)C(N)=O',\n",
       " 'CSCC[C@H](NC(=O)[C@H](CC(C)C)NC(=O)[C@H](CCC(N)=O)NC(C)=O)C(N)=O',\n",
       " 'CSCC[C@H](NC(=O)[C@H](CC(C)C)NC(=O)[C@H](CCSC)NC(C)=O)C(N)=O',\n",
       " 'CSCC[C@H](NC(=O)[C@H](CC(C)C)NC(=O)[C@H](Cc1c[nH]c2ccccc12)NC(C)=O)C(N)=O',\n",
       " 'CSCC[C@H](NC(=O)[C@H](CC(C)C)NC(=O)[C@H](Cc1ccc(O)cc1)NC(C)=O)C(N)=O',\n",
       " 'CSCC[C@H](NC(=O)[C@H](CC(C)C)NC(C)=O)C(=O)N1CCC[C@H]1C(N)=O',\n",
       " 'CSCC[C@H](NC(=O)[C@H](CC(C)C)NC(C)=O)C(=O)N[C@@H](CC(C)C)C(N)=O',\n",
       " 'CSCC[C@H](NC(=O)[C@H](CC(C)C)NC(C)=O)C(=O)N[C@@H](CCC(=O)O)C(N)=O',\n",
       " 'CSCC[C@H](NC(=O)[C@H](CC(C)C)NC(C)=O)C(=O)N[C@@H](CCC(N)=O)C(N)=O',\n",
       " 'CSCC[C@H](NC(=O)[C@H](CC(C)C)NC(C)=O)C(=O)N[C@@H](Cc1c[nH]c2ccccc12)C(N)=O',\n",
       " 'CSCC[C@H](NC(=O)[C@H](CC(C)C)NC(C)=O)C(=O)N[C@@H](Cc1c[nH]cn1)C(N)=O',\n",
       " 'CSCC[C@H](NC(=O)[C@H](CC(C)C)NC(C)=O)C(=O)N[C@@H](Cc1ccc(O)cc1)C(N)=O',\n",
       " 'CSCC[C@H](NC(=O)[C@H](CC(C)C)NC(C)=O)C(N)=O',\n",
       " 'CSCC[C@H](NC(=O)[C@H](CC(N)=O)NC(C)=O)C(N)=O',\n",
       " 'CSCC[C@H](NC(=O)[C@H](CCC(=O)O)NC(=O)[C@@H]1CCCN1C(C)=O)C(N)=O',\n",
       " 'CSCC[C@H](NC(=O)[C@H](CCC(=O)O)NC(=O)[C@H](CC(C)C)NC(C)=O)C(N)=O',\n",
       " 'CSCC[C@H](NC(=O)[C@H](CCC(=O)O)NC(=O)[C@H](CCC(N)=O)NC(C)=O)C(N)=O',\n",
       " 'CSCC[C@H](NC(=O)[C@H](CCC(=O)O)NC(=O)[C@H](CCSC)NC(C)=O)C(N)=O',\n",
       " 'CSCC[C@H](NC(=O)[C@H](CCC(=O)O)NC(=O)[C@H](Cc1c[nH]c2ccccc12)NC(C)=O)C(N)=O',\n",
       " 'CSCC[C@H](NC(=O)[C@H](CCC(=O)O)NC(=O)[C@H](Cc1ccc(O)cc1)NC(C)=O)C(N)=O',\n",
       " 'CSCC[C@H](NC(=O)[C@H](CCC(=O)O)NC(C)=O)C(=O)N[C@@H](CCC(=O)O)C(N)=O',\n",
       " 'CSCC[C@H](NC(=O)[C@H](CCC(=O)[O-])NC(C)=O)C(N)=O',\n",
       " 'CSCC[C@H](NC(=O)[C@H](CCC(N)=O)NC(=O)[C@@H]1CCCN1C(C)=O)C(N)=O',\n",
       " 'CSCC[C@H](NC(=O)[C@H](CCC(N)=O)NC(=O)[C@H](CC(C)C)NC(C)=O)C(N)=O',\n",
       " 'CSCC[C@H](NC(=O)[C@H](CCC(N)=O)NC(=O)[C@H](CCC(N)=O)NC(C)=O)C(N)=O',\n",
       " 'CSCC[C@H](NC(=O)[C@H](CCC(N)=O)NC(=O)[C@H](CCSC)NC(C)=O)C(N)=O',\n",
       " 'CSCC[C@H](NC(=O)[C@H](CCC(N)=O)NC(=O)[C@H](Cc1c[nH]c2ccccc12)NC(C)=O)C(N)=O',\n",
       " 'CSCC[C@H](NC(=O)[C@H](CCC(N)=O)NC(=O)[C@H](Cc1ccc(O)cc1)NC(C)=O)C(N)=O',\n",
       " 'CSCC[C@H](NC(=O)[C@H](CCC(N)=O)NC(C)=O)C(=O)N[C@@H](CCC(=O)O)C(N)=O',\n",
       " 'CSCC[C@H](NC(=O)[C@H](CCC(N)=O)NC(C)=O)C(=O)N[C@@H](CCC(N)=O)C(N)=O',\n",
       " 'CSCC[C@H](NC(=O)[C@H](CCC(N)=O)NC(C)=O)C(=O)N[C@@H](Cc1c[nH]cn1)C(N)=O',\n",
       " 'CSCC[C@H](NC(=O)[C@H](CCC(N)=O)NC(C)=O)C(N)=O',\n",
       " 'CSCC[C@H](NC(=O)[C@H](CCCC[NH3+])NC(C)=O)C(N)=O',\n",
       " 'CSCC[C@H](NC(=O)[C@H](CCCNC(N)=[NH2+])NC(C)=O)C(N)=O',\n",
       " 'CSCC[C@H](NC(=O)[C@H](CCSC)NC(=O)[C@@H]1CCCN1C(C)=O)C(N)=O',\n",
       " 'CSCC[C@H](NC(=O)[C@H](CCSC)NC(=O)[C@H](CC(C)C)NC(C)=O)C(N)=O',\n",
       " 'CSCC[C@H](NC(=O)[C@H](CCSC)NC(=O)[C@H](CCC(N)=O)NC(C)=O)C(N)=O',\n",
       " 'CSCC[C@H](NC(=O)[C@H](CCSC)NC(=O)[C@H](CCSC)NC(C)=O)C(N)=O',\n",
       " 'CSCC[C@H](NC(=O)[C@H](CCSC)NC(=O)[C@H](Cc1c[nH]c2ccccc12)NC(C)=O)C(N)=O',\n",
       " 'CSCC[C@H](NC(=O)[C@H](CCSC)NC(=O)[C@H](Cc1ccc(O)cc1)NC(C)=O)C(N)=O',\n",
       " 'CSCC[C@H](NC(=O)[C@H](CCSC)NC(C)=O)C(N)=O',\n",
       " 'CSCC[C@H](NC(=O)[C@H](CO)NC(C)=O)C(N)=O',\n",
       " 'CSCC[C@H](NC(=O)[C@H](CS)NC(C)=O)C(N)=O',\n",
       " 'CSCC[C@H](NC(=O)[C@H](CSSC[C@H](NC(=O)CNC(C)=O)C(=O)N[C@@H](CCC(N)=O)C(N)=O)NC(=O)[C@@H]1CCCN1C(C)=O)C(N)=O',\n",
       " 'CSCC[C@H](NC(=O)[C@H](Cc1c[nH]c2ccccc12)NC(=O)[C@@H]1CCCN1C(C)=O)C(N)=O',\n",
       " 'CSCC[C@H](NC(=O)[C@H](Cc1c[nH]c2ccccc12)NC(=O)[C@H](CC(C)C)NC(C)=O)C(N)=O',\n",
       " 'CSCC[C@H](NC(=O)[C@H](Cc1c[nH]c2ccccc12)NC(=O)[C@H](CCC(N)=O)NC(C)=O)C(N)=O',\n",
       " 'CSCC[C@H](NC(=O)[C@H](Cc1c[nH]c2ccccc12)NC(=O)[C@H](CCSC)NC(C)=O)C(N)=O',\n",
       " 'CSCC[C@H](NC(=O)[C@H](Cc1c[nH]c2ccccc12)NC(=O)[C@H](Cc1c[nH]c2ccccc12)NC(C)=O)C(N)=O',\n",
       " 'CSCC[C@H](NC(=O)[C@H](Cc1c[nH]c2ccccc12)NC(=O)[C@H](Cc1ccc(O)cc1)NC(C)=O)C(N)=O',\n",
       " 'CSCC[C@H](NC(=O)[C@H](Cc1c[nH]c2ccccc12)NC(C)=O)C(=O)N[C@@H](CCC(=O)O)C(N)=O',\n",
       " 'CSCC[C@H](NC(=O)[C@H](Cc1c[nH]c2ccccc12)NC(C)=O)C(=O)N[C@@H](CCC(N)=O)C(N)=O',\n",
       " 'CSCC[C@H](NC(=O)[C@H](Cc1c[nH]c2ccccc12)NC(C)=O)C(=O)N[C@@H](Cc1c[nH]c2ccccc12)C(N)=O',\n",
       " 'CSCC[C@H](NC(=O)[C@H](Cc1c[nH]c2ccccc12)NC(C)=O)C(=O)N[C@@H](Cc1c[nH]cn1)C(N)=O',\n",
       " 'CSCC[C@H](NC(=O)[C@H](Cc1c[nH]c2ccccc12)NC(C)=O)C(=O)N[C@@H](Cc1ccc(O)cc1)C(N)=O',\n",
       " 'CSCC[C@H](NC(=O)[C@H](Cc1c[nH]c2ccccc12)NC(C)=O)C(N)=O',\n",
       " 'CSCC[C@H](NC(=O)[C@H](Cc1c[nH]cn1)NC(=O)[C@@H]1CCCN1C(C)=O)C(N)=O',\n",
       " 'CSCC[C@H](NC(=O)[C@H](Cc1c[nH]cn1)NC(=O)[C@H](CC(C)C)NC(C)=O)C(N)=O',\n",
       " 'CSCC[C@H](NC(=O)[C@H](Cc1c[nH]cn1)NC(=O)[C@H](CCC(N)=O)NC(C)=O)C(N)=O',\n",
       " 'CSCC[C@H](NC(=O)[C@H](Cc1c[nH]cn1)NC(=O)[C@H](CCSC)NC(C)=O)C(N)=O',\n",
       " 'CSCC[C@H](NC(=O)[C@H](Cc1c[nH]cn1)NC(=O)[C@H](Cc1c[nH]c2ccccc12)NC(C)=O)C(N)=O',\n",
       " 'CSCC[C@H](NC(=O)[C@H](Cc1c[nH]cn1)NC(=O)[C@H](Cc1ccc(O)cc1)NC(C)=O)C(N)=O',\n",
       " 'CSCC[C@H](NC(=O)[C@H](Cc1c[nH]cn1)NC(C)=O)C(=O)N[C@@H](CCC(=O)O)C(N)=O',\n",
       " 'CSCC[C@H](NC(=O)[C@H](Cc1c[nH]cn1)NC(C)=O)C(=O)N[C@@H](Cc1c[nH]cn1)C(N)=O',\n",
       " 'CSCC[C@H](NC(=O)[C@H](Cc1c[nH]cn1)NC(C)=O)C(N)=O',\n",
       " 'CSCC[C@H](NC(=O)[C@H](Cc1ccc(O)cc1)NC(=O)[C@@H]1CCCN1C(C)=O)C(N)=O',\n",
       " 'CSCC[C@H](NC(=O)[C@H](Cc1ccc(O)cc1)NC(=O)[C@H](CC(C)C)NC(C)=O)C(N)=O',\n",
       " 'CSCC[C@H](NC(=O)[C@H](Cc1ccc(O)cc1)NC(=O)[C@H](CCC(N)=O)NC(C)=O)C(N)=O',\n",
       " 'CSCC[C@H](NC(=O)[C@H](Cc1ccc(O)cc1)NC(=O)[C@H](CCSC)NC(C)=O)C(N)=O',\n",
       " 'CSCC[C@H](NC(=O)[C@H](Cc1ccc(O)cc1)NC(=O)[C@H](Cc1c[nH]c2ccccc12)NC(C)=O)C(N)=O',\n",
       " 'CSCC[C@H](NC(=O)[C@H](Cc1ccc(O)cc1)NC(=O)[C@H](Cc1ccc(O)cc1)NC(C)=O)C(N)=O',\n",
       " 'CSCC[C@H](NC(=O)[C@H](Cc1ccc(O)cc1)NC(C)=O)C(=O)N[C@@H](CCC(=O)O)C(N)=O',\n",
       " 'CSCC[C@H](NC(=O)[C@H](Cc1ccc(O)cc1)NC(C)=O)C(=O)N[C@@H](CCC(N)=O)C(N)=O',\n",
       " 'CSCC[C@H](NC(=O)[C@H](Cc1ccc(O)cc1)NC(C)=O)C(=O)N[C@@H](Cc1c[nH]cn1)C(N)=O',\n",
       " 'CSCC[C@H](NC(=O)[C@H](Cc1ccc(O)cc1)NC(C)=O)C(=O)N[C@@H](Cc1ccc(O)cc1)C(N)=O',\n",
       " 'CSCC[C@H](NC(=O)[C@H](Cc1ccc(O)cc1)NC(C)=O)C(N)=O',\n",
       " 'CSCC[C@H](NC(=O)[C@H](Cc1ccccc1)NC(=O)CNC(=O)CNC(=O)[C@H](Cc1ccc(O)cc1)NC(C)=O)C(N)=O',\n",
       " 'CSCC[C@H](NC(=O)[C@H](Cc1ccccc1)NC(C)=O)C(N)=O',\n",
       " 'CSCC[C@H](NC(C)=O)C(=O)N1CCC[C@H]1C(=O)N[C@@H](CCC(=O)O)C(N)=O',\n",
       " 'CSCC[C@H](NC(C)=O)C(=O)N1CCC[C@H]1C(=O)N[C@@H](Cc1c[nH]cn1)C(N)=O',\n",
       " 'CSCC[C@H](NC(C)=O)C(=O)N[C@@H](CC(C)C)C(=O)N[C@@H](CCC(=O)O)C(N)=O',\n",
       " 'CSCC[C@H](NC(C)=O)C(=O)N[C@@H](CC(C)C)C(=O)N[C@@H](Cc1c[nH]cn1)C(N)=O',\n",
       " 'CSCC[C@H](NC(C)=O)C(=O)N[C@@H](CCC(=O)O)C(=O)N[C@@H](CCC(=O)O)C(N)=O',\n",
       " 'CSCC[C@H](NC(C)=O)C(=O)N[C@@H](CCC(=O)O)C(=O)N[C@@H](Cc1c[nH]cn1)C(N)=O',\n",
       " 'CSCC[C@H](NC(C)=O)C(=O)N[C@@H](CCC(N)=O)C(=O)N[C@@H](CCC(=O)O)C(N)=O',\n",
       " 'CSCC[C@H](NC(C)=O)C(=O)N[C@@H](CCC(N)=O)C(=O)N[C@@H](Cc1c[nH]cn1)C(N)=O',\n",
       " 'CSCC[C@H](NC(C)=O)C(=O)N[C@@H](CCSC)C(=O)N[C@@H](CCC(=O)O)C(N)=O',\n",
       " 'CSCC[C@H](NC(C)=O)C(=O)N[C@@H](CCSC)C(=O)N[C@@H](Cc1c[nH]cn1)C(N)=O',\n",
       " 'CSCC[C@H](NC(C)=O)C(=O)N[C@@H](Cc1c[nH]c2ccccc12)C(=O)N[C@@H](CCC(=O)O)C(N)=O',\n",
       " 'CSCC[C@H](NC(C)=O)C(=O)N[C@@H](Cc1c[nH]c2ccccc12)C(=O)N[C@@H](Cc1c[nH]cn1)C(N)=O',\n",
       " 'CSCC[C@H](NC(C)=O)C(=O)N[C@@H](Cc1c[nH]cn1)C(=O)N[C@@H](CCC(=O)O)C(N)=O',\n",
       " 'CSCC[C@H](NC(C)=O)C(=O)N[C@@H](Cc1c[nH]cn1)C(=O)N[C@@H](Cc1c[nH]cn1)C(N)=O',\n",
       " 'CSCC[C@H](NC(C)=O)C(=O)N[C@@H](Cc1ccc(O)cc1)C(=O)N[C@@H](CCC(=O)O)C(N)=O',\n",
       " 'CSCC[C@H](NC(C)=O)C(=O)N[C@@H](Cc1ccc(O)cc1)C(=O)N[C@@H](Cc1c[nH]cn1)C(N)=O',\n",
       " 'C[C@@H]1NC(=O)CNC(=O)[C@H](Cc2ccccc2)NC(=O)[C@@H]2CCCN2C(=O)CNC1=O',\n",
       " 'C[C@@H]1NC(=O)[C@@H](Cc2c[nH]c3ccccc23)NC(=O)[C@H](Cc2ccccc2)NC(=O)[C@H]2CCCN2C1=O',\n",
       " 'O=C(O)CC[C@@H]1NC(=O)[C@@H]2CCCN2C(=O)[C@H](CO)NC(=O)CNC1=O',\n",
       " 'O=C1CNC(=O)[C@@H]2CCCN2C(=O)CNC(=O)CNC(=O)[C@@H]2CCCN2C(=O)CN1',\n",
       " 'O=C1NCC(=O)N2CCC[C@H]2C(=O)NCC(=O)N2CCC[C@@H]12',\n",
       " 'O=C1NCC(=O)N2CCC[C@H]2C(=O)NCC(=O)N2CCC[C@H]2C(=O)NCC(=O)N2CCC[C@@H]12',\n",
       " 'O=C1[C@@H]2CCCN2C(=O)[C@H]2CCCN2C(=O)[C@H]2CCCN2C(=O)[C@@H]2CCCN12',\n",
       " 'O=C1[C@@H]2CCCN2C(=O)[C@H]2CCCN2C(=O)[C@H]2CCCN2C(=O)[C@@H]2CCCN2C(=O)[C@H]2CCCN2C(=O)[C@@H]2CCCN12',\n",
       " 'O=C1[C@H]2CCCN2C(=O)[C@@H]2CCCN2C(=O)[C@H]2CCCN2C(=O)[C@@H]2CCCN12']"
      ]
     },
     "execution_count": 27,
     "metadata": {},
     "output_type": "execute_result"
    }
   ],
   "source": [
    "groups"
   ]
  },
  {
   "cell_type": "code",
   "execution_count": 28,
   "id": "72ee61e7-0a28-46c1-9c68-6529834b005d",
   "metadata": {},
   "outputs": [],
   "source": [
    "#group = \"CSCC[C@H](NC(=O)[C@H](CCC(N)=O)NC(=O)[C@H](Cc1c[nH]c2ccccc12)NC(C)=O)C(N)=O\"\n",
    "#data = f[group]"
   ]
  },
  {
   "cell_type": "code",
   "execution_count": 29,
   "id": "a5107be2-94cd-4170-81cf-b221d2cc8b04",
   "metadata": {},
   "outputs": [
    {
     "data": {
      "text/plain": [
       "<KeysViewHDF5 ['atomic_numbers', 'conformations', 'smiles', 'subset', 'total_energy', 'total_gradient']>"
      ]
     },
     "execution_count": 29,
     "metadata": {},
     "output_type": "execute_result"
    }
   ],
   "source": [
    "f[groups[0]].keys()"
   ]
  },
  {
   "cell_type": "code",
   "execution_count": 30,
   "id": "a8214359-4961-463e-9c0b-2a286dc3b0b8",
   "metadata": {},
   "outputs": [
    {
     "data": {
      "text/plain": [
       "<HDF5 dataset \"atomic_numbers\": shape (51,), type \"<i2\">"
      ]
     },
     "execution_count": 30,
     "metadata": {},
     "output_type": "execute_result"
    }
   ],
   "source": [
    "f[groups[0]]['atomic_numbers']"
   ]
  },
  {
   "cell_type": "code",
   "execution_count": 31,
   "id": "deb5d9ad-2b4f-409e-a737-19ed9aa65a66",
   "metadata": {},
   "outputs": [
    {
     "data": {
      "text/plain": [
       "<HDF5 dataset \"conformations\": shape (242, 51, 3), type \"<f4\">"
      ]
     },
     "execution_count": 31,
     "metadata": {},
     "output_type": "execute_result"
    }
   ],
   "source": [
    "f[groups[0]]['conformations']"
   ]
  },
  {
   "cell_type": "code",
   "execution_count": 32,
   "id": "ffc15a80-4511-43cd-9802-619394b634cf",
   "metadata": {},
   "outputs": [
    {
     "data": {
      "text/plain": [
       "<HDF5 dataset \"smiles\": shape (1,), type \"|O\">"
      ]
     },
     "execution_count": 32,
     "metadata": {},
     "output_type": "execute_result"
    }
   ],
   "source": [
    "f[groups[0]]['smiles']"
   ]
  },
  {
   "cell_type": "code",
   "execution_count": 33,
   "id": "a8c72f48-8123-4d3e-bbdb-624ea38259cd",
   "metadata": {},
   "outputs": [
    {
     "data": {
      "text/plain": [
       "<HDF5 dataset \"subset\": shape (1,), type \"|O\">"
      ]
     },
     "execution_count": 33,
     "metadata": {},
     "output_type": "execute_result"
    }
   ],
   "source": [
    "f[groups[0]]['subset']"
   ]
  },
  {
   "cell_type": "code",
   "execution_count": 34,
   "id": "ac92180c-a090-4f2c-bad9-65558eef77f4",
   "metadata": {},
   "outputs": [
    {
     "data": {
      "text/plain": [
       "<HDF5 dataset \"total_energy\": shape (242,), type \"<f8\">"
      ]
     },
     "execution_count": 34,
     "metadata": {},
     "output_type": "execute_result"
    }
   ],
   "source": [
    "f[groups[0]]['total_energy']"
   ]
  },
  {
   "cell_type": "code",
   "execution_count": 35,
   "id": "87db2485-3ebe-464e-8fb7-a74fcfbbd264",
   "metadata": {},
   "outputs": [
    {
     "data": {
      "text/plain": [
       "<HDF5 dataset \"total_gradient\": shape (242, 51, 3), type \"<f4\">"
      ]
     },
     "execution_count": 35,
     "metadata": {},
     "output_type": "execute_result"
    }
   ],
   "source": [
    "f[groups[0]]['total_gradient']"
   ]
  },
  {
   "cell_type": "code",
   "execution_count": 36,
   "id": "04d74935-3977-454e-b2bb-55a7d6c6099d",
   "metadata": {},
   "outputs": [
    {
     "data": {
      "text/plain": [
       "-1183.5471905810098"
      ]
     },
     "execution_count": 36,
     "metadata": {},
     "output_type": "execute_result"
    }
   ],
   "source": [
    "f[groups[0]]['total_energy'][0]"
   ]
  },
  {
   "cell_type": "code",
   "execution_count": 37,
   "id": "f984db82-7204-4aff-bd1e-2a3a3dec8d50",
   "metadata": {},
   "outputs": [
    {
     "data": {
      "text/plain": [
       "<HDF5 dataset \"conformations\": shape (86, 37, 3), type \"<f4\">"
      ]
     },
     "execution_count": 37,
     "metadata": {},
     "output_type": "execute_result"
    }
   ],
   "source": [
    "group = \"CC(=O)N1CCC[C@H]1C(=O)N1CCC[C@H]1C(N)=O\"\n",
    "data = f[group]\n",
    "data['conformations']"
   ]
  },
  {
   "cell_type": "code",
   "execution_count": null,
   "id": "85cdcba7-cf80-4d6d-a209-ddcb26278d42",
   "metadata": {},
   "outputs": [],
   "source": []
  }
 ],
 "metadata": {
  "kernelspec": {
   "display_name": "Python 3 (ipykernel)",
   "language": "python",
   "name": "python3"
  },
  "language_info": {
   "codemirror_mode": {
    "name": "ipython",
    "version": 3
   },
   "file_extension": ".py",
   "mimetype": "text/x-python",
   "name": "python",
   "nbconvert_exporter": "python",
   "pygments_lexer": "ipython3",
   "version": "3.9.13"
  }
 },
 "nbformat": 4,
 "nbformat_minor": 5
}
